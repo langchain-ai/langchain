{
 "cells": [
  {
   "cell_type": "markdown",
   "id": "ed78c53c-55ad-4ea2-9cc2-a39a1963c098",
   "metadata": {},
   "source": [
    "# Migrating from StuffDocumentsChain\n",
    "\n",
    "[StuffDocumentsChain](https://python.langchain.com/api_reference/langchain/chains/langchain.chains.combine_documents.stuff.StuffDocumentsChain.html) combines documents by concatenating them into a single context window. It is a straightforward and effective strategy for combining documents for question-answering, summarization, and other purposes.\n",
    "\n",
    "[create_stuff_documents_chain](https://python.langchain.com/api_reference/langchain/chains/langchain.chains.combine_documents.stuff.create_stuff_documents_chain.html) is the recommended alternative. It functions the same as `StuffDocumentsChain`, with better support for streaming and batch functionality. Because it is a simple combination of [LCEL primitives](/docs/concepts/lcel), it is also easier to extend and incorporate into other LangChain applications.\n",
    "\n",
    "Below we will go through both `StuffDocumentsChain` and `create_stuff_documents_chain` on a simple example for illustrative purposes.\n",
    "\n",
    "Let's first load a chat model:\n",
    "\n",
    "import ChatModelTabs from \"@theme/ChatModelTabs\";\n",
    "\n",
    "<ChatModelTabs customVarName=\"llm\" />"
   ]
  },
  {
   "cell_type": "code",
   "execution_count": 1,
   "id": "dac0bef2-9453-46f2-a893-f7569b6a0170",
   "metadata": {},
   "outputs": [],
   "source": [
    "# | output: false\n",
    "# | echo: false\n",
    "\n",
    "from langchain_openai import ChatOpenAI\n",
    "\n",
    "llm = ChatOpenAI(model=\"gpt-4o-mini\", temperature=0)"
   ]
  },
  {
   "cell_type": "markdown",
   "id": "d4022d03-7b5e-4c81-98ff-5b82a2a4eaae",
   "metadata": {},
   "source": [
    "## Example\n",
    "\n",
    "Let's go through an example where we analyze a set of documents. We first generate some simple documents for illustrative purposes:"
   ]
  },
  {
   "cell_type": "code",
   "execution_count": 2,
   "id": "24fa0ba9-e245-47d1-bc2e-6286dd884117",
   "metadata": {},
   "outputs": [],
   "source": [
    "from langchain_core.documents import Document\n",
    "\n",
    "documents = [\n",
    "    Document(page_content=\"Apples are red\", metadata={\"title\": \"apple_book\"}),\n",
    "    Document(page_content=\"Blueberries are blue\", metadata={\"title\": \"blueberry_book\"}),\n",
    "    Document(page_content=\"Bananas are yelow\", metadata={\"title\": \"banana_book\"}),\n",
    "]"
   ]
  },
  {
   "cell_type": "markdown",
   "id": "3a769128-205f-417d-a25d-519e7cb03be7",
   "metadata": {},
   "source": [
    "### Legacy\n",
    "\n",
    "<details open>\n",
    "\n",
    "Below we show an implementation with `StuffDocumentsChain`. We define the prompt template for a summarization task and instantiate a [LLMChain](https://python.langchain.com/api_reference/langchain/chains/langchain.chains.llm.LLMChain.html) object for this purpose. We define how documents are formatted into the prompt and ensure consistency among the keys in the various prompts."
   ]
  },
  {
   "cell_type": "code",
   "execution_count": 15,
   "id": "9734c0f3-64e7-4ae6-8578-df03b3dabb26",
   "metadata": {},
   "outputs": [],
   "source": [
    "from langchain.chains import LLMChain, StuffDocumentsChain\n",
    "from langchain_core.prompts import ChatPromptTemplate, PromptTemplate\n",
    "\n",
    "# This controls how each document will be formatted. Specifically,\n",
    "# it will be passed to `format_document` - see that function for more\n",
    "# details.\n",
    "document_prompt = PromptTemplate(\n",
    "    input_variables=[\"page_content\"], template=\"{page_content}\"\n",
    ")\n",
    "document_variable_name = \"context\"\n",
    "# The prompt here should take as an input variable the\n",
    "# `document_variable_name`\n",
    "prompt = ChatPromptTemplate.from_template(\"Summarize this content: {context}\")\n",
    "\n",
    "llm_chain = LLMChain(llm=llm, prompt=prompt)\n",
    "chain = StuffDocumentsChain(\n",
    "    llm_chain=llm_chain,\n",
    "    document_prompt=document_prompt,\n",
    "    document_variable_name=document_variable_name,\n",
    ")"
   ]
  },
  {
   "cell_type": "markdown",
   "id": "0cb733bf-eb71-4fae-a8f4-d522924020cb",
   "metadata": {},
   "source": [
    "We can now invoke our chain:"
   ]
  },
  {
   "cell_type": "code",
   "execution_count": 19,
   "id": "d7d1ce10-bbee-4cb0-879d-7de4f69191c4",
   "metadata": {},
   "outputs": [
    {
     "data": {
      "text/plain": [
       "'This content describes the colors of different fruits: apples are red, blueberries are blue, and bananas are yellow.'"
      ]
     },
     "execution_count": 19,
     "metadata": {},
     "output_type": "execute_result"
    }
   ],
   "source": [
    "result = chain.invoke(documents)\n",
    "result[\"output_text\"]"
   ]
  },
  {
   "cell_type": "code",
   "execution_count": 20,
   "id": "79b10d40-1521-433b-9026-6ec836ffeeb3",
   "metadata": {},
   "outputs": [
    {
     "name": "stdout",
     "output_type": "stream",
     "text": [
      "{'input_documents': [Document(metadata={'title': 'apple_book'}, page_content='Apples are red'), Document(metadata={'title': 'blueberry_book'}, page_content='Blueberries are blue'), Document(metadata={'title': 'banana_book'}, page_content='Bananas are yelow')], 'output_text': 'This content describes the colors of different fruits: apples are red, blueberries are blue, and bananas are yellow.'}\n"
     ]
    }
   ],
   "source": [
    "for chunk in chain.stream(documents):\n",
    "    print(chunk)"
   ]
  },
  {
   "cell_type": "markdown",
   "id": "b4cb6a5b-37ea-48cc-a096-b948d3ff7e9f",
   "metadata": {},
   "source": [
    "</details>\n",
    "\n",
    "### LCEL\n",
    "\n",
    "<details open>\n",
    "\n",
    "Below we show an implementation using `create_stuff_documents_chain`:"
   ]
  },
  {
   "cell_type": "code",
   "execution_count": 21,
   "id": "de38f27a-c648-44be-8c37-0a458c2920a9",
   "metadata": {},
   "outputs": [],
   "source": [
    "from langchain.chains.combine_documents import create_stuff_documents_chain\n",
    "from langchain_core.prompts import ChatPromptTemplate\n",
    "\n",
    "prompt = ChatPromptTemplate.from_template(\"Summarize this content: {context}\")\n",
    "chain = create_stuff_documents_chain(llm, prompt)"
   ]
  },
  {
   "cell_type": "markdown",
   "id": "9d0e6996-9bf8-4097-9c1a-1c539eac3ed1",
   "metadata": {},
   "source": [
    "Invoking the chain, we obtain a similar result as before:"
   ]
  },
  {
   "cell_type": "code",
   "execution_count": 24,
   "id": "f2d2bdfb-3a6a-464b-b4c2-e4252b2e53a0",
   "metadata": {},
   "outputs": [
    {
     "data": {
      "text/plain": [
       "'This content describes the colors of different fruits: apples are red, blueberries are blue, and bananas are yellow.'"
      ]
     },
     "execution_count": 24,
     "metadata": {},
     "output_type": "execute_result"
    }
   ],
   "source": [
    "result = chain.invoke({\"context\": documents})\n",
    "result"
   ]
  },
  {
   "cell_type": "markdown",
   "id": "493e6270-c61d-46c5-91b3-0cf7740a88f9",
   "metadata": {},
   "source": [
    "Note that this implementation supports streaming of output tokens:"
   ]
  },
  {
   "cell_type": "code",
   "execution_count": 26,
   "id": "b5adcabd-9bc1-4c91-a12b-7be82d64e457",
   "metadata": {},
   "outputs": [
    {
     "name": "stdout",
     "output_type": "stream",
     "text": [
      " | This |  content |  describes |  the |  colors |  of |  different |  fruits | : |  apples |  are |  red | , |  blue | berries |  are |  blue | , |  and |  bananas |  are |  yellow | . |  | "
     ]
    }
   ],
   "source": [
    "for chunk in chain.stream({\"context\": documents}):\n",
    "    print(chunk, end=\" | \")"
   ]
  },
  {
   "cell_type": "markdown",
   "id": "181c5633-38ea-4692-a869-32f4f78398e4",
   "metadata": {},
   "source": [
    "</details>\n",
    "\n",
    "## Next steps\n",
    "\n",
    "Check out the [LCEL conceptual docs](/docs/concepts/lcel) for more background information.\n",
    "\n",
    "See these [how-to guides](/docs/how_to/#qa-with-rag) for more on question-answering tasks with RAG.\n",
    "\n",
    "See [this tutorial](/docs/tutorials/summarization/) for more LLM-based summarization strategies."
   ]
  }
 ],
 "metadata": {
  "kernelspec": {
   "display_name": "Python 3 (ipykernel)",
   "language": "python",
   "name": "python3"
  },
  "language_info": {
   "codemirror_mode": {
    "name": "ipython",
    "version": 3
   },
   "file_extension": ".py",
   "mimetype": "text/x-python",
   "name": "python",
   "nbconvert_exporter": "python",
   "pygments_lexer": "ipython3",
   "version": "3.10.4"
  }
 },
 "nbformat": 4,
 "nbformat_minor": 5
}
