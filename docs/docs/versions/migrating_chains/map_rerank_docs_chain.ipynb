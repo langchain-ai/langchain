{
 "cells": [
  {
   "cell_type": "markdown",
   "id": "9db5ad7a-857e-46ea-9d0c-ba3fbe62fc81",
   "metadata": {},
   "source": [
    "# Migrating from MapRerankDocumentsChain\n",
    "\n",
    "[MapRerankDocumentsChain](https://python.langchain.com/api_reference/langchain/chains/langchain.chains.combine_documents.map_rerank.MapRerankDocumentsChain.html) implements a strategy for analyzing long texts. The strategy is as follows:\n",
    "\n",
    "- Split a text into smaller documents;\n",
    "- Map a process to the set of documents, where the process includes generating a score;\n",
    "- Rank the results by score and return the maximum.\n",
    "\n",
    "A common process in this scenario is question-answering using pieces of context from a document. Forcing the model to generate score along with its answer helps to select for answers generated only by relevant context.\n",
    "\n",
    "An [LangGraph](https://langchain-ai.github.io/langgraph/) implementation allows for the incorporation of [tool calling](/docs/concepts/tool_calling) and other features for this problem. Below we will go through both `MapRerankDocumentsChain` and a corresponding LangGraph implementation on a simple example for illustrative purposes."
   ]
  },
  {
   "cell_type": "markdown",
   "id": "39f11f9f-ac24-485e-bc15-285bebb9c12e",
   "metadata": {},
   "source": [
    "## Example\n",
    "\n",
    "Let's go through an example where we analyze a set of documents. Let's use the following 3 documents:"
   ]
  },
  {
   "cell_type": "code",
   "execution_count": 2,
   "id": "ef975d40-6ea3-4280-84cb-fae4c285c72b",
   "metadata": {},
   "outputs": [],
   "source": [
    "from langchain_core.documents import Document\n",
    "\n",
    "documents = [\n",
    "    Document(page_content=\"Alice has blue eyes\", metadata={\"title\": \"book_chapter_2\"}),\n",
    "    Document(page_content=\"Bob has brown eyes\", metadata={\"title\": \"book_chapter_1\"}),\n",
    "    Document(\n",
    "        page_content=\"Charlie has green eyes\", metadata={\"title\": \"book_chapter_3\"}\n",
    "    ),\n",
    "]"
   ]
  },
  {
   "cell_type": "markdown",
   "id": "e3b99cfc-b99c-4da8-9c87-903e0249d227",
   "metadata": {},
   "source": [
    "### Legacy\n",
    "\n",
    "<details open>\n",
    "\n",
    "Below we show an implementation with `MapRerankDocumentsChain`. We define the prompt template for a question-answering task and instantiate a [LLMChain](https://python.langchain.com/api_reference/langchain/chains/langchain.chains.llm.LLMChain.html) object for this purpose. We define how documents are formatted into the prompt and ensure consistency among the keys in the various prompts."
   ]
  },
  {
   "cell_type": "code",
   "execution_count": 4,
   "id": "3b65e056-d739-4985-8bfc-0edf783f2b16",
   "metadata": {},
   "outputs": [],
   "source": [
    "from langchain.chains import LLMChain, MapRerankDocumentsChain\n",
    "from langchain.output_parsers.regex import RegexParser\n",
    "from langchain_core.prompts import PromptTemplate\n",
    "from langchain_openai import OpenAI\n",
    "\n",
    "document_variable_name = \"context\"\n",
    "llm = OpenAI()\n",
    "# The prompt here should take as an input variable the\n",
    "# `document_variable_name`\n",
    "# The actual prompt will need to be a lot more complex, this is just\n",
    "# an example.\n",
    "prompt_template = (\n",
    "    \"What color are Bob's eyes? \"\n",
    "    \"Output both your answer and a score (1-10) of how confident \"\n",
    "    \"you are in the format: <Answer>\\nScore: <Score>.\\n\\n\"\n",
    "    \"Provide no other commentary.\\n\\n\"\n",
    "    \"Context: {context}\"\n",
    ")\n",
    "output_parser = RegexParser(\n",
    "    regex=r\"(.*?)\\nScore: (.*)\",\n",
    "    output_keys=[\"answer\", \"score\"],\n",
    ")\n",
    "prompt = PromptTemplate(\n",
    "    template=prompt_template,\n",
    "    input_variables=[\"context\"],\n",
    "    output_parser=output_parser,\n",
    ")\n",
    "llm_chain = LLMChain(llm=llm, prompt=prompt)\n",
    "chain = MapRerankDocumentsChain(\n",
    "    llm_chain=llm_chain,\n",
    "    document_variable_name=document_variable_name,\n",
    "    rank_key=\"score\",\n",
    "    answer_key=\"answer\",\n",
    ")"
   ]
  },
  {
   "cell_type": "code",
   "execution_count": 9,
   "id": "fe94c2e5-4c56-4604-a16c-055c196f4a57",
   "metadata": {},
   "outputs": [
    {
     "name": "stderr",
     "output_type": "stream",
     "text": [
      "/langchain/libs/langchain/langchain/chains/llm.py:369: UserWarning: The apply_and_parse method is deprecated, instead pass an output parser directly to LLMChain.\n",
      "  warnings.warn(\n"
     ]
    },
    {
     "data": {
      "text/plain": [
       "'Brown'"
      ]
     },
     "execution_count": 9,
     "metadata": {},
     "output_type": "execute_result"
    }
   ],
   "source": [
    "response = chain.invoke(documents)\n",
    "response[\"output_text\"]"
   ]
  },
  {
   "cell_type": "markdown",
   "id": "317e51c2-810f-463b-9da2-604fe95a8b48",
   "metadata": {},
   "source": [
    "Inspecting the [LangSmith trace](https://smith.langchain.com/public/7a071bd1-0283-4b90-898c-6e4a2b5a0593/r) for the above run, we can see three LLM calls-- one for each document-- and that the scoring mechanism mitigated against hallucinations.\n",
    "\n",
    "</details>\n",
    "\n",
    "### LangGraph\n",
    "\n",
    "<details open>\n",
    "\n",
    "Below we show a LangGraph implementation of this process. Note that our template is simplified, as we delegate the formatting instructions to the chat model's tool-calling features via the [.with_structured_output](/docs/how_to/structured_output/) method.\n",
    "\n",
    "Here we follow a basic [map-reduce](https://langchain-ai.github.io/langgraph/how-tos/map-reduce/) workflow to execute the LLM calls in parallel.\n",
    "\n",
    "We will need to install `langgraph`:"
   ]
  },
  {
   "cell_type": "code",
   "execution_count": null,
   "id": "b8fab4f6-eed1-4662-8d3f-82846a2edfb3",
   "metadata": {},
   "outputs": [],
   "source": [
    "pip install -qU langgraph"
   ]
  },
  {
   "cell_type": "code",
   "execution_count": 6,
   "id": "b8493533-7ab3-4f75-aab1-390340bff2ea",
   "metadata": {},
   "outputs": [],
   "source": [
    "import operator\n",
    "from typing import Annotated, List, TypedDict\n",
    "\n",
    "from langchain_core.prompts import ChatPromptTemplate\n",
    "from langchain_openai import ChatOpenAI\n",
    "from langgraph.constants import Send\n",
    "from langgraph.graph import END, START, StateGraph\n",
    "\n",
    "\n",
    "class AnswerWithScore(TypedDict):\n",
    "    answer: str\n",
    "    score: Annotated[int, ..., \"Score from 1-10.\"]\n",
    "\n",
    "\n",
    "llm = ChatOpenAI(model=\"gpt-4o-mini\", temperature=0)\n",
    "\n",
    "prompt_template = \"What color are Bob's eyes?\\n\\n\" \"Context: {context}\"\n",
    "prompt = ChatPromptTemplate.from_template(prompt_template)\n",
    "\n",
    "# The below chain formats context from a document into a prompt, then\n",
    "# generates a response structured according to the AnswerWithScore schema.\n",
    "map_chain = prompt | llm.with_structured_output(AnswerWithScore)\n",
    "\n",
    "# Below we define the components that will make up the graph\n",
    "\n",
    "\n",
    "# This will be the overall state of the graph.\n",
    "# It will contain the input document contents, corresponding\n",
    "# answers with scores, and a final answer.\n",
    "class State(TypedDict):\n",
    "    contents: List[str]\n",
    "    answers_with_scores: Annotated[list, operator.add]\n",
    "    answer: str\n",
    "\n",
    "\n",
    "# This will be the state of the node that we will \"map\" all\n",
    "# documents to in order to generate answers with scores\n",
    "class MapState(TypedDict):\n",
    "    content: str\n",
    "\n",
    "\n",
    "# Here we define the logic to map out over the documents\n",
    "# We will use this an edge in the graph\n",
    "def map_analyses(state: State):\n",
    "    # We will return a list of `Send` objects\n",
    "    # Each `Send` object consists of the name of a node in the graph\n",
    "    # as well as the state to send to that node\n",
    "    return [\n",
    "        Send(\"generate_analysis\", {\"content\": content}) for content in state[\"contents\"]\n",
    "    ]\n",
    "\n",
    "\n",
    "# Here we generate an answer with score, given a document\n",
    "async def generate_analysis(state: MapState):\n",
    "    response = await map_chain.ainvoke(state[\"content\"])\n",
    "    return {\"answers_with_scores\": [response]}\n",
    "\n",
    "\n",
    "# Here we will select the top answer\n",
    "def pick_top_ranked(state: State):\n",
    "    ranked_answers = sorted(\n",
    "        state[\"answers_with_scores\"], key=lambda x: -int(x[\"score\"])\n",
    "    )\n",
    "    return {\"answer\": ranked_answers[0]}\n",
    "\n",
    "\n",
    "# Construct the graph: here we put everything together to construct our graph\n",
    "graph = StateGraph(State)\n",
    "graph.add_node(\"generate_analysis\", generate_analysis)\n",
    "graph.add_node(\"pick_top_ranked\", pick_top_ranked)\n",
    "graph.add_conditional_edges(START, map_analyses, [\"generate_analysis\"])\n",
    "graph.add_edge(\"generate_analysis\", \"pick_top_ranked\")\n",
    "graph.add_edge(\"pick_top_ranked\", END)\n",
    "app = graph.compile()"
   ]
  },
  {
   "cell_type": "code",
   "execution_count": 7,
   "id": "ccf10061-f0dc-4333-9053-ebebe3f2e196",
   "metadata": {},
   "outputs": [
    {
     "data": {
      "image/jpeg": "[encoded data removed]",
      "text/plain": [
       "<IPython.core.display.Image object>"
      ]
     },
     "execution_count": 7,
     "metadata": {},
     "output_type": "execute_result"
    }
   ],
   "source": [
    "from IPython.display import Image\n",
    "\n",
    "Image(app.get_graph().draw_mermaid_png())"
   ]
  },
  {
   "cell_type": "code",
   "execution_count": 8,
   "id": "5d7bf45e-d615-45f7-a3d6-54700993f69e",
   "metadata": {},
   "outputs": [
    {
     "data": {
      "text/plain": [
       "{'answer': 'Bob has brown eyes.', 'score': 10}"
      ]
     },
     "execution_count": 8,
     "metadata": {},
     "output_type": "execute_result"
    }
   ],
   "source": [
    "result = await app.ainvoke({\"contents\": [doc.page_content for doc in documents]})\n",
    "result[\"answer\"]"
   ]
  },
  {
   "cell_type": "markdown",
   "id": "337f8f18-f048-495a-ade2-870790c01f70",
   "metadata": {},
   "source": [
    "Inspecting the [LangSmith trace](https://smith.langchain.com/public/b64bf9aa-7558-4c1b-be5c-ba8924069039/r) for the above run, we can see three LLM calls as before. Using the model's tool-calling features have also enabled us to remove the parsing step.\n",
    "\n",
    "</details>\n",
    "\n",
    "## Next steps\n",
    "\n",
    "See these [how-to guides](/docs/how_to/#qa-with-rag) for more on question-answering tasks with RAG.\n",
    "\n",
    "Check out the [LangGraph documentation](https://langchain-ai.github.io/langgraph/) for detail on building with LangGraph, including [this guide](https://langchain-ai.github.io/langgraph/how-tos/map-reduce/) on the details of map-reduce in LangGraph."
   ]
  },
  {
   "cell_type": "code",
   "execution_count": null,
   "id": "54e88df8-7d12-4ee1-9e0a-bf8a7baacba7",
   "metadata": {},
   "outputs": [],
   "source": []
  }
 ],
 "metadata": {
  "kernelspec": {
   "display_name": "Python 3 (ipykernel)",
   "language": "python",
   "name": "python3"
  },
  "language_info": {
   "codemirror_mode": {
    "name": "ipython",
    "version": 3
   },
   "file_extension": ".py",
   "mimetype": "text/x-python",
   "name": "python",
   "nbconvert_exporter": "python",
   "pygments_lexer": "ipython3",
   "version": "3.10.4"
  }
 },
 "nbformat": 4,
 "nbformat_minor": 5
}
