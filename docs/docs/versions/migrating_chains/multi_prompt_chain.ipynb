{
 "cells": [
  {
   "cell_type": "markdown",
   "id": "14625d35-efca-41cf-b203-be9f4c375700",
   "metadata": {},
   "source": [
    "# Migrating from MultiPromptChain\n",
    "\n",
    "The [`MultiPromptChain`](https://python.langchain.com/api_reference/langchain/chains/langchain.chains.router.multi_prompt.MultiPromptChain.html) routed an input query to one of multiple LLMChains-- that is, given an input query, it used a LLM to select from a list of prompts, formatted the query into the prompt, and generated a response.\n",
    "\n",
    "`MultiPromptChain` does not support common [chat model](/docs/concepts/chat_models) features, such as message roles and [tool calling](/docs/concepts/tool_calling).\n",
    "\n",
    "A [LangGraph](https://langchain-ai.github.io/langgraph/) implementation confers a number of advantages for this problem:\n",
    "\n",
    "- Supports chat prompt templates, including messages with `system` and other roles;\n",
    "- Supports the use of tool calling for the routing step;\n",
    "- Supports streaming of both individual steps and output tokens.\n",
    "\n",
    "Now let's look at them side-by-side. Note that for this guide we will `langchain-openai >= 0.1.20`"
   ]
  },
  {
   "cell_type": "code",
   "execution_count": null,
   "id": "cba0c648-63e9-4f4a-b4ba-cd36fcb21466",
   "metadata": {},
   "outputs": [],
   "source": [
    "%pip install -qU langchain-core langchain-openai"
   ]
  },
  {
   "cell_type": "code",
   "execution_count": null,
   "id": "d05ae3aa-96cc-49f2-8dd0-601c2503b7ca",
   "metadata": {},
   "outputs": [],
   "source": [
    "import os\n",
    "from getpass import getpass\n",
    "\n",
    "if \"OPENAI_API_KEY\" not in os.environ:\n",
    "    os.environ[\"OPENAI_API_KEY\"] = getpass()"
   ]
  },
  {
   "cell_type": "markdown",
   "id": "707283ee-fbd8-43e0-9796-343fc2534658",
   "metadata": {},
   "source": [
    "## Legacy\n",
    "\n",
    "<details open>"
   ]
  },
  {
   "cell_type": "code",
   "execution_count": 4,
   "id": "4cca7a1a-3ce5-4c60-9664-cbbff14fc7d5",
   "metadata": {},
   "outputs": [],
   "source": [
    "from langchain.chains.router.multi_prompt import MultiPromptChain\n",
    "from langchain_openai import ChatOpenAI\n",
    "\n",
    "llm = ChatOpenAI(model=\"gpt-4o-mini\")\n",
    "\n",
    "prompt_1_template = \"\"\"\n",
    "You are an expert on animals. Please answer the below query:\n",
    "\n",
    "{input}\n",
    "\"\"\"\n",
    "\n",
    "prompt_2_template = \"\"\"\n",
    "You are an expert on vegetables. Please answer the below query:\n",
    "\n",
    "{input}\n",
    "\"\"\"\n",
    "\n",
    "prompt_infos = [\n",
    "    {\n",
    "        \"name\": \"animals\",\n",
    "        \"description\": \"prompt for an animal expert\",\n",
    "        \"prompt_template\": prompt_1_template,\n",
    "    },\n",
    "    {\n",
    "        \"name\": \"vegetables\",\n",
    "        \"description\": \"prompt for a vegetable expert\",\n",
    "        \"prompt_template\": prompt_2_template,\n",
    "    },\n",
    "]\n",
    "\n",
    "chain = MultiPromptChain.from_prompts(llm, prompt_infos)"
   ]
  },
  {
   "cell_type": "code",
   "execution_count": 5,
   "id": "fcb635d2-0402-4afb-ab64-044811d5348c",
   "metadata": {},
   "outputs": [
    {
     "data": {
      "text/plain": [
       "{'input': 'What color are carrots?',\n",
       " 'text': 'Carrots are most commonly orange, but they can also be found in a variety of other colors including purple, yellow, white, and red. The orange variety is the most popular and widely recognized.'}"
      ]
     },
     "execution_count": 5,
     "metadata": {},
     "output_type": "execute_result"
    }
   ],
   "source": [
    "chain.invoke({\"input\": \"What color are carrots?\"})"
   ]
  },
  {
   "cell_type": "markdown",
   "id": "10ff8cd1-7e47-4133-a793-1ccd61a57f04",
   "metadata": {},
   "source": [
    "In the [LangSmith trace](https://smith.langchain.com/public/e935238b-0b63-4984-abc8-873b2170a32d/r) we can see the two steps of this process, including the prompts for routing the query and the final selected prompt.\n",
    "\n",
    "</details>\n",
    "\n",
    "## LangGraph\n",
    "\n",
    "<details open>"
   ]
  },
  {
   "cell_type": "code",
   "execution_count": null,
   "id": "4a864796-ec89-4962-87b3-633f90687e1d",
   "metadata": {},
   "outputs": [],
   "source": [
    "pip install -qU langgraph"
   ]
  },
  {
   "cell_type": "code",
   "execution_count": 1,
   "id": "cf1edd2b-7592-47f4-ba8d-94a56742a585",
   "metadata": {},
   "outputs": [],
   "source": [
    "from operator import itemgetter\n",
    "from typing import Literal\n",
    "\n",
    "from langchain_core.output_parsers import StrOutputParser\n",
    "from langchain_core.prompts import ChatPromptTemplate\n",
    "from langchain_core.runnables import RunnableConfig\n",
    "from langchain_openai import ChatOpenAI\n",
    "from langgraph.graph import END, START, StateGraph\n",
    "from typing_extensions import TypedDict\n",
    "\n",
    "llm = ChatOpenAI(model=\"gpt-4o-mini\")\n",
    "\n",
    "# Define the prompts we will route to\n",
    "prompt_1 = ChatPromptTemplate.from_messages(\n",
    "    [\n",
    "        (\"system\", \"You are an expert on animals.\"),\n",
    "        (\"human\", \"{input}\"),\n",
    "    ]\n",
    ")\n",
    "prompt_2 = ChatPromptTemplate.from_messages(\n",
    "    [\n",
    "        (\"system\", \"You are an expert on vegetables.\"),\n",
    "        (\"human\", \"{input}\"),\n",
    "    ]\n",
    ")\n",
    "\n",
    "# Construct the chains we will route to. These format the input query\n",
    "# into the respective prompt, run it through a chat model, and cast\n",
    "# the result to a string.\n",
    "chain_1 = prompt_1 | llm | StrOutputParser()\n",
    "chain_2 = prompt_2 | llm | StrOutputParser()\n",
    "\n",
    "\n",
    "# Next: define the chain that selects which branch to route to.\n",
    "# Here we will take advantage of tool-calling features to force\n",
    "# the output to select one of two desired branches.\n",
    "route_system = \"Route the user's query to either the animal or vegetable expert.\"\n",
    "route_prompt = ChatPromptTemplate.from_messages(\n",
    "    [\n",
    "        (\"system\", route_system),\n",
    "        (\"human\", \"{input}\"),\n",
    "    ]\n",
    ")\n",
    "\n",
    "\n",
    "# Define schema for output:\n",
    "class RouteQuery(TypedDict):\n",
    "    \"\"\"Route query to destination expert.\"\"\"\n",
    "\n",
    "    destination: Literal[\"animal\", \"vegetable\"]\n",
    "\n",
    "\n",
    "route_chain = route_prompt | llm.with_structured_output(RouteQuery)\n",
    "\n",
    "\n",
    "# For LangGraph, we will define the state of the graph to hold the query,\n",
    "# destination, and final answer.\n",
    "class State(TypedDict):\n",
    "    query: str\n",
    "    destination: RouteQuery\n",
    "    answer: str\n",
    "\n",
    "\n",
    "# We define functions for each node, including routing the query:\n",
    "async def route_query(state: State, config: RunnableConfig):\n",
    "    destination = await route_chain.ainvoke(state[\"query\"], config)\n",
    "    return {\"destination\": destination}\n",
    "\n",
    "\n",
    "# And one node for each prompt\n",
    "async def prompt_1(state: State, config: RunnableConfig):\n",
    "    return {\"answer\": await chain_1.ainvoke(state[\"query\"], config)}\n",
    "\n",
    "\n",
    "async def prompt_2(state: State, config: RunnableConfig):\n",
    "    return {\"answer\": await chain_2.ainvoke(state[\"query\"], config)}\n",
    "\n",
    "\n",
    "# We then define logic that selects the prompt based on the classification\n",
    "def select_node(state: State) -> Literal[\"prompt_1\", \"prompt_2\"]:\n",
    "    if state[\"destination\"] == \"animal\":\n",
    "        return \"prompt_1\"\n",
    "    else:\n",
    "        return \"prompt_2\"\n",
    "\n",
    "\n",
    "# Finally, assemble the multi-prompt chain. This is a sequence of two steps:\n",
    "# 1) Select \"animal\" or \"vegetable\" via the route_chain, and collect the answer\n",
    "# alongside the input query.\n",
    "# 2) Route the input query to chain_1 or chain_2, based on the\n",
    "# selection.\n",
    "graph = StateGraph(State)\n",
    "graph.add_node(\"route_query\", route_query)\n",
    "graph.add_node(\"prompt_1\", prompt_1)\n",
    "graph.add_node(\"prompt_2\", prompt_2)\n",
    "\n",
    "graph.add_edge(START, \"route_query\")\n",
    "graph.add_conditional_edges(\"route_query\", select_node)\n",
    "graph.add_edge(\"prompt_1\", END)\n",
    "graph.add_edge(\"prompt_2\", END)\n",
    "app = graph.compile()"
   ]
  },
  {
   "cell_type": "code",
   "execution_count": 2,
   "id": "92ef8d86-daa6-4ff3-b722-468e7cf8bcb2",
   "metadata": {},
   "outputs": [
    {
     "data": {
      "image/jpeg": "[encoded data removed]",
      "text/plain": [
       "<IPython.core.display.Image object>"
      ]
     },
     "execution_count": 2,
     "metadata": {},
     "output_type": "execute_result"
    }
   ],
   "source": [
    "from IPython.display import Image\n",
    "\n",
    "Image(app.get_graph().draw_mermaid_png())"
   ]
  },
  {
   "cell_type": "markdown",
   "id": "8a665dd1-7459-4511-8556-418f15cfec57",
   "metadata": {},
   "source": [
    "We can invoke the chain as follows:"
   ]
  },
  {
   "cell_type": "code",
   "execution_count": 3,
   "id": "61838f81-4e60-445f-9c05-563e3520ab33",
   "metadata": {},
   "outputs": [
    {
     "name": "stdout",
     "output_type": "stream",
     "text": [
      "{'destination': 'vegetable'}\n",
      "Carrots are most commonly orange, but they can also come in a variety of other colors, including purple, red, yellow, and white. The different colors often indicate varying flavors and nutritional profiles. For example, purple carrots contain anthocyanins, while orange carrots are rich in beta-carotene, which is converted to vitamin A in the body.\n"
     ]
    }
   ],
   "source": [
    "state = await app.ainvoke({\"query\": \"what color are carrots\"})\n",
    "print(state[\"destination\"])\n",
    "print(state[\"answer\"])"
   ]
  },
  {
   "cell_type": "markdown",
   "id": "e7e46205-9d80-45b8-a3d5-cfbc8ebbe19a",
   "metadata": {},
   "source": [
    "In the [LangSmith trace](https://smith.langchain.com/public/1017a9d2-2d2a-4954-a5fd-5689632b4c5f/r) we can see the tool call that routed the query and the prompt that was selected to generate the answer.\n",
    "\n",
    "</details>\n",
    "\n",
    "## Overview:\n",
    "\n",
    "- Under the hood, `MultiPromptChain` routed the query by instructing the LLM to generate JSON-formatted text, and parses out the intended destination. It took a registry of string prompt templates as input.\n",
    "- The LangGraph implementation, implemented above via lower-level primitives, uses tool-calling to route to arbitrary chains. In this example, the chains include chat model templates and chat models."
   ]
  },
  {
   "cell_type": "markdown",
   "id": "cf89de23-377b-4933-839c-d2f2483d09d2",
   "metadata": {},
   "source": [
    "## Next steps\n",
    "\n",
    "See [this tutorial](/docs/tutorials/llm_chain) for more detail on building with prompt templates, LLMs, and output parsers.\n",
    "\n",
    "Check out the [LangGraph documentation](https://langchain-ai.github.io/langgraph/) for detail on building with LangGraph."
   ]
  }
 ],
 "metadata": {
  "kernelspec": {
   "display_name": "Python 3 (ipykernel)",
   "language": "python",
   "name": "python3"
  },
  "language_info": {
   "codemirror_mode": {
    "name": "ipython",
    "version": 3
   },
   "file_extension": ".py",
   "mimetype": "text/x-python",
   "name": "python",
   "nbconvert_exporter": "python",
   "pygments_lexer": "ipython3",
   "version": "3.10.4"
  }
 },
 "nbformat": 4,
 "nbformat_minor": 5
}
