{
 "cells": [
  {
   "cell_type": "markdown",
   "metadata": {},
   "source": [
    "# How to use Late Chunk in RAG\n",
    "\n",
    "Based on the [Late Chunking: Contextual Chunk Embeddings Using Long-Context Embedding Models](https://arxiv.org/abs/2409.04701) paper and the [Late Chunking](https://jina.ai/news/late-chunking-in-long-context-embedding-models) blog post\n",
    "\n",
    "This notebooks explains how the `Late chunk Embedding` support with `LangChain`.\n",
    "\n",
    "**Notes:**\n",
    "\n",
    "- Can combine with any `text splitting` used in LangChain or you can custom with the [Chunk](https://github.com/jina-ai/late-chunking/blob/main/chunked_pooling/chunking.py) used in the paper.\n",
    "\n",
    "- Support by Late Chunk Qdrant vectorstore"
   ]
  },
  {
   "cell_type": "code",
   "execution_count": null,
   "metadata": {
    "vscode": {
     "languageId": "plaintext"
    }
   },
   "outputs": [],
   "source": [
    "from qdrant_client import QdrantClient\n",
    "\n",
    "from langchain_community.document_loaders import WebBaseLoader\n",
    "from langchain_community.embedding import JinaLateChunkEmbeddings\n",
    "from langchain_community.vectorstore import LateChunkQdrant\n",
    "\n",
    "from langchain_text_splitters import CharacterTextSplitter"
   ]
  },
  {
   "cell_type": "code",
   "execution_count": null,
   "metadata": {
    "vscode": {
     "languageId": "plaintext"
    }
   },
   "outputs": [],
   "source": [
    "ROOT = 'demo-qdrant'\n",
    "\n",
    "# Split\n",
    "text_splitter = CharacterTextSplitter(chunk_size=50, chunk_overlap=0, separator=\"\\n\\n\")\n",
    "\n",
    "# Text embedding\n",
    "text_embeddings = JinaLateChunkEmbeddings(jina_api_key=\"jina_*\", model_name=\"jina-embeddings-v3\")"
   ]
  },
  {
   "cell_type": "code",
   "execution_count": null,
   "metadata": {
    "vscode": {
     "languageId": "plaintext"
    }
   },
   "outputs": [],
   "source": [
    "def init_vectorstore(text_embeddings, text_splitter, collection_name='latechunk', topK=5):\n",
    "    client = QdrantClient()\n",
    "    vectorstore = LateChunkQdrant(\n",
    "        client, collection_name=collection_name,\n",
    "        embeddings=text_embeddings, text_splitter=text_splitter\n",
    "    )\n",
    "    \n",
    "    if os.path.isdir(os.path.join(ROOT, 'collection', collection_name)):\n",
    "        print(f\"===== Load exits collection: {collection_name} ======\")\n",
    "        vectorstore = vectorstore.from_existing_collection(\n",
    "            embedding=text_embeddings, path=ROOT, \n",
    "            collection_name=collection_name, text_splitter=text_splitter\n",
    "        )\n",
    "        \n",
    "    else:\n",
    "        print(f\"===== Create new collection: {collection_name} ======\")\n",
    "        # Load blog post\n",
    "        loader = WebBaseLoader(\"https://lilianweng.github.io/posts/2023-06-23-agent/\")\n",
    "        data = loader.load()\n",
    "\n",
    "        vectorstore = vectorstore.from_documents(\n",
    "            documents=data, embedding=text_embeddings, text_splitter=text_splitter,\n",
    "            path=ROOT, collection_name=collection_name\n",
    "        )\n",
    "\n",
    "    return vectorstore.as_retriever(search_kwargs={\"k\": topK})\n",
    "\n",
    "vectordb = init_vectorstore(text_embeddings, text_splitter, collection_name='test')"
   ]
  },
  {
   "cell_type": "code",
   "execution_count": null,
   "metadata": {
    "vscode": {
     "languageId": "plaintext"
    }
   },
   "outputs": [],
   "source": [
    "query = \"What are the approaches to Task Decomposition?\"\n",
    "\n",
    "results = vectordb.invoke(query)\n",
    "len(results)"
   ]
  }
 ],
 "metadata": {
  "language_info": {
   "name": "python"
  }
 },
 "nbformat": 4,
 "nbformat_minor": 2
}
