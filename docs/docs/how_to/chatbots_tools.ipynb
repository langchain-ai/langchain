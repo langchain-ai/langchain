{
 "cells": [
  {
   "cell_type": "markdown",
   "metadata": {},
   "source": [
    "# How to add tools to chatbots\n",
    "\n",
    ":::info Prerequisites\n",
    "\n",
    "This guide assumes familiarity with the following concepts:\n",
    "\n",
    "- [Chatbots](/docs/concepts/messages)\n",
    "- [Agents](/docs/tutorials/agents)\n",
    "- [Chat history](/docs/concepts/chat_history)\n",
    "\n",
    ":::\n",
    "\n",
    "This section will cover how to create conversational agents: chatbots that can interact with other systems and APIs using tools.\n",
    "\n",
    ":::note\n",
    "\n",
    "This how-to guide previously built a chatbot using [RunnableWithMessageHistory](https://python.langchain.com/api_reference/core/runnables/langchain_core.runnables.history.RunnableWithMessageHistory.html). You can access this version of the guide in the [v0.2 docs](https://python.langchain.com/v0.2/docs/how_to/chatbots_tools/).\n",
    "\n",
    "As of the v0.3 release of LangChain, we recommend that LangChain users take advantage of [LangGraph persistence](https://langchain-ai.github.io/langgraph/concepts/persistence/) to incorporate `memory` into new LangChain applications.\n",
    "\n",
    "If your code is already relying on `RunnableWithMessageHistory` or `BaseChatMessageHistory`, you do **not** need to make any changes. We do not plan on deprecating this functionality in the near future as it works for simple chat applications and any code that uses `RunnableWithMessageHistory` will continue to work as expected.\n",
    "\n",
    "Please see [How to migrate to LangGraph Memory](/docs/versions/migrating_memory/) for more details.\n",
    ":::\n",
    "\n",
    "## Setup\n",
    "\n",
    "For this guide, we'll be using a [tool calling agent](https://langchain-ai.github.io/langgraph/concepts/agentic_concepts/#tool-calling-agent) with a single tool for searching the web. The default will be powered by [Tavily](/docs/integrations/tools/tavily_search), but you can switch it out for any similar tool. The rest of this section will assume you're using Tavily.\n",
    "\n",
    "You'll need to [sign up for an account](https://tavily.com/) on the Tavily website, and install the following packages:"
   ]
  },
  {
   "cell_type": "code",
   "execution_count": null,
   "metadata": {},
   "outputs": [
    {
     "name": "stdout",
     "output_type": "stream",
     "text": [
      "\n",
      "\u001b[1m[\u001b[0m\u001b[34;49mnotice\u001b[0m\u001b[1;39;49m]\u001b[0m\u001b[39;49m A new release of pip is available: \u001b[0m\u001b[31;49m25.0.1\u001b[0m\u001b[39;49m -> \u001b[0m\u001b[32;49m25.1.1\u001b[0m\n",
      "\u001b[1m[\u001b[0m\u001b[34;49mnotice\u001b[0m\u001b[1;39;49m]\u001b[0m\u001b[39;49m To update, run: \u001b[0m\u001b[32;49mpip install --upgrade pip\u001b[0m\n",
      "Note: you may need to restart the kernel to use updated packages.\n"
     ]
    }
   ],
   "source": [
    "%pip install --upgrade --quiet langchain-community langchain-openai tavily-python langgraph\n",
    "\n",
    "import getpass\n",
    "import os\n",
    "\n",
    "\n",
    "if not os.environ.get(\"OPENAI_API_KEY\"):\n",
    "    os.environ[\"OPENAI_API_KEY\"] = getpass.getpass(\"OpenAI API Key:\")\n",
    "\n",
    "if not os.environ.get(\"TAVILY_API_KEY\"):\n",
    "    os.environ[\"TAVILY_API_KEY\"] = getpass.getpass(\"Tavily API Key:\")"
   ]
  },
  {
   "cell_type": "markdown",
   "metadata": {},
   "source": [
    "You will also need your OpenAI key set as `OPENAI_API_KEY` and your Tavily API key set as `TAVILY_API_KEY`."
   ]
  },
  {
   "cell_type": "markdown",
   "metadata": {},
   "source": [
    "## Creating an agent\n",
    "\n",
    "Our end goal is to create an agent that can respond conversationally to user questions while looking up information as needed.\n",
    "\n",
    "First, let's initialize Tavily and an OpenAI [chat model](/docs/concepts/chat_models/) capable of tool calling:"
   ]
  },
  {
   "cell_type": "code",
   "execution_count": 2,
   "metadata": {},
   "outputs": [],
   "source": [
    "from langchain_openai import ChatOpenAI\n",
    "from langchain_tavily import TavilySearch\n",
    "\n",
    "tools = [TavilySearch(max_results=10, topic=\"general\")]\n",
    "\n",
    "# Choose the LLM that will drive the agent\n",
    "# Only certain models support this\n",
    "model = ChatOpenAI(model=\"gpt-4o-mini\", temperature=0)"
   ]
  },
  {
   "cell_type": "markdown",
   "metadata": {},
   "source": [
    "To make our agent conversational, we can also specify a prompt. Here's an example:"
   ]
  },
  {
   "cell_type": "code",
   "execution_count": 3,
   "metadata": {},
   "outputs": [],
   "source": [
    "prompt = (\n",
    "    \"You are a helpful assistant. \"\n",
    "    \"You may not need to use tools for every query - the user may just want to chat!\"\n",
    ")"
   ]
  },
  {
   "cell_type": "markdown",
   "metadata": {},
   "source": [
    "Great! Now let's assemble our agent using LangGraph's prebuilt [create_react_agent](https://langchain-ai.github.io/langgraph/reference/prebuilt/#langgraph.prebuilt.chat_agent_executor.create_react_agent), which allows you to create a [tool-calling agent](https://langchain-ai.github.io/langgraph/concepts/agentic_concepts/#tool-calling-agent):"
   ]
  },
  {
   "cell_type": "code",
   "execution_count": 4,
   "metadata": {},
   "outputs": [],
   "source": [
    "from langgraph.prebuilt import create_react_agent\n",
    "\n",
    "# prompt allows you to preprocess the inputs to the model inside ReAct agent\n",
    "# in this case, since we're passing a prompt string, we'll just always add a SystemMessage\n",
    "# with this prompt string before any other messages sent to the model\n",
    "agent = create_react_agent(model, tools, prompt=prompt)"
   ]
  },
  {
   "cell_type": "markdown",
   "metadata": {},
   "source": [
    "## Running the agent\n",
    "\n",
    "Now that we've set up our agent, let's try interacting with it! It can handle both trivial queries that require no lookup:"
   ]
  },
  {
   "cell_type": "code",
   "execution_count": 5,
   "metadata": {},
   "outputs": [
    {
     "data": {
      "text/plain": [
       "{'messages': [HumanMessage(content=\"I'm Nemo!\", additional_kwargs={}, response_metadata={}, id='c86bee4a-477a-44a1-aab2-ae075917a1fc'),\n",
       "  AIMessage(content='Hi Nemo! How can I assist you today?', additional_kwargs={'refusal': None}, response_metadata={'token_usage': {'completion_tokens': 11, 'prompt_tokens': 795, 'total_tokens': 806, 'completion_tokens_details': {'accepted_prediction_tokens': 0, 'audio_tokens': 0, 'reasoning_tokens': 0, 'rejected_prediction_tokens': 0}, 'prompt_tokens_details': {'audio_tokens': 0, 'cached_tokens': 0}}, 'model_name': 'gpt-4o-mini-2024-07-18', 'system_fingerprint': 'fp_34a54ae93c', 'id': 'chatcmpl-BjUjpIwVOU72z0bYBkMBNY8fZZ8zc', 'service_tier': 'default', 'finish_reason': 'stop', 'logprobs': None}, id='run--da72f95a-c343-4f03-994d-4da816acfa15-0', usage_metadata={'input_tokens': 795, 'output_tokens': 11, 'total_tokens': 806, 'input_token_details': {'audio': 0, 'cache_read': 0}, 'output_token_details': {'audio': 0, 'reasoning': 0}})]}"
      ]
     },
     "execution_count": 5,
     "metadata": {},
     "output_type": "execute_result"
    }
   ],
   "source": [
    "from langchain_core.messages import HumanMessage\n",
    "\n",
    "agent.invoke({\"messages\": [HumanMessage(content=\"I'm Nemo!\")]})"
   ]
  },
  {
   "cell_type": "markdown",
   "metadata": {},
   "source": [
    "Or, it can use of the passed search tool to get up to date information if needed:"
   ]
  },
  {
   "cell_type": "code",
   "execution_count": 6,
   "metadata": {},
   "outputs": [
    {
     "data": {
      "text/plain": [
       "{'messages': [HumanMessage(content='What is the current conservation status of the Great Barrier Reef?', additional_kwargs={}, response_metadata={}, id='82794611-f6a4-425b-a104-875ffb6d3770'),\n",
       "  AIMessage(content='', additional_kwargs={'tool_calls': [{'id': 'call_rjBNOBpPlxZU3ax1leSpw4v3', 'function': {'arguments': '{\"query\":\"current conservation status of the Great Barrier Reef\",\"topic\":\"general\"}', 'name': 'tavily_search'}, 'type': 'function'}], 'refusal': None}, response_metadata={'token_usage': {'completion_tokens': 27, 'prompt_tokens': 804, 'total_tokens': 831, 'completion_tokens_details': {'accepted_prediction_tokens': 0, 'audio_tokens': 0, 'reasoning_tokens': 0, 'rejected_prediction_tokens': 0}, 'prompt_tokens_details': {'audio_tokens': 0, 'cached_tokens': 0}}, 'model_name': 'gpt-4o-mini-2024-07-18', 'system_fingerprint': 'fp_34a54ae93c', 'id': 'chatcmpl-BjUjtSk1zFUk2uMEp7c5t1sFneZIT', 'service_tier': 'default', 'finish_reason': 'tool_calls', 'logprobs': None}, id='run--6fd4415f-a6be-4ce8-9bb4-92898c1ee712-0', tool_calls=[{'name': 'tavily_search', 'args': {'query': 'current conservation status of the Great Barrier Reef', 'topic': 'general'}, 'id': 'call_rjBNOBpPlxZU3ax1leSpw4v3', 'type': 'tool_call'}], usage_metadata={'input_tokens': 804, 'output_tokens': 27, 'total_tokens': 831, 'input_token_details': {'audio': 0, 'cache_read': 0}, 'output_token_details': {'audio': 0, 'reasoning': 0}}),\n",
       "  ToolMessage(content='{\"query\": \"current conservation status of the Great Barrier Reef\", \"follow_up_questions\": null, \"answer\": null, \"images\": [], \"results\": [{\"url\": \"https://whc.unesco.org/en/list/154/\", \"title\": \"Great Barrier Reef - UNESCO World Heritage Centre\", \"content\": \"Decision on status of Australia\\'s Great Barrier Reef deferred until 2015. 18 June 2014. Great Barrier Reef state of conservation. 31 January 2014. Reactive\", \"score\": 0.7598145, \"raw_content\": null}, {\"url\": \"https://en.wikipedia.org/wiki/Great_Barrier_Reef\", \"title\": \"Great Barrier Reef - Wikipedia\", \"content\": \"The Australian Institute of Marine Science conducts annual surveys of the Great Barrier Reef\\'s status, and the 2022 report showed the greatest recovery in 36\", \"score\": 0.6018984, \"raw_content\": null}, {\"url\": \"https://worldheritageoutlook.iucn.org/node/974\", \"title\": \"Great Barrier Reef | World Heritage Outlook - IUCN\", \"content\": \"Climate change poses the most significant threat to the long-term conservation of the Great Barrier Reef. Significantly the 2016, 2017 and 2020 bleaching events\", \"score\": 0.5735118, \"raw_content\": null}, {\"url\": \"https://www.barrierreef.org/the-reef/threats\", \"title\": \"Threats - Great Barrier Reef Foundation\", \"content\": \"The Great Barrier Reef is under threat. Find out more on the issues it\\'s facing and what\\'s being done to help protect it for future generations.\", \"score\": 0.5066652, \"raw_content\": null}, {\"url\": \"https://www2.gbrmpa.gov.au/learn/reef-health/reef-health-updates\", \"title\": \"Reef health updates | Reef Authority\", \"content\": \"The Great Barrier Reef\\'s water quality continues to be impacted by the heavy rainfall and flooding across north Queensland earlier this month.\", \"score\": 0.38234952, \"raw_content\": null}, {\"url\": \"https://www.dcceew.gov.au/parks-heritage/great-barrier-reef/protecting\", \"title\": \"Protecting the Great Barrier Reef - DCCEEW\", \"content\": \"Climate change is the biggest threat for the Great Barrier Reef, and reefs worldwide. Other key threats include poor water quality, fishing\", \"score\": 0.2954438, \"raw_content\": null}, {\"url\": \"https://www.aims.gov.au/information-centre/news-and-stories/great-barrier-reef-reviving-or-dying-heres-whats-happening-beyond-headlines\", \"title\": \"Is the Great Barrier Reef reviving - or dying? Here\\'s what\\'s ...\", \"content\": \"The Great Barrier Reef is not dead. Nor is it in good health. The truth is complex. To understand what\\'s going on takes more than a headline.\", \"score\": 0.2778799, \"raw_content\": null}, {\"url\": \"https://www.aims.gov.au/monitoring-great-barrier-reef/gbr-condition-summary-2022-23\", \"title\": \"Annual Summary Report of Coral Reef Condition 2022/23 | AIMS\", \"content\": \"On the Central GBR region-wide mean coral cover declined slightly to 30.8% (27.6% - 34.2% C.I.s) from 32.6% (28.8% - 36.5% C.I.s) in 2022 but\", \"score\": 0.26510847, \"raw_content\": null}, {\"url\": \"https://www.whoi.edu/oceanus/feature/is-the-great-barrier-reef-making-a-comeback/\", \"title\": \"Is the Great Barrier Reef making a comeback?\", \"content\": \"In 2022, the Australian Institute of Marine Science (AIMS) reported the highest levels of coral cover across two-thirds of the Great Barrier Reef (GBR) in over\", \"score\": 0.26470557, \"raw_content\": null}], \"response_time\": 12.43}', name='tavily_search', id='10c8b590-f387-48d9-8ca1-c59e06f0212d', tool_call_id='call_rjBNOBpPlxZU3ax1leSpw4v3'),\n",
       "  AIMessage(content='The current conservation status of the Great Barrier Reef is complex and varies by region. Here are some key points:\\n\\n1. **Threats**: The primary threat to the Great Barrier Reef is climate change, which has led to significant coral bleaching events in 2016, 2017, and 2020. Other threats include poor water quality, overfishing, and coastal development.\\n\\n2. **Coral Health**: According to the Australian Institute of Marine Science (AIMS), the 2022 report indicated a recovery in coral cover, with the highest levels observed across two-thirds of the reef in over 36 years. However, the overall health of the reef remains a concern, with some areas experiencing declines in coral cover.\\n\\n3. **UNESCO Status**: The Great Barrier Reef is listed as a World Heritage site, and its conservation status has been a topic of ongoing discussion. The UNESCO World Heritage Centre has deferred decisions on its status, indicating that while there are improvements, significant threats remain.\\n\\n4. **Monitoring**: Regular monitoring is conducted to assess the health of the reef, and the latest reports suggest a mixed picture of recovery and ongoing challenges.\\n\\nFor more detailed information, you can refer to the following sources:\\n- [Great Barrier Reef - UNESCO World Heritage Centre](https://whc.unesco.org/en/list/154/)\\n- [Great Barrier Reef - Wikipedia](https://en.wikipedia.org/wiki/Great_Barrier_Reef)\\n- [Great Barrier Reef | World Heritage Outlook - IUCN](https://worldheritageoutlook.iucn.org/node/974)', additional_kwargs={'refusal': None}, response_metadata={'token_usage': {'completion_tokens': 323, 'prompt_tokens': 1728, 'total_tokens': 2051, 'completion_tokens_details': {'accepted_prediction_tokens': 0, 'audio_tokens': 0, 'reasoning_tokens': 0, 'rejected_prediction_tokens': 0}, 'prompt_tokens_details': {'audio_tokens': 0, 'cached_tokens': 0}}, 'model_name': 'gpt-4o-mini-2024-07-18', 'system_fingerprint': 'fp_34a54ae93c', 'id': 'chatcmpl-BjUk6vLsD48SuTIlL1JLFA2vcsbcR', 'service_tier': 'default', 'finish_reason': 'stop', 'logprobs': None}, id='run--810ae1c0-158c-4be3-9c4d-0d2f6cad681c-0', usage_metadata={'input_tokens': 1728, 'output_tokens': 323, 'total_tokens': 2051, 'input_token_details': {'audio': 0, 'cache_read': 0}, 'output_token_details': {'audio': 0, 'reasoning': 0}})]}"
      ]
     },
     "execution_count": 6,
     "metadata": {},
     "output_type": "execute_result"
    }
   ],
   "source": [
    "agent.invoke(\n",
    "    {\n",
    "        \"messages\": [\n",
    "            HumanMessage(\n",
    "                content=\"What is the current conservation status of the Great Barrier Reef?\"\n",
    "            )\n",
    "        ],\n",
    "    }\n",
    ")"
   ]
  },
  {
   "cell_type": "markdown",
   "metadata": {},
   "source": [
    "## Conversational responses\n",
    "\n",
    "Because our prompt contains a placeholder for chat history messages, our agent can also take previous interactions into account and respond conversationally like a standard chatbot:"
   ]
  },
  {
   "cell_type": "code",
   "execution_count": 7,
   "metadata": {},
   "outputs": [
    {
     "data": {
      "text/plain": [
       "{'messages': [HumanMessage(content=\"I'm Nemo!\", additional_kwargs={}, response_metadata={}, id='24de55be-3ee2-4165-998e-5fc1ecd09f48'),\n",
       "  AIMessage(content='Hello Nemo! How can I assist you today?', additional_kwargs={}, response_metadata={}, id='28777881-7e88-4059-9098-6dea9b6c82ee'),\n",
       "  HumanMessage(content='What is my name?', additional_kwargs={}, response_metadata={}, id='6b974a8a-6ac4-41fd-9f21-baa969c01af6'),\n",
       "  AIMessage(content='Your name is Nemo! How can I help you today?', additional_kwargs={'refusal': None}, response_metadata={'token_usage': {'completion_tokens': 13, 'prompt_tokens': 818, 'total_tokens': 831, 'completion_tokens_details': {'accepted_prediction_tokens': 0, 'audio_tokens': 0, 'reasoning_tokens': 0, 'rejected_prediction_tokens': 0}, 'prompt_tokens_details': {'audio_tokens': 0, 'cached_tokens': 0}}, 'model_name': 'gpt-4o-mini-2024-07-18', 'system_fingerprint': 'fp_34a54ae93c', 'id': 'chatcmpl-BjUkaIMMwHwDDueqcq72HH0Uqjzjw', 'service_tier': 'default', 'finish_reason': 'stop', 'logprobs': None}, id='run--2e55224c-2573-4e1c-828c-695346d9f381-0', usage_metadata={'input_tokens': 818, 'output_tokens': 13, 'total_tokens': 831, 'input_token_details': {'audio': 0, 'cache_read': 0}, 'output_token_details': {'audio': 0, 'reasoning': 0}})]}"
      ]
     },
     "execution_count": 7,
     "metadata": {},
     "output_type": "execute_result"
    }
   ],
   "source": [
    "from langchain_core.messages import AIMessage, HumanMessage\n",
    "\n",
    "agent.invoke(\n",
    "    {\n",
    "        \"messages\": [\n",
    "            HumanMessage(content=\"I'm Nemo!\"),\n",
    "            AIMessage(content=\"Hello Nemo! How can I assist you today?\"),\n",
    "            HumanMessage(content=\"What is my name?\"),\n",
    "        ],\n",
    "    }\n",
    ")"
   ]
  },
  {
   "cell_type": "markdown",
   "metadata": {},
   "source": [
    "If preferred, you can also add memory to the LangGraph agent to manage the history of messages. Let's redeclare it this way:"
   ]
  },
  {
   "cell_type": "code",
   "execution_count": 8,
   "metadata": {},
   "outputs": [],
   "source": [
    "from langgraph.checkpoint.memory import MemorySaver\n",
    "\n",
    "# highlight-start\n",
    "memory = MemorySaver()\n",
    "agent = create_react_agent(model, tools, prompt=prompt, checkpointer=memory)\n",
    "# highlight-end"
   ]
  },
  {
   "cell_type": "code",
   "execution_count": 9,
   "metadata": {},
   "outputs": [
    {
     "data": {
      "text/plain": [
       "{'messages': [HumanMessage(content=\"I'm Nemo!\", additional_kwargs={}, response_metadata={}, id='2703929b-e6ca-41a9-8692-e3876d84a3e6'),\n",
       "  AIMessage(content='Hi Nemo! How can I assist you today?', additional_kwargs={'refusal': None}, response_metadata={'token_usage': {'completion_tokens': 11, 'prompt_tokens': 795, 'total_tokens': 806, 'completion_tokens_details': {'accepted_prediction_tokens': 0, 'audio_tokens': 0, 'reasoning_tokens': 0, 'rejected_prediction_tokens': 0}, 'prompt_tokens_details': {'audio_tokens': 0, 'cached_tokens': 0}}, 'model_name': 'gpt-4o-mini-2024-07-18', 'system_fingerprint': 'fp_34a54ae93c', 'id': 'chatcmpl-BjUkkZAtCxsdy4YKnRx4E6MHBWl24', 'service_tier': 'default', 'finish_reason': 'stop', 'logprobs': None}, id='run--a4521207-9679-4bd2-942e-e13b851f8f8d-0', usage_metadata={'input_tokens': 795, 'output_tokens': 11, 'total_tokens': 806, 'input_token_details': {'audio': 0, 'cache_read': 0}, 'output_token_details': {'audio': 0, 'reasoning': 0}})]}"
      ]
     },
     "execution_count": 9,
     "metadata": {},
     "output_type": "execute_result"
    }
   ],
   "source": [
    "agent.invoke(\n",
    "    {\"messages\": [HumanMessage(\"I'm Nemo!\")]},\n",
    "    config={\"configurable\": {\"thread_id\": \"1\"}},\n",
    ")"
   ]
  },
  {
   "cell_type": "markdown",
   "metadata": {},
   "source": [
    "And then if we rerun our wrapped agent executor:"
   ]
  },
  {
   "cell_type": "code",
   "execution_count": 10,
   "metadata": {},
   "outputs": [
    {
     "data": {
      "text/plain": [
       "{'messages': [HumanMessage(content=\"I'm Nemo!\", additional_kwargs={}, response_metadata={}, id='2703929b-e6ca-41a9-8692-e3876d84a3e6'),\n",
       "  AIMessage(content='Hi Nemo! How can I assist you today?', additional_kwargs={'refusal': None}, response_metadata={'token_usage': {'completion_tokens': 11, 'prompt_tokens': 795, 'total_tokens': 806, 'completion_tokens_details': {'accepted_prediction_tokens': 0, 'audio_tokens': 0, 'reasoning_tokens': 0, 'rejected_prediction_tokens': 0}, 'prompt_tokens_details': {'audio_tokens': 0, 'cached_tokens': 0}}, 'model_name': 'gpt-4o-mini-2024-07-18', 'system_fingerprint': 'fp_34a54ae93c', 'id': 'chatcmpl-BjUkkZAtCxsdy4YKnRx4E6MHBWl24', 'service_tier': 'default', 'finish_reason': 'stop', 'logprobs': None}, id='run--a4521207-9679-4bd2-942e-e13b851f8f8d-0', usage_metadata={'input_tokens': 795, 'output_tokens': 11, 'total_tokens': 806, 'input_token_details': {'audio': 0, 'cache_read': 0}, 'output_token_details': {'audio': 0, 'reasoning': 0}}),\n",
       "  HumanMessage(content='What is my name?', additional_kwargs={}, response_metadata={}, id='903dfe27-a2a8-4d75-bddb-0ca9c2c03dfb'),\n",
       "  AIMessage(content='Your name is Nemo! How can I help you today, Nemo?', additional_kwargs={'refusal': None}, response_metadata={'token_usage': {'completion_tokens': 15, 'prompt_tokens': 818, 'total_tokens': 833, 'completion_tokens_details': {'accepted_prediction_tokens': 0, 'audio_tokens': 0, 'reasoning_tokens': 0, 'rejected_prediction_tokens': 0}, 'prompt_tokens_details': {'audio_tokens': 0, 'cached_tokens': 0}}, 'model_name': 'gpt-4o-mini-2024-07-18', 'system_fingerprint': 'fp_34a54ae93c', 'id': 'chatcmpl-BjUkoFXLEfOUQF6LdY6upaNAmbMob', 'service_tier': 'default', 'finish_reason': 'stop', 'logprobs': None}, id='run--f410fcac-eb09-4c0c-a1b5-5ada4cbdcf79-0', usage_metadata={'input_tokens': 818, 'output_tokens': 15, 'total_tokens': 833, 'input_token_details': {'audio': 0, 'cache_read': 0}, 'output_token_details': {'audio': 0, 'reasoning': 0}})]}"
      ]
     },
     "execution_count": 10,
     "metadata": {},
     "output_type": "execute_result"
    }
   ],
   "source": [
    "agent.invoke(\n",
    "    {\"messages\": [HumanMessage(\"What is my name?\")]},\n",
    "    config={\"configurable\": {\"thread_id\": \"1\"}},\n",
    ")"
   ]
  },
  {
   "cell_type": "markdown",
   "metadata": {},
   "source": [
    "This [LangSmith trace](https://smith.langchain.com/public/9e6b000d-08aa-4c5a-ac83-2fdf549523cb/r) shows what's going on under the hood.\n",
    "\n",
    "## Further reading\n",
    "\n",
    "For more on how to build agents, check these [LangGraph](https://langchain-ai.github.io/langgraph/) guides:\n",
    "\n",
    "* [agents conceptual guide](https://langchain-ai.github.io/langgraph/concepts/agentic_concepts/)\n",
    "* [agents tutorials](https://langchain-ai.github.io/langgraph/tutorials/multi_agent/multi-agent-collaboration/)\n",
    "* [create_react_agent](https://langchain-ai.github.io/langgraph/how-tos/create-react-agent/)\n",
    "\n",
    "For more on tool usage, you can also check out [this use case section](/docs/how_to#tools)."
   ]
  }
 ],
 "metadata": {
  "kernelspec": {
   "display_name": "Python 3",
   "language": "python",
   "name": "python3"
  },
  "language_info": {
   "codemirror_mode": {
    "name": "ipython",
    "version": 3
   },
   "file_extension": ".py",
   "mimetype": "text/x-python",
   "name": "python",
   "nbconvert_exporter": "python",
   "pygments_lexer": "ipython3",
   "version": "3.11.9"
  }
 },
 "nbformat": 4,
 "nbformat_minor": 4
}
