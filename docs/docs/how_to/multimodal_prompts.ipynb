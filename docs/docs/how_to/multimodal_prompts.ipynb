{
 "cells": [
  {
   "cell_type": "markdown",
   "id": "4facdf7f-680e-4d28-908b-2b8408e2a741",
   "metadata": {},
   "source": [
    "# How to use multimodal prompts\n",
    "\n",
    "Here we demonstrate how to use prompt templates to format [multimodal](/docs/concepts/multimodality/) inputs to models. \n",
    "\n",
    "To use prompt templates in the context of multimodal data, we can templatize elements of the corresponding content block.\n",
    "For example, below we define a prompt that takes a URL for an image as a parameter:"
   ]
  },
  {
   "cell_type": "code",
   "execution_count": 1,
   "id": "2671f995",
   "metadata": {},
   "outputs": [],
   "source": [
    "from langchain_core.prompts import ChatPromptTemplate\n",
    "\n",
    "# Define prompt\n",
    "prompt = ChatPromptTemplate(\n",
    "    [\n",
    "        {\n",
    "            \"role\": \"system\",\n",
    "            \"content\": \"Describe the image provided.\",\n",
    "        },\n",
    "        {\n",
    "            \"role\": \"user\",\n",
    "            \"content\": [\n",
    "                {\n",
    "                    \"type\": \"image\",\n",
    "                    \"source_type\": \"url\",\n",
    "                    # highlight-next-line\n",
    "                    \"url\": \"{image_url}\",\n",
    "                },\n",
    "            ],\n",
    "        },\n",
    "    ]\n",
    ")"
   ]
  },
  {
   "cell_type": "markdown",
   "id": "f75d2e26-5b9a-4d5f-94a7-7f98f5666f6d",
   "metadata": {},
   "source": [
    "Let's use this prompt to pass an image to a [chat model](/docs/concepts/chat_models/#multimodality):"
   ]
  },
  {
   "cell_type": "code",
   "execution_count": 2,
   "id": "37ea67b1-c851-47da-a238-17c88ae4d0ac",
   "metadata": {},
   "outputs": [
    {
     "name": "stdout",
     "output_type": "stream",
     "text": [
      "This is a beautiful landscape photograph featuring a wooden boardwalk cutting through a lush green wetland or grassland area. The boardwalk extends straight ahead toward the horizon, creating a strong leading line in the composition. On either side, tall green grasses sway in what appears to be a marsh or prairie environment. The sky is particularly striking, with wispy cirrus clouds streaked across a vibrant blue background. In the distance, there's a tree line that creates the horizon, and the late day lighting gives the scene a warm, peaceful quality. The wooden planks of the boardwalk appear weathered and natural, blending harmoniously with the surrounding environment. It's the kind of scene you might find in a nature preserve or wildlife refuge, designed to allow visitors to experience the natural habitat while protecting the delicate ecosystem.\n"
     ]
    }
   ],
   "source": [
    "from langchain.chat_models import init_chat_model\n",
    "\n",
    "llm = init_chat_model(\"anthropic:claude-3-5-sonnet-latest\")\n",
    "\n",
    "url = \"https://upload.wikimedia.org/wikipedia/commons/thumb/d/dd/Gfp-wisconsin-madison-the-nature-boardwalk.jpg/2560px-Gfp-wisconsin-madison-the-nature-boardwalk.jpg\"\n",
    "\n",
    "chain = prompt | llm\n",
    "response = chain.invoke({\"image_url\": url})\n",
    "print(response.text())"
   ]
  },
  {
   "cell_type": "markdown",
   "id": "f4cfdc50-4a9f-4888-93b4-af697366b0f3",
   "metadata": {},
   "source": [
    "Note that we can templatize arbitrary elements of the content block:"
   ]
  },
  {
   "cell_type": "code",
   "execution_count": 4,
   "id": "53c88ebb-dd57-40c8-8542-b2c916706653",
   "metadata": {},
   "outputs": [],
   "source": [
    "prompt = ChatPromptTemplate(\n",
    "    [\n",
    "        {\n",
    "            \"role\": \"system\",\n",
    "            \"content\": \"Describe the image provided.\",\n",
    "        },\n",
    "        {\n",
    "            \"role\": \"user\",\n",
    "            \"content\": [\n",
    "                {\n",
    "                    \"type\": \"image\",\n",
    "                    \"source_type\": \"base64\",\n",
    "                    \"mime_type\": \"{image_mime_type}\",\n",
    "                    \"data\": \"{image_data}\",\n",
    "                    \"metadata\": {\"cache_control\": {\"type\": \"{cache_type}\"}},\n",
    "                },\n",
    "            ],\n",
    "        },\n",
    "    ]\n",
    ")"
   ]
  },
  {
   "cell_type": "code",
   "execution_count": 6,
   "id": "0c017e45-2a3d-41c3-b154-ae2edf0015d3",
   "metadata": {},
   "outputs": [
    {
     "name": "stdout",
     "output_type": "stream",
     "text": [
      "This image shows a beautiful wooden boardwalk cutting through a lush wetland or meadow area. The boardwalk extends straight ahead toward the horizon, creating a strong leading line through the composition. On both sides, tall green grasses sway in what appears to be a marsh or prairie environment. The sky is particularly striking, with wispy cirrus clouds streaked across a bright blue background. In the distance, you can see a tree line along the horizon, and the late day lighting gives the scene a warm, peaceful quality. The wooden planks of the boardwalk appear well-maintained and provide safe passage through what would otherwise be difficult terrain to traverse. It's the kind of scene you might find in a nature preserve or wildlife refuge, designed to allow visitors to experience the natural environment while protecting the delicate ecosystem.\n"
     ]
    }
   ],
   "source": [
    "import base64\n",
    "\n",
    "import httpx\n",
    "\n",
    "image_data = base64.b64encode(httpx.get(url).content).decode(\"utf-8\")\n",
    "\n",
    "chain = prompt | llm\n",
    "response = chain.invoke(\n",
    "    {\n",
    "        \"image_data\": image_data,\n",
    "        \"image_mime_type\": \"image/jpeg\",\n",
    "        \"cache_type\": \"ephemeral\",\n",
    "    }\n",
    ")\n",
    "print(response.text())"
   ]
  },
  {
   "cell_type": "code",
   "execution_count": null,
   "id": "ea8152c3",
   "metadata": {},
   "outputs": [],
   "source": []
  }
 ],
 "metadata": {
  "kernelspec": {
   "display_name": "Python 3 (ipykernel)",
   "language": "python",
   "name": "python3"
  },
  "language_info": {
   "codemirror_mode": {
    "name": "ipython",
    "version": 3
   },
   "file_extension": ".py",
   "mimetype": "text/x-python",
   "name": "python",
   "nbconvert_exporter": "python",
   "pygments_lexer": "ipython3",
   "version": "3.10.4"
  }
 },
 "nbformat": 4,
 "nbformat_minor": 5
}
