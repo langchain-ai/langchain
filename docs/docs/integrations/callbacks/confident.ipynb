{
 "cells": [
  {
   "attachments": {},
   "cell_type": "markdown",
   "metadata": {},
   "source": [
    "# Confident\n",
    "\n",
    ">[DeepEval](https://confident-ai.com) package for unit testing LLMs.\n",
    "> Using Confident, everyone can build robust language models through faster iterations\n",
    "> using both unit testing and integration testing. We provide support for each step in the iteration\n",
    "> from synthetic data creation to testing.\n"
   ]
  },
  {
   "attachments": {},
   "cell_type": "markdown",
   "metadata": {},
   "source": [
    "In this guide we will demonstrate how to test and measure LLMs in performance. We show how you can use our callback to measure performance and how you can define your own metric and log them into our dashboard.\n",
    "\n",
    "DeepEval also offers:\n",
    "- How to generate synthetic data\n",
    "- How to measure performance\n",
    "- A dashboard to monitor and review results over time"
   ]
  },
  {
   "attachments": {},
   "cell_type": "markdown",
   "metadata": {
    "tags": []
   },
   "source": [
    "## Installation and Setup"
   ]
  },
  {
   "cell_type": "code",
   "execution_count": null,
   "metadata": {},
   "outputs": [],
   "source": [
    "!pip install deepeval langchain langchain-openai"
   ]
  },
  {
   "attachments": {},
   "cell_type": "markdown",
   "metadata": {},
   "source": [
    "### Getting API Credentials\n",
    "\n",
    "To get the DeepEval API credentials, follow the next steps:\n",
    "\n",
    "1. Go to https://app.confident-ai.com\n",
    "2. Click on \"Organization\"\n",
    "3. Copy the API Key.\n",
    "\n",
    "\n",
    "When you log in, you will also be asked to set the `implementation` name. The implementation name is required to describe the type of implementation. (Think of what you want to call your project. We recommend making it descriptive.)"
   ]
  },
  {
   "cell_type": "code",
   "execution_count": null,
   "metadata": {},
   "outputs": [],
   "source": [
    "import os\n",
    "import deepeval\n",
    "api_key = os.getenv('DEEPEVAL_API_KEY')\n",
    "deepeval.login(api_key)"
   ]
  },
  {
   "attachments": {},
   "cell_type": "markdown",
   "metadata": {},
   "source": [
    "### Setup Confident AI Callback (Modern)\n",
    "\n",
    "The previous DeepEvalCallbackHandler and metric tracking are deprecated. Please use the new integration below."
   ]
  },
  {
   "cell_type": "code",
   "execution_count": null,
   "metadata": {},
   "outputs": [],
   "source": [
    "from deepeval.integrations.langchain import CallbackHandler\n",
    "handler = CallbackHandler(\n",
    "    name=\"My Trace\",\n",
    "    tags=[\"production\", \"v1\"],\n",
    "    metadata={\"experiment\": \"A/B\"},\n",
    "    thread_id=\"thread-123\",\n",
    "    user_id=\"user-456\"\n",
    ")"
   ]
  },
  {
   "attachments": {},
   "cell_type": "markdown",
   "metadata": {},
   "source": [
    "## Get Started"
   ]
  }
 ],
 "metadata": {
  "kernelspec": {
   "display_name": "Python 3 (ipykernel)",
   "language": "python",
   "name": "python3"
  },
  "language_info": {
   "codemirror_mode": {
    "name": "ipython",
    "version": 3
   },
   "file_extension": ".py",
   "mimetype": "text/x-python",
   "name": "python",
   "nbconvert_exporter": "python",
   "pygments_lexer": "ipython3",
   "version": "3.10.12"
  },
  "vscode": {
   "interpreter": {
    "hash": "a53ebf4a859167383b364e7e7521d0add3c2dbbdecce4edf676e8c4634ff3fbb"
   }
  }
 },
 "nbformat": 4,
 "nbformat_minor": 4
}
