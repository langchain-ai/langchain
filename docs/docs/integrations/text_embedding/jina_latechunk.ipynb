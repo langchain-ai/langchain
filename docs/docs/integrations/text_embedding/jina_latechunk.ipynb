{
 "cells": [
  {
   "cell_type": "markdown",
   "id": "1c0cf975",
   "metadata": {},
   "source": [
    "# Jina late chunk\n",
    "\n",
    "You can check the list of available models from [here](https://jina.ai/embeddings/).\n",
    "\n",
    "## Installation and setup"
   ]
  },
  {
   "cell_type": "markdown",
   "id": "da922b13-eaa8-4cdc-98dd-cf8f3d2e6ffa",
   "metadata": {},
   "source": [
    "Install requirements"
   ]
  },
  {
   "cell_type": "code",
   "execution_count": null,
   "id": "2f0a1567-6273-47a3-b19d-c30af2470810",
   "metadata": {},
   "outputs": [],
   "source": [
    "pip install -U langchain-community"
   ]
  },
  {
   "cell_type": "markdown",
   "id": "7911b286-130d-4971-b77c-7c7a077115b6",
   "metadata": {},
   "source": [
    "Import libraries"
   ]
  },
  {
   "cell_type": "code",
   "execution_count": null,
   "id": "d94c62b4",
   "metadata": {},
   "outputs": [],
   "source": [
    "from langchain_community.embeddings import JinaLateChunkEmbeddings"
   ]
  },
  {
   "cell_type": "markdown",
   "id": "59aa1c02-1216-43eb-8473-8e0468f0ddb6",
   "metadata": {},
   "source": [
    "## Embed text and queries with Jina embedding models through JinaAI API"
   ]
  },
  {
   "cell_type": "code",
   "execution_count": null,
   "id": "523a09e3",
   "metadata": {},
   "outputs": [],
   "source": [
    "text_embeddings = JinaLateChunkEmbeddings(\n",
    "    jina_api_key=\"jina_*\", model_name=\"jina-embeddings-v3\"\n",
    ")"
   ]
  },
  {
   "cell_type": "code",
   "execution_count": null,
   "id": "b212bd5a",
   "metadata": {},
   "outputs": [],
   "source": [
    "text = [\n",
    "    \"Sản phẩm chăm sóc da hữu cơ cho da nhạy cảm với lô hội và hoa cúc: ...\",\n",
    "    \"Organic skincare for sensitive skin with aloe vera and chamomile: ...\", \n",
    "    \"Bio-Hautpflege für empfindliche Haut mit Aloe Vera und Kamille: Erleben Sie die wohltuende Wirkung...\", \n",
    "]"
   ]
  },
  {
   "cell_type": "code",
   "execution_count": null,
   "id": "57db66bd",
   "metadata": {},
   "outputs": [],
   "source": [
    "query_result = text_embeddings.embed_query(text[0])"
   ]
  },
  {
   "cell_type": "code",
   "execution_count": null,
   "id": "aea3ca33-1e6e-499c-8284-b7e26f38c514",
   "metadata": {},
   "outputs": [],
   "source": [
    "print(query_result)"
   ]
  },
  {
   "cell_type": "code",
   "execution_count": null,
   "id": "b790fd09",
   "metadata": {},
   "outputs": [],
   "source": [
    "# with late chunking\n",
    "doc_result = text_embeddings.embed_documents([text], late_chunking=True)"
   ]
  },
  {
   "cell_type": "code",
   "execution_count": null,
   "id": "c2e6b743-768c-4d7e-a331-27d5f0e8e30e",
   "metadata": {},
   "outputs": [],
   "source": [
    "print(doc_result)"
   ]
  },
  {
   "cell_type": "code",
   "execution_count": null,
   "id": "5c881821",
   "metadata": {},
   "outputs": [],
   "source": [
    "# without late chunking\n",
    "doc_result = text_embeddings.embed_documents([text], late_chunking=False)"
   ]
  },
  {
   "cell_type": "code",
   "execution_count": null,
   "id": "72d89645",
   "metadata": {},
   "outputs": [],
   "source": [
    "print(doc_result)"
   ]
  }
 ],
 "metadata": {
  "kernelspec": {
   "display_name": "Python 3 (ipykernel)",
   "language": "python",
   "name": "python3"
  },
  "language_info": {
   "codemirror_mode": {
    "name": "ipython",
    "version": 3
   },
   "file_extension": ".py",
   "mimetype": "text/x-python",
   "name": "python",
   "nbconvert_exporter": "python",
   "pygments_lexer": "ipython3",
   "version": "3.10.12"
  }
 },
 "nbformat": 4,
 "nbformat_minor": 5
}
