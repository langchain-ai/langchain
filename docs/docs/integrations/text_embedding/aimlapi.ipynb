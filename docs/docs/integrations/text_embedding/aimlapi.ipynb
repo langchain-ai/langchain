{
 "cells": [
  {
   "cell_type": "raw",
   "source": [
    "---\n",
    "sidebar_label: AI/ML API Embeddings\n",
    "---"
   ],
   "metadata": {
    "collapsed": false
   },
   "id": "24ae9a5bcf0c8c19"
  },
  {
   "cell_type": "markdown",
   "source": [
    "# AimlapiEmbeddings\n",
    "\n",
    "This will help you get started with AI/ML API embedding models using LangChain. For detailed documentation on `AimlapiEmbeddings` features and configuration options, please refer to the [API reference](https://docs.aimlapi.com/?utm_source=langchain&utm_medium=github&utm_campaign=integration).\n",
    "\n",
    "## Overview\n",
    "### Integration details\n",
    "\n",
    "import { ItemTable } from \"@theme/FeatureTables\";\n",
    "\n",
    "<ItemTable category=\"text_embedding\" item=\"AI/ML API\" />\n",
    "\n",
    "## Setup\n",
    "\n",
    "To access AI/ML API embedding models you'll need to create an account, get an API key, and install the `langchain-aimlapi` integration package.\n",
    "\n",
    "### Credentials\n",
    "\n",
    "Head to [https://aimlapi.com/app/](https://aimlapi.com/app/?utm_source=langchain&utm_medium=github&utm_campaign=integration) to sign up and generate an API key. Once you've done this, set the `AIMLAPI_API_KEY` environment variable:"
   ],
   "metadata": {
    "collapsed": false
   },
   "id": "4af58f76e6ce897a"
  },
  {
   "cell_type": "code",
   "outputs": [],
   "source": [
    "import getpass\n",
    "import os\n",
    "\n",
    "if not os.getenv(\"AIMLAPI_API_KEY\"):\n",
    "    os.environ[\"AIMLAPI_API_KEY\"] = getpass.getpass(\"Enter your AI/ML API key: \")"
   ],
   "metadata": {
    "collapsed": false,
    "ExecuteTime": {
     "end_time": "2025-08-07T07:50:37.393789Z",
     "start_time": "2025-08-07T07:50:27.679399Z"
    }
   },
   "id": "3297a770bc0b2b88",
   "execution_count": 1
  },
  {
   "cell_type": "markdown",
   "source": [
    "To enable automated tracing of your model calls, set your [LangSmith](https://docs.smith.langchain.com/) API key:"
   ],
   "metadata": {
    "collapsed": false
   },
   "id": "da319ae795659a93"
  },
  {
   "cell_type": "code",
   "outputs": [],
   "source": [
    "# os.environ[\"LANGSMITH_TRACING\"] = \"true\"\n",
    "# os.environ[\"LANGSMITH_API_KEY\"] = getpass.getpass(\"Enter your LangSmith API key: \")"
   ],
   "metadata": {
    "collapsed": false,
    "ExecuteTime": {
     "end_time": "2025-08-07T07:50:40.840377Z",
     "start_time": "2025-08-07T07:50:40.837144Z"
    }
   },
   "id": "6869f433a2f9dc3e",
   "execution_count": 2
  },
  {
   "cell_type": "markdown",
   "source": [
    "### Installation\n",
    "\n",
    "The LangChain AI/ML API integration lives in the `langchain-aimlapi` package:"
   ],
   "metadata": {
    "collapsed": false
   },
   "id": "3f6de2cfc36a4dba"
  },
  {
   "cell_type": "code",
   "outputs": [
    {
     "name": "stdout",
     "output_type": "stream",
     "text": [
      "Note: you may need to restart the kernel to use updated packages.\n"
     ]
    }
   ],
   "source": [
    "%pip install -qU langchain-aimlapi"
   ],
   "metadata": {
    "collapsed": false,
    "ExecuteTime": {
     "end_time": "2025-08-07T07:50:50.693835Z",
     "start_time": "2025-08-07T07:50:41.453138Z"
    }
   },
   "id": "23c22092f806aa31",
   "execution_count": 3
  },
  {
   "cell_type": "markdown",
   "source": [
    "## Instantiation\n",
    "\n",
    "Now we can instantiate our embeddings model and perform embedding operations:"
   ],
   "metadata": {
    "collapsed": false
   },
   "id": "db718f4b551164f3"
  },
  {
   "cell_type": "code",
   "outputs": [],
   "source": [
    "from langchain_aimlapi import AimlapiEmbeddings\n",
    "\n",
    "embeddings = AimlapiEmbeddings(\n",
    "    model=\"text-embedding-ada-002\",\n",
    ")"
   ],
   "metadata": {
    "collapsed": false,
    "ExecuteTime": {
     "end_time": "2025-08-07T07:51:03.046723Z",
     "start_time": "2025-08-07T07:50:50.694842Z"
    }
   },
   "id": "88b86f20598af88e",
   "execution_count": 4
  },
  {
   "cell_type": "markdown",
   "source": [
    "## Indexing and Retrieval\n",
    "\n",
    "Embedding models are often used in retrieval-augmented generation (RAG) flows. Below is how to index and retrieve data using the `embeddings` object we initialized above with `InMemoryVectorStore`."
   ],
   "metadata": {
    "collapsed": false
   },
   "id": "847447f4ff1fe82a"
  },
  {
   "cell_type": "code",
   "outputs": [
    {
     "data": {
      "text/plain": "'LangChain is the framework for building context-aware reasoning applications'"
     },
     "execution_count": 5,
     "metadata": {},
     "output_type": "execute_result"
    }
   ],
   "source": [
    "from langchain_core.vectorstores import InMemoryVectorStore\n",
    "\n",
    "text = \"LangChain is the framework for building context-aware reasoning applications\"\n",
    "\n",
    "vectorstore = InMemoryVectorStore.from_texts(\n",
    "    [text],\n",
    "    embedding=embeddings,\n",
    ")\n",
    "\n",
    "retriever = vectorstore.as_retriever()\n",
    "\n",
    "retrieved_documents = retriever.invoke(\"What is LangChain?\")\n",
    "retrieved_documents[0].page_content"
   ],
   "metadata": {
    "collapsed": false,
    "ExecuteTime": {
     "end_time": "2025-08-07T07:51:05.421030Z",
     "start_time": "2025-08-07T07:51:03.047729Z"
    }
   },
   "id": "595ccebd97dabeef",
   "execution_count": 5
  },
  {
   "cell_type": "markdown",
   "source": [
    "## Direct Usage\n",
    "\n",
    "You can directly call `embed_query` and `embed_documents` for custom embedding scenarios.\n",
    "\n",
    "### Embed single text:"
   ],
   "metadata": {
    "collapsed": false
   },
   "id": "aa922f78938d1ae1"
  },
  {
   "cell_type": "code",
   "outputs": [
    {
     "name": "stdout",
     "output_type": "stream",
     "text": [
      "[-0.0011368310078978539, 0.00714730704203248, -0.014703838154673576, -0.034064359962940216, 0.011239\n"
     ]
    }
   ],
   "source": [
    "single_vector = embeddings.embed_query(text)\n",
    "print(str(single_vector)[:100])"
   ],
   "metadata": {
    "collapsed": false,
    "ExecuteTime": {
     "end_time": "2025-08-07T07:51:06.285037Z",
     "start_time": "2025-08-07T07:51:05.422035Z"
    }
   },
   "id": "c06952ac53aab22",
   "execution_count": 6
  },
  {
   "cell_type": "markdown",
   "source": [
    "### Embed multiple texts:"
   ],
   "metadata": {
    "collapsed": false
   },
   "id": "52c9b7de79992a7b"
  },
  {
   "cell_type": "code",
   "outputs": [
    {
     "name": "stdout",
     "output_type": "stream",
     "text": [
      "[-0.0011398226488381624, 0.007080476265400648, -0.014682820066809654, -0.03407655283808708, 0.011276\n",
      "[-0.005510928109288216, 0.016650190576910973, -0.011078780516982079, -0.03116573952138424, -0.003735\n"
     ]
    }
   ],
   "source": [
    "text2 = (\n",
    "    \"LangGraph is a library for building stateful, multi-actor applications with LLMs\"\n",
    ")\n",
    "two_vectors = embeddings.embed_documents([text, text2])\n",
    "for vector in two_vectors:\n",
    "    print(str(vector)[:100])"
   ],
   "metadata": {
    "collapsed": false,
    "ExecuteTime": {
     "end_time": "2025-08-07T07:51:07.954778Z",
     "start_time": "2025-08-07T07:51:06.285544Z"
    }
   },
   "id": "f1dcf3c389e11cc1",
   "execution_count": 7
  },
  {
   "cell_type": "markdown",
   "source": [
    "## API Reference\n",
    "\n",
    "For detailed documentation on `AimlapiEmbeddings` features and configuration options, please refer to the [API reference](https://docs.aimlapi.com/?utm_source=langchain&utm_medium=github&utm_campaign=integration).\n"
   ],
   "metadata": {
    "collapsed": false
   },
   "id": "a45ff6faef63cab2"
  }
 ],
 "metadata": {
  "kernelspec": {
   "display_name": "Python 3",
   "language": "python",
   "name": "python3"
  },
  "language_info": {
   "codemirror_mode": {
    "name": "ipython",
    "version": 2
   },
   "file_extension": ".py",
   "mimetype": "text/x-python",
   "name": "python",
   "nbconvert_exporter": "python",
   "pygments_lexer": "ipython2",
   "version": "2.7.6"
  }
 },
 "nbformat": 4,
 "nbformat_minor": 5
}
