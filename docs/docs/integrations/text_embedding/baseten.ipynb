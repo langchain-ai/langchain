{
  "cells": [
    {
      "cell_type": "raw",
      "metadata": {
        "vscode": {
          "languageId": "raw"
        }
      },
      "source": [
        "---\n",
        "sidebar_label: Baseten\n",
        "---\n"
      ]
    },
    {
      "cell_type": "markdown",
      "metadata": {},
      "source": [
        "# BasetenEmbeddings\n",
        "\n",
        "This will help you get started with Baseten embedding models using LangChain. For detailed documentation on `BasetenEmbeddings` features and configuration options, please refer to the [API reference](https://python.langchain.com/api_reference/baseten/embeddings/langchain_baseten.embeddings.BasetenEmbeddings.html).\n",
        "\n",
        "## Overview\n",
        "\n",
        "### Integration details\n",
        "\n",
        "import { ItemTable } from \"@theme/FeatureTables\";\n",
        "\n",
        "<ItemTable category=\"text_embedding\" item=\"Baseten\" />\n",
        "\n",
        "## Setup\n",
        "\n",
        "To access Baseten embedding models you'll need to create a Baseten account, get an API key, deploy an embedding model, and install the `langchain-baseten` integration package.\n",
        "\n",
        "### Credentials\n",
        "\n",
        "Head to [baseten.co](https://baseten.co/) to sign up to Baseten and generate an API key. Once you've done this set the BASETEN_API_KEY environment variable:\n"
      ]
    },
    {
      "cell_type": "code",
      "execution_count": null,
      "metadata": {},
      "outputs": [],
      "source": [
        "import getpass\n",
        "import os\n",
        "\n",
        "if not os.getenv(\"BASETEN_API_KEY\"):\n",
        "    os.environ[\"BASETEN_API_KEY\"] = getpass.getpass(\"Enter your Baseten API key: \")\n"
      ]
    },
    {
      "cell_type": "code",
      "execution_count": null,
      "metadata": {},
      "outputs": [],
      "source": [
        "# os.environ[\"LANGSMITH_TRACING\"] = \"true\"\n",
        "# os.environ[\"LANGSMITH_API_KEY\"] = getpass.getpass(\"Enter your LangSmith API key: \")\n"
      ]
    },
    {
      "cell_type": "code",
      "execution_count": null,
      "metadata": {},
      "outputs": [],
      "source": [
        "%pip install --upgrade --quiet langchain-baseten\n"
      ]
    },
    {
      "cell_type": "markdown",
      "metadata": {},
      "source": [
        "## Instantiation\n",
        "\n",
        "Now we can instantiate our embedding model. You'll need to deploy an embedding model on Baseten first and get the model URL from your dashboard:\n"
      ]
    },
    {
      "cell_type": "code",
      "execution_count": null,
      "metadata": {},
      "outputs": [],
      "source": [
        "from langchain_baseten import BasetenEmbeddings\n",
        "\n",
        "embeddings = BasetenEmbeddings(\n",
        "    model=\"your-embedding-model\",\n",
        "    model_url=\"https://model-<id>.api.baseten.co/environments/production/sync\",\n",
        ")\n"
      ]
    },
    {
      "cell_type": "markdown",
      "metadata": {},
      "source": [
        "## Indexing and Retrieval\n",
        "\n",
        "Embedding models are often used in retrieval augmented generation (RAG) flows, both as part of indexing data as well as later retrieving it. For more detailed instructions, please see our RAG tutorials under the [working with external knowledge tutorials](/docs/tutorials/#working-with-external-knowledge).\n",
        "\n",
        "Below, see how to index and retrieve data using the `embeddings` object we initialized above. In this example, we will index and retrieve a sample document in the `InMemoryVectorStore`.\n"
      ]
    },
    {
      "cell_type": "code",
      "execution_count": null,
      "metadata": {},
      "outputs": [],
      "source": [
        "from langchain_core.vectorstores import InMemoryVectorStore\n",
        "\n",
        "text = \"LangChain is the framework for building context-aware reasoning applications\"\n",
        "\n",
        "vectorstore = InMemoryVectorStore.from_texts(\n",
        "    [text],\n",
        "    embedding=embeddings,\n",
        ")\n",
        "\n",
        "# Use the vectorstore as a retriever\n",
        "retriever = vectorstore.as_retriever()\n",
        "\n",
        "# Retrieve the most similar text\n",
        "retrieved_documents = retriever.invoke(\"What is LangChain?\")\n",
        "\n",
        "# show the retrieved document's content\n",
        "retrieved_documents[0].page_content\n"
      ]
    },
    {
      "cell_type": "markdown",
      "metadata": {},
      "source": [
        "## Direct Usage\n",
        "\n",
        "Under the hood, the vectorstore and retriever implementations are calling `embeddings.embed_documents(...)` and `embeddings.embed_query(...)` to create embeddings for the text(s) you want to index and to create an embedding for the query, respectively.\n",
        "\n",
        "You can directly call these methods to get embeddings for your own use case.\n"
      ]
    },
    {
      "cell_type": "code",
      "execution_count": null,
      "metadata": {},
      "outputs": [],
      "source": [
        "documents = [\n",
        "    \"Machine learning is a subset of artificial intelligence\",\n",
        "    \"Natural language processing helps computers understand text\",\n",
        "    \"Vector embeddings represent text as numerical arrays\"\n",
        "]\n",
        "\n",
        "document_embeddings = embeddings.embed_documents(documents)\n",
        "print(f\"Generated {len(document_embeddings)} document embeddings\")\n",
        "print(f\"Each embedding has {len(document_embeddings[0])} dimensions\")\n",
        "\n",
        "# Embed a single query\n",
        "query = \"What is machine learning?\"\n",
        "query_embedding = embeddings.embed_query(query)\n",
        "print(f\"Query embedding has {len(query_embedding)} dimensions\")\n"
      ]
    },
    {
      "cell_type": "markdown",
      "metadata": {},
      "source": [
        "## API Reference\n",
        "\n",
        "For detailed documentation of all BasetenEmbeddings features and configurations head to the API reference: https://python.langchain.com/api_reference/baseten/embeddings/langchain_baseten.embeddings.BasetenEmbeddings.html\n"
      ]
    }
  ],
  "metadata": {
    "language_info": {
      "name": "python"
    }
  },
  "nbformat": 4,
  "nbformat_minor": 2
}
