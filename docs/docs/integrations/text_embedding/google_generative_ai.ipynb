{
 "cells": [
  {
   "cell_type": "markdown",
   "id": "afab8b36-10bb-4795-bc98-75ab2d2081bb",
   "metadata": {},
   "source": [
    "# Google Generative AI Embeddings\n",
    "\n",
    "Connect to Google's generative AI embeddings service using the `GoogleGenerativeAIEmbeddings` class, found in the [langchain-google-genai](https://pypi.org/project/langchain-google-genai/) package."
   ]
  },
  {
   "cell_type": "markdown",
   "id": "63545b38-9d56-4312-8f61-8d4f1e7a3b1b",
   "metadata": {},
   "source": [
    "## Installation"
   ]
  },
  {
   "cell_type": "code",
   "execution_count": null,
   "id": "d2f6a3cd-379f-4dff-a449-d3a9f3196f2a",
   "metadata": {},
   "outputs": [],
   "source": [
    "%pip install --upgrade --quiet  langchain-google-genai"
   ]
  },
  {
   "cell_type": "markdown",
   "id": "25f3f88e-164e-400d-b371-9fa488baba19",
   "metadata": {},
   "source": [
    "## Credentials"
   ]
  },
  {
   "cell_type": "code",
   "execution_count": null,
   "id": "ec89153f-8999-4aab-a21b-0bfba1cc3893",
   "metadata": {},
   "outputs": [],
   "source": [
    "import getpass\n",
    "import os\n",
    "\n",
    "if \"GOOGLE_API_KEY\" not in os.environ:\n",
    "    os.environ[\"GOOGLE_API_KEY\"] = getpass.getpass(\"Provide your Google API key here\")"
   ]
  },
  {
   "cell_type": "markdown",
   "id": "f2437b22-e364-418a-8c13-490a026cb7b5",
   "metadata": {},
   "source": [
    "## Usage"
   ]
  },
  {
   "cell_type": "code",
   "execution_count": 6,
   "id": "eedc551e-a1f3-4fd8-8d65-4e0784c4441b",
   "metadata": {},
   "outputs": [
    {
     "data": {
      "text/plain": [
       "[0.05636945, 0.0048285457, -0.0762591, -0.023642512, 0.05329321]"
      ]
     },
     "execution_count": 6,
     "metadata": {},
     "output_type": "execute_result"
    }
   ],
   "source": [
    "from langchain_google_genai import GoogleGenerativeAIEmbeddings\n",
    "\n",
    "embeddings = GoogleGenerativeAIEmbeddings(model=\"models/text-embedding-004\")\n",
    "vector = embeddings.embed_query(\"hello, world!\")\n",
    "vector[:5]"
   ]
  },
  {
   "cell_type": "markdown",
   "id": "2b2bed60-e7bd-4e48-83d6-1c87001f98bd",
   "metadata": {},
   "source": [
    "## Batch\n",
    "\n",
    "You can also embed multiple strings at once for a processing speedup:"
   ]
  },
  {
   "cell_type": "code",
   "execution_count": 7,
   "id": "6ec53aba-404f-4778-acd9-5d6664e79ed2",
   "metadata": {},
   "outputs": [
    {
     "data": {
      "text/plain": [
       "(3, 768)"
      ]
     },
     "execution_count": 7,
     "metadata": {},
     "output_type": "execute_result"
    }
   ],
   "source": [
    "vectors = embeddings.embed_documents(\n",
    "    [\n",
    "        \"Today is Monday\",\n",
    "        \"Today is Tuesday\",\n",
    "        \"Today is April Fools day\",\n",
    "    ]\n",
    ")\n",
    "len(vectors), len(vectors[0])"
   ]
  },
  {
   "cell_type": "markdown",
   "id": "1482486f-5617-498a-8a44-1974d3212dda",
   "metadata": {},
   "source": [
    "## Task type\n",
    "`GoogleGenerativeAIEmbeddings` optionally support a `task_type`, which currently must be one of:\n",
    "\n",
    "- task_type_unspecified\n",
    "- retrieval_query\n",
    "- retrieval_document\n",
    "- semantic_similarity\n",
    "- classification\n",
    "- clustering\n",
    "\n",
    "By default, we use `retrieval_document` in the `embed_documents` method and `retrieval_query` in the `embed_query` method. If you provide a task type, we will use that for all methods."
   ]
  },
  {
   "cell_type": "code",
   "execution_count": 15,
   "id": "a223bb25-2b1b-418e-a570-2f543083132e",
   "metadata": {},
   "outputs": [
    {
     "name": "stdout",
     "output_type": "stream",
     "text": [
      "Note: you may need to restart the kernel to use updated packages.\n"
     ]
    }
   ],
   "source": [
    "%pip install --upgrade --quiet  matplotlib scikit-learn"
   ]
  },
  {
   "cell_type": "code",
   "execution_count": 33,
   "id": "f1f077db-8eb4-49f7-8866-471a8528dcdb",
   "metadata": {},
   "outputs": [],
   "source": [
    "query_embeddings = GoogleGenerativeAIEmbeddings(\n",
    "    model=\"models/embedding-001\", task_type=\"retrieval_query\"\n",
    ")\n",
    "doc_embeddings = GoogleGenerativeAIEmbeddings(\n",
    "    model=\"models/embedding-001\", task_type=\"retrieval_document\"\n",
    ")"
   ]
  },
  {
   "cell_type": "markdown",
   "id": "79bd4a5e-75ba-413c-befa-86167c938caf",
   "metadata": {},
   "source": [
    "All of these will be embedded with the 'retrieval_query' task set\n",
    "```python\n",
    "query_vecs = [query_embeddings.embed_query(q) for q in [query, query_2, answer_1]]\n",
    "```\n",
    "All of these will be embedded with the 'retrieval_document' task set\n",
    "```python\n",
    "doc_vecs = [doc_embeddings.embed_query(q) for q in [query, query_2, answer_1]]\n",
    "```"
   ]
  },
  {
   "cell_type": "markdown",
   "id": "9e1fae5e-0f84-4812-89f5-7d4d71affbc1",
   "metadata": {},
   "source": [
    "In retrieval, relative distance matters. In the image above, you can see the difference in similarity scores between the \"relevant doc\" and \"simil stronger delta between the similar query and relevant doc on the latter case."
   ]
  },
  {
   "cell_type": "markdown",
   "id": "2e7857e5",
   "metadata": {},
   "source": [
    "## Additional Configuration\n",
    "\n",
    "You can pass the following parameters to ChatGoogleGenerativeAI in order to customize the SDK's behavior:\n",
    "\n",
    "- `client_options`: [Client Options](https://googleapis.dev/python/google-api-core/latest/client_options.html#module-google.api_core.client_options) to pass to the Google API Client, such as a custom `client_options[\"api_endpoint\"]`\n",
    "- `transport`: The transport method to use, such as `rest`, `grpc`, or `grpc_asyncio`."
   ]
  }
 ],
 "metadata": {
  "kernelspec": {
   "display_name": "Python 3 (ipykernel)",
   "language": "python",
   "name": "python3"
  },
  "language_info": {
   "codemirror_mode": {
    "name": "ipython",
    "version": 3
   },
   "file_extension": ".py",
   "mimetype": "text/x-python",
   "name": "python",
   "nbconvert_exporter": "python",
   "pygments_lexer": "ipython3",
   "version": "3.9.1"
  }
 },
 "nbformat": 4,
 "nbformat_minor": 5
}
