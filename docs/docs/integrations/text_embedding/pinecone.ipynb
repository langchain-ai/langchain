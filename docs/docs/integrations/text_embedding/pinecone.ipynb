{
 "cells": [
  {
   "cell_type": "markdown",
   "id": "f4b5d823fee826c2",
   "metadata": {
    "collapsed": false
   },
   "source": [
    "# Pinecone Embeddings\n",
    "\n",
    "Pinecone's inference API can be accessed via `PineconeEmbeddings`. Providing text embeddings via the Pinecone service. We start by installing prerequisite libraries:"
   ]
  },
  {
   "cell_type": "code",
   "execution_count": null,
   "id": "3bc5d3a5ed7f5ce3",
   "metadata": {
    "collapsed": false
   },
   "outputs": [],
   "source": [
    "!pip install -qU \"langchain-pinecone>=0.2.0\" "
   ]
  },
  {
   "cell_type": "markdown",
   "id": "62a77d25c3fd8bd5",
   "metadata": {
    "collapsed": false
   },
   "source": [
    "Next, we [sign up / log in to Pinecone](https://app.pinecone.io) to get our API key:"
   ]
  },
  {
   "cell_type": "code",
   "execution_count": null,
   "id": "8162dbcbcf7d3d55",
   "metadata": {
    "collapsed": false
   },
   "outputs": [],
   "source": [
    "import os\n",
    "from getpass import getpass\n",
    "\n",
    "os.environ[\"PINECONE_API_KEY\"] = os.getenv(\"PINECONE_API_KEY\") or getpass(\n",
    "    \"Enter your Pinecone API key: \"\n",
    ")"
   ]
  },
  {
   "cell_type": "markdown",
   "id": "98d860a0a2d8b907",
   "metadata": {
    "collapsed": false
   },
   "source": [
    "Check the document for available [models](https://docs.pinecone.io/models/overview). Now we initialize our embedding model like so:"
   ]
  },
  {
   "cell_type": "code",
   "execution_count": null,
   "id": "2b3adb72786a5275",
   "metadata": {
    "collapsed": false
   },
   "outputs": [],
   "source": [
    "from langchain_pinecone import PineconeEmbeddings\n",
    "\n",
    "embeddings = PineconeEmbeddings(model=\"multilingual-e5-large\")"
   ]
  },
  {
   "cell_type": "markdown",
   "id": "11e24da855517230",
   "metadata": {
    "collapsed": false
   },
   "source": [
    "From here we can create embeddings either sync or async, let's start with sync! We embed a single text as a query embedding (ie what we search with in RAG) using `embed_query`:"
   ]
  },
  {
   "cell_type": "code",
   "execution_count": null,
   "id": "2da515e2a61ef7e9",
   "metadata": {
    "collapsed": false
   },
   "outputs": [],
   "source": [
    "docs = [\n",
    "    \"Apple is a popular fruit known for its sweetness and crisp texture.\",\n",
    "    \"The tech company Apple is known for its innovative products like the iPhone.\",\n",
    "    \"Many people enjoy eating apples as a healthy snack.\",\n",
    "    \"Apple Inc. has revolutionized the tech industry with its sleek designs and user-friendly interfaces.\",\n",
    "    \"An apple a day keeps the doctor away, as the saying goes.\",\n",
    "]"
   ]
  },
  {
   "cell_type": "code",
   "execution_count": null,
   "id": "2897e0d570c90b2f",
   "metadata": {
    "collapsed": false
   },
   "outputs": [],
   "source": [
    "doc_embeds = embeddings.embed_documents(docs)\n",
    "doc_embeds"
   ]
  },
  {
   "cell_type": "code",
   "execution_count": null,
   "id": "510784963c0e17a",
   "metadata": {
    "collapsed": false
   },
   "outputs": [],
   "source": [
    "query = \"Tell me about the tech company known as Apple\"\n",
    "query_embed = embeddings.embed_query(query)\n",
    "query_embed"
   ]
  }
 ],
 "metadata": {
  "kernelspec": {
   "display_name": "Python 3",
   "language": "python",
   "name": "python3"
  },
  "language_info": {
   "codemirror_mode": {
    "name": "ipython",
    "version": 2
   },
   "file_extension": ".py",
   "mimetype": "text/x-python",
   "name": "python",
   "nbconvert_exporter": "python",
   "pygments_lexer": "ipython2",
   "version": "2.7.6"
  }
 },
 "nbformat": 4,
 "nbformat_minor": 5
}
