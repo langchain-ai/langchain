{
 "cells": [
  {
   "cell_type": "markdown",
   "metadata": {},
   "source": [
    "# TextEmbed - Embedding Inference Server\n",
    "\n",
    "TextEmbed is a high-throughput, low-latency REST API designed for serving vector embeddings. It supports a wide range of sentence-transformer models and frameworks, making it suitable for various applications in natural language processing.\n",
    "\n",
    "## Features\n",
    "\n",
    "- **High Throughput & Low Latency:** Designed to handle a large number of requests efficiently.\n",
    "- **Flexible Model Support:** Works with various sentence-transformer models.\n",
    "- **Scalable:** Easily integrates into larger systems and scales with demand.\n",
    "- **Batch Processing:** Supports batch processing for better and faster inference.\n",
    "- **OpenAI Compatible REST API Endpoint:** Provides an OpenAI compatible REST API endpoint.\n",
    "- **Single Line Command Deployment:** Deploy multiple models via a single command for efficient deployment.\n",
    "- **Support for Embedding Formats:** Supports binary, float16, and float32 embeddings formats for faster retrieval.\n",
    "\n",
    "## Getting Started\n",
    "\n",
    "### Prerequisites\n",
    "\n",
    "Ensure you have Python 3.10 or higher installed. You will also need to install the required dependencies."
   ]
  },
  {
   "cell_type": "markdown",
   "metadata": {},
   "source": [
    "## Installation via PyPI\n",
    "\n",
    "1. **Install the required dependencies:**\n",
    "\n",
    "    ```bash\n",
    "    pip install -U textembed\n",
    "    ```\n",
    "\n",
    "2. **Start the TextEmbed server with your desired models:**\n",
    "\n",
    "    ```bash\n",
    "    python -m textembed.server --models sentence-transformers/all-MiniLM-L12-v2 --workers 4 --api-key TextEmbed \n",
    "    ```\n",
    "\n",
    "For more information, please read the [documentation](https://github.com/kevaldekivadiya2415/textembed/blob/main/docs/setup.md)."
   ]
  },
  {
   "cell_type": "markdown",
   "metadata": {},
   "source": [
    "### Import"
   ]
  },
  {
   "cell_type": "code",
   "execution_count": 2,
   "metadata": {},
   "outputs": [],
   "source": [
    "from langchain_community.embeddings import TextEmbedEmbeddings"
   ]
  },
  {
   "cell_type": "code",
   "execution_count": 11,
   "metadata": {},
   "outputs": [],
   "source": [
    "embeddings = TextEmbedEmbeddings(\n",
    "    model=\"sentence-transformers/all-MiniLM-L12-v2\",\n",
    "    api_url=\"http://0.0.0.0:8000/v1\",\n",
    "    api_key=\"TextEmbed\",\n",
    ")"
   ]
  },
  {
   "cell_type": "markdown",
   "metadata": {},
   "source": [
    "### Embed your documents"
   ]
  },
  {
   "cell_type": "code",
   "execution_count": 23,
   "metadata": {},
   "outputs": [],
   "source": [
    "# Define a list of documents\n",
    "documents = [\n",
    "    \"Data science involves extracting insights from data.\",\n",
    "    \"Artificial intelligence is transforming various industries.\",\n",
    "    \"Cloud computing provides scalable computing resources over the internet.\",\n",
    "    \"Big data analytics helps in understanding large datasets.\",\n",
    "    \"India has a diverse cultural heritage.\",\n",
    "]\n",
    "\n",
    "# Define a query\n",
    "query = \"What is the cultural heritage of India?\""
   ]
  },
  {
   "cell_type": "code",
   "execution_count": 24,
   "metadata": {},
   "outputs": [],
   "source": [
    "# Embed all documents\n",
    "document_embeddings = embeddings.embed_documents(documents)\n",
    "\n",
    "# Embed the query\n",
    "query_embedding = embeddings.embed_query(query)"
   ]
  },
  {
   "cell_type": "code",
   "execution_count": 25,
   "metadata": {},
   "outputs": [
    {
     "data": {
      "text/plain": [
       "{'Data science involves extracting insights from data.': 0.05121298956322118,\n",
       " 'Artificial intelligence is transforming various industries.': -0.0060612142358469345,\n",
       " 'Cloud computing provides scalable computing resources over the internet.': -0.04877402795301714,\n",
       " 'Big data analytics helps in understanding large datasets.': 0.016582168576929422,\n",
       " 'India has a diverse cultural heritage.': 0.7408992963028144}"
      ]
     },
     "execution_count": 25,
     "metadata": {},
     "output_type": "execute_result"
    }
   ],
   "source": [
    "# Compute Similarity\n",
    "import numpy as np\n",
    "\n",
    "scores = np.array(document_embeddings) @ np.array(query_embedding).T\n",
    "dict(zip(documents, scores))"
   ]
  },
  {
   "cell_type": "code",
   "execution_count": null,
   "metadata": {},
   "outputs": [],
   "source": []
  }
 ],
 "metadata": {
  "kernelspec": {
   "display_name": "check10",
   "language": "python",
   "name": "python3"
  },
  "language_info": {
   "codemirror_mode": {
    "name": "ipython",
    "version": 3
   },
   "file_extension": ".py",
   "mimetype": "text/x-python",
   "name": "python",
   "nbconvert_exporter": "python",
   "pygments_lexer": "ipython3",
   "version": "3.10.14"
  }
 },
 "nbformat": 4,
 "nbformat_minor": 2
}
