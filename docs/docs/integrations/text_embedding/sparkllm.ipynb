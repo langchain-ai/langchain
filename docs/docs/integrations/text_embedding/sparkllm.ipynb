{
 "cells": [
  {
   "cell_type": "markdown",
   "metadata": {},
   "source": [
    "# SparkLLM Text Embeddings"
   ]
  },
  {
   "cell_type": "markdown",
   "metadata": {},
   "source": [
    "Official Website: https://www.xfyun.cn/doc/spark/Embedding_new_api.html\n",
    "\n",
    "An API key is required to use this embedding model. You can get one by registering at https://platform.SparkLLM-ai.com/docs/text-Embedding."
   ]
  },
  {
   "cell_type": "markdown",
   "metadata": {},
   "source": [
    "SparkLLMTextEmbeddings support 2K token window and preduces vectors with 2560 dimensions."
   ]
  },
  {
   "cell_type": "code",
   "execution_count": 1,
   "metadata": {
    "ExecuteTime": {
     "end_time": "2024-03-15T09:36:13.753824100Z",
     "start_time": "2024-03-15T09:36:13.225834400Z"
    }
   },
   "outputs": [],
   "source": [
    "from langchain_community.embeddings import SparkLLMTextEmbeddings\n",
    "\n",
    "embeddings = SparkLLMTextEmbeddings(\n",
    "    spark_app_id=\"<spark_app_id>\",\n",
    "    spark_api_key=\"<spark_api_key>\",\n",
    "    spark_api_secret=\"<spark_api_secret>\",\n",
    ")"
   ]
  },
  {
   "cell_type": "markdown",
   "metadata": {},
   "source": [
    "Alternatively, you can set API key this way:"
   ]
  },
  {
   "cell_type": "code",
   "execution_count": 3,
   "metadata": {
    "ExecuteTime": {
     "end_time": "2024-03-15T09:36:25.436201400Z",
     "start_time": "2024-03-15T09:36:25.313456600Z"
    }
   },
   "outputs": [
    {
     "data": {
      "text/plain": [
       "[-0.043609619140625,\n",
       " 0.2017822265625,\n",
       " 0.0270843505859375,\n",
       " -0.250244140625,\n",
       " -0.024993896484375,\n",
       " -0.0382080078125,\n",
       " 0.06207275390625,\n",
       " -0.0146331787109375]"
      ]
     },
     "execution_count": 3,
     "metadata": {},
     "output_type": "execute_result"
    }
   ],
   "source": [
    "text_q = \"Introducing iFlytek\"\n",
    "\n",
    "text_1 = \"Science and Technology Innovation Company Limited, commonly known as iFlytek, is a leading Chinese technology company specializing in speech recognition, natural language processing, and artificial intelligence. With a rich history and remarkable achievements, iFlytek has emerged as a frontrunner in the field of intelligent speech and language technologies.iFlytek has made significant contributions to the advancement of human-computer interaction through its cutting-edge innovations. Their advanced speech recognition technology has not only improved the accuracy and efficiency of voice input systems but has also enabled seamless integration of voice commands into various applications and devices.The company's commitment to research and development has been instrumental in its success. iFlytek invests heavily in fostering talent and collaboration with academic institutions, resulting in groundbreaking advancements in speech synthesis and machine translation. Their dedication to innovation has not only transformed the way we communicate but has also enhanced accessibility for individuals with disabilities.\"\n",
    "\n",
    "text_2 = \"Moreover, iFlytek's impact extends beyond domestic boundaries, as they actively promote international cooperation and collaboration in the field of artificial intelligence. They have consistently participated in global competitions and contributed to the development of international standards.In recognition of their achievements, iFlytek has received numerous accolades and awards both domestically and internationally. Their contributions have revolutionized the way we interact with technology and have paved the way for a future where voice-based interfaces play a vital role.Overall, iFlytek is a trailblazer in the field of intelligent speech and language technologies, and their commitment to innovation and excellence deserves commendation.\"\n",
    "\n",
    "query_result = embeddings.embed_query(text_q)\n",
    "query_result[:8]"
   ]
  },
  {
   "cell_type": "code",
   "execution_count": 5,
   "metadata": {
    "ExecuteTime": {
     "end_time": "2024-03-15T09:36:54.657224Z",
     "start_time": "2024-03-15T09:36:54.404690400Z"
    }
   },
   "outputs": [
    {
     "data": {
      "text/plain": [
       "[-0.161865234375,\n",
       " 0.58984375,\n",
       " 0.998046875,\n",
       " 0.365966796875,\n",
       " 0.72900390625,\n",
       " 0.6015625,\n",
       " -0.8408203125,\n",
       " -0.2666015625]"
      ]
     },
     "execution_count": 5,
     "metadata": {},
     "output_type": "execute_result"
    }
   ],
   "source": [
    "doc_result = embeddings.embed_documents([text_1, text_2])\n",
    "doc_result[0][:8]"
   ]
  }
 ],
 "metadata": {
  "kernelspec": {
   "display_name": "Python 3 (ipykernel)",
   "language": "python",
   "name": "python3"
  },
  "language_info": {
   "name": "python"
  }
 },
 "nbformat": 4,
 "nbformat_minor": 2
}
