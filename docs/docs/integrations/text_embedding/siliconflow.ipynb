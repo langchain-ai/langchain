{
 "cells": [
  {
   "cell_type": "markdown",
   "id": "9a3d6f34",
   "metadata": {},
   "source": [
    "# SiliconFlowEmbeddings\n",
    "\n",
    "This guide will help you get started with SiliconFlow embedding models using LangChain. [SiliconFlow](https://www.siliconflow.cn/) provides free embedding model like BAAI series(bge-m3, bge-large-zh-v1.5, bge-large-en-v1.5).\n",
    "\n",
    "## Overview\n",
    "\n",
    "## Setup\n",
    "\n",
    "To access SiliconFlow embedding models you'll need to get an API key and install the required package.\n",
    "\n",
    "### Credentials\n",
    "\n",
    "Sign up at [SiliconFlow](https://www.siliconflow.cn/) to get an API key. Then set the SILICONFLOW_API_KEY environment variable:"
   ]
  },
  {
   "cell_type": "code",
   "execution_count": 1,
   "id": "36521c2a",
   "metadata": {},
   "outputs": [],
   "source": [
    "import getpass\n",
    "import os\n",
    "\n",
    "if not os.getenv(\"SILICONFLOW_API_KEY\"):\n",
    "    os.environ[\"SILICONFLOW_API_KEY\"] = getpass.getpass(\"Enter your SiliconFlow API key: \")"
   ]
  },
  {
   "cell_type": "markdown",
   "id": "c84fb993",
   "metadata": {},
   "source": [
    "To enable automated tracing of your model calls, set your [LangSmith](https://docs.smith.langchain.com/) API key:"
   ]
  },
  {
   "cell_type": "code",
   "execution_count": 2,
   "id": "39a4953b",
   "metadata": {},
   "outputs": [],
   "source": [
    "# os.environ[\"LANGSMITH_TRACING\"] = \"true\"\n",
    "# os.environ[\"LANGSMITH_API_KEY\"] = getpass.getpass(\"Enter your LangSmith API key: \")"
   ]
  },
  {
   "cell_type": "markdown",
   "id": "45dd1724",
   "metadata": {},
   "source": [
    "## Instantiation\n",
    "\n",
    "Now we can instantiate our embedding model:"
   ]
  },
  {
   "cell_type": "code",
   "execution_count": 2,
   "id": "9ea7a09b",
   "metadata": {},
   "outputs": [],
   "source": [
    "from langchain_community.embeddings import SiliconFlowEmbeddings\n",
    "\n",
    "embeddings = SiliconFlowEmbeddings(\n",
    "    model=\"BAAI/bge-m3\",  # Default model\n",
    "    encoding_format=\"float\"  # Can also use \"base64\" for compact representation\n",
    ")"
   ]
  },
  {
   "cell_type": "markdown",
   "id": "77d271b6",
   "metadata": {},
   "source": [
    "## Indexing and Retrieval\n",
    "\n",
    "Here's how to use SiliconFlow embeddings with a vector store for retrieval:"
   ]
  },
  {
   "cell_type": "code",
   "execution_count": 3,
   "id": "d817716b",
   "metadata": {},
   "outputs": [
    {
     "data": {
      "text/plain": [
       "'LangChain is the framework for building context-aware reasoning applications'"
      ]
     },
     "execution_count": 3,
     "metadata": {},
     "output_type": "execute_result"
    }
   ],
   "source": [
    "# Create a vector store with a sample text\n",
    "from langchain_core.vectorstores import InMemoryVectorStore\n",
    "\n",
    "text = \"LangChain is the framework for building context-aware reasoning applications\"\n",
    "\n",
    "vectorstore = InMemoryVectorStore.from_texts(\n",
    "    [text],\n",
    "    embedding=embeddings,\n",
    ")\n",
    "\n",
    "# Use the vectorstore as a retriever\n",
    "retriever = vectorstore.as_retriever()\n",
    "\n",
    "# Retrieve the most similar text\n",
    "retrieved_documents = retriever.invoke(\"What is LangChain?\")\n",
    "\n",
    "# show the retrieved document's content\n",
    "retrieved_documents[0].page_content"
   ]
  },
  {
   "cell_type": "markdown",
   "id": "e02b9855",
   "metadata": {},
   "source": [
    "## Direct Usage\n",
    "\n",
    "You can directly call embedding methods for your own use cases.\n",
    "\n",
    "### Embed single texts\n",
    "\n",
    "Embed single texts with `embed_query`:"
   ]
  },
  {
   "cell_type": "code",
   "execution_count": 4,
   "id": "0d2befcd",
   "metadata": {},
   "outputs": [
    {
     "name": "stdout",
     "output_type": "stream",
     "text": [
      "[-0.016242882, -0.011639526, 0.0041511594, -0.011476736, -0.017753216, -0.05202063, 0.019100761, 0.0\n"
     ]
    }
   ],
   "source": [
    "single_vector = embeddings.embed_query(text)\n",
    "print(str(single_vector)[:100])  # Show the first 100 characters of the vector"
   ]
  },
  {
   "cell_type": "markdown",
   "id": "1b5a7d03",
   "metadata": {},
   "source": [
    "### Embed multiple texts\n",
    "\n",
    "Embed multiple texts with `embed_documents`:"
   ]
  },
  {
   "cell_type": "code",
   "execution_count": 5,
   "id": "2f4d6e97",
   "metadata": {},
   "outputs": [
    {
     "name": "stdout",
     "output_type": "stream",
     "text": [
      "[-0.016259937, -0.011620699, 0.004207417, -0.011457919, -0.017770175, -0.051908806, 0.019063374, 0.0\n",
      "[-0.053298924, 0.035305943, -0.0028303568, -0.018856792, 0.007829429, -0.04366836, -0.0026994068, 0.\n"
     ]
    }
   ],
   "source": [
    "text2 = \"SiliconFlow provides fast and affordable embedding services\"\n",
    "two_vectors = embeddings.embed_documents([text, text2])\n",
    "for vector in two_vectors:\n",
    "    print(str(vector)[:100])  # Show the first 100 characters of the vector"
   ]
  },
  {
   "cell_type": "markdown",
   "id": "98785c12",
   "metadata": {},
   "source": [
    "## API Reference\n",
    "\n",
    "For detailed documentation on `SiliconFlowEmbeddings` features and configuration options, please refer to the [API reference](https://python.langchain.com/api_reference/community/embeddings/langchain_community.embeddings.siliconflow.SiliconFlowEmbeddings.html).\n"
   ]
  }
 ],
 "metadata": {
  "kernelspec": {
   "display_name": ".venv",
   "language": "python",
   "name": "python3"
  },
  "language_info": {
   "codemirror_mode": {
    "name": "ipython",
    "version": 3
   },
   "file_extension": ".py",
   "mimetype": "text/x-python",
   "name": "python",
   "nbconvert_exporter": "python",
   "pygments_lexer": "ipython3",
   "version": "3.11.9"
  }
 },
 "nbformat": 4,
 "nbformat_minor": 5
}
