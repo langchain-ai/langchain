{
 "cells": [
  {
   "cell_type": "raw",
   "id": "afaf8039",
   "metadata": {},
   "source": [
    "---\n",
    "sidebar_label: Permit\n",
    "---"
   ]
  },
  {
   "cell_type": "markdown",
   "id": "e49f1e0d",
   "metadata": {},
   "source": [
    "# PermitRetriever\n",
    "\n",
    "Permit is an access control platform that provides fine-grained, real-time permission management using various models such as RBAC, ABAC, and ReBAC. It enables organizations to enforce dynamic policies across their applications, ensuring that only authorized users can access specific resources.\n",
    "\n",
    "### Integration details\n",
    "\n",
    "This notebook illustrates how to integrate [Permit.io](https://permit.io/) permissions into LangChain retrievers.\n",
    "\n",
    "We provide two custom retrievers:\n",
    "\n",
    "- PermitSelfQueryRetriever – Uses a self-query approach to parse the user’s natural-language prompt, fetch the user’s permitted resource IDs from Permit, and apply that filter automatically in a vector store search. \n",
    " \n",
    "- PermitEnsembleRetriever – Combines multiple underlying retrievers (e.g., BM25 + Vector) via LangChain’s EnsembleRetriever, then filters the merged results with Permit.io.\n",
    "\n",
    "## Setup\n",
    "\n",
    "Install the package with the command:\n",
    "\n",
    "```bash\n",
    "pip install langchain-permit\n",
    "```"
   ]
  },
  {
   "cell_type": "markdown",
   "id": "72ee0c4b-9764-423a-9dbf-95129e185210",
   "metadata": {},
   "source": [
    "If you want to get automated tracing from individual queries, you can also set your [LangSmith](https://docs.smith.langchain.com/) API key by uncommenting below:"
   ]
  },
  {
   "cell_type": "code",
   "execution_count": null,
   "id": "a15d341e-3e26-4ca3-830b-5aab30ed66de",
   "metadata": {},
   "outputs": [],
   "source": [
    "# os.environ[\"LANGSMITH_API_KEY\"] = getpass.getpass(\"Enter your LangSmith API key: \")\n",
    "# os.environ[\"LANGSMITH_TRACING\"] = \"true\""
   ]
  },
  {
   "cell_type": "markdown",
   "id": "0730d6a1-c893-4840-9817-5e5251676d5d",
   "metadata": {},
   "source": [
    "### Installation\n",
    "\n",
    "```bash\n",
    "pip install langchain-permit\n",
    "```\n",
    "\n",
    "#### Environment Variables\n",
    "\n",
    "```bash\n",
    "PERMIT_API_KEY=your_api_key\n",
    "PERMIT_PDP_URL= # or your real deployment\n",
    "OPENAI_API_KEY=sk-...\n",
    "```\n",
    "- A running Permit PDP. See [Permit docs](https://docs.permit.io/) for details on setting up your policy and container.\n",
    "- A vector store or multiple retrievers that we can wrap."
   ]
  },
  {
   "cell_type": "code",
   "execution_count": null,
   "id": "652d6238-1f87-422a-b135-f5abbb8652fc",
   "metadata": {},
   "outputs": [],
   "source": [
    "%pip install -qU langchain-permit"
   ]
  },
  {
   "cell_type": "markdown",
   "id": "a38cde65-254d-4219-a441-068766c0d4b5",
   "metadata": {},
   "source": [
    "## Instantiation\n",
    "\n",
    "### PermitSelfQueryRetriever\n",
    "\n",
    "#### Basic Explanation\n",
    "\n",
    "1. Retrieves permitted document IDs from Permit.  \n",
    "\n",
    "2. Uses an LLM to parse your query and build a “structured filter,” ensuring only docs with those permitted IDs are considered.\n",
    "\n",
    "#### Basic Usage\n",
    "\n",
    "```python\n",
    "from langchain_openai import OpenAIEmbeddings\n",
    "from langchain_community.vectorstores import FAISS\n",
    "from langchain_permit.retrievers import PermitSelfQueryRetriever\n",
    "\n",
    "# Step 1: Create / load some documents and build a vector store\n",
    "docs = [...]\n",
    "embeddings = OpenAIEmbeddings()\n",
    "vectorstore = FAISS.from_documents(docs, embeddings)\n",
    "\n",
    "# Step 2: Initialize the retriever\n",
    "retriever = PermitSelfQueryRetriever(\n",
    "    api_key=\"...\",\n",
    "    pdp_url=\"...\",\n",
    "    user={\"key\": \"user-123\"},\n",
    "    resource_type=\"document\",\n",
    "    action=\"read\",\n",
    "    llm=...,                # Typically a ChatOpenAI or other LLM\n",
    "    vectorstore=vectorstore,\n",
    "    enable_limit=True,      # optional\n",
    ")\n",
    "\n",
    "# Step 3: Query\n",
    "query = \"Give me docs about cats\"\n",
    "results = retriever.get_relevant_documents(query)\n",
    "for doc in results:\n",
    "    print(doc.metadata.get(\"id\"), doc.page_content)\n",
    "```\n",
    "\n",
    "### PermitEnsembleRetriever\n",
    "\n",
    "#### Basic Explanation\n",
    "\n",
    "1. Uses LangChain’s EnsembleRetriever to gather documents from multiple sub-retrievers (e.g., vector-based, BM25, etc.).\n",
    "2. After retrieving documents, it calls filter_objects on Permit to eliminate any docs the user isn’t allowed to see.\n",
    "\n",
    "#### Basic Usage\n",
    "\n",
    "```python\n",
    "from langchain_community.retrievers import BM25Retriever\n",
    "from langchain_core.documents import Document\n",
    "from langchain_permit.retrievers import PermitEnsembleRetriever\n",
    "\n",
    "# Suppose we have two child retrievers: bm25_retriever, vector_retriever\n",
    "...\n",
    "ensemble_retriever = PermitEnsembleRetriever(\n",
    "    api_key=\"...\",\n",
    "    pdp_url=\"...\",\n",
    "    user=\"user_abc\",\n",
    "    action=\"read\",\n",
    "    resource_type=\"document\",\n",
    "    retrievers=[bm25_retriever, vector_retriever],\n",
    "    weights=None\n",
    ")\n",
    "\n",
    "docs = ensemble_retriever.get_relevant_documents(\"Query about cats\")\n",
    "for doc in docs:\n",
    "    print(doc.metadata.get(\"id\"), doc.page_content)\n",
    "```\n",
    "\n",
    "### Demo Scripts\n",
    "\n",
    "For more complete demos, check out the `/langchain_permit/examples/demo_scripts` folder:\n",
    "\n",
    "1. demo_self_query.py – Demonstrates PermitSelfQueryRetriever.\n",
    "2. demo_ensemble.py – Demonstrates PermitEnsembleRetriever.\n",
    "\n",
    "Each script shows how to build or load documents, configure Permit, and run queries.\n",
    "\n",
    "### Conclusion\n",
    "\n",
    "With these custom retrievers, you can seamlessly integrate Permit.io’s permission checks into LangChain’s retrieval workflow. You can keep your application’s vector search logic while ensuring only authorized documents are returned.\n",
    "\n",
    "For more details on setting up Permit policies, see the official Permit docs. If you want to combine these with other tools (like JWT validation or a broader RAG pipeline), check out our docs/tools.ipynb in the examples folder."
   ]
  },
  {
   "cell_type": "code",
   "execution_count": null,
   "id": "70cc8e65-2a02-408a-bbc6-8ef649057d82",
   "metadata": {},
   "outputs": [],
   "source": [
    "from langchain_permit import PermitRetriever\n",
    "\n",
    "retriever = PermitRetriever(\n",
    "    # ...\n",
    ")"
   ]
  },
  {
   "cell_type": "markdown",
   "id": "5c5f2839-4020-424e-9fc9-07777eede442",
   "metadata": {},
   "source": [
    "## Usage"
   ]
  },
  {
   "cell_type": "markdown",
   "id": "c70ae8ab",
   "metadata": {},
   "source": []
  },
  {
   "cell_type": "code",
   "execution_count": null,
   "id": "51a60dbe-9f2e-4e04-bb62-23968f17164a",
   "metadata": {},
   "outputs": [],
   "source": [
    "query = \"...\"\n",
    "\n",
    "retriever.invoke(query)"
   ]
  },
  {
   "cell_type": "markdown",
   "id": "dfe8aad4-8626-4330-98a9-7ea1ca5d2e0e",
   "metadata": {},
   "source": [
    "## Use within a chain\n",
    "\n",
    "Like other retrievers, PermitRetriever can be incorporated into LLM applications via [chains](https://docs.permit.io/).\n",
    "\n",
    "We will need a LLM or chat model:\n",
    "\n",
    "import ChatModelTabs from \"@theme/ChatModelTabs\";\n",
    "\n",
    "<ChatModelTabs customVarName=\"llm\" />"
   ]
  },
  {
   "cell_type": "code",
   "execution_count": null,
   "id": "25b647a3-f8f2-4541-a289-7a241e43f9df",
   "metadata": {},
   "outputs": [],
   "source": [
    "# | output: false\n",
    "# | echo: false\n",
    "\n",
    "from langchain_openai import ChatOpenAI\n",
    "\n",
    "llm = ChatOpenAI(model=\"gpt-3.5-turbo-0125\", temperature=0)"
   ]
  },
  {
   "cell_type": "code",
   "execution_count": null,
   "id": "23e11cc9-abd6-4855-a7eb-799f45ca01ae",
   "metadata": {},
   "outputs": [],
   "source": [
    "from langchain_core.output_parsers import StrOutputParser\n",
    "from langchain_core.prompts import ChatPromptTemplate\n",
    "from langchain_core.runnables import RunnablePassthrough\n",
    "\n",
    "prompt = ChatPromptTemplate.from_template(\n",
    "    \"\"\"Answer the question based only on the context provided.\n",
    "\n",
    "Context: {context}\n",
    "\n",
    "Question: {question}\"\"\"\n",
    ")\n",
    "\n",
    "\n",
    "def format_docs(docs):\n",
    "    return \"\\n\\n\".join(doc.page_content for doc in docs)\n",
    "\n",
    "\n",
    "chain = (\n",
    "    {\"context\": retriever | format_docs, \"question\": RunnablePassthrough()}\n",
    "    | prompt\n",
    "    | llm\n",
    "    | StrOutputParser()\n",
    ")"
   ]
  },
  {
   "cell_type": "code",
   "execution_count": null,
   "id": "d47c37dd-5c11-416c-a3b6-bec413cd70e8",
   "metadata": {},
   "outputs": [],
   "source": [
    "chain.invoke(\"...\")"
   ]
  },
  {
   "cell_type": "markdown",
   "id": "3a5bb5ca-c3ae-4a58-be67-2cd18574b9a3",
   "metadata": {},
   "source": [
    "## API reference\n",
    "\n",
    "For detailed documentation of all PermitRetriever features and configurations head to the [Repo](https://github.com/permitio/langchain-permit/tree/master/langchain_permit/examples/demo_scripts)."
   ]
  }
 ],
 "metadata": {
  "kernelspec": {
   "display_name": "Python 3 (ipykernel)",
   "language": "python",
   "name": "python3"
  },
  "language_info": {
   "codemirror_mode": {
    "name": "ipython",
    "version": 3
   },
   "file_extension": ".py",
   "mimetype": "text/x-python",
   "name": "python",
   "nbconvert_exporter": "python",
   "pygments_lexer": "ipython3",
   "version": "3.10.4"
  }
 },
 "nbformat": 4,
 "nbformat_minor": 5
}
