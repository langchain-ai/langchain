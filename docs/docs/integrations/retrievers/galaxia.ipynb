{
 "cells": [
  {
   "cell_type": "markdown",
   "id": "df671dca-3626-434f-aeed-6dcbefca1541",
   "metadata": {},
   "source": [
    "# Galaxia Retriever\n",
    "\n",
    "Galaxia is GraphRAG solution, which automates document processing, knowledge base (Graph Language Model) creation and retrieval:\n",
    "https://smabbler.gitbook.io/smabbler/api-rag/smabblers-api-rag\n",
    "\n",
    "To use Galaxia first upload your texts and create a Graph Language Model here: `https://beta.cloud.smabbler.com`\n",
    "\n",
    "After the model is built and activated, you will be able to use this integration to retrieve what you need through an API."
   ]
  },
  {
   "cell_type": "markdown",
   "id": "82fa1c05-c205-4429-a74c-e6c81c4e8611",
   "metadata": {},
   "source": [
    "# Setup\n",
    "Before you can retrieve anything you need to create your Graph Language Model here: `https://beta.cloud.smabbler.com`\n",
    "following these 3 simple steps: `https://smabbler.gitbook.io/smabbler/api-rag/build-rag-model-in-3-steps`\n",
    "\n",
    "Don't forget to activate the model!"
   ]
  },
  {
   "cell_type": "markdown",
   "id": "91897867-eb39-4c3b-8df8-5427043ecdcd",
   "metadata": {},
   "source": [
    "# Installation\n",
    "The retriever is implemented in this package: `https://pypi.org/project/langchain-galaxia-retriever/`"
   ]
  },
  {
   "cell_type": "code",
   "execution_count": null,
   "id": "ceca36f2-013c-4b28-81fe-8808d0cf6419",
   "metadata": {},
   "outputs": [],
   "source": [
    "%pip install -qU langchain-galaxia-retriever"
   ]
  },
  {
   "cell_type": "markdown",
   "id": "019e0e50-5e66-440b-9cf1-d21b4009bf13",
   "metadata": {},
   "source": [
    "# Instantiation"
   ]
  },
  {
   "cell_type": "code",
   "execution_count": null,
   "id": "c7188217-4b26-4201-b15a-b7a5f263f815",
   "metadata": {},
   "outputs": [],
   "source": [
    "from langchain_galaxia_retriever.retriever import GalaxiaRetriever\n",
    "\n",
    "gr = GalaxiaRetriever(\n",
    "    api_url=\"beta.api.smabbler.com\",\n",
    "    api_key=\"<key>\", # you can find it here: https://beta.cloud.smabbler.com/user/account\n",
    "    knowledge_base_id=\"<knowledge_base_id>\", # you can find it in https://beta.cloud.smabbler.com , in the model table\n",
    "    n_retries=10,\n",
    "    wait_time=5,\n",
    ")"
   ]
  },
  {
   "cell_type": "markdown",
   "id": "02d288a5-4f76-472e-9a60-eea8e6b8dc7a",
   "metadata": {},
   "source": [
    "# Retrieval"
   ]
  },
  {
   "cell_type": "code",
   "execution_count": null,
   "id": "5f79e03f-77a6-4eb6-b41d-f3da2f897654",
   "metadata": {},
   "outputs": [],
   "source": [
    "result = gr.invoke('<test question>')\n",
    "print(result)"
   ]
  }
 ],
 "metadata": {
  "kernelspec": {
   "display_name": "Python 3 (ipykernel)",
   "language": "python",
   "name": "python3"
  },
  "language_info": {
   "codemirror_mode": {
    "name": "ipython",
    "version": 3
   },
   "file_extension": ".py",
   "mimetype": "text/x-python",
   "name": "python",
   "nbconvert_exporter": "python",
   "pygments_lexer": "ipython3",
   "version": "3.11.7"
  }
 },
 "nbformat": 4,
 "nbformat_minor": 5
}
