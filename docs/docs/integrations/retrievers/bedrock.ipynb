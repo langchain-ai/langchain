{
 "cells": [
  {
   "cell_type": "raw",
   "id": "b0872249-1af5-4d54-b816-1babad7a8c9e",
   "metadata": {},
   "source": [
    "---\n",
    "sidebar_label: Bedrock (Knowledge Bases)\n",
    "---"
   ]
  },
  {
   "cell_type": "markdown",
   "id": "b6636c27-35da-4ba7-8313-eca21660cab3",
   "metadata": {},
   "source": [
    "# Bedrock (Knowledge Bases) Retriever\n",
    "\n",
    "This guide will help you getting started with the AWS Knowledge Bases [retriever](/docs/concepts/retrievers).\n",
    "\n",
    "[Knowledge Bases for Amazon Bedrock](https://aws.amazon.com/bedrock/knowledge-bases/) is an Amazon Web Services (AWS) offering which lets you quickly build RAG applications by using your private data to customize FM response.\n",
    "\n",
    "Implementing `RAG` requires organizations to perform several cumbersome steps to convert data into embeddings (vectors), store the embeddings in a specialized vector database, and build custom integrations into the database to search and retrieve text relevant to the user’s query. This can be time-consuming and inefficient.\n",
    "\n",
    "With `Knowledge Bases for Amazon Bedrock`, simply point to the location of your data in `Amazon S3`, and `Knowledge Bases for Amazon Bedrock` takes care of the entire ingestion workflow into your vector database. If you do not have an existing vector database, Amazon Bedrock creates an Amazon OpenSearch Serverless vector store for you. For retrievals, use the Langchain - Amazon Bedrock integration via the Retrieve API to retrieve relevant results for a user query from knowledge bases.\n",
    "\n",
    "### Integration details\n",
    "\n",
    "import {ItemTable} from \"@theme/FeatureTables\";\n",
    "\n",
    "<ItemTable category=\"document_retrievers\" item=\"AmazonKnowledgeBasesRetriever\" />\n"
   ]
  },
  {
   "cell_type": "markdown",
   "id": "cd092536-61bd-4b3f-9050-076daccc9e72",
   "metadata": {},
   "source": [
    "## Setup\n",
    "\n",
    "Knowledge Bases can be configured through [AWS Console](https://aws.amazon.com/console/) or by using [AWS SDKs](https://aws.amazon.com/developer/tools/). We will need the `knowledge_base_id` to instantiate the retriever."
   ]
  },
  {
   "cell_type": "markdown",
   "id": "238c0ceb-d4b6-409e-bed9-d30143d2f2c9",
   "metadata": {},
   "source": [
    "If you want to get automated tracing from individual queries, you can also set your [LangSmith](https://docs.smith.langchain.com/) API key by uncommenting below:"
   ]
  },
  {
   "cell_type": "code",
   "execution_count": null,
   "id": "e4426098-820c-48dc-9826-056a91bebe9e",
   "metadata": {},
   "outputs": [],
   "source": [
    "# os.environ[\"LANGSMITH_API_KEY\"] = getpass.getpass(\"Enter your LangSmith API key: \")\n",
    "# os.environ[\"LANGSMITH_TRACING\"] = \"true\""
   ]
  },
  {
   "cell_type": "markdown",
   "id": "4ede6277-ea56-45f6-8ef4-fe14734ee279",
   "metadata": {},
   "source": [
    "### Installation\n",
    "\n",
    "This retriever lives in the `langchain-aws` package:"
   ]
  },
  {
   "cell_type": "code",
   "execution_count": null,
   "id": "4db1af24-0969-43bd-8438-af5e3024b0d0",
   "metadata": {},
   "outputs": [],
   "source": [
    "%pip install -qU langchain-aws"
   ]
  },
  {
   "cell_type": "markdown",
   "id": "b34c8cbe-c6e5-4398-adf1-4925204bcaed",
   "metadata": {},
   "source": [
    "## Instantiation\n",
    "\n",
    "Now we can instantiate our retriever:"
   ]
  },
  {
   "cell_type": "code",
   "execution_count": 1,
   "id": "30337664-8844-4dfe-97db-077abb51af68",
   "metadata": {},
   "outputs": [],
   "source": [
    "from langchain_aws.retrievers import AmazonKnowledgeBasesRetriever\n",
    "\n",
    "retriever = AmazonKnowledgeBasesRetriever(\n",
    "    knowledge_base_id=\"PUIJP4EQUA\",\n",
    "    retrieval_config={\"vectorSearchConfiguration\": {\"numberOfResults\": 4}},\n",
    ")"
   ]
  },
  {
   "cell_type": "markdown",
   "id": "9dff39f8-b6ba-41bf-b95b-d345928ed07d",
   "metadata": {},
   "source": [
    "## Usage"
   ]
  },
  {
   "cell_type": "code",
   "execution_count": null,
   "id": "f9fefa50-f0fb-40e3-b4e4-67c5b232a090",
   "metadata": {},
   "outputs": [],
   "source": [
    "query = \"What did the president say about Ketanji Brown?\"\n",
    "\n",
    "retriever.invoke(query)"
   ]
  },
  {
   "cell_type": "markdown",
   "id": "7de9b61b-597b-4aba-95fb-49d11e84510e",
   "metadata": {},
   "source": [
    "## Use within a chain"
   ]
  },
  {
   "cell_type": "code",
   "execution_count": null,
   "id": "0fd71709-aaed-42b5-a990-e3067bfa7143",
   "metadata": {},
   "outputs": [],
   "source": [
    "from botocore.client import Config\n",
    "from langchain.chains import RetrievalQA\n",
    "from langchain_aws import Bedrock\n",
    "\n",
    "model_kwargs_claude = {\"temperature\": 0, \"top_k\": 10, \"max_tokens_to_sample\": 3000}\n",
    "\n",
    "llm = Bedrock(model_id=\"anthropic.claude-v2\", model_kwargs=model_kwargs_claude)\n",
    "\n",
    "qa = RetrievalQA.from_chain_type(\n",
    "    llm=llm, retriever=retriever, return_source_documents=True\n",
    ")\n",
    "\n",
    "qa(query)"
   ]
  },
  {
   "cell_type": "markdown",
   "id": "22e2538a-e042-4997-bb81-b68ecb27d665",
   "metadata": {},
   "source": [
    "## API reference\n",
    "\n",
    "For detailed documentation of all `AmazonKnowledgeBasesRetriever` features and configurations head to the [API reference](https://python.langchain.com/api_reference/aws/retrievers/langchain_aws.retrievers.bedrock.AmazonKnowledgeBasesRetriever.html)."
   ]
  }
 ],
 "metadata": {
  "kernelspec": {
   "display_name": "Python 3 (ipykernel)",
   "language": "python",
   "name": "python3"
  },
  "language_info": {
   "codemirror_mode": {
    "name": "ipython",
    "version": 3
   },
   "file_extension": ".py",
   "mimetype": "text/x-python",
   "name": "python",
   "nbconvert_exporter": "python",
   "pygments_lexer": "ipython3",
   "version": "3.10.4"
  }
 },
 "nbformat": 4,
 "nbformat_minor": 5
}
