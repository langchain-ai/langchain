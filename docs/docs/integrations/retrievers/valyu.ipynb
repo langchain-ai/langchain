{
 "cells": [
  {
   "cell_type": "markdown",
   "metadata": {},
   "source": [
    "# ValyuContext\n",
    "\n",
    ">[Valyu](https://www.valyu.network/) allows AI applications and agents to search the internet and proprietary data sources for relevant LLM ready information.\n",
    "\n",
    "This notebook goes over how to use Valyu deep search tool in LangChain.\n",
    "\n",
    "First, get an Valyu API key and add it as an environment variable. Get $10 free credit  by [signing up here](https://platform.valyu.network/).\n",
    "\n",
    "## Setup\n",
    "\n",
    "The integration lives in the `langchain-valyu` package."
   ]
  },
  {
   "cell_type": "code",
   "execution_count": null,
   "metadata": {},
   "outputs": [],
   "source": [
    "%pip install -qU langchain-valyu"
   ]
  },
  {
   "cell_type": "markdown",
   "metadata": {},
   "source": [
    "In order to use the package, you will also need to set the `VALYU_API_KEY` environment variable to your Valyu API key."
   ]
  },
  {
   "cell_type": "code",
   "execution_count": null,
   "metadata": {},
   "outputs": [],
   "source": [
    "import os\n",
    "\n",
    "valyu_api_key = os.environ[\"VALYU_API_KEY\"]"
   ]
  },
  {
   "cell_type": "markdown",
   "metadata": {},
   "source": [
    "## Instantiation\n",
    "\n",
    "Now we can instantiate our retriever:\n",
    "The `ValyuRetriever` can be configured with several parameters:\n",
    "\n",
    "- `k: int = 10`  \n",
    "  The number of top results to return for each query.\n",
    "\n",
    "- `search_type: str = \"all\"`  \n",
    "  The type of search to perform: 'all', 'proprietary', or 'web'. Defaults to 'all'.\n",
    "\n",
    "- `relevance_threshold: float = 0.5`  \n",
    "  The minimum relevance score (between 0 and 1) required for a document to be considered relevant. Defaults to 0.5.\n",
    "  \n",
    "- `max_price: float = 50.0`\n",
    "  The maximum price (in USD) you are willing to spend per query. Defaults to 50.0.\n",
    "\n",
    "- `is_tool_call: bool = True`\n",
    "  Set to True when called by AI agents/tools (optimized for LLM consumption). Defaults to True.\n",
    "\n",
    "- `start_date: Optional[str] = None`\n",
    "  Start date for time filtering in YYYY-MM-DD format (optional).\n",
    "\n",
    "- `end_date: Optional[str] = None`\n",
    "  End date for time filtering in YYYY-MM-DD format (optional).\n",
    "\n",
    "- `included_sources: Optional[List[str]] = None`\n",
    "  List of URLs, domains, or datasets to include in search results (optional).\n",
    "\n",
    "- `excluded_sources: Optional[List[str]] = None`\n",
    "  List of URLs, domains, or datasets to exclude from search results (optional).\n",
    "\n",
    "- `response_length: Optional[Union[int, str]] = None`\n",
    "  Content length per item: int for character count, or 'short' (25k), 'medium' (50k), 'large' (100k), 'max' (full content) (optional).\n",
    "\n",
    "- `country_code: Optional[str] = None`\n",
    "  2-letter ISO country code (e.g., 'GB', 'US') to bias search results to a specific country (optional).\n",
    "\n",
    "- `fast_mode: bool = False`\n",
    "  Enable fast mode for faster but shorter results. Defaults to False.\n",
    "\n",
    "- `client: Optional[Valyu] = None`  \n",
    "  An optional custom Valyu client instance. If not provided, a new client will be created internally.\n",
    "  \n",
    "- `valyu_api_key: Optional[str] = None`  \n",
    "  Your Valyu API key. If not provided, the retriever will look for the `VALYU_API_KEY` environment variable."
   ]
  },
  {
   "cell_type": "code",
   "execution_count": null,
   "metadata": {},
   "outputs": [],
   "source": [
    "from langchain_valyu import ValyuRetriever\n",
    "\n",
    "retriever = ValyuRetriever(\n",
    "    k=5,\n",
    "    search_type=\"all\",\n",
    "    relevance_threshold=0.5,\n",
    "    max_price=30.0,\n",
    "    start_date=\"2024-01-01\",\n",
    "    end_date=\"2024-12-31\",\n",
    "    client=None,\n",
    "    valyu_api_key=os.environ[\"VALYU_API_KEY\"],\n",
    ")"
   ]
  },
  {
   "cell_type": "markdown",
   "metadata": {},
   "source": [
    "## Usage"
   ]
  },
  {
   "cell_type": "code",
   "execution_count": null,
   "metadata": {},
   "outputs": [],
   "source": [
    "query = \"What are the benefits of renewable energy?\"\n",
    "docs = retriever.invoke(query)\n",
    "\n",
    "for doc in docs:\n",
    "    print(doc.page_content)\n",
    "    print(doc.metadata)"
   ]
  },
  {
   "cell_type": "markdown",
   "metadata": {},
   "source": [
    "## Use within a chain\n",
    "\n",
    "We can easily combine this retriever in to a chain."
   ]
  },
  {
   "cell_type": "markdown",
   "metadata": {},
   "source": [
    "## Content Extraction Retriever\n",
    "\n",
    "The package also includes a `ValyuContentsRetriever` for extracting content from specific URLs:\n"
   ]
  },
  {
   "cell_type": "code",
   "execution_count": null,
   "metadata": {},
   "outputs": [],
   "source": [
    "from langchain_valyu import ValyuContentsRetriever\n",
    "\n",
    "# Initialize the contents retriever with specific URLs\n",
    "contents_retriever = ValyuContentsRetriever(\n",
    "    urls=[\n",
    "        \"https://www.example.com/article1\",\n",
    "        \"https://www.example.com/article2\"\n",
    "    ],\n",
    "    summary=True,  # Enable content summarization\n",
    "    extract_effort=\"normal\",  # Extraction effort level\n",
    "    response_length=\"medium\",  # Content length preference\n",
    "    valyu_api_key=os.environ[\"VALYU_API_KEY\"],\n",
    ")\n",
    "\n",
    "# Extract content from the configured URLs\n",
    "# Note: The query parameter is not used for pre-configured URLs\n",
    "docs = contents_retriever.invoke(\"extract content\")\n",
    "\n",
    "for doc in docs:\n",
    "    print(doc.page_content)\n",
    "    print(doc.metadata)\n"
   ]
  },
  {
   "cell_type": "code",
   "execution_count": null,
   "metadata": {},
   "outputs": [],
   "source": [
    "from langchain_core.output_parsers import StrOutputParser\n",
    "from langchain_core.prompts import ChatPromptTemplate\n",
    "from langchain_core.runnables import RunnablePassthrough\n",
    "from langchain_openai import ChatOpenAI\n",
    "\n",
    "prompt = ChatPromptTemplate.from_template(\n",
    "    \"\"\"Answer the question based only on the context provided.\n",
    "\n",
    "Context: {context}\n",
    "\n",
    "Question: {question}\"\"\"\n",
    ")\n",
    "\n",
    "llm = ChatOpenAI(model=\"gpt-4o-mini\")\n",
    "\n",
    "\n",
    "def format_docs(docs):\n",
    "    return \"\\n\\n\".join(doc.page_content for doc in docs)\n",
    "\n",
    "\n",
    "chain = (\n",
    "    {\"context\": retriever | format_docs, \"question\": RunnablePassthrough()}\n",
    "    | prompt\n",
    "    | llm\n",
    "    | StrOutputParser()\n",
    ")"
   ]
  },
  {
   "cell_type": "markdown",
   "metadata": {},
   "source": [
    "## API reference\n",
    "\n",
    "For detailed documentation of all Valyu Context API features and configurations head to the API reference: https://docs.valyu.network/overview"
   ]
  }
 ],
 "metadata": {
  "language_info": {
   "name": "python"
  }
 },
 "nbformat": 4,
 "nbformat_minor": 2
}
