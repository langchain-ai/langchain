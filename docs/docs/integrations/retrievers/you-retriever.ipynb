{
 "cells": [
  {
   "cell_type": "markdown",
   "id": "818fc023",
   "metadata": {},
   "source": [
    "# You.com\n",
    "\n",
    ">[you.com API](https://api.you.com) is a suite of tools designed to help developers ground the output of LLMs in the most recent, most accurate, most relevant information that may not have been included in their training dataset."
   ]
  },
  {
   "cell_type": "markdown",
   "id": "02335552",
   "metadata": {},
   "source": [
    "## Setup"
   ]
  },
  {
   "cell_type": "markdown",
   "id": "c5c53f28",
   "metadata": {},
   "source": [
    "The retriever lives in the `langchain-community` package.\n",
    "\n",
    "You also need to set your you.com API key."
   ]
  },
  {
   "cell_type": "code",
   "execution_count": null,
   "id": "6d091ccb",
   "metadata": {},
   "outputs": [],
   "source": [
    "%pip install --upgrade --quiet langchain-community"
   ]
  },
  {
   "cell_type": "code",
   "execution_count": 4,
   "id": "f43dd867",
   "metadata": {},
   "outputs": [],
   "source": [
    "import os\n",
    "\n",
    "os.environ[\"YDC_API_KEY\"] = \"\"\n",
    "\n",
    "# For use in Chaining section\n",
    "os.environ[\"OPENAI_API_KEY\"] = \"\"\n",
    "\n",
    "## ALTERNATIVE: load YDC_API_KEY from a .env file\n",
    "\n",
    "# !pip install --quiet -U python-dotenv\n",
    "# import dotenv\n",
    "# dotenv.load_dotenv()"
   ]
  },
  {
   "cell_type": "markdown",
   "id": "17e70216",
   "metadata": {},
   "source": [
    "It's also helpful (but not needed) to set up [LangSmith](https://smith.langchain.com/) for best-in-class observability"
   ]
  },
  {
   "cell_type": "code",
   "execution_count": 5,
   "id": "ce49fa4c",
   "metadata": {},
   "outputs": [],
   "source": [
    "# os.environ[\"LANGSMITH_TRACING\"] = \"true\"\n",
    "# os.environ[\"LANGSMITH_API_KEY\"] = getpass.getpass()\n",
    "# os.environ[\"LANGSMITH_PROJECT\"] = 'Experimentz'"
   ]
  },
  {
   "cell_type": "markdown",
   "id": "2278de15",
   "metadata": {},
   "source": [
    "## Utility Usage"
   ]
  },
  {
   "cell_type": "code",
   "execution_count": null,
   "id": "ab11b2e0",
   "metadata": {},
   "outputs": [],
   "source": [
    "from langchain_community.utilities import YouSearchAPIWrapper\n",
    "\n",
    "utility = YouSearchAPIWrapper(num_web_results=1)\n",
    "\n",
    "utility"
   ]
  },
  {
   "cell_type": "code",
   "execution_count": 77,
   "id": "2656a45d",
   "metadata": {},
   "outputs": [
    {
     "name": "stdout",
     "output_type": "stream",
     "text": [
      "1\n",
      "[\n",
      "  {\n",
      "    \"description\": \"Be prepared with the most accurate 10-day forecast for Manhattan, NY with highs, lows, chance of precipitation from The Weather Channel and Weather.com\",\n",
      "    \"snippets\": [\n",
      "      \"10 Day Weather-Manhattan, NY\\nToday43\\u00b0/39\\u00b01%\\nToday\\nSun 31 | Day\\nGenerally cloudy. High 43F. Winds W at 10 to 15 mph.\\n- Humidity54%\\n- UV Index0 of 11\\n- Sunrise7:19 am\\n- Sunset4:38 pm\\nSun 31 | Night\\nCloudy. Low 39F. Winds light and variable.\\n- Humidity70%\\n- UV Index0 of 11\\n- Moonrise9:13 pmWaning Gibbous\\n- Moonset10:28 am\\nMon 0145\\u00b0/33\\u00b07%\\nMon 01\\nMon 01 | Day\\nConsiderable cloudiness. High around 45F. Winds light and variable.\\n- Humidity71%\\n- UV Index1 of 11\\n- Sunrise7:19 am\\n- Sunset4:39 pm\\nMon 01 | Night\\nA few clouds. Low 33F. Winds NNW at 5 to 10 mph.\\n- Humidity64%\\n- UV Index0 of 11\\n- Moonrise10:14 pmWaning Gibbous\\n- Moonset10:49 am\\nTue 0246\\u00b0/35\\u00b04%\\nTue 02\\nTue 02 | Day\\nMainly sunny. High 46F. Winds NW at 5 to 10 mph.\\n- Humidity52%\\n- UV Index2 of 11\\n- Sunrise7:19 am\\n- Sunset4:40 pm\\nTue 02 | Night\\nA few clouds overnight. Low around 35F. Winds W at 5 to 10 mph.\\n- Humidity64%\\n- UV Index0 of 11\\n- Moonrise11:13 pmWaning Gibbous\\n- Moonset11:08 am\\nWed 0346\\u00b0/38\\u00b04%\\nWed 03\\nWed 03 | Day\",\n",
      "      \"Radar\\nLatest News\\nOur Changing World\\nYour Privacy\\nTo personalize your product experience, we collect data from your device. We also may use or disclose to specific data vendors your precise geolocation data to provide the Services. To learn more please refer to our Privacy Policy.\\nChoose how my information is shared\",\n",
      "      \"- Humidity82%\\n- UV Index1 of 11\\n- Sunrise7:18 am\\n- Sunset4:34 pm\\nTue 26 | Night\\nCloudy with light rain developing after midnight. Low 47F. Winds light and variable. Chance of rain 80%.\\n- Humidity90%\\n- UV Index0 of 11\\n- Moonrise4:00 pmFull Moon\\n- Moonset7:17 am\\nWed 2754\\u00b0/49\\u00b093%\\nWed 27\\nWed 27 | Day\\nRain. High 54F. Winds E at 5 to 10 mph. Chance of rain 90%. Rainfall near a half an inch.\\n- Humidity93%\\n- UV Index1 of 11\\n- Sunrise7:18 am\\n- Sunset4:35 pm\\nWed 27 | Night\\nSteady light rain in the evening. Showers continuing late. Low 49F. Winds light and variable. Chance of rain 70%.\\n- Humidity91%\\n- UV Index0 of 11\\n- Moonrise4:59 pmFull Moon\\n- Moonset8:12 am\\nThu 2853\\u00b0/42\\u00b019%\\nThu 28\\nThu 28 | Day\\nCloudy skies early will become partly cloudy later in the day. Slight chance of a rain shower. High 53F. Winds WSW at 5 to 10 mph.\\n- Humidity77%\\n- UV Index1 of 11\\n- Sunrise7:18 am\\n- Sunset4:36 pm\\nThu 28 | Night\\nPartly cloudy skies. Low 42F. Winds W at 5 to 10 mph.\\n- Humidity71%\\n- UV Index0 of 11\",\n",
      "      \"- Moonrise2:20 amWaning Crescent\\n- Moonset12:33 pm\\nSun 0740\\u00b0/29\\u00b019%\\nSun 07\\nSun 07 | Day\\nIntervals of clouds and sunshine. High around 40F. Winds NW at 5 to 10 mph.\\n- Humidity57%\\n- UV Index2 of 11\\n- Sunrise7:19 am\\n- Sunset4:44 pm\\nSun 07 | Night\\nA few clouds from time to time. Low 29F. Winds NNW at 5 to 10 mph.\\n- Humidity60%\\n- UV Index0 of 11\\n- Moonrise3:28 amWaning Crescent\\n- Moonset1:04 pm\\nMon 0840\\u00b0/32\\u00b035%\\nMon 08\\nMon 08 | Day\\nPartly cloudy early followed mostly cloudy skies and a few snow showers later in the day. High near 40F. Winds N at 5 to 10 mph. Chance of snow 40%.\\n- UV Index1 of 11\\n- Sunrise7:19 am\\n- Sunset4:45 pm\\nMon 08 | Night\\nVariable clouds with snow showers or flurries. Low 32F. Winds NNE at 5 to 10 mph. Chance of snow 60%. Snow accumulations less than one inch.\\n- UV Index0 of 11\\n- Moonrise4:40 amWaning Crescent\\n- Moonset1:43 pm\\nLatest News\\nOur Changing World\\nYour Privacy\",\n",
      "      \"- Humidity91%\\n- UV Index0 of 11\\n- Moonrise5:50 amWaning Crescent\\n- Moonset2:35 pm\\nWed 1056\\u00b0/39\\u00b034%\\nWed 10\\nWed 10 | Day\\nA shower or two possible early with partly cloudy skies in the afternoon. Morning high of 56F with temps falling to near 45. Winds SW at 15 to 25 mph. Chance of rain 30%.\\n- Humidity66%\\n- UV Index1 of 11\\n- Sunrise7:19 am\\n- Sunset4:47 pm\\nWed 10 | Night\\nA few clouds from time to time. Low 39F. Winds WSW at 10 to 20 mph.\\n- Humidity64%\\n- UV Index0 of 11\\n- Moonrise6:56 amWaning Crescent\\n- Moonset3:38 pm\\nThu 1147\\u00b0/38\\u00b05%\\nThu 11\\nThu 11 | Day\\nPartly cloudy. High 47F. Winds WSW at 5 to 10 mph.\\n- Humidity62%\\n- UV Index2 of 11\\n- Sunrise7:19 am\\n- Sunset4:48 pm\\nThu 11 | Night\\nMostly clear skies. Low 38F. Winds W at 5 to 10 mph.\\n- Humidity66%\\n- UV Index0 of 11\\n- Moonrise7:52 amNew Moon\\n- Moonset4:53 pm\\nFri 1248\\u00b0/42\\u00b019%\\nFri 12\\nFri 12 | Day\\nIntervals of clouds and sunshine. High 48F. Winds WSW at 5 to 10 mph.\\n- Humidity62%\\n- UV Index2 of 11\\n- Sunrise7:18 am\\n- Sunset4:49 pm\",\n",
      "      \"Sat 1346\\u00b0/36\\u00b053%\\nSat 13\\nSat 13 | Day\\nCloudy with showers. High 46F. Winds WSW at 10 to 15 mph. Chance of rain 50%.\\n- Humidity73%\\n- UV Index1 of 11\\n- Sunrise7:18 am\\n- Sunset4:50 pm\\nSat 13 | Night\\nRain showers early transitioning to snow showers late. Low 36F. Winds W at 10 to 15 mph. Chance of precip 50%.\\n- Humidity70%\\n- UV Index0 of 11\\n- Moonrise9:14 amWaxing Crescent\\n- Moonset7:33 pm\\nSun 1442\\u00b0/34\\u00b037%\\nSun 14\\nSun 14 | Day\\nSnow showers early will transition to a few showers later. High 42F. Winds WSW at 10 to 15 mph. Chance of rain 40%.\\n- Humidity63%\\n- UV Index1 of 11\\n- Sunrise7:18 am\\n- Sunset4:51 pm\\nSun 14 | Night\\nVariable clouds with snow showers. Low 34F. Winds W at 10 to 15 mph. Chance of snow 60%. Snow accumulations less than one inch.\\n- UV Index0 of 11\\n- Moonrise9:44 amWaxing Crescent\\n- Moonset8:52 pm\\nMon 1540\\u00b0/31\\u00b051%\\nMon 15\\nMon 15 | Day\",\n",
      "      \"- Humidity70%\\n- UV Index1 of 11\\n- Sunrise7:18 am\\n- Sunset4:34 pm\\nMon 25 | Night\\nOvercast with showers at times. Low 43F. Winds light and variable. Chance of rain 40%.\\n- Humidity80%\\n- UV Index0 of 11\\n- Moonrise3:08 pmWaxing Gibbous\\n- Moonset6:14 am\\nTue 2653\\u00b0/45\\u00b058%\\nTue 26\\nTue 26 | Day\\nOvercast with rain showers at times. High 53F. Winds E at 5 to 10 mph. Chance of rain 60%.\\n- Humidity79%\\n- UV Index1 of 11\\n- Sunrise7:18 am\\n- Sunset4:34 pm\\nTue 26 | Night\\nShowers early then scattered thunderstorms developing late. Low near 45F. Winds ESE at 5 to 10 mph. Chance of rain 60%.\\n- Humidity93%\\n- UV Index0 of 11\\n- Moonrise4:00 pmFull Moon\\n- Moonset7:17 am\\nWed 2751\\u00b0/41\\u00b058%\\nWed 27\\nWed 27 | Day\\nCloudy with showers. High 51F. Winds WSW at 5 to 10 mph. Chance of rain 60%.\\n- Humidity79%\\n- UV Index1 of 11\\n- Sunrise7:18 am\\n- Sunset4:35 pm\\nWed 27 | Night\\nCloudy with showers. Low 41F. Winds NW at 5 to 10 mph. Chance of rain 60%.\\n- Humidity72%\\n- UV Index0 of 11\\n- Moonrise4:59 pmFull Moon\\n- Moonset8:13 am\"\n",
      "    ],\n",
      "    \"thumbnail_url\": \"https://imgs.search.brave.com/9xHc5-Bh2lvLyRJwQqeegm3gzoF6hawlpF8LZEjFLo8/rs:fit:200:200:1/g:ce/aHR0cHM6Ly9zLnct/eC5jby8yNDB4MTgw/X3R3Y19kZWZhdWx0/LnBuZw\",\n",
      "    \"title\": \"10-Day Weather Forecast for Manhattan, NY - The Weather Channel ...\",\n",
      "    \"url\": \"https://weather.com/weather/tenday/l/New+York+NY+USNY0996:1:US\"\n",
      "  }\n",
      "]\n"
     ]
    }
   ],
   "source": [
    "import json\n",
    "\n",
    "# .raw_results returns the unaltered response from the API\n",
    "response = utility.raw_results(query=\"What is the weather in NY\")\n",
    "# API returns an object with a `hits` key containing a list of hits\n",
    "hits = response[\"hits\"]\n",
    "\n",
    "# with `num_web_results=1`, `hits` should be len of 1\n",
    "print(len(hits))\n",
    "\n",
    "print(json.dumps(hits, indent=2))"
   ]
  },
  {
   "cell_type": "code",
   "execution_count": 78,
   "id": "c8f5689f",
   "metadata": {},
   "outputs": [
    {
     "name": "stdout",
     "output_type": "stream",
     "text": [
      "7\n",
      "[Document(page_content='10 Day Weather-Manhattan, NY\\nToday43°/39°1%\\nToday\\nSun 31 | Day\\nGenerally cloudy. High 43F. Winds W at 10 to 15 mph.\\n- Humidity54%\\n- UV Index0 of 11\\n- Sunrise7:19 am\\n- Sunset4:38 pm\\nSun 31 | Night\\nCloudy. Low 39F. Winds light and variable.\\n- Humidity70%\\n- UV Index0 of 11\\n- Moonrise9:13 pmWaning Gibbous\\n- Moonset10:28 am\\nMon 0145°/33°7%\\nMon 01\\nMon 01 | Day\\nConsiderable cloudiness. High around 45F. Winds light and variable.\\n- Humidity71%\\n- UV Index1 of 11\\n- Sunrise7:19 am\\n- Sunset4:39 pm\\nMon 01 | Night\\nA few clouds. Low 33F. Winds NNW at 5 to 10 mph.\\n- Humidity64%\\n- UV Index0 of 11\\n- Moonrise10:14 pmWaning Gibbous\\n- Moonset10:49 am\\nTue 0246°/35°4%\\nTue 02\\nTue 02 | Day\\nMainly sunny. High 46F. Winds NW at 5 to 10 mph.\\n- Humidity52%\\n- UV Index2 of 11\\n- Sunrise7:19 am\\n- Sunset4:40 pm\\nTue 02 | Night\\nA few clouds overnight. Low around 35F. Winds W at 5 to 10 mph.\\n- Humidity64%\\n- UV Index0 of 11\\n- Moonrise11:13 pmWaning Gibbous\\n- Moonset11:08 am\\nWed 0346°/38°4%\\nWed 03\\nWed 03 | Day', metadata={'url': 'https://weather.com/weather/tenday/l/New+York+NY+USNY0996:1:US', 'thumbnail_url': 'https://imgs.search.brave.com/9xHc5-Bh2lvLyRJwQqeegm3gzoF6hawlpF8LZEjFLo8/rs:fit:200:200:1/g:ce/aHR0cHM6Ly9zLnct/eC5jby8yNDB4MTgw/X3R3Y19kZWZhdWx0/LnBuZw', 'title': '10-Day Weather Forecast for Manhattan, NY - The Weather Channel ...', 'description': 'Be prepared with the most accurate 10-day forecast for Manhattan, NY with highs, lows, chance of precipitation from The Weather Channel and Weather.com'}), Document(page_content='Radar\\nLatest News\\nOur Changing World\\nYour Privacy\\nTo personalize your product experience, we collect data from your device. We also may use or disclose to specific data vendors your precise geolocation data to provide the Services. To learn more please refer to our Privacy Policy.\\nChoose how my information is shared', metadata={'url': 'https://weather.com/weather/tenday/l/New+York+NY+USNY0996:1:US', 'thumbnail_url': 'https://imgs.search.brave.com/9xHc5-Bh2lvLyRJwQqeegm3gzoF6hawlpF8LZEjFLo8/rs:fit:200:200:1/g:ce/aHR0cHM6Ly9zLnct/eC5jby8yNDB4MTgw/X3R3Y19kZWZhdWx0/LnBuZw', 'title': '10-Day Weather Forecast for Manhattan, NY - The Weather Channel ...', 'description': 'Be prepared with the most accurate 10-day forecast for Manhattan, NY with highs, lows, chance of precipitation from The Weather Channel and Weather.com'}), Document(page_content='- Humidity82%\\n- UV Index1 of 11\\n- Sunrise7:18 am\\n- Sunset4:34 pm\\nTue 26 | Night\\nCloudy with light rain developing after midnight. Low 47F. Winds light and variable. Chance of rain 80%.\\n- Humidity90%\\n- UV Index0 of 11\\n- Moonrise4:00 pmFull Moon\\n- Moonset7:17 am\\nWed 2754°/49°93%\\nWed 27\\nWed 27 | Day\\nRain. High 54F. Winds E at 5 to 10 mph. Chance of rain 90%. Rainfall near a half an inch.\\n- Humidity93%\\n- UV Index1 of 11\\n- Sunrise7:18 am\\n- Sunset4:35 pm\\nWed 27 | Night\\nSteady light rain in the evening. Showers continuing late. Low 49F. Winds light and variable. Chance of rain 70%.\\n- Humidity91%\\n- UV Index0 of 11\\n- Moonrise4:59 pmFull Moon\\n- Moonset8:12 am\\nThu 2853°/42°19%\\nThu 28\\nThu 28 | Day\\nCloudy skies early will become partly cloudy later in the day. Slight chance of a rain shower. High 53F. Winds WSW at 5 to 10 mph.\\n- Humidity77%\\n- UV Index1 of 11\\n- Sunrise7:18 am\\n- Sunset4:36 pm\\nThu 28 | Night\\nPartly cloudy skies. Low 42F. Winds W at 5 to 10 mph.\\n- Humidity71%\\n- UV Index0 of 11', metadata={'url': 'https://weather.com/weather/tenday/l/New+York+NY+USNY0996:1:US', 'thumbnail_url': 'https://imgs.search.brave.com/9xHc5-Bh2lvLyRJwQqeegm3gzoF6hawlpF8LZEjFLo8/rs:fit:200:200:1/g:ce/aHR0cHM6Ly9zLnct/eC5jby8yNDB4MTgw/X3R3Y19kZWZhdWx0/LnBuZw', 'title': '10-Day Weather Forecast for Manhattan, NY - The Weather Channel ...', 'description': 'Be prepared with the most accurate 10-day forecast for Manhattan, NY with highs, lows, chance of precipitation from The Weather Channel and Weather.com'}), Document(page_content='- Moonrise2:20 amWaning Crescent\\n- Moonset12:33 pm\\nSun 0740°/29°19%\\nSun 07\\nSun 07 | Day\\nIntervals of clouds and sunshine. High around 40F. Winds NW at 5 to 10 mph.\\n- Humidity57%\\n- UV Index2 of 11\\n- Sunrise7:19 am\\n- Sunset4:44 pm\\nSun 07 | Night\\nA few clouds from time to time. Low 29F. Winds NNW at 5 to 10 mph.\\n- Humidity60%\\n- UV Index0 of 11\\n- Moonrise3:28 amWaning Crescent\\n- Moonset1:04 pm\\nMon 0840°/32°35%\\nMon 08\\nMon 08 | Day\\nPartly cloudy early followed mostly cloudy skies and a few snow showers later in the day. High near 40F. Winds N at 5 to 10 mph. Chance of snow 40%.\\n- UV Index1 of 11\\n- Sunrise7:19 am\\n- Sunset4:45 pm\\nMon 08 | Night\\nVariable clouds with snow showers or flurries. Low 32F. Winds NNE at 5 to 10 mph. Chance of snow 60%. Snow accumulations less than one inch.\\n- UV Index0 of 11\\n- Moonrise4:40 amWaning Crescent\\n- Moonset1:43 pm\\nLatest News\\nOur Changing World\\nYour Privacy', metadata={'url': 'https://weather.com/weather/tenday/l/New+York+NY+USNY0996:1:US', 'thumbnail_url': 'https://imgs.search.brave.com/9xHc5-Bh2lvLyRJwQqeegm3gzoF6hawlpF8LZEjFLo8/rs:fit:200:200:1/g:ce/aHR0cHM6Ly9zLnct/eC5jby8yNDB4MTgw/X3R3Y19kZWZhdWx0/LnBuZw', 'title': '10-Day Weather Forecast for Manhattan, NY - The Weather Channel ...', 'description': 'Be prepared with the most accurate 10-day forecast for Manhattan, NY with highs, lows, chance of precipitation from The Weather Channel and Weather.com'}), Document(page_content='- Humidity91%\\n- UV Index0 of 11\\n- Moonrise5:50 amWaning Crescent\\n- Moonset2:35 pm\\nWed 1056°/39°34%\\nWed 10\\nWed 10 | Day\\nA shower or two possible early with partly cloudy skies in the afternoon. Morning high of 56F with temps falling to near 45. Winds SW at 15 to 25 mph. Chance of rain 30%.\\n- Humidity66%\\n- UV Index1 of 11\\n- Sunrise7:19 am\\n- Sunset4:47 pm\\nWed 10 | Night\\nA few clouds from time to time. Low 39F. Winds WSW at 10 to 20 mph.\\n- Humidity64%\\n- UV Index0 of 11\\n- Moonrise6:56 amWaning Crescent\\n- Moonset3:38 pm\\nThu 1147°/38°5%\\nThu 11\\nThu 11 | Day\\nPartly cloudy. High 47F. Winds WSW at 5 to 10 mph.\\n- Humidity62%\\n- UV Index2 of 11\\n- Sunrise7:19 am\\n- Sunset4:48 pm\\nThu 11 | Night\\nMostly clear skies. Low 38F. Winds W at 5 to 10 mph.\\n- Humidity66%\\n- UV Index0 of 11\\n- Moonrise7:52 amNew Moon\\n- Moonset4:53 pm\\nFri 1248°/42°19%\\nFri 12\\nFri 12 | Day\\nIntervals of clouds and sunshine. High 48F. Winds WSW at 5 to 10 mph.\\n- Humidity62%\\n- UV Index2 of 11\\n- Sunrise7:18 am\\n- Sunset4:49 pm', metadata={'url': 'https://weather.com/weather/tenday/l/New+York+NY+USNY0996:1:US', 'thumbnail_url': 'https://imgs.search.brave.com/9xHc5-Bh2lvLyRJwQqeegm3gzoF6hawlpF8LZEjFLo8/rs:fit:200:200:1/g:ce/aHR0cHM6Ly9zLnct/eC5jby8yNDB4MTgw/X3R3Y19kZWZhdWx0/LnBuZw', 'title': '10-Day Weather Forecast for Manhattan, NY - The Weather Channel ...', 'description': 'Be prepared with the most accurate 10-day forecast for Manhattan, NY with highs, lows, chance of precipitation from The Weather Channel and Weather.com'}), Document(page_content='Sat 1346°/36°53%\\nSat 13\\nSat 13 | Day\\nCloudy with showers. High 46F. Winds WSW at 10 to 15 mph. Chance of rain 50%.\\n- Humidity73%\\n- UV Index1 of 11\\n- Sunrise7:18 am\\n- Sunset4:50 pm\\nSat 13 | Night\\nRain showers early transitioning to snow showers late. Low 36F. Winds W at 10 to 15 mph. Chance of precip 50%.\\n- Humidity70%\\n- UV Index0 of 11\\n- Moonrise9:14 amWaxing Crescent\\n- Moonset7:33 pm\\nSun 1442°/34°37%\\nSun 14\\nSun 14 | Day\\nSnow showers early will transition to a few showers later. High 42F. Winds WSW at 10 to 15 mph. Chance of rain 40%.\\n- Humidity63%\\n- UV Index1 of 11\\n- Sunrise7:18 am\\n- Sunset4:51 pm\\nSun 14 | Night\\nVariable clouds with snow showers. Low 34F. Winds W at 10 to 15 mph. Chance of snow 60%. Snow accumulations less than one inch.\\n- UV Index0 of 11\\n- Moonrise9:44 amWaxing Crescent\\n- Moonset8:52 pm\\nMon 1540°/31°51%\\nMon 15\\nMon 15 | Day', metadata={'url': 'https://weather.com/weather/tenday/l/New+York+NY+USNY0996:1:US', 'thumbnail_url': 'https://imgs.search.brave.com/9xHc5-Bh2lvLyRJwQqeegm3gzoF6hawlpF8LZEjFLo8/rs:fit:200:200:1/g:ce/aHR0cHM6Ly9zLnct/eC5jby8yNDB4MTgw/X3R3Y19kZWZhdWx0/LnBuZw', 'title': '10-Day Weather Forecast for Manhattan, NY - The Weather Channel ...', 'description': 'Be prepared with the most accurate 10-day forecast for Manhattan, NY with highs, lows, chance of precipitation from The Weather Channel and Weather.com'}), Document(page_content='- Humidity70%\\n- UV Index1 of 11\\n- Sunrise7:18 am\\n- Sunset4:34 pm\\nMon 25 | Night\\nOvercast with showers at times. Low 43F. Winds light and variable. Chance of rain 40%.\\n- Humidity80%\\n- UV Index0 of 11\\n- Moonrise3:08 pmWaxing Gibbous\\n- Moonset6:14 am\\nTue 2653°/45°58%\\nTue 26\\nTue 26 | Day\\nOvercast with rain showers at times. High 53F. Winds E at 5 to 10 mph. Chance of rain 60%.\\n- Humidity79%\\n- UV Index1 of 11\\n- Sunrise7:18 am\\n- Sunset4:34 pm\\nTue 26 | Night\\nShowers early then scattered thunderstorms developing late. Low near 45F. Winds ESE at 5 to 10 mph. Chance of rain 60%.\\n- Humidity93%\\n- UV Index0 of 11\\n- Moonrise4:00 pmFull Moon\\n- Moonset7:17 am\\nWed 2751°/41°58%\\nWed 27\\nWed 27 | Day\\nCloudy with showers. High 51F. Winds WSW at 5 to 10 mph. Chance of rain 60%.\\n- Humidity79%\\n- UV Index1 of 11\\n- Sunrise7:18 am\\n- Sunset4:35 pm\\nWed 27 | Night\\nCloudy with showers. Low 41F. Winds NW at 5 to 10 mph. Chance of rain 60%.\\n- Humidity72%\\n- UV Index0 of 11\\n- Moonrise4:59 pmFull Moon\\n- Moonset8:13 am', metadata={'url': 'https://weather.com/weather/tenday/l/New+York+NY+USNY0996:1:US', 'thumbnail_url': 'https://imgs.search.brave.com/9xHc5-Bh2lvLyRJwQqeegm3gzoF6hawlpF8LZEjFLo8/rs:fit:200:200:1/g:ce/aHR0cHM6Ly9zLnct/eC5jby8yNDB4MTgw/X3R3Y19kZWZhdWx0/LnBuZw', 'title': '10-Day Weather Forecast for Manhattan, NY - The Weather Channel ...', 'description': 'Be prepared with the most accurate 10-day forecast for Manhattan, NY with highs, lows, chance of precipitation from The Weather Channel and Weather.com'})]\n"
     ]
    }
   ],
   "source": [
    "# .results returns parsed results with each snippet in a Document\n",
    "response = utility.results(query=\"What is the weather in NY\")\n",
    "\n",
    "# .results should have a Document for each `snippet`\n",
    "print(len(response))\n",
    "\n",
    "print(response)"
   ]
  },
  {
   "cell_type": "markdown",
   "id": "190ed085",
   "metadata": {},
   "source": [
    "## Retriever Usage"
   ]
  },
  {
   "cell_type": "code",
   "execution_count": null,
   "id": "1367af5c",
   "metadata": {},
   "outputs": [],
   "source": [
    "from langchain_community.retrievers.you import YouRetriever\n",
    "\n",
    "retriever = YouRetriever(num_web_results=1)\n",
    "\n",
    "retriever"
   ]
  },
  {
   "cell_type": "code",
   "execution_count": 95,
   "id": "a90d61d4",
   "metadata": {},
   "outputs": [
    {
     "name": "stdout",
     "output_type": "stream",
     "text": [
      "7\n",
      "[Document(page_content='10 Day Weather-Manhattan, NY\\nToday43°/39°1%\\nToday\\nSun 31 | Day\\nGenerally cloudy. High 43F. Winds W at 10 to 15 mph.\\n- Humidity54%\\n- UV Index0 of 11\\n- Sunrise7:19 am\\n- Sunset4:38 pm\\nSun 31 | Night\\nCloudy. Low 39F. Winds light and variable.\\n- Humidity70%\\n- UV Index0 of 11\\n- Moonrise9:13 pmWaning Gibbous\\n- Moonset10:28 am\\nMon 0145°/33°7%\\nMon 01\\nMon 01 | Day\\nConsiderable cloudiness. High around 45F. Winds light and variable.\\n- Humidity71%\\n- UV Index1 of 11\\n- Sunrise7:19 am\\n- Sunset4:39 pm\\nMon 01 | Night\\nA few clouds. Low 33F. Winds NNW at 5 to 10 mph.\\n- Humidity64%\\n- UV Index0 of 11\\n- Moonrise10:14 pmWaning Gibbous\\n- Moonset10:49 am\\nTue 0246°/35°4%\\nTue 02\\nTue 02 | Day\\nMainly sunny. High 46F. Winds NW at 5 to 10 mph.\\n- Humidity52%\\n- UV Index2 of 11\\n- Sunrise7:19 am\\n- Sunset4:40 pm\\nTue 02 | Night\\nA few clouds overnight. Low around 35F. Winds W at 5 to 10 mph.\\n- Humidity64%\\n- UV Index0 of 11\\n- Moonrise11:13 pmWaning Gibbous\\n- Moonset11:08 am\\nWed 0346°/38°4%\\nWed 03\\nWed 03 | Day', metadata={'url': 'https://weather.com/weather/tenday/l/New+York+NY+USNY0996:1:US', 'thumbnail_url': 'https://imgs.search.brave.com/9xHc5-Bh2lvLyRJwQqeegm3gzoF6hawlpF8LZEjFLo8/rs:fit:200:200:1/g:ce/aHR0cHM6Ly9zLnct/eC5jby8yNDB4MTgw/X3R3Y19kZWZhdWx0/LnBuZw', 'title': '10-Day Weather Forecast for Manhattan, NY - The Weather Channel ...', 'description': 'Be prepared with the most accurate 10-day forecast for Manhattan, NY with highs, lows, chance of precipitation from The Weather Channel and Weather.com'}), Document(page_content='Radar\\nLatest News\\nOur Changing World\\nYour Privacy\\nTo personalize your product experience, we collect data from your device. We also may use or disclose to specific data vendors your precise geolocation data to provide the Services. To learn more please refer to our Privacy Policy.\\nChoose how my information is shared', metadata={'url': 'https://weather.com/weather/tenday/l/New+York+NY+USNY0996:1:US', 'thumbnail_url': 'https://imgs.search.brave.com/9xHc5-Bh2lvLyRJwQqeegm3gzoF6hawlpF8LZEjFLo8/rs:fit:200:200:1/g:ce/aHR0cHM6Ly9zLnct/eC5jby8yNDB4MTgw/X3R3Y19kZWZhdWx0/LnBuZw', 'title': '10-Day Weather Forecast for Manhattan, NY - The Weather Channel ...', 'description': 'Be prepared with the most accurate 10-day forecast for Manhattan, NY with highs, lows, chance of precipitation from The Weather Channel and Weather.com'}), Document(page_content='- Humidity82%\\n- UV Index1 of 11\\n- Sunrise7:18 am\\n- Sunset4:34 pm\\nTue 26 | Night\\nCloudy with light rain developing after midnight. Low 47F. Winds light and variable. Chance of rain 80%.\\n- Humidity90%\\n- UV Index0 of 11\\n- Moonrise4:00 pmFull Moon\\n- Moonset7:17 am\\nWed 2754°/49°93%\\nWed 27\\nWed 27 | Day\\nRain. High 54F. Winds E at 5 to 10 mph. Chance of rain 90%. Rainfall near a half an inch.\\n- Humidity93%\\n- UV Index1 of 11\\n- Sunrise7:18 am\\n- Sunset4:35 pm\\nWed 27 | Night\\nSteady light rain in the evening. Showers continuing late. Low 49F. Winds light and variable. Chance of rain 70%.\\n- Humidity91%\\n- UV Index0 of 11\\n- Moonrise4:59 pmFull Moon\\n- Moonset8:12 am\\nThu 2853°/42°19%\\nThu 28\\nThu 28 | Day\\nCloudy skies early will become partly cloudy later in the day. Slight chance of a rain shower. High 53F. Winds WSW at 5 to 10 mph.\\n- Humidity77%\\n- UV Index1 of 11\\n- Sunrise7:18 am\\n- Sunset4:36 pm\\nThu 28 | Night\\nPartly cloudy skies. Low 42F. Winds W at 5 to 10 mph.\\n- Humidity71%\\n- UV Index0 of 11', metadata={'url': 'https://weather.com/weather/tenday/l/New+York+NY+USNY0996:1:US', 'thumbnail_url': 'https://imgs.search.brave.com/9xHc5-Bh2lvLyRJwQqeegm3gzoF6hawlpF8LZEjFLo8/rs:fit:200:200:1/g:ce/aHR0cHM6Ly9zLnct/eC5jby8yNDB4MTgw/X3R3Y19kZWZhdWx0/LnBuZw', 'title': '10-Day Weather Forecast for Manhattan, NY - The Weather Channel ...', 'description': 'Be prepared with the most accurate 10-day forecast for Manhattan, NY with highs, lows, chance of precipitation from The Weather Channel and Weather.com'}), Document(page_content='- Moonrise2:20 amWaning Crescent\\n- Moonset12:33 pm\\nSun 0740°/29°19%\\nSun 07\\nSun 07 | Day\\nIntervals of clouds and sunshine. High around 40F. Winds NW at 5 to 10 mph.\\n- Humidity57%\\n- UV Index2 of 11\\n- Sunrise7:19 am\\n- Sunset4:44 pm\\nSun 07 | Night\\nA few clouds from time to time. Low 29F. Winds NNW at 5 to 10 mph.\\n- Humidity60%\\n- UV Index0 of 11\\n- Moonrise3:28 amWaning Crescent\\n- Moonset1:04 pm\\nMon 0840°/32°35%\\nMon 08\\nMon 08 | Day\\nPartly cloudy early followed mostly cloudy skies and a few snow showers later in the day. High near 40F. Winds N at 5 to 10 mph. Chance of snow 40%.\\n- UV Index1 of 11\\n- Sunrise7:19 am\\n- Sunset4:45 pm\\nMon 08 | Night\\nVariable clouds with snow showers or flurries. Low 32F. Winds NNE at 5 to 10 mph. Chance of snow 60%. Snow accumulations less than one inch.\\n- UV Index0 of 11\\n- Moonrise4:40 amWaning Crescent\\n- Moonset1:43 pm\\nLatest News\\nOur Changing World\\nYour Privacy', metadata={'url': 'https://weather.com/weather/tenday/l/New+York+NY+USNY0996:1:US', 'thumbnail_url': 'https://imgs.search.brave.com/9xHc5-Bh2lvLyRJwQqeegm3gzoF6hawlpF8LZEjFLo8/rs:fit:200:200:1/g:ce/aHR0cHM6Ly9zLnct/eC5jby8yNDB4MTgw/X3R3Y19kZWZhdWx0/LnBuZw', 'title': '10-Day Weather Forecast for Manhattan, NY - The Weather Channel ...', 'description': 'Be prepared with the most accurate 10-day forecast for Manhattan, NY with highs, lows, chance of precipitation from The Weather Channel and Weather.com'}), Document(page_content='- Humidity91%\\n- UV Index0 of 11\\n- Moonrise5:50 amWaning Crescent\\n- Moonset2:35 pm\\nWed 1056°/39°34%\\nWed 10\\nWed 10 | Day\\nA shower or two possible early with partly cloudy skies in the afternoon. Morning high of 56F with temps falling to near 45. Winds SW at 15 to 25 mph. Chance of rain 30%.\\n- Humidity66%\\n- UV Index1 of 11\\n- Sunrise7:19 am\\n- Sunset4:47 pm\\nWed 10 | Night\\nA few clouds from time to time. Low 39F. Winds WSW at 10 to 20 mph.\\n- Humidity64%\\n- UV Index0 of 11\\n- Moonrise6:56 amWaning Crescent\\n- Moonset3:38 pm\\nThu 1147°/38°5%\\nThu 11\\nThu 11 | Day\\nPartly cloudy. High 47F. Winds WSW at 5 to 10 mph.\\n- Humidity62%\\n- UV Index2 of 11\\n- Sunrise7:19 am\\n- Sunset4:48 pm\\nThu 11 | Night\\nMostly clear skies. Low 38F. Winds W at 5 to 10 mph.\\n- Humidity66%\\n- UV Index0 of 11\\n- Moonrise7:52 amNew Moon\\n- Moonset4:53 pm\\nFri 1248°/42°19%\\nFri 12\\nFri 12 | Day\\nIntervals of clouds and sunshine. High 48F. Winds WSW at 5 to 10 mph.\\n- Humidity62%\\n- UV Index2 of 11\\n- Sunrise7:18 am\\n- Sunset4:49 pm', metadata={'url': 'https://weather.com/weather/tenday/l/New+York+NY+USNY0996:1:US', 'thumbnail_url': 'https://imgs.search.brave.com/9xHc5-Bh2lvLyRJwQqeegm3gzoF6hawlpF8LZEjFLo8/rs:fit:200:200:1/g:ce/aHR0cHM6Ly9zLnct/eC5jby8yNDB4MTgw/X3R3Y19kZWZhdWx0/LnBuZw', 'title': '10-Day Weather Forecast for Manhattan, NY - The Weather Channel ...', 'description': 'Be prepared with the most accurate 10-day forecast for Manhattan, NY with highs, lows, chance of precipitation from The Weather Channel and Weather.com'}), Document(page_content='Sat 1346°/36°53%\\nSat 13\\nSat 13 | Day\\nCloudy with showers. High 46F. Winds WSW at 10 to 15 mph. Chance of rain 50%.\\n- Humidity73%\\n- UV Index1 of 11\\n- Sunrise7:18 am\\n- Sunset4:50 pm\\nSat 13 | Night\\nRain showers early transitioning to snow showers late. Low 36F. Winds W at 10 to 15 mph. Chance of precip 50%.\\n- Humidity70%\\n- UV Index0 of 11\\n- Moonrise9:14 amWaxing Crescent\\n- Moonset7:33 pm\\nSun 1442°/34°37%\\nSun 14\\nSun 14 | Day\\nSnow showers early will transition to a few showers later. High 42F. Winds WSW at 10 to 15 mph. Chance of rain 40%.\\n- Humidity63%\\n- UV Index1 of 11\\n- Sunrise7:18 am\\n- Sunset4:51 pm\\nSun 14 | Night\\nVariable clouds with snow showers. Low 34F. Winds W at 10 to 15 mph. Chance of snow 60%. Snow accumulations less than one inch.\\n- UV Index0 of 11\\n- Moonrise9:44 amWaxing Crescent\\n- Moonset8:52 pm\\nMon 1540°/31°51%\\nMon 15\\nMon 15 | Day', metadata={'url': 'https://weather.com/weather/tenday/l/New+York+NY+USNY0996:1:US', 'thumbnail_url': 'https://imgs.search.brave.com/9xHc5-Bh2lvLyRJwQqeegm3gzoF6hawlpF8LZEjFLo8/rs:fit:200:200:1/g:ce/aHR0cHM6Ly9zLnct/eC5jby8yNDB4MTgw/X3R3Y19kZWZhdWx0/LnBuZw', 'title': '10-Day Weather Forecast for Manhattan, NY - The Weather Channel ...', 'description': 'Be prepared with the most accurate 10-day forecast for Manhattan, NY with highs, lows, chance of precipitation from The Weather Channel and Weather.com'}), Document(page_content='- Humidity70%\\n- UV Index1 of 11\\n- Sunrise7:18 am\\n- Sunset4:34 pm\\nMon 25 | Night\\nOvercast with showers at times. Low 43F. Winds light and variable. Chance of rain 40%.\\n- Humidity80%\\n- UV Index0 of 11\\n- Moonrise3:08 pmWaxing Gibbous\\n- Moonset6:14 am\\nTue 2653°/45°58%\\nTue 26\\nTue 26 | Day\\nOvercast with rain showers at times. High 53F. Winds E at 5 to 10 mph. Chance of rain 60%.\\n- Humidity79%\\n- UV Index1 of 11\\n- Sunrise7:18 am\\n- Sunset4:34 pm\\nTue 26 | Night\\nShowers early then scattered thunderstorms developing late. Low near 45F. Winds ESE at 5 to 10 mph. Chance of rain 60%.\\n- Humidity93%\\n- UV Index0 of 11\\n- Moonrise4:00 pmFull Moon\\n- Moonset7:17 am\\nWed 2751°/41°58%\\nWed 27\\nWed 27 | Day\\nCloudy with showers. High 51F. Winds WSW at 5 to 10 mph. Chance of rain 60%.\\n- Humidity79%\\n- UV Index1 of 11\\n- Sunrise7:18 am\\n- Sunset4:35 pm\\nWed 27 | Night\\nCloudy with showers. Low 41F. Winds NW at 5 to 10 mph. Chance of rain 60%.\\n- Humidity72%\\n- UV Index0 of 11\\n- Moonrise4:59 pmFull Moon\\n- Moonset8:13 am', metadata={'url': 'https://weather.com/weather/tenday/l/New+York+NY+USNY0996:1:US', 'thumbnail_url': 'https://imgs.search.brave.com/9xHc5-Bh2lvLyRJwQqeegm3gzoF6hawlpF8LZEjFLo8/rs:fit:200:200:1/g:ce/aHR0cHM6Ly9zLnct/eC5jby8yNDB4MTgw/X3R3Y19kZWZhdWx0/LnBuZw', 'title': '10-Day Weather Forecast for Manhattan, NY - The Weather Channel ...', 'description': 'Be prepared with the most accurate 10-day forecast for Manhattan, NY with highs, lows, chance of precipitation from The Weather Channel and Weather.com'})]\n"
     ]
    }
   ],
   "source": [
    "# .invoke wraps utility.results\n",
    "response = retriever.invoke(\"What is the weather in NY\")\n",
    "\n",
    "# .invoke should have a Document for each `snippet`\n",
    "print(len(response))\n",
    "\n",
    "print(response)"
   ]
  },
  {
   "cell_type": "markdown",
   "id": "aac4a1f9",
   "metadata": {},
   "source": [
    "## Chaining"
   ]
  },
  {
   "cell_type": "code",
   "execution_count": null,
   "id": "21559e10",
   "metadata": {},
   "outputs": [],
   "source": [
    "# you need a model to use in the chain\n",
    "!pip install --upgrade --quiet langchain-openai"
   ]
  },
  {
   "cell_type": "code",
   "execution_count": 98,
   "id": "655e0fec-c831-4efe-a47b-d3bb5c5a81ce",
   "metadata": {},
   "outputs": [],
   "source": [
    "from langchain_community.retrievers.you import YouRetriever\n",
    "from langchain_core.output_parsers import StrOutputParser\n",
    "from langchain_core.prompts import ChatPromptTemplate\n",
    "from langchain_core.runnables import RunnablePassthrough\n",
    "from langchain_openai import ChatOpenAI\n",
    "\n",
    "# set up runnable\n",
    "runnable = RunnablePassthrough\n",
    "\n",
    "# set up retriever, limit sources to one\n",
    "retriever = YouRetriever(num_web_results=1)\n",
    "\n",
    "# set up model\n",
    "model = ChatOpenAI(model=\"gpt-3.5-turbo-16k\")\n",
    "\n",
    "# set up output parser\n",
    "output_parser = StrOutputParser()"
   ]
  },
  {
   "cell_type": "markdown",
   "id": "47e1fcca",
   "metadata": {},
   "source": [
    "### Invoke"
   ]
  },
  {
   "cell_type": "code",
   "execution_count": 99,
   "id": "6e92557d",
   "metadata": {},
   "outputs": [
    {
     "name": "stdout",
     "output_type": "stream",
     "text": [
      "The weather in New York City today is 43° with a high/low of --/39°. The wind is 3 mph, humidity is 63%, and the air quality is considered good.\n"
     ]
    }
   ],
   "source": [
    "# set up prompt that expects one question\n",
    "prompt = ChatPromptTemplate.from_template(\n",
    "    \"\"\"Answer the question based only on the context provided.\n",
    "\n",
    "Context: {context}\n",
    "\n",
    "Question: {question}\"\"\"\n",
    ")\n",
    "\n",
    "# set up chain\n",
    "chain = (\n",
    "    runnable.assign(context=(lambda x: x[\"question\"]) | retriever)\n",
    "    | prompt\n",
    "    | model\n",
    "    | output_parser\n",
    ")\n",
    "\n",
    "output = chain.invoke({\"question\": \"what is the weather in NY today\"})\n",
    "\n",
    "print(output)"
   ]
  },
  {
   "cell_type": "markdown",
   "id": "66b15f94",
   "metadata": {},
   "source": [
    "### Stream"
   ]
  },
  {
   "cell_type": "code",
   "execution_count": 100,
   "id": "cfe5af8b",
   "metadata": {},
   "outputs": [
    {
     "name": "stdout",
     "output_type": "stream",
     "text": [
      "The weather in New York City today is a high of 39°F and a low of 31°F with a feels like temperature of 43°F. The wind speed is 3 mph, humidity is 63%, and the air quality is considered to be good."
     ]
    }
   ],
   "source": [
    "# set up prompt that expects one question\n",
    "prompt = ChatPromptTemplate.from_template(\n",
    "    \"\"\"Answer the question based only on the context provided.\n",
    "\n",
    "Context: {context}\n",
    "\n",
    "Question: {question}\"\"\"\n",
    ")\n",
    "\n",
    "# set up chain - same as above\n",
    "chain = (\n",
    "    runnable.assign(context=(lambda x: x[\"question\"]) | retriever)\n",
    "    | prompt\n",
    "    | model\n",
    "    | output_parser\n",
    ")\n",
    "\n",
    "for s in chain.stream({\"question\": \"what is the weather in NY today\"}):\n",
    "    print(s, end=\"\", flush=True)"
   ]
  },
  {
   "cell_type": "markdown",
   "id": "28ee9450",
   "metadata": {},
   "source": [
    "### Batch"
   ]
  },
  {
   "cell_type": "code",
   "execution_count": 101,
   "id": "a8d8270b",
   "metadata": {},
   "outputs": [
    {
     "name": "stdout",
     "output_type": "stream",
     "text": [
      "Based on the provided context, the weather in New York City today is 43° with a high/low of --/39°.\n",
      "Based on the provided context, the current weather in San Francisco is partly cloudy with a temperature of 61°F and a humidity of 57%.\n"
     ]
    }
   ],
   "source": [
    "chain = (\n",
    "    runnable.assign(context=(lambda x: x[\"question\"]) | retriever)\n",
    "    | prompt\n",
    "    | model\n",
    "    | output_parser\n",
    ")\n",
    "\n",
    "output = chain.batch(\n",
    "    [\n",
    "        {\"question\": \"what is the weather in NY today\"},\n",
    "        {\"question\": \"what is the weather in sf today\"},\n",
    "    ]\n",
    ")\n",
    "\n",
    "for o in output:\n",
    "    print(o)"
   ]
  }
 ],
 "metadata": {
  "kernelspec": {
   "display_name": "Python 3 (ipykernel)",
   "language": "python",
   "name": "python3"
  },
  "language_info": {
   "codemirror_mode": {
    "name": "ipython",
    "version": 3
   },
   "file_extension": ".py",
   "mimetype": "text/x-python",
   "name": "python",
   "nbconvert_exporter": "python",
   "pygments_lexer": "ipython3",
   "version": "3.10.12"
  }
 },
 "nbformat": 4,
 "nbformat_minor": 5
}
