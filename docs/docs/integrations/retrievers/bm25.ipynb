{
 "cells": [
  {
   "cell_type": "markdown",
   "id": "ab66dd43",
   "metadata": {},
   "source": [
    "# BM25\n",
    "\n",
    ">[BM25 (Wikipedia)](https://en.wikipedia.org/wiki/Okapi_BM25) also known as the `Okapi BM25`, is a ranking function used in information retrieval systems to estimate the relevance of documents to a given search query.\n",
    ">\n",
    ">`BM25Retriever` retriever uses the [`rank_bm25`](https://github.com/dorianbrown/rank_bm25) package.\n"
   ]
  },
  {
   "cell_type": "code",
   "execution_count": null,
   "id": "eccbbc4a",
   "metadata": {},
   "outputs": [],
   "source": [
    "%pip install --upgrade --quiet  rank_bm25"
   ]
  },
  {
   "cell_type": "code",
   "execution_count": 3,
   "id": "393ac030",
   "metadata": {
    "ExecuteTime": {
     "end_time": "2024-11-13T23:35:51.348359Z",
     "start_time": "2024-11-13T23:35:49.409254Z"
    },
    "tags": []
   },
   "outputs": [],
   "source": [
    "from langchain_community.retrievers import BM25Retriever"
   ]
  },
  {
   "cell_type": "markdown",
   "id": "aaf80e7f",
   "metadata": {},
   "source": [
    "## Create New Retriever with Texts"
   ]
  },
  {
   "cell_type": "code",
   "execution_count": 4,
   "id": "98b1c017",
   "metadata": {
    "ExecuteTime": {
     "end_time": "2024-11-13T23:35:53.096938Z",
     "start_time": "2024-11-13T23:35:52.493243Z"
    },
    "tags": []
   },
   "outputs": [],
   "source": [
    "retriever = BM25Retriever.from_texts([\"foo\", \"bar\", \"world\", \"hello\", \"foo bar\"])"
   ]
  },
  {
   "cell_type": "markdown",
   "id": "c016b266",
   "metadata": {},
   "source": [
    "## Create a New Retriever with Documents\n",
    "\n",
    "You can now create a new retriever with the documents you created."
   ]
  },
  {
   "cell_type": "code",
   "execution_count": 5,
   "id": "53af4f00",
   "metadata": {
    "ExecuteTime": {
     "end_time": "2024-11-13T23:35:54.202737Z",
     "start_time": "2024-11-13T23:35:54.198431Z"
    }
   },
   "outputs": [],
   "source": [
    "from langchain_core.documents import Document\n",
    "\n",
    "retriever = BM25Retriever.from_documents(\n",
    "    [\n",
    "        Document(page_content=\"foo\"),\n",
    "        Document(page_content=\"bar\"),\n",
    "        Document(page_content=\"world\"),\n",
    "        Document(page_content=\"hello\"),\n",
    "        Document(page_content=\"foo bar\"),\n",
    "    ]\n",
    ")"
   ]
  },
  {
   "cell_type": "markdown",
   "id": "08437fa2",
   "metadata": {},
   "source": [
    "## Use Retriever\n",
    "\n",
    "We can now use the retriever!"
   ]
  },
  {
   "cell_type": "code",
   "execution_count": 6,
   "id": "c0455218",
   "metadata": {
    "ExecuteTime": {
     "end_time": "2024-11-13T23:35:55.643026Z",
     "start_time": "2024-11-13T23:35:55.595272Z"
    },
    "tags": []
   },
   "outputs": [],
   "source": [
    "result = retriever.invoke(\"foo\")"
   ]
  },
  {
   "cell_type": "code",
   "execution_count": 7,
   "id": "7dfa5c29",
   "metadata": {
    "ExecuteTime": {
     "end_time": "2024-11-13T23:35:56.122327Z",
     "start_time": "2024-11-13T23:35:56.112647Z"
    },
    "tags": []
   },
   "outputs": [
    {
     "data": {
      "text/plain": [
       "[Document(metadata={}, page_content='foo'),\n",
       " Document(metadata={}, page_content='foo bar'),\n",
       " Document(metadata={}, page_content='hello'),\n",
       " Document(metadata={}, page_content='world')]"
      ]
     },
     "execution_count": 7,
     "metadata": {},
     "output_type": "execute_result"
    }
   ],
   "source": [
    "result"
   ]
  },
  {
   "cell_type": "markdown",
   "id": "51043723814c0d68",
   "metadata": {},
   "source": [
    "## Preprocessing Function\n",
    "Pass a custom preprocessing function to the retriever to improve search results. Tokenizing text at the word level can enhance retrieval, especially when using vector stores like Chroma, Pinecone, or Faiss for chunked documents."
   ]
  },
  {
   "cell_type": "code",
   "execution_count": null,
   "id": "f5fea58b",
   "metadata": {},
   "outputs": [],
   "source": [
    "import nltk\n",
    "\n",
    "nltk.download(\"punkt_tab\")"
   ]
  },
  {
   "cell_type": "code",
   "execution_count": 32,
   "id": "566fcc801cda5da4",
   "metadata": {
    "ExecuteTime": {
     "end_time": "2024-11-14T00:40:58.728953Z",
     "start_time": "2024-11-14T00:40:58.722140Z"
    }
   },
   "outputs": [
    {
     "data": {
      "text/plain": [
       "[Document(metadata={}, page_content='bar'),\n",
       " Document(metadata={}, page_content='foo bar')]"
      ]
     },
     "execution_count": 32,
     "metadata": {},
     "output_type": "execute_result"
    }
   ],
   "source": [
    "from nltk.tokenize import word_tokenize\n",
    "\n",
    "retriever = BM25Retriever.from_documents(\n",
    "    [\n",
    "        Document(page_content=\"foo\"),\n",
    "        Document(page_content=\"bar\"),\n",
    "        Document(page_content=\"world\"),\n",
    "        Document(page_content=\"hello\"),\n",
    "        Document(page_content=\"foo bar\"),\n",
    "    ],\n",
    "    k=2,\n",
    "    preprocess_func=word_tokenize,\n",
    ")\n",
    "\n",
    "result = retriever.invoke(\"bar\")\n",
    "result"
   ]
  }
 ],
 "metadata": {
  "kernelspec": {
   "display_name": "Python 3 (ipykernel)",
   "language": "python",
   "name": "python3"
  },
  "language_info": {
   "codemirror_mode": {
    "name": "ipython",
    "version": 3
   },
   "file_extension": ".py",
   "mimetype": "text/x-python",
   "name": "python",
   "nbconvert_exporter": "python",
   "pygments_lexer": "ipython3",
   "version": "3.10.12"
  }
 },
 "nbformat": 4,
 "nbformat_minor": 5
}
