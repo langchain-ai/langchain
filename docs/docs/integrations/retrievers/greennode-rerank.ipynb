{
 "cells": [
  {
   "cell_type": "markdown",
   "id": "bf733a38-db84-4363-89e2-de6735c37230",
   "metadata": {},
   "source": [
    "# GreenNode Rerank\n",
    "\n",
    ">[GreenNode](https://greennode.ai/) is a global AI solutions provider and a **NVIDIA Preferred Partner**, delivering full-stack AI capabilities—from infrastructure to application—for enterprises across the US, MENA, and APAC regions. Operating on **world-class infrastructure** (LEED Gold, TIA‑942, Uptime Tier III), GreenNode empowers enterprises, startups, and researchers with a comprehensive suite of AI services\n",
    "\n",
    "This notebook provides a walkthrough on getting started with the `GreenNodeRerank` retriever. It enables you to perform document search using built-in connectors or by integrating your own data sources, leveraging GreenNode's reranking capabilities for improved relevance."
   ]
  },
  {
   "cell_type": "markdown",
   "id": "925783da",
   "metadata": {},
   "source": [
    "## Overview\n",
    "\n",
    "The `GreenNodeRerank` class enables integration with GreenNode Serverless AI’s reranking models via [LangChain](https://www.langchain.com/). These models are designed to rescore and reorder search results based on semantic relevance, making them ideal for enhancing the accuracy of information retrieval systems.\n",
    "\n",
    "### Integration details\n",
    "\n",
    "- **Provider**: [GreenNode Serverless AI](https://aiplatform.console.greennode.ai/playground)\n",
    "- **Model Types**: Reranking models\n",
    "- **Primary Use Case**: Reranking search results based on semantic relevance\n",
    "- **Available Models**: Includes [BAAI/bge-reranker-v2-m3](https://huggingface.co/BAAI/bge-reranker-v2-m3) and other high-performance reranking models\n",
    "- **Scoring**: Returns relevance scores used to reorder document candidates based on query alignment"
   ]
  },
  {
   "cell_type": "markdown",
   "id": "96fd6397",
   "metadata": {},
   "source": [
    "## Setup\n",
    "\n",
    "### Installation\n",
    "\n",
    "The GreenNode integration can be installed via pip:"
   ]
  },
  {
   "cell_type": "code",
   "execution_count": null,
   "id": "22a5bae7",
   "metadata": {},
   "outputs": [],
   "source": [
    "%pip install --upgrade langchain-greennode"
   ]
  },
  {
   "cell_type": "markdown",
   "id": "d1e7d31d",
   "metadata": {},
   "source": [
    "### Credentials\n",
    "\n",
    "GreenNode requires an API key for authentication, which can be provided either as the `api_key` parameter during initialization or set as the environment variable `GREENNODE_API_KEY`. You can obtain an API key by registering for an account on [GreenNode Serverless AI](https://aiplatform.console.greennode.ai/playground)."
   ]
  },
  {
   "cell_type": "code",
   "execution_count": null,
   "id": "2c367be3",
   "metadata": {},
   "outputs": [],
   "source": [
    "import getpass\n",
    "import os\n",
    "\n",
    "# Make sure you've set your API key as an environment variable\n",
    "if \"GREENNODE_API_KEY\" not in os.environ:\n",
    "    os.environ[\"GREENNODE_API_KEY\"] = getpass.getpass(\"Enter your GreenNode API key: \")"
   ]
  },
  {
   "cell_type": "markdown",
   "id": "f39ffefc",
   "metadata": {},
   "source": [
    "## Instantiation\n",
    "\n",
    "The `GreenNodeRerank` class can be instantiated with optional parameters for the API key and model name:"
   ]
  },
  {
   "cell_type": "code",
   "execution_count": null,
   "id": "ce3981f0",
   "metadata": {},
   "outputs": [],
   "source": [
    "from langchain_greennode import GreenNodeRerank\n",
    "\n",
    "# Initialize the embeddings model\n",
    "reranker = GreenNodeRerank(\n",
    "    # api_key=\"YOUR_API_KEY\",  # You can pass the API key directly\n",
    "    model=\"BAAI/bge-reranker-v2-m3\",  # The default embedding model\n",
    "    top_n=3\n",
    ")"
   ]
  },
  {
   "cell_type": "markdown",
   "id": "9d961732",
   "metadata": {},
   "source": [
    "### Available Models\n",
    "\n",
    "The list of supported models is available at https://aiplatform.console.greennode.ai/models"
   ]
  },
  {
   "cell_type": "markdown",
   "id": "366b7894",
   "metadata": {},
   "source": [
    "## Reranking Search Results\n",
    "\n",
    "Reranking models enhance retrieval-augmented generation (RAG) workflows by refining and reordering initial search results based on semantic relevance. The example below demonstrates how to integrate GreenNodeRerank with a base retriever to improve the quality of retrieved documents."
   ]
  },
  {
   "cell_type": "code",
   "execution_count": 11,
   "id": "7be1732f",
   "metadata": {},
   "outputs": [
    {
     "name": "stdout",
     "output_type": "stream",
     "text": [
      "Reranked results for query: How do central banks fight rising prices?\n",
      "Result 1 with score: 0.125: Central banks use interest rates to control inflation and stabilize the economy\n",
      "Result 2 with score: 0.00491: Inflation represents the rate at which the general level of prices for goods and services rises\n",
      "Result 3 with score: 2e-05: Cryptocurrencies like Bitcoin operate on decentralized blockchain networks\n"
     ]
    }
   ],
   "source": [
    "from langchain.retrievers.contextual_compression import ContextualCompressionRetriever\n",
    "from langchain_community.vectorstores import FAISS\n",
    "from langchain_core.documents import Document\n",
    "\n",
    "from langchain_greennode import GreenNodeEmbeddings\n",
    "\n",
    "# Initialize the embeddings model\n",
    "embeddings = GreenNodeEmbeddings(\n",
    "    # api_key=\"YOUR_API_KEY\",  # You can pass the API key directly\n",
    "    model=\"BAAI/bge-m3\"  # The default embedding model\n",
    ")\n",
    "\n",
    "# Prepare documents (finance/economics domain)\n",
    "docs = [\n",
    "    Document(\n",
    "        page_content=\"Inflation represents the rate at which the general level of prices for goods and services rises\"\n",
    "    ),\n",
    "    Document(\n",
    "        page_content=\"Central banks use interest rates to control inflation and stabilize the economy\"\n",
    "    ),\n",
    "    Document(\n",
    "        page_content=\"Cryptocurrencies like Bitcoin operate on decentralized blockchain networks\"\n",
    "    ),\n",
    "    Document(\n",
    "        page_content=\"Stock markets are influenced by corporate earnings, investor sentiment, and economic indicators\"\n",
    "    ),\n",
    "]\n",
    "\n",
    "# Create a vector store and a base retriever\n",
    "vector_store = FAISS.from_documents(docs, embeddings)\n",
    "base_retriever = vector_store.as_retriever(search_kwargs={\"k\": 4})\n",
    "\n",
    "\n",
    "rerank_retriever = ContextualCompressionRetriever(\n",
    "    base_compressor=reranker,\n",
    "    base_retriever=base_retriever\n",
    ")\n",
    "\n",
    "# Perform retrieval with reranking\n",
    "query = \"How do central banks fight rising prices?\"\n",
    "results = rerank_retriever.get_relevant_documents(query)\n",
    "\n",
    "print(\"Reranked results for query:\", query)\n",
    "for i, doc in enumerate(results):\n",
    "    print(f\"Result {i+1} with score: {round(doc.metadata['relevance_score'], 5)}: {doc.page_content}\")"
   ]
  },
  {
   "cell_type": "markdown",
   "id": "db9b60b5",
   "metadata": {},
   "source": [
    "## Direct Usage\n",
    "\n",
    "The `GreenNodeRerank` class can be used independently to perform reranking of retrieved documents based on relevance scores. This functionality is particularly useful in scenarios where a primary retrieval step (e.g., keyword or vector search) returns a broad set of candidates, and a secondary model is needed to refine the results using more sophisticated semantic understanding. The class accepts a query and a list of candidate documents and returns a reordered list based on predicted relevance."
   ]
  },
  {
   "cell_type": "code",
   "execution_count": 13,
   "id": "ba424c9f",
   "metadata": {},
   "outputs": [
    {
     "name": "stdout",
     "output_type": "stream",
     "text": [
      "Result 1 with score: 1.0: Washington, D.C. (also known as simply Washington or D.C.) is the capital of the United States.\n",
      "Result 2 with score: 0.01166: Carson City is the capital city of the American state of Nevada.\n",
      "Result 3 with score: 0.00121: The Commonwealth of the Northern Mariana Islands is a group of islands in the Pacific Ocean. Its capital is Saipan.\n"
     ]
    }
   ],
   "source": [
    "test_documents = [\n",
    "    Document(page_content=\"Carson City is the capital city of the American state of Nevada.\"),\n",
    "    Document(page_content=\"Washington, D.C. (also known as simply Washington or D.C.) is the capital of the United States.\",),\n",
    "    Document(page_content=\"Capital punishment has existed in the United States since beforethe United States was a country.\"),\n",
    "    Document(page_content=\"The Commonwealth of the Northern Mariana Islands is a group of islands in the Pacific Ocean. Its capital is Saipan.\"),\n",
    "]\n",
    "\n",
    "test_query = \"What is the capital of the United States?\"\n",
    "results = reranker.rerank(test_documents, test_query)\n",
    "for i, res in enumerate(results):\n",
    "    print(f\"Result {i+1} with score: {round(res['relevance_score'], 5)}: {test_documents[res['index']].page_content}\")"
   ]
  },
  {
   "cell_type": "markdown",
   "id": "c5ace7f0",
   "metadata": {},
   "source": [
    "## API Reference\n",
    "\n",
    "For more details about the GreenNode Serverless AI API, visit the [GreenNode Serverless AI Documentation](https://aiplatform.console.greennode.ai/api-docs/maas)."
   ]
  }
 ],
 "metadata": {
  "kernelspec": {
   "display_name": "tradingagents",
   "language": "python",
   "name": "python3"
  },
  "language_info": {
   "codemirror_mode": {
    "name": "ipython",
    "version": 3
   },
   "file_extension": ".py",
   "mimetype": "text/x-python",
   "name": "python",
   "nbconvert_exporter": "python",
   "pygments_lexer": "ipython3",
   "version": "3.13.5"
  }
 },
 "nbformat": 4,
 "nbformat_minor": 5
}
