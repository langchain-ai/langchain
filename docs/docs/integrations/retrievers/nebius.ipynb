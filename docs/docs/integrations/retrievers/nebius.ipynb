{
 "cells": [
  {
   "cell_type": "raw",
   "id": "afaf8039",
   "metadata": {},
   "source": [
    "---\n",
    "sidebar_label: Nebius\n",
    "---"
   ]
  },
  {
   "cell_type": "markdown",
   "id": "2970dd75-8ebf-4b51-8282-9b454b8f356d",
   "metadata": {},
   "source": [
    "# Nebius Retriever\n",
    "\n",
    "The `NebiusRetriever` enables efficient similarity search using embeddings from [Nebius AI Studio](https://studio.nebius.ai/). It leverages high-quality embedding models to enable semantic search over documents.\n",
    "\n",
    "This retriever is optimized for scenarios where you need to perform similarity search over a collection of documents, but don't need to persist the vectors to a vector database. It performs vector similarity search in-memory using matrix operations, making it efficient for medium-sized document collections."
   ]
  },
  {
   "cell_type": "markdown",
   "id": "1c47fc36",
   "metadata": {},
   "source": [
    "## Setup\n",
    "\n",
    "### Installation\n",
    "\n",
    "The Nebius integration can be installed via pip:"
   ]
  },
  {
   "cell_type": "code",
   "execution_count": null,
   "id": "1ecdb29d",
   "metadata": {},
   "outputs": [],
   "source": [
    "%pip install --upgrade langchain-nebius"
   ]
  },
  {
   "cell_type": "markdown",
   "id": "89883202",
   "metadata": {},
   "source": [
    "### Credentials\n",
    "\n",
    "Nebius requires an API key that can be passed as an initialization parameter `api_key` or set as the environment variable `NEBIUS_API_KEY`. You can obtain an API key by creating an account on [Nebius AI Studio](https://studio.nebius.ai/)."
   ]
  },
  {
   "cell_type": "code",
   "execution_count": 11,
   "id": "637bb53f",
   "metadata": {},
   "outputs": [],
   "source": [
    "import getpass\n",
    "import os\n",
    "\n",
    "# Make sure you've set your API key as an environment variable\n",
    "if \"NEBIUS_API_KEY\" not in os.environ:\n",
    "    os.environ[\"NEBIUS_API_KEY\"] = getpass.getpass(\"Enter your Nebius API key: \")"
   ]
  },
  {
   "cell_type": "markdown",
   "id": "8304b4d9",
   "metadata": {},
   "source": [
    "## Instantiation\n",
    "\n",
    "The `NebiusRetriever` requires a `NebiusEmbeddings` instance and a list of documents. Here's how to initialize it:"
   ]
  },
  {
   "cell_type": "code",
   "execution_count": 12,
   "id": "37e9dc05",
   "metadata": {},
   "outputs": [],
   "source": [
    "from langchain_core.documents import Document\n",
    "from langchain_nebius import NebiusEmbeddings, NebiusRetriever\n",
    "\n",
    "# Create sample documents\n",
    "docs = [\n",
    "    Document(\n",
    "        page_content=\"Paris is the capital of France\", metadata={\"country\": \"France\"}\n",
    "    ),\n",
    "    Document(\n",
    "        page_content=\"Berlin is the capital of Germany\", metadata={\"country\": \"Germany\"}\n",
    "    ),\n",
    "    Document(\n",
    "        page_content=\"Rome is the capital of Italy\", metadata={\"country\": \"Italy\"}\n",
    "    ),\n",
    "    Document(\n",
    "        page_content=\"Madrid is the capital of Spain\", metadata={\"country\": \"Spain\"}\n",
    "    ),\n",
    "    Document(\n",
    "        page_content=\"London is the capital of the United Kingdom\",\n",
    "        metadata={\"country\": \"UK\"},\n",
    "    ),\n",
    "    Document(\n",
    "        page_content=\"Moscow is the capital of Russia\", metadata={\"country\": \"Russia\"}\n",
    "    ),\n",
    "    Document(\n",
    "        page_content=\"Washington DC is the capital of the United States\",\n",
    "        metadata={\"country\": \"USA\"},\n",
    "    ),\n",
    "    Document(\n",
    "        page_content=\"Tokyo is the capital of Japan\", metadata={\"country\": \"Japan\"}\n",
    "    ),\n",
    "    Document(\n",
    "        page_content=\"Beijing is the capital of China\", metadata={\"country\": \"China\"}\n",
    "    ),\n",
    "    Document(\n",
    "        page_content=\"Canberra is the capital of Australia\",\n",
    "        metadata={\"country\": \"Australia\"},\n",
    "    ),\n",
    "]\n",
    "\n",
    "# Initialize embeddings\n",
    "embeddings = NebiusEmbeddings()\n",
    "\n",
    "# Create retriever\n",
    "retriever = NebiusRetriever(\n",
    "    embeddings=embeddings,\n",
    "    docs=docs,\n",
    "    k=3,  # Number of documents to return\n",
    ")"
   ]
  },
  {
   "cell_type": "markdown",
   "id": "f5a731d2",
   "metadata": {},
   "source": [
    "## Usage\n",
    "\n",
    "### Retrieve Relevant Documents\n",
    "\n",
    "You can use the retriever to find documents related to a query:"
   ]
  },
  {
   "cell_type": "code",
   "execution_count": 13,
   "id": "3ed26f78",
   "metadata": {},
   "outputs": [
    {
     "name": "stdout",
     "output_type": "stream",
     "text": [
      "Query: What are some capitals in Europe?\n",
      "Top 3 results:\n",
      "1. Paris is the capital of France (Country: France)\n",
      "2. Berlin is the capital of Germany (Country: Germany)\n",
      "3. Rome is the capital of Italy (Country: Italy)\n"
     ]
    }
   ],
   "source": [
    "# Query for European capitals\n",
    "query = \"What are some capitals in Europe?\"\n",
    "results = retriever.invoke(query)\n",
    "\n",
    "print(f\"Query: {query}\")\n",
    "print(f\"Top {len(results)} results:\")\n",
    "for i, doc in enumerate(results):\n",
    "    print(f\"{i+1}. {doc.page_content} (Country: {doc.metadata['country']})\")"
   ]
  },
  {
   "cell_type": "markdown",
   "id": "72f31d5a",
   "metadata": {},
   "source": [
    "### Using get_relevant_documents\n",
    "\n",
    "You can also use the `get_relevant_documents` method directly (though `invoke` is the preferred interface):"
   ]
  },
  {
   "cell_type": "code",
   "execution_count": 14,
   "id": "e7b7170d",
   "metadata": {},
   "outputs": [
    {
     "name": "stdout",
     "output_type": "stream",
     "text": [
      "Query: What are the capitals in Asia?\n",
      "Top 3 results:\n",
      "1. Beijing is the capital of China (Country: China)\n",
      "2. Tokyo is the capital of Japan (Country: Japan)\n",
      "3. Canberra is the capital of Australia (Country: Australia)\n"
     ]
    }
   ],
   "source": [
    "# Query for Asian countries\n",
    "query = \"What are the capitals in Asia?\"\n",
    "results = retriever.get_relevant_documents(query)\n",
    "\n",
    "print(f\"Query: {query}\")\n",
    "print(f\"Top {len(results)} results:\")\n",
    "for i, doc in enumerate(results):\n",
    "    print(f\"{i+1}. {doc.page_content} (Country: {doc.metadata['country']})\")"
   ]
  },
  {
   "cell_type": "markdown",
   "id": "8d6a31c2",
   "metadata": {},
   "source": [
    "### Customizing Number of Results\n",
    "\n",
    "You can adjust the number of results at query time by passing `k` as a parameter:"
   ]
  },
  {
   "cell_type": "code",
   "execution_count": 15,
   "id": "5d81af33",
   "metadata": {},
   "outputs": [
    {
     "name": "stdout",
     "output_type": "stream",
     "text": [
      "Query: Where is France?\n",
      "Top 1 result:\n",
      "1. Paris is the capital of France (Country: France)\n"
     ]
    }
   ],
   "source": [
    "# Query for a specific country, with custom k\n",
    "query = \"Where is France?\"\n",
    "results = retriever.invoke(query, k=1)  # Override default k\n",
    "\n",
    "print(f\"Query: {query}\")\n",
    "print(f\"Top {len(results)} result:\")\n",
    "for i, doc in enumerate(results):\n",
    "    print(f\"{i+1}. {doc.page_content} (Country: {doc.metadata['country']})\")"
   ]
  },
  {
   "cell_type": "markdown",
   "id": "3e8a40f1",
   "metadata": {},
   "source": [
    "### Async Support\n",
    "\n",
    "NebiusRetriever supports async operations:"
   ]
  },
  {
   "cell_type": "code",
   "execution_count": 16,
   "id": "8fc36122",
   "metadata": {},
   "outputs": [
    {
     "name": "stdout",
     "output_type": "stream",
     "text": [
      "Async query: What are some capital cities?\n",
      "Top 3 results:\n",
      "1. Washington DC is the capital of the United States (Country: USA)\n",
      "2. Canberra is the capital of Australia (Country: Australia)\n",
      "3. Paris is the capital of France (Country: France)\n"
     ]
    }
   ],
   "source": [
    "import asyncio\n",
    "\n",
    "\n",
    "async def retrieve_async():\n",
    "    query = \"What are some capital cities?\"\n",
    "    results = await retriever.ainvoke(query)\n",
    "\n",
    "    print(f\"Async query: {query}\")\n",
    "    print(f\"Top {len(results)} results:\")\n",
    "    for i, doc in enumerate(results):\n",
    "        print(f\"{i+1}. {doc.page_content} (Country: {doc.metadata['country']})\")\n",
    "\n",
    "\n",
    "await retrieve_async()"
   ]
  },
  {
   "cell_type": "markdown",
   "id": "d5bc71e5",
   "metadata": {},
   "source": [
    "### Handling Empty Documents"
   ]
  },
  {
   "cell_type": "code",
   "execution_count": 17,
   "id": "123da4fb",
   "metadata": {},
   "outputs": [
    {
     "name": "stdout",
     "output_type": "stream",
     "text": [
      "Number of results: 0\n"
     ]
    }
   ],
   "source": [
    "# Create a retriever with empty documents\n",
    "empty_retriever = NebiusRetriever(\n",
    "    embeddings=embeddings,\n",
    "    docs=[],\n",
    "    k=2,  # Empty document list\n",
    ")\n",
    "\n",
    "# Test the retriever with empty docs\n",
    "results = empty_retriever.invoke(\"What are the capitals of European countries?\")\n",
    "print(f\"Number of results: {len(results)}\")"
   ]
  },
  {
   "cell_type": "markdown",
   "id": "9db2f342",
   "metadata": {},
   "source": [
    "## Use within a chain\n",
    "\n",
    "NebiusRetriever works seamlessly in LangChain RAG pipelines. Here's an example of creating a simple RAG chain with the NebiusRetriever:"
   ]
  },
  {
   "cell_type": "code",
   "execution_count": 18,
   "id": "e1e8c9f2",
   "metadata": {},
   "outputs": [
    {
     "name": "stdout",
     "output_type": "stream",
     "text": [
      "Based on the context provided, three European capitals are:\n",
      "\n",
      "1. Paris\n",
      "2. Berlin\n",
      "3. Rome\n"
     ]
    }
   ],
   "source": [
    "from langchain_core.output_parsers import StrOutputParser\n",
    "from langchain_core.prompts import ChatPromptTemplate\n",
    "from langchain_core.runnables import RunnablePassthrough\n",
    "from langchain_nebius import ChatNebius\n",
    "\n",
    "# Initialize LLM\n",
    "llm = ChatNebius(model=\"meta-llama/Llama-3.3-70B-Instruct-fast\")\n",
    "\n",
    "# Create a prompt template\n",
    "prompt = ChatPromptTemplate.from_template(\n",
    "    \"\"\"\n",
    "Answer the question based only on the following context:\n",
    "\n",
    "Context:\n",
    "{context}\n",
    "\n",
    "Question: {question}\n",
    "\"\"\"\n",
    ")\n",
    "\n",
    "\n",
    "# Format documents function\n",
    "def format_docs(docs):\n",
    "    return \"\\n\\n\".join(doc.page_content for doc in docs)\n",
    "\n",
    "\n",
    "# Create RAG chain\n",
    "rag_chain = (\n",
    "    {\"context\": retriever | format_docs, \"question\": RunnablePassthrough()}\n",
    "    | prompt\n",
    "    | llm\n",
    "    | StrOutputParser()\n",
    ")\n",
    "\n",
    "# Run the chain\n",
    "answer = rag_chain.invoke(\"What are three European capitals?\")\n",
    "print(answer)"
   ]
  },
  {
   "cell_type": "markdown",
   "id": "b3a6f2c4",
   "metadata": {},
   "source": [
    "### Creating a Search Tool\n",
    "\n",
    "You can use the `NebiusRetrievalTool` to create a tool for agents:"
   ]
  },
  {
   "cell_type": "code",
   "execution_count": 19,
   "id": "784d53c4",
   "metadata": {},
   "outputs": [
    {
     "name": "stdout",
     "output_type": "stream",
     "text": [
      "Tool results:\n",
      "Document 1:\n",
      "Paris is the capital of France\n",
      "\n",
      "Document 2:\n",
      "Berlin is the capital of Germany\n",
      "\n",
      "Document 3:\n",
      "Rome is the capital of Italy\n",
      "\n"
     ]
    }
   ],
   "source": [
    "from langchain_nebius import NebiusRetrievalTool\n",
    "\n",
    "# Create a retrieval tool\n",
    "tool = NebiusRetrievalTool(\n",
    "    retriever=retriever,\n",
    "    name=\"capital_search\",\n",
    "    description=\"Search for information about capital cities around the world\",\n",
    ")\n",
    "\n",
    "# Use the tool\n",
    "result = tool.invoke({\"query\": \"capitals in Europe\", \"k\": 3})\n",
    "print(\"Tool results:\")\n",
    "print(result)"
   ]
  },
  {
   "cell_type": "markdown",
   "id": "5a4a3453",
   "metadata": {},
   "source": [
    "## How It Works\n",
    "\n",
    "The NebiusRetriever works by:\n",
    "\n",
    "1. During initialization:\n",
    "   - It stores the provided documents\n",
    "   - It uses the provided NebiusEmbeddings to compute embeddings for all documents\n",
    "   - These embeddings are stored in memory for quick retrieval\n",
    "\n",
    "2. During retrieval (`invoke` or `get_relevant_documents`):\n",
    "   - It embeds the query using the same embedding model\n",
    "   - It computes similarity scores between the query embedding and all document embeddings\n",
    "   - It returns the top-k documents sorted by similarity\n",
    "\n",
    "This approach is efficient for medium-sized document collections, as it avoids the need for a separate vector database while still providing high-quality semantic search."
   ]
  },
  {
   "cell_type": "markdown",
   "id": "f7a35f40",
   "metadata": {},
   "source": [
    "## API reference\n",
    "\n",
    "For more details about the Nebius AI Studio API, visit the [Nebius AI Studio Documentation](https://studio.nebius.com/api-reference)."
   ]
  },
  {
   "cell_type": "markdown",
   "id": "96439983",
   "metadata": {},
   "source": []
  }
 ],
 "metadata": {
  "kernelspec": {
   "display_name": ".venv",
   "language": "python",
   "name": "python3"
  },
  "language_info": {
   "codemirror_mode": {
    "name": "ipython",
    "version": 3
   },
   "file_extension": ".py",
   "mimetype": "text/x-python",
   "name": "python",
   "nbconvert_exporter": "python",
   "pygments_lexer": "ipython3",
   "version": "3.12.8"
  }
 },
 "nbformat": 4,
 "nbformat_minor": 5
}
