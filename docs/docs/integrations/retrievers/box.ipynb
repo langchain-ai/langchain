{
 "cells": [
  {
   "cell_type": "raw",
   "id": "afaf8039",
   "metadata": {},
   "source": [
    "---\n",
    "sidebar_label: Box\n",
    "---"
   ]
  },
  {
   "cell_type": "markdown",
   "id": "e49f1e0d",
   "metadata": {},
   "source": [
    "# BoxRetriever\n",
    "\n",
    "This will help you getting started with the Box [retriever](/docs/concepts/retrievers). For detailed documentation of all BoxRetriever features and configurations head to the [API reference](https://python.langchain.com/api_reference/box/retrievers/langchain_box.retrievers.box.BoxRetriever.html).\n",
    "\n",
    "# Overview\n",
    "\n",
    "The `BoxRetriever` class helps you get your unstructured content from Box in Langchain's `Document` format. You can do this by searching for files based on a full-text search or using Box AI to retrieve a `Document` containing the result of an AI query against files. This requires including a `List[str]` containing Box file ids, i.e. `[\"12345\",\"67890\"]` \n",
    "\n",
    ":::info\n",
    "Box AI requires an Enterprise Plus license\n",
    ":::\n",
    "\n",
    "Files without a text representation will be skipped.\n",
    "\n",
    "### Integration details\n",
    "\n",
    "1: Bring-your-own data (i.e., index and search a custom corpus of documents):\n",
    "\n",
    "| Retriever | Self-host | Cloud offering | Package |\n",
    "| :--- | :--- | :---: | :---: |\n",
    "[BoxRetriever](https://python.langchain.com/api_reference/box/retrievers/langchain_box.retrievers.box.BoxRetriever.html) | ❌ | ✅ | langchain-box |\n",
    "\n",
    "## Setup\n",
    "\n",
    "In order to use the Box package, you will need a few things:\n",
    "\n",
    "* A Box account — If you are not a current Box customer or want to test outside of your production Box instance, you can use a [free developer account](https://account.box.com/signup/n/developer#ty9l3).\n",
    "* [A Box app](https://developer.box.com/guides/getting-started/first-application/) — This is configured in the [developer console](https://account.box.com/developers/console), and for Box AI, must have the `Manage AI` scope enabled. Here you will also select your authentication method\n",
    "* The app must be [enabled by the administrator](https://developer.box.com/guides/authorization/custom-app-approval/#manual-approval). For free developer accounts, this is whomever signed up for the account.\n",
    "\n",
    "### Credentials\n",
    "\n",
    "For these examples, we will use [token authentication](https://developer.box.com/guides/authentication/tokens/developer-tokens). This can be used with any [authentication method](https://developer.box.com/guides/authentication/). Just get the token with whatever methodology. If you want to learn more about how to use other authentication types with `langchain-box`, visit the [Box provider](/docs/integrations/providers/box) document."
   ]
  },
  {
   "cell_type": "code",
   "execution_count": 2,
   "id": "b87a8e8b-9b5a-4e78-97e4-274b6b0dd29f",
   "metadata": {},
   "outputs": [],
   "source": [
    "import getpass\n",
    "import os\n",
    "\n",
    "box_developer_token = getpass.getpass(\"Enter your Box Developer Token: \")"
   ]
  },
  {
   "cell_type": "markdown",
   "id": "72ee0c4b-9764-423a-9dbf-95129e185210",
   "metadata": {},
   "source": [
    "If you want to get automated tracing from individual queries, you can also set your [LangSmith](https://docs.smith.langchain.com/) API key by uncommenting below:"
   ]
  },
  {
   "cell_type": "code",
   "execution_count": 3,
   "id": "a15d341e-3e26-4ca3-830b-5aab30ed66de",
   "metadata": {},
   "outputs": [],
   "source": [
    "# os.environ[\"LANGSMITH_API_KEY\"] = getpass.getpass(\"Enter your LangSmith API key: \")\n",
    "# os.environ[\"LANGSMITH_TRACING\"] = \"true\""
   ]
  },
  {
   "cell_type": "markdown",
   "id": "0730d6a1-c893-4840-9817-5e5251676d5d",
   "metadata": {},
   "source": [
    "### Installation\n",
    "\n",
    "This retriever lives in the `langchain-box` package:"
   ]
  },
  {
   "cell_type": "code",
   "execution_count": 4,
   "id": "652d6238-1f87-422a-b135-f5abbb8652fc",
   "metadata": {},
   "outputs": [
    {
     "name": "stdout",
     "output_type": "stream",
     "text": [
      "Note: you may need to restart the kernel to use updated packages.\n"
     ]
    }
   ],
   "source": [
    "%pip install -qU langchain-box"
   ]
  },
  {
   "cell_type": "markdown",
   "id": "a38cde65-254d-4219-a441-068766c0d4b5",
   "metadata": {},
   "source": [
    "## Instantiation\n",
    "\n",
    "Now we can instantiate our retriever:\n",
    "\n",
    "## Search"
   ]
  },
  {
   "cell_type": "code",
   "execution_count": 5,
   "id": "70cc8e65-2a02-408a-bbc6-8ef649057d82",
   "metadata": {},
   "outputs": [],
   "source": [
    "from langchain_box import BoxRetriever\n",
    "\n",
    "retriever = BoxRetriever(box_developer_token=box_developer_token)"
   ]
  },
  {
   "cell_type": "markdown",
   "id": "2197e7d0",
   "metadata": {},
   "source": [
    "For more granular search, we offer a series of options to help you filter down the results. This uses the `langchain_box.utilities.SearchOptions` in conjunction with the `langchain_box.utilities.SearchTypeFilter` and `langchain_box.utilities.DocumentFiles` enums to filter on things like created date, which part of the file to search, and even to limit the search scope to a specific folder. \n",
    "\n",
    "For more information, check out the [API reference](https://python.langchain.com/v0.2/api_reference/box/utilities/langchain_box.utilities.box.SearchOptions.html)."
   ]
  },
  {
   "cell_type": "code",
   "execution_count": 6,
   "id": "97f3ae67",
   "metadata": {},
   "outputs": [
    {
     "data": {
      "text/plain": [
       "[Document(metadata={'source': 'https://dl.boxcloud.com/api/2.0/internal_files/1514555423624/versions/1663171610024/representations/extracted_text/content/', 'title': 'Invoice-A5555_txt'}, page_content='Vendor: AstroTech Solutions\\nInvoice Number: A5555\\n\\nLine Items:\\n    - Gravitational Wave Detector Kit: $800\\n    - Exoplanet Terrarium: $120\\nTotal: $920')]"
      ]
     },
     "execution_count": 6,
     "metadata": {},
     "output_type": "execute_result"
    }
   ],
   "source": [
    "from langchain_box.utilities import BoxSearchOptions, DocumentFiles, SearchTypeFilter\n",
    "\n",
    "box_folder_id = \"260931903795\"\n",
    "\n",
    "box_search_options = BoxSearchOptions(\n",
    "    ancestor_folder_ids=[box_folder_id],\n",
    "    search_type_filter=[SearchTypeFilter.FILE_CONTENT],\n",
    "    created_date_range=[\"2023-01-01T00:00:00-07:00\", \"2024-08-01T00:00:00-07:00,\"],\n",
    "    k=200,\n",
    "    size_range=[1, 1000000],\n",
    "    updated_data_range=None,\n",
    ")\n",
    "\n",
    "retriever = BoxRetriever(\n",
    "    box_developer_token=box_developer_token, box_search_options=box_search_options\n",
    ")\n",
    "\n",
    "retriever.invoke(\"AstroTech Solutions\")"
   ]
  },
  {
   "cell_type": "markdown",
   "id": "41287857-cfe9-4d39-a84d-e7bd9f1f59a8",
   "metadata": {},
   "source": [
    "## Box AI"
   ]
  },
  {
   "cell_type": "code",
   "execution_count": 7,
   "id": "ee0e726d-9974-4aa0-9ce1-0057ec3e540a",
   "metadata": {},
   "outputs": [],
   "source": [
    "from langchain_box import BoxRetriever\n",
    "\n",
    "box_file_ids = [\"1514555423624\", \"1514553902288\"]\n",
    "\n",
    "retriever = BoxRetriever(\n",
    "    box_developer_token=box_developer_token, box_file_ids=box_file_ids\n",
    ")"
   ]
  },
  {
   "cell_type": "markdown",
   "id": "5c5f2839-4020-424e-9fc9-07777eede442",
   "metadata": {},
   "source": [
    "## Usage"
   ]
  },
  {
   "cell_type": "code",
   "execution_count": 8,
   "id": "51a60dbe-9f2e-4e04-bb62-23968f17164a",
   "metadata": {},
   "outputs": [
    {
     "data": {
      "text/plain": [
       "[Document(metadata={'source': 'Box AI', 'title': 'Box AI What was the most expensive item purchased'}, page_content='The most expensive item purchased is the **Gravitational Wave Detector Kit** from AstroTech Solutions, which costs **$800**.')]"
      ]
     },
     "execution_count": 8,
     "metadata": {},
     "output_type": "execute_result"
    }
   ],
   "source": [
    "query = \"What was the most expensive item purchased\"\n",
    "\n",
    "retriever.invoke(query)"
   ]
  },
  {
   "cell_type": "markdown",
   "id": "31a59a51",
   "metadata": {},
   "source": [
    "## Citations\n",
    "\n",
    "With Box AI and the `BoxRetriever`, you can return the answer to your prompt, return the citations used by Box to get that answer, or both. No matter how you choose to use Box AI, the retriever returns a `List[Document]` object. We offer this flexibility with two `bool` arguments, `answer` and `citations`. Answer defaults to `True` and citations defaults to `False`, do you can omit both if you just want the answer. If you want both, you can just include `citations=True` and if you only want citations, you would include `answer=False` and `citations=True`\n",
    "\n",
    "### Get both"
   ]
  },
  {
   "cell_type": "code",
   "execution_count": 11,
   "id": "2eddc8c1",
   "metadata": {},
   "outputs": [
    {
     "data": {
      "text/plain": [
       "[Document(metadata={'source': 'Box AI', 'title': 'Box AI What was the most expensive item purchased'}, page_content='The most expensive item purchased is the **Gravitational Wave Detector Kit** from AstroTech Solutions, which costs **$800**.'),\n",
       " Document(metadata={'source': 'Box AI What was the most expensive item purchased', 'file_name': 'Invoice-A5555.txt', 'file_id': '1514555423624', 'file_type': 'file'}, page_content='Vendor: AstroTech Solutions\\nInvoice Number: A5555\\n\\nLine Items:\\n    - Gravitational Wave Detector Kit: $800\\n    - Exoplanet Terrarium: $120\\nTotal: $920')]"
      ]
     },
     "execution_count": 11,
     "metadata": {},
     "output_type": "execute_result"
    }
   ],
   "source": [
    "retriever = BoxRetriever(\n",
    "    box_developer_token=box_developer_token, box_file_ids=box_file_ids, citations=True\n",
    ")\n",
    "\n",
    "retriever.invoke(query)"
   ]
  },
  {
   "cell_type": "markdown",
   "id": "d2e93a2e",
   "metadata": {},
   "source": [
    "### Citations only"
   ]
  },
  {
   "cell_type": "code",
   "execution_count": 12,
   "id": "c1892b07",
   "metadata": {},
   "outputs": [
    {
     "data": {
      "text/plain": [
       "[Document(metadata={'source': 'Box AI What was the most expensive item purchased', 'file_name': 'Invoice-A5555.txt', 'file_id': '1514555423624', 'file_type': 'file'}, page_content='Vendor: AstroTech Solutions\\nInvoice Number: A5555\\n\\nLine Items:\\n    - Gravitational Wave Detector Kit: $800\\n    - Exoplanet Terrarium: $120\\nTotal: $920')]"
      ]
     },
     "execution_count": 12,
     "metadata": {},
     "output_type": "execute_result"
    }
   ],
   "source": [
    "retriever = BoxRetriever(\n",
    "    box_developer_token=box_developer_token,\n",
    "    box_file_ids=box_file_ids,\n",
    "    answer=False,\n",
    "    citations=True,\n",
    ")\n",
    "\n",
    "retriever.invoke(query)"
   ]
  },
  {
   "cell_type": "markdown",
   "id": "dfe8aad4-8626-4330-98a9-7ea1ca5d2e0e",
   "metadata": {},
   "source": [
    "## Use within a chain\n",
    "\n",
    "Like other retrievers, BoxRetriever can be incorporated into LLM applications via [chains](/docs/how_to/sequence/).\n",
    "\n",
    "We will need a LLM or chat model:\n",
    "\n",
    "import ChatModelTabs from \"@theme/ChatModelTabs\";\n",
    "\n",
    "<ChatModelTabs customVarName=\"llm\" />\n"
   ]
  },
  {
   "cell_type": "code",
   "execution_count": 7,
   "id": "42c1f14f-7761-4e59-87a9-289667e8a9af",
   "metadata": {},
   "outputs": [
    {
     "name": "stdout",
     "output_type": "stream",
     "text": [
      "Enter your OpenAI key:  ········\n"
     ]
    }
   ],
   "source": [
    "openai_key = getpass.getpass(\"Enter your OpenAI key: \")"
   ]
  },
  {
   "cell_type": "code",
   "execution_count": 8,
   "id": "25b647a3-f8f2-4541-a289-7a241e43f9df",
   "metadata": {},
   "outputs": [],
   "source": [
    "# | output: false\n",
    "# | echo: false\n",
    "\n",
    "from langchain_openai import ChatOpenAI\n",
    "\n",
    "llm = ChatOpenAI(model=\"gpt-4o-mini\", temperature=0, openai_api_key=openai_key)"
   ]
  },
  {
   "cell_type": "code",
   "execution_count": 42,
   "id": "23e11cc9-abd6-4855-a7eb-799f45ca01ae",
   "metadata": {},
   "outputs": [],
   "source": [
    "from langchain_core.output_parsers import StrOutputParser\n",
    "from langchain_core.prompts import ChatPromptTemplate\n",
    "from langchain_core.runnables import RunnablePassthrough\n",
    "\n",
    "box_search_options = BoxSearchOptions(\n",
    "    ancestor_folder_ids=[box_folder_id],\n",
    "    search_type_filter=[SearchTypeFilter.FILE_CONTENT],\n",
    "    created_date_range=[\"2023-01-01T00:00:00-07:00\", \"2024-08-01T00:00:00-07:00,\"],\n",
    "    k=200,\n",
    "    size_range=[1, 1000000],\n",
    "    updated_data_range=None,\n",
    ")\n",
    "\n",
    "retriever = BoxRetriever(\n",
    "    box_developer_token=box_developer_token, box_search_options=box_search_options\n",
    ")\n",
    "\n",
    "context = \"You are a finance professional that handles invoices and purchase orders.\"\n",
    "question = \"Show me all the items purchased from AstroTech Solutions\"\n",
    "\n",
    "prompt = ChatPromptTemplate.from_template(\n",
    "    \"\"\"Answer the question based only on the context provided.\n",
    "\n",
    "    Context: {context}\n",
    "\n",
    "    Question: {question}\"\"\"\n",
    ")\n",
    "\n",
    "\n",
    "def format_docs(docs):\n",
    "    return \"\\n\\n\".join(doc.page_content for doc in docs)\n",
    "\n",
    "\n",
    "chain = (\n",
    "    {\"context\": retriever | format_docs, \"question\": RunnablePassthrough()}\n",
    "    | prompt\n",
    "    | llm\n",
    "    | StrOutputParser()\n",
    ")"
   ]
  },
  {
   "cell_type": "code",
   "execution_count": 43,
   "id": "d47c37dd-5c11-416c-a3b6-bec413cd70e8",
   "metadata": {},
   "outputs": [
    {
     "data": {
      "text/plain": [
       "'- Gravitational Wave Detector Kit: $800\\n- Exoplanet Terrarium: $120'"
      ]
     },
     "execution_count": 43,
     "metadata": {},
     "output_type": "execute_result"
    }
   ],
   "source": [
    "chain.invoke(question)"
   ]
  },
  {
   "cell_type": "markdown",
   "id": "04813f37-ac97-48f3-8001-98c6c0d50c15",
   "metadata": {},
   "source": [
    "## Use as an agent tool\n",
    "\n",
    "Like other retrievers, BoxRetriever can be also be added to a LangGraph agent as a tool."
   ]
  },
  {
   "cell_type": "code",
   "execution_count": null,
   "id": "24e617ff-2285-4056-9421-9f9bfd3044b8",
   "metadata": {},
   "outputs": [],
   "source": [
    "pip install -U langsmith"
   ]
  },
  {
   "cell_type": "code",
   "execution_count": 27,
   "id": "52a56c14-228e-4b11-a6bd-5b75c0f403fa",
   "metadata": {},
   "outputs": [],
   "source": [
    "from langchain import hub\n",
    "from langchain.agents import AgentExecutor, create_openai_tools_agent\n",
    "from langchain.tools.retriever import create_retriever_tool"
   ]
  },
  {
   "cell_type": "code",
   "execution_count": 34,
   "id": "b2e7b413-f49a-4bfe-b1e1-d0643704686e",
   "metadata": {},
   "outputs": [],
   "source": [
    "box_search_options = BoxSearchOptions(\n",
    "    ancestor_folder_ids=[box_folder_id],\n",
    "    search_type_filter=[SearchTypeFilter.FILE_CONTENT],\n",
    "    created_date_range=[\"2023-01-01T00:00:00-07:00\", \"2024-08-01T00:00:00-07:00,\"],\n",
    "    k=200,\n",
    "    size_range=[1, 1000000],\n",
    "    updated_data_range=None,\n",
    ")\n",
    "\n",
    "retriever = BoxRetriever(\n",
    "    box_developer_token=box_developer_token, box_search_options=box_search_options\n",
    ")\n",
    "\n",
    "box_search_tool = create_retriever_tool(\n",
    "    retriever,\n",
    "    \"box_search_tool\",\n",
    "    \"This tool is used to search Box and retrieve documents that match the search criteria\",\n",
    ")\n",
    "tools = [box_search_tool]"
   ]
  },
  {
   "cell_type": "code",
   "execution_count": 35,
   "id": "0cfdb1bf-d328-4d56-aad7-7c71064c091f",
   "metadata": {},
   "outputs": [
    {
     "name": "stderr",
     "output_type": "stream",
     "text": [
      "/Users/shurrey/local/langchain/.venv/lib/python3.11/site-packages/langsmith/client.py:312: LangSmithMissingAPIKeyWarning: API key must be provided when using hosted LangSmith API\n",
      "  warnings.warn(\n"
     ]
    }
   ],
   "source": [
    "prompt = hub.pull(\"hwchase17/openai-tools-agent\")\n",
    "prompt.messages\n",
    "\n",
    "llm = ChatOpenAI(temperature=0, openai_api_key=openai_key)\n",
    "\n",
    "agent = create_openai_tools_agent(llm, tools, prompt)\n",
    "agent_executor = AgentExecutor(agent=agent, tools=tools)"
   ]
  },
  {
   "cell_type": "code",
   "execution_count": 36,
   "id": "3b928f20-a28b-4954-bc71-ad35eba27253",
   "metadata": {
    "editable": true,
    "slideshow": {
     "slide_type": ""
    },
    "tags": []
   },
   "outputs": [],
   "source": [
    "result = agent_executor.invoke(\n",
    "    {\n",
    "        \"input\": \"list the items I purchased from AstroTech Solutions from most expensive to least expensive\"\n",
    "    }\n",
    ")"
   ]
  },
  {
   "cell_type": "code",
   "execution_count": 37,
   "id": "1ae20ded-69ae-4b4e-b7c1-07aa2d50db31",
   "metadata": {
    "editable": true,
    "slideshow": {
     "slide_type": ""
    },
    "tags": []
   },
   "outputs": [
    {
     "name": "stdout",
     "output_type": "stream",
     "text": [
      "result The items you purchased from AstroTech Solutions from most expensive to least expensive are:\n",
      "\n",
      "1. Gravitational Wave Detector Kit: $800\n",
      "2. Exoplanet Terrarium: $120\n",
      "\n",
      "Total: $920\n"
     ]
    }
   ],
   "source": [
    "print(f\"result {result['output']}\")"
   ]
  },
  {
   "cell_type": "markdown",
   "id": "8b5b8adb-77ad-43e7-a41c-7880a787b43e",
   "metadata": {},
   "source": [
    "## Extra fields\n",
    "\n",
    "All Box connectors offer the ability to select additional fields from the Box `FileFull` object to return as custom LangChain metadata. Each object accepts an optional `List[str]` called `extra_fields` containing the json key from the return object, like `extra_fields=[\"shared_link\"]`. \n",
    "\n",
    "The connector will add this field to the list of fields the integration needs to function and then add the results to the metadata returned in the `Document` or `Blob`, like `\"metadata\" : { \"source\" : \"source, \"shared_link\" : \"shared_link\" }`. If the field is unavailable for that file, it will be returned as an empty string, like `\"shared_link\" : \"\"`."
   ]
  },
  {
   "cell_type": "markdown",
   "id": "3a5bb5ca-c3ae-4a58-be67-2cd18574b9a3",
   "metadata": {},
   "source": [
    "## API reference\n",
    "\n",
    "For detailed documentation of all BoxRetriever features and configurations head to the [API reference](https://python.langchain.com/api_reference/box/retrievers/langchain_box.retrievers.box.BoxRetriever.html).\n",
    "\n",
    "\n",
    "## Help\n",
    "\n",
    "If you have questions, you can check out our [developer documentation](https://developer.box.com) or reach out to use in our [developer community](https://community.box.com)."
   ]
  }
 ],
 "metadata": {
  "kernelspec": {
   "display_name": "Python 3 (ipykernel)",
   "language": "python",
   "name": "python3"
  },
  "language_info": {
   "codemirror_mode": {
    "name": "ipython",
    "version": 3
   },
   "file_extension": ".py",
   "mimetype": "text/x-python",
   "name": "python",
   "nbconvert_exporter": "python",
   "pygments_lexer": "ipython3",
   "version": "3.11.6"
  }
 },
 "nbformat": 4,
 "nbformat_minor": 5
}
