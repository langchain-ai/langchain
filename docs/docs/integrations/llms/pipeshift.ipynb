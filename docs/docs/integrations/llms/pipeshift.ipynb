{
 "cells": [
  {
   "cell_type": "raw",
   "id": "67db2992",
   "metadata": {},
   "source": [
    "---\n",
    "sidebar_label: Pipeshift\n",
    "---"
   ]
  },
  {
   "cell_type": "markdown",
   "id": "9597802c",
   "metadata": {},
   "source": [
    "# Pipeshift\n",
    "\n",
    "This will help you get started with Pipeshift completion models (LLMs) using LangChain. For detailed documentation on `Pipeshift` features and configuration options, please refer to the [API reference](https://dashboard.pipeshift.com/docs).\n",
    "\n",
    "## Overview\n",
    "### Integration details\n",
    "\n",
    "| Class | Package | Local | Serializable | [JS support](https://js.langchain.com/docs/integrations/llms/pipeshift) | Package downloads | Package latest |\n",
    "| :--- | :--- | :---: | :---: |  :---: | :---: | :---: |\n",
    "| [Pipeshift](https://dashboard.pipeshift.com/docs) | [langchain-pipeshift](https://pypi.org/project/langchain-pipeshift/) | ❌ | - | ❌ | ![PyPI - Downloads](https://img.shields.io/pypi/dm/langchain-pipeshift?style=flat-square&label=%20) | ![PyPI - Version](https://img.shields.io/pypi/v/langchain-pipeshift?style=flat-square&label=%20) |\n",
    "\n",
    "## Setup\n",
    "\n",
    "To access Pipeshift models you'll need to create a Pipeshift account, get an API key, and install the `langchain-pipeshift` integration package.\n",
    "\n",
    "### Credentials\n",
    "\n",
    "Head to [Pipeshift](https://dashboard.pipeshift.com) to sign up to Pipeshift and generate an API key. Once you've done this set the PIPESHIFT_API_KEY environment variable:"
   ]
  },
  {
   "cell_type": "code",
   "execution_count": 1,
   "id": "bc51e756",
   "metadata": {},
   "outputs": [],
   "source": [
    "import getpass\n",
    "import os\n",
    "\n",
    "if not os.getenv(\"PIPESHIFT_API_KEY\"):\n",
    "    os.environ[\"PIPESHIFT_API_KEY\"] = getpass.getpass(\"Enter your Pipeshift API key: \")"
   ]
  },
  {
   "cell_type": "markdown",
   "id": "4b6e1ca6",
   "metadata": {},
   "source": [
    "If you want to get automated tracing of your model calls you can also set your [LangSmith](https://docs.smith.langchain.com/) API key by uncommenting below:"
   ]
  },
  {
   "cell_type": "code",
   "execution_count": 2,
   "id": "196c2b41",
   "metadata": {},
   "outputs": [],
   "source": [
    "# os.environ[\"LANGCHAIN_TRACING_V2\"] = \"true\"\n",
    "# os.environ[\"LANGCHAIN_API_KEY\"] = getpass.getpass(\"Enter your LangSmith API key: \")"
   ]
  },
  {
   "cell_type": "markdown",
   "id": "809c6577",
   "metadata": {},
   "source": [
    "### Installation\n",
    "\n",
    "The LangChain Pipeshift integration lives in the `langchain-pipeshift` package:"
   ]
  },
  {
   "cell_type": "code",
   "execution_count": 3,
   "id": "59c710c4",
   "metadata": {},
   "outputs": [
    {
     "name": "stdout",
     "output_type": "stream",
     "text": [
      "Note: you may need to restart the kernel to use updated packages.\n"
     ]
    }
   ],
   "source": [
    "%pip install -qU langchain-pipeshift"
   ]
  },
  {
   "cell_type": "markdown",
   "id": "0a760037",
   "metadata": {},
   "source": [
    "## Instantiation\n",
    "\n",
    "Now we can instantiate our model object and generate chat completions:"
   ]
  },
  {
   "cell_type": "code",
   "execution_count": 4,
   "id": "a0562a13",
   "metadata": {},
   "outputs": [],
   "source": [
    "from langchain_pipeshift import Pipeshift\n",
    "\n",
    "llm = Pipeshift(\n",
    "    model=\"meta-llama/Meta-Llama-3.1-8B-Instruct\",\n",
    "    temperature=0,\n",
    "    max_tokens=512,\n",
    ")"
   ]
  },
  {
   "cell_type": "markdown",
   "id": "0ee90032",
   "metadata": {},
   "source": [
    "## Invocation"
   ]
  },
  {
   "cell_type": "code",
   "execution_count": 5,
   "id": "035dea0f",
   "metadata": {
    "tags": []
   },
   "outputs": [
    {
     "data": {
      "text/plain": [
       "'\\xa0specializes in digital transformation and innovation for industry leaders. We leverage AI and IoT technology to provide data-driven insights, predictive analysis and decision support systems to our clients.\\nAbout our company:\\nOur company is built around the passion of creating positive impact through AI innovation. Pipeshift brings together top talent in AI, data science, software engineering, and business consultancy to deliver tailored solutions that drive growth and improvement for our clients across various industries.\\nOur Mission and Values:\\nOur mission is to revolutionize industries by harnessing the power of emerging technologies, like AI and IoT, to unlock new potential and drive progress. Our values are built around collaboration, innovation, integrity, customer value, and continuous learning.\\nJob Title: Software Engineer (Mobile App Development)\\nAbout the role:\\nAs a Software Engineer (Mobile App Development) at Pipeshift, you will be at the forefront of cutting-edge mobile app development. Your responsibilities will include designing, developing, and implementing scalable and reliable mobile apps for various platforms, such as Android and iOS.\\nResponsibilities\\nDesign and develop mobile apps for various platforms using Java, Kotlin, Swift, or React Native\\nWork collaboratively with cross-functional teams to gather requirements, plan and prioritize projects\\nImplement UI/UX design principles to deliver user-friendly and visually appealing apps\\nWrite clean, maintainable, and efficient code, adhering to best coding practices and coding standards\\nTest and debug mobile apps to ensure high-quality, reliable, and stable performance\\nCollaborate with the QA team to ensure all mobile apps meet or exceed quality and performance expectations\\nStay up-to-date with industry trends, new technologies, and platform updates to enhance app development skills\\nParticipate in code reviews to ensure code quality and adherence to coding standards\\nSupport the DevOps team in continuous integration and delivery of mobile apps\\nParticipate in the design and maintenance of technical documentation, coding standards and guidelines\\nConduct peer mentoring and training to promote knowledge sharing and growth\\nExperience and requirements\\n2+ years of experience in mobile app development, or relevant technology experience with strong passion for mobile development.\\nProficient in one or more mobile app development frameworks: React Native, iOS (Swift), Android (Kotlin/Java), Flutter, etc.\\nStrong understanding of OOP (object-oriented programming) principles, design patterns, and data structures.\\nExperience with Agile methodologies, version control systems (e.g., Git), and CI/CD pipelines (e.g., Jenkins, Travis CI, CircleCI).\\nGood coding skills in languages such as Java, Kotlin, Swift,'"
      ]
     },
     "execution_count": 11,
     "metadata": {},
     "output_type": "execute_result"
    }
   ],
   "source": [
    "input_text = \"Pipeshift is an AI company that \"\n",
    "\n",
    "completion = llm.invoke(input_text)\n",
    "completion"
   ]
  },
  {
   "cell_type": "markdown",
   "id": "add38532",
   "metadata": {},
   "source": [
    "## Chaining\n",
    "\n",
    "We can also [chain](/docs/how_to/sequence/) our llm with a prompt template"
   ]
  },
  {
   "cell_type": "markdown",
   "id": "e9bdfcef",
   "metadata": {},
   "source": [
    "## API reference\n",
    "\n",
    "For detailed documentation of all `Pipeshift` features and configurations head to the API reference: https://dashboard.pipeshift.com/docs "
   ]
  }
 ],
 "metadata": {
  "kernelspec": {
   "display_name": "Python 3",
   "language": "python",
   "name": "python3"
  },
  "language_info": {
   "codemirror_mode": {
    "name": "ipython",
    "version": 3
   },
   "file_extension": ".py",
   "mimetype": "text/x-python",
   "name": "python",
   "nbconvert_exporter": "python",
   "pygments_lexer": "ipython3",
   "version": "3.12.7"
  }
 },
 "nbformat": 4,
 "nbformat_minor": 5
}
