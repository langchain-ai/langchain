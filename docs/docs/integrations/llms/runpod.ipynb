{
 "cells": [
  {
   "cell_type": "markdown",
   "metadata": {},
   "source": [
    "# RunPod LLM\n",
    "\n",
    "This guide covers how to use the LangChain `RunPod` LLM class to interact with text generation models hosted on [RunPod Serverless](https://www.runpod.io/serverless-gpu)."
   ]
  },
  {
   "cell_type": "markdown",
   "metadata": {},
   "source": [
    "## Setup\n",
    "\n",
    "1. **Install the package:**\n",
    "   ```bash\n",
    "   pip install -qU langchain-runpod\n",
    "   ```\n",
    "2. **Deploy an LLM Endpoint:** Follow the setup steps in the [RunPod Provider Guide](/docs/integrations/providers/runpod#setup) to deploy a compatible text generation endpoint on RunPod Serverless and get its Endpoint ID.\n",
    "3. **Set Environment Variables:** Make sure `RUNPOD_API_KEY` and `RUNPOD_ENDPOINT_ID` are set."
   ]
  },
  {
   "cell_type": "code",
   "execution_count": null,
   "metadata": {
    "vscode": {
     "languageId": "plaintext"
    }
   },
   "outputs": [],
   "source": [
    "import os\n",
    "import getpass\n",
    "# Make sure environment variables are set (or pass them directly to RunPod)\n",
    "if \"RUNPOD_API_KEY\" not in os.environ:\n",
    "    os.environ[\"RUNPOD_API_KEY\"] = getpass.getpass(\"Enter your RunPod API Key: \")\n",
    "if \"RUNPOD_ENDPOINT_ID\" not in os.environ:\n",
    "    os.environ[\"RUNPOD_ENDPOINT_ID\"] = input(\"Enter your RunPod Endpoint ID: \")"
   ]
  },
  {
   "cell_type": "markdown",
   "metadata": {},
   "source": [
    "## Instantiation\n",
    "\n",
    "Initialize the `RunPod` class. You can pass model-specific parameters via `model_kwargs` and configure polling behavior."
   ]
  },
  {
   "cell_type": "code",
   "execution_count": null,
   "metadata": {
    "vscode": {
     "languageId": "plaintext"
    }
   },
   "outputs": [],
   "source": [
    "from langchain_runpod import RunPod\n",
    "\n",
    "llm = RunPod(\n",
    "    # runpod_endpoint_id can be passed here if not set in env\n",
    "    model_kwargs={\n",
    "        \"max_new_tokens\": 256,\n",
    "        \"temperature\": 0.6,\n",
    "        \"top_k\": 50,\n",
    "        # Add other parameters supported by your endpoint handler\n",
    "    },\n",
    "    # Optional: Adjust polling\n",
    "    # poll_interval=0.3,\n",
    "    # max_polling_attempts=100\n",
    ")"
   ]
  },
  {
   "cell_type": "markdown",
   "metadata": {},
   "source": [
    "## Basic Usage\n",
    "\n",
    "Use the standard LangChain `invoke`, `ainvoke`, `stream`, `astream` methods."
   ]
  },
  {
   "cell_type": "code",
   "execution_count": null,
   "metadata": {
    "vscode": {
     "languageId": "plaintext"
    }
   },
   "outputs": [],
   "source": [
    "prompt = \"Write a tagline for an ice cream shop on the moon.\"\n",
    "\n",
    "# Invoke (Sync)\n",
    "try:\n",
    "    response = llm.invoke(prompt)\n",
    "    print(\"--- Sync Invoke Response ---\")\n",
    "    print(response)\n",
    "except Exception as e:\n",
    "    print(f\"Error invoking LLM: {e}. Ensure endpoint ID/API key are correct and endpoint is active/compatible.\")"
   ]
  },
  {
   "cell_type": "code",
   "execution_count": null,
   "metadata": {
    "vscode": {
     "languageId": "plaintext"
    }
   },
   "outputs": [],
   "source": [
    "# Stream (Sync, simulated via polling /stream)\n",
    "print(\"\\n--- Sync Stream Response ---\")\n",
    "try:\n",
    "    for chunk in llm.stream(prompt):\n",
    "        print(chunk, end=\"\", flush=True)\n",
    "    print()  # Newline\n",
    "except Exception as e:\n",
    "    print(f\"\\nError streaming LLM: {e}. Ensure endpoint handler supports streaming output format.\")"
   ]
  }
 ],
 "metadata": {
  "language_info": {
   "name": "python"
  }
 },
 "nbformat": 4,
 "nbformat_minor": 2
}
