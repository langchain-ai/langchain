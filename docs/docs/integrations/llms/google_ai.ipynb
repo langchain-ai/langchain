{
 "cells": [
  {
   "cell_type": "raw",
   "id": "675d11f1",
   "metadata": {},
   "source": [
    "---\n",
    "keywords: [gemini, GoogleGenerativeAI, gemini-pro]\n",
    "---"
   ]
  },
  {
   "cell_type": "markdown",
   "id": "7aZWXpbf0Eph",
   "metadata": {
    "id": "7aZWXpbf0Eph"
   },
   "source": [
    "# Google AI\n"
   ]
  },
  {
   "cell_type": "markdown",
   "id": "bead5ede-d9cc-44b9-b062-99c90a10cf40",
   "metadata": {},
   "source": [
    ":::caution\n",
    "You are currently on a page documenting the use of Google models as [text completion models](/docs/concepts/text_llms). Many popular Google models are [chat completion models](/docs/concepts/chat_models).\n",
    "\n",
    "You may be looking for [this page instead](/docs/integrations/chat/google_generative_ai/).\n",
    ":::\n",
    "\n",
    "A guide on using [Google Generative AI](https://developers.generativeai.google/) models with Langchain. Note: It's separate from Google Cloud Vertex AI [integration](/docs/integrations/llms/google_vertex_ai_palm)."
   ]
  },
  {
   "cell_type": "markdown",
   "id": "H4AjsqTswBCE",
   "metadata": {
    "id": "H4AjsqTswBCE"
   },
   "source": [
    "## Setting up\n"
   ]
  },
  {
   "cell_type": "markdown",
   "id": "EFHNUieMwJrl",
   "metadata": {
    "id": "EFHNUieMwJrl"
   },
   "source": [
    "To use Google Generative AI you must install the `langchain-google-genai` Python package and generate an API key. [Read more details](https://developers.generativeai.google/)."
   ]
  },
  {
   "cell_type": "code",
   "execution_count": null,
   "id": "8Qzm6SqKwgak",
   "metadata": {},
   "outputs": [],
   "source": [
    "%pip install --upgrade --quiet  langchain-google-genai"
   ]
  },
  {
   "cell_type": "code",
   "execution_count": null,
   "id": "7ONb7ZtOwjbo",
   "metadata": {},
   "outputs": [],
   "source": [
    "from langchain_google_genai import GoogleGenerativeAI"
   ]
  },
  {
   "cell_type": "code",
   "execution_count": 2,
   "id": "X3pjCW0i22gm",
   "metadata": {},
   "outputs": [],
   "source": [
    "from getpass import getpass\n",
    "\n",
    "api_key = getpass()"
   ]
  },
  {
   "cell_type": "code",
   "execution_count": 3,
   "id": "GT50LgFP0j-w",
   "metadata": {},
   "outputs": [
    {
     "name": "stdout",
     "output_type": "stream",
     "text": [
      "**Pros of Python:**\n",
      "\n",
      "* **Easy to learn:** Python is a very easy-to-learn programming language, even for beginners. Its syntax is simple and straightforward, and there are a lot of resources available to help you get started.\n",
      "* **Versatile:** Python can be used for a wide variety of tasks, including web development, data science, and machine learning. It's also a good choice for beginners because it can be used for a variety of projects, so you can learn the basics and then move on to more complex tasks.\n",
      "* **High-level:** Python is a high-level programming language, which means that it's closer to human language than other programming languages. This makes it easier to read and understand, which can be a big advantage for beginners.\n",
      "* **Open-source:** Python is an open-source programming language, which means that it's free to use and there are a lot of resources available to help you learn it.\n",
      "* **Community:** Python has a large and active community of developers, which means that there are a lot of people who can help you if you get stuck.\n",
      "\n",
      "**Cons of Python:**\n",
      "\n",
      "* **Slow:** Python is a relatively slow programming language compared to some other languages, such as C++. This can be a disadvantage if you're working on computationally intensive tasks.\n",
      "* **Not as performant:** Python is not as performant as some other programming languages, such as C++ or Java. This can be a disadvantage if you're working on projects that require high performance.\n",
      "* **Dynamic typing:** Python is a dynamically typed programming language, which means that the type of a variable can change during runtime. This can be a disadvantage if you need to ensure that your code is type-safe.\n",
      "* **Unmanaged memory:** Python uses a garbage collection system to manage memory. This can be a disadvantage if you need to have more control over memory management.\n",
      "\n",
      "Overall, Python is a very good programming language for beginners. It's easy to learn, versatile, and has a large community of developers. However, it's important to be aware of its limitations, such as its slow performance and lack of performance.\n"
     ]
    }
   ],
   "source": [
    "llm = GoogleGenerativeAI(model=\"models/text-bison-001\", google_api_key=api_key)\n",
    "print(\n",
    "    llm.invoke(\n",
    "        \"What are some of the pros and cons of Python as a programming language?\"\n",
    "    )\n",
    ")"
   ]
  },
  {
   "cell_type": "code",
   "execution_count": 4,
   "id": "TSGdxkJtwl8-",
   "metadata": {},
   "outputs": [
    {
     "name": "stdout",
     "output_type": "stream",
     "text": [
      "**Pros:**\n",
      "\n",
      "* **Simplicity and Readability:** Python is known for its simple and easy-to-read syntax, which makes it accessible to beginners and reduces the chance of errors. It uses indentation to define blocks of code, making the code structure clear and visually appealing.\n",
      "\n",
      "* **Versatility:** Python is a general-purpose language, meaning it can be used for a wide range of tasks, including web development, data science, machine learning, and desktop applications. This versatility makes it a popular choice for various projects and industries.\n",
      "\n",
      "* **Large Community:** Python has a vast and active community of developers, which contributes to its growth and popularity. This community provides extensive documentation, tutorials, and open-source libraries, making it easy for Python developers to find support and resources.\n",
      "\n",
      "* **Extensive Libraries:** Python offers a rich collection of libraries and frameworks for various tasks, such as data analysis (NumPy, Pandas), web development (Django, Flask), machine learning (Scikit-learn, TensorFlow), and many more. These libraries provide pre-built functions and modules, allowing developers to quickly and efficiently solve common problems.\n",
      "\n",
      "* **Cross-Platform Support:** Python is cross-platform, meaning it can run on various operating systems, including Windows, macOS, and Linux. This allows developers to write code that can be easily shared and used across different platforms.\n",
      "\n",
      "**Cons:**\n",
      "\n",
      "* **Speed and Performance:** Python is generally slower than compiled languages like C++ or Java due to its interpreted nature. This can be a disadvantage for performance-intensive tasks, such as real-time systems or heavy numerical computations.\n",
      "\n",
      "* **Memory Usage:** Python programs tend to consume more memory compared to compiled languages. This is because Python uses a dynamic memory allocation system, which can lead to memory fragmentation and higher memory usage.\n",
      "\n",
      "* **Lack of Static Typing:** Python is a dynamically typed language, which means that data types are not explicitly defined for variables. This can make it challenging to detect type errors during development, which can lead to unexpected behavior or errors at runtime.\n",
      "\n",
      "* **GIL (Global Interpreter Lock):** Python uses a global interpreter lock (GIL) to ensure that only one thread can execute Python bytecode at a time. This can limit the scalability and parallelism of Python programs, especially in multi-threaded or multiprocessing scenarios.\n",
      "\n",
      "* **Package Management:** While Python has a vast ecosystem of libraries and packages, managing dependencies and package versions can be challenging. The Python Package Index (PyPI) is the official repository for Python packages, but it can be difficult to ensure compatibility and avoid conflicts between different versions of packages.\n"
     ]
    }
   ],
   "source": [
    "llm = GoogleGenerativeAI(model=\"gemini-pro\", google_api_key=api_key)\n",
    "print(\n",
    "    llm.invoke(\n",
    "        \"What are some of the pros and cons of Python as a programming language?\"\n",
    "    )\n",
    ")"
   ]
  },
  {
   "cell_type": "markdown",
   "id": "OQ_SlL0K1Cw6",
   "metadata": {
    "id": "OQ_SlL0K1Cw6"
   },
   "source": [
    "## Using in a chain"
   ]
  },
  {
   "cell_type": "code",
   "execution_count": 5,
   "id": "Nwc9P5_ry79W",
   "metadata": {},
   "outputs": [],
   "source": [
    "from langchain_core.prompts import PromptTemplate"
   ]
  },
  {
   "cell_type": "code",
   "execution_count": 6,
   "id": "35856bf2-aa5e-436b-977a-9e5725b1a595",
   "metadata": {},
   "outputs": [
    {
     "name": "stdout",
     "output_type": "stream",
     "text": [
      "4\n"
     ]
    }
   ],
   "source": [
    "template = \"\"\"Question: {question}\n",
    "\n",
    "Answer: Let's think step by step.\"\"\"\n",
    "prompt = PromptTemplate.from_template(template)\n",
    "\n",
    "chain = prompt | llm\n",
    "\n",
    "question = \"How much is 2+2?\"\n",
    "print(chain.invoke({\"question\": question}))"
   ]
  },
  {
   "cell_type": "markdown",
   "id": "ueAin0xQzCqq",
   "metadata": {
    "id": "ueAin0xQzCqq"
   },
   "source": [
    "## Streaming calls"
   ]
  },
  {
   "cell_type": "code",
   "execution_count": 7,
   "id": "WftL7x0A0hlF",
   "metadata": {},
   "outputs": [
    {
     "name": "stdout",
     "output_type": "stream",
     "text": [
      "In winter's embrace, a silent ballet,\n",
      "Snowflakes descend, a celestial display.\n",
      "Whispering secrets, they softly fall,\n",
      "A blanket of white, covering all.\n",
      "\n",
      "With gentle grace, they paint the land,\n",
      "Transforming the world into a winter wonderland.\n",
      "Trees stand adorned in icy splendor,\n",
      "A glistening spectacle, a sight to render.\n",
      "\n",
      "Snowflakes twirl, like dancers on a stage,\n",
      "Creating a symphony, a winter montage.\n",
      "Their silent whispers, a sweet serenade,\n",
      "As they dance and twirl, a snowy cascade.\n",
      "\n",
      "In the hush of dawn, a frosty morn,\n",
      "Snow sparkles bright, like diamonds reborn.\n",
      "Each flake unique, in its own design,\n",
      "A masterpiece crafted by the divine.\n",
      "\n",
      "So let us revel in this wintry bliss,\n",
      "As snowflakes fall, with a gentle kiss.\n",
      "For in their embrace, we find a peace profound,\n",
      "A frozen world, with magic all around."
     ]
    }
   ],
   "source": [
    "import sys\n",
    "\n",
    "for chunk in llm.stream(\"Tell me a short poem about snow\"):\n",
    "    sys.stdout.write(chunk)\n",
    "    sys.stdout.flush()"
   ]
  },
  {
   "cell_type": "markdown",
   "id": "aefe6df7",
   "metadata": {},
   "source": [
    "### Safety Settings\n",
    "\n",
    "Gemini models have default safety settings that can be overridden. If you are receiving lots of \"Safety Warnings\" from your models, you can try tweaking the `safety_settings` attribute of the model. For example, to turn off safety blocking for dangerous content, you can construct your LLM as follows:"
   ]
  },
  {
   "cell_type": "code",
   "execution_count": null,
   "id": "7e2682e6",
   "metadata": {},
   "outputs": [],
   "source": [
    "from langchain_google_genai import GoogleGenerativeAI, HarmBlockThreshold, HarmCategory\n",
    "\n",
    "llm = GoogleGenerativeAI(\n",
    "    model=\"gemini-pro\",\n",
    "    google_api_key=api_key,\n",
    "    safety_settings={\n",
    "        HarmCategory.HARM_CATEGORY_DANGEROUS_CONTENT: HarmBlockThreshold.BLOCK_NONE,\n",
    "    },\n",
    ")"
   ]
  },
  {
   "cell_type": "markdown",
   "id": "e8d0ee0b",
   "metadata": {},
   "source": [
    "For an enumeration of the categories and thresholds available, see Google's [safety setting types](https://ai.google.dev/api/python/google/generativeai/types/SafetySettingDict)."
   ]
  }
 ],
 "metadata": {
  "kernelspec": {
   "display_name": ".venv",
   "language": "python",
   "name": "python3"
  },
  "language_info": {
   "codemirror_mode": {
    "name": "ipython",
    "version": 3
   },
   "file_extension": ".py",
   "mimetype": "text/x-python",
   "name": "python",
   "nbconvert_exporter": "python",
   "pygments_lexer": "ipython3",
   "version": "3.11.4"
  }
 },
 "nbformat": 4,
 "nbformat_minor": 5
}
