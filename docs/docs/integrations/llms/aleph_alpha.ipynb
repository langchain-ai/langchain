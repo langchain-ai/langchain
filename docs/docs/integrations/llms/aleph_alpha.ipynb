{
 "cells": [
  {
   "cell_type": "markdown",
   "id": "9597802c",
   "metadata": {},
   "source": [
    "# Aleph Alpha\n",
    "\n",
    "[The Luminous series](https://docs.aleph-alpha.com/docs/category/luminous/) is a family of large language models.\n",
    "\n",
    "This example goes over how to use LangChain to interact with Aleph Alpha models"
   ]
  },
  {
   "cell_type": "code",
   "execution_count": null,
   "id": "84483bd5",
   "metadata": {},
   "outputs": [],
   "source": [
    "# Installing the langchain package needed to use the integration\n",
    "%pip install -qU langchain-community"
   ]
  },
  {
   "cell_type": "code",
   "execution_count": null,
   "id": "fe1bf9fb-e9fa-49f3-a768-8f603225ccce",
   "metadata": {
    "tags": []
   },
   "outputs": [],
   "source": [
    "# Install the package\n",
    "%pip install --upgrade --quiet  aleph-alpha-client"
   ]
  },
  {
   "cell_type": "code",
   "execution_count": 1,
   "id": "0cb0f937-b610-42a2-b765-336eed037031",
   "metadata": {
    "tags": []
   },
   "outputs": [
    {
     "name": "stdout",
     "output_type": "stream",
     "text": [
      "········\n"
     ]
    }
   ],
   "source": [
    "# create a new token: https://docs.aleph-alpha.com/docs/account/#create-a-new-token\n",
    "\n",
    "from getpass import getpass\n",
    "\n",
    "ALEPH_ALPHA_API_KEY = getpass()"
   ]
  },
  {
   "cell_type": "code",
   "execution_count": 2,
   "id": "6fb585dd",
   "metadata": {
    "tags": []
   },
   "outputs": [],
   "source": [
    "from langchain_community.llms import AlephAlpha\n",
    "from langchain_core.prompts import PromptTemplate"
   ]
  },
  {
   "cell_type": "code",
   "execution_count": 3,
   "id": "f81a230d",
   "metadata": {
    "tags": []
   },
   "outputs": [],
   "source": [
    "template = \"\"\"Q: {question}\n",
    "\n",
    "A:\"\"\"\n",
    "\n",
    "prompt = PromptTemplate.from_template(template)"
   ]
  },
  {
   "cell_type": "code",
   "execution_count": 4,
   "id": "f0d26e48",
   "metadata": {
    "tags": []
   },
   "outputs": [],
   "source": [
    "llm = AlephAlpha(\n",
    "    model=\"luminous-extended\",\n",
    "    maximum_tokens=20,\n",
    "    stop_sequences=[\"Q:\"],\n",
    "    aleph_alpha_api_key=ALEPH_ALPHA_API_KEY,\n",
    ")"
   ]
  },
  {
   "cell_type": "code",
   "execution_count": 5,
   "id": "6811d621",
   "metadata": {
    "tags": []
   },
   "outputs": [],
   "source": [
    "llm_chain = prompt | llm"
   ]
  },
  {
   "cell_type": "code",
   "execution_count": 8,
   "id": "3058e63f",
   "metadata": {
    "tags": []
   },
   "outputs": [
    {
     "data": {
      "text/plain": [
       "' Artificial Intelligence is the simulation of human intelligence processes by machines.\\n\\n'"
      ]
     },
     "execution_count": 8,
     "metadata": {},
     "output_type": "execute_result"
    }
   ],
   "source": [
    "question = \"What is AI?\"\n",
    "\n",
    "llm_chain.invoke({\"question\": question})"
   ]
  },
  {
   "cell_type": "code",
   "execution_count": null,
   "id": "a3544eff",
   "metadata": {},
   "outputs": [],
   "source": []
  }
 ],
 "metadata": {
  "kernelspec": {
   "display_name": "Python 3 (ipykernel)",
   "language": "python",
   "name": "python3"
  },
  "language_info": {
   "codemirror_mode": {
    "name": "ipython",
    "version": 3
   },
   "file_extension": ".py",
   "mimetype": "text/x-python",
   "name": "python",
   "nbconvert_exporter": "python",
   "pygments_lexer": "ipython3",
   "version": "3.9.12"
  },
  "vscode": {
   "interpreter": {
    "hash": "2d002ec47225e662695b764370d7966aa11eeb4302edc2f497bbf96d49c8f899"
   }
  }
 },
 "nbformat": 4,
 "nbformat_minor": 5
}
