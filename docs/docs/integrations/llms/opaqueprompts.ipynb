{
 "cells": [
  {
   "cell_type": "markdown",
   "metadata": {},
   "source": [
    "# OpaquePrompts\n",
    "\n",
    "[OpaquePrompts](https://opaqueprompts.readthedocs.io/en/latest/) is a service that enables applications to leverage the power of language models without compromising user privacy. Designed for composability and ease of integration into existing applications and services, OpaquePrompts is consumable via a simple Python library as well as through LangChain. Perhaps more importantly, OpaquePrompts leverages the power of [confidential computing](https://en.wikipedia.org/wiki/Confidential_computing) to ensure that even the OpaquePrompts service itself cannot access the data it is protecting.\n",
    " \n",
    "\n",
    "This notebook goes over how to use LangChain to interact with `OpaquePrompts`."
   ]
  },
  {
   "cell_type": "code",
   "execution_count": null,
   "metadata": {},
   "outputs": [],
   "source": [
    "# install the opaqueprompts and langchain packages\n",
    "%pip install --upgrade --quiet  opaqueprompts langchain"
   ]
  },
  {
   "cell_type": "markdown",
   "metadata": {},
   "source": [
    "Accessing the OpaquePrompts API requires an API key, which you can get by creating an account on [the OpaquePrompts website](https://opaqueprompts.opaque.co/). Once you have an account, you can find your API key on [the API Keys page](https:opaqueprompts.opaque.co/api-keys)."
   ]
  },
  {
   "cell_type": "code",
   "execution_count": null,
   "metadata": {},
   "outputs": [],
   "source": [
    "import os\n",
    "\n",
    "# Set API keys\n",
    "\n",
    "os.environ[\"OPAQUEPROMPTS_API_KEY\"] = \"<OPAQUEPROMPTS_API_KEY>\"\n",
    "os.environ[\"OPENAI_API_KEY\"] = \"<OPENAI_API_KEY>\""
   ]
  },
  {
   "cell_type": "markdown",
   "metadata": {},
   "source": [
    "# Use OpaquePrompts LLM Wrapper\n",
    "\n",
    "Applying OpaquePrompts to your application could be as simple as wrapping your LLM using the OpaquePrompts class by replace `llm=OpenAI()` with `llm=OpaquePrompts(base_llm=OpenAI())`."
   ]
  },
  {
   "cell_type": "code",
   "execution_count": null,
   "metadata": {},
   "outputs": [],
   "source": [
    "from langchain.chains import LLMChain\n",
    "from langchain.globals import set_debug, set_verbose\n",
    "from langchain.memory import ConversationBufferWindowMemory\n",
    "from langchain_community.llms import OpaquePrompts\n",
    "from langchain_core.callbacks import StdOutCallbackHandler\n",
    "from langchain_core.prompts import PromptTemplate\n",
    "from langchain_openai import OpenAI\n",
    "\n",
    "set_debug(True)\n",
    "set_verbose(True)\n",
    "\n",
    "prompt_template = \"\"\"\n",
    "As an AI assistant, you will answer questions according to given context.\n",
    "\n",
    "Sensitive personal information in the question is masked for privacy.\n",
    "For instance, if the original text says \"Giana is good,\" it will be changed\n",
    "to \"PERSON_998 is good.\" \n",
    "\n",
    "Here's how to handle these changes:\n",
    "* Consider these masked phrases just as placeholders, but still refer to\n",
    "them in a relevant way when answering.\n",
    "* It's possible that different masked terms might mean the same thing.\n",
    "Stick with the given term and don't modify it.\n",
    "* All masked terms follow the \"TYPE_ID\" pattern.\n",
    "* Please don't invent new masked terms. For instance, if you see \"PERSON_998,\"\n",
    "don't come up with \"PERSON_997\" or \"PERSON_999\" unless they're already in the question.\n",
    "\n",
    "Conversation History: ```{history}```\n",
    "Context : ```During our recent meeting on February 23, 2023, at 10:30 AM,\n",
    "John Doe provided me with his personal details. His email is johndoe@example.com\n",
    "and his contact number is 650-456-7890. He lives in New York City, USA, and\n",
    "belongs to the American nationality with Christian beliefs and a leaning towards\n",
    "the Democratic party. He mentioned that he recently made a transaction using his\n",
    "credit card 4111 1111 1111 1111 and transferred bitcoins to the wallet address\n",
    "1A1zP1eP5QGefi2DMPTfTL5SLmv7DivfNa. While discussing his European travels, he noted\n",
    "down his IBAN as GB29 NWBK 6016 1331 9268 19. Additionally, he provided his website\n",
    "as https://johndoeportfolio.com. John also discussed some of his US-specific details.\n",
    "He said his bank account number is 1234567890123456 and his drivers license is Y12345678.\n",
    "His ITIN is 987-65-4321, and he recently renewed his passport, the number for which is\n",
    "123456789. He emphasized not to share his SSN, which is 123-45-6789. Furthermore, he\n",
    "mentioned that he accesses his work files remotely through the IP 192.168.1.1 and has\n",
    "a medical license number MED-123456. ```\n",
    "Question: ```{question}```\n",
    "\n",
    "\"\"\"\n",
    "\n",
    "chain = LLMChain(\n",
    "    prompt=PromptTemplate.from_template(prompt_template),\n",
    "    llm=OpaquePrompts(base_llm=OpenAI()),\n",
    "    memory=ConversationBufferWindowMemory(k=2),\n",
    "    verbose=True,\n",
    ")\n",
    "\n",
    "\n",
    "print(\n",
    "    chain.run(\n",
    "        {\n",
    "            \"question\": \"\"\"Write a message to remind John to do password reset for his website to stay secure.\"\"\"\n",
    "        },\n",
    "        callbacks=[StdOutCallbackHandler()],\n",
    "    )\n",
    ")"
   ]
  },
  {
   "cell_type": "markdown",
   "metadata": {},
   "source": [
    "From the output, you can see the following context from user input has sensitive data.\n",
    "\n",
    "``` \n",
    "# Context from user input\n",
    "\n",
    "During our recent meeting on February 23, 2023, at 10:30 AM, John Doe provided me with his personal details. His email is johndoe@example.com and his contact number is 650-456-7890. He lives in New York City, USA, and belongs to the American nationality with Christian beliefs and a leaning towards the Democratic party. He mentioned that he recently made a transaction using his credit card 4111 1111 1111 1111 and transferred bitcoins to the wallet address 1A1zP1eP5QGefi2DMPTfTL5SLmv7DivfNa. While discussing his European travels, he noted down his IBAN as GB29 NWBK 6016 1331 9268 19. Additionally, he provided his website as https://johndoeportfolio.com. John also discussed some of his US-specific details. He said his bank account number is 1234567890123456 and his drivers license is Y12345678. His ITIN is 987-65-4321, and he recently renewed his passport, the number for which is 123456789. He emphasized not to share his SSN, which is 669-45-6789. Furthermore, he mentioned that he accesses his work files remotely through the IP 192.168.1.1 and has a medical license number MED-123456.\n",
    "```\n",
    "\n",
    "OpaquePrompts will automatically detect the sensitive data and replace it with a placeholder. \n",
    "\n",
    "```\n",
    "# Context after OpaquePrompts\n",
    "\n",
    "During our recent meeting on DATE_TIME_3, at DATE_TIME_2, PERSON_3 provided me with his personal details. His email is EMAIL_ADDRESS_1 and his contact number is PHONE_NUMBER_1. He lives in LOCATION_3, LOCATION_2, and belongs to the NRP_3 nationality with NRP_2 beliefs and a leaning towards the Democratic party. He mentioned that he recently made a transaction using his credit card CREDIT_CARD_1 and transferred bitcoins to the wallet address CRYPTO_1. While discussing his NRP_1 travels, he noted down his IBAN as IBAN_CODE_1. Additionally, he provided his website as URL_1. PERSON_2 also discussed some of his LOCATION_1-specific details. He said his bank account number is US_BANK_NUMBER_1 and his drivers license is US_DRIVER_LICENSE_2. His ITIN is US_ITIN_1, and he recently renewed his passport, the number for which is DATE_TIME_1. He emphasized not to share his SSN, which is US_SSN_1. Furthermore, he mentioned that he accesses his work files remotely through the IP IP_ADDRESS_1 and has a medical license number MED-US_DRIVER_LICENSE_1.\n",
    "```\n",
    "\n",
    "Placeholder is used in the LLM response.\n",
    "\n",
    "```\n",
    "# response returned by LLM\n",
    "\n",
    "Hey PERSON_1, just wanted to remind you to do a password reset for your website URL_1 through your email EMAIL_ADDRESS_1. It's important to stay secure online, so don't forget to do it!\n",
    "```\n",
    "\n",
    "Response is desanitized by replacing the placeholder with the original sensitive data.\n",
    "\n",
    "```\n",
    "# desanitized LLM response from OpaquePrompts\n",
    "\n",
    "Hey John, just wanted to remind you to do a password reset for your website https://johndoeportfolio.com through your email johndoe@example.com. It's important to stay secure online, so don't forget to do it!\n",
    "```"
   ]
  },
  {
   "cell_type": "markdown",
   "metadata": {},
   "source": [
    "# Use OpaquePrompts in LangChain expression\n",
    "\n",
    "There are functions that can be used with LangChain expression as well if a drop-in replacement doesn't offer the flexibility you need. "
   ]
  },
  {
   "cell_type": "code",
   "execution_count": null,
   "metadata": {},
   "outputs": [],
   "source": [
    "import langchain_community.utilities.opaqueprompts as op\n",
    "from langchain_core.output_parsers import StrOutputParser\n",
    "from langchain_core.runnables import RunnablePassthrough\n",
    "\n",
    "prompt = (PromptTemplate.from_template(prompt_template),)\n",
    "llm = OpenAI()\n",
    "pg_chain = (\n",
    "    op.sanitize\n",
    "    | RunnablePassthrough.assign(\n",
    "        response=(lambda x: x[\"sanitized_input\"]) | prompt | llm | StrOutputParser(),\n",
    "    )\n",
    "    | (lambda x: op.desanitize(x[\"response\"], x[\"secure_context\"]))\n",
    ")\n",
    "\n",
    "pg_chain.invoke(\n",
    "    {\n",
    "        \"question\": \"Write a text message to remind John to do password reset for his website through his email to stay secure.\",\n",
    "        \"history\": \"\",\n",
    "    }\n",
    ")"
   ]
  }
 ],
 "metadata": {
  "kernelspec": {
   "display_name": "Python 3 (ipykernel)",
   "language": "python",
   "name": "python3"
  },
  "language_info": {
   "codemirror_mode": {
    "name": "ipython",
    "version": 3
   },
   "file_extension": ".py",
   "mimetype": "text/x-python",
   "name": "python",
   "nbconvert_exporter": "python",
   "pygments_lexer": "ipython3",
   "version": "3.10.1"
  }
 },
 "nbformat": 4,
 "nbformat_minor": 2
}
