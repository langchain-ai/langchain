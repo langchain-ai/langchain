{
 "cells": [
  {
   "cell_type": "markdown",
   "metadata": {},
   "source": [
    "# CTranslate2"
   ]
  },
  {
   "cell_type": "markdown",
   "metadata": {},
   "source": [
    "**CTranslate2** is a C++ and Python library for efficient inference with Transformer models.\n",
    "\n",
    "The project implements a custom runtime that applies many performance optimization techniques such as weights quantization, layers fusion, batch reordering, etc., to accelerate and reduce the memory usage of Transformer models on CPU and GPU.\n",
    "\n",
    "Full list of features and supported models is included in the [project's repository](https://opennmt.net/CTranslate2/guides/transformers.html). To start, please check out the official [quickstart guide](https://opennmt.net/CTranslate2/quickstart.html).\n",
    "\n",
    "To use, you should have `ctranslate2` python package installed."
   ]
  },
  {
   "cell_type": "code",
   "execution_count": null,
   "metadata": {},
   "outputs": [],
   "source": [
    "%pip install --upgrade --quiet  ctranslate2"
   ]
  },
  {
   "cell_type": "markdown",
   "metadata": {},
   "source": [
    "To use a Hugging Face model with CTranslate2, it has to be first converted to CTranslate2 format using the `ct2-transformers-converter` command. The command takes the pretrained model name and the path to the converted model directory."
   ]
  },
  {
   "cell_type": "code",
   "execution_count": 2,
   "metadata": {},
   "outputs": [
    {
     "name": "stdout",
     "output_type": "stream",
     "text": [
      "Loading checkpoint shards: 100%|██████████████████| 2/2 [00:01<00:00,  1.81it/s]\n"
     ]
    }
   ],
   "source": [
    "# conversation can take several minutes\n",
    "!ct2-transformers-converter --model meta-llama/Llama-2-7b-hf --quantization bfloat16 --output_dir ./llama-2-7b-ct2 --force"
   ]
  },
  {
   "cell_type": "code",
   "execution_count": 3,
   "metadata": {},
   "outputs": [],
   "source": [
    "from langchain_community.llms import CTranslate2\n",
    "\n",
    "llm = CTranslate2(\n",
    "    # output_dir from above:\n",
    "    model_path=\"./llama-2-7b-ct2\",\n",
    "    tokenizer_name=\"meta-llama/Llama-2-7b-hf\",\n",
    "    device=\"cuda\",\n",
    "    # device_index can be either single int or list or ints,\n",
    "    # indicating the ids of GPUs to use for inference:\n",
    "    device_index=[0, 1],\n",
    "    compute_type=\"bfloat16\",\n",
    ")"
   ]
  },
  {
   "cell_type": "markdown",
   "metadata": {},
   "source": [
    "## Single call"
   ]
  },
  {
   "cell_type": "code",
   "execution_count": 31,
   "metadata": {},
   "outputs": [
    {
     "name": "stdout",
     "output_type": "stream",
     "text": [
      "He presented me with plausible evidence for the existence of unicorns: 1) they are mentioned in ancient texts; and, more importantly to him (and not so much as a matter that would convince most people), he had seen one.\n",
      "I was skeptical but I didn't want my friend upset by his belief being dismissed outright without any consideration or argument on its behalf whatsoever - which is why we were having this conversation at all! So instead asked if there might be some other explanation besides \"unicorning\"... maybe it could have been an ostrich? Or perhaps just another horse-like animal like zebras do exist afterall even though no humans alive today has ever witnesses them firsthand either due lacking accessibility/availability etc.. But then again those animals aren’ t exactly known around here anyway…” And thus began our discussion about whether these creatures actually existed anywhere else outside Earth itself where only few scientists ventured before us nowadays because technology allows exploration beyond borders once thought impossible centuries ago when travel meant walking everywhere yourself until reaching destination point A->B via footsteps alone unless someone helped guide along way through woods full darkness nighttime hours\n"
     ]
    }
   ],
   "source": [
    "print(\n",
    "    llm.invoke(\n",
    "        \"He presented me with plausible evidence for the existence of unicorns: \",\n",
    "        max_length=256,\n",
    "        sampling_topk=50,\n",
    "        sampling_temperature=0.2,\n",
    "        repetition_penalty=2,\n",
    "        cache_static_prompt=False,\n",
    "    )\n",
    ")"
   ]
  },
  {
   "cell_type": "markdown",
   "metadata": {},
   "source": [
    "## Multiple calls:"
   ]
  },
  {
   "cell_type": "code",
   "execution_count": 34,
   "metadata": {},
   "outputs": [
    {
     "name": "stdout",
     "output_type": "stream",
     "text": [
      "generations=[[Generation(text='The list of top romantic songs:\\n1. “I Will Always Love You” by Whitney Houston\\n2. “Can’t Help Falling in Love” by Elvis Presley\\n3. “Unchained Melody” by The Righteous Brothers\\n4. “I Will Always Love You” by Dolly Parton\\n5. “I Will Always Love You” by Whitney Houston\\n6. “I Will Always Love You” by Dolly Parton\\n7. “I Will Always Love You” by The Beatles\\n8. “I Will Always Love You” by The Rol', generation_info=None)], [Generation(text='The list of top rap songs:\\n1. “God’s Plan” by Drake\\n2. “Rockstar” by Post Malone\\n3. “Bad and Boujee” by Migos\\n4. “Humble” by Kendrick Lamar\\n5. “Bodak Yellow” by Cardi B\\n6. “I’m the One” by DJ Khaled\\n7. “Motorsport” by Migos\\n8. “No Limit” by G-Eazy\\n9. “Bounce Back” by Big Sean\\n10. “', generation_info=None)]] llm_output=None run=[RunInfo(run_id=UUID('628e0491-a310-4d12-81db-6f2c5309d5c2')), RunInfo(run_id=UUID('f88fdbcd-c1f6-4f13-b575-810b80ecbaaf'))]\n"
     ]
    }
   ],
   "source": [
    "print(\n",
    "    llm.generate(\n",
    "        [\"The list of top romantic songs:\\n1.\", \"The list of top rap songs:\\n1.\"],\n",
    "        max_length=128,\n",
    "    )\n",
    ")"
   ]
  },
  {
   "cell_type": "markdown",
   "metadata": {},
   "source": [
    "## Integrate the model in an LLMChain"
   ]
  },
  {
   "cell_type": "code",
   "execution_count": 46,
   "metadata": {},
   "outputs": [
    {
     "name": "stdout",
     "output_type": "stream",
     "text": [
      "Who was the US president in the year the first Pokemon game was released?\n",
      "\n",
      "Let's think step by step. 1996 was the year the first Pokemon game was released.\n",
      "\n",
      "\\begin{blockquote}\n",
      "\n",
      "\\begin{itemize}\n",
      "  \\item 1996 was the year Bill Clinton was president.\n",
      "  \\item 1996 was the year the first Pokemon game was released.\n",
      "  \\item 1996 was the year the first Pokemon game was released.\n",
      "\n",
      "\\end{itemize}\n",
      "\\end{blockquote}\n",
      "\n",
      "I'm not sure if this is a valid question, but I'm sure it's a fun one.\n",
      "\n",
      "Comment: I'm not sure if this is a valid question, but I'm sure it's a fun one.\n",
      "\n",
      "Comment: @JoeZ. I'm not sure if this is a valid question, but I'm sure it's a fun one.\n",
      "\n",
      "Comment: @JoeZ. I'm not sure if this is a valid question, but I'm sure it's a fun one.\n",
      "\n",
      "Comment: @JoeZ. I'm not sure if this is a valid question, but I'm sure it's a fun one.\n",
      "\n",
      "Comment: @JoeZ. I'm not sure if this is a valid question, but I'm sure it's a fun one.\n",
      "\n",
      "Comment: @JoeZ. I'm not sure if this is a valid question, but I'm sure it's a fun one.\n",
      "\n",
      "Comment: @JoeZ. I'm not sure if this is a valid question, but I'm sure it's a fun one.\n",
      "\n",
      "Comment: @JoeZ. I'm not sure if this is a valid question, but I'm sure it's a fun one.\n",
      "\n",
      "Comment: @JoeZ. I'm not sure if this is a valid question, but I'm sure it's a fun one.\n",
      "\n",
      "Comment: @JoeZ. I'm not sure if this is a valid question, but I'm sure it's a fun one.\n",
      "\n",
      "Comment: @JoeZ. I'm not sure if this is a valid question, but I'm sure it's a fun one.\n",
      "\n"
     ]
    }
   ],
   "source": [
    "from langchain.chains import LLMChain\n",
    "from langchain_core.prompts import PromptTemplate\n",
    "\n",
    "template = \"\"\"{question}\n",
    "\n",
    "Let's think step by step. \"\"\"\n",
    "prompt = PromptTemplate.from_template(template)\n",
    "\n",
    "llm_chain = LLMChain(prompt=prompt, llm=llm)\n",
    "\n",
    "question = \"Who was the US president in the year the first Pokemon game was released?\"\n",
    "\n",
    "print(llm_chain.run(question))"
   ]
  }
 ],
 "metadata": {
  "kernelspec": {
   "display_name": "Python 3.10.12 ('langchain_venv': venv)",
   "language": "python",
   "name": "python3"
  },
  "language_info": {
   "codemirror_mode": {
    "name": "ipython",
    "version": 3
   },
   "file_extension": ".py",
   "mimetype": "text/x-python",
   "name": "python",
   "nbconvert_exporter": "python",
   "pygments_lexer": "ipython3",
   "version": "3.10.12"
  },
  "vscode": {
   "interpreter": {
    "hash": "d1d3a3c58a58885896c5459933a599607cdbb9917d7e1ad7516c8786c51f2dd2"
   }
  }
 },
 "nbformat": 4,
 "nbformat_minor": 2
}
