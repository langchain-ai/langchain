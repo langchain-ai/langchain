{
 "cells": [
  {
   "cell_type": "raw",
   "id": "67db2992",
   "metadata": {},
   "source": [
    "---\n",
    "sidebar_label: ModelScope\n",
    "---"
   ]
  },
  {
   "cell_type": "markdown",
   "id": "9597802c",
   "metadata": {},
   "source": [
    "# ModelScopeEndpoint\n",
    "\n",
    "ModelScope ([Home](https://www.modelscope.cn/) | [GitHub](https://github.com/modelscope/modelscope)) is built upon the notion of “Model-as-a-Service” (MaaS). It seeks to bring together most advanced machine learning models from the AI community, and streamlines the process of leveraging AI models in real-world applications. The core ModelScope library open-sourced in this repository provides the interfaces and implementations that allow developers to perform model inference, training and evaluation. This will help you get started with ModelScope completion models (LLMs) using LangChain.\n",
    "\n",
    "## Overview\n",
    "### Integration details\n",
    "\n",
    "| Provider  | Class | Package | Local | Serializable | Package downloads | Package latest |\n",
    "| :--- | :--- | :---: | :---: |  :---: | :---: | :---: |\n",
    "| [ModelScope](/docs/integrations/providers/modelscope/) | ModelScopeEndpoint | [langchain-modelscope-integration](https://pypi.org/project/langchain-modelscope-integration/) | ❌ | ❌ | ![PyPI - Downloads](https://img.shields.io/pypi/dm/langchain-modelscope-integration?style=flat-square&label=%20) | ![PyPI - Version](https://img.shields.io/pypi/v/langchain-modelscope-integration?style=flat-square&label=%20) |\n",
    "\n",
    "\n",
    "## Setup\n",
    "\n",
    "To access ModelScope models you'll need to create a ModelScope account, get an SDK token, and install the `langchain-modelscope-integration` integration package.\n",
    "\n",
    "### Credentials\n",
    "\n",
    "\n",
    "Head to [ModelScope](https://modelscope.cn/) to sign up to ModelScope and generate an [SDK token](https://modelscope.cn/my/myaccesstoken). Once you've done this set the `MODELSCOPE_SDK_TOKEN` environment variable:\n"
   ]
  },
  {
   "cell_type": "code",
   "execution_count": 3,
   "id": "bc51e756",
   "metadata": {},
   "outputs": [],
   "source": [
    "import getpass\n",
    "import os\n",
    "\n",
    "if not os.getenv(\"MODELSCOPE_SDK_TOKEN\"):\n",
    "    os.environ[\"MODELSCOPE_SDK_TOKEN\"] = getpass.getpass(\n",
    "        \"Enter your ModelScope SDK token: \"\n",
    "    )"
   ]
  },
  {
   "cell_type": "markdown",
   "id": "809c6577",
   "metadata": {},
   "source": [
    "### Installation\n",
    "\n",
    "The LangChain ModelScope integration lives in the `langchain-modelscope-integration` package:"
   ]
  },
  {
   "cell_type": "code",
   "execution_count": null,
   "id": "59c710c4",
   "metadata": {},
   "outputs": [],
   "source": [
    "%pip install -qU langchain-modelscope-integration"
   ]
  },
  {
   "cell_type": "markdown",
   "id": "0a760037",
   "metadata": {},
   "source": [
    "## Instantiation\n",
    "\n",
    "Now we can instantiate our model object and generate chat completions:\n"
   ]
  },
  {
   "cell_type": "code",
   "execution_count": 4,
   "id": "a0562a13",
   "metadata": {},
   "outputs": [],
   "source": [
    "from langchain_modelscope import ModelScopeEndpoint\n",
    "\n",
    "llm = ModelScopeEndpoint(\n",
    "    model=\"Qwen/Qwen2.5-Coder-32B-Instruct\",\n",
    "    temperature=0,\n",
    "    max_tokens=1024,\n",
    "    timeout=60,\n",
    ")"
   ]
  },
  {
   "cell_type": "markdown",
   "id": "0ee90032",
   "metadata": {},
   "source": [
    "## Invocation\n"
   ]
  },
  {
   "cell_type": "code",
   "execution_count": 5,
   "id": "035dea0f",
   "metadata": {
    "tags": []
   },
   "outputs": [
    {
     "data": {
      "text/plain": [
       "'Certainly! Quick sort is a popular and efficient sorting algorithm that uses a divide-and-conquer approach to sort elements. Below is a simple implementation of the Quick Sort algorithm in Python:\\n\\n```python\\ndef quick_sort(arr):\\n    # Base case: if the array is empty or has one element, it\\'s already sorted\\n    if len(arr) <= 1:\\n        return arr\\n    else:\\n        # Choose a pivot element from the array\\n        pivot = arr[len(arr) // 2]\\n        \\n        # Partition the array into three parts:\\n        # - elements less than the pivot\\n        # - elements equal to the pivot\\n        # - elements greater than the pivot\\n        less_than_pivot = [x for x in arr if x < pivot]\\n        equal_to_pivot = [x for x in arr if x == pivot]\\n        greater_than_pivot = [x for x in arr if x > pivot]\\n        \\n        # Recursively apply quick_sort to the less_than_pivot and greater_than_pivot subarrays\\n        return quick_sort(less_than_pivot) + equal_to_pivot + quick_sort(greater_than_pivot)\\n\\n# Example usage:\\narr = [3, 6, 8, 10, 1, 2, 1]\\nsorted_arr = quick_sort(arr)\\nprint(\"Sorted array:\", sorted_arr)\\n```\\n\\n### Explanation:\\n1. **Base Case**: If the array has one or zero elements, it is already sorted, so we return it as is.\\n2. **Pivot Selection**: We choose the middle element of the array as the pivot. This is a simple strategy, but there are other strategies for choosing a pivot.\\n3. **Partitioning**: We partition the array into three lists:\\n   - `less_than_pivot`: Elements less than the pivot.\\n   - `equal_to_pivot`: Elements equal to the pivot.\\n   - `greater_than_pivot`: Elements greater than the pivot.\\n4. **Recursive Sorting**: We recursively sort the `less_than_pivot` and `greater_than_pivot` lists and concatenate them with the `equal_to_pivot` list to get the final sorted array.\\n\\nThis implementation is straightforward and easy to understand, but it may not be the most efficient in terms of space complexity due to the use of additional lists. For an in-place version of Quick Sort, you can modify the algorithm to sort the array within its own memory space.'"
      ]
     },
     "execution_count": 5,
     "metadata": {},
     "output_type": "execute_result"
    }
   ],
   "source": [
    "input_text = \"Write a quick sort algorithm in python\"\n",
    "\n",
    "completion = llm.invoke(input_text)\n",
    "completion"
   ]
  },
  {
   "cell_type": "code",
   "execution_count": 6,
   "id": "d5431620",
   "metadata": {},
   "outputs": [
    {
     "name": "stdout",
     "output_type": "stream",
     "text": [
      "Certainly! Sorting an array is a common task in programming, and Python provides several ways to do it. Below is a simple example using Python's built-in sorting functions. We'll use the `sorted()` function and the `sort()` method of a list.\n",
      "\n",
      "### Using `sorted()` Function\n",
      "\n",
      "The `sorted()` function returns a new sorted list from the elements of any iterable.\n",
      "\n",
      "```python\n",
      "def sort_array(arr):\n",
      "    return sorted(arr)\n",
      "\n",
      "# Example usage\n",
      "array = [5, 2, 9, 1, 5, 6]\n",
      "sorted_array = sort_array(array)\n",
      "print(\"Original array:\", array)\n",
      "print(\"Sorted array:\", sorted_array)\n",
      "```\n",
      "\n",
      "### Using `sort()` Method\n",
      "\n",
      "The `sort()` method sorts the list in place and returns `None`.\n",
      "\n",
      "```python\n",
      "def sort_array_in_place(arr):\n",
      "    arr.sort()\n",
      "\n",
      "# Example usage\n",
      "array = [5, 2, 9, 1, 5, 6]\n",
      "sort_array_in_place(array)\n",
      "print(\"Sorted array:\", array)\n",
      "```\n",
      "\n",
      "### Custom Sorting\n",
      "\n",
      "If you need to sort the array based on a custom key or in descending order, you can use the `key` and `reverse` parameters.\n",
      "\n",
      "```python\n",
      "def custom_sort_array(arr):\n",
      "    # Sort in descending order\n",
      "    return sorted(arr, reverse=True)\n",
      "\n",
      "# Example usage\n",
      "array = [5, 2, 9, 1, 5, 6]\n",
      "sorted_array_desc = custom_sort_array(array)\n",
      "print(\"Sorted array in descending order:\", sorted_array_desc)\n",
      "```\n",
      "\n",
      "### Sorting with a Custom Key\n",
      "\n",
      "Suppose you have a list of tuples and you want to sort them based on the second element of each tuple:\n",
      "\n",
      "```python\n",
      "def sort_tuples_by_second_element(arr):\n",
      "    return sorted(arr, key=lambda x: x[1])\n",
      "\n",
      "# Example usage\n",
      "tuples = [(1, 3), (4, 1), (5, 2), (2, 4)]\n",
      "sorted_tuples = sort_tuples_by_second_element(tuples)\n",
      "print(\"Sorted tuples by second element:\", sorted_tuples)\n",
      "```\n",
      "\n",
      "These examples demonstrate how to sort arrays in Python using different methods and options. Choose the one that best fits your needs!"
     ]
    }
   ],
   "source": [
    "for chunk in llm.stream(\"write a python program to sort an array\"):\n",
    "    print(chunk, end=\"\", flush=True)"
   ]
  },
  {
   "cell_type": "markdown",
   "id": "add38532",
   "metadata": {},
   "source": [
    "## Chaining\n",
    "\n",
    "We can [chain](/docs/how_to/sequence/) our completion model with a prompt template like so:"
   ]
  },
  {
   "cell_type": "code",
   "execution_count": 9,
   "id": "078e9db2",
   "metadata": {},
   "outputs": [
    {
     "data": {
      "text/plain": [
       "'In Chinese, you can say \"我喜欢编程\" (Wǒ xǐ huān biān chéng) to express \"I love programming.\" Here\\'s a breakdown of the sentence:\\n\\n- 我 (Wǒ) means \"I\"\\n- 喜欢 (xǐ huān) means \"love\" or \"like\"\\n- 编程 (biān chéng) means \"programming\"\\n\\nSo, when you put it all together, it translates to \"I love programming.\"'"
      ]
     },
     "execution_count": 9,
     "metadata": {},
     "output_type": "execute_result"
    }
   ],
   "source": [
    "from langchain_core.prompts import PromptTemplate\n",
    "\n",
    "prompt = PromptTemplate(template=\"How to say {input} in {output_language}:\\n\")\n",
    "\n",
    "chain = prompt | llm\n",
    "chain.invoke(\n",
    "    {\n",
    "        \"output_language\": \"Chinese\",\n",
    "        \"input\": \"I love programming.\",\n",
    "    }\n",
    ")"
   ]
  },
  {
   "cell_type": "markdown",
   "id": "e9bdfcef",
   "metadata": {},
   "source": [
    "## API reference\n",
    "\n",
    "Refer to https://modelscope.cn/docs/model-service/API-Inference/intro for more details."
   ]
  }
 ],
 "metadata": {
  "kernelspec": {
   "display_name": "Python 3.11.1 64-bit",
   "language": "python",
   "name": "python3"
  },
  "language_info": {
   "codemirror_mode": {
    "name": "ipython",
    "version": 3
   },
   "file_extension": ".py",
   "mimetype": "text/x-python",
   "name": "python",
   "nbconvert_exporter": "python",
   "pygments_lexer": "ipython3",
   "version": "3.10.16"
  },
  "vscode": {
   "interpreter": {
    "hash": "e971737741ff4ec9aff7dc6155a1060a59a8a6d52c757dbbe66bf8ee389494b1"
   }
  }
 },
 "nbformat": 4,
 "nbformat_minor": 5
}
