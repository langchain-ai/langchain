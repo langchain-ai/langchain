{
 "cells": [
  {
   "cell_type": "markdown",
   "id": "fbeb3f1eb129d115",
   "metadata": {
    "collapsed": false
   },
   "source": [
    "---\n",
    "sidebar_label: AI/ML API\n",
    "---"
   ]
  },
  {
   "cell_type": "markdown",
   "id": "6051ba9cfc65a60a",
   "metadata": {
    "collapsed": false
   },
   "source": [
    "# ChatAimlapi\n",
    "\n",
    "This page will help you get started with AI/ML API [chat models](/docs/concepts/chat_models.mdx). For detailed documentation of all ChatAimlapi features and configurations, head to the [API reference](https://docs.aimlapi.com/?utm_source=langchain&utm_medium=github&utm_campaign=integration).\n",
    "\n",
    "AI/ML API provides access to **300+ models** (Deepseek, Gemini, ChatGPT, etc.) via high-uptime and high-rate API."
   ]
  },
  {
   "cell_type": "markdown",
   "id": "512f94fa4bea2628",
   "metadata": {
    "collapsed": false
   },
   "source": [
    "## Overview\n",
    "### Integration details\n",
    "\n",
    "| Class | Package | Local | Serializable | JS support | Package downloads | Package latest |\n",
    "| :--- | :--- | :---: | :---: | :---: | :---: | :---: |\n",
    "| ChatAimlapi | langchain-aimlapi | ✅ | beta | ❌ | ![PyPI - Downloads](https://img.shields.io/pypi/dm/langchain-aimlapi?style=flat-square&label=%20) | ![PyPI - Version](https://img.shields.io/pypi/v/langchain-aimlapi?style=flat-square&label=%20) |"
   ]
  },
  {
   "cell_type": "markdown",
   "id": "7163684608502d37",
   "metadata": {
    "collapsed": false
   },
   "source": [
    "### Model features\n",
    "| Tool calling | Structured output | JSON mode | Image input | Audio input | Video input | Token-level streaming | Native async | Token usage | Logprobs |\n",
    "|:------------:|:-----------------:|:---------:|:-----------:|:-----------:|:-----------:|:---------------------:|:------------:|:-----------:|:--------:|\n",
    "|      ✅       |         ✅         |     ✅     |      ✅      |      ✅      |      ✅      |           ✅           |      ✅       |      ✅      |    ✅     |\n"
   ]
  },
  {
   "cell_type": "markdown",
   "id": "bb9345d5b24a7741",
   "metadata": {
    "collapsed": false
   },
   "source": [
    "## Setup\n",
    "To access AI/ML API models, sign up at [aimlapi.com](https://aimlapi.com/app/?utm_source=langchain&utm_medium=github&utm_campaign=integration), generate an API key, and set the `AIMLAPI_API_KEY` environment variable:"
   ]
  },
  {
   "cell_type": "code",
   "execution_count": 1,
   "id": "b26280519672f194",
   "metadata": {
    "collapsed": false,
    "ExecuteTime": {
     "end_time": "2025-08-07T07:16:58.837623Z",
     "start_time": "2025-08-07T07:16:55.346214Z"
    }
   },
   "outputs": [],
   "source": [
    "import getpass\n",
    "import os\n",
    "\n",
    "if \"AIMLAPI_API_KEY\" not in os.environ:\n",
    "    os.environ[\"AIMLAPI_API_KEY\"] = getpass.getpass(\"Enter your AI/ML API key: \")"
   ]
  },
  {
   "cell_type": "markdown",
   "id": "fa131229e62dfd47",
   "metadata": {
    "collapsed": false
   },
   "source": [
    "### Installation\n",
    "Install the `langchain-aimlapi` package:"
   ]
  },
  {
   "cell_type": "code",
   "execution_count": 2,
   "id": "3777dc00d768299e",
   "metadata": {
    "collapsed": false,
    "ExecuteTime": {
     "end_time": "2025-08-07T07:17:11.195741Z",
     "start_time": "2025-08-07T07:17:02.288142Z"
    }
   },
   "outputs": [
    {
     "name": "stdout",
     "output_type": "stream",
     "text": [
      "Note: you may need to restart the kernel to use updated packages.\n"
     ]
    }
   ],
   "source": [
    "%pip install -qU langchain-aimlapi"
   ]
  },
  {
   "cell_type": "markdown",
   "id": "d168108b0c4f9d7",
   "metadata": {
    "collapsed": false
   },
   "source": [
    "## Instantiation\n",
    "Now we can instantiate the `ChatAimlapi` model and generate chat completions:"
   ]
  },
  {
   "cell_type": "code",
   "execution_count": 3,
   "id": "f29131e65e47bd16",
   "metadata": {
    "collapsed": false,
    "ExecuteTime": {
     "end_time": "2025-08-07T07:17:23.499746Z",
     "start_time": "2025-08-07T07:17:11.196747Z"
    }
   },
   "outputs": [],
   "source": [
    "from langchain_aimlapi import ChatAimlapi\n",
    "\n",
    "llm = ChatAimlapi(\n",
    "    model=\"meta-llama/Llama-3-70b-chat-hf\",\n",
    "    temperature=0.7,\n",
    "    max_tokens=512,\n",
    "    timeout=30,\n",
    "    max_retries=3,\n",
    ")"
   ]
  },
  {
   "cell_type": "markdown",
   "id": "861b87289f8e146d",
   "metadata": {
    "collapsed": false
   },
   "source": [
    "## Invocation\n",
    "You can invoke the model with a list of messages:"
   ]
  },
  {
   "cell_type": "code",
   "execution_count": 4,
   "id": "430b1cff2e6d77b4",
   "metadata": {
    "collapsed": false,
    "ExecuteTime": {
     "end_time": "2025-08-07T07:17:30.586261Z",
     "start_time": "2025-08-07T07:17:29.074409Z"
    }
   },
   "outputs": [
    {
     "name": "stdout",
     "output_type": "stream",
     "text": [
      "J'adore la programmation.\n"
     ]
    }
   ],
   "source": [
    "messages = [\n",
    "    (\"system\", \"You are a helpful assistant that translates English to French.\"),\n",
    "    (\"human\", \"I love programming.\"),\n",
    "]\n",
    "\n",
    "ai_msg = llm.invoke(messages)\n",
    "print(ai_msg.content)"
   ]
  },
  {
   "cell_type": "markdown",
   "id": "5463797524a19b2e",
   "metadata": {
    "collapsed": false
   },
   "source": [
    "## Chaining\n",
    "We can chain the model with a prompt template as follows:"
   ]
  },
  {
   "cell_type": "code",
   "execution_count": 5,
   "id": "bf6defc12a0c5d78",
   "metadata": {
    "collapsed": false,
    "ExecuteTime": {
     "end_time": "2025-08-07T07:17:36.368436Z",
     "start_time": "2025-08-07T07:17:34.770581Z"
    }
   },
   "outputs": [
    {
     "name": "stdout",
     "output_type": "stream",
     "text": [
      "Ich liebe das Programmieren.\n"
     ]
    }
   ],
   "source": [
    "from langchain_core.prompts import ChatPromptTemplate\n",
    "\n",
    "prompt = ChatPromptTemplate.from_messages(\n",
    "    [\n",
    "        (\n",
    "            \"system\",\n",
    "            \"You are a helpful assistant that translates {input_language} to {output_language}.\",\n",
    "        ),\n",
    "        (\"human\", \"{input}\"),\n",
    "    ]\n",
    ")\n",
    "\n",
    "chain = prompt | llm\n",
    "response = chain.invoke(\n",
    "    {\n",
    "        \"input_language\": \"English\",\n",
    "        \"output_language\": \"German\",\n",
    "        \"input\": \"I love programming.\",\n",
    "    }\n",
    ")\n",
    "print(response.content)"
   ]
  },
  {
   "cell_type": "markdown",
   "id": "fcf0bf10a872355c",
   "metadata": {
    "collapsed": false
   },
   "source": [
    "## API reference\n",
    "\n",
    "For detailed documentation of all ChatAimlapi features and configurations, visit the [API Reference](https://docs.aimlapi.com/?utm_source=langchain&utm_medium=github&utm_campaign=integration)."
   ]
  }
 ],
 "metadata": {
  "kernelspec": {
   "display_name": "Python 3",
   "language": "python",
   "name": "python3"
  },
  "language_info": {
   "codemirror_mode": {
    "name": "ipython",
    "version": 2
   },
   "file_extension": ".py",
   "mimetype": "text/x-python",
   "name": "python",
   "nbconvert_exporter": "python",
   "pygments_lexer": "ipython2",
   "version": "2.7.6"
  }
 },
 "nbformat": 4,
 "nbformat_minor": 5
}
