{
 "cells": [
  {
   "cell_type": "raw",
   "id": "a016701c",
   "metadata": {},
   "source": [
    "---\n",
    "sidebar_label: Perplexity\n",
    "---"
   ]
  },
  {
   "cell_type": "markdown",
   "id": "bf733a38-db84-4363-89e2-de6735c37230",
   "metadata": {},
   "source": [
    "# ChatPerplexity\n",
    "\n",
    "\n",
    "This page will help you get started with Perplexity [chat models](../../concepts/chat_models.mdx). For detailed documentation of all `ChatPerplexity` features and configurations head to the [API reference](https://python.langchain.com/api_reference/perplexity/chat_models/langchain_perplexity.chat_models.ChatPerplexity.html).\n",
    "\n",
    "The Perplexity API combines real-time, grounded web search with advanced reasoning and deep research capabilities. This allows your application to tap into up-to-date and verified information. \n",
    "\n",
    "When to use:\n",
    "\n",
    "- When your application requires timely, relevant data directly from the web, such as dynamic content updates or current event tracking.\n",
    "- For products that need to support complex user queries with integrated reasoning and deep research, like digital assistants or advanced search engines.\n",
    "\n",
    "For more information around Perplexity's API please visit the official API developer [documentation](https://docs.perplexity.ai/home). \n",
    "\n",
    "## Overview\n",
    "### Integration details\n",
    "\n",
    "| Class | Package | Local | Serializable | [JS support](https://js.langchain.com/docs/integrations/chat/xai) | Package downloads | Package latest |\n",
    "| :--- | :--- | :---: | :---: |  :---: | :---: | :---: |\n",
    "| [ChatPerplexity](https://python.langchain.com/api_reference/perplexity/chat_models/langchain_perplexity.chat_models.ChatPerplexity.html) | [langchain-perplexity](https://python.langchain.com/api_reference/perplexity/perplexity.html) | ❌ | beta | ❌ | ![PyPI - Downloads](https://img.shields.io/pypi/dm/langchain-perplexity?style=flat-square&label=%20) | ![PyPI - Version](https://img.shields.io/pypi/v/langchain-perplexity?style=flat-square&label=%20) |\n",
    "\n",
    "### Model features\n",
    "| [Tool calling](../../how_to/tool_calling.ipynb) | [Structured output](../../how_to/structured_output.ipynb) | JSON mode | [Image input](../../how_to/multimodal_inputs.ipynb) | Audio input | Video input | [Token-level streaming](../../how_to/chat_streaming.ipynb) | Native async | [Token usage](../../how_to/chat_token_usage_tracking.ipynb) | [Logprobs](../../how_to/logprobs.ipynb) |\n",
    "| :---: | :---: | :---: | :---: |  :---: | :---: | :---: | :---: | :---: | :---: |\n",
    "| ❌ | ✅ | ✅ | ❌ | ❌ | ❌ | ✅ | ❌ | ✅ | ❌ |\n",
    "\n",
    "## Setup\n",
    "\n",
    "To access Perplexity models you'll need to create a Perplexity account, get an API key, and install the `langchain-perplexity` integration package.\n",
    "\n",
    "### Credentials\n",
    "\n",
    "Head to [this page](https://docs.perplexity.ai/guides/getting-started) to sign up for Perplexity and generate an API key. Once you've done this set the `PPLX_API_KEY` environment variable:"
   ]
  },
  {
   "cell_type": "code",
   "execution_count": 4,
   "id": "d98ea56f",
   "metadata": {},
   "outputs": [],
   "source": [
    "# !pip install langchain_perplexity"
   ]
  },
  {
   "cell_type": "code",
   "execution_count": 1,
   "id": "2243f329",
   "metadata": {},
   "outputs": [],
   "source": [
    "import getpass\n",
    "import os\n",
    "\n",
    "if \"PPLX_API_KEY\" not in os.environ:\n",
    "    os.environ[\"PPLX_API_KEY\"] = getpass.getpass(\"Enter your Perplexity API key: \")"
   ]
  },
  {
   "cell_type": "markdown",
   "id": "7dfe47c4",
   "metadata": {},
   "source": [
    "To enable automated tracing of your model calls, set your [LangSmith](https://docs.smith.langchain.com/) API key:"
   ]
  },
  {
   "cell_type": "code",
   "execution_count": null,
   "id": "10a791fa",
   "metadata": {},
   "outputs": [],
   "source": [
    "# os.environ[\"LANGSMITH_API_KEY\"] = getpass.getpass(\"Enter your LangSmith API key: \")\n",
    "# os.environ[\"LANGSMITH_TRACING\"] = \"true\""
   ]
  },
  {
   "cell_type": "code",
   "execution_count": 5,
   "id": "d4a7c55d-b235-4ca4-a579-c90cc9570da9",
   "metadata": {
    "ExecuteTime": {
     "end_time": "2024-01-19T11:25:00.590587Z",
     "start_time": "2024-01-19T11:25:00.127293Z"
    },
    "tags": []
   },
   "outputs": [],
   "source": [
    "from langchain_core.prompts import ChatPromptTemplate\n",
    "from langchain_perplexity import ChatPerplexity"
   ]
  },
  {
   "cell_type": "markdown",
   "id": "b26e2035-2f81-4451-ba44-fa2e2d5aeb62",
   "metadata": {},
   "source": [
    "The code provided assumes that your PPLX_API_KEY is set in your environment variables. If you would like to manually specify your API key and also choose a different model, you can use the following code:"
   ]
  },
  {
   "cell_type": "code",
   "execution_count": 7,
   "id": "b35c9254",
   "metadata": {},
   "outputs": [],
   "source": [
    "PPLX_API_KEY = __import__(\"os\").environ.get(\"PPLX_API_KEY\")"
   ]
  },
  {
   "cell_type": "code",
   "execution_count": null,
   "id": "d986aac6-1bae-4608-8514-d3ba5b35b10e",
   "metadata": {},
   "outputs": [],
   "source": [
    "chat = ChatPerplexity(\n",
    "    temperature=0.2, \n",
    "    pplx_api_key=PPLX_API_KEY, \n",
    "    model=\"sonar-pro\"\n",
    ")"
   ]
  },
  {
   "cell_type": "markdown",
   "id": "97a8ce3a",
   "metadata": {},
   "source": [
    "You can view a list of available models [here](https://docs.perplexity.ai/guides/model-cards). For reproducibility, we can set the API key dynamically by taking it as an input in this notebook."
   ]
  },
  {
   "cell_type": "code",
   "execution_count": 12,
   "id": "8199ef8f-eb8b-4253-9ea0-6c24a013ca4c",
   "metadata": {
    "ExecuteTime": {
     "end_time": "2024-01-19T11:25:07.274418Z",
     "start_time": "2024-01-19T11:25:05.898031Z"
    },
    "tags": []
   },
   "outputs": [
    {
     "data": {
      "text/plain": [
       "'The weather in New York City today, Saturday, April 12, 2025, is cold and rainy. The high temperature is around 42°F, with rain and drizzle throughout the day, becoming windy in the afternoon. Tonight, the low temperature will be approximately 40°F, with breezy conditions and occasional rain and drizzle continuing[1][2][3].\\n\\nCurrently, the temperature is about 39°F, with a RealFeel® of 32°F due to wind and humidity. Winds are coming from the northeast at 11-16 mph, with gusts up to 33 mph. The humidity level is high at 85%, and cloud cover is nearly complete at 99-100%[2][3].'"
      ]
     },
     "execution_count": 12,
     "metadata": {},
     "output_type": "execute_result"
    }
   ],
   "source": [
    "system = \"Be precise and concise.\"\n",
    "human = \"{input}\"\n",
    "prompt = ChatPromptTemplate.from_messages([(\"system\", system), (\"human\", human)])\n",
    "\n",
    "chain = prompt | chat\n",
    "response = chain.invoke({\"input\": \"What is the weather like in NYC today?\"})\n",
    "response.content"
   ]
  },
  {
   "cell_type": "markdown",
   "id": "de6d8d5a",
   "metadata": {},
   "source": [
    "You can format and structure the prompts like you would typically, while bearing in mind that this gives you access to real-time web search which requires a specific prompting strategy. You can read more about this in Perplexity's prompting guide [here](https://docs.perplexity.ai/guides/prompt-guide). \n",
    "\n",
    "For example, we can ask the model to give us news on specific topics:"
   ]
  },
  {
   "cell_type": "code",
   "execution_count": 13,
   "id": "c5fac0e9-05a4-4fc1-a3b3-e5bbb24b971b",
   "metadata": {
    "ExecuteTime": {
     "end_time": "2024-01-19T11:25:10.448733Z",
     "start_time": "2024-01-19T11:25:08.866277Z"
    },
    "tags": []
   },
   "outputs": [
    {
     "data": {
      "text/plain": [
       "'The U.S. stock market experienced a significant rebound on Friday, April 11, 2025, with the Dow Jones Industrial Average closing over 600 points higher. This surge followed a tumultuous week marked by volatility. The positive market sentiment was driven by optimism surrounding potential tariff deals between the U.S. and China, as well as encouraging economic data. Investors were hopeful that ongoing trade tensions could be resolved, with the White House signaling progress in negotiations. Despite this optimism, experts cautioned that market volatility could persist in the coming weeks[1].\\n\\nAdditionally, the first-quarter earnings season began, with major banks like JPMorgan Chase, Morgan Stanley, and Wells Fargo reporting better-than-expected results. However, bank executives expressed concerns about ongoing uncertainty and the need for a resolution to trade tensions. Consumer spending remained strong, according to JPMorgan Chase, but the broader economic outlook remains uncertain due to geopolitical and trade-related challenges[1].'"
      ]
     },
     "execution_count": 13,
     "metadata": {},
     "output_type": "execute_result"
    }
   ],
   "source": [
    "chat = ChatPerplexity(temperature=0, model=\"sonar-pro\")\n",
    "prompt = ChatPromptTemplate.from_messages([(\"human\", \"Tell me the latest news around {topic}\")])\n",
    "chain = prompt | chat\n",
    "response = chain.invoke({\"topic\": \"the US stock market\"})\n",
    "response.content"
   ]
  },
  {
   "cell_type": "markdown",
   "id": "a7f8f61b",
   "metadata": {},
   "source": [
    "## Using Perplexity-specific parameters through `ChatPerplexity`\n",
    "\n",
    "You can also use Perplexity-specific parameters through the `ChatPerplexity`class to fine-tune how your web search works. For example, using the extra_body parameter, you can supply options such as:\n",
    "\n",
    "- [search_domain_filter](https://docs.perplexity.ai/guides/search-domain-filters): Restricts search results to specified domains or excludes certain domains, ensuring that only content from approved or relevant websites is included.\n",
    "- [return_images](https://docs.perplexity.ai/api-reference/chat-completions): If enabled, allows the API to return images along with text content, enriching the search results with visual context.\n",
    "- [return_related_questions](https://docs.perplexity.ai/api-reference/chat-completions): Provides additional context by returning a set of related questions based on the query, which can help in exploring further or clarifying information.\n",
    "- [search_recency_filter](https://docs.perplexity.ai/api-reference/chat-completions): Filters results based on recency, ensuring that the most current information is prioritized according to the time frame you specify (e.g., the past week or month).\n",
    "\n",
    "These parameters empower you to tailor the search outputs to meet specific requirements for accuracy, relevance, and presentation in your applications."
   ]
  },
  {
   "cell_type": "code",
   "execution_count": 18,
   "id": "73960f51",
   "metadata": {},
   "outputs": [
    {
     "data": {
      "text/plain": [
       "'The latest updates on U.S. tariffs indicate a significant escalation in the ongoing trade tensions between the United States and China. On April 11, 2025, China announced a sharp increase in tariffs on U.S. imports, raising rates from 84% to 125%, effectively more than doubling the costs of American goods entering the Chinese market. This move is a direct retaliation to a recent decision by the U.S. to impose higher tariffs on Chinese products. The trade war between the two largest economies shows no signs of de-escalation, with both sides continuing to implement aggressive economic measures against each other[1].'"
      ]
     },
     "execution_count": 18,
     "metadata": {},
     "output_type": "execute_result"
    }
   ],
   "source": [
    "chat = ChatPerplexity(temperature=0.2, model=\"sonar-pro\")\n",
    "\n",
    "response = chat.invoke(\n",
    "    \"Give me the latest updates around US tariffs.\", \n",
    "    extra_body={\n",
    "            \"search_recency_filter\": \"week\",\n",
    "            \"search_domain_filter\":[\"-cnn.com\"], # You can also blacklist domains by adding a \"-\" sign in front \n",
    "            \"return_related_questions\":True, \n",
    "            \"return_images\":True\n",
    "                })\n",
    "                \n",
    "response.content"
   ]
  },
  {
   "cell_type": "markdown",
   "id": "13d93dc4",
   "metadata": {},
   "source": [
    "## `ChatPerplexity` also supports streaming functionality:"
   ]
  },
  {
   "cell_type": "code",
   "execution_count": 20,
   "id": "025be980-e50d-4a68-93dc-c9c7b500ce34",
   "metadata": {
    "ExecuteTime": {
     "end_time": "2024-01-19T11:25:24.438696Z",
     "start_time": "2024-01-19T11:25:14.687480Z"
    },
    "tags": []
   },
   "outputs": [
    {
     "name": "stdout",
     "output_type": "stream",
     "text": [
      "<think>\n",
      "Okay, let's tackle this question about whether fusion energy can become a mainstream power source by 2040. First, I need to go through all the search results provided and see what they say about current progress, challenges, and timelines.\n",
      "\n",
      "Starting with the UK's STEP project mentioned in sources [1] and [7], they're aiming for a prototype plant by 2040. That's a key point. The UK government is investing over £220 million, which shows commitment. But the article also mentions that ITER in France is facing delays and might not produce electricity until 2050. That's a red flag because ITER is a major international effort, and if it's delayed, it could affect broader timelines.\n",
      "\n",
      "Source [5] talks about the US National Academy of Sciences suggesting a fusion pilot plant by 2035-2040. So the US is also targeting that timeframe. But they note significant technical and economic challenges. Private companies like General Atomics are involved, which is a good sign of both public and private sector interest.\n",
      "\n",
      "Looking at the technical challenges, sources [1], [3], and [4] all mention the difficulty of sustaining the extreme temperatures and pressures needed for fusion. The Lawson criterion is a big hurdle. Even though JET (source [1]) made progress with a 5-second plasma, that's nowhere near the continuous operation needed for a power plant. Also, materials that can withstand neutron bombardment are still in development (source [6]).\n",
      "\n",
      "Economic factors are another concern. Source [4] points out that the levelized cost of energy for fusion is estimated to be much higher than renewables like solar and wind. If fusion can't compete on cost, it might not become mainstream even if technically feasible. Plus, the initial capital costs are massive, which could deter investment unless there's strong government support.\n",
      "\n",
      "International collaboration is happening with ITER and other projects, but source [7] mentions that each country is also pursuing its own initiatives, like the UK's STEP and China's CFETR. This could lead to fragmented progress, but also multiple avenues for breakthroughs.\n",
      "\n",
      "Environmental benefits are clear from sources [9] and [3]—fusion produces no carbon emissions and minimal radioactive waste. However, tritium supply is an issue. Breeding tritium from lithium in the reactor is part of the plan, but that technology isn't fully proven yet (source [7]).\n",
      "\n",
      "Private sector involvement is growing, with companies like General Fusion and Tokamak Energy making strides (sources [4] and [6]). This could accelerate development, but many of these are still in experimental stages.\n",
      "\n",
      "Considering all this, the 2040 target is ambitious. The UK and US have pilot plants planned, but transitioning from prototypes to commercial-scale reactors in just 20 years is a huge leap. ITER's delays and the unresolved technical challenges (like materials and sustained plasma) suggest that while there might be some demonstration plants by 2040, mainstream adoption would require rapid scaling and cost reductions that may not be feasible by then. Also, competition from cheaper renewables could limit fusion's role unless it achieves significant cost breakthroughs.\n",
      "\n",
      "In conclusion, fusion might start contributing to the energy mix by 2040 with pilot plants, but becoming a mainstream source would likely take longer, possibly into the 2050s or beyond. The progress is promising, but the technical and economic hurdles are substantial.\n",
      "</think>\n",
      "\n",
      "Nuclear fusion holds transformative potential as a nearly limitless, clean energy source, but its feasibility as a mainstream power source by 2040 faces significant technical, economic, and logistical challenges. Here’s a structured analysis:\n",
      "\n",
      "### **Current Progress and Key Projects**\n",
      "- **STEP (UK)**: The UK’s Spherical Tokamak for Energy Production aims to demonstrate net energy gain and grid connectivity by the 2040s, replacing a coal plant in Nottinghamshire[1][7]. The design emphasizes compact spherical tokamaks to reduce costs and improve maintenance[7].\n",
      "- **ITER (France)**: This multinational project targets 500 MW of fusion power by the 2030s but has faced delays, with full operation now expected around 2050[1][6]. ITER’s success is critical for validating plasma confinement and energy scalability[9].\n",
      "- **Private Initiatives**: Companies like General Fusion and Tokamak Energy are advancing compact reactor designs, with some aiming for pilot plants by the 2030s[4][6]. The U.S. National Academy of Sciences also envisions a fusion pilot plant by 2035–2040[5].\n",
      "\n",
      "### **Technical Challenges**\n",
      "1. **Plasma Stability and Energy Gain**: Sustaining plasma at 100–300 million°C without disruptions remains a hurdle. While JET achieved 59 megajoules over 5 seconds (11 MW), this is far from continuous operation[1][6].\n",
      "2. **Materials Science**: Reactor components must withstand neutron bombardment and extreme heat. Tritium breeding blankets (to fuel the reaction) are still in experimental stages[7][9].\n",
      "3. **Net Energy Breakthrough**: Most experiments, including the National Ignition Facility’s 2022 milestone, have not yet achieved a sustained energy gain ratio (Q) >10, a prerequisite for commercial viability[8].\n",
      "\n",
      "### **Economic and Logistical Hurdles**\n",
      "- **High Costs**: ITER’s budget has ballooned to ~$22 billion, and the UK’s STEP requires £220 million in initial funding[1][7]. Levelized cost estimates for fusion (~$121/MWh) exceed solar ($40–46/MWh) and onshore wind ($29–56/MWh)[4].\n",
      "- **Supply Chains and Expertise**: Building specialized components (e.g., superconducting magnets) and training a skilled workforce will take decades[7].\n",
      "\n",
      "### **Environmental and Competitive Landscape**\n",
      "- **Advantages**: Fusion produces no CO₂, minimal long-lived radioactive waste, and uses abundant fuel (deuterium from seawater, lithium for tritium)[9].\n",
      "- **Renewables Competition**: Solar and wind are already cost-competitive and scalable, raising questions about fusion’s market niche[4][8].\n",
      "\n",
      "### **Pathway to 2040**\n",
      "- **Pilot Plants**: The UK’s STEP and U.S. public-private partnerships aim to demonstrate net electricity by 2040, but these will likely remain experimental rather than commercial[1][5][7].\n",
      "- **Fuel Cycle Proof-of-Concept**: Achieving a closed tritium cycle (self-sustaining fuel) is critical and untested at scale[7][9].\n",
      "- **Regulatory Frameworks**: Safety and licensing protocols for fusion reactors are still under development globally[6].\n",
      "\n",
      "### **Conclusion**\n",
      "While 2040 may see the first fusion pilot plants delivering electricity to grids, **mainstream adoption by this date is unlikely**. Technical breakthroughs in plasma control, materials, and tritium breeding are still needed, and costs must plummet to compete with renewables. Optimistic projections suggest fusion could contribute ~10% of global energy by 2050–2060 if current momentum persists[2][6][8]. For now, fusion remains a promising but nascent complement to existing low-carbon technologies."
     ]
    }
   ],
   "source": [
    "chat = ChatPerplexity(temperature=0.2, model=\"sonar-reasoning-pro\")\n",
    "\n",
    "for chunk in chat.stream(\"Analyze the feasibility of fusion energy becoming a mainstream power source by 2040.\"):\n",
    "    print(chunk.content, end=\"\", flush=True)"
   ]
  },
  {
   "cell_type": "markdown",
   "id": "397c43de",
   "metadata": {},
   "source": [
    "## Structured outputs with `ChatPerplexity` \n",
    "\n",
    "Please follow the official [documentation](https://docs.perplexity.ai/guides/structured-outputs) regarding structured outputs. "
   ]
  },
  {
   "cell_type": "code",
   "execution_count": 27,
   "id": "1bae9b80-394a-4340-9c30-612c136b742a",
   "metadata": {},
   "outputs": [
    {
     "name": "stdout",
     "output_type": "stream",
     "text": [
      "Renewable Energy Industry Sees Major Developments in 2025\n",
      "In 2025, the renewable energy sector is witnessing significant growth and technological advancements. Utility-scale solar and wind projects dominate new installations, with projections indicating solar capacity to surpass hydropower globally by 2029. The U.S. sees strong policy-driven growth, particularly through mechanisms like the Inflation Reduction Act and state-level Renewable Portfolio Standards. Globally, solar and wind energy technologies continue experiencing efficiency improvements, cost reductions, and expanded deployment. Policymakers and industry leaders focus on addressing infrastructure challenges, such as grid capacity and supply chain issues, to meet the rising demand for renewable energy sources.\n",
      "https://www2.deloitte.com/us/en/insights/industry/renewable-energy/renewable-energy-industry-outlook.html\n"
     ]
    }
   ],
   "source": [
    "from pydantic import BaseModel\n",
    "\n",
    "class NewsResult(BaseModel):\n",
    "    headline: str\n",
    "    summary: str\n",
    "    url: str\n",
    "    publication_date: str\n",
    "\n",
    "# Initialize ChatPerplexity with desired parameters\n",
    "chat = ChatPerplexity(temperature=0.7, model=\"sonar-pro\")\n",
    "\n",
    "# Create a structured output instance using the defined Pydantic schema\n",
    "structured_chat = chat.with_structured_output(NewsResult)\n",
    "\n",
    "# Invoke the API with a query that requires deep research on renewable energy breakthroughs.\n",
    "response = structured_chat.invoke(\n",
    "    \"Provide a comprehensive overview of renewable energy breakthroughs. \"\n",
    "    \"Your analysis should include detailed insights on industry trends, policy impacts, and expert opinions, \"\n",
    "    \"not just the headline. Return your answer as JSON with keys: headline (str), summary (str), url (str), \"\n",
    "    \"and publication_date (str).\",\n",
    ")\n",
    "\n",
    "print(response.headline)\n",
    "print(response.summary)\n",
    "print(response.url)"
   ]
  },
  {
   "cell_type": "markdown",
   "id": "2f70c39f",
   "metadata": {},
   "source": [
    "# Using `ChatPerplexity` as a tool within Langchain\n",
    "\n",
    "You can mark the `ask_perplexity` function as a LangChain tool by using LangChain's built-in `@tool` decorator."
   ]
  },
  {
   "cell_type": "code",
   "execution_count": 30,
   "id": "e3e7b580",
   "metadata": {},
   "outputs": [
    {
     "name": "stdout",
     "output_type": "stream",
     "text": [
      "Query result:\n",
      "\n",
      "The latest breakthroughs in quantum computing have been significant and varied, with multiple companies and research institutions contributing to advancements in this field. Here are some of the most notable developments:\n",
      "\n",
      "## IBM's Breakthroughs\n",
      "- **Condor Processor**: IBM unveiled the Condor processor, featuring 1,121 superconducting qubits, marking a major milestone in quantum computing by surpassing the 1,000-qubit barrier. This processor showcases IBM's advancements in scale, yield, and design for quantum chip manufacturing[1][2].\n",
      "- **Quantum Heron Processor**: IBM also introduced the Quantum Heron processor with 133 fixed-frequency qubits, offering improved device performance and reduced crosstalk compared to its predecessor[2].\n",
      "\n",
      "## Google's Advancements\n",
      "- **Willow Quantum Chip**: Google developed the Willow quantum chip, which significantly reduces errors as it scales up, achieving an exponential reduction in error rates. This breakthrough is crucial for building practical, large-scale quantum computers[2][5].\n",
      "\n",
      "## Microsoft's Topological Approach\n",
      "- **Majorana 1 Chip**: Microsoft introduced the Majorana 1 chip, which uses a new Topological Core architecture. This technology leverages topoconductors to create more reliable and scalable qubits, offering a path to solving complex industrial problems[4].\n",
      "\n",
      "## D-Wave Quantum\n",
      "- **Quantum Supremacy**: D-Wave Quantum announced that its annealing quantum computer outperformed a powerful classical supercomputer in solving complex magnetic materials simulation problems, demonstrating a real-world application of quantum supremacy[3].\n",
      "\n",
      "## Academic Breakthroughs\n",
      "- **Spin Waves at Delft University**: Researchers successfully controlled spin waves on a chip using superconductors, opening possibilities for energy-efficient quantum technology[4].\n",
      "- **Molecular Entanglement at Princeton**: Physicists achieved entanglement of individual molecules, paving the way for quantum simulations in chemistry[5].\n"
     ]
    }
   ],
   "source": [
    "from langchain_core.tools import tool\n",
    "from langchain_perplexity import ChatPerplexity\n",
    "\n",
    "@tool\n",
    "def ask_perplexity(query: str) -> str:\n",
    "    \"\"\"A tool for querying the Perplexity API's generative search capabilities.\"\"\"\n",
    "    llm = ChatPerplexity(model=\"sonar\")  # add other parameters as desired\n",
    "    return llm.invoke(query)\n",
    "\n",
    "\n",
    "if __name__ == \"__main__\":\n",
    "    # Example query: Ask the tool to provide insights about quantum computing.\n",
    "    query = \"What are the latest breakthroughs in quantum computing?\"\n",
    "    result = ask_perplexity(query)\n",
    "    print(\"Query result:\")\n",
    "    print()\n",
    "    print(result.content)"
   ]
  },
  {
   "cell_type": "code",
   "execution_count": null,
   "id": "29752a3b",
   "metadata": {},
   "outputs": [],
   "source": []
  }
 ],
 "metadata": {
  "kernelspec": {
   "display_name": "quotient",
   "language": "python",
   "name": "python3"
  },
  "language_info": {
   "codemirror_mode": {
    "name": "ipython",
    "version": 3
   },
   "file_extension": ".py",
   "mimetype": "text/x-python",
   "name": "python",
   "nbconvert_exporter": "python",
   "pygments_lexer": "ipython3",
   "version": "3.12.4"
  }
 },
 "nbformat": 4,
 "nbformat_minor": 5
}
