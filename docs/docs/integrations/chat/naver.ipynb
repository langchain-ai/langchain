{
 "cells": [
  {
   "cell_type": "raw",
   "id": "afaf8039",
   "metadata": {},
   "source": [
    "---\n",
    "sidebar_label: Naver\n",
    "---"
   ]
  },
  {
   "cell_type": "markdown",
   "id": "c8444f1a-e907-4f07-b8b6-68fbedfb868e",
   "metadata": {},
   "source": [
    "# ChatClovaX\n",
    "\n",
    "This notebook provides a quick overview for getting started with Naver’s HyperCLOVA X [chat models](https://python.langchain.com/docs/concepts/chat_models) via CLOVA Studio. For detailed documentation of all ChatClovaX features and configurations head to the [API reference](https://python.langchain.com/api_reference/community/chat_models/langchain_community.chat_models.naver.ChatClovaX.html).\n",
    "\n",
    "[CLOVA Studio](http://clovastudio.ncloud.com/) has several chat models. You can find information about latest models and their costs, context windows, and supported input types in the CLOVA Studio API Guide [documentation](https://api.ncloud-docs.com/docs/clovastudio-chatcompletions).\n",
    "\n",
    "## Overview\n",
    "### Integration details\n",
    "\n",
    "| Class | Package | Local | Serializable | JS support | Package downloads | Package latest |\n",
    "| :--- | :--- |:-----:| :---: |:------------------------------------------------------------------------:| :---: | :---: |\n",
    "| [ChatClovaX](https://python.langchain.com/api_reference/community/chat_models/langchain_community.chat_models.naver.ChatClovaX.html) | [langchain-community](https://python.langchain.com/api_reference/community/index.html) |   ❌   | ❌ |                                    ❌                                     | ![PyPI - Downloads](https://img.shields.io/pypi/dm/langchain_community?style=flat-square&label=%20) | ![PyPI - Version](https://img.shields.io/pypi/v/langchain_community?style=flat-square&label=%20) |\n",
    "\n",
    "### Model features\n",
    "| [Tool calling](/docs/how_to/tool_calling/) | [Structured output](/docs/how_to/structured_output/) | JSON mode | [Image input](/docs/how_to/multimodal_inputs/) | Audio input | Video input | [Token-level streaming](/docs/how_to/chat_streaming/) | Native async | [Token usage](/docs/how_to/chat_token_usage_tracking/) | [Logprobs](/docs/how_to/logprobs/) |\n",
    "|:------------------------------------------:| :---: | :---: | :---: |  :---: | :---: |:-----------------------------------------------------:| :---: |:------------------------------------------------------:|:----------------------------------:|\n",
    "|❌| ❌ | ❌ | ❌ | ❌ | ❌ |                          ✅                            | ✅ |                           ✅                            |                 ❌                  | \n",
    "\n",
    "## Setup\n",
    "\n",
    "Before using the chat model, you must go through the four steps below.\n",
    "\n",
    "1. Creating [NAVER Cloud Platform](https://www.ncloud.com/) account \n",
    "2. Apply to use [CLOVA Studio](https://www.ncloud.com/product/aiService/clovaStudio)\n",
    "3. Create a CLOVA Studio Test App or Service App of a model to use (See [here](https://guide.ncloud-docs.com/docs/en/clovastudio-playground01#테스트앱생성).)\n",
    "4. Issue a Test or Service API key (See [here](https://api.ncloud-docs.com/docs/ai-naver-clovastudio-summary#API%ED%82%A4).)\n",
    "\n",
    "### Credentials\n",
    "\n",
    "Set the `NCP_CLOVASTUDIO_API_KEY` environment variable with your API key.\n",
    "  - Note that if you are using a legacy API Key (that doesn't start with `nv-*` prefix), you might need to get an additional API Key by clicking `App Request Status` > `Service App, Test App List` > `‘Details’ button for each app` in [CLOVA Studio](https://clovastudio.ncloud.com/studio-application/service-app) and set it as `NCP_APIGW_API_KEY`.\n",
    "\n",
    "You can add them to your environment variables as below:\n",
    "\n",
    "``` bash\n",
    "export NCP_CLOVASTUDIO_API_KEY=\"your-api-key-here\"\n",
    "# Uncomment below to use a legacy API key\n",
    "# export NCP_APIGW_API_KEY=\"your-api-key-here\"\n",
    "```"
   ]
  },
  {
   "cell_type": "code",
   "execution_count": null,
   "id": "2def81b5-b023-4f40-a97b-b2c5ca59d6a9",
   "metadata": {},
   "outputs": [],
   "source": [
    "import getpass\n",
    "import os\n",
    "\n",
    "if not os.getenv(\"NCP_CLOVASTUDIO_API_KEY\"):\n",
    "    os.environ[\"NCP_CLOVASTUDIO_API_KEY\"] = getpass.getpass(\n",
    "        \"Enter your NCP CLOVA Studio API Key: \"\n",
    "    )\n",
    "# Uncomment below to use a legacy API key\n",
    "# if not os.getenv(\"NCP_APIGW_API_KEY\"):\n",
    "#     os.environ[\"NCP_APIGW_API_KEY\"] = getpass.getpass(\n",
    "#         \"Enter your NCP API Gateway API key: \"\n",
    "#     )"
   ]
  },
  {
   "cell_type": "markdown",
   "id": "7c695442",
   "metadata": {},
   "source": [
    "If you want to get automated tracing of your model calls you can also set your [LangSmith](https://docs.smith.langchain.com/) API key by uncommenting below:"
   ]
  },
  {
   "cell_type": "code",
   "execution_count": null,
   "id": "6151aeb6",
   "metadata": {},
   "outputs": [],
   "source": [
    "# os.environ[\"LANGSMITH_TRACING\"] = \"true\"\n",
    "# os.environ[\"LANGSMITH_API_KEY\"] = getpass.getpass(\"Enter your LangSmith API key: \")"
   ]
  },
  {
   "cell_type": "markdown",
   "id": "17bf9053-90c5-4955-b239-55a35cb07566",
   "metadata": {},
   "source": [
    "### Installation\n",
    "\n",
    "The LangChain Naver integration lives in the `langchain-community` package:"
   ]
  },
  {
   "cell_type": "code",
   "execution_count": null,
   "id": "a15d341e-3e26-4ca3-830b-5aab30ed66de",
   "metadata": {},
   "outputs": [],
   "source": [
    "# install package\n",
    "!pip install -qU langchain-community"
   ]
  },
  {
   "cell_type": "markdown",
   "id": "a38cde65-254d-4219-a441-068766c0d4b5",
   "metadata": {},
   "source": [
    "## Instantiation\n",
    "\n",
    "Now we can instantiate our model object and generate chat completions:"
   ]
  },
  {
   "cell_type": "code",
   "execution_count": 2,
   "id": "cb09c344-1836-4e0c-acf8-11d13ac1dbae",
   "metadata": {},
   "outputs": [],
   "source": [
    "from langchain_community.chat_models import ChatClovaX\n",
    "\n",
    "chat = ChatClovaX(\n",
    "    model=\"HCX-003\",\n",
    "    max_tokens=100,\n",
    "    temperature=0.5,\n",
    "    # clovastudio_api_key=\"...\"    # set if you prefer to pass api key directly instead of using environment variables\n",
    "    # task_id=\"...\"    # set if you want to use fine-tuned model\n",
    "    # service_app=False    # set True if using Service App. Default value is False (means using Test App)\n",
    "    # include_ai_filters=False     # set True if you want to detect inappropriate content. Default value is False\n",
    "    # other params...\n",
    ")"
   ]
  },
  {
   "cell_type": "markdown",
   "id": "47752b59",
   "metadata": {},
   "source": [
    "## Invocation\n",
    "\n",
    "In addition to invoke, we also support batch and stream functionalities."
   ]
  },
  {
   "cell_type": "code",
   "execution_count": 3,
   "id": "62e0dbc3",
   "metadata": {
    "tags": []
   },
   "outputs": [
    {
     "data": {
      "text/plain": [
       "AIMessage(content='저는 네이버 AI를 사용하는 것이 좋아요.', additional_kwargs={}, response_metadata={'stop_reason': 'stop_before', 'input_length': 25, 'output_length': 14, 'seed': 1112164354, 'ai_filter': None}, id='run-b57bc356-1148-4007-837d-cc409dbd57cc-0', usage_metadata={'input_tokens': 25, 'output_tokens': 14, 'total_tokens': 39})"
      ]
     },
     "execution_count": 3,
     "metadata": {},
     "output_type": "execute_result"
    }
   ],
   "source": [
    "messages = [\n",
    "    (\n",
    "        \"system\",\n",
    "        \"You are a helpful assistant that translates English to Korean. Translate the user sentence.\",\n",
    "    ),\n",
    "    (\"human\", \"I love using NAVER AI.\"),\n",
    "]\n",
    "\n",
    "ai_msg = chat.invoke(messages)\n",
    "ai_msg"
   ]
  },
  {
   "cell_type": "code",
   "execution_count": 4,
   "id": "24e7377f",
   "metadata": {},
   "outputs": [
    {
     "name": "stdout",
     "output_type": "stream",
     "text": [
      "저는 네이버 AI를 사용하는 것이 좋아요.\n"
     ]
    }
   ],
   "source": [
    "print(ai_msg.content)"
   ]
  },
  {
   "cell_type": "markdown",
   "id": "18e2bfc0-7e78-4528-a73f-499ac150dca8",
   "metadata": {},
   "source": [
    "## Chaining\n",
    "\n",
    "We can [chain](/docs/how_to/sequence/) our model with a prompt template like so:"
   ]
  },
  {
   "cell_type": "code",
   "execution_count": 5,
   "id": "e197d1d7-a070-4c96-9f8a-a0e86d046e0b",
   "metadata": {},
   "outputs": [
    {
     "data": {
      "text/plain": [
       "AIMessage(content='저는 네이버 AI를 사용하는 것이 좋아요.', additional_kwargs={}, response_metadata={'stop_reason': 'stop_before', 'input_length': 25, 'output_length': 14, 'seed': 2575184681, 'ai_filter': None}, id='run-7014b330-eba3-4701-bb62-df73ce39b854-0', usage_metadata={'input_tokens': 25, 'output_tokens': 14, 'total_tokens': 39})"
      ]
     },
     "execution_count": 5,
     "metadata": {},
     "output_type": "execute_result"
    }
   ],
   "source": [
    "from langchain_core.prompts import ChatPromptTemplate\n",
    "\n",
    "prompt = ChatPromptTemplate.from_messages(\n",
    "    [\n",
    "        (\n",
    "            \"system\",\n",
    "            \"You are a helpful assistant that translates {input_language} to {output_language}. Translate the user sentence.\",\n",
    "        ),\n",
    "        (\"human\", \"{input}\"),\n",
    "    ]\n",
    ")\n",
    "\n",
    "chain = prompt | chat\n",
    "chain.invoke(\n",
    "    {\n",
    "        \"input_language\": \"English\",\n",
    "        \"output_language\": \"Korean\",\n",
    "        \"input\": \"I love using NAVER AI.\",\n",
    "    }\n",
    ")"
   ]
  },
  {
   "cell_type": "markdown",
   "id": "66e69286",
   "metadata": {},
   "source": [
    "## Streaming"
   ]
  },
  {
   "cell_type": "code",
   "execution_count": 6,
   "id": "2c07af21-dda5-4514-b4de-1f214c2cebcd",
   "metadata": {},
   "outputs": [
    {
     "name": "stdout",
     "output_type": "stream",
     "text": [
      "Certainly! In Korean, \"Hi\" is pronounced as \"안녕\" (annyeong). The first syllable, \"안,\" sounds like the \"ahh\" sound in \"apple,\" while the second syllable, \"녕,\" sounds like the \"yuh\" sound in \"you.\" So when you put them together, it's like saying \"ahhyuh-nyuhng.\" Remember to pronounce each syllable clearly and separately for accurate pronunciation."
     ]
    }
   ],
   "source": [
    "system = \"You are a helpful assistant that can teach Korean pronunciation.\"\n",
    "human = \"Could you let me know how to say '{phrase}' in Korean?\"\n",
    "prompt = ChatPromptTemplate.from_messages([(\"system\", system), (\"human\", human)])\n",
    "\n",
    "chain = prompt | chat\n",
    "\n",
    "for chunk in chain.stream({\"phrase\": \"Hi\"}):\n",
    "    print(chunk.content, end=\"\", flush=True)"
   ]
  },
  {
   "cell_type": "markdown",
   "id": "d1ee55bc-ffc8-4cfa-801c-993953a08cfd",
   "metadata": {},
   "source": [
    "## Additional functionalities\n",
    "\n",
    "### Using fine-tuned models\n",
    "\n",
    "You can call fine-tuned models by passing in your corresponding `task_id` parameter. (You don’t need to specify the `model_name` parameter when calling fine-tuned model.)\n",
    "\n",
    "You can check `task_id` from corresponding Test App or Service App details."
   ]
  },
  {
   "cell_type": "code",
   "execution_count": 7,
   "id": "cb436788",
   "metadata": {},
   "outputs": [
    {
     "data": {
      "text/plain": [
       "AIMessage(content='저는 네이버 AI를 사용하는 것이 너무 좋아요.', additional_kwargs={}, response_metadata={'stop_reason': 'stop_before', 'input_length': 25, 'output_length': 15, 'seed': 52559061, 'ai_filter': None}, id='run-5bea8d4a-48f3-4c34-ae70-66e60dca5344-0', usage_metadata={'input_tokens': 25, 'output_tokens': 15, 'total_tokens': 40})"
      ]
     },
     "execution_count": 7,
     "metadata": {},
     "output_type": "execute_result"
    }
   ],
   "source": [
    "fine_tuned_model = ChatClovaX(\n",
    "    task_id=\"5s8egt3a\",  # set if you want to use fine-tuned model\n",
    "    # other params...\n",
    ")\n",
    "\n",
    "fine_tuned_model.invoke(messages)"
   ]
  },
  {
   "cell_type": "markdown",
   "id": "f428deaf",
   "metadata": {},
   "source": [
    "### Service App\n",
    "\n",
    "When going live with production-level application using CLOVA Studio, you should apply for and use Service App. (See [here](https://guide.ncloud-docs.com/docs/en/clovastudio-playground01#서비스앱신청).)\n",
    "\n",
    "For a Service App, you should use a corresponding Service API key and can only be called with it."
   ]
  },
  {
   "cell_type": "code",
   "execution_count": null,
   "id": "dcf566df",
   "metadata": {},
   "outputs": [],
   "source": [
    "# Update environment variables\n",
    "\n",
    "os.environ[\"NCP_CLOVASTUDIO_API_KEY\"] = getpass.getpass(\n",
    "    \"Enter NCP CLOVA Studio Service API Key: \"\n",
    ")"
   ]
  },
  {
   "cell_type": "code",
   "execution_count": 9,
   "id": "cebe27ae",
   "metadata": {},
   "outputs": [],
   "source": [
    "chat = ChatClovaX(\n",
    "    service_app=True,  # True if you want to use your service app, default value is False.\n",
    "    # clovastudio_api_key=\"...\"  # if you prefer to pass api key in directly instead of using env vars\n",
    "    model=\"HCX-003\",\n",
    "    # other params...\n",
    ")\n",
    "ai_msg = chat.invoke(messages)"
   ]
  },
  {
   "cell_type": "markdown",
   "id": "d73e7140",
   "metadata": {},
   "source": [
    "### AI Filter\n",
    "\n",
    "AI Filter detects inappropriate output such as profanity from the test app (or service app included) created in Playground and informs the user. See [here](https://guide.ncloud-docs.com/docs/en/clovastudio-playground01#AIFilter) for details. "
   ]
  },
  {
   "cell_type": "code",
   "execution_count": null,
   "id": "32bfbc93",
   "metadata": {},
   "outputs": [],
   "source": [
    "chat = ChatClovaX(\n",
    "    model=\"HCX-003\",\n",
    "    include_ai_filters=True,  # True if you want to enable ai filter\n",
    "    # other params...\n",
    ")\n",
    "\n",
    "ai_msg = chat.invoke(messages)"
   ]
  },
  {
   "cell_type": "code",
   "execution_count": null,
   "id": "7bd9e179",
   "metadata": {},
   "outputs": [],
   "source": [
    "print(ai_msg.response_metadata[\"ai_filter\"])"
   ]
  },
  {
   "cell_type": "markdown",
   "id": "3a5bb5ca-c3ae-4a58-be67-2cd18574b9a3",
   "metadata": {},
   "source": [
    "## API reference\n",
    "\n",
    "For detailed documentation of all ChatNaver features and configurations head to the API reference: https://python.langchain.com/api_reference/community/chat_models/langchain_community.chat_models.naver.ChatClovaX.html"
   ]
  }
 ],
 "metadata": {
  "kernelspec": {
   "display_name": "Python 3 (ipykernel)",
   "language": "python",
   "name": "python3"
  },
  "language_info": {
   "codemirror_mode": {
    "name": "ipython",
    "version": 3
   },
   "file_extension": ".py",
   "mimetype": "text/x-python",
   "name": "python",
   "nbconvert_exporter": "python",
   "pygments_lexer": "ipython3",
   "version": "3.12.3"
  }
 },
 "nbformat": 4,
 "nbformat_minor": 5
}
