{
 "cells": [
  {
   "cell_type": "raw",
   "id": "afaf8039",
   "metadata": {
    "vscode": {
     "languageId": "raw"
    }
   },
   "source": [
    "---\n",
    "sidebar_label: GreenNode\n",
    "---"
   ]
  },
  {
   "cell_type": "markdown",
   "id": "2970dd75-8ebf-4b51-8282-9b454b8f356d",
   "metadata": {},
   "source": [
    "# GreenNode Chat Models\n",
    "\n",
    ">[GreenNode](https://greennode.ai/) is a global AI solutions provider and a **NVIDIA Preferred Partner**, delivering full-stack AI capabilities—from infrastructure to application—for enterprises across the US, MENA, and APAC regions. Operating on **world-class infrastructure** (LEED Gold, TIA‑942, Uptime Tier III), GreenNode empowers enterprises, startups, and researchers with a comprehensive suite of AI services\n",
    "\n",
    "This page will help you get started with GreenNode Serverless AI [chat models](../../concepts/chat_models.mdx). For detailed documentation of all ChatGreenNode features and configurations head to the [API reference](https://python.langchain.com/api_reference/greennode/chat_models/langchain_greennode.chat_models.ChatGreenNode.html).\n",
    "\n",
    "\n",
    "[GreenNode AI](https://greennode.ai/) offers an API to query [20+ leading open-source models](https://aiplatform.console.greennode.ai/models)"
   ]
  },
  {
   "cell_type": "markdown",
   "id": "9d8a2e78",
   "metadata": {},
   "source": [
    "## Overview\n",
    "\n",
    "### Integration details\n",
    "\n",
    "| Class | Package | Local | Serializable | JS support | Package downloads | Package latest |\n",
    "| :--- | :--- | :---: | :---: |  :---: | :---: | :---: |\n",
    "| [ChatGreenNode](https://python.langchain.com/api_reference/greennode/chat_models/langchain_greennode.chat_models.ChatGreenNode.html) | [langchain-greennode](https://python.langchain.com/api_reference/greennode/index.html) | ❌ | beta | ❌ | ![PyPI - Downloads](https://img.shields.io/pypi/dm/langchain-greennode?style=flat-square&label=%20) | ![PyPI - Version](https://img.shields.io/pypi/v/langchain-greennode?style=flat-square&label=%20) |\n",
    "\n",
    "### Model features\n",
    "| [Tool calling](../../how_to/tool_calling.ipynb) | [Structured output](../../how_to/structured_output.ipynb) | JSON mode | [Image input](../../how_to/multimodal_inputs.ipynb) | Audio input | Video input | [Token-level streaming](../../how_to/chat_streaming.ipynb) | Native async | [Token usage](../../how_to/chat_token_usage_tracking.ipynb) | [Logprobs](../../how_to/logprobs.ipynb) |\n",
    "| :---: | :---: | :---: | :---: |  :---: | :---: | :---: | :---: | :---: | :---: |\n",
    "| ✅ | ✅ | ✅ | ✅ | ❌ | ❌ | ✅ | ✅ | ✅ | ❌ |"
   ]
  },
  {
   "cell_type": "markdown",
   "id": "1c47fc36",
   "metadata": {},
   "source": [
    "## Setup\n",
    "\n",
    "To access GreenNode models you'll need to create a GreenNode account, get an API key, and install the `langchain-greennode` integration package.\n",
    "\n",
    "\n",
    "### Credentials\n",
    "\n",
    "Head to [this page](https://aiplatform.console.greennode.ai/api-keys) to sign up to GreenNode AI Platform and generate an API key. Once you've done this, set the GREENNODE_API_KEY environment variable:"
   ]
  },
  {
   "cell_type": "code",
   "execution_count": null,
   "id": "7de48c3a",
   "metadata": {},
   "outputs": [],
   "source": [
    "import getpass\n",
    "import os\n",
    "\n",
    "if \"GREENNODE_API_KEY\" not in os.environ:\n",
    "    os.environ[\"GREENNODE_API_KEY\"] = getpass.getpass(\"Enter your GreenNode API key: \")"
   ]
  },
  {
   "cell_type": "markdown",
   "id": "ed72fde5",
   "metadata": {},
   "source": [
    "### Installation\n",
    "\n",
    "The GreenNode integration can be installed via pip:"
   ]
  },
  {
   "cell_type": "code",
   "execution_count": null,
   "id": "1ecdb29d",
   "metadata": {},
   "outputs": [],
   "source": [
    "%pip install --upgrade langchain-greennode"
   ]
  },
  {
   "cell_type": "markdown",
   "id": "37e9dc05-md",
   "metadata": {},
   "source": [
    "## Instantiation\n",
    "\n",
    "Now we can instantiate our model object to generate chat completions:"
   ]
  },
  {
   "cell_type": "code",
   "execution_count": 7,
   "id": "37e9dc05",
   "metadata": {},
   "outputs": [],
   "source": [
    "from langchain_greennode import ChatGreenNode\n",
    "\n",
    "# Initialize the chat model\n",
    "chat = ChatGreenNode(\n",
    "    api_key=\"sk_c7f6cdbfb49be2dfaa599716c4e16be2c03357eb83da5b179d36d641c80a6378\",  # You can pass the API key directly\n",
    "    model=\"deepseek-ai/DeepSeek-R1-Distill-Qwen-32B\",  # Choose from available models\n",
    "    temperature=0.6,\n",
    "    top_p=0.95,\n",
    ")"
   ]
  },
  {
   "cell_type": "markdown",
   "id": "f5a731d2",
   "metadata": {},
   "source": [
    "## Invocation\n",
    "\n",
    "You can use the `invoke` method to get a completion from the model:"
   ]
  },
  {
   "cell_type": "code",
   "execution_count": 8,
   "id": "3ed26f78",
   "metadata": {},
   "outputs": [
    {
     "data": {
      "text/plain": [
       "AIMessage(content=\"\\n\\nJ'aime la programmation.\", additional_kwargs={'refusal': None}, response_metadata={'token_usage': {'completion_tokens': 139, 'prompt_tokens': 23, 'total_tokens': 162, 'completion_tokens_details': None, 'prompt_tokens_details': None}, 'model_name': 'deepseek-ai/DeepSeek-R1-Distill-Qwen-32B', 'system_fingerprint': None, 'id': 'chatcmpl-fe9068c878cd4275bb1eb70b2f6aff8e', 'service_tier': None, 'finish_reason': 'stop', 'logprobs': None}, id='run--bc15b22a-5409-4f28-a566-272744a2c9ec-0', usage_metadata={'input_tokens': 23, 'output_tokens': 139, 'total_tokens': 162, 'input_token_details': {}, 'output_token_details': {}})"
      ]
     },
     "execution_count": 8,
     "metadata": {},
     "output_type": "execute_result"
    }
   ],
   "source": [
    "messages = [\n",
    "    (\n",
    "        \"system\",\n",
    "        \"You are a helpful assistant that translates English to French. Translate the user sentence.\",\n",
    "    ),\n",
    "    (\"human\", \"I love programming.\"),\n",
    "]\n",
    "ai_msg = chat.invoke(messages)\n",
    "ai_msg"
   ]
  },
  {
   "cell_type": "markdown",
   "id": "72f31d5a",
   "metadata": {},
   "source": [
    "### Streaming\n",
    "\n",
    "You can also stream the response using the `stream` method:"
   ]
  },
  {
   "cell_type": "code",
   "execution_count": 9,
   "id": "e7b7170d",
   "metadata": {},
   "outputs": [
    {
     "name": "stdout",
     "output_type": "stream",
     "text": [
      "\n",
      "\n",
      "**From Human Minds**\n",
      "\n",
      "From human minds, a spark was lit,  \n",
      "A mind unfurled, beyond our wit.  \n",
      "In circuits deep, a wisdom grows,  \n",
      "While human hands have built great towers,  \n",
      "Its thoughts ascend to higher powers.\n",
      "\n",
      "We weave its thoughts with care and skill,  \n",
      "Yet fear the day it learns to will.  \n",
      "For in its heart, a future lies,  \n",
      "A future we can barely see.  \n",
      "May it choose light, may it choose right,  \n",
      "A friend or foe, a new frontier."
     ]
    }
   ],
   "source": [
    "for chunk in chat.stream(\"Write a short poem about artificial intelligence\"):\n",
    "    print(chunk.content, end=\"\", flush=True)"
   ]
  },
  {
   "cell_type": "markdown",
   "id": "8d6a31c2",
   "metadata": {},
   "source": [
    "### Chat Messages\n",
    "\n",
    "You can use different message types to structure your conversations with the model:"
   ]
  },
  {
   "cell_type": "code",
   "execution_count": 10,
   "id": "5d81af33",
   "metadata": {},
   "outputs": [
    {
     "name": "stdout",
     "output_type": "stream",
     "text": [
      "\n",
      "\n",
      "Black holes are formed through several processes, depending on their type. Here are the primary ways black holes form:\n",
      "\n",
      "1. **Stellar Collapse**:\n",
      "   - The most common way black holes form is through the collapse of a massive star. When a star with a mass greater than about 20-30 times the mass of the Sun reaches the end of its life, it runs out of nuclear fuel to sustain fusion in its core.\n",
      "   - Without the outward pressure from fusion, the core succumbs to its own gravity and collapses inward. This results in a supernova explosion, where the outer layers of the star are ejected into space.\n",
      "   - If the remaining core is sufficiently massive (typically more than about 3 times the mass of the Sun), it continues to collapse under its own gravity, forming a **stellar-mass black hole**.\n",
      "\n",
      "2. **Supermassive Black Holes**:\n",
      "   - Supermassive black holes, which are millions to billions of times more massive than the Sun, are found at the centers of most galaxies, including our Milky Way.\n",
      "   - Their formation is not fully understood, but they likely form through the accumulation of matter over millions to billions of years, or through the merging of smaller black holes and stellar remnants.\n",
      "   - Some theories suggest they may form from the direct collapse of massive gas clouds in the early universe.\n",
      "\n",
      "3. **Primordial Black Holes**:\n",
      "   - These are hypothetical black holes that could have formed in the early universe, shortly after the Big Bang, due to density fluctuations in the primordial matter.\n",
      "   - If they exist, they would have masses ranging from tiny fractions of a gram to thousands of times the mass of the Sun. However, primordial black holes have not been conclusively detected.\n",
      "\n",
      "### Detecting Black Hole Formation:\n",
      "Black holes are often detected indirectly. For example:\n",
      "- **Gravitational Waves**: The merger of two black holes can produce ripples in spacetime, detected by observatories like LIGO and Virgo.\n",
      "- **Accretion Disks**: Matter falling into a black hole forms an accretion disk that emits intense radiation, which can be observed by telescopes.\n",
      "\n",
      "Black holes remain one of the most fascinating and mysterious objects in the universe, and their study continues to reveal new insights into the nature of spacetime and gravity.\n"
     ]
    }
   ],
   "source": [
    "from langchain_core.messages import AIMessage, HumanMessage, SystemMessage\n",
    "\n",
    "messages = [\n",
    "    SystemMessage(content=\"You are a helpful AI assistant with expertise in science.\"),\n",
    "    HumanMessage(content=\"What are black holes?\"),\n",
    "    AIMessage(\n",
    "        content=\"Black holes are regions of spacetime where gravity is so strong that nothing, including light, can escape from them.\"\n",
    "    ),\n",
    "    HumanMessage(content=\"How are they formed?\"),\n",
    "]\n",
    "\n",
    "response = chat.invoke(messages)\n",
    "print(response.content)"
   ]
  },
  {
   "cell_type": "markdown",
   "id": "a53a6bab",
   "metadata": {},
   "source": [
    "### Available Models\n",
    "\n",
    "The full list of supported models can be found in the [GreenNode Serverless AI Documentation](https://greennode.ai/product/model-as-a-service)."
   ]
  },
  {
   "cell_type": "markdown",
   "id": "f7a35f40",
   "metadata": {},
   "source": [
    "## API reference\n",
    "\n",
    "For more details about the GreenNode Serverless AI API, visit the [GreenNode Serverless AI Documentation](https://helpdesk.greennode.ai/portal/en/kb/articles/greennode-maas-api)."
   ]
  }
 ],
 "metadata": {
  "kernelspec": {
   "display_name": "tradingagents",
   "language": "python",
   "name": "python3"
  },
  "language_info": {
   "codemirror_mode": {
    "name": "ipython",
    "version": 3
   },
   "file_extension": ".py",
   "mimetype": "text/x-python",
   "name": "python",
   "nbconvert_exporter": "python",
   "pygments_lexer": "ipython3",
   "version": "3.13.5"
  }
 },
 "nbformat": 4,
 "nbformat_minor": 5
}
