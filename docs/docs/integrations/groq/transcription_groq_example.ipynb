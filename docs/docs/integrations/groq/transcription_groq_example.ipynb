{
 "cells": [
  {
   "cell_type": "markdown",
   "id": "3f8bc6e8",
   "metadata": {},
   "source": [
    "# 🗣️ Transcription with Groq Whisper Model\n",
    "\n",
    "This notebook demonstrates how to transcribe an audio file using `TranscriptionGroq`, a LangChain integration with Groq’s Whisper models."
   ]
  },
  {
   "cell_type": "code",
   "execution_count": null,
   "id": "9b47fcb4",
   "metadata": {},
   "outputs": [],
   "source": [
    "# 🔑 Set up your GROQ API key (must be in your environment)\n",
    "import os\n",
    "\n",
    "# Set your key here or make sure it's in your environment as GROQ_API_KEY\n",
    "# os.environ[\"GROQ_API_KEY\"] = \"your_groq_api_key_here\""
   ]
  },
  {
   "cell_type": "code",
   "execution_count": null,
   "id": "aa40ba93",
   "metadata": {},
   "outputs": [],
   "source": [
    "# 📥 Import the TranscriptionGroq class\n",
    "from langchain_groq import TranscriptionGroq"
   ]
  },
  {
   "cell_type": "code",
   "execution_count": null,
   "id": "ae79b85f",
   "metadata": {},
   "outputs": [],
   "source": [
    "# 🎙️ Transcribe an audio file\n",
    "transcriber = TranscriptionGroq(model=\"whisper-large-v3-turbo\")\n",
    "transcription = transcriber.transcribe(\"libs/partners/groq/tests/assets/hello.mp3\")\n",
    "print(transcription)"
   ]
  }
 ],
 "metadata": {},
 "nbformat": 4,
 "nbformat_minor": 5
}
