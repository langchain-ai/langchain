{
 "cells": [
  {
   "cell_type": "raw",
   "id": "7fb27b941602401d91542211134fc71a",
   "metadata": {},
   "source": [
    "---\n",
    "sidebar_label: Google Bigtable\n",
    "---"
   ]
  },
  {
   "cell_type": "markdown",
   "id": "acae54e37e7d407bbb7b55eff062a284",
   "metadata": {},
   "source": [
    "# BigtableVectorStore\n",
    "\n",
    "This guide covers how to use Google Cloud Bigtable as a vector store.\n",
    "\n",
    "[Bigtable](https://cloud.google.com/bigtable) is a key-value and wide-column store, ideal for fast access to structured, semi-structured, or unstructured data. \n",
    "\n",
    "[![Open In Colab](https://colab.research.google.com/assets/colab-badge.svg)](https://colab.research.google.com/github/googleapis/langchain-google-bigtable-python/blob/main/docs/vector_store.ipynb)"
   ]
  },
  {
   "cell_type": "markdown",
   "id": "9a63283cbaf04dbcab1f6479b197f3a8",
   "metadata": {},
   "source": [
    "## Overview\n",
    "\n",
    "The `BigtableVectorStore` uses Google Cloud Bigtable to store documents and their vector embeddings for similarity search and retrieval. It supports powerful metadata filtering to refine search results.\n",
    "\n",
    "### Integration details\n",
    "| Class | Package | Local | JS support | Package downloads | Package latest |\n",
    "| :--- | :--- | :---: | :---: | :---: | :---: |\n",
    "| [BigtableVectorStore](https://github.com/googleapis/langchain-google-bigtable-python/blob/main/src/langchain_google_bigtable/vector_store.py) | [langchain-google-bigtable](https://pypi.org/project/langchain-google-bigtable/) | ❌ | ❌ | ![PyPI - Downloads](https://img.shields.io/pypi/dm/langchain-google-bigtable?style=flat-square&label=%20) | ![PyPI - Version](https://img.shields.io/pypi/v/langchain-google-bigtable) |"
   ]
  },
  {
   "cell_type": "markdown",
   "id": "8dd0d8092fe74a7c96281538738b07e2",
   "metadata": {},
   "source": [
    "## Setup\n",
    "\n",
    "### Prerequisites\n",
    "\n",
    "To get started, you will need a Google Cloud project with an active Bigtable instance.\n",
    "* [Create a Google Cloud Project](https://developers.google.com/workspace/guides/create-project)\n",
    "* [Enable the Bigtable API](https://console.cloud.google.com/flows/enableapi?apiid=bigtable.googleapis.com)\n",
    "* [Create a Bigtable instance](https://cloud.google.com/bigtable/docs/creating-instance)\n",
    "\n",
    "### Installation\n",
    "\n",
    "The integration is in the `langchain-google-bigtable` package. The command below also installs `langchain-google-vertexai` to use for an embedding service."
   ]
  },
  {
   "cell_type": "code",
   "execution_count": null,
   "id": "72eea5119410473aa328ad9291626812",
   "metadata": {},
   "outputs": [],
   "source": [
    "%pip install -qU langchain-google-bigtable langchain-google-vertexai"
   ]
  },
  {
   "cell_type": "markdown",
   "id": "8edb47106e1a46a883d545849b8ab81b",
   "metadata": {},
   "source": [
    "### ☁ Set Your Google Cloud Project\n",
    "Set your Google Cloud project to use its resources within this notebook.\n",
    "\n",
    "If you don't know your project ID, you can run `gcloud config list` or see the support page: [Locate the project ID](https://support.google.com/googleapi/answer/7014113)."
   ]
  },
  {
   "cell_type": "code",
   "execution_count": null,
   "id": "10185d26023b46108eb7d9f57d49d2b3",
   "metadata": {},
   "outputs": [],
   "source": [
    "# @markdown Please fill in your project, instance, and a new table name.\n",
    "PROJECT_ID = \"your-gcp-project-id\"  # @param {type:\"string\"}\n",
    "INSTANCE_ID = \"your-instance-id\"  # @param {type:\"string\"}\n",
    "TABLE_ID = \"your-vector-store-table\"  # @param {type:\"string\"}\n",
    "\n",
    "!gcloud config set project {PROJECT_ID}"
   ]
  },
  {
   "cell_type": "markdown",
   "id": "8763a12b2bbd4a93a75aff182afb95dc",
   "metadata": {},
   "source": [
    "### 🔐 Authentication\n",
    "Authenticate to Google Cloud to access your project resources.\n",
    "- For **Colab**, use the cell below.\n",
    "- For **Vertex AI Workbench**, see the [setup instructions](https://github.com/GoogleCloudPlatform/generative-ai/tree/main/setup-env)."
   ]
  },
  {
   "cell_type": "code",
   "execution_count": null,
   "id": "7623eae2785240b9bd12b16a66d81610",
   "metadata": {},
   "outputs": [],
   "source": [
    "from google.colab import auth\n",
    "\n",
    "auth.authenticate_user()"
   ]
  },
  {
   "cell_type": "markdown",
   "id": "7cdc8c89c7104fffa095e18ddfef8986",
   "metadata": {},
   "source": [
    "## Instantiation\n",
    "\n",
    "To use `BigtableVectorStore`, we first need an embedding service, then we ensure a table exists, and finally we initialize the store."
   ]
  },
  {
   "cell_type": "markdown",
   "id": "b118ea5561624da68c537baed56e602f",
   "metadata": {},
   "source": [
    "### Embedding Service\n",
    "We'll use Vertex AI embeddings for this example."
   ]
  },
  {
   "cell_type": "code",
   "execution_count": null,
   "id": "938c804e27f84196a10c8828c723f798",
   "metadata": {},
   "outputs": [],
   "source": [
    "from langchain_google_vertexai import VertexAIEmbeddings\n",
    "\n",
    "embeddings = VertexAIEmbeddings(\n",
    "    project=PROJECT_ID, model_name=\"textembedding-gecko@003\"\n",
    ")"
   ]
  },
  {
   "cell_type": "markdown",
   "id": "504fb2a444614c0babb325280ed9130a",
   "metadata": {},
   "source": [
    "### Initialize Table\n",
    "The `init_vector_store_table` helper function creates a table with the necessary column families. If the table already exists, it does nothing."
   ]
  },
  {
   "cell_type": "code",
   "execution_count": null,
   "id": "59bbdb311c014d738909a11f9e486628",
   "metadata": {},
   "outputs": [],
   "source": [
    "from langchain_google_bigtable.vector_store import init_vector_store_table\n",
    "\n",
    "DATA_COLUMN_FAMILY = \"doc_data\"\n",
    "\n",
    "try:\n",
    "    init_vector_store_table(\n",
    "        project_id=PROJECT_ID,\n",
    "        instance_id=INSTANCE_ID,\n",
    "        table_id=TABLE_ID,\n",
    "        column_families=[DATA_COLUMN_FAMILY],\n",
    "    )\n",
    "except ValueError as e:\n",
    "    print(e)"
   ]
  },
  {
   "cell_type": "markdown",
   "id": "b43b363d81ae4b689946ece5c682cd59",
   "metadata": {},
   "source": [
    "### BigtableVectorStore\n",
    "Now we can create the vector store instance. We configure it with `metadata_mappings` for filtering and the optional `metadata_as_json_column` for efficient retrieval of all metadata."
   ]
  },
  {
   "cell_type": "code",
   "execution_count": null,
   "id": "8a65eabff63a45729fe45fb5ade58bdc",
   "metadata": {},
   "outputs": [],
   "source": [
    "from langchain_google_bigtable import (\n",
    "    BigtableVectorStore,\n",
    "    BigtableEngine,\n",
    "    ColumnConfig,\n",
    "    VectorMetadataMapping,\n",
    "    Encoding,\n",
    ")\n",
    "\n",
    "# A BigtableEngine is recommended for managing clients and async operations.\n",
    "engine = await BigtableEngine.async_initialize(project_id=PROJECT_ID)\n",
    "\n",
    "# Define mappings for metadata fields you want to filter on.\n",
    "metadata_mappings = [\n",
    "    VectorMetadataMapping(metadata_key=\"author\", encoding=Encoding.UTF8),\n",
    "    VectorMetadataMapping(metadata_key=\"year\", encoding=Encoding.INT_BIG_ENDIAN),\n",
    "    VectorMetadataMapping(metadata_key=\"category\", encoding=Encoding.UTF8),\n",
    "    VectorMetadataMapping(metadata_key=\"rating\", encoding=Encoding.FLOAT),\n",
    "]\n",
    "\n",
    "# Define the optional column for storing all metadata as a single JSON string.\n",
    "metadata_as_json_column = ColumnConfig(\n",
    "    column_family=DATA_COLUMN_FAMILY, column_qualifier=\"metadata_json\"\n",
    ")\n",
    "\n",
    "vector_store = await BigtableVectorStore.create(\n",
    "    engine=engine,\n",
    "    instance_id=INSTANCE_ID,\n",
    "    table_id=TABLE_ID,\n",
    "    embedding_service=embeddings,\n",
    "    collection=\"my_docs\",\n",
    "    content_column=DATA_COLUMN_FAMILY,\n",
    "    embedding_column=DATA_COLUMN_FAMILY,\n",
    "    metadata_mappings=metadata_mappings,\n",
    "    metadata_as_json_column=metadata_as_json_column,\n",
    ")"
   ]
  },
  {
   "cell_type": "markdown",
   "id": "c3933fab20d04ec698c2621248eb3be0",
   "metadata": {},
   "source": [
    "## Usage\n",
    "\n",
    "The store supports both sync and async methods. This guide uses the async versions."
   ]
  },
  {
   "cell_type": "markdown",
   "id": "4dd4641cc4064e0191573fe9c69df29b",
   "metadata": {},
   "source": [
    "### Add Documents\n",
    "You can add documents with pre-defined IDs. If a `Document` is added without an `id` attribute, the vector store will automatically generate a `uuid4` string for it."
   ]
  },
  {
   "cell_type": "code",
   "execution_count": null,
   "id": "8309879909854d7188b41380fd92a7c3",
   "metadata": {},
   "outputs": [],
   "source": [
    "from langchain_core.documents import Document\n",
    "\n",
    "docs = [\n",
    "    Document(\n",
    "        page_content=\"A young farm boy, Luke Skywalker, is thrust into a galactic conflict.\",\n",
    "        id=\"doc_1\",\n",
    "        metadata={\n",
    "            \"author\": \"George Lucas\",\n",
    "            \"year\": 1977,\n",
    "            \"category\": \"sci-fi\",\n",
    "            \"rating\": 4.8,\n",
    "        },\n",
    "    ),\n",
    "    Document(\n",
    "        page_content=\"A hobbit named Frodo Baggins must destroy a powerful ring.\",\n",
    "        id=\"doc_2\",\n",
    "        metadata={\n",
    "            \"author\": \"J.R.R. Tolkien\",\n",
    "            \"year\": 1954,\n",
    "            \"category\": \"fantasy\",\n",
    "            \"rating\": 4.9,\n",
    "        },\n",
    "    ),\n",
    "    # Document without a pre-defined ID\n",
    "    Document(\n",
    "        page_content=\"A group of children confront an evil entity emerging from the sewers.\",\n",
    "        metadata={\"author\": \"Stephen King\", \"year\": 1986, \"category\": \"horror\"},\n",
    "    ),\n",
    "]\n",
    "\n",
    "added_ids = await vector_store.aadd_documents(docs)\n",
    "print(f\"Added documents with IDs: {added_ids}\")"
   ]
  },
  {
   "cell_type": "markdown",
   "id": "3ed186c9a28b402fb0bc4494df01f08d",
   "metadata": {},
   "source": [
    "### Delete Documents"
   ]
  },
  {
   "cell_type": "code",
   "execution_count": null,
   "id": "cb1e1581032b452c9409d6c6813c49d1",
   "metadata": {},
   "outputs": [],
   "source": [
    "await vector_store.adelete(ids=[\"doc_1\"])"
   ]
  },
  {
   "cell_type": "markdown",
   "id": "379cbbc1e968416e875cc15c1202d7eb",
   "metadata": {},
   "source": [
    "### Similarity Search\n",
    "This is the most common operation: finding documents similar to a query."
   ]
  },
  {
   "cell_type": "code",
   "execution_count": null,
   "id": "277c27b1587741f2af2001be3712ef0d",
   "metadata": {},
   "outputs": [],
   "source": [
    "results = await vector_store.asimilarity_search(\"a powerful ring\", k=1)\n",
    "print(results[0].page_content)"
   ]
  },
  {
   "cell_type": "markdown",
   "id": "db7b79bc585a40fcaf58bf750017e135",
   "metadata": {},
   "source": [
    "#### Search with Score\n",
    "You can also retrieve the distance score along with the documents."
   ]
  },
  {
   "cell_type": "code",
   "execution_count": null,
   "id": "916684f9a58a4a2aa5f864670399430d",
   "metadata": {},
   "outputs": [],
   "source": [
    "results_with_scores = await vector_store.asimilarity_search_with_score(\n",
    "    \"an evil entity\", k=1\n",
    ")\n",
    "for doc, score in results_with_scores:\n",
    "    print(f\"[SCORE: {score:.4f}] {doc.page_content}\")"
   ]
  },
  {
   "cell_type": "markdown",
   "id": "1671c31a24314836a5b85d7ef7fbf015",
   "metadata": {},
   "source": [
    "#### Search with Filters\n",
    "Bigtable offers powerful pre-filtering to narrow the search space. All filter logic is passed through a `QueryParameters` object.\n",
    "\n",
    "| Filter Category | Key / Operator | Meaning |\n",
    "|---|---|---|\n",
    "| **Row Key** | `RowKeyFilter` | Narrows search to document IDs with a specific prefix. |\n",
    "| **Metadata Key** | `ColumnQualifiers` | Checks for the presence of one or more exact metadata keys. |\n",
    "| | `ColumnQualifierPrefix` | Checks if a metadata key starts with a given prefix. |\n",
    "| | `ColumnQualifierRegex` | Checks if a metadata key matches a regular expression. |\n",
    "| **Metadata Value** | `ColumnValueFilter` | Container for all value-based conditions. |\n",
    "| | `==`, `!=`, `>`, `<`, `>=`, `<=` | Standard comparison operators. |\n",
    "| | `in`, `nin` | List membership checks. |\n",
    "| | `contains`, `like` | String matching (substring and regex). |\n",
    "| **Logical**| `ColumnValueChainFilter` | Logical AND for combining value conditions. |\n",
    "| | `ColumnValueUnionFilter` | Logical OR for combining value conditions. |\n",
    "\n",
    "This example combines multiple filters: it searches for documents where the ID starts with `doc_`, the metadata must contain a `rating` key, AND the document is either (a `fantasy` book) OR (written by `George Lucas`)."
   ]
  },
  {
   "cell_type": "code",
   "execution_count": null,
   "id": "33b0902fd34d4ace834912fa1002cf8e",
   "metadata": {},
   "outputs": [],
   "source": [
    "from langchain_google_bigtable.vector_store import QueryParameters\n",
    "\n",
    "complex_filter = {\n",
    "    \"RowKeyFilter\": \"doc_\",\n",
    "    \"ColumnQualifiers\": [\"rating\"],\n",
    "    \"ColumnValueFilter\": {\n",
    "        \"ColumnValueUnionFilter\": {  # OR\n",
    "            \"category\": {\"==\": \"fantasy\"},\n",
    "            \"author\": {\"==\": \"George Lucas\"},\n",
    "        }\n",
    "    },\n",
    "}\n",
    "\n",
    "query_params_complex = QueryParameters(filters=complex_filter)\n",
    "\n",
    "complex_results = await vector_store.asimilarity_search(\n",
    "    \"a story about a hero's journey\", k=5, query_parameters=query_params_complex\n",
    ")\n",
    "\n",
    "for doc in complex_results:\n",
    "    print(f\"- ID: {doc.id}, Metadata: {doc.metadata}\")"
   ]
  },
  {
   "cell_type": "markdown",
   "id": "f6fa52606d8c4a75a9b52967216f8f3f",
   "metadata": {},
   "source": [
    "### As a Retriever\n",
    "The vector store can be easily used as a retriever in RAG applications."
   ]
  },
  {
   "cell_type": "code",
   "execution_count": null,
   "id": "f5a1fa73e5044315a093ec459c9be902",
   "metadata": {},
   "outputs": [],
   "source": [
    "retriever = vector_store.as_retriever(search_kwargs={\"k\": 1})\n",
    "retrieved_docs = await retriever.ainvoke(\"a farm boy\")\n",
    "print(retrieved_docs[0].page_content)"
   ]
  },
  {
   "cell_type": "markdown",
   "id": "cdf66aed5cc84ca1b48e60bad68798a8",
   "metadata": {},
   "source": [
    "## API reference\n",
    "\n",
    "For full details on the `BigtableVectorStore` class, see the API reference documentation."
   ]
  }
 ],
 "metadata": {
  "kernelspec": {
   "display_name": "Python 3 (ipykernel)",
   "language": "python",
   "name": "python3"
  },
  "language_info": {
   "codemirror_mode": {
    "name": "ipython",
    "version": 3
   },
   "file_extension": ".py",
   "mimetype": "text/x-python",
   "name": "python",
   "nbconvert_exporter": "python",
   "pygments_lexer": "ipython3",
   "version": "3.11.9"
  }
 },
 "nbformat": 4,
 "nbformat_minor": 5
}
