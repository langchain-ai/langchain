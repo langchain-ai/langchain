{
 "cells": [
  {
   "cell_type": "raw",
   "id": "1957f5cb",
   "metadata": {},
   "source": [
    "---\n",
    "sidebar_label: Lindorm\n",
    "---"
   ]
  },
  {
   "cell_type": "markdown",
   "id": "ef1f0986",
   "metadata": {},
   "source": [
    "# LindormVectorStore\n",
    "\n",
    "This notebook covers how to get started with the Lindorm vector store."
   ]
  },
  {
   "cell_type": "markdown",
   "id": "36fdc060",
   "metadata": {},
   "source": [
    "## Setup\n",
    "\n",
    "To access Lindorm vector stores you'll need to create a Lindorm account, get the ak/sk, and install the `langchain-lindorm-integration` integration package."
   ]
  },
  {
   "metadata": {},
   "cell_type": "code",
   "outputs": [],
   "execution_count": null,
   "source": "%pip install -qU \"langchain-lindorm-integration\"",
   "id": "beaec7d673c569f2"
  },
  {
   "cell_type": "markdown",
   "id": "9695dee7",
   "metadata": {},
   "source": [
    "### Credentials\n",
    "\n",
    "Head to [here](https://help.aliyun.com/document_detail/2773369.html?spm=a2c4g.11186623.help-menu-172543.d_2_5_0.2a383f96gr5N3M&scm=20140722.H_2773369._.OR_help-T_cn~zh-V_1) to sign up to Lindorm and generate the ak/sk."
   ]
  },
  {
   "cell_type": "code",
   "execution_count": 1,
   "id": "894c30e4",
   "metadata": {
    "ExecuteTime": {
     "end_time": "2025-01-08T03:05:01.792898Z",
     "start_time": "2025-01-08T03:05:01.786082Z"
    }
   },
   "outputs": [],
   "source": [
    "import os\n",
    "\n",
    "\n",
    "class Config:\n",
    "    SEARCH_ENDPOINT = os.environ.get(\"SEARCH_ENDPOINT\", \"SEARCH_ENDPOINT\")\n",
    "    SEARCH_USERNAME = os.environ.get(\"SEARCH_USERNAME\", \"root\")\n",
    "    SEARCH_PWD = os.environ.get(\"SEARCH_PASSWORD\", \"<PASSWORD>\")\n",
    "    AI_LLM_ENDPOINT = os.environ.get(\"AI_ENDPOINT\", \"<AI_ENDPOINT>\")\n",
    "    AI_USERNAME = os.environ.get(\"AI_USERNAME\", \"root\")\n",
    "    AI_PWD = os.environ.get(\"AI_PASSWORD\", \"<PASSWORD>\")\n",
    "    AI_DEFAULT_EMBEDDING_MODEL = \"bge_m3_model\"  # set to your model"
   ]
  },
  {
   "cell_type": "markdown",
   "id": "93df377e",
   "metadata": {},
   "source": [
    "## Initialization\n",
    "\n",
    "here we use the embedding model deployed on Lindorm AI Service."
   ]
  },
  {
   "cell_type": "code",
   "execution_count": 2,
   "id": "dc37144c-208d-4ab3-9f3a-0407a69fe052",
   "metadata": {
    "ExecuteTime": {
     "end_time": "2025-01-08T03:05:06.907334Z",
     "start_time": "2025-01-08T03:05:02.922523Z"
    },
    "tags": []
   },
   "outputs": [],
   "source": [
    "from langchain_lindorm_integration.embeddings import LindormAIEmbeddings\n",
    "from langchain_lindorm_integration.vectorstores import LindormVectorStore\n",
    "\n",
    "embeddings = LindormAIEmbeddings(\n",
    "    endpoint=Config.AI_LLM_ENDPOINT,\n",
    "    username=Config.AI_USERNAME,\n",
    "    password=Config.AI_PWD,\n",
    "    model_name=Config.AI_DEFAULT_EMBEDDING_MODEL,\n",
    ")\n",
    "\n",
    "index = \"test_index\"\n",
    "vector = embeddings.embed_query(\"hello word\")\n",
    "dimension = len(vector)\n",
    "vector_store = LindormVectorStore(\n",
    "    lindorm_search_url=Config.SEARCH_ENDPOINT,\n",
    "    embedding=embeddings,\n",
    "    http_auth=(Config.SEARCH_USERNAME, Config.SEARCH_PWD),\n",
    "    dimension=dimension,\n",
    "    embeddings=embeddings,\n",
    "    index_name=index,\n",
    ")"
   ]
  },
  {
   "cell_type": "markdown",
   "id": "ac6071d4",
   "metadata": {},
   "source": [
    "## Manage vector store\n",
    "\n",
    "### Add items to vector store\n"
   ]
  },
  {
   "cell_type": "code",
   "execution_count": 3,
   "id": "17f5efc0",
   "metadata": {
    "ExecuteTime": {
     "end_time": "2025-01-08T03:05:18.586696Z",
     "start_time": "2025-01-08T03:05:10.531559Z"
    }
   },
   "outputs": [
    {
     "data": {
      "text/plain": [
       "['1', '2', '3']"
      ]
     },
     "execution_count": 3,
     "metadata": {},
     "output_type": "execute_result"
    }
   ],
   "source": [
    "from langchain_core.documents import Document\n",
    "\n",
    "document_1 = Document(page_content=\"foo\", metadata={\"source\": \"https://example.com\"})\n",
    "\n",
    "document_2 = Document(page_content=\"bar\", metadata={\"source\": \"https://example.com\"})\n",
    "\n",
    "document_3 = Document(page_content=\"baz\", metadata={\"source\": \"https://example.com\"})\n",
    "\n",
    "documents = [document_1, document_2, document_3]\n",
    "\n",
    "vector_store.add_documents(documents=documents, ids=[\"1\", \"2\", \"3\"])"
   ]
  },
  {
   "cell_type": "markdown",
   "id": "dcf1b905",
   "metadata": {},
   "source": "### Delete items from vector store\n"
  },
  {
   "cell_type": "code",
   "execution_count": 5,
   "id": "ef61e188",
   "metadata": {
    "ExecuteTime": {
     "end_time": "2025-01-08T03:06:14.829559Z",
     "start_time": "2025-01-08T03:06:14.323751Z"
    }
   },
   "outputs": [
    {
     "data": {
      "text/plain": [
       "{'took': 400,\n",
       " 'timed_out': False,\n",
       " 'total': 1,\n",
       " 'deleted': 1,\n",
       " 'batches': 1,\n",
       " 'version_conflicts': 0,\n",
       " 'noops': 0,\n",
       " 'retries': {'bulk': 0, 'search': 0},\n",
       " 'throttled_millis': 0,\n",
       " 'requests_per_second': -1.0,\n",
       " 'throttled_until_millis': 0,\n",
       " 'failures': []}"
      ]
     },
     "execution_count": 5,
     "metadata": {},
     "output_type": "execute_result"
    }
   ],
   "source": [
    "vector_store.delete(ids=[\"3\"])"
   ]
  },
  {
   "cell_type": "markdown",
   "id": "c3620501",
   "metadata": {},
   "source": [
    "## Query vector store\n",
    "\n",
    "Once your vector store has been created and the relevant documents have been added you will most likely wish to query it during the running of your chain or agent. \n",
    "\n",
    "### Query directly\n",
    "\n",
    "Performing a simple similarity search can be done as follows:"
   ]
  },
  {
   "cell_type": "code",
   "execution_count": 8,
   "id": "aa0a16fa",
   "metadata": {
    "ExecuteTime": {
     "end_time": "2025-01-08T03:07:47.248796Z",
     "start_time": "2025-01-08T03:07:46.939607Z"
    }
   },
   "outputs": [
    {
     "name": "stdout",
     "output_type": "stream",
     "text": [
      "* foo [{'source': 'https://example.com'}]\n"
     ]
    }
   ],
   "source": [
    "results = vector_store.similarity_search(query=\"thud\", k=1)\n",
    "for doc in results:\n",
    "    print(f\"* {doc.page_content} [{doc.metadata}]\")"
   ]
  },
  {
   "cell_type": "markdown",
   "id": "3ed9d733",
   "metadata": {},
   "source": "If you want to execute a similarity search and receive the corresponding scores you can run:\n"
  },
  {
   "cell_type": "code",
   "execution_count": 9,
   "id": "5efd2eaa",
   "metadata": {
    "ExecuteTime": {
     "end_time": "2025-01-08T03:08:02.758719Z",
     "start_time": "2025-01-08T03:08:02.501683Z"
    }
   },
   "outputs": [
    {
     "name": "stdout",
     "output_type": "stream",
     "text": [
      "* [SIM=0.671268] foo [{'source': 'https://example.com'}]\n"
     ]
    }
   ],
   "source": [
    "results = vector_store.similarity_search_with_score(query=\"thud\", k=1)\n",
    "for doc, score in results:\n",
    "    print(f\"* [SIM={score:3f}] {doc.page_content} [{doc.metadata}]\")"
   ]
  },
  {
   "cell_type": "markdown",
   "id": "901c75dc",
   "metadata": {},
   "source": [
    "## Usage for retrieval-augmented generation\n",
    "\n",
    "For guides on how to use this vector store for retrieval-augmented generation (RAG), see the following sections:\n",
    "\n",
    "- [Tutorials](/docs/tutorials/)\n",
    "- [How-to: Question and answer with RAG](https://python.langchain.com/docs/how_to/#qa-with-rag)\n",
    "- [Retrieval conceptual docs](https://python.langchain.com/docs/concepts/#retrieval)"
   ]
  },
  {
   "cell_type": "markdown",
   "id": "8a27244f",
   "metadata": {},
   "source": [
    "## API reference\n",
    "\n",
    "For detailed documentation of all LindormVectorStore features and configurations head to [the API reference](https://pypi.org/project/langchain-lindorm-integration/)."
   ]
  }
 ],
 "metadata": {
  "kernelspec": {
   "display_name": "Python 3 (ipykernel)",
   "language": "python",
   "name": "python3"
  },
  "language_info": {
   "codemirror_mode": {
    "name": "ipython",
    "version": 3
   },
   "file_extension": ".py",
   "mimetype": "text/x-python",
   "name": "python",
   "nbconvert_exporter": "python",
   "pygments_lexer": "ipython3",
   "version": "3.10.12"
  }
 },
 "nbformat": 4,
 "nbformat_minor": 5
}
