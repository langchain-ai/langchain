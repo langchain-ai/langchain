{
 "cells": [
  {
   "cell_type": "markdown",
   "id": "550edc01b00149cd",
   "metadata": {
    "collapsed": false
   },
   "source": [
    "# Zep Cloud\n",
    "> Recall, understand, and extract data from chat histories. Power personalized AI experiences.\n",
    "\n",
    "> [Zep](https://www.getzep.com) is a long-term memory service for AI Assistant apps.\n",
    "> With Zep, you can provide AI assistants with the ability to recall past conversations, no matter how distant,\n",
    "> while also reducing hallucinations, latency, and cost.\n",
    "\n",
    "> See [Zep Cloud Installation Guide](https://help.getzep.com/sdks)\n",
    "\n",
    "## Usage\n",
    "\n",
    "In the examples below, we're using Zep's auto-embedding feature which automatically embeds documents on the Zep server \n",
    "using low-latency embedding models.\n",
    "\n",
    "## Note\n",
    "- These examples use Zep's async interfaces. Call sync interfaces by removing the `a` prefix from the method names."
   ]
  },
  {
   "cell_type": "markdown",
   "id": "9a3a11aab1412d98",
   "metadata": {
    "collapsed": false
   },
   "source": [
    "## Load or create a Collection from documents"
   ]
  },
  {
   "cell_type": "code",
   "execution_count": 1,
   "id": "519418421a32e4d",
   "metadata": {
    "ExecuteTime": {
     "end_time": "2024-05-10T03:10:19.459062Z",
     "start_time": "2024-05-10T03:10:18.090479Z"
    },
    "collapsed": false
   },
   "outputs": [],
   "source": [
    "from uuid import uuid4\n",
    "\n",
    "from langchain_community.document_loaders import WebBaseLoader\n",
    "from langchain_community.vectorstores import ZepCloudVectorStore\n",
    "from langchain_text_splitters import RecursiveCharacterTextSplitter\n",
    "\n",
    "ZEP_API_KEY = \"<your zep project key>\"  # You can generate your zep project key from the Zep dashboard\n",
    "collection_name = f\"babbage{uuid4().hex}\"  # a unique collection name. alphanum only\n",
    "\n",
    "# load the document\n",
    "article_url = \"https://www.gutenberg.org/cache/epub/71292/pg71292.txt\"\n",
    "loader = WebBaseLoader(article_url)\n",
    "documents = loader.load()\n",
    "\n",
    "# split it into chunks\n",
    "text_splitter = RecursiveCharacterTextSplitter(chunk_size=500, chunk_overlap=0)\n",
    "docs = text_splitter.split_documents(documents)\n",
    "\n",
    "# Instantiate the VectorStore. Since the collection does not already exist in Zep,\n",
    "# it will be created and populated with the documents we pass in.\n",
    "vs = ZepCloudVectorStore.from_documents(\n",
    "    docs,\n",
    "    embedding=None,\n",
    "    collection_name=collection_name,\n",
    "    api_key=ZEP_API_KEY,\n",
    ")"
   ]
  },
  {
   "cell_type": "code",
   "execution_count": 2,
   "id": "201dc57b124cb6d7",
   "metadata": {
    "ExecuteTime": {
     "end_time": "2024-05-10T03:10:24.393735Z",
     "start_time": "2024-05-10T03:10:23.131246Z"
    },
    "collapsed": false
   },
   "outputs": [
    {
     "name": "stdout",
     "output_type": "stream",
     "text": [
      "Embedding status: 401/401 documents embedded\n"
     ]
    }
   ],
   "source": [
    "# wait for the collection embedding to complete\n",
    "\n",
    "\n",
    "async def wait_for_ready(collection_name: str) -> None:\n",
    "    import time\n",
    "\n",
    "    from zep_cloud.client import AsyncZep\n",
    "\n",
    "    client = AsyncZep(api_key=ZEP_API_KEY)\n",
    "\n",
    "    while True:\n",
    "        c = await client.document.get_collection(collection_name)\n",
    "        print(\n",
    "            \"Embedding status: \"\n",
    "            f\"{c.document_embedded_count}/{c.document_count} documents embedded\"\n",
    "        )\n",
    "        time.sleep(1)\n",
    "        if c.document_embedded_count == c.document_count:\n",
    "            break\n",
    "\n",
    "\n",
    "await wait_for_ready(collection_name)"
   ]
  },
  {
   "cell_type": "markdown",
   "id": "94ca9dfa7d0ecaa5",
   "metadata": {
    "collapsed": false
   },
   "source": [
    "## Simarility Search Query over the Collection"
   ]
  },
  {
   "cell_type": "code",
   "execution_count": 4,
   "id": "1998de0a96fe89c3",
   "metadata": {
    "ExecuteTime": {
     "end_time": "2024-05-10T02:56:13.039583Z",
     "start_time": "2024-05-10T02:56:12.825349Z"
    },
    "collapsed": false
   },
   "outputs": [
    {
     "name": "stdout",
     "output_type": "stream",
     "text": [
      "the positions of the two principal planets, (and these the most\r\n",
      "necessary for the navigator,) Jupiter and Saturn, require each not less\r\n",
      "than one hundred and sixteen tables. Yet it is not only necessary to\r\n",
      "predict the position of these bodies, but it is likewise expedient to\r\n",
      "tabulate the motions of the four satellites of Jupiter, to predict the\r\n",
      "exact times at which they enter his shadow, and at which their shadows\r\n",
      "cross his disc, as well as the times at which they are interposed  ->  0.78691166639328 \n",
      "====\n",
      "\n",
      "are reduced to a system of wheel-work. We are, nevertheless, not without\r\n",
      "hopes of conveying, even to readers unskilled in mathematics, some\r\n",
      "satisfactory notions of a general nature on this subject.\r\n",
      "\r\n",
      "_Thirdly_, To explain the actual state of the machinery at the present\r\n",
      "time; what progress has been made towards its completion; and what are\r\n",
      "the probable causes of those delays in its progress, which must be a\r\n",
      "subject of regret to all friends of science. We shall indicate what  ->  0.7853284478187561 \n",
      "====\n",
      "\n",
      "from the improved state of astronomy, he found it necessary to recompute\r\n",
      "these tables in 1821.\r\n",
      "\r\n",
      "Although it is now about thirty years since the discovery of the four\r\n",
      "new planets, Ceres, Pallas, Juno, and Vesta, it was not till recently\r\n",
      "that tables of their motions were published. They have lately appeared\r\n",
      "in Encke's Ephemeris.\r\n",
      "\r\n",
      "We have thus attempted to convey some notion (though necessarily a very\r\n",
      "inadequate one) of the immense extent of numerical tables which it has  ->  0.7840130925178528 \n",
      "====\n",
      "\n"
     ]
    }
   ],
   "source": [
    "# query it\n",
    "query = \"what is the structure of our solar system?\"\n",
    "docs_scores = await vs.asimilarity_search_with_relevance_scores(query, k=3)\n",
    "\n",
    "# print results\n",
    "for d, s in docs_scores:\n",
    "    print(d.page_content, \" -> \", s, \"\\n====\\n\")"
   ]
  },
  {
   "cell_type": "markdown",
   "id": "e02b61a9af0b2c80",
   "metadata": {
    "collapsed": false
   },
   "source": [
    "## Search over Collection Re-ranked by MMR\n",
    "\n",
    "Zep offers native, hardware-accelerated MMR re-ranking of search results."
   ]
  },
  {
   "cell_type": "code",
   "execution_count": 5,
   "id": "488112da752b1d58",
   "metadata": {
    "ExecuteTime": {
     "end_time": "2024-05-10T02:56:16.596274Z",
     "start_time": "2024-05-10T02:56:16.284597Z"
    },
    "collapsed": false
   },
   "outputs": [
    {
     "name": "stdout",
     "output_type": "stream",
     "text": [
      "the positions of the two principal planets, (and these the most\r\n",
      "necessary for the navigator,) Jupiter and Saturn, require each not less\r\n",
      "than one hundred and sixteen tables. Yet it is not only necessary to\r\n",
      "predict the position of these bodies, but it is likewise expedient to\r\n",
      "tabulate the motions of the four satellites of Jupiter, to predict the\r\n",
      "exact times at which they enter his shadow, and at which their shadows\r\n",
      "cross his disc, as well as the times at which they are interposed \n",
      "====\n",
      "\n",
      "are reduced to a system of wheel-work. We are, nevertheless, not without\r\n",
      "hopes of conveying, even to readers unskilled in mathematics, some\r\n",
      "satisfactory notions of a general nature on this subject.\r\n",
      "\r\n",
      "_Thirdly_, To explain the actual state of the machinery at the present\r\n",
      "time; what progress has been made towards its completion; and what are\r\n",
      "the probable causes of those delays in its progress, which must be a\r\n",
      "subject of regret to all friends of science. We shall indicate what \n",
      "====\n",
      "\n",
      "general commerce. But the science in which, above all others, the most\r\n",
      "extensive and accurate tables are indispensable, is Astronomy; with the\r\n",
      "improvement and perfection of which is inseparably connected that of the\r\n",
      "kindred art of Navigation. We scarcely dare hope to convey to the\r\n",
      "general reader any thing approaching to an adequate notion of the\r\n",
      "multiplicity and complexity of the tables necessary for the purposes of\r\n",
      "the astronomer and navigator. We feel, nevertheless, that the truly \n",
      "====\n",
      "\n"
     ]
    }
   ],
   "source": [
    "query = \"what is the structure of our solar system?\"\n",
    "docs = await vs.asearch(query, search_type=\"mmr\", k=3)\n",
    "\n",
    "for d in docs:\n",
    "    print(d.page_content, \"\\n====\\n\")"
   ]
  },
  {
   "cell_type": "markdown",
   "id": "42455e31d4ab0d68",
   "metadata": {
    "collapsed": false
   },
   "source": [
    "# Filter by Metadata\n",
    "\n",
    "Use a metadata filter to narrow down results. First, load another book: \"Adventures of Sherlock Holmes\""
   ]
  },
  {
   "cell_type": "code",
   "execution_count": 3,
   "id": "146c8a96201c0ab9",
   "metadata": {
    "ExecuteTime": {
     "end_time": "2024-05-10T03:10:38.028478Z",
     "start_time": "2024-05-10T03:10:28.620287Z"
    },
    "collapsed": false
   },
   "outputs": [
    {
     "name": "stdout",
     "output_type": "stream",
     "text": [
      "Adding documents\n",
      "generated documents 1290\n",
      "added documents ['ddec2883-5776-47be-a7bc-23e851e969a9', '19d2a5ce-0a36-4d32-b522-2a54a69970e8', '5e6d8ed2-4527-4515-9557-f178b2682df8', 'ad2b04d9-e1f1-4d90-9920-ab6d95c63dd7', '19871eb4-b624-49d1-a160-a24487298ac6', '19e9e04b-6b3f-4a91-9717-1565a5065642', '0e9a6411-a6a6-4453-a655-2a251519a1fa', '51de5926-dbb1-4d58-b6d4-47c8e5988042', '244dc860-2bf0-41a1-aa3c-e170c0209c5a', '175e8811-70cd-499c-a35f-2502749bff2e', '5298951a-1087-45f4-afff-3466032301fc', 'd87f4495-95c9-4152-bf1b-90f73652e639', '638f6b85-1e05-462f-8c75-4c642a309d88', '92f7f430-9ffc-4ca5-ac92-953793a4a7b0', '5ce532f2-86b0-4953-8815-96b7fb0da046', '8187857a-02b6-4faa-80b3-ca6d64b0ae59', '599d479c-7c2e-4ad9-b5e4-651fced1f38c', 'e0869e51-92a5-4c87-ba35-a977c3fe43d2', 'bed376d9-3785-4fa3-a986-4d069e817a0e', '31e8e7b1-164b-4872-8a21-0a417d9c2793', '87f96ecb-c78a-4aaf-a976-557a76adecf1', '8f0e7eb2-fb67-4010-bec4-70f1ea319d22', '5d280424-00cc-475c-8334-3ac1dbda84c9', 'a27876c9-68c2-460c-bce1-43cbc734885a', '492fe1fc-0dc8-45ee-a343-3fc514014298', '964a4887-0a21-442b-8677-9568c8ea5b4a', '87b82a96-c981-454e-87f6-171cbaa90e20', '14014728-1617-4ff5-8f56-b2cbcdf08bcf', 'af95852d-e7ce-4db7-9b47-3cfbffcfd81b', '1f6526bf-f5a9-4a1a-9a9f-42e6d175d9d5', '0a214058-d318-4f75-a413-140a4bdbc55f', '0eee06d6-d7e0-4097-8231-af823635f786', '7e74bdc5-f42f-474e-8c3d-0a346227f1e6', 'c8959f06-5282-47e8-92fe-16a90bb20132', 'd895bdcb-b7d1-40fe-a9a8-92647630688a', 'ebb30286-4eba-4733-94c7-f2e92cfcd0a3', '02c87eb9-031d-44bc-ad9a-c3b07b6d879c', '5338e6e3-ebfd-42b9-ba71-4eb728a9aba0', 'b372dba5-f1e7-4cff-9ba2-17132b51423d', 'bad22837-aba8-4431-a742-e1642abdc1d3', 'e73f3146-9ac1-4517-8905-45ba31de1551', '6903a3cb-acb1-42cd-9653-b208487368e9', '92600304-7eb9-4a6f-9a27-ba14a28fc636', '44e720af-efcf-477a-a655-08967ff3159a', '61565e97-7aa5-4c8c-a330-86ba265824d6', 'de10ad67-1992-4c85-8112-c1a2cd93edc0', '103d4a40-789a-4797-ad86-e50b2efe93e8', 'a5940a28-a9db-435c-b3c2-3485fafba55a', '637475cc-9a54-4ced-ab03-4a5dddb1e152', 'b209df0d-6513-4a74-b0ea-7bb2b2e01c4b', 'e6ee7511-eec8-4b20-94b1-e338093c9760', 'ef4ceb0d-a990-4cc2-91ed-320e1552c98d', '8058b68a-7ce5-4fb9-9f89-ed1c9e04b60e', 'ddebdfe0-87c1-4c4f-9d1f-fdc32b6bd5e2', '5211afd6-3076-40ec-b964-8c4a165b6e3d', 'ac5e9a17-ff57-4885-b3b7-4229d09a2077', 'fcea3094-7d86-4c05-9780-5c894197b65a', '81b0bdd9-5be6-4b95-89db-fe737446512a', '68f42964-0c21-4409-8356-067bbc5eddb0', '28b3dbc4-3b5f-4a7e-9906-b34a30832384', '83a15ca3-b54b-449a-813b-76db3e1f11ea', '1fd0d950-e1e3-4c5a-b62c-487ed11e06ac', '70253ef9-e4c3-4f9e-aa51-18b2b067d2d5', 'f5538e25-1e4e-438f-b1ef-ebc359085df8', '643e6f1e-b5dd-4630-9e30-f323abff5261', 'ef370f62-6a99-4116-9843-ad3f36ca0779', '915d4b2b-5467-4398-ab65-369250ca1245', '830c873a-eb80-40f9-9f6b-92f3b7be4f19', 'a965a589-8717-43d0-9419-7e8fefda070d', 'd686b00b-f91c-4d80-ae4d-5e2b6c227c86', '264951a6-5788-4a22-b925-758bcf0c499e', '32227ea1-1aa6-470c-9148-911c3fdda203', '97474d19-ef5d-4f14-8ffd-09d68bf5960a', '71fc221f-0048-4fbd-a68e-7c40885e091c', 'ef7a0a8c-16fd-4a2a-8d70-0fbf086b312e', 'fae9bea0-9815-4495-87a6-72700c728e71', '3cafc749-c648-477f-9b3d-33eacddc42aa', '31756e9d-993d-4653-b521-ef5cd653ab3a', '6c9b28ad-adde-4055-87f4-e34c387ab607', 'dfddcef4-9229-4c2c-9deb-6533f6c87bfe', '0511f770-041c-405d-a9f0-5e9a2c62563e', 'e9e8f9b2-1879-4528-bc72-1318bd026f53', 'dbcc7682-cf0e-49db-998c-d581df5cc0b9', '95c3a979-92fd-4268-9b1f-36f526fb1115', 'fb602a32-87c2-4fa1-9e15-8d69fd780baf', '163489b5-20a9-4eba-a9cc-660c7d5c0d21', 'beef4aaa-7eed-4dec-a953-de40a20efc9e', 'c61782a0-184b-43c7-a232-772087bdafa1', 'acf045d9-c43d-4e16-87d1-93b142bd3c3a', 'bb014519-b473-4329-8045-7dbe33200c34', 'ecb12661-86b1-47f7-a4e8-6854beedbe46', 'c2450f1b-593f-4b8f-ba80-ec56bcf802ae', 'bc47a6b4-8a4b-4e0a-9fd2-a9999d0c6c74', '3f2581c2-1c91-4e57-830b-a08cd7b09f9f', '4441431d-d3be-49f5-bf07-d415baced24d', 'bcd90088-0313-4647-a83d-673e470565a0', '3949bacf-8bb5-451d-81f4-f902f2fe8aca', '7925ac14-5ce2-4717-afcb-86da4ec6f933', 'ddbb242d-c914-4608-97c0-d3c5ae817a15', '7c351dfc-8f19-4a49-9a65-b79b5ed8aa07', '65db2c1b-36e1-4b38-8d28-554c37f1c897', '5674788e-a430-4706-9801-cae72ce45763', 'd59612f3-2a65-489a-87fd-27123d8258c0', 'd62368e3-7e43-454d-b5fb-b4e2f37badab', '55a71614-29b6-44ba-ba64-b6444bbb432a', 'f03f605b-3770-48d8-8e96-6b3fb7915ea5', 'a51f8dd4-883a-4bbd-92b2-34581756f341', '6993ea75-5ebe-4aff-be14-3efb9107f616', '99501367-dc36-4589-97a0-0cc9e066c042', '7a5e56c8-48d6-42ee-8a8e-431b31669d98', 'b5394c35-0112-4fc5-9336-3c614d2326d4', '8be29e49-a2c3-4a0a-bc3e-99b74000f834', 'b714564c-8f18-4d0d-b530-cdc593dc4914', '0c93f74d-b20e-41b6-a9dc-709717bfe168', '51ce05f9-40c4-4d12-96ac-9245402a49c8', 'c18e4c15-edbe-4a78-98d2-2979d69b1ebf', 'c3dc5265-f1c2-4057-8408-a3a2ee71f77f', '9dc4d84e-6f47-4516-8173-3dded3aad48a', '36b19b4c-c846-456b-b7ce-76aee21c3783', '74a69f64-0b90-439a-82e8-245063711c13', '11ef7bc0-ac49-4368-ba83-6126d3eae999', '60afad3c-4c1f-4968-800d-6493338be615', '3d44d417-d82c-44e3-aae7-431f920974d9', '2448df31-e100-494f-abea-5815adf0fa5a', 'f654ee44-45b2-48c3-b1d7-5b80420d680f', '454bd226-0d6b-40a2-b0a0-a2de2a6aa8d4', 'd728840f-8f90-4c83-9329-268921bc92b4', '404234bb-5592-425e-b3c5-d391bcdc5f15', '9cab7401-f7b6-4379-81d0-100aa1cd4ab2', 'adde751f-d319-4534-9100-c8a1c4f04729', '54b173cb-80f0-46c8-bdcc-4d56fd38a6fe', 'bc3555da-1e7b-4248-bf4d-2229520b75f5', 'cf8fa6c5-63cf-43e2-a577-c6eb083c1f81', 'bf1f2c37-9c67-4478-83be-952611c14771', 'ea2d5b80-7dfd-4655-b1a8-0f6f235ac818', '6837c567-092c-4568-bb33-6f8b0a1acfd0', 'cb834e5e-222b-45ed-b2e7-339803e8825c', '37e9723d-263f-47d7-8ce3-27fabba84c7e', 'b63e0f9d-c463-4d03-84e4-66abf9e2f2ed', '2b57cad2-795d-47c6-be27-9566fa63794d', '81807f59-2354-48f8-b78c-296b20cf5586', '15459589-637e-44a5-b2a4-cbb94f2b4176', '29dd752c-2802-4806-8f97-2518fae5bcc5', '424c81bc-f21a-4646-a3fa-12f5694d828e', '398253e5-c4b3-4784-a60a-010e8b289d59', 'e43dd183-64b5-4821-b0f0-e5f759d3e974', '09bdc512-544b-42ef-80a9-2122d217bf8e', '27117536-c539-4eb5-8c67-f090a230f0c3', 'd68e3696-4a01-43ea-b763-d592eed48152', '8c771c9d-6596-479d-9572-0bf5141496f1', 'df39063a-62ad-4331-96fc-c1f064042bf8', 'a4357878-5a22-4b48-bbf0-ba9b19d6003e', '054a4f9c-6237-4624-ba55-a6d4dde70f33', '5ffdfff1-8379-4187-9ab3-8e33367855c2', '57f51416-cec0-437c-8e75-8c53b16a1e1d', 'ad030ad5-0b65-4160-8f7f-4d4aa04df8bb', '2350031c-86db-4926-baef-4337fdf0f501', '194a3bdd-5f37-4056-877f-e3a9f14e717b', 'c5ce3142-2dbc-4284-9a1b-6a82f17496b0', 'e86823b9-bdb3-4d1a-b929-8ec5ea69fb3a', '5c2913ed-c4e2-4fe0-81ff-406bb9b452ad', 'b2c7b0b9-5288-4000-89d7-43c1c21179bf', 'bd1e3aac-bf70-45c0-a519-91556bdeb3ec', '3b63324c-96ed-4d6d-bac7-a611fdbe4eef', '670050eb-6956-47a2-8fc0-a297c1cc5cb0', '53874ec0-1513-4603-a805-23433947b10a', 'd31c0999-46ea-4d4f-a60b-b3290931efe6', '39d99205-5de0-4234-b846-9758e67eb02b', 'aae705a4-9398-4068-90f5-59ae5569894f', '2d4e003e-ab3d-4759-b5bc-681d5b082f92', '67cd305c-7f2d-4847-8e0f-5cfb6708db8b', 'b5314a0a-57ea-4e7a-a47f-eccf626c2370', 'a5e7a9a7-824b-4622-8b55-8cbdfd5a0d00', '818cd68e-6f21-431c-9bb6-c7e03aa07327', '3bd22a1c-7a2f-4496-9b10-9853a277f9da', '50a8184f-f19f-404e-9877-ea1077230e4e', '019bcc50-6123-4eeb-8546-5250538e61e2', '4fba3e0d-6bbc-451a-a178-3bb18ee078fb', '091602d9-05e9-4901-962c-3270bb9c312e', '3b22a002-3b7c-4fa4-8ee5-cc2c3e8d4d56', 'cc8008e9-d40d-47da-b54b-b3f424b24505', '2f947fc7-5c73-4851-a963-21f509a4896c', 'f75586b2-2ca2-43e1-bb6e-f822d27be24a', 'd490b5f6-a992-48e0-aabe-ce0bce34d670', 'df79b0d2-97c5-4f27-b666-2adb5cd0f48a', '2bd54ccf-c293-4314-8c1e-a303644d6bb9', 'cfa5613c-6655-4a6d-8ab3-e07d7b7728bd', '14f6cf28-64b4-40e2-9268-1f089ea5da27', 'bd1ee1d9-f4dd-43eb-94bf-9239efd44bf3', '059cf712-6e18-4627-abe5-a1b8ff9cbdc1', 'baef22b3-4ad8-4abb-af43-450662a7776e', '39822d59-2f73-41b6-87cc-f3a2259daa47', 'd09ae6e8-2b33-42bc-9e1a-ce80a752610c', '7eb1f69d-4d32-408e-9bff-8b3db237c0eb', 'aa18b2d8-2a91-4a64-bfda-9c1c0fa57929', '89791f07-8c12-4a5f-ac63-df79bfb1a085', 'e650f78d-c168-4978-bdb0-b49d0dba2d13', '88bf06a6-1851-4f16-a12a-34491bcc3b83', '8bddc597-340e-4e1d-a478-d4b975bf7277', '68925f41-e1ce-4bfd-bd81-2f0f60efc800', 'e813e65c-d92b-4868-bb4c-5ba9db17d3a6', '99ae9b19-35ad-4eeb-8a1f-13e9a87ac29b', 'fd0aba93-6b07-4572-8780-c2d14c517140', '75b7fbec-537c-4673-aa46-31ada7d96748', '971c7918-518e-4706-9f4a-6aefe3397816', '2d465d63-b8d8-40c4-b2c3-2cb890faa342', '8ef2e4e8-2cc1-46be-b16f-d85545b72416', '43a37136-8118-4c80-ab60-8bc01a693454', '2d1c3f07-ae38-48cd-b1a0-c6aef9c93333', 'f80389fb-0d10-42d5-9304-59525bf496d3', '3921b742-4382-4245-ab08-3198477c568e', 'ae45bce1-c90d-4586-b538-9e669b3e8061', '15f18a09-e29c-4918-a2dc-339848b41f97', '2aec25df-faeb-4440-8933-7102573cced0', '49865b06-63c1-4402-87de-28536f7c1ee0', '53746900-96e8-4ece-b9e8-97a05362ed07', '761605bc-6868-4385-aa27-e8c70b35a6ba', 'fd7f52b3-0c01-4560-becc-1b15b2764a38', 'bf573243-b01d-489a-93d7-84965001ab46', 'ddb07668-0925-4a47-8d06-b8e728b22e2d', 'a0237897-65f3-4dec-ac16-f9d99575977a', '7354e80b-1dba-4618-aaa8-d20fc62f0d6d', '0e3abbf0-dc37-4070-8e88-f010c29a3883', '2ef6a642-43c6-4ed4-83b1-c3031a1a856e', 'f72bccde-0463-4b64-ae32-c2df5d3720d0', '4bdce24b-38c6-4f41-b989-c05b88c81e76', '073c3bfc-88b2-4d0f-9933-666975be19ff', 'bc580063-da93-4bff-9598-aea9b70b7469', '926fbe70-940c-403f-baff-aa6f99290a1e', '2186ca44-c989-4732-a6e1-b82a5b1f3422', '893bcc70-e07f-4b43-9b9f-31da760ecf03', '99e2ade8-0903-4faa-b6b7-c484e038dd93', 'b24eb30c-ecd9-4d3f-9480-33aed6622c4f', 'dd34383d-bb21-4d12-894d-8e5c1fc4673d', 'ffbbb894-c909-4ae1-8c4a-3df4ee8e7471', '6eb91e2f-8f73-4a22-99f3-fd7110a46ee0', 'ab957290-f34a-46c7-961a-c08ebcdcfb17', 'dd2b4477-6c53-42f0-afd9-a905b86ab0c6', '3b5bb293-b75e-4179-ad61-295ecb983919', '33af1259-1441-4b43-8bd0-4a120b7ea110', 'be7af3f4-bc14-4d34-8f4f-c29f25d7c464', 'b5319be8-f252-4f4f-98c0-8270fffb8d46', '3cd3e990-fd39-4300-ad8b-eadebfa6f51a', 'd82e9df0-0f27-4a86-8e15-508ba6e47291', 'a57c895c-b447-4429-b90c-c4c1c1555fab', 'e09b53ec-97fe-4269-bbf5-096b59c7b4ae', '95155dec-e2a7-4c18-a1c1-eb006cb05840', 'b972bb9f-82f7-48e6-a744-f3b9d00cd97b', 'fcbea328-096f-474f-867e-7d499ba4fade', '0f49f69d-deb8-4715-81e4-ab5a34136a12', 'e9eaeb38-86ca-43f0-ab62-089e86221b1f', 'def3d924-a214-41be-ad00-9b06c9f5e515', 'a72efe0d-7c19-420e-b2a2-f3800fa2e432', 'caa0e90a-53b9-4ae6-a022-0f48a273432a', '8727b6b4-37df-4fa8-a32a-0f4e0ab3e9a4', '9221c119-52ad-47da-905d-6cddc1efd9b9', 'c91d2e2d-174a-43f5-bd93-ca35788e8eee', '67081e29-4449-4be6-872c-5a76e2297336', 'eeae5f04-399d-4133-9e7a-d0d387c58d48', '1a36d310-4dbe-468e-b521-31fc65f1e8d4', 'fac8326f-cec3-46c3-b1c6-8d17146955a5', '08db75f5-658c-431f-ac6d-6a26e22c7d19', '9e5075dc-7714-451a-8a98-7093f734f2cb', '61d01b83-bc4d-4549-bece-00fd04057274', '92ba0c63-0575-4b5d-8e71-a21cbbc662b4', 'e1249e60-cc0d-4232-8c45-6cfe99f30ca8', '94448197-bd9c-42ca-8bc9-e385ec3520be', 'f65ef8cf-009a-46f0-9ef8-ebe99759ca95', 'ad39d970-8c4e-44ec-94c5-402b54564d5a', 'ec9578a2-b5c5-459c-9f5d-641e15485a0b', 'd6f4fc84-df30-4b23-bab5-a771027581cb', '8266b310-fae9-4718-b16b-2268a11a66ef', '0aa70d1d-866d-40ba-9904-37fe9ecac652', '7f161631-4a9d-442d-9674-fe94c7d4a8b0', 'b42ec05b-caee-47ee-ba28-bd57213d77c4', '647310af-5612-4f54-9000-c5cac99bc46d', '3540b56d-1478-4885-aa5f-cc487d2413e2', '6a592d02-1181-4277-852d-248e0ea7203e', '37ea11f2-3330-4dfb-8e39-14035b83136f', 'c4a8ecd2-6c60-48d7-a13f-8b3510b1a364', 'd67455a0-d1be-4ba8-b343-fddc705f6057', 'd1043eab-a90e-44c3-a256-34621e532f16', 'e2301dc5-421d-4c61-9ebf-025dfeb53327', 'f213efd1-6eeb-4265-8e9c-efacd175760c', '7f50a247-6f64-4890-ae09-417cb69132e2', 'fbad127d-491e-44cd-8b38-2ea083ef37a6', 'c49cc88c-b9df-4109-aad6-1e61455dc8ac', 'd142b43a-f677-4c9a-8ba4-03bbcb73bca4', '3b29ccee-9dc7-4dd9-b9f9-6c4e25dd68b8', '3bf63cee-b380-4abe-b2a5-602bb66b7d93', 'cc361fa6-74b2-47c5-ad23-191e170252ea', 'd9b28007-ccdd-4ea3-9e85-b8e800448890', '8d841fd1-23c0-493f-82c7-e86cec7e70a7', 'ef0c7fbd-536a-4e3c-92fc-4583b9cabacc', '4f4e9fe9-b60e-4e90-adba-cf8b8be7768b', '2acbdaab-7a3f-4312-95bd-cc4897e99a90', 'c4a355cb-2666-4ce6-bcac-3741b6745dee', '2eb77ed8-f881-4074-aa7a-b570a250ebb8', '14f2fd84-30d4-4100-b743-f3fa3de63d78', 'afaff09f-5c1a-4be1-ad7b-b08bfa7a6e30', '4efa44c8-0a36-4654-a0f1-fb23e724f1d6', 'f4b2c79e-e306-4895-9903-068dd1b928e2', 'b446c4c6-22b2-4d9b-a23e-e7340a1d6933', 'ccecf5b3-ec7b-4763-b1da-bd985edec793', '47459705-9628-449c-9041-ba003f817cd6', '53226652-144a-4145-a53e-e6bbdf5afd3d', 'c463f1ad-add4-46d0-a53a-2233cb16d4fb', 'c7a911aa-8120-4a7b-943d-061f40e67326', '5cc67de4-da04-427d-9bcc-f0b051550f43', '62f608a3-df66-48a4-b85d-7d2f6f382e4d', '6da7c7f8-1c14-4cb9-9350-d8218a4f3711', '77f2419a-fdcc-45ac-8843-ce6d41ea3dda', 'ce1e8075-ca25-4230-845c-a7cca62e47b9', '7ef78f30-e2fc-463b-8a95-474673fbdc32', '7aacf89c-8920-4e76-b274-e265f91b57bf', '363d8d40-9338-4c9e-846f-657d85e7e8fe', 'dd1bc021-ca81-47df-a456-51c925973528', '01c8055c-4568-40b3-811c-649b04d78030', '96936be1-ecbc-4134-a939-27938d22672a', '12c11d30-5826-4638-b503-0b4b7bd585bc', '47a6295d-edf6-4ca6-9a20-c21982312270', '18641e16-0a25-4cf4-ba6d-75fb6e98d003', '92429c5a-0d8c-4b06-aff6-8c13e22251f4', '0f33f6e5-61d1-48bf-9b96-1ae549d582e5', '5b5ab3aa-f370-44b5-a0b9-b36d71654300', 'bd8cd320-5c34-4e4a-b08b-a6fd8b4ff097', '7d91c76a-dfad-4aed-9162-66619b0e72d7', '349c7c9d-a778-499b-b4eb-2ba5b492ced5', '27ea878f-59c4-4661-bd84-e157e621a665', 'cb7e03f6-e6dd-42ff-babb-faced49bf441', 'd335601e-ab6d-4be1-9f91-b964e697585e', 'c9ab79dc-0649-4215-aadd-4ef2aea89b9a', 'adc314c0-5900-44fc-ac48-097c362dc71e', 'a26fbb87-bb80-47e2-9e0a-1cca43fda8ce', '20cf1b00-b850-4d8c-9364-27bf01a253fd', '3a7c9db5-938b-4f31-94e9-8ba416010954', '67fec110-95cc-4e94-b7cb-64673b9b066d', 'b431beb8-a095-466b-ab6b-4f27bc752d1a', '5898540f-b159-4a08-ab97-00b0c0ed8c2f', 'b915e56b-0f0b-4319-b819-144491be542d', '04016064-57c7-4c67-b4aa-6153bba8d63f', 'a0c41cc1-12e0-4450-b6e1-c54d0447d8b5', '9d082457-50d6-42d9-b1ab-a1997ca424a8', '90b077f3-7ece-4ab4-8d0f-2bcf591e2cc9', '0848b04e-0e86-4a33-8f6c-cbe009edc470', '58bef473-ea0e-4de1-b208-070f7b099361', '85828bb4-2356-4fbd-bc9b-6967c76173d5', '4eeebbfb-268d-4779-9b90-a83286226fb9', 'ffcbe280-14d2-425b-8830-121c2e1b9201', '24498133-6c5f-4980-9aa8-fd28cc5f80af', '21c37b1d-f752-49c7-8487-25e98549e8aa', '572cf6c2-3fbc-4ecf-92e3-6dcfd546d9a8', 'efe16640-eb29-4a06-834e-f8d207a484b3', 'd970fb5e-caf9-4372-b419-ce538e17253e', 'bb01de2d-348a-4e91-82ff-d62f2afceeea', 'b5f05ba5-d28f-4519-824d-19e9d7cca705', 'd0524158-01b9-47c3-a25f-cc782d4eb09e', '318b4246-f068-41f1-8220-85a8757bd6b4', '268394c7-9c8f-4f8f-a3a4-4114333cb500', '415c74c8-1066-4d1b-9147-31c8be04ae56', 'ac5ee5da-a735-4810-ae04-d7fc01841a63', '9d93f5a9-2ff7-4e6a-baa3-f4f0c702572c', '5048513a-5320-4398-9a4a-e89b6bae78a2', '253ea35b-28be-4f48-b1c7-4971a451ea5c', '5c42ef7c-274e-4125-bd18-b65ee6ed2d64', '8640a2da-86e2-4579-a788-b950b3f7426f', '5bb5bb32-dad0-49e4-9f6a-df7d4d67da97', 'e01555ee-d264-4a9e-8601-acffa3e65586', 'dbbca09c-d5ee-419e-b23d-ef79d477ea31', '485b1023-8c14-415d-bee0-7a894dd60f46', 'bec47bb7-0e46-4c5c-ae6c-c8255df69e1f', '9b78df40-14b3-4497-8690-2b6ce51c2980', '45ab50c9-ca64-4740-a7e8-16b7e0fa2bb1', 'd7834f1c-49b6-44df-8e46-7c230e0c5a8f', '7b0854fe-7d21-4ffb-833c-2730187e0e43', '9810d7f2-4c79-410e-a1f1-69b9cde4b470', 'be180eb6-a4a8-47da-83f8-fc8c680cd9e7', '3ab9ba59-209b-411f-a4d1-313a71c0e886', '2079c3f9-ca9b-4adc-9215-2e6e3ff75da2', '9cf9403b-521e-4646-a2a1-13e4d660d33a', '80a8d908-0bc0-47e8-bdb6-5b2f779c61ef', 'bd843e56-aeeb-4081-8706-98be171e2622', '6c81a630-ab27-482d-af1c-310db129984b', 'fc08f758-f4b5-45dc-9c5b-5a42f9e78c4c', 'e1085d3c-b660-4786-8662-1e2e3708625c', '87332a73-60be-4804-8533-d1e5b4840820', 'ad10f490-ccc8-4823-87e2-24ebf7b55ce2', '7124797d-bf3a-4a52-bb93-212a506bdae1', '2b5c7a1a-c9f4-4e45-be6b-3ada7037fd02', '94cc09fc-b071-4429-a1c9-b8ec0d7f008d', 'a05a5774-59e3-42f5-9a05-368c83db0e31', '08a452c7-3dbf-452c-b265-1277709b4e33', '2771b08d-3194-462e-a0db-9f18fa969cd8', '9f84b580-bca0-4957-9712-4a70b471e2ee', 'e26bbe5c-c4fc-4caa-bc0b-e8568712103a', 'f1e1e1b9-4e35-4eb1-8576-b97afd95dcbc', '38b8aae1-fbac-4dc2-9255-986c41ea9c49', 'ab5751db-7ff7-4a26-87b2-c2b1a23663ce', '3524ce81-7cd1-4763-8d1a-3eb716ec1aa2', '00d1e3dc-f1fc-4bb5-b3ee-427663891fe4', '62873e58-7ef2-4bd4-9dd1-5f419cb01522', '3a53f743-c00c-45de-a643-66378d821827', 'e3f49130-ddd1-4f08-979f-d63f01787fb8', '4e740bcc-c3a7-4274-885c-30debb96a392', '4a52fe1c-215d-44f6-8b00-41a6d1244e9f', '8953d92d-7655-4b74-96f3-e3a6fa90f74e', 'f9069a5c-a1f1-4355-a85c-40d8e2a3771a', '07ca0ac7-2fe8-4a57-a688-f83976072a09', 'a52491cf-671b-4a97-9c53-4ba0a021e569', '0c5688b8-44a6-4fe6-9ffa-28625ab7347b', 'da92ee1b-c8ed-4562-b8dd-62b86c4653dd', 'f049a99d-81ff-48c3-96a7-e2f6332fcd58', '16aab773-f2f3-483d-9ab0-6980224bb0bf', '8124628f-0e2b-45a8-9c18-b07636801ca7', 'b28bd0bf-d311-40fc-8f07-3d1624db154c', '2f5cbdbe-c6fb-43c8-abed-4edabd62c2d8', '4d5c65b2-befb-4ed9-854f-d7d629881648', '5c2e714b-d1a3-44a5-b7a2-05fa9b49e608', '5b098866-68bf-4159-88f3-746a11887159', 'd02b5096-18a3-4792-a21f-3ea66f16ff77', 'a94a2e79-21b1-485d-98fa-1eb1281bc1d5', '2de74cb6-d9f1-4f1d-ad60-736c37d2716d', '2ffa7795-566b-42ed-a03f-1c13bea4c3f3', '27680ad2-c00f-47b0-8748-f84619de1a59', 'e068c825-0ae2-4c98-9dbe-d3fc6384df70', '164d0a73-6957-4f23-9fae-3508975e7c2d', '0d26baba-e14a-4ea1-b45d-d966bbad9eef', '84886fdb-5170-4768-9808-5d1e8d32b2f6', '8629bc90-e1fb-4ddc-921e-d5b343324165', '7a9306d9-d33d-474b-87ca-d2275fdf2e76', 'e0502cfc-70ab-4ba7-8818-401488018d68', 'be47232e-69db-4d3c-9519-bbbf9e0fb083', 'a876e120-f044-49d3-9187-23b58925933b', '74796cf3-f636-4ca9-b923-e7c8b67f5115', '8ece30a9-3005-4824-8754-43eb2160b112', 'ed9147cd-ccd6-4ab6-9079-1579f03e91cd', '177e9252-d8d3-40bc-a8d6-8c403dcb525b', '06bf7457-03b3-4015-819f-ce574483496e', '008aa376-bce2-4ddc-9497-ef26d663adaf', '3b72bcbd-9fec-4bc0-bd3a-56b2bbb6b669', 'e3a90c5b-e6a9-47ea-be9e-608b9001e38e', '737b4160-d29b-4432-bf75-95a3cba43713', '854333ec-536e-4293-b286-4b3525f8a205', '57d7682b-210e-498a-afa1-cf69ac899c42', 'c866a97f-37ee-47b4-b501-1a3ee2f2d4fb', 'ac1e1c4c-30ef-4ce8-be7d-60947f8000e8', '6977a99f-7e60-4216-b164-18b235eb3630', '69a4a8eb-4b20-4ecb-9833-c829c165c74e', '7491e390-8eec-4d3d-81fd-b75fac819f9f', '9c8c1c39-38b1-47d3-957c-e0d97a9d0709', 'b29c8ddc-9503-42c5-bb04-952ef3be5b5f', 'eb431236-1f0c-4a65-b531-4da09d2cb100', '207f8bf3-872e-4e4a-90c3-8a9280ed3dc2', 'a4db6de7-d246-4209-a525-e49707e1f126', 'fe58879b-6425-49ca-af1b-31de68cb5db4', '0d31807c-c40d-4aee-8a67-72a6a3accf82', '87e1a8fd-2ea9-4e89-9b9d-b8dee07c0a25', '5c249008-ee64-4078-a1ec-92be4a8c73ef', '89c7140f-4534-4dbd-9d0f-e7e2db4695bc', 'c708ce97-36d4-4a6d-95a6-7172e30d61ae', '1bed46e7-4188-40c6-bab1-ad9d0afa9f12', '6cb5ff9a-10e2-4d1f-9450-070ba81e081c', '50a74e1d-9ed9-4cb4-83d2-4954e168f15d', '20eff6d1-ded6-4149-b91f-ac9956393eff', '23469f20-d953-4736-9cfd-81dde80a0f18', 'e1a794f6-6559-4b53-be98-6c637f9feccc', 'd7934eb4-b28a-4f73-b770-c0f885382610', '47ece14b-9b0c-4f81-8448-ccb5c1d5b8d7', '0496526e-6901-42de-8084-da3661fe38e3', '893dca1d-2539-4dc7-bade-c4ad4099f6e1', '85253820-3f5f-4bea-ba48-3eab8447565a', '21483981-f7d6-44c4-9640-025219f6a80e', '233ed799-8e76-46fc-9b45-1849ef6fd341', 'fd84ec83-126e-410c-a994-7eb240aafecd', '4b632633-6641-457f-80e9-4c78b28d58ba', '62946c03-ba80-402e-967b-6fcca9647b0c', '4aec542a-e1a5-4942-8235-2a116c06e9cc', '155b59fa-5d83-422b-83b5-d04e0223fabc', 'da0a190d-e0c2-4972-b152-0398e85ec8c8', 'ac57831d-a2c3-4bef-aab5-7f0253453877', 'f6f23d32-1d81-457c-b2d0-90f930a29f1f', '0b827adb-7b5a-4009-bf65-1158b31f6fdd', 'c8b1a1a6-e897-4ce3-b10b-c6f6380270c9', '4b2ce6da-71d4-432a-b3b5-c78808a5eca8', '45a19173-ce1d-490e-828c-92dbf18ff9c8', '77e13001-3d6c-4c0d-9005-c16f2217aec4', 'eb0d7792-8b3b-4e85-8f54-c620a3031129', '6a38c546-fcf6-4ffe-a20f-d91887c091b2', '976e396b-39aa-4b02-98b7-88361db9711c', '7497a745-5779-4041-acf1-9595ad72b4a5', '7f97e948-00a7-43f9-b7b5-276eacf66de7', '5d6a20b7-37ab-43bf-b345-d23a0595aa3e', '0d6f105a-ac5c-48c7-91f4-1953a0cb8078', '3a93fbfc-6b6d-453d-ae85-1620fbc612e7', 'e70eb078-a63c-4105-998f-24ad0b41fb30', 'f9bb5af7-1547-4edf-8dfb-d05390d67c3e', 'efe67e50-e915-4449-9c53-281d579273af', 'a43a029a-e205-4386-9ecc-476f76201329', 'f0d2b90c-410b-47af-b927-bbfb5eaf920b', 'e7f9ba04-d412-4fc3-b238-658d661f84bd', '5b814018-2152-402a-9502-63251b2edae9', '7bf87422-f89e-4bf7-9589-6688e0ff047d', 'fcdafcf6-a465-44a2-a52b-0650ba0cc5e7', '3d14a2d6-9f21-40dd-ae51-c12ee240d8db', 'ba58cb8e-ceca-428f-86ed-7b92fc69fc2e', 'b337913f-8451-47a3-ad28-0bf87e0643d2', '17944dc9-da80-41da-8efd-d5b65b450a27', 'cf90c388-13cb-49a3-9762-7ef6c6d499c6', 'c7f75f93-4e5c-488a-b3a4-5f111dfa33fd', 'b1291f75-29af-4b0b-860a-e77814d48c0a', 'ac57a236-33bc-495f-9123-1ea8fab126d9', '9c025d9b-94c0-4fe6-b76e-7c1ec212350b', '75928670-a256-42ed-b51e-9543b8ca1635', 'cf864623-74f5-4569-957d-bff279028373', '69efb8c0-9e46-45e8-a283-95e207ab2b59', 'fb21b068-3c9d-4e70-abbc-47810a638dea', '70a11a66-213d-4e5c-b20e-eb2257fefb85', '9a12459f-c255-45ae-84b1-6cfd9738ab2b', 'e21c0822-6e8b-40c3-ab0f-507a05cfe391', '5e7dd42b-1e3c-4ded-920a-138249a90e09', '018424bc-2b43-4895-bf27-25524f6f8380', '94fdec88-9cc7-48f4-b041-5fe7a0e43bfe', '63e5b952-9638-4eb0-a147-6621d743f64a', 'cb06d83c-b5e1-4eac-ab40-c47df0c2bf4b', '09050891-3b7b-435a-8a3f-d7c78a7ea59a', '742c43a2-d8c9-4384-ae47-74355916bde1', 'b22fd18c-13e8-492f-9206-f270e1c0063b', 'aad7bb7c-276a-47cc-bcfe-9a9928a7dc6a', '3016123a-a327-43c5-a94b-fabc3088031b', '0c335735-ee19-40a2-812f-f5a6836bba19', '6c662047-b05b-4584-ab28-41ec154e8bc0', '5c4f8bff-0af6-432e-8849-97cdaf4cf22d', '21984a20-8f34-4c0c-8ce3-aa501087ba00', '880a3c33-50ec-4de5-b6b2-df0f1dacd2a4', '3bd98e39-32bc-4132-ad22-6a4b72ec0a91', 'e5d40dcd-44ae-43a9-8308-849fe531e379', 'eecb4031-c493-4c33-9c13-6be3a0f7073e', '66346330-20cb-467b-8951-1041897cf4ca', '40eceb17-1c9f-45c9-8348-ff758fa9143d', '8122f3c5-49b0-4ee1-ad1b-17ab77090e42', '0015ee0e-5a8e-4fa9-8865-44ffb03f8aef', '3cd77bc1-e029-405b-afa8-17636d05fc54', 'dc315018-cd05-4201-be20-97475462e360', '8bf39c3c-11eb-45cf-8184-d4f479730c00', 'e1077c72-742d-4b92-9af9-809300848b25', '44cf6c9a-bc3e-4250-ba32-65e1a9ee8dba', 'ba54e5f8-d38c-486c-98a0-6805143916ca', 'edb6948a-3200-4bcf-9f21-b8e4cf9855cc', '0c331edb-93bc-4c05-ba8c-df5f9b8b5e3b', '5f534334-cad2-4e1c-8496-26e7c2851c56', '96921e5f-4581-41ac-ba19-481ecdc109f6', 'ed198579-9a17-48f9-becb-964d949610d3', '120b410c-dad9-411b-9ffd-54c21f9d9fe4', '03163388-ddee-41fc-9fc2-5a58d9cac277', 'fca0b907-93b7-43bd-988c-89361da1bc03', '343aebff-eb62-454f-b7ec-757094f90a37', 'a7fd44cb-d463-4629-8177-21a665450898', 'c1763fbb-2ef1-4bab-a748-ec22cffc2f45', '4f61e368-61a1-492c-a48e-94dee66ad83f', 'abe369c0-598c-4b89-9bde-d386bd7ac9bd', '10e77974-2e6e-4613-81e7-7666a782558a', 'f48eb466-2d0d-43c9-b207-f3b651288ab3', '381a22ab-a5c8-408e-9f8d-cdf1a6feddc0', '45432e3a-56ff-4001-8ea6-02cf98a53d9b', '1422db7e-2293-4dfc-947e-42c49dc5759e', '354445f2-d83c-4989-b22a-89e30ccfd5e7', '180a43ff-45c0-428e-9335-fd8ef5735acd', '14be4de9-e856-4ffa-9609-d692b832c32d', 'b00469f9-32b8-475e-ba32-7ef554e7f7eb', '72ee7187-3ee0-40ff-806f-8800c05ecd4f', 'b0b0313b-608d-4cc3-91c5-f3a210d3165f', 'd60da061-2da4-4bc3-9463-35c90e1437ae', '2113c51c-00e2-4f91-b7be-77179d6dbc04', 'aa221d26-5f13-40e2-8235-b769e1db1428', 'e9c1409c-b027-4812-8c0e-b46c10fb0b0d', '53d33101-763c-4d08-9d26-eb2df89a0aa0', '4fc3f2b5-4257-4896-a601-3866686574e2', 'be8ec969-4ec2-4cfe-982f-644d8c35c7ca', '5022fde2-bfb7-49a5-91e0-fd9817a2141c', 'd28ae317-ef56-445f-8faf-0d72bc83d624', '993d9ad0-37f6-4f35-9df3-94ca56959f7a', '6a5357ed-8024-4c8c-8cdc-9d6d4f84b398', 'd27fac31-8b44-48df-b96b-25b0302cf855', '8ca616fa-01d7-475a-bdc3-e64bd544401d', '99bf2bc2-d4d0-45ca-a315-05b1ebbbbf7c', 'c06eeaf9-5803-4445-8391-f81b1662e4d1', '3456c0cd-0926-49df-8df7-4b9903fdec1f', '33038505-ee5c-44a3-b822-61964af6e5b7', '98344f14-7384-4f4d-8d64-6f1c34b87715', 'dded1525-4c57-4874-bd54-788afea27583', '6636a5a6-f8ed-4891-ac7d-f1d2cea00a31', '83ccdbca-227d-4123-976d-1f36fd71f113', '7049651a-5ae6-49a0-a5f4-eab91585bb54', '06deee1e-3704-42e3-86b6-f9add0efc342', '5620d72d-5aaa-4ea8-baff-13172b1422c5', '818723fa-30ca-4a87-b360-ba2c7a0a99a7', '7a959cf4-1c86-4a6f-b0d4-80ef6457feff', '4081652f-3de8-4be5-a05c-4e005c40877c', 'ab181698-1c8f-4915-828f-11265d7cc12c', 'fd09a8c3-1d98-4023-8727-f4d01264eed4', '20395e65-de1c-4dfd-950f-90ad3fbdf116', '0a48e83a-d248-4da6-a37f-f0b18bf6d463', '352ecc06-ae1a-4ccb-b51e-69978be04ee8', '0e3074de-6497-492b-956f-2b0260d8b594', 'ccf599bd-a5d9-4468-9ff2-f160361c3930', '84a8b297-f730-481b-89df-509caaa7c71e', '3f83901f-8b7f-4d47-a63c-e7b469525be3', 'dc4cd5c4-f74f-49e8-bc4d-79c6fbeb6a53', 'defbea4c-0a86-4e51-a4be-4904e7241473', '95c0f6dc-9e6c-4eca-adfc-cfbf60a36766', 'c6b88c3c-14e7-41ec-bec8-52db96600e45', '57151ee1-c317-4b92-9063-9026fcd2d714', 'ac1a48f3-c04d-4581-972d-fcd8ac0475fc', 'dad57afa-3641-45b2-b72f-526fb7d3bcc1', 'cf34815b-73e8-4b54-8679-2feaa8d13de3', 'ec1e87af-dfee-4647-b8c0-fb20289fcee2', '8706fb54-7fd1-4aa3-b722-7d8fac4f827b', '0bfcd3c5-a38d-4404-bc29-ad8d3a9c4c24', '43efecde-9069-49a8-90bc-f8feb40d12b9', '2b5bf77b-82db-4503-97c8-9b0788ee8b22', '9f09ad54-c487-401e-8cd8-ea3a2280543b', '729e6258-bc72-4570-bcb8-d843c3267915', 'e7a1ed48-2e5f-444e-8d9d-c093b16ebe44', 'ea3157d6-fe7b-4e54-b5df-5379624cc497', 'cfa9d41d-3a02-44ea-91f8-953eb3182764', '59920d50-9d77-4fea-8d55-4a945acb63c8', '501eaea8-1f32-4229-80d1-2c1b5fae67af', 'e1e45db4-3118-4547-bed9-4c716a11159d', '5e1a930c-801f-47c6-9cd7-7b59afb19e25', 'b093c56e-4796-4d49-bd47-ff25c77cbfc0', 'd83bdf9a-1d8d-44f0-ae07-4c85fc160883', 'b5306c1c-5720-4e74-8144-fdbafa5d7985', '874d33e0-910c-491c-a02f-912260fa2a51', '8e49476e-b869-474d-a4d9-f14a70cef522', '179210b1-13e6-405d-8be5-d0ae62dfa88a', 'ede69a6e-c0ef-4473-b9a7-f1b7bacea0b4', 'b57049b0-7f33-452a-896d-b3f5b85758ca', '73b5bbed-bd34-4007-8fb7-fbe28dc000d1', '51179581-9016-40e3-95e9-e9066a8612f8', '0f51ca0e-7ca2-4f9a-96c3-099be2513ec7', 'd38538a1-2ae7-4110-8e59-049026736ba5', '90f9ebbf-7a12-434f-bc14-bac0d48f1ddf', '7f6b00e2-7322-491e-94dc-1162cffa67a0', '2a65e367-0ce0-44c9-9929-d90c1fc0fe37', 'eb989f2d-e476-4fb5-8b49-ee0594a6be1b', '142b5756-806f-4a84-aefb-47080fcfdd60', '7692fd44-1d22-40ea-8a70-8b185df98ae5', 'cbce5267-8389-4b70-bf07-522d4f39717a', 'c95e0733-b655-4cc0-9126-67f25ddc61bf', '3e485f6e-4dee-4693-a96b-506341ad0448', 'e99f020b-0897-4917-893e-8c546902525b', '4dbe96f9-6dbf-459c-9500-01d3264a16e7', '02cebec4-398d-45d6-9f73-ee8b3d008a3a', '1773424a-c26b-444f-ac50-ae6ab9476007', '39fe13bf-0417-4b5e-841b-76473ee321ec', '4e070586-f079-4ca6-b572-c2706141bdc7', '0e16fd32-50c1-4174-b140-7bafc9024e16', '56023f57-a23f-4dc5-a39d-50b26e76660c', '208ce00d-5063-469b-b608-52b44e58fefd', 'c61279b4-9a7d-4a0a-af05-7c8dc38c5efe', '02e5db5e-5dc6-439e-8ebb-aa962405d8f7', '7df20670-4aaf-48c2-8218-a04a3f3c5ea4', '966522e6-3e16-470a-9564-d4e7dca08d89', 'bb0fbc9b-68a7-45ad-860b-70fa65ddfad8', '4d9f77c5-d29c-47ae-b81e-2a9e7e07127d', 'f86486dc-3bd6-48d8-911d-2810f332e608', '3eab49c2-abc5-473d-b20e-2bbf28947943', 'c8a8283d-5abc-43d2-b663-050d0c03fe39', 'bb0dab1d-3c88-4827-b47e-3832fc3a5972', 'e14077fb-ba50-4235-b366-fd10724fe8a6', 'b14432bf-f0a3-4c69-a2c1-fcc60e48c254', 'c4fcb912-3b7a-484c-8829-8cfc799829e9', 'd88819a0-237b-44e3-80f7-9175c7bef484', 'a4b32777-37e2-400a-bc8e-89de8b3c34b7', 'fe989eaa-e5bc-41da-8393-ee95163fb109', '6e2ea477-9d45-468b-a188-4e91190292d2', 'ca01230f-fa59-4cb5-835e-011bbc75e25a', '1ab716a0-bd75-42e1-a200-0bf7ff94c351', '32b05b54-16b3-4a3a-982d-ed86e1711b56', '0c70d942-64d2-41ef-91d9-d1482b42a64b', '27a768f6-bc85-4cf6-bdae-c291de154696', '438b9df1-1e93-43ec-85c0-d95945edd11f', 'd96e5d7e-0b6c-457a-8aba-e3bd4bf22188', 'd1650e02-5777-4bb9-8ac0-1758cb3d48df', 'ee77275d-9118-40e6-be7d-6d4def126c28', '1809f320-111f-407c-be6e-967821501cc3', '0dd0c204-eb8e-43e0-8642-499bfe9864af', 'e8579d44-51fe-4f29-a6ee-cd01a6fe2730', '6056b55c-b4ce-436e-a906-d7c8af889a75', 'f9f00968-73d6-4816-bf04-1a994f0d8047', '8e9f5ed7-ea4a-46dd-a9d6-c80f17684bab', 'c4b18d3e-957e-4f24-b917-8a1740fedd9c', '6a2a5685-b8d7-4a56-80d3-bb1e5dfcfe43', '0b77a9e8-08d9-4f09-992f-c07a706cd476', '9f33555f-7429-4e6e-8021-ac93456b5b6a', '324f5e62-cca2-4824-88aa-d0d9c80e8ff5', 'f9de9b6e-7ed7-4488-aaee-4f53e387c121', '8808cf29-5a3f-4e63-ba82-8ab2a112899f', '3873a03c-c090-40d9-b74d-a372329b71e9', 'aba96395-220f-4223-8c33-ceaf8d40fe53', 'de689115-6d31-414d-a738-45c2d5a89196', 'af5a0677-8d11-4291-9ccb-47f2f32ee939', 'ad83fda2-6800-481c-848c-dee120da5b1d', '2bf05c38-ced0-4e8f-8261-f5da6ff2f9f0', 'ea3e198a-3128-4655-a085-b9f952572d78', '4c0631d6-6482-4465-bb7e-7c673ff99c12', '19540e55-5b04-4135-8297-d97d8583244c', '03a679e3-4fd4-4d5b-a076-b6792045fcc9', '5554db4d-2497-4788-a7a0-ae6300870da8', '0c8f41d3-6f83-4ab8-8620-8f023e53449a', '2652cf84-803a-45c3-8913-90452c43ac6c', '04e844fe-6920-44e6-bb06-46025ff83b3d', 'c13c4478-6c1d-4a22-b559-874ae9e9e347', '3d5f1acd-2933-4e11-995a-eb9388e8277a', '0362da56-5875-423e-85a1-1bc5c1c059e9', '1b349918-9828-4fed-ae81-24fc8e6a9463', '5b280eab-3331-46e9-931b-a56101a53c7c', '1665f5e7-3bc0-4369-9eb7-0d75fd062d4b', '0b156382-40cd-41db-9846-93a7de33cfbd', 'e8f9e94a-0aa9-4433-961f-a8f375ca8738', '111a58c5-babf-4807-b9d5-7f518007e24d', 'c1af6bd3-ca6f-49d1-b2dc-76657a2b2e18', '52881ebc-291e-4798-9324-3228cbcbe2a6', '1468e609-4a58-4594-b76d-616634f06f83', '87e456cf-7094-4e67-9551-c992f417437d', '5e2458c3-5c7f-41ca-bcdc-ed6599191fec', '9cbd340a-7dc1-4829-95fb-6cdd23bd86d9', '252c98ba-b3cc-40b8-8ae6-e5dc0946df55', '96bdfd44-2c03-471d-aecb-438e36d9c5e7', '1d1b90f8-f6ad-4628-b1b7-1da215ea88e4', '46d5c86b-fc1f-4f48-aff6-1c3d9385a888', 'fe4b6cd4-dce6-4006-ad73-c39a2f693f77', 'b952571c-27cc-4084-ba0b-ddb176b7fba4', '8c22f5a1-7639-41d6-8aee-e937e4a7b167', 'ccb754fb-3317-46c1-9dd1-3eaad9ebcff0', 'd42c6eb8-c397-489f-ab67-6a8ab3b3206e', 'db54bb81-1060-4791-87d9-586485252d9b', '2dfefa48-9d49-4a1c-964b-90dadda8a40b', '21d2e5cf-75b6-4e78-8706-b0b2125cd53f', 'dabbfe07-4de6-4959-8b1d-418132a1795b', '20b1a09b-2378-4ab1-9312-709ec3d845e6', '4da76e6f-d4d1-4468-a48d-2040f9727a0d', 'b9076a8a-39fa-4ff3-ba38-6b8d21b57b18', '43a9823a-525a-4731-bbfb-6f791718d55d', 'b2841ede-db4e-4743-8df9-9e9d9ed892f8', '4c27fb9a-66a2-48dc-a4d4-896ec87ffe1a', '21ef7798-c937-45eb-8428-b59a80c7290a', '110bfa8e-bb32-41d1-adf9-964c10a9ee76', '5cf10519-b699-4c1b-8f22-dfe9c7771161', '9da6918f-c2f2-4fdb-bd80-194220fcf989', '41cfb084-b1c7-4033-89c9-d67531384ead', 'd83e0652-95b3-4cd0-b17b-6d24cacf45dc', '58670ee5-4e97-4b59-9fa7-f969130df90b', '4d69eadc-23e2-4e98-af8d-6653f15563d3', '23b27688-6b1e-4431-8d64-81057262e7cd', '0a2d8bb5-16a4-4d53-85c3-1a134fc1014c', 'afcb3e74-3071-474b-8edf-8ffe4d1893b5', '90230c1a-41b3-4c31-89b0-04f5795d4fdd', '4e340de2-8ecc-43af-902a-78eb6baf587e', '188dab93-af56-4389-8879-e103a2cb2728', 'f23bf534-8bbc-4ae7-9eca-a9b4d54a96b8', '91093f44-eb86-46de-8f1f-62cbf71d60e3', 'eda66d17-ecd3-4029-b5d5-70e89510f9f4', '07809a86-b71c-4462-a42d-63690f16f623', '1ea65d5f-f256-435b-8288-6626c539f54e', 'd9321a2c-2965-4fb4-ae06-9ab99e829f95', 'd82dea44-9fa6-443c-985e-425e7782a8ea', '74bf3805-fa7d-4953-8d83-a1943b4d0810', '01365b0f-4886-4e0a-b9ee-82894430bca6', '931c5610-7fc8-498e-ae3e-d51fbb5067bf', 'b20d3cec-4c8e-41a9-ab63-9cf2b4bd0347', '3f9915c5-4f01-4bff-9592-c3aaa52b68de', '0d991e97-9bc7-4bcd-aa98-f0c2cf04f37a', '552eb22d-64fc-4530-956b-f4ba81e6ad0c', '5822a97d-b39b-4a8e-aaf6-66c0f55442e8', '34d72a45-7010-4d21-a036-4a2438622e84', '93052f03-d3f6-4e99-b33b-fbf01d9c4015', '03f5dfe8-049d-461b-85c3-6fc69fc8c283', 'cf03deec-23d3-4660-8c2e-b8bdefeb9b0a', '5fef6365-8c1e-4ed4-8fa1-57358c7b9fe4', '7b2ce29d-8516-4c4c-ac78-9ae1dc3691ce', '4104e677-2ae1-43a7-81f5-9cfc1b727c56', '8b577111-1c19-4dd4-9454-b667542fc14c', '747abfd9-f93b-4a35-a33f-2439d429e01c', '467b6110-a23a-413b-adaa-144687c8b582', '998dd0ad-3f08-4d96-9a8e-e9f183ca2f99', '7e96da24-14b2-433b-88f6-6996fa4b908c', '966380fc-3da0-4d88-8cae-78447e5d7da7', '6c507807-fc6a-462a-a752-6047b0c4aa80', '1eaaa15d-ff01-4799-806a-f445bb595cc8', 'f3e352ae-6087-423d-ad5a-8b74f74005a5', 'dec59be4-f19a-457e-8e5e-e8f83adc14c3', 'd82ec74f-6934-437d-8c2a-453571ae6c22', '951b0827-49b0-427d-9221-81eb2468bac9', '9577494a-352f-4b77-b8f3-0b636a94e776', '6387a9db-9a58-4c0c-8b55-672fb90a3b06', '0e89eaf6-9e6f-4182-b757-2b9d34b82e01', '0be9332f-4228-4dfa-aa4d-06df280f11e4', '3835d593-3474-4ac5-977a-7f3aa3233c47', '3131077e-71ff-46ea-bc8a-0e1b739cf1d7', '6b6b9fa7-a4b6-4972-afb4-8bd080746a3a', '5d657cf5-5def-44cf-9c73-cd5b8e4b4da5', 'fe0b73ca-891f-46ed-bcea-14cdf1d6081d', '725c1567-7319-4680-baa0-ce8b36462aac', 'c00aebb1-09e8-4033-828e-1e814976e43e', '935aa743-5e45-4ec7-9a13-3c451f051c57', 'd9ef103a-8dd5-4980-9500-80ea5d7f6f89', 'bffb275c-f674-43f8-b6f4-79a47f4e86ea', '8532452e-3204-46f4-8a71-5eba74002460', '0f893cfc-f4af-4c47-a870-e34b69ce837c', '3c1dd867-820e-44e7-99a1-e012d254371a', '6b42ab6c-0be1-4230-8564-4f3a0e8aad13', 'c959bbd4-979d-47c9-a901-dc89dafd4d32', '1f646ccf-5d76-4de6-b8a2-94b6d0c607e6', '845a5953-31b9-49fa-a131-96022bd91fa7', '2bb3aa71-526d-4b6f-a946-dee0f6e14337', '3b660af2-7cda-4118-842f-b7425cce0a68', 'e9dc4ab7-a302-4228-81a1-a43bfaec1164', 'e614955d-7776-4273-a8b8-d34f6f79ab8a', 'b0c04914-85fb-4225-810e-8a51136853ac', 'f1ced455-9899-4c94-bcc9-dd5580ee0e1b', 'ed57a0cf-58df-4b0c-9210-b618274047fe', '9d891ff6-69b0-41cc-8405-bdfca1093e9f', '438a4b88-6dda-4269-af1f-1b6c4b033e93', '7e0187fe-cff8-400a-8b41-7380564ecbc0', 'fc2a4192-9c3a-4691-a394-680e120ff67d', '8170a346-4781-4913-bf87-adddfb94fb3f', '8aad025a-2761-4cc0-a02b-d89232d2bf1f', 'c10b68ab-7a7a-4e1c-9d9b-09ffc0ea3b03', '3840edfe-a987-4127-bf96-cc48530700cd', '67b4e872-4238-4ed7-b87d-cf82945b5623', '173d0d33-b241-44d4-8ae9-f6e805482dac', '399686aa-be33-487c-b7ba-b282d8350b7b', '5746c9d6-3910-4e15-825d-2dcb61ea83fe', '99a4ff73-fcd8-4b7a-9299-8af82881f974', '72a01bc6-12d5-422b-9609-84e75db9a884', '96b058e7-3175-4d82-aea7-f799a0b0c99f', 'be7cb997-b4fb-4ef8-a5d6-7c64ad1291f4', '421aaffb-c82e-40dc-8d38-9898d99cbc26', '3dc31f9e-9bd0-4161-ad17-d959c813fd11', '53e5e0fc-8a69-4cfa-aec6-b0ce3b9edf94', '8b726202-b708-4739-a163-254b6fb39313', '8f962a0f-1ccb-461d-93bf-5e81fccf824d', '94d83e6d-7bcc-4fdc-93ed-6ba68298148c', '796b0c45-9307-4939-a30e-a5f27e5b2684', '0eee3b1f-00ac-4e2b-a98b-49cf63946c2f', '311fb727-5e71-4e40-a012-555f9a446d05', '8cc7d87a-78fd-4d45-bc1e-553f3a3a27e8', '2ca6e65e-5871-42ee-90a1-734a0136144a', '522959a7-fb80-4765-a7d0-2d522dc28faf', '51de8d48-3261-4288-a3f5-380223cdcc58', '4413e19f-3837-484a-91e1-56b6099fc231', 'd4e0fcb8-5772-4bea-a791-5b37fea8015e', '4d267849-be47-46d4-9c69-937bd09af531', '6874cb22-bd36-4d4a-9b90-b0f3996c4e99', '1916fcc1-b219-4215-b9e8-81adee18369b', 'e44fce12-c169-4132-bb7e-0dcdcd159631', '0cf9cc8d-faa8-4c1d-b3e0-7d2521184620', 'eff59481-d6dd-4705-8ee3-2659ace39f4e', 'f0f5d3ac-a5dd-4606-ba00-f9f2f822257a', 'eb59557b-b43b-4090-863c-a213b86c1253', 'aa89ca11-798c-48c2-947f-c6338fe1f5ad', 'cb672671-6930-4df1-ab16-3b93cc1fb317', 'e000050a-f23d-4a9c-b7f2-7857422518ad', 'babf30ba-c930-417a-8276-a44be7de21f2', '9bec8178-d59c-4ddb-a098-fc7114384adc', 'd5fcf26d-c357-41ca-bf2e-83a9c934922e', '8903ce30-dd24-4855-b231-04ca7078df2d', '02d922f8-31b6-4e0c-89a5-4e0e04ccb799', 'e6ee949f-dadf-4368-a548-87e7b11536f6', 'e2493301-56ac-4688-9810-3cbf11fc2c08', '43991c07-3760-45e9-96b1-94bfcf18e295', '3fb19119-dede-4957-88d5-0d1d7511c599', 'fefa4b6b-fad6-43fe-acc5-b09a58b51743', 'feb4d014-91b8-4cf4-b063-3db5fa1c5ad9', '210f2266-261e-4c97-86b0-c28ed536644d', 'bdeb5530-7f62-4a41-b7b3-15488cf0b46c', 'f09020cd-9642-4ce1-97ff-7fca54906d2c', '2900465f-4868-483d-a1ae-428094f0f476', '7084ac95-5d06-4794-8df1-1df11413b78d', 'ff3c5d6f-f241-4157-90a7-67ac26f8f006', '4d2cec7e-d5f1-4281-86ae-658a8fa41fe6', '1fca1b8d-e135-4bae-a10a-385e383d9653', '2c8b3a6a-9da3-46e8-8a32-49cf12335cde', 'ae5ae087-cb5c-4120-9632-4d3a0b911514', '197e9820-7d3f-4da7-a8a0-fa2fa80f42a8', '7f557950-8930-44cb-ba42-8e825ed735c0', '46eacd24-af3b-4e66-87cb-e643bee894fd', '169e2182-995e-479a-aca3-85268160cc53', 'c2bf5a54-dbd2-44b3-bfc8-2dce20557952', 'b759cf1a-7b77-415a-bb27-8ccffd28d7db', 'a39d982f-e7c8-4351-a90d-3fcf4a988c19', '46f78e1c-4123-41b1-a188-667850b231e4', '95e34313-c0f2-49dc-a0fd-fe2fdeac2a6b', 'b91e28e0-c437-4aaa-8408-e8a02d4b506d', '5e6395d7-06ec-423d-b50a-2ac4f1437fd8', '7903d3c5-95f0-4eec-b649-4d1c80d792e2', '6f5d09ba-947f-4f3b-bdb0-d18c02f1afcb', '22329393-c166-40c7-8d3e-6816bba6e29c', 'e9aa3380-b6f3-479d-bae2-376aa5c8dfb7', '3f7d36a6-e87c-4dc9-99a8-365badff3e05', '5678f58d-46ca-4b83-a49b-4fcddc6fdc0d', 'b274549e-86cb-48f0-9558-2184cdcff436', '89971c5e-5588-4492-9b31-06f6208e7000', '5fba0e8f-e69e-47b0-a343-76cedfdae173', 'b4c68b68-50e8-4113-8957-ec1679cc8dfa', '378261e5-81b1-4c04-9bc1-7c7ae8e7dd3d', 'c10a1b6a-aff2-4960-8c91-329876776d69', '7bc562a3-bcbc-4a52-9861-952c38277fa9', 'af80cb3e-2dee-4fa9-8956-9597e1688ddc', 'e8eaf64a-2297-44f9-90fc-cdc9bca1baf7', '5e8df0be-24ac-4a94-bee0-584ee04a07b5', '064723d6-00e5-4674-a242-464a93ea1d28', 'a323a4db-f6b1-4e74-9798-19daa2fbba68', '29cf590e-00e1-4742-9133-e82a679242f3', '860b7eee-16e5-4f29-aba8-181826c9f72e', '385649eb-50a1-4c1a-9a89-f33886c478a2', '858ddf6e-1849-4aaa-916c-817d51358073', '2ba0a6dd-2694-4477-bc0d-8208353a46c7', '040e4431-86c9-46e8-aaaa-4eb33042f9f4', '6c9971cf-8294-4c26-a621-ba608f2e2210', '9769cee8-4227-40a7-baa0-5979a6781d9b', '3cdaf913-86e5-4c56-8aaa-0e84256a6eba', 'cdb7771c-7b75-4cdf-be63-f5fd83f960a2', 'ba5c502a-b8f9-4ab1-8ef6-f69a33850530', '488c602f-9606-4652-9f48-92368287c697', 'bf8b3a4d-431d-4bd2-9fa2-4744fef02e22', '8448b340-6747-400f-9b41-32da8e44d7ab', '1d1d2cfa-a75c-472a-ab77-20eb6d3c4633', 'c904dae3-f53d-4d7a-85d1-4c8a2dc2339f', '47b7a0e4-0891-41eb-bde4-2544d86127a3', 'b35e857b-8a56-484c-b789-851322371a6d', 'f374f5a2-2929-4541-95b1-0a31790de38c', 'ddc26d09-ccb7-49a3-9268-d5a658fb64a4', '28687620-f1c4-4a63-8d61-39378a106936', '19f09579-6c09-4218-bfac-987279dc4d4a', 'd1f0e4ea-fcf5-484b-bb3f-47d5a45c0bf7', '1c1804f2-7225-4aba-b442-2a10f37fc1c0', 'a85dff36-4c1c-4720-aedd-2dae93df43ad', 'daacadca-84e4-47b8-a21f-2b50f00098a8', 'aa423fec-29d4-44ba-a751-d519c6c6f195', '4c9f597e-3920-48ea-9891-4911e3655c45', 'ade3111b-5d39-4ec0-b156-8288d09231c8', 'fb99de55-c54c-4141-b09c-717eca8f7d0f', '3f298b84-d402-48ea-bdf8-1ece07f281c3', '9c50f1d8-2a93-47b1-a017-1ffc6daa7b4d', 'c08f65fd-1910-4485-b722-a53187e09429', '7b7bea4d-98f4-4992-8b48-c18223bbbad7', 'cf51c84f-ce2c-4b61-8dd1-546d231409b8', '0551505c-d424-47e0-9d56-78d0a51f8dc3', 'b6801e5c-2242-4cf8-9604-78109cd11e21', '9f882e90-e94a-4585-874b-7ec8d8744e64', 'ea63003d-77da-40ab-a201-b99e4c9a1d0c', '11a6b488-ba25-440e-ac49-9808e106fb5f', 'ad7a086b-10de-4ac3-8ffb-251730a044bc', 'b92777e7-13ae-477b-84e1-a8555d9507d2', 'a9149c15-aa45-4752-a3e8-d032e9f39f8f', 'c6508b93-09da-4085-9516-fca9ece1e576', 'b56e2469-8cb8-47ac-b81f-9406ff4c8fdb', '373055b9-80f9-4909-a8af-5d75ffe56cc9', 'd2dd5c42-65c0-4269-849c-ab323ff18287', '7b148d1d-7614-4c0f-9e5d-a2a1551d069b', '399d6809-9c5b-4deb-81d3-04febd01e004', '55d0e130-d99e-4bc7-9eb7-c82d43b8ca90', '318d3ab5-c08a-4a28-a639-d975903cfe4e', '5e8de72a-e8e6-4231-b369-a7224eab9c03', '0fb3202f-1083-4f0a-89b4-c6bc08d579eb', '33accbac-6ea2-4d9c-bd65-17aecc2d1788', '3569f895-c7d8-4b32-85a1-5aa4390589f0', '9d1d4098-e4c7-46b7-8bdf-cf309f8d73db', '0603eb0f-f10a-40c2-ac2c-c4bd46e26b6e', 'bb0eb5d2-e021-42d4-8e73-fb39903f0f78', '44954583-fd9f-42b5-9d07-69dde1f0ec07', '258c6347-b992-4b76-ad70-be74790730f1', '81056a62-676b-4617-8de8-d9649a13f48f', '003c8f23-db0e-48a1-a064-95b5e3563b21', '02f3da3c-def3-42df-aa07-ef380c40dd50', 'd02096d2-ea9d-4cfa-b6c4-f53497e08ac3', '9b9c22ab-29fd-4b5d-8682-36e0ce7b7f0b', '598ab5a2-ef47-49b5-8519-f3300ceb3d4e', '84c26bb3-042a-4fa8-8b31-c1b2b82167f9', 'faf13981-3b3f-409c-ad0f-51573019e6ab', '22537d25-2ba7-49b2-842c-ce26778bfae2', 'd0e95c2c-c657-4aa2-b384-a4d50f60be69', 'e1613049-4b33-4fa2-a78e-70c4aaaf9270', 'c2028001-fc3c-4e8b-923e-55b904d40229', '4eb26e33-e232-45bf-a404-282144abe044', 'ef79ab95-b4f9-499e-8ee4-81eb5ed67251', '49ab448a-566a-4f73-ac9b-69101d468221', '8af208aa-b377-4c33-8fc8-6090b77a7afa', '1dae6998-86f1-4362-a152-4554f89f0fb3', '4b8b9049-809b-4648-ac76-8fca482e7e86', '62814558-2fa4-4e3a-a9e2-cabb62a59e7a', '8cda2b59-82cc-4bb3-a3cf-f12cf5fccadc', 'ec4eb38c-d38e-4302-afd9-524b0ad73cb4', '8a4e1146-c83d-4922-a321-4aec8785aad4', '1b4a6022-38d6-4b62-89d5-f6eb68c60ee8', '84bc9749-fa80-4f05-9b35-5c2ff3045419', 'b11a6f74-2ba4-44a7-80b0-869cabc2f63d', '1196e8b4-564f-4999-87e2-ae9ac6fad282', '6e34e507-3af5-4ac7-bfb5-51d78d7b0928', '6b91f418-6741-4070-ad58-ec73886e303f', '18983c58-6531-4faa-9727-ea6c13176ee3', '755d1d58-68ca-4dde-adf0-851c2b476d3d', 'c1d6a069-305d-4689-a558-17669cf479e4', '5602e6bb-f08b-487a-b3d9-7630dbcdcdc2', '813715af-5676-4b8f-9fd1-a2663f35ef7d', '26924049-c3ea-4759-a2f1-0fdebd1119b4', '9b6aae76-6230-4c92-9b4c-9304e022e548', 'fdc3ec36-ea11-4266-8662-de8352cc52c7', '97e3e269-a605-453b-9dda-c19fea3fca48', '53ae2d8d-4a16-42d9-bdb4-1bc1023d664d', '3211127a-4ec9-4ebd-8907-dffbbc58ec55', '1fc04565-7418-4c10-9ac6-50647eedde5b', '306678d4-3658-453f-a8a3-7456018d6309', 'faa249ba-de7e-4d76-9474-8926644a2a30', '5c7593cf-4a7d-4cd4-bd29-cb734a9634ed', '4023419f-9887-4839-a1c1-b21a49331495', '11f0be9d-9f94-402f-bdea-87147473f981', 'd4b7e836-c7a8-4c98-874c-132496ed2971', 'eca5a70e-7107-445e-a627-e66a2fb6905b', 'd345402b-0b15-49cc-b579-a2c8f8f52a54', 'e37b0b51-218f-4ba8-b863-42444de3ba28', '8a397265-6fa1-44f8-acab-f87a52690dfc', 'bab522f7-2829-4f92-bc7f-e37a3b80ecd5', '459832e0-6ac8-4983-bafa-a5c51c478b1b', 'a4b3d48f-9a05-4008-ab74-becb3639b0e9', '4833ae87-3c70-4121-821f-d1cece4b69e8', '51d7afd2-fa78-4efc-88bb-d134300e00ad', 'eb1cc4a8-d4ca-4da8-81ea-2fe995597d12', 'e26e859f-a6fd-4f0a-8cb2-bf789f2ff3ee', 'b5541836-7150-45e8-9ed9-c30fb8bc5848', '6f83e38a-93b6-46ce-8326-b57bb2b00da1', 'f1ccd644-8e75-4cd2-a80c-f970b516e199', '2ee73550-24bd-4892-b976-527b6f6a5726', '0aa57ceb-5914-457e-a15c-dbcf345866cb', '7f5631b7-39a2-4406-8a5e-3118999bac67', '47896e44-9374-4b91-a256-cf7153bd15fe', 'd76ea38f-63f8-4557-8297-9e89d8386e2a', 'f92523f0-582c-477d-a495-a4f470e344fd', '2a7f199f-02bc-4f62-883f-9ca54aede574', '324107ce-d849-43e3-8952-4b676f556e90', '3691c5ad-7deb-459f-9a0d-9c9f858ac41f', 'e7f317ff-1164-47b1-a771-9839b24eddfa', 'a3c75ca5-32f9-4e19-b098-d4316e81cfb2', '187395f9-c570-4e47-afe9-06347a813112', '569fcdc1-8b6a-4712-a952-9a24aae208f4', 'b5b715fd-ae86-43da-a2e5-e6be17e808ec', 'd11b411a-1916-47a9-837b-c0abe563da0f', '08c81688-0120-40c0-859d-0fd37adbe64d', '55cff872-df09-4714-875d-a435f2577338', 'a6355884-037a-46e3-9763-d53f0db0dcd9', '23ab1723-68b3-4c19-aed3-5082111b3638', '2eaf5944-ba2c-4564-8343-ba833cc0433d', '89562bb4-4510-42e7-a479-110b2c0083ee', 'abc5a263-55c6-4d2a-9b3c-28be717663ec', '7139dbe6-cdbe-441f-9df7-0a0a5decd365', '89f14c69-044f-4959-ad97-1de41da6fbec', 'f538d79d-4d75-41a6-a2f8-615a87e355db', '3959f1c0-f30a-4438-be70-df7b7c3c24bc', '3bba1626-aa31-41d9-ab67-3322b2552fc4', '4a6e293e-2163-40a7-a364-3a5258deb92d', 'a29a1179-6908-4d3d-a04e-0ee51265417f', '5d941dee-007d-4ee2-bc50-e7f65c35bc88', 'c7dc091b-15ea-4ea4-a2b1-84d58e77d154', '3240b04f-e939-4437-a96f-a88b67ac19f6', 'bad23e12-7f9f-4695-acae-089d9d854c77', '997fdcc8-ab4f-4568-9818-152e7317ce5b', '5a4c858f-fffc-4d9f-bd80-a390acd0343e', '82957453-0665-40db-be0b-bddb7719031b', '6027ecb5-32db-438b-8f08-9fb6202805bb', 'cfccab1a-39fe-4c1d-806d-195e9369888d', '039f2de2-d2df-40d1-a5e8-5113bbde69bc', 'd7c1185c-d0f3-4cef-b2dc-83b175589cd9', 'd4716363-a7dd-4f2b-a78a-b6503cc32842', 'b63785a9-52fb-480a-a44a-e2216a86ce8c', '90dfd53e-4eb6-41f9-acce-f375ce7d8fe9', 'fa6e8c36-d4bb-4f26-a584-0bc7ba59ba1e', '2bb3396c-050f-4aaf-b0f0-37998fcc5a6a', '57af70e8-e148-4c14-bee8-122d6c720af6', '21046f3c-e0bd-415e-9be8-dd57ea7708bc', 'f3513c31-5688-404f-a0d6-2cfbbb808e3a', '597884b0-1750-4665-baa5-fbf431300d65', '4c7fc02b-ef0d-483e-b2dd-cc1f559252e9', 'ef36cecd-0101-4a56-8b75-1fccb434ae0c', 'ae44ff15-8d57-4d1f-9871-8ae0d5b806de', '5fca6739-f372-4114-b61a-a118bd810e49', 'b2fd1280-1f2a-4ed8-a2c7-c982594269ca', '07eadb7d-c147-43d1-a8f2-28dbe3fd8860', 'dd3faab7-d4d3-44db-89b7-13973c451e67', '1486189a-4ee9-44fb-80aa-9407f2b07150', 'af1fffe5-5acc-4d1c-bb81-2c6d87a760f3', '9b102876-af60-46c8-af70-0b7e6f6911da', 'f8b86bca-b6bc-4789-8a39-c88ecd4015ad', '7c69ecea-2493-4a1e-8da1-57596aed4051', 'd4702512-48aa-44a0-acac-3e6f1f8109e3', '247be6ec-cf48-4588-94d8-bf12c3cb2c8f', '15ae0bf9-2470-4f58-849e-6f43b09c2973', 'c45c18ef-4f86-45e4-8106-27b335db73d7', '202824d7-f6d3-46b0-8d11-0eba8b61c219', '1b9cf29a-ed52-436b-a8c7-0d7d69e6d63c', 'f2f693eb-0c05-4c8f-8e8c-4c0f84c74b06', 'f5de50d7-536b-4973-91fc-a0c371a87671', 'f663e8ba-35cb-46e7-b387-67b840d9f39d', '2e20e906-4745-400e-a3a3-cf54a0b1c893', '6cfe9246-8659-401f-98cc-e6318feae664', '1ef72e1a-dbee-4190-8321-812d51e7d686', 'ca1a97d3-54df-4c01-80f2-9a7ca7704315', 'c92d09b1-0228-4e65-aecc-bad1b5fa1d4b', '7f0c65ba-28da-4974-bb48-94b88bd73338', 'c224e0f8-8c5a-4c97-a51b-0a19474a30fb', 'b37c52d5-bc51-433d-b8de-3118b421d8e2', '7fe940e1-1771-472e-a840-2b542266a9a4', 'c7c6956e-0b9f-4b99-9e7b-5658f50c327a', 'de2e819b-4944-4c4c-9d05-deaef8aa3bd9', '507ca903-c5da-447c-97c7-6c7357558a4b', 'e565b9e1-ceb9-405f-b657-62a9f748ccb3', '6d0edc41-58bf-45ff-803f-b7d27ffc6ccd', '395bfb31-cd92-4a4c-9a3d-add53a752d4f', '5d5786e6-23a6-4d40-bdba-e86f1fd7118e', 'fb9ea444-03b1-4903-884e-9b26ff708732', 'ff9a7888-89a9-451c-b845-af7424351181', '8f9624dc-5d94-4c9e-a00b-31c6415d895a', '5e91cd98-0d63-4c86-b9f7-c8baa6458861', '7dfa18ea-e1e2-4470-bad0-01e4b5307feb', 'd8bf2357-de69-40d4-ad59-c063955f41f4', '4967c305-97e2-4eab-9476-b112de6781f3', '2db2da1f-4eaf-4e1d-8235-d9e6ef07b2c4', '03a21d40-95b2-4d4e-92f2-abf80a4c8238', '8b26b6dc-4d67-4a62-a514-50a6ac3c01f1', '802db244-ab90-4df3-bb29-7c1dd0165874', 'e4f00665-9b29-4ed4-a88b-5241656b12af', '3939a5f7-4995-4e90-b40b-d2bb4fc22b49', 'c79947a7-56c0-4cfc-ada7-3fd6e945f248', '835fb369-320c-4073-91dc-de0edf07e1bd', 'f297ff6c-1660-400d-ad4a-d1a1c62a1bc2', '1f68d81a-3492-48e0-b3a1-8586c63da175', 'ae4a9dfc-0e60-4667-9655-e39adcbca78f', 'd21acb7f-64df-4673-9ce2-96666e7265fe', '8d64bd4d-8595-4ac1-939f-5bb3425a226f', '16732e86-4b6f-4df0-835c-0dd361a8dc62', '609bde74-281b-4427-952c-0b662f6a8a69', 'b4389ef7-afbf-492f-b479-337bd74c32e9', '55fb8a3f-4fd9-4660-9f94-2b6c29fc81a9', '57d539b2-42f5-4022-a0fc-b57409b482df', 'ae746ed6-1c6f-4249-8019-e17160c3848c', '923e39ba-b2df-494d-8197-aac3653d3b72', 'e96017a9-115c-4cbf-bbd0-9383e859eef3', 'd2f6bcc6-db57-4113-b660-9cf80d62c9ca', 'd330220a-aad0-4492-b624-b349f1cea454', 'c4ae012a-c1b7-4082-918e-257731b145fa', '74546286-bd40-432f-9f9d-575961e4dd45', '21c2b2fb-994c-487a-a625-ea269d4579ee', 'a1cfd3c1-f997-4cfa-adb0-54292bbd6b85', 'b9cb0ad2-3d9e-418a-9f5d-6566b8ed93d0', '98290691-5388-4ecb-9337-47147293b5fd', 'f1652b5d-9b6a-4d3b-b1ec-6ff963b3b477', '92b46f74-a073-429c-98b8-9e584478916f', '2ad3c93b-5a22-4d08-9cc2-6bf708e6c44e', '1da769da-20a7-4d93-a7ef-eec854bf00a6', 'efb4108d-6703-410f-8319-b213b4b154ea', 'd15effe7-2994-4e62-8303-22322d1da30a', '85ad8b85-ab16-4604-89b0-d718a9e51f87', '1900ff4e-b699-4dfe-8c99-8b958b5b71a6', 'c15430de-4d31-41b5-bc2b-e633ce072178', '138d822e-c11e-4598-972b-fc4ff509a399', '615d3a8f-f61d-49e5-9167-70533c1da7f2', 'd918e7df-7faf-48fe-9566-443022b8728f', 'f883a04b-2c5d-4e44-9e44-8b18d9aa8447', '16a55782-1dee-40a9-a9d3-adfa7ad95736', '6de79c13-5fc7-4d73-b7bb-019300d6d9fd', 'd7787324-8d3f-435f-8492-5bfa8a0e706a', '2da1e433-48ba-4149-a3d9-db8c3cf24785', '47846124-cee4-46f5-b4e1-bbbc91e0f6a8', '84dda06b-7227-413b-b8b1-6001a7aa2f6f', '90c04f9d-13da-49c5-8f32-3cd84f76025a', '10b71b21-a450-4170-9381-5ea888c3292e', '3a4f3e85-40bc-4a0b-be1b-9d0ec303a670', '33756a5a-9c8c-44d7-aff2-87a320990d14', '1fad5ce9-0ccb-40f7-911c-c43b98e3d12d', '75188c8a-fe3d-41bb-a093-d4a6d8eb729d', 'ea554bf7-b674-4745-aaca-c1def3c4af2f', '476d461e-88ab-4bfb-96bd-48a9ef2f31be', '3c10dc35-240b-4441-aa3a-bdb3a94bbbe3', '4fd9ec0b-fcb7-47ab-bfad-a0cecfcc475b', '123840a7-15f9-4fb2-9d5a-832b2f505d00', '31dde70a-4087-4f17-b395-89d02471bb3e', 'f5f973eb-21b1-45d8-8414-5bc12e950d01', '11a30795-1b48-4632-bff1-3caa01df8ef2', 'ddca540e-8358-47b4-8743-c3a44899cf72', '5514d8da-782b-4703-a90c-660d9c6231a8', '42ffef23-edbe-4751-be47-6e0d0726a6ab', '9324d62a-6668-435e-b8a9-198c3df52ba7', 'd92143c3-fb51-4ba4-8638-487dab3d6247', 'f2ff94ef-de8e-4f73-a37e-0bcaa347d99d', 'f60255ab-a4a2-49c1-8540-f992cab2cf9a', '38d16303-6a5c-4ac1-a32f-5173f58aaf74', 'a71ea415-d11f-4d25-9e8c-4ff2cf61e748', 'ccc108a9-a4c0-4b3e-bc77-8742c677eb40', 'e8470c51-fb5a-4d80-b268-a76244afa1cd', '4859471e-9b38-4d03-8595-6b42694b2754', '8ba99e2d-48d8-4cc5-b4d2-d44b0e007f87', '5c52c71f-79bb-4118-af46-9b3e1d14126e', 'f738e93b-f70f-4cc8-99ce-c6d37707e6d0', '9d032bfb-af2c-4e91-8e6d-2c023959875c', 'debe73b1-f5fc-46ac-b402-eb425e9c5fd0', '6d29f750-02f6-4b0f-8a38-6204a6fc92b7', 'e4398ba5-a39d-489e-9bba-2b92f429d97a', 'ea2ff417-ccbd-47d6-bd1c-af1a551d8af2', 'aaf0380e-4ea0-42a0-b1b1-7793fef5e2fe', 'ac2cb032-eb2d-46ff-a3db-852a6c81cda4', '6bc11515-5d3a-4e3c-bcab-8384543daabb', 'ff2e3046-836f-4b2a-b207-2b6d3dfa42ce', '6c2d5d19-df8e-4eb6-b614-8707e8cdf9a0', '1d8da1c9-8e2f-4b73-9b88-8fac9df1d231', 'c800dbc6-4da4-43d2-912f-9ce9921fbbc4', '8bda2d72-5128-47a6-830f-836074ebb065', '9a280b19-547e-428b-8f65-3777d0fb091b', '2d44fc49-10b5-48b1-8cc5-0f6389c3c0ba', '3d6c6485-cf6e-4f37-8554-4e3ba314ead9', 'a42971ac-5460-4131-bb1f-252b3bdc6ef3', '065d9070-44be-40b5-bdba-d457298805ca', 'e682a038-2cef-4195-82bc-2db6a0bfc190', 'e2be2967-49f3-4b45-a9d6-697e5ba28c19', 'cc14bfda-e671-45cd-92f9-726e3af73a75', 'f6a2bbb2-41aa-4535-98ef-fa2bc6690553', '0af5f6ba-88a0-429e-ab34-eda507ab7b2b', 'b50a6077-62dd-4370-838d-4504e756ec76', '4e46ecc8-95f4-4e71-8546-7eff67aa9674', 'f9cc3e05-a4e0-47d8-8f85-c536944550dd', '76cf6789-64f3-440e-83d3-ea3a785a5f18', '1ff7f628-9d32-4da8-ad05-5157f21941b4', '819f5622-c337-499d-a5fd-09a6645a0bac', 'c20836de-ba7b-4848-b301-02f9ee73c2c4', '654a3768-44be-4085-97b3-b0c81c5b1e25', '6078246d-c76f-473b-aa53-aa9811d85202', 'e39365be-501f-4175-8b96-7bc21822038b', '92d48f92-0ab0-4295-b566-020041776d81', '3ef430ae-20ea-4b90-b4e4-7a147feb538e', 'f0eaf582-15e0-4f4c-ad11-a238903e3398', '72fac284-ba6a-49fd-9c64-360e7916882f', 'd27abf6f-ba69-499f-b16d-aaf4977976c9', 'b647b47c-7ce3-4d07-ac00-04f19aeb813f', 'c870e45e-e8cf-4428-94e8-a6e445da34c9', '711f7051-020c-480c-8eb1-3e134684a53a', '0eb793d1-1ba9-4bd7-8266-e25a5293b290', '370765bb-1578-4b2d-a525-9b68eacb5d3d', '2b7f2ba9-d96b-4929-afc3-aca3d6815ff4', 'a017a9e9-7486-466d-be7f-86204f271ac6', '049f12de-f88b-4053-8f33-b0d2de666717', '8f465387-28a7-484d-bf80-63678548df43', 'a253ed92-8cce-4781-a737-25713b56d0f6', '6dbf6270-19ad-44d8-adb5-2afacbef528c', 'b75162b1-6df6-4307-ae15-5cd999c3f293', '4317f253-649d-4453-a2e2-33cc114b8d20', '45570cc0-6b65-4920-9cc0-2c8cc404cfd8', '84d7db8a-7bf4-4c5a-97a1-92079a5d3827', '2060d9f8-f893-44bf-8b10-1147abdd770e', '20b67577-5a56-44a4-8cd7-ca222f3ffe1e', '98f5e175-ea55-4f9a-a8e3-57f5e72c2b99', 'bdfd2ff2-bdaf-4b2a-93f9-f6059c48543d', '0931c0f2-a490-44e7-94e9-e697a8f14a25', '0c415312-f2c7-4cb7-8b0c-610e6022cebe', 'e99e6197-c87d-4997-9c1a-a7a773cd16a6', '7cb530a2-6707-44d4-8230-f6350eec6633', '662fc59e-1650-4f10-af4e-f517069299af', '68301a90-9ca9-4e35-b650-89e40cd83381', 'bd31a7c5-dc58-491f-9d46-a7e33df609a0', '2af17dee-840b-48b7-97ce-58ee3c30c636', '6b750930-cb18-4f47-b973-b3ae83a5670d', 'ac5a81a2-b1e7-48f7-8660-11d2ee4a8155', 'b5f8fdeb-b540-4698-9e80-5465aaa457dd', '78722194-4664-4d77-8049-55ab29c52019', 'ea956d74-6d2d-4c13-92d8-bc6dbbfb99b6', '1ebb6bce-9e77-43dc-ac99-25f473684dea', '3164e884-dbd6-4997-bc1f-7d7021d18621', '05a75e45-2205-4c6b-8848-de79593dd773', 'ce158a73-2efe-4176-925b-7cb31ee29eb1', 'e8aac383-e775-4c8f-9e71-dc83f1fdba72', '25a69d4e-393b-434e-8c31-595d65fb5ffa', '7cbe17cd-26e6-4b22-824c-7f8847fb66be', '7237c5fd-7944-4cee-b348-f66a7e4dc37f', '1f865aa0-f115-4746-8930-a96f43a9c940', '8f52221b-96de-4b55-aa3b-c8d8be25f227', '03b8eda4-0eaa-4f28-bbde-b43937177567', '3c793dca-6bb1-4a7e-ae2e-0211e901783e', '1fa9bc1a-dce7-4053-89d5-b15d561a4684', '622e7fb9-11eb-4391-a4bf-de7ac21c1318', '3ed2d80f-9191-48e5-8cd6-762b474cbb46', '5c297f97-ab24-4b4d-9fc0-91731eb53c47']\n",
      "Embedding status: 401/1691 documents embedded\n",
      "Embedding status: 571/1691 documents embedded\n",
      "Embedding status: 741/1691 documents embedded\n",
      "Embedding status: 941/1691 documents embedded\n",
      "Embedding status: 1211/1691 documents embedded\n",
      "Embedding status: 1431/1691 documents embedded\n",
      "Embedding status: 1691/1691 documents embedded\n"
     ]
    }
   ],
   "source": [
    "# Let's add more content to the existing Collection\n",
    "article_url = \"https://www.gutenberg.org/files/48320/48320-0.txt\"\n",
    "loader = WebBaseLoader(article_url)\n",
    "documents = loader.load()\n",
    "\n",
    "# split it into chunks\n",
    "text_splitter = RecursiveCharacterTextSplitter(chunk_size=500, chunk_overlap=0)\n",
    "docs = text_splitter.split_documents(documents)\n",
    "\n",
    "await vs.aadd_documents(docs)\n",
    "\n",
    "await wait_for_ready(collection_name)"
   ]
  },
  {
   "cell_type": "markdown",
   "id": "5b225f3ae1e61de8",
   "metadata": {
    "collapsed": false
   },
   "source": [
    "We see results from both books. Note the `source` metadata"
   ]
  },
  {
   "cell_type": "code",
   "execution_count": 4,
   "id": "53700a9cd817cde4",
   "metadata": {
    "ExecuteTime": {
     "end_time": "2024-05-10T03:10:49.644196Z",
     "start_time": "2024-05-10T03:10:49.243453Z"
    },
    "collapsed": false
   },
   "outputs": [
    {
     "name": "stdout",
     "output_type": "stream",
     "text": [
      "of astronomy, and its kindred sciences, with the various arts dependent\r\n",
      "on them. In none are computations more operose than those which\r\n",
      "astronomy in particular requires;--in none are preparatory facilities\r\n",
      "more needful;--in none is error more detrimental. The practical\r\n",
      "astronomer is interrupted in his pursuit, and diverted from his task of\r\n",
      "observation by the irksome labours of computation, or his diligence in\r\n",
      "observing becomes ineffectual for want of yet greater industry of  ->  {'source': 'https://www.gutenberg.org/cache/epub/71292/pg71292.txt'} \n",
      "====\n",
      "\n",
      "possess all knowledge which is likely to be useful to him in his work,\r\n",
      "and this I have endeavored in my case to do. If I remember rightly, you\r\n",
      "on one occasion, in the early days of our friendship, defined my limits\r\n",
      "in a very precise fashion.”\r\n",
      "\r\n",
      "“Yes,” I answered, laughing. “It was a singular document. Philosophy,\r\n",
      "astronomy, and politics were marked at zero, I remember. Botany\r\n",
      "variable, geology profound as regards the mud-stains from any region  ->  {'source': 'https://www.gutenberg.org/files/48320/48320-0.txt'} \n",
      "====\n",
      "\n",
      "easily admitted, that an assembly of eminent naturalists and physicians,\r\n",
      "with a sprinkling of astronomers, and one or two abstract\r\n",
      "mathematicians, were not precisely the persons best qualified to\r\n",
      "appreciate such an instrument of mechanical investigation as we have\r\n",
      "here described. We shall not therefore be understood as intending the\r\n",
      "slightest disrespect for these distinguished persons, when we express\r\n",
      "our regret, that a discovery of such paramount practical value, in a  ->  {'source': 'https://www.gutenberg.org/cache/epub/71292/pg71292.txt'} \n",
      "====\n",
      "\n"
     ]
    }
   ],
   "source": [
    "query = \"Was he interested in astronomy?\"\n",
    "docs = await vs.asearch(query, search_type=\"similarity\", k=3)\n",
    "\n",
    "for d in docs:\n",
    "    print(d.page_content, \" -> \", d.metadata, \"\\n====\\n\")"
   ]
  },
  {
   "cell_type": "markdown",
   "id": "7b81d7cae351a1ec",
   "metadata": {
    "collapsed": false
   },
   "source": [
    "Now, we set up a filter"
   ]
  },
  {
   "cell_type": "code",
   "execution_count": 5,
   "id": "8f1bdcba03979d22",
   "metadata": {
    "ExecuteTime": {
     "end_time": "2024-05-10T03:10:53.663003Z",
     "start_time": "2024-05-10T03:10:53.441327Z"
    },
    "collapsed": false
   },
   "outputs": [
    {
     "name": "stdout",
     "output_type": "stream",
     "text": [
      "possess all knowledge which is likely to be useful to him in his work,\r\n",
      "and this I have endeavored in my case to do. If I remember rightly, you\r\n",
      "on one occasion, in the early days of our friendship, defined my limits\r\n",
      "in a very precise fashion.”\r\n",
      "\r\n",
      "“Yes,” I answered, laughing. “It was a singular document. Philosophy,\r\n",
      "astronomy, and politics were marked at zero, I remember. Botany\r\n",
      "variable, geology profound as regards the mud-stains from any region  ->  {'source': 'https://www.gutenberg.org/files/48320/48320-0.txt'} \n",
      "====\n",
      "\n",
      "the evening than in the daylight, for he said that he hated to be\r\n",
      "conspicuous. Very retiring and gentlemanly he was. Even his voice was\r\n",
      "gentle. He’d had the quinsy and swollen glands when he was young, he\r\n",
      "told me, and it had left him with a weak throat, and a hesitating,\r\n",
      "whispering fashion of speech. He was always well dressed, very neat and\r\n",
      "plain, but his eyes were weak, just as mine are, and he wore tinted\r\n",
      "glasses against the glare.”  ->  {'source': 'https://www.gutenberg.org/files/48320/48320-0.txt'} \n",
      "====\n",
      "\n",
      "which was characteristic of him. “It is perhaps less suggestive than\r\n",
      "it might have been,” he remarked, “and yet there are a few inferences\r\n",
      "which are very distinct, and a few others which represent at least a\r\n",
      "strong balance of probability. That the man was highly intellectual\r\n",
      "is of course obvious upon the face of it, and also that he was fairly\r\n",
      "well-to-do within the last three years, although he has now fallen upon\r\n",
      "evil days. He had foresight, but has less now than formerly, pointing  ->  {'source': 'https://www.gutenberg.org/files/48320/48320-0.txt'} \n",
      "====\n",
      "\n"
     ]
    }
   ],
   "source": [
    "filter = {\n",
    "    \"where\": {\n",
    "        \"jsonpath\": (\n",
    "            \"$[*] ? (@.source == 'https://www.gutenberg.org/files/48320/48320-0.txt')\"\n",
    "        )\n",
    "    },\n",
    "}\n",
    "\n",
    "docs = await vs.asearch(query, search_type=\"similarity\", metadata=filter, k=3)\n",
    "\n",
    "for d in docs:\n",
    "    print(d.page_content, \" -> \", d.metadata, \"\\n====\\n\")"
   ]
  },
  {
   "cell_type": "code",
   "execution_count": null,
   "id": "96132aa6",
   "metadata": {},
   "outputs": [],
   "source": []
  }
 ],
 "metadata": {
  "kernelspec": {
   "display_name": "Python 3 (ipykernel)",
   "language": "python",
   "name": "python3"
  },
  "language_info": {
   "codemirror_mode": {
    "name": "ipython",
    "version": 3
   },
   "file_extension": ".py",
   "mimetype": "text/x-python",
   "name": "python",
   "nbconvert_exporter": "python",
   "pygments_lexer": "ipython3",
   "version": "3.10.12"
  }
 },
 "nbformat": 4,
 "nbformat_minor": 5
}
