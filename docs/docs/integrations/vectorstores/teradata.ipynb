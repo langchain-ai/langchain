{
 "cells": [
  {
   "cell_type": "markdown",
   "id": "57f5eacb",
   "metadata": {},
   "source": [
    "# TeradataVectorStore\n",
    ">Teradata Vector Store is designed to store, index, and search high-dimensional vector embeddings efficiently within your enterprise data platform.\n",
    "\n",
    "This notebook shows you how to quickly get up and running with TeradataVectorStore for your semantic search and RAG applications. Whether you're new to Teradata or looking to add AI capabilities to your existing data workflows, this guide will walk you through everything you need to know.\n",
    "\n",
    "**What makes TeradataVectorStore special?**\n",
    "- Built on enterprise-grade Teradata Vantage platform. \n",
    "- Seamlessly integrates with your existing data warehouse.\n",
    "- Supports multiple vector search algorithms for different use cases.\n",
    "- Scales from prototype to production workloads."
   ]
  },
  {
   "cell_type": "markdown",
   "id": "2601c115",
   "metadata": {},
   "source": [
    "## Quick Setup\n",
    "\n",
    "Before we dive in, you'll need to install the necessary packages. TeradataVectorStore is part of the `langchain-teradata` package, which also includes other Teradata integrations for LangChain.\n",
    "\n",
    "**New to Teradata?** Refer to :\n",
    "- [Teradata VantageCloud Lake](https://www.teradata.com/platform/vantagecloud)\n",
    "- Get started with [VantageCloud Lake](https://docs.teradata.com/r/Lake-Getting-Started-with-VantageCloud-Lake/)\n"
   ]
  },
  {
   "cell_type": "code",
   "execution_count": null,
   "id": "c4e234b6",
   "metadata": {},
   "outputs": [],
   "source": [
    "!pip install langchain-teradata"
   ]
  },
  {
   "cell_type": "markdown",
   "id": "7e332c64",
   "metadata": {},
   "source": [
    "## Credentials\n",
    "\n",
    "**Connecting to Teradata:** The `create_context()` function establishes your connection to the Teradata Vantage system. This is how teradataml (and by extension, TeradataVectorStore) knows which database to connect to and authenticate with.\n",
    "\n",
    "**What you'll need:**\n",
    "- **hostname**: Your Teradata system's address\n",
    "- **username/password**: Your database credentials  \n",
    "- **base_url**: API endpoint for your Teradata system\n",
    "- **pat_token**: Personal Access Token for API authentication\n",
    "- **pem_file**: SSL certificate file for secure connections\n",
    "\n",
    "**For more information** Check out the [Teradata Vector Store User Guide](https://docs.teradata.com/r/Enterprise_IntelliFlex_VMware/Teradata-Vector-Store-User-Guide/Setting-up-Vector-Store/Required-Privileges) for detailed setup instructions.\n",
    "\n",
    "**For information related to teradataml** Refer to [TeradataML User Guide](https://docs.teradata.com/r/Enterprise_IntelliFlex_VMware/Teradata-Package-for-Python-User-Guide/Introduction-to-Teradata-Package-for-Python) "
   ]
  },
  {
   "cell_type": "code",
   "execution_count": null,
   "id": "3136d8ed",
   "metadata": {},
   "outputs": [],
   "source": [
    "import os\n",
    "from getpass import getpass\n",
    "from teradataml import create_context\n",
    "\n",
    "os.environ['TD_HOST'] = getpass(prompt='hostname: ')\n",
    "os.environ['TD_USERNAME'] = getpass(prompt='username: ')\n",
    "os.environ['TD_PASSWORD'] = getpass(prompt='password: ')\n",
    "os.environ['TD_BASE_URL'] = getpass(prompt='base_url: ')\n",
    "os.environ['TD_PAT_TOKEN'] = getpass(prompt='pat_token: ')\n",
    "os.environ['TD_PEM_FILE'] = getpass(prompt='pem_file: ')\n",
    "create_context()"
   ]
  },
  {
   "cell_type": "markdown",
   "id": "aa9498d6",
   "metadata": {},
   "source": [
    "***Initialize your embeddings***"
   ]
  },
  {
   "cell_type": "markdown",
   "id": "5ef9e24f",
   "metadata": {},
   "source": [
    "**TeradataVectorStore supports three types of embedding objects:**\n",
    "1. **String identifiers** (e.g., \"amazon.titan-embed-text-v1\")\n",
    "2. **TeradataAI objects**\n",
    "3. **LangChain embedding objects** - LangChain-compatible embedding model objects"
   ]
  },
  {
   "cell_type": "code",
   "execution_count": null,
   "id": "0e268a43",
   "metadata": {},
   "outputs": [],
   "source": [
    "# Initialize embeddings\n",
    "from langchain_aws import BedrockEmbeddings\n",
    "embeddings = BedrockEmbeddings(model_id=\"amazon.titan-embed-text-v1\", region_name=\"us-west-2\")"
   ]
  },
  {
   "cell_type": "markdown",
   "id": "9008b8f2",
   "metadata": {},
   "source": [
    "## Create Your First Vector Store\n",
    "\n",
    "Let's start with some sample Documents and create a vector store. The `from_documents()` method is one of the most straightforward ways to get started - just pass in your documents and TeradataVectorStore handles the rest.\n",
    "\n",
    "**What happens under the hood:**\n",
    "- Your documents get converted to a Teradataml Dataframe and passed to the vector store\n",
    "- The embeddings are generated and stored for each Document object\n",
    "- Indexes are automatically created for fast similarity search and chat operations\n"
   ]
  },
  {
   "cell_type": "code",
   "execution_count": null,
   "id": "a2f00ff6",
   "metadata": {},
   "outputs": [],
   "source": [
    "from langchain_teradata import TeradataVectorStore\n",
    "from langchain_core.documents import Document\n",
    "# Sample documents about different topics\n",
    "docs = [\n",
    "    Document(page_content=\"Teradata provides scalable data analytics solutions for enterprises.\"),\n",
    "    Document(page_content=\"Machine learning models require high-quality training data to perform well.\"),\n",
    "    Document(page_content=\"Vector databases enable semantic search capabilities beyond keyword matching.\"),\n",
    "    Document(page_content=\"LangChain simplifies building applications with large language models.\"),\n",
    "    Document(page_content=\"Data warehousing has evolved to support real-time analytics and AI workloads.\")\n",
    "]\n",
    "\n",
    "# Create the vector store\n",
    "vs = TeradataVectorStore.from_documents(\n",
    "    name=\"my_knowledge_base\",\n",
    "    documents=docs,\n",
    "    embedding=embeddings\n",
    ")\n",
    "\n",
    "print(\"Vector store created successfully!\")"
   ]
  },
  {
   "cell_type": "markdown",
   "id": "30f6355c",
   "metadata": {},
   "source": [
    "After creating your vector store, it's always good practice to verify that everything was set up correctly. TeradataVectorStore provides helpful methods to monitor your operations and understand what's happening behind the scenes.\n",
    "\n",
    "**Why check status?**\n",
    "- **Operation tracking**: See exactly which stage your vector store creation is at.\n",
    "- **Troubleshooting**: Quickly identify if something went wrong during setup.\n",
    "- **Progress monitoring**: For large datasets, track embedding generation progress.\n",
    "- **Validation**: Confirm your vector store is ready for queries.\n"
   ]
  },
  {
   "cell_type": "code",
   "execution_count": null,
   "id": "977b59d7",
   "metadata": {},
   "outputs": [],
   "source": [
    "# Check the status of the store.\n",
    "vs.status()"
   ]
  },
  {
   "cell_type": "markdown",
   "id": "f4b0481c",
   "metadata": {},
   "source": [
    "Want to see what's actually inside your vector store? The `get_details()` method gives you a comprehensive overview of your setup - think of it as your vector store's \"dashboard.\"\n",
    "\n",
    "**What you'll see:**\n",
    "- **Object inventory**: Number of tables or documents you have added.\n",
    "- **Search parameters**: Current algorithm settings (HNSW, K-means, etc.)\n",
    "- **Configuration details**: Embedding dimensions, distance metrics, and indexing options.\n",
    "- **Performance settings**: Top-k values, similarity thresholds, and other query parameters."
   ]
  },
  {
   "cell_type": "code",
   "execution_count": null,
   "id": "bd9e37ca",
   "metadata": {},
   "outputs": [],
   "source": [
    "vs.get_details()"
   ]
  },
  {
   "cell_type": "markdown",
   "id": "31072bbd",
   "metadata": {},
   "source": [
    "## Search and Discovery\n",
    "\n",
    "Now let's search for information in our vector store. Unlike traditional keyword search, vector search understands the meaning behind your questions. Ask about \"AI applications\" and it might return results about \"machine learning models\" because it understands these concepts are related.\n",
    "\n",
    "**How similarity search works:**\n",
    "- Your question gets converted to a vector embedding (just like your documents). \n",
    "- TeradataVectorStore calculates similarity scores between your question and stored documents.\n",
    "- The most relevant results are returned, ranked by similarity."
   ]
  },
  {
   "cell_type": "code",
   "execution_count": null,
   "id": "f01c0aa1",
   "metadata": {},
   "outputs": [],
   "source": [
    "# Ask a question\n",
    "question = \"What are vector databases?\"\n",
    "results = vs.similarity_search(question=question, return_type = \"json\")\n",
    "\n",
    "print(\"Found relevant information:\")\n",
    "for result in results.similar_objects:\n",
    "    print(f\" {result}\")"
   ]
  },
  {
   "cell_type": "markdown",
   "id": "4c1a99a1",
   "metadata": {},
   "source": [
    "## Get Intelligent Responses\n",
    "\n",
    "The `ask()` combines the power of vector search with language model generation. Instead of just returning raw document chunks, you get coherent, contextual answers.\n",
    "\n",
    "**The two-step process:**\n",
    "1. **Retrieval**: Find the most relevant documents from your vector store.\n",
    "2. **Generation**: Use those documents as context to generate a natural language response.\n",
    "\n",
    "**Why this is powerful:** Your AI responses are grounded in your actual data, reducing hallucinations and ensuring accuracy. It's like having a knowledgeable assistant who actually read your company's documents!"
   ]
  },
  {
   "cell_type": "code",
   "execution_count": null,
   "id": "e1bae69a",
   "metadata": {},
   "outputs": [],
   "source": [
    "# Get a comprehensive answer\n",
    "response = vs.ask(question=\"What are the benefits of using vector databases?\")\n",
    "print(\"AI Response:\")\n",
    "print(response)"
   ]
  },
  {
   "cell_type": "markdown",
   "id": "3da4a15e",
   "metadata": {},
   "source": [
    "## Adding More Knowledge\n",
    "\n",
    "One of the best features of TeradataVectorStore is how easy it is to expand your knowledge base. As your business grows and you have more documents, you can continuously add them without rebuilding everything from scratch.\n",
    "\n",
    "**Real-world scenarios:**\n",
    "- Add new product documentation as it's created.\n",
    "- Include fresh research papers or industry reports.\n",
    "- Incorporate customer feedback and support documents.\n",
    "- Update with latest policy or procedure changes.\n",
    "\n",
    "**Enterprise advantage:** Since everything runs on Teradata, you can easily add data from your existing tables, data warehouses, or real-time feeds without complex data movement."
   ]
  },
  {
   "cell_type": "code",
   "execution_count": null,
   "id": "7b47f00b",
   "metadata": {},
   "outputs": [],
   "source": [
    "# Add more documents\n",
    "additional_docs = [\n",
    "    Document(page_content=\"Retrieval-augmented generation combines the power of search with language models.\"),\n",
    "    Document(page_content=\"Teradata's vector capabilities support both structured and unstructured data analysis.\")\n",
    "]\n",
    "\n",
    "vs.add_documents(documents=additional_docs)\n",
    "print(\"Added more knowledge to the vector store!\")"
   ]
  },
  {
   "cell_type": "code",
   "execution_count": null,
   "id": "8dd80c86",
   "metadata": {},
   "outputs": [],
   "source": [
    "# Check the status of the new store.\n",
    "vs.status()"
   ]
  },
  {
   "cell_type": "markdown",
   "id": "f36b5042",
   "metadata": {},
   "source": [
    "## Building RAG Applications\n",
    "\n",
    "Retrieval-Augmented Generation (RAG) is the technique that powers most modern AI assistants and chatbots. TeradataVectorStore integrates seamlessly with LangChain to make building RAG applications straightforward.\n",
    "\n",
    "**What makes a good RAG application:**\n",
    "- **Relevant retrieval**: Your vector store finds the right information.\n",
    "- **Contextual generation**: The language model uses that information effectively.\n",
    "- **Source transparency**: Users can see where answers come from.\n",
    "\n",
    "\n",
    "**How it works with TeradataVectorStore**: \n",
    "- You can use your vector store as a retriever to get the most relevant documents, then pass those documents to a RAG chain within LangChain workflows. \n",
    "- This gives you the flexibility to build custom pipelines while leveraging Teradata's powerful vector search capabilities.\n"
   ]
  },
  {
   "cell_type": "code",
   "execution_count": null,
   "id": "ce7ca42e",
   "metadata": {},
   "outputs": [],
   "source": [
    "# Create a retriever for your RAG pipeline\n",
    "retriever = vs.as_retriever(search_type=\"similarity\")\n",
    "\n",
    "# Test the retriever\n",
    "retrieved_docs = retriever.invoke(\"Tell me about Teradata's capabilities\")\n",
    "\n",
    "print(\"Retrieved documents for RAG:\")\n",
    "for doc in retrieved_docs:\n",
    "    print(f\"- {doc.page_content}\")"
   ]
  },
  {
   "cell_type": "markdown",
   "id": "1002da2f",
   "metadata": {},
   "source": [
    "## Langchain Pipeline Example\n",
    "Now let's build a complete RAG pipeline that combines your TeradataVectorStore retriever with a language model. This demonstrates the full power of RAG - retrieving relevant information from your vector store and using it to generate informed responses.\n",
    "\n",
    "**What's happening in this pipeline:**\n",
    "\n",
    "- Retrieval: Your vector store finds the most relevant documents for the question.\n",
    "- Context preparation: Those documents become context for the language model.\n",
    "- Generation: The LM generates an answer based on your actual data.\n",
    "- Output parsing: Clean, formatted response ready for your application.\n",
    "\n",
    "\n",
    "**Real-world applications:**\n",
    "\n",
    "- Customer support: Answer questions using your product documentation.\n",
    "- Research assistance: Query your organization's knowledge repositories.\n",
    "- Compliance: Ensure responses are based on approved company information."
   ]
  },
  {
   "cell_type": "code",
   "execution_count": null,
   "id": "ca5ada9c",
   "metadata": {},
   "outputs": [],
   "source": [
    "from langchain_core.runnables import RunnablePassthrough\n",
    "from langchain_core.prompts import PromptTemplate\n",
    "from langchain_core.output_parsers import StrOutputParser\n",
    "from langchain.chat_models import init_chat_model\n",
    "\n",
    "#Example: Simple RAG chain\n",
    "# Initialize the chat model\n",
    "llm = init_chat_model(\"anthropic.claude-3-5-sonnet-20240620-v1:0\", \n",
    "                      model_provider=\"bedrock_converse\", \n",
    "                      region_name=\"<ENTER REGION>\",\n",
    "                      aws_access_key_id = \"<ENTER AWS ACCESS KEY>\" ,\n",
    "                      aws_secret_access_key = \"<ENTER AWS SECRET KEY>\"\n",
    "                      )\n",
    "\n",
    "\n",
    "# Create a prompt template for the LLM to format its response using retrieved context\n",
    "prompt = PromptTemplate.from_template(\n",
    "    \"Use the following context to answer the question.\\nContext:\\n{context}\\n\\nQuestion: {question}\\nAnswer:\"\n",
    ")\n",
    "\n",
    "# Build the RAG chain: retrieve context, format prompt, generate answer, and parse output\n",
    "rag_chain = (\n",
    "    {\n",
    "        \"context\": retriever,\n",
    "        \"question\": RunnablePassthrough()\n",
    "    }\n",
    "    | prompt\n",
    "    | llm\n",
    "    | StrOutputParser()\n",
    ")\n",
    "\n",
    "# Invoke the RAG chain with a sample question and print the response\n",
    "response = rag_chain.invoke(\"Benefits of Vector Store\")\n",
    "print(response)"
   ]
  },
  {
   "cell_type": "markdown",
   "id": "c1a6bee9",
   "metadata": {},
   "source": [
    "## Working with Different Data Types\n",
    "\n",
    "TeradataVectorStore's flexibility really shines when working with different types of data sources. Depending on what you're starting with, you can choose the most appropriate method.\n",
    "\n",
    "**Choose your starting point:**\n",
    "- **Have PDF documents?** Use `from_documents()` with file paths\n",
    "- **Working with database tables?** Use `from_datasets()` with DataFrames  \n",
    "- **Already have embeddings?** Use `from_embeddings()` to import them directly\n",
    "\n",
    "\n",
    "### From PDF Files\n",
    "```python\n",
    "# File-based vector store from PDFs\n",
    "pdf_vs = TeradataVectorStore.from_documents(\n",
    "    name=\"pdf_knowledge\",\n",
    "    documents=\"path/to/your/document.pdf\",  # or list of PDF paths\n",
    "    embedding=embeddings\n",
    ")\n",
    "```\n",
    "\n",
    "### From Database Tables\n",
    "```python\n",
    "# Content-based from existing tables\n",
    "from teradataml import DataFrame\n",
    "table_data = DataFrame('your_table_name')\n",
    "\n",
    "table_vs = TeradataVectorStore.from_datasets(\n",
    "    name=\"table_knowledge\", \n",
    "    datasets=table_data,\n",
    "    data_columns=[\"text_column\"],\n",
    "    embedding=embeddings\n",
    ")\n",
    "```\n",
    "\n",
    "### From Pre-computed Embeddings\n",
    "```python\n",
    "# If you already have embeddings\n",
    "embedding_vs = TeradataVectorStore.from_embeddings(\n",
    "    name=\"embedding_store\",\n",
    "    data=your_embedding_data,\n",
    "    data_columns=\"embedding_column\",\n",
    "    embeddings_dims=1536\n",
    ")\n",
    "```\n",
    "\n",
    "***Note*** <br />\n",
    "When working with tables (and embedded tables), the `data_columns` parameter is mandatory. This tells TeradataVectorStore exactly which columns contain the text content you want to convert into embeddings. Think of it as pointing the service to the right information\n",
    "\n",
    "For example, if your table has columns like id, title, description, and category, you'd specify data_columns=[\"description\"] to embed only the description text, or data_columns=[\"title\", \"description\"] to combine both fields.\n",
    "\n",
    "Below is a small example of loading sample table with `teradatagenai` and creating a content based store out of it. For the data_columns we will pass the \"rev_text\" column which will be used to generate the embeddings."
   ]
  },
  {
   "cell_type": "code",
   "execution_count": null,
   "id": "4c0df015",
   "metadata": {},
   "outputs": [],
   "source": [
    "from teradatagenai import load_data\n",
    "\n",
    "# Load sample data into Teradata\n",
    "load_data(\"byom\", \"amazon_reviews_25\")\n",
    "\n",
    "# Create a vector store from the Teradata table\n",
    "td_vs = TeradataVectorStore.from_datasets(\n",
    "    name=\"table_store_amazon\",\n",
    "    data=\"amazon_reviews_25\",\n",
    "    data_columns=\"rev_text\",\n",
    "    embedding=embeddings)"
   ]
  },
  {
   "cell_type": "code",
   "execution_count": null,
   "id": "8d3c61be",
   "metadata": {},
   "outputs": [],
   "source": [
    "# Check the status of the new store\n",
    "td_vs.status()"
   ]
  },
  {
   "cell_type": "markdown",
   "id": "4185a52d",
   "metadata": {},
   "source": [
    "## Next Steps\n",
    "\n",
    "Congratulations! You've just built your first AI-powered search and RAG system with TeradataVectorStore. You're now ready to scale this up to handle real enterprise workloads.\n",
    "\n",
    "**Ready to go deeper?**\n",
    "- **Advanced search algorithms**: Try HNSW or K-means clustering for large-scale deployments\n",
    "- **Custom embedding models**: Experiment with domain-specific embeddings for your industry\n",
    "- **Real-time updates**: Set up pipelines to automatically update your vector store as new data arrives\n",
    "\n",
    "**Production considerations:**\n",
    "- **Security**: Leverage Teradata's enterprise security features\n",
    "- **Monitoring**: Use Teradata's built-in performance monitoring\n",
    "\n",
    "**Learn more:**\n",
    "- [LangChain RAG Tutorials](https://python.langchain.com/docs/tutorials/rag) - Deep dive into RAG patterns\n",
    "- [TeradataVectorStore Workflows](https://github.com/Teradata/langchain-teradata) - Complete examples and use cases\n",
    "- [VantageCloud Lake](https://www.teradata.com/platform/vantagecloud) - Cloud-native analytics platform"
   ]
  }
 ],
 "metadata": {
  "kernelspec": {
   "display_name": "Python 3",
   "language": "python",
   "name": "python3"
  },
  "language_info": {
   "codemirror_mode": {
    "name": "ipython",
    "version": 3
   },
   "file_extension": ".py",
   "mimetype": "text/x-python",
   "name": "python",
   "nbconvert_exporter": "python",
   "pygments_lexer": "ipython3",
   "version": "3.13.7"
  }
 },
 "nbformat": 4,
 "nbformat_minor": 5
}
