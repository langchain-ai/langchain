{
 "cells": [
  {
   "cell_type": "markdown",
   "id": "103300e23d6a3c6b",
   "metadata": {},
   "source": ""
  },
  {
   "metadata": {},
   "cell_type": "markdown",
   "source": [
    "# openGauss Vector Store for LangChain\n",
    "\n",
    "[openGauss](https://opengauss.org/en/) is a high-performance relational database with native vector storage and retrieval capabilities. This integration enables ACID-compliant vector operations within LangChain applications, combining traditional SQL functionality with modern AI-driven similarity search.\n",
    "\n",
    "## Features\n",
    "- **Hybrid SQL/Vector Operations**: Execute vector searches alongside SQL queries\n",
    "- **Enterprise-Grade Reliability**: Full ACID compliance and connection pooling\n",
    "- **Multiple Index Types**: HNSW and IVFFLAT vector indexing support\n",
    "- **Dimension Validation**: Type-safe constraints up to 2000 dimensions\n",
    "- **Metadata Filtering**: Combine vector similarity with SQL-style WHERE clauses\n",
    "\n",
    "## Installation\n",
    "```bash\n",
    "pip install langchain-opengauss\n",
    "```\n",
    "\n",
    "**System Requirements**:\n",
    "- openGauss ≥ 7.0.0\n",
    "- Python ≥ 3.8\n",
    "- psycopg2-binary\n",
    "\n",
    "## Quick Start\n",
    "\n",
    "### 1. Launch openGauss Container\n",
    "```bash\n",
    "docker run --name opengauss \\\n",
    "  --privileged=true \\\n",
    "  -d \\\n",
    "  -e GS_PASSWORD='MyStrongPass@123' \\\n",
    "  -p 8888:5432 \\\n",
    "  opengauss/opengauss-server:latest\n",
    "```\n",
    "### 2. Basic Vector Operations"
   ],
   "id": "1c6ad3ea5d95af6e"
  },
  {
   "cell_type": "code",
   "execution_count": null,
   "id": "de692baf4dd962ed",
   "metadata": {},
   "outputs": [],
   "source": [
    "from langchain_community.embeddings import HuggingFaceInferenceAPIEmbeddings\n",
    "from langchain_core.documents import Document\n",
    "from langchain_opengauss import OpenGauss, OpenGaussSettings\n",
    "\n",
    "# Configure with schema validation\n",
    "config = OpenGaussSettings(\n",
    "    table_name=\"test_langchain\",\n",
    "    embedding_dimension=384,\n",
    "    index_type=\"HNSW\",\n",
    "    distance_strategy=\"COSINE\",\n",
    ")\n",
    "\n",
    "embeddings = HuggingFaceInferenceAPIEmbeddings(\n",
    "    api_key=\"xxxx\", model_name=\"sentence-transformers/all-MiniLM-L6-v2\"\n",
    ")\n",
    "vector_store = OpenGauss(embedding=embeddings, config=config)\n",
    "\n",
    "# Insert documents\n",
    "docs = [\n",
    "    Document(page_content=\"Quantum computing basics\", metadata={\"field\": \"physics\"}),\n",
    "    Document(page_content=\"Neural network architectures\", metadata={\"field\": \"ai\"}),\n",
    "]\n",
    "vector_store.add_documents(docs)\n",
    "\n",
    "# Vector similarity search\n",
    "results = vector_store.similarity_search(\"deep learning models\", k=1)\n",
    "print(f\"Found {len(results)} relevant documents\")"
   ]
  },
  {
   "cell_type": "markdown",
   "id": "e516177d921c2ac",
   "metadata": {},
   "source": [
    "## Configuration\n",
    "\n",
    "### Connection Settings\n",
    "| Parameter         | Default        | Description                           |\n",
    "|-------------------|----------------|---------------------------------------|\n",
    "| `host`            | localhost      | Database server address               |\n",
    "| `port`            | 8888           | Database connection port              |\n",
    "| `user`            | gaussdb        | Database username                     |\n",
    "| `password`        | -              | Complex password string               |\n",
    "| `database`        | postgres       | Default database name                 |\n",
    "| `min_connections` | 1              | Connection pool minimum size          |\n",
    "| `max_connections` | 5              | Connection pool maximum size          |\n",
    "\n",
    "### Vector Parameters"
   ]
  },
  {
   "metadata": {},
   "cell_type": "code",
   "outputs": [],
   "execution_count": null,
   "source": "",
   "id": "6cfdca0a0150d8c"
  },
  {
   "cell_type": "code",
   "execution_count": null,
   "id": "145c68c29b7fd40b",
   "metadata": {},
   "outputs": [],
   "source": [
    "from langchain_opengauss import DistanceStrategy, IndexType, VectorType\n",
    "\n",
    "OpenGaussSettings(\n",
    "    index_type=IndexType.HNSW,  # HNSW or IVFFLAT\n",
    "    vector_type=VectorType.vector,  # 32/64-bit floating point vectors\n",
    "    distance_strategy=DistanceStrategy.COSINE,\n",
    "    embedding_dimension=1536,  # Max 2000 dimensions\n",
    ")"
   ]
  },
  {
   "cell_type": "markdown",
   "id": "ed2e9781709dd3d6",
   "metadata": {},
   "source": [
    "## Advanced Usage\n",
    "\n",
    "### Hybrid Search with Metadata"
   ]
  },
  {
   "cell_type": "code",
   "execution_count": null,
   "id": "9e688aa5886e4625",
   "metadata": {},
   "outputs": [],
   "source": [
    "# Combine vector search with SQL filters\n",
    "results = vector_store.similarity_search(\n",
    "    query=\"machine learning\", k=3, filter={\"publish_year\": 2023, \"category\": \"research\"}\n",
    ")"
   ]
  },
  {
   "cell_type": "markdown",
   "id": "ec4f2a874f1fa4d7",
   "metadata": {},
   "source": "### Index Management"
  },
  {
   "cell_type": "code",
   "execution_count": null,
   "id": "52dff33f6b9601fc",
   "metadata": {},
   "outputs": [],
   "source": [
    "# Create optimized HNSW index\n",
    "vector_store.create_hnsw_index(\n",
    "    m=24,  # Number of bi-directional links\n",
    "    ef_construction=128,  # Construction search scope\n",
    "    ef=64,  # Query search scope\n",
    ")\n",
    "\n",
    "# IVFFLAT index configuration\n",
    "vector_store.create_ivfflat_index(\n",
    "    lists=1000  # Number of cluster centers\n",
    ")"
   ]
  },
  {
   "cell_type": "markdown",
   "id": "6336883e9a814456",
   "metadata": {},
   "source": [
    "## Performance Optimization\n",
    "\n",
    "### Index Tuning Guidelines\n",
    "**HNSW Parameters**:\n",
    "- `m`: 16-100 (balance between recall and memory)\n",
    "- `ef_construction`: 64-1000 (must be > 2*m)\n",
    "\n",
    "**IVFFLAT Recommendations**:"
   ]
  },
  {
   "cell_type": "code",
   "execution_count": null,
   "id": "cdf7bb2b63338c5e",
   "metadata": {},
   "outputs": [],
   "source": [
    "import math\n",
    "\n",
    "lists = min(\n",
    "    int(math.sqrt(total_rows)) if total_rows > 1e6 else int(total_rows / 1000),\n",
    "    2000,  # openGauss maximum\n",
    ")"
   ]
  },
  {
   "cell_type": "markdown",
   "id": "7d507792ddae4484",
   "metadata": {},
   "source": "### Connection Pooling"
  },
  {
   "cell_type": "code",
   "execution_count": null,
   "id": "23ed006c2655bf5c",
   "metadata": {},
   "outputs": [],
   "source": [
    "OpenGaussSettings(min_connections=3, max_connections=20)"
   ]
  },
  {
   "cell_type": "markdown",
   "id": "fd9288f8eed41f3b",
   "metadata": {},
   "source": [
    "### Core Methods\n",
    "| Method                          | Description                                   |\n",
    "|---------------------------------|-----------------------------------------------|\n",
    "| `add_documents(docs, **kwargs)` | Insert documents with automatic embedding     |\n",
    "| `similarity_search(query, k)`   | Basic vector similarity search                |\n",
    "| `similarity_search_with_score`  | Return (document, similarity_score) tuples   |\n",
    "| `delete(ids)`                   | Remove documents by ID list                  |\n",
    "| `drop_table()`                  | Delete entire collection                     |\n",
    "\n",
    "## Limitations\n",
    "- `bit` and `sparsevec` vector types currently in development\n",
    "- Maximum vector dimensions: 2000 for `vector` type"
   ]
  },
  {
   "cell_type": "markdown",
   "id": "7676a6b6233faa3",
   "metadata": {},
   "source": ""
  }
 ],
 "metadata": {
  "kernelspec": {
   "display_name": "Python 3",
   "language": "python",
   "name": "python3"
  },
  "language_info": {
   "codemirror_mode": {
    "name": "ipython",
    "version": 2
   },
   "file_extension": ".py",
   "mimetype": "text/x-python",
   "name": "python",
   "nbconvert_exporter": "python",
   "pygments_lexer": "ipython2",
   "version": "2.7.6"
  }
 },
 "nbformat": 4,
 "nbformat_minor": 5
}
