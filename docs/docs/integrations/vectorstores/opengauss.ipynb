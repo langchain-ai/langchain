{
 "cells": [
  {
   "cell_type": "code",
   "execution_count": null,
   "id": "de692baf4dd962ed",
   "metadata": {},
   "outputs": [],
   "source": [
    "from langchain_community.embeddings import HuggingFaceInferenceAPIEmbeddings\n",
    "from langchain_core.documents import Document\n",
    "from langchain_opengauss import OpenGauss, OpenGaussSettings\n",
    "\n",
    "# Configure with schema validation\n",
    "config = OpenGaussSettings(\n",
    "    table_name=\"test_langchain\",\n",
    "    embedding_dimension=384,\n",
    "    index_type=\"HNSW\",\n",
    "    distance_strategy=\"COSINE\",\n",
    ")\n",
    "\n",
    "embeddings = HuggingFaceInferenceAPIEmbeddings(\n",
    "    api_key=\"xxxx\", model_name=\"sentence-transformers/all-MiniLM-L6-v2\"\n",
    ")\n",
    "vector_store = OpenGauss(embedding=embeddings, config=config)\n",
    "\n",
    "# Insert documents\n",
    "docs = [\n",
    "    Document(page_content=\"Quantum computing basics\", metadata={\"field\": \"physics\"}),\n",
    "    Document(page_content=\"Neural network architectures\", metadata={\"field\": \"ai\"}),\n",
    "]\n",
    "vector_store.add_documents(docs)\n",
    "\n",
    "# Vector similarity search\n",
    "results = vector_store.similarity_search(\"deep learning models\", k=1)\n",
    "print(f\"Found {len(results)} relevant documents\")"
   ]
  },
  {
   "metadata": {},
   "cell_type": "markdown",
   "source": [
    "## Manage vector store\n",
    "\n"
   ],
   "id": "8d691d7a4ef1bae2"
  },
  {
   "metadata": {},
   "cell_type": "code",
   "outputs": [],
   "execution_count": null,
   "source": [
    "from langchain_opengauss import OpenGauss, OpenGaussSettings\n",
    "\n",
    "# Configure with schema validation\n",
    "config = OpenGaussSettings(\n",
    "    table_name=\"test_langchain\",\n",
    "    embedding_dimension=384,\n",
    "    index_type=\"HNSW\",\n",
    "    distance_strategy=\"COSINE\",\n",
    ")\n",
    "\n",
    "vector_store = OpenGauss(embedding=embeddings, config=config)"
   ],
   "id": "20c6da4e10f8f9f3"
  },
  {
   "metadata": {},
   "cell_type": "markdown",
   "source": [
    "## Configuration\n",
    "\n",
    "### Connection Settings\n",
    "| Parameter           | Default                 | Description                                            |\n",
    "|---------------------|-------------------------|--------------------------------------------------------|\n",
    "| `host`              | localhost               | Database server address                                |\n",
    "| `port`              | 8888                    | Database connection port                               |\n",
    "| `user`              | gaussdb                 | Database username                                      |\n",
    "| `password`          | -                       | Complex password string                                |\n",
    "| `database`          | postgres                | Default database name                                  |\n",
    "| `min_connections`   | 1                       | Connection pool minimum size                           |\n",
    "| `max_connections`   | 5                       | Connection pool maximum size                           |\n",
    "| `table_name`        | langchain_docs          | Name of the table for storing vector data and metadata |\n",
    "| `index_type`        | IndexType.HNSW          |Vector index algorithm type. Options: HNSW or IVFFLAT\\nDefault is HNSW.|\n",
    "| `vector_type`       | VectorType.vector       |Type of vector representation to use. Default is Vector.|\n",
    "| `distance_strategy` | DistanceStrategy.COSINE |Vector similarity metric to use for retrieval. Options: euclidean (L2 distance), cosine (angular distance, ideal for text embeddings), manhattan (L1 distance for sparse data), negative_inner_product (dot product for normalized vectors).\\n Default is cosine.|\n",
    "|`embedding_dimension`| 1536                    |Dimensionality of the vector embeddings.|\n",
    "\n",
    " Supported Combinations\n",
    "\n",
    "| Vector Type | Dimensions | Index Types  | Supported Distance Strategies         |\n",
    "|-------------|------------|--------------|---------------------------------------|\n",
    "| vector      | ≤2000      | HNSW/IVFFLAT | COSINE/EUCLIDEAN/MANHATTAN/INNER_PROD |\n",
    "\n",
    "## Query vector store\n"
   ],
   "id": "dba28ce8623c34b7"
  },
  {
   "metadata": {},
   "cell_type": "code",
   "outputs": [],
   "execution_count": null,
   "source": [
    "# Vector similarity search\n",
    "results = vector_store.similarity_search(\"deep learning models\", k=1)\n",
    "\n",
    "# Vector similarity search with filter\n",
    "results = vector_store.similarity_search(\n",
    "    \"neural network architectures\", k=1, filter={\"field\": \"ai\"}\n",
    ")"
   ],
   "id": "fd060830020201f6"
  },
  {
   "metadata": {},
   "cell_type": "markdown",
   "source": [
    "# openGauss Vector Store for LangChain\n",
    "\n",
    "[openGauss](https://opengauss.org/en/) is a high-performance relational database with native vector storage and retrieval capabilities. This integration enables ACID-compliant vector operations within LangChain applications, combining traditional SQL functionality with modern AI-driven similarity search.\n",
    "\n",
    "## Features\n",
    "- **Hybrid SQL/Vector Operations**: Execute vector searches alongside SQL queries\n",
    "- **Enterprise-Grade Reliability**: Full ACID compliance and connection pooling\n",
    "- **Multiple Index Types**: HNSW and IVFFLAT vector indexing support\n",
    "- **Dimension Validation**: Type-safe constraints up to 2000 dimensions\n",
    "- **Metadata Filtering**: Combine vector similarity with SQL-style WHERE clauses\n",
    "\n",
    "## Setup\n",
    "\n",
    "### Launch openGauss Container\n",
    "\n",
    "```bash\n",
    "docker run --name opengauss \\\n",
    "  -d \\\n",
    "  -e GS_PASSWORD='MyStrongPass@123' \\\n",
    "  -p 8888:5432 \\\n",
    "  opengauss/opengauss-server:latest\n",
    "```\n",
    "\n",
    "## Initialization\n",
    "\n",
    "```bash\n",
    "pip install langchain-opengauss\n",
    "```\n",
    "\n",
    "**System Requirements**:\n",
    "- openGauss ≥ 7.0.0\n",
    "- Python ≥ 3.8\n",
    "- psycopg2-binary\n",
    "\n",
    "## Quick Start\n",
    "\n",
    "### 1. Basic Vector Operations"
   ],
   "id": "1c6ad3ea5d95af6e"
  },
  {
   "metadata": {},
   "cell_type": "markdown",
   "source": [
    "## Advanced Usage\n",
    "\n",
    "### Index Management"
   ],
   "id": "ed2e9781709dd3d6"
  },
  {
   "cell_type": "code",
   "execution_count": null,
   "id": "52dff33f6b9601fc",
   "metadata": {},
   "outputs": [],
   "source": [
    "# Create optimized HNSW index\n",
    "vector_store.create_hnsw_index(\n",
    "    m=24,  # Number of bi-directional links\n",
    "    ef_construction=128,  # Construction search scope\n",
    "    ef=64,  # Query search scope\n",
    ")\n",
    "\n",
    "# IVFFLAT index configuration\n",
    "vector_store.create_ivfflat_index(\n",
    "    lists=1000  # Number of cluster centers\n",
    ")"
   ]
  },
  {
   "cell_type": "markdown",
   "id": "6336883e9a814456",
   "metadata": {},
   "source": [
    "## Performance Optimization\n",
    "\n",
    "### Index Tuning Guidelines\n",
    "**HNSW Parameters**:\n",
    "- `m`: 16-100 (balance between recall and memory)\n",
    "- `ef_construction`: 64-1000 (must be > 2*m)\n",
    "\n",
    "**IVFFLAT Recommendations**:"
   ]
  },
  {
   "cell_type": "code",
   "execution_count": null,
   "id": "cdf7bb2b63338c5e",
   "metadata": {},
   "outputs": [],
   "source": [
    "import math\n",
    "\n",
    "lists = min(\n",
    "    int(math.sqrt(total_rows)) if total_rows > 1e6 else int(total_rows / 1000),\n",
    "    2000,  # openGauss maximum\n",
    ")"
   ]
  },
  {
   "cell_type": "markdown",
   "id": "7d507792ddae4484",
   "metadata": {},
   "source": "### Connection Pooling"
  },
  {
   "cell_type": "code",
   "execution_count": null,
   "id": "23ed006c2655bf5c",
   "metadata": {},
   "outputs": [],
   "source": [
    "OpenGaussSettings(min_connections=3, max_connections=20)"
   ]
  },
  {
   "cell_type": "markdown",
   "id": "fd9288f8eed41f3b",
   "metadata": {},
   "source": [
    "### Core Methods\n",
    "| Method                         | Description                                   |\n",
    "|--------------------------------|-----------------------------------------------|\n",
    "| `add_documents`                | Insert documents with automatic embedding     |\n",
    "| `similarity_search `           | Basic vector similarity search                |\n",
    "| `similarity_search_with_score` | Return (document, similarity_score) tuples   |\n",
    "| `delete`                       | Remove documents by ID list                  |\n",
    "| `drop_table`                   | Delete entire collection                     |\n",
    "\n",
    "## Limitations\n",
    "- `bit` and `sparsevec` vector types currently in development\n",
    "- Maximum vector dimensions: 2000 for `vector` type"
   ]
  },
  {
   "cell_type": "markdown",
   "id": "7676a6b6233faa3",
   "metadata": {},
   "source": ""
  }
 ],
 "metadata": {
  "kernelspec": {
   "display_name": "Python 3",
   "language": "python",
   "name": "python3"
  },
  "language_info": {
   "codemirror_mode": {
    "name": "ipython",
    "version": 2
   },
   "file_extension": ".py",
   "mimetype": "text/x-python",
   "name": "python",
   "nbconvert_exporter": "python",
   "pygments_lexer": "ipython2",
   "version": "2.7.6"
  }
 },
 "nbformat": 4,
 "nbformat_minor": 5
}
