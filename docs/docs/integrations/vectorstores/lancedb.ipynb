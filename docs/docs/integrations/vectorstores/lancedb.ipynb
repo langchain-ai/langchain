{
 "cells": [
  {
   "cell_type": "markdown",
   "id": "683953b3",
   "metadata": {},
   "source": [
    "# LanceDB\n",
    "\n",
    ">[LanceDB](https://lancedb.com/) is an open-source database for vector-search built with persistent storage, which greatly simplifies retrevial, filtering and management of embeddings. Fully open source.\n",
    "\n",
    "This notebook shows how to use functionality related to the `LanceDB` vector database based on the Lance data format."
   ]
  },
  {
   "cell_type": "code",
   "execution_count": null,
   "id": "b1051ba9",
   "metadata": {},
   "outputs": [],
   "source": [
    "! pip install tantivy"
   ]
  },
  {
   "cell_type": "code",
   "execution_count": null,
   "id": "88ac92c0",
   "metadata": {},
   "outputs": [],
   "source": [
    "! pip install -U langchain-openai langchain-community"
   ]
  },
  {
   "cell_type": "code",
   "execution_count": null,
   "id": "5a1c84d6-a10f-428c-95cd-46d3a1702e07",
   "metadata": {},
   "outputs": [],
   "source": [
    "! pip install lancedb"
   ]
  },
  {
   "cell_type": "markdown",
   "id": "99134dd1-b91e-486f-8d90-534248e43b9d",
   "metadata": {},
   "source": [
    "We want to use OpenAIEmbeddings so we have to get the OpenAI API Key. "
   ]
  },
  {
   "cell_type": "code",
   "execution_count": 1,
   "id": "a0361f5c-e6f4-45f4-b829-11680cf03cec",
   "metadata": {
    "tags": []
   },
   "outputs": [],
   "source": [
    "import getpass\n",
    "import os\n",
    "\n",
    "if \"OPENAI_API_KEY\" not in os.environ:\n",
    "    os.environ[\"OPENAI_API_KEY\"] = getpass.getpass(\"OpenAI API Key:\")"
   ]
  },
  {
   "cell_type": "code",
   "execution_count": 2,
   "id": "d114ed78",
   "metadata": {},
   "outputs": [],
   "source": [
    "! rm -rf /tmp/lancedb"
   ]
  },
  {
   "cell_type": "code",
   "execution_count": 3,
   "id": "a3c3999a",
   "metadata": {},
   "outputs": [],
   "source": [
    "from langchain_community.document_loaders import TextLoader\n",
    "from langchain_community.vectorstores import LanceDB\n",
    "from langchain_openai import OpenAIEmbeddings\n",
    "from langchain_text_splitters import CharacterTextSplitter\n",
    "\n",
    "loader = TextLoader(\"../../how_to/state_of_the_union.txt\")\n",
    "documents = loader.load()\n",
    "\n",
    "documents = CharacterTextSplitter().split_documents(documents)\n",
    "embeddings = OpenAIEmbeddings()"
   ]
  },
  {
   "cell_type": "markdown",
   "id": "e9517bb0",
   "metadata": {},
   "source": [
    "##### For LanceDB cloud, you can invoke the vector store as follows :\n",
    "\n",
    "\n",
    "```python\n",
    "db_url = \"db://lang_test\" # url of db you created\n",
    "api_key = \"xxxxx\" # your API key\n",
    "region=\"us-east-1-dev\"  # your selected region\n",
    "\n",
    "vector_store = LanceDB(\n",
    "    uri=db_url,\n",
    "    api_key=api_key,\n",
    "    region=region,\n",
    "    embedding=embeddings,\n",
    "    table_name='langchain_test'\n",
    "    )\n",
    "```\n",
    "\n",
    "You can also add `region`, `api_key`, `uri` to `from_documents()` classmethod\n"
   ]
  },
  {
   "cell_type": "code",
   "execution_count": 4,
   "id": "6e104aee",
   "metadata": {},
   "outputs": [],
   "source": [
    "from lancedb.rerankers import LinearCombinationReranker\n",
    "\n",
    "reranker = LinearCombinationReranker(weight=0.3)\n",
    "\n",
    "docsearch = LanceDB.from_documents(documents, embeddings, reranker=reranker)\n",
    "query = \"What did the president say about Ketanji Brown Jackson\""
   ]
  },
  {
   "cell_type": "code",
   "execution_count": 31,
   "id": "259c7988",
   "metadata": {},
   "outputs": [
    {
     "name": "stdout",
     "output_type": "stream",
     "text": [
      "relevance score -  0.7066475030191711\n",
      "text-  They were responding to a 9-1-1 call when a man shot and killed them with a stolen gun. \n",
      "\n",
      "Officer Mora was 27 years old. \n",
      "\n",
      "Officer Rivera was 22. \n",
      "\n",
      "Both Dominican Americans who’d grown up on the same streets they later chose to patrol as police officers. \n",
      "\n",
      "I spoke with their families and told them that we are forever in debt for their sacrifice, and we will carry on their mission to restore the trust and safety every community deserves. \n",
      "\n",
      "I’ve worked on these issues a long time. \n",
      "\n",
      "I know what works: Investing in crime prevention and community police officers who’ll walk the beat, who’ll know the neighborhood, and who can restore trust and safety. \n",
      "\n",
      "So let’s not abandon our streets. Or choose between safety and equal justice. \n",
      "\n",
      "Let’s come together to protect our communities, restore trust, and hold law enforcement accountable. \n",
      "\n",
      "That’s why the Justice Department required body cameras, banned chokeholds, and restricted no-knock warrants for its officers. \n",
      "\n",
      "That’s why the American Rescue \n"
     ]
    }
   ],
   "source": [
    "docs = docsearch.similarity_search_with_relevance_scores(query)\n",
    "print(\"relevance score - \", docs[0][1])\n",
    "print(\"text- \", docs[0][0].page_content[:1000])"
   ]
  },
  {
   "cell_type": "code",
   "execution_count": 33,
   "id": "9fa29dae",
   "metadata": {},
   "outputs": [
    {
     "name": "stdout",
     "output_type": "stream",
     "text": [
      "distance -  0.30000001192092896\n",
      "text-  My administration is providing assistance with job training and housing, and now helping lower-income veterans get VA care debt-free.  \n",
      "\n",
      "Our troops in Iraq and Afghanistan faced many dangers. \n",
      "\n",
      "One was stationed at bases and breathing in toxic smoke from “burn pits” that incinerated wastes of war—medical and hazard material, jet fuel, and more. \n",
      "\n",
      "When they came home, many of the world’s fittest and best trained warriors were never the same. \n",
      "\n",
      "Headaches. Numbness. Dizziness. \n",
      "\n",
      "A cancer that would put them in a flag-draped coffin. \n",
      "\n",
      "I know. \n",
      "\n",
      "One of those soldiers was my son Major Beau Biden. \n",
      "\n",
      "We don’t know for sure if a burn pit was the cause of his brain cancer, or the diseases of so many of our troops. \n",
      "\n",
      "But I’m committed to finding out everything we can. \n",
      "\n",
      "Committed to military families like Danielle Robinson from Ohio. \n",
      "\n",
      "The widow of Sergeant First Class Heath Robinson.  \n",
      "\n",
      "He was born a soldier. Army National Guard. Combat medic in Kosovo and Iraq. \n",
      "\n",
      "Stationed near Baghdad, just ya\n"
     ]
    }
   ],
   "source": [
    "docs = docsearch.similarity_search_with_score(query=\"Headaches\", query_type=\"hybrid\")\n",
    "print(\"distance - \", docs[0][1])\n",
    "print(\"text- \", docs[0][0].page_content[:1000])"
   ]
  },
  {
   "cell_type": "code",
   "execution_count": 8,
   "id": "e70ad201",
   "metadata": {},
   "outputs": [
    {
     "name": "stdout",
     "output_type": "stream",
     "text": [
      "reranker :  <lancedb.rerankers.linear_combination.LinearCombinationReranker object at 0x107ef1130>\n"
     ]
    }
   ],
   "source": [
    "print(\"reranker : \", docsearch._reranker)"
   ]
  },
  {
   "cell_type": "markdown",
   "id": "f5e1cdfd",
   "metadata": {},
   "source": [
    "Additionaly, to explore the table you can load it into a df or save it in a csv file: \n",
    "```python\n",
    "tbl = docsearch.get_table()\n",
    "print(\"tbl:\", tbl)\n",
    "pd_df = tbl.to_pandas()\n",
    "# pd_df.to_csv(\"docsearch.csv\", index=False)\n",
    "\n",
    "# you can also create a new vector store object using an older connection object:\n",
    "vector_store = LanceDB(connection=tbl, embedding=embeddings)\n",
    "```"
   ]
  },
  {
   "cell_type": "code",
   "execution_count": 15,
   "id": "9c608226",
   "metadata": {},
   "outputs": [
    {
     "name": "stdout",
     "output_type": "stream",
     "text": [
      "metadata : {'source': '../../how_to/state_of_the_union.txt'}\n",
      "\n",
      "SQL filtering :\n",
      "\n",
      "They were responding to a 9-1-1 call when a man shot and killed them with a stolen gun. \n",
      "\n",
      "Officer Mora was 27 years old. \n",
      "\n",
      "Officer Rivera was 22. \n",
      "\n",
      "Both Dominican Americans who’d grown up on the same streets they later chose to patrol as police officers. \n",
      "\n",
      "I spoke with their families and told them that we are forever in debt for their sacrifice, and we will carry on their mission to restore the trust and safety every community deserves. \n",
      "\n",
      "I’ve worked on these issues a long time. \n",
      "\n",
      "I know what works: Investing in crime prevention and community police officers who’ll walk the beat, who’ll know the neighborhood, and who can restore trust and safety. \n",
      "\n",
      "So let’s not abandon our streets. Or choose between safety and equal justice. \n",
      "\n",
      "Let’s come together to protect our communities, restore trust, and hold law enforcement accountable. \n",
      "\n",
      "That’s why the Justice Department required body cameras, banned chokeholds, and restricted no-knock warrants for its officers. \n",
      "\n",
      "That’s why the American Rescue Plan provided $350 Billion that cities, states, and counties can use to hire more police and invest in proven strategies like community violence interruption—trusted messengers breaking the cycle of violence and trauma and giving young people hope.  \n",
      "\n",
      "We should all agree: The answer is not to Defund the police. The answer is to FUND the police with the resources and training they need to protect our communities. \n",
      "\n",
      "I ask Democrats and Republicans alike: Pass my budget and keep our neighborhoods safe.  \n",
      "\n",
      "And I will keep doing everything in my power to crack down on gun trafficking and ghost guns you can buy online and make at home—they have no serial numbers and can’t be traced. \n",
      "\n",
      "And I ask Congress to pass proven measures to reduce gun violence. Pass universal background checks. Why should anyone on a terrorist list be able to purchase a weapon? \n",
      "\n",
      "Ban assault weapons and high-capacity magazines. \n",
      "\n",
      "Repeal the liability shield that makes gun manufacturers the only industry in America that can’t be sued. \n",
      "\n",
      "These laws don’t infringe on the Second Amendment. They save lives. \n",
      "\n",
      "The most fundamental right in America is the right to vote – and to have it counted. And it’s under assault. \n",
      "\n",
      "In state after state, new laws have been passed, not only to suppress the vote, but to subvert entire elections. \n",
      "\n",
      "We cannot let this happen. \n",
      "\n",
      "Tonight. I call on the Senate to: Pass the Freedom to Vote Act. Pass the John Lewis Voting Rights Act. And while you’re at it, pass the Disclose Act so Americans can know who is funding our elections. \n",
      "\n",
      "Tonight, I’d like to honor someone who has dedicated his life to serve this country: Justice Stephen Breyer—an Army veteran, Constitutional scholar, and retiring Justice of the United States Supreme Court. Justice Breyer, thank you for your service. \n",
      "\n",
      "One of the most serious constitutional responsibilities a President has is nominating someone to serve on the United States Supreme Court. \n",
      "\n",
      "And I did that 4 days ago, when I nominated Circuit Court of Appeals Judge Ketanji Brown Jackson. One of our nation’s top legal minds, who will continue Justice Breyer’s legacy of excellence. \n",
      "\n",
      "A former top litigator in private practice. A former federal public defender. And from a family of public school educators and police officers. A consensus builder. Since she’s been nominated, she’s received a broad range of support—from the Fraternal Order of Police to former judges appointed by Democrats and Republicans. \n",
      "\n",
      "And if we are to advance liberty and justice, we need to secure the Border and fix the immigration system. \n",
      "\n",
      "We can do both. At our border, we’ve installed new technology like cutting-edge scanners to better detect drug smuggling.  \n",
      "\n",
      "We’ve set up joint patrols with Mexico and Guatemala to catch more human traffickers.  \n",
      "\n",
      "We’re putting in place dedicated immigration judges so families fleeing persecution and violence can have their cases heard faster.\n"
     ]
    }
   ],
   "source": [
    "docs = docsearch.similarity_search(\n",
    "    query=query, filter={\"metadata.source\": \"../../how_to/state_of_the_union.txt\"}\n",
    ")\n",
    "\n",
    "print(\"metadata :\", docs[0].metadata)\n",
    "\n",
    "# or you can directly supply SQL string filters :\n",
    "\n",
    "print(\"\\nSQL filtering :\\n\")\n",
    "docs = docsearch.similarity_search(query=query, filter=\"text LIKE '%Officer Rivera%'\")\n",
    "print(docs[0].page_content)"
   ]
  },
  {
   "cell_type": "markdown",
   "id": "9a173c94",
   "metadata": {},
   "source": [
    "## Adding images "
   ]
  },
  {
   "cell_type": "code",
   "execution_count": null,
   "id": "05f669d7",
   "metadata": {},
   "outputs": [],
   "source": [
    "! pip install -U langchain-experimental"
   ]
  },
  {
   "cell_type": "code",
   "execution_count": null,
   "id": "3ed69810",
   "metadata": {},
   "outputs": [],
   "source": [
    "! pip install open_clip_torch torch"
   ]
  },
  {
   "cell_type": "code",
   "execution_count": 16,
   "id": "2cacb5ee",
   "metadata": {},
   "outputs": [],
   "source": [
    "! rm -rf '/tmp/multimmodal_lance'"
   ]
  },
  {
   "cell_type": "code",
   "execution_count": 17,
   "id": "b3456e2c",
   "metadata": {},
   "outputs": [],
   "source": [
    "from langchain_experimental.open_clip import OpenCLIPEmbeddings"
   ]
  },
  {
   "cell_type": "code",
   "execution_count": 18,
   "id": "3848eba2",
   "metadata": {},
   "outputs": [],
   "source": [
    "import os\n",
    "\n",
    "import requests\n",
    "\n",
    "# List of image URLs to download\n",
    "image_urls = [\n",
    "    \"https://github.com/raghavdixit99/assets/assets/34462078/abf47cc4-d979-4aaa-83be-53a2115bf318\",\n",
    "    \"https://github.com/raghavdixit99/assets/assets/34462078/93be928e-522b-4e37-889d-d4efd54b2112\",\n",
    "]\n",
    "\n",
    "texts = [\"bird\", \"dragon\"]\n",
    "\n",
    "# Directory to save images\n",
    "dir_name = \"./photos/\"\n",
    "\n",
    "# Create directory if it doesn't exist\n",
    "os.makedirs(dir_name, exist_ok=True)\n",
    "\n",
    "image_uris = []\n",
    "# Download and save each image\n",
    "for i, url in enumerate(image_urls, start=1):\n",
    "    response = requests.get(url)\n",
    "    path = os.path.join(dir_name, f\"image{i}.jpg\")\n",
    "    image_uris.append(path)\n",
    "    with open(path, \"wb\") as f:\n",
    "        f.write(response.content)"
   ]
  },
  {
   "cell_type": "code",
   "execution_count": 21,
   "id": "3d62c2a0",
   "metadata": {},
   "outputs": [],
   "source": [
    "from langchain_community.vectorstores import LanceDB\n",
    "\n",
    "vec_store = LanceDB(\n",
    "    table_name=\"multimodal_test\",\n",
    "    embedding=OpenCLIPEmbeddings(),\n",
    ")"
   ]
  },
  {
   "cell_type": "code",
   "execution_count": 22,
   "id": "ebbb4881",
   "metadata": {},
   "outputs": [
    {
     "data": {
      "text/plain": [
       "['b673620b-01f0-42ca-a92e-d033bb92c0a6',\n",
       " '99c3a5b0-b577-417a-8177-92f4a655dbfb']"
      ]
     },
     "execution_count": 22,
     "metadata": {},
     "output_type": "execute_result"
    }
   ],
   "source": [
    "vec_store.add_images(uris=image_uris)"
   ]
  },
  {
   "cell_type": "code",
   "execution_count": 23,
   "id": "3c29dea3",
   "metadata": {},
   "outputs": [
    {
     "data": {
      "text/plain": [
       "['f7adde5d-a4a3-402b-9e73-088b230722c3',\n",
       " 'cbed59da-0aec-4bff-8820-9e59d81a2140']"
      ]
     },
     "execution_count": 23,
     "metadata": {},
     "output_type": "execute_result"
    }
   ],
   "source": [
    "vec_store.add_texts(texts)"
   ]
  },
  {
   "cell_type": "code",
   "execution_count": 24,
   "id": "8b2f25ce",
   "metadata": {},
   "outputs": [],
   "source": [
    "img_embed = vec_store._embedding.embed_query(\"bird\")"
   ]
  },
  {
   "cell_type": "code",
   "execution_count": 25,
   "id": "87a24079",
   "metadata": {},
   "outputs": [
    {
     "data": {
      "text/plain": [
       "Document(page_content='bird', metadata={'id': 'f7adde5d-a4a3-402b-9e73-088b230722c3'})"
      ]
     },
     "execution_count": 25,
     "metadata": {},
     "output_type": "execute_result"
    }
   ],
   "source": [
    "vec_store.similarity_search_by_vector(img_embed)[0]"
   ]
  },
  {
   "cell_type": "code",
   "execution_count": 26,
   "id": "78557867",
   "metadata": {},
   "outputs": [
    {
     "data": {
      "text/plain": [
       "LanceTable(connection=LanceDBConnection(/tmp/lancedb), name=\"multimodal_test\")"
      ]
     },
     "execution_count": 26,
     "metadata": {},
     "output_type": "execute_result"
    }
   ],
   "source": [
    "vec_store._table"
   ]
  }
 ],
 "metadata": {
  "kernelspec": {
   "display_name": "Python 3 (ipykernel)",
   "language": "python",
   "name": "python3"
  },
  "language_info": {
   "codemirror_mode": {
    "name": "ipython",
    "version": 3
   },
   "file_extension": ".py",
   "mimetype": "text/x-python",
   "name": "python",
   "nbconvert_exporter": "python",
   "pygments_lexer": "ipython3",
   "version": "3.12.2"
  }
 },
 "nbformat": 4,
 "nbformat_minor": 5
}
