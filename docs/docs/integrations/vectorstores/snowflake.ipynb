{
 "cells": [
  {
   "cell_type": "markdown",
   "metadata": {},
   "source": [
    "# Snowflake Vector Store\n",
    "\n",
    "This notebook shows how to use the Snowflake Vector Store functionality within LangChain.\n",
    "\n",
    "[Snowflake](https://www.snowflake.com/) is a cloud-based data warehousing platform that provides native support for vector data types and similarity search functions, making it an excellent choice for storing and querying embeddings.\n",
    "\n",
    "## Features\n",
    "\n",
    "- 🏔️ **Native Snowflake Integration**: Uses Snowflake's built-in vector capabilities\n",
    "- 🔍 **Semantic Search**: Powered by VECTOR_COSINE_SIMILARITY function\n",
    "- 📊 **Scalable**: Leverages Snowflake's cloud-native architecture\n",
    "- 🔒 **Secure**: Enterprise-grade security and compliance\n",
    "- 🚀 **High Performance**: Optimized for large-scale vector operations\n",
    "\n",
    "## Setup\n",
    "\n",
    "First, install the required packages:"
   ]
  },
  {
   "cell_type": "code",
   "execution_count": null,
   "metadata": {},
   "outputs": [],
   "source": [
    "# Install required packages\n",
    "# %pip install langchain-snowflake-vectorstore snowflake-connector-python langchain-openai"
   ]
  },
  {
   "cell_type": "markdown",
   "metadata": {},
   "source": [
    "## Credentials\n",
    "\n",
    "You'll need to set up your Snowflake credentials. You can do this via environment variables:"
   ]
  },
  {
   "cell_type": "code",
   "execution_count": null,
   "metadata": {},
   "outputs": [],
   "source": [
    "import os\n",
    "\n",
    "# Set your Snowflake credentials\n",
    "# You can also set these as environment variables\n",
    "SNOWFLAKE_ACCOUNT = os.getenv(\"SNOWFLAKE_ACCOUNT\", \"your-account\")\n",
    "SNOWFLAKE_USER = os.getenv(\"SNOWFLAKE_USER\", \"your-username\")\n",
    "SNOWFLAKE_PASSWORD = os.getenv(\"SNOWFLAKE_PASSWORD\", \"your-password\")\n",
    "SNOWFLAKE_DATABASE = os.getenv(\"SNOWFLAKE_DATABASE\", \"your-database\")\n",
    "SNOWFLAKE_SCHEMA = os.getenv(\"SNOWFLAKE_SCHEMA\", \"your-schema\")\n",
    "SNOWFLAKE_WAREHOUSE = os.getenv(\"SNOWFLAKE_WAREHOUSE\", \"your-warehouse\")\n",
    "SNOWFLAKE_ROLE = os.getenv(\"SNOWFLAKE_ROLE\", \"your-role\")"
   ]
  },
  {
   "cell_type": "markdown",
   "metadata": {},
   "source": [
    "## Initialization\n",
    "\n",
    "Create a Snowflake vector store instance with your configuration:"
   ]
  },
  {
   "cell_type": "code",
   "execution_count": null,
   "metadata": {},
   "outputs": [],
   "source": [
    "from langchain_openai import OpenAIEmbeddings\n",
    "from langchain_snowflake_vectorstore import SnowflakeVectorStore\n",
    "\n",
    "# Initialize embeddings\n",
    "embeddings = OpenAIEmbeddings()\n",
    "\n",
    "# Create the vector store\n",
    "vector_store = SnowflakeVectorStore(\n",
    "    account=SNOWFLAKE_ACCOUNT,\n",
    "    user=SNOWFLAKE_USER,\n",
    "    password=SNOWFLAKE_PASSWORD,\n",
    "    database=SNOWFLAKE_DATABASE,\n",
    "    schema=SNOWFLAKE_SCHEMA,\n",
    "    warehouse=SNOWFLAKE_WAREHOUSE,\n",
    "    role=SNOWFLAKE_ROLE,\n",
    "    table_name=\"langchain_vector_store\",\n",
    "    embedding_function=embeddings,\n",
    "    embedding_dimension=1536,  # OpenAI embeddings dimension\n",
    ")\n",
    "\n",
    "print(\"Vector store initialized successfully!\")"
   ]
  },
  {
   "cell_type": "markdown",
   "metadata": {},
   "source": [
    "## Manage vector store\n",
    "\n",
    "### Add documents\n",
    "\n",
    "Add documents to the vector store:"
   ]
  },
  {
   "cell_type": "code",
   "execution_count": null,
   "metadata": {},
   "outputs": [],
   "source": [
    "from langchain_core.documents import Document\n",
    "\n",
    "# Sample documents\n",
    "documents = [\n",
    "    Document(\n",
    "        page_content=\"Snowflake is a cloud-based data warehousing platform.\",\n",
    "        metadata={\"source\": \"snowflake_info\", \"category\": \"technology\"},\n",
    "    ),\n",
    "    Document(\n",
    "        page_content=\"LangChain is a framework for developing applications powered by language models.\",\n",
    "        metadata={\"source\": \"langchain_info\", \"category\": \"technology\"},\n",
    "    ),\n",
    "    Document(\n",
    "        page_content=\"Vector databases are specialized databases for storing and querying high-dimensional vectors.\",\n",
    "        metadata={\"source\": \"vector_db_info\", \"category\": \"database\"},\n",
    "    ),\n",
    "    Document(\n",
    "        page_content=\"Machine learning models can generate embeddings that represent semantic meaning.\",\n",
    "        metadata={\"source\": \"ml_info\", \"category\": \"machine_learning\"},\n",
    "    ),\n",
    "]\n",
    "\n",
    "# Add documents to the vector store\n",
    "ids = vector_store.add_documents(documents)\n",
    "print(f\"Added {len(ids)} documents to the vector store\")\n",
    "print(f\"Document IDs: {ids}\")"
   ]
  },
  {
   "cell_type": "markdown",
   "metadata": {},
   "source": [
    "### Add texts\n",
    "\n",
    "You can also add texts directly:"
   ]
  },
  {
   "cell_type": "code",
   "execution_count": null,
   "metadata": {},
   "outputs": [],
   "source": [
    "# Add texts directly\n",
    "texts = [\n",
    "    \"Artificial intelligence is transforming various industries.\",\n",
    "    \"Natural language processing enables computers to understand human language.\",\n",
    "    \"Deep learning models can process complex patterns in data.\",\n",
    "]\n",
    "\n",
    "metadatas = [\n",
    "    {\"source\": \"ai_info\", \"category\": \"artificial_intelligence\"},\n",
    "    {\"source\": \"nlp_info\", \"category\": \"natural_language_processing\"},\n",
    "    {\"source\": \"dl_info\", \"category\": \"deep_learning\"},\n",
    "]\n",
    "\n",
    "text_ids = vector_store.add_texts(texts, metadatas=metadatas)\n",
    "print(f\"Added {len(text_ids)} texts with IDs: {text_ids}\")"
   ]
  },
  {
   "cell_type": "markdown",
   "metadata": {},
   "source": [
    "### Delete documents\n",
    "\n",
    "Remove documents from the vector store:"
   ]
  },
  {
   "cell_type": "code",
   "execution_count": null,
   "metadata": {},
   "outputs": [],
   "source": [
    "# Delete specific documents by ID\n",
    "if text_ids:\n",
    "    # Delete the last added text as an example\n",
    "    deleted = vector_store.delete([text_ids[-1]])\n",
    "    print(f\"Deleted document: {deleted}\")"
   ]
  },
  {
   "cell_type": "markdown",
   "metadata": {},
   "source": [
    "## Query vector store\n",
    "\n",
    "### Similarity search\n",
    "\n",
    "Find documents similar to a query:"
   ]
  },
  {
   "cell_type": "code",
   "execution_count": null,
   "metadata": {},
   "outputs": [],
   "source": [
    "# Perform similarity search\n",
    "query = \"What is LangChain?\"\n",
    "results = vector_store.similarity_search(query, k=3)\n",
    "\n",
    "print(f\"Query: {query}\")\n",
    "print(f\"Found {len(results)} similar documents:\")\n",
    "for i, doc in enumerate(results, 1):\n",
    "    print(f\"{i}. {doc.page_content}\")\n",
    "    print(f\"   Metadata: {doc.metadata}\")\n",
    "    print()"
   ]
  },
  {
   "cell_type": "markdown",
   "metadata": {},
   "source": [
    "### Similarity search with scores\n",
    "\n",
    "Get similarity scores along with the results:"
   ]
  },
  {
   "cell_type": "code",
   "execution_count": null,
   "metadata": {},
   "outputs": [],
   "source": [
    "# Similarity search with scores\n",
    "query = \"machine learning and AI\"\n",
    "results_with_scores = vector_store.similarity_search_with_score(query, k=3)\n",
    "\n",
    "print(f\"Query: {query}\")\n",
    "print(f\"Results with similarity scores:\")\n",
    "for doc, score in results_with_scores:\n",
    "    print(f\"Score: {score:.4f}\")\n",
    "    print(f\"Content: {doc.page_content}\")\n",
    "    print(f\"Metadata: {doc.metadata}\")\n",
    "    print()"
   ]
  },
  {
   "cell_type": "markdown",
   "metadata": {},
   "source": [
    "### Filtered search\n",
    "\n",
    "Search with metadata filters:"
   ]
  },
  {
   "cell_type": "code",
   "execution_count": null,
   "metadata": {},
   "outputs": [],
   "source": [
    "# Search with metadata filter\n",
    "query = \"technology\"\n",
    "filter_dict = {\"category\": \"technology\"}\n",
    "filtered_results = vector_store.similarity_search(query, k=5, filter=filter_dict)\n",
    "\n",
    "print(f\"Query: {query}\")\n",
    "print(f\"Filter: {filter_dict}\")\n",
    "print(f\"Found {len(filtered_results)} filtered results:\")\n",
    "for doc in filtered_results:\n",
    "    print(f\"- {doc.page_content}\")\n",
    "    print(f\"  Category: {doc.metadata.get('category')}\")"
   ]
  },
  {
   "cell_type": "markdown",
   "metadata": {},
   "source": [
    "## Usage for retrieval-augmented generation\n",
    "\n",
    "Use the vector store as a retriever for RAG applications:"
   ]
  },
  {
   "cell_type": "code",
   "execution_count": null,
   "metadata": {},
   "outputs": [],
   "source": [
    "# Create a retriever from the vector store\n",
    "retriever = vector_store.as_retriever(search_type=\"similarity\", search_kwargs={\"k\": 3})\n",
    "\n",
    "# Test the retriever\n",
    "query = \"How does Snowflake work with vectors?\"\n",
    "retrieved_docs = retriever.invoke(query)\n",
    "\n",
    "print(f\"Query: {query}\")\n",
    "print(f\"Retrieved {len(retrieved_docs)} documents:\")\n",
    "for doc in retrieved_docs:\n",
    "    print(f\"- {doc.page_content}\")"
   ]
  },
  {
   "cell_type": "markdown",
   "metadata": {},
   "source": [
    "### RAG Chain Example\n",
    "\n",
    "Create a complete RAG chain using the Snowflake vector store:"
   ]
  },
  {
   "cell_type": "code",
   "execution_count": null,
   "metadata": {},
   "outputs": [],
   "source": [
    "from langchain_core.output_parsers import StrOutputParser\n",
    "from langchain_core.prompts import ChatPromptTemplate\n",
    "from langchain_core.runnables import RunnablePassthrough\n",
    "from langchain_openai import ChatOpenAI\n",
    "\n",
    "# Create a RAG chain\n",
    "llm = ChatOpenAI(model=\"gpt-3.5-turbo\", temperature=0)\n",
    "\n",
    "template = \"\"\"Answer the question based only on the following context:\n",
    "{context}\n",
    "\n",
    "Question: {question}\n",
    "\"\"\"\n",
    "prompt = ChatPromptTemplate.from_template(template)\n",
    "\n",
    "\n",
    "def format_docs(docs):\n",
    "    \"\"\"Format documents for RAG context.\"\"\"\n",
    "    return \"\\n\\n\".join(doc.page_content for doc in docs)\n",
    "\n",
    "\n",
    "rag_chain = (\n",
    "    {\"context\": retriever | format_docs, \"question\": RunnablePassthrough()}\n",
    "    | prompt\n",
    "    | llm\n",
    "    | StrOutputParser()\n",
    ")\n",
    "\n",
    "# Test the RAG chain\n",
    "question = \"What is LangChain and how does it relate to language models?\"\n",
    "answer = rag_chain.invoke(question)\n",
    "\n",
    "print(f\"Question: {question}\")\n",
    "print(f\"Answer: {answer}\")"
   ]
  },
  {
   "cell_type": "markdown",
   "metadata": {},
   "source": [
    "## API reference\n",
    "\n",
    "For detailed documentation of all features and configuration options, please refer to the API reference for `SnowflakeVectorStore`.\n",
    "\n",
    "### Key Parameters\n",
    "\n",
    "- **account**: Your Snowflake account identifier\n",
    "- **user**: Snowflake username\n",
    "- **password**: Snowflake password\n",
    "- **database**: Target database name\n",
    "- **schema**: Target schema name\n",
    "- **warehouse**: Snowflake warehouse to use\n",
    "- **role**: Snowflake role for permissions\n",
    "- **table_name**: Name of the table to store vectors\n",
    "- **embedding_function**: Function to generate embeddings\n",
    "- **embedding_dimension**: Dimension of the embedding vectors\n",
    "\n",
    "### Key Methods\n",
    "\n",
    "- `add_documents(documents)`: Add Document objects to the store\n",
    "- `add_texts(texts, metadatas)`: Add text strings with optional metadata\n",
    "- `similarity_search(query, k)`: Find k most similar documents\n",
    "- `similarity_search_with_score(query, k)`: Search with similarity scores\n",
    "- `delete(ids)`: Delete documents by their IDs\n",
    "- `as_retriever()`: Convert to a LangChain retriever\n",
    "\n",
    "For more information, visit the [langchain-snowflake-vectorstore documentation](https://pypi.org/project/langchain-snowflake-vectorstore/)."
   ]
  }
 ],
 "metadata": {
  "kernelspec": {
   "display_name": "Python 3",
   "language": "python",
   "name": "python3"
  },
  "language_info": {
   "codemirror_mode": {
    "name": "ipython",
    "version": 3
   },
   "file_extension": ".py",
   "name": "python",
   "nbconvert_exporter": "python",
   "pygments_lexer": "ipython3",
   "version": "3.11.0"
  }
 },
 "nbformat": 4,
 "nbformat_minor": 4
}