{
 "cells": [
  {
   "cell_type": "markdown",
   "metadata": {},
   "source": [
    "# Snowflake Vector Store\n",
    "\n",
    "This notebook shows how to use the Snowflake Vector Store functionality within LangChain.\n",
    "\n",
    "[Snowflake](https://www.snowflake.com/) is a cloud-based data warehousing platform that provides native support for vector data types and similarity search functions, making it an excellent choice for storing and querying embeddings.\n",
    "\n",
    "## Features\n",
    "\n",
    "- 🏔️ **Native Snowflake Integration**: Uses Snowflake's built-in vector capabilities\n",
    "- 🔍 **Semantic Search**: Powered by VECTOR_COSINE_SIMILARITY function\n",
    "- 📊 **Scalable**: Leverages Snowflake's cloud-native architecture\n",
    "- 🔒 **Secure**: Enterprise-grade security and compliance\n",
    "- 🚀 **High Performance**: Optimized for large-scale vector operations\n",
    "\n",
    "## Setup\n",
    "\n",
    "First, install the required packages:"
   ]
  },
  {
   "cell_type": "code",
   "execution_count": null,
   "metadata": {},
   "outputs": [],
   "source": [
    "# Install required packages\n",
    "# %pip install langchain-snowflake-vectorstore snowflake-connector-python langchain-openai"
   ]
  },
  {
   "cell_type": "markdown",
   "metadata": {},
   "source": [
    "## Credentials\n",
    "\n",
    "You'll need to set up your Snowflake credentials. You can do this via environment variables:"
   ]
  },
  {
   "cell_type": "code",
   "execution_count": null,
   "metadata": {},
   "outputs": [],
   "source": [
    "import os\n",
    "\n",
    "# Set your Snowflake credentials\n",
    "# You can also set these as environment variables\n",
    "SNOWFLAKE_ACCOUNT = os.getenv(\"SNOWFLAKE_ACCOUNT\", \"your-account\")\n",
    "SNOWFLAKE_USER = os.getenv(\"SNOWFLAKE_USER\", \"your-username\")\n",
    "SNOWFLAKE_PASSWORD = os.getenv(\"SNOWFLAKE_PASSWORD\", \"your-password\")\n",
    "SNOWFLAKE_DATABASE = os.getenv(\"SNOWFLAKE_DATABASE\", \"your-database\")\n",
    "SNOWFLAKE_SCHEMA = os.getenv(\"SNOWFLAKE_SCHEMA\", \"your-schema\")\n",
    "SNOWFLAKE_WAREHOUSE = os.getenv(\"SNOWFLAKE_WAREHOUSE\", \"your-warehouse\")\n",
    "SNOWFLAKE_ROLE = os.getenv(\"SNOWFLAKE_ROLE\", \"your-role\")"
   ]
  },
  {
   "cell_type": "markdown",
   "metadata": {},
   "source": [
    "## Quick Start\n",
    "\n",
    "Here's a quick example to get you started:"
   ]
  },
  {
   "cell_type": "code",
   "execution_count": null,
   "metadata": {},
   "outputs": [],
   "source": [
    "from langchain_openai import OpenAIEmbeddings\n",
    "from langchain_snowflake_vectorstore import SnowflakeVectorStore\n",
    "\n",
    "# Initialize embeddings\n",
    "embeddings = OpenAIEmbeddings()\n",
    "\n",
    "# Create vector store\n",
    "vector_store = SnowflakeVectorStore(\n",
    "    account=SNOWFLAKE_ACCOUNT,\n",
    "    user=SNOWFLAKE_USER,\n",
    "    password=SNOWFLAKE_PASSWORD,\n",
    "    database=SNOWFLAKE_DATABASE,\n",
    "    schema=SNOWFLAKE_SCHEMA,\n",
    "    warehouse=SNOWFLAKE_WAREHOUSE,\n",
    "    role=SNOWFLAKE_ROLE,\n",
    "    table_name=\"vector_documents\",\n",
    "    embedding_function=embeddings,\n",
    "    embedding_dimension=1536,  # OpenAI embeddings dimension\n",
    ")\n",
    "\n",
    "# Add documents\n",
    "texts = [\n",
    "    \"LangChain is a framework for developing applications powered by language models.\",\n",
    "    \"Snowflake is a cloud-based data warehousing platform.\",\n",
    "    \"Vector databases enable semantic search and similarity matching.\",\n",
    "]\n",
    "\n",
    "ids = vector_store.add_texts(texts)\n",
    "print(f\"Added {len(ids)} documents with IDs: {ids}\")\n",
    "\n",
    "# Search for similar documents\n",
    "results = vector_store.similarity_search(\"What is LangChain?\", k=2)\n",
    "for doc in results:\n",
    "    print(f\"Found: {doc.page_content}\")"
   ]
  },
  {
   "cell_type": "markdown",
   "metadata": {},
   "source": [
    "## Initialize the Vector Store\n",
    "\n",
    "Create a Snowflake vector store instance with detailed configuration:"
   ]
  },
  {
   "cell_type": "code",
   "execution_count": null,
   "metadata": {},
   "outputs": [],
   "source": [
    "from langchain_openai import OpenAIEmbeddings\n",
    "from langchain_snowflake_vectorstore import SnowflakeVectorStore\n",
    "\n",
    "# Initialize embeddings\n",
    "embeddings = OpenAIEmbeddings()\n",
    "\n",
    "# Create the vector store\n",
    "vector_store = SnowflakeVectorStore(\n",
    "    account=SNOWFLAKE_ACCOUNT,\n",
    "    user=SNOWFLAKE_USER,\n",
    "    password=SNOWFLAKE_PASSWORD,\n",
    "    database=SNOWFLAKE_DATABASE,\n",
    "    schema=SNOWFLAKE_SCHEMA,\n",
    "    warehouse=SNOWFLAKE_WAREHOUSE,\n",
    "    role=SNOWFLAKE_ROLE,\n",
    "    table_name=\"langchain_vector_store\",\n",
    "    embedding_function=embeddings,\n",
    "    embedding_dimension=1536,  # OpenAI embeddings dimension\n",
    ")\n",
    "\n",
    "print(\"Vector store initialized successfully!\")"
   ]
  },
  {
   "cell_type": "markdown",
   "metadata": {},
   "source": [
    "## Add Documents\n",
    "\n",
    "Add some sample documents to the vector store:"
   ]
  },
  {
   "cell_type": "code",
   "execution_count": null,
   "metadata": {},
   "outputs": [],
   "source": [
    "from langchain_core.documents import Document\n",
    "\n",
    "# Sample documents\n",
    "documents = [\n",
    "    Document(\n",
    "        page_content=\"Snowflake is a cloud-based data warehousing platform.\",\n",
    "        metadata={\"source\": \"snowflake_info\", \"category\": \"technology\"},\n",
    "    ),\n",
    "    Document(\n",
    "        page_content=\"LangChain is a framework for developing applications powered by language models.\",\n",
    "        metadata={\"source\": \"langchain_info\", \"category\": \"technology\"},\n",
    "    ),\n",
    "    Document(\n",
    "        page_content=\"Vector databases are specialized databases for storing and querying high-dimensional vectors.\",\n",
    "        metadata={\"source\": \"vector_db_info\", \"category\": \"database\"},\n",
    "    ),\n",
    "    Document(\n",
    "        page_content=\"Machine learning models can generate embeddings that represent semantic meaning.\",\n",
    "        metadata={\"source\": \"ml_info\", \"category\": \"machine_learning\"},\n",
    "    ),\n",
    "]\n",
    "\n",
    "# Add documents to the vector store\n",
    "ids = vector_store.add_documents(documents)\n",
    "print(f\"Added {len(ids)} documents to the vector store\")\n",
    "print(f\"Document IDs: {ids}\")"
   ]
  },
  {
   "cell_type": "markdown",
   "metadata": {},
   "source": [
    "## Similarity Search\n",
    "\n",
    "Perform similarity search to find relevant documents:"
   ]
  },
  {
   "cell_type": "code",
   "execution_count": null,
   "metadata": {},
   "outputs": [],
   "source": [
    "# Perform similarity search\n",
    "query = \"What is a cloud data warehouse?\"\n",
    "results = vector_store.similarity_search(query, k=3)\n",
    "\n",
    "print(f\"Query: {query}\")\n",
    "print(f\"Found {len(results)} similar documents:\\n\")\n",
    "\n",
    "for i, doc in enumerate(results, 1):\n",
    "    print(f\"{i}. {doc.page_content}\")\n",
    "    print(f\"   Metadata: {doc.metadata}\\n\")"
   ]
  },
  {
   "cell_type": "markdown",
   "metadata": {},
   "source": [
    "## Similarity Search with Scores\n",
    "\n",
    "Get similarity scores along with the results:"
   ]
  },
  {
   "cell_type": "code",
   "execution_count": null,
   "metadata": {},
   "outputs": [],
   "source": [
    "# Perform similarity search with scores\n",
    "query = \"machine learning embeddings\"\n",
    "results_with_scores = vector_store.similarity_search_with_score(query, k=3)\n",
    "\n",
    "print(f\"Query: {query}\")\n",
    "print(f\"Found {len(results_with_scores)} similar documents with scores:\\n\")\n",
    "\n",
    "for i, (doc, score) in enumerate(results_with_scores, 1):\n",
    "    print(f\"{i}. Score: {score:.4f}\")\n",
    "    print(f\"   Content: {doc.page_content}\")\n",
    "    print(f\"   Metadata: {doc.metadata}\\n\")"
   ]
  },
  {
   "cell_type": "markdown",
   "metadata": {},
   "source": [
    "## Adding Documents with Metadata\n",
    "\n",
    "Add texts with associated metadata:"
   ]
  },
  {
   "cell_type": "code",
   "execution_count": null,
   "metadata": {},
   "outputs": [],
   "source": [
    "# Add texts with metadata\n",
    "texts = [\"Document 1\", \"Document 2\"]\n",
    "metadatas = [{\"source\": \"file1.txt\"}, {\"source\": \"file2.txt\"}]\n",
    "ids = vector_store.add_texts(texts, metadatas=metadatas)\n",
    "\n",
    "print(f\"Added {len(ids)} texts with metadata\")\n",
    "print(f\"Text IDs: {ids}\")"
   ]
  },
  {
   "cell_type": "markdown",
   "metadata": {},
   "source": [
    "## Using as a Retriever\n",
    "\n",
    "You can use the vector store as a retriever in LangChain chains:"
   ]
  },
  {
   "cell_type": "code",
   "execution_count": null,
   "metadata": {},
   "outputs": [],
   "source": [
    "# Create a retriever from the vector store\n",
    "retriever = vector_store.as_retriever(search_type=\"similarity\", search_kwargs={\"k\": 3})\n",
    "\n",
    "# Use the retriever\n",
    "query = \"What is Snowflake?\"\n",
    "retrieved_docs = retriever.invoke(query)\n",
    "\n",
    "print(f\"Query: {query}\")\n",
    "print(f\"Retrieved {len(retrieved_docs)} documents:\\n\")\n",
    "\n",
    "for i, doc in enumerate(retrieved_docs, 1):\n",
    "    print(f\"{i}. {doc.page_content}\")\n",
    "    print(f\"   Metadata: {doc.metadata}\\n\")"
   ]
  },
  {
   "cell_type": "markdown",
   "metadata": {},
   "source": [
    "## Batch Operations\n",
    "\n",
    "Create vector store from texts using the class method:"
   ]
  },
  {
   "cell_type": "code",
   "execution_count": null,
   "metadata": {},
   "outputs": [],
   "source": [
    "# Create from texts (class method)\n",
    "texts = [\n",
    "    \"Snowflake supports VECTOR data types for efficient similarity search.\",\n",
    "    \"VECTOR_COSINE_SIMILARITY is a built-in function in Snowflake.\",\n",
    "    \"Cloud data warehouses provide scalable analytics capabilities.\",\n",
    "]\n",
    "\n",
    "vector_store_from_texts = SnowflakeVectorStore.from_texts(\n",
    "    texts=texts,\n",
    "    embedding=embeddings,\n",
    "    account=SNOWFLAKE_ACCOUNT,\n",
    "    user=SNOWFLAKE_USER,\n",
    "    password=SNOWFLAKE_PASSWORD,\n",
    "    database=SNOWFLAKE_DATABASE,\n",
    "    schema=SNOWFLAKE_SCHEMA,\n",
    "    warehouse=SNOWFLAKE_WAREHOUSE,\n",
    "    role=SNOWFLAKE_ROLE,\n",
    "    table_name=\"batch_vector_store\",\n",
    "    embedding_dimension=1536,\n",
    ")\n",
    "\n",
    "print(f\"Created vector store from {len(texts)} texts\")"
   ]
  },
  {
   "cell_type": "markdown",
   "metadata": {},
   "source": [
    "## Advanced Features\n",
    "\n",
    "### Custom Table Management\n",
    "\n",
    "You can recreate the table if needed:"
   ]
  },
  {
   "cell_type": "code",
   "execution_count": null,
   "metadata": {},
   "outputs": [],
   "source": [
    "# Recreate the table (this will delete all existing data)\n",
    "# vector_store.recreate_table()\n",
    "# print(\"Table recreated successfully\")"
   ]
  },
  {
   "cell_type": "markdown",
   "metadata": {},
   "source": [
    "### Configuration Parameters\n",
    "\n",
    "Here's a comprehensive overview of all configuration parameters:\n",
    "\n",
    "| Parameter | Description | Required |\n",
    "|-----------|-------------|----------|\n",
    "| account | Snowflake account identifier | Yes |\n",
    "| user | Username for authentication | Yes |\n",
    "| password | Password for authentication | Yes |\n",
    "| database | Database name | Yes |\n",
    "| schema | Schema name | Yes |\n",
    "| warehouse | Warehouse name | Yes |\n",
    "| role | Role name | No |\n",
    "| table_name | Table name for storing vectors | Yes |\n",
    "| embedding_function | Function to generate embeddings | Yes |\n",
    "| embedding_dimension | Dimension of embedding vectors | Yes |"
   ]
  },
  {
   "cell_type": "markdown",
   "metadata": {},
   "source": [
    "## Key Features\n",
    "\n",
    "The Snowflake Vector Store provides:\n",
    "\n",
    "1. **Native Vector Support**: Uses Snowflake's VECTOR data type for efficient storage\n",
    "2. **Cosine Similarity**: Leverages VECTOR_COSINE_SIMILARITY function for fast similarity search\n",
    "3. **Scalability**: Benefits from Snowflake's cloud-native architecture\n",
    "4. **Security**: Enterprise-grade security features\n",
    "5. **Integration**: Seamless integration with existing Snowflake workflows\n",
    "6. **Metadata Support**: Store and query document metadata alongside vectors\n",
    "7. **Batch Operations**: Efficient bulk insert and query operations\n",
    "\n",
    "## Requirements\n",
    "\n",
    "- Python 3.8+\n",
    "- Snowflake account with vector support\n",
    "- LangChain Core\n",
    "- Snowflake Connector for Python\n",
    "- SQLAlchemy\n",
    "\n",
    "## Snowflake Setup\n",
    "\n",
    "Your Snowflake account must support the VECTOR data type and VECTOR_COSINE_SIMILARITY function. These features are available in recent Snowflake versions.\n",
    "\n",
    "### Required Permissions\n",
    "\n",
    "Ensure your Snowflake role has the following permissions:\n",
    "\n",
    "- CREATE TABLE on the target schema\n",
    "- INSERT, SELECT, UPDATE, DELETE on the vector table\n",
    "- USAGE on the database, schema, and warehouse\n",
    "\n",
    "## Best Practices\n",
    "\n",
    "- Use appropriate embedding dimensions for your use case\n",
    "- Consider indexing strategies for large datasets\n",
    "- Leverage Snowflake's clustering keys for better performance\n",
    "- Monitor warehouse usage and scale as needed\n",
    "- Use metadata effectively for filtering and organization\n",
    "\n",
    "## Troubleshooting\n",
    "\n",
    "Common issues and solutions:\n",
    "\n",
    "1. **Connection Issues**: Verify your Snowflake credentials and network connectivity\n",
    "2. **Permission Errors**: Ensure your role has necessary privileges on the database and schema\n",
    "3. **Table Creation**: Make sure the warehouse is running and has sufficient resources\n",
    "4. **Embedding Dimension Mismatch**: Ensure the embedding dimension matches your model's output\n",
    "\n",
    "For more information, refer to the [Snowflake documentation](https://docs.snowflake.com/) and [LangChain documentation](https://python.langchain.com/)."
   ]
  }
 ],
 "metadata": {
  "kernelspec": {
   "display_name": "Python 3",
   "language": "python",
   "name": "python3"
  },
  "language_info": {
   "codemirror_mode": {
    "name": "ipython",
    "version": 3
   },
   "file_extension": ".py",
   "mimetype": "text/x-python",
   "name": "python",
   "nbconvert_exporter": "python",
   "pygments_lexer": "ipython3",
   "version": "3.11.0"
  }
 },
 "nbformat": 4,
 "nbformat_minor": 4
}
