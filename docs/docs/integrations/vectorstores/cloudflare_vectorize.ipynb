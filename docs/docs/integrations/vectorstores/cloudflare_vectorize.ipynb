{
 "cells": [
  {
   "cell_type": "markdown",
   "metadata": {
    "collapsed": false
   },
   "source": [
    "# Cloudflare Vectorize Walkthrough\n",
    "\n",
    "This notebook demonstrates Cloudflare Vectorize's functionality via the LangChain community integration."
   ]
  },
  {
   "cell_type": "code",
   "metadata": {
    "collapsed": false,
    "ExecuteTime": {
     "end_time": "2025-04-01T15:51:50.386256Z",
     "start_time": "2025-04-01T15:51:50.169714Z"
    }
   },
   "source": [
    "import json\n",
    "import asyncio\n",
    "import warnings\n",
    "from uuid import uuid4\n",
    "import os\n",
    "from dotenv import load_dotenv\n",
    "\n",
    "warnings.filterwarnings('ignore')\n",
    "\n",
    "from langchain_community.embeddings.cloudflare_workersai import CloudflareWorkersAIEmbeddings\n",
    "from langchain_community.vectorstores.cloudflare_vectorize import CloudflareVectorize\n",
    "\n",
    "from langchain_community.document_loaders import WikipediaLoader\n",
    "from langchain_text_splitters import RecursiveCharacterTextSplitter"
   ],
   "outputs": [],
   "execution_count": 1
  },
  {
   "cell_type": "markdown",
   "metadata": {
    "collapsed": false
   },
   "source": [
    "# Setup/Params"
   ]
  },
  {
   "cell_type": "code",
   "metadata": {
    "collapsed": false,
    "ExecuteTime": {
     "end_time": "2025-04-01T15:51:50.394812Z",
     "start_time": "2025-04-01T15:51:50.393102Z"
    }
   },
   "source": [
    "# name your vectorize index\n",
    "vectorize_index_name = f\"test-langchain-{uuid4().hex}\""
   ],
   "outputs": [],
   "execution_count": 2
  },
  {
   "cell_type": "markdown",
   "metadata": {
    "collapsed": false
   },
   "source": [
    "## Embeddings\n",
    "\n",
    "For storage of embeddings, semantic search and retrieval, you must embed your raw values as embeddings.  Specify an embedding model, one available on WorkersAI\n",
    "\n",
    "[https://developers.cloudflare.com/workers-ai/models/](https://developers.cloudflare.com/workers-ai/models/)"
   ]
  },
  {
   "cell_type": "code",
   "metadata": {
    "collapsed": false,
    "ExecuteTime": {
     "end_time": "2025-04-01T15:51:50.466302Z",
     "start_time": "2025-04-01T15:51:50.464688Z"
    }
   },
   "source": [
    "MODEL_WORKERSAI = \"@cf/baai/bge-large-en-v1.5\""
   ],
   "outputs": [],
   "execution_count": 3
  },
  {
   "cell_type": "markdown",
   "metadata": {
    "collapsed": false
   },
   "source": [
    "## Raw Values with D1\n",
    "\n",
    "Vectorize only stores embeddings, metadata and namespaces. If you want to store and retrieve raw values, you must leverage Cloudflare's SQL Database D1.\n",
    "\n",
    "You can create a database here and retrieve its id:\n",
    "\n",
    "[https://dash.cloudflare.com/YOUR-ACCT-NUMBER/workers/d1"
   ]
  },
  {
   "cell_type": "code",
   "metadata": {
    "collapsed": false,
    "ExecuteTime": {
     "end_time": "2025-04-01T15:51:50.472337Z",
     "start_time": "2025-04-01T15:51:50.470764Z"
    }
   },
   "source": [
    "# provide the id of your D1 Database\n",
    "d1_database_id = \"8ce9ce08-8961-475c-98fb-1ef0e6e4ca40\""
   ],
   "outputs": [],
   "execution_count": 4
  },
  {
   "cell_type": "markdown",
   "metadata": {
    "collapsed": false
   },
   "source": [
    "## API Tokens\n",
    "\n",
    "This Python package is a wrapper around Cloudflare's REST API.  To interact with the API, you need to provid an API token with the appropriate privileges.\n",
    "\n",
    "You can create and manage API tokens here:\n",
    "\n",
    "https://dash.cloudflare.com/YOUR-ACCT-NUMBER/api-tokens"
   ]
  },
  {
   "cell_type": "code",
   "metadata": {
    "collapsed": false,
    "ExecuteTime": {
     "end_time": "2025-04-01T15:51:50.479744Z",
     "start_time": "2025-04-01T15:51:50.477543Z"
    }
   },
   "source": [
    "load_dotenv(\".env\");"
   ],
   "outputs": [],
   "execution_count": 5
  },
  {
   "cell_type": "markdown",
   "metadata": {
    "collapsed": false
   },
   "source": [
    "**Note:**\n",
    "CloudflareVectorize depends on WorkersAI, Vectorize (and D1 if you are using it to store and retrieve raw values).\n",
    "\n",
    "While you can create a single `api_token` with Edit privileges to all needed resources (WorkersAI, Vectorize & D1), you may want to follow the principle of \"least privilege access\" and create separate API tokens for each service\n"
   ]
  },
  {
   "cell_type": "code",
   "metadata": {
    "collapsed": false,
    "ExecuteTime": {
     "end_time": "2025-04-01T15:51:50.486593Z",
     "start_time": "2025-04-01T15:51:50.484705Z"
    }
   },
   "source": [
    "cf_acct_id = os.getenv(\"cf_acct_id\")\n",
    "\n",
    "# single token with WorkersAI, Vectorize & D1\n",
    "api_token = os.getenv(\"api_token\")\n",
    "\n",
    "# OR, separate tokens with access to each service\n",
    "cf_vectorize_token = os.getenv(\"cf_vectorize_token\")\n",
    "cf_d1_token = os.getenv(\"d1_api_token\")"
   ],
   "outputs": [],
   "execution_count": 6
  },
  {
   "cell_type": "markdown",
   "metadata": {
    "collapsed": false
   },
   "source": [
    "# Documents\n",
    "\n",
    "For this example, we will use LangChain's Wikipedia loader to pull an article about Cloudflare.  We will store this in Vectorize and query its contents later."
   ]
  },
  {
   "cell_type": "code",
   "metadata": {
    "collapsed": false,
    "ExecuteTime": {
     "end_time": "2025-04-01T15:51:52.670003Z",
     "start_time": "2025-04-01T15:51:50.491150Z"
    }
   },
   "source": [
    "docs = WikipediaLoader(query=\"Cloudflare\", load_max_docs=2).load()"
   ],
   "outputs": [],
   "execution_count": 7
  },
  {
   "cell_type": "markdown",
   "metadata": {
    "collapsed": false
   },
   "source": [
    "We will then create some simple chunks with metadata based on the chunk sections."
   ]
  },
  {
   "cell_type": "code",
   "metadata": {
    "collapsed": false,
    "ExecuteTime": {
     "end_time": "2025-04-01T15:51:52.686449Z",
     "start_time": "2025-04-01T15:51:52.680698Z"
    }
   },
   "source": [
    "text_splitter = RecursiveCharacterTextSplitter(\n",
    "    # Set a really small chunk size, just to show.\n",
    "    chunk_size=100,\n",
    "    chunk_overlap=20,\n",
    "    length_function=len,\n",
    "    is_separator_regex=False,\n",
    ")\n",
    "texts = text_splitter.create_documents([docs[0].page_content])\n",
    "\n",
    "running_section = \"\"\n",
    "for idx, text in enumerate(texts):\n",
    "    if text.page_content.startswith(\"=\"):\n",
    "        running_section = text.page_content\n",
    "        running_section = running_section.replace(\"=\", \"\").strip()\n",
    "    else:\n",
    "        if running_section == \"\":\n",
    "            text.metadata = {\"section\": \"Introduction\"}\n",
    "        else:\n",
    "            text.metadata = {\"section\": running_section}"
   ],
   "outputs": [],
   "execution_count": 8
  },
  {
   "cell_type": "markdown",
   "metadata": {
    "collapsed": false
   },
   "source": [
    "These chunks look like this:\n"
   ]
  },
  {
   "cell_type": "code",
   "metadata": {
    "collapsed": false,
    "ExecuteTime": {
     "end_time": "2025-04-01T15:51:52.697260Z",
     "start_time": "2025-04-01T15:51:52.694274Z"
    }
   },
   "source": [
    "print(texts[0], \"\\n\\n\", texts[-1])"
   ],
   "outputs": [
    {
     "name": "stdout",
     "output_type": "stream",
     "text": [
      "page_content='Cloudflare, Inc., is an American company that provides content delivery network services,' metadata={'section': 'Introduction'} \n",
      "\n",
      " page_content='attacks, Cloudflare ended up being attacked as well; Google and other companies eventually' metadata={'section': 'DDoS mitigation'}\n"
     ]
    }
   ],
   "execution_count": 9
  },
  {
   "cell_type": "markdown",
   "metadata": {
    "collapsed": false
   },
   "source": [
    "# Embeddings\n",
    "\n",
    "In this example, we will create some embeddings using an embeddings model from WorkersAI and the `CloudflareWorkersAIEmbeddings` class from LangChain.\n",
    "\n",
    "This will instantiate that \"embedder\" for later use.\n"
   ]
  },
  {
   "cell_type": "code",
   "metadata": {
    "collapsed": false,
    "ExecuteTime": {
     "end_time": "2025-04-01T15:51:52.718596Z",
     "start_time": "2025-04-01T15:51:52.716073Z"
    }
   },
   "source": [
    "cf_ai_token = os.getenv(\"cf_ai_token\")  # needed if you want to use workersAI for embeddings\n",
    "\n",
    "embedder = CloudflareWorkersAIEmbeddings(\n",
    "    account_id=cf_acct_id,\n",
    "    api_token=cf_ai_token,\n",
    "    model_name=MODEL_WORKERSAI\n",
    ")"
   ],
   "outputs": [],
   "execution_count": 10
  },
  {
   "cell_type": "markdown",
   "metadata": {
    "collapsed": false
   },
   "source": [
    "# CloudflareVectorize Class\n",
    "\n",
    "Now we can create the CloudflareVectorize instance.  Here we passed:\n",
    "\n",
    "* The `embedding` instance from earlier\n",
    "* The account ID\n",
    "* A global API token for all services (WorkersAI, Vectorize, D1)\n",
    "* Individual API tokens for each service"
   ]
  },
  {
   "cell_type": "code",
   "metadata": {
    "collapsed": false,
    "ExecuteTime": {
     "end_time": "2025-04-01T15:51:52.731893Z",
     "start_time": "2025-04-01T15:51:52.729938Z"
    }
   },
   "source": [
    "cfVect = CloudflareVectorize(\n",
    "    embedding=embedder,\n",
    "    account_id=cf_acct_id,\n",
    "    api_token=api_token,  #(Optional if using service-specific token)\n",
    "    d1_api_token=cf_d1_token,  #(Optional if using global token)\n",
    "    vectorize_api_token=cf_vectorize_token,  #(Optional if using global token)\n",
    "    d1_database_id=d1_database_id,  #(Optional if not using D1)\n",
    ")"
   ],
   "outputs": [],
   "execution_count": 11
  },
  {
   "cell_type": "markdown",
   "metadata": {
    "collapsed": false
   },
   "source": [
    "**Note:** These service-specific tokens (if provided) will take preference over a global token.  You could provide these instead of a global token.\n"
   ]
  },
  {
   "cell_type": "markdown",
   "metadata": {},
   "source": [
    "# Cleanup\n",
    "Before we get started, let's delete any `test-langchain*` indexes we have for this walkthrough"
   ]
  },
  {
   "cell_type": "code",
   "metadata": {
    "ExecuteTime": {
     "end_time": "2025-04-01T15:51:56.183158Z",
     "start_time": "2025-04-01T15:51:52.737594Z"
    }
   },
   "source": [
    "# depending on your notebook environment you might need to include:\n",
    "# import nest_asyncio\n",
    "# nest_asyncio.apply()\n",
    "\n",
    "arr_indexes = cfVect.list_indexes()\n",
    "arr_indexes = [x for x in arr_indexes if \"test-langchain\" in x.get(\"name\")]\n",
    "arr_async_requests = [\n",
    "    cfVect.adelete_index(index_name=x.get(\"name\"))\n",
    "    for x in arr_indexes\n",
    "]\n",
    "await asyncio.gather(*arr_async_requests);"
   ],
   "outputs": [],
   "execution_count": 12
  },
  {
   "cell_type": "markdown",
   "metadata": {
    "collapsed": false
   },
   "source": [
    "## Gotchyas\n",
    "\n",
    "A few \"gotchyas\" are shown below for various missing token/parameter combinations"
   ]
  },
  {
   "cell_type": "markdown",
   "metadata": {
    "collapsed": false
   },
   "source": [
    "D1 Database ID provided but no \"global\" `api_token` and no `d1_api_token`"
   ]
  },
  {
   "cell_type": "code",
   "metadata": {
    "collapsed": false,
    "ExecuteTime": {
     "end_time": "2025-04-01T15:51:56.198146Z",
     "start_time": "2025-04-01T15:51:56.194302Z"
    }
   },
   "source": [
    "try:\n",
    "    cfVect = CloudflareVectorize(\n",
    "        embedding=embedder,\n",
    "        account_id=cf_acct_id,\n",
    "        # api_token=api_token, #(Optional if using service-specific token)\n",
    "        ai_api_token=cf_ai_token,  #(Optional if using global token)\n",
    "        # d1_api_token=cf_d1_token,  #(Optional if using global token)\n",
    "        vectorize_api_token=cf_vectorize_token,  #(Optional if using global token)\n",
    "        d1_database_id=d1_database_id,  #(Optional if not using D1)\n",
    "    )\n",
    "except Exception as e:\n",
    "    print(str(e))"
   ],
   "outputs": [
    {
     "name": "stdout",
     "output_type": "stream",
     "text": [
      "`d1_database_id` provided, but no global `api_token` provided and no `d1_api_token` provided.\n"
     ]
    }
   ],
   "execution_count": 13
  },
  {
   "cell_type": "markdown",
   "metadata": {
    "collapsed": false
   },
   "source": [
    "No \"global\" `api_token` provided and either missing `ai_api_token` or `vectorize_api_token`"
   ]
  },
  {
   "cell_type": "code",
   "metadata": {
    "collapsed": false,
    "ExecuteTime": {
     "end_time": "2025-04-01T15:51:56.222472Z",
     "start_time": "2025-04-01T15:51:56.219749Z"
    }
   },
   "source": [
    "try:\n",
    "    cfVect = CloudflareVectorize(\n",
    "        embedding=embedder,\n",
    "        account_id=cf_acct_id,\n",
    "        # api_token=api_token, #(Optional if using service-specific token)\n",
    "        # ai_api_token=cf_ai_token,  #(Optional if using global token)\n",
    "        d1_api_token=cf_d1_token,  #(Optional if using global token)\n",
    "        vectorize_api_token=cf_vectorize_token,  #(Optional if using global token)\n",
    "        d1_database_id=d1_database_id,  #(Optional if not using D1)\n",
    "    )\n",
    "except Exception as e:\n",
    "    print(str(e))"
   ],
   "outputs": [],
   "execution_count": 14
  },
  {
   "cell_type": "markdown",
   "metadata": {
    "collapsed": false
   },
   "source": [
    "# Creating an Index\n",
    "\n",
    "Let's start off this example by creating and index (and first deleting if it exists).  If the index doesn't exist we will get a an error from Cloudflare telling us so."
   ]
  },
  {
   "cell_type": "code",
   "metadata": {
    "collapsed": false,
    "ExecuteTime": {
     "end_time": "2025-04-01T15:51:56.523699Z",
     "start_time": "2025-04-01T15:51:56.233607Z"
    }
   },
   "source": [
    "%%capture\n",
    "\n",
    "try:\n",
    "    cfVect.delete_index(index_name=vectorize_index_name)\n",
    "except Exception as e:\n",
    "    print(e)"
   ],
   "outputs": [],
   "execution_count": 15
  },
  {
   "cell_type": "code",
   "metadata": {
    "collapsed": false,
    "ExecuteTime": {
     "end_time": "2025-04-01T15:52:01.294455Z",
     "start_time": "2025-04-01T15:51:56.529444Z"
    }
   },
   "source": [
    "r = cfVect.create_index(\n",
    "    index_name=vectorize_index_name\n",
    ")"
   ],
   "outputs": [],
   "execution_count": 16
  },
  {
   "cell_type": "code",
   "metadata": {
    "collapsed": false,
    "ExecuteTime": {
     "end_time": "2025-04-01T15:52:01.307937Z",
     "start_time": "2025-04-01T15:52:01.305232Z"
    }
   },
   "source": [
    "print(r)"
   ],
   "outputs": [
    {
     "name": "stdout",
     "output_type": "stream",
     "text": [
      "{'created_on': '2025-04-01T15:51:56.961142Z', 'modified_on': '2025-04-01T15:51:56.961142Z', 'name': 'test-langchain-4453e5b35b734508b15a9f5804564148', 'description': '', 'config': {'dimensions': 1024, 'metric': 'cosine'}}\n"
     ]
    }
   ],
   "execution_count": 17
  },
  {
   "cell_type": "markdown",
   "metadata": {
    "collapsed": false
   },
   "source": [
    "# Listing Indexes\n",
    "\n",
    "Now, we can list our indexes on our account"
   ]
  },
  {
   "cell_type": "code",
   "metadata": {
    "collapsed": false,
    "ExecuteTime": {
     "end_time": "2025-04-01T15:52:01.559497Z",
     "start_time": "2025-04-01T15:52:01.317268Z"
    }
   },
   "source": [
    "indexes = cfVect.list_indexes()\n",
    "indexes = [x for x in indexes if \"test-langchain\" in x.get(\"name\")]\n",
    "print(indexes)"
   ],
   "outputs": [
    {
     "name": "stdout",
     "output_type": "stream",
     "text": [
      "[{'created_on': '2025-04-01T15:51:56.961142Z', 'modified_on': '2025-04-01T15:51:56.961142Z', 'name': 'test-langchain-4453e5b35b734508b15a9f5804564148', 'description': '', 'config': {'dimensions': 1024, 'metric': 'cosine'}}]\n"
     ]
    }
   ],
   "execution_count": 18
  },
  {
   "cell_type": "markdown",
   "metadata": {
    "collapsed": false
   },
   "source": [
    "# Get Index\n",
    "We can also get certain indexes and retrieve more granular information about an index"
   ]
  },
  {
   "cell_type": "code",
   "metadata": {
    "collapsed": false,
    "ExecuteTime": {
     "end_time": "2025-04-01T15:52:01.871093Z",
     "start_time": "2025-04-01T15:52:01.623980Z"
    }
   },
   "source": [
    "r = cfVect.get_index(index_name=vectorize_index_name)\n",
    "print(r)"
   ],
   "outputs": [
    {
     "name": "stdout",
     "output_type": "stream",
     "text": [
      "{'created_on': '2025-04-01T15:51:56.961142Z', 'modified_on': '2025-04-01T15:51:56.961142Z', 'name': 'test-langchain-4453e5b35b734508b15a9f5804564148', 'description': '', 'config': {'dimensions': 1024, 'metric': 'cosine'}}\n"
     ]
    }
   ],
   "execution_count": 19
  },
  {
   "cell_type": "markdown",
   "metadata": {
    "collapsed": false
   },
   "source": [
    "This call returns a `processedUpToMutation` which can be used to track the status of operations such as creating indexes, adding or deleting records."
   ]
  },
  {
   "cell_type": "code",
   "metadata": {
    "collapsed": false,
    "ExecuteTime": {
     "end_time": "2025-04-01T15:52:03.465239Z",
     "start_time": "2025-04-01T15:52:01.938751Z"
    }
   },
   "source": [
    "r = cfVect.get_index_info(index_name=vectorize_index_name)\n",
    "print(r)"
   ],
   "outputs": [
    {
     "name": "stdout",
     "output_type": "stream",
     "text": [
      "{'dimensions': 1024, 'vectorCount': 0}\n"
     ]
    }
   ],
   "execution_count": 20
  },
  {
   "cell_type": "markdown",
   "metadata": {
    "collapsed": false
   },
   "source": [
    "# Adding Metadata Indexes\n",
    "\n",
    "It is common to assist retrieval by supplying metadata filters in quereies.  In Vectorize, this is accomplished by first creating a \"metadata index\" on your Vectorize Index.  We will do so for our example by creating one on the `section` field in our documents.\n",
    "\n",
    "**Reference:** [https://developers.cloudflare.com/vectorize/reference/metadata-filtering/](https://developers.cloudflare.com/vectorize/reference/metadata-filtering/)\n"
   ]
  },
  {
   "cell_type": "code",
   "metadata": {
    "collapsed": false,
    "ExecuteTime": {
     "end_time": "2025-04-01T15:54:08.201923Z",
     "start_time": "2025-04-01T15:52:03.540507Z"
    }
   },
   "source": [
    "r = cfVect.create_metadata_index(\n",
    "    property_name=\"section\",\n",
    "    index_type=\"string\",\n",
    "    index_name=vectorize_index_name,\n",
    "    wait=True\n",
    ")\n",
    "print(r)"
   ],
   "outputs": [
    {
     "name": "stdout",
     "output_type": "stream",
     "text": [
      "{'mutationId': 'd72b809d-68a3-4a51-9378-64cfab1b6121'}\n"
     ]
    }
   ],
   "execution_count": 21
  },
  {
   "cell_type": "markdown",
   "metadata": {},
   "source": [
    "# Listing Metadata Indexes"
   ]
  },
  {
   "cell_type": "code",
   "metadata": {
    "ExecuteTime": {
     "end_time": "2025-04-01T15:54:08.484645Z",
     "start_time": "2025-04-01T15:54:08.242318Z"
    }
   },
   "source": [
    "r = cfVect.list_metadata_indexes(\n",
    "    index_name=vectorize_index_name\n",
    ")\n",
    "print(r)"
   ],
   "outputs": [
    {
     "name": "stdout",
     "output_type": "stream",
     "text": [
      "[{'propertyName': 'section', 'indexType': 'String'}]\n"
     ]
    }
   ],
   "execution_count": 22
  },
  {
   "cell_type": "markdown",
   "metadata": {
    "collapsed": false
   },
   "source": [
    "# Adding Documents\n",
    "\n",
    "Now we will add documents to our Vectorize Index.\n",
    "\n",
    "**Note:**\n",
    "Adding embeddings to Vectorize happens `asyncronously`, meaning there will be a small delay between adding the embeddings and being able to query them.  By default `add_documents` has a `wait=True` parameter which waits for this operation to complete before returning a response.  If you do not want the program to wait for embeddings availability, you can set this to `wait=False`.\n"
   ]
  },
  {
   "cell_type": "code",
   "metadata": {
    "collapsed": false,
    "ExecuteTime": {
     "end_time": "2025-04-01T15:57:13.723486Z",
     "start_time": "2025-04-01T15:54:08.510467Z"
    }
   },
   "source": [
    "r = cfVect.add_documents(\n",
    "    index_name=vectorize_index_name,\n",
    "    documents=texts,\n",
    "    wait=True\n",
    ")"
   ],
   "outputs": [],
   "execution_count": 23
  },
  {
   "cell_type": "code",
   "metadata": {
    "collapsed": false,
    "ExecuteTime": {
     "end_time": "2025-04-01T15:57:13.744270Z",
     "start_time": "2025-04-01T15:57:13.741326Z"
    }
   },
   "source": [
    "print(json.dumps(r)[:300])"
   ],
   "outputs": [
    {
     "name": "stdout",
     "output_type": "stream",
     "text": [
      "[\"0b55e4ed-63ca-45fd-bca6-86ab9840c0bd\", \"86beb57b-af02-4039-b172-eb5179781be8\", \"4dab0e0f-20ae-4ba8-a777-86b2024b2d26\", \"c66d977e-1357-4b4b-b45b-63cbd050c877\", \"f48dd942-c3fc-443b-ab22-82d116c5412b\", \"344bde04-beb0-4aef-9f1b-801506413d46\", \"6eef3e5b-ae8a-40cd-a64a-1ed68a4da975\", \"be2cfdf2-b06d-463f\n"
     ]
    }
   ],
   "execution_count": 24
  },
  {
   "cell_type": "markdown",
   "metadata": {
    "collapsed": false
   },
   "source": [
    "# Query/Search\n",
    "\n",
    "We will do some searches on our embeddings.  We can specify our search `query` and the top number of results we want with `k`.\n"
   ]
  },
  {
   "cell_type": "code",
   "metadata": {
    "collapsed": false,
    "ExecuteTime": {
     "end_time": "2025-04-01T15:57:17.680949Z",
     "start_time": "2025-04-01T15:57:13.785171Z"
    }
   },
   "source": [
    "query_documents = cfVect.similarity_search(\n",
    "    index_name=vectorize_index_name,\n",
    "    query=\"Workers AI\",\n",
    "    k=100\n",
    ")\n",
    "\n",
    "print(f\"{len(query_documents)} results:\\n{query_documents[0:2]}\")"
   ],
   "outputs": [
    {
     "name": "stdout",
     "output_type": "stream",
     "text": [
      "20 results:\n",
      "[Document(id='c64e0a83-c54e-46f1-ac40-6c64a5c95659', metadata={'section': 'Artificial intelligence'}, page_content=\"In 2023, Cloudflare launched Workers AI, a framework allowing for use of Nvidia GPU's within\"), Document(id='ee8e3742-ef2f-4b4b-ac2a-dc0baf54bac4', metadata={'section': 'Artificial intelligence'}, page_content='based on queries by leveraging Workers AI.Cloudflare announced plans in September 2024 to launch a')]\n"
     ]
    }
   ],
   "execution_count": 25
  },
  {
   "cell_type": "markdown",
   "metadata": {
    "collapsed": false
   },
   "source": [
    "## Output\n",
    "\n",
    "If you want to return metadata you can pass `return_metadata='all' | 'indexed'`.  The default is `none` or no metadata returned.\n",
    "\n",
    "If you want to return the embeddings values, you can pass `return_values=True`.  The default is `False`\n",
    "\n",
    "**Note:**\n",
    "If you pass non-default values for either of these, the results will be limited to 20.\n",
    "\n",
    "[https://developers.cloudflare.com/vectorize/platform/limits/](https://developers.cloudflare.com/vectorize/platform/limits/)"
   ]
  },
  {
   "cell_type": "code",
   "metadata": {
    "collapsed": false,
    "ExecuteTime": {
     "end_time": "2025-04-01T15:57:19.136781Z",
     "start_time": "2025-04-01T15:57:17.698904Z"
    }
   },
   "source": [
    "query_documents = cfVect.similarity_search(\n",
    "    index_name=vectorize_index_name,\n",
    "    query=\"Workers AI\",\n",
    "    return_values=True,\n",
    "    return_metadata='all',\n",
    "    k=100\n",
    ")"
   ],
   "outputs": [],
   "execution_count": 26
  },
  {
   "cell_type": "code",
   "metadata": {
    "collapsed": false,
    "ExecuteTime": {
     "end_time": "2025-04-01T15:57:19.147720Z",
     "start_time": "2025-04-01T15:57:19.144279Z"
    }
   },
   "source": "print(f\"{len(query_documents)} results:\\n{str(query_documents[0])}\")",
   "outputs": [
    {
     "name": "stdout",
     "output_type": "stream",
     "text": [
      "20 results:\n",
      "page_content='In 2023, Cloudflare launched Workers AI, a framework allowing for use of Nvidia GPU's within' metadata={'section': 'Artificial intelligence'}\n"
     ]
    }
   ],
   "execution_count": 27
  },
  {
   "cell_type": "markdown",
   "metadata": {
    "collapsed": false
   },
   "source": "If you'd like the similarity `scores` to be returned, you can use `similarity_search_with_score`\n"
  },
  {
   "cell_type": "code",
   "metadata": {
    "collapsed": false,
    "ExecuteTime": {
     "end_time": "2025-04-01T15:57:20.609872Z",
     "start_time": "2025-04-01T15:57:19.156583Z"
    }
   },
   "source": [
    "query_documents, query_scores = \\\n",
    "    cfVect.similarity_search_with_score(\n",
    "        index_name=vectorize_index_name,\n",
    "        query=\"Workers AI\",\n",
    "        k=100,\n",
    "        return_metadata=\"all\",\n",
    "    )"
   ],
   "outputs": [],
   "execution_count": 28
  },
  {
   "metadata": {
    "ExecuteTime": {
     "end_time": "2025-04-01T15:57:20.624664Z",
     "start_time": "2025-04-01T15:57:20.621326Z"
    }
   },
   "cell_type": "code",
   "source": "print(query_documents[:4])",
   "outputs": [
    {
     "name": "stdout",
     "output_type": "stream",
     "text": [
      "[Document(id='c64e0a83-c54e-46f1-ac40-6c64a5c95659', metadata={'section': 'Artificial intelligence'}, page_content=\"In 2023, Cloudflare launched Workers AI, a framework allowing for use of Nvidia GPU's within\"), Document(id='ee8e3742-ef2f-4b4b-ac2a-dc0baf54bac4', metadata={'section': 'Artificial intelligence'}, page_content='based on queries by leveraging Workers AI.Cloudflare announced plans in September 2024 to launch a'), Document(id='e9e11d8e-f699-41dd-9d20-8ec684816d67', metadata={}, page_content='=== Artificial intelligence ==='), Document(id='c2fff29f-f7dc-49bf-a878-ff3318ecf8a3', metadata={'section': 'Artificial intelligence'}, page_content='To build automatic bot detector models, the company analyzed AI bots and crawler traffic.The')]\n"
     ]
    }
   ],
   "execution_count": 29
  },
  {
   "metadata": {
    "ExecuteTime": {
     "end_time": "2025-04-01T15:57:20.641398Z",
     "start_time": "2025-04-01T15:57:20.638990Z"
    }
   },
   "cell_type": "code",
   "source": "print(query_scores[:4])",
   "outputs": [
    {
     "name": "stdout",
     "output_type": "stream",
     "text": [
      "[0.7912225, 0.7665613, 0.7359264, 0.6721707]\n"
     ]
    }
   ],
   "execution_count": 30
  },
  {
   "cell_type": "markdown",
   "metadata": {
    "collapsed": false
   },
   "source": [
    "## Including D1 for \"Raw Values\"\n",
    "All of the `add` and `search` methods on CloudflareVectorize support a `include_d1` parameter (default=True).\n",
    "\n",
    "This is to configure whether you want to store/retrieve raw values.\n",
    "\n",
    "If you do not want to use D1 for this, you can set this to `include=False`.  This will return documents with an empty `page_content` field."
   ]
  },
  {
   "cell_type": "code",
   "metadata": {
    "collapsed": false,
    "ExecuteTime": {
     "end_time": "2025-04-01T15:57:21.662975Z",
     "start_time": "2025-04-01T15:57:20.660987Z"
    }
   },
   "source": [
    "query_documents, query_scores = \\\n",
    "    cfVect.similarity_search_with_score(\n",
    "        index_name=vectorize_index_name,\n",
    "        query=\"california\",\n",
    "        k=100,\n",
    "        return_metadata=\"all\",\n",
    "        include_d1=False\n",
    "    )"
   ],
   "outputs": [],
   "execution_count": 31
  },
  {
   "cell_type": "code",
   "metadata": {
    "collapsed": false,
    "ExecuteTime": {
     "end_time": "2025-04-01T15:57:21.676802Z",
     "start_time": "2025-04-01T15:57:21.674059Z"
    }
   },
   "source": [
    "print(f\"{len(query_documents)} results:\\n{query_scores[0]} - {str(query_documents[0])[:900]}\")"
   ],
   "outputs": [
    {
     "name": "stdout",
     "output_type": "stream",
     "text": [
      "20 results:\n",
      "0.6114662 - page_content='' metadata={'section': 'Introduction'}\n"
     ]
    }
   ],
   "execution_count": 32
  },
  {
   "cell_type": "markdown",
   "metadata": {
    "collapsed": false
   },
   "source": [
    "## Searching with Metadata Filtering\n",
    "\n",
    "As mentioned before, Vectorize supports filtered search via filtered on indexes metadata fields.  Here is an example where we search for `Introduction` values within the indexed `section` metadata field.\n",
    "\n",
    "More info on searching on Metadata fields is here: [https://developers.cloudflare.com/vectorize/reference/metadata-filtering/](https://developers.cloudflare.com/vectorize/reference/metadata-filtering/)\n"
   ]
  },
  {
   "cell_type": "code",
   "metadata": {
    "collapsed": false,
    "ExecuteTime": {
     "end_time": "2025-04-01T15:57:23.126594Z",
     "start_time": "2025-04-01T15:57:21.683497Z"
    }
   },
   "source": [
    "query_documents, query_scores = \\\n",
    "    cfVect.similarity_search_with_score(\n",
    "        index_name=vectorize_index_name,\n",
    "        query=\"California\",\n",
    "        k=100,\n",
    "        md_filter={\"section\": \"Introduction\"},\n",
    "        return_metadata=\"all\",\n",
    "        return_values=True\n",
    "    )"
   ],
   "outputs": [],
   "execution_count": 33
  },
  {
   "cell_type": "code",
   "metadata": {
    "ExecuteTime": {
     "end_time": "2025-04-01T15:57:23.140990Z",
     "start_time": "2025-04-01T15:57:23.137656Z"
    }
   },
   "source": [
    "print(f\"{len(query_documents)} results:\\n{query_scores[0]} - {str(query_documents[0])[:900]}\")"
   ],
   "outputs": [
    {
     "name": "stdout",
     "output_type": "stream",
     "text": [
      "6 results:\n",
      "0.6114662 - page_content='and other services. Cloudflare's headquarters are in San Francisco, California. According to' metadata={'section': 'Introduction'}\n"
     ]
    }
   ],
   "execution_count": 34
  },
  {
   "cell_type": "markdown",
   "metadata": {
    "collapsed": false
   },
   "source": [
    "## Search by IDs\n",
    "We can also retrieve specific records for specific IDs"
   ]
  },
  {
   "cell_type": "code",
   "metadata": {
    "ExecuteTime": {
     "end_time": "2025-04-01T15:57:23.164519Z",
     "start_time": "2025-04-01T15:57:23.162209Z"
    }
   },
   "source": [
    "sample_ids = [x.id for x in query_documents]"
   ],
   "outputs": [],
   "execution_count": 35
  },
  {
   "cell_type": "code",
   "metadata": {
    "collapsed": false,
    "ExecuteTime": {
     "end_time": "2025-04-01T15:57:25.811182Z",
     "start_time": "2025-04-01T15:57:23.176945Z"
    }
   },
   "source": [
    "query_documents = cfVect.get_by_ids(\n",
    "    index_name=vectorize_index_name,\n",
    "    ids=sample_ids\n",
    ")"
   ],
   "outputs": [],
   "execution_count": 36
  },
  {
   "cell_type": "code",
   "metadata": {
    "collapsed": false,
    "ExecuteTime": {
     "end_time": "2025-04-01T15:57:25.824958Z",
     "start_time": "2025-04-01T15:57:25.822134Z"
    }
   },
   "source": [
    "print(f\"{len(query_documents)} results:\\n{str(query_documents[0])[:300]}\")"
   ],
   "outputs": [
    {
     "name": "stdout",
     "output_type": "stream",
     "text": [
      "6 results:\n",
      "page_content='and other services. Cloudflare's headquarters are in San Francisco, California. According to' metadata={'section': 'Introduction', '_namespace': None}\n"
     ]
    }
   ],
   "execution_count": 37
  },
  {
   "metadata": {},
   "cell_type": "markdown",
   "source": [
    "## Search by Namespace\n",
    "We can also search for vectors by `namespace`.  We just need to add it to the `namespaces` array when adding it to our vector database."
   ]
  },
  {
   "metadata": {
    "ExecuteTime": {
     "end_time": "2025-04-01T15:59:47.190601Z",
     "start_time": "2025-04-01T15:57:25.846440Z"
    }
   },
   "cell_type": "code",
   "source": [
    "from langchain_core.documents import Document\n",
    "import uuid\n",
    "\n",
    "namespace_name = f\"test-namespace-{uuid.uuid4().hex[:8]}\"\n",
    "\n",
    "new_documents = [\n",
    "    Document(\n",
    "        page_content=\"This is a new namespace specific document!\",\n",
    "        metadata={\"section\": \"Namespace Test1\"},\n",
    "    ),\n",
    "    Document(\n",
    "        page_content=\"This is another namespace specific document!\",\n",
    "        metadata={\"section\": \"Namespace Test2\"},\n",
    "    )\n",
    "]\n",
    "\n",
    "r = cfVect.add_documents(\n",
    "    index_name=vectorize_index_name,\n",
    "    documents=new_documents,\n",
    "    namespaces=[namespace_name * len(new_documents)],\n",
    "    wait=True\n",
    ")"
   ],
   "outputs": [],
   "execution_count": 38
  },
  {
   "metadata": {},
   "cell_type": "markdown",
   "source": "When you return metadata with your queries, the namespace will be included in the `_namespace` field along with your other metadata."
  },
  {
   "metadata": {
    "ExecuteTime": {
     "end_time": "2025-04-01T15:59:49.809951Z",
     "start_time": "2025-04-01T15:59:47.211878Z"
    }
   },
   "cell_type": "code",
   "source": [
    "cfVect.similarity_search(\n",
    "    index_name=vectorize_index_name,\n",
    "    query=\"California\",\n",
    "    # return_values=True,\n",
    "    # return_metadata='all',\n",
    "    namespace=namespace_name,\n",
    ")"
   ],
   "outputs": [
    {
     "data": {
      "text/plain": [
       "[]"
      ]
     },
     "execution_count": 39,
     "metadata": {},
     "output_type": "execute_result"
    }
   ],
   "execution_count": 39
  },
  {
   "cell_type": "markdown",
   "metadata": {},
   "source": [
    "# Upserts\n",
    "\n",
    "Vectorize supports Upserts which you can perform by setting `upsert=True`.\n",
    "\n"
   ]
  },
  {
   "cell_type": "code",
   "metadata": {
    "ExecuteTime": {
     "end_time": "2025-04-01T15:59:49.825270Z",
     "start_time": "2025-04-01T15:59:49.822186Z"
    }
   },
   "source": [
    "query_documents[0].page_content = \"Updated: \" + query_documents[0].page_content"
   ],
   "outputs": [],
   "execution_count": 40
  },
  {
   "cell_type": "code",
   "metadata": {
    "ExecuteTime": {
     "end_time": "2025-04-01T15:59:49.855070Z",
     "start_time": "2025-04-01T15:59:49.851932Z"
    }
   },
   "source": [
    "query_documents[0]"
   ],
   "outputs": [
    {
     "data": {
      "text/plain": [
       "Document(id='c66d977e-1357-4b4b-b45b-63cbd050c877', metadata={'section': 'Introduction', '_namespace': None}, page_content=\"Updated: and other services. Cloudflare's headquarters are in San Francisco, California. According to\")"
      ]
     },
     "execution_count": 41,
     "metadata": {},
     "output_type": "execute_result"
    }
   ],
   "execution_count": 41
  },
  {
   "cell_type": "code",
   "metadata": {
    "ExecuteTime": {
     "end_time": "2025-04-01T15:59:49.864241Z",
     "start_time": "2025-04-01T15:59:49.862169Z"
    }
   },
   "source": [
    "new_document_id = \"12345678910\"\n",
    "new_document = Document(\n",
    "    id=new_document_id,\n",
    "    page_content=\"This is a new document!\",\n",
    "    metadata={\"section\": \"Introduction\"},\n",
    ")"
   ],
   "outputs": [],
   "execution_count": 42
  },
  {
   "cell_type": "code",
   "metadata": {
    "ExecuteTime": {
     "end_time": "2025-04-01T16:02:00.032509Z",
     "start_time": "2025-04-01T15:59:49.880047Z"
    }
   },
   "source": [
    "r = cfVect.add_documents(\n",
    "    index_name=vectorize_index_name,\n",
    "    documents=[query_documents[0], new_document],\n",
    "    upsert=True,\n",
    "    wait=True\n",
    ")"
   ],
   "outputs": [],
   "execution_count": 43
  },
  {
   "cell_type": "code",
   "metadata": {
    "ExecuteTime": {
     "end_time": "2025-04-01T16:02:03.748443Z",
     "start_time": "2025-04-01T16:02:00.052298Z"
    }
   },
   "source": [
    "query_documents_updated = cfVect.get_by_ids(\n",
    "    index_name=vectorize_index_name,\n",
    "    ids=[\n",
    "        query_documents[0].id,\n",
    "        new_document_id\n",
    "    ]\n",
    ")"
   ],
   "outputs": [],
   "execution_count": 44
  },
  {
   "cell_type": "code",
   "metadata": {
    "ExecuteTime": {
     "end_time": "2025-04-01T16:02:03.760613Z",
     "start_time": "2025-04-01T16:02:03.756201Z"
    }
   },
   "source": [
    "query_documents_updated"
   ],
   "outputs": [
    {
     "data": {
      "text/plain": [
       "[Document(id='c66d977e-1357-4b4b-b45b-63cbd050c877', metadata={'_namespace': None, 'section': 'Introduction'}, page_content=\"Updated: and other services. Cloudflare's headquarters are in San Francisco, California. According to\"),\n",
       " Document(id='12345678910', metadata={'section': 'Introduction', '_namespace': None}, page_content='This is a new document!')]"
      ]
     },
     "execution_count": 45,
     "metadata": {},
     "output_type": "execute_result"
    }
   ],
   "execution_count": 45
  },
  {
   "cell_type": "markdown",
   "metadata": {
    "collapsed": false
   },
   "source": [
    "# Deleting Records\n",
    "We can delete records by their ids as well\n"
   ]
  },
  {
   "cell_type": "code",
   "metadata": {
    "collapsed": false,
    "ExecuteTime": {
     "end_time": "2025-04-01T16:05:13.976472Z",
     "start_time": "2025-04-01T16:02:03.770141Z"
    }
   },
   "source": [
    "r = cfVect.delete(\n",
    "    index_name=vectorize_index_name,\n",
    "    ids=sample_ids,\n",
    "    wait=True\n",
    ")"
   ],
   "outputs": [],
   "execution_count": 46
  },
  {
   "cell_type": "code",
   "metadata": {
    "collapsed": false,
    "ExecuteTime": {
     "end_time": "2025-04-01T16:05:13.999302Z",
     "start_time": "2025-04-01T16:05:13.996278Z"
    }
   },
   "source": [
    "print(r)"
   ],
   "outputs": [
    {
     "name": "stdout",
     "output_type": "stream",
     "text": [
      "{'result': {'mutationId': 'b85b8b7b-2b67-409a-ab85-492fe0b8db44'}, 'result_info': None, 'success': True, 'errors': [], 'messages': [], 'ids': ['c66d977e-1357-4b4b-b45b-63cbd050c877', '86beb57b-af02-4039-b172-eb5179781be8', '0b55e4ed-63ca-45fd-bca6-86ab9840c0bd', '4dab0e0f-20ae-4ba8-a777-86b2024b2d26', '344bde04-beb0-4aef-9f1b-801506413d46', 'f48dd942-c3fc-443b-ab22-82d116c5412b']}\n"
     ]
    }
   ],
   "execution_count": 47
  },
  {
   "cell_type": "markdown",
   "metadata": {
    "collapsed": false
   },
   "source": [
    "And to confirm deletion"
   ]
  },
  {
   "cell_type": "code",
   "metadata": {
    "collapsed": false,
    "ExecuteTime": {
     "end_time": "2025-04-01T16:05:16.475221Z",
     "start_time": "2025-04-01T16:05:14.040455Z"
    }
   },
   "source": [
    "query_documents = cfVect.get_by_ids(\n",
    "    index_name=vectorize_index_name,\n",
    "    ids=sample_ids\n",
    ")\n",
    "assert len(query_documents) == 0"
   ],
   "outputs": [],
   "execution_count": 48
  },
  {
   "cell_type": "markdown",
   "metadata": {},
   "source": [
    "# Creating from Documents\n",
    "LangChain stipulates that all vectorstores must have a `from_documents` method to instantiate a new Vectorstore from documents.  This is a more streamlined method than the individual `create, add` steps shown above.\n",
    "\n",
    "You can do that as shown here:"
   ]
  },
  {
   "cell_type": "code",
   "metadata": {
    "collapsed": false,
    "ExecuteTime": {
     "end_time": "2025-04-01T16:05:16.489114Z",
     "start_time": "2025-04-01T16:05:16.486612Z"
    }
   },
   "source": [
    "vectorize_index_name = \"test-langchain-from-docs\""
   ],
   "outputs": [],
   "execution_count": 49
  },
  {
   "cell_type": "code",
   "metadata": {
    "collapsed": false,
    "ExecuteTime": {
     "end_time": "2025-04-01T16:09:23.975330Z",
     "start_time": "2025-04-01T16:05:16.497275Z"
    }
   },
   "source": [
    "cfVect = CloudflareVectorize.from_documents(\n",
    "    account_id=cf_acct_id,\n",
    "    index_name=vectorize_index_name,\n",
    "    documents=texts,\n",
    "    embedding=embedder,\n",
    "    d1_database_id=d1_database_id,\n",
    "    d1_api_token=cf_d1_token,\n",
    "    vectorize_api_token=cf_vectorize_token,\n",
    "    wait=True\n",
    ")"
   ],
   "outputs": [],
   "execution_count": 50
  },
  {
   "cell_type": "code",
   "metadata": {
    "collapsed": false,
    "ExecuteTime": {
     "end_time": "2025-04-01T16:09:28.359727Z",
     "start_time": "2025-04-01T16:09:23.994005Z"
    }
   },
   "source": [
    "#query for documents\n",
    "query_documents = cfVect.similarity_search(\n",
    "    index_name=vectorize_index_name,\n",
    "    query=\"Edge Computing\",\n",
    ")\n",
    "\n",
    "print(f\"{len(query_documents)} results:\\n{str(query_documents[0])[:300]}\")"
   ],
   "outputs": [
    {
     "name": "stdout",
     "output_type": "stream",
     "text": [
      "20 results:\n",
      "page_content='utilizing edge computing, reverse proxies for web traffic, data center interconnects, and a content' metadata={'section': 'Products'}\n"
     ]
    }
   ],
   "execution_count": 51
  },
  {
   "cell_type": "markdown",
   "metadata": {
    "collapsed": false
   },
   "source": [
    "# Async Examples\n",
    "This section will show some Async examples\n"
   ]
  },
  {
   "cell_type": "markdown",
   "metadata": {
    "collapsed": false
   },
   "source": [
    "## Creating Indexes"
   ]
  },
  {
   "cell_type": "code",
   "metadata": {
    "ExecuteTime": {
     "end_time": "2025-04-01T16:09:28.369868Z",
     "start_time": "2025-04-01T16:09:28.367260Z"
    }
   },
   "source": [
    "vectorize_index_name1 = \"test-langchain1\"\n",
    "vectorize_index_name2 = \"test-langchain2\"\n",
    "vectorize_index_name3 = \"test-langchain3\""
   ],
   "outputs": [],
   "execution_count": 52
  },
  {
   "cell_type": "code",
   "metadata": {
    "collapsed": false,
    "ExecuteTime": {
     "end_time": "2025-04-01T16:09:31.945522Z",
     "start_time": "2025-04-01T16:09:28.400874Z"
    }
   },
   "source": [
    "# depending on your notebook environment you might need to include these:\n",
    "# import nest_asyncio\n",
    "# nest_asyncio.apply()\n",
    "\n",
    "async_requests = [\n",
    "    cfVect.acreate_index(index_name=vectorize_index_name1),\n",
    "    cfVect.acreate_index(index_name=vectorize_index_name2),\n",
    "    cfVect.acreate_index(index_name=vectorize_index_name3)\n",
    "]\n",
    "\n",
    "await asyncio.gather(*async_requests);"
   ],
   "outputs": [],
   "execution_count": 53
  },
  {
   "cell_type": "markdown",
   "metadata": {
    "collapsed": false
   },
   "source": [
    "## Creating Metadata Indexes"
   ]
  },
  {
   "cell_type": "code",
   "metadata": {
    "collapsed": false,
    "ExecuteTime": {
     "end_time": "2025-04-01T16:14:16.658688Z",
     "start_time": "2025-04-01T16:09:31.958640Z"
    }
   },
   "source": [
    "async_requests = [\n",
    "    cfVect.acreate_metadata_index(\n",
    "        property_name=\"section\",\n",
    "        index_type=\"string\",\n",
    "        index_name=vectorize_index_name1,\n",
    "        wait=True\n",
    "    ),\n",
    "    cfVect.acreate_metadata_index(\n",
    "        property_name=\"section\",\n",
    "        index_type=\"string\",\n",
    "        index_name=vectorize_index_name2,\n",
    "        wait=True\n",
    "    ),\n",
    "    cfVect.acreate_metadata_index(\n",
    "        property_name=\"section\",\n",
    "        index_type=\"string\",\n",
    "        index_name=vectorize_index_name3,\n",
    "        wait=True\n",
    "    )\n",
    "]\n",
    "\n",
    "await asyncio.gather(*async_requests);"
   ],
   "outputs": [],
   "execution_count": 54
  },
  {
   "cell_type": "markdown",
   "metadata": {
    "collapsed": false
   },
   "source": [
    "## Adding Documents"
   ]
  },
  {
   "cell_type": "code",
   "metadata": {
    "ExecuteTime": {
     "end_time": "2025-04-01T16:17:04.702897Z",
     "start_time": "2025-04-01T16:14:16.676942Z"
    }
   },
   "source": [
    "async_requests = [\n",
    "    cfVect.aadd_documents(\n",
    "        index_name=vectorize_index_name1,\n",
    "        documents=texts,\n",
    "        wait=True\n",
    "    ),\n",
    "    cfVect.aadd_documents(\n",
    "        index_name=vectorize_index_name2,\n",
    "        documents=texts,\n",
    "        wait=True\n",
    "    ),\n",
    "    cfVect.aadd_documents(\n",
    "        index_name=vectorize_index_name3,\n",
    "        documents=texts,\n",
    "        wait=True\n",
    "    )\n",
    "]\n",
    "\n",
    "await asyncio.gather(*async_requests);"
   ],
   "outputs": [],
   "execution_count": 55
  },
  {
   "cell_type": "code",
   "metadata": {
    "ExecuteTime": {
     "end_time": "2025-04-01T16:17:04.722841Z",
     "start_time": "2025-04-01T16:17:04.718483Z"
    }
   },
   "source": [
    "texts[:3]"
   ],
   "outputs": [
    {
     "data": {
      "text/plain": [
       "[Document(metadata={'section': 'Introduction'}, page_content='Cloudflare, Inc., is an American company that provides content delivery network services,'),\n",
       " Document(metadata={'section': 'Introduction'}, page_content='network services, cybersecurity, DDoS mitigation, wide area network services, reverse proxies,'),\n",
       " Document(metadata={'section': 'Introduction'}, page_content='reverse proxies, Domain Name Service, ICANN-accredited domain registration, and other services.')]"
      ]
     },
     "execution_count": 56,
     "metadata": {},
     "output_type": "execute_result"
    }
   ],
   "execution_count": 56
  },
  {
   "cell_type": "markdown",
   "metadata": {
    "collapsed": false
   },
   "source": [
    "## Querying/Search"
   ]
  },
  {
   "cell_type": "code",
   "metadata": {
    "ExecuteTime": {
     "end_time": "2025-04-01T16:17:09.300055Z",
     "start_time": "2025-04-01T16:17:04.764492Z"
    }
   },
   "source": [
    "async_requests = [\n",
    "    cfVect.asimilarity_search(\n",
    "        index_name=vectorize_index_name1,\n",
    "        query=\"Workers AI\"\n",
    "    ),\n",
    "    cfVect.asimilarity_search(\n",
    "        index_name=vectorize_index_name2,\n",
    "        query=\"Edge Computing\"\n",
    "    ),\n",
    "    cfVect.asimilarity_search(\n",
    "        index_name=vectorize_index_name3,\n",
    "        query=\"SASE\"\n",
    "    )\n",
    "]\n",
    "\n",
    "async_results = await asyncio.gather(*async_requests);"
   ],
   "outputs": [],
   "execution_count": 57
  },
  {
   "cell_type": "code",
   "metadata": {
    "ExecuteTime": {
     "end_time": "2025-04-01T16:17:09.316059Z",
     "start_time": "2025-04-01T16:17:09.311802Z"
    }
   },
   "source": [
    "print(f\"{len(async_results[0])} results:\\n{str(async_results[0][0])[:300]}\")\n",
    "print(f\"{len(async_results[1])} results:\\n{str(async_results[1][0])[:300]}\")\n",
    "print(f\"{len(async_results[1])} results:\\n{str(async_results[2][0])[:300]}\")"
   ],
   "outputs": [
    {
     "name": "stdout",
     "output_type": "stream",
     "text": [
      "20 results:\n",
      "page_content='In 2023, Cloudflare launched Workers AI, a framework allowing for use of Nvidia GPU's within'\n",
      "20 results:\n",
      "page_content='utilizing edge computing, reverse proxies for web traffic, data center interconnects, and a content'\n",
      "20 results:\n",
      "page_content='== Products =='\n"
     ]
    }
   ],
   "execution_count": 58
  },
  {
   "cell_type": "markdown",
   "metadata": {
    "collapsed": false
   },
   "source": [
    "### Returning Metadata/Values"
   ]
  },
  {
   "cell_type": "code",
   "metadata": {
    "ExecuteTime": {
     "end_time": "2025-04-01T16:17:15.312035Z",
     "start_time": "2025-04-01T16:17:09.336831Z"
    }
   },
   "source": [
    "async_requests = [\n",
    "    cfVect.asimilarity_search(\n",
    "        index_name=vectorize_index_name1,\n",
    "        query=\"California\",\n",
    "        return_values=True,\n",
    "        return_metadata='all'\n",
    "    ),\n",
    "    cfVect.asimilarity_search(\n",
    "        index_name=vectorize_index_name2,\n",
    "        query=\"California\",\n",
    "        return_values=True,\n",
    "        return_metadata='all'\n",
    "    ),\n",
    "    cfVect.asimilarity_search(\n",
    "        index_name=vectorize_index_name3,\n",
    "        query=\"California\",\n",
    "        return_values=True,\n",
    "        return_metadata='all'\n",
    "    )\n",
    "]\n",
    "\n",
    "async_results = await asyncio.gather(*async_requests);"
   ],
   "outputs": [],
   "execution_count": 59
  },
  {
   "cell_type": "code",
   "metadata": {
    "ExecuteTime": {
     "end_time": "2025-04-01T16:17:15.326296Z",
     "start_time": "2025-04-01T16:17:15.322952Z"
    }
   },
   "source": [
    "print(f\"{len(async_results[0])} results:\\n{str(async_results[0][0])[:300]}\")\n",
    "print(f\"{len(async_results[1])} results:\\n{str(async_results[1][0])[:300]}\")\n",
    "print(f\"{len(async_results[1])} results:\\n{str(async_results[2][0])[:300]}\")"
   ],
   "outputs": [
    {
     "name": "stdout",
     "output_type": "stream",
     "text": [
      "20 results:\n",
      "page_content='and other services. Cloudflare's headquarters are in San Francisco, California. According to' metadata={'section': 'Introduction'}\n",
      "20 results:\n",
      "page_content='and other services. Cloudflare's headquarters are in San Francisco, California. According to' metadata={'section': 'Introduction'}\n",
      "20 results:\n",
      "page_content='and other services. Cloudflare's headquarters are in San Francisco, California. According to' metadata={'section': 'Introduction'}\n"
     ]
    }
   ],
   "execution_count": 60
  },
  {
   "cell_type": "markdown",
   "metadata": {},
   "source": [
    "## Searching with Metadata Filtering"
   ]
  },
  {
   "cell_type": "code",
   "metadata": {
    "ExecuteTime": {
     "end_time": "2025-04-01T16:17:17.107432Z",
     "start_time": "2025-04-01T16:17:15.335514Z"
    }
   },
   "source": [
    "async_requests = [\n",
    "    cfVect.asimilarity_search(\n",
    "        index_name=vectorize_index_name1,\n",
    "        query=\"Cloudflare services\",\n",
    "        k=2,\n",
    "        md_filter={\"section\": \"Products\"},\n",
    "        return_metadata='all',\n",
    "        # return_values=True\n",
    "    ),\n",
    "    cfVect.asimilarity_search(\n",
    "        index_name=vectorize_index_name2,\n",
    "        query=\"Cloudflare services\",\n",
    "        k=2,\n",
    "        md_filter={\"section\": \"Products\"},\n",
    "        return_metadata='all',\n",
    "        # return_values=True\n",
    "    ),\n",
    "    cfVect.asimilarity_search(\n",
    "        index_name=vectorize_index_name3,\n",
    "        query=\"Cloudflare services\",\n",
    "        k=2,\n",
    "        md_filter={\"section\": \"Products\"},\n",
    "        return_metadata='all',\n",
    "        # return_values=True\n",
    "    )\n",
    "]\n",
    "\n",
    "async_results = await asyncio.gather(*async_requests);"
   ],
   "outputs": [],
   "execution_count": 61
  },
  {
   "cell_type": "code",
   "metadata": {
    "ExecuteTime": {
     "end_time": "2025-04-01T16:17:17.119783Z",
     "start_time": "2025-04-01T16:17:17.116565Z"
    }
   },
   "source": [
    "[doc.metadata[\"section\"] == \"Products\" for doc in async_results[0]]"
   ],
   "outputs": [
    {
     "data": {
      "text/plain": [
       "[True, True]"
      ]
     },
     "execution_count": 62,
     "metadata": {},
     "output_type": "execute_result"
    }
   ],
   "execution_count": 62
  },
  {
   "cell_type": "code",
   "metadata": {
    "ExecuteTime": {
     "end_time": "2025-04-01T16:17:17.130101Z",
     "start_time": "2025-04-01T16:17:17.127558Z"
    }
   },
   "source": [
    "print(f\"{len(async_results[0])} results:\\n{str(async_results[0][-1])[:300]}\")\n",
    "print(f\"{len(async_results[1])} results:\\n{str(async_results[1][0])[:300]}\")\n",
    "print(f\"{len(async_results[1])} results:\\n{str(async_results[2][0])[:300]}\")"
   ],
   "outputs": [
    {
     "name": "stdout",
     "output_type": "stream",
     "text": [
      "2 results:\n",
      "page_content='Cloudflare also provides analysis and reports on large-scale outages, including Verizon’s October' metadata={'section': 'Products'}\n",
      "2 results:\n",
      "page_content='Cloudflare provides network and security products for consumers and businesses, utilizing edge' metadata={'section': 'Products'}\n",
      "2 results:\n",
      "page_content='Cloudflare provides network and security products for consumers and businesses, utilizing edge' metadata={'section': 'Products'}\n"
     ]
    }
   ],
   "execution_count": 63
  },
  {
   "cell_type": "markdown",
   "metadata": {
    "collapsed": false
   },
   "source": [
    "### Search by IDs"
   ]
  },
  {
   "cell_type": "code",
   "metadata": {
    "ExecuteTime": {
     "end_time": "2025-04-01T16:17:17.153458Z",
     "start_time": "2025-04-01T16:17:17.151188Z"
    }
   },
   "source": [
    "sample_ids_1 = [x.id for x in async_results[0]][:3]\n",
    "sample_ids_2 = [x.id for x in async_results[1]][:3]\n",
    "sample_ids_3 = [x.id for x in async_results[2]][:3]"
   ],
   "outputs": [],
   "execution_count": 64
  },
  {
   "cell_type": "code",
   "metadata": {
    "ExecuteTime": {
     "end_time": "2025-04-01T16:17:17.172581Z",
     "start_time": "2025-04-01T16:17:17.170086Z"
    }
   },
   "source": [
    "sample_ids_1"
   ],
   "outputs": [
    {
     "data": {
      "text/plain": [
       "['6ed79c00-4330-4c19-815c-e6a03369291b',\n",
       " '8cb95f1e-a80d-4e60-a776-06a1c70b84e0']"
      ]
     },
     "execution_count": 65,
     "metadata": {},
     "output_type": "execute_result"
    }
   ],
   "execution_count": 65
  },
  {
   "cell_type": "code",
   "metadata": {
    "ExecuteTime": {
     "end_time": "2025-04-01T16:17:18.449475Z",
     "start_time": "2025-04-01T16:17:17.178394Z"
    }
   },
   "source": [
    "async_requests = [\n",
    "    cfVect.aget_by_ids(\n",
    "        index_name=vectorize_index_name1,\n",
    "        ids=sample_ids_1\n",
    "    ),\n",
    "    cfVect.aget_by_ids(\n",
    "        index_name=vectorize_index_name2,\n",
    "        ids=sample_ids_2\n",
    "    ),\n",
    "    cfVect.aget_by_ids(\n",
    "        index_name=vectorize_index_name3,\n",
    "        ids=sample_ids_3\n",
    "    )\n",
    "]\n",
    "\n",
    "async_results = await asyncio.gather(*async_requests);"
   ],
   "outputs": [],
   "execution_count": 66
  },
  {
   "cell_type": "code",
   "metadata": {
    "ExecuteTime": {
     "end_time": "2025-04-01T16:17:18.464458Z",
     "start_time": "2025-04-01T16:17:18.460853Z"
    }
   },
   "source": [
    "print(f\"{len(async_results[0])} results:\\n{str(async_results[0][0])[:300]}\")\n",
    "print(f\"{len(async_results[1])} results:\\n{str(async_results[1][0])[:300]}\")\n",
    "print(f\"{len(async_results[1])} results:\\n{str(async_results[2][0])[:300]}\")"
   ],
   "outputs": [
    {
     "name": "stdout",
     "output_type": "stream",
     "text": [
      "2 results:\n",
      "page_content='Cloudflare provides network and security products for consumers and businesses, utilizing edge' metadata={'section': 'Products', '_namespace': None}\n",
      "2 results:\n",
      "page_content='Cloudflare provides network and security products for consumers and businesses, utilizing edge' metadata={'section': 'Products', '_namespace': None}\n",
      "2 results:\n",
      "page_content='Cloudflare provides network and security products for consumers and businesses, utilizing edge' metadata={'section': 'Products', '_namespace': None}\n"
     ]
    }
   ],
   "execution_count": 67
  },
  {
   "cell_type": "markdown",
   "metadata": {
    "collapsed": false
   },
   "source": [
    "### Deleting Records"
   ]
  },
  {
   "cell_type": "code",
   "metadata": {
    "ExecuteTime": {
     "end_time": "2025-04-01T16:20:35.145166Z",
     "start_time": "2025-04-01T16:17:18.483623Z"
    }
   },
   "source": [
    "async_requests = [\n",
    "    cfVect.adelete(\n",
    "        index_name=vectorize_index_name1,\n",
    "        ids=sample_ids_1,\n",
    "        wait=True\n",
    "    ),\n",
    "    cfVect.adelete(\n",
    "        index_name=vectorize_index_name2,\n",
    "        ids=sample_ids_2,\n",
    "        wait=True\n",
    "    ),\n",
    "    cfVect.adelete(\n",
    "        index_name=vectorize_index_name3,\n",
    "        ids=sample_ids_3,\n",
    "        wait=True\n",
    "    )\n",
    "]\n",
    "\n",
    "await asyncio.gather(*async_requests);"
   ],
   "outputs": [],
   "execution_count": 68
  },
  {
   "cell_type": "code",
   "metadata": {
    "ExecuteTime": {
     "end_time": "2025-04-01T16:20:37.236072Z",
     "start_time": "2025-04-01T16:20:35.159268Z"
    }
   },
   "source": [
    "async_requests = [\n",
    "    cfVect.aget_by_ids(\n",
    "        index_name=vectorize_index_name1,\n",
    "        ids=sample_ids_1\n",
    "    ),\n",
    "    cfVect.aget_by_ids(\n",
    "        index_name=vectorize_index_name2,\n",
    "        ids=sample_ids_2\n",
    "    ),\n",
    "    cfVect.aget_by_ids(\n",
    "        index_name=vectorize_index_name3,\n",
    "        ids=sample_ids_3\n",
    "    )\n",
    "]\n",
    "\n",
    "async_results = await asyncio.gather(*async_requests);"
   ],
   "outputs": [],
   "execution_count": 69
  },
  {
   "cell_type": "code",
   "metadata": {
    "ExecuteTime": {
     "end_time": "2025-04-01T16:20:37.246300Z",
     "start_time": "2025-04-01T16:20:37.243542Z"
    }
   },
   "source": [
    "assert len(async_results[0]) == 0\n",
    "assert len(async_results[1]) == 0\n",
    "assert len(async_results[2]) == 0"
   ],
   "outputs": [],
   "execution_count": 70
  },
  {
   "cell_type": "markdown",
   "metadata": {
    "collapsed": false
   },
   "source": [
    "# Cleanup\n",
    "Let's finish by deleting all of the indexes we created in this notebook."
   ]
  },
  {
   "cell_type": "code",
   "metadata": {
    "ExecuteTime": {
     "end_time": "2025-04-01T16:20:37.473017Z",
     "start_time": "2025-04-01T16:20:37.258105Z"
    }
   },
   "source": [
    "arr_indexes = cfVect.list_indexes()\n",
    "arr_indexes = [x for x in arr_indexes if \"test-langchain\" in x.get(\"name\")]"
   ],
   "outputs": [],
   "execution_count": 71
  },
  {
   "cell_type": "code",
   "metadata": {
    "collapsed": false,
    "ExecuteTime": {
     "end_time": "2025-04-01T16:20:39.939354Z",
     "start_time": "2025-04-01T16:20:37.482671Z"
    }
   },
   "source": [
    "arr_async_requests = [\n",
    "    cfVect.adelete_index(index_name=x.get(\"name\"))\n",
    "    for x in arr_indexes\n",
    "]\n",
    "await asyncio.gather(*arr_async_requests);"
   ],
   "outputs": [],
   "execution_count": 72
  }
 ],
 "metadata": {
  "kernelspec": {
   "display_name": "cc-langchain-G_cWTCcf-py3.11",
   "language": "python",
   "name": "python3"
  },
  "language_info": {
   "codemirror_mode": {
    "name": "ipython",
    "version": 3
   },
   "file_extension": ".py",
   "mimetype": "text/x-python",
   "name": "python",
   "nbconvert_exporter": "python",
   "pygments_lexer": "ipython3",
   "version": "3.11.0"
  }
 },
 "nbformat": 4,
 "nbformat_minor": 0
}
