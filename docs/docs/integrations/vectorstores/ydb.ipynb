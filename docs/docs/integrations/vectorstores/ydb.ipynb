{
 "cells": [
  {
   "cell_type": "markdown",
   "id": "683953b3",
   "metadata": {},
   "source": [
    "# YDB\n",
    "\n",
    "> [YDB](https://ydb.tech/) is a versatile open source Distributed SQL Database that combines high availability and scalability with strong consistency and ACID transactions. It accommodates transactional (OLTP), analytical (OLAP), and streaming workloads simultaneously.\n",
    "\n",
    "This notebook shows how to use functionality related to the `YDB` vector store.\n",
    "\n",
    "## Setup\n",
    "\n",
    "First, set up a local YDB with Docker:"
   ]
  },
  {
   "cell_type": "code",
   "execution_count": null,
   "id": "da75f17c",
   "metadata": {},
   "outputs": [],
   "source": [
    "! docker run -d -p 2136:2136 --name ydb-langchain -e YDB_USE_IN_MEMORY_PDISKS=true -h localhost ydbplatform/local-ydb:trunk"
   ]
  },
  {
   "cell_type": "markdown",
   "id": "0acb2a8d",
   "metadata": {},
   "source": [
    "You'll need to install `langchain-community` and `ydb-dbapi` to use this integration"
   ]
  },
  {
   "cell_type": "code",
   "execution_count": null,
   "id": "d454fb7c",
   "metadata": {},
   "outputs": [],
   "source": [
    "pip install -qU langchain-community ydb-dbapi"
   ]
  },
  {
   "cell_type": "markdown",
   "id": "3df5501b",
   "metadata": {},
   "source": [
    "### Credentials\n",
    "\n",
    "There are no credentials for this notebook, just make sure you have installed the packages as shown above."
   ]
  },
  {
   "cell_type": "markdown",
   "id": "54d5276f",
   "metadata": {},
   "source": [
    "If you want to get best in-class automated tracing of your model calls you can also set your [LangSmith](https://docs.smith.langchain.com/) API key by uncommenting below:"
   ]
  },
  {
   "cell_type": "code",
   "execution_count": null,
   "id": "f6fd5b03",
   "metadata": {},
   "outputs": [],
   "source": [
    "# os.environ[\"LANGSMITH_API_KEY\"] = getpass.getpass(\"Enter your LangSmith API key: \")\n",
    "# os.environ[\"LANGSMITH_TRACING\"] = \"true\""
   ]
  },
  {
   "cell_type": "markdown",
   "id": "2b87fe34",
   "metadata": {},
   "source": [
    "## Initialization\n",
    "\n",
    "import EmbeddingTabs from \"@theme/EmbeddingTabs\";\n",
    "\n",
    "<EmbeddingTabs/>\n"
   ]
  },
  {
   "cell_type": "code",
   "execution_count": null,
   "id": "60276097",
   "metadata": {},
   "outputs": [],
   "source": [
    "# | output: false\n",
    "# | echo: false\n",
    "from langchain_openai import OpenAIEmbeddings\n",
    "\n",
    "embeddings = OpenAIEmbeddings(model=\"text-embedding-3-large\")"
   ]
  },
  {
   "cell_type": "code",
   "execution_count": null,
   "id": "aac9563e",
   "metadata": {
    "ExecuteTime": {
     "end_time": "2023-06-03T08:33:31.554934Z",
     "start_time": "2023-06-03T08:33:31.549590Z"
    },
    "tags": []
   },
   "outputs": [],
   "source": [
    "from langchain_community.vectorstores import YDB, YDBSearchStrategy, YDBSettings\n",
    "\n",
    "settings = YDBSettings(\n",
    "    table=\"ydb_example\",\n",
    "    strategy=YDBSearchStrategy.COSINE_SIMILARITY,\n",
    ")\n",
    "vector_store = YDB(embeddings, config=settings)"
   ]
  },
  {
   "cell_type": "markdown",
   "id": "32dd3f67",
   "metadata": {},
   "source": [
    "## Manage vector store\n",
    "\n",
    "Once you have created your vector store, you can interact with it by adding and deleting different items.\n",
    "\n",
    "### Add items to vector store\n",
    "\n",
    "Prepare documents to work with:"
   ]
  },
  {
   "cell_type": "code",
   "execution_count": null,
   "id": "944743ee",
   "metadata": {},
   "outputs": [],
   "source": [
    "from uuid import uuid4\n",
    "\n",
    "from langchain_core.documents import Document\n",
    "\n",
    "document_1 = Document(\n",
    "    page_content=\"I had chocalate chip pancakes and scrambled eggs for breakfast this morning.\",\n",
    "    metadata={\"source\": \"tweet\"},\n",
    ")\n",
    "\n",
    "document_2 = Document(\n",
    "    page_content=\"The weather forecast for tomorrow is cloudy and overcast, with a high of 62 degrees.\",\n",
    "    metadata={\"source\": \"news\"},\n",
    ")\n",
    "\n",
    "document_3 = Document(\n",
    "    page_content=\"Building an exciting new project with LangChain - come check it out!\",\n",
    "    metadata={\"source\": \"tweet\"},\n",
    ")\n",
    "\n",
    "document_4 = Document(\n",
    "    page_content=\"Robbers broke into the city bank and stole $1 million in cash.\",\n",
    "    metadata={\"source\": \"news\"},\n",
    ")\n",
    "\n",
    "document_5 = Document(\n",
    "    page_content=\"Wow! That was an amazing movie. I can't wait to see it again.\",\n",
    "    metadata={\"source\": \"tweet\"},\n",
    ")\n",
    "\n",
    "document_6 = Document(\n",
    "    page_content=\"Is the new iPhone worth the price? Read this review to find out.\",\n",
    "    metadata={\"source\": \"website\"},\n",
    ")\n",
    "\n",
    "document_7 = Document(\n",
    "    page_content=\"The top 10 soccer players in the world right now.\",\n",
    "    metadata={\"source\": \"website\"},\n",
    ")\n",
    "\n",
    "document_8 = Document(\n",
    "    page_content=\"LangGraph is the best framework for building stateful, agentic applications!\",\n",
    "    metadata={\"source\": \"tweet\"},\n",
    ")\n",
    "\n",
    "document_9 = Document(\n",
    "    page_content=\"The stock market is down 500 points today due to fears of a recession.\",\n",
    "    metadata={\"source\": \"news\"},\n",
    ")\n",
    "\n",
    "document_10 = Document(\n",
    "    page_content=\"I have a bad feeling I am going to get deleted :(\",\n",
    "    metadata={\"source\": \"tweet\"},\n",
    ")\n",
    "\n",
    "documents = [\n",
    "    document_1,\n",
    "    document_2,\n",
    "    document_3,\n",
    "    document_4,\n",
    "    document_5,\n",
    "    document_6,\n",
    "    document_7,\n",
    "    document_8,\n",
    "    document_9,\n",
    "    document_10,\n",
    "]\n",
    "uuids = [str(uuid4()) for _ in range(len(documents))]"
   ]
  },
  {
   "cell_type": "markdown",
   "id": "c616b7f4",
   "metadata": {},
   "source": [
    "You can add items to your vector store by using the `add_documents` function."
   ]
  },
  {
   "cell_type": "code",
   "execution_count": null,
   "id": "3f632996",
   "metadata": {},
   "outputs": [
    {
     "data": {
      "text/plain": [
       "['281741f1-7270-4a0c-9164-4cb89316f582', 'e5f001ae-fcba-4bfd-9028-e5e967100a38', '3f3215db-5827-401f-b0ef-0a0a1a8e0874', '2616b58c-1d9b-4d0c-b9b5-ec68b4d5ba6f', '1534aa91-8883-431a-a984-48dba7098c31', 'f62b0c38-3db6-4fad-91f7-85a3e0af379d', 'f2e646d8-70a4-482a-b2d9-a6154b9e4d1e', '4d1f055f-ac42-425a-8915-575d81edd42f', 'ad6d1333-22be-44dd-8631-6f0117c08063', '6791c0a1-34ed-441e-96b6-1d102260df91']\n"
      ]
     },
     "metadata": {},
     "output_type": "display_data"
    }
   ],
   "source": [
    "vector_store.add_documents(documents=documents, ids=uuids)"
   ]
  },
  {
   "cell_type": "markdown",
   "id": "18af81cc",
   "metadata": {},
   "source": [
    "### Delete items from vector store\n",
    "\n",
    "You can delete items from your vector store by ID using the `delete` function."
   ]
  },
  {
   "cell_type": "code",
   "execution_count": null,
   "id": "12b32762",
   "metadata": {},
   "outputs": [
    {
     "data": {
      "text/plain": [
       "True\n"
      ]
     },
     "metadata": {},
     "output_type": "display_data"
    }
   ],
   "source": [
    "vector_store.delete(ids=[uuids[-1]])"
   ]
  },
  {
   "cell_type": "markdown",
   "id": "ada27577",
   "metadata": {},
   "source": [
    "## Query vector store\n",
    "\n",
    "Once your vector store has been created and relevant documents have been added, you will likely want to query it during the execution of your chain or agent.\n",
    "\n",
    "### Query directly\n",
    "\n",
    "#### Similarity search\n",
    "\n",
    "A simple similarity search can be performed as follows:"
   ]
  },
  {
   "cell_type": "code",
   "execution_count": null,
   "id": "015831a3",
   "metadata": {},
   "outputs": [
    {
     "data": {
      "text/plain": [
       "* Building an exciting new project with LangChain - come check it out! [{'source': 'tweet'}]\n",
       "* LangGraph is the best framework for building stateful, agentic applications! [{'source': 'tweet'}]\n"
      ]
     },
     "metadata": {},
     "output_type": "display_data"
    }
   ],
   "source": [
    "results = vector_store.similarity_search(\n",
    "    \"LangChain provides abstractions to make working with LLMs easy\", k=2\n",
    ")\n",
    "for res in results:\n",
    "    print(f\"* {res.page_content} [{res.metadata}]\")"
   ]
  },
  {
   "cell_type": "markdown",
   "id": "623d3b9d",
   "metadata": {},
   "source": [
    "#### Similarity search with score\n",
    "\n",
    "You can also perform a search with a score:"
   ]
  },
  {
   "cell_type": "code",
   "execution_count": null,
   "id": "e7d43430",
   "metadata": {},
   "outputs": [
    {
     "data": {
      "text/plain": [
       "* [SIM=0.595] The weather forecast for tomorrow is cloudy and overcast, with a high of 62 degrees. [{'source': 'news'}]\n",
       "* [SIM=0.212] I had chocalate chip pancakes and scrambled eggs for breakfast this morning. [{'source': 'tweet'}]\n",
       "* [SIM=0.118] Wow! That was an amazing movie. I can't wait to see it again. [{'source': 'tweet'}]\n"
      ]
     },
     "metadata": {},
     "output_type": "display_data"
    }
   ],
   "source": [
    "results = vector_store.similarity_search_with_score(\"Will it be hot tomorrow?\", k=3)\n",
    "for res, score in results:\n",
    "    print(f\"* [SIM={score:.3f}] {res.page_content} [{res.metadata}]\")"
   ]
  },
  {
   "cell_type": "markdown",
   "id": "f5a90c12",
   "metadata": {},
   "source": [
    "### Filtering\n",
    "\n",
    "You can search with filters as described below:"
   ]
  },
  {
   "cell_type": "code",
   "execution_count": null,
   "id": "169d01d1",
   "metadata": {},
   "outputs": [
    {
     "data": {
      "text/plain": [
       "* I had chocalate chip pancakes and scrambled eggs for breakfast this morning. [{'source': 'tweet'}]\n",
       "* Wow! That was an amazing movie. I can't wait to see it again. [{'source': 'tweet'}]\n",
       "* Building an exciting new project with LangChain - come check it out! [{'source': 'tweet'}]\n",
       "* LangGraph is the best framework for building stateful, agentic applications! [{'source': 'tweet'}]\n"
      ]
     },
     "metadata": {},
     "output_type": "display_data"
    }
   ],
   "source": [
    "results = vector_store.similarity_search_with_score(\n",
    "    \"What did I eat for breakfast?\",\n",
    "    k=4,\n",
    "    filter={\"source\": \"tweet\"},\n",
    ")\n",
    "for res, _ in results:\n",
    "    print(f\"* {res.page_content} [{res.metadata}]\")"
   ]
  },
  {
   "cell_type": "markdown",
   "id": "afacfd4e",
   "metadata": {},
   "source": [
    "### Query by turning into retriever\n",
    "\n",
    "You can also transform the vector store into a retriever for easier usage in your chains.\n",
    "\n",
    "Here's how to transform your vector store into a retriever and then invoke the retriever with a simple query and filter."
   ]
  },
  {
   "cell_type": "code",
   "execution_count": null,
   "id": "97187188",
   "metadata": {},
   "outputs": [
    {
     "data": {
      "text/plain": [
       "* Robbers broke into the city bank and stole $1 million in cash. [{'source': 'news'}]\n",
       "* The stock market is down 500 points today due to fears of a recession. [{'source': 'news'}]\n"
      ]
     },
     "metadata": {},
     "output_type": "display_data"
    }
   ],
   "source": [
    "retriever = vector_store.as_retriever(\n",
    "    search_kwargs={\"k\": 2},\n",
    ")\n",
    "results = retriever.invoke(\n",
    "    \"Stealing from the bank is a crime\", filter={\"source\": \"news\"}\n",
    ")\n",
    "for res in results:\n",
    "    print(f\"* {res.page_content} [{res.metadata}]\")"
   ]
  },
  {
   "cell_type": "markdown",
   "id": "57fade30",
   "metadata": {},
   "source": [
    "## Usage for retrieval-augmented generation\n",
    "\n",
    "For guides on how to use this vector store for retrieval-augmented generation (RAG), see the following sections:\n",
    "\n",
    "- [Tutorials](/docs/tutorials/)\n",
    "- [How-to: Question and answer with RAG](https://python.langchain.com/docs/how_to/#qa-with-rag)\n",
    "- [Retrieval conceptual docs](https://python.langchain.com/docs/concepts/retrieval)"
   ]
  },
  {
   "cell_type": "markdown",
   "id": "02452d34",
   "metadata": {},
   "source": [
    "## API reference\n",
    "\n",
    "For detailed documentation of all `YDB` features and configurations head to the API reference:https://python.langchain.com/api_reference/community/vectorstores/langchain_community.vectorstores.ydb.YDB.html"
   ]
  }
 ],
 "metadata": {
  "kernelspec": {
   "display_name": "Python 3 (ipykernel)",
   "language": "python",
   "name": "python3"
  },
  "language_info": {
   "codemirror_mode": {
    "name": "ipython",
    "version": 3
   },
   "file_extension": ".py",
   "mimetype": "text/x-python",
   "name": "python",
   "nbconvert_exporter": "python",
   "pygments_lexer": "ipython3",
   "version": "3.11.9"
  }
 },
 "nbformat": 4,
 "nbformat_minor": 5
}
