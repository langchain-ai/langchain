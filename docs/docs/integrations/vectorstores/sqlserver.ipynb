{
 "cells": [
  {
   "attachments": {},
   "cell_type": "markdown",
   "metadata": {
    "azdata_cell_guid": "3fe4f4a9-8810-428c-90cb-147ad8563025",
    "language": "python"
   },
   "source": [
    "# SQLServer "
   ]
  },
  {
   "attachments": {},
   "cell_type": "markdown",
   "metadata": {
    "azdata_cell_guid": "f791e7da-9710-4f15-93f0-6ea61840a25f",
    "language": "python"
   },
   "source": [
    ">Azure SQL provides a dedicated [Vector data type](https:\\learn.microsoft.com\\sql\\t-sql\\data-types\\vector-data-type?view=azuresqldb-current&viewFallbackFrom=sql-server-ver16&tabs=csharp-sample) that simplifies the creation, storage, and querying of vector embeddings directly within a relational database. This eliminates the need for separate vector databases and related integrations, increasing the security of your solutions while reducing the overall complexity.\n",
    "\n",
    "Azure SQL is a robust service that combines scalability, security, and high availability, providing all the benefits of a modern database solution. It leverages a sophisticated query optimizer and enterprise features to perform vector similarity searches alongside traditional SQL queries, enhancing data analysis and decision-making.  \n",
    "  \n",
    "Read more on using [Intelligent applications with Azure SQL Database](https://learn.microsoft.com/azure/azure-sql/database/ai-artificial-intelligence-intelligent-applications?view=azuresql)\n",
    "\n",
    "This notebook shows you how to leverage this integrated SQL [vector database](https://devblogs.microsoft.com/azure-sql/exciting-announcement-public-preview-of-native-vector-support-in-azure-sql-database/) to store documents and perform vector search queries using Cosine (cosine distance), L2 (Euclidean distance), and IP (inner product) to locate documents close to the query vectors"
   ]
  },
  {
   "attachments": {},
   "cell_type": "markdown",
   "metadata": {
    "azdata_cell_guid": "320f08b1-2fac-46fe-8e3a-273b6bf6ca8d",
    "language": "python"
   },
   "source": [
    "## Setup\n",
    "  \n",
    "Install the `langchain-sqlserver` python package.\n",
    "\n",
    "The code lives in an integration package called:[langchain-sqlserver](https:\\github.com\\langchain-ai\\langchain-azure\\tree\\main\\libs\\sqlserver)."
   ]
  },
  {
   "cell_type": "code",
   "execution_count": null,
   "metadata": {
    "azdata_cell_guid": "5fa6ff09-79d5-4023-9005-91a217f91a5b",
    "language": "python"
   },
   "outputs": [],
   "source": [
    "!pip install langchain-sqlserver==0.1.1"
   ]
  },
  {
   "cell_type": "markdown",
   "metadata": {},
   "source": [
    "## Credentials\n",
    "\n",
    "There are no credentials needed to run this notebook, just make sure you downloaded the `langchain_sqlserver` package\n",
    "If you want to get best in-class automated tracing of your model calls you can also set your [LangSmith](https://docs.smith.langchain.com/) API key by uncommenting below:"
   ]
  },
  {
   "cell_type": "code",
   "execution_count": null,
   "metadata": {},
   "outputs": [],
   "source": [
    "# os.environ[\"LANGSMITH_API_KEY\"] = getpass.getpass(\"Enter your LangSmith API key: \")\n",
    "# os.environ[\"LANGSMITH_TRACING\"] = \"true\""
   ]
  },
  {
   "cell_type": "markdown",
   "metadata": {},
   "source": [
    "## Initialization"
   ]
  },
  {
   "cell_type": "code",
   "execution_count": null,
   "metadata": {
    "azdata_cell_guid": "4113da9c-b0fe-4e01-bc06-cafe05634fb6",
    "language": "python"
   },
   "outputs": [],
   "source": [
    "from langchain_sqlserver import SQLServer_VectorStore"
   ]
  },
  {
   "attachments": {},
   "cell_type": "markdown",
   "metadata": {
    "azdata_cell_guid": "458deaef-f985-4efe-957c-7840509fdfa3",
    "language": "python"
   },
   "source": [
    "Find your Azure SQL DB connection string in the Azure portal under your database settings\n",
    "\n",
    "For more info: [Connect to Azure SQL DB - Python](https:\\learn.microsoft.com\\en-us\\azure\\azure-sql\\database\\connect-query-python?view=azuresql)"
   ]
  },
  {
   "cell_type": "code",
   "execution_count": 11,
   "metadata": {
    "azdata_cell_guid": "d3439463-899e-48aa-88a1-ba6bdedbdc9d",
    "language": "python"
   },
   "outputs": [],
   "source": [
    "import os\n",
    "\n",
    "import pyodbc\n",
    "\n",
    "# Define your SQLServer Connection String\n",
    "_CONNECTION_STRING = (\n",
    "    \"Driver={ODBC Driver 18 for SQL Server};\"\n",
    "    \"Server=<YOUR_DBSERVER>.database.windows.net,1433;\"\n",
    "    \"Database=test;\"\n",
    "    \"TrustServerCertificate=yes;\"\n",
    "    \"Connection Timeout=60;\"\n",
    "    \"LongAsMax=yes;\"\n",
    ")\n",
    "\n",
    "# Connection string can vary:\n",
    "# \"mssql+pyodbc://<username>:<password><servername>/<dbname>?driver=ODBC+Driver+18+for+SQL+Server\" -> With Username and Password specified\n",
    "# \"mssql+pyodbc://<servername>/<dbname>?driver=ODBC+Driver+18+for+SQL+Server&Trusted_connection=yes\" -> Uses Trusted connection\n",
