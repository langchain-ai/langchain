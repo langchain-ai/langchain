{
 "cells": [
  {
   "cell_type": "markdown",
   "id": "a3afefb0-7e99-4912-a222-c6b186da11af",
   "metadata": {},
   "source": [
    "# SurrealDB\n",
    "\n",
    ">[SurrealDB](https://surrealdb.com/) is an end-to-end cloud-native database designed for modern applications, including web, mobile, serverless, Jamstack, backend, and traditional applications. With SurrealDB, you can simplify your database and API infrastructure, reduce development time, and build secure, performant apps quickly and cost-effectively.\n",
    ">\n",
    ">**Key features of SurrealDB include:**\n",
    ">\n",
    ">* **Reduces development time:** SurrealDB simplifies your database and API stack by removing the need for most server-side components, allowing you to build secure, performant apps faster and cheaper.\n",
    ">* **Real-time collaborative API backend service:** SurrealDB functions as both a database and an API backend service, enabling real-time collaboration.\n",
    ">* **Support for multiple querying languages:** SurrealDB supports SQL querying from client devices, GraphQL, ACID transactions, WebSocket connections, structured and unstructured data, graph querying, full-text indexing, and geospatial querying.\n",
    ">* **Granular access control:** SurrealDB provides row-level permissions-based access control, giving you the ability to manage data access with precision.\n",
    ">\n",
    ">View the [features](https://surrealdb.com/features), the latest [releases](https://surrealdb.com/releases), and [documentation](https://surrealdb.com/docs).\n",
    "\n",
    "This notebook shows how to use functionality related to the `SurrealDBStore`."
   ]
  },
  {
   "cell_type": "markdown",
   "id": "5031a3ec",
   "metadata": {},
   "source": [
    "## Basic Example\n",
    "\n",
    "Run SurrealDB locally with:\n",
    "\n",
    "```shell\n",
    "$ surreal start -u root -p root\n",
    "```\n",
    "\n",
    "Uncomment the right line below to install the dependencies for this example:"
   ]
  },
  {
   "cell_type": "code",
   "id": "7cd7391f-7759-4a21-952a-2ec972d818c6",
   "metadata": {
    "tags": [],
    "ExecuteTime": {
     "end_time": "2025-05-12T15:37:14.531057Z",
     "start_time": "2025-05-12T15:37:13.375831Z"
    }
   },
   "source": [
    "# -- Using pip\n",
    "# %pip install --upgrade --quiet langchain langchain-community langchain_huggingface surrealdb\n",
    "# -- Using uv\n",
    "# !uv pip install --upgrade --quiet langchain langchain-community langchain_huggingface surrealdb\n",
    "# -- Local packages\n",
    "# !uv pip install --upgrade --quiet langchain /Users/martin/repos/langchain-community/libs/community langchain_huggingface /Users/martin/repos/surrealdb.py\n"
   ],
   "outputs": [],
   "execution_count": 1
  },
  {
   "cell_type": "markdown",
   "id": "6e57a389-f637-4b8f-9ab2-759ae7485f78",
   "metadata": {},
   "source": "### Prepare the data and the embeddings model"
  },
  {
   "cell_type": "code",
   "id": "e49be085-ddf1-4028-8c0c-97836ce4a873",
   "metadata": {
    "tags": [],
    "ExecuteTime": {
     "end_time": "2025-05-12T15:37:15.231917Z",
     "start_time": "2025-05-12T15:37:14.607411Z"
    }
   },
   "source": [
    "from langchain_community.document_loaders import TextLoader\n",
    "from langchain_community.vectorstores import SurrealDBStore\n",
    "from langchain_huggingface import HuggingFaceEmbeddings\n",
    "from langchain_text_splitters import CharacterTextSplitter\n",
    "\n",
    "documents = TextLoader(\"../../how_to/state_of_the_union.txt\").load()\n",
    "text_splitter = CharacterTextSplitter(chunk_size=1000, chunk_overlap=0)\n",
    "docs = text_splitter.split_documents(documents)\n",
    "\n",
    "model_name = \"sentence-transformers/all-mpnet-base-v2\"\n",
    "embeddings = HuggingFaceEmbeddings(model_name=model_name)"
   ],
   "outputs": [],
   "execution_count": 2
  },
  {
   "cell_type": "markdown",
   "id": "8e240306-803c-4c1a-b036-b9fc69eb6cba",
   "metadata": {},
   "source": "### Connect with SurrealDB and add the documents"
  },
  {
   "cell_type": "code",
   "id": "ff9d0304-1e11-4db2-9454-1350db7907e6",
   "metadata": {
    "ExecuteTime": {
     "end_time": "2025-05-12T15:37:22.471625Z",
     "start_time": "2025-05-12T15:37:21.766153Z"
    }
   },
   "source": [
    "from surrealdb import Surreal\n",
    "\n",
    "conn = Surreal(\"ws://localhost:8000/rpc\")\n",
    "conn.signin({\"username\": \"root\", \"password\": \"root\"})\n",
    "conn.use(\"langchain\", \"test\")\n",
    "db = SurrealDBStore(embeddings, conn)\n",
    "\n",
    "# delete all existing documents from the vectorstore collection\n",
    "db.delete()\n",
    "\n",
    "# add documents to the vectorstore\n",
    "ids = db.add_documents(docs)\n",
    "\n",
    "# document ids of the added documents\n",
    "ids[:5]"
   ],
   "outputs": [
    {
     "data": {
      "text/plain": [
       "['jyty8yknmcuyueil5jq6',\n",
       " 'fy8waavudl7sr8ht5256',\n",
       " 'i4aihlpmo67kwfiwoiyo',\n",
       " 'yydq9gk3h5f80yb9ed2h',\n",
       " 'c264vm68zedbjd0a6vjp']"
      ]
     },
     "execution_count": 4,
     "metadata": {},
     "output_type": "execute_result"
    }
   ],
   "execution_count": 4
  },
  {
   "cell_type": "markdown",
   "id": "efbb6684-3846-4332-a624-ddd4d75844c1",
   "metadata": {},
   "source": [
    "### Similarity search"
   ]
  },
  {
   "cell_type": "code",
   "id": "aa28a7f8-41d0-4299-84eb-91d1576e8a63",
   "metadata": {
    "tags": [],
    "ExecuteTime": {
     "end_time": "2025-05-12T15:37:23.094169Z",
     "start_time": "2025-05-12T15:37:23.002769Z"
    }
   },
   "source": [
    "query = \"What did the president say about Ketanji Brown Jackson\"\n",
    "docs = db.similarity_search(query)"
   ],
   "outputs": [],
   "execution_count": 6
  },
  {
   "cell_type": "code",
   "id": "1eb16d2a-b466-456a-b412-5e74bb8523dd",
   "metadata": {
    "tags": [],
    "ExecuteTime": {
     "end_time": "2025-05-12T15:37:23.103092Z",
     "start_time": "2025-05-12T15:37:23.101337Z"
    }
   },
   "source": [
    "print(docs[0].page_content)"
   ],
   "outputs": [
    {
     "name": "stdout",
     "output_type": "stream",
     "text": [
      "Tonight. I call on the Senate to: Pass the Freedom to Vote Act. Pass the John Lewis Voting Rights Act. And while you’re at it, pass the Disclose Act so Americans can know who is funding our elections. \n",
      "\n",
      "Tonight, I’d like to honor someone who has dedicated his life to serve this country: Justice Stephen Breyer—an Army veteran, Constitutional scholar, and retiring Justice of the United States Supreme Court. Justice Breyer, thank you for your service. \n",
      "\n",
      "One of the most serious constitutional responsibilities a President has is nominating someone to serve on the United States Supreme Court. \n",
      "\n",
      "And I did that 4 days ago, when I nominated Circuit Court of Appeals Judge Ketanji Brown Jackson. One of our nation’s top legal minds, who will continue Justice Breyer’s legacy of excellence.\n"
     ]
    }
   ],
   "execution_count": 7
  },
  {
   "cell_type": "markdown",
   "id": "43896697-f99e-47b6-9117-47a25e9afa9c",
   "metadata": {},
   "source": [
    "### Similarity search with score"
   ]
  },
  {
   "cell_type": "markdown",
   "id": "414a9bc9",
   "metadata": {},
   "source": [
    "The returned distance score is cosine distance. Therefore, a lower score is better."
   ]
  },
  {
   "cell_type": "code",
   "id": "8e9eef05-1516-469a-ad36-880c69aef7a9",
   "metadata": {
    "tags": [],
    "ExecuteTime": {
     "end_time": "2025-05-12T15:37:23.134435Z",
     "start_time": "2025-05-12T15:37:23.109997Z"
    }
   },
   "source": "docs = db.similarity_search_with_score(query)",
   "outputs": [],
   "execution_count": 8
  },
  {
   "cell_type": "code",
   "id": "bd5fb0e4-2a94-4bb4-af8a-27327ecb1a7f",
   "metadata": {
    "tags": [],
    "ExecuteTime": {
     "end_time": "2025-05-12T15:37:23.142717Z",
     "start_time": "2025-05-12T15:37:23.140629Z"
    }
   },
   "source": [
    "docs[0]"
   ],
   "outputs": [
    {
     "data": {
      "text/plain": [
       "(Document(id='q668bujtsv5p8n6mtzu8', metadata={'source': '../../how_to/state_of_the_union.txt'}, page_content='Tonight. I call on the Senate to: Pass the Freedom to Vote Act. Pass the John Lewis Voting Rights Act. And while you’re at it, pass the Disclose Act so Americans can know who is funding our elections. \\n\\nTonight, I’d like to honor someone who has dedicated his life to serve this country: Justice Stephen Breyer—an Army veteran, Constitutional scholar, and retiring Justice of the United States Supreme Court. Justice Breyer, thank you for your service. \\n\\nOne of the most serious constitutional responsibilities a President has is nominating someone to serve on the United States Supreme Court. \\n\\nAnd I did that 4 days ago, when I nominated Circuit Court of Appeals Judge Ketanji Brown Jackson. One of our nation’s top legal minds, who will continue Justice Breyer’s legacy of excellence.'),\n",
       " 0.39839559039493777)"
      ]
     },
     "execution_count": 9,
     "metadata": {},
     "output_type": "execute_result"
    }
   ],
   "execution_count": 9
  }
 ],
 "metadata": {
  "kernelspec": {
   "display_name": "Python 3 (ipykernel)",
   "language": "python",
   "name": "python3"
  },
  "language_info": {
   "codemirror_mode": {
    "name": "ipython",
    "version": 3
   },
   "file_extension": ".py",
   "mimetype": "text/x-python",
   "name": "python",
   "nbconvert_exporter": "python",
   "pygments_lexer": "ipython3",
   "version": "3.10.12"
  }
 },
 "nbformat": 4,
 "nbformat_minor": 5
}
