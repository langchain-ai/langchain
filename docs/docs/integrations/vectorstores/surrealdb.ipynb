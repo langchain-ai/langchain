{
 "cells": [
  {
   "cell_type": "markdown",
   "id": "ef1f0986",
   "metadata": {},
   "source": [
    "# SurrealDBVectorStore\n",
    "\n",
    "> [SurrealDB](https://surrealdb.com) is a unified, multi-model database purpose-built for AI systems. It combines structured and unstructured data (including vector search, graph traversal, relational queries, full-text search, document storage, and time-series data) into a single ACID-compliant engine, scaling from a 3 MB edge binary to petabyte-scale clusters in the cloud. By eliminating the need for multiple specialized stores, SurrealDB simplifies architectures, reduces latency, and ensures consistency for AI workloads.\n",
    ">\n",
    "> **Why SurrealDB Matters for GenAI Systems**\n",
    "> - **One engine for storage and memory:** Combine durable storage and fast, agent-friendly memory in a single system, providing all the data your agent needs and removing the need to sync multiple systems.\n",
    "> - **One-hop memory for agents:** Run vector search, graph traversal, semantic joins, and transactional writes in a single query, giving LLM agents fast, consistent memory access without stitching relational, graph and vector databases together.\n",
    "> - **In-place inference and real-time updates:** SurrealDB enables agents to run inference next to data and receive millisecond-fresh updates, critical for real-time reasoning and collaboration.\n",
    "> - **Versioned, durable context:** SurrealDB supports time-travel queries and versioned records, letting agents audit or “replay” past states for consistent, explainable reasoning.\n",
    "> - **Plug-and-play agent memory:** Expose AI memory as a native concept, making it easy to use SurrealDB as a drop-in backend for AI frameworks.\n",
    "\n",
    "This notebook covers how to get started with the SurrealDB vector store."
   ]
  },
  {
   "cell_type": "markdown",
   "id": "255057477211075c",
   "metadata": {},
   "source": [
    "## Setup\n",
    "\n",
    "You can run SurrealDB locally or start with a [free SurrealDB cloud account](https://surrealdb.com/docs/cloud/getting-started).\n",
    "\n",
    "For local, two options:\n",
    "1. [Install SurrealDB](https://surrealdb.com/docs/surrealdb/installation) and [run SurrealDB](https://surrealdb.com/docs/surrealdb/installation/running). Run in-memory with:\n",
    "\n",
    "    ```bash\n",
    "    surreal start -u root -p root\n",
    "    ```\n",
    "\n",
    "2. [Run with Docker](https://surrealdb.com/docs/surrealdb/installation/running/docker).\n",
    "\n",
    "    ```bash\n",
    "    docker run --rm --pull always -p 8000:8000 surrealdb/surrealdb:latest start\n",
    "    ```\n",
    "\n",
    "## Install dependencies\n",
    "\n",
    "Install `langchain-surrealdb` and `surrealdb` python packages.\n",
    "\n",
    "```shell\n",
    "# -- Using pip\n",
    "pip install --upgrade langchain-surrealdb surrealdb\n",
    "# -- Using poetry\n",
    "poetry add langchain-surrealdb surrealdb\n",
    "# -- Using uv\n",
    "uv add --upgrade langchain-surrealdb surrealdb\n",
    "```\n",
    "\n",
    "To run this notebook, we just need to install the additional dependencies required by this example:\n"
   ]
  },
  {
   "cell_type": "code",
   "id": "e403ffc28477aee5",
   "metadata": {
    "ExecuteTime": {
     "end_time": "2025-06-18T14:34:13.173597Z",
     "start_time": "2025-06-18T14:34:11.280299Z"
    }
   },
   "source": [
    "!poetry add --quiet --group docs langchain-ollama langchain-surrealdb"
   ],
   "outputs": [],
   "execution_count": 3
  },
  {
   "cell_type": "markdown",
   "id": "93df377e",
   "metadata": {},
   "source": "## Initialization\n"
  },
  {
   "cell_type": "code",
   "id": "dc37144c-208d-4ab3-9f3a-0407a69fe052",
   "metadata": {
    "tags": [],
    "ExecuteTime": {
     "end_time": "2025-06-18T14:34:13.432705Z",
     "start_time": "2025-06-18T14:34:13.179649Z"
    }
   },
   "source": [
    "from langchain_ollama import OllamaEmbeddings\n",
    "from langchain_surrealdb.vectorstores import SurrealDBVectorStore\n",
    "from surrealdb import Surreal\n",
    "\n",
    "conn = Surreal(\"ws://localhost:8000/rpc\")\n",
    "conn.signin({\"username\": \"root\", \"password\": \"root\"})\n",
    "conn.use(\"langchain\", \"demo\")\n",
    "vector_store = SurrealDBVectorStore(OllamaEmbeddings(model=\"llama3.2\"), conn)"
   ],
   "outputs": [],
   "execution_count": 4
  },
  {
   "cell_type": "markdown",
   "id": "ac6071d4",
   "metadata": {},
   "source": [
    "## Manage vector store\n",
    "\n",
    "### Add items to vector store\n"
   ]
  },
  {
   "cell_type": "code",
   "id": "8f03bdd3ffc7d75c",
   "metadata": {
    "ExecuteTime": {
     "end_time": "2025-06-18T14:34:13.622354Z",
     "start_time": "2025-06-18T14:34:13.438965Z"
    }
   },
   "source": [
    "from langchain_core.documents import Document\n",
    "\n",
    "_url = \"https://surrealdb.com\"\n",
    "d1 = Document(page_content=\"foo\", metadata={\"source\": _url})\n",
    "d2 = Document(page_content=\"SurrealDB\", metadata={\"source\": _url})\n",
    "d3 = Document(page_content=\"bar\", metadata={\"source\": _url})\n",
    "d4 = Document(page_content=\"this is surreal\", metadata={\"source\": _url})\n",
    "\n",
    "vector_store.add_documents(documents=[d1, d2, d3, d4], ids=[\"1\", \"2\", \"3\", \"4\"])"
   ],
   "outputs": [
    {
     "data": {
      "text/plain": [
       "['1', '2', '3', '4']"
      ]
     },
     "execution_count": 5,
     "metadata": {},
     "output_type": "execute_result"
    }
   ],
   "execution_count": 5
  },
  {
   "cell_type": "markdown",
   "id": "91a19092754d6723",
   "metadata": {},
   "source": "### Update items in vector store"
  },
  {
   "cell_type": "code",
   "id": "9e6d3ff68383d6da",
   "metadata": {
    "ExecuteTime": {
     "end_time": "2025-06-18T14:34:13.699211Z",
     "start_time": "2025-06-18T14:34:13.628105Z"
    }
   },
   "source": [
    "updated_document = Document(\n",
    "    page_content=\"zar\", metadata={\"source\": \"https://example.com\"}\n",
    ")\n",
    "\n",
    "vector_store.add_documents(documents=[updated_document], ids=[\"3\"])"
   ],
   "outputs": [
    {
     "data": {
      "text/plain": [
       "['3']"
      ]
     },
     "execution_count": 6,
     "metadata": {},
     "output_type": "execute_result"
    }
   ],
   "execution_count": 6
  },
  {
   "cell_type": "markdown",
   "id": "d645a4f864f0b374",
   "metadata": {},
   "source": "### Delete items from vector store\n"
  },
  {
   "cell_type": "code",
   "id": "9f31cc27bf61959e",
   "metadata": {
    "ExecuteTime": {
     "end_time": "2025-06-18T14:34:13.723069Z",
     "start_time": "2025-06-18T14:34:13.716396Z"
    }
   },
   "source": [
    "vector_store.delete(ids=[\"3\"])"
   ],
   "outputs": [],
   "execution_count": 7
  },
  {
   "cell_type": "markdown",
   "id": "c3620501",
   "metadata": {},
   "source": [
    "## Query vector store\n",
    "\n",
    "Once your vector store has been created and the relevant documents have been added you will most likely wish to query it during the running of your chain or agent. \n",
    "\n",
    "### Query directly\n",
    "\n",
    "Performing a simple similarity search can be done as follows:\n"
   ]
  },
  {
   "cell_type": "code",
   "id": "b14e63173710a63f",
   "metadata": {
    "ExecuteTime": {
     "end_time": "2025-06-18T14:34:13.808318Z",
     "start_time": "2025-06-18T14:34:13.734463Z"
    }
   },
   "source": [
    "results = vector_store.similarity_search(\n",
    "    query=\"surreal\", k=1, custom_filter={\"source\": \"https://surrealdb.com\"}\n",
    ")\n",
    "for doc in results:\n",
    "    print(f\"{doc.page_content} [{doc.metadata}]\")  # noqa: T201"
   ],
   "outputs": [
    {
     "name": "stdout",
     "output_type": "stream",
     "text": [
      "this is surreal [{'source': 'https://surrealdb.com'}]\n"
     ]
    }
   ],
   "execution_count": 8
  },
  {
   "cell_type": "markdown",
   "id": "3ed9d733",
   "metadata": {},
   "source": "If you want to execute a similarity search and receive the corresponding scores you can run:\n"
  },
  {
   "cell_type": "code",
   "id": "20b694cd6fc9529c",
   "metadata": {
    "ExecuteTime": {
     "end_time": "2025-06-18T14:34:13.880648Z",
     "start_time": "2025-06-18T14:34:13.812341Z"
    }
   },
   "source": [
    "results = vector_store.similarity_search_with_score(\n",
    "    query=\"thud\", k=1, custom_filter={\"source\": \"https://surrealdb.com\"}\n",
    ")\n",
    "for doc, score in results:\n",
    "    print(f\"[similarity={score:.0%}] {doc.page_content}\")  # noqa: T201"
   ],
   "outputs": [
    {
     "name": "stdout",
     "output_type": "stream",
     "text": [
      "[similarity=57%] this is surreal\n"
     ]
    }
   ],
   "execution_count": 9
  },
  {
   "cell_type": "markdown",
   "id": "b1e75fd5932f4c6a",
   "metadata": {},
   "source": [
    "### Query by turning into retriever\n",
    "\n",
    "You can also transform the vector store into a retriever for easier usage in your chains. \n"
   ]
  },
  {
   "cell_type": "code",
   "id": "73b330f83225256b",
   "metadata": {
    "ExecuteTime": {
     "end_time": "2025-06-18T14:34:13.970711Z",
     "start_time": "2025-06-18T14:34:13.884730Z"
    }
   },
   "source": [
    "retriever = vector_store.as_retriever(\n",
    "    search_type=\"mmr\", search_kwargs={\"k\": 1, \"lambda_mult\": 0.5}\n",
    ")\n",
    "retriever.invoke(\"surreal\")"
   ],
   "outputs": [
    {
     "data": {
      "text/plain": [
       "[Document(id='4', metadata={'source': 'https://surrealdb.com'}, page_content='this is surreal')]"
      ]
     },
     "execution_count": 10,
     "metadata": {},
     "output_type": "execute_result"
    }
   ],
   "execution_count": 10
  },
  {
   "cell_type": "markdown",
   "id": "901c75dc",
   "metadata": {},
   "source": [
    "## Usage for retrieval-augmented generation\n",
    "\n",
    "For guides on how to use this vector store for retrieval-augmented generation (RAG), see the following sections:\n",
    "\n",
    "- [How-to: Question and answer with RAG](https://python.langchain.com/docs/how_to/#qa-with-rag)\n",
    "- [Retrieval conceptual docs](https://python.langchain.com/docs/concepts/retrieval/)"
   ]
  },
  {
   "cell_type": "markdown",
   "id": "8a27244f",
   "metadata": {},
   "source": [
    "## API reference\n",
    "\n",
    "For detailed documentation of all SurrealDBVectorStore features and configurations head to the API reference: https://python.langchain.com/api_reference/surrealdb/index.html"
   ]
  },
  {
   "cell_type": "markdown",
   "id": "85901cdb62057fe5",
   "metadata": {},
   "source": [
    "## Next steps\n",
    "\n",
    "- look at the [basic example](https://github.com/surrealdb/langchain-surrealdb/tree/main/examples/basic). Use the Dockerfile to try it out!\n",
    "- look at the [graph example](https://github.com/surrealdb/langchain-surrealdb/tree/main/examples/graph)\n",
    "- try the [jupyther notebook](https://github.com/langchain-ai/langchain/blob/master/docs/docs/integrations/vectorstores/surrealdb.ipynb)\n",
    "- [Awesome SurrealDB](https://github.com/surrealdb/awesome-surreal), A curated list of SurrealDB resources, tools, utilities, and applications\n"
   ]
  }
 ],
 "metadata": {
  "kernelspec": {
   "display_name": "Python 3 (ipykernel)",
   "language": "python",
   "name": "python3"
  },
  "language_info": {
   "codemirror_mode": {
    "name": "ipython",
    "version": 3
   },
   "file_extension": ".py",
   "mimetype": "text/x-python",
   "name": "python",
   "nbconvert_exporter": "python",
   "pygments_lexer": "ipython3",
   "version": "3.10.12"
  }
 },
 "nbformat": 4,
 "nbformat_minor": 5
}
