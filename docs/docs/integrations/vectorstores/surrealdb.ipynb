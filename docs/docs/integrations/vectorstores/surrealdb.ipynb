{
 "cells": [
  {
   "cell_type": "markdown",
   "id": "ef1f0986",
   "metadata": {},
   "source": [
    "# SurrealDBVectorStore\n",
    "\n",
    ">[SurrealDB](https://surrealdb.com/) is an end-to-end cloud-native database designed for modern applications, including web, mobile, serverless, Jamstack, backend, and traditional applications. With SurrealDB, you can simplify your database and API infrastructure, reduce development time, and build secure, performant apps quickly and cost-effectively.\n",
    ">\n",
    ">**Key features of SurrealDB include:**\n",
    ">\n",
    ">* **Reduces development time:** SurrealDB simplifies your database and API stack by removing the need for most server-side components, allowing you to build secure, performant apps faster and cheaper.\n",
    ">* **Real-time collaborative API backend service:** SurrealDB functions as both a database and an API backend service, enabling real-time collaboration.\n",
    ">* **Support for multiple querying languages:** SurrealDB supports SQL querying from client devices, GraphQL, ACID transactions, WebSocket connections, structured and unstructured data, graph querying, full-text indexing, and geospatial querying.\n",
    ">* **Granular access control:** SurrealDB provides row-level permissions-based access control, giving you the ability to manage data access with precision.\n",
    ">\n",
    ">View the [features](https://surrealdb.com/features), the latest [releases](https://surrealdb.com/releases), and [documentation](https://surrealdb.com/docs).\n",
    "\n",
    "This notebook covers how to get started with the SurrealDB vector store."
   ]
  },
  {
   "cell_type": "markdown",
   "id": "255057477211075c",
   "metadata": {},
   "source": [
    "## Setup\n",
    "\n",
    "You can run SurrealDB locally or start with a [free SurrealDB cloud account](https://surrealdb.com/docs/cloud/getting-started).\n",
    "\n",
    "For local, two options:\n",
    "1. [Install SurrealDB](https://surrealdb.com/docs/surrealdb/installation) and [run SurrealDB](https://surrealdb.com/docs/surrealdb/installation/running). Run in-memory with:\n",
    "\n",
    "    ```bash\n",
    "    surreal start -u root -p root\n",
    "    ```\n",
    "\n",
    "2. [Run with Docker](https://surrealdb.com/docs/surrealdb/installation/running/docker).\n",
    "\n",
    "    ```bash\n",
    "    docker run --rm --pull always -p 8000:8000 surrealdb/surrealdb:latest start\n",
    "    ```\n",
    "\n",
    "## Install dependencies\n",
    "\n",
    "Install `langchain-surrealdb` and `surrealdb` python packages.\n",
    "\n",
    "```shell\n",
    "# -- Using pip\n",
    "pip install --upgrade langchain-surrealdb surrealdb\n",
    "# -- Using poetry\n",
    "poetry add langchain-surrealdb surrealdb\n",
    "# -- Using uv\n",
    "uv add --upgrade langchain-surrealdb surrealdb\n",
    "```\n",
    "\n",
    "To run this notebook, we just need to install the additional dependencies required by this example:\n"
   ]
  },
  {
   "cell_type": "code",
   "execution_count": 1,
   "id": "e403ffc28477aee5",
   "metadata": {
    "ExecuteTime": {
     "end_time": "2025-05-29T14:49:51.522194Z",
     "start_time": "2025-05-29T14:49:50.008796Z"
    }
   },
   "outputs": [],
   "source": [
    "!poetry add --quiet --group docs langchain-ollama git+https://github.com/surrealdb/langchain-surrealdb.git"
   ]
  },
  {
   "cell_type": "markdown",
   "id": "93df377e",
   "metadata": {},
   "source": "## Initialization\n"
  },
  {
   "cell_type": "code",
   "execution_count": 2,
   "id": "dc37144c-208d-4ab3-9f3a-0407a69fe052",
   "metadata": {
    "ExecuteTime": {
     "end_time": "2025-05-29T14:49:53.451282Z",
     "start_time": "2025-05-29T14:49:51.611052Z"
    },
    "tags": []
   },
   "outputs": [],
   "source": [
    "from langchain_ollama import OllamaEmbeddings\n",
    "from langchain_surrealdb.vectorstores import SurrealDBVectorStore\n",
    "from surrealdb import Surreal\n",
    "\n",
    "conn = Surreal(\"ws://localhost:8000/rpc\")\n",
    "conn.signin({\"username\": \"root\", \"password\": \"root\"})\n",
    "conn.use(\"langchain\", \"demo\")\n",
    "vector_store = SurrealDBVectorStore(OllamaEmbeddings(model=\"llama3.2\"), conn)"
   ]
  },
  {
   "cell_type": "markdown",
   "id": "ac6071d4",
   "metadata": {},
   "source": [
    "## Manage vector store\n",
    "\n",
    "### Add items to vector store\n"
   ]
  },
  {
   "cell_type": "code",
   "execution_count": 3,
   "id": "8f03bdd3ffc7d75c",
   "metadata": {
    "ExecuteTime": {
     "end_time": "2025-05-29T14:49:53.608221Z",
     "start_time": "2025-05-29T14:49:53.460631Z"
    }
   },
   "outputs": [
    {
     "data": {
      "text/plain": [
       "['1', '2', '3', '4']"
      ]
     },
     "execution_count": 3,
     "metadata": {},
     "output_type": "execute_result"
    }
   ],
   "source": [
    "from langchain_core.documents import Document\n",
    "\n",
    "_url = \"https://surrealdb.com\"\n",
    "d1 = Document(page_content=\"foo\", metadata={\"source\": _url})\n",
    "d2 = Document(page_content=\"SurrealDB\", metadata={\"source\": _url})\n",
    "d3 = Document(page_content=\"bar\", metadata={\"source\": _url})\n",
    "d4 = Document(page_content=\"this is surreal\", metadata={\"source\": _url})\n",
    "\n",
    "vector_store.add_documents(documents=[d1, d2, d3, d4], ids=[\"1\", \"2\", \"3\", \"4\"])"
   ]
  },
  {
   "cell_type": "markdown",
   "id": "91a19092754d6723",
   "metadata": {},
   "source": "### Update items in vector store"
  },
  {
   "cell_type": "code",
   "execution_count": 4,
   "id": "9e6d3ff68383d6da",
   "metadata": {
    "ExecuteTime": {
     "end_time": "2025-05-29T14:49:53.672567Z",
     "start_time": "2025-05-29T14:49:53.623718Z"
    }
   },
   "outputs": [
    {
     "data": {
      "text/plain": [
       "['3']"
      ]
     },
     "execution_count": 4,
     "metadata": {},
     "output_type": "execute_result"
    }
   ],
   "source": [
    "updated_document = Document(\n",
    "    page_content=\"zar\", metadata={\"source\": \"https://example.com\"}\n",
    ")\n",
    "\n",
    "vector_store.add_documents(documents=[updated_document], ids=[\"3\"])"
   ]
  },
  {
   "cell_type": "markdown",
   "id": "d645a4f864f0b374",
   "metadata": {},
   "source": "### Delete items from vector store\n"
  },
  {
   "cell_type": "code",
   "execution_count": 5,
   "id": "9f31cc27bf61959e",
   "metadata": {
    "ExecuteTime": {
     "end_time": "2025-05-29T14:49:53.684423Z",
     "start_time": "2025-05-29T14:49:53.679539Z"
    }
   },
   "outputs": [],
   "source": [
    "vector_store.delete(ids=[\"3\"])"
   ]
  },
  {
   "cell_type": "markdown",
   "id": "c3620501",
   "metadata": {},
   "source": [
    "## Query vector store\n",
    "\n",
    "Once your vector store has been created and the relevant documents have been added you will most likely wish to query it during the running of your chain or agent. \n",
    "\n",
    "### Query directly\n",
    "\n",
    "Performing a simple similarity search can be done as follows:\n"
   ]
  },
  {
   "cell_type": "code",
   "execution_count": 6,
   "id": "b14e63173710a63f",
   "metadata": {
    "ExecuteTime": {
     "end_time": "2025-05-29T14:49:53.752114Z",
     "start_time": "2025-05-29T14:49:53.691637Z"
    }
   },
   "outputs": [
    {
     "name": "stdout",
     "output_type": "stream",
     "text": [
      "this is surreal [{'source': 'https://surrealdb.com'}]\n"
     ]
    }
   ],
   "source": [
    "results = vector_store.similarity_search(\n",
    "    query=\"surreal\", k=1, custom_filter={\"source\": \"https://surrealdb.com\"}\n",
    ")\n",
    "for doc in results:\n",
    "    print(f\"{doc.page_content} [{doc.metadata}]\")  # noqa: T201"
   ]
  },
  {
   "cell_type": "markdown",
   "id": "3ed9d733",
   "metadata": {},
   "source": "If you want to execute a similarity search and receive the corresponding scores you can run:\n"
  },
  {
   "cell_type": "code",
   "execution_count": 7,
   "id": "20b694cd6fc9529c",
   "metadata": {
    "ExecuteTime": {
     "end_time": "2025-05-29T14:49:53.819535Z",
     "start_time": "2025-05-29T14:49:53.762906Z"
    }
   },
   "outputs": [
    {
     "name": "stdout",
     "output_type": "stream",
     "text": [
      "[similarity=57%] this is surreal\n"
     ]
    }
   ],
   "source": [
    "results = vector_store.similarity_search_with_score(\n",
    "    query=\"thud\", k=1, custom_filter={\"source\": \"https://surrealdb.com\"}\n",
    ")\n",
    "for doc, score in results:\n",
    "    print(f\"[similarity={score:.0%}] {doc.page_content}\")  # noqa: T201"
   ]
  },
  {
   "cell_type": "markdown",
   "id": "b1e75fd5932f4c6a",
   "metadata": {},
   "source": [
    "### Query by turning into retriever\n",
    "\n",
    "You can also transform the vector store into a retriever for easier usage in your chains. \n"
   ]
  },
  {
   "cell_type": "code",
   "execution_count": 8,
   "id": "73b330f83225256b",
   "metadata": {
    "ExecuteTime": {
     "end_time": "2025-05-29T14:49:53.921304Z",
     "start_time": "2025-05-29T14:49:53.830135Z"
    }
   },
   "outputs": [
    {
     "data": {
      "text/plain": [
       "[Document(id='4', metadata={'source': 'https://surrealdb.com'}, page_content='this is surreal')]"
      ]
     },
     "execution_count": 8,
     "metadata": {},
     "output_type": "execute_result"
    }
   ],
   "source": [
    "retriever = vector_store.as_retriever(\n",
    "    search_type=\"mmr\", search_kwargs={\"k\": 1, \"lambda_mult\": 0.5}\n",
    ")\n",
    "retriever.invoke(\"surreal\")"
   ]
  },
  {
   "cell_type": "markdown",
   "id": "901c75dc",
   "metadata": {},
   "source": [
    "## Usage for retrieval-augmented generation\n",
    "\n",
    "For guides on how to use this vector store for retrieval-augmented generation (RAG), see the following sections:\n",
    "\n",
    "- [How-to: Question and answer with RAG](https://python.langchain.com/docs/how_to/#qa-with-rag)\n",
    "- [Retrieval conceptual docs](https://python.langchain.com/docs/concepts/retrieval/)"
   ]
  },
  {
   "cell_type": "markdown",
   "id": "8a27244f",
   "metadata": {},
   "source": [
    "## API reference\n",
    "\n",
    "For detailed documentation of all SurrealDBVectorStore features and configurations head to the API reference: https://python.langchain.com/api_reference/surrealdb/index.html"
   ]
  },
  {
   "cell_type": "markdown",
   "id": "85901cdb62057fe5",
   "metadata": {},
   "source": [
    "## Next steps\n",
    "\n",
    "- look at the [basic example](https://github.com/surrealdb/langchain-surrealdb/tree/main/examples/basic). Use the Dockerfile to try it out!\n",
    "- look at the [graph example](https://github.com/surrealdb/langchain-surrealdb/tree/main/examples/graph)\n",
    "- [Awesome SurrealDB](https://github.com/surrealdb/awesome-surreal), a curated list of SurrealDB resources, tools, utilities, and applications\n"
   ]
  }
 ],
 "metadata": {
  "kernelspec": {
   "display_name": "Python 3 (ipykernel)",
   "language": "python",
   "name": "python3"
  },
  "language_info": {
   "codemirror_mode": {
    "name": "ipython",
    "version": 3
   },
   "file_extension": ".py",
   "mimetype": "text/x-python",
   "name": "python",
   "nbconvert_exporter": "python",
   "pygments_lexer": "ipython3",
   "version": "3.10.12"
  }
 },
 "nbformat": 4,
 "nbformat_minor": 5
}
