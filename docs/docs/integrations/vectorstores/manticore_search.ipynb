{
 "cells": [
  {
   "cell_type": "markdown",
   "id": "bf48a5c8c3d125e1",
   "metadata": {
    "collapsed": false
   },
   "source": [
    "# ManticoreSearch VectorStore\n",
    "\n",
    "[ManticoreSearch](https://manticoresearch.com/) is an open-source search engine that offers fast, scalable, and user-friendly capabilities. Originating as a fork of [Sphinx Search](http://sphinxsearch.com/), it has evolved to incorporate modern search engine features and improvements. ManticoreSearch distinguishes itself with its robust performance and ease of integration into various applications.\n",
    "\n",
    "ManticoreSearch has recently introduced [vector search capabilities](https://manual.manticoresearch.com/dev/Searching/KNN), starting with search engine version 6.2 and only with [manticore-columnar-lib](https://github.com/manticoresoftware/columnar) package installed. This feature is a considerable advancement, allowing for the execution of searches based on vector similarity.\n",
    "\n",
    "As of now, the vector search functionality is only accessible in the developmental (dev) versions of the search engine. Consequently, it is imperative to employ a developmental [manticoresearch-dev](https://pypi.org/project/manticoresearch-dev/) Python client for utilizing this feature effectively."
   ]
  },
  {
   "cell_type": "markdown",
   "id": "d5050b607ca217ad",
   "metadata": {
    "collapsed": false
   },
   "source": [
    "## Setting up environments"
   ]
  },
  {
   "cell_type": "markdown",
   "id": "b26c5ab7f89a61fc",
   "metadata": {
    "collapsed": false
   },
   "source": [
    "Starting Docker-container with ManticoreSearch and installing manticore-columnar-lib package (optional)"
   ]
  },
  {
   "cell_type": "code",
   "execution_count": 14,
   "id": "initial_id",
   "metadata": {
    "ExecuteTime": {
     "end_time": "2024-03-03T11:28:37.177840Z",
     "start_time": "2024-03-03T11:28:26.863511Z"
    },
    "collapsed": true
   },
   "outputs": [
    {
     "name": "stdout",
     "output_type": "stream",
     "text": [
      "Get:1 http://repo.manticoresearch.com/repository/manticoresearch_jammy_dev jammy InRelease [3525 kB]\r\n",
      "Get:2 http://archive.ubuntu.com/ubuntu jammy InRelease [270 kB]            \r\n",
      "Get:3 http://security.ubuntu.com/ubuntu jammy-security InRelease [110 kB]      \r\n",
      "Get:4 http://archive.ubuntu.com/ubuntu jammy-updates InRelease [119 kB]        \r\n",
      "Get:5 http://security.ubuntu.com/ubuntu jammy-security/universe amd64 Packages [1074 kB]\r\n",
      "Get:6 http://archive.ubuntu.com/ubuntu jammy-backports InRelease [109 kB]      \r\n",
      "Get:7 http://archive.ubuntu.com/ubuntu jammy/universe amd64 Packages [17.5 MB] \r\n",
      "Get:8 http://security.ubuntu.com/ubuntu jammy-security/main amd64 Packages [1517 kB]\r\n",
      "Get:9 http://security.ubuntu.com/ubuntu jammy-security/restricted amd64 Packages [1889 kB]\r\n",
      "Get:10 http://security.ubuntu.com/ubuntu jammy-security/multiverse amd64 Packages [44.6 kB]\r\n",
      "Get:11 http://archive.ubuntu.com/ubuntu jammy/restricted amd64 Packages [164 kB]\r\n",
      "Get:12 http://archive.ubuntu.com/ubuntu jammy/multiverse amd64 Packages [266 kB]\r\n",
      "Get:13 http://archive.ubuntu.com/ubuntu jammy/main amd64 Packages [1792 kB]    \r\n",
      "Get:14 http://archive.ubuntu.com/ubuntu jammy-updates/multiverse amd64 Packages [50.4 kB]\r\n",
      "Get:15 http://archive.ubuntu.com/ubuntu jammy-updates/restricted amd64 Packages [1927 kB]\r\n",
      "Get:16 http://archive.ubuntu.com/ubuntu jammy-updates/universe amd64 Packages [1346 kB]\r\n",
      "Get:17 http://archive.ubuntu.com/ubuntu jammy-updates/main amd64 Packages [1796 kB]\r\n",
      "Get:18 http://archive.ubuntu.com/ubuntu jammy-backports/universe amd64 Packages [28.1 kB]\r\n",
      "Get:19 http://archive.ubuntu.com/ubuntu jammy-backports/main amd64 Packages [50.4 kB]\r\n",
      "Get:20 http://repo.manticoresearch.com/repository/manticoresearch_jammy_dev jammy/main amd64 Packages [5020 kB]\r\n",
      "Fetched 38.6 MB in 7s (5847 kB/s)                                              \r\n",
      "Reading package lists... Done\r\n",
      "Reading package lists... Done\r\n",
      "Building dependency tree... Done\r\n",
      "Reading state information... Done\r\n",
      "The following NEW packages will be installed:\r\n",
      "  manticore-columnar-lib\r\n",
      "0 upgraded, 1 newly installed, 0 to remove and 21 not upgraded.\r\n",
      "Need to get 1990 kB of archives.\r\n",
      "After this operation, 10.0 MB of additional disk space will be used.\r\n",
      "Get:1 http://repo.manticoresearch.com/repository/manticoresearch_jammy_dev jammy/main amd64 manticore-columnar-lib amd64 2.2.5-240217-a5342a1 [1990 kB]\r\n",
      "Fetched 1990 kB in 1s (1505 kB/s)                 \r\n",
      "debconf: delaying package configuration, since apt-utils is not installed\r\n",
      "Selecting previously unselected package manticore-columnar-lib.\r\n",
      "(Reading database ... 12260 files and directories currently installed.)\r\n",
      "Preparing to unpack .../manticore-columnar-lib_2.2.5-240217-a5342a1_amd64.deb ...\r\n",
      "Unpacking manticore-columnar-lib (2.2.5-240217-a5342a1) ...\r\n",
      "Setting up manticore-columnar-lib (2.2.5-240217-a5342a1) ...\r\n",
      "a546aec22291\r\n"
     ]
    }
   ],
   "source": [
    "import time\n",
    "\n",
    "# Start container\n",
    "containers = !docker ps --filter \"name=langchain-manticoresearch-server\" -q\n",
    "if len(containers) == 0:\n",
    "    !docker run -d -p 9308:9308 --name langchain-manticoresearch-server manticoresearch/manticore:dev\n",
    "    time.sleep(20)  # Wait for the container to start up\n",
    "\n",
    "# Get ID of container\n",
    "container_id = containers[0]\n",
    "\n",
    "# Install manticore-columnar-lib package as root user\n",
    "!docker exec -it --user 0 {container_id} apt-get update\n",
    "!docker exec -it --user 0 {container_id} apt-get install -y manticore-columnar-lib\n",
    "\n",
    "# Restart container\n",
    "!docker restart {container_id}"
   ]
  },
  {
   "cell_type": "markdown",
   "id": "42284e4c8fd0aeb4",
   "metadata": {
    "collapsed": false
   },
   "source": [
    "Installing ManticoreSearch python client"
   ]
  },
  {
   "cell_type": "code",
   "execution_count": 15,
   "id": "bc7bd70a63cc8d90",
   "metadata": {
    "ExecuteTime": {
     "end_time": "2024-03-03T11:28:38.544198Z",
     "start_time": "2024-03-03T11:28:37.178755Z"
    },
    "collapsed": false
   },
   "outputs": [
    {
     "name": "stdout",
     "output_type": "stream",
     "text": [
      "\r\n",
      "\u001b[1m[\u001b[0m\u001b[34;49mnotice\u001b[0m\u001b[1;39;49m]\u001b[0m\u001b[39;49m A new release of pip is available: \u001b[0m\u001b[31;49m23.2.1\u001b[0m\u001b[39;49m -> \u001b[0m\u001b[32;49m24.0\u001b[0m\r\n",
      "\u001b[1m[\u001b[0m\u001b[34;49mnotice\u001b[0m\u001b[1;39;49m]\u001b[0m\u001b[39;49m To update, run: \u001b[0m\u001b[32;49mpip install --upgrade pip\u001b[0m\r\n",
      "Note: you may need to restart the kernel to use updated packages.\n"
     ]
    }
   ],
   "source": [
    "%pip install --upgrade --quiet manticoresearch-dev"
   ]
  },
  {
   "cell_type": "markdown",
   "id": "f90b4793255edcb1",
   "metadata": {
    "collapsed": false
   },
   "source": [
    "We want to use OpenAIEmbeddings so we have to get the OpenAI API Key."
   ]
  },
  {
   "cell_type": "code",
   "execution_count": 16,
   "id": "a303c63186fd8abd",
   "metadata": {
    "ExecuteTime": {
     "end_time": "2024-03-03T11:28:38.546877Z",
     "start_time": "2024-03-03T11:28:38.544907Z"
    },
    "collapsed": false
   },
   "outputs": [],
   "source": [
    "from langchain_community.embeddings import GPT4AllEmbeddings\n",
    "from langchain_community.vectorstores import ManticoreSearch, ManticoreSearchSettings\n",
    "from langchain_text_splitters import CharacterTextSplitter"
   ]
  },
  {
   "cell_type": "code",
   "execution_count": 17,
   "id": "46ad30f36815ed15",
   "metadata": {
    "ExecuteTime": {
     "end_time": "2024-03-03T11:28:38.991083Z",
     "start_time": "2024-03-03T11:28:38.547705Z"
    },
    "collapsed": false
   },
   "outputs": [
    {
     "name": "stderr",
     "output_type": "stream",
     "text": [
      "Created a chunk of size 338, which is longer than the specified 100\n",
      "Created a chunk of size 508, which is longer than the specified 100\n",
      "Created a chunk of size 277, which is longer than the specified 100\n",
      "Created a chunk of size 777, which is longer than the specified 100\n",
      "Created a chunk of size 247, which is longer than the specified 100\n",
      "Created a chunk of size 228, which is longer than the specified 100\n",
      "Created a chunk of size 557, which is longer than the specified 100\n",
      "Created a chunk of size 587, which is longer than the specified 100\n",
      "Created a chunk of size 173, which is longer than the specified 100\n",
      "Created a chunk of size 622, which is longer than the specified 100\n",
      "Created a chunk of size 775, which is longer than the specified 100\n",
      "Created a chunk of size 292, which is longer than the specified 100\n",
      "Created a chunk of size 456, which is longer than the specified 100\n",
      "Created a chunk of size 291, which is longer than the specified 100\n",
      "Created a chunk of size 367, which is longer than the specified 100\n",
      "Created a chunk of size 604, which is longer than the specified 100\n",
      "Created a chunk of size 618, which is longer than the specified 100\n",
      "Created a chunk of size 340, which is longer than the specified 100\n",
      "Created a chunk of size 395, which is longer than the specified 100\n",
      "Created a chunk of size 321, which is longer than the specified 100\n",
      "Created a chunk of size 453, which is longer than the specified 100\n",
      "Created a chunk of size 354, which is longer than the specified 100\n",
      "Created a chunk of size 481, which is longer than the specified 100\n",
      "Created a chunk of size 233, which is longer than the specified 100\n",
      "Created a chunk of size 270, which is longer than the specified 100\n",
      "Created a chunk of size 305, which is longer than the specified 100\n",
      "Created a chunk of size 520, which is longer than the specified 100\n",
      "Created a chunk of size 289, which is longer than the specified 100\n",
      "Created a chunk of size 280, which is longer than the specified 100\n",
      "Created a chunk of size 417, which is longer than the specified 100\n",
      "Created a chunk of size 495, which is longer than the specified 100\n",
      "Created a chunk of size 602, which is longer than the specified 100\n",
      "Created a chunk of size 1004, which is longer than the specified 100\n",
      "Created a chunk of size 272, which is longer than the specified 100\n",
      "Created a chunk of size 1203, which is longer than the specified 100\n",
      "Created a chunk of size 844, which is longer than the specified 100\n",
      "Created a chunk of size 135, which is longer than the specified 100\n",
      "Created a chunk of size 306, which is longer than the specified 100\n",
      "Created a chunk of size 407, which is longer than the specified 100\n",
      "Created a chunk of size 910, which is longer than the specified 100\n",
      "Created a chunk of size 398, which is longer than the specified 100\n",
      "Created a chunk of size 674, which is longer than the specified 100\n",
      "Created a chunk of size 356, which is longer than the specified 100\n",
      "Created a chunk of size 474, which is longer than the specified 100\n",
      "Created a chunk of size 814, which is longer than the specified 100\n",
      "Created a chunk of size 530, which is longer than the specified 100\n",
      "Created a chunk of size 469, which is longer than the specified 100\n",
      "Created a chunk of size 489, which is longer than the specified 100\n",
      "Created a chunk of size 433, which is longer than the specified 100\n",
      "Created a chunk of size 603, which is longer than the specified 100\n",
      "Created a chunk of size 380, which is longer than the specified 100\n",
      "Created a chunk of size 354, which is longer than the specified 100\n",
      "Created a chunk of size 391, which is longer than the specified 100\n",
      "Created a chunk of size 772, which is longer than the specified 100\n",
      "Created a chunk of size 267, which is longer than the specified 100\n",
      "Created a chunk of size 571, which is longer than the specified 100\n",
      "Created a chunk of size 594, which is longer than the specified 100\n",
      "Created a chunk of size 458, which is longer than the specified 100\n",
      "Created a chunk of size 386, which is longer than the specified 100\n",
      "Created a chunk of size 417, which is longer than the specified 100\n",
      "Created a chunk of size 370, which is longer than the specified 100\n",
      "Created a chunk of size 402, which is longer than the specified 100\n",
      "Created a chunk of size 306, which is longer than the specified 100\n",
      "Created a chunk of size 173, which is longer than the specified 100\n",
      "Created a chunk of size 628, which is longer than the specified 100\n",
      "Created a chunk of size 321, which is longer than the specified 100\n",
      "Created a chunk of size 294, which is longer than the specified 100\n",
      "Created a chunk of size 689, which is longer than the specified 100\n",
      "Created a chunk of size 641, which is longer than the specified 100\n",
      "Created a chunk of size 473, which is longer than the specified 100\n",
      "Created a chunk of size 414, which is longer than the specified 100\n",
      "Created a chunk of size 585, which is longer than the specified 100\n",
      "Created a chunk of size 764, which is longer than the specified 100\n",
      "Created a chunk of size 502, which is longer than the specified 100\n",
      "Created a chunk of size 640, which is longer than the specified 100\n",
      "Created a chunk of size 507, which is longer than the specified 100\n",
      "Created a chunk of size 564, which is longer than the specified 100\n",
      "Created a chunk of size 707, which is longer than the specified 100\n",
      "Created a chunk of size 380, which is longer than the specified 100\n",
      "Created a chunk of size 615, which is longer than the specified 100\n",
      "Created a chunk of size 733, which is longer than the specified 100\n",
      "Created a chunk of size 277, which is longer than the specified 100\n",
      "Created a chunk of size 497, which is longer than the specified 100\n",
      "Created a chunk of size 625, which is longer than the specified 100\n",
      "Created a chunk of size 468, which is longer than the specified 100\n",
      "Created a chunk of size 289, which is longer than the specified 100\n",
      "Created a chunk of size 576, which is longer than the specified 100\n",
      "Created a chunk of size 297, which is longer than the specified 100\n",
      "Created a chunk of size 534, which is longer than the specified 100\n",
      "Created a chunk of size 427, which is longer than the specified 100\n",
      "Created a chunk of size 412, which is longer than the specified 100\n",
      "Created a chunk of size 381, which is longer than the specified 100\n",
      "Created a chunk of size 417, which is longer than the specified 100\n",
      "Created a chunk of size 244, which is longer than the specified 100\n",
      "Created a chunk of size 307, which is longer than the specified 100\n",
      "Created a chunk of size 528, which is longer than the specified 100\n",
      "Created a chunk of size 565, which is longer than the specified 100\n",
      "Created a chunk of size 487, which is longer than the specified 100\n",
      "Created a chunk of size 470, which is longer than the specified 100\n",
      "Created a chunk of size 332, which is longer than the specified 100\n",
      "Created a chunk of size 552, which is longer than the specified 100\n",
      "Created a chunk of size 427, which is longer than the specified 100\n",
      "Created a chunk of size 596, which is longer than the specified 100\n",
      "Created a chunk of size 192, which is longer than the specified 100\n",
      "Created a chunk of size 403, which is longer than the specified 100\n",
      "Created a chunk of size 255, which is longer than the specified 100\n",
      "Created a chunk of size 1025, which is longer than the specified 100\n",
      "Created a chunk of size 438, which is longer than the specified 100\n",
      "Created a chunk of size 900, which is longer than the specified 100\n",
      "Created a chunk of size 250, which is longer than the specified 100\n",
      "Created a chunk of size 614, which is longer than the specified 100\n",
      "Created a chunk of size 635, which is longer than the specified 100\n",
      "Created a chunk of size 443, which is longer than the specified 100\n",
      "Created a chunk of size 478, which is longer than the specified 100\n",
      "Created a chunk of size 473, which is longer than the specified 100\n",
      "Created a chunk of size 302, which is longer than the specified 100\n",
      "Created a chunk of size 549, which is longer than the specified 100\n",
      "Created a chunk of size 644, which is longer than the specified 100\n",
      "Created a chunk of size 402, which is longer than the specified 100\n",
      "Created a chunk of size 489, which is longer than the specified 100\n",
      "Created a chunk of size 551, which is longer than the specified 100\n",
      "Created a chunk of size 527, which is longer than the specified 100\n",
      "Created a chunk of size 563, which is longer than the specified 100\n",
      "Created a chunk of size 472, which is longer than the specified 100\n",
      "Created a chunk of size 511, which is longer than the specified 100\n",
      "Created a chunk of size 419, which is longer than the specified 100\n",
      "Created a chunk of size 245, which is longer than the specified 100\n",
      "Created a chunk of size 371, which is longer than the specified 100\n",
      "Created a chunk of size 484, which is longer than the specified 100\n",
      "Created a chunk of size 306, which is longer than the specified 100\n",
      "Created a chunk of size 190, which is longer than the specified 100\n",
      "Created a chunk of size 499, which is longer than the specified 100\n",
      "Created a chunk of size 480, which is longer than the specified 100\n",
      "Created a chunk of size 634, which is longer than the specified 100\n",
      "Created a chunk of size 611, which is longer than the specified 100\n",
      "Created a chunk of size 356, which is longer than the specified 100\n",
      "Created a chunk of size 478, which is longer than the specified 100\n",
      "Created a chunk of size 369, which is longer than the specified 100\n",
      "Created a chunk of size 526, which is longer than the specified 100\n",
      "Created a chunk of size 311, which is longer than the specified 100\n",
      "Created a chunk of size 181, which is longer than the specified 100\n",
      "Created a chunk of size 637, which is longer than the specified 100\n",
      "Created a chunk of size 219, which is longer than the specified 100\n",
      "Created a chunk of size 305, which is longer than the specified 100\n",
      "Created a chunk of size 409, which is longer than the specified 100\n",
      "Created a chunk of size 235, which is longer than the specified 100\n",
      "Created a chunk of size 302, which is longer than the specified 100\n",
      "Created a chunk of size 236, which is longer than the specified 100\n",
      "Created a chunk of size 209, which is longer than the specified 100\n",
      "Created a chunk of size 366, which is longer than the specified 100\n",
      "Created a chunk of size 277, which is longer than the specified 100\n",
      "Created a chunk of size 591, which is longer than the specified 100\n",
      "Created a chunk of size 232, which is longer than the specified 100\n",
      "Created a chunk of size 543, which is longer than the specified 100\n",
      "Created a chunk of size 199, which is longer than the specified 100\n",
      "Created a chunk of size 214, which is longer than the specified 100\n",
      "Created a chunk of size 263, which is longer than the specified 100\n",
      "Created a chunk of size 375, which is longer than the specified 100\n",
      "Created a chunk of size 221, which is longer than the specified 100\n",
      "Created a chunk of size 261, which is longer than the specified 100\n",
      "Created a chunk of size 203, which is longer than the specified 100\n",
      "Created a chunk of size 758, which is longer than the specified 100\n",
      "Created a chunk of size 271, which is longer than the specified 100\n",
      "Created a chunk of size 323, which is longer than the specified 100\n",
      "Created a chunk of size 275, which is longer than the specified 100\n"
     ]
    },
    {
     "name": "stdout",
     "output_type": "stream",
     "text": [
      "bert_load_from_file: gguf version     = 2\n",
      "bert_load_from_file: gguf alignment   = 32\n",
      "bert_load_from_file: gguf data offset = 695552\n",
      "bert_load_from_file: model name           = BERT\n",
      "bert_load_from_file: model architecture   = bert\n",
      "bert_load_from_file: model file type      = 1\n",
      "bert_load_from_file: bert tokenizer vocab = 30522\n"
     ]
    }
   ],
   "source": [
    "from langchain_community.document_loaders import TextLoader\n",
    "\n",
    "loader = TextLoader(\"../../modules/paul_graham_essay.txt\")\n",
    "documents = loader.load()\n",
    "text_splitter = CharacterTextSplitter(chunk_size=100, chunk_overlap=0)\n",
    "docs = text_splitter.split_documents(documents)\n",
    "\n",
    "embeddings = GPT4AllEmbeddings()"
   ]
  },
  {
   "cell_type": "code",
   "execution_count": 18,
   "id": "a06370cae96cbaef",
   "metadata": {
    "ExecuteTime": {
     "end_time": "2024-03-03T11:28:42.366398Z",
     "start_time": "2024-03-03T11:28:38.991827Z"
    },
    "collapsed": false
   },
   "outputs": [
    {
     "name": "stdout",
     "output_type": "stream",
     "text": [
      "[Document(page_content='Computer Science is an uneasy alliance between two halves, theory and systems. The theory people prove things, and the systems people build things. I wanted to build things. I had plenty of respect for theory — indeed, a sneaking suspicion that it was the more admirable of the two halves — but building things seemed so much more exciting.', metadata={'some': 'metadata'}), Document(page_content=\"I applied to 3 grad schools: MIT and Yale, which were renowned for AI at the time, and Harvard, which I'd visited because Rich Draves went there, and was also home to Bill Woods, who'd invented the type of parser I used in my SHRDLU clone. Only Harvard accepted me, so that was where I went.\", metadata={'some': 'metadata'}), Document(page_content='For my undergraduate thesis, I reverse-engineered SHRDLU. My God did I love working on that program. It was a pleasing bit of code, but what made it even more exciting was my belief — hard to imagine now, but not unique in 1985 — that it was already climbing the lower slopes of intelligence.', metadata={'some': 'metadata'}), Document(page_content=\"The problem with systems work, though, was that it didn't last. Any program you wrote today, no matter how good, would be obsolete in a couple decades at best. People might mention your software in footnotes, but no one would actually use it. And indeed, it would seem very feeble work. Only people with a sense of the history of the field would even realize that, in its time, it had been good.\", metadata={'some': 'metadata'})]\n"
     ]
    }
   ],
   "source": [
    "for d in docs:\n",
    "    d.metadata = {\"some\": \"metadata\"}\n",
    "settings = ManticoreSearchSettings(table=\"manticoresearch_vector_search_example\")\n",
    "docsearch = ManticoreSearch.from_documents(docs, embeddings, config=settings)\n",
    "\n",
    "query = \"Robert Morris is\"\n",
    "docs = docsearch.similarity_search(query)\n",
    "print(docs)"
   ]
  }
 ],
 "metadata": {
  "kernelspec": {
   "display_name": "Python 3",
   "language": "python",
   "name": "python3"
  },
  "language_info": {
   "codemirror_mode": {
    "name": "ipython",
    "version": 2
   },
   "file_extension": ".py",
   "mimetype": "text/x-python",
   "name": "python",
   "nbconvert_exporter": "python",
   "pygments_lexer": "ipython2",
   "version": "2.7.6"
  }
 },
 "nbformat": 4,
 "nbformat_minor": 5
}
