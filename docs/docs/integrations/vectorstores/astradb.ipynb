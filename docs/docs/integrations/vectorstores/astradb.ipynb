{
 "cells": [
  {
   "cell_type": "markdown",
   "id": "66d0270a-b74f-4110-901e-7960b00297af",
   "metadata": {},
   "source": [
    "# Astra DB Vector Store\n",
    "\n",
    "This page provides a quickstart for using Astra DB as a Vector Store.\n",
    "\n",
    "> [DataStax Astra DB](https://docs.datastax.com/en/astra-db-serverless/index.html) is a serverless \n",
    "> AI-ready database built on `Apache Cassandra®` and made conveniently available\n",
    "> through an easy-to-use JSON API.\n",
    "\n",
    "## Setup"
   ]
  },
  {
   "cell_type": "markdown",
   "id": "dbe7c156-0413-47e3-9237-4769c4248869",
   "metadata": {},
   "source": [
    "Use of the integration requires the `langchain-astradb` partner package:"
   ]
  },
  {
   "cell_type": "code",
   "execution_count": 2,
   "id": "8d00fcf4-9798-4289-9214-d9734690adfc",
   "metadata": {
    "scrolled": true
   },
   "outputs": [
    {
     "name": "stdout",
     "output_type": "stream",
     "text": [
      "Requirement already satisfied: langchain<0.4,>=0.3.23 in /home/stefano/.virtualenvs/lc-3.12/lib/python3.12/site-packages (0.3.23)\n",
      "Requirement already satisfied: langchain-core<0.4,>=0.3.52 in /home/stefano/.virtualenvs/lc-3.12/lib/python3.12/site-packages (0.3.52)\n",
      "Requirement already satisfied: langchain-astradb<0.7,>=0.6 in /home/stefano/.virtualenvs/lc-3.12/lib/python3.12/site-packages (0.6.0)\n",
      "Requirement already satisfied: langchain-text-splitters<1.0.0,>=0.3.8 in /home/stefano/.virtualenvs/lc-3.12/lib/python3.12/site-packages (from langchain<0.4,>=0.3.23) (0.3.8)\n",
      "Requirement already satisfied: langsmith<0.4,>=0.1.17 in /home/stefano/.virtualenvs/lc-3.12/lib/python3.12/site-packages (from langchain<0.4,>=0.3.23) (0.3.31)\n",
      "Requirement already satisfied: pydantic<3.0.0,>=2.7.4 in /home/stefano/.virtualenvs/lc-3.12/lib/python3.12/site-packages (from langchain<0.4,>=0.3.23) (2.11.3)\n",
      "Requirement already satisfied: SQLAlchemy<3,>=1.4 in /home/stefano/.virtualenvs/lc-3.12/lib/python3.12/site-packages (from langchain<0.4,>=0.3.23) (2.0.40)\n",
      "Requirement already satisfied: requests<3,>=2 in /home/stefano/.virtualenvs/lc-3.12/lib/python3.12/site-packages (from langchain<0.4,>=0.3.23) (2.32.3)\n",
      "Requirement already satisfied: PyYAML>=5.3 in /home/stefano/.virtualenvs/lc-3.12/lib/python3.12/site-packages (from langchain<0.4,>=0.3.23) (6.0.2)\n",
      "Requirement already satisfied: tenacity!=8.4.0,<10.0.0,>=8.1.0 in /home/stefano/.virtualenvs/lc-3.12/lib/python3.12/site-packages (from langchain-core<0.4,>=0.3.52) (9.1.2)\n",
      "Requirement already satisfied: jsonpatch<2.0,>=1.33 in /home/stefano/.virtualenvs/lc-3.12/lib/python3.12/site-packages (from langchain-core<0.4,>=0.3.52) (1.33)\n",
      "Requirement already satisfied: packaging<25,>=23.2 in /home/stefano/.virtualenvs/lc-3.12/lib/python3.12/site-packages (from langchain-core<0.4,>=0.3.52) (24.2)\n",
      "Requirement already satisfied: typing-extensions>=4.7 in /home/stefano/.virtualenvs/lc-3.12/lib/python3.12/site-packages (from langchain-core<0.4,>=0.3.52) (4.13.2)\n",
      "Requirement already satisfied: astrapy<3.0.0,>=2.0.1 in /home/stefano/.virtualenvs/lc-3.12/lib/python3.12/site-packages (from langchain-astradb<0.7,>=0.6) (2.0.1)\n",
      "Requirement already satisfied: langchain-community>=0.3.1 in /home/stefano/.virtualenvs/lc-3.12/lib/python3.12/site-packages (from langchain-astradb<0.7,>=0.6) (0.3.21)\n",
      "Requirement already satisfied: numpy<2.0.0,>=1.26.0 in /home/stefano/.virtualenvs/lc-3.12/lib/python3.12/site-packages (from langchain-astradb<0.7,>=0.6) (1.26.4)\n",
      "Requirement already satisfied: deprecation<2.2.0,>=2.1.0 in /home/stefano/.virtualenvs/lc-3.12/lib/python3.12/site-packages (from astrapy<3.0.0,>=2.0.1->langchain-astradb<0.7,>=0.6) (2.1.0)\n",
      "Requirement already satisfied: httpx<1,>=0.25.2 in /home/stefano/.virtualenvs/lc-3.12/lib/python3.12/site-packages (from httpx[http2]<1,>=0.25.2->astrapy<3.0.0,>=2.0.1->langchain-astradb<0.7,>=0.6) (0.28.1)\n",
      "Requirement already satisfied: pymongo>=3 in /home/stefano/.virtualenvs/lc-3.12/lib/python3.12/site-packages (from astrapy<3.0.0,>=2.0.1->langchain-astradb<0.7,>=0.6) (4.12.0)\n",
      "Requirement already satisfied: toml<0.11.0,>=0.10.2 in /home/stefano/.virtualenvs/lc-3.12/lib/python3.12/site-packages (from astrapy<3.0.0,>=2.0.1->langchain-astradb<0.7,>=0.6) (0.10.2)\n",
      "Requirement already satisfied: uuid6>=2024.1.12 in /home/stefano/.virtualenvs/lc-3.12/lib/python3.12/site-packages (from astrapy<3.0.0,>=2.0.1->langchain-astradb<0.7,>=0.6) (2024.7.10)\n",
      "Requirement already satisfied: jsonpointer>=1.9 in /home/stefano/.virtualenvs/lc-3.12/lib/python3.12/site-packages (from jsonpatch<2.0,>=1.33->langchain-core<0.4,>=0.3.52) (3.0.0)\n",
      "Requirement already satisfied: aiohttp<4.0.0,>=3.8.3 in /home/stefano/.virtualenvs/lc-3.12/lib/python3.12/site-packages (from langchain-community>=0.3.1->langchain-astradb<0.7,>=0.6) (3.11.16)\n",
      "Requirement already satisfied: dataclasses-json<0.7,>=0.5.7 in /home/stefano/.virtualenvs/lc-3.12/lib/python3.12/site-packages (from langchain-community>=0.3.1->langchain-astradb<0.7,>=0.6) (0.6.7)\n",
      "Requirement already satisfied: pydantic-settings<3.0.0,>=2.4.0 in /home/stefano/.virtualenvs/lc-3.12/lib/python3.12/site-packages (from langchain-community>=0.3.1->langchain-astradb<0.7,>=0.6) (2.8.1)\n",
      "Requirement already satisfied: httpx-sse<1.0.0,>=0.4.0 in /home/stefano/.virtualenvs/lc-3.12/lib/python3.12/site-packages (from langchain-community>=0.3.1->langchain-astradb<0.7,>=0.6) (0.4.0)\n",
      "Requirement already satisfied: orjson<4.0.0,>=3.9.14 in /home/stefano/.virtualenvs/lc-3.12/lib/python3.12/site-packages (from langsmith<0.4,>=0.1.17->langchain<0.4,>=0.3.23) (3.10.16)\n",
      "Requirement already satisfied: requests-toolbelt<2.0.0,>=1.0.0 in /home/stefano/.virtualenvs/lc-3.12/lib/python3.12/site-packages (from langsmith<0.4,>=0.1.17->langchain<0.4,>=0.3.23) (1.0.0)\n",
      "Requirement already satisfied: zstandard<0.24.0,>=0.23.0 in /home/stefano/.virtualenvs/lc-3.12/lib/python3.12/site-packages (from langsmith<0.4,>=0.1.17->langchain<0.4,>=0.3.23) (0.23.0)\n",
      "Requirement already satisfied: annotated-types>=0.6.0 in /home/stefano/.virtualenvs/lc-3.12/lib/python3.12/site-packages (from pydantic<3.0.0,>=2.7.4->langchain<0.4,>=0.3.23) (0.7.0)\n",
      "Requirement already satisfied: pydantic-core==2.33.1 in /home/stefano/.virtualenvs/lc-3.12/lib/python3.12/site-packages (from pydantic<3.0.0,>=2.7.4->langchain<0.4,>=0.3.23) (2.33.1)\n",
      "Requirement already satisfied: typing-inspection>=0.4.0 in /home/stefano/.virtualenvs/lc-3.12/lib/python3.12/site-packages (from pydantic<3.0.0,>=2.7.4->langchain<0.4,>=0.3.23) (0.4.0)\n",
      "Requirement already satisfied: charset-normalizer<4,>=2 in /home/stefano/.virtualenvs/lc-3.12/lib/python3.12/site-packages (from requests<3,>=2->langchain<0.4,>=0.3.23) (3.4.1)\n",
      "Requirement already satisfied: idna<4,>=2.5 in /home/stefano/.virtualenvs/lc-3.12/lib/python3.12/site-packages (from requests<3,>=2->langchain<0.4,>=0.3.23) (3.10)\n",
      "Requirement already satisfied: urllib3<3,>=1.21.1 in /home/stefano/.virtualenvs/lc-3.12/lib/python3.12/site-packages (from requests<3,>=2->langchain<0.4,>=0.3.23) (2.4.0)\n",
      "Requirement already satisfied: certifi>=2017.4.17 in /home/stefano/.virtualenvs/lc-3.12/lib/python3.12/site-packages (from requests<3,>=2->langchain<0.4,>=0.3.23) (2025.1.31)\n",
      "Requirement already satisfied: greenlet>=1 in /home/stefano/.virtualenvs/lc-3.12/lib/python3.12/site-packages (from SQLAlchemy<3,>=1.4->langchain<0.4,>=0.3.23) (3.2.0)\n",
      "Requirement already satisfied: aiohappyeyeballs>=2.3.0 in /home/stefano/.virtualenvs/lc-3.12/lib/python3.12/site-packages (from aiohttp<4.0.0,>=3.8.3->langchain-community>=0.3.1->langchain-astradb<0.7,>=0.6) (2.6.1)\n",
      "Requirement already satisfied: aiosignal>=1.1.2 in /home/stefano/.virtualenvs/lc-3.12/lib/python3.12/site-packages (from aiohttp<4.0.0,>=3.8.3->langchain-community>=0.3.1->langchain-astradb<0.7,>=0.6) (1.3.2)\n",
      "Requirement already satisfied: attrs>=17.3.0 in /home/stefano/.virtualenvs/lc-3.12/lib/python3.12/site-packages (from aiohttp<4.0.0,>=3.8.3->langchain-community>=0.3.1->langchain-astradb<0.7,>=0.6) (25.3.0)\n",
      "Requirement already satisfied: frozenlist>=1.1.1 in /home/stefano/.virtualenvs/lc-3.12/lib/python3.12/site-packages (from aiohttp<4.0.0,>=3.8.3->langchain-community>=0.3.1->langchain-astradb<0.7,>=0.6) (1.5.0)\n",
      "Requirement already satisfied: multidict<7.0,>=4.5 in /home/stefano/.virtualenvs/lc-3.12/lib/python3.12/site-packages (from aiohttp<4.0.0,>=3.8.3->langchain-community>=0.3.1->langchain-astradb<0.7,>=0.6) (6.4.3)\n",
      "Requirement already satisfied: propcache>=0.2.0 in /home/stefano/.virtualenvs/lc-3.12/lib/python3.12/site-packages (from aiohttp<4.0.0,>=3.8.3->langchain-community>=0.3.1->langchain-astradb<0.7,>=0.6) (0.3.1)\n",
      "Requirement already satisfied: yarl<2.0,>=1.17.0 in /home/stefano/.virtualenvs/lc-3.12/lib/python3.12/site-packages (from aiohttp<4.0.0,>=3.8.3->langchain-community>=0.3.1->langchain-astradb<0.7,>=0.6) (1.19.0)\n",
      "Requirement already satisfied: marshmallow<4.0.0,>=3.18.0 in /home/stefano/.virtualenvs/lc-3.12/lib/python3.12/site-packages (from dataclasses-json<0.7,>=0.5.7->langchain-community>=0.3.1->langchain-astradb<0.7,>=0.6) (3.26.1)\n",
      "Requirement already satisfied: typing-inspect<1,>=0.4.0 in /home/stefano/.virtualenvs/lc-3.12/lib/python3.12/site-packages (from dataclasses-json<0.7,>=0.5.7->langchain-community>=0.3.1->langchain-astradb<0.7,>=0.6) (0.9.0)\n",
      "Requirement already satisfied: anyio in /home/stefano/.virtualenvs/lc-3.12/lib/python3.12/site-packages (from httpx<1,>=0.25.2->httpx[http2]<1,>=0.25.2->astrapy<3.0.0,>=2.0.1->langchain-astradb<0.7,>=0.6) (4.9.0)\n",
      "Requirement already satisfied: httpcore==1.* in /home/stefano/.virtualenvs/lc-3.12/lib/python3.12/site-packages (from httpx<1,>=0.25.2->httpx[http2]<1,>=0.25.2->astrapy<3.0.0,>=2.0.1->langchain-astradb<0.7,>=0.6) (1.0.8)\n",
      "Requirement already satisfied: h11<0.15,>=0.13 in /home/stefano/.virtualenvs/lc-3.12/lib/python3.12/site-packages (from httpcore==1.*->httpx<1,>=0.25.2->httpx[http2]<1,>=0.25.2->astrapy<3.0.0,>=2.0.1->langchain-astradb<0.7,>=0.6) (0.14.0)\n",
      "Requirement already satisfied: h2<5,>=3 in /home/stefano/.virtualenvs/lc-3.12/lib/python3.12/site-packages (from httpx[http2]<1,>=0.25.2->astrapy<3.0.0,>=2.0.1->langchain-astradb<0.7,>=0.6) (4.2.0)\n",
      "Requirement already satisfied: python-dotenv>=0.21.0 in /home/stefano/.virtualenvs/lc-3.12/lib/python3.12/site-packages (from pydantic-settings<3.0.0,>=2.4.0->langchain-community>=0.3.1->langchain-astradb<0.7,>=0.6) (1.1.0)\n",
      "Requirement already satisfied: dnspython<3.0.0,>=1.16.0 in /home/stefano/.virtualenvs/lc-3.12/lib/python3.12/site-packages (from pymongo>=3->astrapy<3.0.0,>=2.0.1->langchain-astradb<0.7,>=0.6) (2.7.0)\n",
      "Requirement already satisfied: hyperframe<7,>=6.1 in /home/stefano/.virtualenvs/lc-3.12/lib/python3.12/site-packages (from h2<5,>=3->httpx[http2]<1,>=0.25.2->astrapy<3.0.0,>=2.0.1->langchain-astradb<0.7,>=0.6) (6.1.0)\n",
      "Requirement already satisfied: hpack<5,>=4.1 in /home/stefano/.virtualenvs/lc-3.12/lib/python3.12/site-packages (from h2<5,>=3->httpx[http2]<1,>=0.25.2->astrapy<3.0.0,>=2.0.1->langchain-astradb<0.7,>=0.6) (4.1.0)\n",
      "Requirement already satisfied: mypy-extensions>=0.3.0 in /home/stefano/.virtualenvs/lc-3.12/lib/python3.12/site-packages (from typing-inspect<1,>=0.4.0->dataclasses-json<0.7,>=0.5.7->langchain-community>=0.3.1->langchain-astradb<0.7,>=0.6) (1.0.0)\n",
      "Requirement already satisfied: sniffio>=1.1 in /home/stefano/.virtualenvs/lc-3.12/lib/python3.12/site-packages (from anyio->httpx<1,>=0.25.2->httpx[http2]<1,>=0.25.2->astrapy<3.0.0,>=2.0.1->langchain-astradb<0.7,>=0.6) (1.3.1)\n",
      "\n",
      "\u001b[1m[\u001b[0m\u001b[34;49mnotice\u001b[0m\u001b[1;39;49m]\u001b[0m\u001b[39;49m A new release of pip is available: \u001b[0m\u001b[31;49m24.3.1\u001b[0m\u001b[39;49m -> \u001b[0m\u001b[32;49m25.0.1\u001b[0m\n",
      "\u001b[1m[\u001b[0m\u001b[34;49mnotice\u001b[0m\u001b[1;39;49m]\u001b[0m\u001b[39;49m To update, run: \u001b[0m\u001b[32;49mpip install --upgrade pip\u001b[0m\n"
     ]
    }
   ],
   "source": [
    "!pip install \\\n",
    "    \"langchain>=0.3.23,<0.4\" \\\n",
    "    \"langchain-core>=0.3.52,<0.4\" \\\n",
    "    \"langchain-astradb>=0.6,<0.7\""
   ]
  },
  {
   "cell_type": "markdown",
   "id": "319bf84b",
   "metadata": {},
   "source": [
    "### Credentials\n",
    "\n",
    "In order to use the AstraDB vector store, you must first head to the [AstraDB website](https://astra.datastax.com), create an account, and then create a new database - the initialization might take a few minutes. \n",
    "\n",
    "Once the database has been initialized, you should [create an application token](https://docs.datastax.com/en/astra-db-serverless/administration/manage-application-tokens.html#generate-application-token) and save it for later use. \n",
    "\n",
    "You will also want to copy the `API Endpoint` from the `Database Details` and store that in the `ASTRA_DB_API_ENDPOINT` variable.\n",
    "\n",
    "You may optionally provide a namespace, which you can manage from the `Data Explorer` tab of your database dashboard. If you don't wish to set a namespace, you can leave the `getpass` prompt for `ASTRA_DB_NAMESPACE` empty."
   ]
  },
  {
   "cell_type": "code",
   "execution_count": 7,
   "id": "b7843c22",
   "metadata": {},
   "outputs": [],
   "source": [
    "import getpass\n",
    "\n",
    "ASTRA_DB_API_ENDPOINT = getpass.getpass(\"ASTRA_DB_API_ENDPOINT = \")\n",
    "ASTRA_DB_APPLICATION_TOKEN = getpass.getpass(\"ASTRA_DB_APPLICATION_TOKEN = \")\n",
    "\n",
    "desired_namespace = getpass.getpass(\"ASTRA_DB_NAMESPACE = \")\n",
    "if desired_namespace:\n",
    "    ASTRA_DB_NAMESPACE = desired_namespace\n",
    "else:\n",
    "    ASTRA_DB_NAMESPACE = None"
   ]
  },
  {
   "cell_type": "markdown",
   "id": "e1c5cd9e",
   "metadata": {},
   "source": [
    "If you want to get best in-class automated tracing of your model calls you can also set your [LangSmith](https://docs.smith.langchain.com/) API key by uncommenting below:"
   ]
  },
  {
   "cell_type": "code",
   "execution_count": null,
   "id": "3cb739c0",
   "metadata": {},
   "outputs": [],
   "source": [
    "# os.environ[\"LANGSMITH_API_KEY\"] = getpass.getpass(\"Enter your LangSmith API key: \")\n",
    "# os.environ[\"LANGSMITH_TRACING\"] = \"true\""
   ]
  },
  {
   "cell_type": "markdown",
   "id": "22866f09-e10d-4f05-a24b-b9420129462e",
   "metadata": {},
   "source": [
    "## Initialization\n",
    "\n",
    "There are two ways to create an Astra DB vector store, which differ in how the embeddings are computed.\n",
    "\n",
    "#### Method 1: Explicit embeddings\n",
    "\n",
    "You can separately instantiate a `langchain_core.embeddings.Embeddings` class and pass it to the `AstraDBVectorStore` constructor, just like with most other LangChain vector stores.\n",
    "\n",
    "#### Method 2: Integrated embedding computation\n",
    "\n",
    "Alternatively, you can use the [Vectorize](https://www.datastax.com/blog/simplifying-vector-embedding-generation-with-astra-vectorize) feature of Astra DB and simply specify the name of a supported embedding model when creating the store. The embedding computations are entirely handled within the database. (To proceed with this method, you must have enabled the desired embedding integration for your database, as described [in the docs](https://docs.datastax.com/en/astra-db-serverless/databases/embedding-generation.html).)\n",
    "\n",
    "### Explicit Embedding Initialization\n",
    "\n",
    "Below, we instantiate our vector store using the explicit embedding class:\n",
    "\n",
    "import EmbeddingTabs from \"@theme/EmbeddingTabs\";\n",
    "\n",
    "<EmbeddingTabs/>\n"
   ]
  },
  {
   "cell_type": "code",
   "execution_count": 11,
   "id": "d71a1dcb",
   "metadata": {},
   "outputs": [],
   "source": [
    "# | output: false\n",
    "# | echo: false\n",
    "from langchain_openai import OpenAIEmbeddings\n",
    "\n",
    "embeddings = OpenAIEmbeddings(model=\"text-embedding-3-large\")"
   ]
  },
  {
   "cell_type": "code",
   "execution_count": 22,
   "id": "0b32730d-176e-414c-9d91-fd3644c54211",
   "metadata": {},
   "outputs": [],
   "source": [
    "from langchain_astradb import AstraDBVectorStore\n",
    "\n",
    "vector_store = AstraDBVectorStore(\n",
    "    collection_name=\"astra_vector_langchain\",\n",
    "    embedding=embeddings,\n",
    "    api_endpoint=ASTRA_DB_API_ENDPOINT,\n",
    "    token=ASTRA_DB_APPLICATION_TOKEN,\n",
    "    namespace=ASTRA_DB_NAMESPACE,\n",
    ")"
   ]
  },
  {
   "cell_type": "markdown",
   "id": "84a1fe85-a42c-4f15-92e1-f79f1dd43ea2",
   "metadata": {},
   "source": [
    "### Integrated Embedding Initialization\n",
    "\n",
    "Here it is assumed that you have\n",
    "\n",
    "- Enabled the OpenAI integration in your Astra DB organization,\n",
    "- Added an API Key named `\"OPENAI_API_KEY\"` to the integration, and scoped it to the database you are using.\n",
    "\n",
    "For more details on how to do this, please consult the [documentation](https://docs.datastax.com/en/astra-db-serverless/integrations/embedding-providers/openai.html)."
   ]
  },
  {
   "cell_type": "code",
   "execution_count": null,
   "id": "9d18455d-3fa6-4f9e-b687-3a2bc71c9a23",
   "metadata": {},
   "outputs": [],
   "source": [
    "from astrapy.info import CollectionVectorServiceOptions\n",
    "\n",
    "openai_vectorize_options = CollectionVectorServiceOptions(\n",
    "    provider=\"openai\",\n",
    "    model_name=\"text-embedding-3-small\",\n",
    "    authentication={\n",
    "        \"providerKey\": \"OPENAI_API_KEY\",\n",
    "    },\n",
    ")\n",
    "\n",
    "vector_store_integrated = AstraDBVectorStore(\n",
    "    collection_name=\"astra_vector_langchain_integrated\",\n",
    "    api_endpoint=ASTRA_DB_API_ENDPOINT,\n",
    "    token=ASTRA_DB_APPLICATION_TOKEN,\n",
    "    namespace=ASTRA_DB_NAMESPACE,\n",
    "    collection_vector_service_options=openai_vectorize_options,\n",
    ")"
   ]
  },
  {
   "cell_type": "markdown",
   "id": "d3796b39",
   "metadata": {},
   "source": [
    "## Manage vector store\n",
    "\n",
    "Once you have created your vector store, we can interact with it by adding and deleting different items.\n",
    "\n",
    "### Add items to vector store\n",
    "\n",
    "We can add items to our vector store by using the `add_documents` function."
   ]
  },
  {
   "cell_type": "code",
   "execution_count": 23,
   "id": "afb3e155",
   "metadata": {},
   "outputs": [
    {
     "data": {
      "text/plain": [
       "[UUID('89a5cea1-5f3d-47c1-89dc-7e36e12cf4de'),\n",
       " UUID('d4e78c48-f954-4612-8a38-af22923ba23b'),\n",
       " UUID('058e4046-ded0-4fc1-b8ac-60e5a5f08ea0'),\n",
       " UUID('50ab2a9a-762c-4b78-b102-942a86d77288'),\n",
       " UUID('1da5a3c1-ba51-4f2f-aaaf-79a8f5011ce3'),\n",
       " UUID('f3055d9e-2eb1-4d25-838e-2c70548f91b5'),\n",
       " UUID('4bf0613d-08d0-4fbc-a43c-4955e4c9e616'),\n",
       " UUID('18008625-8fd4-45c2-a0d7-92a2cde23dbc'),\n",
       " UUID('c712e06f-790b-4fd4-9040-7ab3898965d0'),\n",
       " UUID('a9b84820-3445-4810-a46c-e77b76ab85bc')]"
      ]
     },
     "execution_count": 23,
     "metadata": {},
     "output_type": "execute_result"
    }
   ],
   "source": [
    "from uuid import uuid4\n",
    "\n",
    "from langchain_core.documents import Document\n",
    "\n",
    "document_1 = Document(\n",
    "    page_content=\"I had chocolate chip pancakes and scrambled eggs for breakfast this morning.\",\n",
    "    metadata={\"source\": \"tweet\"},\n",
    ")\n",
    "\n",
    "document_2 = Document(\n",
    "    page_content=\"The weather forecast for tomorrow is cloudy and overcast, with a high of 62 degrees.\",\n",
    "    metadata={\"source\": \"news\"},\n",
    ")\n",
    "\n",
    "document_3 = Document(\n",
    "    page_content=\"Building an exciting new project with LangChain - come check it out!\",\n",
    "    metadata={\"source\": \"tweet\"},\n",
    ")\n",
    "\n",
    "document_4 = Document(\n",
    "    page_content=\"Robbers broke into the city bank and stole $1 million in cash.\",\n",
    "    metadata={\"source\": \"news\"},\n",
    ")\n",
    "\n",
    "document_5 = Document(\n",
    "    page_content=\"Wow! That was an amazing movie. I can't wait to see it again.\",\n",
    "    metadata={\"source\": \"tweet\"},\n",
    ")\n",
    "\n",
    "document_6 = Document(\n",
    "    page_content=\"Is the new iPhone worth the price? Read this review to find out.\",\n",
    "    metadata={\"source\": \"website\"},\n",
    ")\n",
    "\n",
    "document_7 = Document(\n",
    "    page_content=\"The top 10 soccer players in the world right now.\",\n",
    "    metadata={\"source\": \"website\"},\n",
    ")\n",
    "\n",
    "document_8 = Document(\n",
    "    page_content=\"LangGraph is the best framework for building stateful, agentic applications!\",\n",
    "    metadata={\"source\": \"tweet\"},\n",
    ")\n",
    "\n",
    "document_9 = Document(\n",
    "    page_content=\"The stock market is down 500 points today due to fears of a recession.\",\n",
    "    metadata={\"source\": \"news\"},\n",
    ")\n",
    "\n",
    "document_10 = Document(\n",
    "    page_content=\"I have a bad feeling I am going to get deleted :(\",\n",
    "    metadata={\"source\": \"tweet\"},\n",
    ")\n",
    "\n",
    "documents = [\n",
    "    document_1,\n",
    "    document_2,\n",
    "    document_3,\n",
    "    document_4,\n",
    "    document_5,\n",
    "    document_6,\n",
    "    document_7,\n",
    "    document_8,\n",
    "    document_9,\n",
    "    document_10,\n",
    "]\n",
    "uuids = [str(uuid4()) for _ in range(len(documents))]\n",
    "\n",
    "vector_store.add_documents(documents=documents, ids=uuids)"
   ]
  },
  {
   "cell_type": "markdown",
   "id": "dfce4edc",
   "metadata": {},
   "source": [
    "### Delete items from vector store\n",
    "\n",
    "We can delete items from our vector store by ID by using the `delete` function."
   ]
  },
  {
   "cell_type": "code",
   "execution_count": 24,
   "id": "d3f69315",
   "metadata": {},
   "outputs": [
    {
     "data": {
      "text/plain": [
       "True"
      ]
     },
     "execution_count": 24,
     "metadata": {},
     "output_type": "execute_result"
    }
   ],
   "source": [
    "vector_store.delete(ids=uuids[-1])"
   ]
  },
  {
   "cell_type": "markdown",
   "id": "d12e1a07",
   "metadata": {},
   "source": [
    "## Query vector store\n",
    "\n",
    "Once your vector store has been created and the relevant documents have been added you will most likely wish to query it during the running of your chain or agent. \n",
    "\n",
    "### Query directly\n",
    "\n",
    "#### Similarity search\n",
    "\n",
    "Performing a simple similarity search with filtering on metadata can be done as follows:"
   ]
  },
  {
   "cell_type": "code",
   "execution_count": 15,
   "id": "770b3467",
   "metadata": {},
   "outputs": [
    {
     "name": "stdout",
     "output_type": "stream",
     "text": [
      "* Building an exciting new project with LangChain - come check it out! [{'source': 'tweet'}]\n",
      "* LangGraph is the best framework for building stateful, agentic applications! [{'source': 'tweet'}]\n"
     ]
    }
   ],
   "source": [
    "results = vector_store.similarity_search(\n",
    "    \"LangChain provides abstractions to make working with LLMs easy\",\n",
    "    k=2,\n",
    "    filter={\"source\": \"tweet\"},\n",
    ")\n",
    "for res in results:\n",
    "    print(f\"* {res.page_content} [{res.metadata}]\")"
   ]
  },
  {
   "cell_type": "markdown",
   "id": "ce112165",
   "metadata": {},
   "source": [
    "#### Similarity search with score\n",
    "\n",
    "You can also search with score:"
   ]
  },
  {
   "cell_type": "code",
   "execution_count": 16,
   "id": "5924309a",
   "metadata": {},
   "outputs": [
    {
     "name": "stdout",
     "output_type": "stream",
     "text": [
      "* [SIM=0.776585] The weather forecast for tomorrow is cloudy and overcast, with a high of 62 degrees. [{'source': 'news'}]\n"
     ]
    }
   ],
   "source": [
    "results = vector_store.similarity_search_with_score(\n",
    "    \"Will it be hot tomorrow?\", k=1, filter={\"source\": \"news\"}\n",
    ")\n",
    "for res, score in results:\n",
    "    print(f\"* [SIM={score:3f}] {res.page_content} [{res.metadata}]\")"
   ]
  },
  {
   "cell_type": "markdown",
   "id": "fead7af5",
   "metadata": {},
   "source": [
    "#### Other search methods\n",
    "\n",
    "There are a variety of other search methods that are not covered in this notebook, such as MMR search or searching by vector. For a full list of the search abilities available for `AstraDBVectorStore` check out the [API reference](https://python.langchain.com/api_reference/astradb/vectorstores/langchain_astradb.vectorstores.AstraDBVectorStore.html)."
   ]
  },
  {
   "cell_type": "markdown",
   "id": "7e40f714",
   "metadata": {},
   "source": [
    "### Query by turning into retriever\n",
    "\n",
    "You can also transform the vector store into a retriever for easier usage in your chains. \n",
    "\n",
    "Here is how to transform your vector store into a retriever and then invoke the retreiever with a simple query and filter."
   ]
  },
  {
   "cell_type": "code",
   "execution_count": 17,
   "id": "dcee50e6",
   "metadata": {},
   "outputs": [
    {
     "data": {
      "text/plain": [
       "[Document(metadata={'source': 'news'}, page_content='Robbers broke into the city bank and stole $1 million in cash.')]"
      ]
     },
     "execution_count": 17,
     "metadata": {},
     "output_type": "execute_result"
    }
   ],
   "source": [
    "retriever = vector_store.as_retriever(\n",
    "    search_type=\"similarity_score_threshold\",\n",
    "    search_kwargs={\"k\": 1, \"score_threshold\": 0.5},\n",
    ")\n",
    "retriever.invoke(\"Stealing from the bank is a crime\", filter={\"source\": \"news\"})"
   ]
  },
  {
   "cell_type": "markdown",
   "id": "734e683a",
   "metadata": {},
   "source": [
    "## Usage for retrieval-augmented generation\n",
    "\n",
    "For guides on how to use this vector store for retrieval-augmented generation (RAG), see the following sections:\n",
    "\n",
    "- [Tutorials](/docs/tutorials/)\n",
    "- [How-to: Question and answer with RAG](https://python.langchain.com/docs/how_to/#qa-with-rag)\n",
    "- [Retrieval conceptual docs](https://python.langchain.com/docs/concepts/retrieval)"
   ]
  },
  {
   "cell_type": "markdown",
   "id": "869ab448-a029-4692-aefc-26b85513314d",
   "metadata": {},
   "source": [
    "For more, check out a complete RAG template using Astra DB [here](https://github.com/langchain-ai/langchain/tree/master/templates/rag-astradb)."
   ]
  },
  {
   "cell_type": "markdown",
   "id": "177610c7-50d0-4b7b-8634-b03338054c8e",
   "metadata": {},
   "source": [
    "## Cleanup vector store"
   ]
  },
  {
   "cell_type": "markdown",
   "id": "0da4d19f-9878-4d3d-82c9-09cafca20322",
   "metadata": {},
   "source": [
    "If you want to completely delete the collection from your Astra DB instance, run this.\n",
    "\n",
    "_(You will lose the data you stored in it.)_"
   ]
  },
  {
   "cell_type": "code",
   "execution_count": null,
   "id": "fd405a13-6f71-46fa-87e6-167238e9c25e",
   "metadata": {},
   "outputs": [],
   "source": [
    "vector_store.delete_collection()"
   ]
  },
  {
   "cell_type": "markdown",
   "id": "a14c34be",
   "metadata": {},
   "source": [
    "## API reference\n",
    "\n",
    "For detailed documentation of all `AstraDBVectorStore` features and configurations head to the API reference: https://python.langchain.com/api_reference/astradb/vectorstores/langchain_astradb.vectorstores.AstraDBVectorStore.html"
   ]
  }
 ],
 "metadata": {
  "kernelspec": {
   "display_name": "Python 3 (ipykernel)",
   "language": "python",
   "name": "python3"
  },
  "language_info": {
   "codemirror_mode": {
    "name": "ipython",
    "version": 3
   },
   "file_extension": ".py",
   "mimetype": "text/x-python",
   "name": "python",
   "nbconvert_exporter": "python",
   "pygments_lexer": "ipython3",
   "version": "3.12.8"
  }
 },
 "nbformat": 4,
 "nbformat_minor": 5
}
