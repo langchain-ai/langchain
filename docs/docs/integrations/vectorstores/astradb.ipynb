{
 "cells": [
  {
   "cell_type": "markdown",
   "id": "66d0270a-b74f-4110-901e-7960b00297af",
   "metadata": {},
   "source": [
    "# Astra DB Vector Store\n",
    "\n",
    "This page provides a quickstart for using Astra DB as a Vector Store.\n",
    "\n",
    "> [DataStax Astra DB](https://docs.datastax.com/en/astra-db-serverless/index.html) is a serverless \n",
    "> AI-ready database built on `Apache Cassandra®` and made conveniently available \n",
    "> through an easy-to-use JSON API.\n",
    "\n",
    "## Setup"
   ]
  },
  {
   "cell_type": "markdown",
   "id": "dbe7c156-0413-47e3-9237-4769c4248869",
   "metadata": {},
   "source": [
    "### Dependencies\n",
    "\n",
    "Use of the integration requires the `langchain-astradb` partner package:"
   ]
  },
  {
   "cell_type": "code",
   "execution_count": null,
   "id": "8d00fcf4-9798-4289-9214-d9734690adfc",
   "metadata": {
    "scrolled": true
   },
   "outputs": [],
   "source": [
    "!pip install \\\n",
    "    \"langchain>=0.3.23,<0.4\" \\\n",
    "    \"langchain-core>=0.3.52,<0.4\" \\\n",
    "    \"langchain-astradb>=0.6,<0.7\""
   ]
  },
  {
   "cell_type": "markdown",
   "id": "319bf84b",
   "metadata": {},
   "source": [
    "### Credentials\n",
    "\n",
    "In order to use the AstraDB vector store, you must first head to the [AstraDB website](https://astra.datastax.com), create an account, and then create a new database - the initialization might take a few minutes. \n",
    "\n",
    "Once the database has been initialized, retrieve your [connection secrets](https://docs.datastax.com/en/astra-db-serverless/get-started/quickstart.html#create-a-database-and-store-your-credentials), which you'll need momentarily. These are:\n",
    "- an **`API Endpoint`**, such as `\"https://01234567-89ab-cdef-0123-456789abcdef-us-east1.apps.astra.datastax.com/\"`\n",
    "- and a **`Database Token`**, e.g. `\"AstraCS:aBcD123......\"`\n",
    "\n",
    "You may optionally provide a **`keyspace`** (called \"namespace\" in the LangChain components), which you can manage from the `Data Explorer` tab of your database dashboard. If you wish, you can leave it empty in the prompt below and fall back to a default keyspace."
   ]
  },
  {
   "cell_type": "code",
   "execution_count": 1,
   "id": "b7843c22",
   "metadata": {},
   "outputs": [
    {
     "name": "stdin",
     "output_type": "stream",
     "text": [
      "ASTRA_DB_API_ENDPOINT =  https://01234567-89ab-cdef-0123-456789abcdef-us-east1.apps.astra.datastax.com\n",
      "ASTRA_DB_APPLICATION_TOKEN =  ········\n",
      "(optional) ASTRA_DB_KEYSPACE =  \n"
     ]
    }
   ],
   "source": [
    "import getpass\n",
    "\n",
    "ASTRA_DB_API_ENDPOINT = input(\"ASTRA_DB_API_ENDPOINT = \").strip()\n",
    "ASTRA_DB_APPLICATION_TOKEN = getpass.getpass(\"ASTRA_DB_APPLICATION_TOKEN = \").strip()\n",
    "\n",
    "desired_keyspace = input(\"(optional) ASTRA_DB_KEYSPACE = \").strip()\n",
    "if desired_keyspace:\n",
    "    ASTRA_DB_KEYSPACE = desired_keyspace\n",
    "else:\n",
    "    ASTRA_DB_KEYSPACE = None"
   ]
  },
  {
   "cell_type": "markdown",
   "id": "e1c5cd9e",
   "metadata": {},
   "source": [
    "If you want to get best in-class automated tracing of your model calls you can also set your [LangSmith](https://docs.smith.langchain.com/) API key by uncommenting below:"
   ]
  },
  {
   "cell_type": "code",
   "execution_count": 2,
   "id": "3cb739c0",
   "metadata": {},
   "outputs": [],
   "source": [
    "# os.environ[\"LANGSMITH_API_KEY\"] = getpass.getpass(\"Enter your LangSmith API key: \")\n",
    "# os.environ[\"LANGSMITH_TRACING\"] = \"true\""
   ]
  },
  {
   "cell_type": "markdown",
   "id": "22866f09-e10d-4f05-a24b-b9420129462e",
   "metadata": {},
   "source": [
    "## Initialization\n",
    "\n",
    "There are various ways to create an Astra DB vector store:\n",
    "\n",
    "#### Method 1: Explicit embeddings\n",
    "\n",
    "You can separately instantiate a `langchain_core.embeddings.Embeddings` class and pass it to the `AstraDBVectorStore` constructor, just like with most other LangChain vector stores.\n",
    "\n",
    "#### Method 2: Server-side embeddings ('vectorize')\n",
    "\n",
    "Alternatively, you can use the [server-side embedding computation](https://docs.datastax.com/en/astra-db-serverless/databases/embedding-generation.html) feature of Astra DB ('vectorize') and simply specify an embedding model when creating the server infrastructure for the store. The embedding computations will then be entirely handled within the database in subsequent read and write operations. (To proceed with this method, you must have enabled the desired embedding integration for your database, as described [in the docs](https://docs.datastax.com/en/astra-db-serverless/databases/embedding-generation.html).)\n",
    "\n",
    "#### Method 3: Auto-detect from a pre-existing collection\n",
    "\n",
    "You may already have a [collection](https://docs.datastax.com/en/astra-db-serverless/api-reference/collections.html) in your Astra DB, possibly pre-populated with data through other means (e.g. via the Astra UI or a third-party application), and just want to start querying it within LangChain. In this case, the right approach is to enable the `autodetect_collection` mode in the vector store constructor and let the class figure out the details. (Of course, if your collection has no 'vectorize', you still need to provide an `Embeddings` object).\n",
    "\n",
    "#### A note on \"hybrid search\"\n",
    "\n",
    "Astra DB vector stores support metadata search in vector searches; furthermore, version 0.6 introduced full support for _hybrid search_ through the [findAndRerank](https://docs.datastax.com/en/astra-db-serverless/api-reference/document-methods/find-and-rerank.html) database primitive: documents are retrieved from both a vector-similarity _and_ a keyword-based (\"lexical\") search, and are then merged through a reranker model. This search strategy, entirely handled on server-side, can boost the accuracy of your results, thus improving the quality of your RAG application. Whenever available, hybrid search is used automatically by the vector store (though you can exert manual control over it if you wish to do so).\n",
    "\n",
    "#### Additional information\n",
    "\n",
    "The `AstraDBVectorStore` can be configured in many ways; see the [API Reference](https://python.langchain.com/api_reference/astradb/vectorstores/langchain_astradb.vectorstores.AstraDBVectorStore.html) for a full guide covering e.g. asynchronous initialization; non-Astra-DB databases; custom indexing allow-/deny-lists; manual hybrid-search control; and much more."
   ]
  },
  {
   "cell_type": "markdown",
   "id": "8d7e33e0-f948-47b5-a9c2-6407fdde170e",
   "metadata": {},
   "source": [
    "### Explicit embedding initialization (method 1)\n",
    "\n",
    "Instantiate our vector store using an explicit embedding class:\n",
    "\n",
    "import EmbeddingTabs from \"@theme/EmbeddingTabs\";\n",
    "\n",
    "<EmbeddingTabs/>"
   ]
  },
  {
   "cell_type": "code",
   "execution_count": 3,
   "id": "d71a1dcb",
   "metadata": {},
   "outputs": [],
   "source": [
    "# | output: false\n",
    "# | echo: false\n",
    "from langchain_openai import OpenAIEmbeddings\n",
    "\n",
    "embeddings = OpenAIEmbeddings(model=\"text-embedding-3-large\")"
   ]
  },
  {
   "cell_type": "code",
   "execution_count": 4,
   "id": "0b32730d-176e-414c-9d91-fd3644c54211",
   "metadata": {},
   "outputs": [],
   "source": [
    "from langchain_astradb import AstraDBVectorStore\n",
    "\n",
    "vector_store_explicit_embeddings = AstraDBVectorStore(\n",
    "    collection_name=\"astra_vector_langchain\",\n",
    "    embedding=embeddings,\n",
    "    api_endpoint=ASTRA_DB_API_ENDPOINT,\n",
    "    token=ASTRA_DB_APPLICATION_TOKEN,\n",
    "    namespace=ASTRA_DB_KEYSPACE,\n",
    ")"
   ]
  },
  {
   "cell_type": "markdown",
   "id": "84a1fe85-a42c-4f15-92e1-f79f1dd43ea2",
   "metadata": {},
   "source": [
    "### Server-side embedding initialization (\"vectorize\", method 2)\n",
    "\n",
    "In this example code, it is assumed that you have\n",
    "\n",
    "- Enabled the OpenAI integration in your Astra DB organization,\n",
    "- Added an API Key named `\"OPENAI_API_KEY\"` to the integration, and scoped it to the database you are using.\n",
    "\n",
    "For more details, including instructions to switch provider/model, please consult the [documentation](https://docs.datastax.com/en/astra-db-serverless/databases/embedding-generation.html)."
   ]
  },
  {
   "cell_type": "code",
   "execution_count": 5,
   "id": "9d18455d-3fa6-4f9e-b687-3a2bc71c9a23",
   "metadata": {},
   "outputs": [],
   "source": [
    "from astrapy.info import VectorServiceOptions\n",
    "\n",
    "openai_vectorize_options = VectorServiceOptions(\n",
    "    provider=\"openai\",\n",
    "    model_name=\"text-embedding-3-small\",\n",
    "    authentication={\n",
    "        \"providerKey\": \"OPENAI_API_KEY\",\n",
    "    },\n",
    ")\n",
    "\n",
    "vector_store_integrated_embeddings = AstraDBVectorStore(\n",
    "    collection_name=\"astra_vectorize_langchain\",\n",
    "    api_endpoint=ASTRA_DB_API_ENDPOINT,\n",
    "    token=ASTRA_DB_APPLICATION_TOKEN,\n",
    "    namespace=ASTRA_DB_KEYSPACE,\n",
    "    collection_vector_service_options=openai_vectorize_options,\n",
    ")"
   ]
  },
  {
   "cell_type": "markdown",
   "id": "24508a60-9591-4b24-a9b7-ecc90ed71b68",
   "metadata": {},
   "source": [
    "### Auto-detect initialization (method 3)\n",
    "\n",
    "You can use this pattern if the collection already exists on the database and your `AstraDBVectorStore` needs to use it (for reads and writes). The LangChain component will inspect the collection and figure out the details.\n",
    "\n",
    "This is the recommended approach if the collection has been created and -- most importantly -- populated by tools other than LangChain, for example if the data has been ingested through the Astra DB Web interface.\n",
    "\n",
    "Auto-detect mode cannot coexist with _collection_ settings (such as the similarity metric and such); on the other hand, if no server-side embeddings are employed, one still needs to pass an `Embeddings` object to the constructor.\n",
    "\n",
    "In the following example code, we will \"auto-detect\" the very same collection that was created by method 2 above (\"vectorize\"). Hence, no `Embeddings` object needs to be supplied."
   ]
  },
  {
   "cell_type": "code",
   "execution_count": 6,
   "id": "683b0f6e-884f-4a09-bc3a-454bb1eefd30",
   "metadata": {},
   "outputs": [],
   "source": [
    "vector_store_autodetected = AstraDBVectorStore(\n",
    "    collection_name=\"astra_vectorize_langchain\",\n",
    "    api_endpoint=ASTRA_DB_API_ENDPOINT,\n",
    "    token=ASTRA_DB_APPLICATION_TOKEN,\n",
    "    namespace=ASTRA_DB_KEYSPACE,\n",
    "    autodetect_collection=True,\n",
    ")"
   ]
  },
  {
   "cell_type": "markdown",
   "id": "fbcfe8e8-2f4e-4fc7-a332-7a2fa2c401bf",
   "metadata": {},
   "source": [
    "## Manage vector store\n",
    "\n",
    "Once you have created your vector store, interact with it by adding and deleting different items.\n",
    "\n",
    "All interactions with the vector store proceed regardless of the initialization method: please **adapt the following cell**, if you desire, to select a vector store you have created and want to put to test."
   ]
  },
  {
   "cell_type": "code",
   "execution_count": 7,
   "id": "54d63f59-1e6b-49b4-a7c1-ac7717c92ac0",
   "metadata": {},
   "outputs": [],
   "source": [
    "# If desired, uncomment a different line here:\n",
    "\n",
    "# vector_store = vector_store_explicit_embeddings\n",
    "vector_store = vector_store_integrated_embeddings\n",
    "# vector_store = vector_store_autodetected"
   ]
  },
  {
   "cell_type": "markdown",
   "id": "d3796b39",
   "metadata": {},
   "source": [
    "### Add items to vector store\n",
    "\n",
    "Add documents to the vector store by using the `add_documents` method.\n",
    "\n",
    "_The \"id\" field can be supplied separately, in a matching `ids=[...]` parameter to `add_documents`, or even left out entirely to let the store generate IDs._"
   ]
  },
  {
   "cell_type": "code",
   "execution_count": 8,
   "id": "afb3e155",
   "metadata": {},
   "outputs": [
    {
     "data": {
      "text/plain": [
       "['entry_00',\n",
       " 'entry_01',\n",
       " 'entry_02',\n",
       " 'entry_03',\n",
       " 'entry_04',\n",
       " 'entry_05',\n",
       " 'entry_06',\n",
       " 'entry_07',\n",
       " 'entry_08',\n",
       " 'entry_09',\n",
       " 'entry_10']"
      ]
     },
     "execution_count": 8,
     "metadata": {},
     "output_type": "execute_result"
    }
   ],
   "source": [
    "from langchain_core.documents import Document\n",
    "\n",
    "documents_to_insert = [\n",
    "    Document(\n",
    "        page_content=\"ZYX, just another tool in the world, is actually my agent-based superhero\",\n",
    "        metadata={\"source\": \"tweet\"},\n",
    "        id=\"entry_00\",\n",
    "    ),\n",
    "    Document(\n",
    "        page_content=\"I had chocolate chip pancakes and scrambled eggs \"\n",
    "        \"for breakfast this morning.\",\n",
    "        metadata={\"source\": \"tweet\"},\n",
    "        id=\"entry_01\",\n",
    "    ),\n",
    "    Document(\n",
    "        page_content=\"The weather forecast for tomorrow is cloudy and \"\n",
    "        \"overcast, with a high of 62 degrees.\",\n",
    "        metadata={\"source\": \"news\"},\n",
    "        id=\"entry_02\",\n",
    "    ),\n",
    "    Document(\n",
    "        page_content=\"Building an exciting new project with LangChain \"\n",
    "        \"- come check it out!\",\n",
    "        metadata={\"source\": \"tweet\"},\n",
    "        id=\"entry_03\",\n",
    "    ),\n",
    "    Document(\n",
    "        page_content=\"Robbers broke into the city bank and stole \"\n",
    "        \"$1 million in cash.\",\n",
    "        metadata={\"source\": \"news\"},\n",
    "        id=\"entry_04\",\n",
    "    ),\n",
    "    Document(\n",
    "        page_content=\"Thanks to her sophisticated language skills, the agent \"\n",
    "        \"managed to extract strategic information all right.\",\n",
    "        metadata={\"source\": \"tweet\"},\n",
    "        id=\"entry_05\",\n",
    "    ),\n",
    "    Document(\n",
    "        page_content=\"Is the new iPhone worth the price? Read this \"\n",
    "        \"review to find out.\",\n",
    "        metadata={\"source\": \"website\"},\n",
    "        id=\"entry_06\",\n",
    "    ),\n",
    "    Document(\n",
    "        page_content=\"The top 10 soccer players in the world right now.\",\n",
    "        metadata={\"source\": \"website\"},\n",
    "        id=\"entry_07\",\n",
    "    ),\n",
    "    Document(\n",
    "        page_content=\"LangGraph is the best framework for building stateful, \"\n",
    "        \"agentic applications!\",\n",
    "        metadata={\"source\": \"tweet\"},\n",
    "        id=\"entry_08\",\n",
    "    ),\n",
    "    Document(\n",
    "        page_content=\"The stock market is down 500 points today due to \"\n",
    "        \"fears of a recession.\",\n",
    "        metadata={\"source\": \"news\"},\n",
    "        id=\"entry_09\",\n",
    "    ),\n",
    "    Document(\n",
    "        page_content=\"I have a bad feeling I am going to get deleted :(\",\n",
    "        metadata={\"source\": \"tweet\"},\n",
    "        id=\"entry_10\",\n",
    "    ),\n",
    "]\n",
    "\n",
    "\n",
    "vector_store.add_documents(documents=documents_to_insert)"
   ]
  },
  {
   "cell_type": "markdown",
   "id": "dfce4edc",
   "metadata": {},
   "source": [
    "### Delete items from vector store\n",
    "\n",
    "Delete items by ID by using the `delete` function."
   ]
  },
  {
   "cell_type": "code",
   "execution_count": 9,
   "id": "d3f69315",
   "metadata": {},
   "outputs": [
    {
     "data": {
      "text/plain": [
       "True"
      ]
     },
     "execution_count": 9,
     "metadata": {},
     "output_type": "execute_result"
    }
   ],
   "source": [
    "vector_store.delete(ids=[\"entry_10\", \"entry_02\"])"
   ]
  },
  {
   "cell_type": "markdown",
   "id": "d12e1a07",
   "metadata": {},
   "source": [
    "## Query the vector store\n",
    "\n",
    "Once the vector store is created and populated, you can query it (e.g. as part of your chain or agent).\n",
    "\n",
    "### Query directly\n",
    "\n",
    "#### Similarity search\n",
    "\n",
    "Search for documents similar to a provided text, with additional metadata filters if desired:"
   ]
  },
  {
   "cell_type": "code",
   "execution_count": 10,
   "id": "770b3467",
   "metadata": {},
   "outputs": [
    {
     "name": "stdout",
     "output_type": "stream",
     "text": [
      "* \"Building an exciting new project with LangChain - come check it out!\", metadata={'source': 'tweet'}\n",
      "* \"LangGraph is the best framework for building stateful, agentic applications!\", metadata={'source': 'tweet'}\n",
      "* \"Thanks to her sophisticated language skills, the agent managed to extract strategic information all right.\", metadata={'source': 'tweet'}\n"
     ]
    }
   ],
   "source": [
    "results = vector_store.similarity_search(\n",
    "    \"LangChain provides abstractions to make working with LLMs easy\",\n",
    "    k=3,\n",
    "    filter={\"source\": \"tweet\"},\n",
    ")\n",
    "for res in results:\n",
    "    print(f'* \"{res.page_content}\", metadata={res.metadata}')"
   ]
  },
  {
   "cell_type": "markdown",
   "id": "ce112165",
   "metadata": {},
   "source": [
    "#### Similarity search with score\n",
    "\n",
    "You can return the similarity score as well:"
   ]
  },
  {
   "cell_type": "code",
   "execution_count": 11,
   "id": "5924309a",
   "metadata": {},
   "outputs": [
    {
     "name": "stdout",
     "output_type": "stream",
     "text": [
      "* [SIM=0.71] \"Building an exciting new project with LangChain - come check it out!\", metadata={'source': 'tweet'}\n",
      "* [SIM=0.70] \"LangGraph is the best framework for building stateful, agentic applications!\", metadata={'source': 'tweet'}\n",
      "* [SIM=0.61] \"Thanks to her sophisticated language skills, the agent managed to extract strategic information all right.\", metadata={'source': 'tweet'}\n"
     ]
    }
   ],
   "source": [
    "results = vector_store.similarity_search_with_score(\n",
    "    \"LangChain provides abstractions to make working with LLMs easy\",\n",
    "    k=3,\n",
    "    filter={\"source\": \"tweet\"},\n",
    ")\n",
    "for res, score in results:\n",
    "    print(f'* [SIM={score:.2f}] \"{res.page_content}\", metadata={res.metadata}')"
   ]
  },
  {
   "cell_type": "markdown",
   "id": "73b8f418-91a7-46d0-91c3-3c76e9586193",
   "metadata": {},
   "source": [
    "#### Specify a different keyword query (requires hybrid search)\n",
    "\n",
    "> Note: this cell can be run only if the collection supports the [find-and-rerank](https://docs.datastax.com/en/astra-db-serverless/api-reference/document-methods/find-and-rerank.html) command and if the vector store is aware of this fact.\n",
    "\n",
    "If the vector store is using a hybrid-enabled collection and has detected this fact, by default it will use that capability when running searches.\n",
    "\n",
    "In that case, the same query text is used for both the vector-similarity and the lexical-based retrieval steps in the find-and-rerank process, _unless you explicitly provide a different query for the latter_:"
   ]
  },
  {
   "cell_type": "code",
   "execution_count": 12,
   "id": "e282a48b-081a-4d94-9483-33407e8d6da7",
   "metadata": {},
   "outputs": [
    {
     "name": "stdout",
     "output_type": "stream",
     "text": [
      "* \"Building an exciting new project with LangChain - come check it out!\", metadata={'source': 'tweet'}\n",
      "* \"LangGraph is the best framework for building stateful, agentic applications!\", metadata={'source': 'tweet'}\n",
      "* \"ZYX, just another tool in the world, is actually my agent-based superhero\", metadata={'source': 'tweet'}\n"
     ]
    }
   ],
   "source": [
    "results = vector_store_autodetected.similarity_search(\n",
    "    \"LangChain provides abstractions to make working with LLMs easy\",\n",
    "    k=3,\n",
    "    filter={\"source\": \"tweet\"},\n",
    "    lexical_query=\"agent\",\n",
    ")\n",
    "for res in results:\n",
    "    print(f'* \"{res.page_content}\", metadata={res.metadata}')"
   ]
  },
  {
   "cell_type": "markdown",
   "id": "60688e8c-d74d-4921-b213-b48d88600f95",
   "metadata": {},
   "source": [
    "_The above example hardcodes the \"autodetected\" vector store, which has surely inspected the collection and figured out if hybrid is available. Another option is to explicitly supply hybrid-search parameters to the constructor (refer to the API Reference for more details/examples)._"
   ]
  },
  {
   "cell_type": "markdown",
   "id": "fead7af5",
   "metadata": {},
   "source": [
    "#### Other search methods\n",
    "\n",
    "There are a variety of other search methods that are not covered in this notebook, such as MMR search and search by vector.\n",
    "\n",
    "For a full list of the search modes available in `AstraDBVectorStore` check out the [API reference](https://python.langchain.com/api_reference/astradb/vectorstores/langchain_astradb.vectorstores.AstraDBVectorStore.html)."
   ]
  },
  {
   "cell_type": "markdown",
   "id": "7e40f714",
   "metadata": {},
   "source": [
    "### Query by turning into retriever\n",
    "\n",
    "You can also make the vector store into a retriever, for easier usage in your chains. \n",
    "\n",
    "Transform the vector store into a retriever and invoke it with a simple query + metadata filter:"
   ]
  },
  {
   "cell_type": "code",
   "execution_count": 13,
   "id": "dcee50e6",
   "metadata": {},
   "outputs": [
    {
     "data": {
      "text/plain": [
       "[Document(id='entry_04', metadata={'source': 'news'}, page_content='Robbers broke into the city bank and stole $1 million in cash.')]"
      ]
     },
     "execution_count": 13,
     "metadata": {},
     "output_type": "execute_result"
    }
   ],
   "source": [
    "retriever = vector_store.as_retriever(\n",
    "    search_type=\"similarity_score_threshold\",\n",
    "    search_kwargs={\"k\": 1, \"score_threshold\": 0.5},\n",
    ")\n",
    "retriever.invoke(\"Stealing from the bank is a crime\", filter={\"source\": \"news\"})"
   ]
  },
  {
   "cell_type": "markdown",
   "id": "734e683a",
   "metadata": {},
   "source": [
    "## Usage for retrieval-augmented generation\n",
    "\n",
    "For guides on how to use this vector store for retrieval-augmented generation (RAG), see the following sections:\n",
    "\n",
    "- [Tutorials](/docs/tutorials/)\n",
    "- [How-to: Question and answer with RAG](https://python.langchain.com/docs/how_to/#qa-with-rag)\n",
    "- [Retrieval conceptual docs](https://python.langchain.com/docs/concepts/retrieval)"
   ]
  },
  {
   "cell_type": "markdown",
   "id": "869ab448-a029-4692-aefc-26b85513314d",
   "metadata": {},
   "source": [
    "For more, check out a complete RAG template using Astra DB [here](https://github.com/langchain-ai/langchain/tree/master/templates/rag-astradb)."
   ]
  },
  {
   "cell_type": "markdown",
   "id": "177610c7-50d0-4b7b-8634-b03338054c8e",
   "metadata": {},
   "source": [
    "## Cleanup vector store"
   ]
  },
  {
   "cell_type": "markdown",
   "id": "0da4d19f-9878-4d3d-82c9-09cafca20322",
   "metadata": {},
   "source": [
    "If you want to completely delete the collection from your Astra DB instance, run this.\n",
    "\n",
    "_(You will lose the data you stored in it.)_"
   ]
  },
  {
   "cell_type": "code",
   "execution_count": 14,
   "id": "fd405a13-6f71-46fa-87e6-167238e9c25e",
   "metadata": {},
   "outputs": [],
   "source": [
    "vector_store.delete_collection()"
   ]
  },
  {
   "cell_type": "markdown",
   "id": "a14c34be",
   "metadata": {},
   "source": [
    "## API reference\n",
    "\n",
    "For detailed documentation of all `AstraDBVectorStore` features and configurations, consult the [API reference](https://python.langchain.com/api_reference/astradb/vectorstores/langchain_astradb.vectorstores.AstraDBVectorStore.html)."
   ]
  }
 ],
 "metadata": {
  "kernelspec": {
   "display_name": "Python 3 (ipykernel)",
   "language": "python",
   "name": "python3"
  },
  "language_info": {
   "codemirror_mode": {
    "name": "ipython",
    "version": 3
   },
   "file_extension": ".py",
   "mimetype": "text/x-python",
   "name": "python",
   "nbconvert_exporter": "python",
   "pygments_lexer": "ipython3",
   "version": "3.12.0"
  }
 },
 "nbformat": 4,
 "nbformat_minor": 5
}
