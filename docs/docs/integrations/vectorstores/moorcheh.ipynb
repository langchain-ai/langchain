{
  "nbformat": 4,
  "nbformat_minor": 0,
  "metadata": {
    "colab": {
      "provenance": []
    },
    "kernelspec": {
      "name": "python3",
      "display_name": "Python 3"
    },
    "language_info": {
      "name": "python"
    }
  },
  "cells": [
    {
      "cell_type": "markdown",
      "source": [
        "# Moorcheh"
      ],
      "metadata": {
        "id": "KYQsKlm_PYud"
      }
    },
    {
      "cell_type": "markdown",
      "source": [
        "#### [Moorcheh](https://www.moorcheh.ai/) is a lightning-fast semantic search engine and vector store. Instead of using simple distince metrics like L2 or Cosine, Moorcheh uses Maximally Informative Binarization (MIB) and Information-Theoretic Score (ITS) to retrieve accurate document chunks."
      ],
      "metadata": {
        "id": "Z3nlZ43vtNM4"
      }
    },
    {
      "cell_type": "markdown",
      "source": [
        "####    The following tutorial will allow you to use Moorcheh and LangChain to upload and store text documents and vector embeddings as well as retrieve relevant chunks for all of your queries"
      ],
      "metadata": {
        "id": "9KWA0265Pdd2"
      }
    },
    {
      "cell_type": "markdown",
      "source": [
        "## Setup"
      ],
      "metadata": {
        "id": "r9tUEayswioy"
      }
    },
    {
      "cell_type": "markdown",
      "source": [
        "#### First, install the necessary package"
      ],
      "metadata": {
        "id": "90UCD9eCum6c"
      }
    },
    {
      "cell_type": "code",
      "execution_count": null,
      "metadata": {
        "id": "WtKcKvoYMKqU"
      },
      "outputs": [],
      "source": [
        "!pip install langchain-moorcheh\n"
      ]
    },
    {
      "cell_type": "markdown",
      "source": [
        "## Initialization"
      ],
      "metadata": {
        "id": "0oJbSZfuuwlY"
      }
    },
    {
      "cell_type": "markdown",
      "source": [
        "#### To get started, you will need to retrieve a Moorcheh API Key: Sign up or log in at the [Moorcheh Console](https://console.moorcheh.ai/) and then click on the API Keys tab to generate your api key. This API key allows you to create namespaces, upload documents, retrieve answers and much more. To create a namespace to upload and store documents, navigate to the Namespace tab and click \"create namespace\", or initialize a vector store like the one shown below.For more information on the functions present for the Moorcheh SDK, please visit our [Github page](https://github.com/moorcheh-ai/moorcheh-python-sdk).\n",
        "\n"
      ],
      "metadata": {
        "id": "-y3yXqn4v7H7"
      }
    },
    {
      "cell_type": "markdown",
      "source": [
        "## Importing Packages"
      ],
      "metadata": {
        "id": "xyaoGInuwpsi"
      }
    },
    {
      "cell_type": "markdown",
      "source": [
        "#### Import the below packages"
      ],
      "metadata": {
        "id": "Ji3p3AiNwxh0"
      }
    },
    {
      "cell_type": "code",
      "source": [
        "from langchain_moorcheh import MoorchehVectorStore\n",
        "from moorcheh_sdk import MoorchehClient\n",
        "\n",
        "import logging\n",
        "import os\n",
        "import uuid import uuid4\n",
        "import asyncio\n",
        "from typing import Any, List, Optional, Literal, Tuple, Type, TypeVar, Sequence\n",
        "from langchain_core.documents import Document\n",
        "from langchain_core.embeddings import Embeddings\n",
        "from langchain_core.vectorstores import VectorStore\n",
        "from google.colab import userdata"
      ],
      "metadata": {
        "id": "KovbKjs2277J"
      },
      "execution_count": null,
      "outputs": []
    },
    {
      "cell_type": "markdown",
      "source": [
        "## Code Setup"
      ],
      "metadata": {
        "id": "W77BMOMGw2EH"
      }
    },
    {
      "cell_type": "markdown",
      "source": [
        "#### Set your Moorcheh API Key in your environment variables"
      ],
      "metadata": {
        "id": "JvFPqgYmxCl_"
      }
    },
    {
      "cell_type": "code",
      "source": [
        "MOORCHEH_API_KEY = os.environ['MOORCHEH_API_KEY']"
      ],
      "metadata": {
        "id": "N5jQaC_Lw3Lf"
      },
      "execution_count": null,
      "outputs": []
    },
    {
      "cell_type": "markdown",
      "source": [
        "#### Set up your namespace name, type, and create the vector store"
      ],
      "metadata": {
        "id": "bqLLOGn9xNrB"
      }
    },
    {
      "cell_type": "code",
      "source": [
        "namespace = \"your_namespace_name\"\n",
        "namespace_type = \"text\" # or vector\n",
        "store = MoorchehVectorStore(\n",
        "            api_key=MOORCHEH_API_KEY,\n",
        "            namespace=namespace,\n",
        "            namespace_type=namespace_type\n",
        "        )"
      ],
      "metadata": {
        "id": "Y4eIXpM8xKbC"
      },
      "execution_count": null,
      "outputs": []
    },
    {
      "cell_type": "markdown",
      "source": [
        "## Adding Documents"
      ],
      "metadata": {
        "id": "0me098rG527L"
      }
    },
    {
      "cell_type": "code",
      "source": [
        "document_1 = Document(\n",
        "    page_content=\"Brewed a fresh cup of Ethiopian coffee and paired it with a warm croissant.\",\n",
        "    metadata={\"source\": \"blog\"},\n",
        ")\n",
        "\n",
        "document_2 = Document(\n",
        "    page_content=\"Tomorrow's weather will be sunny with light winds, reaching a high of 78°F.\",\n",
        "    metadata={\"source\": \"news\"},\n",
        ")\n",
        "\n",
        "document_3 = Document(\n",
        "    page_content=\"Experimenting with LangChain for an AI-powered note-taking assistant!\",\n",
        "    metadata={\"source\": \"tweet\"},\n",
        ")\n",
        "\n",
        "document_4 = Document(\n",
        "    page_content=\"Local bakery donates 500 loaves of bread to the community food bank.\",\n",
        "    metadata={\"source\": \"news\"},\n",
        ")\n",
        "\n",
        "document_5 = Document(\n",
        "    page_content=\"That concert last night was absolutely unforgettable—what a performance!\",\n",
        "    metadata={\"source\": \"tweet\"},\n",
        ")\n",
        "\n",
        "document_6 = Document(\n",
        "    page_content=\"Check out our latest article: 5 ways to boost productivity while working from home.\",\n",
        "    metadata={\"source\": \"website\"},\n",
        ")\n",
        "\n",
        "document_7 = Document(\n",
        "    page_content=\"The ultimate guide to mastering homemade pizza dough.\",\n",
        "    metadata={\"source\": \"website\"},\n",
        ")\n",
        "\n",
        "document_8 = Document(\n",
        "    page_content=\"LangGraph just made multi-agent workflows way easier—seriously impressive!\",\n",
        "    metadata={\"source\": \"tweet\"},\n",
        ")\n",
        "\n",
        "document_9 = Document(\n",
        "    page_content=\"Oil prices rose 3% today after unexpected supply cuts from major exporters.\",\n",
        "    metadata={\"source\": \"news\"},\n",
        ")\n",
        "\n",
        "document_10 = Document(\n",
        "    page_content=\"I really hope this post doesn’t vanish into the digital void…\",\n",
        "    metadata={\"source\": \"tweet\"},\n",
        ")\n",
        "\n",
        "documents = [\n",
        "    document_1,\n",
        "    document_2,\n",
        "    document_3,\n",
        "    document_4,\n",
        "    document_5,\n",
        "    document_6,\n",
        "    document_7,\n",
        "    document_8,\n",
        "    document_9,\n",
        "    document_10,\n",
        "]\n",
        "\n",
        "uuids = [str(uuid4()) for _ in range(len(documents))]\n",
        "\n",
        "store.add_documents(documents=documents, ids=uuids)"
      ],
      "metadata": {
        "id": "E8diF0Ri6IkO"
      },
      "execution_count": null,
      "outputs": []
    },
    {
      "cell_type": "markdown",
      "source": [
        "## Delete Documents"
      ],
      "metadata": {
        "id": "Q4gfb2ffxYK3"
      }
    },
    {
      "cell_type": "code",
      "source": [
        "store.delete(ids=[\"chunk_id_here\"])"
      ],
      "metadata": {
        "id": "zaupiBQixXkG"
      },
      "execution_count": null,
      "outputs": []
    },
    {
      "cell_type": "markdown",
      "source": [
        "## Query Engine"
      ],
      "metadata": {
        "id": "dDxH3CzF7FW6"
      }
    },
    {
      "cell_type": "markdown",
      "source": [
        "#### Once your namespace has been created and you have uploaded documents into it, you can ask queries about the documents directly through the vector store. Set the query and LLM you would like to answer your query. For more information on supported LLMs, please visit our [Github page](https://github.com/moorcheh-ai/moorcheh-python-sdk)."
      ],
      "metadata": {
        "id": "fA8zBDJAx_mo"
      }
    },
    {
      "cell_type": "code",
      "source": [
        "query = \"Give me a brief summary of the provided documents\"\n",
        "answer = store.generative_answer(query, ai_model = \"anthropic.claude-3-7-sonnet-20250219-v1:0\")\n",
        "print(answer)"
      ],
      "metadata": {
        "id": "pRXDBVBi7HPU"
      },
      "execution_count": null,
      "outputs": []
    },
    {
      "cell_type": "markdown",
      "source": [
        "## Further Resources"
      ],
      "metadata": {
        "id": "anvGlO58yoNk"
      }
    },
    {
      "cell_type": "markdown",
      "source": [
        "#### For more information about Moorcheh, feel free to visit the resources below\n",
        "\n",
        "\n",
        "*   [Github page](https://github.com/moorcheh-ai/moorcheh-python-sdk)\n",
        "*   [Examples Github page](https://github.com/moorcheh-ai/moorcheh-examples)\n",
        "*   [Website](https://www.moorcheh.ai/)\n",
        "*   [Documentation](https://console.moorcheh.ai/docs)\n",
        "*   [Youtube](https://www.youtube.com/@moorchehai)\n",
        "*   Twitter: @moorcheh_ai\n",
        "\n"
      ],
      "metadata": {
        "id": "T1zIJZ8DyvCP"
      }
    }
  ]
}
