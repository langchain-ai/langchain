{
  "nbformat": 4,
  "nbformat_minor": 0,
  "metadata": {
    "colab": {
      "provenance": []
    },
    "kernelspec": {
      "name": "python3",
      "display_name": "Python 3"
    },
    "language_info": {
      "name": "python"
    }
  },
  "cells": [
    {
      "cell_type": "markdown",
      "source": [
        "# Moorcheh"
      ],
      "metadata": {
        "id": "KYQsKlm_PYud"
      }
    },
    {
      "cell_type": "markdown",
      "source": [
        "#### The following tutorial will allow you to use Moorcheh and LangChain to upload and store text documents and vector embeddings as well as retrieve relevant chunks for all of your queries"
      ],
      "metadata": {
        "id": "9KWA0265Pdd2"
      }
    },
    {
      "cell_type": "markdown",
      "source": [
        "## Setup"
      ],
      "metadata": {
        "id": "r9tUEayswioy"
      }
    },
    {
      "cell_type": "code",
      "execution_count": null,
      "metadata": {
        "id": "WtKcKvoYMKqU"
      },
      "outputs": [],
      "source": [
        "!pip install langchain-moorcheh"
      ]
    },
    {
      "cell_type": "code",
      "source": [
        "from langchain_moorcheh import MoorchehVectorStore\n",
        "from moorcheh_sdk import MoorchehClient\n",
        "\n",
        "import logging\n",
        "import os\n",
        "import uuid\n",
        "import asyncio\n",
        "from typing import Any, List, Optional, Literal, Tuple, Type, TypeVar, Sequence\n",
        "from langchain_core.documents import Document\n",
        "from langchain_core.embeddings import Embeddings\n",
        "from langchain_core.vectorstores import VectorStore\n",
        "\n",
        "\n",
        "MOORCHEH_API_KEY = os.environ[MOORCHEH_API_KEY]\n",
        "namespace = \"your_namespace_name\"\n",
        "namspace_type = \"text\" # or vector\n",
        "store = MoorchehVectorStore(\n",
        "            api_key=MOORCHEH_API_KEY,\n",
        "            namespace=namespace,\n",
        "            namespace_type=namespace_type\n",
        "        )"
      ],
      "metadata": {
        "id": "KovbKjs2277J"
      },
      "execution_count": null,
      "outputs": []
    },
    {
      "cell_type": "markdown",
      "source": [
        "## Adding Documents"
      ],
      "metadata": {
        "id": "0me098rG527L"
      }
    },
    {
      "cell_type": "code",
      "source": [
        "\n",
        "document_1 = Document(\n",
        "    page_content=\"Brewed a fresh cup of Ethiopian coffee and paired it with a warm croissant.\",\n",
        "    metadata={\"source\": \"blog\"},\n",
        ")\n",
        "\n",
        "document_2 = Document(\n",
        "    page_content=\"Tomorrow's weather will be sunny with light winds, reaching a high of 78°F.\",\n",
        "    metadata={\"source\": \"news\"},\n",
        ")\n",
        "\n",
        "document_3 = Document(\n",
        "    page_content=\"Experimenting with LangChain for an AI-powered note-taking assistant!\",\n",
        "    metadata={\"source\": \"tweet\"},\n",
        ")\n",
        "\n",
        "document_4 = Document(\n",
        "    page_content=\"Local bakery donates 500 loaves of bread to the community food bank.\",\n",
        "    metadata={\"source\": \"news\"},\n",
        ")\n",
        "\n",
        "document_5 = Document(\n",
        "    page_content=\"That concert last night was absolutely unforgettable—what a performance!\",\n",
        "    metadata={\"source\": \"tweet\"},\n",
        ")\n",
        "\n",
        "document_6 = Document(\n",
        "    page_content=\"Check out our latest article: 5 ways to boost productivity while working from home.\",\n",
        "    metadata={\"source\": \"website\"},\n",
        ")\n",
        "\n",
        "document_7 = Document(\n",
        "    page_content=\"The ultimate guide to mastering homemade pizza dough.\",\n",
        "    metadata={\"source\": \"website\"},\n",
        ")\n",
        "\n",
        "document_8 = Document(\n",
        "    page_content=\"LangGraph just made multi-agent workflows way easier—seriously impressive!\",\n",
        "    metadata={\"source\": \"tweet\"},\n",
        ")\n",
        "\n",
        "document_9 = Document(\n",
        "    page_content=\"Oil prices rose 3% today after unexpected supply cuts from major exporters.\",\n",
        "    metadata={\"source\": \"news\"},\n",
        ")\n",
        "\n",
        "document_10 = Document(\n",
        "    page_content=\"I really hope this post doesn’t vanish into the digital void…\",\n",
        "    metadata={\"source\": \"tweet\"},\n",
        ")\n",
        "\n",
        "documents = [\n",
        "    document_1,\n",
        "    document_2,\n",
        "    document_3,\n",
        "    document_4,\n",
        "    document_5,\n",
        "    document_6,\n",
        "    document_7,\n",
        "    document_8,\n",
        "    document_9,\n",
        "    document_10,\n",
        "]\n",
        "\n",
        "uuids = [str(uuid4()) for _ in range(len(documents))]\n",
        "\n",
        "store.add_documents(documents=documents, ids=uuids)"
      ],
      "metadata": {
        "id": "E8diF0Ri6IkO"
      },
      "execution_count": null,
      "outputs": []
    },
    {
      "cell_type": "markdown",
      "source": [
        "## Query Engine"
      ],
      "metadata": {
        "id": "dDxH3CzF7FW6"
      }
    },
    {
      "cell_type": "code",
      "source": [
        "query = \"Give me a brief summary of the provided documents\"\n",
        "answer = store.generative_answer(query, ai_model = "anthropic.claude-3-7-sonnet-20250219-v1:0")"
        "print(answer)"
      ],
      "metadata": {
        "id": "pRXDBVBi7HPU"
      },
      "execution_count": null,
      "outputs": []
    }
  ]
}
