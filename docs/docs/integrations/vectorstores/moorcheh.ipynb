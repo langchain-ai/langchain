{
  "cells": [
    {
      "cell_type": "markdown",
      "metadata": {
        "id": "KYQsKlm_PYud"
      },
      "source": [
        "# Moorcheh"
      ]
    },
    {
      "cell_type": "markdown",
      "metadata": {
        "id": "Z3nlZ43vtNM4"
      },
      "source": [
        "#### [Moorcheh](https://www.moorcheh.ai/) is a lightning-fast semantic search engine and vector store. Instead of using simple distince metrics like L2 or Cosine, Moorcheh uses Maximally Informative Binarization (MIB) and Information-Theoretic Score (ITS) to retrieve accurate document chunks."
      ]
    },
    {
      "cell_type": "markdown",
      "metadata": {
        "id": "9KWA0265Pdd2"
      },
      "source": [
        "####    The following tutorial will allow you to use Moorcheh and LangChain to upload and store text documents and vector embeddings as well as retrieve relevant chunks for all of your queries"
      ]
    },
    {
      "cell_type": "markdown",
      "metadata": {
        "id": "r9tUEayswioy"
      },
      "source": [
        "## Setup"
      ]
    },
    {
      "cell_type": "markdown",
      "metadata": {
        "id": "90UCD9eCum6c"
      },
      "source": [
        "#### First, install the necessary package"
      ]
    },
    {
      "cell_type": "code",
      "execution_count": null,
      "metadata": {
        "id": "WtKcKvoYMKqU"
      },
      "outputs": [],
      "source": [
        "!pip install langchain-moorcheh\n"
      ]
    },
    {
      "cell_type": "markdown",
      "metadata": {
        "id": "0oJbSZfuuwlY"
      },
      "source": [
        "## Initialization"
      ]
    },
    {
      "cell_type": "markdown",
      "metadata": {
        "id": "-y3yXqn4v7H7"
      },
      "source": [
        "#### Get started with Moorcheh\n",
        "\n",
        "1. Sign up or log in at the [Moorcheh Console](https://console.moorcheh.ai/).\n",
        "2. Go to the \"API Keys\" tab and generate an API key.\n",
        "3. Save the key as an environment variable named `MOORCHEH_API_KEY` (you'll use it below).\n",
        "4. To create a namespace for storing data:\n",
        "   - In the Console, open the \"Namespaces\" tab and click \"Create namespace\"; or\n",
        "   - Initialize it programmatically using the vector store code in the next section.\n",
        "5. Use your API key to create namespaces, upload documents, and retrieve answers.\n",
        "\n",
        "For more information about the Moorcheh SDK functions, see the [GitHub repository](https://github.com/moorcheh-ai/moorcheh-python-sdk).\n"
      ]
    },
    {
      "cell_type": "markdown",
      "metadata": {
        "id": "xyaoGInuwpsi"
      },
      "source": [
        "## Importing Packages"
      ]
    },
    {
      "cell_type": "markdown",
      "metadata": {
        "id": "Ji3p3AiNwxh0"
      },
      "source": [
        "#### Import the below packages"
      ]
    },
    {
      "cell_type": "code",
      "execution_count": null,
      "metadata": {
        "id": "KovbKjs2277J"
      },
      "outputs": [],
      "source": [
        "from langchain_moorcheh import MoorchehVectorStore\n",
        "from moorcheh_sdk import MoorchehClient\n",
        "\n",
        "import logging\n",
        "import os\n",
        "from uuid import uuid4\n",
        "import asyncio\n",
        "from typing import Any, List, Optional, Literal, Tuple, Type, TypeVar, Sequence\n",
        "from langchain_core.documents import Document\n",
        "from langchain_core.embeddings import Embeddings\n",
        "from langchain_core.vectorstores import VectorStore\n",
        "from google.colab import userdata"
      ]
    },
    {
      "cell_type": "markdown",
      "metadata": {
        "id": "W77BMOMGw2EH"
      },
      "source": [
        "## Code Setup"
      ]
    },
    {
      "cell_type": "markdown",
      "metadata": {
        "id": "JvFPqgYmxCl_"
      },
      "source": [
        "#### Set your Moorcheh API Key in your environment variables"
      ]
    },
    {
      "cell_type": "code",
      "execution_count": null,
      "metadata": {
        "id": "N5jQaC_Lw3Lf"
      },
      "outputs": [],
      "source": [
        "MOORCHEH_API_KEY = os.environ['MOORCHEH_API_KEY']"
      ]
    },
    {
      "cell_type": "markdown",
      "metadata": {
        "id": "bqLLOGn9xNrB"
      },
      "source": [
        "#### Set up your namespace name, type, and create the vector store"
      ]
    },
    {
      "cell_type": "code",
      "execution_count": null,
      "metadata": {
        "id": "Y4eIXpM8xKbC"
      },
      "outputs": [],
      "source": [
        "namespace = \"your_namespace_name\"\n",
        "namespace_type = \"text\" # or vector\n",
        "store = MoorchehVectorStore(\n",
        "            api_key=MOORCHEH_API_KEY,\n",
        "            namespace=namespace,\n",
        "            namespace_type=namespace_type\n",
        "        )"
      ]
    },
    {
      "cell_type": "markdown",
      "metadata": {
        "id": "0me098rG527L"
      },
      "source": [
        "## Adding Documents"
      ]
    },
    {
      "cell_type": "code",
      "execution_count": null,
      "metadata": {
        "id": "E8diF0Ri6IkO"
      },
      "outputs": [],
      "source": [
        "document_1 = Document(\n",
        "    page_content=\"Brewed a fresh cup of Ethiopian coffee and paired it with a warm croissant.\",\n",
        "    metadata={\"source\": \"blog\"},\n",
        ")\n",
        "\n",
        "document_2 = Document(\n",
        "    page_content=\"Tomorrow's weather will be sunny with light winds, reaching a high of 78°F.\",\n",
        "    metadata={\"source\": \"news\"},\n",
        ")\n",
        "\n",
        "document_3 = Document(\n",
        "    page_content=\"Experimenting with LangChain for an AI-powered note-taking assistant!\",\n",
        "    metadata={\"source\": \"tweet\"},\n",
        ")\n",
        "\n",
        "document_4 = Document(\n",
        "    page_content=\"Local bakery donates 500 loaves of bread to the community food bank.\",\n",
        "    metadata={\"source\": \"news\"},\n",
        ")\n",
        "\n",
        "document_5 = Document(\n",
        "    page_content=\"That concert last night was absolutely unforgettable—what a performance!\",\n",
        "    metadata={\"source\": \"tweet\"},\n",
        ")\n",
        "\n",
        "document_6 = Document(\n",
        "    page_content=\"Check out our latest article: 5 ways to boost productivity while working from home.\",\n",
        "    metadata={\"source\": \"website\"},\n",
        ")\n",
        "\n",
        "document_7 = Document(\n",
        "    page_content=\"The ultimate guide to mastering homemade pizza dough.\",\n",
        "    metadata={\"source\": \"website\"},\n",
        ")\n",
        "\n",
        "document_8 = Document(\n",
        "    page_content=\"LangGraph just made multi-agent workflows way easier—seriously impressive!\",\n",
        "    metadata={\"source\": \"tweet\"},\n",
        ")\n",
        "\n",
        "document_9 = Document(\n",
        "    page_content=\"Oil prices rose 3% today after unexpected supply cuts from major exporters.\",\n",
        "    metadata={\"source\": \"news\"},\n",
        ")\n",
        "\n",
        "document_10 = Document(\n",
        "    page_content=\"I really hope this post doesn’t vanish into the digital void…\",\n",
        "    metadata={\"source\": \"tweet\"},\n",
        ")\n",
        "\n",
        "documents = [\n",
        "    document_1,\n",
        "    document_2,\n",
        "    document_3,\n",
        "    document_4,\n",
        "    document_5,\n",
        "    document_6,\n",
        "    document_7,\n",
        "    document_8,\n",
        "    document_9,\n",
        "    document_10,\n",
        "]\n",
        "\n",
        "uuids = [str(uuid4()) for _ in range(len(documents))]\n",
        "\n",
        "store.add_documents(documents=documents, ids=uuids)"
      ]
    },
    {
      "cell_type": "markdown",
      "metadata": {
        "id": "Q4gfb2ffxYK3"
      },
      "source": [
        "## Delete Documents"
      ]
    },
    {
      "cell_type": "code",
      "execution_count": null,
      "metadata": {
        "id": "zaupiBQixXkG"
      },
      "outputs": [],
      "source": [
        "store.delete(ids=[\"chunk_id_here\"])"
      ]
    },
    {
      "cell_type": "markdown",
      "metadata": {
        "id": "dDxH3CzF7FW6"
      },
      "source": [
        "## Query Engine"
      ]
    },
    {
      "cell_type": "markdown",
      "metadata": {
        "id": "fA8zBDJAx_mo"
      },
      "source": [
        "#### Once your namespace has been created and you have uploaded documents into it, you can ask queries about the documents directly through the vector store. Set the query and LLM you would like to answer your query. For more information on supported LLMs, please visit our [Github page](https://github.com/moorcheh-ai/moorcheh-python-sdk)."
      ]
    },
    {
      "cell_type": "code",
      "execution_count": null,
      "metadata": {
        "id": "pRXDBVBi7HPU"
      },
      "outputs": [],
      "source": [
        "query = \"Give me a brief summary of the provided documents\"\n",
        "answer = store.generative_answer(query, ai_model = \"anthropic.claude-3-7-sonnet-20250219-v1:0\")\n",
        "print(answer)"
      ]
    },
    {
      "cell_type": "markdown",
      "metadata": {
        "id": "anvGlO58yoNk"
      },
      "source": [
        "## Further Resources"
      ]
    },
    {
      "cell_type": "markdown",
      "metadata": {
        "id": "T1zIJZ8DyvCP"
      },
      "source": [
        "#### For more information about Moorcheh, feel free to visit the resources below\n",
        "\n",
        "\n",
        "*   [Github page](https://github.com/moorcheh-ai/moorcheh-python-sdk)\n",
        "*   [Examples Github page](https://github.com/moorcheh-ai/moorcheh-examples)\n",
        "*   [Website](https://www.moorcheh.ai/)\n",
        "*   [Documentation](https://console.moorcheh.ai/docs)\n",
        "*   [Youtube](https://www.youtube.com/@moorchehai)\n",
        "*   [X](https://x.com/moorcheh_ai)\n",
        "\n"
      ]
    }
  ],
  "metadata": {
    "colab": {
      "provenance": []
    },
    "kernelspec": {
      "display_name": "Python 3",
      "name": "python3"
    },
    "language_info": {
      "name": "python"
    }
  },
  "nbformat": 4,
  "nbformat_minor": 0
}
