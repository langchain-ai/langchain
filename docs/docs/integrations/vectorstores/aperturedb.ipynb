{
 "cells": [
  {
   "cell_type": "markdown",
   "id": "683953b3",
   "metadata": {},
   "source": [
    "# ApertureDB\n",
    "\n",
    "[ApertureDB](https://docs.aperturedata.io) is a database that stores, indexes, and manages multi-modal data like text, images, videos, bounding boxes, and embeddings, together with their associated metadata.\n",
    "\n",
    "This notebook explains how to use the embeddings functionality of ApertureDB."
   ]
  },
  {
   "cell_type": "markdown",
   "id": "e7393beb",
   "metadata": {},
   "source": [
    "## Install ApertureDB Python SDK\n",
    "\n",
    "This installs the [Python SDK](https://docs.aperturedata.io/category/aperturedb-python-sdk) used to write client code for ApertureDB."
   ]
  },
  {
   "cell_type": "code",
   "execution_count": 1,
   "id": "a62cff8a-bcf7-4e33-bbbc-76999c2e3e20",
   "metadata": {
    "tags": []
   },
   "outputs": [
    {
     "name": "stdout",
     "output_type": "stream",
     "text": [
      "Note: you may need to restart the kernel to use updated packages.\n"
     ]
    }
   ],
   "source": [
    "%pip install --upgrade --quiet aperturedb"
   ]
  },
  {
   "cell_type": "markdown",
   "id": "4fe12f77",
   "metadata": {},
   "source": [
    "## Run an ApertureDB instance\n",
    "\n",
    "To continue, you should have an [ApertureDB instance up and running](https://docs.aperturedata.io/HowToGuides/start/Setup) and configure your environment to use it.  \n",
    "There are various ways to do that, for example:\n",
    "\n",
    "```bash\n",
    "docker run --publish 55555:55555 aperturedata/aperturedb-standalone\n",
    "adb config create local --active --no-interactive\n",
    "```"
   ]
  },
  {
   "cell_type": "markdown",
   "id": "667eabca",
   "metadata": {},
   "source": [
    "## Download some web documents\n",
    "We're going to do a mini-crawl here of one web page."
   ]
  },
  {
   "cell_type": "code",
   "execution_count": 2,
   "id": "0798dfdb",
   "metadata": {},
   "outputs": [
    {
     "name": "stderr",
     "output_type": "stream",
     "text": [
      "USER_AGENT environment variable not set, consider setting it to identify your requests.\n"
     ]
    }
   ],
   "source": [
    "# For loading documents from web\n",
    "from langchain_community.document_loaders import WebBaseLoader\n",
    "\n",
    "loader = WebBaseLoader(\"https://docs.aperturedata.io\")\n",
    "docs = loader.load()"
   ]
  },
  {
   "cell_type": "markdown",
   "id": "5f077d11",
   "metadata": {},
   "source": [
    "## Select embeddings model\n",
    "\n",
    "We want to use OllamaEmbeddings so we have to import the necessary modules.\n",
    "\n",
    "Ollama can be set up as a docker container as described in the [documentation](https://hub.docker.com/r/ollama/ollama), for example:\n",
    "```bash\n",
    "# Run server\n",
    "docker run -d -v ollama:/root/.ollama -p 11434:11434 --name ollama ollama/ollama\n",
    "# Tell server to load a specific model\n",
    "docker exec ollama ollama run llama2\n",
    "```"
   ]
  },
  {
   "cell_type": "code",
   "execution_count": 3,
   "id": "8b6ed9cd-81b9-46e5-9c20-5aafca2844d0",
   "metadata": {
    "tags": []
   },
   "outputs": [],
   "source": [
    "from langchain_community.embeddings import OllamaEmbeddings\n",
    "\n",
    "embeddings = OllamaEmbeddings()"
   ]
  },
  {
   "cell_type": "markdown",
   "id": "b7b313e6",
   "metadata": {},
   "source": [
    "## Split documents into segments\n",
    "\n",
    "We want to turn our single document into multiple segments."
   ]
  },
  {
   "cell_type": "code",
   "execution_count": 4,
   "id": "3c4b7b31",
   "metadata": {},
   "outputs": [],
   "source": [
    "from langchain_text_splitters import RecursiveCharacterTextSplitter\n",
    "\n",
    "text_splitter = RecursiveCharacterTextSplitter()\n",
    "documents = text_splitter.split_documents(docs)"
   ]
  },
  {
   "cell_type": "markdown",
   "id": "46339d32",
   "metadata": {},
   "source": [
    "## Create vectorstore from documents and embeddings\n",
    "\n",
    "This code creates a vectorstore in the ApertureDB instance.\n",
    "Within the instance, this vectorstore is represented as a \"[descriptor set](https://docs.aperturedata.io/category/descriptorset-commands)\".\n",
    "By default, the descriptor set is named `langchain`.  The following code will generate embeddings for each document and store them in ApertureDB as descriptors.  This will take a few seconds as the embeddings are bring generated."
   ]
  },
  {
   "cell_type": "code",
   "execution_count": 5,
   "id": "dcf88bdf",
   "metadata": {
    "tags": []
   },
   "outputs": [],
   "source": [
    "from langchain_community.vectorstores import ApertureDB\n",
    "\n",
    "vector_db = ApertureDB.from_documents(documents, embeddings)"
   ]
  },
  {
   "cell_type": "markdown",
   "id": "7672877b",
   "metadata": {},
   "source": [
    "## Select a large language model\n",
    "\n",
    "Again, we use the Ollama server we set up for local processing."
   ]
  },
  {
   "cell_type": "code",
   "execution_count": 6,
   "id": "9a005e4b",
   "metadata": {},
   "outputs": [],
   "source": [
    "from langchain_community.llms import Ollama\n",
    "\n",
    "llm = Ollama(model=\"llama2\")"
   ]
  },
  {
   "cell_type": "markdown",
   "id": "cd54f2ad",
   "metadata": {},
   "source": [
    "## Build a RAG chain\n",
    "\n",
    "Now we have all the components we need to create a RAG (Retrieval-Augmented Generation) chain.  This chain does the following:\n",
    "1. Generate embedding descriptor for user query\n",
    "2. Find text segments that are similar to the user query using the vector store\n",
    "3. Pass user query and context documents to the LLM using a prompt template\n",
    "4. Return the LLM's answer"
   ]
  },
  {
   "cell_type": "code",
   "execution_count": 7,
   "id": "a8c513ab",
   "metadata": {},
   "outputs": [
    {
     "name": "stdout",
     "output_type": "stream",
     "text": [
      "Based on the provided context, ApertureDB can store images. In fact, it is specifically designed to manage multimodal data such as images, videos, documents, embeddings, and associated metadata including annotations. So, ApertureDB has the capability to store and manage images.\n"
     ]
    }
   ],
   "source": [
    "# Create prompt\n",
    "from langchain_core.prompts import ChatPromptTemplate\n",
    "\n",
    "prompt = ChatPromptTemplate.from_template(\"\"\"Answer the following question based only on the provided context:\n",
    "\n",
    "<context>\n",
    "{context}\n",
    "</context>\n",
    "\n",
    "Question: {input}\"\"\")\n",
    "\n",
    "\n",
    "# Create a chain that passes documents to an LLM\n",
    "from langchain.chains.combine_documents import create_stuff_documents_chain\n",
    "\n",
    "document_chain = create_stuff_documents_chain(llm, prompt)\n",
    "\n",
    "\n",
    "# Treat the vectorstore as a document retriever\n",
    "retriever = vector_db.as_retriever()\n",
    "\n",
    "\n",
    "# Create a RAG chain that connects the retriever to the LLM\n",
    "from langchain.chains import create_retrieval_chain\n",
    "\n",
    "retrieval_chain = create_retrieval_chain(retriever, document_chain)"
   ]
  },
  {
   "cell_type": "markdown",
   "id": "3bc6a882",
   "metadata": {},
   "source": [
    "## Run the RAG chain\n",
    "\n",
    "Finally we pass a question to the chain and get our answer.  This will take a few seconds to run as the LLM generates an answer from the query and context documents."
   ]
  },
  {
   "cell_type": "code",
   "execution_count": 9,
   "id": "020f29f1",
   "metadata": {},
   "outputs": [
    {
     "name": "stdout",
     "output_type": "stream",
     "text": [
      "Based on the provided context, ApertureDB can store images in several ways:\n",
      "\n",
      "1. Multimodal data management: ApertureDB offers a unified interface to manage multimodal data such as images, videos, documents, embeddings, and associated metadata including annotations. This means that images can be stored along with other types of data in a single database instance.\n",
      "2. Image storage: ApertureDB provides image storage capabilities through its integration with the public cloud providers or on-premise installations. This allows customers to host their own ApertureDB instances and store images on their preferred cloud provider or on-premise infrastructure.\n",
      "3. Vector database: ApertureDB also offers a vector database that enables efficient similarity search and classification of images based on their semantic meaning. This can be useful for applications where image search and classification are important, such as in computer vision or machine learning workflows.\n",
      "\n",
      "Overall, ApertureDB provides flexible and scalable storage options for images, allowing customers to choose the deployment model that best suits their needs.\n"
     ]
    }
   ],
   "source": [
    "user_query = \"How can ApertureDB store images?\"\n",
    "response = retrieval_chain.invoke({\"input\": user_query})\n",
    "print(response[\"answer\"])"
   ]
  }
 ],
 "metadata": {
  "kernelspec": {
   "display_name": "Python 3 (ipykernel)",
   "language": "python",
   "name": "python3"
  },
  "language_info": {
   "codemirror_mode": {
    "name": "ipython",
    "version": 3
   },
   "file_extension": ".py",
   "mimetype": "text/x-python",
   "name": "python",
   "nbconvert_exporter": "python",
   "pygments_lexer": "ipython3",
   "version": "3.10.12"
  }
 },
 "nbformat": 4,
 "nbformat_minor": 5
}
