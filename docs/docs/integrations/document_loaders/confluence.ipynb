{
 "cells": [
  {
   "cell_type": "markdown",
   "metadata": {},
   "source": [
    "# Confluence\n",
    "\n",
    "[Confluence](https://www.atlassian.com/software/confluence) is a wiki collaboration platform designed to save and organize all project-related materials. As a knowledge base, Confluence primarily serves content management activities.\n",
    "\n",
    "This loader allows you to fetch and process Confluence pages into `Document` objects.\n",
    "\n",
    "---\n",
    "\n",
    "## Authentication Methods\n",
    "\n",
    "The following authentication methods are supported:\n",
    "\n",
    "- `username/api_key`\n",
    "- `OAuth2 login`\n",
    "- `cookies`\n",
    "- On-premises installations: `token` authentication\n",
    "\n",
    "---\n",
    "\n",
    "## Page Selection\n",
    "\n",
    "You can specify which pages to load using:\n",
    "\n",
    "- **page_ids** (*list*):  \n",
    "  A list of `page_id` values to load the corresponding pages.\n",
    "\n",
    "- **space_key** (*string*):  \n",
    "  A string of `space_key` value to load all pages within the specified confluence space.\n",
    "\n",
    "If both `page_ids` and `space_key` are provided, the loader will return the union of pages from both lists.\n",
    "\n",
    "*Hint:* Both `space_key` and `page_id` can be found in the URL of a Confluence page:  \n",
    "`https://yoursite.atlassian.com/wiki/spaces/{space_key}/pages/{page_id}`\n",
    "\n",
    "---\n",
    "\n",
    "## Attachments\n",
    "\n",
    "You may include attachments in the loaded `Document` objects by setting the boolean parameter **include_attachments** to `True` (default: `False`). When enabled, all attachments are downloaded and their text content is extracted and added to the Document.\n",
    "\n",
    "**Currently supported attachment types:**\n",
    "\n",
    "- PDF (`.pdf`)\n",
    "- PNG (`.png`)\n",
    "- JPEG/JPG (`.jpeg`, `.jpg`)\n",
    "- SVG (`.svg`)\n",
    "- Word (`.doc`, `.docx`)\n",
    "- Excel (`.xls`, `.xlsx`)\n",
    "\n",
    "---"
   ]
  },
  {
   "cell_type": "markdown",
   "metadata": {},
   "source": [
    "Before using ConfluenceLoader make sure you have the latest version of the atlassian-python-api package installed:"
   ]
  },
  {
   "cell_type": "code",
   "execution_count": 1,
   "metadata": {
    "tags": []
   },
   "outputs": [],
   "source": [
    "%pip install --upgrade --quiet  atlassian-python-api"
   ]
  },
  {
   "cell_type": "markdown",
   "metadata": {},
   "source": [
    "## Examples"
   ]
  },
  {
   "cell_type": "markdown",
   "metadata": {},
   "source": [
    "### Username and Password or Username and API Token (Atlassian Cloud only)\n",
    "\n",
    "This example authenticates using either a username and password or, if you're connecting to an Atlassian Cloud hosted version of Confluence, a username and an API Token.\n",
    "You can generate an API token at: https://id.atlassian.com/manage-profile/security/api-tokens.\n",
    "\n",
    "The `limit` parameter specifies how many documents will be retrieved in a single call, not how many documents will be retrieved in total.\n",
    "By default the code will return up to 1000 documents in 50 documents batches. To control the total number of documents use the `max_pages` parameter. \n",
    "Plese note the maximum value for the `limit` parameter in the atlassian-python-api package is currently 100.  "
   ]
  },
  {
   "cell_type": "code",
   "execution_count": null,
   "metadata": {},
   "outputs": [],
   "source": [
    "from langchain_community.document_loaders import ConfluenceLoader\n",
    "\n",
    "loader = ConfluenceLoader(\n",
    "    url=\"https://yoursite.atlassian.com/wiki\",\n",
    "    username=\"<your-confluence-username>\",\n",
    "    api_key=\"<your-api-token>\",\n",
    "    space_key=\"<your-space-key>\",\n",
    "    include_attachments=True,\n",
    "    limit=50,\n",
    ")\n",
    "documents = loader.load()"
   ]
  },
  {
   "cell_type": "markdown",
   "metadata": {},
   "source": [
    "### Personal Access Token (Server/On-Prem only)\n",
    "\n",
    "This method is valid for the Data Center/Server on-prem edition only.\n",
    "For more information on how to generate a Personal Access Token (PAT) check the official Confluence documentation at: https://confluence.atlassian.com/enterprise/using-personal-access-tokens-1026032365.html.\n",
    "When using a PAT you provide only the token value, you cannot provide a username. \n",
    "Please note that ConfluenceLoader will run under the permissions of the user that generated the PAT and will only be able to load documents for which said user has access to.  "
   ]
  },
  {
   "cell_type": "code",
   "execution_count": null,
   "metadata": {},
   "outputs": [],
   "source": [
    "from langchain_community.document_loaders import ConfluenceLoader\n",
    "\n",
    "loader = ConfluenceLoader(\n",
    "    url=\"https://confluence.yoursite.com/\",\n",
    "    token=\"<your-personal-access-token>\",\n",
    "    space_key=\"<your-space-key>\",\n",
    "    include_attachments=True,\n",
    "    limit=50,\n",
    "    max_pages=50,\n",
    ")\n",
    "documents = loader.load()"
   ]
  }
 ],
 "metadata": {
  "kernelspec": {
   "display_name": "Python 3 (ipykernel)",
   "language": "python",
   "name": "python3"
  },
  "language_info": {
   "codemirror_mode": {
    "name": "ipython",
    "version": 3
   },
   "file_extension": ".py",
   "mimetype": "text/x-python",
   "name": "python",
   "nbconvert_exporter": "python",
   "pygments_lexer": "ipython3",
   "version": "3.9.1"
  },
  "vscode": {
   "interpreter": {
    "hash": "cc99336516f23363341912c6723b01ace86f02e26b4290be1efc0677e2e2ec24"
   }
  }
 },
 "nbformat": 4,
 "nbformat_minor": 4
}
