{
 "cells": [
  {
   "cell_type": "markdown",
   "id": "17812129",
   "metadata": {},
   "source": [
    "# ReadTheDocs Documentation\n",
    "\n",
    ">[Read the Docs](https://readthedocs.org/) is an open-sourced free software documentation hosting platform. It generates documentation written with the `Sphinx` documentation generator.\n",
    "\n",
    "This notebook covers how to load content from HTML that was generated as part of a `Read-The-Docs` build.\n",
    "\n",
    "For an example of this in the wild, see [here](https://github.com/langchain-ai/chat-langchain).\n",
    "\n",
    "This assumes that the HTML has already been scraped into a folder. This can be done by uncommenting and running the following command"
   ]
  },
  {
   "cell_type": "code",
   "execution_count": null,
   "id": "3d153e07-8339-4cbe-8481-fc08644ba927",
   "metadata": {},
   "outputs": [],
   "source": [
    "%pip install --upgrade --quiet  beautifulsoup4"
   ]
  },
  {
   "cell_type": "code",
   "execution_count": null,
   "id": "84696e27",
   "metadata": {},
   "outputs": [],
   "source": [
    "#!wget -r -A.html -P rtdocs https://python.langchain.com/en/latest/"
   ]
  },
  {
   "cell_type": "code",
   "execution_count": 1,
   "id": "92dd950b",
   "metadata": {
    "tags": []
   },
   "outputs": [],
   "source": [
    "from langchain_community.document_loaders import ReadTheDocsLoader"
   ]
  },
  {
   "cell_type": "code",
   "execution_count": 3,
   "id": "494567c3",
   "metadata": {},
   "outputs": [],
   "source": [
    "loader = ReadTheDocsLoader(\"rtdocs\")"
   ]
  },
  {
   "cell_type": "code",
   "execution_count": null,
   "id": "e2e6d6f0",
   "metadata": {},
   "outputs": [],
   "source": [
    "docs = loader.load()"
   ]
  }
 ],
 "metadata": {
  "kernelspec": {
   "display_name": "Python 3 (ipykernel)",
   "language": "python",
   "name": "python3"
  },
  "language_info": {
   "codemirror_mode": {
    "name": "ipython",
    "version": 3
   },
   "file_extension": ".py",
   "mimetype": "text/x-python",
   "name": "python",
   "nbconvert_exporter": "python",
   "pygments_lexer": "ipython3",
   "version": "3.10.6"
  }
 },
 "nbformat": 4,
 "nbformat_minor": 5
}
