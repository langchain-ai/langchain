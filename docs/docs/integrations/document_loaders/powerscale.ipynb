{
 "cells": [
  {
   "cell_type": "markdown",
   "id": "66a7777e",
   "metadata": {},
   "source": [
    "# Dell PowerScale\n",
    "\n",
    ">[Dell PowerScale](https://www.dell.com/en-us/shop/powerscale-family/sf/powerscale) is an enterprise scale out filesystem that can be self-hosted or deployed in the cloud.\n",
    "\n",
    "This loader utilizes unique capabilities from PowerScale that can determine what files that have been modified since LangChain's last run and only returns those modified files for processing. This will eliminate the need to re-process (chunk and embed) files that have not been changed improving the overall data ingestion workflow.\n",
    "\n",
    "You must initialize the loader with the PowerScale MetadataIQ feature enabled on the cluster. Additional information can be found on our GitHub Repo: [https://github.com/dell/powerscale-rag-connector](https://github.com/dell/powerscale-rag-connector)"
   ]
  },
  {
   "cell_type": "code",
   "execution_count": 1,
   "id": "9ec8a3b3",
   "metadata": {},
   "outputs": [],
   "source": [
    "from powerscale_rag_connector import PowerScaleDocumentLoader"
   ]
  },
  {
   "cell_type": "code",
   "execution_count": 2,
   "id": "43128d8d",
   "metadata": {},
   "outputs": [],
   "source": [
    "%pip install --upgrade --quiet  powerscale-rag-connector"
   ]
  },
  {
   "cell_type": "code",
   "execution_count": 3,
   "id": "35d6809a",
   "metadata": {
    "pycharm": {
     "name": "#%%\n"
    }
   },
   "outputs": [],
   "source": [
    "loader = PowerScaleDocumentLoader(\n",
    "    es_host_url=\"http://elasticsearch:9200\",\n",
    "    es_index_name=\"metadataiq\",\n",
    "    es_api_key=\"your-api-key\",\n",
    "    folder_path=\"/ifs/data\",\n",
    ")\n",
    "\n",
    "# Or load files with the Unstructured Loader\n",
    "# loader = PowerScaleUnstructuredLoader(\n",
    "#     es_host_url=\"http://elasticsearch:9200\",\n",
    "#     es_index_name=\"metadataiq\",\n",
    "#     es_api_key=\"your-api-key\",\n",
    "#     folder_path=\"/ifs/data\"\n",
    "#     # 'elements' mode splits the document into more granular chunks\n",
    "#     # Use 'single' mode if you want the entire document as a single chunk\n",
    "#     mode=\"elements\"\n",
    "# )"
   ]
  },
  {
   "cell_type": "code",
   "execution_count": null,
   "id": "edb8b509",
   "metadata": {},
   "outputs": [
    {
     "data": {
      "text/plain": [
       "[Document(page_content='' metadata={'source': '/ifs/pdfs/1994-Graph.Theoretic.Obstacles.to.Perfect.Hashing.TR0257.pdf', 'snapshot': 20834, 'change_types': ['ENTRY_ADDED']}),\n",
       "Document(page_content='' metadata={'source': '/ifs/pdfs/New.sendfile-FreeBSD.20.Feb.2015.pdf', 'snapshot': 20920, 'change_types': ['ENTRY_ADDED']}),\n",
       "Document(page_content='' metadata={'source': '/ifs/pdfs/FAST-Fast.Architecture.Sensitive.Tree.Search.on.Modern.CPUs.and.GPUs-Slides.pdf', 'snapshot': 20924, 'change_types': ['ENTRY_ADDED']})]\n"
      ]
     },
     "metadata": {},
     "output_type": "display_data"
    }
   ],
   "source": [
    "documents = loader.load()\n",
    "documents[:3]"
   ]
  }
 ],
 "metadata": {
  "kernelspec": {
   "display_name": "Python 3 (ipykernel)",
   "language": "python",
   "name": "python3"
  },
  "language_info": {
   "codemirror_mode": {
    "name": "ipython",
    "version": 3
   },
   "file_extension": ".py",
   "mimetype": "text/x-python",
   "name": "python",
   "nbconvert_exporter": "python",
   "pygments_lexer": "ipython3",
   "version": "3.10.6"
  }
 },
 "nbformat": 4,
 "nbformat_minor": 5
}
