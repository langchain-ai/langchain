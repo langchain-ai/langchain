{
 "cells": [
  {
   "cell_type": "markdown",
   "id": "a6d650d8-d829-4afc-93e9-f2fab6839f1b",
   "metadata": {
    "tags": []
   },
   "source": [
    "# UnDatasIO\n",
    "\n",
    "[UnDatasIO](https://undatas.io) – Online OCR & document parsing API.\n",
    "\n",
    "## Installation\n",
    "\n",
    "```bash\n",
    "pip install langchain-undatasio\n",
    "```"
   ]
  },
  {
   "cell_type": "markdown",
   "id": "6eb44d5f-179d-4874-a668-9af5dabcf87a",
   "metadata": {},
   "source": [
    "## Multi-File Upload & Parse\n",
    "\n",
    "1. Upload several files  \n",
    "2. Get file IDs  \n",
    "3. Parse specified IDs  \n",
    "4. Fetch results"
   ]
  },
  {
   "cell_type": "code",
   "execution_count": null,
   "id": "55fca9eb-a2af-40f9-ad4e-db477684fc4e",
   "metadata": {},
   "outputs": [],
   "source": []
  }
 ],
 "metadata": {
  "kernelspec": {
   "display_name": "Python 3 (ipykernel)",
   "language": "python",
   "name": "python3"
  },
  "language_info": {
   "codemirror_mode": {
    "name": "ipython",
    "version": 3
   },
   "file_extension": ".py",
   "mimetype": "text/x-python",
   "name": "python",
   "nbconvert_exporter": "python",
   "pygments_lexer": "ipython3",
   "version": "3.9.16"
  }
 },
 "nbformat": 4,
 "nbformat_minor": 5
}
