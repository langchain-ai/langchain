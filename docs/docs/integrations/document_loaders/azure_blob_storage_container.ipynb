{
 "cells": [
  {
   "cell_type": "markdown",
   "id": "a634365e",
   "metadata": {},
   "source": [
    "# Azure Blob Storage Container\n",
    "\n",
    ">[Azure Blob Storage](https://learn.microsoft.com/en-us/azure/storage/blobs/storage-blobs-introduction) is Microsoft's object storage solution for the cloud. Blob Storage is optimized for storing massive amounts of unstructured data. Unstructured data is data that doesn't adhere to a particular data model or definition, such as text or binary data.\n",
    "\n",
    "`Azure Blob Storage` is designed for:\n",
    "- Serving images or documents directly to a browser.\n",
    "- Storing files for distributed access.\n",
    "- Streaming video and audio.\n",
    "- Writing to log files.\n",
    "- Storing data for backup and restore, disaster recovery, and archiving.\n",
    "- Storing data for analysis by an on-premises or Azure-hosted service.\n",
    "\n",
    "This notebook covers how to load document objects from a container on `Azure Blob Storage`."
   ]
  },
  {
   "cell_type": "code",
   "execution_count": null,
   "id": "49815096",
   "metadata": {},
   "outputs": [],
   "source": [
    "%pip install --upgrade --quiet  azure-storage-blob"
   ]
  },
  {
   "cell_type": "code",
   "execution_count": 2,
   "id": "2f0cd6a5",
   "metadata": {
    "tags": []
   },
   "outputs": [],
   "source": [
    "from langchain_community.document_loaders import AzureBlobStorageContainerLoader"
   ]
  },
  {
   "cell_type": "code",
   "execution_count": 3,
   "id": "321cc7f1",
   "metadata": {},
   "outputs": [],
   "source": [
    "loader = AzureBlobStorageContainerLoader(conn_str=\"<conn_str>\", container=\"<container>\")"
   ]
  },
  {
   "cell_type": "code",
   "execution_count": 4,
   "id": "2b11d155",
   "metadata": {},
   "outputs": [
    {
     "data": {
      "text/plain": [
       "[Document(page_content='Lorem ipsum dolor sit amet.', lookup_str='', metadata={'source': '/var/folders/y6/8_bzdg295ld6s1_97_12m4lr0000gn/T/tmpaa9xl6ch/fake.docx'}, lookup_index=0)]"
      ]
     },
     "execution_count": 4,
     "metadata": {},
     "output_type": "execute_result"
    }
   ],
   "source": [
    "loader.load()"
   ]
  },
  {
   "cell_type": "markdown",
   "id": "0690c40a",
   "metadata": {},
   "source": [
    "## Specifying a prefix\n",
    "You can also specify a prefix for more fine-grained control over what files to load."
   ]
  },
  {
   "cell_type": "code",
   "execution_count": 5,
   "id": "72d44781",
   "metadata": {},
   "outputs": [],
   "source": [
    "loader = AzureBlobStorageContainerLoader(\n",
    "    conn_str=\"<conn_str>\", container=\"<container>\", prefix=\"<prefix>\"\n",
    ")"
   ]
  },
  {
   "cell_type": "code",
   "execution_count": 6,
   "id": "2d3c32db",
   "metadata": {},
   "outputs": [
    {
     "data": {
      "text/plain": [
       "[Document(page_content='Lorem ipsum dolor sit amet.', lookup_str='', metadata={'source': '/var/folders/y6/8_bzdg295ld6s1_97_12m4lr0000gn/T/tmpujbkzf_l/fake.docx'}, lookup_index=0)]"
      ]
     },
     "execution_count": 6,
     "metadata": {},
     "output_type": "execute_result"
    }
   ],
   "source": [
    "loader.load()"
   ]
  },
  {
   "cell_type": "code",
   "execution_count": null,
   "id": "885dc280",
   "metadata": {},
   "outputs": [],
   "source": []
  }
 ],
 "metadata": {
  "kernelspec": {
   "display_name": "Python 3 (ipykernel)",
   "language": "python",
   "name": "python3"
  },
  "language_info": {
   "codemirror_mode": {
    "name": "ipython",
    "version": 3
   },
   "file_extension": ".py",
   "mimetype": "text/x-python",
   "name": "python",
   "nbconvert_exporter": "python",
   "pygments_lexer": "ipython3",
   "version": "3.10.6"
  }
 },
 "nbformat": 4,
 "nbformat_minor": 5
}
