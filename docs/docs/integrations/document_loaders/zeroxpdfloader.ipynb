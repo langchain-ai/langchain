{
 "cells": [
  {
   "cell_type": "markdown",
   "metadata": {},
   "source": [
    "# ZeroxPDFLoader\n",
    "\n",
    "This sample provides a quick overview for getting started with `ZeroxPDFLoader` [document loader](https://python.langchain.com/docs/concepts/document_loaders). For detailed documentation of all ZeroxPDFLoader features and configurations head to the [API reference](https://python.langchain.com/api_reference/community/document_loaders/langchain_community.document_loaders.pdf.ZeroxPDFLoader.html).\n",
    "\n",
    "  \n",
    "\n",
    "## Overview\n",
    "`ZeroxPDFLoader` is a document loader that leverages the [Zerox](https://github.com/getomni-ai/zerox) library. Zerox converts PDF documents into images, processes them using a vision-capable language model, and generates a structured Markdown representation. This loader allows for asynchronous operations and provides page-level document extraction.\n",
    "\n",
    "### Integration details\n",
    "\n",
    "| Class | Package | Local | Serializable | JS support|\n",
    "| :--- | :--- | :---: | :---: |  :---: |\n",
    "| [PyMuPDFLoader](https://python.langchain.com/api_reference/community/document_loaders/langchain_community.document_loaders.pdf.ZeroxPDFLoader.html) | [langchain_community](https://python.langchain.com/api_reference/community/index.html) | ✅ | ❌ | ❌ |\n",
    "\n",
    "---------   \n",
    "\n",
    "### Loader features\n",
    "\n",
    "| Source | Document Lazy Loading | Native Async Support | Extract Images | Extract Tables |\n",
    "| :---: | :---: | :---: | :---: |:---: |\n",
    "| ZeroxPDFLoader | ✅ | ❌ | ✅ | ✅ |\n",
    "\n",
    "  \n",
    "\n",
    "## Setup\n",
    "\n",
    "`ZeroxPDFLoader` enables PDF text extraction using vision-capable language models by converting each page into an image and processing it asynchronously. To use this loader, you need to specify a model and configure any necessary environment variables for Zerox, such as API keys.\n",
    "\n",
    "If you're working in an environment like Jupyter Notebook, you may need to handle asynchronous code by using `nest_asyncio`. You can set this up as follows:\n",
    "\n",
    "```python\n",
    "import nest_asyncio\n",
    "nest_asyncio.apply()\n",
    "```"
   ]
  },
  {
   "cell_type": "code",
   "execution_count": 1,
   "metadata": {
    "ExecuteTime": {
     "end_time": "2025-03-13T08:43:23.098023Z",
     "start_time": "2025-03-13T08:43:23.007462Z"
    }
   },
   "outputs": [],
   "source": [
    "import os\n",
    "from getpass import getpass\n",
    "\n",
    "# use nest_asyncio (only necessary inside of jupyter notebook)\n",
    "from dotenv import load_dotenv\n",
    "\n",
    "load_dotenv()\n",
    "\n",
    "if not os.environ.get(\"OPENAI_API_KEY\"):\n",
    "    os.environ[\"OPENAI_API_KEY\"] = getpass(\"OpenAI API key =\")\n",
    "\n",
    "import nest_asyncio\n",
    "\n",
    "nest_asyncio.apply()"
   ]
  },
  {
   "cell_type": "markdown",
   "metadata": {},
   "source": [
    "### Credentials\n",
    "Appropriate credentials need to be set up in environment variables. The loader supports number of different models and model providers. See _Usage_ header below to see few examples or [Zerox documentation](https://github.com/getomni-ai/zerox) for a full list of supported models.\n"
   ]
  },
  {
   "cell_type": "code",
   "execution_count": 2,
   "metadata": {
    "ExecuteTime": {
     "end_time": "2025-03-13T08:43:24.826878Z",
     "start_time": "2025-03-13T08:43:24.787405Z"
    }
   },
   "outputs": [],
   "source": [
    "from getpass import getpass\n",
    "\n",
    "load_dotenv()\n",
    "\n",
    "if not os.environ.get(\"OPENAI_API_KEY\"):\n",
    "    os.environ[\"OPENAI_API_KEY\"] = getpass(\"OpenAI API key =\")\n",
    "\n",
    "nest_asyncio.apply()"
   ]
  },
  {
   "cell_type": "markdown",
   "metadata": {},
   "source": [
    "\n",
    "If you want to get automated best in-class tracing of your model calls you can also set your [LangSmith](https://docs.smith.langchain.com/) API key by uncommenting below:"
   ]
  },
  {
   "cell_type": "code",
   "execution_count": 3,
   "metadata": {
    "ExecuteTime": {
     "end_time": "2025-03-13T08:43:26.330466Z",
     "start_time": "2025-03-13T08:43:26.324045Z"
    }
   },
   "outputs": [],
   "source": [
    "# os.environ[\"LANGSMITH_API_KEY\"] = getpass.getpass(\"Enter your LangSmith API key: \")\n",
    "# os.environ[\"LANGSMITH_TRACING\"] = \"true\""
   ]
  },
  {
   "cell_type": "markdown",
   "metadata": {},
   "source": [
    "### Installation\n",
    "\n",
    "Install **langchain_community** and **py-zerox**."
   ]
  },
  {
   "cell_type": "code",
   "execution_count": 4,
   "metadata": {
    "ExecuteTime": {
     "end_time": "2025-03-13T08:43:30.208499Z",
     "start_time": "2025-03-13T08:43:28.345747Z"
    }
   },
   "outputs": [
    {
     "name": "stdout",
     "output_type": "stream",
     "text": [
      "Note: you may need to restart the kernel to use updated packages.\n"
     ]
    }
   ],
   "source": [
    "%pip install -qU langchain_community py-zerox"
   ]
  },
  {
   "cell_type": "markdown",
   "metadata": {},
   "source": [
    "## Initialization\n",
    "\n",
    "Now we can instantiate our model object and load documents:"
   ]
  },
  {
   "cell_type": "code",
   "execution_count": 5,
   "metadata": {
    "ExecuteTime": {
     "end_time": "2025-03-13T08:43:31.748909Z",
     "start_time": "2025-03-13T08:43:31.738214Z"
    }
   },
   "outputs": [],
   "source": [
    "import warnings\n",
    "\n",
    "import nest_asyncio\n",
    "\n",
    "nest_asyncio.apply()\n",
    "warnings.filterwarnings(\n",
    "    \"ignore\",\n",
    "    module=r\"^pyzerox.models.modellitellm$\",\n",
    "    message=r\"\\s*Custom system prompt was provided which.*\",\n",
    ")"
   ]
  },
  {
   "cell_type": "code",
   "execution_count": 6,
   "metadata": {
    "ExecuteTime": {
     "end_time": "2025-03-13T08:43:34.013207Z",
     "start_time": "2025-03-13T08:43:32.871614Z"
    }
   },
   "outputs": [],
   "source": [
    "from langchain_community.document_loaders.pdf import ZeroxPDFLoader\n",
    "\n",
    "file_path = \"./example_data/layout-parser-paper.pdf\"\n",
    "loader = ZeroxPDFLoader(file_path)"
   ]
  },
  {
   "cell_type": "markdown",
   "metadata": {},
   "source": [
    "## Load"
   ]
  },
  {
   "cell_type": "code",
   "execution_count": 7,
   "metadata": {
    "ExecuteTime": {
     "end_time": "2025-03-13T08:43:55.887979Z",
     "start_time": "2025-03-13T08:43:35.469623Z"
    }
   },
   "outputs": [
    {
     "data": {
      "text/plain": [
       "Document(metadata={'producer': 'pdfTeX-1.40.21', 'creator': 'LaTeX with hyperref', 'creationdate': '2021-06-22T01:27:10+00:00', 'author': '', 'keywords': '', 'moddate': '2021-06-22T01:27:10+00:00', 'ptex.fullbanner': 'This is pdfTeX, Version 3.14159265-2.6-1.40.21 (TeX Live 2020) kpathsea version 6.3.2', 'subject': '', 'title': '', 'trapped': 'False', 'total_pages': 16, 'source': './example_data/layout-parser-paper.pdf', 'num_pages': 16, 'page': 0}, page_content='# LayoutParser: A Unified Toolkit for Deep Learning Based Document Image Analysis\\n\\nZejiong Shen¹, Ruochen Zhang², Melissa Dell³, Benjamin Charles Germain Lee⁴, Jacob Carlson³, and Weining Li⁵\\n\\n¹ Allen Institute for AI  \\nshannons@allenai.org  \\n² Brown University  \\nruochen_zhang@brown.edu  \\n³ Harvard University  \\n{melissadell,jacob.carlson}@fas.harvard.edu  \\n⁴ University of Washington  \\nbgc@cs.washington.edu  \\n⁵ University of Waterloo  \\nw422ii@uwaterloo.ca  \\n\\n**Abstract.** Recent advances in document image analysis (DIA) have been primarily driven by the application of neural networks. Ideally, research outcomes could be easily deployed in production and extended for further investigation. However, various factors like loosely organized codebases and sophisticated model configurations complicate the easy reuse of important innovations by a wide audience. Though there have been on-going efforts to improve reusability and simplify deep learning (DL) model development in disciplines like natural language processing and computer vision, none of them are optimized for challenges in the domain of DIA. This represents a major gap in the existing toolkit, as DIA is central to academic research across a wide range of disciplines in the social sciences and humanities. This paper introduces LayoutParser, an open-source library for streamlining the usage of DL in DIA research and applications. The core LayoutParser library comes with a set of simple and intuitive interfaces for applying and customizing DL models for layout detection, character recognition, and many other document processing tasks. To promote extensibility, LayoutParser also incorporates a community platform for sharing both pre-trained models and full document digitization pipelines. We demonstrate that LayoutParser is helpful for both lightweight and large-scale digitization pipelines in real-world use cases. The library is publicly available at https://layout-parser.github.io\\n\\n**Keywords:** Document Image Analysis · Deep Learning · Layout Analysis · Character Recognition · Open Source library · Toolkit.\\n\\n# 1 Introduction\\n\\nDeep Learning (DL)-based approaches are the state-of-the-art for a wide range of document image analysis (DIA) tasks including document image classification [11]')"
      ]
     },
     "execution_count": 7,
     "metadata": {},
     "output_type": "execute_result"
    }
   ],
   "source": [
    "docs = loader.load()\n",
    "docs[0]"
   ]
  },
  {
   "cell_type": "code",
   "execution_count": 8,
   "metadata": {
    "ExecuteTime": {
     "end_time": "2025-03-13T08:43:55.969916Z",
     "start_time": "2025-03-13T08:43:55.960140Z"
    }
   },
   "outputs": [
    {
     "name": "stdout",
     "output_type": "stream",
     "text": [
      "{'producer': 'pdfTeX-1.40.21',\n",
      " 'creator': 'LaTeX with hyperref',\n",
      " 'creationdate': '2021-06-22T01:27:10+00:00',\n",
      " 'author': '',\n",
      " 'keywords': '',\n",
      " 'moddate': '2021-06-22T01:27:10+00:00',\n",
      " 'ptex.fullbanner': 'This is pdfTeX, Version 3.14159265-2.6-1.40.21 (TeX Live '\n",
      "                    '2020) kpathsea version 6.3.2',\n",
      " 'subject': '',\n",
      " 'title': '',\n",
      " 'trapped': 'False',\n",
      " 'total_pages': 16,\n",
      " 'source': './example_data/layout-parser-paper.pdf',\n",
      " 'num_pages': 16,\n",
      " 'page': 0}\n"
     ]
    }
   ],
   "source": [
    "import pprint\n",
    "\n",
    "pprint.pp(docs[0].metadata)"
   ]
  },
  {
   "cell_type": "markdown",
   "metadata": {},
   "source": [
    "## Lazy Load\n"
   ]
  },
  {
   "cell_type": "code",
   "execution_count": 9,
   "metadata": {
    "ExecuteTime": {
     "end_time": "2025-03-13T08:44:38.007126Z",
     "start_time": "2025-03-13T08:43:56.049306Z"
    }
   },
   "outputs": [
    {
     "data": {
      "text/plain": [
       "6"
      ]
     },
     "execution_count": 9,
     "metadata": {},
     "output_type": "execute_result"
    }
   ],
   "source": [
    "pages = []\n",
    "for doc in loader.lazy_load():\n",
    "    pages.append(doc)\n",
    "    if len(pages) >= 10:\n",
    "        # do some paged operation, e.g.\n",
    "        # index.upsert(page)\n",
    "\n",
    "        pages = []\n",
    "len(pages)"
   ]
  },
  {
   "cell_type": "code",
   "execution_count": 10,
   "metadata": {
    "ExecuteTime": {
     "end_time": "2025-03-13T08:44:38.061709Z",
     "start_time": "2025-03-13T08:44:38.056310Z"
    }
   },
   "outputs": [
    {
     "name": "stdout",
     "output_type": "stream",
     "text": [
      "5.1 A Comprehensive Historical Document Digitization Pipeline\n",
      "\n",
      "The digitization of historical docume\n",
      "{'producer': 'pdfTeX-1.40.21',\n",
      " 'creator': 'LaTeX with hyperref',\n",
      " 'creationdate': '2021-06-22T01:27:10+00:00',\n",
      " 'author': '',\n",
      " 'keywords': '',\n",
      " 'moddate': '2021-06-22T01:27:10+00:00',\n",
      " 'ptex.fullbanner': 'This is pdfTeX, Version 3.14159265-2.6-1.40.21 (TeX Live '\n",
      "                    '2020) kpathsea version 6.3.2',\n",
      " 'subject': '',\n",
      " 'title': '',\n",
      " 'trapped': 'False',\n",
      " 'total_pages': 16,\n",
      " 'source': './example_data/layout-parser-paper.pdf',\n",
      " 'num_pages': 16,\n",
      " 'page': 10}\n"
     ]
    }
   ],
   "source": [
    "print(pages[0].page_content[:100])\n",
    "pprint.pp(pages[0].metadata)"
   ]
  },
  {
   "cell_type": "markdown",
   "metadata": {},
   "source": [
    "The metadata attribute contains at least the following keys:\n",
    "- source\n",
    "- page (if in mode *page*)\n",
    "- total_page\n",
    "- creationdate\n",
    "- creator\n",
    "- producer\n",
    "\n",
    "Additional metadata are specific to each parser.\n",
    "These pieces of information can be helpful (to categorize your PDFs for example)."
   ]
  },
  {
   "cell_type": "markdown",
   "metadata": {},
   "source": [
    "## Splitting mode & custom pages delimiter"
   ]
  },
  {
   "cell_type": "markdown",
   "metadata": {},
   "source": [
    "When loading the PDF file you can split it in two different ways:\n",
    "- By page\n",
    "- As a single text flow\n",
    "\n",
    "By default PDFPlumberLoader will split the PDF by page."
   ]
  },
  {
   "cell_type": "markdown",
   "metadata": {},
   "source": [
    "### Extract the PDF by page. Each page is extracted as a langchain Document object:"
   ]
  },
  {
   "cell_type": "code",
   "execution_count": 11,
   "metadata": {
    "ExecuteTime": {
     "end_time": "2025-03-13T08:45:08.112805Z",
     "start_time": "2025-03-13T08:44:38.106140Z"
    }
   },
   "outputs": [
    {
     "name": "stdout",
     "output_type": "stream",
     "text": [
      "16\n",
      "{'producer': 'pdfTeX-1.40.21',\n",
      " 'creator': 'LaTeX with hyperref',\n",
      " 'creationdate': '2021-06-22T01:27:10+00:00',\n",
      " 'author': '',\n",
      " 'keywords': '',\n",
      " 'moddate': '2021-06-22T01:27:10+00:00',\n",
      " 'ptex.fullbanner': 'This is pdfTeX, Version 3.14159265-2.6-1.40.21 (TeX Live '\n",
      "                    '2020) kpathsea version 6.3.2',\n",
      " 'subject': '',\n",
      " 'title': '',\n",
      " 'trapped': 'False',\n",
      " 'total_pages': 16,\n",
      " 'source': './example_data/layout-parser-paper.pdf',\n",
      " 'num_pages': 16,\n",
      " 'page': 0}\n"
     ]
    }
   ],
   "source": [
    "loader = ZeroxPDFLoader(\n",
    "    \"./example_data/layout-parser-paper.pdf\",\n",
    "    mode=\"page\",\n",
    ")\n",
    "docs = loader.load()\n",
    "print(len(docs))\n",
    "pprint.pp(docs[0].metadata)"
   ]
  },
  {
   "cell_type": "markdown",
   "metadata": {},
   "source": [
    "In this mode the pdf is split by pages and the resulting Documents metadata contains the page number. But in some cases we could want to process the pdf as a single text flow (so we don't cut some paragraphs in half). In this case you can use the *single* mode :"
   ]
  },
  {
   "cell_type": "markdown",
   "metadata": {},
   "source": [
    "### Extract the whole PDF as a single langchain Document object:"
   ]
  },
  {
   "cell_type": "code",
   "execution_count": 12,
   "metadata": {
    "ExecuteTime": {
     "end_time": "2025-03-13T08:45:27.803240Z",
     "start_time": "2025-03-13T08:45:08.157621Z"
    }
   },
   "outputs": [
    {
     "name": "stdout",
     "output_type": "stream",
     "text": [
      "1\n",
      "{'producer': 'pdfTeX-1.40.21',\n",
      " 'creator': 'LaTeX with hyperref',\n",
      " 'creationdate': '2021-06-22T01:27:10+00:00',\n",
      " 'author': '',\n",
      " 'keywords': '',\n",
      " 'moddate': '2021-06-22T01:27:10+00:00',\n",
      " 'ptex.fullbanner': 'This is pdfTeX, Version 3.14159265-2.6-1.40.21 (TeX Live '\n",
      "                    '2020) kpathsea version 6.3.2',\n",
      " 'subject': '',\n",
      " 'title': '',\n",
      " 'trapped': 'False',\n",
      " 'total_pages': 16,\n",
      " 'source': './example_data/layout-parser-paper.pdf',\n",
      " 'num_pages': 16}\n"
     ]
    }
   ],
   "source": [
    "loader = ZeroxPDFLoader(\n",
    "    \"./example_data/layout-parser-paper.pdf\",\n",
    "    mode=\"single\",\n",
    ")\n",
    "docs = loader.load()\n",
    "print(len(docs))\n",
    "pprint.pp(docs[0].metadata)"
   ]
  },
  {
   "cell_type": "markdown",
   "metadata": {},
   "source": [
    "Logically, in this mode, the ‘page_number’ metadata disappears. Here's how to clearly identify where pages end in the text flow :"
   ]
  },
  {
   "cell_type": "markdown",
   "metadata": {},
   "source": [
    "### Add a custom *pages_delimiter* to identify where are ends of pages in *single* mode:"
   ]
  },
  {
   "cell_type": "code",
   "execution_count": 13,
   "metadata": {
    "ExecuteTime": {
     "end_time": "2025-03-13T08:47:15.278553Z",
     "start_time": "2025-03-13T08:45:27.916120Z"
    }
   },
   "outputs": [
    {
     "name": "stdout",
     "output_type": "stream",
     "text": [
      "# LayoutParser: A Unified Toolkit for Deep Learning Based Document Image Analysis\n",
      "\n",
      "Zejian Shen¹, Ruochen Zhang², Melissa Dell³, Benjamin Charles Germain Lee⁴, Jacob Carlson³, and Weining Li⁵\n",
      "\n",
      "¹ Allen Institute for AI  \n",
      "shannon@allenai.org  \n",
      "² Brown University  \n",
      "ruohen_zhang@brown.edu  \n",
      "³ Harvard University  \n",
      "{melissadell, jacob.carlson}@fas.harvard.edu  \n",
      "⁴ University of Washington  \n",
      "bgcl@cs.washington.edu  \n",
      "⁵ University of Waterloo  \n",
      "w422ii@uwaterloo.ca  \n",
      "\n",
      "**Abstract.** Recent advances in document image analysis (DIA) have been primarily driven by the application of neural networks. Ideally, research outcomes could be easily deployed in production and extended for further investigation. However, various factors like loosely organized codebases and sophisticated model configurations complicate the easy reuse of important innovations by a wide audience. Though there have been on-going efforts to improve reusability and simplify deep learning (DL) model development in disciplines like natural language processing and computer vision, none of them are optimized for challenges in the domain of DIA. This represents a major gap in the existing toolkit, as DIA is central to academic research across a wide range of disciplines in the social sciences and humanities. This paper introduces LayoutParser, an open-source library for streamlining the usage of DL in DIA research and applications. The core LayoutParser library comes with a set of simple and intuitive interfaces for applying and customizing DL models for layout detection, character recognition, and many other document processing tasks. To promote extensibility, LayoutParser also incorporates a community platform for sharing both pre-trained models and full document digitization pipelines. We demonstrate that LayoutParser is helpful for both lightweight and large-scale digitization pipelines in real-world use cases. The library is publicly available at [https://layout-parser.github.io](https://layout-parser.github.io).\n",
      "\n",
      "**Keywords:** Document Image Analysis · Deep Learning · Layout Analysis · Character Recognition · Open Source library · Toolkit. \n",
      "\n",
      "## 1 Introduction\n",
      "\n",
      "Deep Learning (DL)-based approaches are the state-of-the-art for a wide range of document image analysis (DIA) tasks including document image classification [11]\n",
      "-------THIS IS A CUSTOM END OF PAGE-------\n",
      "[37], layout detection [38, 22], table detection [26], and scene text detection [4]. A generalized learning-based framework dramatically reduces the need for the manual specification of complicated rules, which is the status quo with traditional methods. DL has the potential to transform DIA pipelines and benefit a broad spectrum of large-scale document digitization projects.\n",
      "\n",
      "However, there are several practical difficulties for taking advantages of recent advances in DL-based methods: 1) DL models are notoriously convoluted for reuse and extension. Existing models are developed using distinct frameworks like TensorFlow [1] or PyTorch [24], and the high-level parameters can be obfuscated by implementation details [8]. It can be a time-consuming and frustrating experience to debug, reproduce, and adapt existing models for DIA, and many researchers who could benefit the most from using these methods lack the technical background to implement them from scratch. 2) Document images contain diverse and disparate patterns across domains, and customized training is often required to achieve a desirable detection accuracy. Currently there is no full-fledged infrastructure for easily curating the target document image datasets and fine-tuning or re-training the models. 3) DIA usually requires a sequence of models and other processing to obtain the final outputs. Often research teams use DL models and then perform further document analyses in separate processes, and these pipelines are not documented in any central location (and often not documented at all). This makes it difficult for research teams to learn about how to reinvent the DIA wheel.\n",
      "\n",
      "LayoutParser provides a unified toolkit to support DL-based document image analysis and processing. To address the aforementioned challenges, LayoutParser is built with the following components:\n",
      "\n",
      "1. An off-the-shelf toolkit for applying DL models for layout detection, character recognition, and other DIA tasks (Section 3)\n",
      "2. A rich repository of pre-trained neural network models (Model Zoo) that underlies the off-the-shelf usage\n",
      "3. Comprehensive tools for efficient document image data annotation and model tuning to support different levels of customization\n",
      "4. A DL model hub and community platform for the easy sharing, distribution, and discussion of DIA models and pipelines, to promote reusability, reproducibility, and extensibility (Section 4)\n",
      "\n",
      "The library implements simple and intuitive Python APIs without sacrificing generalizability and versatility, and can be easily installed via pip. Its convenient functions for handling document image data can be seamlessly integrated with existing DIA pipelines. With detailed documentations and carefully curated tutorials, we hope this tool will benefit a variety of end-users, and will lead to advances in applications in both industry and academic research.\n",
      "\n",
      "LayoutParser is well aligned with recent efforts for improving DL model reusability in other disciplines like natural language processing [8, 34] and computer vision [35], but with a focus on unique challenges in DIA. We show LayoutParser can be applied in sophisticated and large-scale digitization projects.\n",
      "-------THIS IS A CUSTOM END OF PAGE-------\n",
      "2 Related Work\n",
      "Recently, various DL models and datasets have been developed for layout analysis tasks. The dhSegment utilizes fully convolutional networks for segmentation tasks on histor\n"
     ]
    }
   ],
   "source": [
    "loader = ZeroxPDFLoader(\n",
    "    \"./example_data/layout-parser-paper.pdf\",\n",
    "    mode=\"single\",\n",
    "    pages_delimiter=\"\\n-------THIS IS A CUSTOM END OF PAGE-------\\n\",\n",
    ")\n",
    "docs = loader.load()\n",
    "print(docs[0].page_content[:5780])"
   ]
  },
  {
   "cell_type": "markdown",
   "metadata": {},
   "source": [
    "This could simply be \\n, or \\f to clearly indicate a page change, or \\<!-- PAGE BREAK --> for seamless injection in a Markdown viewer without a visual effect."
   ]
  },
  {
   "cell_type": "markdown",
   "metadata": {},
   "source": [
    "# Extract images from the PDF"
   ]
  },
  {
   "cell_type": "markdown",
   "metadata": {},
   "source": [
    "You can extract images from your PDFs with a choice of three different solutions:\n",
    "- rapidOCR (lightweight Optical Character Recognition tool)\n",
    "- Tesseract (OCR tool with high precision)\n",
    "- Multimodal language model\n",
    "\n",
    "Because Zerox uses a multimodal LLM, it is responsible for OCR analysis. Nevertheless, to maintain compatibility with other parsers, we simulate image_parsers where possible.\n",
    "\n",
    "You can tune these functions to choose the output format of the extracted images among *html*, *markdown* or *text*\n",
    "\n",
    "The result is inserted between the last and the second-to-last paragraphs of text of the page."
   ]
  },
  {
   "cell_type": "code",
   "execution_count": 14,
   "metadata": {
    "ExecuteTime": {
     "end_time": "2025-03-13T08:47:17.434520Z",
     "start_time": "2025-03-13T08:47:15.617062Z"
    }
   },
   "outputs": [
    {
     "name": "stdout",
     "output_type": "stream",
     "text": [
      "Note: you may need to restart the kernel to use updated packages.\n"
     ]
    }
   ],
   "source": [
    "%pip install -qU rapidocr-onnxruntime"
   ]
  },
  {
   "cell_type": "code",
   "execution_count": 15,
   "metadata": {
    "ExecuteTime": {
     "end_time": "2025-03-13T08:47:36.222510Z",
     "start_time": "2025-03-13T08:47:17.450679Z"
    }
   },
   "outputs": [
    {
     "name": "stdout",
     "output_type": "stream",
     "text": [
      "6 Z. Shen et al.\n",
      "\n",
      "![](https://example.com/image.png)\n",
      "Fig. 2: The relationship between the three types of layout data structures. \n",
      "Coordinate supports three kinds of variation; TextBlock consists of the coordinate information and extra features like block text, types, and reading orders; a Layout object is a list of all possible layout elements, including other Layout objects. They all support the same set of transformation and operation APIs for maximum flexibility.\n",
      "\n",
      "Shown in Table 1, LayoutParser currently hosts 9 pre-trained models trained on 5 different datasets. Description of the training dataset is provided alongside with the trained models such that users can quickly identify the most suitable models for their tasks. Additionally, when such a model is not readily available, LayoutParser also supports training customized layout models and community sharing of the models (detailed in Section 3.5).\n",
      "\n",
      "3.2 Layout Data Structures\n",
      "\n",
      "A critical feature of LayoutParser is the implementation of a series of data structures and operations that can be used to efficiently process and manipulate the layout elements. In document image analysis pipelines, various post-processing on the layout analysis model outputs is usually required to obtain the final outputs. Traditionally, this requires exporting DL model outputs and then loading the results into other pipelines. All model outputs from LayoutParser will be stored in carefully engineered data types optimized for further processing, which makes it possible to build an end-to-end document digitization pipeline within LayoutParser. There are three key components in the data structure, namely the Coordinate system, the TextBlock, and the Layout. They provide different levels of abstraction for the layout data, and a set of APIs are supported for transformations or operations on these classes.\n"
     ]
    }
   ],
   "source": [
    "from langchain_community.document_loaders.parsers import RapidOCRBlobParser\n",
    "\n",
    "loader = ZeroxPDFLoader(\n",
    "    \"./example_data/layout-parser-paper.pdf\",\n",
    "    mode=\"page\",\n",
    "    images_inner_format=\"markdown-img\",\n",
    "    images_parser=RapidOCRBlobParser(),\n",
    ")\n",
    "docs = loader.load()\n",
    "\n",
    "print(docs[5].page_content)"
   ]
  },
  {
   "cell_type": "markdown",
   "metadata": {},
   "source": [
    "With this simulation, RapidOCR is not invoked."
   ]
  },
  {
   "cell_type": "markdown",
   "metadata": {},
   "source": [
    "### Extract images from the PDF with Tesseract:"
   ]
  },
  {
   "cell_type": "code",
   "execution_count": 16,
   "metadata": {
    "ExecuteTime": {
     "end_time": "2025-03-13T08:47:37.917861Z",
     "start_time": "2025-03-13T08:47:36.337522Z"
    }
   },
   "outputs": [
    {
     "name": "stdout",
     "output_type": "stream",
     "text": [
      "Note: you may need to restart the kernel to use updated packages.\n"
     ]
    }
   ],
   "source": [
    "%pip install -qU pytesseract"
   ]
  },
  {
   "cell_type": "code",
   "execution_count": 17,
   "metadata": {
    "ExecuteTime": {
     "end_time": "2025-03-13T08:48:11.447528Z",
     "start_time": "2025-03-13T08:47:37.950471Z"
    }
   },
   "outputs": [
    {
     "name": "stdout",
     "output_type": "stream",
     "text": [
      "6 Z. Shen et al.\n",
      "\n",
      "![The relationship between the three types of layout data structures.](path_to_image)\n",
      "\n",
      "Coordinate supports three kinds of variation; TextBlock consists of the coordinate information and extra features like block text, types, and reading orders; a Layout object is a list of all possible layout elements, including other Layout objects. They all support the same set of transformation and operation APIs for maximum flexibility.\n",
      "\n",
      "Shown in Table 1, LayoutParser currently hosts 9 pre-trained models trained on 5 different datasets. Description of the training dataset is provided alongside with the trained models such that users can quickly identify the most suitable models for their tasks. Additionally, when such a model is not readily available, LayoutParser also supports training customized layout models and community sharing of the models (detailed in Section 3.5).\n",
      "\n",
      "3.2 Layout Data Structures\n",
      "\n",
      "A critical feature of LayoutParser is the implementation of a series of data structures and operations that can be used to efficiently process and manipulate the layout elements. In document image analysis pipelines, various post-processing on the layout analysis model outputs is usually required to obtain the final outputs. Traditionally, this requires exporting DL model outputs and then loading the results into other pipelines. All model outputs from LayoutParser will be stored in carefully engineered data types optimized for further processing, which makes it possible to build an end-to-end document digitization pipeline within LayoutParser. There are three key components in the data structure, namely the Coordinate system, the TextBlock, and the Layout. They provide different levels of abstraction for the layout data, and a set of APIs are supported for transformations or operations on these classes.\n"
     ]
    }
   ],
   "source": [
    "from langchain_community.document_loaders.parsers import TesseractBlobParser\n",
    "\n",
    "loader = ZeroxPDFLoader(\n",
    "    \"./example_data/layout-parser-paper.pdf\",\n",
    "    mode=\"page\",\n",
    "    images_inner_format=\"html-img\",\n",
    "    images_parser=TesseractBlobParser(),\n",
    ")\n",
    "docs = loader.load()\n",
    "print(docs[5].page_content)"
   ]
  },
  {
   "cell_type": "markdown",
   "metadata": {},
   "source": [
    "With this simulation, Tesseract is not invoked."
   ]
  },
  {
   "cell_type": "markdown",
   "metadata": {},
   "source": [
    "### Extract images from the PDF with multimodal model:"
   ]
  },
  {
   "cell_type": "code",
   "execution_count": 18,
   "metadata": {
    "ExecuteTime": {
     "end_time": "2025-03-13T08:48:13.261108Z",
     "start_time": "2025-03-13T08:48:11.560188Z"
    }
   },
   "outputs": [
    {
     "name": "stdout",
     "output_type": "stream",
     "text": [
      "Note: you may need to restart the kernel to use updated packages.\n"
     ]
    }
   ],
   "source": [
    "%pip install -qU langchain_openai"
   ]
  },
  {
   "cell_type": "code",
   "execution_count": 19,
   "metadata": {
    "ExecuteTime": {
     "end_time": "2025-03-13T08:48:13.358860Z",
     "start_time": "2025-03-13T08:48:13.280561Z"
    }
   },
   "outputs": [
    {
     "data": {
      "text/plain": [
       "True"
      ]
     },
     "execution_count": 19,
     "metadata": {},
     "output_type": "execute_result"
    }
   ],
   "source": [
    "import os\n",
    "\n",
    "from dotenv import load_dotenv\n",
    "\n",
    "load_dotenv()"
   ]
  },
  {
   "cell_type": "code",
   "execution_count": 20,
   "metadata": {
    "ExecuteTime": {
     "end_time": "2025-03-13T08:48:13.385243Z",
     "start_time": "2025-03-13T08:48:13.379476Z"
    }
   },
   "outputs": [],
   "source": [
    "from getpass import getpass\n",
    "\n",
    "if not os.environ.get(\"OPENAI_API_KEY\"):\n",
    "    os.environ[\"OPENAI_API_KEY\"] = getpass(\"OpenAI API key =\")"
   ]
  },
  {
   "cell_type": "code",
   "execution_count": 21,
   "metadata": {
    "ExecuteTime": {
     "end_time": "2025-03-13T08:48:39.795277Z",
     "start_time": "2025-03-13T08:48:13.425691Z"
    }
   },
   "outputs": [
    {
     "name": "stdout",
     "output_type": "stream",
     "text": [
      "![Fig. 2: The relationship between the three types of layout data structures.](https://www.example.com)\n",
      "- **Coordinate** supports three kinds of variation;\n",
      "- **TextBlock** consists of the coordinate information and extra features like block text, types, and reading orders;\n",
      "- A **Layout** object is a list of all possible layout elements, including other Layout objects.\n",
      "- They all support the same set of transformation and operation APIs for maximum flexibility.\n",
      "\n",
      "Shown in Table 1, LayoutParser currently hosts 9 pre-trained models trained on 5 different datasets. Description of the training dataset is provided alongside with the trained models such that users can quickly identify the most suitable models for their tasks. Additionally, when such a model is not readily available, LayoutParser also supports training customized layout models and community sharing of the models (detailed in Section 3.5).\n",
      "\n",
      "### 3.2 Layout Data Structures\n",
      "\n",
      "A critical feature of LayoutParser is the implementation of a series of data structures and operations that can be used to efficiently process and manipulate the layout elements. In document image analysis pipelines, various post-processing on the layout analysis model outputs is usually required to obtain the final outputs. Traditionally, this requires exporting DL model outputs and then loading the results into other pipelines. All model outputs from LayoutParser will be stored in carefully engineered data types optimized for further processing, which makes it possible to build an end-to-end document digitization pipeline within LayoutParser. There are three key components in the data structure, namely the Coordinate system, the TextBlock, and the Layout. They provide different levels of abstraction for the layout data, and a set of APIs are supported for transformations or operations on these classes.\n"
     ]
    }
   ],
   "source": [
    "from langchain_community.document_loaders.parsers import LLMImageBlobParser\n",
    "from langchain_openai import ChatOpenAI\n",
    "\n",
    "loader = ZeroxPDFLoader(\n",
    "    \"./example_data/layout-parser-paper.pdf\",\n",
    "    mode=\"page\",\n",
    "    images_inner_format=\"markdown-img\",\n",
    "    images_parser=LLMImageBlobParser(model=ChatOpenAI(model=\"gpt-4o\", max_tokens=1024)),\n",
    ")\n",
    "docs = loader.load()\n",
    "print(docs[5].page_content)"
   ]
  },
  {
   "cell_type": "markdown",
   "metadata": {},
   "source": [
    "With this simulation, the format is injected into the prompt."
   ]
  },
  {
   "cell_type": "markdown",
   "metadata": {},
   "source": [
    "# Extract tables from the PDF"
   ]
  },
  {
   "cell_type": "markdown",
   "metadata": {},
   "source": [
    "With PyMUPDF you can extract tables from your PDFs in *html*, *markdown* or *csv* format :"
   ]
  },
  {
   "cell_type": "code",
   "execution_count": 22,
   "metadata": {
    "ExecuteTime": {
     "end_time": "2025-03-13T08:49:03.336306Z",
     "start_time": "2025-03-13T08:48:39.903502Z"
    }
   },
   "outputs": [
    {
     "name": "stdout",
     "output_type": "stream",
     "text": [
      "| Dataset       | Base Model | Large Model | Notes                                               |\n",
      "|---------------|------------|-------------|-----------------------------------------------------|\n",
      "| PubLayNet     | F / M      | M           | Layouts of modern scientific documents               |\n",
      "| PRImA         | F / M      | -           | Layouts of scanned modern magazines and scientific reports |\n",
      "| Newspaper     | F          | -           | Layouts of scanned US newspapers from the 20th century |\n",
      "| TableBank     | F          | F           | Table regions on modern scientific and business documents |\n",
      "| HJDataset     | F / M      | -           | Layouts of history Japanese documents                |\n",
      "\n",
      "For each dataset, we train several models of different sizes for different needs (the trade-off between accuracy vs. computational cost). For \"base model\" and \"large model\", we refer to using the ResNet 50 or ResNet 101 backbones respectively. One can train models of different architectures, like Faster R-CNN and Mask R-CNN. For example, an F in the Large Model column indicates it has a Faster R-CNN model trained using the ResNet backbone. The platform is maintained and a number of additions will be made to the model zoo in coming months.\n",
      "\n",
      "### 3.1 Layout Detection Models\n",
      "\n",
      "In LayoutParser, a layout model takes a document image as an input and generates a list of rectangular boxes for the target content regions. Different from traditional methods, it relies on deep convolutional neural networks rather than manually curated rules to identify content regions. It is formulated as an object detection problem and state-of-the-art models like Faster R-CNN yield prediction results of high accuracy and make it possible to build a concise, generalized interface for layout detection. LayoutParser, built upon Detectron2, provides a minimal API that can perform layout detection with only four lines of Python:\n",
      "\n",
      "```python\n",
      "import layoutparser as lp\n",
      "image = cv2.imread(\"image_file\")  # load images\n",
      "model = lp.Detectron2LayoutModel(\n",
      "    \"lp://PubLayNet/faster_rcnn_R_50_FPN_3x/config\"\n",
      ")\n",
      "layout = model.detect(image)\n",
      "```\n",
      "\n",
      "LayoutParser provides a wealth of pre-trained model weights using various datasets covering different languages, time periods, and document types. Due to domain shift, the prediction performance can notably drop when models are applied to target samples that are significantly different from the training dataset. As document structures and layouts vary greatly in different domains, it is important to select models trained on a dataset similar to the test samples. A semantic syntax is used for initializing the model weights in LayoutParser, using both the dataset name and model name lp://<dataset-name>/<model-architecture-name>.\n"
     ]
    }
   ],
   "source": [
    "loader = ZeroxPDFLoader(\n",
    "    \"./example_data/layout-parser-paper.pdf\",\n",
    "    mode=\"page\",\n",
    "    extract_tables=\"markdown\",\n",
    ")\n",
    "docs = loader.load()\n",
    "print(docs[4].page_content)"
   ]
  },
  {
   "cell_type": "markdown",
   "metadata": {},
   "source": [
    "## Working with Files\n",
    "\n",
    "Many document loaders involve parsing files. The difference between such loaders usually stems from how the file is parsed, rather than how the file is loaded. For example, you can use `open` to read the binary content of either a PDF or a markdown file, but you need different parsing logic to convert that binary data into text.\n",
    "\n",
    "As a result, it can be helpful to decouple the parsing logic from the loading logic, which makes it easier to re-use a given parser regardless of how the data was loaded.\n",
    "You can use this strategy to analyze different files, with the same parsing parameters."
   ]
  },
  {
   "cell_type": "code",
   "execution_count": 23,
   "metadata": {
    "ExecuteTime": {
     "end_time": "2025-03-13T08:49:25.942671Z",
     "start_time": "2025-03-13T08:49:03.450966Z"
    }
   },
   "outputs": [
    {
     "name": "stdout",
     "output_type": "stream",
     "text": [
      "# LayoutParser: A Unified Toolkit for Deep Learning Based Document Image Analysis\n",
      "\n",
      "Zejing Shen¹, Ruochen Zhang², Melissa Dell³, Benjamin Charles Germain Lee⁴, Jacob Carlson³, and Weining Li⁵\n",
      "\n",
      "¹ Allen Institute for AI  \n",
      "shannons@allenai.org  \n",
      "² Brown University  \n",
      "ruochen_zhang@brown.edu  \n",
      "³ Harvard University  \n",
      "{melissadell,jacob_carlson}@fas.harvard.edu  \n",
      "⁴ University of Washington  \n",
      "bgcl@cs.washington.edu  \n",
      "⁵ University of Waterloo  \n",
      "w422ii@uwaterloo.ca  \n",
      "\n",
      "**Abstract.** Recent advances in document image analysis (DIA) have been primarily driven by the application of neural networks. Ideally, research outcomes could be easily deployed in production and extended for further investigation. However, various factors like loosely organized codebases and sophisticated model configurations complicate the easy reuse of important innovations by a wide audience. Though there have been on-going efforts to improve reusability and simplify deep learning (DL) model development in disciplines like natural language processing and computer vision, none of them are optimized for challenges in the domain of DIA. This represents a major gap in the existing toolkit, as DIA is central to academic research across a wide range of disciplines in the social sciences and humanities. This paper introduces LayoutParser, an open-source library for streamlining the usage of DL in DIA research and applications. The core LayoutParser library comes with a set of simple and intuitive interfaces for applying and customizing DL models for layout detection, character recognition, and many other document processing tasks. To promote extensibility, LayoutParser also incorporates a community platform for sharing both pre-trained models and full document digitization pipelines. We demonstrate that LayoutParser is helpful for both lightweight and large-scale digitization pipelines in real-world use cases. The library is publicly available at https://layout-parser.github.io\n",
      "\n",
      "**Keywords:** Document Image Analysis · Deep Learning · Layout Analysis · Character Recognition · Open Source library · Toolkit.\n",
      "\n",
      "## 1 Introduction\n",
      "\n",
      "Deep Learning (DL)-based approaches are the state-of-the-art for a wide range of document image analysis (DIA) tasks including document image classification [11].\n",
      "{'producer': 'pdfTeX-1.40.21',\n",
      " 'creator': 'LaTeX with hyperref',\n",
      " 'creationdate': '2021-06-22T01:27:10+00:00',\n",
      " 'author': '',\n",
      " 'keywords': '',\n",
      " 'moddate': '2021-06-22T01:27:10+00:00',\n",
      " 'ptex.fullbanner': 'This is pdfTeX, Version 3.14159265-2.6-1.40.21 (TeX Live '\n",
      "                    '2020) kpathsea version 6.3.2',\n",
      " 'subject': '',\n",
      " 'title': '',\n",
      " 'trapped': 'False',\n",
      " 'total_pages': 16,\n",
      " 'source': 'example_data/layout-parser-paper.pdf',\n",
      " 'num_pages': 16,\n",
      " 'page': 0}\n"
     ]
    }
   ],
   "source": [
    "from langchain_community.document_loaders import FileSystemBlobLoader\n",
    "from langchain_community.document_loaders.generic import GenericLoader\n",
    "from langchain_community.document_loaders.parsers.pdf import ZeroxPDFParser\n",
    "\n",
    "loader = GenericLoader(\n",
    "    blob_loader=FileSystemBlobLoader(\n",
    "        path=\"./example_data/\",\n",
    "        glob=\"*.pdf\",\n",
    "    ),\n",
    "    blob_parser=ZeroxPDFParser(),\n",
    ")\n",
    "docs = loader.load()\n",
    "print(docs[0].page_content)\n",
    "pprint.pp(docs[0].metadata)"
   ]
  },
  {
   "cell_type": "markdown",
   "metadata": {},
   "source": [
    "It is possible to work with files from cloud storage."
   ]
  },
  {
   "cell_type": "code",
   "execution_count": null,
   "metadata": {},
   "outputs": [],
   "source": [
    "from langchain_community.document_loaders import CloudBlobLoader\n",
    "from langchain_community.document_loaders.generic import GenericLoader\n",
    "\n",
    "loader = GenericLoader(\n",
    "    blob_loader=CloudBlobLoader(\n",
    "        url=\"s3:/mybucket\",  # Supports s3://, az://, gs://, file:// schemes.\n",
    "        glob=\"*.pdf\",\n",
    "    ),\n",
    "    blob_parser=ZeroxPDFParser(),\n",
    ")\n",
    "docs = loader.load()\n",
    "print(docs[0].page_content)\n",
    "pprint.pp(docs[0].metadata)"
   ]
  },
  {
   "cell_type": "markdown",
   "metadata": {},
   "source": [
    "## API reference\n",
    "\n",
    "### `ZeroxPDFLoader`\n",
    "\n",
    "This loader class initializes with a file path and model type, and supports custom configurations via `zerox_kwargs` for handling Zerox-specific parameters.\n",
    "\n",
    "**Arguments**:\n",
    "- `file_path` (Union[str, Path]): Path to the PDF file.\n",
    "- `model` (str): Vision-capable model to use for processing in format `<provider>/<model>`.\n",
    "Some examples of valid values are:\n",
    "  - `model = \"gpt-4o-mini\" ## openai model`\n",
    "  - `model = \"azure/gpt-4o-mini\"`\n",
    "  - `model = \"gemini/gpt-4o-mini\"`\n",
    "  - `model=\"claude-3-opus-20240229\"`\n",
    "  - `model = \"vertex_ai/gemini-1.5-flash-001\"`\n",
    "  - See more details in [Zerox documentation](https://github.com/getomni-ai/zerox)\n",
    "  - Defaults to `\"gpt-4o-mini\".`\n",
    "- `**zerox_kwargs` (dict): Additional Zerox-specific parameters such as API key, endpoint, etc.\n",
    "  - See [Zerox documentation](https://github.com/getomni-ai/zerox)\n",
    "\n",
    "**Methods**:\n",
    "- `lazy_load`: Generates an iterator of `Document` instances, each representing a page of the PDF, along with metadata including page number and source.\n",
    "\n",
    "See full API documentaton [here](https://python.langchain.com/api_reference/community/document_loaders/langchain_community.document_loaders.pdf.ZeroxPDFLoader.html)"
   ]
  },
  {
   "cell_type": "code",
   "execution_count": null,
   "metadata": {},
   "outputs": [],
   "source": []
  }
 ],
 "metadata": {
  "kernelspec": {
   "display_name": "langchain-community",
   "language": "python",
   "name": "langchain-community"
  },
  "language_info": {
   "codemirror_mode": {
    "name": "ipython",
    "version": 3
   },
   "file_extension": ".py",
   "mimetype": "text/x-python",
   "name": "python",
   "nbconvert_exporter": "python",
   "pygments_lexer": "ipython3",
   "version": "3.11.11"
  }
 },
 "nbformat": 4,
 "nbformat_minor": 4
}
