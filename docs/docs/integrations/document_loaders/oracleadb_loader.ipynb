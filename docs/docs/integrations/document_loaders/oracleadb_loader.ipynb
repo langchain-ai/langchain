{
 "cells": [
  {
   "cell_type": "markdown",
   "metadata": {
    "collapsed": false,
    "jupyter": {
     "outputs_hidden": false
    }
   },
   "source": [
    "# Oracle Autonomous Database\n",
    "\n",
    "Oracle Autonomous Database is a cloud database that uses machine learning to automate database tuning, security, backups, updates, and other routine management tasks traditionally performed by DBAs.\n",
    "\n",
    "This notebook covers how to load documents from Oracle Autonomous Database.\n",
    "\n",
    "## Prerequisites\n",
    "1. Install python-oracledb:\n",
    "\n",
    "   `pip install oracledb`\n",
    "  \n",
    "   See [Installing python-oracledb](https://python-oracledb.readthedocs.io/en/latest/user_guide/installation.html).\n",
    "\n",
    "2. A database that python-oracledb's default 'Thin' mode can connected to. This is true of Oracle Autonomous Database, see [python-oracledb Architecture](https://python-oracledb.readthedocs.io/en/latest/user_guide/introduction.html#architecture).\n"
   ]
  },
  {
   "cell_type": "markdown",
   "metadata": {
    "collapsed": false,
    "jupyter": {
     "outputs_hidden": false
    }
   },
   "source": [
    "## Instructions"
   ]
  },
  {
   "cell_type": "code",
   "execution_count": null,
   "metadata": {
    "collapsed": false,
    "jupyter": {
     "outputs_hidden": false
    }
   },
   "outputs": [],
   "source": [
    "pip install oracledb"
   ]
  },
  {
   "cell_type": "code",
   "execution_count": null,
   "metadata": {
    "collapsed": false,
    "jupyter": {
     "outputs_hidden": false
    }
   },
   "outputs": [],
   "source": [
    "from langchain_community.document_loaders import OracleAutonomousDatabaseLoader\n",
    "from settings import s"
   ]
  },
  {
   "cell_type": "markdown",
   "metadata": {
    "collapsed": false,
    "jupyter": {
     "outputs_hidden": false
    }
   },
   "source": [
    "With mutual TLS authentication (mTLS), wallet_location and wallet_password parameters are required to create the connection. See python-oracledb documentation [Connecting to Oracle Cloud Autonomous Databases](https://python-oracledb.readthedocs.io/en/latest/user_guide/connection_handling.html#connecting-to-oracle-cloud-autonomous-databases)."
   ]
  },
  {
   "cell_type": "code",
   "execution_count": null,
   "metadata": {
    "collapsed": false,
    "jupyter": {
     "outputs_hidden": false
    }
   },
   "outputs": [],
   "source": [
    "SQL_QUERY = \"select prod_id, time_id from sh.costs fetch first 5 rows only\"\n",
    "\n",
    "doc_loader_1 = OracleAutonomousDatabaseLoader(\n",
    "    query=SQL_QUERY,\n",
    "    user=s.USERNAME,\n",
    "    password=s.PASSWORD,\n",
    "    schema=s.SCHEMA,\n",
    "    config_dir=s.CONFIG_DIR,\n",
    "    wallet_location=s.WALLET_LOCATION,\n",
    "    wallet_password=s.PASSWORD,\n",
    "    tns_name=s.TNS_NAME,\n",
    ")\n",
    "doc_1 = doc_loader_1.load()\n",
    "\n",
    "doc_loader_2 = OracleAutonomousDatabaseLoader(\n",
    "    query=SQL_QUERY,\n",
    "    user=s.USERNAME,\n",
    "    password=s.PASSWORD,\n",
    "    schema=s.SCHEMA,\n",
    "    connection_string=s.CONNECTION_STRING,\n",
    "    wallet_location=s.WALLET_LOCATION,\n",
    "    wallet_password=s.PASSWORD,\n",
    ")\n",
    "doc_2 = doc_loader_2.load()"
   ]
  },
  {
   "cell_type": "markdown",
   "metadata": {
    "collapsed": false,
    "jupyter": {
     "outputs_hidden": false
    }
   },
   "source": [
    "With 1-way TLS authentication, only the database credentials and connection string are required to establish a connection.\n",
    "The example below also shows passing bind variable values with the argument \"parameters\"."
   ]
  },
  {
   "cell_type": "code",
   "execution_count": null,
   "metadata": {
    "collapsed": false,
    "jupyter": {
     "outputs_hidden": false
    }
   },
   "outputs": [],
   "source": [
    "SQL_QUERY = \"select channel_id, channel_desc from sh.channels where channel_desc = :1 fetch first 5 rows only\"\n",
    "\n",
    "doc_loader_3 = OracleAutonomousDatabaseLoader(\n",
    "    query=SQL_QUERY,\n",
    "    user=s.USERNAME,\n",
    "    password=s.PASSWORD,\n",
    "    schema=s.SCHEMA,\n",
    "    config_dir=s.CONFIG_DIR,\n",
    "    tns_name=s.TNS_NAME,\n",
    "    parameters=[\"Direct Sales\"],\n",
    ")\n",
    "doc_3 = doc_loader_3.load()\n",
    "\n",
    "doc_loader_4 = OracleAutonomousDatabaseLoader(\n",
    "    query=SQL_QUERY,\n",
    "    user=s.USERNAME,\n",
    "    password=s.PASSWORD,\n",
    "    schema=s.SCHEMA,\n",
    "    connection_string=s.CONNECTION_STRING,\n",
    "    parameters=[\"Direct Sales\"],\n",
    ")\n",
    "doc_4 = doc_loader_4.load()"
   ]
  }
 ],
 "metadata": {
  "kernelspec": {
   "display_name": "Python 3 (ipykernel)",
   "language": "python",
   "name": "python3"
  },
  "language_info": {
   "codemirror_mode": {
    "name": "ipython",
    "version": 3
   },
   "file_extension": ".py",
   "mimetype": "text/x-python",
   "name": "python",
   "nbconvert_exporter": "python",
   "pygments_lexer": "ipython3",
   "version": "3.12.11"
  }
 },
 "nbformat": 4,
 "nbformat_minor": 4
}
