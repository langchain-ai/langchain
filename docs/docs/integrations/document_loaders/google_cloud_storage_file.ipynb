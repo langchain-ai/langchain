{
 "cells": [
  {
   "cell_type": "markdown",
   "id": "0ef41fd4",
   "metadata": {},
   "source": [
    "# Google Cloud Storage File\n",
    "\n",
    ">[Google Cloud Storage](https://en.wikipedia.org/wiki/Google_Cloud_Storage) is a managed service for storing unstructured data.\n",
    "\n",
    "This covers how to load document objects from an `Google Cloud Storage (GCS) file object (blob)`."
   ]
  },
  {
   "cell_type": "code",
   "execution_count": 2,
   "id": "93a4d0f1",
   "metadata": {
    "scrolled": true
   },
   "outputs": [],
   "source": [
    "%pip install --upgrade --quiet  langchain-google-community[gcs]"
   ]
  },
  {
   "cell_type": "code",
   "execution_count": 1,
   "id": "5cfb25c9",
   "metadata": {},
   "outputs": [],
   "source": [
    "from langchain_google_community import GCSFileLoader"
   ]
  },
  {
   "cell_type": "code",
   "execution_count": 3,
   "id": "633dc839",
   "metadata": {},
   "outputs": [],
   "source": [
    "loader = GCSFileLoader(project_name=\"aist\", bucket=\"testing-hwc\", blob=\"fake.docx\")"
   ]
  },
  {
   "cell_type": "code",
   "execution_count": 4,
   "id": "a863467d",
   "metadata": {},
   "outputs": [
    {
     "name": "stderr",
     "output_type": "stream",
     "text": [
      "/Users/harrisonchase/workplace/langchain/.venv/lib/python3.10/site-packages/google/auth/_default.py:83: UserWarning: Your application has authenticated using end user credentials from Google Cloud SDK without a quota project. You might receive a \"quota exceeded\" or \"API not enabled\" error. We recommend you rerun `gcloud auth application-default login` and make sure a quota project is added. Or you can use service accounts instead. For more information about service accounts, see https://cloud.google.com/docs/authentication/\n",
      "  warnings.warn(_CLOUD_SDK_CREDENTIALS_WARNING)\n"
     ]
    },
    {
     "data": {
      "text/plain": [
       "[Document(page_content='Lorem ipsum dolor sit amet.', lookup_str='', metadata={'source': '/var/folders/y6/8_bzdg295ld6s1_97_12m4lr0000gn/T/tmp3srlf8n8/fake.docx'}, lookup_index=0)]"
      ]
     },
     "execution_count": 4,
     "metadata": {},
     "output_type": "execute_result"
    }
   ],
   "source": [
    "loader.load()"
   ]
  },
  {
   "cell_type": "markdown",
   "id": "41c8a46f",
   "metadata": {},
   "source": [
    "If you want to use an alternative loader, you can provide a custom function, for example:"
   ]
  },
  {
   "cell_type": "code",
   "execution_count": null,
   "id": "eba3002d",
   "metadata": {},
   "outputs": [],
   "source": [
    "from langchain_community.document_loaders import PyPDFLoader\n",
    "\n",
    "\n",
    "def load_pdf(file_path):\n",
    "    return PyPDFLoader(file_path)\n",
    "\n",
    "\n",
    "loader = GCSFileLoader(\n",
    "    project_name=\"aist\", bucket=\"testing-hwc\", blob=\"fake.pdf\", loader_func=load_pdf\n",
    ")"
   ]
  }
 ],
 "metadata": {
  "kernelspec": {
   "display_name": "Python 3 (ipykernel)",
   "language": "python",
   "name": "python3"
  },
  "language_info": {
   "codemirror_mode": {
    "name": "ipython",
    "version": 3
   },
   "file_extension": ".py",
   "mimetype": "text/x-python",
   "name": "python",
   "nbconvert_exporter": "python",
   "pygments_lexer": "ipython3",
   "version": "3.10.6"
  }
 },
 "nbformat": 4,
 "nbformat_minor": 5
}
