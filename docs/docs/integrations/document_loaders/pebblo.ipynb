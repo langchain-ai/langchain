{
 "cells": [
  {
   "cell_type": "markdown",
   "metadata": {},
   "source": [
    "# Pebblo Safe DocumentLoader\n",
    "\n",
    "> [Pebblo](https://daxa-ai.github.io/pebblo/) enables developers to safely load data and promote their Gen AI app to deployment without worrying about the organization’s compliance and security requirements. The project identifies semantic topics and entities found in the loaded data and summarizes them on the UI or a PDF report.\n",
    "\n",
    "Pebblo has two components.\n",
    "\n",
    "1. Pebblo Safe DocumentLoader for Langchain\n",
    "1. Pebblo Server\n",
    "\n",
    "This document describes how to augment your existing Langchain DocumentLoader with Pebblo Safe DocumentLoader to get deep data visibility on the types of Topics and Entities ingested into the Gen-AI Langchain application. For details on `Pebblo Server` see this [pebblo server](https://daxa-ai.github.io/pebblo/daemon) document.\n",
    "\n",
    "Pebblo Safeloader enables safe data ingestion for Langchain `DocumentLoader`. This is done by wrapping the document loader call with `Pebblo Safe DocumentLoader`.\n",
    "\n",
    "Note: To configure pebblo server on some url other that pebblo's default (localhost:8000) url, put the correct URL in `PEBBLO_CLASSIFIER_URL` env variable. This is configurable using the `classifier_url` keyword argument as well. Ref: [server-configurations](https://daxa-ai.github.io/pebblo/config)\n",
    "\n",
    "#### How to Pebblo enable Document Loading?\n",
    "\n",
    "Assume a Langchain RAG application snippet using `CSVLoader` to read a CSV document for inference.\n",
    "\n",
    "Here is the snippet of Document loading using `CSVLoader`."
   ]
  },
  {
   "cell_type": "code",
   "execution_count": null,
   "metadata": {},
   "outputs": [],
   "source": [
    "from langchain_community.document_loaders import CSVLoader\n",
    "\n",
    "loader = CSVLoader(\"data/corp_sens_data.csv\")\n",
    "documents = loader.load()\n",
    "print(documents)"
   ]
  },
  {
   "cell_type": "markdown",
   "metadata": {},
   "source": [
    "The Pebblo SafeLoader can be enabled with few lines of code change to the above snippet."
   ]
  },
  {
   "cell_type": "code",
   "execution_count": null,
   "metadata": {},
   "outputs": [],
   "source": [
    "from langchain_community.document_loaders import CSVLoader, PebbloSafeLoader\n",
    "\n",
    "loader = PebbloSafeLoader(\n",
    "    CSVLoader(\"data/corp_sens_data.csv\"),\n",
    "    name=\"acme-corp-rag-1\",  # App name (Mandatory)\n",
    "    owner=\"Joe Smith\",  # Owner (Optional)\n",
    "    description=\"Support productivity RAG application\",  # Description (Optional)\n",
    ")\n",
    "documents = loader.load()\n",
    "print(documents)"
   ]
  },
  {
   "cell_type": "markdown",
   "metadata": {},
   "source": [
    "### Send semantic topics and identities to Pebblo cloud server\n",
    "\n",
    "To send semantic data to pebblo-cloud, pass api-key to PebbloSafeLoader as an argument or alternatively, put the api-key in `PEBBLO_API_KEY` environment variable."
   ]
  },
  {
   "cell_type": "code",
   "execution_count": null,
   "metadata": {},
   "outputs": [],
   "source": [
    "from langchain_community.document_loaders import CSVLoader, PebbloSafeLoader\n",
    "\n",
    "loader = PebbloSafeLoader(\n",
    "    CSVLoader(\"data/corp_sens_data.csv\"),\n",
    "    name=\"acme-corp-rag-1\",  # App name (Mandatory)\n",
    "    owner=\"Joe Smith\",  # Owner (Optional)\n",
    "    description=\"Support productivity RAG application\",  # Description (Optional)\n",
    "    api_key=\"my-api-key\",  # API key (Optional, can be set in the environment variable PEBBLO_API_KEY)\n",
    ")\n",
    "documents = loader.load()\n",
    "print(documents)"
   ]
  },
  {
   "cell_type": "markdown",
   "metadata": {},
   "source": [
    "### Add semantic topics and identities to loaded metadata\n",
    "\n",
    "To add semantic topics and sematic entities to metadata of loaded documents, set load_semantic to True as an argument or alternatively, define a new environment variable `PEBBLO_LOAD_SEMANTIC`, and setting it to True."
   ]
  },
  {
   "cell_type": "code",
   "execution_count": null,
   "metadata": {},
   "outputs": [],
   "source": [
    "from langchain_community.document_loaders import CSVLoader, PebbloSafeLoader\n",
    "\n",
    "loader = PebbloSafeLoader(\n",
    "    CSVLoader(\"data/corp_sens_data.csv\"),\n",
    "    name=\"acme-corp-rag-1\",  # App name (Mandatory)\n",
    "    owner=\"Joe Smith\",  # Owner (Optional)\n",
    "    description=\"Support productivity RAG application\",  # Description (Optional)\n",
    "    api_key=\"my-api-key\",  # API key (Optional, can be set in the environment variable PEBBLO_API_KEY)\n",
    "    load_semantic=True,  # Load semantic data (Optional, default is False, can be set in the environment variable PEBBLO_LOAD_SEMANTIC)\n",
    ")\n",
    "documents = loader.load()\n",
    "print(documents[0].metadata)"
   ]
  },
  {
   "cell_type": "markdown",
   "metadata": {},
   "source": [
    "### Anonymize the snippets to redact all PII details\n",
    "\n",
    "Set `anonymize_snippets` to `True` to anonymize all personally identifiable information (PII) from the snippets going into VectorDB and the generated reports.\n",
    "\n",
    "> Note: The _Pebblo Entity Classifier_ effectively identifies personally identifiable information (PII) and is continuously evolving. While its recall is not yet 100%, it is steadily improving.\n",
    "> For more details, please refer to the [_Pebblo Entity Classifier docs_](https://daxa-ai.github.io/pebblo/entityclassifier/)"
   ]
  },
  {
   "cell_type": "code",
   "execution_count": null,
   "metadata": {},
   "outputs": [],
   "source": [
    "from langchain_community.document_loaders import CSVLoader, PebbloSafeLoader\n",
    "\n",
    "loader = PebbloSafeLoader(\n",
    "    CSVLoader(\"data/corp_sens_data.csv\"),\n",
    "    name=\"acme-corp-rag-1\",  # App name (Mandatory)\n",
    "    owner=\"Joe Smith\",  # Owner (Optional)\n",
    "    description=\"Support productivity RAG application\",  # Description (Optional)\n",
    "    anonymize_snippets=True,  # Whether to anonymize entities in the PDF Report (Optional, default=False)\n",
    ")\n",
    "documents = loader.load()\n",
    "print(documents[0].metadata)"
   ]
  },
  {
   "cell_type": "code",
   "execution_count": null,
   "metadata": {},
   "outputs": [],
   "source": []
  }
 ],
 "metadata": {
  "kernelspec": {
   "display_name": ".venv",
   "language": "python",
   "name": "python3"
  },
  "language_info": {
   "codemirror_mode": {
    "name": "ipython",
    "version": 3
   },
   "file_extension": ".py",
   "mimetype": "text/x-python",
   "name": "python",
   "nbconvert_exporter": "python",
   "pygments_lexer": "ipython3",
   "version": "3.10.13"
  }
 },
 "nbformat": 4,
 "nbformat_minor": 2
}
