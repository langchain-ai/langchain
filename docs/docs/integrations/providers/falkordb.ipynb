{
 "cells": [
  {
   "cell_type": "markdown",
   "metadata": {},
   "source": [
    "# FalkorDB\n",
    "\n",
    ">What is `FalkorDB`?\n",
    "\n",
    ">- FalkorDB is an `open-source database management system` that specializes in graph database technology.\n",
    ">- FalkorDB allows you to represent and store data in nodes and edges, making it ideal for handling connected data and relationships.\n",
    ">- FalkorDB Supports OpenCypher query language with proprietary extensions, making it easy to interact with and query your graph data.\n",
    ">- With FalkorDB, you can achieve high-performance `graph traversals and queries`, suitable for production-level systems.\n",
    "\n",
    ">Get started with FalkorDB by visiting [their website](https://docs.falkordb.com/)."
   ]
  },
  {
   "cell_type": "markdown",
   "metadata": {},
   "source": [
    "## Installation and Setup\n",
    "\n",
    "- Install the Python SDK with `pip install falkordb langchain-falkordb`"
   ]
  },
  {
   "cell_type": "markdown",
   "metadata": {},
   "source": [
    "## VectorStore\n",
    "\n",
    "The FalkorDB vector index is used as a vectorstore,\n",
    "whether for semantic search or example selection.\n",
    "\n",
    "```python\n",
    "from langchain_community.vectorstores.falkordb_vector import FalkorDBVector\n",
    "```\n",
    "or \n",
    "\n",
    "```python\n",
    "from langchain_falkordb.vectorstore import FalkorDBVector\n",
    "```\n",
    "\n",
    "See a [usage example](/docs/integrations/vectorstores/falkordbvector.ipynb)"
   ]
  },
  {
   "cell_type": "markdown",
   "metadata": {},
   "source": [
    "## Memory\n",
    "\n",
    "See a [usage example](/docs/integrations/memory/falkordb_chat_message_history.ipynb).\n",
    "\n",
    "```python\n",
    "from langchain_falkordb.message_history import (\n",
    "    FalkorDBChatMessageHistory,\n",
    ")\n",
    "```"
   ]
  }
 ],
 "metadata": {
  "language_info": {
   "name": "python"
  }
 },
 "nbformat": 4,
 "nbformat_minor": 2
}
