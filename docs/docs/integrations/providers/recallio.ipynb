{
 "cells": [
  {
   "cell_type": "markdown",
   "metadata": {},
   "source": [
    "# Recallio\n",
    "\n",
    "[Recallio](https://recallio.ai/) is a powerfull API allowing to store, index, and retrieve application “memories” with built-in fact extraction, dynamic summaries, reranked recall, and a full knowledge-graph layer.\n",
    "\n",
    "\n",
    "## Installation\n",
    "\n",
    "```bash\n",
    "pip install langchain-recallio\n",
    "```\n",
    "\n",
    "```python\n",
    "from langchain_recallio.memory import RecallioMemory\n",
    "```"
   ]
  }
 ],
 "metadata": {
  "language_info": {
   "name": "python"
  }
 },
 "nbformat": 4,
 "nbformat_minor": 2
}
