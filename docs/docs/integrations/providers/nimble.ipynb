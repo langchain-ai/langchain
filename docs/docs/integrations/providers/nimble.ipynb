{
 "cells": [
  {
   "cell_type": "raw",
   "id": "afaf8039",
   "metadata": {
    "id": "afaf8039"
   },
   "source": [
    "---\n",
    "sidebar_label: Nimble\n",
    "---"
   ]
  },
  {
   "cell_type": "markdown",
   "id": "72ee0c4b-9764-423a-9dbf-95129e185210",
   "metadata": {
    "id": "72ee0c4b-9764-423a-9dbf-95129e185210"
   },
   "source": [
    "# Nimble\n",
    "\n",
    "  [Nimble](https://www.linkedin.com/company/nimbledata) is the first business external data platform, making data decision-making easier than ever, with our award-winning AI-powered data structuring technology Nimble connects business users with the public web knowledge.\n",
    "We empower businesses with mission-critical real-time external data to unlock advanced business intelligence, price comparison, and other public data for sales and marketing. We translate data into immediate business value.\n",
    "\n",
    "If you'd like to learn more about Nimble, visit us at [nimbleway.com](https://www.nimbleway.com/).\n",
    "\n",
    "\n",
    "## Retrievers:"
   ]
  },
  {
   "cell_type": "markdown",
   "source": "### NimbleSearchRetriever",
   "metadata": {
    "id": "AuMFgVFrKbNH"
   },
   "id": "AuMFgVFrKbNH"
  },
  {
   "cell_type": "markdown",
   "source": [
    "Enables developers to build RAG applications and AI Agents that can search, access, and retrieve online information from anywhere on the web.\n",
    "\n",
    "We need to install the `langchain-nimble` python package."
   ],
   "metadata": {
    "id": "sFlPjZX9KdK6"
   },
   "id": "sFlPjZX9KdK6"
  },
  {
   "metadata": {},
   "cell_type": "code",
   "outputs": [],
   "execution_count": null,
   "source": "%pip install -U langchain-nimble",
   "id": "65f237c852aa3885"
  },
  {
   "metadata": {},
   "cell_type": "markdown",
   "source": "See a [usage example](/docs/integrations/retrievers/nimble/).",
   "id": "77bd7b9a6a8e381b"
  },
  {
   "metadata": {},
   "cell_type": "markdown",
   "source": [
    "```python\n",
    "from langchain_nimble import NimbeSearchRetriever\n",
    "```"
   ],
   "id": "511f9d569c21a5d2"
  },
  {
   "cell_type": "markdown",
   "source": "Note that authentication is required, please refer to the [Setup section in the documentation](/docs/integrations/retrievers/nimble/#setup).",
   "metadata": {
    "id": "WfwnI_RS8PO5"
   },
   "id": "WfwnI_RS8PO5"
  }
 ],
 "metadata": {
  "kernelspec": {
   "display_name": "Python 3 (ipykernel)",
   "language": "python",
   "name": "python3"
  },
  "language_info": {
   "codemirror_mode": {
    "name": "ipython",
    "version": 3
   },
   "file_extension": ".py",
   "mimetype": "text/x-python",
   "name": "python",
   "nbconvert_exporter": "python",
   "pygments_lexer": "ipython3",
   "version": "3.10.4"
  },
  "colab": {
   "provenance": []
  }
 },
 "nbformat": 4,
 "nbformat_minor": 5
}
