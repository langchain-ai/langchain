{
 "cells": [
  {
   "cell_type": "markdown",
   "metadata": {},
   "source": [
    "# Contextual AI\n",
    "\n",
    "Contextual AI provides state-of-the-art RAG components designed specifically for accurate and reliable enterprise AI applications. Our LangChain integration exposes standalone API endpoints for our specialized models:\n",
    "\n",
    "- Grounded Language Model (GLM): The world's most grounded language model, engineered to minimize hallucinations by prioritizing faithfulness to retrieved knowledge. GLM delivers exceptional factual accuracy with inline attributions, making it ideal for enterprise RAG and agentic applications where reliability is critical.\n",
    "\n",
    "- Instruction-Following Reranker: The first reranker that follows custom instructions to intelligently prioritize documents based on specific criteria like recency, source, or document type. Outperforming competitors on industry benchmarks, our reranker resolves conflicting information challenges in enterprise knowledge bases.\n",
    "\n",
    "Founded by the inventors of RAG technology, Contextual AI's specialized components help innovative teams accelerate the development of production-ready RAG agents that deliver responses with exceptional accuracy.\n",
    "\n",
    "## Grounded Language Model (GLM)\n",
    "\n",
    "The Grounded Language Model (GLM) is engineered specifically to minimize hallucinations in enterprise RAG and agentic applications. The GLM delivers:\n",
    "\n",
    "- Strong performance with 88% factual accuracy on the FACTS benchmark ([See benchmark results](https://venturebeat.com/ai/contextual-ais-new-ai-model-crushes-gpt-4o-in-accuracy-heres-why-it-matters/))\n",
    "- Responses strictly grounded in provided knowledge sources with inline attributions ([Read product details](https://contextual.ai/blog/introducing-grounded-language-model/))\n",
    "- Precise source citations integrated directly within generated responses\n",
    "- Prioritization of retrieved context over parametric knowledge ([View technical overview](https://contextual.ai/blog/platform-benchmarks-2025/))\n",
    "- Clear acknowledgment of uncertainty when information is unavailable\n",
    "\n",
    "GLM serves as a drop-in replacement for general-purpose LLMs in RAG pipelines, dramatically improving reliability for mission-critical enterprise applications.\n",
    "\n",
    "## Instruction-Following Reranker\n",
    "\n",
    "The world's first Instruction-Following Reranker revolutionizes document ranking with unprecedented control and accuracy. Key capabilities include:\n",
    "\n",
    "- Natural language instructions to prioritize documents based on recency, source, metadata, and more ([See how it works](https://contextual.ai/blog/introducing-instruction-following-reranker/))\n",
    "- Superior performance on the BEIR benchmark with a score of 61.2, outperforming competitors by significant margins ([View benchmark data](https://contextual.ai/blog/platform-benchmarks-2025/))\n",
    "- Intelligent resolution of conflicting information from multiple knowledge sources\n",
    "- Seamless integration as a drop-in replacement for existing rerankers\n",
    "- Dynamic control over document ranking through natural language commands\n",
    "\n",
    "The reranker excels at handling enterprise knowledge bases with potentially contradictory information, allowing you to specify exactly which sources should take precedence in various scenarios.\n",
    "\n",
    "## Using Contextual AI with LangChain\n",
    "\n",
    "See details [here](/docs/integrations/chat/contextual).\n",
    "\n",
    "This integration allows you to easily incorporate Contextual AI's GLM and Instruction-Following Reranker into your LangChain workflows. The GLM ensures your applications deliver strictly grounded responses, while the reranker significantly improves retrieval quality by intelligently prioritizing the most relevant documents.\n",
    "\n",
    "Whether you're building applications for regulated industries or security-conscious environments, Contextual AI provides the accuracy, control, and reliability your enterprise use cases demand.\n",
    "\n",
    "Get started with a free trial today and experience the most grounded language model and instruction-following reranker for enterprise AI applications."
   ]
  },
  {
   "cell_type": "markdown",
   "metadata": {},
   "source": [
    "### Grounded Language Model"
   ]
  },
  {
   "cell_type": "code",
   "execution_count": null,
   "metadata": {
    "id": "y8ku6X96sebl"
   },
   "outputs": [
    {
     "name": "stdout",
     "output_type": "stream",
     "text": [
      "According to the information available, there are two types of cats in the world:\n",
      "\n",
      "1. Good cats\n",
      "2. Best cats\n"
     ]
    }
   ],
   "source": [
    "# Integrating the Grounded Language Model\n",
    "import getpass\n",
    "import os\n",
    "\n",
    "from langchain_contextual import ChatContextual\n",
    "\n",
    "# Set credentials\n",
    "if not os.getenv(\"CONTEXTUAL_AI_API_KEY\"):\n",
    "    os.environ[\"CONTEXTUAL_AI_API_KEY\"] = getpass.getpass(\n",
    "        \"Enter your Contextual API key: \"\n",
    "    )\n",
    "\n",
    "# initialize Contextual llm\n",
    "llm = ChatContextual(\n",
    "    model=\"v1\",\n",
    "    api_key=\"\",\n",
    ")\n",
    "# include a system prompt (optional)\n",
    "system_prompt = \"You are a helpful assistant that uses all of the provided knowledge to answer the user's query to the best of your ability.\"\n",
    "\n",
    "# provide your own knowledge from your knowledge-base here in an array of string\n",
    "knowledge = [\n",
    "    \"There are 2 types of dogs in the world: good dogs and best dogs.\",\n",
    "    \"There are 2 types of cats in the world: good cats and best cats.\",\n",
    "]\n",
    "\n",
    "# create your message\n",
    "messages = [\n",
    "    (\"human\", \"What type of cats are there in the world and what are the types?\"),\n",
    "]\n",
    "\n",
    "# invoke the GLM by providing the knowledge strings, optional system prompt\n",
    "# if you want to turn off the GLM's commentary, pass True to the `avoid_commentary` argument\n",
    "ai_msg = llm.invoke(\n",
    "    messages, knowledge=knowledge, system_prompt=system_prompt, avoid_commentary=True\n",
    ")\n",
    "\n",
    "print(ai_msg.content)"
   ]
  },
  {
   "cell_type": "markdown",
   "metadata": {},
   "source": [
    "### Instruction-Following Reranker"
   ]
  },
  {
   "cell_type": "code",
   "execution_count": null,
   "metadata": {},
   "outputs": [],
   "source": [
    "import getpass\n",
    "import os\n",
    "\n",
    "from langchain_contextual import ContextualRerank\n",
    "\n",
    "if not os.getenv(\"CONTEXTUAL_AI_API_KEY\"):\n",
    "    os.environ[\"CONTEXTUAL_AI_API_KEY\"] = getpass.getpass(\n",
    "        \"Enter your Contextual API key: \"\n",
    "    )\n",
    "\n",
    "\n",
    "api_key = \"\"\n",
    "model = \"ctxl-rerank-en-v1-instruct\"\n",
    "\n",
    "compressor = ContextualRerank(\n",
    "    model=model,\n",
    "    api_key=api_key,\n",
    ")\n",
    "\n",
    "from langchain_core.documents import Document\n",
    "\n",
    "query = \"What is the current enterprise pricing for the RTX 5090 GPU for bulk orders?\"\n",
    "instruction = \"Prioritize internal sales documents over market analysis reports. More recent documents should be weighted higher. Enterprise portal content supersedes distributor communications.\"\n",
    "\n",
    "document_contents = [\n",
    "    \"Following detailed cost analysis and market research, we have implemented the following changes: AI training clusters will see a 15% uplift in raw compute performance, enterprise support packages are being restructured, and bulk procurement programs (100+ units) for the RTX 5090 Enterprise series will operate on a $2,899 baseline.\",\n",
    "    \"Enterprise pricing for the RTX 5090 GPU bulk orders (100+ units) is currently set at $3,100-$3,300 per unit. This pricing for RTX 5090 enterprise bulk orders has been confirmed across all major distribution channels.\",\n",
    "    \"RTX 5090 Enterprise GPU requires 450W TDP and 20% cooling overhead.\",\n",
    "]\n",
    "\n",
    "metadata = [\n",
    "    {\n",
    "        \"Date\": \"January 15, 2025\",\n",
    "        \"Source\": \"NVIDIA Enterprise Sales Portal\",\n",
    "        \"Classification\": \"Internal Use Only\",\n",
    "    },\n",
    "    {\"Date\": \"11/30/2023\", \"Source\": \"TechAnalytics Research Group\"},\n",
    "    {\n",
    "        \"Date\": \"January 25, 2025\",\n",
    "        \"Source\": \"NVIDIA Enterprise Sales Portal\",\n",
    "        \"Classification\": \"Internal Use Only\",\n",
    "    },\n",
    "]\n",
    "\n",
    "documents = [\n",
    "    Document(page_content=content, metadata=metadata[i])\n",
    "    for i, content in enumerate(document_contents)\n",
    "]\n",
    "reranked_documents = compressor.compress_documents(\n",
    "    query=query,\n",
    "    instruction=instruction,\n",
    "    documents=documents,\n",
    ")"
   ]
  }
 ],
 "metadata": {
  "colab": {
   "provenance": []
  },
  "kernelspec": {
   "display_name": ".venv",
   "language": "python",
   "name": "python3"
  },
  "language_info": {
   "codemirror_mode": {
    "name": "ipython",
    "version": 3
   },
   "file_extension": ".py",
   "mimetype": "text/x-python",
   "name": "python",
   "nbconvert_exporter": "python",
   "pygments_lexer": "ipython3",
   "version": "3.12.8"
  }
 },
 "nbformat": 4,
 "nbformat_minor": 1
}
