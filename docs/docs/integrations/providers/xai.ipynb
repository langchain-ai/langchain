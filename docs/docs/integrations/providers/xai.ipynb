{
 "cells": [
  {
   "cell_type": "markdown",
   "id": "2970dd75-8ebf-4b51-8282-9b454b8f356d",
   "metadata": {},
   "source": [
    "# xAI\n",
    "\n",
    "[xAI](https://console.x.ai) offers an API to interact with Grok models.\n",
    "\n",
    "This example goes over how to use LangChain to interact with xAI models."
   ]
  },
  {
   "cell_type": "markdown",
   "id": "1c47fc36",
   "metadata": {},
   "source": [
    "## Installation"
   ]
  },
  {
   "cell_type": "code",
   "execution_count": null,
   "id": "1ecdb29d",
   "metadata": {},
   "outputs": [],
   "source": [
    "%pip install --upgrade langchain-xai"
   ]
  },
  {
   "cell_type": "markdown",
   "id": "89883202",
   "metadata": {},
   "source": [
    "## Environment\n",
    "\n",
    "To use xAI, you'll need to [create an API key](https://console.x.ai/). The API key can be passed in as an init param ``xai_api_key`` or set as environment variable ``XAI_API_KEY``."
   ]
  },
  {
   "cell_type": "markdown",
   "id": "8304b4d9",
   "metadata": {},
   "source": [
    "## Example"
   ]
  },
  {
   "cell_type": "code",
   "execution_count": null,
   "id": "637bb53f",
   "metadata": {},
   "outputs": [],
   "source": [
    "# Querying chat models with xAI\n",
    "\n",
    "from langchain_xai import ChatXAI\n",
    "\n",
    "chat = ChatXAI(\n",
    "    # xai_api_key=\"YOUR_API_KEY\",\n",
    "    model=\"grok-beta\",\n",
    ")\n",
    "\n",
    "# stream the response back from the model\n",
    "for m in chat.stream(\"Tell me fun things to do in NYC\"):\n",
    "    print(m.content, end=\"\", flush=True)\n",
    "\n",
    "# if you don't want to do streaming, you can use the invoke method\n",
    "# chat.invoke(\"Tell me fun things to do in NYC\")"
   ]
  }
 ],
 "metadata": {
  "kernelspec": {
   "display_name": "Python 3 (ipykernel)",
   "language": "python",
   "name": "python3"
  },
  "language_info": {
   "codemirror_mode": {
    "name": "ipython",
    "version": 3
   },
   "file_extension": ".py",
   "mimetype": "text/x-python",
   "name": "python",
   "nbconvert_exporter": "python",
   "pygments_lexer": "ipython3",
   "version": "3.11.9"
  }
 },
 "nbformat": 4,
 "nbformat_minor": 5
}
