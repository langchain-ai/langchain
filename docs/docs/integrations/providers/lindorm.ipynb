{
 "cells": [
  {
   "cell_type": "markdown",
   "metadata": {},
   "source": [
    "# Lindorm\n",
    "\n",
    "Lindorm is a cloud-native multimodal database from Alibaba-Cloud, It supports unified access and integrated processing of various types of data, including wide tables, time-series, text, objects, streams, and spatial data. It is compatible with multiple standard interfaces such as SQL, HBase/Cassandra/S3, TSDB, HDFS, Solr, and Kafka, and seamlessly integrates with third-party ecosystem tools. This makes it suitable for scenarios such as logging, monitoring, billing, advertising, social networking, travel, and risk control. Lindorm is also one of the databases that support Alibaba's core businesses. \n",
    "\n",
    "To use the AI and vector capabilities of Lindorm, you should [get the service](https://help.aliyun.com/document_detail/174640.html?spm=a2c4g.11186623.help-menu-172543.d_0_1_0.4c6367558DN8Uq) and install `langchain-lindorm-integration` package."
   ]
  },
  {
   "cell_type": "code",
   "execution_count": 2,
   "metadata": {
    "id": "y8ku6X96sebl"
   },
   "outputs": [],
   "source": "!pip install -U langchain-lindorm-integration"
  },
  {
   "metadata": {},
   "cell_type": "markdown",
   "source": [
    "## Embeddings\n",
    "\n",
    "To use the embedding model deployed in Lindorm AI Service, import the LindormAIEmbeddings. "
   ]
  },
  {
   "metadata": {},
   "cell_type": "code",
   "outputs": [],
   "execution_count": null,
   "source": "from langchain_lindorm_integration import LindormAIEmbeddings"
  },
  {
   "metadata": {},
   "cell_type": "markdown",
   "source": [
    "## Rerank\n",
    "\n",
    "The Lindorm AI Service also supports reranking."
   ]
  },
  {
   "metadata": {},
   "cell_type": "code",
   "outputs": [],
   "execution_count": null,
   "source": "from langchain_lindorm_integration.reranker import LindormAIRerank"
  },
  {
   "metadata": {},
   "cell_type": "markdown",
   "source": [
    "## Vector Store\n",
    "\n",
    "Lindorm also supports vector store."
   ]
  },
  {
   "metadata": {},
   "cell_type": "code",
   "outputs": [],
   "execution_count": null,
   "source": "from langchain_lindorm_integration import LindormVectorStore"
  },
  {
   "metadata": {},
   "cell_type": "markdown",
   "source": [
    "## ByteStore\n",
    "\n",
    "Use ByteStore from Lindorm"
   ]
  },
  {
   "metadata": {},
   "cell_type": "code",
   "outputs": [],
   "execution_count": null,
   "source": "from langchain_lindorm_integration import LindormByteStore"
  }
 ],
 "metadata": {
  "colab": {
   "provenance": []
  },
  "kernelspec": {
   "display_name": "Python 3 (ipykernel)",
   "language": "python",
   "name": "python3"
  },
  "language_info": {
   "codemirror_mode": {
    "name": "ipython",
    "version": 3
   },
   "file_extension": ".py",
   "mimetype": "text/x-python",
   "name": "python",
   "nbconvert_exporter": "python",
   "pygments_lexer": "ipython3",
   "version": "3.10.11"
  }
 },
 "nbformat": 4,
 "nbformat_minor": 1
}
