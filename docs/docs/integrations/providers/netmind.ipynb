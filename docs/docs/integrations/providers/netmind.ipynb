{
 "cells": [
  {
   "cell_type": "markdown",
   "metadata": {},
   "source": [
    "# Netmind\n",
    "\n",
    "[Netmind AI](https://www.netmind.ai/) Build AI Faster, Smarter, and More Affordably\n",
    "Train, Fine-tune, Run Inference, and Scale with our Global GPU Network—Your all-in-one AI Engine.\n",
    "\n",
    "This example goes over how to use LangChain to interact with Together AI models.\n"
   ]
  },
  {
   "cell_type": "code",
   "execution_count": 2,
   "metadata": {
    "id": "y8ku6X96sebl"
   },
   "outputs": [],
   "source": [
    "# Querying chat models with Netmind AI\n",
    "from langchain_netmind import NetmindEmbeddings, ChatNetmind\n",
    "\n",
    "# choose from our 50+ models here: https://docs.together.ai/docs/inference-models\n",
    "chat = ChatNetmind(\n",
    "    # netmind_api_key=\"YOUR_API_KEY\",\n",
    "    model=\"meta-llama/Llama-3.3-70B-Instruct\",\n",
    ")\n",
    "\n",
    "# stream the response back from the model\n",
    "for m in chat.stream(\"Who are you?\"):\n",
    "    print(m.content, end=\"\", flush=True)\n",
    "\n",
    "# if you don't want to do streaming, you can use the invoke method\n",
    "# chat.invoke(\"Who are you?\")\n",
    "\n",
    "\n",
    "embeddings = NetmindEmbeddings(\n",
    "    # netmind_api_key=\"YOUR_API_KEY\",\n",
    "    model=\"nvidia/NV-Embed-v2\",\n",
    ")\n",
    "single_vector = embeddings.embed_query(\"I love programming.\")\n",
    "print(str(single_vector)[:100])"
   ]
  }
 ],
 "metadata": {
  "colab": {
   "provenance": []
  },
  "kernelspec": {
   "display_name": "Python 3 (ipykernel)",
   "language": "python",
   "name": "python3"
  },
  "language_info": {
   "codemirror_mode": {
    "name": "ipython",
    "version": 3
   },
   "file_extension": ".py",
   "mimetype": "text/x-python",
   "name": "python",
   "nbconvert_exporter": "python",
   "pygments_lexer": "ipython3",
   "version": "3.10.11"
  }
 },
 "nbformat": 4,
 "nbformat_minor": 1
}
