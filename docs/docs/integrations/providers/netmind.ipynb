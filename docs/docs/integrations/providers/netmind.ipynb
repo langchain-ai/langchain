{
 "cells": [
  {
   "cell_type": "markdown",
   "metadata": {},
   "source": [
    "# Netmind\n",
    "\n",
    "[Netmind AI](https://www.netmind.ai/) Build AI Faster, Smarter, and More Affordably.\n",
    "Train, Fine-tune, Run Inference, and Scale with our Global GPU Network—Your all-in-one AI Engine.\n",
    "\n",
    "This example goes over how to use LangChain to interact with Netmind AI models.\n"
   ]
  },
  {
   "metadata": {},
   "cell_type": "markdown",
   "source": [
    "## Installation and Setup\n",
    "\n",
    "```bash\n",
    "pip install langchain-netmind\n",
    "```\n",
    "\n",
    "Get an Netmind api key and set it as an environment variable (`NETMIND_API_KEY`).  \n",
    "Head to https://www.netmind.ai/ to sign up to Netmind and generate an API key. \n",
    "\n"
   ]
  },
  {
   "metadata": {},
   "cell_type": "markdown",
   "source": [
    "## Chat Models\n",
    "\n",
    "For more on Netmind chat models, visit the guide [here](/docs/integrations/chat/netmind)"
   ]
  },
  {
   "metadata": {},
   "cell_type": "markdown",
   "source": [
    "## Embedding Model\n",
    "\n",
    "For more on Netmind embedding models, visit the [guide](/docs/integrations/text_embedding/netmind)\n"
   ]
  }
 ],
 "metadata": {
  "colab": {
   "provenance": []
  },
  "kernelspec": {
   "display_name": "Python 3 (ipykernel)",
   "language": "python",
   "name": "python3"
  },
  "language_info": {
   "codemirror_mode": {
    "name": "ipython",
    "version": 3
   },
   "file_extension": ".py",
   "mimetype": "text/x-python",
   "name": "python",
   "nbconvert_exporter": "python",
   "pygments_lexer": "ipython3",
   "version": "3.10.11"
  }
 },
 "nbformat": 4,
 "nbformat_minor": 1
}
