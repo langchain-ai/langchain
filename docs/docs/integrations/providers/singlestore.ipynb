{
 "cells": [
  {
   "cell_type": "markdown",
   "metadata": {},
   "source": [
    "# SingleStore Integration\n",
    "\n",
    "[SingleStore](https://singlestore.com/) is a high-performance, distributed SQL database designed to excel in both [cloud](https://www.singlestore.com/cloud/) and on-premises environments. It offers a versatile feature set, seamless deployment options, and exceptional performance.\n",
    "\n",
    "This integration provides the following components to leverage SingleStore's capabilities:\n",
    "\n",
    "- **`SingleStoreLoader`**: Load documents directly from a SingleStore database table.\n",
    "- **`SingleStoreSemanticCache`**: Use SingleStore as a semantic cache for efficient storage and retrieval of embeddings.\n",
    "- **`SingleStoreChatMessageHistory`**: Store and retrieve chat message history in SingleStore.\n",
    "- **`SingleStoreVectorStore`**: Store document embeddings and perform fast vector and full-text searches.\n",
    "\n",
    "These components enable efficient document storage, embedding management, and advanced search capabilities, combining full-text and vector-based search for fast and accurate queries."
   ]
  },
  {
   "cell_type": "code",
   "execution_count": null,
   "metadata": {
    "id": "y8ku6X96sebl"
   },
   "outputs": [],
   "source": [
    "from langchain_singlestore import (\n",
    "    SingleStoreChatMessageHistory,\n",
    "    SingleStoreLoader,\n",
    "    SingleStoreSemanticCache,\n",
    "    SingleStoreVectorStore,\n",
    ")"
   ]
  }
 ],
 "metadata": {
  "colab": {
   "provenance": []
  },
  "kernelspec": {
   "display_name": "Python 3 (ipykernel)",
   "language": "python",
   "name": "python3"
  },
  "language_info": {
   "codemirror_mode": {
    "name": "ipython",
    "version": 3
   },
   "file_extension": ".py",
   "mimetype": "text/x-python",
   "name": "python",
   "nbconvert_exporter": "python",
   "pygments_lexer": "ipython3",
   "version": "3.10.11"
  }
 },
 "nbformat": 4,
 "nbformat_minor": 1
}
