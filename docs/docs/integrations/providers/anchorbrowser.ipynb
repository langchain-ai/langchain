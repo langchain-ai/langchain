{
 "cells": [
  {
   "cell_type": "markdown",
   "metadata": {},
   "source": [
    "# AnchorBrowser\n",
    "\n",
    "Anchor is the platform for AI Agentic browser automation, which solves the challenge of automating workflows for web applications that lack APIs or have limited API coverage. It simplifies the creation, deployment, and management of browser-based automations, transforming complex web interactions into simple API endpoints.\n",
    "\n",
    "On LangChain Anchor provides 3 main tools:\n",
    " - AnchorContentTool - For web content extractions in Markdown or HTML format.\n",
    " - AnchorScreenshotTool - For web page screenshot.\n",
    " - AnchorWebTaskTools - To perform web tasks."
   ]
  },
  {
   "cell_type": "markdown",
   "metadata": {},
   "source": [
    "## Quickstart\n",
    "### Installation\n",
    "install the `langchain-anchorbrowser` package"
   ]
  },
  {
   "cell_type": "code",
   "execution_count": null,
   "metadata": {},
   "outputs": [],
   "source": [
    "%pip install langchain-anchorbrowser"
   ]
  },
  {
   "cell_type": "markdown",
   "metadata": {},
   "source": [
    "### Usage\n",
    "Import and utilize your intended tool. The full list of Anchorbrowser available tools see **Tool Features** table in [Anchorbrowser tool page](/docs/docs/intagrations/tools/anchorbrowser.ipynb)"
   ]
  },
  {
   "cell_type": "code",
   "execution_count": null,
   "metadata": {},
   "outputs": [],
   "source": [
    "from langchain_anchorbrowser import AnchorContentTool\n",
    "\n",
    "# Get Markdown Content for https://www.anchorbrowser.io\n",
    "AnchorContentTool().invoke({\n",
    "    \"url\": \"https://www.anchorbrowser.io\",\n",
    "    \"format\": \"markdown\"\n",
    "})"
   ]
  },
  {
   "cell_type": "markdown",
   "metadata": {},
   "source": [
    "## Additional Resources\n",
    " - [PyPi](https://pypi.org/project/langchain-anchorbrowser)\n",
    " - [Github](https://github.com/anchorbrowser/langchain-anchorbrowser)\n",
    " - [Anchorbrowser Docs](https://docs.anchorbrowser.io/introduction?utm=langchain)\n",
    " - [Anchorbrowser API Reference](https://docs.anchorbrowser.io/api-reference/ai-tools/perform-web-task?utm=langchain)"
   ]
  }
 ],
 "metadata": {
  "colab": {
   "provenance": []
  },
  "kernelspec": {
   "display_name": "Python 3 (ipykernel)",
   "language": "python",
   "name": "python3"
  },
  "language_info": {
   "codemirror_mode": {
    "name": "ipython",
    "version": 3
   },
   "file_extension": ".py",
   "mimetype": "text/x-python",
   "name": "python",
   "nbconvert_exporter": "python",
   "pygments_lexer": "ipython3",
   "version": "3.13.5"
  }
 },
 "nbformat": 4,
 "nbformat_minor": 4
}
