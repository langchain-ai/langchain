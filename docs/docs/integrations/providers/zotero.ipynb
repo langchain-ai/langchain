{
 "cells": [
  {
   "cell_type": "markdown",
   "metadata": {},
   "source": [
    "# Zotero\n",
    "\n",
    "[Zotero](https://www.zotero.org/) is an open source reference management system intended for managing bibliographic data and related research materials. You can connect to your personal library, as well as shared group libraries, via the [API](https://www.zotero.org/support/dev/web_api/v3/start). This retriever implementation utilizes [PyZotero](https://github.com/urschrei/pyzotero) to access libraries. \n",
    "\n",
    "\n",
    "## Installation\n",
    "\n",
    "```bash\n",
    "pip install pyzotero\n",
    "```\n",
    "\n",
    "## Retriever\n",
    "\n",
    "See a [usage example](/docs/integrations/retrievers/zotero).\n",
    "\n",
    "```python\n",
    "from langchain_zotero_retriever.retrievers import ZoteroRetriever\n",
    "```"
   ]
  }
 ],
 "metadata": {
  "language_info": {
   "name": "python"
  }
 },
 "nbformat": 4,
 "nbformat_minor": 2
}
