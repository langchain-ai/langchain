{
 "cells": [
  {
   "cell_type": "markdown",
   "metadata": {},
   "source": [
    "# Valyu Deep Search\n",
    ">[Valyu](https://www.valyu.network/) allows AI applications and agents to search the internet and proprietary data sources for relevant LLM ready information.\n",
    "\n",
    "This notebook goes over how to use Valyu in LangChain.\n",
    "\n",
    "First, get an Valyu API key and add it as an environment variable. Get $10 free credit  by [signing up here](https://platform.valyu.network/).\n",
    "\n",
    "## Setup\n",
    "\n",
    "The integration lives in the `langchain-valyu` package."
   ]
  },
  {
   "cell_type": "code",
   "execution_count": null,
   "metadata": {},
   "outputs": [],
   "source": [
    "%pip install -qU langchain-valyu"
   ]
  },
  {
   "cell_type": "markdown",
   "metadata": {},
   "source": [
    "In order to use the package, you will also need to set the `VALYU_API_KEY` environment variable to your Valyu API key.\n",
    "\n",
    "## Context Retriever\n",
    "\n",
    "You can use the [`ValyuContextRetriever`](https://pypi.org/project/langchain-valyu/) in a standard retrieval pipeline."
   ]
  },
  {
   "cell_type": "code",
   "execution_count": null,
   "metadata": {},
   "outputs": [],
   "source": [
    "from langchain_valyu import ValyuRetriever\n",
    "\n",
    "valyu_api_key = \"YOUR API KEY\"\n",
    "\n",
    "# Create a new instance of the ValyuRetriever\n",
    "valyu_retriever = ValyuRetriever(\n",
    "    k=5,\n",
    "    search_type=\"all\",\n",
    "    relevance_threshold=0.5,\n",
    "    max_price=20.0,\n",
    "    start_date=\"2024-01-01\",\n",
    "    end_date=\"2024-12-31\",\n",
    "    valyu_api_key=valyu_api_key,\n",
    ")\n",
    "\n",
    "# Search for a query and save the results\n",
    "docs = valyu_retriever.invoke(\"What are the benefits of renewable energy?\")\n",
    "\n",
    "# Print the results\n",
    "for doc in docs:\n",
    "    print(doc.page_content)\n",
    "    print(doc.metadata)"
   ]
  },
  {
   "cell_type": "markdown",
   "metadata": {},
   "source": [
    "## Context Search Tool\n",
    "\n",
    "You can use the `ValyuSearchTool` for advanced search queries."
   ]
  },
  {
   "cell_type": "code",
   "execution_count": null,
   "metadata": {},
   "outputs": [],
   "source": [
    "from langchain_valyu import ValyuSearchTool\n",
    "\n",
    "# Initialize the ValyuSearchTool\n",
    "search_tool = ValyuSearchTool(valyu_api_key=\"YOUR API KEY\")\n",
    "\n",
    "# Perform a search query\n",
    "search_results = search_tool._run(\n",
    "    query=\"What are agentic search-enhanced large reasoning models?\",\n",
    "    search_type=\"all\",\n",
    "    max_num_results=5,\n",
    "    relevance_threshold=0.5,\n",
    "    max_price=20.0,\n",
    "    start_date=\"2024-01-01\",\n",
    "    end_date=\"2024-12-31\",\n",
    ")\n",
    "\n",
    "print(\"Search Results:\", search_results)"
   ]
  }
 ],
 "metadata": {
  "language_info": {
   "name": "python"
  }
 },
 "nbformat": 4,
 "nbformat_minor": 2
}
