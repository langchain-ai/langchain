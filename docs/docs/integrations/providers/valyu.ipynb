{
 "cells": [
  {
   "cell_type": "markdown",
   "metadata": {},
   "source": [
    "# ValyuContext\n",
    "\n",
    ">[Valyu](https://www.valyu.network/) allows AI applications and agents to search the internet and proprietary data sources for relevant LLM ready information.\n",
    "\n",
    "This notebook goes over how to use Valyu in LangChain.\n",
    "\n",
    "First, get an Valyu API key and add it as an environment variable. Get $10 free credit  by [signing up here](https://exchange.valyu.network/).\n",
    "\n",
    "## Setup\n",
    "\n",
    "The integration lives in the `langchain-valyu` package."
   ]
  },
  {
   "cell_type": "code",
   "execution_count": null,
   "metadata": {},
   "outputs": [],
   "source": [
    "%pip install -qU langchain-valyu"
   ]
  },
  {
   "cell_type": "markdown",
   "metadata": {},
   "source": [
    "In order to use the package, you will also need to set the `VALYU_API_KEY` environment variable to your Valyu API key.\n",
    "\n",
    "## Context Retriever\n",
    "\n",
    "You can use the [`ValyuContextRetriever`](https://pypi.org/project/langchain-valyu/) in a standard retrieval pipeline."
   ]
  },
  {
   "cell_type": "code",
   "execution_count": null,
   "metadata": {},
   "outputs": [],
   "source": [
    "from langchain_valyu import ValyuContextRetriever\n",
    "\n",
    "valyu_api_key = \"YOUR API KEY\"\n",
    "\n",
    "# Create a new instance of the ValyuContextRetriever\n",
    "valyu_retriever = ValyuContextRetriever(valyu_api_key=valyu_api_key)\n",
    "\n",
    "# Search for a query and save the results\n",
    "docs = valyu_retriever.invoke(\"What are the benefits of renewable energy?\")\n",
    "\n",
    "# Print the results\n",
    "for doc in docs:\n",
    "    print(doc.page_content)\n",
    "    print(doc.metadata)"
   ]
  },
  {
   "cell_type": "markdown",
   "metadata": {},
   "source": [
    "## Context Search Tool\n",
    "\n",
    "You can use the `ValyuSearchTool` for advanced search queries."
   ]
  },
  {
   "cell_type": "code",
   "execution_count": null,
   "metadata": {},
   "outputs": [],
   "source": [
    "from langchain_valyu import ValyuSearchTool\n",
    "\n",
    "# Initialize the ValyuSearchTool\n",
    "search_tool = ValyuSearchTool(valyu_api_key=\"YOUR API KEY\")\n",
    "\n",
    "# Perform a search query\n",
    "search_results = search_tool._run(\n",
    "    query=\"What are agentic search-enhanced large reasoning models?\",\n",
    "    search_type=\"all\",\n",
    "    max_num_results=5,\n",
    "    similarity_threshold=0.4,\n",
    "    query_rewrite=False,\n",
    "    max_price=20.0,\n",
    ")\n",
    "\n",
    "print(\"Search Results:\", search_results)"
   ]
  }
 ],
 "metadata": {
  "language_info": {
   "name": "python"
  }
 },
 "nbformat": 4,
 "nbformat_minor": 2
}
