{
 "cells": [
  {
   "cell_type": "markdown",
   "id": "c116e91e-6386-4d8b-a0e0-227bd45fa94e",
   "metadata": {},
   "source": [
    "# DSPy\n",
    "\n",
    ">[DSPy](https://github.com/stanfordnlp/dspy) is a fantastic framework for LLMs that introduces an automatic compiler that teaches LMs how to conduct the declarative steps in your program. Specifically, the DSPy compiler will internally trace your program and then craft high-quality prompts for large LMs (or train automatic finetunes for small LMs) to teach them the steps of your task.\n",
    "\n",
    "Thanks to [Omar Khattab](https://twitter.com/lateinteraction) we have an integration! It works with any LCEL chains with some minor modifications.\n",
    "\n",
    "This short tutorial demonstrates how this proof-of-concept feature works. *This will not give you the full power of DSPy or LangChain yet, but we will expand it if there's high demand.*\n",
    "\n",
    "Note: this was slightly modified from the original example Omar wrote for DSPy. If you are interested in LangChain \\<\\> DSPy but coming from the DSPy side, I'd recommend checking that out. You can find that [here](https://github.com/stanfordnlp/dspy/blob/main/examples/tweets/compiling_langchain.ipynb).\n",
    "\n",
    "Let's take a look at an example. In this example we will make a simple RAG pipeline. We will use DSPy to \"compile\" our program and learn an optimized prompt.\n",
    "\n",
    "This example uses the `ColBERTv2` model.\n",
    "See the [ColBERTv2: Effective and Efficient Retrieval via Lightweight Late Interaction](https://arxiv.org/abs/2112.01488) paper.\n",
    "\n",
    "\n",
    "## Install dependencies\n",
    "\n",
    "!pip install -U dspy-ai \n",
    "!pip install -U openai jinja2\n",
    "!pip install -U langchain langchain-community langchain-openai langchain-core"
   ]
  },
  {
   "cell_type": "markdown",
   "id": "c4a98285-c7ee-4784-979a-fab913401d98",
   "metadata": {},
   "source": [
    "## Setup\n",
    "\n",
    "We will be using OpenAI, so we should set an API key"
   ]
  },
  {
   "cell_type": "code",
   "execution_count": null,
   "id": "163cc2b0-7c29-452e-bb76-0093ce3d3167",
   "metadata": {},
   "outputs": [],
   "source": [
    "import getpass\n",
    "import os\n",
    "\n",
    "os.environ[\"OPENAI_API_KEY\"] = getpass.getpass()"
   ]
  },
  {
   "cell_type": "markdown",
   "id": "ad71ba04-cfc2-4399-8515-b10f69a7bd79",
   "metadata": {},
   "source": [
    "We can now set up our retriever. For our retriever we will use a ColBERT retriever through DSPy, though this will work with any retriever."
   ]
  },
  {
   "cell_type": "code",
   "execution_count": 1,
   "id": "91b3a485-4828-4798-9f66-baaf4d46e99d",
   "metadata": {},
   "outputs": [],
   "source": [
    "import dspy\n",
    "\n",
    "colbertv2 = dspy.ColBERTv2(url=\"http://20.102.90.50:2017/wiki17_abstracts\")"
   ]
  },
  {
   "cell_type": "code",
   "execution_count": 2,
   "id": "d237ecfc-85a4-432d-ad87-68ba1ff8e4d9",
   "metadata": {},
   "outputs": [],
   "source": [
    "from langchain.globals import set_llm_cache\n",
    "from langchain_community.cache import SQLiteCache\n",
    "from langchain_openai import OpenAI\n",
    "\n",
    "set_llm_cache(SQLiteCache(database_path=\"cache.db\"))\n",
    "\n",
    "llm = OpenAI(model_name=\"gpt-3.5-turbo-instruct\", temperature=0)\n",
    "\n",
    "\n",
    "def retrieve(inputs):\n",
    "    return [doc[\"text\"] for doc in colbertv2(inputs[\"question\"], k=5)]"
   ]
  },
  {
   "cell_type": "code",
   "execution_count": 22,
   "id": "9f47da80-5c78-4b79-96a9-1b647cecc839",
   "metadata": {},
   "outputs": [
    {
     "data": {
      "text/plain": [
       "[{'text': 'Cycling | Cycling, also called bicycling or biking, is the use of bicycles for transport, recreation, exercise or sport. Persons engaged in cycling are referred to as \"cyclists\", \"bikers\", or less commonly, as \"bicyclists\". Apart from two-wheeled bicycles, \"cycling\" also includes the riding of unicycles, tricycles, quadracycles, recumbent and similar human-powered vehicles (HPVs).',\n",
       "  'pid': 2201868,\n",
       "  'rank': 1,\n",
       "  'score': 27.078739166259766,\n",
       "  'prob': 0.3544841299722533,\n",
       "  'long_text': 'Cycling | Cycling, also called bicycling or biking, is the use of bicycles for transport, recreation, exercise or sport. Persons engaged in cycling are referred to as \"cyclists\", \"bikers\", or less commonly, as \"bicyclists\". Apart from two-wheeled bicycles, \"cycling\" also includes the riding of unicycles, tricycles, quadracycles, recumbent and similar human-powered vehicles (HPVs).'},\n",
       " {'text': 'Cycling (ice hockey) | In ice hockey, cycling is an offensive strategy that moves the puck along the boards in the offensive zone to create a scoring chance by making defenders tired or moving them out of position.',\n",
       "  'pid': 312153,\n",
       "  'rank': 2,\n",
       "  'score': 26.109302520751953,\n",
       "  'prob': 0.13445464524590262,\n",
       "  'long_text': 'Cycling (ice hockey) | In ice hockey, cycling is an offensive strategy that moves the puck along the boards in the offensive zone to create a scoring chance by making defenders tired or moving them out of position.'},\n",
       " {'text': 'Bicycle | A bicycle, also called a cycle or bike, is a human-powered, pedal-driven, single-track vehicle, having two wheels attached to a frame, one behind the other. A is called a cyclist, or bicyclist.',\n",
       "  'pid': 2197695,\n",
       "  'rank': 3,\n",
       "  'score': 25.849220275878906,\n",
       "  'prob': 0.10366294133944996,\n",
       "  'long_text': 'Bicycle | A bicycle, also called a cycle or bike, is a human-powered, pedal-driven, single-track vehicle, having two wheels attached to a frame, one behind the other. A is called a cyclist, or bicyclist.'},\n",
       " {'text': 'USA Cycling | USA Cycling or USAC, based in Colorado Springs, Colorado, is the national governing body for bicycle racing in the United States. It covers the disciplines of road, track, mountain bike, cyclo-cross, and BMX across all ages and ability levels. In 2015, USAC had a membership of 61,631 individual members.',\n",
       "  'pid': 3821927,\n",
       "  'rank': 4,\n",
       "  'score': 25.61395263671875,\n",
       "  'prob': 0.08193096873942958,\n",
       "  'long_text': 'USA Cycling | USA Cycling or USAC, based in Colorado Springs, Colorado, is the national governing body for bicycle racing in the United States. It covers the disciplines of road, track, mountain bike, cyclo-cross, and BMX across all ages and ability levels. In 2015, USAC had a membership of 61,631 individual members.'},\n",
       " {'text': 'Vehicular cycling | Vehicular cycling (also known as bicycle driving) is the practice of riding bicycles on roads in a manner that is in accordance with the principles for driving in traffic.',\n",
       "  'pid': 3058888,\n",
       "  'rank': 5,\n",
       "  'score': 25.35515785217285,\n",
       "  'prob': 0.06324918635213703,\n",
       "  'long_text': 'Vehicular cycling | Vehicular cycling (also known as bicycle driving) is the practice of riding bicycles on roads in a manner that is in accordance with the principles for driving in traffic.'},\n",
       " {'text': 'Road cycling | Road cycling is the most widespread form of cycling. It includes recreational, racing, and utility cycling. Road cyclists are generally expected to obey the same rules and laws as other vehicle drivers or riders and may also be vehicular cyclists.',\n",
       "  'pid': 3392359,\n",
       "  'rank': 6,\n",
       "  'score': 25.274639129638672,\n",
       "  'prob': 0.058356079351563846,\n",
       "  'long_text': 'Road cycling | Road cycling is the most widespread form of cycling. It includes recreational, racing, and utility cycling. Road cyclists are generally expected to obey the same rules and laws as other vehicle drivers or riders and may also be vehicular cyclists.'},\n",
       " {'text': 'Cycling South Africa | Cycling South Africa or Cycling SA is the national governing body of cycle racing in South Africa. Cycling SA is a member of the \"Confédération Africaine de Cyclisme\" and the \"Union Cycliste Internationale\" (UCI). It is affiliated to the South African Sports Confederation and Olympic Committee (SASCOC) as well as the Department of Sport and Recreation SA. Cycling South Africa regulates the five major disciplines within the sport, both amateur and professional, which include: road cycling, mountain biking, BMX biking, track cycling and para-cycling.',\n",
       "  'pid': 2508026,\n",
       "  'rank': 7,\n",
       "  'score': 25.24260711669922,\n",
       "  'prob': 0.05651643767006817,\n",
       "  'long_text': 'Cycling South Africa | Cycling South Africa or Cycling SA is the national governing body of cycle racing in South Africa. Cycling SA is a member of the \"Confédération Africaine de Cyclisme\" and the \"Union Cycliste Internationale\" (UCI). It is affiliated to the South African Sports Confederation and Olympic Committee (SASCOC) as well as the Department of Sport and Recreation SA. Cycling South Africa regulates the five major disciplines within the sport, both amateur and professional, which include: road cycling, mountain biking, BMX biking, track cycling and para-cycling.'},\n",
       " {'text': 'Cycle sport | Cycle sport is competitive physical activity using bicycles. There are several categories of bicycle racing including road bicycle racing, time trialling, cyclo-cross, mountain bike racing, track cycling, BMX, and cycle speedway. Non-racing cycling sports include artistic cycling, cycle polo, freestyle BMX and mountain bike trials. The Union Cycliste Internationale (UCI) is the world governing body for cycling and international competitive cycling events. The International Human Powered Vehicle Association is the governing body for human-powered vehicles that imposes far fewer restrictions on their design than does the UCI. The UltraMarathon Cycling Association is the governing body for many ultra-distance cycling races.',\n",
       "  'pid': 3394121,\n",
       "  'rank': 8,\n",
       "  'score': 25.170495986938477,\n",
       "  'prob': 0.05258444735141742,\n",
       "  'long_text': 'Cycle sport | Cycle sport is competitive physical activity using bicycles. There are several categories of bicycle racing including road bicycle racing, time trialling, cyclo-cross, mountain bike racing, track cycling, BMX, and cycle speedway. Non-racing cycling sports include artistic cycling, cycle polo, freestyle BMX and mountain bike trials. The Union Cycliste Internationale (UCI) is the world governing body for cycling and international competitive cycling events. The International Human Powered Vehicle Association is the governing body for human-powered vehicles that imposes far fewer restrictions on their design than does the UCI. The UltraMarathon Cycling Association is the governing body for many ultra-distance cycling races.'},\n",
       " {'text': \"Cycling UK | Cycling UK is the brand name of the Cyclists' Touring Club or CTC. It is a charitable membership organisation supporting cyclists and promoting bicycle use. Cycling UK is registered at Companies House (as “Cyclists’ Touring Club”), and covered by company law; it is the largest such organisation in the UK. It works at a national and local level to lobby for cyclists' needs and wants, provides services to members, and organises local groups for local activism and those interested in recreational cycling. The original Cyclists' Touring Club began in the nineteenth century with a focus on amateur road cycling but these days has a much broader sphere of interest encompassing everyday transport, commuting and many forms of recreational cycling. Prior to April 2016, Cycling UK operated under the brand CTC, the national cycling charity. As of January 2007, the organisation's president was the newsreader Jon Snow.\",\n",
       "  'pid': 1841483,\n",
       "  'rank': 9,\n",
       "  'score': 25.166988372802734,\n",
       "  'prob': 0.05240032450529368,\n",
       "  'long_text': \"Cycling UK | Cycling UK is the brand name of the Cyclists' Touring Club or CTC. It is a charitable membership organisation supporting cyclists and promoting bicycle use. Cycling UK is registered at Companies House (as “Cyclists’ Touring Club”), and covered by company law; it is the largest such organisation in the UK. It works at a national and local level to lobby for cyclists' needs and wants, provides services to members, and organises local groups for local activism and those interested in recreational cycling. The original Cyclists' Touring Club began in the nineteenth century with a focus on amateur road cycling but these days has a much broader sphere of interest encompassing everyday transport, commuting and many forms of recreational cycling. Prior to April 2016, Cycling UK operated under the brand CTC, the national cycling charity. As of January 2007, the organisation's president was the newsreader Jon Snow.\"},\n",
       " {'text': 'Cycling in the Netherlands | Cycling is a ubiquitous mode of transport in the Netherlands, with 36% of the people listing the bicycle as their most frequent mode of transport on a typical day as opposed to the car by 45% and public transport by 11%. Cycling has a modal share of 27% of all trips (urban and rural) nationwide. In cities this is even higher, such as Amsterdam which has 38%, though the smaller Dutch cities well exceed that: for instance Zwolle (pop. ~123,000) has 46% and the university town of Groningen (pop. ~198,000) has 31%. This high modal share for bicycle travel is enabled by excellent cycling infrastructure such as cycle paths, cycle tracks, protected intersections, ubiquitous bicycle parking and by making cycling routes shorter, quicker and more direct than car routes.',\n",
       "  'pid': 1196118,\n",
       "  'rank': 10,\n",
       "  'score': 24.954299926757812,\n",
       "  'prob': 0.0423608394724844,\n",
       "  'long_text': 'Cycling in the Netherlands | Cycling is a ubiquitous mode of transport in the Netherlands, with 36% of the people listing the bicycle as their most frequent mode of transport on a typical day as opposed to the car by 45% and public transport by 11%. Cycling has a modal share of 27% of all trips (urban and rural) nationwide. In cities this is even higher, such as Amsterdam which has 38%, though the smaller Dutch cities well exceed that: for instance Zwolle (pop. ~123,000) has 46% and the university town of Groningen (pop. ~198,000) has 31%. This high modal share for bicycle travel is enabled by excellent cycling infrastructure such as cycle paths, cycle tracks, protected intersections, ubiquitous bicycle parking and by making cycling routes shorter, quicker and more direct than car routes.'}]"
      ]
     },
     "execution_count": 22,
     "metadata": {},
     "output_type": "execute_result"
    }
   ],
   "source": [
    "colbertv2(\"cycling\")"
   ]
  },
  {
   "cell_type": "markdown",
   "id": "97164370-7103-40dd-8eac-552b2f37050a",
   "metadata": {},
   "source": [
    "## Normal LCEL\n",
    "\n",
    "First, let's create a simple RAG pipeline with LCEL like we would normally.\n",
    "\n",
    "For illustration, let's tackle the following task.\n",
    "\n",
    "**Task:** Build a RAG system for generating informative tweets.\n",
    "\n",
    "- **Input:** A factual question, which may be fairly complex.\n",
    " \n",
    "- **Output:** An engaging tweet that correctly answers the question from the retrieved info.\n",
    " \n",
    "Let's use LangChain's expression language (LCEL) to illustrate this. Any prompt here will do, we will optimize the final prompt with DSPy.\n",
    "\n",
    "Considering that, let's just keep it to the barebones: **Given \\{context\\}, answer the question \\{question\\} as a tweet.**"
   ]
  },
  {
   "cell_type": "code",
   "execution_count": 3,
   "id": "44f5e4a8-64b2-49f9-b657-738af0a8fa31",
   "metadata": {},
   "outputs": [],
   "source": [
    "# From LangChain, import standard modules for prompting.\n",
    "from langchain_core.output_parsers import StrOutputParser\n",
    "from langchain_core.prompts import PromptTemplate\n",
    "from langchain_core.runnables import RunnablePassthrough\n",
    "\n",
    "# Just a simple prompt for this task. It's fine if it's complex too.\n",
    "prompt = PromptTemplate.from_template(\n",
    "    \"Given {context}, answer the question `{question}` as a tweet.\"\n",
    ")\n",
    "\n",
    "# This is how you'd normally build a chain with LCEL. This chain does retrieval then generation (RAG).\n",
    "vanilla_chain = (\n",
    "    RunnablePassthrough.assign(context=retrieve) | prompt | llm | StrOutputParser()\n",
    ")"
   ]
  },
  {
   "cell_type": "markdown",
   "id": "13c293d6-0806-42f5-a4aa-5b50d4cf38d2",
   "metadata": {},
   "source": [
    "## LCEL \\<\\> DSPy\n",
    "\n",
    "In order to use LangChain with DSPy, you need to make two minor modifications\n",
    "\n",
    "**LangChainPredict**\n",
    "\n",
    "You need to change from doing `prompt | llm` to using `LangChainPredict(prompt, llm)` from `dspy`. \n",
    "\n",
    "This is a wrapper which will bind your prompt and llm together so you can optimize them\n",
    "\n",
    "**LangChainModule**\n",
    "\n",
    "This is a wrapper which wraps your final LCEL chain so that DSPy can optimize the whole thing"
   ]
  },
  {
   "cell_type": "code",
   "execution_count": 4,
   "id": "1b90db9a-f8e7-495a-9419-fddad288f933",
   "metadata": {},
   "outputs": [],
   "source": [
    "# From DSPy, import the modules that know how to interact with LangChain LCEL.\n",
    "from dspy.predict.langchain import LangChainModule, LangChainPredict\n",
    "\n",
    "# This is how to wrap it so it behaves like a DSPy program.\n",
    "# Just Replace every pattern like `prompt | llm` with `LangChainPredict(prompt, llm)`.\n",
    "zeroshot_chain = (\n",
    "    RunnablePassthrough.assign(context=retrieve)\n",
    "    | LangChainPredict(prompt, llm)\n",
    "    | StrOutputParser()\n",
    ")\n",
    "# Now we wrap it in LangChainModule\n",
    "zeroshot_chain = LangChainModule(\n",
    "    zeroshot_chain\n",
    ")  # then wrap the chain in a DSPy module."
   ]
  },
  {
   "cell_type": "markdown",
   "id": "968943b2-dbe7-4921-a85b-7f978ceb6938",
   "metadata": {},
   "source": [
    "## Trying the Module\n",
    "\n",
    "After this, we can use it as both a LangChain runnable and a DSPy module!"
   ]
  },
  {
   "cell_type": "code",
   "execution_count": 5,
   "id": "03d195ca-1045-4027-b0d6-9abe7c7da6dc",
   "metadata": {},
   "outputs": [
    {
     "data": {
      "text/plain": [
       "' Eddy Mazzoleni, born in Bergamo, Italy, is a professional road cyclist who rode for UCI ProTour Astana Team. #cyclist #Italy'"
      ]
     },
     "execution_count": 5,
     "metadata": {},
     "output_type": "execute_result"
    }
   ],
   "source": [
    "question = \"In what region was Eddy Mazzoleni born?\"\n",
    "\n",
    "zeroshot_chain.invoke({\"question\": question})"
   ]
  },
  {
   "cell_type": "markdown",
   "id": "5e96d95e-ef6f-4c5f-a84c-777a25ed8fda",
   "metadata": {},
   "source": [
    "Ah that sounds about right! (It's technically not perfect: we asked for the region not the city. We can do better below.)\n",
    "\n",
    "Inspecting questions and answers manually is very important to get a sense of your system. However, a good system designer always looks to iteratively benchmark their work to quantify progress!\n",
    "\n",
    "To do this, we need two things: the metric we want to maximize and a (tiny) dataset of examples for our system.\n",
    "\n",
    "Are there pre-defined metrics for good tweets? Should I label 100,000 tweets by hand? Probably not. We can easily do something reasonable, though, until you start getting data in production!"
   ]
  },
  {
   "cell_type": "markdown",
   "id": "ee094dc5-e9e0-4f99-ae27-f01df797f0de",
   "metadata": {},
   "source": [
    "## Load Data\n",
    "\n",
    "In order to compile our chain, we need a dataset to work with. This dataset just needs to be raw inputs and outputs. For our purposes, we will use HotPotQA dataset\n",
    "\n",
    "Note: Notice that our dataset doesn't actually include any tweets! It only has questions and answers. That's OK, our metric will take care of evaluating outputs in tweet form."
   ]
  },
  {
   "cell_type": "code",
   "execution_count": 6,
   "id": "b0cceaa1-6772-4505-9af2-6340000f9c1a",
   "metadata": {},
   "outputs": [
    {
     "name": "stderr",
     "output_type": "stream",
     "text": [
      "/Users/harrisonchase/.pyenv/versions/3.11.1/envs/langchain-3-11/lib/python3.11/site-packages/datasets/table.py:1421: FutureWarning: promote has been superseded by mode='default'.\n",
      "  table = cls._concat_blocks(blocks, axis=0)\n"
     ]
    }
   ],
   "source": [
    "import dspy\n",
    "from dspy.datasets import HotPotQA\n",
    "\n",
    "# Load the dataset.\n",
    "dataset = HotPotQA(\n",
    "    train_seed=1,\n",
    "    train_size=200,\n",
    "    eval_seed=2023,\n",
    "    dev_size=200,\n",
    "    test_size=0,\n",
    "    keep_details=True,\n",
    ")\n",
    "\n",
    "# Tell DSPy that the 'question' field is the input. Any other fields are labels and/or metadata.\n",
    "trainset = [x.without(\"id\", \"type\").with_inputs(\"question\") for x in dataset.train]\n",
    "devset = [x.without(\"id\", \"type\").with_inputs(\"question\") for x in dataset.dev]\n",
    "valset, devset = devset[:50], devset[50:]"
   ]
  },
  {
   "cell_type": "markdown",
   "id": "859daaee-ac5d-47f8-8704-827f5578bf1b",
   "metadata": {},
   "source": [
    "## Define a metric\n",
    "\n",
    "We now need to define a metric. This will be used to determine which runs were successful and we can learn from. Here we will use DSPy's metrics, though you can write your own."
   ]
  },
  {
   "cell_type": "code",
   "execution_count": 7,
   "id": "da471f00-717e-4933-bdaa-9abd05a4024e",
   "metadata": {},
   "outputs": [],
   "source": [
    "# Define the signature for autoamtic assessments.\n",
    "class Assess(dspy.Signature):\n",
    "    \"\"\"Assess the quality of a tweet along the specified dimension.\"\"\"\n",
    "\n",
    "    context = dspy.InputField(desc=\"ignore if N/A\")\n",
    "    assessed_text = dspy.InputField()\n",
    "    assessment_question = dspy.InputField()\n",
    "    assessment_answer = dspy.OutputField(desc=\"Yes or No\")\n",
    "\n",
    "\n",
    "gpt4T = dspy.OpenAI(model=\"gpt-4-1106-preview\", max_tokens=1000, model_type=\"chat\")\n",
    "METRIC = None\n",
    "\n",
    "\n",
    "def metric(gold, pred, trace=None):\n",
    "    question, answer, tweet = gold.question, gold.answer, pred.output\n",
    "    context = colbertv2(question, k=5)\n",
    "\n",
    "    engaging = \"Does the assessed text make for a self-contained, engaging tweet?\"\n",
    "    faithful = \"Is the assessed text grounded in the context? Say no if it includes significant facts not in the context.\"\n",
    "    correct = (\n",
    "        f\"The text above is should answer `{question}`. The gold answer is `{answer}`.\"\n",
    "    )\n",
    "    correct = f\"{correct} Does the assessed text above contain the gold answer?\"\n",
    "\n",
    "    with dspy.context(lm=gpt4T):\n",
    "        faithful = dspy.Predict(Assess)(\n",
    "            context=context, assessed_text=tweet, assessment_question=faithful\n",
    "        )\n",
    "        correct = dspy.Predict(Assess)(\n",
    "            context=\"N/A\", assessed_text=tweet, assessment_question=correct\n",
    "        )\n",
    "        engaging = dspy.Predict(Assess)(\n",
    "            context=\"N/A\", assessed_text=tweet, assessment_question=engaging\n",
    "        )\n",
    "\n",
    "    correct, engaging, faithful = [\n",
    "        m.assessment_answer.split()[0].lower() == \"yes\"\n",
    "        for m in [correct, engaging, faithful]\n",
    "    ]\n",
    "    score = (correct + engaging + faithful) if correct and (len(tweet) <= 280) else 0\n",
    "\n",
    "    if METRIC is not None:\n",
    "        if METRIC == \"correct\":\n",
    "            return correct\n",
    "        if METRIC == \"engaging\":\n",
    "            return engaging\n",
    "        if METRIC == \"faithful\":\n",
    "            return faithful\n",
    "\n",
    "    if trace is not None:\n",
    "        return score >= 3\n",
    "    return score / 3.0"
   ]
  },
  {
   "cell_type": "markdown",
   "id": "05819a91-c900-4a96-ae7a-4b6fd12610bd",
   "metadata": {},
   "source": [
    "## Evaluate Baseline\n",
    "\n",
    "Okay, let's evaluate the unoptimized \"zero-shot\" version of our chain, converted from our LangChain LCEL object."
   ]
  },
  {
   "cell_type": "code",
   "execution_count": 8,
   "id": "42bd1c72-c106-4bbd-b24c-b0b76af34dc7",
   "metadata": {},
   "outputs": [],
   "source": [
    "from dspy.evaluate.evaluate import Evaluate"
   ]
  },
  {
   "cell_type": "code",
   "execution_count": 9,
   "id": "3b0c0671-8111-4023-a622-467cc4938c4a",
   "metadata": {},
   "outputs": [
    {
     "name": "stderr",
     "output_type": "stream",
     "text": [
      "Average Metric: 62.99999999999998 / 150  (42.0): 100%|██| 150/150 [01:14<00:00,  2.02it/s]"
     ]
    },
    {
     "name": "stdout",
     "output_type": "stream",
     "text": [
      "Average Metric: 62.99999999999998 / 150  (42.0%)\n"
     ]
    },
    {
     "name": "stderr",
     "output_type": "stream",
     "text": [
      "\n",
      "/Users/harrisonchase/.pyenv/versions/3.11.1/envs/langchain-3-11/lib/python3.11/site-packages/dspy/evaluate/evaluate.py:126: FutureWarning: DataFrame.applymap has been deprecated. Use DataFrame.map instead.\n",
      "  df = df.applymap(truncate_cell)\n"
     ]
    },
    {
     "data": {
      "text/html": [
       "<style type=\"text/css\">\n",
       "#T_390d8 th {\n",
       "  text-align: left;\n",
       "}\n",
       "#T_390d8 td {\n",
       "  text-align: left;\n",
       "}\n",
       "#T_390d8_row0_col0, #T_390d8_row0_col1, #T_390d8_row0_col2, #T_390d8_row0_col3, #T_390d8_row0_col4, #T_390d8_row0_col5, #T_390d8_row1_col0, #T_390d8_row1_col1, #T_390d8_row1_col2, #T_390d8_row1_col3, #T_390d8_row1_col4, #T_390d8_row1_col5, #T_390d8_row2_col0, #T_390d8_row2_col1, #T_390d8_row2_col2, #T_390d8_row2_col3, #T_390d8_row2_col4, #T_390d8_row2_col5, #T_390d8_row3_col0, #T_390d8_row3_col1, #T_390d8_row3_col2, #T_390d8_row3_col3, #T_390d8_row3_col4, #T_390d8_row3_col5, #T_390d8_row4_col0, #T_390d8_row4_col1, #T_390d8_row4_col2, #T_390d8_row4_col3, #T_390d8_row4_col4, #T_390d8_row4_col5 {\n",
       "  text-align: left;\n",
       "  white-space: pre-wrap;\n",
       "  word-wrap: break-word;\n",
       "  max-width: 400px;\n",
       "}\n",
       "</style>\n",
       "<table id=\"T_390d8\">\n",
       "  <thead>\n",
       "    <tr>\n",
       "      <th class=\"blank level0\" >&nbsp;</th>\n",
       "      <th id=\"T_390d8_level0_col0\" class=\"col_heading level0 col0\" >question</th>\n",
       "      <th id=\"T_390d8_level0_col1\" class=\"col_heading level0 col1\" >answer</th>\n",
       "      <th id=\"T_390d8_level0_col2\" class=\"col_heading level0 col2\" >gold_titles</th>\n",
       "      <th id=\"T_390d8_level0_col3\" class=\"col_heading level0 col3\" >output</th>\n",
       "      <th id=\"T_390d8_level0_col4\" class=\"col_heading level0 col4\" >tweet_response</th>\n",
       "      <th id=\"T_390d8_level0_col5\" class=\"col_heading level0 col5\" >metric</th>\n",
       "    </tr>\n",
       "  </thead>\n",
       "  <tbody>\n",
       "    <tr>\n",
       "      <th id=\"T_390d8_level0_row0\" class=\"row_heading level0 row0\" >0</th>\n",
       "      <td id=\"T_390d8_row0_col0\" class=\"data row0 col0\" >Who was a producer who produced albums for both rock bands Juke Karten and Thirty Seconds to Mars?</td>\n",
       "      <td id=\"T_390d8_row0_col1\" class=\"data row0 col1\" >Brian Virtue</td>\n",
       "      <td id=\"T_390d8_row0_col2\" class=\"data row0 col2\" >{'Thirty Seconds to Mars', 'Levolution (album)'}</td>\n",
       "      <td id=\"T_390d8_row0_col3\" class=\"data row0 col3\" >Brian Virtue, who has worked with bands like Jane's Addiction and Velvet Revolver, produced albums for both Juke Kartel and Thirty Seconds to Mars. #BrianVirtue...</td>\n",
       "      <td id=\"T_390d8_row0_col4\" class=\"data row0 col4\" >Brian Virtue, who has worked with bands like Jane's Addiction and Velvet Revolver, produced albums for both Juke Kartel and Thirty Seconds to Mars. #BrianVirtue...</td>\n",
       "      <td id=\"T_390d8_row0_col5\" class=\"data row0 col5\" >1.0</td>\n",
       "    </tr>\n",
       "    <tr>\n",
       "      <th id=\"T_390d8_level0_row1\" class=\"row_heading level0 row1\" >1</th>\n",
       "      <td id=\"T_390d8_row1_col0\" class=\"data row1 col0\" >Are both the University of Chicago and Syracuse University public universities? </td>\n",
       "      <td id=\"T_390d8_row1_col1\" class=\"data row1 col1\" >no</td>\n",
       "      <td id=\"T_390d8_row1_col2\" class=\"data row1 col2\" >{'Syracuse University', 'University of Chicago'}</td>\n",
       "      <td id=\"T_390d8_row1_col3\" class=\"data row1 col3\" > No, only Syracuse University is a public university. The University of Chicago is a private research university. #university #publicvsprivate</td>\n",
       "      <td id=\"T_390d8_row1_col4\" class=\"data row1 col4\" > No, only Syracuse University is a public university. The University of Chicago is a private research university. #university #publicvsprivate</td>\n",
       "      <td id=\"T_390d8_row1_col5\" class=\"data row1 col5\" >0.3333333333333333</td>\n",
       "    </tr>\n",
       "    <tr>\n",
       "      <th id=\"T_390d8_level0_row2\" class=\"row_heading level0 row2\" >2</th>\n",
       "      <td id=\"T_390d8_row2_col0\" class=\"data row2 col0\" >In what region was Eddy Mazzoleni born?</td>\n",
       "      <td id=\"T_390d8_row2_col1\" class=\"data row2 col1\" >Lombardy, northern Italy</td>\n",
       "      <td id=\"T_390d8_row2_col2\" class=\"data row2 col2\" >{'Eddy Mazzoleni', 'Bergamo'}</td>\n",
       "      <td id=\"T_390d8_row2_col3\" class=\"data row2 col3\" > Eddy Mazzoleni, born in Bergamo, Italy, is a professional road cyclist who rode for UCI ProTour Astana Team. #cyclist #Italy</td>\n",
       "      <td id=\"T_390d8_row2_col4\" class=\"data row2 col4\" > Eddy Mazzoleni, born in Bergamo, Italy, is a professional road cyclist who rode for UCI ProTour Astana Team. #cyclist #Italy</td>\n",
       "      <td id=\"T_390d8_row2_col5\" class=\"data row2 col5\" >0.0</td>\n",
       "    </tr>\n",
       "    <tr>\n",
       "      <th id=\"T_390d8_level0_row3\" class=\"row_heading level0 row3\" >3</th>\n",
       "      <td id=\"T_390d8_row3_col0\" class=\"data row3 col0\" >Who edited the 1990 American romantic comedy film directed by Garry Marshall?</td>\n",
       "      <td id=\"T_390d8_row3_col1\" class=\"data row3 col1\" >Raja Raymond Gosnell</td>\n",
       "      <td id=\"T_390d8_row3_col2\" class=\"data row3 col2\" >{'Raja Gosnell', 'Pretty Woman'}</td>\n",
       "      <td id=\"T_390d8_row3_col3\" class=\"data row3 col3\" > J. F. Lawton wrote the screenplay for Pretty Woman, the 1990 American romantic comedy film directed by Garry Marshall. #PrettyWoman #GarryMarshall #JFLawton</td>\n",
       "      <td id=\"T_390d8_row3_col4\" class=\"data row3 col4\" > J. F. Lawton wrote the screenplay for Pretty Woman, the 1990 American romantic comedy film directed by Garry Marshall. #PrettyWoman #GarryMarshall #JFLawton</td>\n",
       "      <td id=\"T_390d8_row3_col5\" class=\"data row3 col5\" >0.0</td>\n",
       "    </tr>\n",
       "    <tr>\n",
       "      <th id=\"T_390d8_level0_row4\" class=\"row_heading level0 row4\" >4</th>\n",
       "      <td id=\"T_390d8_row4_col0\" class=\"data row4 col0\" >Burrs Country Park railway station is what stop on the railway line that runs between Heywood and Rawtenstall</td>\n",
       "      <td id=\"T_390d8_row4_col1\" class=\"data row4 col1\" >seventh</td>\n",
       "      <td id=\"T_390d8_row4_col2\" class=\"data row4 col2\" >{'Burrs Country Park railway station', 'East Lancashire Railway'}</td>\n",
       "      <td id=\"T_390d8_row4_col3\" class=\"data row4 col3\" > Burrs Country Park railway station is the seventh stop on the East Lancashire Railway line that runs between Heywood and Rawtenstall.</td>\n",
       "      <td id=\"T_390d8_row4_col4\" class=\"data row4 col4\" > Burrs Country Park railway station is the seventh stop on the East Lancashire Railway line that runs between Heywood and Rawtenstall.</td>\n",
       "      <td id=\"T_390d8_row4_col5\" class=\"data row4 col5\" >1.0</td>\n",
       "    </tr>\n",
       "  </tbody>\n",
       "</table>\n"
      ],
      "text/plain": [
       "<pandas.io.formats.style.Styler at 0x1683a7050>"
      ]
     },
     "metadata": {},
     "output_type": "display_data"
    },
    {
     "data": {
      "text/html": [
       "\n",
       "                <div style='\n",
       "                    text-align: center; \n",
       "                    font-size: 16px; \n",
       "                    font-weight: bold; \n",
       "                    color: #555; \n",
       "                    margin: 10px 0;'>\n",
       "                    ... 145 more rows not displayed ...\n",
       "                </div>\n",
       "                "
      ],
      "text/plain": [
       "<IPython.core.display.HTML object>"
      ]
     },
     "metadata": {},
     "output_type": "display_data"
    },
    {
     "data": {
      "text/plain": [
       "42.0"
      ]
     },
     "execution_count": 9,
     "metadata": {},
     "output_type": "execute_result"
    }
   ],
   "source": [
    "evaluate = Evaluate(\n",
    "    metric=metric, devset=devset, num_threads=8, display_progress=True, display_table=5\n",
    ")\n",
    "evaluate(zeroshot_chain)"
   ]
  },
  {
   "cell_type": "markdown",
   "id": "b674438e-937c-4248-a011-960642da48ec",
   "metadata": {},
   "source": [
    "Okay, cool. Our zeroshot_chain gets about 42.00% on the 150 questions from the devset.\n",
    "\n",
    "The table above shows some examples. For instance:\n",
    "\n",
    "- Question: Who was a producer who produced albums for both rock bands Juke Karten and Thirty Seconds to Mars?\n",
    "\n",
    "- Tweet: Brian Virtue, who has worked with bands like Jane's Addiction and Velvet Revolver, produced albums for both Juke Kartel and Thirty Seconds to Mars, showcasing... [truncated]\n",
    "\n",
    "- Metric: 1.0 (A tweet that is correct, faithful, and engaging!*)\n",
    "\n",
    "footnote: * At least according to our metric, which is just a DSPy program, so it too can be optimized if you'd like! Topic for another notebook, though."
   ]
  },
  {
   "cell_type": "markdown",
   "id": "f4554c95-64a2-431b-a03d-2d52534f3fa5",
   "metadata": {},
   "source": [
    "## Optimize\n",
    "\n",
    "Now, let's optimize performance"
   ]
  },
  {
   "cell_type": "code",
   "execution_count": 10,
   "id": "4dec2a06-8850-4c9b-b733-6f426bbb4578",
   "metadata": {},
   "outputs": [],
   "source": [
    "from dspy.teleprompt import BootstrapFewShotWithRandomSearch"
   ]
  },
  {
   "cell_type": "code",
   "execution_count": 11,
   "id": "4d66f4d6-1c28-4f51-9f31-a6c33234ccef",
   "metadata": {},
   "outputs": [
    {
     "name": "stdout",
     "output_type": "stream",
     "text": [
      "Going to sample between 1 and 3 traces per predictor.\n",
      "Will attempt to train 3 candidate sets.\n"
     ]
    },
    {
     "name": "stderr",
     "output_type": "stream",
     "text": [
      "Average Metric: 22.33333333333334 / 50  (44.7): 100%|█████| 50/50 [00:26<00:00,  1.87it/s]\n",
      "/Users/harrisonchase/.pyenv/versions/3.11.1/envs/langchain-3-11/lib/python3.11/site-packages/dspy/evaluate/evaluate.py:126: FutureWarning: DataFrame.applymap has been deprecated. Use DataFrame.map instead.\n",
      "  df = df.applymap(truncate_cell)\n"
     ]
    },
    {
     "name": "stdout",
     "output_type": "stream",
     "text": [
      "Average Metric: 22.33333333333334 / 50  (44.7%)\n",
      "Score: 44.67 for set: [0]\n",
      "New best score: 44.67 for seed -3\n",
      "Scores so far: [44.67]\n",
      "Best score: 44.67\n"
     ]
    },
    {
     "name": "stderr",
     "output_type": "stream",
     "text": [
      "Average Metric: 22.33333333333334 / 50  (44.7): 100%|█████| 50/50 [00:00<00:00, 79.51it/s]\n",
      "/Users/harrisonchase/.pyenv/versions/3.11.1/envs/langchain-3-11/lib/python3.11/site-packages/dspy/evaluate/evaluate.py:126: FutureWarning: DataFrame.applymap has been deprecated. Use DataFrame.map instead.\n",
      "  df = df.applymap(truncate_cell)\n"
     ]
    },
    {
     "name": "stdout",
     "output_type": "stream",
     "text": [
      "Average Metric: 22.33333333333334 / 50  (44.7%)\n",
      "Score: 44.67 for set: [16]\n",
      "Scores so far: [44.67, 44.67]\n",
      "Best score: 44.67\n"
     ]
    },
    {
     "name": "stderr",
     "output_type": "stream",
     "text": [
      "  4%|██                                                   | 8/200 [00:33<13:21,  4.18s/it]\n"
     ]
    },
    {
     "name": "stdout",
     "output_type": "stream",
     "text": [
      "Bootstrapped 3 full traces after 9 examples in round 0.\n"
     ]
    },
    {
     "name": "stderr",
     "output_type": "stream",
     "text": [
      "Average Metric: 24.666666666666668 / 50  (49.3): 100%|████| 50/50 [00:28<00:00,  1.77it/s]\n",
      "/Users/harrisonchase/.pyenv/versions/3.11.1/envs/langchain-3-11/lib/python3.11/site-packages/dspy/evaluate/evaluate.py:126: FutureWarning: DataFrame.applymap has been deprecated. Use DataFrame.map instead.\n",
      "  df = df.applymap(truncate_cell)\n"
     ]
    },
    {
     "name": "stdout",
     "output_type": "stream",
     "text": [
      "Average Metric: 24.666666666666668 / 50  (49.3%)\n",
      "Score: 49.33 for set: [16]\n",
      "New best score: 49.33 for seed -1\n",
      "Scores so far: [44.67, 44.67, 49.33]\n",
      "Best score: 49.33\n",
      "Average of max per entry across top 1 scores: 0.49333333333333335\n",
      "Average of max per entry across top 2 scores: 0.5533333333333335\n",
      "Average of max per entry across top 3 scores: 0.5533333333333335\n",
      "Average of max per entry across top 5 scores: 0.5533333333333335\n",
      "Average of max per entry across top 8 scores: 0.5533333333333335\n",
      "Average of max per entry across top 9999 scores: 0.5533333333333335\n"
     ]
    },
    {
     "name": "stderr",
     "output_type": "stream",
     "text": [
      "  6%|███                                                 | 12/200 [00:31<08:16,  2.64s/it]\n"
     ]
    },
    {
     "name": "stdout",
     "output_type": "stream",
     "text": [
      "Bootstrapped 2 full traces after 13 examples in round 0.\n"
     ]
    },
    {
     "name": "stderr",
     "output_type": "stream",
     "text": [
      "Average Metric: 25.66666666666667 / 50  (51.3): 100%|█████| 50/50 [00:25<00:00,  1.92it/s]\n",
      "/Users/harrisonchase/.pyenv/versions/3.11.1/envs/langchain-3-11/lib/python3.11/site-packages/dspy/evaluate/evaluate.py:126: FutureWarning: DataFrame.applymap has been deprecated. Use DataFrame.map instead.\n",
      "  df = df.applymap(truncate_cell)\n"
     ]
    },
    {
     "name": "stdout",
     "output_type": "stream",
     "text": [
      "Average Metric: 25.66666666666667 / 50  (51.3%)\n",
      "Score: 51.33 for set: [16]\n",
      "New best score: 51.33 for seed 0\n",
      "Scores so far: [44.67, 44.67, 49.33, 51.33]\n",
      "Best score: 51.33\n",
      "Average of max per entry across top 1 scores: 0.5133333333333334\n",
      "Average of max per entry across top 2 scores: 0.5666666666666668\n",
      "Average of max per entry across top 3 scores: 0.6000000000000001\n",
      "Average of max per entry across top 5 scores: 0.6000000000000001\n",
      "Average of max per entry across top 8 scores: 0.6000000000000001\n",
      "Average of max per entry across top 9999 scores: 0.6000000000000001\n"
     ]
    },
    {
     "name": "stderr",
     "output_type": "stream",
     "text": [
      "  0%|▎                                                    | 1/200 [00:02<08:37,  2.60s/it]\n"
     ]
    },
    {
     "name": "stdout",
     "output_type": "stream",
     "text": [
      "Bootstrapped 1 full traces after 2 examples in round 0.\n"
     ]
    },
    {
     "name": "stderr",
     "output_type": "stream",
     "text": [
      "Average Metric: 26.33333333333334 / 50  (52.7): 100%|█████| 50/50 [00:23<00:00,  2.11it/s]\n",
      "/Users/harrisonchase/.pyenv/versions/3.11.1/envs/langchain-3-11/lib/python3.11/site-packages/dspy/evaluate/evaluate.py:126: FutureWarning: DataFrame.applymap has been deprecated. Use DataFrame.map instead.\n",
      "  df = df.applymap(truncate_cell)\n"
     ]
    },
    {
     "name": "stdout",
     "output_type": "stream",
     "text": [
      "Average Metric: 26.33333333333334 / 50  (52.7%)\n",
      "Score: 52.67 for set: [16]\n",
      "New best score: 52.67 for seed 1\n",
      "Scores so far: [44.67, 44.67, 49.33, 51.33, 52.67]\n",
      "Best score: 52.67\n",
      "Average of max per entry across top 1 scores: 0.5266666666666667\n",
      "Average of max per entry across top 2 scores: 0.56\n",
      "Average of max per entry across top 3 scores: 0.5666666666666668\n",
      "Average of max per entry across top 5 scores: 0.6000000000000001\n",
      "Average of max per entry across top 8 scores: 0.6000000000000001\n",
      "Average of max per entry across top 9999 scores: 0.6000000000000001\n"
     ]
    },
    {
     "name": "stderr",
     "output_type": "stream",
     "text": [
      "  0%|▎                                                    | 1/200 [00:02<07:11,  2.17s/it]\n"
     ]
    },
    {
     "name": "stdout",
     "output_type": "stream",
     "text": [
      "Bootstrapped 1 full traces after 2 examples in round 0.\n"
     ]
    },
    {
     "name": "stderr",
     "output_type": "stream",
     "text": [
      "Average Metric: 25.666666666666668 / 50  (51.3): 100%|████| 50/50 [00:21<00:00,  2.29it/s]"
     ]
    },
    {
     "name": "stdout",
     "output_type": "stream",
     "text": [
      "Average Metric: 25.666666666666668 / 50  (51.3%)\n",
      "Score: 51.33 for set: [16]\n",
      "Scores so far: [44.67, 44.67, 49.33, 51.33, 52.67, 51.33]\n",
      "Best score: 52.67\n",
      "Average of max per entry across top 1 scores: 0.5266666666666667\n",
      "Average of max per entry across top 2 scores: 0.56\n",
      "Average of max per entry across top 3 scores: 0.6000000000000001\n",
      "Average of max per entry across top 5 scores: 0.6133333333333334\n",
      "Average of max per entry across top 8 scores: 0.6133333333333334\n",
      "Average of max per entry across top 9999 scores: 0.6133333333333334\n",
      "6 candidate programs found.\n"
     ]
    },
    {
     "name": "stderr",
     "output_type": "stream",
     "text": [
      "\n",
      "/Users/harrisonchase/.pyenv/versions/3.11.1/envs/langchain-3-11/lib/python3.11/site-packages/dspy/evaluate/evaluate.py:126: FutureWarning: DataFrame.applymap has been deprecated. Use DataFrame.map instead.\n",
      "  df = df.applymap(truncate_cell)\n"
     ]
    }
   ],
   "source": [
    "# Set up the optimizer. We'll use very minimal hyperparameters for this example.\n",
    "# Just do random search with ~3 attempts, and in each attempt, bootstrap <= 3 traces.\n",
    "optimizer = BootstrapFewShotWithRandomSearch(\n",
    "    metric=metric, max_bootstrapped_demos=3, num_candidate_programs=3\n",
    ")\n",
    "\n",
    "# Now use the optimizer to *compile* the chain. This could take 5-10 minutes, unless it's cached.\n",
    "optimized_chain = optimizer.compile(zeroshot_chain, trainset=trainset, valset=valset)"
   ]
  },
  {
   "cell_type": "markdown",
   "id": "10b9bcae-5409-4847-8bb1-d9344bc5da7b",
   "metadata": {},
   "source": [
    "## Evaluating the optimized chain\n",
    "\n",
    "Well, how good is this? Let's do some proper evals!"
   ]
  },
  {
   "cell_type": "code",
   "execution_count": 13,
   "id": "7b6d481a-4339-4b11-97db-193c8e98e185",
   "metadata": {},
   "outputs": [
    {
     "name": "stderr",
     "output_type": "stream",
     "text": [
      "Average Metric: 74.66666666666666 / 150  (49.8): 100%|██| 150/150 [00:54<00:00,  2.74it/s]"
     ]
    },
    {
     "name": "stdout",
     "output_type": "stream",
     "text": [
      "Average Metric: 74.66666666666666 / 150  (49.8%)\n"
     ]
    },
    {
     "name": "stderr",
     "output_type": "stream",
     "text": [
      "\n",
      "/Users/harrisonchase/.pyenv/versions/3.11.1/envs/langchain-3-11/lib/python3.11/site-packages/dspy/evaluate/evaluate.py:126: FutureWarning: DataFrame.applymap has been deprecated. Use DataFrame.map instead.\n",
      "  df = df.applymap(truncate_cell)\n"
     ]
    },
    {
     "data": {
      "text/html": [
       "<style type=\"text/css\">\n",
       "#T_b4366 th {\n",
       "  text-align: left;\n",
       "}\n",
       "#T_b4366 td {\n",
       "  text-align: left;\n",
       "}\n",
       "#T_b4366_row0_col0, #T_b4366_row0_col1, #T_b4366_row0_col2, #T_b4366_row0_col3, #T_b4366_row0_col4, #T_b4366_row0_col5, #T_b4366_row1_col0, #T_b4366_row1_col1, #T_b4366_row1_col2, #T_b4366_row1_col3, #T_b4366_row1_col4, #T_b4366_row1_col5, #T_b4366_row2_col0, #T_b4366_row2_col1, #T_b4366_row2_col2, #T_b4366_row2_col3, #T_b4366_row2_col4, #T_b4366_row2_col5, #T_b4366_row3_col0, #T_b4366_row3_col1, #T_b4366_row3_col2, #T_b4366_row3_col3, #T_b4366_row3_col4, #T_b4366_row3_col5, #T_b4366_row4_col0, #T_b4366_row4_col1, #T_b4366_row4_col2, #T_b4366_row4_col3, #T_b4366_row4_col4, #T_b4366_row4_col5 {\n",
       "  text-align: left;\n",
       "  white-space: pre-wrap;\n",
       "  word-wrap: break-word;\n",
       "  max-width: 400px;\n",
       "}\n",
       "</style>\n",
       "<table id=\"T_b4366\">\n",
       "  <thead>\n",
       "    <tr>\n",
       "      <th class=\"blank level0\" >&nbsp;</th>\n",
       "      <th id=\"T_b4366_level0_col0\" class=\"col_heading level0 col0\" >question</th>\n",
       "      <th id=\"T_b4366_level0_col1\" class=\"col_heading level0 col1\" >answer</th>\n",
       "      <th id=\"T_b4366_level0_col2\" class=\"col_heading level0 col2\" >gold_titles</th>\n",
       "      <th id=\"T_b4366_level0_col3\" class=\"col_heading level0 col3\" >output</th>\n",
       "      <th id=\"T_b4366_level0_col4\" class=\"col_heading level0 col4\" >tweet_response</th>\n",
       "      <th id=\"T_b4366_level0_col5\" class=\"col_heading level0 col5\" >metric</th>\n",
       "    </tr>\n",
       "  </thead>\n",
       "  <tbody>\n",
       "    <tr>\n",
       "      <th id=\"T_b4366_level0_row0\" class=\"row_heading level0 row0\" >0</th>\n",
       "      <td id=\"T_b4366_row0_col0\" class=\"data row0 col0\" >Who was a producer who produced albums for both rock bands Juke Karten and Thirty Seconds to Mars?</td>\n",
       "      <td id=\"T_b4366_row0_col1\" class=\"data row0 col1\" >Brian Virtue</td>\n",
       "      <td id=\"T_b4366_row0_col2\" class=\"data row0 col2\" >{'Thirty Seconds to Mars', 'Levolution (album)'}</td>\n",
       "      <td id=\"T_b4366_row0_col3\" class=\"data row0 col3\" >Brian Virtue, known for his work with Jane's Addiction and Velvet Revolver, produced albums for both Juke Kartel and Thirty Seconds to Mars. #BrianVirtue #Producer...</td>\n",
       "      <td id=\"T_b4366_row0_col4\" class=\"data row0 col4\" >Brian Virtue, known for his work with Jane's Addiction and Velvet Revolver, produced albums for both Juke Kartel and Thirty Seconds to Mars. #BrianVirtue #Producer...</td>\n",
       "      <td id=\"T_b4366_row0_col5\" class=\"data row0 col5\" >1.0</td>\n",
       "    </tr>\n",
       "    <tr>\n",
       "      <th id=\"T_b4366_level0_row1\" class=\"row_heading level0 row1\" >1</th>\n",
       "      <td id=\"T_b4366_row1_col0\" class=\"data row1 col0\" >Are both the University of Chicago and Syracuse University public universities? </td>\n",
       "      <td id=\"T_b4366_row1_col1\" class=\"data row1 col1\" >no</td>\n",
       "      <td id=\"T_b4366_row1_col2\" class=\"data row1 col2\" >{'Syracuse University', 'University of Chicago'}</td>\n",
       "      <td id=\"T_b4366_row1_col3\" class=\"data row1 col3\" > No, only Northeastern Illinois University is a public state university. Syracuse University is a private research university. #University #PublicPrivate #HigherEd</td>\n",
       "      <td id=\"T_b4366_row1_col4\" class=\"data row1 col4\" > No, only Northeastern Illinois University is a public state university. Syracuse University is a private research university. #University #PublicPrivate #HigherEd</td>\n",
       "      <td id=\"T_b4366_row1_col5\" class=\"data row1 col5\" >0.0</td>\n",
       "    </tr>\n",
       "    <tr>\n",
       "      <th id=\"T_b4366_level0_row2\" class=\"row_heading level0 row2\" >2</th>\n",
       "      <td id=\"T_b4366_row2_col0\" class=\"data row2 col0\" >In what region was Eddy Mazzoleni born?</td>\n",
       "      <td id=\"T_b4366_row2_col1\" class=\"data row2 col1\" >Lombardy, northern Italy</td>\n",
       "      <td id=\"T_b4366_row2_col2\" class=\"data row2 col2\" >{'Eddy Mazzoleni', 'Bergamo'}</td>\n",
       "      <td id=\"T_b4366_row2_col3\" class=\"data row2 col3\" > Eddy Mazzoleni, the Italian professional road cyclist, was born in Bergamo, Italy. #EddyMazzoleni #Cycling #Italy</td>\n",
       "      <td id=\"T_b4366_row2_col4\" class=\"data row2 col4\" > Eddy Mazzoleni, the Italian professional road cyclist, was born in Bergamo, Italy. #EddyMazzoleni #Cycling #Italy</td>\n",
       "      <td id=\"T_b4366_row2_col5\" class=\"data row2 col5\" >0.0</td>\n",
       "    </tr>\n",
       "    <tr>\n",
       "      <th id=\"T_b4366_level0_row3\" class=\"row_heading level0 row3\" >3</th>\n",
       "      <td id=\"T_b4366_row3_col0\" class=\"data row3 col0\" >Who edited the 1990 American romantic comedy film directed by Garry Marshall?</td>\n",
       "      <td id=\"T_b4366_row3_col1\" class=\"data row3 col1\" >Raja Raymond Gosnell</td>\n",
       "      <td id=\"T_b4366_row3_col2\" class=\"data row3 col2\" >{'Raja Gosnell', 'Pretty Woman'}</td>\n",
       "      <td id=\"T_b4366_row3_col3\" class=\"data row3 col3\" > J. F. Lawton wrote the screenplay for Pretty Woman, the 1990 romantic comedy directed by Garry Marshall. #PrettyWoman #GarryMarshall #RomanticComedy</td>\n",
       "      <td id=\"T_b4366_row3_col4\" class=\"data row3 col4\" > J. F. Lawton wrote the screenplay for Pretty Woman, the 1990 romantic comedy directed by Garry Marshall. #PrettyWoman #GarryMarshall #RomanticComedy</td>\n",
       "      <td id=\"T_b4366_row3_col5\" class=\"data row3 col5\" >0.0</td>\n",
       "    </tr>\n",
       "    <tr>\n",
       "      <th id=\"T_b4366_level0_row4\" class=\"row_heading level0 row4\" >4</th>\n",
       "      <td id=\"T_b4366_row4_col0\" class=\"data row4 col0\" >Burrs Country Park railway station is what stop on the railway line that runs between Heywood and Rawtenstall</td>\n",
       "      <td id=\"T_b4366_row4_col1\" class=\"data row4 col1\" >seventh</td>\n",
       "      <td id=\"T_b4366_row4_col2\" class=\"data row4 col2\" >{'Burrs Country Park railway station', 'East Lancashire Railway'}</td>\n",
       "      <td id=\"T_b4366_row4_col3\" class=\"data row4 col3\" > Burrs Country Park railway station is the seventh stop on the East Lancashire Railway, which runs between Heywood and Rawtenstall. #EastLancashireRailway #BurrsCountryPark #RailwayStation</td>\n",
       "      <td id=\"T_b4366_row4_col4\" class=\"data row4 col4\" > Burrs Country Park railway station is the seventh stop on the East Lancashire Railway, which runs between Heywood and Rawtenstall. #EastLancashireRailway #BurrsCountryPark #RailwayStation</td>\n",
       "      <td id=\"T_b4366_row4_col5\" class=\"data row4 col5\" >1.0</td>\n",
       "    </tr>\n",
       "  </tbody>\n",
       "</table>\n"
      ],
      "text/plain": [
       "<pandas.io.formats.style.Styler at 0x168d63d10>"
      ]
     },
     "metadata": {},
     "output_type": "display_data"
    },
    {
     "data": {
      "text/html": [
       "\n",
       "                <div style='\n",
       "                    text-align: center; \n",
       "                    font-size: 16px; \n",
       "                    font-weight: bold; \n",
       "                    color: #555; \n",
       "                    margin: 10px 0;'>\n",
       "                    ... 145 more rows not displayed ...\n",
       "                </div>\n",
       "                "
      ],
      "text/plain": [
       "<IPython.core.display.HTML object>"
      ]
     },
     "metadata": {},
     "output_type": "display_data"
    },
    {
     "data": {
      "text/plain": [
       "49.78"
      ]
     },
     "execution_count": 13,
     "metadata": {},
     "output_type": "execute_result"
    }
   ],
   "source": [
    "evaluate(optimized_chain)"
   ]
  },
  {
   "cell_type": "markdown",
   "id": "7b9b6d5a-d7e7-43bb-9dc3-b54fbc8ed7d8",
   "metadata": {},
   "source": [
    "Alright! We've improved our chain from 42% to nearly 50%!"
   ]
  },
  {
   "cell_type": "markdown",
   "id": "f4652e93-bc1b-471a-9a9b-0143755acdea",
   "metadata": {},
   "source": [
    "## Inspect the optimized chain\n",
    "\n",
    "So what actually happened to improve this? We can take a look at this by looking at the optimized chain. We can do this in two ways\n",
    "\n",
    "### Look at the prompt used\n",
    "\n",
    "We can look at what prompt was actually used. We can do this by looking at `dspy.settings`."
   ]
  },
  {
   "cell_type": "code",
   "execution_count": 14,
   "id": "04b04156-d104-45be-a06b-b42450826a7d",
   "metadata": {},
   "outputs": [],
   "source": [
    "prompt_used, output = dspy.settings.langchain_history[-1]"
   ]
  },
  {
   "cell_type": "code",
   "execution_count": 15,
   "id": "2b124aae-f898-403c-b813-620272c0ab2a",
   "metadata": {},
   "outputs": [
    {
     "name": "stdout",
     "output_type": "stream",
     "text": [
      "Essential Instructions: Respond to the provided question based on the given context in the style of a tweet, ensuring the response is concise and within the character limit of a tweet (up to 280 characters).\n",
      "\n",
      "---\n",
      "\n",
      "Follow the following format.\n",
      "\n",
      "Context: ${context}\n",
      "Question: ${question}\n",
      "Tweet Response: ${tweet_response}\n",
      "\n",
      "---\n",
      "\n",
      "Context:\n",
      "[1] «Brutus (Funny Car) | Brutus is a pioneering funny car driven by Jim Liberman and prepared by crew chief Lew Arrington in the middle 1960s.»\n",
      "[2] «USS Brutus (AC-15) | USS \"Brutus\", formerly the steamer \"Peter Jebsen\", was a collier in the United States Navy. She was built in 1894 at South Shields-on-Tyne, England, by John Readhead & Sons and was acquired by the U.S. Navy early in 1898 from L. F. Chapman & Company. She was renamed \"Brutus\" and commissioned at the Mare Island Navy Yard on 27 May 1898, with Lieutenant Vincendon L. Cottman, commanding officer and Lieutenant Randolph H. Miner, executive officer.»\n",
      "[3] «Brutus Beefcake | Ed Leslie is an American semi-retired professional wrestler, best known for his work in the World Wrestling Federation (WWF) under the ring name Brutus \"The Barber\" Beefcake. He later worked for World Championship Wrestling (WCW) under a variety of names.»\n",
      "[4] «Brutus Hamilton | Brutus Kerr Hamilton (July 19, 1900 – December 28, 1970) was an American track and field athlete, coach and athletics administrator.»\n",
      "[5] «Big Brutus | Big Brutus is the nickname of the Bucyrus-Erie model 1850B electric shovel, which was the second largest of its type in operation in the 1960s and 1970s. Big Brutus is the centerpiece of a mining museum in West Mineral, Kansas where it was used in coal strip mining operations. The shovel was designed to dig from 20 to in relatively shallow coal seams.»\n",
      "Question: What is the nickname for this United States drag racer who drove Brutus?\n",
      "Tweet Response: Jim Liberman, also known as \"Jungle Jim\", drove the pioneering funny car Brutus in the 1960s. #Brutus #FunnyCar #DragRacing\n",
      "\n",
      "---\n",
      "\n",
      "Context:\n",
      "[1] «Philip Markoff | Philip Haynes Markoff (February 12, 1986 – August 15, 2010) was an American medical student who was charged with the armed robbery and murder of Julissa Brisman in a Boston, Massachusetts, hotel on April 14, 2009, and two other armed robberies.»\n",
      "[2] «Antonia Brenner | Antonia Brenner, better known as Mother Antonia (Spanish: Madre Antonia ), (December 1, 1926 – October 17, 2013) was an American Roman Catholic Religious Sister and activist who chose to reside and care for inmates at the notorious maximum-security La Mesa Prison in Tijuana, Mexico. As a result of her work, she founded a new religious institute called the Eudist Servants of the 11th Hour.»\n",
      "[3] «Luzira Maximum Security Prison | Luzira Maximum Security Prison is a maximum security prison for both men and women in Uganda. As at July 2016, it is the only maximum security prison in the country and houses Uganda's death row inmates.»\n",
      "[4] «Pleasant Valley State Prison | Pleasant Valley State Prison (PVSP) is a 640 acres minimum-to-maximum security state prison in Coalinga, Fresno County, California. The facility has housed convicted murderers Sirhan Sirhan, Erik Menendez, X-Raided, and Hans Reiser, among others.»\n",
      "[5] «Jon-Adrian Velazquez | Jon-Adrian Velazquez is an inmate in the maximum security Sing-Sing prison in New York who is serving a 25-year sentence after being convicted of the 1998 murder of a retired police officer. His case garnered considerable attention from the media ten years after his conviction, due to a visit and support from Martin Sheen and a long-term investigation by Dateline NBC producer Dan Slepian.»\n",
      "Question: Which maximum security jail housed the killer of Julissa brisman?\n",
      "Tweet Response:\n"
     ]
    }
   ],
   "source": [
    "print(prompt_used)"
   ]
  },
  {
   "cell_type": "markdown",
   "id": "f1e1d0af-8158-4e69-bf78-6519b339cd75",
   "metadata": {},
   "source": [
    "### Look at the demos\n",
    "\n",
    "The way this was optimized was that we collected examples (or \"demos\") to put in the prompt. We can inspect the optmized_chain to get a sense for what those are."
   ]
  },
  {
   "cell_type": "code",
   "execution_count": 20,
   "id": "dc818dfe-1190-4c41-952e-d8589dafe851",
   "metadata": {},
   "outputs": [],
   "source": [
    "demos = [\n",
    "    eg\n",
    "    for eg in optimized_chain.modules[0].demos\n",
    "    if hasattr(eg, \"augmented\") and eg.augmented\n",
    "]"
   ]
  },
  {
   "cell_type": "code",
   "execution_count": 21,
   "id": "ebc006f1-0401-467b-95c2-27557f360a78",
   "metadata": {},
   "outputs": [
    {
     "data": {
      "text/plain": [
       "[Example({'augmented': True, 'question': 'What is the nickname for this United States drag racer who drove Brutus?', 'context': ['Brutus (Funny Car) | Brutus is a pioneering funny car driven by Jim Liberman and prepared by crew chief Lew Arrington in the middle 1960s.', 'USS Brutus (AC-15) | USS \"Brutus\", formerly the steamer \"Peter Jebsen\", was a collier in the United States Navy. She was built in 1894 at South Shields-on-Tyne, England, by John Readhead & Sons and was acquired by the U.S. Navy early in 1898 from L. F. Chapman & Company. She was renamed \"Brutus\" and commissioned at the Mare Island Navy Yard on 27 May 1898, with Lieutenant Vincendon L. Cottman, commanding officer and Lieutenant Randolph H. Miner, executive officer.', 'Brutus Beefcake | Ed Leslie is an American semi-retired professional wrestler, best known for his work in the World Wrestling Federation (WWF) under the ring name Brutus \"The Barber\" Beefcake. He later worked for World Championship Wrestling (WCW) under a variety of names.', 'Brutus Hamilton | Brutus Kerr Hamilton (July 19, 1900 – December 28, 1970) was an American track and field athlete, coach and athletics administrator.', 'Big Brutus | Big Brutus is the nickname of the Bucyrus-Erie model 1850B electric shovel, which was the second largest of its type in operation in the 1960s and 1970s. Big Brutus is the centerpiece of a mining museum in West Mineral, Kansas where it was used in coal strip mining operations. The shovel was designed to dig from 20 to in relatively shallow coal seams.'], 'tweet_response': ' Jim Liberman, also known as \"Jungle Jim\", drove the pioneering funny car Brutus in the 1960s. #Brutus #FunnyCar #DragRacing'}) (input_keys=None)]"
      ]
     },
     "execution_count": 21,
     "metadata": {},
     "output_type": "execute_result"
    }
   ],
   "source": [
    "demos"
   ]
  },
  {
   "cell_type": "code",
   "execution_count": null,
   "id": "4616ece0-f7bc-4a1c-ad3f-7acf028975ed",
   "metadata": {},
   "outputs": [],
   "source": []
  }
 ],
 "metadata": {
  "kernelspec": {
   "display_name": "Python 3 (ipykernel)",
   "language": "python",
   "name": "python3"
  },
  "language_info": {
   "codemirror_mode": {
    "name": "ipython",
    "version": 3
   },
   "file_extension": ".py",
   "mimetype": "text/x-python",
   "name": "python",
   "nbconvert_exporter": "python",
   "pygments_lexer": "ipython3",
   "version": "3.10.12"
  }
 },
 "nbformat": 4,
 "nbformat_minor": 5
}
