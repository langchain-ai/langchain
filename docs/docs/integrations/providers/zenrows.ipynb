{
  "cells": [
    {
      "cell_type": "markdown",
      "metadata": {
        "id": "_MFfVhVCa15x"
      },
      "source": [
        "# ZenRows\n",
        "\n",
        "[ZenRows](https://www.zenrows.com/) is an enterprise-grade web scraping tool that provides advanced web data extraction capabilities at scale. ZenRows specializes in scraping modern websites, bypassing anti-bot systems, extracting structured data from any website, rendering JavaScript-heavy content, accessing geo-restricted websites, and more.\n",
        "\n",
        "[langchain-zenrows](https://pypi.org/project/langchain-zenrows/) provides tools that allow LLMs to access web data using ZenRows' powerful scraping infrastructure.\n",
        "\n",
        "## Installation and Setup\n",
        "\n",
        "```bash\n",
        "pip install langchain-zenrows\n",
        "```\n",
        "\n",
        "You'll need to set up your ZenRows API key:\n",
        "\n",
        "```python\n",
        "import os\n",
        "os.environ[\"ZENROWS_API_KEY\"] = \"your-api-key\"\n",
        "```\n",
        "\n",
        "Or you can pass it directly when initializing tools:\n",
        "\n",
        "```python\n",
        "from langchain_zenrows import ZenRowsUniversalScraper\n",
        "zenrows_scraper_tool = ZenRowsUniversalScraper(zenrows_api_key=\"your-api-key\")\n",
        "```\n",
        "\n",
        "## Tools\n",
        "\n",
        "### ZenRowsUniversalScraper\n",
        "\n",
        "The ZenRows integration provides comprehensive web scraping features:\n",
        "\n",
        "- **JavaScript Rendering**: Scrape modern SPAs and dynamic content\n",
        "- **Anti-Bot Bypass**: Overcome sophisticated bot detection systems  \n",
        "- **Geo-Targeting**: Access region-specific content with 190+ countries\n",
        "- **Multiple Output Formats**: HTML, Markdown, Plaintext, PDF, Screenshots\n",
        "- **CSS Extraction**: Target specific data with CSS selectors\n",
        "- **Structured Data Extraction**: Automatically extract emails, phone numbers, links, and more\n",
        "- **Session Management**: Maintain consistent sessions across requests\n",
        "- **Premium Proxies**: Residential IPs for maximum success rates\n",
        "\n",
        "See more in the [ZenRows tool documentation](/docs/integrations/tools/zenrows_universal_scraper)."
      ]
    }
  ],
  "metadata": {
    "colab": {
      "provenance": []
    },
    "kernelspec": {
      "display_name": "Python 3",
      "name": "python3"
    },
    "language_info": {
      "name": "python"
    }
  },
  "nbformat": 4,
  "nbformat_minor": 0
}
