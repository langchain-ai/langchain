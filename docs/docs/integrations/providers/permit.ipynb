{
 "cells": [
  {
   "cell_type": "markdown",
   "id": "e3e762e9",
   "metadata": {
    "provenance": []
   },
   "source": [
    "# Permit Integration\n",
    "\n",
    "This notebook demonstrates the integration between LangChain and Permit.io.\n",
    "\n",
    "## Overview\n",
    "Permit is a platform that offers..."
   ]
  },
  {
   "cell_type": "code",
   "execution_count": null,
   "id": "36812008",
   "metadata": {
    "provenance": []
   },
   "outputs": [],
   "source": [
    "# Import required packages\n",
    "from langchain.tools import PermitTool"
   ]
  }
 ],
 "metadata": {
  "colab": {
   "provenance": []
  },
  "kernelspec": {
   "display_name": "Python 3",
   "language": "python",
   "name": "python3"
  },
  "language_info": {
   "codemirror_mode": {
    "name": "ipython",
    "version": 3
   },
   "file_extension": ".py",
   "mimetype": "text/x-python",
   "name": "python",
   "nbconvert_exporter": "python",
   "pygments_lexer": "ipython3",
   "version": "3.10.0"
  }
 },
 "nbformat": 4,
 "nbformat_minor": 5
}
