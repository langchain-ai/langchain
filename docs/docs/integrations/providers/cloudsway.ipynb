{
 "cells": [
  {
   "cell_type": "markdown",
   "id": "4f790821",
   "metadata": {},
   "source": [
    "# Cloudsway\n",
    "\n",
    "Cloudsway is a semantic web search engine designed to provide search-result data for AI products used by domestic business customers. It helps customers augment their data and improve the effectiveness of AI products. It supports parameters such as query keywords, count, offset, language, time range, and site filtering, and returns paginated structured JSON with options for long summaries and full-text content.\n",
    "\n",
    "## Installation\n",
    "\n",
    "Install the integration package:\n",
    "```bash\n",
    "pip install langchain-cloudsway\n",
    "```\n",
    "\n",
    "## Configuration\n",
    "\n",
    "Set your Cloudsway API credentials as an environment variable:\n",
    "\n",
    "```bash\n",
    "export CLOUDSWAY_SERVER_KEY=\"your-endpoint-accesskey\"\n",
    "```\n",
    "\n",
    "The value should be in the format:  \n",
    "`endpoint-accesskey` \n",
    " \n",
    "To get your token and subscribe to a plan, please register at [console.cloudsway.ai](https://console.cloudsway.ai/).\n",
    "\n",
    "\n",
    "## Supported Components\n",
    "\n",
    "- **SmartsearchTool**: Advanced web search tool for structured results.\n",
    "\n",
    "## API Reference\n",
    "\n",
    "See [GitHub](https://github.com/Cloudsway-AI/langchain-cloudsway) for full documentation.\n"
   ]
  }
 ],
 "metadata": {
  "language_info": {
   "name": "python"
  }
 },
 "nbformat": 4,
 "nbformat_minor": 5
}
