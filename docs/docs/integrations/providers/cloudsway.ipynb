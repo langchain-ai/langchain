{
 "cells": [
  {
   "cell_type": "markdown",
   "metadata": {},
   "source": [
    "# Cloudsway\n",
    "\n",
    "Cloudsway is a platform that provides advanced web search capabilities for LangChain applications via its SmartsearchTool. It enables efficient, multi-language, safe, and structured web search for LLM-powered workflows.\n",
    "\n",
    "## Installation\n",
    "\n",
    "Install the integration package:\n",
    "```bash\n",
    "pip install langchain-cloudsway\n",
    "```\n",
    "\n",
    "## Configuration\n",
    "\n",
    "Set your Cloudsway API credentials as an environment variable:\n",
    "\n",
    "```bash\n",
    "export CLOUDSWAY_SERVER_KEY=\"your-endpoint-accesskey\"\n",
    "```\n",
    "\n",
    "The value should be in the format:  \n",
    "`endpoint-accesskey` \n",
    " \n",
    "To get your token and subscribe to a plan, please register at [console.cloudsway.ai](https://console.cloudsway.ai/).\n",
    "\n",
    "\n",
    "## Supported Components\n",
    "\n",
    "- **SmartsearchTool**: Advanced web search tool for structured results.\n",
    "\n",
    "## API Reference\n",
    "\n",
    "See [GitHub](https://github.com/Cloudsway-AI/langchain-cloudsway) for full documentation.\n"
   ]
  }
 ],
 "metadata": {
  "language_info": {
   "name": "python"
  }
 },
 "nbformat": 4,
 "nbformat_minor": 5
}
