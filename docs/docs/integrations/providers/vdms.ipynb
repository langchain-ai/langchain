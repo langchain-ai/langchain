{
 "cells": [
  {
   "cell_type": "markdown",
   "metadata": {},
   "source": [
    "# Intel's Visual Data Management System (VDMS)\n",
    "\n",
    "> [VDMS](https://github.com/IntelLabs/vdms/blob/master/README.md) is a storage solution for efficient access\n",
    "> of big-”visual”-data that aims to achieve cloud scale by searching for relevant visual data via visual metadata\n",
    "> stored as a graph and enabling machine friendly enhancements to visual data for faster access.\n",
    "\n",
    "## Installation and Setup\n",
    "\n",
    "### Install the Python SDK:\n",
    "```bash\n",
    "pip install langchain-vdms\n",
    "```"
   ]
  },
  {
   "cell_type": "markdown",
   "metadata": {},
   "source": [
    "### Install Database\n",
    "\n",
    "There are two ways to get started with VDMS:\n",
    "\n",
    "\n",
    "1. Install VDMS on your local machine via docker\n",
    "    ```bash\n",
    "        docker run -d -p 55555:55555 intellabs/vdms:latest\n",
    "    ```\n",
    "\n",
    "2. Install VDMS directly on your local machine\n",
    "    Please see [installation instructions](https://github.com/IntelLabs/vdms/blob/master/INSTALL.md).\n",
    "\n",
    "\n",
    "\n",
    "## VectorStore\n",
    "\n",
    "To import this vectorstore:"
   ]
  },
  {
   "cell_type": "code",
   "execution_count": null,
   "metadata": {},
   "outputs": [],
   "source": [
    "from langchain_vdms import VDMS\n",
    "from langchain_vdms.vectorstores import VDMS"
   ]
  },
  {
   "cell_type": "markdown",
   "metadata": {},
   "source": [
    "To import the VDMS Client connector:"
   ]
  },
  {
   "cell_type": "code",
   "execution_count": 2,
   "metadata": {},
   "outputs": [],
   "source": [
    "from langchain_vdms.vectorstores import VDMS_Client"
   ]
  },
  {
   "cell_type": "markdown",
   "metadata": {},
   "source": [
    "See a [usage example](/docs/integrations/vectorstores/vdms)."
   ]
  },
  {
   "cell_type": "markdown",
   "metadata": {},
   "source": [
    "For a more detailed walkthrough of the VDMS wrapper, see [this notebook](/docs/docs/integrations/vectorstores/vdms.ipynb)"
   ]
  }
 ],
 "metadata": {
  "colab": {
   "provenance": []
  },
  "kernelspec": {
   "display_name": ".langchain-venv",
   "language": "python",
   "name": "python3"
  },
  "language_info": {
   "codemirror_mode": {
    "name": "ipython",
    "version": 3
   },
   "file_extension": ".py",
   "mimetype": "text/x-python",
   "name": "python",
   "nbconvert_exporter": "python",
   "pygments_lexer": "ipython3",
   "version": "3.11.10"
  }
 },
 "nbformat": 4,
 "nbformat_minor": 1
}
