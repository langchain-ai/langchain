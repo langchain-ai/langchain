{
 "cells": [
  {
   "cell_type": "markdown",
   "metadata": {},
   "source": [
    "# Bodo DataFrames\n",
    "\n",
    "[Bodo DataFrames](https://github.com/bodo-ai/Bodo) is a high performance DataFrame library \n",
    "for large scale Python data processing and drop-in replacement for Pandas; simply replace:\n",
    "\n",
    "``` py\n",
    "import pandas as pd\n",
    "```\n",
    "\n",
    "with:\n",
    "``` py\n",
    "import bodo.pandas as pd\n",
    "```\n",
    "\n",
    "to automatically scale and accelerate Pandas workloads.\n",
    "Since Bodo DataFrames is compatible with Pandas, it is an ideal target for LLM code generation\n",
    "that's easy to verify, efficient, and scalable beyond the typical limitations of Pandas.\n",
    "\n",
    "Our integration package provides a toolkit for asking agents questions about large datasets\n",
    "using Bodo DataFrames for efficiency and scalability.\n",
    "\n",
    "Under the hood, Bodo DataFrames uses lazy evaluation to optimize sequences of Pandas operations, \n",
    "streams data through operators to enable processing larger-than-memory datasets, and\n",
    "leverages MPI-based high-performance computing technology for efficient parallel execution that can\n",
    "easily scale from laptop to large cluster.\n"
   ]
  },
  {
   "cell_type": "markdown",
   "metadata": {
    "vscode": {
     "languageId": "plaintext"
    }
   },
   "source": [
    "## Installation and setup"
   ]
  },
  {
   "cell_type": "code",
   "execution_count": null,
   "metadata": {},
   "outputs": [],
   "source": [
    "%pip install -U langchain_bodo"
   ]
  },
  {
   "cell_type": "markdown",
   "metadata": {
    "vscode": {
     "languageId": "plaintext"
    }
   },
   "source": [
    "## Toolkit\n",
    "\n",
    "The langchain-bodo package provides functionality for creating agents that can answer questions about large datasets using Bodo DataFrames. \n",
    "See [here](/docs/integrations/tools/bodo) for more detailed usage examples.\n",
    "\n",
    "**NOTE: This feature uses the `Python` agent under the hood, which executes LLM generated Python code - this can be bad if the LLM generated Python code is harmful. Use cautiously.**"
   ]
  },
  {
   "cell_type": "code",
   "execution_count": 3,
   "metadata": {},
   "outputs": [],
   "source": [
    "from langchain_bodo import create_bodo_dataframes_agent"
   ]
  },
  {
   "cell_type": "markdown",
   "metadata": {},
   "source": [
    "### Usage Example\n",
    "\n",
    "The dataset for this example can be found here: \n",
    "https://raw.githubusercontent.com/pandas-dev/pandas/main/doc/data/titanic.csv"
   ]
  },
  {
   "cell_type": "code",
   "execution_count": 4,
   "metadata": {},
   "outputs": [],
   "source": [
    "import bodo.pandas as pd\n",
    "from langchain_openai import OpenAI\n",
    "\n",
    "df = pd.read_csv(\"titanic.csv\")\n",
    "agent = create_bodo_dataframes_agent(\n",
    "    OpenAI(temperature=0),\n",
    "    df,\n",
    "    verbose=True,\n",
    "    allow_dangerous_code=True\n",
    ")"
   ]
  },
  {
   "cell_type": "code",
   "execution_count": 5,
   "metadata": {},
   "outputs": [
    {
     "name": "stdout",
     "output_type": "stream",
     "text": [
      "\n",
      "\n",
      "\u001b[1m> Entering new AgentExecutor chain...\u001b[0m\n",
      "\u001b[32;1m\u001b[1;3mThought: I can use the len() function to get the number of rows in the dataframe.\n",
      "Action: python_repl_ast\n",
      "Action Input: len(df)\u001b[0m\u001b[36;1m\u001b[1;3m891\u001b[0m\u001b[32;1m\u001b[1;3m891 is the number of rows in the dataframe.\n",
      "Final Answer: 891\u001b[0m\n",
      "\n",
      "\u001b[1m> Finished chain.\u001b[0m\n"
     ]
    },
    {
     "data": {
      "text/plain": [
       "{'input': 'how many rows are there?', 'output': '891'}"
      ]
     },
     "execution_count": 5,
     "metadata": {},
     "output_type": "execute_result"
    }
   ],
   "source": [
    "agent.invoke(\"how many rows are there?\")"
   ]
  }
 ],
 "metadata": {
  "colab": {
   "provenance": []
  },
  "kernelspec": {
   "display_name": "Python 3 (ipykernel)",
   "language": "python",
   "name": "python3"
  },
  "language_info": {
   "codemirror_mode": {
    "name": "ipython",
    "version": 3
   },
   "file_extension": ".py",
   "mimetype": "text/x-python",
   "name": "python",
   "nbconvert_exporter": "python",
   "pygments_lexer": "ipython3",
   "version": "3.12.6"
  }
 },
 "nbformat": 4,
 "nbformat_minor": 1
}
