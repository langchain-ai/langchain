{
  "nbformat": 4,
  "nbformat_minor": 0,
  "metadata": {
    "colab": {
      "provenance": []
    },
    "kernelspec": {
      "name": "python3",
      "display_name": "Python 3"
    },
    "language_info": {
      "name": "python"
    }
  },
  "cells": [
    {
      "cell_type": "markdown",
      "source": [
        "# Moorcheh"
      ],
      "metadata": {
        "id": "WQevYXcJuUWu"
      }
    },
    {
      "cell_type": "markdown",
      "source": [
        "#### Moorcheh is a vector database that can store text documents and vector embeddings as well as providing lightning-fast semantic search and accurate retrieval."
      ],
      "metadata": {
        "id": "iIROjpXcuuL-"
      }
    },
    {
      "cell_type": "markdown",
      "source": [
        "## Installation and Setup"
      ],
      "metadata": {
        "id": "QsdG0dFJvJe8"
      }
    },
    {
      "cell_type": "markdown",
      "source": [
        "#### Install the python SDK"
      ],
      "metadata": {
        "id": "RSXB9FfwvUgG"
      }
    },
    {
      "cell_type": "code",
      "source": [
        "!pip install langchain-moorcheh"
      ],
      "metadata": {
        "id": "zBvrH3axvWlf"
      },
      "execution_count": null,
      "outputs": []
    },
    {
      "cell_type": "markdown",
      "source": [
        "## Vector Store"
      ],
      "metadata": {
        "id": "3k-h0fS_1b3_"
      }
    },
    {
      "cell_type": "markdown",
      "source": [
        "#### This vector store acts as a wrapper for your Moorcheh namespaces, allowing you to upload documents and perform semantic search"
      ],
      "metadata": {
        "id": "kPsI-TJi1hPk"
      }
    },
    {
      "cell_type": "code",
      "source": [
        "from langchain_moorcheh import MoorchehVectorStore"
      ],
      "metadata": {
        "id": "807SjjIb1sOX"
      },
      "execution_count": null,
      "outputs": []
    }
  ]
}
