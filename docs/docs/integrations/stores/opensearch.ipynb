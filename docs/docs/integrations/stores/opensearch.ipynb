{
 "cells": [
  {
   "cell_type": "raw",
   "metadata": {
    "vscode": {
     "languageId": "raw"
    }
   },
   "source": [
    "---\n",
    "sidebar_label: OpenSearch\n",
    "---"
   ]
  },
  {
   "cell_type": "markdown",
   "metadata": {},
   "source": [
    "# OpenSearchStore\n",
    "\n",
    "This will help you get started with OpenSearch [key-value stores](/docs/concepts/key_value_stores). For detailed documentation of all `OpenSearchStore` features and configurations head to the [API reference](https://python.langchain.com/api_reference/community/storage/langchain_community.storage.opensearch.OpenSearchStore.html).\n",
    "\n",
    "`OpenSearchStore` need the `opensearch-py` package to be installed:"
   ]
  },
  {
   "cell_type": "code",
   "execution_count": null,
   "metadata": {
    "vscode": {
     "languageId": "plaintext"
    }
   },
   "outputs": [],
   "source": [
    "%pip install --upgrade --quiet  opensearch-py"
   ]
  },
  {
   "cell_type": "markdown",
   "metadata": {},
   "source": [
    "The Store takes the following parameters:\n",
    "\n",
    "* `host`: Your OpenSearch host API endpoint. Looks like `https://localhost:9200`\n",
    "* `index_name`: The index name where stores inside OpenSearch.\n",
    "* `username` : (Optional) OpenSearch username\n",
    "* `password`: (Optional) OpenSearch password"
   ]
  },
  {
   "cell_type": "markdown",
   "metadata": {},
   "source": [
    "## OpenSearchStore\n",
    "\n",
    "The `OpenSearchStore` is an implementation of `BaseStore` that stores everything in your OpenSearch.\n",
    "\n",
    "### Integration details\n",
    "\n",
    "| Class | Package | Local | JS support | Package downloads | Package latest |\n",
    "| :--- | :--- | :---: | :---: |  :---: | :---: |\n",
    "| [OpenSearchStore](https://python.langchain.com/api_reference/community/storage/langchain_community.storage.opensearch.OpenSearchStore.html) | [langchain_community](https://python.langchain.com/api_reference/community/index.html) | ❌ | ❌ | ![PyPI - Downloads](https://img.shields.io/pypi/dm/langchain_community?style=flat-square&label=%20) | ![PyPI - Version](https://img.shields.io/pypi/v/langchain_community?style=flat-square&label=%20) |"
   ]
  },
  {
   "cell_type": "code",
   "execution_count": null,
   "metadata": {},
   "outputs": [],
   "source": [
    "from langchain_community.storage import OpenSearchStore"
   ]
  },
  {
   "cell_type": "code",
   "execution_count": null,
   "metadata": {},
   "outputs": [],
   "source": [
    "docstore = OpenSearchStore(\n",
    "    host=\"https://localhost:9200\",\n",
    "    index_name=\"helloworld\",\n",
    ")"
   ]
  },
  {
   "cell_type": "code",
   "execution_count": null,
   "metadata": {},
   "outputs": [
    {
     "name": "stdout",
     "output_type": "stream",
     "text": [
      "['v1', [0.1, 0.2, 0.3]]\n"
     ]
    }
   ],
   "source": [
    "docstore.mset([(\"k1\", \"v1\"), (\"k2\", [0.1, 0.2, 0.3])])\n",
    "print(docstore.mget([\"k1\", \"k2\"]))"
   ]
  },
  {
   "cell_type": "markdown",
   "metadata": {},
   "source": [
    "And you can delete data using the `mdelete` method:"
   ]
  },
  {
   "cell_type": "code",
   "execution_count": null,
   "metadata": {},
   "outputs": [],
   "source": [
    "docstore.mdelete(\n",
    "    [\n",
    "        \"key1\",\n",
    "        \"key2\",\n",
    "    ]\n",
    ")\n",
    "\n",
    "docstore.mget(\n",
    "    [\n",
    "        \"key1\",\n",
    "        \"key2\",\n",
    "    ]\n",
    ")"
   ]
  }
 ],
 "metadata": {
  "kernelspec": {
   "display_name": ".venv",
   "language": "python",
   "name": "python3"
  },
  "language_info": {
   "codemirror_mode": {
    "name": "ipython",
    "version": 3
   },
   "file_extension": ".py",
   "mimetype": "text/x-python",
   "name": "python",
   "nbconvert_exporter": "python",
   "pygments_lexer": "ipython3",
   "version": "3.11.4"
  }
 },
 "nbformat": 4,
 "nbformat_minor": 2
}
