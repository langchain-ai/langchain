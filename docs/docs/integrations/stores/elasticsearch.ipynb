{
 "cells": [
  {
   "cell_type": "raw",
   "metadata": {
    "vscode": {
     "languageId": "raw"
    }
   },
   "source": [
    "---\n",
    "sidebar_label: Elasticsearch\n",
    "---"
   ]
  },
  {
   "cell_type": "markdown",
   "metadata": {},
   "source": [
    "# ElasticsearchEmbeddingsCache\n",
    "\n",
    "This will help you get started with Elasticsearch [key-value stores](/docs/concepts/key_value_stores). For detailed documentation of all `ElasticsearchEmbeddingsCache` features and configurations head to the [API reference](https://python.langchain.com/api_reference/elasticsearch/cache/langchain_elasticsearch.cache.ElasticsearchEmbeddingsCache.html).\n",
    "\n",
    "## Overview\n",
    "\n",
    "The `ElasticsearchEmbeddingsCache` is a `ByteStore` implementation that uses your Elasticsearch instance for efficient storage and retrieval of embeddings.\n",
    "\n",
    "### Integration details\n",
    "\n",
    "| Class | Package | Local | JS support | Package downloads | Package latest |\n",
    "| :--- | :--- | :---: | :---: |  :---: | :---: |\n",
    "| [ElasticsearchEmbeddingsCache](https://python.langchain.com/api_reference/elasticsearch/cache/langchain_elasticsearch.cache.ElasticsearchEmbeddingsCache.html) | [langchain_elasticsearch](https://python.langchain.com/api_reference/elasticsearch/index.html) | ✅ | ❌ | ![PyPI - Downloads](https://img.shields.io/pypi/dm/langchain_elasticsearch?style=flat-square&label=%20) | ![PyPI - Version](https://img.shields.io/pypi/v/langchain_elasticsearch?style=flat-square&label=%20) |\n",
    "\n",
    "## Setup\n",
    "\n",
    "To create a `ElasticsearchEmbeddingsCache` byte store, you'll need an Elasticsearch cluster. You can [set one up locally](https://www.elastic.co/downloads/elasticsearch) or create an [Elastic account](https://www.elastic.co/elasticsearch)."
   ]
  },
  {
   "cell_type": "markdown",
   "metadata": {},
   "source": [
    "### Installation\n",
    "\n",
    "The LangChain `ElasticsearchEmbeddingsCache` integration lives in the `__package_name__` package:"
   ]
  },
  {
   "cell_type": "code",
   "execution_count": null,
   "metadata": {},
   "outputs": [],
   "source": [
    "%pip install -qU langchain_elasticsearch"
   ]
  },
  {
   "cell_type": "markdown",
   "metadata": {},
   "source": [
    "## Instantiation\n",
    "\n",
    "Now we can instantiate our byte store:"
   ]
  },
  {
   "cell_type": "code",
   "execution_count": 4,
   "metadata": {},
   "outputs": [],
   "source": [
    "from langchain_elasticsearch import ElasticsearchEmbeddingsCache\n",
    "\n",
    "# Example config for a locally running Elasticsearch instance\n",
    "kv_store = ElasticsearchEmbeddingsCache(\n",
    "    es_url=\"https://localhost:9200\",\n",
    "    index_name=\"llm-chat-cache\",\n",
    "    metadata={\"project\": \"my_chatgpt_project\"},\n",
    "    namespace=\"my_chatgpt_project\",\n",
    "    es_user=\"elastic\",\n",
    "    es_password=\"<GENERATED PASSWORD>\",\n",
    "    es_params={\n",
    "        \"ca_certs\": \"~/http_ca.crt\",\n",
    "    },\n",
    ")"
   ]
  },
  {
   "cell_type": "markdown",
   "metadata": {},
   "source": [
    "## Usage\n",
    "\n",
    "You can set data under keys like this using the `mset` method:"
   ]
  },
  {
   "cell_type": "code",
   "execution_count": 5,
   "metadata": {},
   "outputs": [
    {
     "data": {
      "text/plain": [
       "[b'value1', b'value2']"
      ]
     },
     "execution_count": 5,
     "metadata": {},
     "output_type": "execute_result"
    }
   ],
   "source": [
    "kv_store.mset(\n",
    "    [\n",
    "        [\"key1\", b\"value1\"],\n",
    "        [\"key2\", b\"value2\"],\n",
    "    ]\n",
    ")\n",
    "\n",
    "kv_store.mget(\n",
    "    [\n",
    "        \"key1\",\n",
    "        \"key2\",\n",
    "    ]\n",
    ")"
   ]
  },
  {
   "cell_type": "markdown",
   "metadata": {},
   "source": [
    "And you can delete data using the `mdelete` method:"
   ]
  },
  {
   "cell_type": "code",
   "execution_count": 6,
   "metadata": {},
   "outputs": [
    {
     "data": {
      "text/plain": [
       "[None, None]"
      ]
     },
     "execution_count": 6,
     "metadata": {},
     "output_type": "execute_result"
    }
   ],
   "source": [
    "kv_store.mdelete(\n",
    "    [\n",
    "        \"key1\",\n",
    "        \"key2\",\n",
    "    ]\n",
    ")\n",
    "\n",
    "kv_store.mget(\n",
    "    [\n",
    "        \"key1\",\n",
    "        \"key2\",\n",
    "    ]\n",
    ")"
   ]
  },
  {
   "cell_type": "markdown",
   "metadata": {},
   "source": [
    "## Use as an embeddings cache\n",
    "\n",
    "Like other `ByteStores`, you can use an `ElasticsearchEmbeddingsCache` instance for [persistent caching in document ingestion](/docs/how_to/caching_embeddings/) for RAG.\n",
    "\n",
    "However, cached vectors won't be searchable by default. The developer can customize the building of the Elasticsearch document in order to add indexed vector field.\n",
    "\n",
    "This can be done by subclassing and overriding methods:"
   ]
  },
  {
   "cell_type": "code",
   "execution_count": null,
   "metadata": {},
   "outputs": [],
   "source": [
    "from typing import Any, Dict, List\n",
    "\n",
    "\n",
    "class SearchableElasticsearchStore(ElasticsearchEmbeddingsCache):\n",
    "    @property\n",
    "    def mapping(self) -> Dict[str, Any]:\n",
    "        mapping = super().mapping\n",
    "        mapping[\"mappings\"][\"properties\"][\"vector\"] = {\n",
    "            \"type\": \"dense_vector\",\n",
    "            \"dims\": 1536,\n",
    "            \"index\": True,\n",
    "            \"similarity\": \"dot_product\",\n",
    "        }\n",
    "        return mapping\n",
    "\n",
    "    def build_document(self, llm_input: str, vector: List[float]) -> Dict[str, Any]:\n",
    "        body = super().build_document(llm_input, vector)\n",
    "        body[\"vector\"] = vector\n",
    "        return body"
   ]
  },
  {
   "cell_type": "markdown",
   "metadata": {},
   "source": [
    "When overriding the mapping and the document building, please only make additive modifications, keeping the base mapping intact."
   ]
  },
  {
   "cell_type": "markdown",
   "metadata": {},
   "source": [
    "## API reference\n",
    "\n",
    "For detailed documentation of all `ElasticsearchEmbeddingsCache` features and configurations, head to the API reference: https://python.langchain.com/api_reference/elasticsearch/cache/langchain_elasticsearch.cache.ElasticsearchEmbeddingsCache.html"
   ]
  }
 ],
 "metadata": {
  "kernelspec": {
   "display_name": "Python 3",
   "language": "python",
   "name": "python3"
  },
  "language_info": {
   "name": "python",
   "version": "3.10.5"
  }
 },
 "nbformat": 4,
 "nbformat_minor": 2
}
