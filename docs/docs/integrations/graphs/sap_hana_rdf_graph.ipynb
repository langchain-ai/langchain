{
 "cells": [
  {
   "cell_type": "markdown",
   "id": "a21f45a7",
   "metadata": {},
   "source": [
    "# SAP HANA Cloud Knowledge Graph Engine\n",
    "[SAP HANA Cloud Knowledge Graph](https://help.sap.com/docs/hana-cloud-database/sap-hana-cloud-sap-hana-database-knowledge-graph-guide/sap-hana-cloud-sap-hana-database-knowledge-graph-engine-guide) is a fully integrated knowledge graph solution within the `SAP HANA Cloud` database.\"\n",
    "\n",
    "## Setup & Installation\n",
    "You must have an SAP HANA Cloud instance with the **triple store** feature enabled.,\n",
    "For detailed instructions, refer to: [Enable Triple Store](https://help.sap.com/docs/hana-cloud-database/sap-hana-cloud-sap-hana-database-knowledge-graph-guide/enable-triple-store/)\n",
    "\n",
    "To use SAP HANA Knowledge Graph Engine and/or Vector Store Engine with LangChain, install the `langchain-hana` package:"
   ]
  },
  {
   "cell_type": "code",
   "execution_count": null,
   "id": "890beddc",
   "metadata": {
    "vscode": {
     "languageId": "shellscript"
    }
   },
   "outputs": [],
   "source": [
    "pip install langchain_hana"
   ]
  },
  {
   "cell_type": "markdown",
   "id": "951a2b31",
   "metadata": {},
   "source": [
    "First, create a connection to your SAP HANA Cloud instance."
   ]
  },
  {
   "cell_type": "code",
   "execution_count": 10,
   "id": "46a66d94",
   "metadata": {},
   "outputs": [],
   "source": [
    "import os\n",
    "\n",
    "from dotenv import load_dotenv\n",
    "from hdbcli import dbapi\n",
    "\n",
    "# Load environment variables if needed\n",
    "load_dotenv()\n",
    "\n",
    "# Establish connection to SAP HANA Cloud\n",
    "connection = dbapi.connect(\n",
    "    address=os.environ.get(\"HANA_DB_ADDRESS\"),\n",
    "    port=os.environ.get(\"HANA_DB_PORT\"),\n",
    "    user=os.environ.get(\"HANA_DB_USER\"),\n",
    "    password=os.environ.get(\"HANA_DB_PASSWORD\"),\n",
    "    autocommit=True,\n",
    "    sslValidateCertificate=False,\n",
    ")"
   ]
  },
  {
   "cell_type": "markdown",
   "id": "0871029d",
   "metadata": {},
   "source": [
    "Then, import the `HanaRdfGraph` Class"
   ]
  },
  {
   "cell_type": "code",
   "execution_count": 11,
   "id": "4f86ef42",
   "metadata": {},
   "outputs": [],
   "source": [
    "from langchain_hana import HanaRdfGraph"
   ]
  },
  {
   "cell_type": "markdown",
   "id": "baa8e27e",
   "metadata": {},
   "source": [
    "## Creating a HanaRdfGraph Instance"
   ]
  },
  {
   "cell_type": "markdown",
   "id": "16afb74d",
   "metadata": {},
   "source": [
    " The constructor requires:\n",
    "\n",
    "- **`connection`**: an active `hdbcli.dbapi.connect(...)` instance  \n",
    "- **`graph_uri`**: the named graph (or `\"DEFAULT\"`) where your RDF data lives  \n",
    "- **One of**:  \n",
    "  1. **`ontology_query`**: a SPARQL CONSTRUCT to extract schema triples  \n",
    "  2. **`ontology_uri`**: a hosted ontology graph URI  \n",
    "  3. **`ontology_local_file`** + **`ontology_local_file_format`**: a local Turtle/RDF file  \n",
    "  4. **`auto_extract_ontology=True`** (not recommended for production—see note)\n",
    "\n",
    "`graph_uri` vs. Ontology\n",
    "- **`graph_uri`**:  \n",
    "  The named graph in your SAP HANA Cloud instance that contains your instance data (sometimes 100k+ triples).\n",
    "  If `None` or `\"DEFAULT\"` is provided, the default graph is used.\n",
    "- **Ontology**: a lean schema (typically ~50-100 triples) describing classes, properties, domains, ranges, labels, comments, and subclass relationships. The ontology guides SPARQL generation and result interpretation."
   ]
  },
  {
   "cell_type": "markdown",
   "id": "ac775582",
   "metadata": {},
   "source": [
    "### Creating a graph instance with **DEFAULT** Graph\n",
    "More info on the DEFAULT graph can be found at [DEFAULT Graph and Named Graphs](https://help.sap.com/docs/hana-cloud-database/sap-hana-cloud-sap-hana-database-knowledge-graph-guide/default-graph-and-named-graphs)."
   ]
  },
  {
   "cell_type": "code",
   "execution_count": 12,
   "id": "de839ea1",
   "metadata": {},
   "outputs": [],
   "source": [
    "\n",
    "graph = HanaRdfGraph(\n",
    "    connection=connection,\n",
    "    auto_extract_ontology=True,\n",
    ")\n",
    "\n",
    "# graph = HanaRdfGraph(\n",
    "#     connection=connection,\n",
    "#     graph_uri=\"DEFAULT\",\n",
    "#     auto_extract_ontology=True,\n",
    "# )\n",
    "\n",
    "# graph = HanaRdfGraph(\n",
    "#     connection=connection,\n",
    "#     graph_uri=\"\",\n",
    "#     auto_extract_ontology=True,\n",
    "# )"
   ]
  },
  {
   "cell_type": "markdown",
   "id": "0ae5e22e",
   "metadata": {},
   "source": [
    "### Creating a graph instance with a `graph_uri`"
   ]
  },
  {
   "cell_type": "code",
   "execution_count": null,
   "id": "7872e84d",
   "metadata": {},
   "outputs": [],
   "source": [
    "graph = HanaRdfGraph(\n",
    "    connection=connection,\n",
    "    graph_uri=\"http://example.org/movies\",\n",
    "    auto_extract_ontology=True,\n",
    ")"
   ]
  },
  {
   "cell_type": "markdown",
   "id": "20a874c6",
   "metadata": {},
   "source": [
    "### Creating a graph instance with a remote `ontology_uri`\n",
    "Load the schema directly from a hosted graph URI."
   ]
  },
  {
   "cell_type": "code",
   "execution_count": null,
   "id": "d8a77473",
   "metadata": {},
   "outputs": [],
   "source": [
    "graph = HanaRdfGraph(\n",
    "    connection=connection,\n",
    "    ontology_uri=\"<your_ontology_graph_uri>\",\n",
    ")"
   ]
  },
  {
   "cell_type": "markdown",
   "id": "9f966caf",
   "metadata": {},
   "source": [
    "### Creating a graph instance with a custom `ontology_query`\n",
    "Use a custom `CONSTRUCT` query to selectively extract schema triples."
   ]
  },
  {
   "cell_type": "code",
   "execution_count": null,
   "id": "0938ef6a",
   "metadata": {},
   "outputs": [],
   "source": [
    "ontology_query = \"\"\"\n",
    "\t\tPREFIX owl: <http://www.w3.org/2002/07/owl#>\n",
    "\t\tPREFIX rdf: <http://www.w3.org/1999/02/22-rdf-syntax-ns#>\n",
    "\t\tPREFIX rdfs: <http://www.w3.org/2000/01/rdf-schema#>\n",
    "\t\tPREFIX xsd: <http://www.w3.org/2001/XMLSchema#>\n",
    "\t\tCONSTRUCT {?cls rdf:type owl:Class . ?cls rdfs:label ?clsLabel . ?rel rdf:type ?propertyType . ?rel rdfs:label ?relLabel . ?rel rdfs:domain ?domain . ?rel rdfs:range ?range .}\n",
    "\t\tFROM <kgdocu_movies>\n",
    "\t\tWHERE { # get properties\n",
    "\t\t\t{SELECT DISTINCT ?domain ?rel ?relLabel ?propertyType ?range\n",
    "\t\t\tWHERE {\n",
    "\t\t\t\t?subj ?rel ?obj .\n",
    "\t\t\t\t?subj a ?domain .\n",
    "\t\t\t\tOPTIONAL{?obj a ?rangeClass .}\n",
    "\t\t\t\tFILTER(?rel != rdf:type)\n",
    "\t\t\t\tBIND(IF(isIRI(?obj) = true, owl:ObjectProperty, owl:DatatypeProperty) AS ?propertyType)\n",
    "\t\t\t\tBIND(COALESCE(?rangeClass, DATATYPE(?obj)) AS ?range)\n",
    "\t\t\t\tBIND(STR(?rel) AS ?uriStr)       # Convert URI to string\n",
    "  \t\t\t\tBIND(REPLACE(?uriStr, \"^.*[/#]\", \"\") AS ?relLabel)\n",
    "\t\t\t}}\n",
    "\t\t\tUNION { # get classes\n",
    "\t\t\t\tSELECT DISTINCT ?cls ?clsLabel\n",
    "\t\t\t\tWHERE {\n",
    "\t\t\t\t\t?instance a/rdfs:subClassOf* ?cls .\n",
    "\t\t\t\t\tFILTER (isIRI(?cls)) .\n",
    "\t\t\t\t\tBIND(STR(?cls) AS ?uriStr)       # Convert URI to string\n",
    "  \t\t\t\t\tBIND(REPLACE(?uriStr, \"^.*[/#]\", \"\") AS ?clsLabel)\n",
    "\t\t\t\t}\n",
    "\t\t\t}\n",
    "\t\t}\n",
    "\"\"\"\n",
    "\n",
    "# can provide the graph_uri param as well if needed\n",
    "graph = HanaRdfGraph(\n",
    "    connection=connection,\n",
    "    ontology_query=ontology_query,\n",
    ")"
   ]
  },
  {
   "cell_type": "markdown",
   "id": "1f136924",
   "metadata": {},
   "source": [
    "### Creating a graph instance with a Local rdf file\n",
    "(`ontology_local_file` + `ontology_local_file_format`): Load the schema from a local RDF ontology file.\n",
    "\n",
    "Supported RDF formats are `Turtle`, `RDF/XML`, `JSON-LD`, `N-Triples`, `Notation-3`, `Trig`, `Trix`, `N-Quads`."
   ]
  },
  {
   "cell_type": "code",
   "execution_count": null,
   "id": "35e74c74",
   "metadata": {},
   "outputs": [],
   "source": [
    "graph = HanaRdfGraph(\n",
    "    connection=connection,\n",
    "    ontology_local_file=\"<your_ontology_file_path>\", # e.g., \"ontology.ttl\"\n",
    "    ontology_local_file_format=\"<your_ontology_file_format>\",  # e.g., \"Turtle\", \"RDF/XML\", \"JSON-LD\", \"N-Triples\", \"Notation-3\", \"Trig\", \"Trix\", \"N-Quads\"\n",
    ")"
   ]
  },
  {
   "cell_type": "markdown",
   "id": "6220e1df",
   "metadata": {},
   "source": [
    "### Auto extraction of ontology\n",
    "(`auto_extract_ontology=True`): Infer schema information directly from your instance data."
   ]
  },
  {
   "cell_type": "code",
   "execution_count": null,
   "id": "a9d9e037",
   "metadata": {},
   "outputs": [],
   "source": [
    "graph = HanaRdfGraph(\n",
    "    connection=connection,\n",
    "    graph_uri=\"<your_graph_uri>\",\n",
    "    auto_extract_ontology=True,\n",
    ")"
   ]
  },
  {
   "cell_type": "markdown",
   "id": "ac2a1ac1",
   "metadata": {},
   "source": [
    "> **Note**: Auto-extraction is **not** recommended for production—it omits important triples like `rdfs:label`, `rdfs:comment`, and `rdfs:subClassOf` in general."
   ]
  },
  {
   "cell_type": "markdown",
   "id": "fb0998cf",
   "metadata": {},
   "source": [
    "## Executing SPARQL Queries\n",
    "\n",
    "You can use the `query()` method to execute arbitrary SPARQL queries (`SELECT`, `ASK`, `CONSTRUCT`, etc.) on the data graph.\n",
    "\n",
    "The function has the following parameters\n",
    "- **query**: the SPARQL query string.\n",
    "- **content_type**: the response format  for the output (Default is CSV)\n",
    "\n",
    "Please use the following strings for the respective formats.\n",
    "- CSV: `\"sparql-results+xml\"`\n",
    "- JSON: `\"sparql-results+json\"`\n",
    "- XML: `\"sparql-results+csv\"`\n",
    "- TSV: `\"sparql-results+tsv\"`\n",
    "\n",
    "> **Note**: CONSTRUCT and ASK Queries return `turtle` and `boolean` formats respectively.\n",
    "\n",
    "The given query lists all tuples in my DEFAULT graph.  "
   ]
  },
  {
   "cell_type": "code",
   "execution_count": 14,
   "id": "078ce2c9",
   "metadata": {},
   "outputs": [
    {
     "name": "stdout",
     "output_type": "stream",
     "text": [
      "s,p,o\n",
      "http://example.com/Puppet,http://www.w3.org/2000/01/rdf-schema#label,Puppet\n",
      "http://example.com/show,http://www.w3.org/2000/01/rdf-schema#domain,http://example.com/Puppet\n",
      "http://example.com/name,http://www.w3.org/2000/01/rdf-schema#domain,http://example.com/Puppet\n",
      "http://example.com/show,http://www.w3.org/1999/02/22-rdf-syntax-ns#type,http://www.w3.org/2002/07/owl#DatatypeProperty\n",
      "http://example.com/show,http://www.w3.org/2000/01/rdf-schema#range,http://www.w3.org/2001/XMLSchema#string\n",
      "http://example.com/name,http://www.w3.org/1999/02/22-rdf-syntax-ns#type,http://www.w3.org/2002/07/owl#DatatypeProperty\n",
      "http://example.com/name,http://www.w3.org/2000/01/rdf-schema#range,http://www.w3.org/2001/XMLSchema#string\n",
      "http://example.com/Puppet,http://www.w3.org/1999/02/22-rdf-syntax-ns#type,http://www.w3.org/2002/07/owl#Class\n",
      "http://example.com/name,http://www.w3.org/2000/01/rdf-schema#label,name\n",
      "http://example.com/show,http://www.w3.org/2000/01/rdf-schema#label,show\n",
      "\n"
     ]
    }
   ],
   "source": [
    "query = \"\"\"\n",
    "    SELECT ?s ?p ?o\n",
    "    WHERE {\n",
    "        ?s ?p ?o .\n",
    "    }\n",
    "\"\"\"\n",
    "\n",
    "result = graph.query(query)\n",
    "print(result)"
   ]
  }
 ],
 "metadata": {
  "kernelspec": {
   "display_name": "rdfnotebook-env",
   "language": "python",
   "name": "python3"
  },
  "language_info": {
   "codemirror_mode": {
    "name": "ipython",
    "version": 3
   },
   "file_extension": ".py",
   "mimetype": "text/x-python",
   "name": "python",
   "nbconvert_exporter": "python",
   "pygments_lexer": "ipython3",
   "version": "3.13.0"
  }
 },
 "nbformat": 4,
 "nbformat_minor": 5
}
