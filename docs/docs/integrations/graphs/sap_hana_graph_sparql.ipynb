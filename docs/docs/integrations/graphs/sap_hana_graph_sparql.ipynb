{
 "cells": [
  {
   "cell_type": "markdown",
   "id": "f46bd472-9a41-4cdd-ab40-7ebfb4e2aa87",
   "metadata": {},
   "source": [
    "# SAP HANA Cloud Knowledge Graph Engine\n",
    "\n",
    ">[SAP HANA Cloud Knowledge Graph](https://help.sap.com/docs/hana-cloud-database/sap-hana-cloud-sap-hana-database-knowledge-graph-guide/sap-hana-cloud-sap-hana-database-knowledge-graph-engine-guide) is a fully integrated knowledge graph solution within the `SAP HANA Cloud` database.\n",
    ">\n",
    ">This example demonstrates how to build a QA (Question-Answering) chain that queries [Resource Description Framework (RDF)](https://en.wikipedia.org/wiki/Resource_Description_Framework) data stored in an `SAP HANA Cloud` instance using the `SPARQL` query language, and returns a human-readable response.\n",
    ">\n",
    ">[SPARQL](https://en.wikipedia.org/wiki/SPARQL) is the standard query language for querying `RDF` graphs.\n"
   ]
  },
  {
   "cell_type": "markdown",
   "id": "3d4ad465-8e62-49b5-81c7-3e98d6e85e53",
   "metadata": {},
   "source": [
    "## Setup & Installation"
   ]
  },
  {
   "cell_type": "markdown",
   "id": "a06e4c74-5818-4347-9f3d-d63202ae68e5",
   "metadata": {},
   "source": [
    "**Prerequisite**:  \n",
    "You must have an SAP HANA Cloud instance with the **triple store** feature enabled.  \n",
    "For detailed instructions, refer to: [Enable Triple Store](https://help.sap.com/docs/hana-cloud-database/sap-hana-cloud-sap-hana-database-knowledge-graph-guide/enable-triple-store).<br>\n",
    "Load the `kgdocu_movies` example data. See [Knowledge Graph Example](https://help.sap.com/docs/hana-cloud-database/sap-hana-cloud-sap-hana-database-knowledge-graph-guide/knowledge-graph-example)."
   ]
  },
  {
   "cell_type": "markdown",
   "id": "5c519a33-b21d-4a45-a6a9-b1538da40751",
   "metadata": {},
   "source": [
    "To use SAP HANA Knowledge Graph Engine and/or Vector Store Engine with LangChain, install the `langchain-hana` package:"
   ]
  },
  {
   "cell_type": "code",
   "execution_count": 1,
   "id": "8234ebee",
   "metadata": {},
   "outputs": [],
   "source": [
    "import langchain_hana"
   ]
  },
  {
   "cell_type": "markdown",
   "id": "0cc3e3fb-9fad-464e-a68a-f49cb3da31bd",
   "metadata": {},
   "source": [
    "First, create a connection to your SAP HANA Cloud instance."
   ]
  },
  {
   "cell_type": "code",
   "execution_count": null,
   "id": "452fedb4-e121-41bd-92de-ae211d2bf928",
   "metadata": {},
   "outputs": [],
   "source": [
    "import os\n",
    "\n",
    "from dotenv import load_dotenv\n",
    "from hdbcli import dbapi\n",
    "\n",
    "# Load environment variables if needed\n",
    "load_dotenv()\n",
    "\n",
    "# Establish connection to SAP HANA Cloud\n",
    "connection = dbapi.connect(\n",
    "    address=os.environ.get(\"HANA_DB_ADDRESS\"),\n",
    "    port=os.environ.get(\"HANA_DB_PORT\"),\n",
    "    user=os.environ.get(\"HANA_DB_USER\"),\n",
    "    password=os.environ.get(\"HANA_DB_PASSWORD\"),\n",
    "    autocommit=True,\n",
    "    sslValidateCertificate=False,\n",
    ")"
   ]
  },
  {
   "cell_type": "markdown",
   "id": "9e51f87a-ffe1-464b-874e-297fe5dd4547",
   "metadata": {},
   "source": [
    "## Example: Question Answering over a “Movies” Knowledge Graph\n",
    "\n",
    "Below we’ll:\n",
    "\n",
    "1. Instantiate the `HanaRdfGraph` pointing at our “movies” data graph  \n",
    "2. Wrap it in a `HanaSparqlQAChain` powered by an LLM  \n",
    "3. Ask natural-language questions and print out the chain’s responses  \n",
    "\n",
    "This demonstrates how the LLM generates SPARQL under the hood, executes it against SAP HANA, and returns a human-readable answer.\n",
    "\n",
    "We'll use the `sap-ai-sdk-gen` package. Currently still installed via: \n",
    "\n",
    "`pip install \"generative-ai-hub-sdk[all]\"` \n",
    "\n",
    "Please check [sap-ai-sdk-gen](https://pypi.org/project/sap-ai-sdk-gen/) for future releases."
   ]
  },
  {
   "cell_type": "code",
   "execution_count": null,
   "id": "adba3dd8-2786-4157-9db5-901ffa3d89d5",
   "metadata": {},
   "outputs": [],
   "source": [
    "from gen_ai_hub.proxy.langchain.openai import ChatOpenAI\n",
    "from langchain_hana import HanaRdfGraph, HanaSparqlQAChain\n",
    "\n",
    "# from langchain_openai import ChatOpenAI  # or your chosen LLM"
   ]
  },
  {
   "cell_type": "code",
   "execution_count": 4,
   "id": "3a2e0e4c-e242-42f5-b117-83ce9db0e3a5",
   "metadata": {},
   "outputs": [],
   "source": [
    "# Set up the Knowledge Graph\n",
    "graph_uri = \"kgdocu_movies\"\n",
    "\n",
    "graph = HanaRdfGraph(\n",
    "    connection=connection, graph_uri=graph_uri, auto_extract_ontology=True\n",
    ")"
   ]
  },
  {
   "cell_type": "code",
   "execution_count": 5,
   "id": "6daab00b",
   "metadata": {},
   "outputs": [
    {
     "name": "stdout",
     "output_type": "stream",
     "text": [
      "@prefix owl: <http://www.w3.org/2002/07/owl#> .\n",
      "@prefix rdfs: <http://www.w3.org/2000/01/rdf-schema#> .\n",
      "@prefix xsd: <http://www.w3.org/2001/XMLSchema#> .\n",
      "\n",
      "<http://kg.demo.sap.com/acted_in> a owl:ObjectProperty ;\n",
      "    rdfs:label \"acted_in\" ;\n",
      "    rdfs:domain <http://kg.demo.sap.com/Actor> ;\n",
      "    rdfs:range <http://kg.demo.sap.com/Film> .\n",
      "\n",
      "<http://kg.demo.sap.com/dateOfBirth> a owl:DatatypeProperty ;\n",
      "    rdfs:label \"dateOfBirth\" ;\n",
      "    rdfs:domain <http://kg.demo.sap.com/Actor> ;\n",
      "    rdfs:range xsd:dateTime .\n",
      "\n",
      "<http://kg.demo.sap.com/directed> a owl:ObjectProperty ;\n",
      "    rdfs:label \"directed\" ;\n",
      "    rdfs:domain <http://kg.demo.sap.com/Director> ;\n",
      "    rdfs:range <http://kg.demo.sap.com/Film> .\n",
      "\n",
      "<http://kg.demo.sap.com/genre> a owl:ObjectProperty ;\n",
      "    rdfs:label \"genre\" ;\n",
      "    rdfs:domain <http://kg.demo.sap.com/Film> ;\n",
      "    rdfs:range <http://kg.demo.sap.com/Genre> .\n",
      "\n",
      "<http://kg.demo.sap.com/placeOfBirth> a owl:ObjectProperty ;\n",
      "    rdfs:label \"placeOfBirth\" ;\n",
      "    rdfs:domain <http://kg.demo.sap.com/Actor> ;\n",
      "    rdfs:range <http://kg.demo.sap.com/Place> .\n",
      "\n",
      "<http://kg.demo.sap.com/title> a owl:DatatypeProperty ;\n",
      "    rdfs:label \"title\" ;\n",
      "    rdfs:domain <http://kg.demo.sap.com/Film> ;\n",
      "    rdfs:range xsd:string .\n",
      "\n",
      "rdfs:label a owl:DatatypeProperty ;\n",
      "    rdfs:label \"label\" ;\n",
      "    rdfs:domain <http://kg.demo.sap.com/Actor>,\n",
      "        <http://kg.demo.sap.com/Director>,\n",
      "        <http://kg.demo.sap.com/Genre>,\n",
      "        <http://kg.demo.sap.com/Place> ;\n",
      "    rdfs:range xsd:string .\n",
      "\n",
      "<http://kg.demo.sap.com/Director> a owl:Class ;\n",
      "    rdfs:label \"Director\" .\n",
      "\n",
      "<http://kg.demo.sap.com/Genre> a owl:Class ;\n",
      "    rdfs:label \"Genre\" .\n",
      "\n",
      "<http://kg.demo.sap.com/Place> a owl:Class ;\n",
      "    rdfs:label \"Place\" .\n",
      "\n",
      "<http://kg.demo.sap.com/Actor> a owl:Class ;\n",
      "    rdfs:label \"Actor\" .\n",
      "\n",
      "<http://kg.demo.sap.com/Film> a owl:Class ;\n",
      "    rdfs:label \"Film\" .\n",
      "\n",
      "\n"
     ]
    }
   ],
   "source": [
    "# a basic graph schema is extracted from the data graph. This schema will guide the LLM to generate a proper SPARQL query.\n",
    "print(graph.get_schema)"
   ]
  },
  {
   "cell_type": "code",
   "execution_count": 6,
   "id": "d58cabc8-3912-49d2-9296-e8d49cc3525c",
   "metadata": {},
   "outputs": [],
   "source": [
    "# Initialize the LLM\n",
    "llm = ChatOpenAI(proxy_model_name=\"gpt-4o\", temperature=0)"
   ]
  },
  {
   "cell_type": "code",
   "execution_count": 7,
   "id": "e29a141d-f511-4930-8ea2-51d3b02bb5a4",
   "metadata": {},
   "outputs": [],
   "source": [
    "# Create a SPARQL QA Chain\n",
    "chain = HanaSparqlQAChain.from_llm(\n",
    "    llm=llm,\n",
    "    verbose=True,\n",
    "    allow_dangerous_requests=True,\n",
    "    graph=graph,\n",
    ")"
   ]
  },
  {
   "cell_type": "code",
   "execution_count": 8,
   "id": "f2f3ebe8-8ea5-4e26-b311-73c7682d3fe9",
   "metadata": {},
   "outputs": [
    {
     "name": "stdout",
     "output_type": "stream",
     "text": [
      "\n",
      "\n",
      "\u001b[1m> Entering new HanaSparqlQAChain chain...\u001b[0m\n",
      "Generated SPARQL:\n",
      "\u001b[32;1m\u001b[1;3m```\n",
      "PREFIX kg: <http://kg.demo.sap.com/>\n",
      "PREFIX rdf: <http://www.w3.org/1999/02/22-rdf-syntax-ns#>\n",
      "PREFIX rdfs: <http://www.w3.org/2000/01/rdf-schema#>\n",
      "SELECT ?actor ?actorLabel\n",
      "WHERE {\n",
      "    ?movie rdf:type kg:Film .\n",
      "    ?movie kg:title ?movieTitle .\n",
      "    ?actor kg:acted_in ?movie .\n",
      "    ?actor rdfs:label ?actorLabel .\n",
      "    FILTER(?movieTitle = \"Blade Runner\")\n",
      "}\n",
      "```\u001b[0m\n",
      "Final SPARQL:\n",
      "\u001b[33;1m\u001b[1;3m\n",
      "PREFIX kg: <http://kg.demo.sap.com/>\n",
      "PREFIX rdf: <http://www.w3.org/1999/02/22-rdf-syntax-ns#>\n",
      "PREFIX rdfs: <http://www.w3.org/2000/01/rdf-schema#>\n",
      "SELECT ?actor ?actorLabel\n",
      "\n",
      "FROM <kgdocu_movies>\n",
      "WHERE {\n",
      "    ?movie rdf:type kg:Film .\n",
      "    ?movie kg:title ?movieTitle .\n",
      "    ?actor kg:acted_in ?movie .\n",
      "    ?actor rdfs:label ?actorLabel .\n",
      "    FILTER(?movieTitle = \"Blade Runner\")\n",
      "}\n",
      "\u001b[0m\n",
      "Full Context:\n",
      "\u001b[32;1m\u001b[1;3mactor,actorLabel\n",
      "http://www.wikidata.org/entity/Q81328,Q81328\n",
      "http://www.wikidata.org/entity/Q723780,Brion James\n",
      "http://www.wikidata.org/entity/Q1372770,William Sanderson\n",
      "http://www.wikidata.org/entity/Q498420,M. Emmet Walsh\n",
      "http://www.wikidata.org/entity/Q358990,James Hong\n",
      "http://www.wikidata.org/entity/Q211415,Edward James Olmos\n",
      "http://www.wikidata.org/entity/Q1691628,Joe Turkel\n",
      "http://www.wikidata.org/entity/Q3143555,Hy Pyke\n",
      "http://www.wikidata.org/entity/Q207596,Daryl Hannah\n",
      "http://www.wikidata.org/entity/Q213574,Rutger Hauer\n",
      "http://www.wikidata.org/entity/Q236702,Joanna Cassidy\n",
      "http://www.wikidata.org/entity/Q1353691,Morgan Paull\n",
      "http://www.wikidata.org/entity/Q230736,Sean Young\n",
      "\u001b[0m\n",
      "\n",
      "\u001b[1m> Finished chain.\u001b[0m\n",
      "The actors who acted in Blade Runner are Brion James, William Sanderson, M. Emmet Walsh, James Hong, Edward James Olmos, Joe Turkel, Hy Pyke, Daryl Hannah, Rutger Hauer, Joanna Cassidy, Morgan Paull, and Sean Young.\n"
     ]
    }
   ],
   "source": [
    "# output = chain.invoke(\"Which movies are in the data?\")\n",
    "# output = chain.invoke(\"In which movies did Keanu Reeves and Carrie-Anne Moss play in together\")\n",
    "# output = chain.invoke(\"which movie genres are in the data?\")\n",
    "# output = chain.invoke(\"which are the two most assigned movie genres?\")\n",
    "# output = chain.invoke(\"where were the actors of \"Blade Runner\" born?\")\n",
    "# output = chain.invoke(\"which actors acted together in a movie and were born in the same city?\")\n",
    "output = chain.invoke(\"which actors acted in Blade Runner?\")\n",
    "\n",
    "print(output[\"result\"])"
   ]
  },
  {
   "cell_type": "markdown",
   "id": "a40a3f21-e26a-4a9e-9f1f-47435db3d14d",
   "metadata": {},
   "source": [
    "### What’s happening under the hood?\n",
    "\n",
    "1. **SPARQL Generation**  \n",
    "   The chain invokes the LLM with your Turtle-formatted ontology (`graph.get_schema`) and the user’s question using the `SPARQL_GENERATION_SELECT_PROMPT`. The LLM then emits a valid `SELECT` query tailored to your schema.\n",
    "\n",
    "2. **Pre-processing & Execution**  \n",
    "   - **Extract & clean**: Pull the raw SPARQL text out of the LLM’s response.  \n",
    "   - **Inject graph context**: Add `FROM <graph_uri>` if it’s missing and ensure common prefixes (`rdf:`, `rdfs:`, `owl:`, `xsd:`) are declared.  \n",
    "   - **Run on HANA**: Execute the finalized query via `HanaRdfGraph.query()` over your named graph.\n",
    "\n",
    "3. **Answer Formulation**  \n",
    "   The returned CSV (or Turtle) results feed into the LLM again—this time with the `SPARQL_QA_PROMPT`. The LLM produces a concise, human-readable answer strictly based on the retrieved data, without hallucination.\n"
   ]
  },
  {
   "cell_type": "markdown",
   "id": "b24edcc5-9680-447f-a8b7-f380b8b554de",
   "metadata": {},
   "source": [
    "## Initialize the `HanaRdfGraph`\n",
    "\n",
    "To power the QA chain, you first need a `HanaRdfGraph` instance that:\n",
    "\n",
    "1. Loads your ontology schema (in Turtle)  \n",
    "2. Executes SPARQL queries against your SAP HANA Cloud data graph  \n",
    "\n",
    "The constructor requires:\n",
    "\n",
    "- **`connection`**: an active `hdbcli.dbapi.connect(...)` instance  \n",
    "- **`graph_uri`**: the named graph (or `\"DEFAULT\"`) where your RDF data lives  \n",
    "- **One of**:  \n",
    "  1. `ontology_query`**: a SPARQL CONSTRUCT to extract schema triples  \n",
    "  2. `ontology_uri`**: a hosted ontology graph URI  \n",
    "  3. `ontology_local_file`** + **`ontology_local_file_format`**: a local Turtle/RDF file  \n",
    "  4. `auto_extract_ontology=True`** (not recommended for production—see note)\n",
    "\n",
    "`graph_uri` vs. Ontology\n",
    "- **`graph_uri`**:  \n",
    "  The named graph in your SAP HANA Cloud instance that contains your instance data (sometimes 100k+ triples).\n",
    "  If `None` or `\"DEFAULT\"` is provided, the default graph is used.  \n",
    "  ➔ More details: [Default Graph and Named Graphs](https://help.sap.com/docs/hana-cloud-database/sap-hana-cloud-sap-hana-database-knowledge-graph-guide/default-graph-and-named-graphs)\n",
    "- **Ontology**: a lean schema (typically ~50-100 triples) describing classes, properties, domains, ranges, labels, comments, and subclass relationships. The ontology guides SPARQL generation and result interpretation.\n"
   ]
  },
  {
   "cell_type": "markdown",
   "id": "0e414bfa-7c15-405c-a348-f90f53376c4a",
   "metadata": {},
   "source": [
    "1. **Custom SPARQL CONSTRUCT query** (`ontology_query`): Use a custom `CONSTRUCT` query to selectively extract schema triples.\n"
   ]
  },
  {
   "cell_type": "code",
   "execution_count": 9,
   "id": "398910fb-75d3-4790-a2d3-9f8945150129",
   "metadata": {},
   "outputs": [],
   "source": [
    "ontology_query = \"\"\"\n",
    "\t\tPREFIX owl: <http://www.w3.org/2002/07/owl#>\n",
    "\t\tPREFIX rdf: <http://www.w3.org/1999/02/22-rdf-syntax-ns#>\n",
    "\t\tPREFIX rdfs: <http://www.w3.org/2000/01/rdf-schema#>\n",
    "\t\tPREFIX xsd: <http://www.w3.org/2001/XMLSchema#>\n",
    "\t\tCONSTRUCT {?cls rdf:type owl:Class . ?cls rdfs:label ?clsLabel . ?rel rdf:type ?propertyType . ?rel rdfs:label ?relLabel . ?rel rdfs:domain ?domain . ?rel rdfs:range ?range .}\n",
    "\t\tFROM <kgdocu_movies>\n",
    "\t\tWHERE { # get properties\n",
    "\t\t\t{SELECT DISTINCT ?domain ?rel ?relLabel ?propertyType ?range\n",
    "\t\t\tWHERE {\n",
    "\t\t\t\t?subj ?rel ?obj .\n",
    "\t\t\t\t?subj a ?domain .\n",
    "\t\t\t\tOPTIONAL{?obj a ?rangeClass .}\n",
    "\t\t\t\tFILTER(?rel != rdf:type) \n",
    "\t\t\t\tBIND(IF(isIRI(?obj) = true, owl:ObjectProperty, owl:DatatypeProperty) AS ?propertyType)\n",
    "\t\t\t\tBIND(COALESCE(?rangeClass, DATATYPE(?obj)) AS ?range)\n",
    "\t\t\t\tBIND(STR(?rel) AS ?uriStr)       # Convert URI to string\n",
    "  \t\t\t\tBIND(REPLACE(?uriStr, \"^.*[/#]\", \"\") AS ?relLabel)\n",
    "\t\t\t}}\n",
    "\t\t\tUNION { # get classes\n",
    "\t\t\t\tSELECT DISTINCT ?cls ?clsLabel\n",
    "\t\t\t\tWHERE {\n",
    "\t\t\t\t\t?instance a/rdfs:subClassOf* ?cls .\n",
    "\t\t\t\t\tFILTER (isIRI(?cls)) .\n",
    "\t\t\t\t\tBIND(STR(?cls) AS ?uriStr)       # Convert URI to string\n",
    "  \t\t\t\t\tBIND(REPLACE(?uriStr, \"^.*[/#]\", \"\") AS ?clsLabel)\n",
    "\t\t\t\t}\n",
    "\t\t\t}\n",
    "\t\t}\n",
    "\"\"\"\n",
    "graph = HanaRdfGraph(\n",
    "    connection=connection, graph_uri=graph_uri, ontology_query=ontology_query\n",
    ")"
   ]
  },
  {
   "cell_type": "markdown",
   "id": "faf10bd1-919b-4ffe-80e2-4ec19e40c33c",
   "metadata": {},
   "source": [
    "2. **Remote ontology URI** (`ontology_uri`): Load the schema directly from a hosted graph URI."
   ]
  },
  {
   "cell_type": "code",
   "execution_count": null,
   "id": "0e1ea4ce-280a-4510-a0b3-30cb2a0565a0",
   "metadata": {},
   "outputs": [],
   "source": [
    "graph = HanaRdfGraph(\n",
    "    connection=connection,\n",
    "    graph_uri=graph_uri,\n",
    "    ontology_uri=\"<your-rdf-ontology-uri>\",\n",
    ")"
   ]
  },
  {
   "cell_type": "markdown",
   "id": "4f59811e-abee-4e2e-8a12-0fc692fdde1d",
   "metadata": {},
   "source": [
    "3. **Local RDF file** (`ontology_local_file` + `ontology_local_file_format`): Load the schema from a local RDF ontology file. Supported RDF formats are `Turtle`, `RDF/XML`, `JSON-LD`, `N-Triples`, `Notation-3`, `Trig`, `Trix`, `N-Quads`.\n"
   ]
  },
  {
   "cell_type": "code",
   "execution_count": null,
   "id": "48de41a6-cb4e-4b30-b59a-88b2f2be9428",
   "metadata": {},
   "outputs": [],
   "source": [
    "graph = HanaRdfGraph(\n",
    "    connection=connection,\n",
    "    graph_uri=graph_uri,\n",
    "    ontology_local_file=\"ontology_file.ttl\",\n",
    "    ontology_local_file_format=\"turtle\",\n",
    ")"
   ]
  },
  {
   "cell_type": "markdown",
   "id": "80d1f677-d23f-4ca2-8644-26a6dbd84dd4",
   "metadata": {},
   "source": [
    "4. **Auto-extract ontology** (`auto_extract_ontology=True`): Infer schema information directly from your instance data."
   ]
  },
  {
   "cell_type": "code",
   "execution_count": null,
   "id": "4d48cd2c-24ca-42e8-8d6b-7f5f478ec778",
   "metadata": {},
   "outputs": [],
   "source": [
    "graph_with_auto_extracted_ontology = HanaRdfGraph(\n",
    "    connection=connection, graph_uri=graph_uri, auto_extract_ontology=True\n",
    ")"
   ]
  },
  {
   "cell_type": "markdown",
   "id": "6f8afc0b-33fe-4950-98aa-b283d32396b2",
   "metadata": {},
   "source": [
    "> **Note**: Auto-extraction is **not** recommended for production—it omits important triples like `rdfs:label`, `rdfs:comment`, and `rdfs:subClassOf` in general."
   ]
  },
  {
   "cell_type": "markdown",
   "id": "7539bf25-df8e-4404-9874-00ecc0543c9f",
   "metadata": {},
   "source": [
    "## Executing SPARQL Queries\n",
    "\n",
    "You can use the `query()` method to execute arbitrary SPARQL queries (`SELECT`, `ASK`, `CONSTRUCT`, etc.) on the data graph.  \n"
   ]
  },
  {
   "cell_type": "markdown",
   "id": "7019808a-b4b5-4771-bad5-d32e67d30ac6",
   "metadata": {},
   "source": [
    "The following query retrieves the top 10 movies with the highest number of contributors:"
   ]
  },
  {
   "cell_type": "code",
   "execution_count": 10,
   "id": "d0205723-2f46-4a6a-b65c-e9a7dcb0f3ad",
   "metadata": {},
   "outputs": [
    {
     "name": "stdout",
     "output_type": "stream",
     "text": [
      "movieTitle,actorCount\n",
      "The Matrix Reloaded,39\n",
      "The Matrix,19\n",
      "Blade Runner,13\n",
      "\n"
     ]
    }
   ],
   "source": [
    "query = \"\"\"\n",
    "PREFIX kg: <http://kg.demo.sap.com/>\n",
    "SELECT ?movieTitle (COUNT(?actor) AS ?actorCount)\n",
    "\n",
    "FROM <kgdocu_movies>\n",
    "WHERE {\n",
    "    ?actor kg:acted_in ?movie .\n",
    "    ?movie kg:title ?movieTitle .\n",
    "}\n",
    "GROUP BY ?movieTitle\n",
    "ORDER BY DESC(?actorCount)\n",
    "LIMIT 10\n",
    "\"\"\"\n",
    "top10 = graph.query(query)\n",
    "print(top10)"
   ]
  },
  {
   "cell_type": "markdown",
   "id": "b33809f5-8edd-4872-b7b1-090d7254ce9d",
   "metadata": {
    "scrolled": true
   },
   "source": [
    "## Question Answering with `HanaSparqlQAChain`\n",
    "\n",
    "`HanaSparqlQAChain` ties together:\n",
    "\n",
    "1. **Schema-aware SPARQL generation**  \n",
    "2. **Query execution** against SAP HANA  \n",
    "3. **Natural-language answer formatting**\n",
    "\n",
    "\n",
    "### Initialization\n",
    "\n",
    "You need:\n",
    "\n",
    "- An **LLM** to generate and interpret queries  \n",
    "- A **`HanaRdfGraph`** (with connection, `graph_uri`, and ontology)"
   ]
  },
  {
   "cell_type": "code",
   "execution_count": null,
   "id": "56f8b48f-117f-43b9-b0dc-40a685996f04",
   "metadata": {},
   "outputs": [],
   "source": [
    "qa_chain = HanaSparqlQAChain.from_llm(\n",
    "    llm=llm, graph=graph, allow_dangerous_requests=True, verbose=True\n",
    ")"
   ]
  },
  {
   "cell_type": "markdown",
   "id": "f2ab3fc0-40af-474d-adf7-e42078b19a35",
   "metadata": {},
   "source": [
    "### Pipeline Overview\n",
    "\n",
    "1. **SPARQL Generation**  \n",
    "   - Uses `SPARQL_GENERATION_SELECT_PROMPT`  \n",
    "   - Inputs:  \n",
    "     - `schema` (Turtle from `graph.get_schema`)  \n",
    "     - `prompt` (user’s question)  \n",
    "2. **Query Post-processing**  \n",
    "   - Extracts the SPARQL code from the llm output.\n",
    "   - Inject `FROM <graph_uri>` if missing  \n",
    "   - Ensure required common prefixes are declared (`rdf:`, `rdfs:`, `owl:`, `xsd:`)  \n",
    "3. **Execution**  \n",
    "   - Calls `graph.query(generated_sparql)`  \n",
    "4. **Answer Formulation**  \n",
    "   - Uses `SPARQL_QA_PROMPT`  \n",
    "   - Inputs:  \n",
    "     - `context` (raw query results)  \n",
    "     - `prompt` (original question)  "
   ]
  },
  {
   "cell_type": "markdown",
   "id": "e5c014af-71a8-4ef8-8a54-2df0d7edb8e5",
   "metadata": {},
   "source": [
    "### Prompt Templates\n",
    "\n",
    "\n",
    "#### \"SPARQL Generation\" prompt\n",
    "\n",
    "The `sparql_generation_prompt` is used to guide the LLM in generating a SPARQL query from the user question and the provided schema.\n",
    "\n",
    "#### Answering prompt\n",
    "\n",
    "The `qa_prompt` instructs the LLM to create a natural language answer based solely on the database results.\n",
    "\n",
    "The default prompts can be found here: [`prompts.py`](https://github.com/SAP/langchain-integration-for-sap-hana-cloud/blob/main/langchain_hana/chains/graph_qa/prompts.py)"
   ]
  },
  {
   "cell_type": "markdown",
   "id": "45fd5dee-047f-49d3-a2a0-050d5174a73b",
   "metadata": {},
   "source": [
    "### Customizing Prompts\n",
    "\n",
    "You can override the defaults at initialization:\n",
    "\n",
    "```python\n",
    "qa_chain = HanaSparqlQAChain.from_llm(\n",
    "    llm=llm,\n",
    "    graph=graph,\n",
    "    allow_dangerous_requests=True,\n",
    "    verbose=True,\n",
    "    sparql_generation_prompt=YOUR_SPARQL_PROMPT,\n",
    "    qa_prompt=YOUR_QA_PROMPT\n",
    ")\n",
    "```\n",
    "\n",
    "Or swap them afterward:\n",
    "\n",
    "```python\n",
    "qa_chain.sparql_generation_chain.prompt = YOUR_SPARQL_PROMPT\n",
    "qa_chain.qa_chain.prompt              = YOUR_QA_PROMPT\n",
    "```\n",
    "\n",
    "> - `sparql_generation_prompt` must have the input variables: `[\"schema\", \"prompt\"]`\n",
    "> - `qa_prompt` must have the input variables: `[\"context\", \"prompt\"]`"
   ]
  }
 ],
 "metadata": {
  "kernelspec": {
   "display_name": "langchain-hana-hkrrDGRp-py3.10",
   "language": "python",
   "name": "python3"
  },
  "language_info": {
   "codemirror_mode": {
    "name": "ipython",
    "version": 3
   },
   "file_extension": ".py",
   "mimetype": "text/x-python",
   "name": "python",
   "nbconvert_exporter": "python",
   "pygments_lexer": "ipython3",
   "version": "3.10.14"
  }
 },
 "nbformat": 4,
 "nbformat_minor": 5
}
