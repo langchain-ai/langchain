{
 "cells": [
  {
   "cell_type": "raw",
   "id": "b49ff0a2a0db9b08",
   "metadata": {},
   "source": [
    "---\n",
    "sidebar_label: LangchainNotionToolkit\n",
    "---"
   ]
  },
  {
   "cell_type": "markdown",
   "id": "ff2025f7c56172fd",
   "metadata": {},
   "source": [
    "# LangchainNotionToolkit\n",
    "\n",
    "This notebook provides a quick overview for getting started with **LangchainNotionToolkit**.  \n",
    "For detailed documentation of all LangchainNotionToolkit features and configurations head to the [API reference](https://pypi.org/project/langchain-notion/).\n",
    "\n",
    "You may also want to check the official [Notion API docs](https://developers.notion.com/docs) for details on objects like pages, databases, and properties.\n",
    "\n",
    "---\n",
    "\n",
    "## Overview\n",
    "\n",
    "### Integration details\n",
    "\n",
    "| Class | Package | Serializable | JS support | Package latest |\n",
    "| :--- | :--- | :---: | :---: | :---: |\n",
    "| `LangchainNotionToolkit` | [langchain-notion](https://pypi.org/project/langchain-notion/) | N/A | N/A | ![PyPI - Version](https://img.shields.io/pypi/v/langchain-notion?style=flat-square&label=%20) |\n",
    "\n",
    "### Tool features\n",
    "\n",
    "The `LangchainNotionToolkit` bundles multiple tools for interacting with Notion through agents:\n",
    "\n",
    "| Tool | Description | Input Schema |\n",
    "| :--- | :--- | :--- |\n",
    "| Search Pages | Search for pages in Notion using keywords. | `{\"query\": str}` |\n",
    "| Get Page | Retrieve a page’s title, URL, and properties by ID. | `{\"page_id\": str}` |\n",
    "| Create Page | Create a new page in a database or under another page. | `{\"parent\": {...}, \"properties\": {...}}` |\n",
    "| Update Page | Update properties of an existing page. | `{\"page_id\": str, \"properties\": {...}}` |\n",
    "\n",
    "---\n",
    "\n",
    "## Setup\n",
    "\n",
    "Install dependencies:"
   ]
  },
  {
   "cell_type": "markdown",
   "id": "62cbd685-677e-46ef-8bca-dea3a6114a9a",
   "metadata": {
    "collapsed": true,
    "jupyter": {
     "outputs_hidden": true
    }
   },
   "source": [
    "%pip install --quiet -U langchain-community"
   ]
  },
  {
   "cell_type": "markdown",
   "id": "b15e9266",
   "metadata": {},
   "source": [
    "### Credentials\n",
    "\n",
    "This integration requires you to set NOTION_API_KEY as an environment variable to authenticate with the Discord API.\n",
    "\n",
    "`export NOTION_API_KEY=\"your-notion-token\"`"
   ]
  },
  {
   "cell_type": "code",
   "execution_count": null,
   "id": "c300f187c6d5a574",
   "metadata": {},
   "outputs": [],
   "source": [
    "import getpass\n",
    "import os\n",
    "\n",
    "# if not os.environ.get(\"NOTION_API_KEY\"):\n",
    "#     os.environ[\"NOTION_API_KEY\"] = getpass.getpass(\"NOTION API key:\\n\")"
   ]
  },
  {
   "cell_type": "markdown",
   "id": "c42a6824a51a2865",
   "metadata": {},
   "source": [
    "It's also helpful (but not needed) to set up [LangSmith](https://smith.langchain.com/) for best-in-class observability:"
   ]
  },
  {
   "cell_type": "code",
   "execution_count": null,
   "id": "978631db10275fd1",
   "metadata": {},
   "outputs": [],
   "source": [
    "# os.environ[\"LANGSMITH_TRACING\"] = \"true\"\n",
    "# os.environ[\"LANGSMITH_API_KEY\"] = getpass.getpass()"
   ]
  },
  {
   "cell_type": "markdown",
   "id": "ca41b07a4a9942f",
   "metadata": {},
   "source": [
    "## Use within an agent\n",
    "\n",
    "Here we show how to instantiate an instance of the LangchainNotionToolkit tool, with"
   ]
  },
  {
   "cell_type": "code",
   "execution_count": 19,
   "id": "2cf07fb4f1bca1a0",
   "metadata": {
    "collapsed": true,
    "jupyter": {
     "outputs_hidden": true
    }
   },
   "outputs": [
    {
     "ename": "ModuleNotFoundError",
     "evalue": "No module named 'langchain_notion'",
     "output_type": "error",
     "traceback": [
      "\u001B[0;31m---------------------------------------------------------------------------\u001B[0m",
      "\u001B[0;31mModuleNotFoundError\u001B[0m                       Traceback (most recent call last)",
      "Cell \u001B[0;32mIn[19], line 1\u001B[0m\n\u001B[0;32m----> 1\u001B[0m \u001B[38;5;28;01mfrom\u001B[39;00m \u001B[38;5;21;01mlangchain_notion\u001B[39;00m\u001B[38;5;21;01m.\u001B[39;00m\u001B[38;5;21;01mtoolkits\u001B[39;00m \u001B[38;5;28;01mimport\u001B[39;00m LangchainNotionToolkit\n\u001B[1;32m      2\u001B[0m \u001B[38;5;28;01mfrom\u001B[39;00m \u001B[38;5;21;01mlangchain_notion\u001B[39;00m\u001B[38;5;21;01m.\u001B[39;00m\u001B[38;5;21;01mnotion_wrapper\u001B[39;00m \u001B[38;5;28;01mimport\u001B[39;00m NotionWrapper\n\u001B[1;32m      5\u001B[0m api \u001B[38;5;241m=\u001B[39m NotionWrapper(api_key\u001B[38;5;241m=\u001B[39mkey)\n",
      "\u001B[0;31mModuleNotFoundError\u001B[0m: No module named 'langchain_notion'"
     ]
    }
   ],
   "source": [
    "from langchain_notion.toolkits import LangchainNotionToolkit\n",
    "from langchain_notion.notion_wrapper import NotionWrapper\n",
    "\n",
    "key = os.environ[\"NOTION_API_KEY\"]\n",
    "api = NotionWrapper(api_key=key)\n",
    "toolkit = LangchainNotionToolkit.from_notion_wrapper(api, include_write_tools=True)\n",
    "tools = toolkit.get_tools()\n",
    "\n",
    "# search = next(t for t in tools if t.name == \"Search Pages\")\n",
    "# print(search.invoke({\"tool_input\":\"test\"}))"
   ]
  },
  {
   "cell_type": "markdown",
   "id": "e0b94fd3e6633d72",
   "metadata": {},
   "source": [
    "## Invocation\n",
    "\n",
    "### Invoke directly with args\n",
    "\n",
    "Below is a simple example of calling the tool with keyword arguments in a dictionary."
   ]
  },
  {
   "cell_type": "code",
   "execution_count": null,
   "id": "4a5183f6fbdf794d",
   "metadata": {},
   "outputs": [],
   "source": [
    "search_tool = next(t for t in tools if t.name == \"Search Pages\")\n",
    "print(search_tool.invoke({\"tool_input\": \"test\"}))"
   ]
  },
  {
   "cell_type": "markdown",
   "id": "1caf76d29e30c",
   "metadata": {},
   "source": [
    "### Invoke with ToolCall\n",
    "\n",
    "We can also invoke the tool with a model-generated ToolCall, in which case a ToolMessage will be returned:"
   ]
  },
  {
   "cell_type": "code",
   "execution_count": null,
   "id": "6c88cfe4597c887d",
   "metadata": {},
   "outputs": [],
   "source": [
    "# This is usually generated by a model, but we'll create a tool call directly for demo purposes.\n",
    "model_generated_tool_call = {\n",
    "    \"args\": {\"tool_input\": \"test\"},\n",
    "    \"id\": \"1\",\n",
    "    \"name\": search_tool.name,\n",
    "    \"type\": \"tool_call\",\n",
    "}\n",
    "search_tool.invoke(model_generated_tool_call)"
   ]
  },
  {
   "cell_type": "markdown",
   "id": "e806ff0babbe45a7",
   "metadata": {},
   "source": [
    "## Chaining\n",
    "Below is a complete example showing how to integrate the **LangchainNotionToolkit** tools in an agent with an LLM.  \n",
    "This uses `create_react_agent` (from `langgraph.prebuilt`) to wire an agent that can call tools when appropriate.\n",
    "\n",
    "`export NOTION_API_KEY=\"secret_...\"` (and optionally `NOTION_DATABASE_ID`)\n",
    "\n",
    "Install: `pip install langchain-notion langgraph langchain-openai` (replace LLM as needed)\n"
   ]
  },
  {
   "cell_type": "code",
   "execution_count": null,
   "id": "58e671e6b40b40f1",
   "metadata": {},
   "outputs": [],
   "source": [
    "from langgraph.prebuilt import create_react_agent\n",
    "from langchain_openai import ChatOpenAI  # or any LangChain-compatible chat model\n",
    "from langchain_notion.notion_wrapper import NotionWrapper\n",
    "from langchain_notion.toolkits import LangchainNotionToolkit\n",
    "import os\n",
    "\n",
    "# 1) Instantiate your LLM (replace with your provider/model of choice)\n",
    "llm = ChatOpenAI(model=\"gpt-4o-mini\", temperature=0)\n",
    "\n",
    "# 2) Create the Notion wrapper and toolkit\n",
    "api = NotionWrapper(api_key=os.environ[\"NOTION_API_KEY\"])\n",
    "# Set include_write_tools=True if you want Create/Update tools available\n",
    "toolkit = LangchainNotionToolkit.from_notion_wrapper(api, include_write_tools=True)\n",
    "\n",
    "# 3) Collect the tools the agent can use\n",
    "tools = toolkit.get_tools()\n",
    "\n",
    "# (Optional) Inspect available tools\n",
    "for t in tools:\n",
    "    print(f\"- {t.name}: {t.description}\")\n",
    "\n",
    "# 4) Build a ReAct-style agent that can call these tools\n",
    "agent_executor = create_react_agent(llm, tools)\n",
    "\n",
    "# 5) Formulate a user query that may trigger tool calls.\n",
    "# Tip: Be explicit about arguments the tools need (e.g., page_id, parent, properties).\n",
    "example_query = \"\"\"\n",
    "Search Notion for pages about 'roadmap'. Then get details for the top result.\n",
    "If needed, you may call 'Search Pages' and then 'Get Page'.\n",
    "\"\"\"\n",
    "\n",
    "# 6) Execute the agent (streaming example)\n",
    "events = agent_executor.stream(\n",
    "    {\"messages\": [(\"user\", example_query)]},\n",
    "    stream_mode=\"values\",\n",
    ")\n",
    "\n",
    "# 7) Print out the model's responses (and any tool outputs) as they arrive\n",
    "for event in events:\n",
    "    event[\"messages\"][-1].pretty_print()"
   ]
  },
  {
   "cell_type": "markdown",
   "id": "bffb769f9bff4ae2",
   "metadata": {},
   "source": [
    "\n",
    "## API reference\n",
    "\n",
    "For detailed documentation of all LangchainNotionToolkit features and configurations head to the API reference:\n",
    "\n",
    "* [langchain-notion](https://github.com/rujeetjahagirdar/langchain-notion)"
   ]
  }
 ],
 "metadata": {
  "kernelspec": {
   "display_name": "Python 3 (ipykernel)",
   "language": "python",
   "name": "python3"
  },
  "language_info": {
   "codemirror_mode": {
    "name": "ipython",
    "version": 3
   },
   "file_extension": ".py",
   "mimetype": "text/x-python",
   "name": "python",
   "nbconvert_exporter": "python",
   "pygments_lexer": "ipython3",
   "version": "3.12.2"
  }
 },
 "nbformat": 4,
 "nbformat_minor": 5
}
