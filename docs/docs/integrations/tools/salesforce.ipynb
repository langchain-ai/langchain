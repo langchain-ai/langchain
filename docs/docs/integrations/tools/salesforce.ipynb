{
 "cells": [
  {
   "cell_type": "markdown",
   "id": "563f3174",
   "metadata": {},
   "source": [
    "# Salesforce\n",
    "\n",
    "A tool for interacting with Salesforce CRM using LangChain.\n",
    "\n",
    "## Overview\n",
    "\n",
    "The `langchain-salesforce` package integrates LangChain with Salesforce CRM,\n",
    "allowing you to query data, manage records, and explore object schemas\n",
    "from LangChain applications.\n",
    "\n",
    "### Key Features\n",
    "\n",
    "- **SOQL Queries**: Execute Salesforce Object Query Language (SOQL) queries\n",
    "- **Object Management**: Create, read, update, and delete (CRUD) operations on Salesforce objects  \n",
    "- **Schema Exploration**: Describe object schemas and list available objects\n",
    "- **Async Support**: Asynchronous operation support\n",
    "- **Error Handling**: Detailed error messages\n",
    "- **Environment Variable Support**: Load credentials from environment variables"
   ]
  },
  {
   "cell_type": "markdown",
   "id": "7fb27b941602401d91542211134fc71a",
   "metadata": {},
   "source": [
    "## Setup\n",
    "\n",
    "Install the required dependencies:\n",
    " \n",
    "```bash\n",
    " pip install langchain-salesforce\n",
    " ```\n",
    " \n",
    "## Authentication Setup\n",
    "\n",
    "These environment variables will be automatically picked up by the integration.\n",
    " \n",
    "## Getting Your Security Token\n",
    " \n",
    "If you need a security token:\n",
    " 1. Log into Salesforce\n",
    " 2. Go to Settings\n",
    " 3. Click on \"Reset My Security Token\" under \"My Personal Information\"\n",
    " 4. Check your email for the new token\n",
    " \n",
    "### Environment Variables (Recommended)\n",
    " \n",
    " Set up your Salesforce credentials as environment variables:\n",
    " \n",
    " ```bash\n",
    " export SALESFORCE_USERNAME=\"your-username@company.com\"\n",
    " export SALESFORCE_PASSWORD=\"your-password\"\n",
    " export SALESFORCE_SECURITY_TOKEN=\"your-security-token\"\n",
    " export SALESFORCE_DOMAIN=\"login\"  # Use \"test\" for sandbox environments\n",
    " ```"
   ]
  },
  {
   "cell_type": "markdown",
   "id": "dd32d0d8",
   "metadata": {},
   "source": [
    "## Instantiation"
   ]
  },
  {
   "cell_type": "code",
   "execution_count": null,
   "id": "117ecaf8",
   "metadata": {},
   "outputs": [],
   "source": [
    "import os\n",
    "\n",
    "from langchain_salesforce import SalesforceTool\n",
    "\n",
    "username = os.getenv(\"SALESFORCE_USERNAME\", \"your-username\")\n",
    "password = os.getenv(\"SALESFORCE_PASSWORD\", \"your-password\")\n",
    "security_token = os.getenv(\"SALESFORCE_SECURITY_TOKEN\", \"your-security-token\")\n",
    "domain = os.getenv(\"SALESFORCE_DOMAIN\", \"login\")\n",
    "\n",
    "tool = SalesforceTool(\n",
    "    username=username, password=password, security_token=security_token, domain=domain\n",
    ")"
   ]
  },
  {
   "cell_type": "markdown",
   "id": "28c1a13e",
   "metadata": {},
   "source": [
    "## Invocation"
   ]
  },
  {
   "cell_type": "code",
   "execution_count": null,
   "id": "e75623af",
   "metadata": {},
   "outputs": [],
   "source": [
    "def execute_salesforce_operation(\n",
    "    operation, object_name=None, query=None, record_data=None, record_id=None\n",
    "):\n",
    "    \"\"\"Executes a given Salesforce operation.\"\"\"\n",
    "    request = {\"operation\": operation}\n",
    "    if object_name:\n",
    "        request[\"object_name\"] = object_name\n",
    "    if query:\n",
    "        request[\"query\"] = query\n",
    "    if record_data:\n",
    "        request[\"record_data\"] = record_data\n",
    "    if record_id:\n",
    "        request[\"record_id\"] = record_id\n",
    "    result = tool.invoke(request)\n",
    "    return result"
   ]
  },
  {
   "cell_type": "markdown",
   "id": "d761883a",
   "metadata": {},
   "source": [
    "## Query\n",
    "This example queries Salesforce for 5 contacts."
   ]
  },
  {
   "cell_type": "code",
   "execution_count": null,
   "id": "5fb2e42b",
   "metadata": {},
   "outputs": [],
   "source": [
    "query_result = execute_salesforce_operation(\n",
    "    operation=\"query\", query=\"SELECT Id, Name, Email FROM Contact LIMIT 5\"\n",
    ")"
   ]
  },
  {
   "cell_type": "markdown",
   "id": "b917c89e",
   "metadata": {},
   "source": [
    "## Describe an Object\n",
    "Fetches metadata for a specific Salesforce object."
   ]
  },
  {
   "cell_type": "code",
   "execution_count": null,
   "id": "ef6ca50c",
   "metadata": {},
   "outputs": [],
   "source": [
    "describe_result = execute_salesforce_operation(\n",
    "    operation=\"describe\", object_name=\"Account\"\n",
    ")"
   ]
  },
  {
   "cell_type": "markdown",
   "id": "40ed4656",
   "metadata": {},
   "source": [
    "## List Available Objects\n",
    "Retrieves all objects available in the Salesforce instance."
   ]
  },
  {
   "cell_type": "code",
   "execution_count": null,
   "id": "a7114bbc",
   "metadata": {},
   "outputs": [],
   "source": [
    "list_objects_result = execute_salesforce_operation(operation=\"list_objects\")"
   ]
  },
  {
   "cell_type": "markdown",
   "id": "6619fe12",
   "metadata": {},
   "source": [
    "## Create a New Contact\n",
    "Creates a new contact record in Salesforce."
   ]
  },
  {
   "cell_type": "code",
   "execution_count": null,
   "id": "1e15980d",
   "metadata": {},
   "outputs": [],
   "source": [
    "create_result = execute_salesforce_operation(\n",
    "    operation=\"create\",\n",
    "    object_name=\"Contact\",\n",
    "    record_data={\"LastName\": \"Doe\", \"Email\": \"doe@example.com\"},\n",
    ")"
   ]
  },
  {
   "cell_type": "markdown",
   "id": "f8801882",
   "metadata": {},
   "source": [
    "## Update a Contact\n",
    "Updates an existing contact record."
   ]
  },
  {
   "cell_type": "code",
   "execution_count": null,
   "id": "2f4bd54c",
   "metadata": {},
   "outputs": [],
   "source": [
    "update_result = execute_salesforce_operation(\n",
    "    operation=\"update\",\n",
    "    object_name=\"Contact\",\n",
    "    record_id=\"003XXXXXXXXXXXXXXX\",\n",
    "    record_data={\"Email\": \"updated@example.com\"},\n",
    ")"
   ]
  },
  {
   "cell_type": "markdown",
   "id": "46dd7178",
   "metadata": {},
   "source": [
    "## Delete a Contact\n",
    "Deletes a contact record from Salesforce."
   ]
  },
  {
   "cell_type": "code",
   "execution_count": null,
   "id": "31830f80",
   "metadata": {},
   "outputs": [],
   "source": [
    "delete_result = execute_salesforce_operation(\n",
    "    operation=\"delete\", object_name=\"Contact\", record_id=\"003XXXXXXXXXXXXXXX\"\n",
    ")"
   ]
  },
  {
   "cell_type": "markdown",
   "id": "7f094544",
   "metadata": {},
   "source": [
    "## Chaining"
   ]
  },
  {
   "cell_type": "code",
   "execution_count": null,
   "id": "0e997f71",
   "metadata": {},
   "outputs": [],
   "source": [
    "from langchain_anthropic import ChatAnthropic\n",
    "from langchain_core.messages import HumanMessage\n",
    "from langchain_salesforce import SalesforceTool\n",
    "\n",
    "# Initialize the Salesforce tool\n",
    "tool = SalesforceTool(\n",
    "    username=username, password=password, security_token=security_token, domain=domain\n",
    ")\n",
    "\n",
    "# Initialize Anthropic LLM\n",
    "llm = ChatAnthropic(model=\"claude-sonnet-4-20250514\")\n",
    "\n",
    "# First, let's query some contacts to get real data\n",
    "contacts_query = {\n",
    "    \"operation\": \"query\",\n",
    "    \"query\": \"SELECT Id, Name, Email, Phone FROM Contact LIMIT 3\",\n",
    "}\n",
    "\n",
    "contacts_result = tool.invoke(contacts_query)\n",
    "\n",
    "# Now let's use the LLM to analyze and summarize the contact data\n",
    "if contacts_result and \"records\" in contacts_result:\n",
    "    contact_data = contacts_result[\"records\"]\n",
    "\n",
    "    # Create a message asking the LLM to analyze the contact data\n",
    "    analysis_prompt = f\"\"\"\n",
    "    Please analyze the following Salesforce contact data and provide insights:\n",
    "    \n",
    "    Contact Data: {contact_data}\n",
    "    \n",
    "    Please provide:\n",
    "    1. A summary of the contacts\n",
    "    2. Any patterns you notice\n",
    "    3. Suggestions for data quality improvements\n",
    "    \"\"\"\n",
    "\n",
    "    message = HumanMessage(content=analysis_prompt)\n",
    "    analysis_result = llm.invoke([message])\n",
    "\n",
    "    print(\"\\nLLM Analysis:\")\n",
    "    print(analysis_result.content)"
   ]
  },
  {
   "cell_type": "markdown",
   "id": "b8467ae7",
   "metadata": {},
   "source": [
    "## API Reference\n",
    "\n",
    "For comprehensive documentation and API reference, see:\n",
    "\n",
    "- [langchain-salesforce README](https://github.com/colesmcintosh/langchain-salesforce/blob/main/README.md)\n",
    "- [Simple Salesforce Documentation](https://simple-salesforce.readthedocs.io/en/latest/)\n",
    "\n",
    "## Additional Resources\n",
    "\n",
    "- [Salesforce SOQL Reference](https://developer.salesforce.com/docs/atlas.en-us.soql_sosl.meta/soql_sosl/)\n",
    "- [Salesforce REST API Developer Guide](https://developer.salesforce.com/docs/atlas.en-us.api_rest.meta/api_rest/)"
   ]
  }
 ],
 "metadata": {
  "kernelspec": {
   "display_name": ".venv",
   "language": "python",
   "name": "python3"
  },
  "language_info": {
   "codemirror_mode": {
    "name": "ipython",
    "version": 3
   },
   "file_extension": ".py",
   "mimetype": "text/x-python",
   "name": "python",
   "nbconvert_exporter": "python",
   "pygments_lexer": "ipython3",
   "version": "3.13.2"
  }
 },
 "nbformat": 4,
 "nbformat_minor": 5
}
