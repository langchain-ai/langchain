{
 "cells": [
  {
   "cell_type": "markdown",
   "metadata": {},
   "source": [
    "# ValyuContext\n",
    "\n",
    ">[Valyu](https://www.valyu.network/) allows AI applications and agents to search the internet and proprietary data sources for relevant LLM ready information.\n",
    "\n",
    "This notebook goes over how to use Valyu context tool in LangChain.\n",
    "\n",
    "First, get an Valyu API key and add it as an environment variable. Get $10 free credit  by [signing up here](https://exchange.valyu.network/).\n",
    "\n",
    "## Overview\n",
    "\n",
    "### Integration details\n",
    "| Class                                                         | Package                                                        | Serializable | JS support |  Package latest |\n",
    "|:--------------------------------------------------------------|:---------------------------------------------------------------| :---: | :---: | :---: |\n",
    "| [Valyu Search](https://github.com/valyu-network/langchain-valyu) | [langchain-valyu](https://pypi.org/project/langchain-valyu/) | ✅ | ❌  |  ![PyPI - Version](https://img.shields.io/pypi/v/langchain-valyu?style=flat-square&label=%20) |\n",
    "\n",
    "\n",
    "\n",
    "\n",
    "## Setup\n",
    "\n",
    "The integration lives in the `langchain-valyu` package."
   ]
  },
  {
   "cell_type": "code",
   "execution_count": null,
   "metadata": {
    "vscode": {
     "languageId": "plaintext"
    }
   },
   "outputs": [],
   "source": [
    "%pip install -qU langchain-valyu"
   ]
  },
  {
   "cell_type": "markdown",
   "metadata": {},
   "source": [
    "In order to use the package, you will also need to set the `VALYU_API_KEY` environment variable to your Valyu API key."
   ]
  },
  {
   "cell_type": "code",
   "execution_count": null,
   "metadata": {},
   "outputs": [],
   "source": [
    "import getpass\n",
    "import os\n",
    "\n",
    "if not os.environ.get(\"VALYU_API_KEY\"):\n",
    "    os.environ[\"VALYU_API_KEY\"] = getpass.getpass(\"Valyu API key:\\n\")"
   ]
  },
  {
   "cell_type": "markdown",
   "metadata": {},
   "source": [
    "## Instantiation\n",
    "\n",
    "Here we show how to instantiate an instance of the Valyu search tool. This tool allows you to complete search queries using Valyu's Context API endpoint.\n",
    "\n"
   ]
  },
  {
   "cell_type": "code",
   "execution_count": null,
   "metadata": {},
   "outputs": [],
   "source": [
    "from langchain_valyu import ValyuSearchTool\n",
    "\n",
    "tool = ValyuSearchTool()"
   ]
  },
  {
   "cell_type": "markdown",
   "metadata": {},
   "source": [
    "## Invocation\n",
    "\n",
    "### Invoke directly with args\n",
    "\n",
    "The Valyu search tool accepts the following arguments during invocation:\n",
    "- `query` (required): A natural language search query\n",
    "- `search_type` (optional): Type of search, e.g., \"all\"\n",
    "- `max_num_results` (optional): Maximum number of results to return\n",
    "- `similarity_threshold` (optional): Similarity threshold for results\n",
    "- `query_rewrite` (optional): Whether to rewrite the query\n",
    "- `max_price` (optional): Maximum price for the search\n",
    "\n",
    "For reliability and performance reasons, certain parameters may be required or restricted. See the [Valyu API documentation](https://docs.valyu.network/overview) for details."
   ]
  },
  {
   "cell_type": "code",
   "execution_count": null,
   "metadata": {},
   "outputs": [],
   "source": [
    "search_results = tool._run(\n",
    "    query=\"What are agentic search-enhanced large reasoning models?\",\n",
    "    search_type=\"all\",\n",
    "    max_num_results=5,\n",
    "    similarity_threshold=0.4,\n",
    "    query_rewrite=False,\n",
    "    max_price=20.0,\n",
    ")\n",
    "\n",
    "print(\"Search Results:\", search_results)"
   ]
  },
  {
   "cell_type": "markdown",
   "metadata": {},
   "source": [
    "## Use within an agent\n",
    "\n",
    "We can use our tools directly with an agent executor by binding the tool to the agent. This gives the agent the ability to dynamically set the available arguments to the Valyu search tool."
   ]
  },
  {
   "cell_type": "code",
   "execution_count": null,
   "metadata": {},
   "outputs": [],
   "source": [
    "if not os.environ.get(\"OPENAI_API_KEY\"):\n",
    "    os.environ[\"OPENAI_API_KEY\"] = getpass.getpass(\"OPENAI_API_KEY:\\n\")"
   ]
  },
  {
   "cell_type": "code",
   "execution_count": null,
   "metadata": {},
   "outputs": [],
   "source": [
    "# | output: false\n",
    "# | echo: false\n",
    "\n",
    "# !pip install -qU langchain langchain-openai\n",
    "from langchain.chat_models import init_chat_model\n",
    "\n",
    "llm = init_chat_model(model=\"gpt-4o\", model_provider=\"openai\", temperature=0)"
   ]
  },
  {
   "cell_type": "code",
   "execution_count": null,
   "metadata": {},
   "outputs": [],
   "source": [
    "from langchain_valyu import ValyuSearchTool\n",
    "from langgraph.prebuilt import create_react_agent\n",
    "\n",
    "valyu_search_tool = ValyuSearchTool()\n",
    "\n",
    "agent = create_react_agent(llm, [valyu_search_tool])\n",
    "\n",
    "user_input = \"What are the key factors driving recent stock market volatility, and how do macroeconomic indicators influence equity prices across different sectors?\"\n",
    "\n",
    "for step in agent.stream(\n",
    "    {\"messages\": user_input},\n",
    "    stream_mode=\"values\",\n",
    "):\n",
    "    step[\"messages\"][-1].pretty_print()"
   ]
  },
  {
   "cell_type": "markdown",
   "metadata": {},
   "source": [
    "## API reference\n",
    "\n",
    "For detailed documentation of all Valyu Context API features and configurations head to the API reference: https://docs.valyu.network/overview"
   ]
  }
 ],
 "metadata": {
  "language_info": {
   "name": "python"
  }
 },
 "nbformat": 4,
 "nbformat_minor": 2
}
