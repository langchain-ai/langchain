{
 "cells": [
  {
   "cell_type": "markdown",
   "id": "a6f91f20",
   "metadata": {},
   "source": [
    "# Scrapeless\n",
    "\n",
    "[**Scrapeless**](https://www.scrapeless.com/) offers flexible and feature-rich data acquisition services with extensive parameter customization and multi-format export support. These capabilities empower LangChain to integrate and leverage external data more effectively. The core functional modules include:\n",
    "\n",
    "**DeepSerp**\n",
    "- **Google Search**: Enables comprehensive extraction of Google SERP data across all result types.\n",
    "  - Supports selection of localized Google domains (e.g., `google.com`, `google.ad`) to retrieve region-specific search results.\n",
    "  - Pagination supported for retrieving results beyond the first page.\n",
    "  - Supports a search result filtering toggle to control whether to exclude duplicate or similar content.\n",
    "- **Google Trends**: Retrieves keyword trend data from Google, including popularity over time, regional interest, and related searches.\n",
    "  - Supports multi-keyword comparison.\n",
    "  - Supports multiple data types: `interest_over_time`, `interest_by_region`, `related_queries`, and `related_topics`.\n",
    "  - Allows filtering by specific Google properties (Web, YouTube, News, Shopping) for source-specific trend analysis.\n",
    "\n",
    "**Universal Scraping**\n",
    "- Designed for modern, JavaScript-heavy websites, allowing dynamic content extraction.\n",
    "  - Global premium proxy support for bypassing geo-restrictions and improving reliability.\n",
    "\n",
    "**Crawler**\n",
    "- **Crawl**: Recursively crawl a website and its linked pages to extract site-wide content.\n",
    "  - Supports configurable crawl depth and scoped URL targeting.\n",
    "- **Scrape**: Extract content from a single webpage with high precision.\n",
    "  - Supports \"main content only\" extraction to exclude ads, footers, and other non-essential elements.\n",
    "  - Allows batch scraping of multiple standalone URLs.\n",
    "\n",
    "## Overview\n",
    "\n",
    "### Integration details\n",
    "\n",
    "| Class | Package | Serializable | JS support |  Package latest |\n",
    "| :--- | :--- | :---: | :---: | :---: |\n",
    "| [ScrapelessCrawlerScrapeTool](https://pypi.org/project/langchain-scrapeless/) | [langchain-scrapeless](https://pypi.org/project/langchain-scrapeless/) | ✅ | ❌ |  ![PyPI - Version](https://img.shields.io/pypi/v/langchain-scrapeless?style=flat-square&label=%20) |\n",
    "| [ScrapelessCrawlerCrawlTool](https://pypi.org/project/langchain-scrapeless/) | [langchain-scrapeless](https://pypi.org/project/langchain-scrapeless/) | ✅ | ❌ |  ![PyPI - Version](https://img.shields.io/pypi/v/langchain-scrapeless?style=flat-square&label=%20) |\n",
    "\n",
    "### Tool features\n",
    "\n",
    "|Native async|Returns artifact|Return data|\n",
    "|:-:|:-:|:-:|\n",
    "|✅|✅|markdown, rawHtml, screenshot@fullPage, json, links, screenshot, html|\n",
    "\n",
    "\n",
    "## Setup\n",
    "\n",
    "The integration lives in the `langchain-scrapeless` package."
   ]
  },
  {
   "cell_type": "raw",
   "id": "ca676665",
   "metadata": {
    "vscode": {
     "languageId": "raw"
    }
   },
   "source": [
    "!pip install langchain-scrapeless"
   ]
  },
  {
   "cell_type": "markdown",
   "id": "b15e9266",
   "metadata": {},
   "source": [
    "### Credentials\n",
    "\n",
    "You'll need a Scrapeless API key to use this tool. You can set it as an environment variable:"
   ]
  },
  {
   "cell_type": "code",
   "execution_count": null,
   "id": "e0b178a2-8816-40ca-b57c-ccdd86dde9c9",
   "metadata": {},
   "outputs": [],
   "source": [
    "import os\n",
    "\n",
    "os.environ[\"SCRAPELESS_API_KEY\"] = \"your-api-key\""
   ]
  },
  {
   "cell_type": "markdown",
   "id": "1c97218f-f366-479d-8bf7-fe9f2f6df73f",
   "metadata": {},
   "source": [
    "## Instantiation\n",
    "\n",
    "### ScrapelessCrawlerScrapeTool\n",
    "\n",
    "The ScrapelessCrawlerScrapeTool allows you to scrape content from one or multiple websites using Scrapeless’s Crawler Scrape API. You can extract the main content, control formatting, headers, wait times, and output types.\n",
    "\n",
    "\n",
    "The tool accepts the following parameters:\n",
    "- `urls` (required, List[str]): One or more URLs of websites you want to scrape.\n",
    "- `formats` (optional, List[str]): Defines the format(s) of the scraped output. Default is `['markdown']`. Options include:\n",
    "  - `'markdown'`\n",
    "  - `'rawHtml'`\n",
    "  - `'screenshot@fullPage'`\n",
    "  - `'json'`\n",
    "  - `'links'`\n",
    "  - `'screenshot'`\n",
    "  - `'html'`\n",
    "- `only_main_content` (optional, bool): Whether to return only the main page content, excluding headers, navs, footers, etc. Default is True.\n",
    "- `include_tags` (optional, List[str]): A list of HTML tags to include in the output (e.g., `['h1', 'p']`). If set to None, no tags are explicitly included.\n",
    "- `exclude_tags` (optional, List[str]): A list of HTML tags to exclude from the output. If set to None, no tags are explicitly excluded.\n",
    "- `headers` (optional, Dict[str, str]): Custom headers to send with the request (e.g., for cookies or user-agent). Default is None.\n",
    "- `wait_for` (optional, int): Time to wait in milliseconds before scraping. Useful for giving the page time to fully load. Default is `0`.\n",
    "- `timeout` (optional, int): Request timeout in milliseconds. Default is `30000`.\n",
    "\n",
    "### ScrapelessCrawlerCrawlTool\n",
    "\n",
    "The ScrapelessCrawlerCrawlTool allows you to crawl a website starting from a base URL using Scrapeless’s Crawler Crawl API. It supports advanced filtering of URLs, crawl depth control, content scraping options, headers customization, and more.\n",
    "\n",
    "The tool accepts the following parameters:\n",
    "- `url` (required, str): The base URL to start crawling from.\n",
    "\n",
    "- `limit` (optional, int): Maximum number of pages to crawl. Default is `10000`.\n",
    "- `include_paths` (optional, List[str]): URL pathname regex patterns to include matching URLs in the crawl. Only URLs matching these patterns will be included. For example, setting `[\"blog/.*\"]` will only include URLs under the `/blog/` path. Default is None.\n",
    "- `exclude_paths` (optional, List[str]): URL pathname regex patterns to exclude matching URLs from the crawl. For example, setting `[\"blog/.*\"]` will exclude URLs under the `/blog/` path. Default is None.\n",
    "- `max_depth` (optional, int): Maximum crawl depth relative to the base URL, measured by the number of slashes in the URL path. Default is `10`.\n",
    "- `max_discovery_depth` (optional, int): Maximum crawl depth based on discovery order. Root and sitemapped pages have depth `0`. For example, setting to `1` and ignoring sitemap will crawl only the entered URL and its immediate links. Default is None.\n",
    "- `ignore_sitemap` (optional, bool): Whether to ignore the website sitemap during crawling. Default is False.\n",
    "- `ignore_query_params` (optional, bool): Whether to ignore query parameter differences to avoid re-scraping similar URLs. Default is False.\n",
    "- `deduplicate_similar_urls` (optional, bool): Whether to deduplicate similar URLs. Default is True.\n",
    "- `regex_on_full_url` (optional, bool): Whether regex matching applies to the full URL instead of just the path. Default is True.\n",
    "- `allow_backward_links` (optional, bool): Whether to allow crawling backlinks outside the URL hierarchy. Default is False.\n",
    "- `allow_external_links` (optional, bool): Whether to allow crawling links to external websites. Default is False.\n",
    "- `delay` (optional, int): Delay in seconds between page scrapes to respect rate limits. Default is `1`.\n",
    "- `formats` (optional, List[str]): The format(s) of the scraped content. Default is [\"markdown\"]. Options include:\n",
    "  - `'markdown'`\n",
    "  - `'rawHtml'`\n",
    "  - `'screenshot@fullPage'`\n",
    "  - `'json'`\n",
    "  - `'links'`\n",
    "  - `'screenshot'`\n",
    "  - `'html'`\n",
    "- `only_main_content` (optional, bool): Whether to return only the main content, excluding headers, navigation bars, footers, etc. Default is True.\n",
    "- `include_tags` (optional, List[str]): List of HTML tags to include in the output (e.g., `['h1', 'p']`). Default is None (no explicit include filter).\n",
    "- `exclude_tags` (optional, List[str]): List of HTML tags to exclude from the output. Default is None (no explicit exclude filter).\n",
    "- `headers` (optional, Dict[str, str]): Custom HTTP headers to send with the requests, such as cookies or user-agent strings. Default is None.\n",
    "- `wait_for` (optional, int): Time in milliseconds to wait before scraping the content, allowing the page to load fully. Default is `0`.\n",
    "- `timeout` (optional, int):Request timeout in milliseconds. Default is `30000`."
   ]
  },
  {
   "cell_type": "markdown",
   "id": "74147a1a",
   "metadata": {},
   "source": [
    "## Invocation\n",
    "\n",
    "### ScrapelessCrawlerCrawlTool\n",
    "\n",
    "#### Usage with Parameters"
   ]
  },
  {
   "cell_type": "code",
   "execution_count": null,
   "id": "65310a8b-eb0c-4d9e-a618-4f4abe2414fc",
   "metadata": {},
   "outputs": [
    {
     "name": "stdout",
     "output_type": "stream",
     "text": [
      "{'success': True, 'status': 'completed', 'completed': 1, 'total': 1, 'data': [{'markdown': '# Well hello there.\\n\\nWelcome to exmaple.com.\\n\\nChances are you got here by mistake (example.com, anyone?)', 'metadata': {'scrapeId': '547b2478-a41a-4a17-8015-8db378ee455f', 'sourceURL': 'https://exmaple.com', 'url': 'https://exmaple.com', 'statusCode': 200}}]}\n"
     ]
    }
   ],
   "source": [
    "from langchain_scrapeless import ScrapelessCrawlerCrawlTool\n",
    "\n",
    "tool = ScrapelessCrawlerCrawlTool()\n",
    "\n",
    "# Advanced usage\n",
    "result = tool.invoke({\"url\": \"https://exmaple.com\", \"limit\": 4})\n",
    "print(result)"
   ]
  },
  {
   "cell_type": "markdown",
   "id": "659f9fbd-6fcf-445f-aa8c-72d8e60154bd",
   "metadata": {},
   "source": [
    "#### Use within an agent"
   ]
  },
  {
   "cell_type": "code",
   "execution_count": null,
   "id": "af3123ad-7a02-40e5-b58e-7d56e23e5830",
   "metadata": {},
   "outputs": [
    {
     "name": "stdout",
     "output_type": "stream",
     "text": [
      "================================\u001b[1m Human Message \u001b[0m=================================\n",
      "\n",
      "Use the scrapeless crawler crawl tool to crawl the website https://example.com and output the markdown content as a string.\n",
      "==================================\u001b[1m Ai Message \u001b[0m==================================\n",
      "Tool Calls:\n",
      "  scrapeless_crawler_crawl (call_Ne5HbxqsYDOKFaGDSuc4xppB)\n",
      " Call ID: call_Ne5HbxqsYDOKFaGDSuc4xppB\n",
      "  Args:\n",
      "    url: https://example.com\n",
      "    formats: ['markdown']\n",
      "    limit: 1\n",
      "=================================\u001b[1m Tool Message \u001b[0m=================================\n",
      "Name: scrapeless_crawler_crawl\n",
      "\n",
      "{\"success\": true, \"status\": \"completed\", \"completed\": 1, \"total\": 1, \"data\": [{\"markdown\": \"# Example Domain\\n\\nThis domain is for use in illustrative examples in documents. You may use this\\ndomain in literature without prior coordination or asking for permission.\\n\\n[More information...](https://www.iana.org/domains/example)\", \"metadata\": {\"viewport\": \"width=device-width, initial-scale=1\", \"title\": \"Example Domain\", \"scrapeId\": \"00561460-9166-492b-8fed-889667383e55\", \"sourceURL\": \"https://example.com\", \"url\": \"https://example.com\", \"statusCode\": 200}}]}\n",
      "==================================\u001b[1m Ai Message \u001b[0m==================================\n",
      "\n",
      "The crawl of the website https://example.com has been completed. Here is the markdown content extracted from the website:\n",
      "\n",
      "```\n",
      "# Example Domain\n",
      "\n",
      "This domain is for use in illustrative examples in documents. You may use this\n",
      "domain in literature without prior coordination or asking for permission.\n",
      "\n",
      "[More information...](https://www.iana.org/domains/example)\n",
      "```\n",
      "\n",
      "You can find more information on the website [here](https://www.iana.org/domains/example).\n"
     ]
    }
   ],
   "source": [
    "from langchain_openai import ChatOpenAI\n",
    "from langchain_scrapeless import ScrapelessCrawlerCrawlTool\n",
    "from langgraph.prebuilt import create_react_agent\n",
    "\n",
    "llm = ChatOpenAI()\n",
    "\n",
    "tool = ScrapelessCrawlerCrawlTool()\n",
    "\n",
    "# Use the tool with an agent\n",
    "tools = [tool]\n",
    "agent = create_react_agent(llm, tools)\n",
    "\n",
    "for chunk in agent.stream(\n",
    "    {\n",
    "        \"messages\": [\n",
    "            (\n",
    "                \"human\",\n",
    "                \"Use the scrapeless crawler crawl tool to crawl the website https://example.com and output the markdown content as a string.\",\n",
    "            )\n",
    "        ]\n",
    "    },\n",
    "    stream_mode=\"values\",\n",
    "):\n",
    "    chunk[\"messages\"][-1].pretty_print()"
   ]
  },
  {
   "cell_type": "markdown",
   "id": "769b2246",
   "metadata": {},
   "source": [
    "### ScrapelessCrawlerScrapeTool\n",
    "\n",
    "#### Usage with Parameters"
   ]
  },
  {
   "cell_type": "code",
   "execution_count": null,
   "id": "ca993de7",
   "metadata": {},
   "outputs": [
    {
     "name": "stdout",
     "output_type": "stream",
     "text": [
      "{'parameters': {'engine': 'google.trends.search', 'hl': 'en', 'data_type': 'INTEREST_OVER_TIME', 'tz': '0', 'cat': '0', 'date': 'today 1-m', 'q': 'Funny 2048,negamon monster trainer'}, 'interest_over_time': {'timeline_data': [{'date': 'Jul 11, 2025', 'timestamp': '1752192000', 'value': [0, 0]}, {'date': 'Jul 12, 2025', 'timestamp': '1752278400', 'value': [0, 0]}, {'date': 'Jul 13, 2025', 'timestamp': '1752364800', 'value': [0, 0]}, {'date': 'Jul 14, 2025', 'timestamp': '1752451200', 'value': [0, 0]}, {'date': 'Jul 15, 2025', 'timestamp': '1752537600', 'value': [0, 0]}, {'date': 'Jul 16, 2025', 'timestamp': '1752624000', 'value': [0, 0]}, {'date': 'Jul 17, 2025', 'timestamp': '1752710400', 'value': [0, 0]}, {'date': 'Jul 18, 2025', 'timestamp': '1752796800', 'value': [0, 0]}, {'date': 'Jul 19, 2025', 'timestamp': '1752883200', 'value': [0, 0]}, {'date': 'Jul 20, 2025', 'timestamp': '1752969600', 'value': [0, 0]}, {'date': 'Jul 21, 2025', 'timestamp': '1753056000', 'value': [0, 0]}, {'date': 'Jul 22, 2025', 'timestamp': '1753142400', 'value': [0, 0]}, {'date': 'Jul 23, 2025', 'timestamp': '1753228800', 'value': [0, 0]}, {'date': 'Jul 24, 2025', 'timestamp': '1753315200', 'value': [0, 0]}, {'date': 'Jul 25, 2025', 'timestamp': '1753401600', 'value': [0, 0]}, {'date': 'Jul 26, 2025', 'timestamp': '1753488000', 'value': [0, 0]}, {'date': 'Jul 27, 2025', 'timestamp': '1753574400', 'value': [0, 0]}, {'date': 'Jul 28, 2025', 'timestamp': '1753660800', 'value': [0, 0]}, {'date': 'Jul 29, 2025', 'timestamp': '1753747200', 'value': [0, 0]}, {'date': 'Jul 30, 2025', 'timestamp': '1753833600', 'value': [0, 0]}, {'date': 'Jul 31, 2025', 'timestamp': '1753920000', 'value': [0, 0]}, {'date': 'Aug 1, 2025', 'timestamp': '1754006400', 'value': [0, 0]}, {'date': 'Aug 2, 2025', 'timestamp': '1754092800', 'value': [0, 0]}, {'date': 'Aug 3, 2025', 'timestamp': '1754179200', 'value': [0, 0]}, {'date': 'Aug 4, 2025', 'timestamp': '1754265600', 'value': [0, 0]}, {'date': 'Aug 5, 2025', 'timestamp': '1754352000', 'value': [0, 0]}, {'date': 'Aug 6, 2025', 'timestamp': '1754438400', 'value': [0, 0]}, {'date': 'Aug 7, 2025', 'timestamp': '1754524800', 'value': [0, 0]}, {'date': 'Aug 8, 2025', 'timestamp': '1754611200', 'value': [0, 0]}, {'date': 'Aug 9, 2025', 'timestamp': '1754697600', 'value': [0, 0]}, {'date': 'Aug 10, 2025', 'timestamp': '1754784000', 'value': [0, 100]}, {'date': 'Aug 11, 2025', 'timestamp': '1754870400', 'value': [0, 0]}], 'averages': [{'value': 0}, {'value': 3}], 'isPartial': True}}\n"
     ]
    }
   ],
   "source": [
    "from langchain_scrapeless import ScrapelessDeepSerpGoogleTrendsTool\n",
    "\n",
    "tool = ScrapelessDeepSerpGoogleTrendsTool()\n",
    "\n",
    "# Basic usage\n",
    "result = tool.invoke(\"Funny 2048,negamon monster trainer\")\n",
    "print(result)"
   ]
  },
  {
   "cell_type": "markdown",
   "id": "1a4db36f",
   "metadata": {},
   "source": [
    "#### Advanced Usage with Parameters"
   ]
  },
  {
   "cell_type": "code",
   "execution_count": null,
   "id": "42c83c46",
   "metadata": {},
   "outputs": [
    {
     "name": "stdout",
     "output_type": "stream",
     "text": [
      "{'success': True, 'status': 'completed', 'completed': 1, 'total': 1, 'data': [{'markdown': \"[🩵 Don't just take our word for it. See what our users say on Product Hunt.](https://www.producthunt.com/posts/scrapeless-deep-serpapi)\\n\\n# Effortless Web Scraping Toolkit  for Business and Developers\\n\\nThe ultimate scraper's companion: an expandable suite of tools, including\\n\\nScraping Browser, Scraping API, Universal Scraping API\\n\\nand Anti-Bot Solutions—designed to work together or independently.\\n\\n[**4.8**](https://www.g2.com/products/scrapeless/reviews) [**4.5**](https://www.trustpilot.com/review/scrapeless.com) [**4.8**](https://slashdot.org/software/p/Scrapeless/) [**8.5**](https://tekpon.com/software/scrapeless/reviews/)\\n\\nNo credit card required\\n\\n## A Flexible Toolkit for Accessing Public Web Data\\n\\nAI-powered seamless data extraction, effortlessly bypassing blocks with a single API call.\\n\\n[scrapeless](https://www.scrapeless.com/en)\\n\\n[![Deep SerpApi](https://www.scrapeless.com/_next/image?url=%2Fassets%2Fimages%2Ftoolkit%2Flight%2Fimg-2.png&w=750&q=100)\\\\\\\\\\n\\\\\\\\\\nView more\\\\\\\\\\n\\\\\\\\\\n20+ custom parameters\\\\\\\\\\n\\\\\\\\\\n20+ Google SERP scenarios\\\\\\\\\\n\\\\\\\\\\nPrecision Search Fueling LLM & RAG AI\\\\\\\\\\n\\\\\\\\\\n1-2s response; $0.1/1k queries](https://www.scrapeless.com/en/product/deep-serp-api) [![Scraping Browser](https://www.scrapeless.com/_next/image?url=%2Fassets%2Fimages%2Ftoolkit%2Flight%2Fimg-4.png&w=750&q=100)\\\\\\\\\\n\\\\\\\\\\nView more\\\\\\\\\\n\\\\\\\\\\nHuman-like Behavior\\\\\\\\\\n\\\\\\\\\\nHigh Performance\\\\\\\\\\n\\\\\\\\\\nBypassing Risk Control\\\\\\\\\\n\\\\\\\\\\nConnect using the CDP Protocol](https://www.scrapeless.com/en/product/scraping-browser) [![Universal Scraping API](https://www.scrapeless.com/_next/image?url=%2Fassets%2Fimages%2Ftoolkit%2Flight%2Fimg-1.png&w=750&q=100)\\\\\\\\\\n\\\\\\\\\\nView more\\\\\\\\\\n\\\\\\\\\\nSession Mode\\\\\\\\\\n\\\\\\\\\\nCustom TLS\\\\\\\\\\n\\\\\\\\\\nJs Render](https://www.scrapeless.com/en/product/universal-scraping-api)\\n\\n### Customized Services\\n\\nContact our technical experts for custom solutions.\\n\\nBook a demo\\n\\n## From Simple Data Scraping to Complex Anti-Bot Challenges,   Scrapeless Has You Covered.\\n\\nFlexible Toolkit for Adapting to Diverse Data Extraction Needs.\\n\\n[Try for Free](https://app.scrapeless.com/passport/register)\\n\\n### Fully Compatible with Key Programming Languages and Tools\\n\\nSeamlessly integrate across all devices, OS, and languages. Worry-free compatibility ensures smooth data collection.\\n\\nGet all example codes on the dashboard after login\\n\\n![scrapeless](https://www.scrapeless.com/_next/image?url=%2Fassets%2Fimages%2Fcode%2Fcode-l.jpg&w=3840&q=75)\\n\\n## Enterprise-level Data Scraping Solution\\n\\nHigh-quality, tailored web scraping solutions and expert services designed for critical business projects.\\n\\n### Customized Data Scraping Solutions\\n\\nTailored web scraping services designed to address your\\xa0 unique business requirements and deliver actionable insights.\\n\\n### High Concurrency and High-Performance Scraping\\n\\nEfficiently gather massive volumes of data with unparalleled speed and reliability,\\xa0ensuring optimal performance even under heavy load.\\n\\n### Data Cleaning and Transformation\\n\\nEnhance data accuracy and usability through comprehensive\\xa0 cleaning and transformation processes, turning raw data into\\xa0 valuable information.\\n\\n### Real-Time Data Push and API Integration\\n\\nSeamlessly integrate and access live data streams with robust APIs,\\xa0ensuring your applications are always up-to-date with the latest information.\\n\\n### Data Security and Privacy Protection\\n\\nProtect your data with state-of-the-art security measures and strict\\xa0compliance standards, ensuring privacy and confidentiality at every step.\\n\\n### Enterprise-level SLA\\n\\nThe Service Level Agreement (SLA) serves as a safeguard for your project,\\xa0ensuring a contract for anticipated outcomes, automated oversight, prompt issue\\xa0resolution, and a personalized maintenance plan.\\n\\n## Why Scrapeless: Simplify Your Data Flow Effortlessly.\\n\\nAchieve all your data scraping tasks with more power, simplicity, and cost-effectiveness in less time.\\n\\n### Articles\\n\\nNews articles/Blog posts/Research papers\\n\\n### Organized Fresh Data\\n\\n### Prices\\n\\nProduct prices/Discount information/Market trend analysis\\n\\n### No need to hassle with browser maintenance\\n\\n### Reviews\\n\\nProduct reviews/User feedback/Social media reviews\\n\\n### Only pay for successful requests\\n\\n### Products\\n\\nProduct Launches/Tech Specs/Product Comparisons\\n\\n### Fully scalable\\n\\n## Unleash Your Competitive Edge  in Data within the Industry\\n\\n## Regulate Compliance for All Users\\n\\nContact us\\n\\nWe are committed to using technology for the benefit of humanity and firmly oppose any illegal activities and misuse of our products. We support the collection of publicly available data to improve human life, while strongly opposing the collection of unauthorized or unapproved sensitive information. If you find anyone abusing our services, please provide us with feedback! To further enhance user confidence and control, we have established a dedicated Privacy Center aimed at empowering users with more capabilities and information rights.\\n\\n![scrapeless](https://www.scrapeless.com/_next/image?url=%2Fassets%2Fimages%2Fregulate-compliance.png&w=640&q=75)\\n\\n## Web Scraping Blog\\n\\nMost comprehensive guide, created for all Web Scraping developers.\\n\\n[View All Blogs](https://www.scrapeless.com/en/blog)\\n\\n[**Scrapeless MCP Server Is Officially Live! Build Your Ultimate AI-Web Connector** \\\\\\\\\\n\\\\\\\\\\nDiscover how the Scrapeless MCP Server gives LLMs real-time web browsing and scraping abilities. Learn how to build AI agents that search, extract, and interact with dynamic web content seamlessly.\\\\\\\\\\n\\\\\\\\\\n![Michael Lee](https://www.scrapeless.com/_next/image?url=https%3A%2F%2Fassets.scrapeless.com%2Fprod%2Fimages%2Fauthor-avatars%2Fmichael-lee.png&w=48&q=75)Michael Lee\\\\\\\\\\n\\\\\\\\\\n17-Jul-2025\\\\\\\\\\n\\\\\\\\\\n![Scrapeless MCP Server](https://www.scrapeless.com/_next/image?url=https%3A%2F%2Fassets.scrapeless.com%2Fprod%2Fposts%2Fscrapeless-mcp-server%2Fc85738fc1c504abe930fd4514e4a2190.jpeg&w=3840&q=75)](https://www.scrapeless.com/en/blog/scrapeless-mcp-server) [**Product Updates \\\\| New Profile Feature** \\\\\\\\\\n\\\\\\\\\\nProduct Updates \\\\| Introducing the new Profile feature to enable persistent browser data storage, streamline cross-session workflows, and boost automation efficiency.\\\\\\\\\\n\\\\\\\\\\n![Emily Chen](https://www.scrapeless.com/_next/image?url=https%3A%2F%2Fassets.scrapeless.com%2Fprod%2Fimages%2Fauthor-avatars%2Femily-chen.png&w=48&q=75)Emily Chen\\\\\\\\\\n\\\\\\\\\\n17-Jul-2025\\\\\\\\\\n\\\\\\\\\\n![Product Updates | New Profile Feature: Make Browser Data Persistent, Efficient, and Controllable](https://www.scrapeless.com/_next/image?url=https%3A%2F%2Fassets.scrapeless.com%2Fprod%2Fposts%2Fscrapeelss-profile%2F3194244c16c9b56e1592640ea95c389e.jpeg&w=3840&q=75)](https://www.scrapeless.com/en/blog/scrapeelss-profile) [**How to Track Your Ranking on ChatGPT?** \\\\\\\\\\n\\\\\\\\\\nLearn why traditional SEO tools fall short and how Scrapeless helps you monitor and optimize your AI rankings effortlessly.\\\\\\\\\\n\\\\\\\\\\n![Michael Lee](https://www.scrapeless.com/_next/image?url=https%3A%2F%2Fassets.scrapeless.com%2Fprod%2Fimages%2Fauthor-avatars%2Fmichael-lee.png&w=48&q=75)Michael Lee\\\\\\\\\\n\\\\\\\\\\n01-Jul-2025\\\\\\\\\\n\\\\\\\\\\n![ChatGPT Scraper](https://www.scrapeless.com/_next/image?url=https%3A%2F%2Fassets.scrapeless.com%2Fprod%2Fposts%2Fchatgpt-scraper%2F7c5b1ac494b6838a7eca2964df15ef59.png&w=3840&q=75)](https://www.scrapeless.com/en/blog/chatgpt-scraper)\\n\\nContact our sales team\\n\\nMonday to Friday, 9:00 AM - 18:00 PMSingapore Standard Time (UTC+08:00)\\n\\nScrapeless offers AI-powered, robust, and scalable web scraping and automation services trusted by leading enterprises. Our enterprise-grade solutions are tailored to meet your project needs, with dedicated technical support throughout. With a strong technical team and flexible delivery times, we charge only for successful data, enabling efficient data extraction while bypassing limitations.\\n\\nContact us now to fuel your business growth.\\n\\n[**4.8**](https://www.g2.com/products/scrapeless/reviews) [**4.5**](https://www.trustpilot.com/review/scrapeless.com) [**4.8**](https://slashdot.org/software/p/Scrapeless/) [**8.5**](https://tekpon.com/software/scrapeless/reviews/)\\n\\nBook a demo\\n\\nProvide your contact details, and we'll promptly reach out to offer a product demo and introduction. We ensure your information remains confidential, complying with GDPR standards.\\n\\nGet a demo\\n\\nRegister and Claim Free Trial\\n\\nYour free trial is ready! Sign up for a Scrapeless account for free, and your trial will be instantly activated in your account.\\n\\n[Sign up](https://app.scrapeless.com/passport/register)\\n\\nWe value your privacy\\n\\nWe use cookies to analyze website usage and do not record any of your personal information. View [Privacy Policy](https://www.scrapeless.com/en/legal/privacy-policy)\\n\\nReject\\n\\nAccept\", 'metadata': {'language': 'en', 'description': 'Scrapeless is the best full-stack web scraping toolkit offering Scraping API, Scraping Browser, Universal Scraping API, Captcha Solver, and Proxies, designed to handle all your data collection needs with ease and reliability, empowering businesses and developers with efficient data extraction solutions.', 'google-site-verification': 'xj1xDpU8LpGG_h-2lIBVW_6GNW5Vtx0h5M3lz43HUXc', 'viewport': 'width=device-width, initial-scale=1', 'keywords': 'Scraping API, Scraping Browser, Universal Scraping API, Captcha Solver, and Proxies, web scraping,  web scraper, web scraping api, Web scraper,data scraping, web crawler', 'next-size-adjust': '', 'favicon': 'https://www.scrapeless.com/favicon.ico', 'title': 'Effortless Web Scraping Toolkit - Scrapeless', 'scrapeId': 'c7189211-7034-4e86-9afd-89fa5268b013', 'sourceURL': 'https://www.scrapeless.com/en', 'url': 'https://www.scrapeless.com/en', 'statusCode': 200}}]}\n"
     ]
    }
   ],
   "source": [
    "from langchain_scrapeless import ScrapelessCrawlerScrapeTool\n",
    "\n",
    "tool = ScrapelessCrawlerScrapeTool()\n",
    "\n",
    "result = tool.invoke(\n",
    "    {\n",
    "        \"urls\": [\"https://exmaple.com\", \"https://www.scrapeless.com/en\"],\n",
    "        \"formats\": [\"markdown\"],\n",
    "    }\n",
    ")\n",
    "print(result)"
   ]
  },
  {
   "cell_type": "markdown",
   "id": "7dde00ff",
   "metadata": {},
   "source": [
    "#### Use within an agent"
   ]
  },
  {
   "cell_type": "code",
   "execution_count": null,
   "id": "f6ca1aff",
   "metadata": {},
   "outputs": [
    {
     "name": "stdout",
     "output_type": "stream",
     "text": [
      "================================\u001b[1m Human Message \u001b[0m=================================\n",
      "\n",
      "Use the scrapeless crawler scrape tool to get the website content of https://example.com and output the html content as a string.\n",
      "==================================\u001b[1m Ai Message \u001b[0m==================================\n",
      "Tool Calls:\n",
      "  scrapeless_crawler_scrape (call_qrPMGLjXmzb5QlVoIZgMuyPN)\n",
      " Call ID: call_qrPMGLjXmzb5QlVoIZgMuyPN\n",
      "  Args:\n",
      "    urls: ['https://example.com']\n",
      "    formats: ['html']\n",
      "=================================\u001b[1m Tool Message \u001b[0m=================================\n",
      "Name: scrapeless_crawler_scrape\n",
      "\n",
      "{\"success\": true, \"status\": \"completed\", \"completed\": 1, \"total\": 1, \"data\": [{\"metadata\": {\"viewport\": \"width=device-width, initial-scale=1\", \"title\": \"Example Domain\", \"scrapeId\": \"63070ee5-ebef-4727-afe7-2b06466c6777\", \"sourceURL\": \"https://example.com\", \"url\": \"https://example.com\", \"statusCode\": 200}, \"html\": \"<!DOCTYPE html><html>\\n\\n<body>\\n<div>\\n    <h1>Example Domain</h1>\\n    <p>This domain is for use in illustrative examples in documents. You may use this\\n    domain in literature without prior coordination or asking for permission.</p>\\n    <p><a href=\\\"https://www.iana.org/domains/example\\\">More information...</a></p>\\n</div>\\n\\n\\n<div id=\\\"div-f3t6fv31hyl\\\" style=\\\"display: none;\\\"></div></body></html>\"}]}\n",
      "==================================\u001b[1m Ai Message \u001b[0m==================================\n",
      "\n",
      "The HTML content of the website \"https://example.com\" is as follows:\n",
      "\n",
      "```html\n",
      "<!DOCTYPE html><html>\n",
      "<body>\n",
      "<div>\n",
      "    <h1>Example Domain</h1>\n",
      "    <p>This domain is for use in illustrative examples in documents. You may use this\n",
      "    domain in literature without prior coordination or asking for permission.</p>\n",
      "    <p><a href=\"https://www.iana.org/domains/example\">More information...</a></p>\n",
      "</div>\n",
      "\n",
      "<div id=\"div-f3t6fv31hyl\" style=\"display: none;\"></div></body></html>\n",
      "```\n"
     ]
    }
   ],
   "source": [
    "from langchain_openai import ChatOpenAI\n",
    "from langchain_scrapeless import ScrapelessCrawlerScrapeTool\n",
    "from langgraph.prebuilt import create_react_agent\n",
    "\n",
    "llm = ChatOpenAI()\n",
    "\n",
    "tool = ScrapelessCrawlerScrapeTool()\n",
    "\n",
    "# Use the tool with an agent\n",
    "tools = [tool]\n",
    "agent = create_react_agent(llm, tools)\n",
    "\n",
    "for chunk in agent.stream(\n",
    "    {\n",
    "        \"messages\": [\n",
    "            (\n",
    "                \"human\",\n",
    "                \"Use the scrapeless crawler scrape tool to get the website content of https://example.com and output the html content as a string.\",\n",
    "            )\n",
    "        ]\n",
    "    },\n",
    "    stream_mode=\"values\",\n",
    "):\n",
    "    chunk[\"messages\"][-1].pretty_print()"
   ]
  },
  {
   "cell_type": "markdown",
   "id": "4ac8146c",
   "metadata": {},
   "source": [
    "## API reference\n",
    "\n",
    "- [Scrapeless Documentation](https://docs.scrapeless.com/en/crawl/quickstart/introduction/)\n",
    "- [Scrapeless API Reference](https://apidocs.scrapeless.com/api-17509003)"
   ]
  }
 ],
 "metadata": {
  "kernelspec": {
   "display_name": "langchain",
   "language": "python",
   "name": "python3"
  },
  "language_info": {
   "codemirror_mode": {
    "name": "ipython",
    "version": 3
   },
   "file_extension": ".py",
   "mimetype": "text/x-python",
   "name": "python",
   "nbconvert_exporter": "python",
   "pygments_lexer": "ipython3",
   "version": "3.12.11"
  }
 },
 "nbformat": 4,
 "nbformat_minor": 5
}
