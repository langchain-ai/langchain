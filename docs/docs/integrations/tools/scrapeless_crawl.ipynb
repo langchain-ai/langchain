{
 "cells": [
  {
   "cell_type": "markdown",
   "id": "a6f91f20",
   "metadata": {},
   "source": [
    "# Scrapeless\n",
    "\n",
    "**Scrapeless** offers flexible and feature-rich data acquisition services with extensive parameter customization and multi-format export support. These capabilities empower LangChain to integrate and leverage external data more effectively. The core functional modules include:\n",
    "\n",
    "**DeepSerp**\n",
    "- **Google Search**: Enables comprehensive extraction of Google SERP data across all result types.\n",
    "  - Supports selection of localized Google domains (e.g., google.com, google.ad) to retrieve region-specific search results.\n",
    "  - Pagination supported for retrieving results beyond the first page.\n",
    "  - Supports a search result filtering toggle to control whether to exclude duplicate or similar content.\n",
    "- **Google Trends**: Retrieves keyword trend data from Google, including popularity over time, regional interest, and related searches.\n",
    "  - Supports multi-keyword comparison.\n",
    "  - Supports multiple data types: interest_over_time, interest_by_region, related_queries, and related_topics.\n",
    "  - Allows filtering by specific Google properties (Web, YouTube, News, Shopping) for source-specific trend analysis.\n",
    "\n",
    "**Universal Scraping**\n",
    "- Designed for modern, JavaScript-heavy websites, allowing dynamic content extraction.\n",
    "  - Global premium proxy support for bypassing geo-restrictions and improving reliability.\n",
    "\n",
    "**Crawler**\n",
    "- **Crawl**: Recursively crawl a website and its linked pages to extract site-wide content.\n",
    "  - Supports configurable crawl depth and scoped URL targeting.\n",
    "- **Scrape**: Extract content from a single webpage with high precision.\n",
    "  - Supports \"main content only\" extraction to exclude ads, footers, and other non-essential elements.\n",
    "  - Allows batch scraping of multiple standalone URLs.\n",
    "\n",
    "## Overview\n",
    "\n",
    "### Integration details\n",
    "\n",
    "| Class | Package | Serializable | JS support |  Package latest |\n",
    "| :--- | :--- | :---: | :---: | :---: |\n",
    "| [ScrapelessCrawlerScrapeTool](https://pypi.org/project/langchain-scrapeless/) | [langchain-scrapeless](https://pypi.org/project/langchain-scrapeless/) | ✅ | ❌ |  ![PyPI - Version](https://img.shields.io/pypi/v/langchain-scrapeless?style=flat-square&label=%20) |\n",
    "| [ScrapelessCrawlerCrawlTool](https://pypi.org/project/langchain-scrapeless/) | [langchain-scrapeless](https://pypi.org/project/langchain-scrapeless/) | ✅ | ❌ |  ![PyPI - Version](https://img.shields.io/pypi/v/langchain-scrapeless?style=flat-square&label=%20) |\n",
    "\n",
    "### Tool features\n",
    "\n",
    "|Native async|Returns artifact|Return data|\n",
    "|:-:|:-:|:-:|\n",
    "|✅|✅|markdown, rawHtml, screenshot@fullPage, json, links, screenshot, html|\n",
    "\n",
    "\n",
    "## Setup\n",
    "\n",
    "The integration lives in the `langchain-scrapeless` package."
   ]
  },
  {
   "cell_type": "raw",
   "id": "ca676665",
   "metadata": {
    "vscode": {
     "languageId": "raw"
    }
   },
   "source": [
    "pip install langchain-scrapeless"
   ]
  },
  {
   "cell_type": "markdown",
   "id": "b15e9266",
   "metadata": {},
   "source": [
    "### Credentials\n",
    "\n",
    "You'll need a Scrapeless API key to use this tool. You can set it as an environment variable:"
   ]
  },
  {
   "cell_type": "code",
   "execution_count": null,
   "id": "e0b178a2-8816-40ca-b57c-ccdd86dde9c9",
   "metadata": {},
   "outputs": [],
   "source": [
    "import os\n",
    "\n",
    "os.environ[\"SCRAPELESS_API_KEY\"] = \"your-api-key\""
   ]
  },
  {
   "cell_type": "markdown",
   "id": "1c97218f-f366-479d-8bf7-fe9f2f6df73f",
   "metadata": {},
   "source": [
    "## Instantiation\n",
    "\n",
    "### ScrapelessCrawlerScrapeTool\n",
    "\n",
    "The ScrapelessCrawlerScrapeTool allows you to scrape content from one or multiple websites using Scrapeless’s Crawler Scrape API. You can extract the main content, control formatting, headers, wait times, and output types.\n",
    "\n",
    "\n",
    "The tool accepts the following parameters:\n",
    "- `urls` (required, List[str]): One or more URLs of websites you want to scrape.\n",
    "- `formats` (optional, List[str]): Defines the format(s) of the scraped output. Default is [\"markdown\"]. Options include:\n",
    "  - \"markdown\"\n",
    "  - \"rawHtml\"\n",
    "  - \"screenshot@fullPage\"\n",
    "  - \"json\"\n",
    "  - \"links\"\n",
    "  - \"screenshot\"\n",
    "  - \"html\"\n",
    "- `only_main_content` (optional, bool): Whether to return only the main page content, excluding headers, navs, footers, etc. Default is True.\n",
    "- `include_tags` (optional, List[str]): A list of HTML tags to include in the output (e.g., [\"h1\", \"p\"]). If set to None, no tags are explicitly included.\n",
    "- `exclude_tags` (optional, List[str]): A list of HTML tags to exclude from the output. If set to None, no tags are explicitly excluded.\n",
    "- `headers` (optional, Dict[str, str]): Custom headers to send with the request (e.g., for cookies or user-agent). Default is None.\n",
    "- `wait_for` (optional, int): Time to wait in milliseconds before scraping. Useful for giving the page time to fully load. Default is 0.\n",
    "- `timeout` (optional, int): Request timeout in milliseconds. Default is 30000.\n",
    "\n",
    "### ScrapelessCrawlerCrawlTool\n",
    "\n",
    "The ScrapelessCrawlerCrawlTool allows you to crawl a website starting from a base URL using Scrapeless’s Crawler Crawl API. It supports advanced filtering of URLs, crawl depth control, content scraping options, headers customization, and more.\n",
    "\n",
    "The tool accepts the following parameters:\n",
    "- `url` (required, str): The base URL to start crawling from.\n",
    "\n",
    "- `limit` (optional, int): Maximum number of pages to crawl. Default is 10000.\n",
    "- `include_paths` (optional, List[str]): URL pathname regex patterns to include matching URLs in the crawl. Only URLs matching these patterns will be included. For example, setting [\"blog/.*\"] will only include URLs under the /blog/ path. Default is None.\n",
    "- `exclude_paths` (optional, List[str]): URL pathname regex patterns to exclude matching URLs from the crawl. For example, setting [\"blog/.*\"] will exclude URLs under the /blog/ path. Default is None.\n",
    "- `max_depth` (optional, int): Maximum crawl depth relative to the base URL, measured by the number of slashes in the URL path. Default is 10.\n",
    "- `max_discovery_depth` (optional, int): Maximum crawl depth based on discovery order. Root and sitemapped pages have depth 0. For example, setting to 1 and ignoring sitemap will crawl only the entered URL and its immediate links. Default is None.\n",
    "- `ignore_sitemap` (optional, bool): Whether to ignore the website sitemap during crawling. Default is False.\n",
    "- `ignore_query_params` (optional, bool): Whether to ignore query parameter differences to avoid re-scraping similar URLs. Default is False.\n",
    "- `deduplicate_similar_urls` (optional, bool): Whether to deduplicate similar URLs. Default is True.\n",
    "- `regex_on_full_url` (optional, bool): Whether regex matching applies to the full URL instead of just the path. Default is True.\n",
    "- `allow_backward_links` (optional, bool): Whether to allow crawling backlinks outside the URL hierarchy. Default is False.\n",
    "- `allow_external_links` (optional, bool): Whether to allow crawling links to external websites. Default is False.\n",
    "- `delay` (optional, int): Delay in seconds between page scrapes to respect rate limits. Default is 1.\n",
    "- `formats` (optional, List[str]): The format(s) of the scraped content. Default is [\"markdown\"]. Options include:\n",
    "  - \"markdown\"\n",
    "  - \"rawHtml\"\n",
    "  - \"screenshot@fullPage\"\n",
    "  - \"json\"\n",
    "  - \"links\"\n",
    "  - \"screenshot\"\n",
    "  - \"html\"\n",
    "- `only_main_content` (optional, bool): Whether to return only the main content, excluding headers, navigation bars, footers, etc. Default is True.\n",
    "- `include_tags` (optional, List[str]): List of HTML tags to include in the output (e.g., [\"h1\", \"p\"]). Default is None (no explicit include filter).\n",
    "- `exclude_tags` (optional, List[str]): List of HTML tags to exclude from the output. Default is None (no explicit exclude filter).\n",
    "- `headers` (optional, Dict[str, str]): Custom HTTP headers to send with the requests, such as cookies or user-agent strings. Default is None.\n",
    "- `wait_for` (optional, int): Time in milliseconds to wait before scraping the content, allowing the page to load fully. Default is 0.\n",
    "- `timeout` (optional, int):Request timeout in milliseconds. Default is 30000."
   ]
  },
  {
   "cell_type": "markdown",
   "id": "74147a1a",
   "metadata": {},
   "source": [
    "## Invocation\n",
    "\n",
    "### ScrapelessCrawlerCrawlTool\n",
    "\n",
    "#### Usage with Parameters"
   ]
  },
  {
   "cell_type": "code",
   "execution_count": null,
   "id": "65310a8b-eb0c-4d9e-a618-4f4abe2414fc",
   "metadata": {},
   "outputs": [],
   "source": [
    "from langchain_scrapeless import ScrapelessCrawlerCrawlTool\n",
    "\n",
    "tool = ScrapelessCrawlerCrawlTool()\n",
    "\n",
    "# Advanced usage\n",
    "result = tool.invoke({\n",
    "    \"url\": \"https://exmaple.com\",\n",
    "    \"limit\": 4\n",
    "})\n",
    "print(result)"
   ]
  },
  {
   "cell_type": "markdown",
   "id": "659f9fbd-6fcf-445f-aa8c-72d8e60154bd",
   "metadata": {},
   "source": [
    "#### Use within an agent"
   ]
  },
  {
   "cell_type": "code",
   "execution_count": null,
   "id": "af3123ad-7a02-40e5-b58e-7d56e23e5830",
   "metadata": {},
   "outputs": [],
   "source": [
    "from langchain_openai import ChatOpenAI\n",
    "from langchain_scrapeless import ScrapelessCrawlerCrawlTool\n",
    "from langgraph.prebuilt import create_react_agent\n",
    "\n",
    "llm = ChatOpenAI()\n",
    "\n",
    "tool = ScrapelessCrawlerCrawlTool()\n",
    "\n",
    "# Use the tool with an agent\n",
    "tools = [tool]\n",
    "agent = create_react_agent(llm, tools)\n",
    "\n",
    "for chunk in agent.stream(\n",
    "        {\"messages\": [(\"human\", \"Use the scrapeless crawler crawl tool to crawl the website https://example.com and output the markdown content as a string.\")]},\n",
    "        stream_mode=\"values\"\n",
    "):\n",
    "    chunk[\"messages\"][-1].pretty_print()"
   ]
  },
  {
   "cell_type": "markdown",
   "id": "769b2246",
   "metadata": {},
   "source": [
    "### ScrapelessCrawlerScrapeTool\n",
    "\n",
    "#### Usage with Parameters"
   ]
  },
  {
   "cell_type": "code",
   "execution_count": null,
   "id": "ca993de7",
   "metadata": {},
   "outputs": [],
   "source": [
    "from langchain_scrapeless import ScrapelessDeepSerpGoogleTrendsTool\n",
    "\n",
    "tool = ScrapelessDeepSerpGoogleTrendsTool()\n",
    "\n",
    "# Basic usage\n",
    "result = tool.invoke(\"Funny 2048,negamon monster trainer\")\n",
    "print(result)"
   ]
  },
  {
   "cell_type": "markdown",
   "id": "1a4db36f",
   "metadata": {},
   "source": [
    "#### Advanced Usage with Parameters"
   ]
  },
  {
   "cell_type": "code",
   "execution_count": null,
   "id": "42c83c46",
   "metadata": {},
   "outputs": [],
   "source": [
    "from langchain_scrapeless import ScrapelessCrawlerScrapeTool\n",
    "\n",
    "tool = ScrapelessCrawlerScrapeTool()\n",
    "\n",
    "result = tool.invoke({\n",
    "    \"urls\": [\"https://exmaple.com\", \"https://www.scrapeless.com/en\"],\n",
    "    \"formats\": [\"markdown\"]\n",
    "})\n",
    "print(result)"
   ]
  },
  {
   "cell_type": "markdown",
   "id": "7dde00ff",
   "metadata": {},
   "source": [
    "#### Use within an agent"
   ]
  },
  {
   "cell_type": "code",
   "execution_count": null,
   "id": "f6ca1aff",
   "metadata": {},
   "outputs": [],
   "source": [
    "from langchain_openai import ChatOpenAI\n",
    "from langchain_scrapeless import ScrapelessCrawlerScrapeTool\n",
    "from langgraph.prebuilt import create_react_agent\n",
    "\n",
    "llm = ChatOpenAI()\n",
    "\n",
    "tool = ScrapelessCrawlerScrapeTool()\n",
    "\n",
    "# Use the tool with an agent\n",
    "tools = [tool]\n",
    "agent = create_react_agent(llm, tools)\n",
    "\n",
    "for chunk in agent.stream(\n",
    "        {\"messages\": [(\"human\", \"Use the scrapeless crawler scrape tool to get the website content of https://example.com and output the html content as a string.\")]},\n",
    "        stream_mode=\"values\"\n",
    "):\n",
    "    chunk[\"messages\"][-1].pretty_print()\n"
   ]
  },
  {
   "cell_type": "markdown",
   "id": "4ac8146c",
   "metadata": {},
   "source": [
    "## API reference\n",
    "\n",
    "- [Scrapeless Documentation](https://docs.scrapeless.com/en/crawl/quickstart/introduction/)\n",
    "- [Scrapeless API Reference](https://apidocs.scrapeless.com/api-17509003)"
   ]
  }
 ],
 "metadata": {
  "kernelspec": {
   "display_name": "base",
   "language": "python",
   "name": "python3"
  },
  "language_info": {
   "codemirror_mode": {
    "name": "ipython",
    "version": 3
   },
   "file_extension": ".py",
   "mimetype": "text/x-python",
   "name": "python",
   "nbconvert_exporter": "python",
   "pygments_lexer": "ipython3",
   "version": "3.11.5"
  }
 },
 "nbformat": 4,
 "nbformat_minor": 5
}
