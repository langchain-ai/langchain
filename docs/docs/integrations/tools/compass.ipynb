{
 "cells": [
  {
   "cell_type": "raw",
   "id": "afaf8039",
   "metadata": {},
   "source": [
    "---\n",
    "sidebar_label: Compass\n",
    "---"
   ]
  },
  {
   "cell_type": "markdown",
   "id": "e49f1e0d",
   "metadata": {},
   "source": [
    "# Compass LangChain Toolkit\n",
    "\n",
    "The `langchain-compass` toolkit contains tools that enable an LLM agent to interact with popular DeFi protocols non-custodially. The toolkit is built on top of a Universal DeFi API (Compass API) allowing agents to perform financial operations like:\n",
    "\n",
    "- **Swapping tokens** on Uniswap and Aerodrome\n",
    "- **Lending** or **borrowing** assets using protocols on Aave\n",
    "- **Providing liquidity** on Aerodrome and Uniswap\n",
    "- **Transferring funds** between wallets.\n",
    "- Querying balances, portfolios and **monitoring positions**.\n",
    "\n",
    "## Overview\n",
    "\n",
    "### Integration details\n",
    "\n",
    "| Class                    | Package             | Serializable | JS support |                                         Package latest                                         |\n",
    "|:-------------------------|:--------------------| :---: | :---: |:----------------------------------------------------------------------------------------------:|\n",
    "| LangchainCompassToolkit  | `langchain-compass` | ❌ | ❌ | ![PyPI - Version](https://img.shields.io/pypi/v/langchain-compass?style=flat-square&label=%20) |\n",
    "\n",
    "### Tool features\n",
    "\n",
    "Here’s a sample of the tools this toolkit provides (subject to change daily):\n",
    "\t- \t`aave_supply_`: Supply assets to Aave to earn interest.\n",
    "\t- \t`aave_borrow_`: Borrow assets from Aave using collateral.\n",
    "\t- \t`uniswap_swap_sell_exactly_`: Swap a specific amount of one token on Uniswap.\n",
    "\t- \t`generic_portfolio_get_`: Retrieve a wallet’s portfolio in USD and token balances.\n",
    "\t- \t`generic_transfer_erc20_`: Transfer ERC20 tokens to another address.\n",
    "\n",
    "\n",
    "## Setup\n",
    "\n",
    "At a high-level, we will:\n",
    "\n",
    "1. Install the langchain package\n",
    "2. Import and instantiate the toolkit\n",
    "3. Pass the tools to your agent with `toolkit.get_tools()`"
   ]
  },
  {
   "cell_type": "markdown",
   "id": "72ee0c4b",
   "metadata": {},
   "source": "To enable automated tracing of individual tools, set your [LangSmith](https://docs.smith.langchain.com/) API key:"
  },
  {
   "cell_type": "code",
   "id": "a15d341e",
   "metadata": {
    "ExecuteTime": {
     "end_time": "2025-04-15T16:39:04.355706Z",
     "start_time": "2025-04-15T16:39:04.352935Z"
    }
   },
   "source": [
    "# os.environ[\"LANGSMITH_API_KEY\"] = getpass.getpass(\"Enter your LangSmith API key: \")\n",
    "# os.environ[\"LANGSMITH_TRACING\"] = \"true\""
   ],
   "outputs": [],
   "execution_count": 1
  },
  {
   "cell_type": "markdown",
   "id": "0730d6a1",
   "metadata": {},
   "source": [
    "### Installation\n",
    "\n",
    "This toolkit lives in the `langchain-compass` package:"
   ]
  },
  {
   "cell_type": "code",
   "id": "652d6238",
   "metadata": {
    "ExecuteTime": {
     "end_time": "2025-04-15T16:39:04.641243Z",
     "start_time": "2025-04-15T16:39:04.497517Z"
    }
   },
   "source": "%pip install -qU langchain-compass",
   "outputs": [
    {
     "name": "stdout",
     "output_type": "stream",
     "text": [
      "/Users/johncosnett/compass_labs/compass_ai/.venv/bin/python: No module named pip\r\n",
      "Note: you may need to restart the kernel to use updated packages.\n"
     ]
    }
   ],
   "execution_count": 2
  },
  {
   "cell_type": "markdown",
   "id": "a38cde65",
   "metadata": {},
   "source": [
    "#### Environment Setup\n",
    "\n",
    "To run these examples, ensure LangChain has access to an LLM service. For instance, if you're using GPT-4o, create a `.env` file containing:"
   ]
  },
  {
   "cell_type": "code",
   "id": "cb09c344",
   "metadata": {
    "ExecuteTime": {
     "end_time": "2025-04-15T16:39:04.648134Z",
     "start_time": "2025-04-15T16:39:04.646123Z"
    }
   },
   "source": "# OPENAI_API_KEY=your_openai_api_key_here",
   "outputs": [],
   "execution_count": 3
  },
  {
   "cell_type": "markdown",
   "id": "5c5f2839",
   "metadata": {},
   "source": [
    "## Instantiation\n",
    "\n",
    "Now we can instantiate our toolkit:"
   ]
  },
  {
   "cell_type": "code",
   "id": "51a60dbe",
   "metadata": {
    "ExecuteTime": {
     "end_time": "2025-04-15T16:39:05.635164Z",
     "start_time": "2025-04-15T16:39:04.658194Z"
    }
   },
   "source": [
    "from langchain_compass.toolkits import LangchainCompassToolkit\n",
    "\n",
    "toolkit = LangchainCompassToolkit(compass_api_key=None)"
   ],
   "outputs": [],
   "execution_count": 4
  },
  {
   "cell_type": "markdown",
   "id": "d11245ad",
   "metadata": {},
   "source": [
    "## Tools\n",
    "\n",
    "View [available tools](#tool-features):"
   ]
  },
  {
   "cell_type": "code",
   "id": "310bf18e",
   "metadata": {
    "ExecuteTime": {
     "end_time": "2025-04-15T16:39:06.871526Z",
     "start_time": "2025-04-15T16:39:05.640601Z"
    }
   },
   "source": [
    "tools = toolkit.get_tools()\n",
    "for tool in tools:\n",
    "    print(tool.name)"
   ],
   "outputs": [
    {
     "name": "stdout",
     "output_type": "stream",
     "text": [
      "aave_supply_\n",
      "aave_borrow_\n",
      "aave_repay_\n",
      "aave_withdraw_\n",
      "aave_asset_price_get_\n",
      "aave_liquidity_change_get_\n",
      "aave_user_position_summary_get_\n",
      "aave_user_position_per_token_get_\n",
      "aerodrome_slipstream_swap_sell_exactly_\n",
      "aerodrome_slipstream_swap_buy_exactly_\n",
      "aerodrome_slipstream_liquidity_provision_mint_\n",
      "aerodrome_slipstream_liquidity_provision_increase_\n",
      "aerodrome_slipstream_liquidity_provision_withdraw_\n",
      "aerodrome_slipstream_liquidity_provision_positions_get_\n",
      "aerodrome_slipstream_pool_price_get_\n",
      "generic_portfolio_get_\n",
      "generic_visualize_portfolio_get_\n",
      "generic_price_usd_get_\n",
      "generic_supported_tokens_get_\n",
      "generic_balance_get_\n",
      "generic_allowance_get_\n",
      "generic_ens_get_\n",
      "generic_wrap_eth_\n",
      "generic_unwrap_weth_\n",
      "generic_transfer_erc20_\n",
      "generic_transfer_native_token_\n",
      "generic_allowance_set_\n",
      "uniswap_swap_buy_exactly_\n",
      "uniswap_swap_sell_exactly_\n",
      "uniswap_liquidity_provision_increase_\n",
      "uniswap_liquidity_provision_mint_\n",
      "uniswap_liquidity_provision_withdraw_\n",
      "uniswap_quote_buy_exactly_get_\n",
      "uniswap_quote_sell_exactly_get_\n",
      "uniswap_pool_price_get_\n",
      "uniswap_liquidity_provision_in_range_get_\n",
      "uniswap_liquidity_provision_positions_get_\n"
     ]
    }
   ],
   "execution_count": 5
  },
  {
   "cell_type": "markdown",
   "id": "23e11cc9",
   "metadata": {},
   "source": [
    "## Use within an agent\n",
    "\n",
    "We will need a LLM or chat model:"
   ]
  },
  {
   "cell_type": "code",
   "id": "d1ee55bc",
   "metadata": {
    "ExecuteTime": {
     "end_time": "2025-04-15T16:39:07.387799Z",
     "start_time": "2025-04-15T16:39:06.939220Z"
    }
   },
   "source": [
    "from langchain_openai import ChatOpenAI\n",
    "from dotenv import load_dotenv\n",
    "load_dotenv()\n",
    "\n",
    "llm = ChatOpenAI(model=\"gpt-4o\")"
   ],
   "outputs": [],
   "execution_count": 6
  },
  {
   "cell_type": "markdown",
   "id": "3a5bb5ca",
   "metadata": {},
   "source": [
    "Initialize the agent with the tools:"
   ]
  },
  {
   "cell_type": "code",
   "id": "f8a2c4b1",
   "metadata": {
    "ExecuteTime": {
     "end_time": "2025-04-15T16:39:08.401775Z",
     "start_time": "2025-04-15T16:39:07.392850Z"
    }
   },
   "source": [
    "from langgraph.prebuilt import create_react_agent\n",
    "\n",
    "tools = toolkit.get_tools()\n",
    "agent_executor = create_react_agent(llm, tools)"
   ],
   "outputs": [],
   "execution_count": 7
  },
  {
   "cell_type": "markdown",
   "id": "b4a7c9d2",
   "metadata": {},
   "source": [
    "Example usage:"
   ]
  },
  {
   "cell_type": "code",
   "id": "c9a8e4f3",
   "metadata": {
    "ExecuteTime": {
     "end_time": "2025-04-15T16:39:20.474445Z",
     "start_time": "2025-04-15T16:39:08.406713Z"
    }
   },
   "source": [
    "example_query = \"what is the balance of vitalic.eth.\"\n",
    "\n",
    "events = agent_executor.stream(\n",
    "    {\"messages\": [(\"user\", example_query)]},\n",
    "    stream_mode=\"values\",\n",
    ")\n",
    "for event in events:\n",
    "    event[\"messages\"][-1].pretty_print()"
   ],
   "outputs": [
    {
     "name": "stdout",
     "output_type": "stream",
     "text": [
      "================================\u001B[1m Human Message \u001B[0m=================================\n",
      "\n",
      "what is the balance of vitalic.eth.\n",
      "==================================\u001B[1m Ai Message \u001B[0m==================================\n",
      "Tool Calls:\n",
      "  generic_ens_get_ (call_kbgxVmdMNzaJa79srcI9wgTf)\n",
      " Call ID: call_kbgxVmdMNzaJa79srcI9wgTf\n",
      "  Args:\n",
      "    chain: ethereum:mainnet\n",
      "    ens_name: vitalik.eth\n",
      "=================================\u001B[1m Tool Message \u001B[0m=================================\n",
      "Name: generic_ens_get_\n",
      "\n",
      "wallet_address='0xd8dA6BF26964aF9D7eEd9e03E53415D37aA96045' registrant='0xd8dA6BF26964aF9D7eEd9e03E53415D37aA96045'\n",
      "==================================\u001B[1m Ai Message \u001B[0m==================================\n",
      "Tool Calls:\n",
      "  generic_portfolio_get_ (call_s5BMj4zrqy3ir1kmfxh7TQB7)\n",
      " Call ID: call_s5BMj4zrqy3ir1kmfxh7TQB7\n",
      "  Args:\n",
      "    chain: ethereum:mainnet\n",
      "    user: 0xd8dA6BF26964aF9D7eEd9e03E53415D37aA96045\n",
      "=================================\u001B[1m Tool Message \u001B[0m=================================\n",
      "Name: generic_portfolio_get_\n",
      "\n",
      "total_value_in_usd='485515.4480892641322350842779' token_balances=[TokenBalance(amount='6.036695054183323219', decimals=18, token_symbol=<Token.field_1INCH: '1INCH'>, token_address='0x111111111117dC0aa78b770fA6A738034120C302', price='0.16903517000000001235804347743396647274494171142578125', token_value_in_usd='1.020413774722037326090352170'), TokenBalance(amount='0.01015207', decimals=18, token_symbol=<Token.AAVE: 'AAVE'>, token_address='0x7Fc66500c84A76Ad7e9c93437bFc5Ac33E2DDaE9', price='137.75825943000000961546902544796466827392578125', token_value_in_usd='1.398531492811520197616914629'), TokenBalance(amount='0.932065903445280347', decimals=18, token_symbol=<Token.BAL: 'BAL'>, token_address='0xba100000625a3754423978a60c9317c58a424e3D', price='1.0338727000000000888491058503859676420688629150390625', token_value_in_usd='0.9636374921729113774230490147'), TokenBalance(amount='0.775486845097093235', decimals=18, token_symbol=<Token.crvUSD: 'crvUSD'>, token_address='0xf939E0A03FB07F59A73314E73794Be0E57ac1b4E', price='0.9999861599999999572929709756863303482532501220703125', token_value_in_usd='0.7754761123591570581108883985'), TokenBalance(amount='317203.872440674356221452', decimals=18, token_symbol=<Token.DAI: 'DAI'>, token_address='0x6B175474E89094C44Da98b954EedeAC495271d0F', price='1.000280229999999992429593476117588579654693603515625', token_value_in_usd='317292.7624818484039949336722'), TokenBalance(amount='1144.036076063671431479', decimals=18, token_symbol=<Token.ENS: 'ENS'>, token_address='0xC18360217D8F7Ab5e7c516566761Ea12Ce7F9D72', price='14.2737870000000004466755854082293808460235595703125', token_value_in_usd='16329.72727004864496192932498'), TokenBalance(amount='1.7777777', decimals=18, token_symbol=<Token.LINK: 'LINK'>, token_address='0x514910771AF9Ca656af840dff83E8264EcF986CA', price='12.349140999999999479541656910441815853118896484375', token_value_in_usd='21.95402748395569907474076388'), TokenBalance(amount='0.000029997485791137', decimals=18, token_symbol=<Token.rsETH: 'rsETH'>, token_address='0xA1290d69c65A6Fe4DF752f95823fae25cB99e5A7', price='1692.762674802640558767553319', token_value_in_usd='0.05077862428515927237735794292'), TokenBalance(amount='0.0000168', decimals=18, token_symbol=<Token.UNI: 'UNI'>, token_address='0x1f9840a85d5aF5bf1D1762F925BDADdC4201F984', price='5.3284966100000001887337930384092032909393310546875', token_value_in_usd='0.00008951874304800000317072772305'), TokenBalance(amount='123223.706565', decimals=6, token_symbol=<Token.USDC: 'USDC'>, token_address='0xA0b86991c6218b36c1d19D4a2e9Eb0cE3606eB48', price='0.99992999999999998550492819049395620822906494140625', token_value_in_usd='123215.0809055404482138635247'), TokenBalance(amount='170.147549', decimals=6, token_symbol=<Token.USDT: 'USDT'>, token_address='0xdAC17F958D2ee523a2206206994597C13D831ec7', price='0.99984572999999998810238821533857844769954681396484375', token_value_in_usd='170.1213003376157679756505159'), TokenBalance(amount='0.00107182', decimals=8, token_symbol=<Token.WBTC: 'WBTC'>, token_address='0x2260FAC5E5542a773Aa44fBCfeDf7C193bc2C599', price='84878.623000000006868503987789154052734375', token_value_in_usd='90.97460570386000736179994419'), TokenBalance(amount='16.395109787715287566', decimals=18, token_symbol=<Token.WETH: 'WETH'>, token_address='0xC02aaA39b223FE8D0A0e5C4F27eAD9083C756Cc2', price='1731.651628985061878308560486', token_value_in_usd='28390.61857128610975671394299')]\n",
      "==================================\u001B[1m Ai Message \u001B[0m==================================\n",
      "\n",
      "The portfolio value of the wallet address associated with `vitalik.eth` is approximately $485,515.45 USD. Below is a detailed breakdown of the token balances:\n",
      "\n",
      "1. **1INCH**: `6.04` tokens valued at approximately `$1.02` USD\n",
      "2. **AAVE**: `0.0102` tokens valued at approximately `$1.40` USD\n",
      "3. **BAL**: `0.9321` tokens valued at approximately `$0.96` USD\n",
      "4. **crvUSD**: `0.7755` tokens valued at approximately `$0.78` USD\n",
      "5. **DAI**: `317,203.87` tokens valued at approximately `$317,292.76` USD\n",
      "6. **ENS**: `1,144.04` tokens valued at approximately `$16,329.73` USD\n",
      "7. **LINK**: `1.78` tokens valued at approximately `$21.95` USD\n",
      "8. **rsETH**: `0.00003` tokens valued at approximately `$0.05` USD\n",
      "9. **UNI**: `0.000017` tokens valued at approximately `$0.00009` USD\n",
      "10. **USDC**: `123,223.71` tokens valued at approximately `$123,215.08` USD\n",
      "11. **USDT**: `170.15` tokens valued at approximately `$170.12` USD\n",
      "12. **WBTC**: `0.00107` tokens valued at approximately `$90.97` USD\n",
      "13. **WETH**: `16.40` tokens valued at approximately `$28,390.62` USD\n",
      "\n",
      "The total value from all these assets comes to approximately $485,515.45 USD.\n"
     ]
    }
   ],
   "execution_count": 8
  },
  {
   "cell_type": "markdown",
   "id": "e5a7c9d4",
   "metadata": {},
   "source": [
    "Expected output:\n",
    "```\n",
    "The portfolio value of the wallet address associated with `vitalik.eth` is approximately $485,515.45 USD. Below is a detailed breakdown of the token balances:\n",
    "\n",
    "1. **1INCH**: `6.04` tokens valued at approximately `$1.02` USD\n",
    "2. **AAVE**: `0.0102` tokens valued at approximately `$1.40` USD\n",
    "3. **BAL**: `0.9321` tokens valued at approximately `$0.96` USD\n",
    "4. **crvUSD**: `0.7755` tokens valued at approximately `$0.78` USD\n",
    "5. **DAI**: `317,203.87` tokens valued at approximately `$317,292.76` USD\n",
    "6. **ENS**: `1,144.04` tokens valued at approximately `$16,329.73` USD\n",
    "7. **LINK**: `1.78` tokens valued at approximately `$21.95` USD\n",
    "8. **rsETH**: `0.00003` tokens valued at approximately `$0.05` USD\n",
    "9. **UNI**: `0.000017` tokens valued at approximately `$0.00009` USD\n",
    "10. **USDC**: `123,223.71` tokens valued at approximately `$123,215.08` USD\n",
    "11. **USDT**: `170.15` tokens valued at approximately `$170.12` USD\n",
    "12. **WBTC**: `0.00107` tokens valued at approximately `$90.97` USD\n",
    "13. **WETH**: `16.40` tokens valued at approximately `$28,390.62` USD\n",
    "\n",
    "The total value from all these assets comes to approximately $485,515.45 USD.\n",
    "```"
   ]
  },
  {
   "metadata": {},
   "cell_type": "markdown",
   "source": "",
   "id": "accded9769b92"
  }
 ],
 "metadata": {
  "kernelspec": {
   "display_name": "Python 3 (ipykernel)",
   "language": "python",
   "name": "python3"
  },
  "language_info": {
   "codemirror_mode": {
    "name": "ipython",
    "version": 3
   },
   "file_extension": ".py",
   "mimetype": "text/x-python",
   "name": "python",
   "nbconvert_exporter": "python",
   "pygments_lexer": "ipython3",
   "version": "3.10.4"
  }
 },
 "nbformat": 4,
 "nbformat_minor": 5
}
