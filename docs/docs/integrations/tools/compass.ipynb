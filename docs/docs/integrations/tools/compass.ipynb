{
 "cells": [
  {
   "cell_type": "raw",
   "id": "afaf8039",
   "metadata": {},
   "source": [
    "---\n",
    "sidebar_label: Compass\n",
    "---"
   ]
  },
  {
   "metadata": {},
   "cell_type": "markdown",
   "source": [
    "# Compass LangChain Toolkit\n",
    "\n",
    "The `langchain-compass` toolkit contains tools that enable an LLM agent to interact with popular DeFi protocols non-custodially i.e. tools return *unsigned transactions*. The toolkit is built on top of a Universal DeFi API ([Compass API](https://api.compasslabs.ai/)) allowing agents to perform financial operations like:\n",
    "\n",
    "- **Swapping tokens** on Uniswap and Aerodrome\n",
    "- **Lending** or **borrowing** assets using protocols on Aave\n",
    "- **Providing liquidity** on Aerodrome and Uniswap\n",
    "- **Transferring funds** between wallets.\n",
    "- Querying balances, portfolios and **monitoring positions**.\n",
    "\n",
    "## Overview\n",
    "\n",
    "### Integration details\n",
    "\n",
    "| Class                    | Package             | Serializable | JS support |                                         Package latest                                         |\n",
    "|:-------------------------|:--------------------| :---: | :---: |:----------------------------------------------------------------------------------------------:|\n",
    "| LangchainCompassToolkit  | `langchain-compass` | ❌ | ❌ | ![PyPI - Version](https://img.shields.io/pypi/v/langchain-compass?style=flat-square&label=%20) |\n",
    "\n",
    "### Tool features\n",
    "\n",
    "Here’s a sample of the tools this toolkit provides (subject to change daily):\n",
    "\n",
    "- `aave_supply_`: Supply assets to Aave to earn interest.\n",
    "- `aave_borrow_`: Borrow assets from Aave using collateral.\n",
    "- `uniswap_swap_sell_exactly_`: Swap a specific amount of one token on Uniswap.\n",
    "- `generic_portfolio_get_`: Retrieve a wallet’s portfolio in USD and token balances.\n",
    "- `generic_transfer_erc20_`: Transfer ERC20 tokens between addresses.\n",
    "\n",
    "\n",
    "## Setup\n",
    "\n",
    "Here we will:\n",
    "\n",
    "1. Install the langchain package\n",
    "2. Import and instantiate the toolkit\n",
    "3. Pass the tools to your agent with `toolkit.get_tools()`"
   ],
   "id": "e49f1e0d"
  },
  {
   "cell_type": "markdown",
   "id": "0730d6a1",
   "metadata": {},
   "source": [
    "### Installation\n",
    "\n",
    "This toolkit lives in the `langchain-compass` package:"
   ]
  },
  {
   "metadata": {},
   "cell_type": "code",
   "outputs": [],
   "execution_count": null,
   "source": "%pip install -qU langchain-compass",
   "id": "652d6238"
  },
  {
   "cell_type": "markdown",
   "id": "a38cde65",
   "metadata": {},
   "source": [
    "#### Environment Setup\n",
    "\n",
    "To run these examples, ensure LangChain has access to an LLM service. For instance, if you're using GPT-4o, create a `.env` file containing:"
   ]
  },
  {
   "metadata": {},
   "cell_type": "code",
   "source": [
    "# .env file\n",
    "OPENAI_API_KEY = 'your_openai_api_key_here'"
   ],
   "id": "444ad01ad7bc6677",
   "outputs": [],
   "execution_count": null
  },
  {
   "cell_type": "markdown",
   "id": "5c5f2839",
   "metadata": {},
   "source": [
    "### Instantiation\n",
    "\n",
    "Now we can instantiate our toolkit:"
   ]
  },
  {
   "metadata": {},
   "cell_type": "code",
   "outputs": [],
   "execution_count": null,
   "source": [
    "from langchain_compass.toolkits import LangchainCompassToolkit\n",
    "\n",
    "toolkit = LangchainCompassToolkit(compass_api_key=None)"
   ],
   "id": "51a60dbe"
  },
  {
   "cell_type": "markdown",
   "id": "d11245ad",
   "metadata": {},
   "source": [
    "### Tools\n",
    "\n",
    "View [available tools](#tool-features):"
   ]
  },
  {
   "metadata": {},
   "cell_type": "code",
   "outputs": [],
   "execution_count": null,
   "source": [
    "tools = toolkit.get_tools()\n",
    "for tool in tools:\n",
    "    print(tool.name)"
   ],
   "id": "310bf18e"
  },
  {
   "cell_type": "markdown",
   "id": "23e11cc9",
   "metadata": {},
   "source": [
    "## Use within an agent\n",
    "\n",
    "We will need a LLM or chat model:"
   ]
  },
  {
   "metadata": {},
   "cell_type": "code",
   "outputs": [],
   "execution_count": null,
   "source": [
    "from langchain_openai import ChatOpenAI\n",
    "from dotenv import load_dotenv\n",
    "\n",
    "load_dotenv()\n",
    "\n",
    "llm = ChatOpenAI(model=\"gpt-4o\")"
   ],
   "id": "d1ee55bc"
  },
  {
   "cell_type": "markdown",
   "id": "3a5bb5ca",
   "metadata": {},
   "source": [
    "Initialize the agent with the tools:"
   ]
  },
  {
   "metadata": {},
   "cell_type": "code",
   "outputs": [],
   "source": [
    "from langgraph.prebuilt import create_react_agent\n",
    "\n",
    "tools = toolkit.get_tools()\n",
    "agent_executor = create_react_agent(llm, tools)"
   ],
   "id": "f8a2c4b1",
   "execution_count": null
  },
  {
   "cell_type": "markdown",
   "id": "b4a7c9d2",
   "metadata": {},
   "source": "Example usage:"
  },
  {
   "metadata": {},
   "cell_type": "code",
   "outputs": [],
   "execution_count": null,
   "source": [
    "example_query = \"what is the balance of vitalic.eth.\"  # spelt wrong intentionally\n",
    "\n",
    "events = agent_executor.stream(\n",
    "    {\"messages\": [(\"user\", example_query)]},\n",
    "    stream_mode=\"values\",\n",
    ")\n",
    "for event in events:\n",
    "    event[\"messages\"][-1].pretty_print()"
   ],
   "id": "c9a8e4f3"
  },
  {
   "cell_type": "markdown",
   "id": "e5a7c9d4",
   "metadata": {},
   "source": [
    "Expected output:\n",
    "```\n",
    "The portfolio value of the wallet address associated with `vitalik.eth` is approximately $485,515.45 USD. Below is a detailed breakdown of the token balances:\n",
    "\n",
    "1. **1INCH**: `6.04` tokens valued at approximately `$1.02` USD\n",
    "2. **AAVE**: `0.0102` tokens valued at approximately `$1.40` USD\n",
    "3. **BAL**: `0.9321` tokens valued at approximately `$0.96` USD\n",
    "4. **crvUSD**: `0.7755` tokens valued at approximately `$0.78` USD\n",
    "5. **DAI**: `317,203.87` tokens valued at approximately `$317,292.76` USD\n",
    "6. **ENS**: `1,144.04` tokens valued at approximately `$16,329.73` USD\n",
    "7. **LINK**: `1.78` tokens valued at approximately `$21.95` USD\n",
    "8. **rsETH**: `0.00003` tokens valued at approximately `$0.05` USD\n",
    "9. **UNI**: `0.000017` tokens valued at approximately `$0.00009` USD\n",
    "10. **USDC**: `123,223.71` tokens valued at approximately `$123,215.08` USD\n",
    "11. **USDT**: `170.15` tokens valued at approximately `$170.12` USD\n",
    "12. **WBTC**: `0.00107` tokens valued at approximately `$90.97` USD\n",
    "13. **WETH**: `16.40` tokens valued at approximately `$28,390.62` USD\n",
    "\n",
    "The total value from all these assets comes to approximately $485,515.45 USD.\n",
    "```"
   ]
  }
 ],
 "metadata": {
  "kernelspec": {
   "display_name": "Python 3 (ipykernel)",
   "language": "python",
   "name": "python3"
  },
  "language_info": {
   "codemirror_mode": {
    "name": "ipython",
    "version": 3
   },
   "file_extension": ".py",
   "mimetype": "text/x-python",
   "name": "python",
   "nbconvert_exporter": "python",
   "pygments_lexer": "ipython3",
   "version": "3.10.4"
  }
 },
 "nbformat": 4,
 "nbformat_minor": 5
}
