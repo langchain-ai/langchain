{
 "cells": [
  {
   "cell_type": "markdown",
   "id": "a6f91f20",
   "metadata": {},
   "source": [
    "# BrightDataSERP\n",
    "\n",
    "[Bright Data](https://brightdata.com/) provides a powerful SERP API that allows you to query search engines (Google,Bing.DuckDuckGo,Yandex) with geo-targeting and advanced customization options, particularly useful for AI agents requiring real-time web information.\n",
    "\n",
    "\n",
    "## Overview\n",
    "\n",
    "### Integration details\n",
    "\n",
    "\n",
    "|Class|Package|Serializable|JS support|Package latest|\n",
    "|:--|:--|:-:|:-:|:-:|\n",
    "|[BrightDataSERP](https://pypi.org/project/langchain-brightdata/)|[langchain-brightdata](https://pypi.org/project/langchain-brightdata/)|✅|❌|![PyPI - Version](https://img.shields.io/pypi/v/langchain-brightdata?style=flat-square&label=%20)|\n",
    "\n",
    "\n",
    "### Tool features\n",
    "\n",
    "\n",
    "|Native async|Returns artifact|Return data|Pricing|\n",
    "|:-:|:-:|:--|:-:|\n",
    "|❌|❌|Title, URL, snippet, position, and other search result data|Requires Bright Data account|\n",
    "\n",
    "\n",
    "\n",
    "## Setup\n",
    "\n",
    "The integration lives in the `langchain-brightdata` package."
   ]
  },
  {
   "cell_type": "raw",
   "id": "f85b4089",
   "metadata": {},
   "source": [
    "pip install langchain-brightdata"
   ]
  },
  {
   "cell_type": "markdown",
   "id": "b15e9266",
   "metadata": {},
   "source": [
    "### Credentials\n",
    "\n",
    "You'll need a Bright Data API key to use this tool. You can set it as an environment variable:"
   ]
  },
  {
   "cell_type": "code",
   "execution_count": 2,
   "id": "e0b178a2-8816-40ca-b57c-ccdd86dde9c9",
   "metadata": {},
   "outputs": [],
   "source": [
    "import os\n",
    "\n",
    "os.environ[\"BRIGHT_DATA_API_KEY\"] = \"your-api-key\""
   ]
  },
  {
   "cell_type": "markdown",
   "id": "bc5ab717-fd27-4c59-b912-bdd099541478",
   "metadata": {},
   "source": [
    "Or pass it directly when initializing the tool:"
   ]
  },
  {
   "cell_type": "code",
   "execution_count": 3,
   "id": "a6c2f136-6367-4f1f-825d-ae741e1bf281",
   "metadata": {},
   "outputs": [],
   "source": [
    "from langchain_brightdata import BrightDataSERP\n",
    "\n",
    "serp_tool = BrightDataSERP(bright_data_api_key=\"your-api-key\")"
   ]
  },
  {
   "cell_type": "markdown",
   "id": "eed8cfcc",
   "metadata": {},
   "source": [
    "## Instantiation\n",
    "\n",
    "Here we show how to instantiate an instance of the BrightDataSERP tool. This tool allows you to perform search engine queries with various customization options including geo-targeting, language preferences, device type simulation, and specific search types using Bright Data's SERP API.\n",
    "\n",
    "The tool accepts various parameters during instantiation:\n",
    "\n",
    "- `bright_data_api_key` (required, str): Your Bright Data API key for authentication.\n",
    "- `search_engine` (optional, str): Search engine to use for queries. Default is \"google\". Other options include \"bing\", \"yahoo\", \"yandex\", \"DuckDuckGo\" etc.\n",
    "- `country` (optional, str): Two-letter country code for localized search results (e.g., \"us\", \"gb\", \"de\", \"jp\"). Default is \"us\".\n",
    "- `language` (optional, str): Two-letter language code for the search results (e.g., \"en\", \"es\", \"fr\", \"de\"). Default is \"en\".\n",
    "- `results_count` (optional, int): Number of search results to return. Default is 10. Maximum value is typically 100.\n",
    "- `search_type` (optional, str): Type of search to perform. Options include:\n",
    "    - None (default): Regular web search\n",
    "    - \"isch\": Images search\n",
    "    - \"shop\": Shopping search\n",
    "    - \"nws\": News search\n",
    "    - \"jobs\": Jobs search\n",
    "- `device_type` (optional, str): Device type to simulate for the search. Options include:\n",
    "    - None (default): Desktop device\n",
    "    - \"mobile\": Generic mobile device\n",
    "    - \"ios\": iOS device (iPhone)\n",
    "    - \"android\": Android device\n",
    "- `parse_results` (optional, bool): Whether to return parsed JSON results. Default is False, which returns raw HTML response."
   ]
  },
  {
   "cell_type": "markdown",
   "id": "1c97218f-f366-479d-8bf7-fe9f2f6df73f",
   "metadata": {},
   "source": [
    "## Invocation"
   ]
  },
  {
   "cell_type": "markdown",
   "id": "902dc1fd",
   "metadata": {},
   "source": [
    "### Basic Usage"
   ]
  },
  {
   "cell_type": "code",
   "execution_count": null,
   "id": "8b3ddfe9-ca79-494c-a7ab-1f56d9407a64",
   "metadata": {},
   "outputs": [],
   "source": [
    "from langchain_brightdata import BrightDataSERP\n",
    "\n",
    "# Initialize the tool\n",
    "serp_tool = BrightDataSERP(\n",
    "    bright_data_api_key=\"your-api-key\"  # Optional if set in environment variables\n",
    ")\n",
    "\n",
    "# Run a basic search\n",
    "results = serp_tool.invoke(\"latest AI research papers\")\n",
    "\n",
    "print(results)"
   ]
  },
  {
   "cell_type": "markdown",
   "id": "74147a1a",
   "metadata": {},
   "source": [
    "### Advanced Usage with Parameters"
   ]
  },
  {
   "cell_type": "code",
   "execution_count": null,
   "id": "65310a8b-eb0c-4d9e-a618-4f4abe2414fc",
   "metadata": {},
   "outputs": [],
   "source": [
    "from langchain_brightdata import BrightDataSERP\n",
    "\n",
    "# Initialize with default parameters\n",
    "serp_tool = BrightDataSERP(\n",
    "    bright_data_api_key=\"your-api-key\",\n",
    "    search_engine=\"google\",  # Default\n",
    "    country=\"us\",  # Default\n",
    "    language=\"en\",  # Default\n",
    "    results_count=10,  # Default\n",
    "    parse_results=True,  # Get structured JSON results\n",
    ")\n",
    "\n",
    "# Use with specific parameters for this search\n",
    "results = serp_tool.invoke(\n",
    "    {\n",
    "        \"query\": \"best electric vehicles\",\n",
    "        \"country\": \"de\",  # Get results as if searching from Germany\n",
    "        \"language\": \"de\",  # Get results in German\n",
    "        \"search_type\": \"shop\",  # Get shopping results\n",
    "        \"device_type\": \"mobile\",  # Simulate a mobile device\n",
    "        \"results_count\": 15,\n",
    "    }\n",
    ")\n",
    "\n",
    "print(results)"
   ]
  },
  {
   "cell_type": "markdown",
   "id": "d6e73897",
   "metadata": {},
   "source": [
    "## Customization Options\n",
    "\n",
    "The BrightDataSERP tool accepts several parameters for customization:\n",
    "\n",
    "|Parameter|Type|Description|\n",
    "|:--|:--|:--|\n",
    "|`query`|str|The search query to perform|\n",
    "|`search_engine`|str|Search engine to use (default: \"google\")|\n",
    "|`country`|str|Two-letter country code for localized results (default: \"us\")|\n",
    "|`language`|str|Two-letter language code (default: \"en\")|\n",
    "|`results_count`|int|Number of results to return (default: 10)|\n",
    "|`search_type`|str|Type of search: None (web), \"isch\" (images), \"shop\", \"nws\" (news), \"jobs\"|\n",
    "|`device_type`|str|Device type: None (desktop), \"mobile\", \"ios\", \"android\"|\n",
    "|`parse_results`|bool|Whether to return structured JSON (default: False)|\n"
   ]
  },
  {
   "cell_type": "markdown",
   "id": "e3353ce6",
   "metadata": {},
   "source": [
    "## Use within an agent"
   ]
  },
  {
   "cell_type": "code",
   "execution_count": null,
   "id": "8c91c32f",
   "metadata": {},
   "outputs": [],
   "source": [
    "from langchain_brightdata import BrightDataSERP\n",
    "from langchain_google_genai import ChatGoogleGenerativeAI\n",
    "from langgraph.prebuilt import create_react_agent\n",
    "\n",
    "# Initialize the LLM\n",
    "llm = ChatGoogleGenerativeAI(model=\"gemini-2.0-flash\", google_api_key=\"your-api-key\")\n",
    "\n",
    "# Initialize the Bright Data SERP tool\n",
    "serp_tool = BrightDataSERP(\n",
    "    bright_data_api_key=\"your-api-key\",\n",
    "    search_engine=\"google\",\n",
    "    country=\"us\",\n",
    "    language=\"en\",\n",
    "    results_count=10,\n",
    "    parse_results=True,\n",
    ")\n",
    "\n",
    "# Create the agent\n",
    "agent = create_react_agent(llm, [serp_tool])\n",
    "\n",
    "# Provide a user query\n",
    "user_input = \"Search for 'best electric vehicles' shopping results in Germany in German using mobile.\"\n",
    "\n",
    "# Stream the agent's output step-by-step\n",
    "for step in agent.stream(\n",
    "    {\"messages\": user_input},\n",
    "    stream_mode=\"values\",\n",
    "):\n",
    "    step[\"messages\"][-1].pretty_print()"
   ]
  },
  {
   "cell_type": "markdown",
   "id": "e8dec55a",
   "metadata": {},
   "source": [
    "## API reference\n",
    "\n",
    "- [Bright Data API Documentation](https://docs.brightdata.com/scraping-automation/serp-api/introduction)"
   ]
  }
 ],
 "metadata": {
  "kernelspec": {
   "display_name": "Python 3",
   "language": "python",
   "name": "python3"
  },
  "language_info": {
   "codemirror_mode": {
    "name": "ipython",
    "version": 3
   },
   "file_extension": ".py",
   "mimetype": "text/x-python",
   "name": "python",
   "nbconvert_exporter": "python",
   "pygments_lexer": "ipython3",
   "version": "3.10.16"
  }
 },
 "nbformat": 4,
 "nbformat_minor": 5
}
