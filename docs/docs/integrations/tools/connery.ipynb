{
 "cells": [
  {
   "cell_type": "markdown",
   "metadata": {},
   "source": [
    "# Connery Toolkit and Tools\n",
    "\n",
    "Using the Connery toolkit and tools, you can integrate Connery Actions into your LangChain agent.\n",
    "\n",
    "## What is Connery?\n",
    "\n",
    "Connery is an open-source plugin infrastructure for AI.\n",
    "\n",
    "With Connery, you can easily create a custom plugin with a set of actions and seamlessly integrate them into your LangChain agent.\n",
    "Connery will take care of critical aspects such as runtime, authorization, secret management, access management, audit logs, and other vital features.\n",
    "\n",
    "Furthermore, Connery, supported by our community, provides a diverse collection of ready-to-use open-source plugins for added convenience.\n",
    "\n",
    "Learn more about Connery:\n",
    "\n",
    "- GitHub: https://github.com/connery-io/connery\n",
    "- Documentation: https://docs.connery.io\n",
    "\n",
    "## Setup\n",
    "\n",
    "### Installation\n",
    "\n",
    "You need to install the `langchain_community` package to use the Connery tools."
   ]
  },
  {
   "cell_type": "code",
   "execution_count": null,
   "metadata": {},
   "outputs": [],
   "source": [
    "%pip install -qU langchain-community"
   ]
  },
  {
   "cell_type": "markdown",
   "metadata": {},
   "source": [
    "### Credentials\n",
    "\n",
    "To use Connery Actions in your LangChain agent, you need to do some preparation:\n",
    "\n",
    "1. Set up the Connery runner using the [Quickstart](https://docs.connery.io/docs/runner/quick-start/) guide.\n",
    "2. Install all the plugins with the actions you want to use in your agent.\n",
    "3. Set environment variables `CONNERY_RUNNER_URL` and `CONNERY_RUNNER_API_KEY` so the toolkit can communicate with the Connery Runner."
   ]
  },
  {
   "cell_type": "code",
   "execution_count": null,
   "metadata": {},
   "outputs": [],
   "source": [
    "import getpass\n",
    "import os\n",
    "\n",
    "for key in [\"CONNERY_RUNNER_URL\", \"CONNERY_RUNNER_API_KEY\"]:\n",
    "    if key not in os.environ:\n",
    "        os.environ[key] = getpass.getpass(f\"Please enter the value for {key}: \")"
   ]
  },
  {
   "cell_type": "markdown",
   "metadata": {},
   "source": [
    "## Toolkit\n",
    "\n",
    "In the example below, we create an agent that uses two Connery Actions to summarize a public webpage and send the summary by email:\n",
    "\n",
    "1. **Summarize public webpage** action from the [Summarization](https://github.com/connery-io/summarization-plugin) plugin.\n",
    "2. **Send email** action from the [Gmail](https://github.com/connery-io/gmail) plugin.\n",
    "\n",
    "You can see a LangSmith trace of this example [here](https://smith.langchain.com/public/4af5385a-afe9-46f6-8a53-57fe2d63c5bc/r)."
   ]
  },
  {
   "cell_type": "code",
   "execution_count": 1,
   "metadata": {},
   "outputs": [
    {
     "name": "stdout",
     "output_type": "stream",
     "text": [
      "\n",
      "\n",
      "\u001b[1m> Entering new AgentExecutor chain...\u001b[0m\n",
      "\u001b[32;1m\u001b[1;3m\n",
      "Invoking: `CA72DFB0AB4DF6C830B43E14B0782F70` with `{'publicWebpageUrl': 'http://www.paulgraham.com/vb.html'}`\n",
      "\n",
      "\n",
      "\u001b[0m\u001b[33;1m\u001b[1;3m{'summary': 'The author reflects on the concept of life being short and how having children made them realize the true brevity of life. They discuss how time can be converted into discrete quantities and how limited certain experiences are. The author emphasizes the importance of prioritizing and eliminating unnecessary things in life, as well as actively pursuing meaningful experiences. They also discuss the negative impact of getting caught up in online arguments and the need to be aware of how time is being spent. The author suggests pruning unnecessary activities, not waiting to do things that matter, and savoring the time one has.'}\u001b[0m\u001b[32;1m\u001b[1;3m\n",
      "Invoking: `CABC80BB79C15067CA983495324AE709` with `{'recipient': 'test@example.com', 'subject': 'Summary of the webpage', 'body': 'Here is a short summary of the webpage http://www.paulgraham.com/vb.html:\\n\\nThe author reflects on the concept of life being short and how having children made them realize the true brevity of life. They discuss how time can be converted into discrete quantities and how limited certain experiences are. The author emphasizes the importance of prioritizing and eliminating unnecessary things in life, as well as actively pursuing meaningful experiences. They also discuss the negative impact of getting caught up in online arguments and the need to be aware of how time is being spent. The author suggests pruning unnecessary activities, not waiting to do things that matter, and savoring the time one has.\\n\\nYou can find the full webpage [here](http://www.paulgraham.com/vb.html).'}`\n",
      "\n",
      "\n",
      "\u001b[0m\u001b[33;1m\u001b[1;3m{'messageId': '<2f04b00e-122d-c7de-c91e-e78e0c3276d6@gmail.com>'}\u001b[0m\u001b[32;1m\u001b[1;3mI have sent the email with the summary of the webpage to test@example.com. Please check your inbox.\u001b[0m\n",
      "\n",
      "\u001b[1m> Finished chain.\u001b[0m\n",
      "I have sent the email with the summary of the webpage to test@example.com. Please check your inbox.\n"
     ]
    }
   ],
   "source": [
    "import os\n",
    "\n",
    "from langchain.agents import AgentType, initialize_agent\n",
    "from langchain_community.agent_toolkits.connery import ConneryToolkit\n",
    "from langchain_community.tools.connery import ConneryService\n",
    "from langchain_openai import ChatOpenAI\n",
    "\n",
    "# Specify your Connery Runner credentials.\n",
    "os.environ[\"CONNERY_RUNNER_URL\"] = \"\"\n",
    "os.environ[\"CONNERY_RUNNER_API_KEY\"] = \"\"\n",
    "\n",
    "# Specify OpenAI API key.\n",
    "os.environ[\"OPENAI_API_KEY\"] = \"\"\n",
    "\n",
    "# Specify your email address to receive the email with the summary from example below.\n",
    "recepient_email = \"test@example.com\"\n",
    "\n",
    "# Create a Connery Toolkit with all the available actions from the Connery Runner.\n",
    "connery_service = ConneryService()\n",
    "connery_toolkit = ConneryToolkit.create_instance(connery_service)\n",
    "\n",
    "# Use OpenAI Functions agent to execute the prompt using actions from the Connery Toolkit.\n",
    "llm = ChatOpenAI(temperature=0)\n",
    "agent = initialize_agent(\n",
    "    connery_toolkit.get_tools(), llm, AgentType.OPENAI_FUNCTIONS, verbose=True\n",
    ")\n",
    "result = agent.run(\n",
    "    f\"\"\"Make a short summary of the webpage http://www.paulgraham.com/vb.html in three sentences\n",
    "and send it to {recepient_email}. Include the link to the webpage into the body of the email.\"\"\"\n",
    ")\n",
    "print(result)"
   ]
  },
  {
   "cell_type": "markdown",
   "metadata": {},
   "source": [
    "NOTE: Connery Action is a structured tool, so you can only use it in the agents supporting structured tools.\n",
    "\n",
    "## Tool"
   ]
  },
  {
   "cell_type": "code",
   "execution_count": null,
   "metadata": {},
   "outputs": [],
   "source": [
    "import os\n",
    "\n",
    "from langchain.agents import AgentType, initialize_agent\n",
    "from langchain_community.tools.connery import ConneryService\n",
    "from langchain_openai import ChatOpenAI\n",
    "\n",
    "# Specify your Connery Runner credentials.\n",
    "os.environ[\"CONNERY_RUNNER_URL\"] = \"\"\n",
    "os.environ[\"CONNERY_RUNNER_API_KEY\"] = \"\"\n",
    "\n",
    "# Specify OpenAI API key.\n",
    "os.environ[\"OPENAI_API_KEY\"] = \"\"\n",
    "\n",
    "# Specify your email address to receive the emails from examples below.\n",
    "recepient_email = \"test@example.com\"\n",
    "\n",
    "# Get the SendEmail action from the Connery Runner by ID.\n",
    "connery_service = ConneryService()\n",
    "send_email_action = connery_service.get_action(\"CABC80BB79C15067CA983495324AE709\")"
   ]
  },
  {
   "cell_type": "markdown",
   "metadata": {},
   "source": [
    "Run the action manually."
   ]
  },
  {
   "cell_type": "code",
   "execution_count": null,
   "metadata": {},
   "outputs": [],
   "source": [
    "manual_run_result = send_email_action.run(\n",
    "    {\n",
    "        \"recipient\": recepient_email,\n",
    "        \"subject\": \"Test email\",\n",
    "        \"body\": \"This is a test email sent from Connery.\",\n",
    "    }\n",
    ")\n",
    "print(manual_run_result)"
   ]
  },
  {
   "cell_type": "markdown",
   "metadata": {},
   "source": [
    "Run the action using the OpenAI Functions agent.\n",
    "\n",
    "You can see a LangSmith trace of this example [here](https://smith.langchain.com/public/a37d216f-c121-46da-a428-0e09dc19b1dc/r)."
   ]
  },
  {
   "cell_type": "code",
   "execution_count": null,
   "metadata": {},
   "outputs": [
    {
     "name": "stdout",
     "output_type": "stream",
     "text": [
      "\n",
      "\n",
      "\u001b[1m> Entering new AgentExecutor chain...\u001b[0m\n",
      "\u001b[32;1m\u001b[1;3m\n",
      "Invoking: `CABC80BB79C15067CA983495324AE709` with `{'recipient': 'test@example.com', 'subject': 'Late for Meeting', 'body': 'Dear Team,\\n\\nI wanted to inform you that I will be late for the meeting today. I apologize for any inconvenience caused. Please proceed with the meeting without me and I will join as soon as I can.\\n\\nBest regards,\\n[Your Name]'}`\n",
      "\n",
      "\n",
      "\u001b[0m\u001b[36;1m\u001b[1;3m{'messageId': '<d34a694d-50e0-3988-25da-e86b4c51d7a7@gmail.com>'}\u001b[0m\u001b[32;1m\u001b[1;3mI have sent an email to test@example.com informing them that you will be late for the meeting.\u001b[0m\n",
      "\n",
      "\u001b[1m> Finished chain.\u001b[0m\n",
      "I have sent an email to test@example.com informing them that you will be late for the meeting.\n"
     ]
    }
   ],
   "source": [
    "llm = ChatOpenAI(temperature=0)\n",
    "agent = initialize_agent(\n",
    "    [send_email_action], llm, AgentType.OPENAI_FUNCTIONS, verbose=True\n",
    ")\n",
    "agent_run_result = agent.run(\n",
    "    f\"Send an email to the {recepient_email} and say that I will be late for the meeting.\"\n",
    ")\n",
    "print(agent_run_result)"
   ]
  },
  {
   "cell_type": "markdown",
   "metadata": {},
   "source": [
    "NOTE: Connery Action is a structured tool, so you can only use it in the agents supporting structured tools."
   ]
  },
  {
   "cell_type": "markdown",
   "metadata": {},
   "source": [
    "## API reference\n",
    "\n",
    "For detailed documentation of all Connery features and configurations head to the API reference:\n",
    "\n",
    "- Toolkit: https://python.langchain.com/api_reference/community/agent_toolkits/langchain_community.agent_toolkits.connery.toolkit.ConneryToolkit.html\n",
    "- Tool: https://python.langchain.com/api_reference/community/tools/langchain_community.tools.connery.service.ConneryService.html"
   ]
  }
 ],
 "metadata": {
  "kernelspec": {
   "display_name": "Python 3",
   "language": "python",
   "name": "python3"
  },
  "language_info": {
   "codemirror_mode": {
    "name": "ipython",
    "version": 3
   },
   "file_extension": ".py",
   "mimetype": "text/x-python",
   "name": "python",
   "nbconvert_exporter": "python",
   "pygments_lexer": "ipython3",
   "version": "3.10.13"
  }
 },
 "nbformat": 4,
 "nbformat_minor": 2
}
