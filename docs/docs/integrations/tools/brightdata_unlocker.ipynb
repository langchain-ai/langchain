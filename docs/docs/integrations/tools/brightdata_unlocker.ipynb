{
 "cells": [
  {
   "cell_type": "markdown",
   "metadata": {},
   "source": [
    "# BrightDataUnlocker"
   ]
  },
  {
   "cell_type": "markdown",
   "metadata": {},
   "source": [
    "[Bright Data](https://brightdata.com/) provides a powerful Web Unlocker API that allows you to access websites that might be protected by anti-bot measures, geo-restrictions, or other access limitations, making it particularly useful for AI agents requiring reliable web content extraction."
   ]
  },
  {
   "cell_type": "markdown",
   "metadata": {},
   "source": [
    "## Overview"
   ]
  },
  {
   "cell_type": "markdown",
   "metadata": {},
   "source": [
    "### Integration details"
   ]
  },
  {
   "cell_type": "markdown",
   "metadata": {},
   "source": [
    "\n",
    "|Class|Package|Serializable|JS support|Package latest|\n",
    "|:--|:--|:-:|:-:|:-:|\n",
    "|[BrightDataUnlocker](https://pypi.org/project/langchain-brightdata/)|[langchain-brightdata](https://pypi.org/project/langchain-brightdata/)|✅|❌|![PyPI - Version](https://img.shields.io/pypi/v/langchain-brightdata?style=flat-square&label=%20)|\n"
   ]
  },
  {
   "cell_type": "markdown",
   "metadata": {},
   "source": [
    "### Tool features"
   ]
  },
  {
   "cell_type": "markdown",
   "metadata": {},
   "source": [
    "|Native async|Returns artifact|Return data|Pricing|\n",
    "|:-:|:-:|:--|:-:|\n",
    "|❌|❌|HTML, Markdown, or screenshot of web pages|Requires Bright Data account|\n"
   ]
  },
  {
   "cell_type": "markdown",
   "metadata": {},
   "source": [
    "## Setup"
   ]
  },
  {
   "cell_type": "markdown",
   "metadata": {},
   "source": [
    "The integration lives in the `langchain-brightdata` package."
   ]
  },
  {
   "cell_type": "code",
   "execution_count": null,
   "metadata": {
    "vscode": {
     "languageId": "plaintext"
    }
   },
   "outputs": [],
   "source": [
    "pip install langchain-brightdata"
   ]
  },
  {
   "cell_type": "markdown",
   "metadata": {},
   "source": [
    "You'll need a Bright Data API key to use this tool. You can set it as an environment variable:"
   ]
  },
  {
   "cell_type": "code",
   "execution_count": null,
   "metadata": {
    "vscode": {
     "languageId": "plaintext"
    }
   },
   "outputs": [],
   "source": [
    "import os\n",
    "os.environ[\"BRIGHT_DATA_API_KEY\"] = \"your-api-key\""
   ]
  },
  {
   "cell_type": "markdown",
   "metadata": {},
   "source": [
    "Or pass it directly when initializing the tool:"
   ]
  },
  {
   "cell_type": "code",
   "execution_count": null,
   "metadata": {
    "vscode": {
     "languageId": "plaintext"
    }
   },
   "outputs": [],
   "source": [
    "from langchain_brightdata import BrightDataUnlocker\n",
    "\n",
    "unlocker_tool = BrightDataUnlocker(bright_data_api_key=\"your-api-key\")"
   ]
  },
  {
   "cell_type": "markdown",
   "metadata": {},
   "source": [
    "## Usage"
   ]
  },
  {
   "cell_type": "markdown",
   "metadata": {},
   "source": [
    "### Basic Usage"
   ]
  },
  {
   "cell_type": "code",
   "execution_count": null,
   "metadata": {
    "vscode": {
     "languageId": "plaintext"
    }
   },
   "outputs": [],
   "source": [
    "from langchain_brightdata import BrightDataUnlocker\n",
    "\n",
    "# Initialize the tool\n",
    "unlocker_tool = BrightDataUnlocker(\n",
    "    bright_data_api_key=\"your-api-key\"  # Optional if set in environment variables\n",
    ")\n",
    "\n",
    "# Access a webpage\n",
    "result = unlocker_tool.invoke(\"https://example.com\")\n",
    "\n",
    "print(result)"
   ]
  },
  {
   "cell_type": "markdown",
   "metadata": {},
   "source": [
    "### Advanced Usage with Parameters"
   ]
  },
  {
   "cell_type": "code",
   "execution_count": null,
   "metadata": {
    "vscode": {
     "languageId": "plaintext"
    }
   },
   "outputs": [],
   "source": [
    "from langchain_brightdata import BrightDataUnlocker\n",
    "\n",
    "unlocker_tool = BrightDataUnlocker(\n",
    "    bright_data_api_key=\"your-api-key\",\n",
    ")\n",
    "\n",
    "# Access a webpage with specific parameters\n",
    "result = unlocker_tool.invoke({\n",
    "    \"url\": \"https://example.com/region-restricted-content\",\n",
    "    \"country\": \"gb\",  # Access as if from Great Britain\n",
    "    \"data_format\": \"html\",  # Get content in markdown format\n",
    "    \"zone\": \"unlocker\"  # Use the unlocker zone\n",
    "})\n",
    "\n",
    "print(result)"
   ]
  },
  {
   "cell_type": "markdown",
   "metadata": {},
   "source": [
    "## Customization Options"
   ]
  },
  {
   "cell_type": "markdown",
   "metadata": {},
   "source": [
    "The BrightDataUnlocker tool accepts several parameters for customization:\n",
    "\n",
    "|Parameter|Type|Description|\n",
    "|:--|:--|:--|\n",
    "|`url`|str|The URL to access|\n",
    "|`format`|str|Format of the response content (default: \"raw\")|\n",
    "|`country`|str|Two-letter country code for geo-specific access (e.g., \"us\", \"gb\")|\n",
    "|`zone`|str|Bright Data zone to use (default: \"unlocker\")|\n",
    "|`data_format`|str|Output format: None (HTML), \"markdown\", or \"screenshot\"|\n"
   ]
  },
  {
   "cell_type": "markdown",
   "metadata": {},
   "source": [
    "## Data Format Options\n",
    "\n",
    "The `data_format` parameter allows you to specify how the content should be returned:\n",
    "\n",
    "- `None` or `\"html\"` (default): Returns the standard HTML content of the page\n",
    "- `\"markdown\"`: Returns the content converted to markdown format, which is useful for feeding directly to LLMs\n",
    "- `\"screenshot\"`: Returns a PNG screenshot of the rendered page, useful for visual analysis"
   ]
  },
  {
   "cell_type": "markdown",
   "metadata": {},
   "source": [
    "## Additional Resources\n",
    "\n",
    "- [Bright Data API Documentation](https://docs.brightdata.com/scraping-automation/web-unlocker/introduction)"
   ]
  }
 ],
 "metadata": {
  "language_info": {
   "name": "python"
  }
 },
 "nbformat": 4,
 "nbformat_minor": 2
}
