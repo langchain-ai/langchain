{
 "cells": [
  {
   "cell_type": "markdown",
   "metadata": {},
   "source": [
    "# BrightDataUnlocker"
   ]
  },
  {
   "cell_type": "markdown",
   "metadata": {},
   "source": [
    "[Bright Data](https://brightdata.com/) provides a powerful Web Unlocker API that allows you to access websites that might be protected by anti-bot measures, geo-restrictions, or other access limitations, making it particularly useful for AI agents requiring reliable web content extraction."
   ]
  },
  {
   "cell_type": "markdown",
   "metadata": {},
   "source": [
    "## Overview"
   ]
  },
  {
   "cell_type": "markdown",
   "metadata": {},
   "source": [
    "### Integration details"
   ]
  },
  {
   "cell_type": "markdown",
   "metadata": {},
   "source": [
    "\n",
    "|Class|Package|Serializable|JS support|Package latest|\n",
    "|:--|:--|:-:|:-:|:-:|\n",
    "|[BrightDataUnlocker](https://pypi.org/project/langchain-brightdata/)|[langchain-brightdata](https://pypi.org/project/langchain-brightdata/)|✅|❌|![PyPI - Version](https://img.shields.io/pypi/v/langchain-brightdata?style=flat-square&label=%20)|\n"
   ]
  },
  {
   "cell_type": "markdown",
   "metadata": {},
   "source": [
    "### Tool features"
   ]
  },
  {
   "cell_type": "markdown",
   "metadata": {},
   "source": [
    "|Native async|Returns artifact|Return data|Pricing|\n",
    "|:-:|:-:|:--|:-:|\n",
    "|❌|❌|HTML, Markdown, or screenshot of web pages|Requires Bright Data account|\n"
   ]
  },
  {
   "cell_type": "markdown",
   "metadata": {},
   "source": [
    "## Setup"
   ]
  },
  {
   "cell_type": "markdown",
   "metadata": {},
   "source": [
    "The integration lives in the `langchain-brightdata` package."
   ]
  },
  {
   "cell_type": "code",
   "execution_count": null,
   "metadata": {
    "vscode": {
     "languageId": "plaintext"
    }
   },
   "outputs": [],
   "source": [
    "pip install langchain-brightdata"
   ]
  },
  {
   "cell_type": "markdown",
   "metadata": {},
   "source": [
    "You'll need a Bright Data API key to use this tool. You can set it as an environment variable:"
   ]
  },
  {
   "cell_type": "code",
   "execution_count": null,
   "metadata": {
    "vscode": {
     "languageId": "plaintext"
    }
   },
   "outputs": [],
   "source": [
    "import os\n",
    "\n",
    "os.environ[\"BRIGHT_DATA_API_KEY\"] = \"your-api-key\""
   ]
  },
  {
   "cell_type": "markdown",
   "metadata": {},
   "source": [
    "Or pass it directly when initializing the tool:"
   ]
  },
  {
   "cell_type": "code",
   "execution_count": null,
   "metadata": {
    "vscode": {
     "languageId": "plaintext"
    }
   },
   "outputs": [],
   "source": [
    "from langchain_brightdata import BrightDataUnlocker\n",
    "\n",
    "unlocker_tool = BrightDataUnlocker(bright_data_api_key=\"your-api-key\")"
   ]
  },
  {
   "cell_type": "markdown",
   "metadata": {},
   "source": [
    "## Instantiation\n",
    "\n",
    "Here we show how to instantiate an instance of the BrightDataUnlocker tool. This tool allows you to access websites that may be protected by anti-bot measures, geo-restrictions, or other access limitations using Bright Data's Web Unlocker service.\n",
    "\n",
    "The tool accepts various parameters during instantiation:\n",
    "\n",
    "- `bright_data_api_key` (required, str): Your Bright Data API key for authentication.\n",
    "- `format` (optional, Literal[\"raw\"]): Format of the response content. Default is \"raw\".\n",
    "- `country` (optional, str): Two-letter country code for geo-specific access (e.g., \"us\", \"gb\", \"de\", \"jp\"). Set this when you need to view the website as if accessing from a specific country. Default is None.\n",
    "- `zone` (optional, str): Bright Data zone to use for the request. The \"unlocker\" zone is optimized for accessing websites that might block regular requests. Default is \"unlocker\".\n",
    "- `data_format` (optional, Literal[\"html\", \"markdown\", \"screenshot\"]): Output format for the retrieved content. Options include:\n",
    "    - \"html\" - Returns the standard HTML content (default)\n",
    "    - \"markdown\" - Returns content converted to markdown format\n",
    "    - \"screenshot\" - Returns a PNG screenshot of the rendered page"
   ]
  },
  {
   "cell_type": "markdown",
   "metadata": {},
   "source": [
    "## Invocation"
   ]
  },
  {
   "cell_type": "markdown",
   "metadata": {},
   "source": [
    "### Basic Usage"
   ]
  },
  {
   "cell_type": "code",
   "execution_count": null,
   "metadata": {
    "vscode": {
     "languageId": "plaintext"
    }
   },
   "outputs": [],
   "source": [
    "from langchain_brightdata import BrightDataUnlocker\n",
    "\n",
    "# Initialize the tool\n",
    "unlocker_tool = BrightDataUnlocker(\n",
    "    bright_data_api_key=\"your-api-key\"  # Optional if set in environment variables\n",
    ")\n",
    "\n",
    "# Access a webpage\n",
    "result = unlocker_tool.invoke(\"https://example.com\")\n",
    "\n",
    "print(result)"
   ]
  },
  {
   "cell_type": "markdown",
   "metadata": {},
   "source": [
    "### Advanced Usage with Parameters"
   ]
  },
  {
   "cell_type": "code",
   "execution_count": null,
   "metadata": {
    "vscode": {
     "languageId": "plaintext"
    }
   },
   "outputs": [],
   "source": [
    "from langchain_brightdata import BrightDataUnlocker\n",
    "\n",
    "unlocker_tool = BrightDataUnlocker(\n",
    "    bright_data_api_key=\"your-api-key\",\n",
    ")\n",
    "\n",
    "# Access a webpage with specific parameters\n",
    "result = unlocker_tool.invoke(\n",
    "    {\n",
    "        \"url\": \"https://example.com/region-restricted-content\",\n",
    "        \"country\": \"gb\",  # Access as if from Great Britain\n",
    "        \"data_format\": \"html\",  # Get content in markdown format\n",
    "        \"zone\": \"unlocker\",  # Use the unlocker zone\n",
    "    }\n",
    ")\n",
    "\n",
    "print(result)"
   ]
  },
  {
   "cell_type": "markdown",
   "metadata": {},
   "source": [
    "## Customization Options"
   ]
  },
  {
   "cell_type": "markdown",
   "metadata": {},
   "source": [
    "The BrightDataUnlocker tool accepts several parameters for customization:\n",
    "\n",
    "|Parameter|Type|Description|\n",
    "|:--|:--|:--|\n",
    "|`url`|str|The URL to access|\n",
    "|`format`|str|Format of the response content (default: \"raw\")|\n",
    "|`country`|str|Two-letter country code for geo-specific access (e.g., \"us\", \"gb\")|\n",
    "|`zone`|str|Bright Data zone to use (default: \"unlocker\")|\n",
    "|`data_format`|str|Output format: None (HTML), \"markdown\", or \"screenshot\"|\n"
   ]
  },
  {
   "cell_type": "markdown",
   "metadata": {},
   "source": [
    "## Data Format Options\n",
    "\n",
    "The `data_format` parameter allows you to specify how the content should be returned:\n",
    "\n",
    "- `None` or `\"html\"` (default): Returns the standard HTML content of the page\n",
    "- `\"markdown\"`: Returns the content converted to markdown format, which is useful for feeding directly to LLMs\n",
    "- `\"screenshot\"`: Returns a PNG screenshot of the rendered page, useful for visual analysis"
   ]
  },
  {
   "cell_type": "markdown",
   "metadata": {},
   "source": [
    "## Use within an agent"
   ]
  },
  {
   "cell_type": "code",
   "execution_count": null,
   "metadata": {
    "vscode": {
     "languageId": "plaintext"
    }
   },
   "outputs": [],
   "source": [
    "from langchain_brightdata import BrightDataUnlocker\n",
    "from langchain_google_genai import ChatGoogleGenerativeAI\n",
    "from langgraph.prebuilt import create_react_agent\n",
    "\n",
    "# Initialize the LLM\n",
    "llm = ChatGoogleGenerativeAI(model=\"gemini-2.0-flash\", google_api_key=\"your-api-key\")\n",
    "\n",
    "# Initialize the tool\n",
    "bright_data_tool = BrightDataUnlocker(bright_data_api_key=\"your-api-key\")\n",
    "\n",
    "# Create the agent\n",
    "agent = create_react_agent(llm, [bright_data_tool])\n",
    "\n",
    "# Input URLs or prompt\n",
    "user_input = \"Get the content from https://example.com/region-restricted-page - access it from GB\"\n",
    "\n",
    "# Stream the agent's output step by step\n",
    "for step in agent.stream(\n",
    "    {\"messages\": user_input},\n",
    "    stream_mode=\"values\",\n",
    "):\n",
    "    step[\"messages\"][-1].pretty_print()"
   ]
  },
  {
   "cell_type": "markdown",
   "metadata": {},
   "source": [
    "## API reference\n",
    "\n",
    "- [Bright Data API Documentation](https://docs.brightdata.com/scraping-automation/web-unlocker/introduction)"
   ]
  }
 ],
 "metadata": {
  "language_info": {
   "name": "python"
  }
 },
 "nbformat": 4,
 "nbformat_minor": 2
}
