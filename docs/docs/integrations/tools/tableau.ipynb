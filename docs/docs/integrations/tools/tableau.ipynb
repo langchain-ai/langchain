{
 "cells": [
  {
   "cell_type": "markdown",
   "id": "1f302499-eb05-4296-8716-950babc0f10e",
   "metadata": {},
   "source": [
    "## Chat with Tableau\n",
    "\n",
    "Tableau's [VizQL Data Service](https://help.tableau.com/current/api/vizql-data-service/en-us/index.html) (aka VDS) provides developers with programmatic access to their Tableau Published Data Sources, allowing them to extend their business semantics for any custom workload or application, including AI Agents. The simple_datasource_qa tool adds VDS to the Langchain framework. This notebook shows you how you can use it to build agents that answer analytical questions grounded on your enterprise semantic models. \n",
    "\n",
    "Follow the [tableau-langchain](https://github.com/Tab-SE/tableau_langchain) project for more tools coming soon!\n"
   ]
  },
  {
   "cell_type": "markdown",
   "id": "4d57b913-819e-4676-9f6e-3afe0a80030e",
   "metadata": {},
   "source": [
    "## Requirements\n",
    "1. python version 3.12.2 or higher\n",
    "2. A Tableau Cloud or Server environment with at least 1 published data source\n",
    "\n",
    "Get started by installing and/or importing the required packages"
   ]
  },
  {
   "cell_type": "code",
   "execution_count": null,
   "id": "9b178e95-ffae-4f04-ad77-1fdc2ab05edf",
   "metadata": {},
   "outputs": [],
   "source": [
    "#%pip install langchain-openai"
   ]
  },
  {
   "cell_type": "code",
   "execution_count": null,
   "id": "8605e87a-2253-4c89-992a-ecdbec955ef6",
   "metadata": {},
   "outputs": [],
   "source": [
    "#%pip install langgraph"
   ]
  },
  {
   "cell_type": "code",
   "execution_count": null,
   "id": "c13dca76",
   "metadata": {},
   "outputs": [
    {
     "name": "stdout",
     "output_type": "stream",
     "text": [
      "Requirement already satisfied: regex>=2022.1.18 in /Users/joe.constantino/.pyenv/versions/3.12.2/lib/python3.12/site-packages (from tiktoken<1,>=0.7->langchain-openai->langchain-tableau) (2024.11.6)\r\n",
      "Requirement already satisfied: httpcore==1.* in /Users/joe.constantino/.pyenv/versions/3.12.2/lib/python3.12/site-packages (from httpx>=0.25.2->langgraph-sdk<0.2.0,>=0.1.42->langgraph->langchain-tableau) (1.0.7)\r\n",
      "Requirement already satisfied: h11<0.15,>=0.13 in /Users/joe.constantino/.pyenv/versions/3.12.2/lib/python3.12/site-packages (from httpcore==1.*->httpx>=0.25.2->langgraph-sdk<0.2.0,>=0.1.42->langgraph->langchain-tableau) (0.14.0)\r\n"
     ]
    }
   ],
   "source": [
    "#%pip install langchain-tableau --upgrade"
   ]
  },
  {
   "cell_type": "markdown",
   "id": "bbaa05f4",
   "metadata": {},
   "source": [
    "Note you may need to restart your kernal to use updated packages"
   ]
  },
  {
   "cell_type": "markdown",
   "id": "e0b74b8f-67a3-40f4-af32-498057e427b9",
   "metadata": {},
   "source": [
    "## Overview\n",
    "The initialize_simple_datasource_qa initializes the Langgraph tool called [simple_datasource_qa](https://github.com/Tab-SE/tableau_langchain/blob/3ff9047414479cd55d797c18a78f834d57860761/pip_package/langchain_tableau/tools/simple_datasource_qa.py#L101), which can be used for analytical questions and answers on a Tableau Data Source.\n",
    "\n",
    "This initializer function:\n",
    "1. Authenticates to Tableau using Tableau's connected-app framework for JWT-based authentication. All the required variables must defined at runtime or as environment variables.\n",
    "2. Asynchronously queries for the field metadata of the target datasource specified in the datasource_luid variable\n",
    "3. Grounds on the metadata of the target datasource to transform natural language questions into the json-formatted query payload required to make VDS /query-datasource requests \n",
    "4. Executes a POST request to VDS\n",
    "5. Formats and returns the results in a structured response"
   ]
  },
  {
   "cell_type": "code",
   "execution_count": 1,
   "id": "310d21b3",
   "metadata": {},
   "outputs": [],
   "source": [
    "#langchain and langgraph package imports\n",
    "from langchain_openai import ChatOpenAI\n",
    "from langchain.agents import initialize_agent, AgentType\n",
    "from langchain_core.messages import AIMessage, HumanMessage, SystemMessage\n",
    "from langgraph.prebuilt import create_react_agent\n",
    "\n",
    "#langchain_tableau imports\n",
    "from langchain_tableau.tools.simple_datasource_qa import initialize_simple_datasource_qa"
   ]
  },
  {
   "cell_type": "markdown",
   "id": "596d6718-f2e1-44bb-b614-65447862661c",
   "metadata": {},
   "source": [
    "## Authentication Variables\n",
    "You can declare your environment variables explicitly, as shown in several cases in this cookbook. However, ff these parameters are not provided, the simple_datasource_qa tool will attempt to automatically read them from environment variables.\n",
    "\n",
    "For the Data Source that you choose, make sure you've updated the VizqlDataApiAccess permission in Tableau to allow the VDS API to access that Data Source via REST. More info [here](https://help.tableau.com/current/server/en-us/permissions_capabilities.htm#data-sources\n",
    "). "
   ]
  },
  {
   "cell_type": "code",
   "execution_count": 6,
   "id": "ccfb4159-34ac-4816-a8f0-795c5442c0b2",
   "metadata": {},
   "outputs": [],
   "source": [
    "import os\n",
    "from dotenv import load_dotenv\n",
    "load_dotenv()\n",
    "\n",
    "tableau_server = 'https://stage-dataplane2.tableau.sfdc-shbmgi.svc.sfdcfc.net/' #replace with your Tableau server name\n",
    "tableau_site = 'vizqldataservicestage02' #replace with your Tableau site\n",
    "tableau_jwt_client_id = os.getenv('TABLEAU_JWT_CLIENT_ID') #a JWT client ID (obtained through Tableau's admin UI)\n",
    "tableau_jwt_secret_id = os.getenv('TABLEAU_JWT_SECRET_ID') #a JWT secret ID (obtained through Tableau's admin UI)\n",
    "tableau_jwt_secret = os.getenv('TABLEAU_JWT_SECRET') #a JWT secret ID (obtained through Tableau's admin UI)\n",
    "tableau_api_version = '3.21' #the current Tableau REST API Version\n",
    "tableau_user = 'joe.constantino@salesforce.com' #replace with the username querying the target Tableau Data Source\n",
    "\n",
    "# For this cookbook we are connecting to the Superstore dataset that comes by default with every Tableau server\n",
    "datasource_luid = '0965e61b-a072-43cf-994c-8c6cf526940d' #the target data source for this Tool\n",
    "\n",
    "# Add variables to control LLM models for the Agent and Tools\n",
    "os.environ(os.getenv(\"OPENAI_API_KEY\")) #set an your model API key as an environment variable\n",
    "tooling_llm_model = 'gpt-4o'"
   ]
  },
  {
   "cell_type": "markdown",
   "id": "39ae3703-d271-44aa-8f3b-05ddadacc59d",
   "metadata": {},
   "source": [
    "## Langchain Example\n",
    "First, we'll initlialize the LLM of our choice. Next, we initialize our tool for chatting with tableau data sources and store it in a variable called analyze_datasource. Finally, we define an agent using Langchain legacy initialize_agent constructor and invoke it with a query related to the target data source. "
   ]
  },
  {
   "cell_type": "code",
   "execution_count": 7,
   "id": "35376fe7-09ae-4a78-ab9b-ec2e652ffbca",
   "metadata": {},
   "outputs": [
    {
     "name": "stderr",
     "output_type": "stream",
     "text": [
      "/var/folders/3t/f2z2c6_n3951jmt86v5rvgp80000gp/T/ipykernel_83225/660039188.py:22: LangChainDeprecationWarning: LangChain agents will continue to be supported, but it is recommended for new use cases to be built with LangGraph. LangGraph offers a more flexible and full-featured framework for building agents, including support for tool-calling, persistence of state, and human-in-the-loop workflows. For details, refer to the `LangGraph documentation <https://langchain-ai.github.io/langgraph/>`_ as well as guides for `Migrating from AgentExecutor <https://python.langchain.com/docs/how_to/migrate_agent/>`_ and LangGraph's `Pre-built ReAct agent <https://langchain-ai.github.io/langgraph/how-tos/create-react-agent/>`_.\n",
      "  tableauHeadlessAgent = initialize_agent(\n"
     ]
    },
    {
     "data": {
      "text/markdown": [
       "The data source used in the query contains information about sales and profits for each product subcategory.\n",
       "\n",
       "To answer your question, here is the sales and profit data for each product subcategory:\n",
       "\n",
       "| Sub-Category | Total Sales | Total Profit |\n",
       "| --- | --- | --- |\n",
       "| Accessories | 167380.32 | 41936.64 |\n",
       "| Copiers | 150745.29 | 56093.94 |\n",
       "| Bookcases | 115361.20 | -3632.07 |\n",
       "| Paper | 79540.54 | 34511.51 |\n",
       "| Machines | 189925.03 | 3461.98 |\n",
       "| Appliances | 108213.18 | 18329.48 |\n",
       "| Art | 27659.01 | 6653.20 |\n",
       "| Chairs | 335768.25 | 27223.53 |\n",
       "| Phones | 331842.64 | 45050.83 |\n",
       "| Binders | 207354.88 | 31426.10 |\n",
       "| Supplies | 46725.50 | -1171.39 |\n",
       "| Envelopes | 16528.36 | 6988.02 |\n",
       "| Labels | 12695.04 | 5572.78 |\n",
       "| Storage | 224644.55 | 21285.11 |\n",
       "| Tables | 208020.18 | -17753.21 |\n",
       "| Fasteners | 8532.24 | 2428.64 |\n",
       "| Furnishings | 95598.13 | 13891.74 |"
      ],
      "text/plain": [
       "<IPython.core.display.Markdown object>"
      ]
     },
     "metadata": {},
     "output_type": "display_data"
    }
   ],
   "source": [
    "from IPython.display import display, Markdown\n",
    "\n",
    "# Initialize an LLM \n",
    "llm = ChatOpenAI(model='gpt-3.5-turbo', temperature=0)\n",
    "\n",
    "# Initalize simple_datasource_qa for querying Tableau Datasources through VDS\n",
    "analyze_datasource = initialize_simple_datasource_qa(\n",
    "    domain=tableau_server,\n",
    "    site=tableau_site,\n",
    "    jwt_client_id=tableau_jwt_client_id,\n",
    "    jwt_secret_id=tableau_jwt_secret_id,\n",
    "    jwt_secret=tableau_jwt_secret,\n",
    "    tableau_api_version=tableau_api_version,\n",
    "    tableau_user=tableau_user,\n",
    "    datasource_luid=datasource_luid,\n",
    "    tooling_llm_model=tooling_llm_model)\n",
    "\n",
    "# load the List of Tools to be used by the Agent. In this case we will just load our data source Q&A tool.\n",
    "tools = [ analyze_datasource ]\n",
    "\n",
    "tableauHeadlessAgent = initialize_agent(\n",
    "    tools,\n",
    "    llm,\n",
    "    agent=AgentType.OPENAI_FUNCTIONS, # Use OpenAI's function calling\n",
    "    verbose = False)\n",
    "\n",
    "# Run the agent\n",
    "response = tableauHeadlessAgent.invoke(\"what are sales and profits for each product sub category?\")\n",
    "response\n",
    "#display(Markdown(response['output'])) #display a nicely formatted answer for successful generations"
   ]
  },
  {
   "cell_type": "markdown",
   "id": "0ac5daa0-4336-48d0-9c26-20bf2c252bad",
   "metadata": {},
   "source": [
    "## Langgraph Example\n",
    "This example uses the updated langgraph agent constructor class to achieve the same outcome. "
   ]
  },
  {
   "cell_type": "code",
   "execution_count": 8,
   "id": "06a1d3f7-79a8-452e-b37e-9070d15445b0",
   "metadata": {},
   "outputs": [
    {
     "data": {
      "text/markdown": [
       "Here are the results for the states with the highest sales and profits based on the data queried:\n",
       "\n",
       "### States with the Most Sales\n",
       "1. **California**: $457,687.63\n",
       "2. **New York**: $310,876.27\n",
       "3. **Texas**: $170,188.05\n",
       "4. **Washington**: $138,641.27\n",
       "5. **Pennsylvania**: $116,511.91\n",
       "\n",
       "### States with the Most Profit\n",
       "1. **California**: $76,381.39\n",
       "2. **New York**: $74,038.55\n",
       "3. **Washington**: $33,402.65\n",
       "4. **Michigan**: $24,463.19\n",
       "5. **Virginia**: $18,597.95\n",
       "\n",
       "### Comparison\n",
       "- **California** and **New York** are the only states that appear in both lists, indicating they are the top sellers and also generate the most profit.\n",
       "- **Texas**, while having the third highest sales, does not rank in the top five for profit, showing a potential issue with profitability despite high sales.\n",
       "\n",
       "This analysis suggests that high sales do not always correlate with high profits, as seen with Texas."
      ],
      "text/plain": [
       "<IPython.core.display.Markdown object>"
      ]
     },
     "metadata": {},
     "output_type": "display_data"
    }
   ],
   "source": [
    "from IPython.display import display, Markdown\n",
    "\n",
    "# Initalize simple_datasource_qa for querying Tableau Datasources through VDS\n",
    "analyze_datasource = initialize_simple_datasource_qa(\n",
    "    domain=tableau_server,\n",
    "    site=tableau_site,\n",
    "    jwt_client_id=tableau_jwt_client_id,\n",
    "    jwt_secret_id=tableau_jwt_secret_id,\n",
    "    jwt_secret=tableau_jwt_secret,\n",
    "    tableau_api_version=tableau_api_version,\n",
    "    tableau_user=tableau_user,\n",
    "    datasource_luid=datasource_luid,\n",
    "    tooling_llm_model=tooling_llm_model)\n",
    "\n",
    "tools = [analyze_datasource]\n",
    "\n",
    "model = ChatOpenAI(model='gpt-4o-mini', temperature=0)\n",
    "\n",
    "tableauAgent = create_react_agent(model, tools)\n",
    "\n",
    "# Run the agent\n",
    "messages = tableauAgent.invoke({\"messages\": [(\"human\",'which states sell the most? Are those the same states with the most profits?')]})\n",
    "#messages\n",
    "display(Markdown(messages['messages'][4].content)) #display a nicely formatted answer for successful generations"
   ]
  },
  {
   "cell_type": "code",
   "execution_count": null,
   "id": "5e8d7777-18ce-4518-84fa-4e6cc22c39d9",
   "metadata": {},
   "outputs": [],
   "source": []
  }
 ],
 "metadata": {
  "kernelspec": {
   "display_name": "Python (package_test_env)",
   "language": "python",
   "name": "package_test_env"
  },
  "language_info": {
   "codemirror_mode": {
    "name": "ipython",
    "version": 3
   },
   "file_extension": ".py",
   "mimetype": "text/x-python",
   "name": "python",
   "nbconvert_exporter": "python",
   "pygments_lexer": "ipython3",
   "version": "3.12.2"
  }
 },
 "nbformat": 4,
 "nbformat_minor": 5
}
