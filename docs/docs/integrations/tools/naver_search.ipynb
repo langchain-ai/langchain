{
 "cells": [
  {
   "cell_type": "markdown",
   "id": "245a954a",
   "metadata": {},
   "source": [
    "# Naver Search\n",
    "\n",
    "## Overview\n",
    "This guide explains how to integrate Naver Search into LangChain.\n",
    "\n",
    "## Setup\n",
    "### Setting Up API Credentials\n",
    "To use Naver Search, you need to obtain API credentials. Follow these steps:\n",
    "\n",
    "Sign in to the [Naver Developers portal](https://developers.naver.com/main/).\n",
    "Create a new application and enable the Search API.\n",
    "Obtain your **NAVER_CLIENT_ID** and **NAVER_CLIENT_SECRET** from the \"Application List\" section.\n",
    "\n",
    "### Setting Up Environment Variables\n",
    "After obtaining the credentials, set them as environment variables in your script:"
   ]
  },
  {
   "cell_type": "code",
   "execution_count": null,
   "id": "a2998f9c",
   "metadata": {},
   "outputs": [],
   "source": [
    "%pip install --upgrade --quiet  langchain-naver-community"
   ]
  },
  {
   "cell_type": "code",
   "execution_count": 2,
   "id": "30692b20",
   "metadata": {},
   "outputs": [],
   "source": [
    "import os\n",
    "import getpass\n",
    "\n",
    "if not os.environ.get(\"NAVER_CLIENT_ID\"):\n",
    "    os.environ[\"NAVER_CLIENT_ID\"] = getpass.getpass(\"Enter your Naver Client ID:\\n\")\n",
    "\n",
    "if not os.environ.get(\"NAVER_CLIENT_SECRET\"):\n",
    "    os.environ[\"NAVER_CLIENT_SECRET\"] = getpass.getpass(\"Enter your Naver Client Secret:\\n\")\n"
   ]
  },
  {
   "cell_type": "markdown",
   "id": "c43917d5",
   "metadata": {},
   "source": [
    "## Instantiation"
   ]
  },
  {
   "cell_type": "code",
   "execution_count": null,
   "id": "3d2be578",
   "metadata": {},
   "outputs": [],
   "source": [
    "from langchain_naver_community.utils import NaverSearchAPIWrapper\n",
    "\n",
    "search = NaverSearchAPIWrapper()"
   ]
  },
  {
   "cell_type": "markdown",
   "id": "c97b3f7a",
   "metadata": {},
   "source": [
    "## Invocation"
   ]
  },
  {
   "cell_type": "code",
   "execution_count": 5,
   "id": "ac4910f8",
   "metadata": {},
   "outputs": [
    {
     "data": {
      "text/plain": [
       "[{'title': 'Seoul shares rise for 4th day on tech gains; won at 2-week low',\n",
       "  'link': 'https://n.news.naver.com/mnews/article/001/0015277717?sid=104',\n",
       "  'description': 'stocks-summary Seoul shares rise for 4th day on tech gains; won at 2-week low SEOUL, March 20 (Yonhap) -- Seoul shares extended their winning streak to a fourth day Thursday on the back of gains... ',\n",
       "  'pubDate': 'Thu, 20 Mar 2025 16:09:00 +0900'},\n",
       " {'title': \"Seoul Mayor Oh's residence, office raided over alleged ties to shadowy po...\",\n",
       "  'link': 'https://n.news.naver.com/mnews/article/640/0000067073?sid=100',\n",
       "  'description': 'Prosecutors on Thursday raided Seoul Mayor Oh Se-hoon’s official residence and the City Hall... The raid came as part of the Seoul Central District Prosecutors’ Office’s probe into... ',\n",
       "  'pubDate': 'Thu, 20 Mar 2025 19:12:00 +0900'},\n",
       " {'title': 'Education can heal divides: Seoul schools chief',\n",
       "  'link': 'https://n.news.naver.com/mnews/article/044/0000267866?sid=104',\n",
       "  'description': 'Jung Keun-sik, Superintendent of Seoul Metropolitan Office of Education speaks during an interview with The Korea Herald at his office on March 13. (Lim Se-jun/ The Korea Herald) Seoul education... ',\n",
       "  'pubDate': 'Thu, 20 Mar 2025 14:35:00 +0900'}]"
      ]
     },
     "execution_count": 5,
     "metadata": {},
     "output_type": "execute_result"
    }
   ],
   "source": [
    "\n",
    "search.results(\"Seoul\")[:3]"
   ]
  },
  {
   "cell_type": "markdown",
   "id": "2511982a",
   "metadata": {},
   "source": [
    "## Tool Usage"
   ]
  },
  {
   "cell_type": "code",
   "execution_count": 19,
   "id": "e17126e7",
   "metadata": {},
   "outputs": [
    {
     "data": {
      "text/plain": [
       "[{'title': \"2025 is here. Here's what to watch out for\",\n",
       "  'link': 'https://n.news.naver.com/mnews/article/044/0000265707?sid=104',\n",
       "  'description': 'The trend was predicted in &quot;Trend Korea 2025,&quot; written by Kim Ran-do, a professor of consumer science at Seoul National University, and his team. The annually published book also predicts that... ',\n",
       "  'pubDate': 'Sat, 18 Jan 2025 16:01:00 +0900'},\n",
       " {'title': '[INTERVIEW] Korea to overhaul weather prediction model against climate ch...',\n",
       "  'link': 'https://www.koreatimes.co.kr/www/nation/2023/06/371_353628.html?utm_source=na',\n",
       "  'description': 'western Seoul to protest its confusing weather predictions, false forecasting is hardly accepted compared to what Yoo saw in Oklahoma. The administrator hopes the Korean public would understand... ',\n",
       "  'pubDate': 'Sun, 25 Jun 2023 17:22:00 +0900'}]"
      ]
     },
     "execution_count": 19,
     "metadata": {},
     "output_type": "execute_result"
    }
   ],
   "source": [
    "from langchain_naver_community.tool import NaverSearchResults\n",
    "from langchain_naver_community.utils import NaverSearchAPIWrapper\n",
    "\n",
    "search = NaverSearchAPIWrapper()\n",
    "\n",
    "tool = NaverSearchResults(api_wrapper=search)\n",
    "\n",
    "tool.invoke(\"what is the weather in seoul?\")[3:5]\n"
   ]
  }
 ],
 "metadata": {
  "kernelspec": {
   "display_name": "Python 3",
   "language": "python",
   "name": "python3"
  },
  "language_info": {
   "codemirror_mode": {
    "name": "ipython",
    "version": 3
   },
   "file_extension": ".py",
   "mimetype": "text/x-python",
   "name": "python",
   "nbconvert_exporter": "python",
   "pygments_lexer": "ipython3",
   "version": "3.11.10"
  }
 },
 "nbformat": 4,
 "nbformat_minor": 5
}
