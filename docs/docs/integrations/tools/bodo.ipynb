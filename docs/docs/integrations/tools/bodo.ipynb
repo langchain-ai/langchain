{
 "cells": [
  {
   "cell_type": "raw",
   "id": "10238e62-3465-4973-9279-606cbb7ccf16",
   "metadata": {},
   "source": [
    "---\n",
    "sidebar_label: Bodo\n",
    "---"
   ]
  },
  {
   "cell_type": "markdown",
   "id": "a6f91f20",
   "metadata": {},
   "source": [
    "# Bodo DataFrames\n",
    "\n",
    "This notebook gives an overview of how to create agents and perform question answering over large datasets\n",
    "using Bodo DataFrames and the `Python` agent under the hood.\n",
    "\n",
    "[Bodo DataFrames](https://github.com/bodo-ai/Bodo) is a high performance DataFrame library that can automatically accelerate and scale\n",
    "Pandas code with a simple import change (see examples below). Because of it's strong Pandas compatibility, Bodo DataFrames\n",
    "enables LLMs, which are typically good at generating Pandas code, to answer questions about larger \n",
    "datasets more efficiently and scales generated code beyond the limitations of Pandas.\n",
    "\n",
    "**NOTE: The `Python` agent executes LLM generated Python code - this can be bad if the LLM generated Python code is harmful. Use cautiously.**\n",
    "\n",
    "## Overview\n",
    "\n",
    "### Integration details\n",
    "\n",
    "This integration lives in the `langchain-bodo` package which has the feature:\n",
    "\n",
    "`create_bodo_dataframes_agent` - Creates an agent for answering questions about a list of (potentially large) DataFrames.\n",
    "\n",
    "## Setup\n",
    "\n",
    "Before running the notebook, download the dataset used from:\n",
    "https://raw.githubusercontent.com/pandas-dev/pandas/main/doc/data/titanic.csv\n",
    "\n",
    "Installing langchain-bodo will also install dependencies Bodo and Pandas."
   ]
  },
  {
   "cell_type": "code",
   "execution_count": 3,
   "id": "f85b4089",
   "metadata": {},
   "outputs": [
    {
     "name": "stdout",
     "output_type": "stream",
     "text": [
      "Note: you may need to restart the kernel to use updated packages.\n"
     ]
    }
   ],
   "source": [
    "%pip install --quiet -U langchain-bodo langchain-openai"
   ]
  },
  {
   "cell_type": "markdown",
   "id": "b15e9266",
   "metadata": {},
   "source": [
    "### Credentials\n",
    "\n",
    "If not already configured, set your OPENAI_API_KEY."
   ]
  },
  {
   "cell_type": "code",
   "execution_count": 1,
   "id": "e0b178a2-8816-40ca-b57c-ccdd86dde9c9",
   "metadata": {},
   "outputs": [],
   "source": [
    "import getpass\n",
    "import os\n",
    "\n",
    "if not os.environ.get(\"OPENAI_API_KEY\"):\n",
    "    os.environ[\"OPENAI_API_KEY\"] = getpass.getpass(\"Open AI API key:\\n\")"
   ]
  },
  {
   "cell_type": "markdown",
   "id": "f115e017",
   "metadata": {},
   "source": [
    "## Creating and invoking agents\n",
    "\n",
    "The following examples are borrowed from [the Pandas DataFrames agent notebook](docs/pandas/integrations/tools/pandas.ipynb) with some modifications to highlight key differences.\n",
    "\n",
    "This first example show how you can directly pass Bodo DataFrame to `create_bodo_dataframes_agent` and\n",
    "ask a simple question."
   ]
  },
  {
   "cell_type": "code",
   "execution_count": 2,
   "id": "b8969ebb",
   "metadata": {},
   "outputs": [],
   "source": [
    "from langchain.agents.agent_types import AgentType\n",
    "from langchain_bodo import create_bodo_dataframes_agent\n",
    "from langchain_openai import ChatOpenAI\n",
    "\n",
    "# Path to local titanic data\n",
    "datapath = \"titanic.csv\""
   ]
  },
  {
   "cell_type": "code",
   "execution_count": 3,
   "id": "32317be2",
   "metadata": {},
   "outputs": [],
   "source": [
    "import bodo.pandas as pd\n",
    "from langchain_openai import OpenAI\n",
    "\n",
    "df = pd.read_csv(datapath)"
   ]
  },
  {
   "cell_type": "markdown",
   "id": "cc833c61",
   "metadata": {},
   "source": [
    "## Using `ZERO_SHOT_REACT_DESCRIPTION`\n",
    "\n",
    "This shows how to initialize the agent using the `ZERO_SHOT_REACT_DESCRIPTION` agent type."
   ]
  },
  {
   "cell_type": "code",
   "execution_count": 4,
   "id": "484dadd7",
   "metadata": {},
   "outputs": [],
   "source": [
    "agent = create_bodo_dataframes_agent(\n",
    "    OpenAI(temperature=0),\n",
    "    df,\n",
    "    verbose=True,\n",
    "    allow_dangerous_code=True\n",
    ")"
   ]
  },
  {
   "cell_type": "markdown",
   "id": "81225c51",
   "metadata": {},
   "source": [
    "## Using OpenAI Functions\n",
    "\n",
    "This shows how to initialize the agent using the OPENAI_FUNCTIONS agent type. Note that this is an alternative to the above."
   ]
  },
  {
   "cell_type": "code",
   "execution_count": 5,
   "id": "df3e64ae",
   "metadata": {},
   "outputs": [],
   "source": [
    "agent = create_bodo_dataframes_agent(\n",
    "    ChatOpenAI(temperature=0, model=\"gpt-3.5-turbo-1106\"),\n",
    "    df,\n",
    "    verbose=True,\n",
    "    agent_type=AgentType.OPENAI_FUNCTIONS,\n",
    "    allow_dangerous_code=True\n",
    ")"
   ]
  },
  {
   "cell_type": "code",
   "execution_count": 6,
   "id": "1df77841",
   "metadata": {},
   "outputs": [
    {
     "name": "stdout",
     "output_type": "stream",
     "text": [
      "\n",
      "\n",
      "\u001b[1m> Entering new AgentExecutor chain...\u001b[0m\n",
      "\u001b[32;1m\u001b[1;3m\n",
      "Invoking: `python_repl_ast` with `{'query': 'len(df)'}`\n",
      "\n",
      "\n",
      "\u001b[0m\u001b[36;1m\u001b[1;3m891\u001b[0m\u001b[32;1m\u001b[1;3mThere are 891 rows in the dataframe.\u001b[0m\n",
      "\n",
      "\u001b[1m> Finished chain.\u001b[0m\n"
     ]
    },
    {
     "data": {
      "text/plain": [
       "{'input': 'how many rows are there?',\n",
       " 'output': 'There are 891 rows in the dataframe.'}"
      ]
     },
     "execution_count": 6,
     "metadata": {},
     "output_type": "execute_result"
    }
   ],
   "source": [
    "agent.invoke(\"how many rows are there?\")"
   ]
  },
  {
   "cell_type": "markdown",
   "id": "eeda11d5",
   "metadata": {},
   "source": [
    "## Creating and invoking agents with Bodo DataFrames\n",
    "\n",
    "This example shows a slightly more complex use case of passing a Bodo DataFrame to `create_bodo_dataframes_agent`\n",
    "with some additional preprocessing. \n",
    "Since Bodo DataFrames are lazily evaluated, you can potentially save on computation if not all columns\n",
    "are needed to answer the question. Note that the DataFrame(s) passed to the agent can also be\n",
    "larger than the available memory."
   ]
  },
  {
   "cell_type": "code",
   "execution_count": 7,
   "id": "555ea3ab",
   "metadata": {},
   "outputs": [],
   "source": [
    "df2 = df[[\"Age\", \"Pclass\", \"Survived\", \"Fare\"]]\n",
    "\n",
    "# Potentially expensive computation using df.apply:\n",
    "df2[\"Age\"] = df2.apply(lambda x: x[\"Age\"] if x[\"Pclass\"] == 3 else 0, axis=1)\n",
    "\n",
    "agent = create_bodo_dataframes_agent(\n",
    "    OpenAI(temperature=0),\n",
    "    df2,\n",
    "    verbose=True,\n",
    "    allow_dangerous_code=True\n",
    ")"
   ]
  },
  {
   "cell_type": "code",
   "execution_count": 8,
   "id": "c445ca45",
   "metadata": {},
   "outputs": [
    {
     "name": "stdout",
     "output_type": "stream",
     "text": [
      "\n",
      "\n",
      "\u001b[1m> Entering new AgentExecutor chain...\u001b[0m\n",
      "\u001b[32;1m\u001b[1;3mThought: We need to filter the dataframe to only include rows where Survived is equal to 1, then calculate the average of the Fare column.\n",
      "Action: python_repl_ast\n",
      "Action Input: df[df[\"Survived\"] == 1][\"Fare\"].mean()\u001b[0m\u001b[36;1m\u001b[1;3m48.39540760233917\u001b[0m\u001b[32;1m\u001b[1;3m48.39540760233917 is the average fare for people who survived.\n",
      "Final Answer: 48.39540760233917\u001b[0m\n",
      "\n",
      "\u001b[1m> Finished chain.\u001b[0m\n"
     ]
    },
    {
     "data": {
      "text/plain": [
       "{'input': 'Out of the people who survived, what was their average fare?',\n",
       " 'output': '48.39540760233917'}"
      ]
     },
     "execution_count": 8,
     "metadata": {},
     "output_type": "execute_result"
    }
   ],
   "source": [
    "# The bdf[\"Age\"] column is lazy and will not evaluate unless explicitly used by the agent.\n",
    "agent.invoke(\"Out of the people who survived, what was their average fare?\")"
   ]
  },
  {
   "cell_type": "markdown",
   "id": "50d3b96a",
   "metadata": {},
   "source": [
    "## Multi DataFrame Example\n",
    "\n",
    "You can also pass multiple DataFrames to the agent. \n",
    "Note that while Bodo DataFrames supports most common compute intensive operations in Pandas,\n",
    "if the agent generates code that is not currently supported (see warnings below), the DataFrames\n",
    "will be converted back to Pandas to prevent errors.\n",
    "\n",
    "Refer to the [Bodo DataFrames API documentation](https://docs.bodo.ai/latest/api_docs/dataframe_lib/) for more details about the currently supported features."
   ]
  },
  {
   "cell_type": "code",
   "execution_count": 9,
   "id": "b7f469d7",
   "metadata": {},
   "outputs": [
    {
     "name": "stdout",
     "output_type": "stream",
     "text": [
      "\n",
      "\n",
      "\u001b[1m> Entering new AgentExecutor chain...\u001b[0m\n",
      "\u001b[32;1m\u001b[1;3mThought: I need to compare the two dataframes and count the number of rows where the age values are different.\n",
      "Action: python_repl_ast\n",
      "Action Input: len(df1[df1[\"Age\"] != df2[\"Age\"]])\u001b[0m"
     ]
    },
    {
     "name": "stderr",
     "output_type": "stream",
     "text": [
      "/Users/scottroutledge/dev/bodo-org/bodo-test/lib/python3.12/site-packages/bodo/pandas/utils.py:1126: BodoLibFallbackWarning: Series._cmp_method is not implemented in Bodo DataFrames for the specified arguments yet. Falling back to Pandas (may be slow or run out of memory).\n",
      "Exception: binary operation arguments must have the same dataframe source.\n",
      "  warnings.warn(BodoLibFallbackWarning(msg))\n",
      "/Users/scottroutledge/dev/bodo-org/bodo-test/lib/python3.12/site-packages/bodo/pandas/utils.py:1126: BodoLibFallbackWarning: DataFrame.__getitem__ is not implemented in Bodo DataFrames for the specified arguments yet. Falling back to Pandas (may be slow or run out of memory).\n",
      "Exception: DataFrame getitem: Only selecting columns or filtering with BodoSeries is supported.\n",
      "  warnings.warn(BodoLibFallbackWarning(msg))\n"
     ]
    },
    {
     "name": "stdout",
     "output_type": "stream",
     "text": [
      "\u001b[36;1m\u001b[1;3m359\u001b[0m\u001b[32;1m\u001b[1;3m359 rows have different age values.\n",
      "Final Answer: 359\u001b[0m\n",
      "\n",
      "\u001b[1m> Finished chain.\u001b[0m\n"
     ]
    },
    {
     "data": {
      "text/plain": [
       "{'input': 'how many rows in the age column are different?', 'output': '359'}"
      ]
     },
     "execution_count": 9,
     "metadata": {},
     "output_type": "execute_result"
    }
   ],
   "source": [
    "agent = create_bodo_dataframes_agent(\n",
    "    OpenAI(temperature=0),\n",
    "    [df, df2],\n",
    "    verbose=True,\n",
    "    allow_dangerous_code=True\n",
    ")\n",
    "agent.invoke(\"how many rows in the age column are different?\")"
   ]
  },
  {
   "cell_type": "markdown",
   "id": "1f2d49ef",
   "metadata": {},
   "source": [
    "## Optimizing agent invocation with `number_of_head_rows`\n",
    "\n",
    "By default, the head of the DataFrame(s) are embedded into the prompt as a markdown table. \n",
    "Since Bodo DataFrames are lazily evaluated, this head operation can be optimized, but can\n",
    "still be slow in some cases. As an optimization, you can set number of rows in\n",
    "the head to 0 so that no evaluation occurs during prompting."
   ]
  },
  {
   "cell_type": "code",
   "execution_count": 12,
   "id": "de54c559",
   "metadata": {},
   "outputs": [
    {
     "name": "stdout",
     "output_type": "stream",
     "text": [
      "\n",
      "\n",
      "\u001b[1m> Entering new AgentExecutor chain...\u001b[0m\n",
      "\u001b[32;1m\u001b[1;3mThought: We need to filter the dataframe to only include female passengers and then calculate the average age.\n",
      "Action: python_repl_ast\n",
      "Action Input: df[df[\"Sex\"] == \"female\"][\"Age\"].mean()\u001b[0m\u001b[36;1m\u001b[1;3m27.915708812260537\u001b[0m\u001b[32;1m\u001b[1;3m27.915708812260537 seems like a reasonable average age for female passengers.\n",
      "Final Answer: 27.915708812260537\u001b[0m\n",
      "\n",
      "\u001b[1m> Finished chain.\u001b[0m\n"
     ]
    },
    {
     "data": {
      "text/plain": [
       "{'input': 'What is the average age of all female passengers?',\n",
       " 'output': '27.915708812260537'}"
      ]
     },
     "execution_count": 12,
     "metadata": {},
     "output_type": "execute_result"
    }
   ],
   "source": [
    "agent = create_bodo_dataframes_agent(\n",
    "    OpenAI(temperature=0),\n",
    "    df,\n",
    "    verbose=True,\n",
    "    number_of_head_rows=0,\n",
    "    allow_dangerous_code=True\n",
    ")\n",
    "agent.invoke(\"What is the average age of all female passengers?\")"
   ]
  },
  {
   "cell_type": "markdown",
   "id": "2c919086",
   "metadata": {},
   "source": [
    "## Passing Pandas DataFrames\n",
    "\n",
    "You can also pass one or more Pandas DataFrames to `create_bodo_dataframes_agent`. The DataFrame(s) will \n",
    "be converted to Bodo before being passed to the agent."
   ]
  },
  {
   "cell_type": "code",
   "execution_count": 14,
   "id": "bbd8e8a2",
   "metadata": {},
   "outputs": [],
   "source": [
    "import pandas\n",
    "\n",
    "pdf = pandas.read_csv(datapath)\n",
    "\n",
    "agent = create_bodo_dataframes_agent(\n",
    "    OpenAI(temperature=0),\n",
    "    pdf,\n",
    "    verbose=True,\n",
    "    allow_dangerous_code=True\n",
    ")"
   ]
  },
  {
   "cell_type": "code",
   "execution_count": 15,
   "id": "2f453747",
   "metadata": {},
   "outputs": [
    {
     "name": "stdout",
     "output_type": "stream",
     "text": [
      "\n",
      "\n",
      "\u001b[1m> Entering new AgentExecutor chain...\u001b[0m\n",
      "\u001b[32;1m\u001b[1;3mThought: We need to calculate the average age first and then take the square root.\n",
      "Action: python_repl_ast\n",
      "Action Input: df[\"Age\"].mean()\u001b[0m\u001b[36;1m\u001b[1;3m29.69911764705882\u001b[0m\u001b[32;1m\u001b[1;3m Now we have the average age, we can take the square root.\n",
      "Action: python_repl_ast\n",
      "Action Input: math.sqrt(df[\"Age\"].mean())\u001b[0m\u001b[36;1m\u001b[1;3mNameError: name 'math' is not defined\u001b[0m\u001b[32;1m\u001b[1;3m We need to import the math library to use the sqrt function.\n",
      "Action: python_repl_ast\n",
      "Action Input: import math\u001b[0m\u001b[36;1m\u001b[1;3m\u001b[0m\u001b[32;1m\u001b[1;3m Now we can take the square root.\n",
      "Action: python_repl_ast\n",
      "Action Input: math.sqrt(df[\"Age\"].mean())\u001b[0m\u001b[36;1m\u001b[1;3m5.449689683556195\u001b[0m\u001b[32;1m\u001b[1;3m I now know the final answer.\n",
      "Final Answer: 5.449689683556195\u001b[0m\n",
      "\n",
      "\u001b[1m> Finished chain.\u001b[0m\n"
     ]
    },
    {
     "data": {
      "text/plain": [
       "{'input': 'What is the square root of the average age?',\n",
       " 'output': '5.449689683556195'}"
      ]
     },
     "execution_count": 15,
     "metadata": {},
     "output_type": "execute_result"
    }
   ],
   "source": [
    "agent.invoke(\"What is the square root of the average age?\")"
   ]
  }
 ],
 "metadata": {
  "kernelspec": {
   "display_name": ".venv",
   "language": "python",
   "name": "python3"
  },
  "language_info": {
   "codemirror_mode": {
    "name": "ipython",
    "version": 3
   },
   "file_extension": ".py",
   "mimetype": "text/x-python",
   "name": "python",
   "nbconvert_exporter": "python",
   "pygments_lexer": "ipython3",
   "version": "3.12.6"
  }
 },
 "nbformat": 4,
 "nbformat_minor": 5
}
