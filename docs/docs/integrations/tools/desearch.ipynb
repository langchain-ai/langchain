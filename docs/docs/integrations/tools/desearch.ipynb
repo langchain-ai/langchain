{
 "cells": [
  {
   "cell_type": "markdown",
   "metadata": {},
   "source": [
    "# Desearch"
   ]
  },
  {
   "cell_type": "markdown",
   "metadata": {},
   "source": [
    "AI-Powered Search Engine and API for Advanced Data Discovery [Desearch](https://desearch.ai).\n",
    "\n",
    "Welcome to the comprehensive guide on integrating Desearch with LangChain to enable advanced Retrieval-Augmented Generation (RAG) and agent-style workflows. Desearch is a cutting-edge, privacy-first search API that excels in delivering relevant, real-time web and Twitter content, specifically optimized for use in Large Language Model (LLM) applications.\n",
    "\n",
    "First, get an Desearch API key and add it as an environment variable. Get $5 free credit (plus more by completing certain actions like making your first search) by [signing up here](https://console.desearch.ai)."
   ]
  },
  {
   "cell_type": "code",
   "execution_count": null,
   "metadata": {},
   "outputs": [],
   "source": [
    "DESEARCH_API_KEY=your_api_key_here"
   ]
  },
  {
   "cell_type": "code",
   "execution_count": null,
   "metadata": {},
   "outputs": [],
   "source": [
    "from dotenv import load_dotenv\n",
    "load_dotenv()\n",
    "# Set your API key as an environment variable"
   ]
  },
  {
   "cell_type": "markdown",
   "metadata": {},
   "source": [
    "And install the integration package"
   ]
  },
  {
   "cell_type": "code",
   "execution_count": null,
   "metadata": {
    "vscode": {
     "languageId": "bat"
    }
   },
   "outputs": [],
   "source": [
    "pip install -U langchain-desearch"
   ]
  },
  {
   "cell_type": "markdown",
   "metadata": {},
   "source": [
    "## 🛠️ Tools Overview\n",
    "\n",
    "Desearch provides a suite of modular tools compatible with LangChain, each designed for specific use cases:"
   ]
  },
  {
   "cell_type": "markdown",
   "metadata": {},
   "source": [
    "### 🔎 Search Tools\n",
    "\n",
    "* **DesearchTool**: A comprehensive tool for searching across web, AI, and Twitter posts.\n",
    "* **BasicWebSearchTool**: A lightweight tool focused solely on web searches.\n",
    "* **BasicTwitterSearchTool**: A specialized tool for searching tweets with advanced filtering options."
   ]
  },
  {
   "cell_type": "markdown",
   "metadata": {},
   "source": [
    "## 🧪 Quick Examples"
   ]
  },
  {
   "cell_type": "markdown",
   "metadata": {},
   "source": [
    "### Basic Usage"
   ]
  },
  {
   "cell_type": "markdown",
   "metadata": {},
   "source": [
    "Here's a simple example to demonstrate how to use the DesearchTool for web searches"
   ]
  },
  {
   "cell_type": "code",
   "execution_count": null,
   "metadata": {},
   "outputs": [],
   "source": [
    "from langchain_desearch.tools import DesearchTool\n",
    "\n",
    "# Initialize the tool\n",
    "tool = DesearchTool()\n",
    "\n",
    "# Run a search query\n",
    "response = tool._run(\n",
    "    prompt=\"Bittensor network activity\",\n",
    "    tool=[\"web\"],\n",
    "    model=\"NOVA\",\n",
    "    date_filter=\"PAST_24_HOURS\"\n",
    ")\n",
    "\n",
    "# Print the response\n",
    "print(response)"
   ]
  },
  {
   "cell_type": "markdown",
   "metadata": {},
   "source": [
    "### Search Twitter\n",
    "\n",
    "To search Twitter for specific topics, use the BasicTwitterSearchTool"
   ]
  },
  {
   "cell_type": "code",
   "execution_count": null,
   "metadata": {},
   "outputs": [],
   "source": [
    "from langchain_desearch.tools import BasicTwitterSearchTool\n",
    "\n",
    "# Initialize the Twitter search tool\n",
    "tool = BasicTwitterSearchTool()\n",
    "\n",
    "# Execute a search query\n",
    "response = tool._run(query=\"AI governance\", sort=\"Top\", count=5)\n",
    "\n",
    "# Display the results\n",
    "print(response)"
   ]
  },
  {
   "cell_type": "markdown",
   "metadata": {},
   "source": [
    "## 🤖 Building a RAG Chain\n",
    "\n",
    "Creating a RAG chain involves integrating Desearch with LangChain's prompt and LLM capabilities"
   ]
  },
  {
   "cell_type": "code",
   "execution_count": null,
   "metadata": {},
   "outputs": [],
   "source": [
    "from langchain_desearch.tools import DesearchTool\n",
    "from langchain_core.prompts import PromptTemplate, ChatPromptTemplate\n",
    "from langchain_deepseek import ChatDeepSeek\n",
    "from langchain_core.runnables import RunnableParallel, RunnablePassthrough\n",
    "from langchain_core.output_parsers import StrOutputParser\n",
    "\n",
    "# Initialize the Desearch tool\n",
    "tool = DesearchTool()\n",
    "\n",
    "# Define a function to fetch context\n",
    "def fetch_context(query):\n",
    "    return tool._run(prompt=query, tool=\"desearch_web\", model=\"NOVA\")\n",
    "\n",
    "# Create a prompt template\n",
    "prompt = ChatPromptTemplate.from_messages([\n",
    "    (\"system\", \"You are a research assistant.\"),\n",
    "    (\"human\", \"Answer this using the provided context:\\n\\n<context>{context}</context>\")\n",
    "])\n",
    "\n",
    "# Set up the LLM\n",
    "llm = ChatDeepSeek(model=\"deepseek-chat\", temperature=0.7)\n",
    "parser = StrOutputParser()\n",
    "\n",
    "# Build the RAG chain\n",
    "chain = RunnableParallel({\n",
    "    \"query\": RunnablePassthrough(),\n",
    "    \"context\": lambda q: fetch_context(q[\"query\"]),\n",
    "}) | prompt | llm | parser\n",
    "\n",
    "# Invoke the chain with a query\n",
    "result = chain.invoke(\"What is the latest update on the EU AI Act?\")\n",
    "print(result)"
   ]
  },
  {
   "cell_type": "markdown",
   "metadata": {},
   "source": [
    "## 🧠 Using Desearch in a LangChain Agent\n",
    "\n",
    "Integrate Desearch into a LangChain agent to automate complex workflows:"
   ]
  },
  {
   "cell_type": "code",
   "execution_count": null,
   "metadata": {},
   "outputs": [],
   "source": [
    "from langchain_desearch.agent import create_search_agent\n",
    "from langchain_deepseek import ChatDeepSeek\n",
    "\n",
    "# Initialize the LLM\n",
    "llm = ChatDeepSeek(model=\"deepseek-chat\", temperature=0.7)\n",
    "\n",
    "# Create a search agent\n",
    "agent = create_search_agent(llm=llm)\n",
    "\n",
    "# Invoke the agent with an input message\n",
    "response = agent.invoke({\"input_message\": \"Summarize current AI regulation trends\"})\n",
    "print(response[\"output\"])"
   ]
  },
  {
   "cell_type": "markdown",
   "metadata": {},
   "source": [
    "## ✅ Testing\n",
    "\n",
    "### Unit Tests (Mocked)\n",
    "\n",
    "To ensure your integration works as expected, run unit tests:"
   ]
  },
  {
   "cell_type": "code",
   "execution_count": null,
   "metadata": {
    "vscode": {
     "languageId": "bat"
    }
   },
   "outputs": [],
   "source": [
    "pytest tests/integration_tests/test_tools.py"
   ]
  },
  {
   "cell_type": "code",
   "execution_count": null,
   "metadata": {
    "vscode": {
     "languageId": "bat"
    }
   },
   "outputs": [],
   "source": [
    "pytest tests/unit_tests/test_imports.py"
   ]
  }
 ],
 "metadata": {
  "language_info": {
   "name": "python"
  }
 },
 "nbformat": 4,
 "nbformat_minor": 2
}
