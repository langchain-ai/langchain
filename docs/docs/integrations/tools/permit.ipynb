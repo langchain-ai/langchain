{
 "cells": [
  {
   "cell_type": "raw",
   "id": "10238e62-3465-4973-9279-606cbb7ccf16",
   "metadata": {},
   "source": [
    "---\n",
    "sidebar_label: Permit\n",
    "---"
   ]
  },
  {
   "cell_type": "markdown",
   "id": "a6f91f20",
   "metadata": {},
   "source": [
    "# Permit\n",
    "\n",
    "This package provides two Langchain tools for JWT validation and permission checking using Permit:\n",
    "\n",
    "* LangchainJWTValidationTool: Validates JWT tokens against a JWKS endpoint\n",
    "\n",
    "* LangchainPermissionsCheckTool: Checks user permissions using Permit\n",
    "\n",
    "## Overview\n",
    "\n",
    "### Integration details\n",
    "\n",
    "- TODO: Make sure links and features are correct\n",
    "\n",
    "\n",
    "\n",
    "### Tool features\n",
    "\n",
    "- TODO: Add feature table if it makes sense\n",
    "\n",
    "\n",
    "## Setup\n",
    "\n",
    "- TODO: Add any additional deps\n",
    "\n",
    "The integration lives in the `langchain-community` package."
   ]
  },
  {
   "cell_type": "markdown",
   "id": "b15e9266",
   "metadata": {},
   "source": [
    "### Credentials\n",
    "\n",
    "- TODO: Add any credentials that are needed"
   ]
  },
  {
   "cell_type": "markdown",
   "id": "bc5ab717-fd27-4c59-b912-bdd099541478",
   "metadata": {},
   "source": [
    "It's also helpful (but not needed) to set up [LangSmith](https://smith.langchain.com/) for best-in-class observability:"
   ]
  },
  {
   "cell_type": "markdown",
   "id": "1c97218f-f366-479d-8bf7-fe9f2f6df73f",
   "metadata": {},
   "source": [
    "## Instantiation\n",
    "\n",
    "- TODO: Fill in instantiation params\n",
    "\n",
    "Here we show how to instantiate an instance of the Permit tool, with "
   ]
  },
  {
   "cell_type": "markdown",
   "id": "74147a1a",
   "metadata": {},
   "source": [
    "## Invocation\n",
    "\n",
    "### [Invoke directly with args](https://docs.permit.io/)\n",
    "\n",
    "- TODO: Describe what the tool args are, fill them in, run cell"
   ]
  },
  {
   "cell_type": "markdown",
   "id": "d6e73897",
   "metadata": {},
   "source": [
    "### [Invoke with ToolCall](https://docs.permit.io/)\n",
    "\n",
    "We can also invoke the tool with a model-generated ToolCall, in which case a ToolMessage will be returned:\n",
    "\n",
    "- TODO: Fill in tool args and run cell"
   ]
  },
  {
   "cell_type": "markdown",
   "id": "659f9fbd-6fcf-445f-aa8c-72d8e60154bd",
   "metadata": {},
   "source": [
    "## Chaining\n",
    "\n",
    "- TODO: Add user question and run cells\n",
    "\n",
    "We can use our tool in a chain by first binding it to a [tool-calling model](https://docs.permit.io/) and then calling it:\n",
    "\n",
    "import ChatModelTabs from \"@theme/ChatModelTabs\";\n",
    "\n",
    "<ChatModelTabs customVarName=\"llm\" />\n"
   ]
  },
  {
   "cell_type": "markdown",
   "id": "4ac8146c",
   "metadata": {},
   "source": [
    "## API reference\n",
    "\n",
    "For detailed documentation of all Permit features and configurations head to the API reference: https://docs.permit.io/"
   ]
  }
 ],
 "metadata": {
  "kernelspec": {
   "display_name": "poetry-venv-311",
   "language": "python",
   "name": "poetry-venv-311"
  },
  "language_info": {
   "codemirror_mode": {
    "name": "ipython",
    "version": 3
   },
   "file_extension": ".py",
   "mimetype": "text/x-python",
   "name": "python",
   "nbconvert_exporter": "python",
   "pygments_lexer": "ipython3",
   "version": "3.11.9"
  }
 },
 "nbformat": 4,
 "nbformat_minor": 5
}
