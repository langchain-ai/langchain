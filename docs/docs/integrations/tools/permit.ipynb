{
 "cells": [
  {
   "cell_type": "raw",
   "id": "10238e62-3465-4973-9279-606cbb7ccf16",
   "metadata": {},
   "source": [
    "---\n",
    "sidebar_label: Permit\n",
    "---"
   ]
  },
  {
   "cell_type": "markdown",
   "id": "a6f91f20",
   "metadata": {},
   "source": [
    "# Permit\n",
    "\n",
    "Permit is an access control platform that provides fine-grained, real-time permission management using various models such as RBAC, ABAC, and ReBAC. It enables organizations to enforce dynamic policies across their applications, ensuring that only authorized users can access specific resources.\n",
    "\n",
    "## Overview\n",
    "\n",
    "This package provides two Langchain tools for JWT validation and permission checking using Permit:\n",
    "\n",
    "* LangchainJWTValidationTool: Validates JWT tokens against a JWKS endpoint\n",
    "\n",
    "* LangchainPermissionsCheckTool: Checks user permissions using Permit\n",
    "\n",
    "\n",
    "## Setup\n",
    "\n",
    "Set up the following environment variables:\n",
    "\n",
    "```bash\n",
    "PERMIT_API_KEY=your_permit_api_key\n",
    "JWKS_URL=your_jwks_endpoint_url\n",
    "PERMIT_PDP_URL=your_permit_pdp_url  # Usually http://localhost:7766 for local development or your real deployment\n",
    "```\n",
    "\n",
    "Make sure your PDP (Policy Decision Point) is running at PERMIT_PDP_URL.\n",
    "See [Permit docs](https://docs.permit.io/concepts/pdp/overview/) for details on policy setup and how to launch the PDP container."
   ]
  },
  {
   "cell_type": "markdown",
   "id": "b15e9266",
   "metadata": {},
   "source": [
    "### Credentials\n",
    "\n",
    "```bash\n",
    "PERMIT_API_KEY=\n",
    "JWKS_URL=your_jwks_endpoint_url # or your deployed url\n",
    "PERMIT_PDP_URL=your_pdp_url # or your deployed url\n",
    "TEST_JWT_TOKEN= # for quick test purposes\n",
    "```"
   ]
  },
  {
   "cell_type": "markdown",
   "id": "bc5ab717-fd27-4c59-b912-bdd099541478",
   "metadata": {},
   "source": [
    "It's also helpful (but not needed) to set up [LangSmith](https://smith.langchain.com/) for best-in-class observability:"
   ]
  },
  {
   "cell_type": "markdown",
   "id": "1c97218f-f366-479d-8bf7-fe9f2f6df73f",
   "metadata": {},
   "source": [
    "## Instantiation\n",
    "\n",
    "### JWT Validation Tool\n",
    "The JWT Validation tool verifies JWT tokens against a JWKS (JSON Web Key Set) endpoint.\n",
    "\n",
    "```python\n",
    "from langchain_permit.tools import LangchainJWTValidationTool\n",
    "\n",
    "# Initialize the tool\n",
    "jwt_validator = LangchainJWTValidationTool(\n",
    "    jwks_url=#your url endpoint\n",
    ")\n",
    "```\n",
    "\n",
    "### Configuration Options\n",
    "You can initialize the tool with either:\n",
    "\n",
    "* A JWKS URL\n",
    "* Direct JWKS JSON data\n",
    "* Environment variable (JWKS_URL)\n",
    "\n",
    "```python\n",
    "# Using direct JWKS JSON\n",
    "jwt_validator = LangchainJWTValidationTool(\n",
    "    jwks_json={\n",
    "        \"keys\": [\n",
    "            {\n",
    "                \"kid\": \"key-id\",\n",
    "                \"kty\": \"RSA\",\n",
    "                ...\n",
    "            }\n",
    "        ]\n",
    "    }\n",
    ")\n",
    "```\n",
    "\n",
    "### Permissions Check Tool\n",
    "The Permissions Check tool integrates with Permit.io to verify user permissions against resources.\n",
    "\n",
    "```python\n",
    "from permit import Permit\n",
    "from langchain_permit.tools import LangchainPermissionsCheckTool\n",
    "\n",
    "# Initialize Permit client\n",
    "permit_client = Permit(\n",
    "    token=\"your_permit_api_key\",\n",
    "    pdp=# Your PDP URL\n",
    ")\n",
    "\n",
    "# Initialize the tool\n",
    "permissions_checker = LangchainPermissionsCheckTool(\n",
    "    permit=permit_client\n",
    ")\n",
    "```\n",
    "\n",
    "This documentation demonstrates the key features and usage patterns of both tools."
   ]
  },
  {
   "cell_type": "markdown",
   "id": "74147a1a",
   "metadata": {},
   "source": [
    "## Invocation\n",
    "\n",
    "### [Invoke directly with args](https://docs.permit.io/)\n",
    "\n",
    "### JWT Validation Tool\n",
    "\n",
    "```python\n",
    "# Validate a token\n",
    "async def validate_token():\n",
    "    claims = await jwt_validator._arun(\n",
    "        \"...\"  # Your JWT token\n",
    "    )\n",
    "    print(\"Validated Claims:\", claims)\n",
    "```\n",
    "\n",
    "### Permissions Check Tool\n",
    "\n",
    "```python\n",
    "# Check permissions\n",
    "async def check_user_permission():\n",
    "    result = await permissions_checker._arun(\n",
    "        user={\n",
    "            \"key\": \"user-123\",\n",
    "            \"firstName\": \"John\"\n",
    "        },\n",
    "        action=\"read\",\n",
    "        resource={\n",
    "            \"type\": \"Document\",\n",
    "            \"tenant\": \"default\"\n",
    "        }\n",
    "    )\n",
    "    print(\"Permission granted:\", result)\n",
    "```\n",
    "\n",
    "#### Input Formats\n",
    "The permissions checker accepts different input formats:\n",
    "\n",
    "1. Simple string for user (converts to user key):\n",
    "\n",
    "```python\n",
    "result = await permissions_checker._arun(\n",
    "    user=\"user-123\",\n",
    "    action=\"read\",\n",
    "    resource=\"Document\"\n",
    ")\n",
    "```\n",
    "\n",
    "2. Full user object:\n",
    "\n",
    "```python\n",
    "result = await permissions_checker._arun(\n",
    "    user={\n",
    "        \"key\": \"user-123\",\n",
    "        \"firstName\": \"John\",\n",
    "        \"lastName\": \"Doe\",\n",
    "        \"email\": \"john@example.com\",\n",
    "        \"attributes\": {\"department\": \"IT\"}\n",
    "    },\n",
    "    action=\"read\",\n",
    "    resource={\n",
    "        \"type\": \"Document\",\n",
    "        \"key\": \"doc-123\",\n",
    "        \"tenant\": \"techcorp\",\n",
    "        \"attributes\": {\"confidentiality\": \"high\"}\n",
    "    }\n",
    ")\n",
    "```\n"
   ]
  },
  {
   "cell_type": "markdown",
   "id": "d6e73897",
   "metadata": {},
   "source": [
    "### [Invoke with ToolCall](https://docs.permit.io/)\n",
    "\n",
    "(TODO)"
   ]
  },
  {
   "cell_type": "markdown",
   "id": "659f9fbd-6fcf-445f-aa8c-72d8e60154bd",
   "metadata": {},
   "source": [
    "## Chaining\n",
    "\n",
    "- TODO: Add user question and run cells\n",
    "\n",
    "We can use our tool in a chain by first binding it to a [tool-calling model](https://docs.permit.io/) and then calling it:\n",
    "\n",
    "import ChatModelTabs from \"@theme/ChatModelTabs\";\n",
    "\n",
    "<ChatModelTabs customVarName=\"llm\" />\n"
   ]
  },
  {
   "cell_type": "markdown",
   "id": "c1306ac4",
   "metadata": {
    "vscode": {
     "languageId": "raw"
    }
   },
   "source": [
    "### Additional Demo Scripts\n",
    "\n",
    "For fully runnable demos, check out the `/langchain_permit/examples/demo_scripts` folder in this [repository](https://github.com/permitio/langchain-permit). You’ll find:\n",
    "\n",
    "* demo_jwt_validation.py – A quick script showing how to validate JWTs using LangchainJWTValidationTool.\n",
    "\n",
    "* demo_permissions_check.py – A script that performs Permit.io permission checks using LangchainPermissionsCheckTool.\n",
    "\n",
    "Just run `python demo_jwt_validation.py` or `python demo_permissions_check.py` (after setting your environment variables) to see these tools in action."
   ]
  },
  {
   "cell_type": "markdown",
   "id": "4ac8146c",
   "metadata": {},
   "source": [
    "## API reference\n",
    "\n",
    "For detailed documentation of all Permit features and configurations head to the API reference: https://docs.permit.io/"
   ]
  }
 ],
 "metadata": {
  "kernelspec": {
   "display_name": "poetry-venv-311",
   "language": "python",
   "name": "poetry-venv-311"
  },
  "language_info": {
   "codemirror_mode": {
    "name": "ipython",
    "version": 3
   },
   "file_extension": ".py",
   "mimetype": "text/x-python",
   "name": "python",
   "nbconvert_exporter": "python",
   "pygments_lexer": "ipython3",
   "version": "3.11.9"
  }
 },
 "nbformat": 4,
 "nbformat_minor": 5
}
