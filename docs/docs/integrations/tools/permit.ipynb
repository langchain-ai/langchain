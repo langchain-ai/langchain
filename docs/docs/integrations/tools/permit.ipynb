{
 "cells": [
  {
   "cell_type": "raw",
   "id": "10238e62-3465-4973-9279-606cbb7ccf16",
   "metadata": {},
   "source": [
    "---\n",
    "sidebar_label: Permit\n",
    "---"
   ]
  },
  {
   "cell_type": "markdown",
   "id": "a6f91f20",
   "metadata": {},
   "source": [
    "# Permit\n",
    "\n",
    "Permit is an access control platform that provides fine-grained, real-time permission management using various models such as RBAC, ABAC, and ReBAC. It enables organizations to enforce dynamic policies across their applications, ensuring that only authorized users can access specific resources.\n",
    "\n",
    "## Overview\n",
    "\n",
    "This package provides two Langchain tools for JWT validation and permission checking using Permit:\n",
    "\n",
    "* LangchainJWTValidationTool: Validates JWT tokens against a JWKS endpoint\n",
    "\n",
    "* LangchainPermissionsCheckTool: Checks user permissions using Permit\n",
    "\n",
    "\n",
    "## Setup\n",
    "\n",
    "Set up the following environment variables:\n",
    "\n",
    "```bash\n",
    "PERMIT_API_KEY=your_permit_api_key\n",
    "JWKS_URL=your_jwks_endpoint_url\n",
    "PERMIT_PDP_URL=your_permit_pdp_url  # Usually http://localhost:7766 for local development or your real deployment\n",
    "```\n",
    "\n",
    "Make sure your PDP (Policy Decision Point) is running at PERMIT_PDP_URL.\n",
    "See [Permit docs](https://docs.permit.io/concepts/pdp/overview/) for details on policy setup and how to launch the PDP container."
   ]
  },
  {
   "cell_type": "markdown",
   "id": "b15e9266",
   "metadata": {},
   "source": [
    "### Credentials\n",
    "\n",
    "```bash\n",
    "PERMIT_API_KEY=\n",
    "JWKS_URL=your_jwks_endpoint_url # or your deployed url\n",
    "PERMIT_PDP_URL=your_pdp_url # or your deployed url\n",
    "TEST_JWT_TOKEN= # for quick test purposes\n",
    "```"
   ]
  },
  {
   "cell_type": "markdown",
   "id": "bc5ab717-fd27-4c59-b912-bdd099541478",
   "metadata": {},
   "source": [
    "It's also helpful (but not needed) to set up [LangSmith](https://smith.langchain.com/) for best-in-class observability:"
   ]
  },
  {
   "cell_type": "markdown",
   "id": "1c97218f-f366-479d-8bf7-fe9f2f6df73f",
   "metadata": {},
   "source": [
    "## Instantiation\n",
    "\n",
    "### JWT Validation Tool\n",
    "The JWT Validation tool verifies JWT tokens against a JWKS (JSON Web Key Set) endpoint.\n",
    "\n",
    "#### Basic Usage\n",
    "\n",
    "```python\n",
    "from langchain_permit.tools import LangchainJWTValidationTool\n",
    "\n",
    "# Initialize the tool\n",
    "jwt_validator = LangchainJWTValidationTool(\n",
    "    jwks_url=#your url endpoint\n",
    ")\n",
    "\n",
    "# Validate a token\n",
    "async def validate_token():\n",
    "    claims = await jwt_validator._arun(\n",
    "        \"eyJhbGciOiJSUzI1NiI...\"  # Your JWT token\n",
    "    )\n",
    "    print(\"Validated Claims:\", claims)\n",
    "```\n",
    "\n",
    "### Configuration Options\n",
    "You can initialize the tool with either:\n",
    "\n",
    "* A JWKS URL\n",
    "* Direct JWKS JSON data\n",
    "* Environment variable (JWKS_URL)\n",
    "\n",
    "```python\n",
    "# Using direct JWKS JSON\n",
    "jwt_validator = LangchainJWTValidationTool(\n",
    "    jwks_json={\n",
    "        \"keys\": [\n",
    "            {\n",
    "                \"kid\": \"key-id\",\n",
    "                \"kty\": \"RSA\",\n",
    "                ...\n",
    "            }\n",
    "        ]\n",
    "    }\n",
    ")\n",
    "```"
   ]
  },
  {
   "cell_type": "markdown",
   "id": "74147a1a",
   "metadata": {},
   "source": [
    "## Invocation\n",
    "\n",
    "### [Invoke directly with args](https://docs.permit.io/)\n",
    "\n",
    "- TODO: Describe what the tool args are, fill them in, run cell"
   ]
  },
  {
   "cell_type": "markdown",
   "id": "d6e73897",
   "metadata": {},
   "source": [
    "### [Invoke with ToolCall](https://docs.permit.io/)\n",
    "\n",
    "We can also invoke the tool with a model-generated ToolCall, in which case a ToolMessage will be returned:\n",
    "\n",
    "- TODO: Fill in tool args and run cell"
   ]
  },
  {
   "cell_type": "markdown",
   "id": "659f9fbd-6fcf-445f-aa8c-72d8e60154bd",
   "metadata": {},
   "source": [
    "## Chaining\n",
    "\n",
    "- TODO: Add user question and run cells\n",
    "\n",
    "We can use our tool in a chain by first binding it to a [tool-calling model](https://docs.permit.io/) and then calling it:\n",
    "\n",
    "import ChatModelTabs from \"@theme/ChatModelTabs\";\n",
    "\n",
    "<ChatModelTabs customVarName=\"llm\" />\n"
   ]
  },
  {
   "cell_type": "markdown",
   "id": "4ac8146c",
   "metadata": {},
   "source": [
    "## API reference\n",
    "\n",
    "For detailed documentation of all Permit features and configurations head to the API reference: https://docs.permit.io/"
   ]
  }
 ],
 "metadata": {
  "kernelspec": {
   "display_name": "poetry-venv-311",
   "language": "python",
   "name": "poetry-venv-311"
  },
  "language_info": {
   "codemirror_mode": {
    "name": "ipython",
    "version": 3
   },
   "file_extension": ".py",
   "mimetype": "text/x-python",
   "name": "python",
   "nbconvert_exporter": "python",
   "pygments_lexer": "ipython3",
   "version": "3.11.9"
  }
 },
 "nbformat": 4,
 "nbformat_minor": 5
}
