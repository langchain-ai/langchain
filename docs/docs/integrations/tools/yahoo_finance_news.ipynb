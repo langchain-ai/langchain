{
 "cells": [
  {
   "cell_type": "markdown",
   "id": "71406a01-e5e5-4fe0-a1fa-49216871779e",
   "metadata": {},
   "source": [
    "# Yahoo Finance News\n",
    "\n",
    "This notebook goes over how to use the `yahoo_finance_news` tool with an agent. \n",
    "\n",
    "\n",
    "## Setting up\n",
    "\n",
    "First, you need to install `yfinance` python package."
   ]
  },
  {
   "cell_type": "code",
   "execution_count": 1,
   "id": "38717a85-2c3c-4452-a1c7-1ed4dea3da86",
   "metadata": {},
   "outputs": [
    {
     "name": "stdout",
     "output_type": "stream",
     "text": [
      "Note: you may need to restart the kernel to use updated packages.\n"
     ]
    }
   ],
   "source": [
    "%pip install --upgrade --quiet  yfinance"
   ]
  },
  {
   "cell_type": "markdown",
   "id": "4527b5f9-b496-45d8-8147-7a4ebb89734b",
   "metadata": {},
   "source": [
    "## Example with Chain"
   ]
  },
  {
   "cell_type": "code",
   "execution_count": 2,
   "id": "d137dd6c-d3d3-4813-af65-59eaaa6b3d76",
   "metadata": {},
   "outputs": [],
   "source": [
    "import os\n",
    "\n",
    "os.environ[\"OPENAI_API_KEY\"] = \"..\""
   ]
  },
  {
   "cell_type": "code",
   "execution_count": null,
   "id": "af297977-4fc3-421f-9ce1-f62c1c5b026a",
   "metadata": {},
   "outputs": [
    {
     "name": "stderr",
     "output_type": "stream",
     "text": [
      "USER_AGENT environment variable not set, consider setting it to identify your requests.\n"
     ]
    }
   ],
   "source": [
    "from langchain_community.tools.yahoo_finance_news import YahooFinanceNewsTool\n",
    "from langgraph.prebuilt import create_react_agent\n",
    "\n",
    "tools = [YahooFinanceNewsTool()]\n",
    "agent = create_react_agent(\"openai:gpt-4.1-mini\", tools)"
   ]
  },
  {
   "cell_type": "code",
   "execution_count": 4,
   "id": "ac3cbec8-4135-4f5a-bb35-299730c000bd",
   "metadata": {},
   "outputs": [
    {
     "name": "stdout",
     "output_type": "stream",
     "text": [
      "================================\u001b[1m Human Message \u001b[0m=================================\n",
      "\n",
      "What happened today with Microsoft stocks?\n",
      "==================================\u001b[1m Ai Message \u001b[0m==================================\n",
      "Tool Calls:\n",
      "  yahoo_finance_news (call_s1Waj1rAoJ89CfxWX1RWDiWL)\n",
      " Call ID: call_s1Waj1rAoJ89CfxWX1RWDiWL\n",
      "  Args:\n",
      "    query: MSFT\n",
      "=================================\u001b[1m Tool Message \u001b[0m=================================\n",
      "Name: yahoo_finance_news\n",
      "\n",
      "Microsoft (MSFT), Meta Platforms (META) Reported “Home Run” Results: Dan Ives’ Recent Comments\n",
      "Microsoft (MSFT) and Meta Platforms (META) delivered “home run” results yesterday, as the AI Revolution has not been slowed by the Trump administration’s tariffs, Dan Ives, the Managing Director and Senior Equity Research Analyst at Wedbush Securities said on CNBC recently. Ives covers tech stocks. Tech Is Poised for a Comeback, Ives Indicates “The tech […]\n",
      "==================================\u001b[1m Ai Message \u001b[0m==================================\n",
      "\n",
      "Today, Microsoft (MSFT) reported strong financial results, described as \"home run\" results by Dan Ives, Managing Director and Senior Equity Research Analyst at Wedbush Securities. Despite the Trump administration’s tariffs, the AI Revolution driving tech stocks like Microsoft has not slowed down, indicating a positive outlook for the company and the tech sector overall.\n"
     ]
    }
   ],
   "source": [
    "input_message = {\n",
    "    \"role\": \"user\",\n",
    "    \"content\": \"What happened today with Microsoft stocks?\",\n",
    "}\n",
    "\n",
    "for step in agent.stream(\n",
    "    {\"messages\": [input_message]},\n",
    "    stream_mode=\"values\",\n",
    "):\n",
    "    step[\"messages\"][-1].pretty_print()"
   ]
  },
  {
   "cell_type": "code",
   "execution_count": 5,
   "id": "4496b06b-8b57-4fa8-9b86-4db407caa807",
   "metadata": {},
   "outputs": [
    {
     "name": "stdout",
     "output_type": "stream",
     "text": [
      "================================\u001b[1m Human Message \u001b[0m=================================\n",
      "\n",
      "How does Microsoft feels today comparing with Nvidia?\n",
      "==================================\u001b[1m Ai Message \u001b[0m==================================\n",
      "Tool Calls:\n",
      "  yahoo_finance_news (call_r9m4YxdEqWeXotkNgK8jGzeJ)\n",
      " Call ID: call_r9m4YxdEqWeXotkNgK8jGzeJ\n",
      "  Args:\n",
      "    query: MSFT\n",
      "  yahoo_finance_news (call_fxj3AIKPB4MYuquvFFWrBD8B)\n",
      " Call ID: call_fxj3AIKPB4MYuquvFFWrBD8B\n",
      "  Args:\n",
      "    query: NVDA\n",
      "=================================\u001b[1m Tool Message \u001b[0m=================================\n",
      "Name: yahoo_finance_news\n",
      "\n",
      "NVIDIA Corporation (NVDA): Among Ken Fisher’s Technology Stock Picks with Huge Upside Potential\n",
      "We recently published an article titled Billionaire Ken Fisher’s 10 Technology Stock Picks with Huge Upside Potential. In this article, we are going to take a look at where NVIDIA Corporation (NASDAQ:NVDA) stands against the other technology stocks. Technology stocks have faced heightened volatility in 2025, with market sentiment swinging sharply in response to President Donald […]\n",
      "\n",
      "Nvidia (NVDA) Redesigns Chips to Sidestep U.S. Export Ban, Eyes June China Rollout\n",
      "Nvidia plans China-specific AI chip revamp after new U.S. export limits\n",
      "\n",
      "Is NVIDIA (NVDA) the Best NASDAQ Stock to Buy According to Billionaires?\n",
      "We recently published a list of 10 Best NASDAQ Stocks to Buy According to Billionaires. In this article, we are going to take a look at where NVIDIA Corporation (NASDAQ:NVDA) stands against other best NASDAQ stocks to buy according to billionaires. The latest market data shows that the US economy contracted at an annualized rate […]\n",
      "==================================\u001b[1m Ai Message \u001b[0m==================================\n",
      "\n",
      "Today, Microsoft (MSFT) is viewed positively with recent strong earnings reported, described as \"home run\" results, indicating confidence in its performance amid an ongoing AI revolution.\n",
      "\n",
      "Nvidia (NVDA) is also in focus with its strategic moves, such as redesigning AI chips to bypass U.S. export bans and targeting a China rollout. It is considered one of the technology stocks with significant upside potential, attracting attention from notable investors.\n",
      "\n",
      "In summary, both Microsoft and Nvidia have positive sentiments today, with Microsoft showing strong financial results and Nvidia making strategic advancements in AI technology and market positioning.\n"
     ]
    }
   ],
   "source": [
    "input_message = {\n",
    "    \"role\": \"user\",\n",
    "    \"content\": \"How does Microsoft feels today comparing with Nvidia?\",\n",
    "}\n",
    "\n",
    "for step in agent.stream(\n",
    "    {\"messages\": [input_message]},\n",
    "    stream_mode=\"values\",\n",
    "):\n",
    "    step[\"messages\"][-1].pretty_print()"
   ]
  },
  {
   "cell_type": "markdown",
   "id": "366b57dc-5292-4011-9b99-7b7c86237def",
   "metadata": {},
   "source": [
    "# How YahooFinanceNewsTool works?"
   ]
  },
  {
   "cell_type": "code",
   "execution_count": 6,
   "id": "7879b79c-b5c7-4a5d-8338-edda53ff41a6",
   "metadata": {},
   "outputs": [],
   "source": [
    "tool = YahooFinanceNewsTool()"
   ]
  },
  {
   "cell_type": "code",
   "execution_count": 7,
   "id": "ac989456-33bc-4478-874e-98b9cb24d113",
   "metadata": {},
   "outputs": [
    {
     "data": {
      "text/plain": [
       "'NVIDIA Corporation (NVDA): Among Ken Fisher’s Technology Stock Picks with Huge Upside Potential\\nWe recently published an article titled Billionaire Ken Fisher’s 10 Technology Stock Picks with Huge Upside Potential. In this article, we are going to take a look at where NVIDIA Corporation (NASDAQ:NVDA) stands against the other technology stocks. Technology stocks have faced heightened volatility in 2025, with market sentiment swinging sharply in response to President Donald […]\\n\\nNvidia (NVDA) Redesigns Chips to Sidestep U.S. Export Ban, Eyes June China Rollout\\nNvidia plans China-specific AI chip revamp after new U.S. export limits\\n\\nIs NVIDIA (NVDA) the Best NASDAQ Stock to Buy According to Billionaires?\\nWe recently published a list of 10 Best NASDAQ Stocks to Buy According to Billionaires. In this article, we are going to take a look at where NVIDIA Corporation (NASDAQ:NVDA) stands against other best NASDAQ stocks to buy according to billionaires. The latest market data shows that the US economy contracted at an annualized rate […]'"
      ]
     },
     "execution_count": 7,
     "metadata": {},
     "output_type": "execute_result"
    }
   ],
   "source": [
    "tool.invoke(\"NVDA\")"
   ]
  },
  {
   "cell_type": "code",
   "execution_count": 8,
   "id": "46c697aa-102e-48d4-9834-081671aad40a",
   "metadata": {},
   "outputs": [
    {
     "name": "stdout",
     "output_type": "stream",
     "text": [
      "No news found for company that searched with AAPL ticker.\n"
     ]
    }
   ],
   "source": [
    "res = tool.invoke(\"AAPL\")\n",
    "print(res)"
   ]
  },
  {
   "cell_type": "code",
   "execution_count": null,
   "id": "fa415bf7-dd92-43f5-89aa-de7b7deaaf2b",
   "metadata": {},
   "outputs": [],
   "source": []
  }
 ],
 "metadata": {
  "kernelspec": {
   "display_name": "Python 3 (ipykernel)",
   "language": "python",
   "name": "python3"
  },
  "language_info": {
   "codemirror_mode": {
    "name": "ipython",
    "version": 3
   },
   "file_extension": ".py",
   "mimetype": "text/x-python",
   "name": "python",
   "nbconvert_exporter": "python",
   "pygments_lexer": "ipython3",
   "version": "3.13.2"
  }
 },
 "nbformat": 4,
 "nbformat_minor": 5
}
