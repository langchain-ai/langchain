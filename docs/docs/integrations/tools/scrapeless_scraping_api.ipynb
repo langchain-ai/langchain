{
 "cells": [
  {
   "cell_type": "markdown",
   "id": "a6f91f20",
   "metadata": {},
   "source": [
    "# Scrapeless\n",
    "\n",
    "**Scrapeless** offers flexible and feature-rich data acquisition services with extensive parameter customization and multi-format export support. These capabilities empower LangChain to integrate and leverage external data more effectively. The core functional modules include:\n",
    "\n",
    "**DeepSerp**\n",
    "- **Google Search**: Enables comprehensive extraction of Google SERP data across all result types.\n",
    "  - Supports selection of localized Google domains (e.g., google.com, google.ad) to retrieve region-specific search results.\n",
    "  - Pagination supported for retrieving results beyond the first page.\n",
    "  - Supports a search result filtering toggle to control whether to exclude duplicate or similar content.\n",
    "- **Google Trends**: Retrieves keyword trend data from Google, including popularity over time, regional interest, and related searches.\n",
    "  - Supports multi-keyword comparison.\n",
    "  - Supports multiple data types: interest_over_time, interest_by_region, related_queries, and related_topics.\n",
    "  - Allows filtering by specific Google properties (Web, YouTube, News, Shopping) for source-specific trend analysis.\n",
    "\n",
    "**Universal Scraping**\n",
    "- Designed for modern, JavaScript-heavy websites, allowing dynamic content extraction.\n",
    "  - Global premium proxy support for bypassing geo-restrictions and improving reliability.\n",
    "\n",
    "**Crawler**\n",
    "- **Crawl**: Recursively crawl a website and its linked pages to extract site-wide content.\n",
    "  - Supports configurable crawl depth and scoped URL targeting.\n",
    "- **Scrape**: Extract content from a single webpage with high precision.\n",
    "  - Supports \"main content only\" extraction to exclude ads, footers, and other non-essential elements.\n",
    "  - Allows batch scraping of multiple standalone URLs.\n",
    "\n",
    "## Overview\n",
    "\n",
    "### Integration details\n",
    "\n",
    "| Class | Package | Serializable | JS support |  Package latest |\n",
    "| :--- | :--- | :---: | :---: | :---: |\n",
    "| [ScrapelessDeepSerpGoogleSearchTool](https://pypi.org/project/langchain-scrapeless/) | [langchain-scrapeless](https://pypi.org/project/langchain-scrapeless/) | ✅ | ❌ |  ![PyPI - Version](https://img.shields.io/pypi/v/langchain-scrapeless?style=flat-square&label=%20) |\n",
    "| [ScrapelessDeepSerpGoogleTrendsTool](https://pypi.org/project/langchain-scrapeless/) | [langchain-scrapeless](https://pypi.org/project/langchain-scrapeless/) | ✅ | ❌ |  ![PyPI - Version](https://img.shields.io/pypi/v/langchain-scrapeless?style=flat-square&label=%20) |\n",
    "\n",
    "### Tool features\n",
    "\n",
    "|Native async|Returns artifact|Return data|\n",
    "|:-:|:-:|:-:|\n",
    "|✅|❌|Search Results Based on Tool|\n",
    "\n",
    "\n",
    "## Setup\n",
    "\n",
    "The integration lives in the `langchain-scrapeless` package."
   ]
  },
  {
   "cell_type": "raw",
   "id": "ca676665",
   "metadata": {
    "vscode": {
     "languageId": "raw"
    }
   },
   "source": [
    "pip install langchain-scrapeless"
   ]
  },
  {
   "cell_type": "markdown",
   "id": "b15e9266",
   "metadata": {},
   "source": [
    "### Credentials\n",
    "\n",
    "You'll need a Scrapeless API key to use this tool. You can set it as an environment variable:"
   ]
  },
  {
   "cell_type": "code",
   "execution_count": null,
   "id": "e0b178a2-8816-40ca-b57c-ccdd86dde9c9",
   "metadata": {},
   "outputs": [],
   "source": [
    "import os\n",
    "\n",
    "os.environ[\"SCRAPELESS_API_KEY\"] = \"your-api-key\""
   ]
  },
  {
   "cell_type": "markdown",
   "id": "1c97218f-f366-479d-8bf7-fe9f2f6df73f",
   "metadata": {},
   "source": [
    "## Instantiation\n",
    "\n",
    "### ScrapelessDeepSerpGoogleSearchTool\n",
    "\n",
    "Here we show how to instantiate an instance of the ScrapelessDeepSerpGoogleSearchTool. The universal Information Search Engine allows you to retrieve any data information.\n",
    "- Retrieves any data information.\n",
    "- Handles explanatory queries (e.g., \"why\", \"how\").\n",
    "- Supports comparative analysis requests.\n",
    "\n",
    "The tool accepts the following parameters:\n",
    "- `q`: (str) The search query string. Supports advanced Google syntax like inurl:, site:, intitle:, as_eq, etc.\n",
    "- `hl`: (str) Language code for result content, e.g., en, es, fr. Default: \"en\".\n",
    "- `gl`: (str) Country code for geo-specific result targeting, e.g., us, uk, de. Default: \"us\".\n",
    "- `google_domain`: (str) Which Google domain to use (e.g., google.com, google.co.jp). Default: \"google.com\".\n",
    "- `start`: (int) Defines the result offset. It skips the given number of results. Used for pagination. Examples:\n",
    "  - 0 (default): the first page of results\n",
    "  - 10: the second page\n",
    "  - 20: the third page\n",
    "- `num`: (int) Defines the maximum number of results to return. Examples:\n",
    "  - 10 (default): returns 10 results\n",
    "  - 40: returns 40 results\n",
    "  - 100: returns 100 results\n",
    "- `ludocid`: (str) Defines the ID (CID) of the Google My Business listing you want to scrape. Also known as Google Place ID.\n",
    "- `kgmid`: (str) Defines the ID (KGMID) of the Google Knowledge Graph listing you want to scrape. Also known as Google Knowledge Graph ID. Searches with the kgmid parameter will return results for the originally encrypted search parameters. For some searches, kgmid may override all other parameters except start and num.\n",
    "- `ibp`: (str) Responsible for rendering layouts and expansions for some elements. Example: gwp;0,7 to expand searches with ludocid for expanded knowledge graph.\n",
    "- `cr`: (str) Defines one or multiple countries to limit the search to. Uses format country{two-letter country code}, separated by |. Example:\n",
    "  - countryFR|countryDE only searches French and German pages.\n",
    "- `lr`: (str) Defines one or multiple languages to limit the search to. Uses format lang_{two-letter language code}, separated by |. Example:\n",
    "  - lang_fr|lang_de only searches French and German pages.\n",
    "- `tbs`: (str) Defines advanced search parameters not possible in the regular query field. Examples include advanced search for:\n",
    "  - patents\n",
    "  - dates\n",
    "  - news\n",
    "  - videos\n",
    "  - images\n",
    "  - apps\n",
    "  - text contents\n",
    "- `safe`: (str) Defines the level of filtering for adult content. Values:\n",
    "  - active: blur explicit content\n",
    "  - off: no filtering\n",
    "- `nfpr`: (str) Defines exclusion of results from auto-corrected queries when the original query is misspelled. Values:\n",
    "  - 1: exclude these results\n",
    "  - 0 (default): include them\n",
    "  - Note: This may not prevent Google from returning auto-corrected results if no other results are available.\n",
    "- `filter`: (str) Defines if “Similar Results” and “Omitted Results” filters are on or off. Values:\n",
    "  - 1 (default): enable filters\n",
    "  - 0: disable filters\n",
    "- `tbm`: (str) Defines the type of search to perform. Values:\n",
    "  - none: regular Google Search\n",
    "  - isch: Google Images\n",
    "  - lcl: Google Local\n",
    "  - vid: Google Videos\n",
    "  - nws: Google News\n",
    "  - shop: Google Shopping\n",
    "  - pts: Google Patents\n",
    "  - jobs: Google Jobs\n",
    "\n",
    "\n",
    "### ScrapelessDeepSerpGoogleTrendsTool\n",
    "\n",
    "Here we show how to instantiate an instance of the ScrapelessDeepSerpGoogleTrendsTool. This tool allows you to query real-time or historical trend data from Google Trends with fine control over locale, category, and result type, using the Scrapeless API.\n",
    "\n",
    "The tool accepts the following parameters:\n",
    "- `q` (required, str): Parameter defines the query or queries you want to search. You can use anything that you would use in a regular Google Trends search. The maximum number of queries per search is **5**. (This only applies to `interest_over_time` and `compared_breakdown_by_region` data types.) Other types of data will only accept **1 query** per search.\n",
    "- `data_type` (optional, str): The type of data to retrieve. Default is \"interest_over_time\". Options include:\n",
    "  - \"autocomplete\"\n",
    "  - \"interest_over_time\"\n",
    "  - \"compared_breakdown_by_region\"\n",
    "  - \"interest_by_subregion\"\n",
    "  - \"related_queries\"\n",
    "  - \"related_topics\"\n",
    "- `date` (optional, str): Defines the date range to fetch data for. Default is \"today 1-m\". Supported formats:\n",
    "  - Relative: \"now 1-H\", \"now 7-d\", \"today 12-m\", \"today 5-y\", \"all\" \n",
    "  - Custom date ranges: \"2023-01-01 2023-12-31\"\n",
    "  - With hours: \"2023-07-01T10 2023-07-03T22\"\n",
    "- `hl` (optional, str): Language code to use in the search. Default is \"en\". Examples:\n",
    "    - \"es\" (Spanish)\n",
    "    - \"fr\" (French)\n",
    "- `tz` (optional, str):Time zone offset. Default is \"420\" (PST).\n",
    "- `geo` (optional, str): Two-letter country code to define the geographic origin of the search. Examples include:\n",
    "  - \"US\" (United States)\n",
    "  - \"GB\" (United Kingdom)\n",
    "  - \"JP\" (Japan)\n",
    "  - Leave empty or None for worldwide search.\n",
    "- `cat` (optional, CategoryEnum): Category ID to narrow down the search context. Default is \"all_categories\" (0). Categories can include:\n",
    "  - \"0\" – All categories\n",
    "  - Others like \"3\" – News, \"29\" – Sports, etc."
   ]
  },
  {
   "cell_type": "markdown",
   "id": "74147a1a",
   "metadata": {},
   "source": [
    "## Invocation\n",
    "\n",
    "### ScrapelessDeepSerpGoogleSearchTool\n",
    "\n",
    "#### Basic Usage"
   ]
  },
  {
   "cell_type": "code",
   "execution_count": null,
   "id": "65310a8b-eb0c-4d9e-a618-4f4abe2414fc",
   "metadata": {},
   "outputs": [],
   "source": [
    "from langchain_scrapeless import ScrapelessDeepSerpGoogleSearchTool\n",
    "\n",
    "tool = ScrapelessDeepSerpGoogleSearchTool()\n",
    "\n",
    "# Basic usage\n",
    "result = tool.invoke(\"I want to know Scrapeless\")\n",
    "print(result)"
   ]
  },
  {
   "cell_type": "markdown",
   "id": "d6e73897",
   "metadata": {},
   "source": [
    "#### Advanced Usage with Parameters"
   ]
  },
  {
   "cell_type": "code",
   "execution_count": null,
   "id": "f90e33a7",
   "metadata": {},
   "outputs": [],
   "source": [
    "from langchain_scrapeless import ScrapelessDeepSerpGoogleSearchTool\n",
    "\n",
    "tool = ScrapelessDeepSerpGoogleSearchTool()\n",
    "\n",
    "# Advanced usage\n",
    "result = tool.invoke({\"q\": \"Scrapeless\", \"hl\": \"en\", \"google_domain\": \"google.com\"})\n",
    "print(result)"
   ]
  },
  {
   "cell_type": "markdown",
   "id": "659f9fbd-6fcf-445f-aa8c-72d8e60154bd",
   "metadata": {},
   "source": [
    "#### Use within an agent"
   ]
  },
  {
   "cell_type": "code",
   "execution_count": null,
   "id": "af3123ad-7a02-40e5-b58e-7d56e23e5830",
   "metadata": {},
   "outputs": [],
   "source": [
    "from langchain_openai import ChatOpenAI\n",
    "from langchain_scrapeless import ScrapelessDeepSerpGoogleSearchTool\n",
    "from langgraph.prebuilt import create_react_agent\n",
    "\n",
    "llm = ChatOpenAI()\n",
    "\n",
    "tool = ScrapelessDeepSerpGoogleSearchTool()\n",
    "\n",
    "# Use the tool with an agent\n",
    "tools = [tool]\n",
    "agent = create_react_agent(llm, tools)\n",
    "\n",
    "for chunk in agent.stream(\n",
    "    {\"messages\": [(\"human\", \"I want to what is Scrapeless\")]}, stream_mode=\"values\"\n",
    "):\n",
    "    chunk[\"messages\"][-1].pretty_print()"
   ]
  },
  {
   "cell_type": "markdown",
   "id": "769b2246",
   "metadata": {},
   "source": [
    "### ScrapelessDeepSerpGoogleTrendsTool\n",
    "\n",
    "#### Basic Usage"
   ]
  },
  {
   "cell_type": "code",
   "execution_count": null,
   "id": "ca993de7",
   "metadata": {},
   "outputs": [],
   "source": [
    "from langchain_scrapeless import ScrapelessDeepSerpGoogleTrendsTool\n",
    "\n",
    "tool = ScrapelessDeepSerpGoogleTrendsTool()\n",
    "\n",
    "# Basic usage\n",
    "result = tool.invoke(\"Funny 2048,negamon monster trainer\")\n",
    "print(result)"
   ]
  },
  {
   "cell_type": "markdown",
   "id": "1a4db36f",
   "metadata": {},
   "source": [
    "#### Advanced Usage with Parameters"
   ]
  },
  {
   "cell_type": "code",
   "execution_count": null,
   "id": "42c83c46",
   "metadata": {},
   "outputs": [],
   "source": [
    "from langchain_scrapeless import ScrapelessDeepSerpGoogleTrendsTool\n",
    "\n",
    "tool = ScrapelessDeepSerpGoogleTrendsTool()\n",
    "\n",
    "# Advanced usage\n",
    "result = tool.invoke({\"q\": \"Scrapeless\", \"data_type\": \"related_topics\", \"hl\": \"en\"})\n",
    "print(result)"
   ]
  },
  {
   "cell_type": "markdown",
   "id": "7dde00ff",
   "metadata": {},
   "source": [
    "#### Use within an agent"
   ]
  },
  {
   "cell_type": "code",
   "execution_count": null,
   "id": "f6ca1aff",
   "metadata": {},
   "outputs": [],
   "source": [
    "from langchain_openai import ChatOpenAI\n",
    "from langchain_scrapeless import ScrapelessDeepSerpGoogleTrendsTool\n",
    "from langgraph.prebuilt import create_react_agent\n",
    "\n",
    "llm = ChatOpenAI()\n",
    "\n",
    "tool = ScrapelessDeepSerpGoogleTrendsTool()\n",
    "\n",
    "# Use the tool with an agent\n",
    "tools = [tool]\n",
    "agent = create_react_agent(llm, tools)\n",
    "\n",
    "for chunk in agent.stream(\n",
    "    {\"messages\": [(\"human\", \"I want to know the iphone keyword trends\")]},\n",
    "    stream_mode=\"values\",\n",
    "):\n",
    "    chunk[\"messages\"][-1].pretty_print()"
   ]
  },
  {
   "cell_type": "markdown",
   "id": "4ac8146c",
   "metadata": {},
   "source": [
    "## API reference\n",
    "\n",
    "- [Scrapeless Documentation](https://docs.scrapeless.com/en/deep-serp-api/quickstart/introduction/)\n",
    "- [Scrapeless API Reference](https://apidocs.scrapeless.com/doc-800321)"
   ]
  }
 ],
 "metadata": {
  "kernelspec": {
   "display_name": "base",
   "language": "python",
   "name": "python3"
  },
  "language_info": {
   "codemirror_mode": {
    "name": "ipython",
    "version": 3
   },
   "file_extension": ".py",
   "mimetype": "text/x-python",
   "name": "python",
   "nbconvert_exporter": "python",
   "pygments_lexer": "ipython3",
   "version": "3.11.5"
  }
 },
 "nbformat": 4,
 "nbformat_minor": 5
}
