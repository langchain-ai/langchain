{
 "cells": [
  {
   "cell_type": "markdown",
   "id": "a6f91f20",
   "metadata": {},
   "source": [
    "# Scrapeless\n",
    "\n",
    "**Scrapeless** offers flexible and feature-rich data acquisition services with extensive parameter customization and multi-format export support. These capabilities empower LangChain to integrate and leverage external data more effectively. The core functional modules include:\n",
    "\n",
    "**DeepSerp**\n",
    "- **Google Search**: Enables comprehensive extraction of Google SERP data across all result types.\n",
    "  - Supports selection of localized Google domains (e.g., `google.com`, `google.ad`) to retrieve region-specific search results.\n",
    "  - Pagination supported for retrieving results beyond the first page.\n",
    "  - Supports a search result filtering toggle to control whether to exclude duplicate or similar content.\n",
    "- **Google Trends**: Retrieves keyword trend data from Google, including popularity over time, regional interest, and related searches.\n",
    "  - Supports multi-keyword comparison.\n",
    "  - Supports multiple data types: `interest_over_time`, `interest_by_region`, `related_queries`, and `related_topics`.\n",
    "  - Allows filtering by specific Google properties (Web, YouTube, News, Shopping) for source-specific trend analysis.\n",
    "\n",
    "**Universal Scraping**\n",
    "- Designed for modern, JavaScript-heavy websites, allowing dynamic content extraction.\n",
    "  - Global premium proxy support for bypassing geo-restrictions and improving reliability.\n",
    "\n",
    "**Crawler**\n",
    "- **Crawl**: Recursively crawl a website and its linked pages to extract site-wide content.\n",
    "  - Supports configurable crawl depth and scoped URL targeting.\n",
    "- **Scrape**: Extract content from a single webpage with high precision.\n",
    "  - Supports \"main content only\" extraction to exclude ads, footers, and other non-essential elements.\n",
    "  - Allows batch scraping of multiple standalone URLs.\n",
    "\n",
    "## Overview\n",
    "\n",
    "### Integration details\n",
    "\n",
    "| Class | Package | Serializable | JS support |  Package latest |\n",
    "| :--- | :--- | :---: | :---: | :---: |\n",
    "| [ScrapelessDeepSerpGoogleSearchTool](https://pypi.org/project/langchain-scrapeless/) | [langchain-scrapeless](https://pypi.org/project/langchain-scrapeless/) | ✅ | ❌ |  ![PyPI - Version](https://img.shields.io/pypi/v/langchain-scrapeless?style=flat-square&label=%20) |\n",
    "| [ScrapelessDeepSerpGoogleTrendsTool](https://pypi.org/project/langchain-scrapeless/) | [langchain-scrapeless](https://pypi.org/project/langchain-scrapeless/) | ✅ | ❌ |  ![PyPI - Version](https://img.shields.io/pypi/v/langchain-scrapeless?style=flat-square&label=%20) |\n",
    "\n",
    "### Tool features\n",
    "\n",
    "|Native async|Returns artifact|Return data|\n",
    "|:-:|:-:|:-:|\n",
    "|✅|❌|Search Results Based on Tool|\n",
    "\n",
    "\n",
    "## Setup\n",
    "\n",
    "The integration lives in the `langchain-scrapeless` package."
   ]
  },
  {
   "cell_type": "raw",
   "id": "ca676665",
   "metadata": {
    "vscode": {
     "languageId": "raw"
    }
   },
   "source": [
    "!pip install langchain-scrapeless"
   ]
  },
  {
   "cell_type": "markdown",
   "id": "b15e9266",
   "metadata": {},
   "source": [
    "### Credentials\n",
    "\n",
    "You'll need a Scrapeless API key to use this tool. You can set it as an environment variable:"
   ]
  },
  {
   "cell_type": "code",
   "execution_count": null,
   "id": "e0b178a2-8816-40ca-b57c-ccdd86dde9c9",
   "metadata": {},
   "outputs": [],
   "source": [
    "import os\n",
    "\n",
    "os.environ[\"SCRAPELESS_API_KEY\"] = \"your-api-key\""
   ]
  },
  {
   "cell_type": "markdown",
   "id": "1c97218f-f366-479d-8bf7-fe9f2f6df73f",
   "metadata": {},
   "source": [
    "## Instantiation\n",
    "\n",
    "### ScrapelessDeepSerpGoogleSearchTool\n",
    "\n",
    "Here we show how to instantiate an instance of the `ScrapelessDeepSerpGoogleSearchTool`. The universal Information Search Engine allows you to retrieve any data information.\n",
    "- Retrieves any data information.\n",
    "- Handles explanatory queries (e.g., \"why\", \"how\").\n",
    "- Supports comparative analysis requests.\n",
    "\n",
    "The tool accepts the following parameters:\n",
    "- `q`: (str) The search query string. Supports advanced Google syntax like `inurl:`, `site:`, `intitle:`, `as_eq`, etc.\n",
    "- `hl`: (str) Language code for result content, e.g., `en`, `es`, `fr`. Default: `'en'`.\n",
    "- `gl`: (str) Country code for geo-specific result targeting, e.g., `us`, `uk`, `de`. Default: `'us'`.\n",
    "- `google_domain`: (str) Which Google domain to use (e.g., `'google.com'`, `'google.co.jp'`). Default: `'google.com'`.\n",
    "- `start`: (int) Defines the result offset. It skips the given number of results. Used for pagination. Examples:\n",
    "  - `0` (default): the first page of results\n",
    "  - `10`: the second page\n",
    "  - `20`: the third page\n",
    "- `num`: (int) Defines the maximum number of results to return. Examples:\n",
    "  - `10` (default): returns 10 results\n",
    "  - `40`: returns 40 results\n",
    "  - `100`: returns 100 results\n",
    "- `ludocid`: (str) Defines the ID (CID) of the Google My Business listing you want to scrape. Also known as Google Place ID.\n",
    "- `kgmid`: (str) Defines the ID (KGMID) of the Google Knowledge Graph listing you want to scrape. Also known as Google Knowledge Graph ID. Searches with the kgmid parameter will return results for the originally encrypted search parameters. For some searches, `kgmid` may override all other parameters except `start` and `num`.\n",
    "- `ibp`: (str) Responsible for rendering layouts and expansions for some elements. Example: gwp;0,7 to expand searches with ludocid for expanded knowledge graph.\n",
    "- `cr`: (str) Defines one or multiple countries to limit the search to. Uses format `country{two-letter country code}`, separated by `|`. Example:\n",
    "  - `countryFR|countryDE` only searches French and German pages.\n",
    "- `lr`: (str) Defines one or multiple languages to limit the search to. Uses format `lang_{two-letter language code}`, separated by `|`. Example:\n",
    "  - `lang_fr|lang_de` only searches French and German pages.\n",
    "- `tbs`: (str) Defines advanced search parameters not possible in the regular query field. Examples include advanced search for:\n",
    "  - `patents`\n",
    "  - `dates`\n",
    "  - `news`\n",
    "  - `videos`\n",
    "  - `images`\n",
    "  - `apps`\n",
    "  - `text` contents\n",
    "- `safe`: (str) Defines the level of filtering for adult content. Values:\n",
    "  - `active`: blur explicit content\n",
    "  - `off`: no filtering\n",
    "- `nfpr`: (str) Defines exclusion of results from auto-corrected queries when the original query is misspelled. Values:\n",
    "  - `1`: exclude these results\n",
    "  - `0` (default): include them\n",
    "  - Note: This may not prevent Google from returning auto-corrected results if no other results are available.\n",
    "- `filter`: (str) Defines if `'Similar Results'` and `'Omitted Results'` filters are on or off. Values:\n",
    "  - `1` (default): enable filters\n",
    "  - `0`: disable filters\n",
    "- `tbm`: (str) Defines the type of search to perform. Values:\n",
    "  - `none`: regular Google Search\n",
    "  - `isch`: Google Images\n",
    "  - `lcl`: Google Local\n",
    "  - `vid`: Google Videos\n",
    "  - `nws`: Google News\n",
    "  - `shop`: Google Shopping\n",
    "  - `pts`: Google Patents\n",
    "  - `jobs`: Google Jobs\n",
    "\n",
    "\n",
    "### ScrapelessDeepSerpGoogleTrendsTool\n",
    "\n",
    "Here we show how to instantiate an instance of the `ScrapelessDeepSerpGoogleTrendsTool`. This tool allows you to query real-time or historical trend data from Google Trends with fine control over locale, category, and result type, using the Scrapeless API.\n",
    "\n",
    "The tool accepts the following parameters:\n",
    "- `q` (required, str): Parameter defines the query or queries you want to search. You can use anything that you would use in a regular Google Trends search. The maximum number of queries per search is **5**. (This only applies to `interest_over_time` and `compared_breakdown_by_region` data types.) Other types of data will only accept **1 query** per search.\n",
    "- `data_type` (optional, str): The type of data to retrieve. Default is `'interest_over_time'`. Options include:\n",
    "  - `autocomplete`\n",
    "  - `interest_over_time`\n",
    "  - `compared_breakdown_by_region`\n",
    "  - `interest_by_subregion`\n",
    "  - `related_queries`\n",
    "  - `related_topics`\n",
    "- `date` (optional, str): Defines the date range to fetch data for. Default is `'today 1-m'`. Supported formats:\n",
    "  - Relative: `'now 1-H'`, `'now 7-d'`, `'today 12-m'`, `'today 5-y'`, `'all'`\n",
    "  - Custom date ranges: `'2023-01-01 2023-12-31'`\n",
    "  - With hours: `'2023-07-01T10 2023-07-03T22'`\n",
    "- `hl` (optional, str): Language code to use in the search. Default is `'en'`. Examples:\n",
    "    - `'es'` (Spanish)\n",
    "    - `'fr'` (French)\n",
    "- `tz` (optional, str): Time zone offset. Default is `'420'` (PST).\n",
    "- `geo` (optional, str): Two-letter country code to define the geographic origin of the search. Examples include:\n",
    "  - `'US'` (United States)\n",
    "  - `'GB'` (United Kingdom)\n",
    "  - `'JP'` (Japan)\n",
    "  - Leave empty or `None` for worldwide search.\n",
    "- `cat` (optional, `CategoryEnum`): Category ID to narrow down the search context. Default is `'all_categories'` (0). Categories can include:\n",
    "  - `'0'` – All categories\n",
    "  - Others like `'3'` – News, `'29'` – Sports, etc."
   ]
  },
  {
   "cell_type": "markdown",
   "id": "74147a1a",
   "metadata": {},
   "source": [
    "## Invocation\n",
    "\n",
    "### ScrapelessDeepSerpGoogleSearchTool\n",
    "\n",
    "#### Basic Usage"
   ]
  },
  {
   "cell_type": "code",
   "execution_count": null,
   "id": "65310a8b-eb0c-4d9e-a618-4f4abe2414fc",
   "metadata": {},
   "outputs": [
    {
     "name": "stdout",
     "output_type": "stream",
     "text": [
      "{'inline_images': [{'position': 1, 'thumbnail': 'https://encrypted-tbn0.gstatic.com/images?q=tbn:ANd9GcTyTSMoVoK_U4eIL_sta9g-jpa0WkrHb8g4Ww&s', 'related_content_id': 'W25Uu31q8mmB1M,IdsKzFwOrIHamM', 'related_content_link': 'https://www.google.com/search/about-this-image?img=H4sIAAAAAAAA_wEXAOj_ChUIobar4MzLg9aBARDb3NHa28-a-WmbHuN1FwAAAA%3D%3D&q=https://www.parsehub.com/blog/web-scraping-examples/&ctx=iv&hl=en-US', 'source': 'www.parsehub.com', 'source_logo': '', 'title': 'Web Scraping Examples: How are Businesses Using Web Scraping ...', 'link': 'https://www.parsehub.com/blog/web-scraping-examples/', 'original': 'https://www.parsehub.com/blog/content/images/2019/10/web-scraping-examples.jpg', 'original_width': 800, 'original_height': 400, 'in_stock': False, 'is_product': False}], 'inline_videos': [{'position': 1, 'title': 'How This AI Tool Makes Web Scraping Cheaper & 10x ...', 'link': 'https://www.youtube.com/watch?v=4xQ1UVxW0Pc', 'channel': 'SkillCurb', 'duration': '7:44', 'platform': 'YouTube', 'key_moments': [{'time': '00:00', 'title': 'Introduction', 'link': 'https://www.youtube.com/watch?v=4xQ1UVxW0Pc&t=0', 'thumbnail': 'https://encrypted-tbn0.gstatic.com/images?q=tbn:ANd9GcQa-iXYOifpWDZZJLq8V45waX8C_mRTvar2rFgKASqipA&s'}, {'time': '00:20', 'title': 'Overview', 'link': 'https://www.youtube.com/watch?v=4xQ1UVxW0Pc&t=20', 'thumbnail': 'https://encrypted-tbn0.gstatic.com/images?q=tbn:ANd9GcQ2I1-L6_cnRoz_nbhUYcLsG8KOjJL8aM2tMZAez_zigg&s'}, {'time': '01:20', 'title': 'How to Use SERP API', 'link': 'https://www.youtube.com/watch?v=4xQ1UVxW0Pc&t=80', 'thumbnail': 'https://encrypted-tbn0.gstatic.com/images?q=tbn:ANd9GcRettKVpkN7yFSzZBeYPNhmhTdhzmjSJ3p4vTP9oY5VmA&s'}, {'time': '03:30', 'title': 'Additional Features', 'link': 'https://www.youtube.com/watch?v=4xQ1UVxW0Pc&t=210', 'thumbnail': 'https://encrypted-tbn0.gstatic.com/images?q=tbn:ANd9GcRBSPraPiDau9kIyxZbygn_csUKH3q8Eop_E8jzYTyBOg&s'}, {'time': '07:05', 'title': 'Final Thoughts', 'link': 'https://www.youtube.com/watch?v=4xQ1UVxW0Pc&t=425', 'thumbnail': 'https://encrypted-tbn0.gstatic.com/images?q=tbn:ANd9GcSiSXSUSq3hJH7XOukFzMfXWj7iVcb-F2b9Lwug0KjXHQ&s'}]}, {'position': 2, 'title': 'Finally! Web Scraping Without Code That ACTUALLY Works ...', 'link': 'https://www.youtube.com/watch?v=bQTxINH9GbI', 'channel': 'Execute Automation', 'duration': '15:44', 'platform': 'YouTube'}, {'position': 3, 'title': 'Web Scraping 101: How To Scrape 99% of Sites', 'link': 'https://www.youtube.com/watch?v=WYp0dmZOHXM&pp=0gcJCdgAo7VqN5tD', 'channel': 'Dorian Develops', 'duration': '18:58', 'platform': 'YouTube'}], 'metadata': {'engine': 'google.search', 'rawUrl': 'https://api.scrapeless.com/storage/scrapeless.scraper.google.search/806ff29bc59caf4b65eaaca9aea80740/b4b20ee690f50282a5919181c2d72ae5_1754948945.html'}, 'organic_results': [{'position': 1, 'title': 'Scrapeless: Effortless Web Scraping Toolkit', 'link': 'https://www.scrapeless.com/', 'redirect_link': 'https://www.google.com/url?sa=t&source=web&rct=j&opi=89978449&url=https://www.scrapeless.com/&ved=2ahUKEwiLzOej3oOPAxXGhIkEHcj2AT4QFnoECB0QAQ', 'favicon': 'data:image/png;base64,iVBORw0KGgoAAAANSUhEUgAAACAAAAAgCAMAAABEpIrGAAAAeFBMVEVHcEwXFxcXFxcXFxcXFxcXFxcXFxcXFxcXFxcXFxcWFRUUDxAXFxcXFxcOBgcBAAAkKyo1OTgaISBQWVensa/Q0NDg4ODs7Oy9vb1tbW3///+SkpJqkIlTeXK77+VvsaaH0MOl1cx/x7sblIYRppUVSUMVf3IVYVcMP61GAAAADnRSTlMAG1KVxev/kqPk//8tzGl2sbwAAAHRSURBVHgBZJMHlsIwDEQTIAIsYqf3Xu9/w9VgNrt5DJ35kdXi/Mm9XG8ekXe7X1znW+7jSYeejy/kSpBSrJRlrif75cPVhoIwiIwBQ/7rn++JbUycpFmepUWpNRDvdfbLtBLlRV0nRRycCB9+DTsryUBxGYHwj/yUKeAn8JqmDTSH6sjUPa4v2IRJl8RRpJAFhGofRKaEn8vlXdfG/TAMfUsM4CEBnhIgA1CbcOwa2FBPIJ6uczkChKbpBvh9P+EdedJFUlQmAZBGZuz6oZ/nZVlmQRotwN25kYrSN6DMOE5NpHmdheiHKWSim+MRBxmALDTj0CJ7ZgTpEYI8R36HeQWVphntqHhdRFNP8ksARLBZcqvYMMmh70P6AID3yQFEGRHVsRC8SYR2EsCTJMlWYRm04wNsKPTm3Il0XB36D7Sk6I5GEUZ1qNQ2h2VHmRdpNdJMDz9h9aliZUKrMSzS0W+MQrP8xAkzWv2w48bAwySVbYsNGrX/BiD3WGhFxkTaaEVKywHbstlJvOUDiNZAs0gHm/jbhi76x9JaYtvXdcfx+7rDP621iKN9m+d52yOO2PrnG4cUqyiKCOb5xoHuZKXgft96P8OfeRHZnx1L9gcAbGI4jTD1e4oAAAAASUVORK5CYII=', 'snippet': 'Scrapeless offers AI-powered, robust, and scalable web scraping and automation services trusted by leading enterprises. Our enterprise-grade solutions are\\xa0...', 'snippet_highlighted_words': ['Scrapeless offers AI-powered, robust, and scalable web scraping and automation services'], 'site_links': {'inline': [{'title': 'Scrapeless', 'link': 'https://app.scrapeless.com/'}, {'title': 'Sign up', 'link': 'https://app.scrapeless.com/passport/register'}, {'title': 'Pricing', 'link': 'https://www.scrapeless.com/en/pricing'}, {'title': 'Scraping API', 'link': 'https://www.scrapeless.com/en/product/scraping-api'}]}, 'source': 'Scrapeless'}, {'position': 2, 'title': 'Scrapeless FAQs and Solutions | Quick Help Center', 'link': 'https://www.scrapeless.com/en/faq', 'redirect_link': 'https://www.google.com/url?sa=t&source=web&rct=j&opi=89978449&url=https://www.scrapeless.com/en/faq&ved=2ahUKEwiLzOej3oOPAxXGhIkEHcj2AT4QFnoECBkQAQ', 'favicon': 'data:image/png;base64,iVBORw0KGgoAAAANSUhEUgAAACAAAAAgCAMAAABEpIrGAAAAeFBMVEVHcEwXFxcXFxcXFxcXFxcXFxcXFxcXFxcXFxcXFxcWFRUUDxAXFxcXFxcOBgcBAAAkKyo1OTgaISBQWVensa/Q0NDg4ODs7Oy9vb1tbW3///+SkpJqkIlTeXK77+VvsaaH0MOl1cx/x7sblIYRppUVSUMVf3IVYVcMP61GAAAADnRSTlMAG1KVxev/kqPk//8tzGl2sbwAAAHRSURBVHgBZJMHlsIwDEQTIAIsYqf3Xu9/w9VgNrt5DJ35kdXi/Mm9XG8ekXe7X1znW+7jSYeejy/kSpBSrJRlrif75cPVhoIwiIwBQ/7rn++JbUycpFmepUWpNRDvdfbLtBLlRV0nRRycCB9+DTsryUBxGYHwj/yUKeAn8JqmDTSH6sjUPa4v2IRJl8RRpJAFhGofRKaEn8vlXdfG/TAMfUsM4CEBnhIgA1CbcOwa2FBPIJ6uczkChKbpBvh9P+EdedJFUlQmAZBGZuz6oZ/nZVlmQRotwN25kYrSN6DMOE5NpHmdheiHKWSim+MRBxmALDTj0CJ7ZgTpEYI8R36HeQWVphntqHhdRFNP8ksARLBZcqvYMMmh70P6AID3yQFEGRHVsRC8SYR2EsCTJMlWYRm04wNsKPTm3Il0XB36D7Sk6I5GEUZ1qNQ2h2VHmRdpNdJMDz9h9aliZUKrMSzS0W+MQrP8xAkzWv2w48bAwySVbYsNGrX/BiD3WGhFxkTaaEVKywHbstlJvOUDiNZAs0gHm/jbhi76x9JaYtvXdcfx+7rDP621iKN9m+d52yOO2PrnG4cUqyiKCOb5xoHuZKXgft96P8OfeRHZnx1L9gcAbGI4jTD1e4oAAAAASUVORK5CYII=', 'snippet': 'Scrapeless offers AI-powered, robust, and scalable web scraping and automation services trusted by leading enterprises.', 'snippet_highlighted_words': ['Scrapeless'], 'source': 'Scrapeless'}, {'position': 3, 'title': 'Scrapeless', 'link': 'https://github.com/scrapeless-ai', 'redirect_link': 'https://www.google.com/url?sa=t&source=web&rct=j&opi=89978449&url=https://github.com/scrapeless-ai&ved=2ahUKEwiLzOej3oOPAxXGhIkEHcj2AT4QFnoECCAQAQ', 'favicon': 'data:image/png;base64,iVBORw0KGgoAAAANSUhEUgAAACAAAAAgCAMAAABEpIrGAAAAb1BMVEX////4+Pi3ubtvcnZNUVU+Q0cpLjLr6+x3en0sMTYkKS59gIORk5aUl5n8/Pzw8PFTV1tbX2Pc3d5DSEzn5+g3PECLjpFKTlKFh4qxs7XCxMUuMze/wcLh4uPV1tZzd3o/Q0jOz9CmqKpjZ2qfoaTxAyfNAAABPUlEQVR4AW3TBYKDMBQE0AltAgzuzur9z7ibH5oKfWjc4UEFl6s2Rl8vgcJZGMX04iTEM5UaPomzHA+KkidVAa/WfKNpffMd32oKCHUlWfb27Q19ZSMVrNHGTMDckMtQLqSegdXGpvi3Sf93W9UudRby2WzsEgL4oMvwoqY1AsrQNfFipbXkCGh1BV6oT1pfRwvfOJlo9ZA5NAonStbmB1pawBuDTAgkX4MzV/eC2H3e0C7lk1aBEzd+7SpigJOZVoXx+J5UxzADil+8+KZYoRaK5y2WZxSdgm0j+dakzkIc2kzT6W3IcFnDTzdt4sKbWMqkpNl229IMsfMmg6UaMsJXmv4qCMXDoI4mO5oADwyFDnGoO3KI0jSHQ6E3eJum5TP4Y+EVyUOGXHZjgWd7ZEwOJzZRjbPQt7mF8P4AzsYZpmkFLF4AAAAASUVORK5CYII=', 'snippet': 'Scrapeless.com offers an enterprise-grade, AI-driven web scraping toolkit designed to help businesses efficiently access public web data.', 'snippet_highlighted_words': ['enterprise-grade, AI-driven web scraping toolkit'], 'source': 'GitHub'}, {'position': 4, 'title': 'Read Customer Service Reviews of scrapeless.com', 'link': 'https://www.trustpilot.com/review/scrapeless.com', 'redirect_link': 'https://www.google.com/url?sa=t&source=web&rct=j&opi=89978449&url=https://www.trustpilot.com/review/scrapeless.com&ved=2ahUKEwiLzOej3oOPAxXGhIkEHcj2AT4QFnoECCIQAQ', 'favicon': 'data:image/png;base64,iVBORw0KGgoAAAANSUhEUgAAABwAAAAcCAMAAABF0y+mAAAAaVBMVEUAAC4AAC0EUkkAACkHiWQAACgKs3oDP0EKvX8HgF8KuX0AACYJr3gKtnsBKTkBIjYAHjUAGTMDREQDPkELwoEETUgACzAIm20AACIGg1cCMTsCXDMARhMGd1sJoXAFd0oHlWMAEDEAFTKjCe25AAAAuUlEQVR4AWIY1ABQC1ngQAwCAfAotkjdXf7/x7qTxm8iyGQVWRb6lJgQ/CkpY/QzKwfgX3mxkFIYedGG0rat1f44neN6M34Atg2Bv9xd57AoZBEs2DOwENlXbYQJ2DeA4HtfKrbloaQdq1enSbpbSBOz40xvcblC5gYKWJQuK/9ngOs5LTRtZ9fYkErbUsaxBKmVkdUBaHqM+wagQEbWqF46QWq+4LdsuNrz8+Yt++H8wUNvFL1f/8sEsfMKSuZ/jrMAAAAASUVORK5CYII=', 'snippet': \"Do you agree with Scrapeless's 4-star rating? Check out what 34 people have written so far, and share your own experience.\", 'snippet_highlighted_words': [\"Scrapeless's 4-star rating\"], 'source': 'Trustpilot'}, {'position': 5, 'title': 'Scrapeless Review: Hands-on Testing and My Opinion', 'link': 'https://geekflare.com/proxy/scrapeless-review/', 'redirect_link': 'https://www.google.com/url?sa=t&source=web&rct=j&opi=89978449&url=https://geekflare.com/proxy/scrapeless-review/&ved=2ahUKEwiLzOej3oOPAxXGhIkEHcj2AT4QFnoECCQQAQ', 'favicon': 'data:image/png;base64,iVBORw0KGgoAAAANSUhEUgAAABwAAAAcCAYAAAByDd+UAAAAtElEQVR4AWJwL/ChKyZL038vBh9Aa3VsAyAMA1G0pM0Q7MIc2YM9mCZ1JmARFoAgXWEh4KQvF7+yxRNJkVFHIMRO1RgIsNCGQYDt/A85xkGKaa+MGgQBprlDszGLJmMeTcY8mo2tDs3EZs3rH5qKqS+0R7CMDvch7Tawc1efRzoB9G3Wv7AAAhRgAQQowAJIUY85EN+pwSzIUWEAROgCnyeOAhCgCORoBSBAAYZAoQVgAEzoAqDcNlRrPzhlAAAAAElFTkSuQmCC', 'snippet': 'Apr 24, 2025 — Apr 24, 2025Scrapeless is a full-stack web scraping solution. It offers browser-based and API-based scraping, AI-powered automation, rotating proxies,\\xa0...', 'snippet_highlighted_words': ['Scrapeless is a full-stack web scraping solution'], 'source': 'Geekflare'}, {'position': 6, 'title': 'Scrapeless Review 2025', 'link': 'https://affmaven.com/scrapeless-review/', 'redirect_link': 'https://www.google.com/url?sa=t&source=web&rct=j&opi=89978449&url=https://affmaven.com/scrapeless-review/&ved=2ahUKEwiLzOej3oOPAxXGhIkEHcj2AT4QFnoECCMQAQ', 'favicon': 'data:image/png;base64,iVBORw0KGgoAAAANSUhEUgAAABwAAAAcCAMAAABF0y+mAAAAyVBMVEUAAAAACgtMLw5gOQBrbWlBQUAAAAaCSw3SdQ/0hQD6iAD////JychaWlhjOg/mgAnsgwiyYgCCRABuPwCGiYWsrKzf3t3S0tIWFhaXVxF5RAA1P0WMkJNCSEsSAAAuLi1JSUdaX2Ln5+VpcXS+ZQAsHw03NzZXNA/29vbDZgDcew7vgwCjo6P8/PwmAABuQg37iACJTgCqXwBkNQAADBt4TBgfLTO1tLIfGAucVgBka24OEQw6KRJ8gYRaLQAmJSRAKg3zmj+1dDFhOp5AAAABTklEQVR4AbXSBXLDMABE0S0pljbMDIZWpjKF4f6HqhNTabj9g55nW4g/6ez84vLqVxEFQypJslj6YeWKqtbqjWarTXa6X62nqn0MhqMxMCmS069mYGaSlu0AuCSvc7uJrEVqWq4nAJSoMxOej4DhNIi+lDUI43bIIMW7+4cRwy5aEfqy8Cg9aKZoS3R4iRiPyachL2MTVfeZJoDTb1+kfyftV77F+K7mC2rTNHWEajm/E9UK2IlxdV9fMy5CB4DnQ5sxOurBOs2ulaCoVBG2YxR+bcDOJ3yXhmARcUYFmpMTukfsyehXw2zzNsPjp0G4qFUcrHwfHW4Rt/Q9mNl/VhXVH8VP8af3c6Gpm1uI3VyqeTxKkjDUA4rkcUxVbcBkE3nCUzUMWuaiZvcx0/G251pT/uMGwKDZJtc/7omhlNoz6q2LnzmF+aHYusS/9wHfciNuVbQeWwAAAABJRU5ErkJggg==', 'snippet': \"My favorite discovery was Scrapeless browser's ability to handle JavaScript-heavy sites. CAPTCHA solving worked flawlessly – I never had to solve one manually.\", 'snippet_highlighted_words': [\"Scrapeless browser's ability to handle JavaScript-heavy sites\"], 'source': 'AffMaven'}, {'position': 7, 'title': 'Meet Scrapeless: The Most Cost-effective No-Code Web ...', 'link': 'https://www.reddit.com/r/AIinBusinessNews/comments/1hylunb/meet_scrapeless_the_most_costeffective_nocode_web/', 'redirect_link': 'https://www.google.com/url?sa=t&source=web&rct=j&opi=89978449&url=https://www.reddit.com/r/AIinBusinessNews/comments/1hylunb/meet_scrapeless_the_most_costeffective_nocode_web/&ved=2ahUKEwiLzOej3oOPAxXGhIkEHcj2AT4QFnoECCYQAQ', 'favicon': 'data:image/png;base64,iVBORw0KGgoAAAANSUhEUgAAABwAAAAcCAMAAABF0y+mAAAAllBMVEVHcEz/RQD/RQD/RQD/RQD/RQD/RQD/RQD/RQD/RQD/RQD/RQD/RgD/RQD+////RQD/PAD/NQD+QgDP3+fb6e7n8PLx9vcKEhX0/f/L1tz+jXL718/+XCr4+vv0e1/olIP6pJDi3N3PqqbfNAn7cU//VgP+9vQyODv1bEb+49rdzc3/v66xu77IXlHlXDhqcHKsLABrLBlRGkQ3AAAADnRSTlMAwkSK1tA47GYdh31HPrF7ujQAAAF5SURBVCiRbZOHcoMwDIahyYUkbW3Z2GbvlT3e/+UqQSCkiY4D5A9bvwaWNdpqYTucO/ZiZf23NYLRnPUL2iyfiEvJl5sn+5khLuJacP41sq85gyNje5joZs7kLWCMhUiHk+fxKu9+YswnuOx1zvd5FZRKHYAc0jzlIAFudwCoU9RLGWHuJEIIABHnx7I85jE6eOHyylqg+DCKwnDPHrYPycd0tpbNIWcfLAduU8hPjDEKymXs07spi2GxKA09/FhyCwNrkzB2FruEFpMqPtO3GgEeC5lKmK4aGRGMRFNplqgM8Fgb1eZ+4l8a3hJseXNBN0e1NqUid9oYE7VDzDYyiTE7San0RSi0Nv6p6zyv606+0boYikC5QOoqpZXXm9JaqRT68vWFh8x1XRVcPe8aKHzN4FH4vmUiDdwgwP10D1JUM7RsaDbw7FDgHrc4ZLzv2GOMfof5gLhO0zoG6Bs2DtH3NHYgh1a+s5lNo7l+Q7OhfoWOvX3+Dn+Ini8glo+XBwAAAABJRU5ErkJggg==', 'snippet': 'This AI web scraping toolkit can handle small-scale projects and millions of requests daily. Scrapeless can be used by businesses, developers,\\xa0...', 'snippet_highlighted_words': ['can handle small-scale projects'], 'source': 'Reddit\\xa0·\\xa0r/AIinBusinessNews'}, {'position': 8, 'title': 'Scrapeless - AI Agent', 'link': 'https://aiagentstore.ai/ai-agent/scrapeless', 'redirect_link': 'https://www.google.com/url?sa=t&source=web&rct=j&opi=89978449&url=https://aiagentstore.ai/ai-agent/scrapeless&ved=2ahUKEwiLzOej3oOPAxXGhIkEHcj2AT4QFnoECCUQAQ', 'snippet': 'Feb 6, 2025 — Feb 6, 2025Scrapeless is an AI-driven web scraping toolkit designed to provide enterprises with efficient access to public web data.', 'snippet_highlighted_words': ['Scrapeless'], 'source': 'AI Agent Store'}, {'position': 9, 'title': 'Scrapeless Reviews 2025: Details, Pricing, & Features', 'link': 'https://www.g2.com/products/scrapeless/reviews', 'redirect_link': 'https://www.google.com/url?sa=t&source=web&rct=j&opi=89978449&url=https://www.g2.com/products/scrapeless/reviews&ved=2ahUKEwiLzOej3oOPAxXGhIkEHcj2AT4QFnoECCEQAQ', 'favicon': 'data:image/png;base64,iVBORw0KGgoAAAANSUhEUgAAABwAAAAcCAMAAABF0y+mAAAARVBMVEVHcEz/SSz/SSz/SSz/SSz/SSz/SSz/SSz/SSz/Rij/OxT/MwP/QB7/Xkj/xL3/7er/////rqX/e2v/o5j/VDr/2tb/hndKbI9iAAAACXRSTlMAOobC7P9gGN5ICTTmAAAA70lEQVR4AYSSgaqGIAxGq1zlprpUff9HvczxC16BDkDBwfltbhvsx2kAzHns238uAwNzTep+YOK5t8EOC/vqVnuDYpGIHFhnQdDKjzr0ITK/lHLp9uk51dHLgs0cGEGQzEZd6C4gYGKnHf3SYD9X32KxcnK/TEfPAuIaOesypwTKsZ3ycVkc9r9aIyinXomVORII3vviVJpN40TJMnIVq3aW1rNQSeVcFiN3mtOyU6DSWmrargSaW0EkXwKztdrKPIQcuBJn1CFM41NaG+ObBy8Egs61PFkMSR0862MTOlDurzVZrbrv1fxe6r/hyA4A+NwVfRGs2dYAAAAASUVORK5CYII=', 'snippet': 'Scrapeless is a powerful and flexible web scraping solution that helps businesses of all sizes access critical public web data with ease.', 'snippet_highlighted_words': ['Scrapeless is a powerful and flexible web scraping solution'], 'source': 'G2'}], 'pagination': {'current': 1, 'next': 'https://www.google.com/search?q=I+want+to+know+Scrapeless&sca_esv=81a4eb9d017737df&gl=us&hl=en&ei=UWWaaMvfCsaJptQPyO2H8AM&start=10&sa=N&sstk=Ac65TH4S2Efk7veeqCXMSTw9cckfRJtP6_2AWF4wscNLO3ZE5TqDrBT8EHxsHOWi1jbiCPF8cF_COPsIAQ0Ud4fn5jmzYdfcqH6CQg&ved=2ahUKEwiLzOej3oOPAxXGhIkEHcj2AT4Q8NMDegQIChAW', 'other_pages': {'10': 'https://www.google.com/search?q=I+want+to+know+Scrapeless&sca_esv=81a4eb9d017737df&gl=us&hl=en&ei=UWWaaMvfCsaJptQPyO2H8AM&start=90&sa=N&sstk=Ac65TH4S2Efk7veeqCXMSTw9cckfRJtP6_2AWF4wscNLO3ZE5TqDrBT8EHxsHOWi1jbiCPF8cF_COPsIAQ0Ud4fn5jmzYdfcqH6CQg&ved=2ahUKEwiLzOej3oOPAxXGhIkEHcj2AT4Q8tMDegQIChAU', '2': 'https://www.google.com/search?q=I+want+to+know+Scrapeless&sca_esv=81a4eb9d017737df&gl=us&hl=en&ei=UWWaaMvfCsaJptQPyO2H8AM&start=10&sa=N&sstk=Ac65TH4S2Efk7veeqCXMSTw9cckfRJtP6_2AWF4wscNLO3ZE5TqDrBT8EHxsHOWi1jbiCPF8cF_COPsIAQ0Ud4fn5jmzYdfcqH6CQg&ved=2ahUKEwiLzOej3oOPAxXGhIkEHcj2AT4Q8tMDegQIChAE', '3': 'https://www.google.com/search?q=I+want+to+know+Scrapeless&sca_esv=81a4eb9d017737df&gl=us&hl=en&ei=UWWaaMvfCsaJptQPyO2H8AM&start=20&sa=N&sstk=Ac65TH4S2Efk7veeqCXMSTw9cckfRJtP6_2AWF4wscNLO3ZE5TqDrBT8EHxsHOWi1jbiCPF8cF_COPsIAQ0Ud4fn5jmzYdfcqH6CQg&ved=2ahUKEwiLzOej3oOPAxXGhIkEHcj2AT4Q8tMDegQIChAG', '4': 'https://www.google.com/search?q=I+want+to+know+Scrapeless&sca_esv=81a4eb9d017737df&gl=us&hl=en&ei=UWWaaMvfCsaJptQPyO2H8AM&start=30&sa=N&sstk=Ac65TH4S2Efk7veeqCXMSTw9cckfRJtP6_2AWF4wscNLO3ZE5TqDrBT8EHxsHOWi1jbiCPF8cF_COPsIAQ0Ud4fn5jmzYdfcqH6CQg&ved=2ahUKEwiLzOej3oOPAxXGhIkEHcj2AT4Q8tMDegQIChAI', '5': 'https://www.google.com/search?q=I+want+to+know+Scrapeless&sca_esv=81a4eb9d017737df&gl=us&hl=en&ei=UWWaaMvfCsaJptQPyO2H8AM&start=40&sa=N&sstk=Ac65TH4S2Efk7veeqCXMSTw9cckfRJtP6_2AWF4wscNLO3ZE5TqDrBT8EHxsHOWi1jbiCPF8cF_COPsIAQ0Ud4fn5jmzYdfcqH6CQg&ved=2ahUKEwiLzOej3oOPAxXGhIkEHcj2AT4Q8tMDegQIChAK', '6': 'https://www.google.com/search?q=I+want+to+know+Scrapeless&sca_esv=81a4eb9d017737df&gl=us&hl=en&ei=UWWaaMvfCsaJptQPyO2H8AM&start=50&sa=N&sstk=Ac65TH4S2Efk7veeqCXMSTw9cckfRJtP6_2AWF4wscNLO3ZE5TqDrBT8EHxsHOWi1jbiCPF8cF_COPsIAQ0Ud4fn5jmzYdfcqH6CQg&ved=2ahUKEwiLzOej3oOPAxXGhIkEHcj2AT4Q8tMDegQIChAM', '7': 'https://www.google.com/search?q=I+want+to+know+Scrapeless&sca_esv=81a4eb9d017737df&gl=us&hl=en&ei=UWWaaMvfCsaJptQPyO2H8AM&start=60&sa=N&sstk=Ac65TH4S2Efk7veeqCXMSTw9cckfRJtP6_2AWF4wscNLO3ZE5TqDrBT8EHxsHOWi1jbiCPF8cF_COPsIAQ0Ud4fn5jmzYdfcqH6CQg&ved=2ahUKEwiLzOej3oOPAxXGhIkEHcj2AT4Q8tMDegQIChAO', '8': 'https://www.google.com/search?q=I+want+to+know+Scrapeless&sca_esv=81a4eb9d017737df&gl=us&hl=en&ei=UWWaaMvfCsaJptQPyO2H8AM&start=70&sa=N&sstk=Ac65TH4S2Efk7veeqCXMSTw9cckfRJtP6_2AWF4wscNLO3ZE5TqDrBT8EHxsHOWi1jbiCPF8cF_COPsIAQ0Ud4fn5jmzYdfcqH6CQg&ved=2ahUKEwiLzOej3oOPAxXGhIkEHcj2AT4Q8tMDegQIChAQ', '9': 'https://www.google.com/search?q=I+want+to+know+Scrapeless&sca_esv=81a4eb9d017737df&gl=us&hl=en&ei=UWWaaMvfCsaJptQPyO2H8AM&start=80&sa=N&sstk=Ac65TH4S2Efk7veeqCXMSTw9cckfRJtP6_2AWF4wscNLO3ZE5TqDrBT8EHxsHOWi1jbiCPF8cF_COPsIAQ0Ud4fn5jmzYdfcqH6CQg&ved=2ahUKEwiLzOej3oOPAxXGhIkEHcj2AT4Q8tMDegQIChAS'}}, 'related_questions': [{'question': 'How much does simplescraper cost?', 'snippet': 'Simplescraper Pricing Plans Free: $0/month \\\\u2013 100 cloud scrape credits per month. Unlimited local (in-browser) scrapes, but limited cloud automation. Plus: $39/month \\\\u2013 ~6,000 cloud scrape credits. Adds recipe storage and priority email support.', 'date': 'May 20, 2025'}, {'question': 'Can websites detect scrapers?', 'snippet': \"The number one way sites detect web scrapers is by examining their IP address and tracking how it's behaving. If the server finds a pattern, strange behaviors, or an impossible request frequency (to name a few) for a real user, the server can block the IP address from accessing the site again.\", 'date': 'Jan 23, 2025'}, {'question': 'What is an example of scraping?', 'snippet': 'Web scraping refers to the extraction of web data on to a format that is more useful for the user. For example, you might scrape product information from an ecommerce website onto an excel spreadsheet. Although web scraping can be done manually, in most cases, you might be better off using an automated tool.', 'date': 'Feb 1, 2022'}, {'question': 'How do I scrape 99% of websites?', 'snippet': 'Bypass Anti-Bot Protections Websites often block scraping attempts using TLS fingerprinting or IP monitoring. To avoid these roadblocks: Use rotating proxies to mimic real users. Set headers, such as a custom User-Agent , to make requests look like they come from a browser.', 'date': 'Jan 15, 2025'}], 'related_searches': [{'block_position': '3', 'query': 'I want to know scrapeless javascript', 'link': 'htts://www.google.com/search?sca_esv=81a4eb9d017737df&gl=us&hl=en&q=I+want+to+know+scrapeless+javascript&sa=X&ved=2ahUKEwiLzOej3oOPAxXGhIkEHcj2AT4Q1QJ6BAg-EAE'}, {'block_position': '3', 'query': 'I want to know scrapeless github', 'link': 'htts://www.google.com/search?sca_esv=81a4eb9d017737df&gl=us&hl=en&q=I+want+to+know+scrapeless+github&sa=X&ved=2ahUKEwiLzOej3oOPAxXGhIkEHcj2AT4Q1QJ6BAg_EAE'}, {'block_position': '3', 'query': 'I want to know scrapeless html', 'link': 'htts://www.google.com/search?sca_esv=81a4eb9d017737df&gl=us&hl=en&q=I+want+to+know+scrapeless+html&sa=X&ved=2ahUKEwiLzOej3oOPAxXGhIkEHcj2AT4Q1QJ6BAg8EAE'}, {'block_position': '3', 'query': 'Zenrow', 'link': 'htts://www.google.com/search?sca_esv=81a4eb9d017737df&gl=us&hl=en&q=Zenrow&sa=X&ved=2ahUKEwiLzOej3oOPAxXGhIkEHcj2AT4Q1QJ6BAg7EAE'}, {'block_position': '3', 'query': 'ZenRows tutorial', 'link': 'htts://www.google.com/search?sca_esv=81a4eb9d017737df&gl=us&hl=en&q=ZenRows+tutorial&sa=X&ved=2ahUKEwiLzOej3oOPAxXGhIkEHcj2AT4Q1QJ6BAg3EAE'}, {'block_position': '3', 'query': 'Zenrows screenshot', 'link': 'htts://www.google.com/search?sca_esv=81a4eb9d017737df&gl=us&hl=en&q=Zenrows+screenshot&sa=X&ved=2ahUKEwiLzOej3oOPAxXGhIkEHcj2AT4Q1QJ6BAgrEAE'}], 'search_information': {'organic_results_state': 'Results for exact spelling', 'query_displayed': 'I want to know Scrapeless', 'total_results': 0, 'time_taken_displayed': ''}}\n"
     ]
    }
   ],
   "source": [
    "from langchain_scrapeless import ScrapelessDeepSerpGoogleSearchTool\n",
    "\n",
    "tool = ScrapelessDeepSerpGoogleSearchTool()\n",
    "\n",
    "# Basic usage\n",
    "result = tool.invoke(\"I want to know Scrapeless\")\n",
    "print(result)"
   ]
  },
  {
   "cell_type": "markdown",
   "id": "d6e73897",
   "metadata": {},
   "source": [
    "#### Advanced Usage with Parameters"
   ]
  },
  {
   "cell_type": "code",
   "execution_count": null,
   "id": "f90e33a7",
   "metadata": {},
   "outputs": [
    {
     "name": "stdout",
     "output_type": "stream",
     "text": [
      "{'inline_videos': [{'position': 1, 'title': 'How This AI Tool Makes Web Scraping Cheaper & 10x ...', 'link': 'https://www.youtube.com/watch?v=4xQ1UVxW0Pc', 'channel': 'SkillCurb', 'duration': '7:44', 'platform': 'YouTube', 'key_moments': [{'time': '00:00', 'title': 'Introduction', 'link': 'https://www.youtube.com/watch?v=4xQ1UVxW0Pc&t=0', 'thumbnail': 'https://encrypted-tbn0.gstatic.com/images?q=tbn:ANd9GcQa-iXYOifpWDZZJLq8V45waX8C_mRTvar2rFgKASqipA&s'}, {'time': '00:20', 'title': 'Overview', 'link': 'https://www.youtube.com/watch?v=4xQ1UVxW0Pc&t=20', 'thumbnail': 'https://encrypted-tbn0.gstatic.com/images?q=tbn:ANd9GcQ2I1-L6_cnRoz_nbhUYcLsG8KOjJL8aM2tMZAez_zigg&s'}, {'time': '01:20', 'title': 'How to Use SERP API', 'link': 'https://www.youtube.com/watch?v=4xQ1UVxW0Pc&t=80', 'thumbnail': 'https://encrypted-tbn0.gstatic.com/images?q=tbn:ANd9GcRettKVpkN7yFSzZBeYPNhmhTdhzmjSJ3p4vTP9oY5VmA&s'}, {'time': '03:30', 'title': 'Additional Features', 'link': 'https://www.youtube.com/watch?v=4xQ1UVxW0Pc&t=210', 'thumbnail': 'https://encrypted-tbn0.gstatic.com/images?q=tbn:ANd9GcRBSPraPiDau9kIyxZbygn_csUKH3q8Eop_E8jzYTyBOg&s'}, {'time': '07:05', 'title': 'Final Thoughts', 'link': 'https://www.youtube.com/watch?v=4xQ1UVxW0Pc&t=425', 'thumbnail': 'https://encrypted-tbn0.gstatic.com/images?q=tbn:ANd9GcSiSXSUSq3hJH7XOukFzMfXWj7iVcb-F2b9Lwug0KjXHQ&s'}]}, {'position': 2, 'title': '[100% DONE] How to Bypass Cloudflare | Fast & Secure ...', 'link': 'https://www.youtube.com/watch?v=5brhS7FpcuE', 'channel': 'Daniel | Tech & Data', 'duration': '10:10', 'platform': 'YouTube', 'key_moments': [{'time': '00:00', 'title': 'Scrapeless Review', 'link': 'https://www.youtube.com/watch?v=5brhS7FpcuE&t=0', 'thumbnail': 'https://encrypted-tbn0.gstatic.com/images?q=tbn:ANd9GcT5fwopDijht5tfX5x2M2vdZ3EmXYZdSSUq-1aVO_f1uw&s'}, {'time': '00:41', 'title': 'What Is Scrapeless?', 'link': 'https://www.youtube.com/watch?v=5brhS7FpcuE&t=41', 'thumbnail': 'https://encrypted-tbn0.gstatic.com/images?q=tbn:ANd9GcRym_G7tzv4Oykpw1pJliD4-eTwdbS22UqSooTUJcGYGQ&s'}, {'time': '02:38', 'title': 'How to Bypass Cloudflare When Web Scraping Using Scrapeless Scraping Browser', 'link': 'https://www.youtube.com/watch?v=5brhS7FpcuE&t=158', 'thumbnail': 'https://encrypted-tbn0.gstatic.com/images?q=tbn:ANd9GcSG0OEEi89Kvgcje0HSledZVZG1XGF4VevxM0C_z1MPsw&s'}, {'time': '08:57', 'title': 'Final Thoughts', 'link': 'https://www.youtube.com/watch?v=5brhS7FpcuE&t=537', 'thumbnail': 'https://encrypted-tbn0.gstatic.com/images?q=tbn:ANd9GcQaQKuz16Q7C5xPWWanLZYCeEo2VPAlj3FpKWXQ6lSbEg&s'}]}, {'position': 3, 'title': 'Scrapeless + N8N + Cline,Roo,Kilo : This CRAZY DEEP ...', 'link': 'https://www.youtube.com/watch?v=mDhdJWyo4uY', 'channel': 'AICodeKing', 'duration': '8:04', 'platform': 'YouTube'}], 'metadata': {'engine': 'google.search', 'rawUrl': 'https://api.scrapeless.com/storage/scrapeless.scraper.google.search/a68966fbee93aebd47a3cbac944eaab5/510b01c4cc6c1a898a06ceb6c8994451_1754948948.html'}, 'organic_results': [{'position': 1, 'snippet': 'Scrapeless offers AI-powered, robust, and scalable web scraping and automation services trusted by leading enterprises. Our enterprise-grade solutions are\\xa0...', 'site_links': {'expanded': [{'title': 'Pricing', 'link': 'https://www.scrapeless.com/en/pricing', 'snippet': 'Scrapeless offers AI-powered, robust, and scalable web ...'}, {'title': 'Scraping Browser', 'link': 'https://www.scrapeless.com/en/product/scraping-browser', 'snippet': 'Scrapeless offers AI-powered, robust, and scalable web ...'}, {'title': 'Web Scraping Services', 'link': 'https://www.scrapeless.com/en/product', 'snippet': 'Experience AI-driven web scraping with Scrapeless! Try Scraping ...'}, {'title': 'Sign up', 'link': 'https://app.scrapeless.com/passport/register', 'snippet': 'Scrapeless is the best full-stack web scraping toolkit offering ...'}, {'title': 'Scraping API', 'link': 'https://www.scrapeless.com/en/product/scraping-api', 'snippet': 'Effortlessly extract structured data at scale from popular websites ...'}, {'title': 'More results from scrapeless.com\\xa0»', 'link': '/search?q=Scrapeless+site:scrapeless.com&sca_esv=81a4eb9d017737df&gl=us&hl=en&sa=X&ved=2ahUKEwjineOk3oOPAxUsrpUCHQ5nGp8QrAN6BAgdEAE'}]}, 'source': 'ScrapelessScrapeless'}, {'position': 2, 'title': 'Scrapeless', 'link': 'https://github.com/scrapeless-ai', 'redirect_link': 'https://www.google.com/url?sa=t&source=web&rct=j&opi=89978449&url=https://github.com/scrapeless-ai&ved=2ahUKEwjineOk3oOPAxUsrpUCHQ5nGp8QFnoECBgQAQ', 'favicon': 'data:image/png;base64,iVBORw0KGgoAAAANSUhEUgAAACAAAAAgCAMAAABEpIrGAAAAb1BMVEX////4+Pi3ubtvcnZNUVU+Q0cpLjLr6+x3en0sMTYkKS59gIORk5aUl5n8/Pzw8PFTV1tbX2Pc3d5DSEzn5+g3PECLjpFKTlKFh4qxs7XCxMUuMze/wcLh4uPV1tZzd3o/Q0jOz9CmqKpjZ2qfoaTxAyfNAAABPUlEQVR4AW3TBYKDMBQE0AltAgzuzur9z7ibH5oKfWjc4UEFl6s2Rl8vgcJZGMX04iTEM5UaPomzHA+KkidVAa/WfKNpffMd32oKCHUlWfb27Q19ZSMVrNHGTMDckMtQLqSegdXGpvi3Sf93W9UudRby2WzsEgL4oMvwoqY1AsrQNfFipbXkCGh1BV6oT1pfRwvfOJlo9ZA5NAonStbmB1pawBuDTAgkX4MzV/eC2H3e0C7lk1aBEzd+7SpigJOZVoXx+J5UxzADil+8+KZYoRaK5y2WZxSdgm0j+dakzkIc2kzT6W3IcFnDTzdt4sKbWMqkpNl229IMsfMmg6UaMsJXmv4qCMXDoI4mO5oADwyFDnGoO3KI0jSHQ6E3eJum5TP4Y+EVyUOGXHZjgWd7ZEwOJzZRjbPQt7mF8P4AzsYZpmkFLF4AAAAASUVORK5CYII=', 'snippet': 'Scrapeless.com offers an enterprise-grade, AI-driven web scraping toolkit designed to help businesses efficiently access public web data.', 'snippet_highlighted_words': ['enterprise-grade, AI-driven web scraping toolkit'], 'source': 'GitHub'}, {'position': 3, 'title': 'Scrapeless', 'link': 'https://www.linkedin.com/company/scrapeless', 'redirect_link': 'https://www.google.com/url?sa=t&source=web&rct=j&opi=89978449&url=https://www.linkedin.com/company/scrapeless&ved=2ahUKEwjineOk3oOPAxUsrpUCHQ5nGp8QFnoECEkQAQ', 'favicon': 'data:image/png;base64,iVBORw0KGgoAAAANSUhEUgAAABAAAAAQCAYAAAAf8/9hAAAAm0lEQVR4AWP4//8/RRhMyLfs3sNQvOk/KRikB24ATNB2yhEQJtoQuAEwzVAAYtPVAMJe4Cjf8l+0bsd/RkIGQAGc/ej9t/+TDt/7/+vPXzD/6Yfv/+2nHSXWAAT49P33/z9//4HZl559JM2Aqm3XwXyXGcfA/H///pFmgFj9DjCfp3IrTIgkA5ADbbAbQA6mKDPp9x7YBTOAIgwAVba5DGceMlQAAAAASUVORK5CYII=', 'snippet': 'Scrapeless has developed a powerful and flexible web scraping toolkit specifically designed for enterprises, enabling them to easily and efficiently access\\xa0...', 'snippet_highlighted_words': ['Scrapeless'], 'source': 'LinkedIn\\xa0·\\xa0Scrapeless'}, {'position': 4, 'title': 'Scrapeless - Crunchbase Company Profile & Funding', 'link': 'https://www.crunchbase.com/organization/scrapeless', 'redirect_link': 'https://www.google.com/url?sa=t&source=web&rct=j&opi=89978449&url=https://www.crunchbase.com/organization/scrapeless&ved=2ahUKEwjineOk3oOPAxUsrpUCHQ5nGp8QFnoECEoQAQ', 'favicon': 'data:image/png;base64,iVBORw0KGgoAAAANSUhEUgAAABwAAAAcBAMAAACAI8KnAAAAIVBMVEUTav8DZf8AXf9Xiv////+KrP8oc//O2/+kvv/0+P/b5v/gmsTqAAAAfklEQVR4AWOgNxASQOYxmgQSyWUSU2Q0CUpUgMqku3gompS4FAhAuFNWTGky8ezyhHAlPJQ0HUwmCbU0grnqTgxMikCjVIogXEcGgQSTIAYRCFfUXSnF0WSaUkkgxJ4ls1yCTFxWekFt0piyWNG8y7MJ5iQlRQYhISUBegYZAIzOGVhxAEKFAAAAAElFTkSuQmCC', 'snippet': 'Scrapeless is an innovative web scraping and data extraction company specializing in providing powerful, scalable, and flexible solutions for enterprises.', 'snippet_highlighted_words': ['an innovative web scraping and data extraction company'], 'source': 'Crunchbase'}, {'position': 5, 'title': 'Scrapeless Review: Hands-on Testing and My Opinion', 'link': 'https://geekflare.com/proxy/scrapeless-review/', 'redirect_link': 'https://www.google.com/url?sa=t&source=web&rct=j&opi=89978449&url=https://geekflare.com/proxy/scrapeless-review/&ved=2ahUKEwjineOk3oOPAxUsrpUCHQ5nGp8QFnoECE4QAQ', 'favicon': 'data:image/png;base64,iVBORw0KGgoAAAANSUhEUgAAABwAAAAcCAYAAAByDd+UAAAAtElEQVR4AWJwL/ChKyZL038vBh9Aa3VsAyAMA1G0pM0Q7MIc2YM9mCZ1JmARFoAgXWEh4KQvF7+yxRNJkVFHIMRO1RgIsNCGQYDt/A85xkGKaa+MGgQBprlDszGLJmMeTcY8mo2tDs3EZs3rH5qKqS+0R7CMDvch7Tawc1efRzoB9G3Wv7AAAhRgAQQowAJIUY85EN+pwSzIUWEAROgCnyeOAhCgCORoBSBAAYZAoQVgAEzoAqDcNlRrPzhlAAAAAElFTkSuQmCC', 'snippet': 'Apr 24, 2025 — Apr 24, 2025Scrapeless is an excellent choice for businesses, developers, and data professionals who need a powerful, AI-driven web scraping solution.', 'snippet_highlighted_words': ['Scrapeless'], 'source': 'Geekflare'}, {'position': 6, 'title': 'Read Customer Service Reviews of scrapeless.com', 'link': 'https://www.trustpilot.com/review/scrapeless.com', 'redirect_link': 'https://www.google.com/url?sa=t&source=web&rct=j&opi=89978449&url=https://www.trustpilot.com/review/scrapeless.com&ved=2ahUKEwjineOk3oOPAxUsrpUCHQ5nGp8QFnoECEwQAQ', 'favicon': 'data:image/png;base64,iVBORw0KGgoAAAANSUhEUgAAABwAAAAcCAMAAABF0y+mAAAAaVBMVEUAAC4AAC0EUkkAACkHiWQAACgKs3oDP0EKvX8HgF8KuX0AACYJr3gKtnsBKTkBIjYAHjUAGTMDREQDPkELwoEETUgACzAIm20AACIGg1cCMTsCXDMARhMGd1sJoXAFd0oHlWMAEDEAFTKjCe25AAAAuUlEQVR4AWIY1ABQC1ngQAwCAfAotkjdXf7/x7qTxm8iyGQVWRb6lJgQ/CkpY/QzKwfgX3mxkFIYedGG0rat1f44neN6M34Atg2Bv9xd57AoZBEs2DOwENlXbYQJ2DeA4HtfKrbloaQdq1enSbpbSBOz40xvcblC5gYKWJQuK/9ngOs5LTRtZ9fYkErbUsaxBKmVkdUBaHqM+wagQEbWqF46QWq+4LdsuNrz8+Yt++H8wUNvFL1f/8sEsfMKSuZ/jrMAAAAASUVORK5CYII=', 'snippet': \"Do you agree with Scrapeless's 4-star rating? Check out what 34 people have written so far, and share your own experience.\", 'snippet_highlighted_words': [\"Scrapeless's 4-star rating\"], 'source': 'Trustpilot'}], 'pagination': {'current': 1, 'next': 'https://www.google.com/search?q=Scrapeless&sca_esv=81a4eb9d017737df&gl=us&hl=en&ei=U2WaaKKoDKzc1sQPjs7p-Ak&start=10&sa=N&sstk=Ac65TH5XpLz_rkhp583Of7nAh8bK-zcYHvYSNYVUJ_2S4NE58P8BKBgFGrJXmXbv5UCifNmvb1_ZzdOwJ0hVniny2xj6gAe8z5cK_w&ved=2ahUKEwjineOk3oOPAxUsrpUCHQ5nGp8Q8NMDegQICxAS', 'other_pages': {'2': 'https://www.google.com/search?q=Scrapeless&sca_esv=81a4eb9d017737df&gl=us&hl=en&ei=U2WaaKKoDKzc1sQPjs7p-Ak&start=10&sa=N&sstk=Ac65TH5XpLz_rkhp583Of7nAh8bK-zcYHvYSNYVUJ_2S4NE58P8BKBgFGrJXmXbv5UCifNmvb1_ZzdOwJ0hVniny2xj6gAe8z5cK_w&ved=2ahUKEwjineOk3oOPAxUsrpUCHQ5nGp8Q8tMDegQICxAE', '3': 'https://www.google.com/search?q=Scrapeless&sca_esv=81a4eb9d017737df&gl=us&hl=en&ei=U2WaaKKoDKzc1sQPjs7p-Ak&start=20&sa=N&sstk=Ac65TH5XpLz_rkhp583Of7nAh8bK-zcYHvYSNYVUJ_2S4NE58P8BKBgFGrJXmXbv5UCifNmvb1_ZzdOwJ0hVniny2xj6gAe8z5cK_w&ved=2ahUKEwjineOk3oOPAxUsrpUCHQ5nGp8Q8tMDegQICxAG', '4': 'https://www.google.com/search?q=Scrapeless&sca_esv=81a4eb9d017737df&gl=us&hl=en&ei=U2WaaKKoDKzc1sQPjs7p-Ak&start=30&sa=N&sstk=Ac65TH5XpLz_rkhp583Of7nAh8bK-zcYHvYSNYVUJ_2S4NE58P8BKBgFGrJXmXbv5UCifNmvb1_ZzdOwJ0hVniny2xj6gAe8z5cK_w&ved=2ahUKEwjineOk3oOPAxUsrpUCHQ5nGp8Q8tMDegQICxAI', '5': 'https://www.google.com/search?q=Scrapeless&sca_esv=81a4eb9d017737df&gl=us&hl=en&ei=U2WaaKKoDKzc1sQPjs7p-Ak&start=40&sa=N&sstk=Ac65TH5XpLz_rkhp583Of7nAh8bK-zcYHvYSNYVUJ_2S4NE58P8BKBgFGrJXmXbv5UCifNmvb1_ZzdOwJ0hVniny2xj6gAe8z5cK_w&ved=2ahUKEwjineOk3oOPAxUsrpUCHQ5nGp8Q8tMDegQICxAK', '6': 'https://www.google.com/search?q=Scrapeless&sca_esv=81a4eb9d017737df&gl=us&hl=en&ei=U2WaaKKoDKzc1sQPjs7p-Ak&start=50&sa=N&sstk=Ac65TH5XpLz_rkhp583Of7nAh8bK-zcYHvYSNYVUJ_2S4NE58P8BKBgFGrJXmXbv5UCifNmvb1_ZzdOwJ0hVniny2xj6gAe8z5cK_w&ved=2ahUKEwjineOk3oOPAxUsrpUCHQ5nGp8Q8tMDegQICxAM', '7': 'https://www.google.com/search?q=Scrapeless&sca_esv=81a4eb9d017737df&gl=us&hl=en&ei=U2WaaKKoDKzc1sQPjs7p-Ak&start=60&sa=N&sstk=Ac65TH5XpLz_rkhp583Of7nAh8bK-zcYHvYSNYVUJ_2S4NE58P8BKBgFGrJXmXbv5UCifNmvb1_ZzdOwJ0hVniny2xj6gAe8z5cK_w&ved=2ahUKEwjineOk3oOPAxUsrpUCHQ5nGp8Q8tMDegQICxAO', '8': 'https://www.google.com/search?q=Scrapeless&sca_esv=81a4eb9d017737df&gl=us&hl=en&ei=U2WaaKKoDKzc1sQPjs7p-Ak&start=70&sa=N&sstk=Ac65TH5XpLz_rkhp583Of7nAh8bK-zcYHvYSNYVUJ_2S4NE58P8BKBgFGrJXmXbv5UCifNmvb1_ZzdOwJ0hVniny2xj6gAe8z5cK_w&ved=2ahUKEwjineOk3oOPAxUsrpUCHQ5nGp8Q8tMDegQICxAQ'}}, 'related_questions': [{'question': 'What is scraping?', 'snippet': 'Scraping, in the context of computers, refers to the automated extraction of data from websites or other sources.'}, {'question': 'How much do web scrapers get paid?', 'snippet': 'Web scrapers can earn varying amounts depending on their experience, location, and the specific nature of their work (freelance vs. full-time, etc.).'}, {'question': 'Can sites detect web scraping?', 'snippet': \"The number one way sites detect web scrapers is by examining their IP address and tracking how it's behaving. If the server finds a pattern, strange behaviors, or an impossible request frequency (to name a few) for a real user, the server can block the IP address from accessing the site again.\"}, {'question': 'Can AutoGPT do web scraping?', 'snippet': 'Web Scraping: AutoGPT can extract data from websites through web scraping. It can gather the necessary information based on the specific task you want to complete.', 'date': 'Nov 29, 2023'}], 'related_searches': [{'block_position': '3', 'query': 'Scrapeless Shopee', 'link': 'htts://www.google.com/search?sca_esv=81a4eb9d017737df&gl=us&hl=en&q=Scrapeless+Shopee&sa=X&ved=2ahUKEwjineOk3oOPAxUsrpUCHQ5nGp8Q1QJ6BAhNEAE'}, {'block_position': '3', 'query': 'Scrapeless pricing', 'link': 'htts://www.google.com/search?sca_esv=81a4eb9d017737df&gl=us&hl=en&q=Scrapeless+pricing&sa=X&ved=2ahUKEwjineOk3oOPAxUsrpUCHQ5nGp8Q1QJ6BAhIEAE'}, {'block_position': '3', 'query': 'Scrapeless app', 'link': 'htts://www.google.com/search?sca_esv=81a4eb9d017737df&gl=us&hl=en&q=Scrapeless+app&sa=X&ved=2ahUKEwjineOk3oOPAxUsrpUCHQ5nGp8Q1QJ6BAhEEAE'}, {'block_position': '3', 'query': 'Scrapeless software', 'link': 'htts://www.google.com/search?sca_esv=81a4eb9d017737df&gl=us&hl=en&q=Scrapeless+software&sa=X&ved=2ahUKEwjineOk3oOPAxUsrpUCHQ5nGp8Q1QJ6BAhBEAE'}, {'block_position': '3', 'query': 'Scrapeless mcp server', 'link': 'htts://www.google.com/search?sca_esv=81a4eb9d017737df&gl=us&hl=en&q=Scrapeless+mcp+server&sa=X&ved=2ahUKEwjineOk3oOPAxUsrpUCHQ5nGp8Q1QJ6BAg_EAE'}, {'block_position': '3', 'query': 'ScrapeGraphAI', 'link': 'htts://www.google.com/search?sca_esv=81a4eb9d017737df&gl=us&hl=en&q=ScrapeGraphAI&sa=X&ved=2ahUKEwjineOk3oOPAxUsrpUCHQ5nGp8Q1QJ6BAg8EAE'}, {'block_position': '3', 'query': 'Octoparse', 'link': 'htts://www.google.com/search?sca_esv=81a4eb9d017737df&gl=us&hl=en&q=Octoparse&sa=X&ved=2ahUKEwjineOk3oOPAxUsrpUCHQ5nGp8Q1QJ6BAg6EAE'}, {'block_position': '3', 'query': 'N8n', 'link': 'htts://www.google.com/search?sca_esv=81a4eb9d017737df&gl=us&hl=en&q=N8n&sa=X&ved=2ahUKEwjineOk3oOPAxUsrpUCHQ5nGp8Q1QJ6BAg4EAE'}], 'search_information': {'organic_results_state': 'Results for exact spelling', 'query_displayed': 'Scrapeless', 'total_results': 0, 'time_taken_displayed': ''}, 'things_to_know': {'buttons': [{'text': 'Legal Status', 'subtitle': 'How legal is web scraping?', 'displayed_link': 'https://', 'search_link': '/search?sca_esv=81a4eb9d017737df&gl=us&hl=en&q=how legal is web scraping&sa=X&ved=2ahUKEwjineOk3oOPAxUsrpUCHQ5nGp8QrooIegQIHBAJ'}, {'text': 'Instructions', 'subtitle': 'how to web scraping', 'displayed_link': 'https://'}, {'text': 'Benefits', 'subtitle': 'web scraping benefits', 'displayed_link': 'https://', 'search_link': '/search?sca_esv=81a4eb9d017737df&gl=us&hl=en&q=web scraping benefits&sa=X&ved=2ahUKEwjineOk3oOPAxUsrpUCHQ5nGp8QrooIegQIHBAZ'}]}}\n"
     ]
    }
   ],
   "source": [
    "from langchain_scrapeless import ScrapelessDeepSerpGoogleSearchTool\n",
    "\n",
    "tool = ScrapelessDeepSerpGoogleSearchTool()\n",
    "\n",
    "# Advanced usage\n",
    "result = tool.invoke({\"q\": \"Scrapeless\", \"hl\": \"en\", \"google_domain\": \"google.com\"})\n",
    "print(result)"
   ]
  },
  {
   "cell_type": "markdown",
   "id": "659f9fbd-6fcf-445f-aa8c-72d8e60154bd",
   "metadata": {},
   "source": [
    "#### Use within an agent"
   ]
  },
  {
   "cell_type": "code",
   "execution_count": null,
   "id": "af3123ad-7a02-40e5-b58e-7d56e23e5830",
   "metadata": {},
   "outputs": [
    {
     "name": "stdout",
     "output_type": "stream",
     "text": [
      "================================\u001b[1m Human Message \u001b[0m=================================\n",
      "\n",
      "I want to what is Scrapeless\n",
      "==================================\u001b[1m Ai Message \u001b[0m==================================\n",
      "Tool Calls:\n",
      "  scrapeless_deepserp_google_search (call_wqdCO6YiU1bkxpSuqXaht87f)\n",
      " Call ID: call_wqdCO6YiU1bkxpSuqXaht87f\n",
      "  Args:\n",
      "    q: What is Scrapeless\n",
      "=================================\u001b[1m Tool Message \u001b[0m=================================\n",
      "Name: scrapeless_deepserp_google_search\n",
      "\n",
      "{\"inline_videos\": [{\"position\": 1, \"link\": \"https://www.youtube.com/watch?v=4xQ1UVxW0Pc\", \"key_moments\": [{\"time\": \"00:00\", \"title\": \"Introduction\", \"link\": \"https://www.youtube.com/watch?v=4xQ1UVxW0Pc&t=0\", \"thumbnail\": \"https://encrypted-tbn0.gstatic.com/images?q=tbn:ANd9GcQa-iXYOifpWDZZJLq8V45waX8C_mRTvar2rFgKASqipA&s\"}, {\"time\": \"00:20\", \"title\": \"Overview\", \"link\": \"https://www.youtube.com/watch?v=4xQ1UVxW0Pc&t=20\", \"thumbnail\": \"https://encrypted-tbn0.gstatic.com/images?q=tbn:ANd9GcQ2I1-L6_cnRoz_nbhUYcLsG8KOjJL8aM2tMZAez_zigg&s\"}, {\"time\": \"01:20\", \"title\": \"How to Use SERP API\", \"link\": \"https://www.youtube.com/watch?v=4xQ1UVxW0Pc&t=80\", \"thumbnail\": \"https://encrypted-tbn0.gstatic.com/images?q=tbn:ANd9GcRettKVpkN7yFSzZBeYPNhmhTdhzmjSJ3p4vTP9oY5VmA&s\"}, {\"time\": \"03:30\", \"title\": \"Additional Features\", \"link\": \"https://www.youtube.com/watch?v=4xQ1UVxW0Pc&t=210\", \"thumbnail\": \"https://encrypted-tbn0.gstatic.com/images?q=tbn:ANd9GcRBSPraPiDau9kIyxZbygn_csUKH3q8Eop_E8jzYTyBOg&s\"}, {\"time\": \"07:05\", \"title\": \"Final Thoughts\", \"link\": \"https://www.youtube.com/watch?v=4xQ1UVxW0Pc&t=425\", \"thumbnail\": \"https://encrypted-tbn0.gstatic.com/images?q=tbn:ANd9GcSiSXSUSq3hJH7XOukFzMfXWj7iVcb-F2b9Lwug0KjXHQ&s\"}]}], \"knowledge_graph\": {\"web_results\": [{\"link\": \"https://www.google.comhttps://en.wikipedia.org/wiki/Web_scraping\"}], \"source\": {}}, \"metadata\": {\"engine\": \"google.search\", \"rawUrl\": \"https://api.scrapeless.com/storage/scrapeless.scraper.google.search/49b6a0d866d5d0f0250ba8276a0c0661/44192a678eb7f46a8768a7da6f05870d_1754948950.html\"}, \"organic_results\": [{\"position\": 1, \"title\": \"Scrapeless: Effortless Web Scraping Toolkit\", \"link\": \"https://www.scrapeless.com/\", \"redirect_link\": \"https://www.google.com/url?sa=t&source=web&rct=j&opi=89978449&url=https://www.scrapeless.com/&ved=2ahUKEwj2052m3oOPAxVXWEEAHfuSJREQFnoECBgQAQ\", \"favicon\": \"data:image/png;base64,iVBORw0KGgoAAAANSUhEUgAAACAAAAAgCAMAAABEpIrGAAAAeFBMVEVHcEwXFxcXFxcXFxcXFxcXFxcXFxcXFxcXFxcXFxcWFRUUDxAXFxcXFxcOBgcBAAAkKyo1OTgaISBQWVensa/Q0NDg4ODs7Oy9vb1tbW3///+SkpJqkIlTeXK77+VvsaaH0MOl1cx/x7sblIYRppUVSUMVf3IVYVcMP61GAAAADnRSTlMAG1KVxev/kqPk//8tzGl2sbwAAAHRSURBVHgBZJMHlsIwDEQTIAIsYqf3Xu9/w9VgNrt5DJ35kdXi/Mm9XG8ekXe7X1znW+7jSYeejy/kSpBSrJRlrif75cPVhoIwiIwBQ/7rn++JbUycpFmepUWpNRDvdfbLtBLlRV0nRRycCB9+DTsryUBxGYHwj/yUKeAn8JqmDTSH6sjUPa4v2IRJl8RRpJAFhGofRKaEn8vlXdfG/TAMfUsM4CEBnhIgA1CbcOwa2FBPIJ6uczkChKbpBvh9P+EdedJFUlQmAZBGZuz6oZ/nZVlmQRotwN25kYrSN6DMOE5NpHmdheiHKWSim+MRBxmALDTj0CJ7ZgTpEYI8R36HeQWVphntqHhdRFNP8ksARLBZcqvYMMmh70P6AID3yQFEGRHVsRC8SYR2EsCTJMlWYRm04wNsKPTm3Il0XB36D7Sk6I5GEUZ1qNQ2h2VHmRdpNdJMDz9h9aliZUKrMSzS0W+MQrP8xAkzWv2w48bAwySVbYsNGrX/BiD3WGhFxkTaaEVKywHbstlJvOUDiNZAs0gHm/jbhi76x9JaYtvXdcfx+7rDP621iKN9m+d52yOO2PrnG4cUqyiKCOb5xoHuZKXgft96P8OfeRHZnx1L9gcAbGI4jTD1e4oAAAAASUVORK5CYII=\", \"snippet\": \"Scrapeless offers AI-powered, robust, and scalable web scraping and automation services trusted by leading enterprises. Our enterprise-grade solutions are ...\", \"snippet_highlighted_words\": [\"AI-powered, robust, and scalable web scraping and automation services\"], \"site_links\": {\"inline\": [{\"title\": \"Scrapeless\", \"link\": \"https://app.scrapeless.com/\"}, {\"title\": \"Sign up\", \"link\": \"https://app.scrapeless.com/passport/register\"}, {\"title\": \"Pricing\", \"link\": \"https://www.scrapeless.com/en/pricing\"}, {\"title\": \"Scraping API\", \"link\": \"https://www.scrapeless.com/en/product/scraping-api\"}]}, \"source\": \"Scrapeless\"}, {\"position\": 2, \"title\": \"Scrapeless — Unlock a New Era of Data Scraping!\", \"link\": \"https://www.scrapeless.com/en/blog/scrapeless-web-scraping-toolkit\", \"redirect_link\": \"https://www.google.com/url?sa=t&source=web&rct=j&opi=89978449&url=https://www.scrapeless.com/en/blog/scrapeless-web-scraping-toolkit&ved=2ahUKEwj2052m3oOPAxVXWEEAHfuSJREQFnoECBkQAQ\", \"favicon\": \"data:image/png;base64,iVBORw0KGgoAAAANSUhEUgAAACAAAAAgCAMAAABEpIrGAAAAeFBMVEVHcEwXFxcXFxcXFxcXFxcXFxcXFxcXFxcXFxcXFxcWFRUUDxAXFxcXFxcOBgcBAAAkKyo1OTgaISBQWVensa/Q0NDg4ODs7Oy9vb1tbW3///+SkpJqkIlTeXK77+VvsaaH0MOl1cx/x7sblIYRppUVSUMVf3IVYVcMP61GAAAADnRSTlMAG1KVxev/kqPk//8tzGl2sbwAAAHRSURBVHgBZJMHlsIwDEQTIAIsYqf3Xu9/w9VgNrt5DJ35kdXi/Mm9XG8ekXe7X1znW+7jSYeejy/kSpBSrJRlrif75cPVhoIwiIwBQ/7rn++JbUycpFmepUWpNRDvdfbLtBLlRV0nRRycCB9+DTsryUBxGYHwj/yUKeAn8JqmDTSH6sjUPa4v2IRJl8RRpJAFhGofRKaEn8vlXdfG/TAMfUsM4CEBnhIgA1CbcOwa2FBPIJ6uczkChKbpBvh9P+EdedJFUlQmAZBGZuz6oZ/nZVlmQRotwN25kYrSN6DMOE5NpHmdheiHKWSim+MRBxmALDTj0CJ7ZgTpEYI8R36HeQWVphntqHhdRFNP8ksARLBZcqvYMMmh70P6AID3yQFEGRHVsRC8SYR2EsCTJMlWYRm04wNsKPTm3Il0XB36D7Sk6I5GEUZ1qNQ2h2VHmRdpNdJMDz9h9aliZUKrMSzS0W+MQrP8xAkzWv2w48bAwySVbYsNGrX/BiD3WGhFxkTaaEVKywHbstlJvOUDiNZAs0gHm/jbhi76x9JaYtvXdcfx+7rDP621iKN9m+d52yOO2PrnG4cUqyiKCOb5xoHuZKXgft96P8OfeRHZnx1L9gcAbGI4jTD1e4oAAAAASUVORK5CYII=\", \"snippet\": \"Jan 6, 2025 — Jan 6, 2025Scrapeless is an AI-powered web scraping toolkit designed for efficient and seamless extraction of publicly available web data.\", \"snippet_highlighted_words\": [\"an AI-powered web scraping toolkit\"], \"source\": \"Scrapeless\"}, {\"position\": 3, \"title\": \"Scrapeless\", \"link\": \"https://www.futuretools.io/tools/scrapeless\", \"redirect_link\": \"https://www.google.com/url?sa=t&source=web&rct=j&opi=89978449&url=https://www.futuretools.io/tools/scrapeless&ved=2ahUKEwj2052m3oOPAxVXWEEAHfuSJREQFnoECEMQAQ\", \"favicon\": \"data:image/png;base64,iVBORw0KGgoAAAANSUhEUgAAABwAAAAcCAMAAABF0y+mAAAAUVBMVEVHcExJ0P5J4P5J0f5Jyv5J0f5J1f5J3/5J0P5J0f5J0P5J3/5J3v5Jz/9Jzv5JzP5Jzv5J0f5Jyv5Jzf5Jw/5J3v5JyP5J2v5JxP5Jwf5JxP4u0o9eAAAAG3RSTlMAfv9gTfn/7z4hz72OB6r/tRfnMP/idFKX3/XEimscAAAA+UlEQVR4Ab3RRWLEMBAEwBZYzBrL8P+HRhte8DHpa6lHhH8I41xckFyUFFwbPMc6xSCVD9zZB4opF1S3GNToeYp3m+VmkZQSYDyhax5+LJFjNScYtVp4PiC4/8a2jd3O6iyqglVzs63feEi2Y+QSTYeHlnPubxzubB1FzSL0VhHukASQ87IoNZshPI5tmDZ1Np/Q0Beu9QHH3s+vsdj4He6o5gRKzgV2Ve4O6eyzWdANkmJgdygMnSdSZhCz2u/QkcSgBNvyrWrZqvw3xkKHRaKB7bZrXdXdv9hjFmvsx22RevpRedLYacPIzeA5g0iYMwu8zk7E8Pd5A0uOD9Ixt5caAAAAAElFTkSuQmCC\", \"snippet\": \"Scrapeless is an AI-powered web scraping toolkit that helps businesses extract data from websites efficiently, even from those with complex features or ...\", \"snippet_highlighted_words\": [\"Scrapeless\"], \"source\": \"Future Tools\"}, {\"position\": 4, \"title\": \"Scrapeless - Crunchbase Company Profile & Funding\", \"link\": \"https://www.crunchbase.com/organization/scrapeless\", \"redirect_link\": \"https://www.google.com/url?sa=t&source=web&rct=j&opi=89978449&url=https://www.crunchbase.com/organization/scrapeless&ved=2ahUKEwj2052m3oOPAxVXWEEAHfuSJREQFnoECEIQAQ\", \"favicon\": \"data:image/png;base64,iVBORw0KGgoAAAANSUhEUgAAABwAAAAcBAMAAACAI8KnAAAAIVBMVEUTav8DZf8AXf9Xiv////+KrP8oc//O2/+kvv/0+P/b5v/gmsTqAAAAfklEQVR4AWOgNxASQOYxmgQSyWUSU2Q0CUpUgMqku3gompS4FAhAuFNWTGky8ezyhHAlPJQ0HUwmCbU0grnqTgxMikCjVIogXEcGgQSTIAYRCFfUXSnF0WSaUkkgxJ4ls1yCTFxWekFt0piyWNG8y7MJ5iQlRQYhISUBegYZAIzOGVhxAEKFAAAAAElFTkSuQmCC\", \"snippet\": \"Scrapeless is an innovative web scraping and data extraction company specializing in providing powerful, scalable, and flexible solutions for enterprises.\", \"snippet_highlighted_words\": [\"an innovative web scraping and data extraction company\"], \"source\": \"Crunchbase\"}, {\"position\": 5, \"title\": \"Meet Scrapeless: The Most Cost-effective No-Code Web ...\", \"link\": \"https://www.reddit.com/r/AIinBusinessNews/comments/1hylunb/meet_scrapeless_the_most_costeffective_nocode_web/\", \"redirect_link\": \"https://www.google.com/url?sa=t&source=web&rct=j&opi=89978449&url=https://www.reddit.com/r/AIinBusinessNews/comments/1hylunb/meet_scrapeless_the_most_costeffective_nocode_web/&ved=2ahUKEwj2052m3oOPAxVXWEEAHfuSJREQFnoECEYQAQ\", \"favicon\": \"data:image/png;base64,iVBORw0KGgoAAAANSUhEUgAAABwAAAAcCAMAAABF0y+mAAAAllBMVEVHcEz/RQD/RQD/RQD/RQD/RQD/RQD/RQD/RQD/RQD/RQD/RQD/RgD/RQD+////RQD/PAD/NQD+QgDP3+fb6e7n8PLx9vcKEhX0/f/L1tz+jXL718/+XCr4+vv0e1/olIP6pJDi3N3PqqbfNAn7cU//VgP+9vQyODv1bEb+49rdzc3/v66xu77IXlHlXDhqcHKsLABrLBlRGkQ3AAAADnRSTlMAwkSK1tA47GYdh31HPrF7ujQAAAF5SURBVCiRbZOHcoMwDIahyYUkbW3Z2GbvlT3e/+UqQSCkiY4D5A9bvwaWNdpqYTucO/ZiZf23NYLRnPUL2iyfiEvJl5sn+5khLuJacP41sq85gyNje5joZs7kLWCMhUiHk+fxKu9+YswnuOx1zvd5FZRKHYAc0jzlIAFudwCoU9RLGWHuJEIIABHnx7I85jE6eOHyylqg+DCKwnDPHrYPycd0tpbNIWcfLAduU8hPjDEKymXs07spi2GxKA09/FhyCwNrkzB2FruEFpMqPtO3GgEeC5lKmK4aGRGMRFNplqgM8Fgb1eZ+4l8a3hJseXNBN0e1NqUid9oYE7VDzDYyiTE7San0RSi0Nv6p6zyv606+0boYikC5QOoqpZXXm9JaqRT68vWFh8x1XRVcPe8aKHzN4FH4vmUiDdwgwP10D1JUM7RsaDbw7FDgHrc4ZLzv2GOMfof5gLhO0zoG6Bs2DtH3NHYgh1a+s5lNo7l+Q7OhfoWOvX3+Dn+Ini8glo+XBwAAAABJRU5ErkJggg==\", \"snippet\": \"Scrapeless is a no-code, cost-effective, all-in-one AI web scraping toolkit that simplifies data extraction for developers and businesses of all ...\", \"snippet_highlighted_words\": [\"Scrapeless is a no-code, cost-effective, all-in-one AI web scraping toolkit\"], \"source\": \"Reddit · r/AIinBusinessNews\"}, {\"position\": 6, \"title\": \"Scrapeless - Ai Tool Details & Features\", \"link\": \"https://airespo.com/ai-tools/scrapeless/\", \"redirect_link\": \"https://www.google.com/url?sa=t&source=web&rct=j&opi=89978449&url=https://airespo.com/ai-tools/scrapeless/&ved=2ahUKEwj2052m3oOPAxVXWEEAHfuSJREQFnoECEEQAQ\", \"favicon\": \"data:image/jpeg;base64,/9j/4AAQSkZJRgABAQAAAQABAAD/2wCEAAkGBwgHBgkIBwgKCgkLDRYPDQwMDRsUFRAWIB0iIiAdHx8kKDQsJCYxJx8fLT0tMTU3Ojo6Iys/RD84QzQ5OjcBCgoKDQwNGg8PGjclHyU3Nzc3Nzc3Nzc3Nzc3Nzc3Nzc3Lzc0Nzc3Nzc3Nzc3Nzc3Nzc3LzcxNzU1NzctNS0tNf/AABEIACAAIAMBEQACEQEDEQH/xAAZAAACAwEAAAAAAAAAAAAAAAAEBwMFBgL/xAAsEAACAQMCBAQGAwAAAAAAAAABAgMEBREAEgZhcYEHEzFCMlFTcpHBFCEj/8QAGgEAAgMBAQAAAAAAAAAAAAAAAQMCBAUAB//EACwRAAEEAAMGBAcAAAAAAAAAAAEAAgMRBDHwEkFRcYHBBSFh4RMjJDKhsdH/2gAMAwEAAhEDEQA/AMXr0FbasrfY7jcWIpKSeUr8QjiZ9vXAwDyJB1XkxMUf3H8qDpGtzKjrrVWUEvlVMEsUmMiOWNkYj5gMBntnUo52SC2nvrqi14cLCB05SRVup5ampjigAM0kiRQ5+o5wP2ew0qZ4a23ZeZPIIONCymd4d7uHuMLzwxNIzI3+sDN7sYOepRhn7dYHiP1GGjxIHodc/wBqliPmRtkC48ZojPX8OwhthkeVAw9uWiGdS8FdsslPCu67CGmuOt6WdxgenqnjkAEillcD03KxU/krnvrdicHNsZe1q602LU1mrp7dXJU0mz+RGd8O9dw3jIH9dCwHMjUZ4myM2XZb+SD2hworUXSqvlDd7PxddJaOeNnVFmojkMgzkEY9SpYduWs+JmHkikwkQIPA640kNDHNdE2+qvPGOcJWcN1MY8wK0sige/BiIx11U8GbbZWn07peEFhw1vS1uE71FU8kpBkYszkem5mLHHQsR21uxNDW0MvalcaKFIbTUUSKyUwmGUmSJmDMu9gCwGASAcE8yCdL+GL2h5FDZF2uqi4VE4QPI7eWmyMvIzlF9NoLE4HTGg2Frcv5rquDQEJpqK//2Q==\", \"snippet\": \"Scrapeless is an AI scraping platform that extracts web data at scale using smart APIs, real browser tech, and full compliance.\", \"snippet_highlighted_words\": [\"an AI scraping platform\"], \"source\": \"AIRespo\"}, {\"position\": 7, \"title\": \"Scrapeless Review: Hands-on Testing and My Opinion\", \"link\": \"https://geekflare.com/proxy/scrapeless-review/\", \"redirect_link\": \"https://www.google.com/url?sa=t&source=web&rct=j&opi=89978449&url=https://geekflare.com/proxy/scrapeless-review/&ved=2ahUKEwj2052m3oOPAxVXWEEAHfuSJREQFnoECEQQAQ\", \"favicon\": \"data:image/png;base64,iVBORw0KGgoAAAANSUhEUgAAABwAAAAcCAYAAAByDd+UAAAAtElEQVR4AWJwL/ChKyZL038vBh9Aa3VsAyAMA1G0pM0Q7MIc2YM9mCZ1JmARFoAgXWEh4KQvF7+yxRNJkVFHIMRO1RgIsNCGQYDt/A85xkGKaa+MGgQBprlDszGLJmMeTcY8mo2tDs3EZs3rH5qKqS+0R7CMDvch7Tawc1efRzoB9G3Wv7AAAhRgAQQowAJIUY85EN+pwSzIUWEAROgCnyeOAhCgCORoBSBAAYZAoQVgAEzoAqDcNlRrPzhlAAAAAElFTkSuQmCC\", \"snippet\": \"Apr 24, 2025 — Apr 24, 2025Scrapeless has a built-in headless browser that mimics human behavior when scraping data. It renders JavaScript to load dynamic content, ...\", \"snippet_highlighted_words\": [\"Scrapeless has a built-in headless browser that mimics human behavior\"], \"source\": \"Geekflare\"}, {\"position\": 8, \"title\": \"Scrapeless\", \"link\": \"https://github.com/scrapeless-ai\", \"redirect_link\": \"https://www.google.com/url?sa=t&source=web&rct=j&opi=89978449&url=https://github.com/scrapeless-ai&ved=2ahUKEwj2052m3oOPAxVXWEEAHfuSJREQFnoECEcQAQ\", \"favicon\": \"data:image/png;base64,iVBORw0KGgoAAAANSUhEUgAAACAAAAAgCAMAAABEpIrGAAAAb1BMVEX////4+Pi3ubtvcnZNUVU+Q0cpLjLr6+x3en0sMTYkKS59gIORk5aUl5n8/Pzw8PFTV1tbX2Pc3d5DSEzn5+g3PECLjpFKTlKFh4qxs7XCxMUuMze/wcLh4uPV1tZzd3o/Q0jOz9CmqKpjZ2qfoaTxAyfNAAABPUlEQVR4AW3TBYKDMBQE0AltAgzuzur9z7ibH5oKfWjc4UEFl6s2Rl8vgcJZGMX04iTEM5UaPomzHA+KkidVAa/WfKNpffMd32oKCHUlWfb27Q19ZSMVrNHGTMDckMtQLqSegdXGpvi3Sf93W9UudRby2WzsEgL4oMvwoqY1AsrQNfFipbXkCGh1BV6oT1pfRwvfOJlo9ZA5NAonStbmB1pawBuDTAgkX4MzV/eC2H3e0C7lk1aBEzd+7SpigJOZVoXx+J5UxzADil+8+KZYoRaK5y2WZxSdgm0j+dakzkIc2kzT6W3IcFnDTzdt4sKbWMqkpNl229IMsfMmg6UaMsJXmv4qCMXDoI4mO5oADwyFDnGoO3KI0jSHQ6E3eJum5TP4Y+EVyUOGXHZjgWd7ZEwOJzZRjbPQt7mF8P4AzsYZpmkFLF4AAAAASUVORK5CYII=\", \"snippet\": \"Scrapeless.com offers an enterprise-grade, AI-driven web scraping toolkit designed to help businesses efficiently access public web data.\", \"snippet_highlighted_words\": [\"enterprise-grade, AI-driven web scraping toolkit\"], \"site_links\": {\"inline\": [{\"title\": \"What\", \"link\": \"https://www.google.com/search?sca_esv=81a4eb9d017737df&gl=us&hl=en&q=%22What%22+is+Scrapeless&sa=X&ved=2ahUKEwj2052m3oOPAxVXWEEAHfuSJREQ5t4CegQIWRAB\"}]}, \"source\": \"GitHub\", \"missing\": [\"What\"]}, {\"position\": 9, \"title\": \"Scrapeless\", \"link\": \"https://www.linkedin.com/company/scrapeless\", \"redirect_link\": \"https://www.google.com/url?sa=t&source=web&rct=j&opi=89978449&url=https://www.linkedin.com/company/scrapeless&ved=2ahUKEwj2052m3oOPAxVXWEEAHfuSJREQFnoECEUQAQ\", \"favicon\": \"data:image/png;base64,iVBORw0KGgoAAAANSUhEUgAAABAAAAAQCAYAAAAf8/9hAAAAm0lEQVR4AWP4//8/RRhMyLfs3sNQvOk/KRikB24ATNB2yhEQJtoQuAEwzVAAYtPVAMJe4Cjf8l+0bsd/RkIGQAGc/ej9t/+TDt/7/+vPXzD/6Yfv/+2nHSXWAAT49P33/z9//4HZl559JM2Aqm3XwXyXGcfA/H///pFmgFj9DjCfp3IrTIgkA5ADbbAbQA6mKDPp9x7YBTOAIgwAVba5DGceMlQAAAAASUVORK5CYII=\", \"snippet\": \"Scrapeless has developed a powerful and flexible web scraping toolkit specifically designed for enterprises, enabling them to easily and efficiently access ...\", \"snippet_highlighted_words\": [\"Scrapeless\"], \"source\": \"LinkedIn · Scrapeless\"}], \"pagination\": {\"current\": 1, \"next\": \"https://www.google.com/search?q=What+is+Scrapeless&sca_esv=81a4eb9d017737df&gl=us&hl=en&ei=VmWaaPbQD9ewhbIP-6WWiQE&start=10&sa=N&sstk=Ac65TH4zqLfkUk3LtzFgh4CMrmKB7zPojfFEfSbrmRj4OoUbfBgGNJl2QVq60dWKPnpU61FCErTmf6dEJJPY7nqFuY_nRMI0jBmjYg&ved=2ahUKEwj2052m3oOPAxVXWEEAHfuSJREQ8NMDegQIDRAU\", \"other_pages\": {\"2\": \"https://www.google.com/search?q=What+is+Scrapeless&sca_esv=81a4eb9d017737df&gl=us&hl=en&ei=VmWaaPbQD9ewhbIP-6WWiQE&start=10&sa=N&sstk=Ac65TH4zqLfkUk3LtzFgh4CMrmKB7zPojfFEfSbrmRj4OoUbfBgGNJl2QVq60dWKPnpU61FCErTmf6dEJJPY7nqFuY_nRMI0jBmjYg&ved=2ahUKEwj2052m3oOPAxVXWEEAHfuSJREQ8tMDegQIDRAE\", \"3\": \"https://www.google.com/search?q=What+is+Scrapeless&sca_esv=81a4eb9d017737df&gl=us&hl=en&ei=VmWaaPbQD9ewhbIP-6WWiQE&start=20&sa=N&sstk=Ac65TH4zqLfkUk3LtzFgh4CMrmKB7zPojfFEfSbrmRj4OoUbfBgGNJl2QVq60dWKPnpU61FCErTmf6dEJJPY7nqFuY_nRMI0jBmjYg&ved=2ahUKEwj2052m3oOPAxVXWEEAHfuSJREQ8tMDegQIDRAG\", \"4\": \"https://www.google.com/search?q=What+is+Scrapeless&sca_esv=81a4eb9d017737df&gl=us&hl=en&ei=VmWaaPbQD9ewhbIP-6WWiQE&start=30&sa=N&sstk=Ac65TH4zqLfkUk3LtzFgh4CMrmKB7zPojfFEfSbrmRj4OoUbfBgGNJl2QVq60dWKPnpU61FCErTmf6dEJJPY7nqFuY_nRMI0jBmjYg&ved=2ahUKEwj2052m3oOPAxVXWEEAHfuSJREQ8tMDegQIDRAI\", \"5\": \"https://www.google.com/search?q=What+is+Scrapeless&sca_esv=81a4eb9d017737df&gl=us&hl=en&ei=VmWaaPbQD9ewhbIP-6WWiQE&start=40&sa=N&sstk=Ac65TH4zqLfkUk3LtzFgh4CMrmKB7zPojfFEfSbrmRj4OoUbfBgGNJl2QVq60dWKPnpU61FCErTmf6dEJJPY7nqFuY_nRMI0jBmjYg&ved=2ahUKEwj2052m3oOPAxVXWEEAHfuSJREQ8tMDegQIDRAK\", \"6\": \"https://www.google.com/search?q=What+is+Scrapeless&sca_esv=81a4eb9d017737df&gl=us&hl=en&ei=VmWaaPbQD9ewhbIP-6WWiQE&start=50&sa=N&sstk=Ac65TH4zqLfkUk3LtzFgh4CMrmKB7zPojfFEfSbrmRj4OoUbfBgGNJl2QVq60dWKPnpU61FCErTmf6dEJJPY7nqFuY_nRMI0jBmjYg&ved=2ahUKEwj2052m3oOPAxVXWEEAHfuSJREQ8tMDegQIDRAM\", \"7\": \"https://www.google.com/search?q=What+is+Scrapeless&sca_esv=81a4eb9d017737df&gl=us&hl=en&ei=VmWaaPbQD9ewhbIP-6WWiQE&start=60&sa=N&sstk=Ac65TH4zqLfkUk3LtzFgh4CMrmKB7zPojfFEfSbrmRj4OoUbfBgGNJl2QVq60dWKPnpU61FCErTmf6dEJJPY7nqFuY_nRMI0jBmjYg&ved=2ahUKEwj2052m3oOPAxVXWEEAHfuSJREQ8tMDegQIDRAO\", \"8\": \"https://www.google.com/search?q=What+is+Scrapeless&sca_esv=81a4eb9d017737df&gl=us&hl=en&ei=VmWaaPbQD9ewhbIP-6WWiQE&start=70&sa=N&sstk=Ac65TH4zqLfkUk3LtzFgh4CMrmKB7zPojfFEfSbrmRj4OoUbfBgGNJl2QVq60dWKPnpU61FCErTmf6dEJJPY7nqFuY_nRMI0jBmjYg&ved=2ahUKEwj2052m3oOPAxVXWEEAHfuSJREQ8tMDegQIDRAQ\", \"9\": \"https://www.google.com/search?q=What+is+Scrapeless&sca_esv=81a4eb9d017737df&gl=us&hl=en&ei=VmWaaPbQD9ewhbIP-6WWiQE&start=80&sa=N&sstk=Ac65TH4zqLfkUk3LtzFgh4CMrmKB7zPojfFEfSbrmRj4OoUbfBgGNJl2QVq60dWKPnpU61FCErTmf6dEJJPY7nqFuY_nRMI0jBmjYg&ved=2ahUKEwj2052m3oOPAxVXWEEAHfuSJREQ8tMDegQIDRAS\"}}, \"related_questions\": [{\"question\": \"What is the purpose of scraping?\", \"snippet\": \"Scraping is a specialized form of manual therapy used in physical therapy to treat soft tissue injuries and dysfunctions. Scraping (aka Instrument-Assisted Soft Tissue Mobilization (IASTM) and the Graston Technique) is a form of manual therapy used in physical therapy to treat soft tissue injuries and dysfunctions.\", \"date\": \"Sep 5, 2024\"}, {\"question\": \"Is scraping a site illegal?\", \"snippet\": \"There are no specific laws prohibiting web scraping, and many companies employ it in legitimate ways to gain data-driven insights. However, there can be situations where other laws or regulations may come into play and make web scraping illegal.\", \"date\": \"Jan 7, 2025\"}, {\"question\": \"What is scraping in simple words?\", \"snippet\": \"the act of removing the surface from something using a sharp edge or something rough : Use techniques that generate less dust, such as wet sanding or scraping.\", \"date\": \"6 days ago\"}, {\"question\": \"What is an example of scraping?\", \"snippet\": \"Web scraping refers to the extraction of web data on to a format that is more useful for the user. For example, you might scrape product information from an ecommerce website onto an excel spreadsheet. Although web scraping can be done manually, in most cases, you might be better off using an automated tool.\", \"date\": \"Feb 1, 2022\"}], \"related_searches\": [{\"block_position\": \"2\", \"query\": \"What is scrapeless tools\", \"link\": \"htts://www.google.com/search?sca_esv=81a4eb9d017737df&gl=us&hl=en&q=What+is+scrapeless+tools&sa=X&ved=2ahUKEwj2052m3oOPAxVXWEEAHfuSJREQ1QJ6BAhaEAE\"}, {\"block_position\": \"2\", \"query\": \"What is scrapeless app\", \"link\": \"htts://www.google.com/search?sca_esv=81a4eb9d017737df&gl=us&hl=en&q=What+is+scrapeless+app&sa=X&ved=2ahUKEwj2052m3oOPAxVXWEEAHfuSJREQ1QJ6BAhREAE\"}, {\"block_position\": \"2\", \"query\": \"What is scrapeless api\", \"link\": \"htts://www.google.com/search?sca_esv=81a4eb9d017737df&gl=us&hl=en&q=What+is+scrapeless+api&sa=X&ved=2ahUKEwj2052m3oOPAxVXWEEAHfuSJREQ1QJ6BAhKEAE\"}, {\"block_position\": \"2\", \"query\": \"Scrapeless github\", \"link\": \"htts://www.google.com/search?sca_esv=81a4eb9d017737df&gl=us&hl=en&q=Scrapeless+github&sa=X&ved=2ahUKEwj2052m3oOPAxVXWEEAHfuSJREQ1QJ6BAhJEAE\"}, {\"block_position\": \"2\", \"query\": \"Scrapeless mcp server\", \"link\": \"htts://www.google.com/search?sca_esv=81a4eb9d017737df&gl=us&hl=en&q=Scrapeless+mcp+server&sa=X&ved=2ahUKEwj2052m3oOPAxVXWEEAHfuSJREQ1QJ6BAhIEAE\"}, {\"block_position\": \"2\", \"query\": \"ZenRows vs Selenium\", \"link\": \"htts://www.google.com/search?sca_esv=81a4eb9d017737df&gl=us&hl=en&q=ZenRows+vs+Selenium&sa=X&ved=2ahUKEwj2052m3oOPAxVXWEEAHfuSJREQ1QJ6BAhAEAE\"}, {\"block_position\": \"2\", \"query\": \"ZenRows documentation\", \"link\": \"htts://www.google.com/search?sca_esv=81a4eb9d017737df&gl=us&hl=en&q=ZenRows+documentation&sa=X&ved=2ahUKEwj2052m3oOPAxVXWEEAHfuSJREQ1QJ6BAg_EAE\"}, {\"block_position\": \"2\", \"query\": \"Python ZenRows\", \"link\": \"htts://www.google.com/search?sca_esv=81a4eb9d017737df&gl=us&hl=en&q=Python+ZenRows&sa=X&ved=2ahUKEwj2052m3oOPAxVXWEEAHfuSJREQ1QJ6BAg-EAE\"}], \"search_information\": {\"organic_results_state\": \"Results for exact spelling\", \"query_displayed\": \"What is Scrapeless\", \"total_results\": 0, \"time_taken_displayed\": \"\"}, \"video_results\": [{\"key_moments\": [{\"time\": \"00:00\", \"title\": \"Introduction\", \"link\": \"https://www.youtube.com/watch?v=4xQ1UVxW0Pc&t=0\", \"thumbnail\": \"https://encrypted-tbn0.gstatic.com/images?q=tbn:ANd9GcQa-iXYOifpWDZZJLq8V45waX8C_mRTvar2rFgKASqipA&s\"}, {\"time\": \"00:20\", \"title\": \"Overview\", \"link\": \"https://www.youtube.com/watch?v=4xQ1UVxW0Pc&t=20\", \"thumbnail\": \"https://encrypted-tbn0.gstatic.com/images?q=tbn:ANd9GcQ2I1-L6_cnRoz_nbhUYcLsG8KOjJL8aM2tMZAez_zigg&s\"}, {\"time\": \"01:20\", \"title\": \"How to Use SERP API\", \"link\": \"https://www.youtube.com/watch?v=4xQ1UVxW0Pc&t=80\", \"thumbnail\": \"https://encrypted-tbn0.gstatic.com/images?q=tbn:ANd9GcRettKVpkN7yFSzZBeYPNhmhTdhzmjSJ3p4vTP9oY5VmA&s\"}, {\"time\": \"03:30\", \"title\": \"Additional Features\", \"link\": \"https://www.youtube.com/watch?v=4xQ1UVxW0Pc&t=210\", \"thumbnail\": \"https://encrypted-tbn0.gstatic.com/images?q=tbn:ANd9GcRBSPraPiDau9kIyxZbygn_csUKH3q8Eop_E8jzYTyBOg&s\"}, {\"time\": \"07:05\", \"title\": \"Final Thoughts\", \"link\": \"https://www.youtube.com/watch?v=4xQ1UVxW0Pc&t=425\", \"thumbnail\": \"https://encrypted-tbn0.gstatic.com/images?q=tbn:ANd9GcSiSXSUSq3hJH7XOukFzMfXWj7iVcb-F2b9Lwug0KjXHQ&s\"}], \"position\": 1, \"title\": \"How This AI Tool Makes Web Scraping Cheaper & 10x ...\", \"link\": \"https://www.youtube.com/watch?v=4xQ1UVxW0Pc\", \"snippet\": \"scrapeless is an all-in-one data extraction platform offering a scraping browser which is a headless browser for bypassing anti-bolt mayors.\", \"duration\": \"7:44\", \"rich_snippet\": {\"top\": {\"detected_extensions\": {}, \"extensions\": []}}, \"video_link\": \"https://encrypted-vtbn0.gstatic.com/video?q=tbn:ANd9GcT8EfwcqzUeELPUtULSJ5LC7wWLZgMQA-oN2Q\"}]}\n",
      "==================================\u001b[1m Ai Message \u001b[0m==================================\n",
      "\n",
      "Scrapeless is an AI-powered web scraping toolkit designed for efficient and seamless extraction of publicly available web data. It offers enterprise-grade solutions that are AI-powered, robust, and scalable for web scraping and automation services. You can learn more about Scrapeless on their [official website](https://www.scrapeless.com/). Additionally, you can watch a video that provides an overview of Scrapeless and its features [here](https://www.youtube.com/watch?v=4xQ1UVxW0Pc).\n",
      "\n",
      "If you need more detailed information or have specific questions about Scrapeless, feel free to explore the provided links for a deeper understanding.\n"
     ]
    }
   ],
   "source": [
    "from langchain_openai import ChatOpenAI\n",
    "from langchain_scrapeless import ScrapelessDeepSerpGoogleSearchTool\n",
    "from langgraph.prebuilt import create_react_agent\n",
    "\n",
    "llm = ChatOpenAI()\n",
    "\n",
    "tool = ScrapelessDeepSerpGoogleSearchTool()\n",
    "\n",
    "# Use the tool with an agent\n",
    "tools = [tool]\n",
    "agent = create_react_agent(llm, tools)\n",
    "\n",
    "for chunk in agent.stream(\n",
    "    {\"messages\": [(\"human\", \"I want to what is Scrapeless\")]}, stream_mode=\"values\"\n",
    "):\n",
    "    chunk[\"messages\"][-1].pretty_print()"
   ]
  },
  {
   "cell_type": "markdown",
   "id": "769b2246",
   "metadata": {},
   "source": [
    "### ScrapelessDeepSerpGoogleTrendsTool\n",
    "\n",
    "#### Basic Usage"
   ]
  },
  {
   "cell_type": "code",
   "execution_count": 5,
   "id": "ca993de7",
   "metadata": {},
   "outputs": [
    {
     "name": "stdout",
     "output_type": "stream",
     "text": [
      "{'parameters': {'engine': 'google.trends.search', 'hl': 'en', 'data_type': 'INTEREST_OVER_TIME', 'tz': '0', 'cat': '0', 'date': 'today 1-m', 'q': 'Funny 2048,negamon monster trainer'}, 'interest_over_time': {'timeline_data': [{'date': 'Jul 11, 2025', 'timestamp': '1752192000', 'value': [0, 0]}, {'date': 'Jul 12, 2025', 'timestamp': '1752278400', 'value': [0, 0]}, {'date': 'Jul 13, 2025', 'timestamp': '1752364800', 'value': [0, 0]}, {'date': 'Jul 14, 2025', 'timestamp': '1752451200', 'value': [0, 0]}, {'date': 'Jul 15, 2025', 'timestamp': '1752537600', 'value': [0, 0]}, {'date': 'Jul 16, 2025', 'timestamp': '1752624000', 'value': [0, 0]}, {'date': 'Jul 17, 2025', 'timestamp': '1752710400', 'value': [0, 0]}, {'date': 'Jul 18, 2025', 'timestamp': '1752796800', 'value': [0, 0]}, {'date': 'Jul 19, 2025', 'timestamp': '1752883200', 'value': [0, 0]}, {'date': 'Jul 20, 2025', 'timestamp': '1752969600', 'value': [0, 0]}, {'date': 'Jul 21, 2025', 'timestamp': '1753056000', 'value': [0, 0]}, {'date': 'Jul 22, 2025', 'timestamp': '1753142400', 'value': [0, 0]}, {'date': 'Jul 23, 2025', 'timestamp': '1753228800', 'value': [0, 0]}, {'date': 'Jul 24, 2025', 'timestamp': '1753315200', 'value': [0, 0]}, {'date': 'Jul 25, 2025', 'timestamp': '1753401600', 'value': [0, 0]}, {'date': 'Jul 26, 2025', 'timestamp': '1753488000', 'value': [0, 0]}, {'date': 'Jul 27, 2025', 'timestamp': '1753574400', 'value': [0, 0]}, {'date': 'Jul 28, 2025', 'timestamp': '1753660800', 'value': [0, 0]}, {'date': 'Jul 29, 2025', 'timestamp': '1753747200', 'value': [0, 0]}, {'date': 'Jul 30, 2025', 'timestamp': '1753833600', 'value': [0, 0]}, {'date': 'Jul 31, 2025', 'timestamp': '1753920000', 'value': [0, 0]}, {'date': 'Aug 1, 2025', 'timestamp': '1754006400', 'value': [0, 0]}, {'date': 'Aug 2, 2025', 'timestamp': '1754092800', 'value': [0, 0]}, {'date': 'Aug 3, 2025', 'timestamp': '1754179200', 'value': [0, 0]}, {'date': 'Aug 4, 2025', 'timestamp': '1754265600', 'value': [0, 0]}, {'date': 'Aug 5, 2025', 'timestamp': '1754352000', 'value': [0, 0]}, {'date': 'Aug 6, 2025', 'timestamp': '1754438400', 'value': [0, 0]}, {'date': 'Aug 7, 2025', 'timestamp': '1754524800', 'value': [0, 0]}, {'date': 'Aug 8, 2025', 'timestamp': '1754611200', 'value': [0, 0]}, {'date': 'Aug 9, 2025', 'timestamp': '1754697600', 'value': [0, 0]}, {'date': 'Aug 10, 2025', 'timestamp': '1754784000', 'value': [0, 100]}, {'date': 'Aug 11, 2025', 'timestamp': '1754870400', 'value': [0, 0]}], 'averages': [{'value': 0}, {'value': 3}], 'isPartial': True}}\n"
     ]
    }
   ],
   "source": [
    "from langchain_scrapeless import ScrapelessDeepSerpGoogleTrendsTool\n",
    "\n",
    "tool = ScrapelessDeepSerpGoogleTrendsTool()\n",
    "\n",
    "# Basic usage\n",
    "result = tool.invoke(\"Funny 2048, negamon monster trainer\")\n",
    "print(result)"
   ]
  },
  {
   "cell_type": "markdown",
   "id": "1a4db36f",
   "metadata": {},
   "source": [
    "#### Advanced Usage with Parameters"
   ]
  },
  {
   "cell_type": "code",
   "execution_count": null,
   "id": "42c83c46",
   "metadata": {},
   "outputs": [
    {
     "name": "stdout",
     "output_type": "stream",
     "text": [
      "{'parameters': {'engine': 'google.trends.search', 'hl': 'en', 'data_type': 'RELATED_TOPICS', 'tz': '0', 'cat': '0', 'date': 'today 1-m', 'q': 'Scrapeless'}, 'related_topics': {}}\n"
     ]
    }
   ],
   "source": [
    "from langchain_scrapeless import ScrapelessDeepSerpGoogleTrendsTool\n",
    "\n",
    "tool = ScrapelessDeepSerpGoogleTrendsTool()\n",
    "\n",
    "# Advanced usage\n",
    "result = tool.invoke({\"q\": \"Scrapeless\", \"data_type\": \"related_topics\", \"hl\": \"en\"})\n",
    "print(result)"
   ]
  },
  {
   "cell_type": "markdown",
   "id": "7dde00ff",
   "metadata": {},
   "source": [
    "#### Use within an agent"
   ]
  },
  {
   "cell_type": "code",
   "execution_count": null,
   "id": "f6ca1aff",
   "metadata": {},
   "outputs": [
    {
     "name": "stdout",
     "output_type": "stream",
     "text": [
      "================================\u001b[1m Human Message \u001b[0m=================================\n",
      "\n",
      "I want to know the iPhone keyword trends\n",
      "==================================\u001b[1m Ai Message \u001b[0m==================================\n",
      "Tool Calls:\n",
      "  scrapeless_deepserp_google_trends (call_i7vhiCvbfFjjZTJXZMvD5iQM)\n",
      " Call ID: call_i7vhiCvbfFjjZTJXZMvD5iQM\n",
      "  Args:\n",
      "    q: iPhone\n",
      "    data_type: interest_over_time\n",
      "    date: today 1-m\n",
      "    hl: en\n",
      "=================================\u001b[1m Tool Message \u001b[0m=================================\n",
      "Name: scrapeless_deepserp_google_trends\n",
      "\n",
      "{\"parameters\": {\"engine\": \"google.trends.search\", \"hl\": \"en\", \"data_type\": \"INTEREST_OVER_TIME\", \"tz\": \"0\", \"cat\": \"0\", \"date\": \"today 1-m\", \"q\": \"iPhone\"}, \"interest_over_time\": {\"timeline_data\": [{\"date\": \"Jul 11, 2025\", \"timestamp\": \"1752192000\", \"value\": [89]}, {\"date\": \"Jul 12, 2025\", \"timestamp\": \"1752278400\", \"value\": [93]}, {\"date\": \"Jul 13, 2025\", \"timestamp\": \"1752364800\", \"value\": [91]}, {\"date\": \"Jul 14, 2025\", \"timestamp\": \"1752451200\", \"value\": [87]}, {\"date\": \"Jul 15, 2025\", \"timestamp\": \"1752537600\", \"value\": [85]}, {\"date\": \"Jul 16, 2025\", \"timestamp\": \"1752624000\", \"value\": [81]}, {\"date\": \"Jul 17, 2025\", \"timestamp\": \"1752710400\", \"value\": [86]}, {\"date\": \"Jul 18, 2025\", \"timestamp\": \"1752796800\", \"value\": [86]}, {\"date\": \"Jul 19, 2025\", \"timestamp\": \"1752883200\", \"value\": [91]}, {\"date\": \"Jul 20, 2025\", \"timestamp\": \"1752969600\", \"value\": [99]}, {\"date\": \"Jul 21, 2025\", \"timestamp\": \"1753056000\", \"value\": [87]}, {\"date\": \"Jul 22, 2025\", \"timestamp\": \"1753142400\", \"value\": [87]}, {\"date\": \"Jul 23, 2025\", \"timestamp\": \"1753228800\", \"value\": [85]}, {\"date\": \"Jul 24, 2025\", \"timestamp\": \"1753315200\", \"value\": [84]}, {\"date\": \"Jul 25, 2025\", \"timestamp\": \"1753401600\", \"value\": [87]}, {\"date\": \"Jul 26, 2025\", \"timestamp\": \"1753488000\", \"value\": [90]}, {\"date\": \"Jul 27, 2025\", \"timestamp\": \"1753574400\", \"value\": [92]}, {\"date\": \"Jul 28, 2025\", \"timestamp\": \"1753660800\", \"value\": [86]}, {\"date\": \"Jul 29, 2025\", \"timestamp\": \"1753747200\", \"value\": [92]}, {\"date\": \"Jul 30, 2025\", \"timestamp\": \"1753833600\", \"value\": [94]}, {\"date\": \"Jul 31, 2025\", \"timestamp\": \"1753920000\", \"value\": [90]}, {\"date\": \"Aug 1, 2025\", \"timestamp\": \"1754006400\", \"value\": [89]}, {\"date\": \"Aug 2, 2025\", \"timestamp\": \"1754092800\", \"value\": [92]}, {\"date\": \"Aug 3, 2025\", \"timestamp\": \"1754179200\", \"value\": [92]}, {\"date\": \"Aug 4, 2025\", \"timestamp\": \"1754265600\", \"value\": [96]}, {\"date\": \"Aug 5, 2025\", \"timestamp\": \"1754352000\", \"value\": [87]}, {\"date\": \"Aug 6, 2025\", \"timestamp\": \"1754438400\", \"value\": [90]}, {\"date\": \"Aug 7, 2025\", \"timestamp\": \"1754524800\", \"value\": [94]}, {\"date\": \"Aug 8, 2025\", \"timestamp\": \"1754611200\", \"value\": [95]}, {\"date\": \"Aug 9, 2025\", \"timestamp\": \"1754697600\", \"value\": [98]}, {\"date\": \"Aug 10, 2025\", \"timestamp\": \"1754784000\", \"value\": [100]}, {\"date\": \"Aug 11, 2025\", \"timestamp\": \"1754870400\", \"value\": [89]}], \"isPartial\": true}}\n",
      "==================================\u001b[1m Ai Message \u001b[0m==================================\n",
      "\n",
      "The trend for the keyword \"iPhone\" over the past month shows a fluctuating interest level. Here are some data points:\n",
      "\n",
      "- July 11, 2025: Interest level 89\n",
      "- July 20, 2025: Interest level 99\n",
      "- July 31, 2025: Interest level 90\n",
      "- August 10, 2025: Interest level 100\n",
      "\n",
      "The interest seems to have peaked on August 10, 2025, with an interest level of 100.\n"
     ]
    }
   ],
   "source": [
    "from langchain_openai import ChatOpenAI\n",
    "from langchain_scrapeless import ScrapelessDeepSerpGoogleTrendsTool\n",
    "from langgraph.prebuilt import create_react_agent\n",
    "\n",
    "llm = ChatOpenAI()\n",
    "\n",
    "tool = ScrapelessDeepSerpGoogleTrendsTool()\n",
    "\n",
    "# Use the tool with an agent\n",
    "tools = [tool]\n",
    "agent = create_react_agent(llm, tools)\n",
    "\n",
    "for chunk in agent.stream(\n",
    "    {\"messages\": [(\"human\", \"I want to know the iPhone keyword trends\")]},\n",
    "    stream_mode=\"values\",\n",
    "):\n",
    "    chunk[\"messages\"][-1].pretty_print()"
   ]
  },
  {
   "cell_type": "markdown",
   "id": "4ac8146c",
   "metadata": {},
   "source": [
    "## API reference\n",
    "\n",
    "- [Scrapeless Documentation](https://docs.scrapeless.com/en/deep-serp-api/quickstart/introduction/)\n",
    "- [Scrapeless API Reference](https://apidocs.scrapeless.com/doc-800321)"
   ]
  }
 ],
 "metadata": {
  "kernelspec": {
   "display_name": "langchain",
   "language": "python",
   "name": "python3"
  },
  "language_info": {
   "codemirror_mode": {
    "name": "ipython",
    "version": 3
   },
   "file_extension": ".py",
   "mimetype": "text/x-python",
   "name": "python",
   "nbconvert_exporter": "python",
   "pygments_lexer": "ipython3",
   "version": "3.12.11"
  }
 },
 "nbformat": 4,
 "nbformat_minor": 5
}
