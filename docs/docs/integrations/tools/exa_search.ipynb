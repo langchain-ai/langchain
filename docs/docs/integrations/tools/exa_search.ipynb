{
 "cells": [
  {
   "cell_type": "markdown",
   "metadata": {
    "id": "4x4kQ0VcodAC"
   },
   "source": [
    "# Exa Search"
   ]
  },
  {
   "cell_type": "markdown",
   "metadata": {
    "id": "V1x8wEUhodAH"
   },
   "source": [
    "Exa is a search engine fully designed for use by LLMs. Search for documents on the internet using **natural language queries**, then retrieve **cleaned HTML content** from desired documents.\n",
    "\n",
    "Unlike keyword-based search (Google), Exa's neural search capabilities allow it to semantically understand queries and return relevant documents. For example, we could search `\"fascinating article about cats\"` and compare the search results from [Google](https://www.google.com/search?q=fascinating+article+about+cats) and [Exa](https://search.exa.ai/search?q=fascinating%20article%20about%20cats&autopromptString=Here%20is%20a%20fascinating%20article%20about%20cats%3A). Google gives us SEO-optimized listicles based on the keyword \"fascinating\". Exa just works.\n",
    "\n",
    "This notebook goes over how to use Exa Search with LangChain."
   ]
  },
  {
   "cell_type": "markdown",
   "metadata": {},
   "source": [
    "## Setup\n",
    "\n",
    "### Installation\n",
    "\n",
    "Install the LangChain Exa integration package:"
   ]
  },
  {
   "cell_type": "code",
   "execution_count": null,
   "metadata": {},
   "outputs": [],
   "source": [
    "%pip install --upgrade --quiet langchain-exa \n",
    "\n",
    "# and some deps for this notebook\n",
    "%pip install --upgrade --quiet langchain langchain-openai langchain-community"
   ]
  },
  {
   "cell_type": "markdown",
   "metadata": {},
   "source": [
    "### Credentials\n",
    "\n",
    "You'll need an Exa API key to use this integration. Get $10 free credit (plus more by completing certain actions like making your first search) by [signing up here](https://dashboard.exa.ai/)."
   ]
  },
  {
   "cell_type": "code",
   "execution_count": null,
   "metadata": {},
   "outputs": [],
   "source": [
    "import getpass\n",
    "import os\n",
    "\n",
    "if not os.environ.get(\"EXA_API_KEY\"):\n",
    "    os.environ[\"EXA_API_KEY\"] = getpass.getpass(\"Exa API key:\\n\")"
   ]
  },
  {
   "cell_type": "markdown",
   "metadata": {},
   "source": [
    "## Using ExaSearchResults Tool\n",
    "\n",
    "ExaSearchResults is a tool that can be used with LangChain agents to perform Exa searches. It provides a more structured interface for search operations:"
   ]
  },
  {
   "cell_type": "code",
   "execution_count": null,
   "metadata": {},
   "outputs": [],
   "source": [
    "from langchain_exa import ExaSearchResults\n",
    "\n",
    "# Initialize the ExaSearchResults tool\n",
    "search_tool = ExaSearchResults(exa_api_key=os.environ[\"EXA_API_KEY\"])\n",
    "\n",
    "# Perform a search query\n",
    "search_results = search_tool._run(\n",
    "    query=\"When was the last time the New York Knicks won the NBA Championship?\",\n",
    "    num_results=5,\n",
    "    text_contents_options=True,\n",
    "    highlights=True,\n",
    ")\n",
    "\n",
    "print(\"Search Results:\", search_results)"
   ]
  },
  {
   "cell_type": "markdown",
   "metadata": {},
   "source": [
    "### Advanced Features for ExaSearchResults\n",
    "\n",
    "You can use advanced search options like controlling search type, live crawling, and content filtering:"
   ]
  },
  {
   "cell_type": "code",
   "execution_count": null,
   "metadata": {},
   "outputs": [],
   "source": [
    "# Perform a search query with advanced options\n",
    "search_results = search_tool._run(\n",
    "    query=\"Latest AI research papers\",\n",
    "    num_results=10,  # Number of results (1-100)\n",
    "    type=\"auto\",  # Can be \"neural\", \"keyword\", or \"auto\"\n",
    "    livecrawl=\"always\",  # Can be \"always\", \"fallback\", or \"never\"\n",
    "    text_contents_options={\"max_characters\": 2000},  # Limit text length\n",
    "    summary={\"query\": \"generate one liner\"},  # Custom summary prompt\n",
    ")\n",
    "\n",
    "print(\"Advanced Search Results:\")\n",
    "print(search_results)"
   ]
  },
  {
   "cell_type": "markdown",
   "metadata": {},
   "source": [
    "## Using ExaFindSimilarResults Tool\n",
    "\n",
    "ExaFindSimilarResults allows you to find webpages similar to a given URL. This is useful for finding related content or competitive analysis:"
   ]
  },
  {
   "cell_type": "code",
   "execution_count": null,
   "metadata": {},
   "outputs": [],
   "source": [
    "from langchain_exa import ExaFindSimilarResults\n",
    "\n",
    "# Initialize the ExaFindSimilarResults tool\n",
    "find_similar_tool = ExaFindSimilarResults(exa_api_key=os.environ[\"EXA_API_KEY\"])\n",
    "\n",
    "# Find similar results based on a URL\n",
    "similar_results = find_similar_tool._run(\n",
    "    url=\"http://espn.com\", num_results=5, text_contents_options=True, highlights=True\n",
    ")\n",
    "\n",
    "print(\"Similar Results:\", similar_results)"
   ]
  },
  {
   "cell_type": "markdown",
   "metadata": {},
   "source": [
    "## Use within an Agent\n",
    "\n",
    "We can use the ExaSearchResults and ExaFindSimilarResults tools with a LangGraph agent. This gives the agent the ability to dynamically search for information and find similar content based on the user's queries.\n",
    "\n",
    "First, let's set up the language model. You'll need to provide your OpenAI API key:"
   ]
  },
  {
   "cell_type": "code",
   "execution_count": null,
   "metadata": {
    "id": "0CsJFtuFodAK"
   },
   "outputs": [],
   "source": [
    "import getpass\n",
    "\n",
    "if not os.environ.get(\"OPENAI_API_KEY\"):\n",
    "    os.environ[\"OPENAI_API_KEY\"] = getpass.getpass(\"OpenAI API key:\\n\")"
   ]
  },
  {
   "cell_type": "markdown",
   "metadata": {
    "id": "sVe2ca9OodAO"
   },
   "source": [
    "We will need to install langgraph:"
   ]
  },
  {
   "cell_type": "code",
   "execution_count": null,
   "metadata": {},
   "outputs": [],
   "source": [
    "%pip install -qU langgraph"
   ]
  },
  {
   "cell_type": "code",
   "execution_count": null,
   "metadata": {
    "id": "e3FHjxT-RoIH"
   },
   "outputs": [],
   "source": [
    "from langchain.chat_models import init_chat_model\n",
    "from langchain_exa import ExaFindSimilarResults, ExaSearchResults\n",
    "from langgraph.prebuilt import create_react_agent\n",
    "\n",
    "# Initialize the language model\n",
    "llm = init_chat_model(model=\"gpt-4o\", model_provider=\"openai\", temperature=0)\n",
    "\n",
    "# Initialize Exa Tools\n",
    "exa_search = ExaSearchResults(\n",
    "    exa_api_key=os.environ[\"EXA_API_KEY\"],\n",
    "    max_results=5,\n",
    ")\n",
    "\n",
    "exa_find_similar = ExaFindSimilarResults(\n",
    "    exa_api_key=os.environ[\"EXA_API_KEY\"],\n",
    "    max_results=5,\n",
    ")\n",
    "\n",
    "# Create agent with both tools\n",
    "agent = create_react_agent(llm, [exa_search, exa_find_similar])\n",
    "\n",
    "# Example 1: Basic search\n",
    "user_input = \"What are the latest developments in quantum computing?\"\n",
    "\n",
    "for step in agent.stream(\n",
    "    {\"messages\": user_input},\n",
    "    stream_mode=\"values\",\n",
    "):\n",
    "    step[\"messages\"][-1].pretty_print()"
   ]
  },
  {
   "cell_type": "markdown",
   "metadata": {},
   "source": [
    "## Using ExaSearchRetriever\n",
    "\n",
    "ExaSearchRetriever is a retriever that uses Exa Search to retrieve relevant documents.\n",
    "\n",
    ":::note\n",
    "\n",
    "The `max_characters` parameter for **TextContentsOptions** used to be called `max_length` which is now deprecated. Make sure to use `max_characters` instead.\n",
    "\n",
    ":::\n",
    "\n",
    "### Basic Usage\n",
    "\n",
    "Here's a simple example of using ExaSearchRetriever:"
   ]
  },
  {
   "cell_type": "code",
   "execution_count": null,
   "metadata": {},
   "outputs": [],
   "source": [
    "from langchain_exa import ExaSearchRetriever\n",
    "\n",
    "# Create a new instance of the ExaSearchRetriever\n",
    "exa = ExaSearchRetriever(exa_api_key=os.environ[\"EXA_API_KEY\"])\n",
    "\n",
    "# Search for a query and save the results\n",
    "results = exa.invoke(\"What is the capital of France?\")\n",
    "\n",
    "# Print the results\n",
    "print(results)"
   ]
  },
  {
   "cell_type": "markdown",
   "metadata": {},
   "source": [
    "### Advanced Features\n",
    "\n",
    "You can use advanced features like controlling the number of results, search type, live crawling, summaries, and text content options:"
   ]
  },
  {
   "cell_type": "code",
   "execution_count": null,
   "metadata": {},
   "outputs": [],
   "source": [
    "from langchain_exa import ExaSearchRetriever\n",
    "\n",
    "# Create a new instance with advanced options\n",
    "exa = ExaSearchRetriever(\n",
    "    exa_api_key=os.environ[\"EXA_API_KEY\"],\n",
    "    k=20,  # Number of results (1-100)\n",
    "    type=\"auto\",  # Can be \"neural\", \"keyword\", or \"auto\"\n",
    "    livecrawl=\"always\",  # Can be \"always\", \"fallback\", or \"never\"\n",
    "    text_contents_options={\"max_characters\": 3000},  # Limit text length\n",
    "    # Custom prompt for an LLM generated summary of page content\n",
    "    summary={\"query\": \"generate one line summary in simple words.\"},\n",
    ")\n",
    "\n",
    "# Search with advanced options\n",
    "results = exa.invoke(\"Latest developments in quantum computing\")\n",
    "print(f\"Found {len(results)} results\")\n",
    "for result in results[:3]:  # Print first 3 results\n",
    "    print(f\"Title: {result.metadata.get('title', 'N/A')}\")\n",
    "    print(f\"URL: {result.metadata.get('url', 'N/A')}\")\n",
    "    print(f\"Summary: {result.metadata.get('summary', 'N/A')}\")\n",
    "    print(\"-\" * 80)"
   ]
  },
  {
   "cell_type": "markdown",
   "metadata": {},
   "source": [
    "## API Reference\n",
    "\n",
    "For detailed documentation of all Exa API features and configurations, visit the [Exa API documentation](https://docs.exa.ai/)."
   ]
  }
 ],
 "metadata": {
  "colab": {
   "provenance": []
  },
  "kernelspec": {
   "display_name": ".venv",
   "language": "python",
   "name": "python3"
  },
  "language_info": {
   "codemirror_mode": {
    "name": "ipython",
    "version": 3
   },
   "file_extension": ".py",
   "mimetype": "text/x-python",
   "name": "python",
   "nbconvert_exporter": "python",
   "pygments_lexer": "ipython3",
   "version": "3.13.2"
  }
 },
 "nbformat": 4,
 "nbformat_minor": 0
}
