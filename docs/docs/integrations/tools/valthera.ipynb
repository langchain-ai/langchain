{
    "cells": [
     {
      "cell_type": "markdown",
      "metadata": {},
      "source": [
       "## Overview\n",
       "\n",
       "Valthera is an open-source framework that enables LLM Agents to engage users in a more meaningful way. It is built on BJ Fogg’s Behavior Model (B=MAT) and leverages data from multiple sources (such as HubSpot, PostHog, and Snowflake) to assess a user’s **motivation** and **ability** before triggering an action.\n",
       "\n",
       "In this guide, you'll learn:\n",
       "\n",
       "- **Core Concepts:** Overview of the components (Data Aggregator, Scorer, Reasoning Engine, and Trigger Generator).\n",
       "- **System Architecture:** How data flows through the system and how decisions are made.\n",
       "- **Customization:** How to extend connectors, scoring metrics, and decision rules to fit your needs.\n",
       "\n",
       "Let's dive in!"
      ]
     },
     {
      "cell_type": "markdown",
      "metadata": {},
      "source": [
       "## Setup\n",
       "\n",
       "This section covers installation of dependencies and setting up custom data connectors for Valthera."
      ]
     },
     {
      "cell_type": "code",
      "execution_count": null,
      "metadata": {
       "vscode": {
        "languageId": "shellscript"
       }
      },
      "outputs": [],
      "source": [
       "pip install openai langchain langchain_openai valthera langchain_valthera langgraph"
      ]
     },
     {
      "cell_type": "code",
      "execution_count": null,
      "metadata": {},
      "outputs": [],
      "source": [
       "from valthera.connectors.base import BaseConnector\n",
       "\n",
       "class MockHubSpotConnector(BaseConnector):\n",
       "    \"\"\"\n",
       "    Simulates data retrieval from HubSpot. Provides information such as lead score, lifecycle stage, and marketing metrics.\n",
       "    \"\"\"\n",
       "    def get_user_data(self, user_id: str):\n",
       "        return {\n",
       "            \"hubspot_contact_id\": \"999-ZZZ\",\n",
       "            \"lifecycle_stage\": \"opportunity\",\n",
       "            \"lead_status\": \"engaged\",\n",
       "            \"lead_score\": 100,  # 100 implies full lead score factor\n",
       "            \"company_name\": \"MaxMotivation Corp.\",\n",
       "            \"last_contacted_date\": \"2023-09-20\",\n",
       "            \"marketing_emails_opened\": 20,\n",
       "            \"marketing_emails_clicked\": 10            \n",
       "        }\n",
       "\n",
       "\n",
       "class MockPostHogConnector(BaseConnector):\n",
       "    \"\"\"\n",
       "    Simulates data retrieval from PostHog. Provides session data and engagement events.\n",
       "    \"\"\"\n",
       "    def get_user_data(self, user_id: str):\n",
       "        return {\n",
       "            \"distinct_ids\": [user_id, f\"email_{user_id}\"],\n",
       "            \"last_event_timestamp\": \"2023-09-20T12:34:56Z\",\n",
       "            \"feature_flags\": [\"beta_dashboard\", \"early_access\"],\n",
       "            \"session_count\": 30,\n",
       "            \"avg_session_duration_sec\": 400,\n",
       "            \"recent_event_types\": [\"pageview\", \"button_click\", \"premium_feature_used\"],\n",
       "            \"events_count_past_30days\": 80,\n",
       "            \"onboarding_steps_completed\": 5\n",
       "        }\n",
       "\n",
       "\n",
       "class MockSnowflakeConnector(BaseConnector):\n",
       "    \"\"\"\n",
       "    Simulates retrieval of additional user profile data from Snowflake.\n",
       "    \"\"\"\n",
       "    def get_user_data(self, user_id: str):\n",
       "        return {\n",
       "            \"user_id\": user_id,\n",
       "            \"email\": f\"{user_id}@example.com\",\n",
       "            \"subscription_status\": \"paid\",\n",
       "            \"plan_tier\": \"premium\",\n",
       "            \"account_creation_date\": \"2023-01-01\",\n",
       "            \"preferred_language\": \"en\",\n",
       "            \"last_login_datetime\": \"2023-09-20T12:00:00Z\"\n",
       "        }"
      ]
     },
     {
      "cell_type": "markdown",
      "metadata": {},
      "source": [
       "## Instantiation\n",
       "\n",
       "In this section, we instantiate the core components. First, we create a Data Aggregator to combine data from the custom connectors. Then, we configure the scoring metrics for motivation and ability."
      ]
     },
     {
      "cell_type": "code",
      "execution_count": null,
      "metadata": {},
      "outputs": [],
      "source": [
       "from valthera.aggregator import DataAggregator\n",
       "\n",
       "data_aggregator = DataAggregator(\n",
       "    connectors={\n",
       "        \"hubspot\": MockHubSpotConnector(),\n",
       "        \"posthog\": MockPostHogConnector(),\n",
       "        \"snowflake\": MockSnowflakeConnector()\n",
       "    }\n",
       ")\n",
       "\n",
       "# You can now fetch unified user data by calling data_aggregator.get_user_context(user_id)"
      ]
     },
     {
      "cell_type": "code",
      "execution_count": null,
      "metadata": {},
      "outputs": [],
      "source": [
       "from valthera.scorer import ValtheraScorer\n",
       "\n",
       "# Scoring configuration for user motivation\n",
       "motivation_config = [\n",
       "    {\"key\": \"hubspot_lead_score\", \"weight\": 0.30, \"transform\": lambda x: min(x, 100) / 100.0},\n",
       "    {\"key\": \"posthog_events_count_past_30days\", \"weight\": 0.30, \"transform\": lambda x: min(x, 50) / 50.0},\n",
       "    {\"key\": \"hubspot_marketing_emails_opened\", \"weight\": 0.20, \"transform\": lambda x: min(x / 10.0, 1.0)},\n",
       "    {\"key\": \"posthog_session_count\", \"weight\": 0.20, \"transform\": lambda x: min(x / 5.0, 1.0)}\n",
       "]\n",
       "\n",
       "# Scoring configuration for user ability\n",
       "ability_config = [\n",
       "    {\"key\": \"posthog_onboarding_steps_completed\", \"weight\": 0.30, \"transform\": lambda x: min(x / 5.0, 1.0)},\n",
       "    {\"key\": \"posthog_session_count\", \"weight\": 0.30, \"transform\": lambda x: min(x / 10.0, 1.0)},\n",
       "    {\"key\": \"behavior_complexity\", \"weight\": 0.40, \"transform\": lambda x: 1 - (min(x, 5) / 5.0)}\n",
       "]\n",
       "\n",
       "# Instantiate the scorer\n",
       "scorer = ValtheraScorer(motivation_config, ability_config)"
      ]
     },
     {
      "cell_type": "markdown",
      "metadata": {},
      "source": [
       "## Invocation\n",
       "\n",
       "Next, we set up the Reasoning Engine and Trigger Generator, then bring all components together by instantiating the Valthera Tool. Finally, we execute the agent workflow to process an input message."
      ]
     },
     {
      "cell_type": "code",
      "execution_count": null,
      "metadata": {},
      "outputs": [],
      "source": [
       "import os\n",
       "from valthera.reasoning_engine import ReasoningEngine\n",
       "from langchain_openai import ChatOpenAI\n",
       "\n",
       "decision_rules = [\n",
       "    {\"condition\": \"motivation >= 0.75 and ability >= 0.75\", \"action\": \"trigger\", \"description\": \"Both scores are high enough.\"},\n",
       "    {\"condition\": \"motivation < 0.75\", \"action\": \"improve_motivation\", \"description\": \"User motivation is low.\"},\n",
       "    {\"condition\": \"ability < 0.75\", \"action\": \"improve_ability\", \"description\": \"User ability is low.\"},\n",
       "    {\"condition\": \"otherwise\", \"action\": \"defer\", \"description\": \"No action needed at this time.\"}\n",
       "]\n",
       "\n",
       "reasoning_engine = ReasoningEngine(\n",
       "    llm=ChatOpenAI(\n",
       "        model_name=\"gpt-4-turbo\",\n",
       "        temperature=0.0,\n",
       "        openai_api_key=os.environ.get(\"OPENAI_API_KEY\")\n",
       "    ),\n",
       "    decision_rules=decision_rules\n",
       ")"
      ]
     },
     {
      "cell_type": "code",
      "execution_count": null,
      "metadata": {},
      "outputs": [],
      "source": [
       "from valthera.trigger_generator import TriggerGenerator\n",
       "\n",
       "trigger_generator = TriggerGenerator(\n",
       "    llm=ChatOpenAI(\n",
       "        model_name=\"gpt-4-turbo\",\n",
       "        temperature=0.7,\n",
       "        openai_api_key=os.environ.get(\"OPENAI_API_KEY\")\n",
       "    )\n",
       ")"
      ]
     },
     {
      "cell_type": "code",
      "execution_count": null,
      "metadata": {},
      "outputs": [],
      "source": [
       "from langchain_valthera.tools import ValtheraTool\n",
       "from langgraph.prebuilt import create_react_agent\n",
       "\n",
       "valthera_tool = ValtheraTool(\n",
       "    data_aggregator=data_aggregator,\n",
       "    motivation_config=motivation_config,\n",
       "    ability_config=ability_config,\n",
       "    reasoning_engine=reasoning_engine,\n",
       "    trigger_generator=trigger_generator\n",
       ")\n",
       "\n",
       "llm = ChatOpenAI(model_name=\"gpt-4-turbo\", temperature=0.0, openai_api_key=os.environ.get(\"OPENAI_API_KEY\"))\n",
       "tools = [valthera_tool]\n",
       "graph = create_react_agent(llm, tools=tools)\n",
       "\n",
       "inputs = {\n",
       "    \"messages\": [(\"user\", \"Evaluate behavior for user_12345: Finish Onboarding\")]\n",
       "}\n",
       "\n",
       "for response in graph.stream(inputs, stream_mode=\"values\"):\n",
       "    print(response)"
      ]
     },
     {
      "cell_type": "markdown",
      "metadata": {},
      "source": [
       "## Chaining\n",
       "\n",
       "This integration does not currently support chaining operations. Future releases may include chaining support."
      ]
     },
     {
      "cell_type": "markdown",
      "metadata": {},
      "source": [
       "## API reference\n",
       "\n",
       "Below is an overview of the key APIs provided by the Valthera integration:\n",
       "\n",
       "- **Data Aggregator:** Use `data_aggregator.get_user_context(user_id)` to fetch aggregated user data.\n",
       "- **Scorer:** The `ValtheraScorer` computes motivation and ability scores based on the provided configurations.\n",
       "- **Reasoning Engine:** The `ReasoningEngine` evaluates decision rules to determine the appropriate action (trigger, improve motivation, improve ability, or defer).\n",
       "- **Trigger Generator:** Generates personalized trigger messages using the LLM.\n",
       "- **Valthera Tool:** Integrates all the components to process inputs and execute the agent workflow.\n",
       "\n",
       "For detailed usage, refer to the inline documentation in the source code."
      ]
     }
    ],
    "metadata": {
     "language_info": {
      "name": "python"
     },
     "title": "Valthera Developer Guide"
    },
    "nbformat": 4,
    "nbformat_minor": 2
   }
   