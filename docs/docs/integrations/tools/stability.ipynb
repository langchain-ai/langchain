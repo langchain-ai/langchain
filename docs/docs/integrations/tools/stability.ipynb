{
 "cells": [
  {
   "cell_type": "raw",
   "id": "afaf8039",
   "metadata": {},
   "source": "---\nsidebar_label: Stability\n---"
  },
  {
   "cell_type": "markdown", 
   "id": "e49f1e0d",
   "metadata": {},
   "source": "# Stability\n\n[Stability Protocol](https://portal.stabilityprotocol.com/) provides the first Zero Gas Transaction (ZKT) API, enabling AI agents to interact with blockchain without cryptocurrency requirements.\n\n## Overview\n\nThe Stability Toolkit allows LangChain agents to deploy smart contracts, read/write blockchain data, and send transactions with zero gas fees using FREE API keys.\n\nThe toolkit provides 4 main tools:\n- **StabilityWriteTool**: Send plain text messages to the blockchain\n- **StabilityReadTool**: Read data from smart contracts  \n- **StabilityWriteContractTool**: Execute state-changing smart contract calls\n- **StabilityDeployTool**: Deploy Solidity smart contracts\n\nKey features:\n- 🚀 Zero gas fees - no cryptocurrency required\n- 🔑 FREE API keys from portal.stabilityprotocol.com\n- 🛡️ Production-ready with enterprise security\n- 🤖 AI-first design for seamless agent integration"
  },
  {
   "cell_type": "markdown",
   "id": "0a7af45e", 
   "metadata": {},
   "source": "## Setup\n\nInstall the package and get your FREE API key:"
  },
  {
   "cell_type": "code",
   "execution_count": null,
   "id": "8f7303e1",
   "metadata": {},
   "outputs": [],
   "source": "!pip install stability-toolkit"
  },
  {
   "cell_type": "markdown",
   "id": "1b7a1917",
   "metadata": {},
   "source": "Get your FREE API key from [portal.stabilityprotocol.com](https://portal.stabilityprotocol.com/):\n- Up to 3 API keys per account\n- 1,000 write transactions per month  \n- 200 read operations per minute\n- Completely free access"
  },
  {
   "cell_type": "code",
   "execution_count": null,
   "id": "a7777f1e",
   "metadata": {},
   "outputs": [],
   "source": "import os\nos.environ[\"STABILITY_API_KEY\"] = \"your-api-key-from-portal\""
  },
  {
   "cell_type": "markdown",
   "id": "2e4b7b37",
   "metadata": {},
   "source": "## Instantiation\n\nInitialize the Stability Toolkit:"
  },
  {
   "cell_type": "code",
   "execution_count": null,
   "id": "6bb5c59c",
   "metadata": {},
   "outputs": [],
   "source": "from stability_toolkit import StabilityToolkit\n\n# Initialize with environment variable\ntoolkit = StabilityToolkit()\n\n# Or pass API key directly  \n# toolkit = StabilityToolkit(api_key=\"your-api-key-from-portal\")\n\n# Get all tools\ntools = toolkit.get_tools()\nprint(f\"Available tools: {len(tools)}\")\nfor tool in tools:\n    print(f\"- {tool.name}: {tool.description}\")"
  },
  {
   "cell_type": "markdown",
   "id": "3c5a8b41",
   "metadata": {},
   "source": "## Invocation\n\nUse the tools individually:"
  },
  {
   "cell_type": "code",
   "execution_count": null,
   "id": "52e8c5e9",
   "metadata": {},
   "outputs": [],
   "source": "# Send a message to blockchain\nwrite_tool = tools[0]  # StabilityWriteTool\nresult = write_tool.invoke(\"Hello from LangChain!\")\nprint(f\"Transaction result: {result}\")\n\n# Smart contract interaction example\nimport json\nread_tool = tools[1]  # StabilityReadTool\nread_params = {\n    \"to\": \"0x1234567890123456789012345678901234567890\",\n    \"abi\": [\"function balanceOf(address) view returns (uint256)\"],\n    \"method\": \"balanceOf\", \n    \"arguments\": [\"0xabcdefabcdefabcdefabcdefabcdefabcdefabcd\"]\n}\nbalance = read_tool.invoke(json.dumps(read_params))\nprint(f\"Balance: {balance}\")"
  },
  {
   "cell_type": "markdown",
   "id": "4d7e9c5f",
   "metadata": {},
   "source": "## Use within an agent\n\nUse the Stability Toolkit with LangChain agents:"
  },
  {
   "cell_type": "code",
   "execution_count": null,
   "id": "5e8f0d61",
   "metadata": {},
   "outputs": [],
   "source": "from langchain.agents import initialize_agent, AgentType\nfrom langchain_openai import ChatOpenAI\n\n# Initialize LLM and tools\nllm = ChatOpenAI(temperature=0)\ntools = toolkit.get_tools()\n\n# Create agent with Stability tools\nagent = initialize_agent(\n    tools=tools,\n    llm=llm,\n    agent=AgentType.ZERO_SHOT_REACT_DESCRIPTION,\n    verbose=True\n)\n\n# Agent can now interact with blockchain\nresult = agent.run(\n    \"Send a message 'AI agent transaction' to the blockchain and return the transaction hash\"\n)\nprint(result)"
  },
  {
   "cell_type": "markdown",
   "id": "6f9a1e73",
   "metadata": {},
   "source": "## API reference\n\nFor detailed documentation of all parameters and methods, see the [Stability Toolkit API reference](https://pypi.org/project/stability-toolkit/).\n\n**Resources:**\n- **Portal**: [portal.stabilityprotocol.com](https://portal.stabilityprotocol.com/)\n- **GitHub**: [stability-toolkit](https://github.com/nuljui/stability-toolkit)\n- **PyPI**: [stability-toolkit](https://pypi.org/project/stability-toolkit/)\n- **Support**: contact@stabilityprotocol.com"
  }
 ],
 "metadata": {
  "kernelspec": {
   "display_name": "Python 3 (ipykernel)",
   "language": "python",
   "name": "python3"
  },
  "language_info": {
   "codemirror_mode": {
    "name": "ipython",
    "version": 3
   },
   "file_extension": ".py",
   "mimetype": "text/x-python",
   "name": "python",
   "nbconvert_exporter": "python",
   "pygments_lexer": "ipython3",
   "version": "3.11.4"
  }
 },
 "nbformat": 4,
 "nbformat_minor": 5
}
