{
 "cells": [
  {
   "cell_type": "markdown",
   "metadata": {},
   "source": [
    "# BrightDataWebScraperAPI"
   ]
  },
  {
   "cell_type": "markdown",
   "metadata": {},
   "source": [
    "[Bright Data](https://brightdata.com/) provides a powerful Web Scraper API that allows you to extract structured data from 100+ ppular domains, including Amazon product details, LinkedIn profiles, and more, making it particularly useful for AI agents requiring reliable structured web data feeds."
   ]
  },
  {
   "cell_type": "markdown",
   "metadata": {},
   "source": [
    "## Overview"
   ]
  },
  {
   "cell_type": "markdown",
   "metadata": {},
   "source": [
    "### Integration details\n",
    "\n",
    "|Class|Package|Serializable|JS support|Package latest|\n",
    "|:--|:--|:-:|:-:|:-:|\n",
    "|[BrightDataWebScraperAPI](https://pypi.org/project/langchain-brightdata/)|[langchain-brightdata](https://pypi.org/project/langchain-brightdata/)|✅|❌|![PyPI - Version](https://img.shields.io/pypi/v/langchain-brightdata?style=flat-square&label=%20)|\n",
    "\n",
    "### Tool features\n",
    "\n",
    "|Native async|Returns artifact|Return data|Pricing|\n",
    "|:-:|:-:|:--|:-:|\n",
    "|❌|❌|Structured data from websites (Amazon products, LinkedIn profiles, etc.)|Requires Bright Data account|\n"
   ]
  },
  {
   "cell_type": "markdown",
   "metadata": {},
   "source": [
    "## Setup\n",
    "\n",
    "The integration lives in the `langchain-brightdata` package.\n"
   ]
  },
  {
   "cell_type": "code",
   "execution_count": null,
   "metadata": {
    "vscode": {
     "languageId": "plaintext"
    }
   },
   "outputs": [],
   "source": [
    "pip install langchain-brightdata"
   ]
  },
  {
   "cell_type": "markdown",
   "metadata": {},
   "source": [
    "You'll need a Bright Data API key to use this tool. You can set it as an environment variable:"
   ]
  },
  {
   "cell_type": "code",
   "execution_count": null,
   "metadata": {
    "vscode": {
     "languageId": "plaintext"
    }
   },
   "outputs": [],
   "source": [
    "import os\n",
    "os.environ[\"BRIGHT_DATA_API_KEY\"] = \"your-api-key\""
   ]
  },
  {
   "cell_type": "markdown",
   "metadata": {},
   "source": [
    "Or pass it directly when initializing the tool:"
   ]
  },
  {
   "cell_type": "code",
   "execution_count": null,
   "metadata": {
    "vscode": {
     "languageId": "plaintext"
    }
   },
   "outputs": [],
   "source": [
    "from langchain_brightdata import BrightDataWebScraperAPI\n",
    "\n",
    "scraper_tool = BrightDataWebScraperAPI(bright_data_api_key=\"your-api-key\")"
   ]
  },
  {
   "cell_type": "markdown",
   "metadata": {},
   "source": [
    "## Usage\n",
    "\n",
    "### Basic Usage"
   ]
  },
  {
   "cell_type": "code",
   "execution_count": null,
   "metadata": {
    "vscode": {
     "languageId": "plaintext"
    }
   },
   "outputs": [],
   "source": [
    "from langchain_brightdata import BrightDataWebScraperAPI\n",
    "\n",
    "# Initialize the tool\n",
    "scraper_tool = BrightDataWebScraperAPI(\n",
    "    bright_data_api_key=\"your-api-key\"  # Optional if set in environment variables\n",
    ")\n",
    "\n",
    "# Extract Amazon product data\n",
    "results = scraper_tool.invoke({\n",
    "    \"url\": \"https://www.amazon.com/dp/B08L5TNJHG\",\n",
    "    \"dataset_type\": \"amazon_product\"\n",
    "})\n",
    "\n",
    "print(results)"
   ]
  },
  {
   "cell_type": "markdown",
   "metadata": {},
   "source": [
    "### Advanced Usage with Parameters"
   ]
  },
  {
   "cell_type": "code",
   "execution_count": null,
   "metadata": {
    "vscode": {
     "languageId": "plaintext"
    }
   },
   "outputs": [],
   "source": [
    "from langchain_brightdata import BrightDataWebScraperAPI\n",
    "\n",
    "# Initialize with default parameters\n",
    "scraper_tool = BrightDataWebScraperAPI(\n",
    "    bright_data_api_key=\"your-api-key\"\n",
    ")\n",
    "\n",
    "# Extract Amazon product data with location-specific pricing\n",
    "results = scraper_tool.invoke({\n",
    "    \"url\": \"https://www.amazon.com/dp/B08L5TNJHG\",\n",
    "    \"dataset_type\": \"amazon_product\",\n",
    "    \"zipcode\": \"10001\"  # Get pricing for New York City\n",
    "})\n",
    "\n",
    "print(results)\n",
    "\n",
    "# Extract LinkedIn profile data\n",
    "linkedin_results = scraper_tool.invoke({\n",
    "    \"url\": \"https://www.linkedin.com/in/satyanadella/\",\n",
    "    \"dataset_type\": \"linkedin_person_profile\"\n",
    "})\n",
    "\n",
    "print(linkedin_results)"
   ]
  },
  {
   "cell_type": "markdown",
   "metadata": {},
   "source": [
    "## Customization Options\n",
    "\n",
    "The BrightDataWebScraperAPI tool accepts several parameters for customization:\n",
    "\n",
    "|Parameter|Type|Description|\n",
    "|:--|:--|:--|\n",
    "|`url`|str|The URL to extract data from|\n",
    "|`dataset_type`|str|Type of dataset to use (e.g., \"amazon_product\")|\n",
    "|`zipcode`|str|Optional zipcode for location-specific data|\n"
   ]
  },
  {
   "cell_type": "markdown",
   "metadata": {},
   "source": [
    "## Available Dataset Types\n",
    "\n",
    "The tool supports the following dataset types for structured data extraction:\n",
    "\n",
    "|Dataset Type|Description|\n",
    "|:--|:--|\n",
    "|`amazon_product`|Extract detailed Amazon product data|\n",
    "|`amazon_product_reviews`|Extract Amazon product reviews|\n",
    "|`linkedin_person_profile`|Extract LinkedIn person profile data|\n",
    "|`linkedin_company_profile`|Extract LinkedIn company profile data|\n"
   ]
  },
  {
   "cell_type": "markdown",
   "metadata": {},
   "source": [
    "## Additional Resources\n",
    "\n",
    "- [Bright Data API Documentation](https://docs.brightdata.com/scraping-automation/web-scraper-api/overview)"
   ]
  }
 ],
 "metadata": {
  "language_info": {
   "name": "python"
  }
 },
 "nbformat": 4,
 "nbformat_minor": 2
}
