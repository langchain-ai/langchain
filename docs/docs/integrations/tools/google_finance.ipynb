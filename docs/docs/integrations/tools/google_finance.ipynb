{
 "cells": [
  {
   "cell_type": "markdown",
   "metadata": {},
   "source": [
    "# Google Finance\n",
    "\n",
    "This notebook goes over how to use the Google Finance Tool to get information from the Google Finance page.\n",
    "\n",
    "To get an SerpApi key key, sign up at: https://serpapi.com/users/sign_up.\n",
    "\n",
    "To use the tool with Langchain install following packages"
   ]
  },
  {
   "cell_type": "code",
   "execution_count": null,
   "metadata": {},
   "outputs": [],
   "source": [
    "%pip install --upgrade --quiet  google-search-results langchain-community"
   ]
  },
  {
   "cell_type": "markdown",
   "metadata": {},
   "source": [
    "Then set the environment variable SERPAPI_API_KEY to your SerpApi key or pass the key in as a argument to the wrapper serp_api_key=\"your secret key\"."
   ]
  },
  {
   "cell_type": "code",
   "execution_count": null,
   "metadata": {},
   "outputs": [],
   "source": [
    "import os\n",
    "\n",
    "from langchain_community.tools.google_finance import GoogleFinanceQueryRun\n",
    "from langchain_community.utilities.google_finance import GoogleFinanceAPIWrapper\n",
    "\n",
    "os.environ[\"SERPAPI_API_KEY\"] = \"[your serpapi key]\"\n",
    "tool = GoogleFinanceQueryRun(api_wrapper=GoogleFinanceAPIWrapper())"
   ]
  },
  {
   "cell_type": "code",
   "execution_count": 3,
   "metadata": {},
   "outputs": [
    {
     "data": {
      "text/plain": [
       "'\\nQuery: Google\\nstock: GOOGL:NASDAQ\\nprice: $161.96\\npercentage: 1.68\\nmovement: Up\\n'"
      ]
     },
     "execution_count": 3,
     "metadata": {},
     "output_type": "execute_result"
    }
   ],
   "source": [
    "tool.run(\"Google\")"
   ]
  },
  {
   "cell_type": "markdown",
   "metadata": {},
   "source": [
    "In order to create an agent that uses the Google Finance tool install Langgraph"
   ]
  },
  {
   "cell_type": "code",
   "execution_count": null,
   "metadata": {},
   "outputs": [],
   "source": [
    "%pip install --upgrade --quiet langgraph langchain-openai"
   ]
  },
  {
   "cell_type": "markdown",
   "metadata": {},
   "source": [
    "and use the `create_react_agent` functionality to initialize a ReAct agent. You will also need to set up your OPEN_API_KEY (visit https://platform.openai.com) in order to access OpenAI's chat models."
   ]
  },
  {
   "cell_type": "code",
   "execution_count": null,
   "metadata": {},
   "outputs": [
    {
     "name": "stdout",
     "output_type": "stream",
     "text": [
      "================================\u001b[1m Human Message \u001b[0m=================================\n",
      "\n",
      "What is Google's stock?\n",
      "==================================\u001b[1m Ai Message \u001b[0m==================================\n",
      "Tool Calls:\n",
      "  google_finance (call_u676mJAkdojgkW806ZGSE8mF)\n",
      " Call ID: call_u676mJAkdojgkW806ZGSE8mF\n",
      "  Args:\n",
      "    query: Google\n",
      "=================================\u001b[1m Tool Message \u001b[0m=================================\n",
      "Name: google_finance\n",
      "\n",
      "\n",
      "Query: Google\n",
      "stock: GOOGL:NASDAQ\n",
      "price: $161.96\n",
      "percentage: 1.68\n",
      "movement: Up\n",
      "\n",
      "==================================\u001b[1m Ai Message \u001b[0m==================================\n",
      "\n",
      "Google's stock (Ticker: GOOGL) is currently priced at $161.96, showing an increase of 1.68%.\n"
     ]
    }
   ],
   "source": [
    "import os\n",
    "\n",
    "from langchain.agents import load_tools\n",
    "from langchain.chat_models import init_chat_model\n",
    "from langgraph.prebuilt import create_react_agent\n",
    "\n",
    "os.environ[\"OPENAI_API_KEY\"] = \"[your openai key]\"\n",
    "os.environ[\"SERP_API_KEY\"] = \"[your serpapi key]\"\n",
    "\n",
    "llm = init_chat_model(\"gpt-4o-mini\", model_provider=\"openai\")\n",
    "tools = load_tools([\"google-scholar\", \"google-finance\"], llm=llm)\n",
    "agent = create_react_agent(llm, tools)\n",
    "\n",
    "events = agent.stream(\n",
    "    {\"messages\": [(\"user\", \"What is Google's stock?\")]},\n",
    "    stream_mode=\"values\",\n",
    ")\n",
    "for event in events:\n",
    "    event[\"messages\"][-1].pretty_print()"
   ]
  }
 ],
 "metadata": {
  "kernelspec": {
   "display_name": "venv",
   "language": "python",
   "name": "python3"
  },
  "language_info": {
   "codemirror_mode": {
    "name": "ipython",
    "version": 3
   },
   "file_extension": ".py",
   "mimetype": "text/x-python",
   "name": "python",
   "nbconvert_exporter": "python",
   "pygments_lexer": "ipython3",
   "version": "3.12.7"
  }
 },
 "nbformat": 4,
 "nbformat_minor": 2
}
