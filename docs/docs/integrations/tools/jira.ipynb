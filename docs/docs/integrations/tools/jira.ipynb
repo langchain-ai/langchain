{
 "cells": [
  {
   "cell_type": "markdown",
   "id": "245a954a",
   "metadata": {},
   "source": [
    "# Jira Toolkit\n",
    "\n",
    "This notebook goes over how to use the `Jira` toolkit.\n",
    "\n",
    "The `Jira` toolkit allows agents to interact with a given Jira instance, performing actions such as searching for issues and creating issues, the tool wraps the atlassian-python-api library, for more see: https://atlassian-python-api.readthedocs.io/jira.html\n",
    "\n",
    "## Installation and setup\n",
    "\n",
    "To use this tool, you must first set as environment variables:\n",
    "    JIRA_API_TOKEN\n",
    "    JIRA_USERNAME\n",
    "    JIRA_INSTANCE_URL\n",
    "    JIRA_CLOUD"
   ]
  },
  {
   "cell_type": "code",
   "execution_count": null,
   "id": "961b3689",
   "metadata": {
    "ExecuteTime": {
     "end_time": "2023-04-17T10:21:20.168639Z",
     "start_time": "2023-04-17T10:21:18.698672Z"
    },
    "vscode": {
     "languageId": "shellscript"
    }
   },
   "outputs": [],
   "source": [
    "%pip install --upgrade --quiet  atlassian-python-api"
   ]
  },
  {
   "cell_type": "code",
   "execution_count": null,
   "id": "e84d425c",
   "metadata": {
    "vscode": {
     "languageId": "shellscript"
    }
   },
   "outputs": [],
   "source": [
    "%pip install -qU langchain-community langchain_openai"
   ]
  },
  {
   "cell_type": "code",
   "execution_count": 2,
   "id": "34bb5968",
   "metadata": {
    "ExecuteTime": {
     "end_time": "2023-04-17T10:21:23.730922Z",
     "start_time": "2023-04-17T10:21:22.911233Z"
    },
    "execution": {
     "iopub.execute_input": "2024-10-02T17:40:07.356954Z",
     "iopub.status.busy": "2024-10-02T17:40:07.356792Z",
     "iopub.status.idle": "2024-10-02T17:40:07.359943Z",
     "shell.execute_reply": "2024-10-02T17:40:07.359476Z",
     "shell.execute_reply.started": "2024-10-02T17:40:07.356942Z"
    }
   },
   "outputs": [],
   "source": [
    "import os\n",
    "\n",
    "from langchain.agents import AgentType, initialize_agent\n",
    "from langchain_community.agent_toolkits.jira.toolkit import JiraToolkit\n",
    "from langchain_community.utilities.jira import JiraAPIWrapper\n",
    "from langchain_openai import OpenAI"
   ]
  },
  {
   "cell_type": "code",
   "execution_count": 3,
   "id": "b3050b55",
   "metadata": {
    "ExecuteTime": {
     "end_time": "2023-04-17T10:22:42.505412Z",
     "start_time": "2023-04-17T10:22:42.499447Z"
    },
    "collapsed": false,
    "execution": {
     "iopub.execute_input": "2024-10-02T17:40:16.201684Z",
     "iopub.status.busy": "2024-10-02T17:40:16.200922Z",
     "iopub.status.idle": "2024-10-02T17:40:16.208035Z",
     "shell.execute_reply": "2024-10-02T17:40:16.207564Z",
     "shell.execute_reply.started": "2024-10-02T17:40:16.201634Z"
    },
    "jupyter": {
     "outputs_hidden": false
    }
   },
   "outputs": [],
   "source": [
    "os.environ[\"JIRA_API_TOKEN\"] = \"abc\"\n",
    "os.environ[\"JIRA_USERNAME\"] = \"123\"\n",
    "os.environ[\"JIRA_INSTANCE_URL\"] = \"https://jira.atlassian.com\"\n",
    "os.environ[\"OPENAI_API_KEY\"] = \"xyz\"\n",
    "os.environ[\"JIRA_CLOUD\"] = \"True\""
   ]
  },
  {
   "cell_type": "code",
   "execution_count": 4,
   "id": "c0768000-227b-4aa1-a838-4befbdefadb1",
   "metadata": {
    "execution": {
     "iopub.execute_input": "2024-10-02T17:42:00.792867Z",
     "iopub.status.busy": "2024-10-02T17:42:00.792365Z",
     "iopub.status.idle": "2024-10-02T17:42:00.816979Z",
     "shell.execute_reply": "2024-10-02T17:42:00.816419Z",
     "shell.execute_reply.started": "2024-10-02T17:42:00.792827Z"
    }
   },
   "outputs": [],
   "source": [
    "llm = OpenAI(temperature=0)\n",
    "jira = JiraAPIWrapper()\n",
    "toolkit = JiraToolkit.from_jira_api_wrapper(jira)"
   ]
  },
  {
   "cell_type": "markdown",
   "id": "961b3187-daf0-4907-9cc0-a69796fba4aa",
   "metadata": {},
   "source": [
    "## Tool usage\n",
    "\n",
    "Let's see what individual tools are in the Jira toolkit:"
   ]
  },
  {
   "cell_type": "code",
   "execution_count": 5,
   "id": "eb5cf521-9a91-44bc-b68e-bc4067d05a76",
   "metadata": {
    "execution": {
     "iopub.execute_input": "2024-10-02T17:42:27.232022Z",
     "iopub.status.busy": "2024-10-02T17:42:27.231140Z",
     "iopub.status.idle": "2024-10-02T17:42:27.240169Z",
     "shell.execute_reply": "2024-10-02T17:42:27.239693Z",
     "shell.execute_reply.started": "2024-10-02T17:42:27.231949Z"
    }
   },
   "outputs": [
    {
     "data": {
      "text/plain": [
       "[('JQL Query',\n",
       "  '\\n    This tool is a wrapper around atlassian-python-api\\'s Jira jql API, useful when you need to search for Jira issues.\\n    The input to this tool is a JQL query string, and will be passed into atlassian-python-api\\'s Jira `jql` function,\\n    For example, to find all the issues in project \"Test\" assigned to the me, you would pass in the following string:\\n    project = Test AND assignee = currentUser()\\n    or to find issues with summaries that contain the word \"test\", you would pass in the following string:\\n    summary ~ \\'test\\'\\n    '),\n",
       " ('Get Projects',\n",
       "  \"\\n    This tool is a wrapper around atlassian-python-api's Jira project API, \\n    useful when you need to fetch all the projects the user has access to, find out how many projects there are, or as an intermediary step that involv searching by projects. \\n    there is no input to this tool.\\n    \"),\n",
       " ('Create Issue',\n",
       "  '\\n    This tool is a wrapper around atlassian-python-api\\'s Jira issue_create API, useful when you need to create a Jira issue. \\n    The input to this tool is a dictionary specifying the fields of the Jira issue, and will be passed into atlassian-python-api\\'s Jira `issue_create` function.\\n    For example, to create a low priority task called \"test issue\" with description \"test description\", you would pass in the following dictionary: \\n    {{\"summary\": \"test issue\", \"description\": \"test description\", \"issuetype\": {{\"name\": \"Task\"}}, \"priority\": {{\"name\": \"Low\"}}}}\\n    '),\n",
       " ('Catch all Jira API call',\n",
       "  '\\n    This tool is a wrapper around atlassian-python-api\\'s Jira API.\\n    There are other dedicated tools for fetching all projects, and creating and searching for issues, \\n    use this tool if you need to perform any other actions allowed by the atlassian-python-api Jira API.\\n    The input to this tool is a dictionary specifying a function from atlassian-python-api\\'s Jira API, \\n    as well as a list of arguments and dictionary of keyword arguments to pass into the function.\\n    For example, to get all the users in a group, while increasing the max number of results to 100, you would\\n    pass in the following dictionary: {{\"function\": \"get_all_users_from_group\", \"args\": [\"group\"], \"kwargs\": {{\"limit\":100}} }}\\n    or to find out how many projects are in the Jira instance, you would pass in the following string:\\n    {{\"function\": \"projects\"}}\\n    For more information on the Jira API, refer to https://atlassian-python-api.readthedocs.io/jira.html\\n    '),\n",
       " ('Create confluence page',\n",
       "  'This tool is a wrapper around atlassian-python-api\\'s Confluence \\natlassian-python-api API, useful when you need to create a Confluence page. The input to this tool is a dictionary \\nspecifying the fields of the Confluence page, and will be passed into atlassian-python-api\\'s Confluence `create_page` \\nfunction. For example, to create a page in the DEMO space titled \"This is the title\" with body \"This is the body. You can use \\n<strong>HTML tags</strong>!\", you would pass in the following dictionary: {{\"space\": \"DEMO\", \"title\":\"This is the \\ntitle\",\"body\":\"This is the body. You can use <strong>HTML tags</strong>!\"}} ')]"
      ]
     },
     "execution_count": 5,
     "metadata": {},
     "output_type": "execute_result"
    }
   ],
   "source": [
    "[(tool.name, tool.description) for tool in toolkit.get_tools()]"
   ]
  },
  {
   "cell_type": "code",
   "execution_count": 5,
   "id": "ac4910f8",
   "metadata": {
    "ExecuteTime": {
     "end_time": "2023-04-17T10:22:44.720538Z",
     "start_time": "2023-04-17T10:22:44.664481Z"
    }
   },
   "outputs": [],
   "source": [
    "agent = initialize_agent(\n",
    "    toolkit.get_tools(), llm, agent=AgentType.ZERO_SHOT_REACT_DESCRIPTION, verbose=True\n",
    ")"
   ]
  },
  {
   "cell_type": "code",
   "execution_count": 9,
   "id": "d5461370",
   "metadata": {
    "ExecuteTime": {
     "end_time": "2023-04-17T10:23:38.121883Z",
     "start_time": "2023-04-17T10:23:33.662454Z"
    },
    "collapsed": false,
    "jupyter": {
     "outputs_hidden": false
    }
   },
   "outputs": [
    {
     "name": "stdout",
     "output_type": "stream",
     "text": [
      "\n",
      "\n",
      "\u001b[1m> Entering new AgentExecutor chain...\u001b[0m\n",
      "\u001b[32;1m\u001b[1;3m I need to create an issue in project PW\n",
      "Action: Create Issue\n",
      "Action Input: {\"summary\": \"Make more fried rice\", \"description\": \"Reminder to make more fried rice\", \"issuetype\": {\"name\": \"Task\"}, \"priority\": {\"name\": \"Low\"}, \"project\": {\"key\": \"PW\"}}\u001b[0m\n",
      "Observation: \u001b[38;5;200m\u001b[1;3mNone\u001b[0m\n",
      "Thought:\u001b[32;1m\u001b[1;3m I now know the final answer\n",
      "Final Answer: A new issue has been created in project PW with the summary \"Make more fried rice\" and description \"Reminder to make more fried rice\".\u001b[0m\n",
      "\n",
      "\u001b[1m> Finished chain.\u001b[0m\n"
     ]
    },
    {
     "data": {
      "text/plain": [
       "'A new issue has been created in project PW with the summary \"Make more fried rice\" and description \"Reminder to make more fried rice\".'"
      ]
     },
     "execution_count": 9,
     "metadata": {},
     "output_type": "execute_result"
    }
   ],
   "source": [
    "agent.run(\"make a new issue in project PW to remind me to make more fried rice\")"
   ]
  }
 ],
 "metadata": {
  "kernelspec": {
   "display_name": "Python 3 (ipykernel)",
   "language": "python",
   "name": "python3"
  },
  "language_info": {
   "codemirror_mode": {
    "name": "ipython",
    "version": 3
   },
   "file_extension": ".py",
   "mimetype": "text/x-python",
   "name": "python",
   "nbconvert_exporter": "python",
   "pygments_lexer": "ipython3",
   "version": "3.10.12"
  },
  "vscode": {
   "interpreter": {
    "hash": "53f3bc57609c7a84333bb558594977aa5b4026b1d6070b93987956689e367341"
   }
  }
 },
 "nbformat": 4,
 "nbformat_minor": 5
}
