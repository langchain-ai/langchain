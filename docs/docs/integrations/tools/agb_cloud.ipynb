{
  "cells": [
    {
      "cell_type": "raw",
      "id": "afaf8039",
      "metadata": {},
      "source": [
        "---\n",
        "sidebar_label: AgbCloud\n",
        "---"
      ]
    },
    {
      "cell_type": "markdown",
      "id": "e49f1e0d",
      "metadata": {},
      "source": [
        "# AgbCloudToolkit\n",
        "\n",
        "This will help you get started with the AGB Cloud [toolkit](/docs/concepts/tools/#toolkits). For detailed documentation of all AgbIntegrationToolkit features and configurations head to the [API reference](https://api.python.langchain.com/en/latest/agent_toolkits/langchain_agb_cloud.agent_toolkits.AgbCloud.toolkit.AgbCloudToolkit.html).\n",
        "\n",
        "The AGB platform integration provides tools for file operations, code execution, and command execution within a secure cloud environment."
      ]
    },
    {
      "cell_type": "markdown",
      "id": "72ee0c4b-9764-423a-9dbf-95129e185210",
      "metadata": {},
      "source": [
        "To enable automated tracing of individual tools, set your [LangSmith](https://docs.smith.langchain.com/) API key:"
      ]
    },
    {
      "cell_type": "code",
      "execution_count": null,
      "id": "a15d341e-3e26-4ca3-830b-5aab30ed66de",
      "metadata": {},
      "outputs": [],
      "source": [
        "# os.environ[\"LANGSMITH_API_KEY\"] = getpass.getpass(\"Enter your LangSmith API key: \")\n",
        "# os.environ[\"LANGSMITH_TRACING\"] = \"true\""
      ]
    },
    {
      "cell_type": "markdown",
      "id": "0730d6a1-c893-4840-9817-5e5251676d5d",
      "metadata": {},
      "source": [
        "## Setup\n",
        "\n",
        "To use the AGB integration, you need to get an API key from [AGB Cloud](https://agb.cloud/) and configure it as an environment variable:\n",
        "\n",
        "```bash\n",
        "export AGB_API_KEY=\"your-api-key\"\n",
        "```\n",
        "\n",
        "### Prerequisites\n",
        "\n",
        "- **AGB Cloud account**: Register your free AGB Cloud account [here](https://agb.cloud/).\n",
        "- **AGB API token**: Learn how to get your API token from the AGB platform dashboard.\n",
        "- **OpenAI API key**: For using OpenAI models with the agent."
      ]
    },
    {
      "cell_type": "code",
      "execution_count": null,
      "id": "setup-env-vars",
      "metadata": {},
      "outputs": [],
      "source": [
        "import os\n",
        "\n",
        "os.environ[\"AGB_API_KEY\"] = \"your-agb-api-key\"\n",
        "os.environ[\"OPENAI_API_KEY\"] = \"your-openai-api-key\""
      ]
    },
    {
      "cell_type": "markdown",
      "id": "a38cde65-254d-4219-a441-068766c0d4b5",
      "metadata": {},
      "source": [
        "### Installation\n",
        "\n",
        "This toolkit lives in the `langchain-agb-integration` package. You also need to install the `agb` package to interact with the AGB platform:"
      ]
    },
    {
      "cell_type": "code",
      "execution_count": null,
      "id": "652d6238-1f87-422a-b135-f5abbb8652fc",
      "metadata": {},
      "outputs": [],
      "source": [
        "%pip install -qU langchain-agb-integration agb"
      ]
    },
    {
      "cell_type": "code",
      "execution_count": null,
      "id": "install-additional-deps",
      "metadata": {},
      "outputs": [],
      "source": [
        "%pip install -qU langchain-openai langgraph"
      ]
    },
    {
      "cell_type": "markdown",
      "id": "a38cde65-254d-4219-a441-068766c0d4b5",
      "metadata": {},
      "source": [
        "## Instantiation\n",
        "\n",
        "Now we can instantiate our toolkit:"
      ]
    },
    {
      "cell_type": "code",
      "execution_count": null,
      "id": "cb09c344-1836-4e0c-acf8-11d13ac1dbae",
      "metadata": {},
      "outputs": [],
      "source": [
        "from agb import AGB\n",
        "from langchain_agb_integration import AgbIntegrationToolkit\n",
        "\n",
        "# Create AGB session\n",
        "agb = AGB()\n",
        "result = agb.create()\n",
        "session = result.session\n",
        "\n",
        "toolkit = AgbIntegrationToolkit(session=session)"
      ]
    },
    {
      "cell_type": "markdown",
      "id": "5c5f2839-4020-424e-9fc9-07777eede442",
      "metadata": {},
      "source": [
        "## Tools\n",
        "\n",
        "View available tools:"
      ]
    },
    {
      "cell_type": "code",
      "execution_count": null,
      "id": "51a60dbe-9f2e-4e04-bb62-23968f17164a",
      "metadata": {},
      "outputs": [],
      "source": [
        "tools = toolkit.get_tools()"
      ]
    },
    {
      "cell_type": "markdown",
      "id": "d11245ad-3661-4405-8558-1188896347ec",
      "metadata": {},
      "source": [
        "The toolkit provides four main tools:\n",
        "\n",
        "1. **WriteFileTool**: Write content to a file in the AGB session with either overwrite or append mode.\n",
        "2. **ReadFileTool**: Read content from a file in the AGB session.\n",
        "3. **RunCodeTool**: Execute Python or JavaScript code in a secure cloud environment with configurable timeout.\n",
        "4. **ExecuteCommandTool**: Execute shell commands in the AGB session with timeout control."
      ]
    },
    {
      "cell_type": "markdown",
      "id": "dfe8aad4-8626-4330-98a9-7ea1ca5d2e0e",
      "metadata": {},
      "source": [
        "## Use within an agent"
      ]
    },
    {
      "cell_type": "code",
      "execution_count": null,
      "id": "310bf18e-6c9a-4072-b86e-47bc1fcca29d",
      "metadata": {},
      "outputs": [],
      "source": [
        "from langchain.agents import AgentExecutor, create_tool_calling_agent\n",
        "from langchain_core.prompts import ChatPromptTemplate\n",
        "from langchain_openai import ChatOpenAI\n",
        "\n",
        "# Initialize the LLM\n",
        "llm = ChatOpenAI(model=\"gpt-4o\")\n",
        "\n",
        "prompt = ChatPromptTemplate.from_messages([\n",
        "    (\"system\", \"You are a helpful assistant that can execute code and commands in a secure cloud environment.\"),\n",
        "    (\"human\", \"{input}\"),\n",
        "    (\"placeholder\", \"{agent_scratchpad}\")\n",
        "])\n",
        "\n",
        "agent = create_tool_calling_agent(llm, tools, prompt)\n",
        "agent_executor = AgentExecutor(agent=agent, tools=tools, verbose=True)"
      ]
    },
    {
      "cell_type": "code",
      "execution_count": null,
      "id": "23e11cc9-abd6-4855-a7eb-799f45ca01ae",
      "metadata": {},
      "outputs": [],
      "source": [
        "example_query = \"Create a Python script that prints 'Hello from AGB Cloud!' and execute it.\"\n",
        "\n",
        "result = agent_executor.invoke({\"input\": example_query})\n",
        "print(result[\"output\"])"
      ]
    },
    {
      "cell_type": "markdown",
      "id": "d1ee55bc-ffc8-4cfa-801c-993953a08cfd",
      "metadata": {},
      "source": [
        "## Individual Tool Usage\n",
        "\n",
        "You can also use tools individually:"
      ]
    },
    {
      "cell_type": "code",
      "execution_count": null,
      "id": "unique-id-here",
      "metadata": {},
      "outputs": [],
      "source": [
        "from langchain_agb_integration.tools import WriteFileTool, ReadFileTool, RunCodeTool, ExecuteCommandTool\n",
        "\n",
        "# Create individual tools\n",
        "write_tool = WriteFileTool(session=session)\n",
        "read_tool = ReadFileTool(session=session)\n",
        "code_tool = RunCodeTool(session=session)\n",
        "command_tool = ExecuteCommandTool(session=session)\n",
        "\n",
        "# Use tools\n",
        "write_tool.invoke({\"path\": \"/tmp/test.txt\", \"content\": \"Hello World\", \"mode\": \"overwrite\"})\n",
        "read_tool.invoke({\"path\": \"/tmp/test.txt\"})\n",
        "code_tool.invoke({\"code\": \"print('Hello from Python!')\", \"language\": \"python\"})\n",
        "command_tool.invoke({\"command\": \"ls -la\", \"timeout_ms\": 1000})"
      ]
    }
  ],
  "metadata": {
    "kernelspec": {
      "display_name": "Python 3 (ipykernel)",
      "language": "python",
      "name": "python3"
    },
    "language_info": {
      "codemirror_mode": {
        "name": "ipython",
        "version": 3
      },
      "file_extension": ".py",
      "mimetype": "text/x-python",
      "name": "python",
      "nbconvert_exporter": "python",
      "pygments_lexer": "ipython3",
      "version": "3.10.4"
    }
  },
  "nbformat": 4,
  "nbformat_minor": 5
}
