{
 "cells": [
  {
   "cell_type": "raw",
   "id": "10238e62-3465-4973-9279-606cbb7ccf16",
   "metadata": {
    "vscode": {
     "languageId": "raw"
    }
   },
   "source": [
    "---\n",
    "sidebar_label: Anchorbrowser\n",
    "---"
   ]
  },
  {
   "cell_type": "markdown",
   "id": "a6f91f20",
   "metadata": {},
   "source": [
    "# Anchorbrowser\n",
    "\n",
    "Anchor is the platform for AI Agentic browser automation, which solves the challenge of automating workflows for web applications that lack APIs or have limited API coverage. It simplifies the creation, deployment, and management of browser-based automations, transforming complex web interactions into simple API endpoints.\n",
    "\n",
    "This notebook provides a quick overview for getting started with Anchorbrowser tools. For more information of AnchorBrowser visit [Anchorbrowser.io](https://anchorbrowser.io?utm=langchain) or [Anchorbrowser Docs](https://docs.anchorbrowser.io?utm=langchain)\n",
    "\n",
    "## Overview\n",
    "\n",
    "### Integration details\n",
    "Anchor Browser package for LangChain is [langchain-anchorbrowser](https://pypi.org/project/langchain-anchorbrowser), and the current latest version is ![PyPI - Version](https://img.shields.io/pypi/v/langchain-anchorbrowser?style=flat-square&label=%20).\n",
    "\n",
    "\n",
    "### Tool features\n",
    "| Tool Name | Package | Description | Parameters |\n",
    "| :--- | :--- | :--- | :---|\n",
    "| AnchorContentTool | langchain-anchorbrowser | Extract text content from web pages | url, format |\n",
    "| AnchorScreenshotTool | langchain-anchorbrowser | Take screenshots of web pages | url, width, height, image_quality, wait, scroll_all_content, capture_full_height, s3_target_address |\n",
    "| AnchorWebTaskToolKit | langchain-anchorbrowser | Perform intelligent web tasks using AI (Simple, Standard, Advanced modes) | see below |\n",
    "\n",
    "Parameter **default values** are the same as those in the Anchorbrowser API reference respectively: [Get Webpage Content](https://docs.anchorbrowser.io/api-reference/tools/get-webpage-content?utm=langchain), [Screenshot Webpage](https://docs.anchorbrowser.io/api-reference/tools/screenshot-webpage?utm=langchain), and [Perform Web Task](https://docs.anchorbrowser.io/api-reference/ai-tools/perform-web-task?utm=langchain).\n",
    "\n",
    "**Info:** Anchor provides agent usage both with `browser_use` and `openai-cua` while using `StandardAnchorWebTaskTool` and `AdvancedAnchorWebTaskTool` tools.\n",
    "</div>\n",
    "\n",
    "\n",
    "#### AnchorWebTaskToolKit Tools\n",
    "The difference between each tool in this toolkit is the pydantic configuration structure.\n",
    "| Tool Name | Package | Parameters |\n",
    "| :--- | :--- | :--- |\n",
    "| SimpleAnchorWebTaskTool | langchain-anchorbrowser | prompt, url |\n",
    "| StandardAnchorWebTaskTool | langchain-anchorbrowser | prompt, url, agent, provider, model |\n",
    "| AdvancedAnchorWebTaskTool | langchain-anchorbrowser | prompt, url, agent, provider, model, highlight_elements, output_schema |\n",
    "\n",
    "\n",
    "## Setup\n",
    "The integration lives in the `langchain-anchorbrowser` package."
   ]
  },
  {
   "cell_type": "code",
   "execution_count": null,
   "id": "f85b4089",
   "metadata": {},
   "outputs": [],
   "source": [
    "%pip install --quiet -U langchain-anchorbrowser"
   ]
  },
  {
   "cell_type": "markdown",
   "id": "e7785b1c-3558-4a14-a3b3-89820f823e4b",
   "metadata": {},
   "source": [
    "Later in this notebook there will be a chaining example with openai, to run that part the `langchain-openai` package is needed:"
   ]
  },
  {
   "cell_type": "code",
   "execution_count": null,
   "id": "68ab66ce-71a7-454d-a109-2dee6e95481e",
   "metadata": {},
   "outputs": [],
   "source": [
    "%pip install -qU langchain langchain-openai"
   ]
  },
  {
   "cell_type": "markdown",
   "id": "b15e9266",
   "metadata": {},
   "source": [
    "### Credentials\n",
    "Use your Anchorbrowser Credentials. Get them on Anchorbrowser [API Keys page](https://app.anchorbrowser.io/api-keys?utm=langchain) as needed."
   ]
  },
  {
   "cell_type": "code",
   "execution_count": null,
   "id": "e0b178a2-8816-40ca-b57c-ccdd86dde9c9",
   "metadata": {},
   "outputs": [],
   "source": [
    "import getpass\n",
    "import os\n",
    "\n",
    "if not os.environ.get(\"ANCHORBROWSER_API_KEY\"):\n",
    "    os.environ[\"ANCHORBROWSER_API_KEY\"] = getpass.getpass(\"ANCHORBROWSER API key:\\n\")"
   ]
  },
  {
   "cell_type": "markdown",
   "id": "cd567dc4-dde8-4d12-bf11-66b7d5e15745",
   "metadata": {},
   "source": [
    "For the OpenAI Chaining example OpenAI credentials is needed too:"
   ]
  },
  {
   "cell_type": "code",
   "execution_count": null,
   "id": "ca484954-a52d-4767-ac39-709864137b73",
   "metadata": {},
   "outputs": [],
   "source": [
    "if not os.environ.get(\"OPENAI_API_KEY\"):\n",
    "    os.environ[\"OPENAI_API_KEY\"] = getpass.getpass(\"OPENAI API key:\\n\")"
   ]
  },
  {
   "cell_type": "markdown",
   "id": "1c97218f-f366-479d-8bf7-fe9f2f6df73f",
   "metadata": {},
   "source": [
    "## Instantiation\n",
    "Instantiace easily Anchorbrowser tools instances."
   ]
  },
  {
   "cell_type": "code",
   "execution_count": null,
   "id": "8b3ddfe9-ca79-494c-a7ab-1f56d9407a64",
   "metadata": {},
   "outputs": [],
   "source": [
    "from langchain_anchorbrowser import (\n",
    "    AnchorContentTool,\n",
    "    AnchorScreenshotTool,\n",
    "    SimpleAnchorWebTaskTool,\n",
    ")\n",
    "\n",
    "anchor_content_tool = AnchorContentTool()\n",
    "anchor_screenshot_tool = AnchorScreenshotTool()\n",
    "anchor_simple_web_task_tool = SimpleAnchorWebTaskTool()"
   ]
  },
  {
   "cell_type": "markdown",
   "id": "74147a1a",
   "metadata": {},
   "source": [
    "## Invocation\n",
    "\n",
    "### [Invoke directly with args](/docs/concepts/tools/#use-the-tool-directly)\n",
    "The full available argument list appear above in the tool features table."
   ]
  },
  {
   "cell_type": "code",
   "execution_count": null,
   "id": "65310a8b-eb0c-4d9e-a618-4f4abe2414fc",
   "metadata": {},
   "outputs": [],
   "source": [
    "# Get Markdown Content for https://www.anchorbrowser.io\n",
    "anchor_content_tool.invoke(\n",
    "    {\"url\": \"https://www.anchorbrowser.io\", \"format\": \"markdown\"}\n",
    ")\n",
    "\n",
    "# Get a Screenshot for https://docs.anchorbrowser.io\n",
    "anchor_screenshot_tool.invoke(\n",
    "    {\"url\": \"https://docs.anchorbrowser.io\", \"width\": 1280, \"height\": 720}\n",
    ")\n",
    "\n",
    "# Get a Screenshot for https://docs.anchorbrowser.io\n",
    "anchor_simple_web_task_tool.invoke(\n",
    "    {\n",
    "        \"prompt\": \"View the NASA website and then get me one of the latest space news\",\n",
    "        \"url\": \"https://nasa.gov\",\n",
    "    }\n",
    ")"
   ]
  },
  {
   "cell_type": "markdown",
   "id": "d6e73897",
   "metadata": {},
   "source": [
    "### [Invoke with ToolCall](/docs/concepts/tool_calling/#tool-execution)\n",
    "\n",
    "We can also invoke the tool with a model-generated ToolCall, in which case a ToolMessage will be returned:"
   ]
  },
  {
   "cell_type": "code",
   "execution_count": null,
   "id": "f90e33a7",
   "metadata": {},
   "outputs": [],
   "source": [
    "# This is usually generated by a model, but we'll create a tool call directly for demo purposes.\n",
    "model_generated_tool_call = {\n",
    "    \"args\": {\"url\": \"https://www.anchorbrowser.io\", \"format\": \"markdown\"},\n",
    "    \"id\": \"1\",\n",
    "    \"name\": anchor_content_tool.name,\n",
    "    \"type\": \"tool_call\",\n",
    "}\n",
    "anchor_content_tool.invoke(model_generated_tool_call)"
   ]
  },
  {
   "cell_type": "markdown",
   "id": "659f9fbd-6fcf-445f-aa8c-72d8e60154bd",
   "metadata": {},
   "source": [
    "## Chaining\n",
    "We can use our tool in a chain by first binding it to a [tool-calling model](/docs/how_to/tool_calling/) and then calling it:"
   ]
  },
  {
   "cell_type": "markdown",
   "id": "7f7e2589-ec4b-42fe-9587-12623b7bcf7a",
   "metadata": {},
   "source": [
    "## Use within an agent"
   ]
  },
  {
   "cell_type": "code",
   "execution_count": null,
   "id": "af3123ad-7a02-40e5-b58e-7d56e23e5830",
   "metadata": {},
   "outputs": [],
   "source": [
    "from langchain.chat_models import init_chat_model\n",
    "\n",
    "llm = init_chat_model(model=\"gpt-4o\", model_provider=\"openai\")"
   ]
  },
  {
   "cell_type": "code",
   "execution_count": null,
   "id": "fdbf35b5-3aaf-4947-9ec6-48c21533fb95",
   "metadata": {},
   "outputs": [],
   "source": [
    "from langchain_core.prompts import ChatPromptTemplate\n",
    "from langchain_core.runnables import RunnableConfig, chain\n",
    "\n",
    "prompt = ChatPromptTemplate(\n",
    "    [\n",
    "        (\"system\", \"You are a helpful assistant.\"),\n",
    "        (\"human\", \"{user_input}\"),\n",
    "        (\"placeholder\", \"{messages}\"),\n",
    "    ]\n",
    ")\n",
    "\n",
    "# specifying tool_choice will force the model to call this tool.\n",
    "llm_with_tools = llm.bind_tools(\n",
    "    [anchor_content_tool], tool_choice=anchor_content_tool.name\n",
    ")\n",
    "\n",
    "llm_chain = prompt | llm_with_tools\n",
    "\n",
    "\n",
    "@chain\n",
    "def tool_chain(user_input: str, config: RunnableConfig):\n",
    "    input_ = {\"user_input\": user_input}\n",
    "    ai_msg = llm_chain.invoke(input_, config=config)\n",
    "    tool_msgs = anchor_content_tool.batch(ai_msg.tool_calls, config=config)\n",
    "    return llm_chain.invoke({**input_, \"messages\": [ai_msg, *tool_msgs]}, config=config)\n",
    "\n",
    "\n",
    "tool_chain.invoke(input())"
   ]
  },
  {
   "cell_type": "markdown",
   "id": "4ac8146c",
   "metadata": {},
   "source": [
    "## API reference\n",
    " - [PyPi](https://pypi.org/project/langchain-anchorbrowser)\n",
    " - [Github](https://github.com/anchorbrowser/langchain-anchorbrowser)\n",
    " - [Anchorbrowser Docs](https://docs.anchorbrowser.io/introduction?utm=langchain)\n",
    " - [Anchorbrowser API Reference](https://docs.anchorbrowser.io/api-reference/ai-tools/perform-web-task?utm=langchain)"
   ]
  }
 ],
 "metadata": {
  "kernelspec": {
   "display_name": "Python 3 (ipykernel)",
   "language": "python",
   "name": "python3"
  },
  "language_info": {
   "codemirror_mode": {
    "name": "ipython",
    "version": 3
   },
   "file_extension": ".py",
   "mimetype": "text/x-python",
   "name": "python",
   "nbconvert_exporter": "python",
   "pygments_lexer": "ipython3",
   "version": "3.13.5"
  }
 },
 "nbformat": 4,
 "nbformat_minor": 5
}
