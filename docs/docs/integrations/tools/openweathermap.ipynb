{
 "cells": [
  {
   "cell_type": "markdown",
   "id": "245a954a",
   "metadata": {},
   "source": [
    "# OpenWeatherMap\n",
    "\n",
    "This notebook goes over how to use the `OpenWeatherMap` component to fetch weather information.\n",
    "\n",
    "First, you need to sign up for an `OpenWeatherMap API` key:\n",
    "\n",
    "1. Go to OpenWeatherMap and sign up for an API key [here](https://openweathermap.org/api/)\n",
    "2. pip install pyowm\n",
    "\n",
    "Then we will need to set some environment variables:\n",
    "1. Save your API KEY into OPENWEATHERMAP_API_KEY env variable\n",
    "\n",
    "## Use the wrapper"
   ]
  },
  {
   "cell_type": "code",
   "execution_count": 1,
   "id": "8b81a74e-db10-4e8d-9f90-83219df30ab3",
   "metadata": {},
   "outputs": [
    {
     "name": "stdout",
     "output_type": "stream",
     "text": [
      "Note: you may need to restart the kernel to use updated packages.\n"
     ]
    }
   ],
   "source": [
    "%pip install --upgrade --quiet pyowm"
   ]
  },
  {
   "cell_type": "code",
   "execution_count": 2,
   "id": "78ab9fcd-bb7b-434b-9a38-0a9249e35768",
   "metadata": {},
   "outputs": [],
   "source": [
    "import os\n",
    "\n",
    "from langchain_community.utilities import OpenWeatherMapAPIWrapper\n",
    "\n",
    "os.environ[\"OPENWEATHERMAP_API_KEY\"] = \"\"\n",
    "\n",
    "weather = OpenWeatherMapAPIWrapper()"
   ]
  },
  {
   "cell_type": "code",
   "execution_count": 3,
   "id": "0a8aa4b0-6aea-4172-9546-361e127a4a02",
   "metadata": {},
   "outputs": [
    {
     "name": "stdout",
     "output_type": "stream",
     "text": [
      "In London,GB, the current weather is as follows:\n",
      "Detailed status: overcast clouds\n",
      "Wind speed: 4.12 m/s, direction: 10°\n",
      "Humidity: 51%\n",
      "Temperature: \n",
      "  - Current: 12.82°C\n",
      "  - High: 13.98°C\n",
      "  - Low: 12.01°C\n",
      "  - Feels like: 11.49°C\n",
      "Rain: {}\n",
      "Heat index: None\n",
      "Cloud cover: 100%\n"
     ]
    }
   ],
   "source": [
    "weather_data = weather.run(\"London,GB\")\n",
    "print(weather_data)"
   ]
  },
  {
   "cell_type": "markdown",
   "id": "e73cfa56",
   "metadata": {},
   "source": [
    "## Use the tool"
   ]
  },
  {
   "cell_type": "code",
   "execution_count": 4,
   "id": "402c832c-87c7-4088-b80f-ec1924a43796",
   "metadata": {},
   "outputs": [],
   "source": [
    "import os\n",
    "\n",
    "from langgraph.prebuilt import create_react_agent\n",
    "\n",
    "os.environ[\"OPENAI_API_KEY\"] = \"\"\n",
    "os.environ[\"OPENWEATHERMAP_API_KEY\"] = \"\"\n",
    "\n",
    "tools = [weather.run]\n",
    "agent = create_react_agent(\"openai:gpt-4.1-mini\", tools)"
   ]
  },
  {
   "cell_type": "code",
   "execution_count": 5,
   "id": "9b423a92-1568-4ee2-9c7d-3b9acf7756a1",
   "metadata": {},
   "outputs": [
    {
     "name": "stdout",
     "output_type": "stream",
     "text": [
      "================================\u001b[1m Human Message \u001b[0m=================================\n",
      "\n",
      "What's the weather like in London?\n",
      "==================================\u001b[1m Ai Message \u001b[0m==================================\n",
      "Tool Calls:\n",
      "  run (call_6vPq9neyy7oOnht29ExidE2g)\n",
      " Call ID: call_6vPq9neyy7oOnht29ExidE2g\n",
      "  Args:\n",
      "    location: London\n",
      "=================================\u001b[1m Tool Message \u001b[0m=================================\n",
      "Name: run\n",
      "\n",
      "In London, the current weather is as follows:\n",
      "Detailed status: overcast clouds\n",
      "Wind speed: 4.12 m/s, direction: 10°\n",
      "Humidity: 51%\n",
      "Temperature: \n",
      "  - Current: 12.82°C\n",
      "  - High: 13.98°C\n",
      "  - Low: 12.01°C\n",
      "  - Feels like: 11.49°C\n",
      "Rain: {}\n",
      "Heat index: None\n",
      "Cloud cover: 100%\n",
      "==================================\u001b[1m Ai Message \u001b[0m==================================\n",
      "\n",
      "The weather in London is currently overcast with 100% cloud cover. The temperature is around 12.82°C, feeling like 11.49°C. The wind is blowing at 4.12 m/s from the direction of 10°. Humidity is at 51%. The high for the day is 13.98°C, and the low is 12.01°C.\n"
     ]
    }
   ],
   "source": [
    "input_message = {\n",
    "    \"role\": \"user\",\n",
    "    \"content\": (\"What's the weather like in London?\"),\n",
    "}\n",
    "\n",
    "for step in agent.stream(\n",
    "    {\"messages\": [input_message]},\n",
    "    stream_mode=\"values\",\n",
    "):\n",
    "    step[\"messages\"][-1].pretty_print()"
   ]
  },
  {
   "cell_type": "code",
   "execution_count": null,
   "id": "f2af226a-9cca-468d-b07f-0a928ea61f48",
   "metadata": {},
   "outputs": [],
   "source": []
  }
 ],
 "metadata": {
  "kernelspec": {
   "display_name": "Python 3 (ipykernel)",
   "language": "python",
   "name": "python3"
  },
  "language_info": {
   "codemirror_mode": {
    "name": "ipython",
    "version": 3
   },
   "file_extension": ".py",
   "mimetype": "text/x-python",
   "name": "python",
   "nbconvert_exporter": "python",
   "pygments_lexer": "ipython3",
   "version": "3.13.3"
  }
 },
 "nbformat": 4,
 "nbformat_minor": 5
}
