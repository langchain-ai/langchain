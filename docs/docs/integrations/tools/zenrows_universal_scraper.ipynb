{
  "nbformat": 4,
  "nbformat_minor": 0,
  "metadata": {
    "colab": {
      "provenance": []
    },
    "kernelspec": {
      "name": "python3",
      "display_name": "Python 3"
    },
    "language_info": {
      "name": "python"
    }
  },
  "cells": [
    {
      "cell_type": "markdown",
      "source": [
        "# ZenRowsUniversalScraper\n",
        "\n",
        "[ZenRows](https://www.zenrows.com/) is an enterprise-grade web scraping tool that provides advanced web data extraction capabilities at scale. For more information about ZenRows and its Universal Scraper API, visit the [official documentation](https://docs.zenrows.com/universal-scraper-api/).\n",
        "\n",
        "This document provides a quick overview for getting started with ZenRowsUniversalScraper tool. For detailed documentation of all ZenRowsUniversalScraper features and configurations head to the [API reference](https://github.com/ZenRows-Hub/langchain-zenrows?tab=readme-ov-file#api-reference).\n",
        "\n",
        "## Overview\n",
        "\n",
        "### Integration details\n",
        "\n",
        "| Class | Package | JS support |  Package latest |\n",
        "| :--- | :--- | :---: | :---: |\n",
        "| [ZenRowsUniversalScraper](https://pypi.org/project/langchain-zenrows/) | [langchain-zenrows](https://pypi.org/project/langchain-zenrows/) | ❌ |  ![PyPI - Version](https://img.shields.io/pypi/v/langchain-zenrows?style=flat-square&label=%20) |\n",
        "\n",
        "### Tool features\n",
        "\n",
        "| Feature | Support |\n",
        "| :--- | :---: |\n",
        "| **JavaScript Rendering** | ✅ |\n",
        "| **Anti-Bot Bypass** | ✅ |\n",
        "| **Geo-Targeting** | ✅ |\n",
        "| **Multiple Output Formats** | ✅ |\n",
        "| **CSS Extraction** | ✅ |\n",
        "| **Screenshot Capture** | ✅ |\n",
        "| **Session Management** | ✅ |\n",
        "| **Premium Proxies** | ✅ |\n",
        "\n",
        "## Setup\n",
        "\n",
        "Install the required dependencies."
      ],
      "metadata": {
        "id": "FVo_qZB6crBs"
      }
    },
    {
      "cell_type": "code",
      "source": [
        "pip install langchain-zenrows"
      ],
      "metadata": {
        "collapsed": true,
        "id": "henNSgOlcww5"
      },
      "execution_count": null,
      "outputs": []
    },
    {
      "cell_type": "markdown",
      "source": [
        "### Credentials\n",
        "\n",
        "You'll need a ZenRows API key to use this tool. You can sign up for free at [ZenRows](https://app.zenrows.com/register?prod=universal_scraper)."
      ],
      "metadata": {
        "id": "IS2yw_UaczgP"
      }
    },
    {
      "cell_type": "code",
      "source": [
        "import os\n",
        "\n",
        "# Set your ZenRows API key\n",
        "os.environ[\"ZENROWS_API_KEY\"] = \"<YOUR_ZENROWS_API_KEY>\""
      ],
      "metadata": {
        "id": "Z097qruic2iH"
      },
      "execution_count": 2,
      "outputs": []
    },
    {
      "cell_type": "markdown",
      "source": [
        "## Instantiation\n",
        "\n",
        "Here's how to instantiate an instance of the ZenRowsUniversalScraper tool."
      ],
      "metadata": {
        "id": "hB7fHgmQc5eh"
      }
    },
    {
      "cell_type": "code",
      "source": [
        "import os\n",
        "from langchain_zenrows import ZenRowsUniversalScraper\n",
        "\n",
        "# Set your ZenRows API key\n",
        "os.environ[\"ZENROWS_API_KEY\"] = \"<YOUR_ZENROWS_API_KEY>\"\n",
        "\n",
        "zenrows_scraper_tool = ZenRowsUniversalScraper()"
      ],
      "metadata": {
        "id": "ezdGcI3Hc8H3"
      },
      "execution_count": 3,
      "outputs": []
    },
    {
      "cell_type": "markdown",
      "source": [
        "You can also pass the ZenRows API key when initializing the ZenRowsUniversalScraper tool."
      ],
      "metadata": {
        "id": "cUal-Ioic_0k"
      }
    },
    {
      "cell_type": "code",
      "source": [
        "from langchain_zenrows import ZenRowsUniversalScraper\n",
        "\n",
        "zenrows_scraper_tool = ZenRowsUniversalScraper(zenrows_api_key=\"your-api-key\")"
      ],
      "metadata": {
        "id": "sPd95HKzdCGr"
      },
      "execution_count": 4,
      "outputs": []
    },
    {
      "cell_type": "markdown",
      "source": [
        "## Invocation\n",
        "\n",
        "### Basic Usage\n",
        "\n",
        "The tool accepts a URL and various optional parameters to customize the scraping behavior:"
      ],
      "metadata": {
        "id": "c8rEvAY4dFX2"
      }
    },
    {
      "cell_type": "code",
      "source": [
        "import os\n",
        "from langchain_zenrows import ZenRowsUniversalScraper\n",
        "\n",
        "# Set your ZenRows API key\n",
        "os.environ[\"ZENROWS_API_KEY\"] = \"<YOUR_ZENROWS_API_KEY>\"\n",
        "\n",
        "# Initialize the tool\n",
        "zenrows_scraper_tool = ZenRowsUniversalScraper()\n",
        "\n",
        "# Scrape a simple webpage\n",
        "result = zenrows_scraper_tool.invoke({\"url\": \"https://httpbin.io/html\"})\n",
        "print(result)"
      ],
      "metadata": {
        "id": "GKTDKhXEdGku"
      },
      "execution_count": null,
      "outputs": []
    },
    {
      "cell_type": "markdown",
      "source": [
        "### Advanced Usage with Parameters"
      ],
      "metadata": {
        "id": "7Kd1loN5dJbt"
      }
    },
    {
      "cell_type": "code",
      "source": [
        "import os\n",
        "from langchain_zenrows import ZenRowsUniversalScraper\n",
        "\n",
        "# Set your ZenRows API key\n",
        "os.environ[\"ZENROWS_API_KEY\"] = \"<YOUR_ZENROWS_API_KEY>\"\n",
        "\n",
        "zenrows_scraper_tool = ZenRowsUniversalScraper()\n",
        "\n",
        "# Scrape with JavaScript rendering and premium proxies\n",
        "result = zenrows_scraper_tool.invoke({\n",
        "    \"url\": \"https://www.scrapingcourse.com/ecommerce/\",\n",
        "    \"js_render\": True,\n",
        "    \"premium_proxy\": True,\n",
        "    \"proxy_country\": \"us\",\n",
        "    \"response_type\": \"markdown\",\n",
        "    \"wait\": 2000\n",
        "})\n",
        "\n",
        "print(result)"
      ],
      "metadata": {
        "id": "NfJOQdBhdLrp"
      },
      "execution_count": null,
      "outputs": []
    },
    {
      "cell_type": "markdown",
      "source": [
        "### Use within an agent"
      ],
      "metadata": {
        "id": "8eivshtqdNe0"
      }
    },
    {
      "cell_type": "code",
      "source": [
        "from langchain_zenrows import ZenRowsUniversalScraper\n",
        "from langchain_openai import ChatOpenAI  # or your preferred LLM\n",
        "from langgraph.prebuilt import create_react_agent\n",
        "import os\n",
        "\n",
        "# Set your ZenRows and OpenAI API keys\n",
        "os.environ[\"ZENROWS_API_KEY\"] = \"<YOUR_ZENROWS_API_KEY>\"\n",
        "os.environ[\"OPENAI_API_KEY\"] = \"<YOUR_OPEN_AI_API_KEY>\"\n",
        "\n",
        "\n",
        "# Initialize components\n",
        "llm = ChatOpenAI(model=\"gpt-4o-mini\")\n",
        "zenrows_scraper_tool = ZenRowsUniversalScraper()\n",
        "\n",
        "# Create agent\n",
        "agent = create_react_agent(llm, [zenrows_scraper_tool])\n",
        "\n",
        "# Use the agent\n",
        "result = agent.invoke(\n",
        "    {\n",
        "        \"messages\": \"Scrape https://news.ycombinator.com/ and list the top 3 stories with title, points, comments, username, and time.\"\n",
        "    }\n",
        ")\n",
        "\n",
        "print(\"Agent Response:\")\n",
        "for message in result[\"messages\"]:\n",
        "    print(f\"{message.content}\")"
      ],
      "metadata": {
        "id": "JmbPF7xadPgK"
      },
      "execution_count": null,
      "outputs": []
    },
    {
      "cell_type": "markdown",
      "source": [
        "## API reference\n",
        "\n",
        "For detailed documentation of all ZenRowsUniversalScraper features and configurations head to the [**ZenRowsUniversalScraper API reference**](https://github.com/ZenRows-Hub/langchain-zenrows).\n",
        "\n",
        "For comprehensive information about the underlying API parameters and capabilities, see the [ZenRows Universal API documentation](https://docs.zenrows.com/universal-scraper-api/api-reference)."
      ],
      "metadata": {
        "id": "k9lqlhoAdRSb"
      }
    }
  ]
}