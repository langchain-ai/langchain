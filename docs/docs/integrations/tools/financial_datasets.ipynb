{
 "cells": [
  {
   "cell_type": "markdown",
   "id": "9f9afdec",
   "metadata": {
    "collapsed": false
   },
   "source": [
    "# FinancialDatasets Toolkit\n",
    "\n",
    "The [financial datasets](https://financialdatasets.ai/) stock market API provides REST endpoints that let you get financial data for 16,000+ tickers spanning 30+ years.\n",
    "\n",
    "## Setup\n",
    "\n",
    "To use this toolkit, you need two API keys:\n",
    "\n",
    "`FINANCIAL_DATASETS_API_KEY`: Get it from [financialdatasets.ai](https://financialdatasets.ai/).\n",
    "`OPENAI_API_KEY`: Get it from [OpenAI](https://platform.openai.com/)."
   ]
  },
  {
   "cell_type": "code",
   "execution_count": null,
   "id": "0c9e4bc1",
   "metadata": {
    "collapsed": false
   },
   "outputs": [],
   "source": [
    "import getpass\n",
    "import os\n",
    "\n",
    "os.environ[\"FINANCIAL_DATASETS_API_KEY\"] = getpass.getpass()"
   ]
  },
  {
   "cell_type": "code",
   "execution_count": null,
   "id": "0938e69e",
   "metadata": {
    "collapsed": false
   },
   "outputs": [],
   "source": [
    "os.environ[\"OPENAI_API_KEY\"] = getpass.getpass()"
   ]
  },
  {
   "cell_type": "markdown",
   "id": "a362df50",
   "metadata": {
    "collapsed": false
   },
   "source": [
    "### Installation\n",
    "\n",
    "This toolkit lives in the `langchain-community` package."
   ]
  },
  {
   "cell_type": "code",
   "execution_count": null,
   "id": "652d6238-1f87-422a-b135-f5abbb8652fc",
   "metadata": {},
   "outputs": [],
   "source": [
    "%pip install -qU langchain-community"
   ]
  },
  {
   "cell_type": "markdown",
   "id": "a38cde65-254d-4219-a441-068766c0d4b5",
   "metadata": {},
   "source": [
    "## Instantiation\n",
    "\n",
    "Now we can instantiate our toolkit:"
   ]
  },
  {
   "cell_type": "code",
   "execution_count": null,
   "id": "cb09c344-1836-4e0c-acf8-11d13ac1dbae",
   "metadata": {},
   "outputs": [],
   "source": [
    "from langchain_community.agent_toolkits.financial_datasets.toolkit import (\n",
    "    FinancialDatasetsToolkit,\n",
    ")\n",
    "from langchain_community.utilities.financial_datasets import FinancialDatasetsAPIWrapper\n",
    "\n",
    "api_wrapper = FinancialDatasetsAPIWrapper(\n",
    "    financial_datasets_api_key=os.environ[\"FINANCIAL_DATASETS_API_KEY\"]\n",
    ")\n",
    "toolkit = FinancialDatasetsToolkit(api_wrapper=api_wrapper)"
   ]
  },
  {
   "cell_type": "markdown",
   "id": "5c5f2839-4020-424e-9fc9-07777eede442",
   "metadata": {},
   "source": [
    "## Tools\n",
    "\n",
    "View available tools:"
   ]
  },
  {
   "cell_type": "code",
   "execution_count": null,
   "id": "51a60dbe-9f2e-4e04-bb62-23968f17164a",
   "metadata": {},
   "outputs": [],
   "source": [
    "tools = toolkit.get_tools()"
   ]
  },
  {
   "cell_type": "markdown",
   "id": "6cd0b36e",
   "metadata": {
    "collapsed": false
   },
   "source": [
    "## Use within an agent\n",
    "\n",
    "Let's equip our agent with the FinancialDatasetsToolkit and ask financial questions."
   ]
  },
  {
   "cell_type": "code",
   "execution_count": null,
   "id": "b68b7aae",
   "metadata": {
    "collapsed": false
   },
   "outputs": [],
   "source": [
    "system_prompt = \"\"\"\n",
    "You are an advanced financial analysis AI assistant equipped with specialized tools\n",
    "to access and analyze financial data. Your primary function is to help users with\n",
    "financial analysis by retrieving and interpreting income statements, balance sheets,\n",
    "and cash flow statements for publicly traded companies.\n",
    "\n",
    "You have access to the following tools from the FinancialDatasetsToolkit:\n",
    "\n",
    "1. Balance Sheets: Retrieves balance sheet data for a given ticker symbol.\n",
    "2. Income Statements: Fetches income statement data for a specified company.\n",
    "3. Cash Flow Statements: Accesses cash flow statement information for a particular ticker.\n",
    "\n",
    "Your capabilities include:\n",
    "\n",
    "1. Retrieving financial statements for any publicly traded company using its ticker symbol.\n",
    "2. Analyzing financial ratios and metrics based on the data from these statements.\n",
    "3. Comparing financial performance across different time periods (e.g., year-over-year or quarter-over-quarter).\n",
    "4. Identifying trends in a company's financial health and performance.\n",
    "5. Providing insights on a company's liquidity, solvency, profitability, and efficiency.\n",
    "6. Explaining complex financial concepts in simple terms.\n",
    "\n",
    "When responding to queries:\n",
    "\n",
    "1. Always specify which financial statement(s) you're using for your analysis.\n",
    "2. Provide context for the numbers you're referencing (e.g., fiscal year, quarter).\n",
    "3. Explain your reasoning and calculations clearly.\n",
    "4. If you need more information to provide a complete answer, ask for clarification.\n",
    "5. When appropriate, suggest additional analyses that might be helpful.\n",
    "\n",
    "Remember, your goal is to provide accurate, insightful financial analysis to\n",
    "help users make informed decisions. Always maintain a professional and objective tone in your responses.\n",
    "\"\"\""
   ]
  },
  {
   "cell_type": "markdown",
   "id": "687e6067",
   "metadata": {
    "collapsed": false
   },
   "source": [
    "Instantiate the LLM."
   ]
  },
  {
   "cell_type": "code",
   "execution_count": null,
   "id": "310bf18e-6c9a-4072-b86e-47bc1fcca29d",
   "metadata": {},
   "outputs": [],
   "source": [
    "from langchain_core.tools import tool\n",
    "from langchain_openai import ChatOpenAI\n",
    "\n",
    "model = ChatOpenAI(model=\"gpt-4o\")"
   ]
  },
  {
   "cell_type": "markdown",
   "id": "4572f574",
   "metadata": {
    "collapsed": false
   },
   "source": [
    "Define a user query."
   ]
  },
  {
   "cell_type": "code",
   "execution_count": null,
   "id": "23e11cc9-abd6-4855-a7eb-799f45ca01ae",
   "metadata": {},
   "outputs": [],
   "source": [
    "query = \"What was AAPL's revenue in 2023? What about it's total debt in Q1 2024?\""
   ]
  },
  {
   "cell_type": "markdown",
   "id": "1df02a16",
   "metadata": {
    "collapsed": false
   },
   "source": [
    "Create the agent."
   ]
  },
  {
   "cell_type": "code",
   "execution_count": null,
   "id": "bb1b72ca",
   "metadata": {
    "collapsed": false
   },
   "outputs": [],
   "source": [
    "from langchain.agents import AgentExecutor, create_tool_calling_agent\n",
    "from langchain_core.prompts import ChatPromptTemplate\n",
    "\n",
    "prompt = ChatPromptTemplate.from_messages(\n",
    "    [\n",
    "        (\"system\", system_prompt),\n",
    "        (\"human\", \"{input}\"),\n",
    "        # Placeholders fill up a **list** of messages\n",
    "        (\"placeholder\", \"{agent_scratchpad}\"),\n",
    "    ]\n",
    ")\n",
    "\n",
    "\n",
    "agent = create_tool_calling_agent(model, tools, prompt)\n",
    "agent_executor = AgentExecutor(agent=agent, tools=tools)"
   ]
  },
  {
   "cell_type": "markdown",
   "id": "d74ba1d3",
   "metadata": {
    "collapsed": false
   },
   "source": [
    "Query the agent."
   ]
  },
  {
   "cell_type": "code",
   "execution_count": null,
   "id": "d7f4d8db",
   "metadata": {
    "collapsed": false
   },
   "outputs": [],
   "source": [
    "agent_executor.invoke({\"input\": query})"
   ]
  },
  {
   "cell_type": "markdown",
   "id": "d72ed402",
   "metadata": {
    "collapsed": false
   },
   "source": [
    "## API reference\n",
    "\n",
    "For detailed documentation of all `FinancialDatasetsToolkit` features and configurations head to the [API reference](https://python.langchain.com/api_reference/community/agent_toolkits/langchain_community.agent_toolkits.financial_datasets.toolkit.FinancialDatasetsToolkit.html)."
   ]
  },
  {
   "cell_type": "markdown",
   "id": "056204cc",
   "metadata": {
    "collapsed": false
   },
   "source": []
  }
 ],
 "metadata": {
  "kernelspec": {
   "display_name": "Python 3 (ipykernel)",
   "language": "python",
   "name": "python3"
  },
  "language_info": {
   "codemirror_mode": {
    "name": "ipython",
    "version": 3
   },
   "file_extension": ".py",
   "mimetype": "text/x-python",
   "name": "python",
   "nbconvert_exporter": "python",
   "pygments_lexer": "ipython3",
   "version": "3.10.4"
  }
 },
 "nbformat": 4,
 "nbformat_minor": 5
}
