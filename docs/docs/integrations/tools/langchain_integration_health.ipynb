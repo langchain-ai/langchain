{
 "cells": [
  {
   "cell_type": "markdown",
   "id": "a6f91f20",
   "metadata": {},
   "source": [
    "# LangChain Integration Health\n",
    "\n",
    "This notebook shows how to use the LangChain Integration Health framework for testing and monitoring LangChain integration compatibility.\n",
    "\n",
    "First, you need to install the `langchain-integration-health` package."
   ]
  },
  {
   "cell_type": "markdown",
   "id": "r7krg98s4f",
   "source": "## Overview\n\nThe LangChain Integration Health framework provides testing and monitoring for LangChain integration compatibility.",
   "metadata": {}
  },
  {
   "cell_type": "markdown",
   "id": "2sh24bppwqk",
   "source": "## Setup\n\nInstall the package:",
   "metadata": {}
  },
  {
   "cell_type": "code",
   "execution_count": null,
   "id": "d5a7209e",
   "metadata": {},
   "outputs": [],
   "source": [
    "%pip install --upgrade --quiet langchain-integration-health"
   ]
  },
  {
   "cell_type": "markdown",
   "id": "1c97218f-f366-479d-8bf7-fe9f2f6df73f",
   "metadata": {},
   "source": "## Instantiation\n\nCreate the testing framework:"
  },
  {
   "cell_type": "code",
   "execution_count": null,
   "id": "8b3ddfe9-ca79-494c-a7ab-1f56d9407a64",
   "metadata": {},
   "outputs": [],
   "source": [
    "# Run integration health checks\n",
    "# !langchain-health discover\n",
    "# !langchain-health test\n",
    "# !langchain-health report\n",
    "\n",
    "print(\"LangChain Integration Health CLI ready\")"
   ]
  },
  {
   "cell_type": "markdown",
   "id": "21c5b56f-0da0-485f-b6f5-38950bae4fd0",
   "metadata": {},
   "source": "## Invocation\n\nRun integration tests:"
  },
  {
   "cell_type": "code",
   "execution_count": null,
   "id": "520767b8-9e61-4485-840a-d16f1da5eb3a",
   "metadata": {},
   "outputs": [],
   "source": [
    "from langchain_integration_health.testers import LLMIntegrationTester\n",
    "from langchain_integration_health.utils.config import Config\n",
    "\n",
    "# Example usage\n",
    "config = Config.from_env()\n",
    "print(\"Integration health framework ready\")"
   ]
  },
  {
   "cell_type": "markdown",
   "id": "b4183343-d69a-4be0-9b2c-cc98464a6825",
   "metadata": {},
   "source": "## Use within an agent\n\nMonitor integration health in real-time:"
  },
  {
   "cell_type": "code",
   "execution_count": null,
   "id": "34bb5968",
   "metadata": {},
   "outputs": [],
   "source": [
    "# Launch dashboard\n",
    "# !streamlit run -m langchain_integration_health.dashboard.app\n",
    "print(\"Dashboard available at http://localhost:8501\")"
   ]
  },
  {
   "cell_type": "markdown",
   "id": "vp8foz8rzv",
   "source": "## API reference\n\nFor detailed documentation of all features head to the [GitHub repository](https://github.com/sadiqkhzn/langchain-integration-health).",
   "metadata": {}
  }
 ],
 "metadata": {
  "kernelspec": {
   "display_name": "Python 3",
   "language": "python",
   "name": "python3"
  },
  "language_info": {
   "codemirror_mode": {
    "name": "ipython",
    "version": 3
   },
   "file_extension": ".py",
   "mimetype": "text/x-python",
   "name": "python",
   "nbconvert_exporter": "python",
   "pygments_lexer": "ipython3",
   "version": "3.11.0"
  }
 },
 "nbformat": 4,
 "nbformat_minor": 5
}