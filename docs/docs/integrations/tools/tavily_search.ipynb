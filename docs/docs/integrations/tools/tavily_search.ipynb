{
 "cells": [
  {
   "cell_type": "markdown",
   "id": "a6f91f20",
   "metadata": {},
   "source": [
    "# Tavily Search"
   ]
  },
  {
   "cell_type": "markdown",
   "id": "5e24a889",
   "metadata": {},
   "source": [
    "[Tavily's Search API](https://tavily.com) is a search engine built specifically for AI agents (LLMs), delivering real-time, accurate, and factual results at speed.\n",
    "\n",
    "## Overview\n",
    "\n",
    "### Integration details\n",
    "| Class | Package | Serializable | [JS support](https://js.langchain.com/docs/integrations/tools/tavily_search) |  Package latest |\n",
    "| :--- | :--- | :---: | :---: | :---: |\n",
    "| [TavilySearchResults](https://python.langchain.com/api_reference/community/tools/langchain_community.tools.tavily_search.tool.TavilySearchResults.html) | [langchain-community](https://python.langchain.com/api_reference/community/index.html) | ❌ | ✅ |  ![PyPI - Version](https://img.shields.io/pypi/v/langchain-community?style=flat-square&label=%20) |\n",
    "\n",
    "### Tool features\n",
    "| [Returns artifact](/docs/how_to/tool_artifacts/) | Native async | Return data | Pricing |\n",
    "| :---: | :---: | :---: | :---: |\n",
    "| ✅ | ✅ | Title, URL, raw content, answer, images, image descriptions | 1,000 free searches / month | \n",
    "\n",
    "\n",
    "## Setup\n",
    "\n",
    "The integration lives in the `langchain-community` package. We also need to install the `tavily-python` package."
   ]
  },
  {
   "cell_type": "code",
   "execution_count": null,
   "id": "f85b4089",
   "metadata": {},
   "outputs": [],
   "source": [
    "%pip install -qU \"langchain-community>=0.3.18\" tavily-python"
   ]
  },
  {
   "cell_type": "markdown",
   "id": "b15e9266",
   "metadata": {},
   "source": [
    "### Credentials\n",
    "\n",
    "We also need to set our Tavily API key. You can get an API key by visiting [this site](https://app.tavily.com/sign-in) and creating an account."
   ]
  },
  {
   "cell_type": "code",
   "execution_count": 1,
   "id": "e0b178a2-8816-40ca-b57c-ccdd86dde9c9",
   "metadata": {},
   "outputs": [],
   "source": [
    "import getpass\n",
    "import os\n",
    "\n",
    "if not os.environ.get(\"TAVILY_API_KEY\"):\n",
    "    os.environ[\"TAVILY_API_KEY\"] = getpass.getpass(\"Tavily API key:\\n\")"
   ]
  },
  {
   "cell_type": "code",
   "execution_count": null,
   "id": "9c96d3dc",
   "metadata": {},
   "outputs": [],
   "source": [
    "# if you experience issues with api keys try to set the api key manually\n",
    "# os.environ[\"TAVILY_API_KEY\"] = \"<YOUR_API_KEY>\""
   ]
  },
  {
   "cell_type": "markdown",
   "id": "bc5ab717-fd27-4c59-b912-bdd099541478",
   "metadata": {},
   "source": [
    "It's also helpful (but not needed) to set up [LangSmith](https://smith.langchain.com/) for best-in-class observability:"
   ]
  },
  {
   "cell_type": "code",
   "execution_count": 11,
   "id": "a6c2f136-6367-4f1f-825d-ae741e1bf281",
   "metadata": {},
   "outputs": [],
   "source": [
    "# os.environ[\"LANGSMITH_TRACING\"] = \"true\"\n",
    "# os.environ[\"LANGSMITH_API_KEY\"] = getpass.getpass()"
   ]
  },
  {
   "cell_type": "markdown",
   "id": "1c97218f-f366-479d-8bf7-fe9f2f6df73f",
   "metadata": {},
   "source": [
    "## Instantiation\n",
    "\n",
    "Here we show how to instantiate an instance of the Tavily search tools. The tool accepts various parameters to customize the search:"
   ]
  },
  {
   "cell_type": "code",
   "execution_count": 28,
   "id": "8b3ddfe9-ca79-494c-a7ab-1f56d9407a64",
   "metadata": {},
   "outputs": [],
   "source": [
    "from langchain_community.tools import TavilySearchResults\n",
    "\n",
    "tool = TavilySearchResults(\n",
    "    max_results=5,\n",
    "    topic=\"general\",\n",
    "    include_answer=False,\n",
    "    include_raw_content=True,           # including raw content may lead to hitting context length limits\n",
    "    # include_images=True,\n",
    "    # include_image_descriptions=True\n",
    "    # time_range=\"day\",\n",
    "    # days=3,\n",
    "    # include_domains=[...],\n",
    "    # exclude_domains=[...],\n",
    "    # name=\"...\",            # overwrite default tool name\n",
    "    # description=\"...\",     # overwrite default tool description\n",
    "    # args_schema=...,       # overwrite default args_schema: BaseModel\n",
    ")"
   ]
  },
  {
   "cell_type": "markdown",
   "id": "74147a1a",
   "metadata": {},
   "source": [
    "## Invocation\n",
    "\n",
    "### [Invoke directly with args](/docs/concepts/tools)\n",
    "\n",
    "The `TavilySearchResults` tool accepts the following arguments:\n",
    "- `query` (required): A natural language search query\n",
    "- `search_depth` (optional): The depth of the search (\"basic\" or \"advanced\")\n",
    "- `time_range` (optional): Time range filter (\"day\", \"week\", \"month\", \"year\")\n",
    "- `include_domains` (optional): List of domains to limit search results to\n",
    "- `exclude_domains` (optional): List of domains to exclude from search results\n",
    "- `include_images` (optional): Whether to include query-related images in response\n",
    "\n",
    "NOTE: The optional arguments are available for ReAct agents to dynamically set, if you set a argument during instantiation and then Invoke the tool with a different value, the tool will use the value you passed during invokation. To read more about ReAct agents, check out the [ReAct agent](https://python.langchain.com/v0.1/docs/modules/agents/agent_types/react/) documentation."
   ]
  },
  {
   "cell_type": "code",
   "execution_count": 10,
   "id": "65310a8b-eb0c-4d9e-a618-4f4abe2414fc",
   "metadata": {},
   "outputs": [
    {
     "data": {
      "text/plain": [
       "{'query': 'What happened at the last wimbledon',\n",
       " 'follow_up_questions': None,\n",
       " 'answer': None,\n",
       " 'images': [],\n",
       " 'results': [{'title': \"Andy Murray pulls out of the men's singles draw at his last Wimbledon\",\n",
       "   'url': 'https://www.nbcnews.com/news/sports/andy-murray-wimbledon-tennis-singles-draw-rcna159912',\n",
       "   'content': \"NBC News Now LONDON — Andy Murray, one of the last decade's most successful male tennis players, has pulled out of the singles tournament at what is almost certain to be his last Wimbledon, his team confirmed Tuesday. Murray, 37, who has won the Wimbledon singles title twice and the U.S Open once, has been battling to be fit to play at the All England Club for weeks. “Unfortunately, despite working incredibly hard on his recovery since his operation just over a week ago, Andy has taken the very difficult decision not to play the singles this year,” his team said in a statement reported by Sky News. The news caps a glittering career on the ATP singles tour, which placed Murray at No. 1 in the world for 41 weeks.\",\n",
       "   'score': 0.6755297,\n",
       "   'raw_content': \"Andy Murray pulls out of the men's singles draw at his last Wimbledon\\nIE 11 is not supported. For an optimal experience visit our site on another browser.\\nSkip to Content\\n\\n\\nTrump admin\\nPolitics\\n\\nLocal\\n\\nNew York\\nLos Angeles\\nChicago\\nDallas-Fort Worth\\nPhiladelphia\\nWashington, D.C.\\nBoston\\nBay Area\\nSouth Florida\\nSan Diego\\nConnecticut\\n\\n\\n\\nU.S. News\\n\\nWorld\\nBusiness\\nEditors' picks\\nShopping\\nTipline\\nSports\\nHealth\\nScience\\n\\nCulture & Trends\\n\\n\\nShare & Save\\xa0—\\n\\n\\n\\n\\n\\n\\nMy NewsManage ProfileEmail PreferencesSign Out\\nSearch\\nProfile\\nMy NewsSign Out\\nSign InCreate your free profile\\nSections\\n\\nU.S. News\\nDecision 2024\\nPolitics\\nWorld\\nBusiness\\nSports\\nInvestigations\\nCulture & Trends\\nHealth\\nScience\\nTech & Media\\nWeather\\nVideo Features\\nPhotos\\nNBC Select\\nNBC Asian America\\nNBC BLK\\nNBC Latino\\nNBC OUT\\n\\nLocal\\n\\nNew York\\nLos Angeles\\nChicago\\nDallas-Fort Worth\\nPhiladelphia\\nWashington, D.C.\\nBoston\\nBay Area\\nSouth Florida\\nSan Diego\\nConnecticut\\n\\ntv\\n\\nToday\\nNightly News\\nMSNBC\\nMeet the Press\\nDateline\\n\\nFeatured\\n\\nNBC News Now\\nNightly Films\\nStay Tuned\\nSpecial Features\\nNewsletters\\nPodcasts\\nListen Now\\n\\nMore From NBC\\n\\nCNBC\\nNBC.COM\\nNBCU Academy\\nPeacock\\nNEXT STEPS FOR VETS\\nNBC News Site Map\\nHelp\\n\\nFollow NBC News\\n\\n\\n\\n\\n\\nnews Alerts\\nThere are no new alerts at this time\\nSearch\\n\\nFacebook\\nTwitter\\nEmail\\nSMS\\nPrint\\nWhatsapp\\nReddit\\nPocket\\nFlipboard\\nPinterest\\n\\nLinkedin\\n\\n\\nLatest Stories\\n\\nTrump admin\\nPolitics\\nU.S. News\\nWorld\\nBusiness\\nEditors' picks\\nShopping\\nTipline\\nSports\\nHealth\\nScience\\nCulture & Trends\\n\\nSports\\nAndy Murray pulls out of the men's singles draw at his last Wimbledon\\nThe Scottish star, 37, who has won the Wimbledon singles title twice and the U.S Open once, has been battling to be fit for weeks.\\n\\nAndy Murray in Wimbledon in southwest London on Sunday. Mike Egerton / PA via Getty Images\\n\\n\\n\\n\\n\\n\\n\\n\\n\\n\\nBy Patrick Smith\\nLONDON — Andy Murray, one of the last decade's most successful male tennis players, has pulled out of the singles tournament at what is almost certain to be his last Wimbledon, his team confirmed Tuesday.\\nMurray, 37, who has won the Wimbledon singles title twice and the U.S Open once, has been battling to be fit to play at the All England Club for weeks.\\nHe is recovering from surgery to remove a spinal cyst 10 days ago, which left him visibly in pain and unable to move his right leg at Queens Club in London last month, a traditional warm-up tournament for Wimbledon.\\nAlthough he plans to play in the men's doubles alongside his brother, Jamie, it appears Murray will not appear again alone on Centre Court. He had been due to face Czech player Tomáš Machác\\xa0in the singles at 1:30 p.m. (8:30 a.m. ET) Tuesday.\\n“Unfortunately, despite working incredibly hard on his recovery since his operation just over a week ago, Andy has taken the very difficult decision not to play the singles this year,” his team said in a statement reported by Sky News.\\n“As you can imagine, he is extremely disappointed but has confirmed that he will be playing in the doubles with Jamie and looks forward to competing at Wimbledon for the last time.”\\nSky News is owned by Comcast, the parent company of NBC News.\\nWishing him well in a post on X, Wimbledon said it was “sorry to hear you won’t be playing singles this year.”\\nMurray also still hopes to appear at the Paris Olympics, after which, he has said, he will retire from the sport.\\nThe news caps a glittering career on the ATP singles tour, which placed Murray at No. 1 in the world for 41 weeks. He was in the top 10 male players in the world for almost 10 years, from July 2008 to October 2017.\\nFor a time, the media included Murray in the so-called Big Four group of players, along with Roger Federer, Novak Djokovic and Rafael Nadal.\\nMurray, who is Scottish, became the first male British singles champion since Fred Perry in 1936, becoming one of the most lauded British sports stars in the process.\\nMurray has a long history with multiple injuries, and he declared in 2017 that it was unlikely he would compete in a professional tournament again after he withdrew from the U.S. Open because of a recurring hip injury.\\n\\nAndy Murray waves to the crowd after his Wimbledon exit in 2022.Justin Setterfield / Getty Images file\\nSuccessive operations allowed him, against the odds, to return to elite tennis, and he reached the third round of Wimbledon in 2021. A third-round match at the Australian Open last year lasted 5 hours and 45 minutes, a career record.\\nBut his old form has been elusive, and fans have nervously watched on, waiting for Murray to pull up in pain.\\nMurray said at a news conference last week that didn’t want his Queens appearance to be his last singles appearance.\\n“I know that there’s more important things in the world than how I finish playing my last tennis match or where I finished playing my last tennis match,” he said.\\n“But because of what I put into the sport over the last however many years, I would at least like to go out playing a proper match where I’m at least competitive, not what happened at Queens.”\\n\\nPatrick Smith\\nPatrick Smith is a London-based editor and reporter for NBC News Digital.\\n\\n\\nAbout\\nContact\\nHelp\\nCareers\\nAd Choices\\nPrivacy Policy\\nYour Privacy Choices\\nCA Notice\\nTerms of Service (Updated JULY 7, 2023)\\nNBC News Sitemap\\nClosed Captioning\\nAdvertise\\nSelect Shopping\\n\\n©\\xa02025 NBCUniversal Media, LLC\\n\"},\n",
       "  {'title': \"He beat Roger Federer in his last ever match at Wimbledon and now he's ...\",\n",
       "   'url': 'https://www.thetennisgazette.com/features/i-beat-roger-federer-in-his-last-ever-match-at-wimbledon-and-now-ive-won-eight-atp-titles/',\n",
       "   'content': \"He beat Roger Federer in his last ever match at Wimbledon and now he's won eight ATP titles He beat Roger Federer in his last ever match at Wimbledon and now he’s won eight ATP titles Roger Federer played his final ever singles tournament at Wimbledon in 2021, before retiring from tennis one year later. Hubert Hurkacz: The man who beat Roger Federer in his last match at Wimbledon Hubert Hurkacz awaited Federer, a big serving Pole, who was enjoying the best year of his career to date. What happened in the third set, happened to Federer just three times during his entire career, as Hurkacz beat him 6-0, sending him out of Wimbledon in convincing fashion. What happened to Hubert Hurkacz after beating Roger Federer at Wimbledon?\",\n",
       "   'score': 0.64128816,\n",
       "   'raw_content': \"Published Time: 2024-11-30T11:00:00+00:00\\nHe beat Roger Federer in his last ever match at Wimbledon and now he's won eight ATP titles\\n\\n\\nNews\\nATP\\nWTA\\nMale Players\\nAlex de Minaur\\nAlexander Zverev\\nAndrey Rublev\\nBen Shelton\\nCarlos Alcaraz\\nCasper Ruud\\nDaniil Medvedev\\nFelix Auger-Aliassime\\nFrances Tiafoe\\nGrigor Dimitrov\\nHolger Rune\\nHubert Hurkacz\\nJack Draper\\nJannik Sinner\\nLorenzo Musetti\\nNick Kyrgios\\nNovak Djokovic\\nSebastian Korda\\nStefanos Tsitsipas\\nTaylor Fritz\\nTommy Paul\\n\\n\\nFemale players\\nAryna Sabalenka\\nCoco Gauff\\nDanielle Collins\\nElena Rybakina\\nEmma Navarro\\nEmma Raducanu\\nIga Swiatek\\nJasmine Paolini\\nJessica Pegula\\nKatie Boulter\\nMadison Keys\\nNaomi Osaka\\nSloane Stephens\\nQinwen Zheng\\n\\n\\nLegends\\nAndy Roddick\\nAndy Murray\\nJimmy Connors\\nSerena Williams\\nRafael Nadal\\nRennae Stubbs\\nRoger Federer\\nTim Henman\\n\\n\\n\\nFeatures\\n\\n\\n\\n\\n\\n\\nLIVE\\n...\\n\\n\\n\\n\\n\\nFollow us on\\n\\n\\n\\n\\n\\n\\n\\nPhoto by AELTC/Edward Whitaker - Pool/Getty Images\\nFeatures\\nHomeATPWimbledon\\nHe beat Roger Federer in his last ever match at Wimbledon and now he’s won eight ATP titles\\n\\nGeorge Patten\\nSat 30 November 2024 11:00, UK Updated Fri 20 December 2024 12:51, UK\\n\\nRoger Federer played his final ever singles tournament at Wimbledon in 2021, before retiring from tennis one year later.\\nAfter 24 years on the ATP Tour, Federer retired from tennis in 2022, having forged a legacy that most could only dream of.\\nFederer won 20 Grand Slam titles during his time as a professional, spent 310 weeks as world number one, and won Wimbledon a record eight times.\\n\\nPhoto by Visionhaus/Corbis via Getty Images\\nThe Swiss enjoyed legendary rivalries with the likes of Rafael Nadal and Novak Djokovic, both of whom he shared the court with on many occasions.\\nFederer’s final match came at the 2022 Laver Cup, a competition which he helped create, as he played alongside rival and friend Nadal, in a loss to the American duo of Frances Tiafoe and Jack Sock.\\nHowever, his last singles match came one year prior, as he fell to a now eight-time ATP Tour champion, at the tournament he dominated for much of his career.\\nHubert Hurkacz: The man who beat Roger Federer in his last match at Wimbledon\\nHaving played just one of the previous four Grand Slam tournaments, expectations weren’t too high for Federer as he entered Wimbledon in 2021, still struggling with his knee.\\nThe 43-year-old underwent numerous surgeries on his right knee during the latter stages of his career, which never quite saw him return to full fitness.\\nRegardless, Federer battled his way through the opening rounds at SW19, beating Adrian Mannarino, Richard Gasquet, Cameron Norrie, and Lorenzo Sonego, to qualify for the quarter-finals.\\n\\nPhoto by GLYN KIRK/AFP via Getty Images\\nMore Tennis News\\nIt was the 18th time Federer had reached the quarter-final stage of Wimbledon, but unlike so many times before, this was as far as he would go.\\nHubert Hurkacz awaited Federer, a big serving Pole, who was enjoying the best year of his career to date.\\nThe 27-year-old had won his second-ever ATP title in Delray Beach earlier in the year, before he took home a maiden Masters 1000 title in Miami against future world number-one Jannik Sinner.\\n\\nPhoto by Matthew Stockman/Getty Images\\nIn good form, that quickly translated as Hurkacz took the first set against the Swiss legend 6-3.\\nIn true Federer fashion, he battled back in the second set, taking things to a tiebreaker, a golden opportunity for him to level things up.\\nIt wasn’t to be, however, as Federer made several uncharacteristic errors in the tiebreak as Hurkacz clinched the second set 7-6 (7-4).\\nWhat happened in the third set, happened to Federer just three times during his entire career, as Hurkacz beat him 6-0, sending him out of Wimbledon in convincing fashion.\\nIt wasn’t known at the time, but this would be Federer’s final singles match at Wimbledon, and in tennis altogether.\\nFollowing the match, Hurkacz was grateful to have played one of the sport’s greatest ever players at Wimbledon.\\n“I don’t know what to say, it’s super special for me,” he said.\\n“I’ve been playing on this special court against Roger [Federer], it’s like a dream come true to play him.\\n“The special things that he has done here throughout his whole career, it’s a dream come true.”\\nWith his win in the quarter-finals, Hurkacz qualified for the last four of a Major for the first time in his career before losing to Matteo Berrettini in the semis.\\nThe 27-year-old is yet to return to the semi-finals of a Grand Slam, another reason that his win over Federer will live long in the memory.\\nWhat happened to Hubert Hurkacz after beating Roger Federer at Wimbledon?\\nAfter scoring the biggest win of his career at Wimbledon, Hurkacz established himself as a top-ten talent on the ATP Tour.\\nThe Pole finished the year ninth, tenth, and ninth again from 2021-2023, before regressing slightly in 2024 as he currently sits ranked 16th in the world.\\nHaving won three titles before announcing himself on the world stage against Federer three years ago, the 27-year-old has since added to his trophy cabinet on numerous occasions.\\nDateTournamentTierOpponentAug 2019Winston-Salem OpenATP 250Benoit PaireJan 2021Delray Beach OpenATP 250Sebastian KordaApr 2021Miami OpenMasters 1000Jannik SinnerSep 2021Moselle OpenATP 250Pablo Carreno BustaJun 2022Halle OpenATP 500Daniil MedvedevFeb 2023Open 13ATP 250Benjamin BonziOct 2023Shanghai MastersMasters 1000Andrey RublevApr 2024Estoril OpenATP 250Pedro Martinez\\nHubert Hurkacz’s eight ATP titles\\nIn October 2023, Hurkacz joined a select group of active ATP stars with multiple Masters 1000 titles, after winning in Shanghai.\\nDespite Hurkacz winning a title in Estoril earlier this year, performances did somewhat disappoint, however, and the Pole decided to make a big change ahead of 2025.\\n\\nPhoto by Carlos Rodrigues/Getty Images\\nHurkacz recently announced his new coaching team, which will see eight-time Grand Slam winner Ivan Lendl, and former Olympic Gold medallist Nicolas Massu link up with the Pole.\\nBoth have achieved Major success as a coach, with Lendl picking up three Grand Slam titles with Andy Murray, and Massu working alongside Dominic Thiem to win the 2020 US Open.\\nHurkacz will be hoping that the wealth of experience he now has alongside him will propel him to big things in the new year.\\nThe Pole will return to action for the United Cup, which begins on December 27.\\nATPHubert HurkaczRoger FedererWimbledon\\nRelated Posts\\nMore in Features\\nMore in Features\\nClose\\nSearch\\n\\n\\n\\n\\n\\n\\n\\n\\nAbout Us\\n\\nEditorial Policy\\nMeet The Team\\nContact Us\\nPrivacy Policy\\nComplaints\\n\\nPrivacy Settings\\n\\n\\na proud member of\\n\\n\\n© 2024 GRV Media Ltd. All Rights Reserved\\nGRV Media Ltd, 18 Mulberry Avenue, Widnes,\\nCheshire, WA8 0WN\\nCompany No. 04155089\\n\\nRead our Sustainability Statement\"},\n",
       "  {'title': 'So what happened yesterday? - The Athletic - The New York Times',\n",
       "   'url': 'https://www.nytimes.com/athletic/live-blogs/wimbledon-2024-live-updates-day-two-murray-djokovic-scores-results/bVuQoHpnfnrg/EPsBusvPvmqH/',\n",
       "   'content': \"Follow live reaction of the second day at Wimbledon 2024 as Britain's Jack Draper progresses after compatriot Andy Murray withdraws amid rain delays There was one result wrapped up before play was suspended: American Jessica Pegula, the fifth seed, absolutely raced through her match against compatriot Ashlyn Krueger, winning 6-2, 6-0 on Court 2. What do tennis players do at Wimbledon when rain stops play? GO FURTHER What do tennis players do at Wimbledon when rain stops play? GO FURTHER Andy Murray Wimbledon tribute: How his tennis and his titles played with our hearts Murray's fellow Brit Jack Draper, the man tipped by some to step into the Scot's shoes as the prime figure in British tennis, is now the third match on Centre Court.\",\n",
       "   'score': 0.4574039,\n",
       "   'raw_content': \"So what happened yesterday? - The Athletic\\n\\n Tennis\\n\\nWimbledon 2024 live updates: Recap day two as Jack Draper wins thriller after Swiatek, Djokovic triumph\\nFollow live reaction of the second day at Wimbledon 2024 as Britain's Jack Draper progresses after compatriot Andy Murray withdraws amid rain delays\\n\\nMax Mathews\\nJuly 10, 2024 at 12:01 PM EDT\\n\\nAdam Pretty/Getty Images\\n113 New Updates\\n\\n Luke Brown· Managing Editor, Global Live\\n\\nWimbledon 2024 day two reaction\\n\\nWins for Iga Swiatek (1) vs USA's Sofia Kenin and Brit Jack Draper on Centre\\nWins for Novak Djokovic (2) and Alexander Zverev (4)\\nRain delays affect the second day at SW19\\nAndy Murray out of the singles; he'll play doubles with brother Jamie\\nWatch on the BBC in the UK, ESPN and ABC in the US\\n\\nSubscribe to The Athletic using our latest discount offer here.\\n July 2, 2024 at 8:02 AM EDT Max Mathews· Live Reporter\\n\\nSo what happened yesterday?\\nGlad you asked. On day one of 2024 Wimbledon...\\n\\nThe tournament was disrupted by pro-Palestinian demonstrators\\nBritish qualifier Sonay Kartal knocked out 29th seed Sorana Cirstea\\nThere were first-day wins for big names Coco Gauff, Emma Raducanu, and Carlos Alcaraz\\nAmerican trio Emma Navarro, Sloane Stephens and Madison Keys all progressed\\nThird seed Aryna Sabalenka withdrew from the ladies' singles\\n\\nAdvertisement\\n July 2, 2024 at 7:56 AM EDT Max Mathews· Live Reporter\\n\\nThe covers are coming off...\\n\\nGetty Images\\nThe covers are coming off and we're being told that play might restart at around 1pm BST (around five minutes from now), 8am ET, 5am PT.\\n July 2, 2024 at 7:54 AM EDT Charlie Eccleshare· Tennis Writer in Melbourne\\n\\nRain delays in tennis: How Paris weather plays havoc with French Open\\n\\nGetty Images\\nConditions matter a great deal at any tennis event and Roland Garros is no exception. Especially given that clay-court tennis continues when there is light rain, so the effect can be especially keenly felt.\\nAt this year’s tournament, the Paris weather was wet and cold. The rain dampens playing conditions and spirits alike, leaving players a little more tired, a little more tetchy. At times, the mood was a bit like a damp summer holiday — with everyone indoors and cabin fever taking over.\\nWhen the rains came, the players came off. The crowds milled. The rain continued. The entire venue was in a wet, grey freeze-frame, broken only by the signature terracotta orange — not of the courts, but of the tarpaulins protecting them.\\nBut why does weather make such a difference to tennis at Roland Garros? And how can players adjust to try and cope? Read more below.\\n GO FURTHER Rain delays in tennis: How Paris weather plays havoc with French Open\\n July 2, 2024 at 7:50 AM EDT Max Mathews· Live Reporter\\n\\nScores on the doors: Men's singles\\nNo results yet in the men's, though there are plenty of matches fairly well advanced. First, the Brits and Americans:\\n\\nPaul Jubb leads Thiago Seyboth Wild 6-1, 5-3\\nBilly Harris lost the first set 6-4 against Jaume Munar, 3-3 in the second\\nJan Choinski lost the first 7-5 against Luciano Darderi and trails 2-1 in the second\\nSeb Korda (20) lost the first set 7-6(5) against Giovanni Mpetshi Perricard but leads 5-4 in the second\\n\\nAnd elsewhere:\\n\\nHubert Hurkacz (7) is a set down on Romanian veteran Radu Albot, 7-5, 1-1 in the second\\nAlex de Minaur (9) won the first-set tiebreak 7-6(1) against fellow Australian James Duckworth\\nConstant Lestienne is up 6-4, 3-2 on 25th seed Lorenzo Musetti\\n30th seed Tomas Etcheverry leads Luca Nardi 6-1, 5-3\\nYoshihito Nishioka is up 6-2 on Nuno Borges, 5-5 in the second\\nAlexei Popyrin took the first set 6-4 against Thiago Monteiro but is 4-5 down in the second\\n\\n July 2, 2024 at 7:45 AM EDT Max Mathews· Live Reporter\\n\\nScores on the doors: Women's singles\\nThere was one result wrapped up before play was suspended: American Jessica Pegula, the fifth seed, absolutely raced through her match against compatriot Ashlyn Krueger, winning 6-2, 6-0 on Court 2. An early bagel.\\nThe other scores as they stood:\\n\\nBrit Harriet Dart leads Zhuoxuan Bai 6-4, 3-0\\nWang Xinyu took the first set 7-6 against Viktoriya Tomova but trails 0-1 in the second\\nCristina Bucsa won the first set 6-4 against Ana Bogdan, 1-1 on serve in the second\\nAnd Laura Siegemund had just wrapped up the set 6-4 against Kateryna Baindl - it's 0-0 in the second\\n\\n July 2, 2024 at 7:42 AM EDT Max Mathews· Live Reporter\\n\\nHow drenched fans found big names on tiny courts in Paris\\n\\nGetty Images\\nIt’s soon after midday at Roland Garros in May, and the covers are back on. An umbrella popped up next to me, and the woman operating it let out a long sigh.\\n“We’ve been coming here for 40 years, and it’s never been as bad as this,” says Gilly, 70, from London, in Paris with her friend Beverly, 62. The pair had tickets for four days of the French Open, all of which have been heavily disrupted by rain, with one day a near-total washout.\\nThere is something special about these days, with big matches everywhere you look. These outside courts are so close together, you could watch two matches simultaneously.\\nYou genuinely don’t know where to look; standing between home favourite Chloe Paquet in her thrilling win against 32nd seed Katerina Siniakova on Court Seven, and Grand Slam semi-finalist Felix Auger-Aliassime taking on qualifier Henri Squire on Court Nine.\\nThe banquet of matches on the outside courts (when the rain stayed away) meant that for most spectators, morale remained higher than it appeared for Gilly and Beverly. Read more below.\\n GO FURTHER French Open schedule: How a rainy order of play left big names on tiny courts\\nAdvertisement\\n July 2, 2024 at 7:39 AM EDT Max Mathews· Live Reporter\\n\\nAnyone recognise this guy?\\n\\nGetty Images\\nThat's right, Nirvana and Foo Fighters' Dave Grohl is here.\\nIf you're here, see who else you can spy at SW19! And if you're not, we'll bring you all the celeb-spotting news you could ask for.\\n July 2, 2024 at 7:27 AM EDT Charlie Eccleshare· Tennis Writer in Melbourne\\n\\nWhat do tennis players do at Wimbledon when rain stops play?\\n\\nGetty Images\\n“Denis (Shapovalov) was doing some animal-trivia questions with his team and I jumped in on that. I learned that a turtle can breathe through its butt.”\\nThis slightly surreal revelation comes from 2016 Wimbledon runner-up Milos Raonic as he reflects on how he passed the time during one of the many lengthy rain delays during the 2023 competition.\\nRain, as big a Wimbledon preoccupation as strawberries and cream, has been one of the big talking points so far of this year’s Championships.\\nIt’s extremely frustrating for the fans and the tournament when this happens (costing Wimbledon about £250,000/$317,200 in refunds on Tuesday), but what about the players? How do they pass hour after hour when they don’t know if they’re coming or going?\\nWell, aside from turtle trivia and being on their phone sending messages and watching videos, here’s how they do it — including planning for a Shania Twain concert, trips to the on-site hair salon, and putting together Lego models and jigsaw puzzles to keep the mind active.\\nRead The Athletic's piece from the last Wimbledon tournament below.\\n GO FURTHER What do tennis players do at Wimbledon when rain stops play?\\n July 2, 2024 at 7:20 AM EDT Max Mathews· Live Reporter\\n\\nGet the brollies out!\\n\\nGetty Images\\nFor our American readers, 'brolly' is a silly English word for umbrella.\\nOne of many silly English words.\\nIn the meantime, let's read about rain delays: their impact on small courts and schedules, what players do while they're waiting, and how precipitation played havoc with the 2024 French Open.\\nStick around.\\n July 2, 2024 at 7:13 AM EDT Max Mathews· Live Reporter\\n\\nBreaking: Rain delays at Wimbledon\\nUmbrellas are going up and play has been suspended due to rain.\\nAll matches have been temporarily put on pause.\\nMore updates as they come.\\n July 2, 2024 at 7:03 AM EDT Charlie Eccleshare· Tennis Writer in Melbourne\\n\\nTime for a passing of the torch?\\nAfter the news of Andy Murray's withdrawal from the singles, British men's singles hopes at Wimbledon will have to rest on someone else’s shoulders. The man best suited for that role appears to be Jack Draper, the 29th seed.\\nThe 22-year-old became the new British No 1 off the back of a very impressive grass-court buildup, winning his first ATP title in Stuttgart on June 17 and beating the Wimbledon and French Open champion Carlos Alcaraz to reach the Cinch Championships quarterfinals at Queen’s Club.\\nA title and a statement win were two of the main things missing from his CV, and now he’s targeting something else he’s never done: a run at Wimbledon. For obvious reasons, good progress at the London Grand Slam is what cements British players in the nation’s psyche. Can he do it in 2024?\\nDraper plays Elias Ymer on Centre Court this afternoon.\\nAdvertisement\\n July 2, 2024 at 6:52 AM EDT Max Mathews· Live Reporter\\n\\nSome sets to tell you about!\\n\\nGetty Images\\nSome highlights in the men's singles:\\n\\nBrit Paul Jubb rattled through the first set, winning it 6-1 against Thiago Seyboth Wild\\nBilly Harris lost the first 6-4 against Jaume Munar\\nAmerican Seb Korda (20) lost a first-set tiebreak against Giovanni Mpetshi Perricard, 7-6(5)\\nTomas Etcheverry raced through the first set against Luca Nardi, taking it 6-1\\n\\nAnd in the women's singles:\\n\\nBrit Harriet Dart, pictured, took the first 6-4 against Zhuoxuan Bai\\nJessica Pegula (5) won the first 6-2 against Ashlyn Krueger\\n\\n July 2, 2024 at 6:48 AM EDT Max Mathews· Live Reporter\\n\\nWhat's happening in the doubles?\\nThe men's and women's doubles begin tomorrow (Wednesday).\\nThe mixed doubles doesn't get under way until Sunday.\\n July 2, 2024 at 6:31 AM EDT Charlie Eccleshare· Tennis Writer in Melbourne\\n\\nHow Andy Murray's tennis and his titles played with our hearts\\n\\nGetty Images\\nAndy Murray made you care. That was his superpower. There were better players in his era; there were more stylish ones. But none possessed the ability to make you invest emotionally in their matches as much as Murray did.\\nWhen he arrived on the scene as a scruffy 18-year-old in 2005, Murray seemed to experience tennis as I’d always experienced it: as an unbelievably frustrating sport that seemed almost designed to wind you up. Even saying “Take your time, you d**k” after missing a serve, as Murray once did, wasn’t that odd to me.\\nOn the court, his complete determination, raw emotions and supreme athleticism added to his appeal — and throughout it all, he was a potent combination of the superhuman and the relatable.\\nBonds were strengthened with those people who could see how great and thoughtful Murray really was. “If you don’t like Andy Murray then we can’t be friends” became a good mantra to live by. Clearly, this was all unhinged.\\nBut that’s the thing: Andy Murray made you care. Dive deeper into the player, and the man, below.\\n GO FURTHER Andy Murray Wimbledon tribute: How his tennis and his titles played with our hearts\\n July 2, 2024 at 6:26 AM EDT Max Mathews· Live Reporter\\n\\nComing up...\\n...a Wimbledon tribute to the man who made Brits feel the most, from The Athletic's superb Charlie Eccleshare.\\nDo not miss it.\\n July 2, 2024 at 6:19 AM EDT Max Mathews· Live Reporter\\n\\nWhat about the men?\\n\\nGetty Images\\nTen matches have begun at SW19:\\n\\nBrit Paul Jubb, pictured, is a break up at 2-0 against Thiago Seyboth Wild\\nBriton Jan Choinski is 1-0 down on serve against Luciano Darderi\\nAnd a third Brit, Billy Harris, is 1-1 on serve against Jaume Munar\\nThiago Monteiro is 2-1 up on serve against Alexei Popyrin\\nYoshihito Nishioka is a break up at 2-1 ahead against Nuno Borges\\n30th seed Tomas Etcheverry leads Luca Nardi 1-0, on serve\\nAll-Australian clash between ninth seed Alex de Minaur and James Duckworth is 1-1 on serve\\nAmerican Seb Korda is 2-2 on serve against Giovanni Mpetshi Perricard\\nHubert Hurkacz (7) is up 2-1 on serve against Radu Albot\\nAnd Lorenzo Musetti (25) is 1-0 up on serve against Constant Lestienne\\n\\nAdvertisement\\n July 2, 2024 at 6:15 AM EDT Max Mathews· Live Reporter\\n\\nWe are up and running!\\nIn the women's singles, four matches are under way:\\n\\nBrit Harriet Dart vs Zhuoxuan Bai, 1-1 on serve\\nWang Xinyu vs Viktoriya Tomova, Tomova a break up at 2-0\\nCristina Bucsa vs Ana Bogdan, Bucsa a break up at 1-0\\nLaura Siegemund vs Kateryna Baindl is 0-0\\n\\nAnd in an all-American clash, fifth seed Jessica Pegula has already broken Ashlyn Krueger and is 2-0 up.\\n July 2, 2024 at 6:07 AM EDT Max Mathews· Live Reporter\\n\\nJack Draper bumped up to Centre Court\\nAs a result of Andy Murray's withdrawal, there has been a reshuffle of the schedule.\\nDavid Goffin vs Tomas Machac will move to Court 17, Thanasi Kokkinakis vs Felix Auger-Aliassime will move to Court 2, and the headline news?\\nMurray's fellow Brit Jack Draper, the man tipped by some to step into the Scot's shoes as the prime figure in British tennis, is now the third match on Centre Court.\\nDraper, the 28th seed, will face Elias Ymer of Sweden.\\n July 2, 2024 at 6:03 AM EDT Charlie Eccleshare· Tennis Writer in Melbourne\\n\\nAnalysis: Goffin's history with Murray\\n\\nGetty Images\\nSo it's David Goffin who comes in as Andy Murray's replacement to face Tomas Machac.\\nGoffin and Murray have history - it was the Belgian who Murray famously lobbed to secure Britain the Davis Cup back in 2015 (pictured above).\\nA trademark Murray shot for one of his most memorable moments.\\nGoffin is a huge admirer of Murray's (despite losing all eight of their meetings) and may well feel a bit sheepish about stepping in for him.\\nLoad more updates\\nNational\\nBoxing\\nBundesliga\\nChampions League\\nChampionship\\nCollege Football\\nCollege Sports\\nCopa America\\nCopa del Rey\\nCulture\\nEuropa League\\nEuropean Championship\\nFA Cup\\nFantasy Baseball\\nFantasy Basketball\\nFantasy Football\\nFantasy Hockey\\nFantasy Premier League\\nFormula 1\\nGaming\\nGolf\\nInternational Football\\nLa Liga\\nLeague Cup\\nLeague One\\nLeague Two\\nLNH\\nMemorabilia & Collectibles\\nMen's College Basketball\\nMen's World Cup\\nMixed Martial Arts\\nMLB\\nMLS\\nMotorsports\\nNASCAR\\nNBA\\nNFL\\nNHL\\nNWSL\\nOlympics\\nOpinion\\nPremier League\\nScottish Premiership\\nSerie A\\nSoccer\\nSports Betting\\nSports Business\\nTennis\\nTop Sports News\\nUK Women's Football\\nWNBA\\nWomen's College Basketball\\nWomen's Euros\\nWomen's Hockey\\nWomen's World Cup\\nThe Athletic Ink\\nPodcasts\\nHeadlines\\nUS\\nArizona\\nAtlanta\\nBaltimore\\nBay Area\\nBoston\\nBuffalo\\nCarolina\\nChicago\\nCincinnati\\nCleveland\\nColumbus\\nDallas\\nDenver\\nDetroit\\nHouston\\nIndiana\\nJacksonville\\nKansas City\\nLas Vegas\\nLos Angeles\\nMemphis\\nMiami\\nMinnesota\\nNashville\\nNew Orleans\\nNew York\\nOklahoma\\nOregon\\nOrlando\\nPhiladelphia\\nPittsburgh\\nSacramento\\nSan Antonio\\nSan Diego\\nSeattle\\nSt. Louis\\nTampa Bay\\nUtah\\nWashington DC\\nWisconsin\\nCanada\\nCalgary\\nEdmonton\\nMontreal\\nMontréal (français)\\nOttawa\\nToronto\\nVancouver\\nWinnipeg\\nPartners\\nCollectibles by eBay\\nOdds by BetMGM\\nStreaming by Fubo\\nTickets by StubHub\\nSubscribe\\nStart Subscription\\nGroup Subscriptions\\nHQ\\nAbout Us\\nCareers\\nCode of Conduct\\nEditorial Guidelines\\nBusiness Inquiries\\nPress Inquiries\\nSupport\\nFAQ\\nForgot Password?\\nRedeem Gift\\nContact Us\\nTerms of Service\\nNewsletters\\nThe Pulse\\nThe Bounce\\nThe Windup\\nPrime Tire\\nFull Time\\nUntil Saturday\\nScoop City\\nThe Athletic FC\\nMoneyCall\\n\\n©2025 The Athletic Media Company, A New York Times Company\\nPrivacy Policy\\nYour Ad Choices\\nSupport\\nSitemap\\n\\n\"},\n",
       "  {'title': 'Andy Murray brought to tears by emotional ceremony as Wimbledon ... - CNN',\n",
       "   'url': 'https://www.cnn.com/2024/07/05/sport/andy-murray-wimbledon-farewell-ceremony-spt-intl/index.html',\n",
       "   'content': \"It was an emotional night for three-time grand slam champion Andy Murray on Thursday, as the 37-year-old's Wimbledon farewell began with doubles defeat.. Murray will retire from the sport this\",\n",
       "   'score': 0.43352634,\n",
       "   'raw_content': 'CNN values your feedback\\n\\nAndy Murray brought to tears by emotional ceremony as Wimbledon farewell begins with doubles defeat\\n\\nFollow:\\n\\nIt was an emotional night for three-time grand slam champion Andy Murray on Thursday, as the 37-year-old’s Wimbledon farewell began with doubles defeat.\\n\\nMurray will retire from the sport this season and is playing for the last time at Wimbledon, a place which has been home to some of his most memorable career highlights.\\n\\nFollowing a doubles defeat alongside his brother Jamie on Thursday, Murray was moved to tears after a short ceremony on Centre Court in which a montage of his career played out on big screens.\\n\\nRelated article\\nAfter spinal cyst surgery, Andy Murray’s retirement plan comes into sharp focus\\n\\n“It is hard because I would love to keep playing, but I can’t. Physically, it’s just too tough now,” Murray said in his interview on court, after watching the video.\\n\\n“I want to play forever, I love the sport. It’s given me so much, taught me loads of lessons over the years that I can use in the rest of my life. I don’t want to stop, so it is hard.”\\n\\nGrand slam champions Novak Djokovic, Iga Świątek, Martina Navratilova and John McEnroe were just some of the famous faces in attendance for the short ceremony, and they joined thousands of fans in giving Murray a standing ovation.\\n\\nMurray’s family, including his two young daughters, also watched on from the stands.\\n\\n“Mum and dad were amazing support when we were little in allowing us to pursue our dreams […] Thank you, mum and dad,” a tearful Murray said, before speaking about his wife, Kim.\\n\\n“She has been an amazing support to me, to my whole family, she is the best mum. Unfortunately, in a couple of months, she’s going to have to see me every day […] I’m looking forward to the rest of our lives.”\\n\\nMurray will likely be back on Centre Court on Saturday after signing up to play mixed doubles with fellow Brit Emma Raducanu.\\n\\nMagical Wimbledon memories\\n\\nOver the years, the crowds at Wimbledon have fallen in love with Murray.\\n\\nHe made his tournament debut in 2005 as a teenager and eventually developed into one of the best players in the world, in an era where Roger Federer, Rafael Nadal and Djokovic were so dominant.\\n\\nMurray made his first Wimbledon singles final in 2012 where he lost to Federer – a defeat which moved the British star to tears and somewhat changed the public’s perception of him.\\n\\nA month later, Murray was back on the same court to win a gold medal at the 2012 Olympic Games in London.\\n\\nThe victory kickstarted a successful year for Murray where he won the US Open – his first grand slam title.\\n\\nHe then returned to Wimbledon in 2013 where he ended Britain’s 77-year wait for a men’s singles champion – an incredible moment now etched into the country’s history.\\n\\nIn 2016, Murray won his second Wimbledon title – a victory which he says was his favorite.\\n\\nInjuries, though, have played a major role in recent seasons and Murray has struggled to be competitive.\\n\\nHe had hoped to play singles in what would be his last Wimbledon this year but was unable to recover from back surgery last month.\\n\\nHe chose instead to play doubles – a shorter format – with his brother Jamie, but the pair were beaten in straight sets – 7-6(8-6) 6-4 – by John Peers and Rinky Hijikata on Thursday.\\n\\n© 2025 Cable News Network. A Warner Bros. Discovery Company. All Rights Reserved.  CNN Sans ™ & © 2016 Cable News Network.\\n\\n'},\n",
       "  {'title': 'Wimbledon - Latest News, Headlines and Entertainment from the BBC',\n",
       "   'url': 'https://www.bbc.co.uk/news/topics/c1kr68g26j9t',\n",
       "   'content': \"Wimbledon - Latest News, Headlines and Entertainment from the BBC BBC Homepage Search BBC Close menu BBC News BBC Verify World News TV Weather for Wimbledon London London Disabled people share experience of accessible homes London Man's pop-up urinal death may never be explained, family fears London London London London London London London Met PC jailed for assaulting man in hospital bed London London London Man jumped to his death in police station - inquest London Central London YMCA closes after failed injunction Kerr denies 'whiteness as insult' against police Man denies being getaway driver in £1m watch raid About the BBC Contact the BBC BBC emails for you The BBC is not responsible for the content of external sites.\",\n",
       "   'score': 0.39187187,\n",
       "   'raw_content': \"Wimbledon - Latest News, Headlines and Entertainment from the BBC\\nBBC Homepage\\n\\nSkip to content\\n\\nAccessibility Help\\n\\n\\nYour account\\n\\n\\nHome\\n\\nNews\\nSport\\nEarth\\nReel\\nWorklife\\nTravel\\nCulture\\nFuture\\nMusic\\nTV\\nWeather\\nSounds\\nMore menu\\n\\nMore menu\\nSearch BBC\\n\\nHome\\nNews\\nSport\\nEarth\\nReel\\nWorklife\\nTravel\\nCulture\\nFuture\\nMusic\\nTV\\nWeather\\nSounds\\n\\nClose menu\\nBBC News\\nMenu\\n\\nHome\\nIsrael-Gaza war\\nWar in Ukraine\\nClimate\\nVideo\\nWorld\\nUS & Canada\\nUK\\nBusiness\\nTech\\n\\nMore\\n\\nScience\\nEntertainment & Arts\\nHealth\\nIn Pictures\\nBBC Verify\\nWorld News TV\\nNewsbeat\\n\\nWimbledon\\nWeather for Wimbledon\\n\\nTonight, , Low Low of 4°\\nMonday 10 February,Mon 10th , High of 5° Low of 3°\\nTuesday 11 February,Tue 11th , High of 6° Low of 2°\\nWednesday 12 February,Wed 12th , High of 6° Low of 1°\\nThursday 13 February,Thu 13th , High of 6° Low of 1°\\n\\nLatest\\n\\n\\nWoman dies after car crashes into bus\\n\\n\\nAttribution\\nLondon\\n\\n\\nPosted\\n7 hours ago7h\\n\\n\\n\\n\\n\\nMajor restoration set for Kingston's wetlands\\n\\n\\nAttribution\\nLondon\\n\\n\\nPosted\\n10 hours ago10h\\n\\n\\n\\n\\n\\nDisabled people share experience of accessible homes\\n\\n\\nAttribution\\nLondon\\n\\n\\nPosted\\n10 hours ago10h\\n\\n\\n\\n\\n\\nMan's pop-up urinal death may never be explained, family fears\\n\\n\\nAttribution\\nEngland\\n\\n\\nPosted\\n15 hours ago15h\\n\\n\\n\\n\\n\\nAccrington Stanley 0-0 AFC Wimbledon\\n\\n\\nAttribution\\nLeague Two\\n\\n\\nPosted\\n1 day ago1d\\n\\n\\nComments\\n17\\n\\n\\n\\n\\n\\nStolen phones seized after helicopter chase\\n\\n\\nAttribution\\nLondon\\n\\n\\nPosted\\n1 day ago1d\\n\\n\\n\\n\\n\\nCouple help NHS mark 75 years of cataract surgery\\n\\n\\nAttribution\\nLondon\\n\\n\\nPosted\\n1 day ago1d\\n\\n\\n\\n\\n\\nHospital shuts three wards due to norovirus outbreak\\n\\n\\nAttribution\\nLondon\\n\\n\\nPosted\\n1 day ago1d\\n\\n\\n\\n\\n\\nCroydon Council asks for £136m government bailout\\n\\n\\nAttribution\\nLondon\\n\\n\\nPosted\\n1 day ago1d\\n\\n\\n\\n\\n\\nBoy, 16, found guilty of killing former friend\\n\\n\\nAttribution\\nLondon\\n\\n\\nPosted\\n1 day ago1d\\n\\n\\n\\n\\n\\nWoman woke to find PhD student raping her - court\\n\\n\\nAttribution\\nLondon\\n\\n\\nPosted\\n2 days ago2d\\n\\n\\n\\n\\n\\nKerr 'stupid and white' remark was hostile - court\\n\\n\\nAttribution\\nLondon\\n\\n\\nPosted\\n2 days ago2d\\n\\n\\n\\n\\n\\nMet PC jailed for assaulting man in hospital bed\\n\\n\\nAttribution\\nLondon\\n\\n\\nPosted\\n2 days ago2d\\n\\n\\n\\n\\n\\nBanksy's goat artwork removed from London building\\n\\n\\nAttribution\\nLondon\\n\\n\\nPosted\\n2 days ago2d\\n\\n\\n\\n\\n\\nCommunity divided over fate of Grenfell Tower\\n\\n\\nAttribution\\nLondon\\n\\n\\nPosted\\n2 days ago2d\\n\\n\\n\\n\\n\\nMan jumped to his death in police station - inquest\\n\\n\\nAttribution\\nLondon\\n\\n\\nPosted\\n2 days ago2d\\n\\n\\n\\n\\n\\nCutty Sark station to close for new escalators\\n\\n\\nAttribution\\nLondon\\n\\n\\nPosted\\n2 days ago2d\\n\\n\\n\\n\\n\\nCentral London YMCA closes after failed injunction\\n\\n\\nAttribution\\nLondon\\n\\n\\nPosted\\n2 days ago2d\\n\\n\\n\\n\\n\\nSon saves dad twice giving bone marrow then a kidney\\n\\n\\nAttribution\\nLondon\\n\\n\\nPosted\\n2 days ago2d\\n\\n\\n\\n\\n\\nKerr denies 'whiteness as insult' against police\\n\\n\\nAttribution\\nLondon\\n\\n\\nPosted\\n2 days ago2d\\n\\n\\n\\n\\n\\n'Gamechanger' for dance in London as theatre opens\\n\\n\\nAttribution\\nLondon\\n\\n\\nPosted\\n2 days ago2d\\n\\n\\n\\n\\n\\nMet Police blitz to fight phone-snatching 'scourge'\\n\\n\\nAttribution\\nLondon\\n\\n\\nPosted\\n2 days ago2d\\n\\n\\n\\n\\n\\nMan denies being getaway driver in £1m watch raid\\n\\n\\nAttribution\\nLondon\\n\\n\\nPosted\\n3 days ago3d\\n\\n\\n\\n\\n\\nDismantling Grenfell Tower unforgivable, say families\\n\\n\\nAttribution\\nLondon\\n\\n\\nPosted\\n3 days ago3d\\n\\n\\n\\n\\n\\nprevious page\\nPage 1 of 42\\n\\n\\n1\\n\\n\\n2\\n\\n\\n3\\n\\n\\n4\\n\\n\\n5\\n\\n\\n6\\n\\n\\n…\\n\\n\\n42\\n\\n\\nnext page\\n\\nHome\\nNews\\nSport\\nEarth\\nReel\\nWorklife\\nTravel\\nCulture\\nFuture\\nMusic\\nTV\\nWeather\\n\\nSounds\\n\\n\\nTerms of Use\\n\\nAbout the BBC\\nPrivacy Policy\\nCookies\\nAccessibility Help\\nParental Guidance\\nContact the BBC\\nBBC emails for you\\nAdvertise with us\\n\\nCopyright © 2025 BBC. The BBC is not responsible for the content of external sites. Read about our approach to external linking.\"}],\n",
       " 'response_time': 1.68}"
      ]
     },
     "execution_count": 10,
     "metadata": {},
     "output_type": "execute_result"
    }
   ],
   "source": [
    "# Basic query\n",
    "tool.invoke({\"query\": \"What happened at the last wimbledon\"})\n",
    "# Query with time range and domain filtering\n",
    "# tool.invoke({\n",
    "#     \"query\": \"latest tennis news\",\n",
    "#     \"time_range\": \"day\",\n",
    "#     \"include_domains\": [\"espn.com\", \"tennis.com\"]\n",
    "# })"
   ]
  },
  {
   "cell_type": "markdown",
   "id": "d6e73897",
   "metadata": {},
   "source": [
    "### [Invoke with ToolCall](/docs/concepts/tools)\n",
    "\n",
    "We can also invoke the tool with a model-generated ToolCall, in which case a ToolMessage will be returned:"
   ]
  },
  {
   "cell_type": "code",
   "execution_count": 15,
   "id": "f90e33a7",
   "metadata": {},
   "outputs": [
    {
     "name": "stdout",
     "output_type": "stream",
     "text": [
      "{\"query\": \"euro 2028 host nation\", \"follow_up_questions\": null, \"answer\": \"The host nation for Euro 2028 is the UK and the Republic of Ireland. This decision was confirmed by the UEFA Executive Committee, with the event set to take place from 9 June to 9 July 2028.\", \"images\": [], \"results\": [{\"title\": \"UEFA Euro 2028 - Wikipedia\", \"url\": \"https://en.wikipedia.org/wiki/UEFA_Euro_2028\", \"content\": \n"
     ]
    }
   ],
   "source": [
    "# This is usually generated by a model, but we'll create a tool call directly for demo purposes.\n",
    "model_generated_tool_call = {\n",
    "    \"args\": {\"query\": \"euro 2028 host nation\"},\n",
    "    \"id\": \"1\",\n",
    "    \"name\": \"tavily\",\n",
    "    \"type\": \"tool_call\",\n",
    "}\n",
    "tool_msg = tool.invoke(model_generated_tool_call)\n",
    "\n",
    "# The content is a JSON string of results\n",
    "print(tool_msg.content[:400])"
   ]
  },
  {
   "cell_type": "markdown",
   "id": "659f9fbd-6fcf-445f-aa8c-72d8e60154bd",
   "metadata": {},
   "source": [
    "## Chaining\n",
    "\n",
    "We can use our tool in a chain by first binding it to a [tool-calling model](/docs/how_to/tool_calling/) and then calling it:\n",
    "\n",
    "import ChatModelTabs from \"@theme/ChatModelTabs\";\n",
    "\n",
    "<ChatModelTabs customVarName=\"llm\" />\n"
   ]
  },
  {
   "cell_type": "code",
   "execution_count": 25,
   "id": "af3123ad-7a02-40e5-b58e-7d56e23e5830",
   "metadata": {},
   "outputs": [],
   "source": [
    "# | output: false\n",
    "# | echo: false\n",
    "\n",
    "# !pip install -qU langchain langchain-openai\n",
    "from langchain.chat_models import init_chat_model\n",
    "\n",
    "llm = init_chat_model(model=\"gpt-4o\", model_provider=\"openai\", temperature=0)"
   ]
  },
  {
   "cell_type": "code",
   "execution_count": 29,
   "id": "fdbf35b5-3aaf-4947-9ec6-48c21533fb95",
   "metadata": {},
   "outputs": [
    {
     "data": {
      "text/plain": [
       "AIMessage(content=\"The Philadelphia Eagles won the Super Bowl in 2025, defeating the Kansas City Chiefs with a final score of 40 to 22. Jalen Hurts, the Eagles' quarterback, was named the MVP of the game. This victory marked the Eagles' second Super Bowl win.\", additional_kwargs={'refusal': None}, response_metadata={'token_usage': {'completion_tokens': 59, 'prompt_tokens': 15310, 'total_tokens': 15369, 'completion_tokens_details': {'accepted_prediction_tokens': 0, 'audio_tokens': 0, 'reasoning_tokens': 0, 'rejected_prediction_tokens': 0}, 'prompt_tokens_details': {'audio_tokens': 0, 'cached_tokens': 0}}, 'model_name': 'gpt-4o-2024-08-06', 'system_fingerprint': 'fp_eb9dce56a8', 'finish_reason': 'stop', 'logprobs': None}, id='run-7a5e6599-9346-4c5d-af5d-34f3d810f46f-0', usage_metadata={'input_tokens': 15310, 'output_tokens': 59, 'total_tokens': 15369, 'input_token_details': {'audio': 0, 'cache_read': 0}, 'output_token_details': {'audio': 0, 'reasoning': 0}})"
      ]
     },
     "execution_count": 29,
     "metadata": {},
     "output_type": "execute_result"
    }
   ],
   "source": [
    "import datetime\n",
    "\n",
    "from langchain_core.prompts import ChatPromptTemplate\n",
    "from langchain_core.runnables import RunnableConfig, chain\n",
    "\n",
    "today = datetime.datetime.today().strftime(\"%D\")\n",
    "prompt = ChatPromptTemplate(\n",
    "    [\n",
    "        (\"system\", f\"You are a helpful assistant. The date today is {today}.\"),\n",
    "        (\"human\", \"{user_input}\"),\n",
    "        (\"placeholder\", \"{messages}\"),\n",
    "    ]\n",
    ")\n",
    "\n",
    "# specifying tool_choice will force the model to call this tool.\n",
    "llm_with_tools = llm.bind_tools([tool])\n",
    "\n",
    "llm_chain = prompt | llm_with_tools\n",
    "\n",
    "\n",
    "@chain\n",
    "def tool_chain(user_input: str, config: RunnableConfig):\n",
    "    input_ = {\"user_input\": user_input}\n",
    "    ai_msg = llm_chain.invoke(input_, config=config)\n",
    "    tool_msgs = tool.batch(ai_msg.tool_calls, config=config)\n",
    "    return llm_chain.invoke({**input_, \"messages\": [ai_msg, *tool_msgs]}, config=config)\n",
    "\n",
    "\n",
    "tool_chain.invoke(\"who won the super bowl this year\")"
   ]
  },
  {
   "cell_type": "markdown",
   "id": "fb115693-e89e-40f2-a460-0d0d39a17963",
   "metadata": {},
   "source": [
    "Here's the [LangSmith trace](https://smith.langchain.com/public/b43232c1-b243-4a7f-afeb-5fba8c84ba56/r) for this run."
   ]
  },
  {
   "cell_type": "markdown",
   "id": "4ac8146c",
   "metadata": {},
   "source": [
    "## API reference\n",
    "\n",
    "For detailed documentation of all TavilySearchResults features and configurations head to the API reference: https://python.langchain.com/api_reference/community/tools/langchain_community.tools.tavily_search.tool.TavilySearchResults.html"
   ]
  }
 ],
 "metadata": {
  "kernelspec": {
   "display_name": "venv",
   "language": "python",
   "name": "python3"
  },
  "language_info": {
   "codemirror_mode": {
    "name": "ipython",
    "version": 3
   },
   "file_extension": ".py",
   "mimetype": "text/x-python",
   "name": "python",
   "nbconvert_exporter": "python",
   "pygments_lexer": "ipython3",
   "version": "3.11.0"
  }
 },
 "nbformat": 4,
 "nbformat_minor": 5
}
