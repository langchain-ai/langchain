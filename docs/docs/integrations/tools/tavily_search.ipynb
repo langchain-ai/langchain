{
 "cells": [
  {
   "cell_type": "markdown",
   "id": "a6f91f20",
   "metadata": {},
   "source": [
    "# Tavily Search"
   ]
  },
  {
   "cell_type": "markdown",
   "id": "5e24a889",
   "metadata": {},
   "source": [
    "[Tavily's Search API](https://tavily.com) is a search engine built specifically for AI agents (LLMs), delivering real-time, accurate, and factual results at speed.\n",
    "\n",
    "## Overview\n",
    "\n",
    "### Integration details\n",
    "| Class | Package | Serializable | [JS support](https://js.langchain.com/docs/integrations/tools/tavily_search) |  Package latest |\n",
    "| :--- | :--- | :---: | :---: | :---: |\n",
    "| [TavilySearchResults](https://python.langchain.com/api_reference/community/tools/langchain_community.tools.tavily_search.tool.TavilySearchResults.html) | [langchain-community](https://python.langchain.com/api_reference/community/index.html) | ❌ | ✅ |  ![PyPI - Version](https://img.shields.io/pypi/v/langchain-community?style=flat-square&label=%20) |\n",
    "\n",
    "### Tool features\n",
    "| [Returns artifact](/docs/how_to/tool_artifacts/) | Native async | Return data | Pricing |\n",
    "| :---: | :---: | :---: | :---: |\n",
    "| ✅ | ✅ | Title, URL, content snippet, raw content, answer, images, image descriptions | 1,000 free searches / month | \n",
    "\n",
    "\n",
    "## Setup\n",
    "\n",
    "The integration lives in the `langchain-community` package. We also need to install the `tavily-python` package."
   ]
  },
  {
   "cell_type": "code",
   "execution_count": 1,
   "id": "f85b4089",
   "metadata": {},
   "outputs": [
    {
     "name": "stdout",
     "output_type": "stream",
     "text": []
    }
   ],
   "source": [
    "%pip install -qU \"langchain-community>=0.3.18\" tavily-python"
   ]
  },
  {
   "cell_type": "markdown",
   "id": "b15e9266",
   "metadata": {},
   "source": [
    "### Credentials\n",
    "\n",
    "We also need to set our Tavily API key. You can get an API key by visiting [this site](https://app.tavily.com/sign-in) and creating an account."
   ]
  },
  {
   "cell_type": "code",
   "execution_count": 2,
   "id": "e0b178a2-8816-40ca-b57c-ccdd86dde9c9",
   "metadata": {},
   "outputs": [],
   "source": [
    "import getpass\n",
    "import os\n",
    "\n",
    "if not os.environ.get(\"TAVILY_API_KEY\"):\n",
    "    os.environ[\"TAVILY_API_KEY\"] = getpass.getpass(\"Tavily API key:\\n\")"
   ]
  },
  {
   "cell_type": "markdown",
   "id": "bc5ab717-fd27-4c59-b912-bdd099541478",
   "metadata": {},
   "source": [
    "It's also helpful (but not needed) to set up [LangSmith](https://smith.langchain.com/) for best-in-class observability:"
   ]
  },
  {
   "cell_type": "code",
   "execution_count": 3,
   "id": "a6c2f136-6367-4f1f-825d-ae741e1bf281",
   "metadata": {},
   "outputs": [],
   "source": [
    "# os.environ[\"LANGSMITH_TRACING\"] = \"true\"\n",
    "# os.environ[\"LANGSMITH_API_KEY\"] = getpass.getpass()"
   ]
  },
  {
   "cell_type": "markdown",
   "id": "1c97218f-f366-479d-8bf7-fe9f2f6df73f",
   "metadata": {},
   "source": [
    "## Instantiation\n",
    "\n",
    "Here we show how to instantiate an instance of the Tavily search tools. The tool accepts various parameters to customize the search:"
   ]
  },
  {
   "cell_type": "code",
   "execution_count": 4,
   "id": "8b3ddfe9-ca79-494c-a7ab-1f56d9407a64",
   "metadata": {},
   "outputs": [],
   "source": [
    "from langchain_community.tools import TavilySearchResults\n",
    "\n",
    "tool = TavilySearchResults(\n",
    "    max_results=5,\n",
    "    topic=\"general\",\n",
    "    include_answer=False,\n",
    "    include_raw_content=False,  # including raw content may lead to hitting context length limits\n",
    "    # include_images=True,\n",
    "    # include_image_descriptions=True\n",
    "    # time_range=\"day\",\n",
    "    # days=3,\n",
    "    # include_domains=[...],\n",
    "    # exclude_domains=[...],\n",
    "    # name=\"...\",            # overwrite default tool name\n",
    "    # description=\"...\",     # overwrite default tool description\n",
    "    # args_schema=...,       # overwrite default args_schema: BaseModel\n",
    ")"
   ]
  },
  {
   "cell_type": "markdown",
   "id": "74147a1a",
   "metadata": {},
   "source": [
    "## Invocation\n",
    "\n",
    "### [Invoke directly with args](/docs/concepts/tools)\n",
    "\n",
    "The `TavilySearchResults` tool accepts the following arguments:\n",
    "- `query` (required): A natural language search query\n",
    "- `search_depth` (optional): The depth of the search (\"basic\" or \"advanced\")\n",
    "- `time_range` (optional): Time range filter (\"day\", \"week\", \"month\", \"year\")\n",
    "- `include_domains` (optional): List of domains to limit search results to\n",
    "- `exclude_domains` (optional): List of domains to exclude from search results\n",
    "- `include_images` (optional): Whether to include query-related images in response\n",
    "\n",
    "NOTE: The optional arguments are available for ReAct agents to dynamically set, if you set a argument during instantiation and then Invoke the tool with a different value, the tool will use the value you passed during invokation. To read more about ReAct agents, check out the [ReAct agent](https://python.langchain.com/v0.1/docs/modules/agents/agent_types/react/) documentation."
   ]
  },
  {
   "cell_type": "code",
   "execution_count": 5,
   "id": "65310a8b-eb0c-4d9e-a618-4f4abe2414fc",
   "metadata": {},
   "outputs": [
    {
     "data": {
      "text/plain": [
       "[{'title': \"Andy Murray pulls out of the men's singles draw at his last Wimbledon\",\n",
       "  'url': 'https://www.nbcnews.com/news/sports/andy-murray-wimbledon-tennis-singles-draw-rcna159912',\n",
       "  'content': \"NBC News Now LONDON — Andy Murray, one of the last decade's most successful male tennis players, has pulled out of the singles tournament at what is almost certain to be his last Wimbledon, his team confirmed Tuesday. Murray, 37, who has won the Wimbledon singles title twice and the U.S Open once, has been battling to be fit to play at the All England Club for weeks. “Unfortunately, despite working incredibly hard on his recovery since his operation just over a week ago, Andy has taken the very difficult decision not to play the singles this year,” his team said in a statement reported by Sky News. The news caps a glittering career on the ATP singles tour, which placed Murray at No. 1 in the world for 41 weeks.\",\n",
       "  'score': 0.6755297},\n",
       " {'title': \"He beat Roger Federer in his last ever match at Wimbledon and now he's ...\",\n",
       "  'url': 'https://www.thetennisgazette.com/features/i-beat-roger-federer-in-his-last-ever-match-at-wimbledon-and-now-ive-won-eight-atp-titles/',\n",
       "  'content': \"He beat Roger Federer in his last ever match at Wimbledon and now he's won eight ATP titles He beat Roger Federer in his last ever match at Wimbledon and now he’s won eight ATP titles Roger Federer played his final ever singles tournament at Wimbledon in 2021, before retiring from tennis one year later. Hubert Hurkacz: The man who beat Roger Federer in his last match at Wimbledon Hubert Hurkacz awaited Federer, a big serving Pole, who was enjoying the best year of his career to date. What happened in the third set, happened to Federer just three times during his entire career, as Hurkacz beat him 6-0, sending him out of Wimbledon in convincing fashion. What happened to Hubert Hurkacz after beating Roger Federer at Wimbledon?\",\n",
       "  'score': 0.64128816},\n",
       " {'title': 'What happened last year? - The Athletic - The New York Times',\n",
       "  'url': 'https://www.nytimes.com/athletic/live-blogs/wimbledon-2024-live-updates-alcaraz-djokovic-mens-final-result/kJJdTKhOgkZo/mGpXBR2QIift/',\n",
       "  'content': \"Carlos Alcaraz beats Novak Djokovic to win the men's singles final In the 2023 final, Carlos Alcaraz won his first Wimbledon title, and only his second Grand Slam title, after beating Novak Djokovic in a five-set thriller on Centre Court. GO FURTHER Novak Djokovic and Carlos Alcaraz’s Wimbledon final is a duel of extraordinary quests Novak Djokovic set up a Wimbledon rematch with Carlos Alcaraz by beating Lorenzo Musetti, 6-4, 7-6, 6-3 on Centre Court on Friday, concluding his run to the final at the All England Club that started just 25 days after surgery on a torn meniscus in his right knee. GO FURTHER Novak Djokovic beats Lorenzo Musetti for Wimbledon final against Carlos Alcaraz\",\n",
       "  'score': 0.62330866},\n",
       " {'title': \"Murray's Wimbledon farewell: The man 'who left no stone unturned'\",\n",
       "  'url': 'https://www.atptour.com/en/news/murray-wimbledon-2024-reflections',\n",
       "  'content': \"It was a moment nobody in the tennis world will soon forget. Everything at Wimbledon came to a standstill Thursday evening when Andy Murray was honoured on Centre Court following his men's doubles loss alongside brother Jamie Murray.. Novak Djokovic, John McEnroe, Martina Navratilova, Lleyton Hewitt and Tim Henman were among the stars who joined the Scot on court to pay homage to the two\",\n",
       "  'score': 0.59061456},\n",
       " {'title': 'Wimbledon - Latest News, Headlines and Entertainment from the BBC',\n",
       "  'url': 'https://www.bbc.co.uk/news/topics/c1kr68g26j9t',\n",
       "  'content': \"Wimbledon - Latest News, Headlines and Entertainment from the BBC BBC Homepage Search BBC Close menu BBC News BBC Verify World News TV Weather for Wimbledon London London Disabled people share experience of accessible homes London Man's pop-up urinal death may never be explained, family fears London London London London London London London Met PC jailed for assaulting man in hospital bed London London London Man jumped to his death in police station - inquest London Central London YMCA closes after failed injunction Kerr denies 'whiteness as insult' against police Man denies being getaway driver in £1m watch raid About the BBC Contact the BBC BBC emails for you The BBC is not responsible for the content of external sites.\",\n",
       "  'score': 0.39187187}]"
      ]
     },
     "execution_count": 36,
     "metadata": {},
     "output_type": "execute_result"
    }
   ],
   "source": [
    "# Basic query\n",
    "tool.invoke({\"query\": \"What happened at the last wimbledon\"})"
   ]
  },
  {
   "cell_type": "markdown",
   "id": "d6e73897",
   "metadata": {},
   "source": [
    "### [Invoke with ToolCall](/docs/concepts/tools)\n",
    "\n",
    "We can also invoke the tool with a model-generated ToolCall, in which case a ToolMessage will be returned:"
   ]
  },
  {
   "cell_type": "code",
   "execution_count": 7,
   "id": "f90e33a7",
   "metadata": {},
   "outputs": [
    {
     "name": "stdout",
     "output_type": "stream",
     "text": [
      "[{\"title\": \"UEFA Euro 2028 - Wikipedia\", \"url\": \"https://en.wikipedia.org/wiki/UEFA_Euro_2028\", \"content\": \"The 2028 UEFA European Football Championship, commonly referred to as UEFA Euro 2028 or simply Euro 2028, will be the 18th UEFA European Championship, the quadrennial international football championship. It will be co-hosted by England, the Republic of Ireland, Scotland, and Wales, [1] and i\n"
     ]
    }
   ],
   "source": [
    "# This is usually generated by a model, but we'll create a tool call directly for demo purposes.\n",
    "model_generated_tool_call = {\n",
    "    \"args\": {\"query\": \"euro 2028 host nation\"},\n",
    "    \"id\": \"1\",\n",
    "    \"name\": \"tavily\",\n",
    "    \"type\": \"tool_call\",\n",
    "}\n",
    "tool_msg = tool.invoke(model_generated_tool_call)\n",
    "\n",
    "# The content is a JSON string of results\n",
    "print(tool_msg.content[:400])"
   ]
  },
  {
   "cell_type": "code",
   "execution_count": 8,
   "id": "31a54a2b",
   "metadata": {},
   "outputs": [
    {
     "data": {
      "text/plain": [
       "{'query': str,\n",
       " 'follow_up_questions': NoneType,\n",
       " 'answer': NoneType,\n",
       " 'images': list,\n",
       " 'results': list,\n",
       " 'response_time': float}"
      ]
     },
     "execution_count": 9,
     "metadata": {},
     "output_type": "execute_result"
    }
   ],
   "source": [
    "# The artifact is a dict with richer, raw results\n",
    "{k: type(v) for k, v in tool_msg.artifact.items()}"
   ]
  },
  {
   "cell_type": "markdown",
   "id": "659f9fbd-6fcf-445f-aa8c-72d8e60154bd",
   "metadata": {},
   "source": [
    "## Chaining\n",
    "\n",
    "We can use our tool in a chain by first binding it to a [tool-calling model](/docs/how_to/tool_calling/) and then calling it:\n",
    "\n",
    "import ChatModelTabs from \"@theme/ChatModelTabs\";\n",
    "\n",
    "<ChatModelTabs customVarName=\"llm\" />\n"
   ]
  },
  {
   "cell_type": "code",
   "execution_count": 10,
   "id": "af3123ad-7a02-40e5-b58e-7d56e23e5830",
   "metadata": {},
   "outputs": [],
   "source": [
    "# | output: false\n",
    "# | echo: false\n",
    "\n",
    "# !pip install -qU langchain langchain-openai\n",
    "from langchain.chat_models import init_chat_model\n",
    "\n",
    "llm = init_chat_model(model=\"gpt-4o\", model_provider=\"openai\", temperature=0)"
   ]
  },
  {
   "cell_type": "code",
   "execution_count": 11,
   "id": "fdbf35b5-3aaf-4947-9ec6-48c21533fb95",
   "metadata": {},
   "outputs": [
    {
     "data": {
      "text/plain": [
       "AIMessage(content=\"The Philadelphia Eagles won the Super Bowl in 2025, defeating the Kansas City Chiefs with a score of 40-22. The game took place at Caesars Superdome in New Orleans. Jalen Hurts, the Eagles' quarterback, was named the MVP of the game. This victory marked the Eagles' second Super Bowl win.\", additional_kwargs={'refusal': None}, response_metadata={'token_usage': {'completion_tokens': 70, 'prompt_tokens': 5789, 'total_tokens': 5859, 'completion_tokens_details': {'accepted_prediction_tokens': 0, 'audio_tokens': 0, 'reasoning_tokens': 0, 'rejected_prediction_tokens': 0}, 'prompt_tokens_details': {'audio_tokens': 0, 'cached_tokens': 0}}, 'model_name': 'gpt-4o-2024-08-06', 'system_fingerprint': 'fp_eb9dce56a8', 'finish_reason': 'stop', 'logprobs': None}, id='run-61757a23-da71-4b1b-9d51-9f2678ef53d0-0', usage_metadata={'input_tokens': 5789, 'output_tokens': 70, 'total_tokens': 5859, 'input_token_details': {'audio': 0, 'cache_read': 0}, 'output_token_details': {'audio': 0, 'reasoning': 0}})"
      ]
     },
     "execution_count": 12,
     "metadata": {},
     "output_type": "execute_result"
    }
   ],
   "source": [
    "import datetime\n",
    "\n",
    "from langchain_core.prompts import ChatPromptTemplate\n",
    "from langchain_core.runnables import RunnableConfig, chain\n",
    "\n",
    "today = datetime.datetime.today().strftime(\"%D\")\n",
    "prompt = ChatPromptTemplate(\n",
    "    [\n",
    "        (\"system\", f\"You are a helpful assistant. The date today is {today}.\"),\n",
    "        (\"human\", \"{user_input}\"),\n",
    "        (\"placeholder\", \"{messages}\"),\n",
    "    ]\n",
    ")\n",
    "\n",
    "# specifying tool_choice will force the model to call this tool.\n",
    "llm_with_tools = llm.bind_tools([tool])\n",
    "\n",
    "llm_chain = prompt | llm_with_tools\n",
    "\n",
    "\n",
    "@chain\n",
    "def tool_chain(user_input: str, config: RunnableConfig):\n",
    "    input_ = {\"user_input\": user_input}\n",
    "    ai_msg = llm_chain.invoke(input_, config=config)\n",
    "    tool_msgs = tool.batch(ai_msg.tool_calls, config=config)\n",
    "    return llm_chain.invoke({**input_, \"messages\": [ai_msg, *tool_msgs]}, config=config)\n",
    "\n",
    "\n",
    "tool_chain.invoke(\"who won the super bowl this year\")"
   ]
  },
  {
   "cell_type": "markdown",
   "id": "fb115693-e89e-40f2-a460-0d0d39a17963",
   "metadata": {},
   "source": [
    "Here's the [LangSmith trace](https://smith.langchain.com/public/b43232c1-b243-4a7f-afeb-5fba8c84ba56/r) for this run."
   ]
  },
  {
   "cell_type": "markdown",
   "id": "4ac8146c",
   "metadata": {},
   "source": [
    "## API reference\n",
    "\n",
    "For detailed documentation of all TavilySearchResults features and configurations head to the API reference: https://python.langchain.com/api_reference/community/tools/langchain_community.tools.tavily_search.tool.TavilySearchResults.html"
   ]
  }
 ],
 "metadata": {
  "kernelspec": {
   "display_name": "venv",
   "language": "python",
   "name": "python3"
  },
  "language_info": {
   "codemirror_mode": {
    "name": "ipython",
    "version": 3
   },
   "file_extension": ".py",
   "mimetype": "text/x-python",
   "name": "python",
   "nbconvert_exporter": "python",
   "pygments_lexer": "ipython3",
   "version": "3.11.0"
  }
 },
 "nbformat": 4,
 "nbformat_minor": 5
}
