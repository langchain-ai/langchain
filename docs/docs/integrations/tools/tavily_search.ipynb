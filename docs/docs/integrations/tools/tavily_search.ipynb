{
 "cells": [
  {
   "cell_type": "markdown",
   "id": "a6f91f20",
   "metadata": {},
   "source": [
    "# Tavily Search"
   ]
  },
  {
   "cell_type": "markdown",
   "id": "5e24a889",
   "metadata": {},
   "source": [
    "[Tavily's Search API](https://tavily.com) is a search engine built specifically for AI agents (LLMs), delivering real-time, accurate, and factual results at speed.\n",
    "\n",
    "## Overview\n",
    "\n",
    "### Integration details\n",
    "| Class | Package | Serializable | [JS support](https://js.langchain.com/docs/integrations/tools/tavily_search) |  Package latest |\n",
    "| :--- | :--- | :---: | :---: | :---: |\n",
    "| [TavilySearchResults](https://python.langchain.com/api_reference/community/tools/langchain_community.tools.tavily_search.tool.TavilySearchResults.html) | [langchain-community](https://python.langchain.com/api_reference/community/index.html) | ❌ | ✅ |  ![PyPI - Version](https://img.shields.io/pypi/v/langchain-community?style=flat-square&label=%20) |\n",
    "\n",
    "### Tool features\n",
    "| [Returns artifact](/docs/how_to/tool_artifacts/) | Native async | Return data | Pricing |\n",
    "| :---: | :---: | :---: | :---: |\n",
    "| ✅ | ✅ | Title, URL, raw content, answer, images, image descriptions | 1,000 free searches / month | \n",
    "\n",
    "\n",
    "## Setup\n",
    "\n",
    "The integration lives in the `langchain-community` package. We also need to install the `tavily-python` package."
   ]
  },
  {
   "cell_type": "code",
   "execution_count": 1,
   "id": "f85b4089",
   "metadata": {},
   "outputs": [
    {
     "name": "stdout",
     "output_type": "stream",
     "text": [
      "\n",
      "\u001b[1m[\u001b[0m\u001b[34;49mnotice\u001b[0m\u001b[1;39;49m]\u001b[0m\u001b[39;49m A new release of pip available: \u001b[0m\u001b[31;49m22.3\u001b[0m\u001b[39;49m -> \u001b[0m\u001b[32;49m25.0.1\u001b[0m\n",
      "\u001b[1m[\u001b[0m\u001b[34;49mnotice\u001b[0m\u001b[1;39;49m]\u001b[0m\u001b[39;49m To update, run: \u001b[0m\u001b[32;49mpip install --upgrade pip\u001b[0m\n",
      "Note: you may need to restart the kernel to use updated packages.\n"
     ]
    }
   ],
   "source": [
    "%pip install -qU \"langchain-community>=0.3.18\" tavily-python"
   ]
  },
  {
   "cell_type": "markdown",
   "id": "b15e9266",
   "metadata": {},
   "source": [
    "### Credentials\n",
    "\n",
    "We also need to set our Tavily API key. You can get an API key by visiting [this site](https://app.tavily.com/sign-in) and creating an account."
   ]
  },
  {
   "cell_type": "code",
   "execution_count": 1,
   "id": "e0b178a2-8816-40ca-b57c-ccdd86dde9c9",
   "metadata": {},
   "outputs": [],
   "source": [
    "import getpass\n",
    "import os\n",
    "\n",
    "if not os.environ.get(\"TAVILY_API_KEY\"):\n",
    "    os.environ[\"TAVILY_API_KEY\"] = getpass.getpass(\"Tavily API key:\\n\")"
   ]
  },
  {
   "cell_type": "markdown",
   "id": "bc5ab717-fd27-4c59-b912-bdd099541478",
   "metadata": {},
   "source": [
    "It's also helpful (but not needed) to set up [LangSmith](https://smith.langchain.com/) for best-in-class observability:"
   ]
  },
  {
   "cell_type": "code",
   "execution_count": 11,
   "id": "a6c2f136-6367-4f1f-825d-ae741e1bf281",
   "metadata": {},
   "outputs": [],
   "source": [
    "# os.environ[\"LANGSMITH_TRACING\"] = \"true\"\n",
    "# os.environ[\"LANGSMITH_API_KEY\"] = getpass.getpass()"
   ]
  },
  {
   "cell_type": "markdown",
   "id": "1c97218f-f366-479d-8bf7-fe9f2f6df73f",
   "metadata": {},
   "source": [
    "## Instantiation\n",
    "\n",
    "Here we show how to instantiate an instance of the Tavily search tools. The tool accepts various parameters to customize the search:"
   ]
  },
  {
   "cell_type": "code",
   "execution_count": 5,
   "id": "8b3ddfe9-ca79-494c-a7ab-1f56d9407a64",
   "metadata": {},
   "outputs": [],
   "source": [
    "from langchain_community.tools import TavilySearchResults\n",
    "\n",
    "tool = TavilySearchResults(\n",
    "    max_results=5,\n",
    "    topic=\"general\",\n",
    "    include_answer=False,\n",
    "    include_raw_content=True,           # including raw content may lead to hitting context length limits\n",
    "    # include_images=True,\n",
    "    # include_image_descriptions=True\n",
    "    # time_range=\"day\",\n",
    "    # days=3,\n",
    "    # include_domains=[...],\n",
    "    # exclude_domains=[...],\n",
    "    # name=\"...\",            # overwrite default tool name\n",
    "    # description=\"...\",     # overwrite default tool description\n",
    "    # args_schema=...,       # overwrite default args_schema: BaseModel\n",
    ")"
   ]
  },
  {
   "cell_type": "markdown",
   "id": "74147a1a",
   "metadata": {},
   "source": [
    "## Invocation\n",
    "\n",
    "### [Invoke directly with args](/docs/concepts/tools)\n",
    "\n",
    "The `TavilySearchResults` tool accepts the following arguments:\n",
    "- `query` (required): A natural language search query\n",
    "- `search_depth` (optional): The depth of the search (\"basic\" or \"advanced\")\n",
    "- `time_range` (optional): Time range filter (\"day\", \"week\", \"month\", \"year\")\n",
    "- `include_domains` (optional): List of domains to limit search results to\n",
    "- `exclude_domains` (optional): List of domains to exclude from search results\n",
    "- `include_images` (optional): Whether to include query-related images in response\n",
    "\n",
    "NOTE: The optional arguments are available for ReAct agents to dynamically set, if you set a argument during instantiation and then Invoke the tool with a different value, the tool will use the value you passed during invokation. To read more about ReAct agents, check out the [ReAct agent](https://python.langchain.com/v0.1/docs/modules/agents/agent_types/react/) documentation."
   ]
  },
  {
   "cell_type": "code",
   "execution_count": 6,
   "id": "65310a8b-eb0c-4d9e-a618-4f4abe2414fc",
   "metadata": {},
   "outputs": [
    {
     "data": {
      "text/plain": [
       "[{'title': \"Andy Murray pulls out of the men's singles draw at his last Wimbledon\",\n",
       "  'url': 'https://www.nbcnews.com/news/sports/andy-murray-wimbledon-tennis-singles-draw-rcna159912',\n",
       "  'content': \"NBC News Now LONDON — Andy Murray, one of the last decade's most successful male tennis players, has pulled out of the singles tournament at what is almost certain to be his last Wimbledon, his team confirmed Tuesday. Murray, 37, who has won the Wimbledon singles title twice and the U.S Open once, has been battling to be fit to play at the All England Club for weeks. “Unfortunately, despite working incredibly hard on his recovery since his operation just over a week ago, Andy has taken the very difficult decision not to play the singles this year,” his team said in a statement reported by Sky News. The news caps a glittering career on the ATP singles tour, which placed Murray at No. 1 in the world for 41 weeks.\",\n",
       "  'score': 0.6755297,\n",
       "  'raw_content': \"Andy Murray pulls out of the men's singles draw at his last Wimbledon\\nIE 11 is not supported. For an optimal experience visit our site on another browser.\\nSkip to Content\\n\\n\\nTrump admin\\nPolitics\\n\\nLocal\\n\\nNew York\\nLos Angeles\\nChicago\\nDallas-Fort Worth\\nPhiladelphia\\nWashington, D.C.\\nBoston\\nBay Area\\nSouth Florida\\nSan Diego\\nConnecticut\\n\\n\\n\\nU.S. News\\n\\nWorld\\nBusiness\\nEditors' picks\\nShopping\\nTipline\\nSports\\nHealth\\nScience\\n\\nCulture & Trends\\n\\n\\nShare & Save\\xa0—\\n\\n\\n\\n\\n\\n\\nMy NewsManage ProfileEmail PreferencesSign Out\\nSearch\\nProfile\\nMy NewsSign Out\\nSign InCreate your free profile\\nSections\\n\\nU.S. News\\nDecision 2024\\nPolitics\\nWorld\\nBusiness\\nSports\\nInvestigations\\nCulture & Trends\\nHealth\\nScience\\nTech & Media\\nWeather\\nVideo Features\\nPhotos\\nNBC Select\\nNBC Asian America\\nNBC BLK\\nNBC Latino\\nNBC OUT\\n\\nLocal\\n\\nNew York\\nLos Angeles\\nChicago\\nDallas-Fort Worth\\nPhiladelphia\\nWashington, D.C.\\nBoston\\nBay Area\\nSouth Florida\\nSan Diego\\nConnecticut\\n\\ntv\\n\\nToday\\nNightly News\\nMSNBC\\nMeet the Press\\nDateline\\n\\nFeatured\\n\\nNBC News Now\\nNightly Films\\nStay Tuned\\nSpecial Features\\nNewsletters\\nPodcasts\\nListen Now\\n\\nMore From NBC\\n\\nCNBC\\nNBC.COM\\nNBCU Academy\\nPeacock\\nNEXT STEPS FOR VETS\\nNBC News Site Map\\nHelp\\n\\nFollow NBC News\\n\\n\\n\\n\\n\\nnews Alerts\\nThere are no new alerts at this time\\nSearch\\n\\nFacebook\\nTwitter\\nEmail\\nSMS\\nPrint\\nWhatsapp\\nReddit\\nPocket\\nFlipboard\\nPinterest\\n\\nLinkedin\\n\\n\\nLatest Stories\\n\\nTrump admin\\nPolitics\\nU.S. News\\nWorld\\nBusiness\\nEditors' picks\\nShopping\\nTipline\\nSports\\nHealth\\nScience\\nCulture & Trends\\n\\nSports\\nAndy Murray pulls out of the men's singles draw at his last Wimbledon\\nThe Scottish star, 37, who has won the Wimbledon singles title twice and the U.S Open once, has been battling to be fit for weeks.\\n\\nAndy Murray in Wimbledon in southwest London on Sunday. Mike Egerton / PA via Getty Images\\n\\n\\n\\n\\n\\n\\n\\n\\n\\n\\nBy Patrick Smith\\nLONDON — Andy Murray, one of the last decade's most successful male tennis players, has pulled out of the singles tournament at what is almost certain to be his last Wimbledon, his team confirmed Tuesday.\\nMurray, 37, who has won the Wimbledon singles title twice and the U.S Open once, has been battling to be fit to play at the All England Club for weeks.\\nHe is recovering from surgery to remove a spinal cyst 10 days ago, which left him visibly in pain and unable to move his right leg at Queens Club in London last month, a traditional warm-up tournament for Wimbledon.\\nAlthough he plans to play in the men's doubles alongside his brother, Jamie, it appears Murray will not appear again alone on Centre Court. He had been due to face Czech player Tomáš Machác\\xa0in the singles at 1:30 p.m. (8:30 a.m. ET) Tuesday.\\n“Unfortunately, despite working incredibly hard on his recovery since his operation just over a week ago, Andy has taken the very difficult decision not to play the singles this year,” his team said in a statement reported by Sky News.\\n“As you can imagine, he is extremely disappointed but has confirmed that he will be playing in the doubles with Jamie and looks forward to competing at Wimbledon for the last time.”\\nSky News is owned by Comcast, the parent company of NBC News.\\nWishing him well in a post on X, Wimbledon said it was “sorry to hear you won’t be playing singles this year.”\\nMurray also still hopes to appear at the Paris Olympics, after which, he has said, he will retire from the sport.\\nThe news caps a glittering career on the ATP singles tour, which placed Murray at No. 1 in the world for 41 weeks. He was in the top 10 male players in the world for almost 10 years, from July 2008 to October 2017.\\nFor a time, the media included Murray in the so-called Big Four group of players, along with Roger Federer, Novak Djokovic and Rafael Nadal.\\nMurray, who is Scottish, became the first male British singles champion since Fred Perry in 1936, becoming one of the most lauded British sports stars in the process.\\nMurray has a long history with multiple injuries, and he declared in 2017 that it was unlikely he would compete in a professional tournament again after he withdrew from the U.S. Open because of a recurring hip injury.\\n\\nAndy Murray waves to the crowd after his Wimbledon exit in 2022.Justin Setterfield / Getty Images file\\nSuccessive operations allowed him, against the odds, to return to elite tennis, and he reached the third round of Wimbledon in 2021. A third-round match at the Australian Open last year lasted 5 hours and 45 minutes, a career record.\\nBut his old form has been elusive, and fans have nervously watched on, waiting for Murray to pull up in pain.\\nMurray said at a news conference last week that didn’t want his Queens appearance to be his last singles appearance.\\n“I know that there’s more important things in the world than how I finish playing my last tennis match or where I finished playing my last tennis match,” he said.\\n“But because of what I put into the sport over the last however many years, I would at least like to go out playing a proper match where I’m at least competitive, not what happened at Queens.”\\n\\nPatrick Smith\\nPatrick Smith is a London-based editor and reporter for NBC News Digital.\\n\\n\\nAbout\\nContact\\nHelp\\nCareers\\nAd Choices\\nPrivacy Policy\\nYour Privacy Choices\\nCA Notice\\nTerms of Service (Updated JULY 7, 2023)\\nNBC News Sitemap\\nClosed Captioning\\nAdvertise\\nSelect Shopping\\n\\n©\\xa02025 NBCUniversal Media, LLC\\n\"},\n",
       " {'title': \"Andy Murray's farewell at Wimbledon begins with loss alongside ... - BBC\",\n",
       "  'url': 'https://www.bbc.com/sport/tennis/articles/c0w4n103kz1o',\n",
       "  'content': 'Andy Murray\\'s farewell at Wimbledon begins with loss alongside brother Jamie Murray - BBC Sport Andy Murray thanked Wimbledon organisers for an \"emotional\" farewell ceremony after his final appearance began with a defeat alongside older brother Jamie in the men\\'s doubles. Watch the best bits from Andy Murray\\'s emotional interview on Centre Court Wimbledon has been the scene of many of the defining moments of Murray\\'s career and the emotional ties are why he fought so hard to play one final time. A year on, Murray ended Britain\\'s 77-year wait for a Wimbledon men\\'s singles champion by beating world number one Djokovic in a moment of national celebration.',\n",
       "  'score': 0.507544,\n",
       "  'raw_content': 'Andy Murray\\'s farewell at Wimbledon begins with loss alongside brother Jamie Murray - BBC Sport\\nBBC Homepage\\n\\nSkip to content\\n\\nAccessibility Help\\n\\n\\nYour account\\n\\n\\nHome\\n\\nNews\\nSport\\nBusiness\\nInnovation\\nCulture\\nTravel\\nEarth\\nVideo\\nLive\\nMore menu\\n\\nMore menu\\nSearch BBC\\n\\nHome\\nNews\\nSport\\nBusiness\\nInnovation\\nCulture\\nTravel\\nEarth\\nVideo\\nLive\\n\\nClose menu\\nBBC Sport\\nMenu\\n\\nHome\\nFootball\\nCricket\\nFormula 1\\nRugby U\\nTennis\\nGolf\\nAthletics\\nCycling\\n\\nMore\\nA-Z Sports\\n\\nAmerican Football\\nAthletics\\nBasketball\\nBoxing\\nCricket\\nCycling\\nDarts\\nDisability Sport\\nFootball\\nFormula 1\\nGaelic Games\\nGolf\\nGymnastics\\nHorse Racing\\nMixed Martial Arts\\nMotorsport\\nNetball\\nOlympic Sports\\nRugby League\\nRugby Union\\nSnooker\\nSwimming\\nTennis\\nWinter Sports\\nFull Sports A-Z\\n\\nMore from Sport\\n\\nEngland\\nScotland\\nWales\\nNorthern Ireland\\nNews Feeds\\n\\nHelp & FAQs\\n\\n\\nTennis\\n\\nScores & Schedule\\nCalendar\\n\\nMurray thanks Wimbledon for \\'emotional\\' farewell celebration\\nMedia caption,\\nWimbledon tribute - The best moments of Andy Murray\\nJonathan Jurejko\\nBBC Sport journalist at Wimbledon\\n\\n\\nPublished\\n4 July 2024\\n\\n\\nAndy Murray thanked Wimbledon organisers for an \"emotional\" farewell ceremony after his final appearance began with a defeat alongside older brother Jamie in the men\\'s doubles.\\nThe two-time singles champion is playing at the All England Club for the last time before retiring later this year.\\nA video montage of Murray\\'s career was played on the Centre Court big screen after the match, leaving the former world number one in tears as thousands of fans showed their appreciation with elongated applause.\\n\"It feels like a good ending to me. Whether I deserve it or not, I don\\'t know. But they did a really, really good job,\" said Murray, who won Wimbledon in 2013 and 2016.\\nThe Murray brothers arrived on a packed Centre Court to a standing ovation.\\nAnother followed moments after they lost 7-6 (8-6) 6-4 to Australian pair John Peers and Rinky Hijikata.\\nMurray\\'s parents Judy and Will, his wife Kim and two of their daughters watched on as former BBC presenter Sue Barker conducted a poignant ceremony shortly after.\\nMurray thanked his family, his team members over the years and the fans for their continued support.\\n\"It is hard because I want to keep playing, but I can\\'t,\" Murray said on court.\\n\"Physically it\\'s too tough now. I want to play forever. I love the sport.\"\\nMedia caption,\\nWatch the best bits from Andy Murray\\'s emotional interview on Centre Court\\nFellow Grand Slam champions Novak Djokovic, Martina Navratilova, John McEnroe and Iga Swiatek applauded from the side of the court, alongside Tim Henman - who Murray replaced as British men’s number one in 2005 - and current players Dan Evans, Jack Draper and Cameron Norrie.\\nMurray is set to appear again later this week, having signed up to the mixed doubles with fellow British Grand Slam champion Emma Raducanu.\\n\"It was obviously very special to play with Jamie, we\\'ve not the chance to do it before,\" Murray, who won the first of his three major titles at the 2012 US Open, said.\\n\"It was a race against time to get out here and physically it wasn\\'t easy but I\\'m glad we were able to do it one time together.\"\\n\\n\\nWatch Andy Murray: Will to Win\\n\\n\\nListen: Sporting Giants - Andy Murray\\n\\n\\nWhy Wimbledon means so much to Murray\\nWimbledon has been the scene of many of the defining moments of Murray\\'s career and the emotional ties are why he fought so hard to play one final time.\\nMurray\\'s chances of a last hurrah had been thrown into serious doubt.\\nA back issue caused a loss of power and feeling in his right leg during a match at Queen\\'s three weeks ago.\\nThe only option was an operation on 22 June to remove a cyst close to his spine, but it left Murray in a race against time to be fit.\\nUltimately, having left making a decision until the night before his scheduled singles match on Tuesday, he realised with a heavy heart it was not possible to play a five-set match.\\nGoing out alongside 38-year-old Jamie in the shorter doubles format was the next best thing.\\nThe plan, which was initially put in place around the French Open in late May, did come to fruition.\\nNot since 1995 had a men\\'s doubles first-round match been put on Centre Court.\\nThis occasion could not have been scheduled anywhere else.\\nMurray reached his first Wimbledon final in 2012, losing to Roger Federer in an four-set match which left him in tears and changed public perception about him.\\nRedemption came when he won Olympic singles gold on the same court against the same opponent four weeks later.\\nA year on, Murray ended Britain\\'s 77-year wait for a Wimbledon men\\'s singles champion by beating world number one Djokovic in a moment of national celebration.\\nAnother triumph at the All England Club came in 2016, which he says he enjoyed more.\\nAfter both victories, Murray walked back through the marbled corridors of Centre Court - like tradition dictates - and was given a guard of honour before stepping on to the balcony to greet the adoring fans below.\\nThe same ceremonial walk was made by Murray again on Thursday night.\\nWhile Murray had not won the trophy again, it was the only farewell - of sorts - fit for a player who has led British tennis with distinction.\\nMedia caption,\\nMurrays walk out on Centre Court to standing ovation\\nHow an emotional day unfolded\\nTalk of the Super Murray Bros dominated day four of this year\\'s Championships.\\nThe famous Wimbledon queue, where fans camp overnight to grab one of the limited first-come first-served tickets for the following day, grew to a line of 11,000 hopefuls by mid-morning.\\nThe Murraynators were there, of course. A group of super-fans, who have travelled the world to watch their hero, slept outside in Wimbledon Park and were rewarded with Centre Court tickets.\\nIf you weren\\'t there with a tent and sleeping bag, your alarm had to be set for a time when nightclubs usually kick out.\\nInside the All England Club, fans not fortunate enough to have a court ticket gathered on Henman Hill - sorry, Murray Mound. Hundreds had been in position all day with picnics and blankets.\\nBack on Centre, supporters took a breather after women\\'s top seed Swiatek wrapped up a straight-set win at about 18:30 BST.\\nThen, the change of stage began. Down came the net and singles posts, replaced by the longer doubles version.\\nA half-hour turnaround allowed the atmosphere to bubble with the Murrays\\' nearest and dearest taking their seats.\\nAndy\\'s wife Kim was flanked by their daughters, with mum Judy alongside them. Dad Will had travelled down from Scotland to watch.\\nMedia caption,\\nMurray gets Centre Court ovation from Wimbledon greats\\nAndy Murray insisted the brothers were not just playing for show, claiming they had a good chance of winning the match and going far in the tournament.\\nThe match did not pan out as they hoped.\\nIt was clear from the third game that the younger Murray sibling was struggling with his movement.\\nHis \\'will to win\\' - which has become the epitaph of his tennis career - had not diminished, however.\\nThe usual teeth-baring and fist-pumping was on show. As was the chuntering at his team.\\nUnfortunately, his body was not operating how his mind wanted it to. That\\'s been a recurring theme for the past five and a half years.\\nAt the 2019 Australian Open, Murray broke down in a news conference as he said he thought he would have to retire later that year because of a hip injury.\\nNo singles player had come back to professional tennis after a resurfacing surgery.\\nMetal-hip Murray not only returned. He returned and won an ATP Tour title later that year. More memorable moments at Grand Slams followed.\\nBut he could not regain the level which made him one of the best players of his generation.\\n\"The injuries have been tough, quite significant injuries,\" he said.\\n\"We\\'ve worked extremely hard just to be on the court competing, probably not on the level that any of us wanted but we tried.\"\\nMedia caption,\\nSue-prise! Barker comes out on Centre Court to speak to Murray\\nRelated topics\\n\\nTennis\\n\\nMore on this story\\n\\n\\nLive scores, results and order of play\\n\\n\\nGet tennis news sent straight to your phone\\n\\n\\nTop stories\\n\\n\\nLive. \\'The great modern Champions League rivalry?\\' - Guardiola speaks before Real clash\\n\\n\\nSwift, Trump and a dynasty in ruins - how Super Bowl 59 unfolded\\n\\n\\nPublished\\n10 hours ago\\n\\n\\n\\n\\n\\'Ireland live rent free in Scotland\\'s heads - again\\'\\n\\n\\nPublished\\n3 hours ago\\n\\n\\n\\n\\nElsewhere on the BBC\\n\\n\\nLearn about the legends of King ArthurGreg Jenner is joined in medieval Europe by Dr Mary Bateman and comedian Mike Wozniak\\n\\n\\n\\nThe Boarders are back but they must fight to surviveWith a new headmistress at the helm, do they have what it takes?\\n\\n\\n\\nGuitar legend Johnny Marr picks his Tracks of My YearsThe former member of The Smiths decides on the tracks that define his life and career\\n\\n\\n\\nRelive 30 years of The Mrs Merton ShowCaroline Aherne stars as Mrs Merton, a charming, cheeky interviewer to the stars\\n\\n\\n\\nElsewhere in Sport\\n\\n\\nSwift, Trump and a dynasty in ruins - how Super Bowl 59 unfolded\\n\\n\\n\\n\\'Ireland live rent free in Scotland\\'s heads - again\\'\\n\\n\\n\\nPhiladelphia Eagles destroy Kansas City Chiefs to win Super Bowl. VideoPhiladelphia Eagles destroy Kansas City Chiefs to win Super Bowl\\n\\n\\n\\nBoom or bust? Golf in flux but is it really thriving?\\n\\n\\n\\n\\'Complete team\\' Ireland in driving seat for hat-trick\\n\\n\\n\\n\\'Don\\'t mess with the FA Cup - Plymouth teach Slot a lesson\\'\\n\\n\\n\\nHoy reception & England\\'s dramatic finish in Six Nations best moments. VideoHoy reception & England\\'s dramatic finish in Six Nations best moments\\n\\n\\n\\nDominant Ireland beat disappointing Scotland at Murrayfield VideoDominant Ireland beat disappointing Scotland at Murrayfield\\n\\n\\n\\nPlymouth stun Liverpool in FA Cup giant-killing. VideoPlymouth stun Liverpool in FA Cup giant-killing\\n\\n\\n\\nRangers out of Scottish Cup after 97th-minute penalty save. VideoRangers out of Scottish Cup after 97th-minute penalty save\\n\\n\\n\\n\\'Quite a welcome home\\' - Hoy receives emotional Murrayfield ovation. Video\\'Quite a welcome home\\' - Hoy receives emotional Murrayfield ovation\\n\\n\\n\\nFin Smith\\'s composure gives England vital new dimension - Dawson\\n\\n\\n\\n\\'Strike of a lifetime\\' - an own goal that belongs in FA Cup folklore\\n\\n\\n\\n\\'I\\'m happy it was like that\\' - so was FA Cup better without VAR?\\n\\n\\n\\nWatch jubilant final moments as England snatch victory away from France. VideoWatch jubilant final moments as England snatch victory away from France\\n\\n\\n\\nWillock\\'s controversial goal against Birmingham. VideoWillock\\'s controversial goal against Birmingham\\n\\n\\n\\nWatch: Incredible goal puts Orient ahead against Man City. VideoWatch: Incredible goal puts Orient ahead against Man City\\n\\n\\n\\nSpine-tingling commentary of England\\'s dramatic late win. VideoSpine-tingling commentary of England\\'s dramatic late win\\n\\n\\n\\nThe Treble to the periphery - what\\'s going on with Jack Grealish?\\n\\n\\n\\nWho rivals Dupont as Six Nations\\' greatest player?\\n\\n\\n\\nHome\\n\\nNews\\nSport\\nBusiness\\nInnovation\\nCulture\\nTravel\\nEarth\\nVideo\\n\\nLive\\n\\n\\nTerms of Use\\n\\nAbout the BBC\\nPrivacy Policy\\nCookies\\nAccessibility Help\\nParental Guidance\\nContact the BBC\\nBBC emails for you\\nAdvertise with us\\n\\nCopyright © 2025 BBC. The BBC is not responsible for the content of external sites. Read about our approach to external linking.'},\n",
       " {'title': 'Andy Murray brought to tears by emotional ceremony as Wimbledon ...',\n",
       "  'url': 'https://edition.cnn.com/2024/07/05/sport/andy-murray-wimbledon-farewell-ceremony-spt-intl/index.html',\n",
       "  'content': 'Andy Murray brought to tears by emotional ceremony as Wimbledon farewell begins with doubles defeat | CNN Football Tennis Golf Motorsport US Sports Olympics Climbing Esports Hockey CNN10 About CNN Andy Murray became emotional when speaking on court following his Wimbledon defeat on Thursday. It was an emotional night for three-time grand slam champion Andy Murray on Thursday, as the 37-year-old’s Wimbledon farewell began with doubles defeat. Following a doubles defeat alongside his brother Jamie on Thursday, Murray was moved to tears after a short ceremony on Centre Court in which a montage of his career played out on big screens. Murray watches on as a video montage of his career highlights plays on the big screens at Wimbledon. CNN10 About CNN',\n",
       "  'score': 0.43467787,\n",
       "  'raw_content': \"Andy Murray brought to tears by emotional ceremony as Wimbledon farewell begins with doubles defeat | CNN\\n\\nCNN values your feedback\\n1. How relevant is this ad to you?\\n2. Did you encounter any technical issues?\\nNo\\nVideo player was slow to load content  Video content never loaded  Ad froze or did not finish loading  Video content did not start after ad  Audio on ad was too loud  Other issues \\nAd never loaded  Ad prevented/slowed the page from loading  Content moved around while ad loaded  Ad was repetitive to ads I've seen previously  Other issues \\nCancel Submit\\nThank You!\\nYour effort and contribution in providing this feedback is much appreciated.\\nClose\\nAd Feedback\\nSports\\nFootball\\nTennis\\nGolf\\nMotorsport\\nUS Sports\\nOlympics\\nClimbing\\nEsports\\nHockey\\nMore\\nFootball Tennis Golf Motorsport US Sports Olympics Climbing Esports Hockey\\nWatch Listen Live TV Subscribe\\nSign in\\nMy Account\\n\\nSettings\\nNewsletters\\nTopics You Follow\\nSign Out\\n\\nYour CNN account Sign in to your CNN account\\n\\n\\nSign in\\nMy Account\\n\\nSettings\\nNewsletters\\nTopics You Follow\\nSign Out\\n\\nYour CNN account Sign in to your CNN account\\n\\n\\nLive TV Listen Watch\\n\\nEdition\\nUS\\nInternational\\nArabic\\nEspañol\\nEdition\\n\\nUS\\nInternational\\nArabic\\nEspañol\\n\\n\\nFootball\\nTennis\\nGolf\\nMotorsport\\nUS Sports\\nOlympics\\nClimbing\\nEsports\\nHockey\\nFollow CNN\\n\\n\\n\\n\\n\\n\\n\\n\\n\\nWorld\\nAfrica\\nAmericas\\nAsia\\nAustralia\\nChina\\nEurope\\nIndia\\nMiddle East\\nUnited Kingdom\\n\\n\\nUS Politics\\nSCOTUS\\nCongress\\nFacts First\\n2024 Elections\\n\\n\\nBusiness\\nTech\\nMedia\\nCalculators\\nVideos\\n\\n\\nMarkets\\nPre-markets\\nAfter-Hours\\nFear & Greed\\nInvesting\\nMarkets Now\\nNightcap\\n\\n\\nHealth\\nLife, But Better\\nFitness\\nFood\\nSleep\\nMindfulness\\nRelationships\\n\\n\\nEntertainment\\nMovies\\nTelevision\\nCelebrity\\n\\n\\nTech\\nInnovate\\nForeseeable Future\\nMission: Ahead\\nWork Transformed\\nInnovative Cities\\n\\n\\nStyle\\nArts\\nDesign\\nFashion\\nArchitecture\\nLuxury\\nBeauty\\nVideo\\n\\n\\nTravel\\nDestinations\\nFood & Drink\\nStay\\nNews\\nVideos\\n\\n\\nSports\\nFootball\\nTennis\\nGolf\\nMotorsport\\nUS Sports\\nOlympics\\nClimbing\\nEsports\\nHockey\\n\\n\\nScience\\nSpace\\nLife\\nUnearthed\\n\\n\\nClimate\\nSolutions\\nWeather\\n\\n\\nWeather\\nVideo\\nClimate\\n\\n\\n\\nUkraine-Russia War\\n\\n\\nIsrael-Hamas War\\n\\n\\nFeatures\\n\\nAs Equals\\nCall to Earth\\nFreedom Project\\nImpact Your World\\nInside Africa\\nCNN Heroes\\n\\n\\nWatch\\nLive TV\\nCNN Fast\\nShows A-Z\\nCNN10\\nCNN Max\\nCNN TV Schedules\\n\\n\\nListen\\nCNN 5 Things\\nChasing Life with Dr. Sanjay Gupta\\nThe Assignment with Audie Cornish\\nOne Thing\\nTug of War\\nCNN Political Briefing\\nThe Axe Files\\nAll There Is with Anderson Cooper\\nAll CNN Audio podcasts\\n\\n\\nAbout CNN\\nPhotos\\nInvestigations\\nCNN Profiles\\nCNN Leadership\\nCNN Newsletters\\nWork for CNN\\n\\n\\n\\nAd Feedback\\nSports / Tennis\\nAndy Murray brought to tears by emotional ceremony as Wimbledon farewell begins with doubles defeat\\n\\nBy Ben Church, CNN\\n3 minute read\\nPublished 5:51 AM EDT, Fri July 5, 2024\\n\\nLink Copied!\\n\\nAndy Murray became emotional when speaking on court following his Wimbledon defeat on Thursday.\\nFrancois Nel/Getty Images\\nCNN \\xa0—\\xa0\\nIt was an emotional night for three-time grand slam champion Andy Murray on Thursday, as the 37-year-old’s Wimbledon farewell began with doubles defeat.\\nMurray will retire from the sport this season and is playing for the last time at Wimbledon, a place which has been home to some of his most memorable career highlights.\\nFollowing a doubles defeat alongside his brother Jamie on Thursday, Murray was moved to tears after a short ceremony on Centre Court in which a montage of his career played out on big screens.\\nAd Feedback\\nAd Feedback\\n LONDON, ENGLAND - JUNE 18: Andy Murray of Great Britain celebrates against Alexei Popyrin of Australia during the Men's Singles Round of 32 match on Day Two of the cinch Championships at The Queen's Club on June 18, 2024 in London, England. (Photo by Luke Walker/Getty Images for LTA) Luke Walker/Getty Images Related article After spinal cyst surgery, Andy Murray’s retirement plan comes into sharp focus\\n“It is hard because I would love to keep playing, but I can’t. Physically, it’s just too tough now,” Murray said in his interview on court, after watching the video.\\n“I want to play forever, I love the sport. It’s given me so much, taught me loads of lessons over the years that I can use in the rest of my life. I don’t want to stop, so it is hard.”\\nGrand slam champions Novak Djokovic, Iga Świątek, Martina Navratilova and John McEnroe were just some of the famous faces in attendance for the short ceremony, and they joined thousands of fans in giving Murray a standing ovation.\\nAd Feedback\\nMurray’s family, including his two young daughters, also watched on from the stands.\\n“Mum and dad were amazing support when we were little in allowing us to pursue our dreams […] Thank you, mum and dad,” a tearful Murray said, before speaking about his wife, Kim.\\n“She has been an amazing support to me, to my whole family, she is the best mum. Unfortunately, in a couple of months, she’s going to have to see me every day […] I’m looking forward to the rest of our lives.”\\nMurray will likely be back on Centre Court on Saturday after signing up to play mixed doubles with fellow Brit Emma Raducanu.\\n\\nMurray watches on as a video montage of his career highlights plays on the big screens at Wimbledon.\\nMike Hewitt/Getty Images\\nMagical Wimbledon memories\\nOver the years, the crowds at Wimbledon have fallen in love with Murray.\\nHe made his tournament debut in 2005 as a teenager and eventually developed into one of the best players in the world, in an era where Roger Federer, Rafael Nadal and Djokovic were so dominant.\\nMurray made his first Wimbledon singles final in 2012 where he lost to Federer – a defeat which moved the British star to tears and somewhat changed the public’s perception of him.\\nA month later, Murray was back on the same court to win a gold medal at the 2012 Olympic Games in London.\\nThe victory kickstarted a successful year for Murray where he won the US Open – his first grand slam title.\\nHe then returned to Wimbledon in 2013 where he ended Britain’s 77-year wait for a men’s singles champion – an incredible moment now etched into the country’s history.\\nIn 2016, Murray won his second Wimbledon title – a victory which he says was his favorite.\\nInjuries, though, have played a major role in recent seasons and Murray has struggled to be competitive.\\nHe had hoped to play singles in what would be his last Wimbledon this year but was unable to recover from back surgery last month.\\nHe chose instead to play doubles – a shorter format – with his brother Jamie, but the pair were beaten in straight sets – 7-6(8-6) 6-4 – by John Peers and Rinky Hijikata on Thursday.\\nAd Feedback\\nAd Feedback\\nAd Feedback\\nAd Feedback\\nAd Feedback\\nSubscribe\\nSign in\\nMy Account\\n\\nSettings\\nNewsletters\\nTopics You Follow\\nSign Out\\n\\nYour CNN account Sign in to your CNN account\\n\\n\\nLive TV Listen Watch\\n\\n\\nWorld\\nAfrica\\nAmericas\\nAsia\\nAustralia\\nChina\\nEurope\\nIndia\\nMiddle East\\nUnited Kingdom\\n\\n\\nUS Politics\\nSCOTUS\\nCongress\\nFacts First\\n2024 Elections\\n\\n\\nBusiness\\nTech\\nMedia\\nCalculators\\nVideos\\n\\n\\nMarkets\\nPre-markets\\nAfter-Hours\\nFear & Greed\\nInvesting\\nMarkets Now\\nNightcap\\n\\n\\nHealth\\nLife, But Better\\nFitness\\nFood\\nSleep\\nMindfulness\\nRelationships\\n\\n\\nEntertainment\\nMovies\\nTelevision\\nCelebrity\\n\\n\\nTech\\nInnovate\\nForeseeable Future\\nMission: Ahead\\nWork Transformed\\nInnovative Cities\\n\\n\\nStyle\\nArts\\nDesign\\nFashion\\nArchitecture\\nLuxury\\nBeauty\\nVideo\\n\\n\\nTravel\\nDestinations\\nFood & Drink\\nStay\\nNews\\nVideos\\n\\n\\nSports\\nFootball\\nTennis\\nGolf\\nMotorsport\\nUS Sports\\nOlympics\\nClimbing\\nEsports\\nHockey\\n\\n\\nScience\\nSpace\\nLife\\nUnearthed\\n\\n\\nClimate\\nSolutions\\nWeather\\n\\n\\nWeather\\nVideo\\nClimate\\n\\n\\n\\nUkraine-Russia War\\n\\n\\nIsrael-Hamas War\\n\\n\\nFeatures\\n\\nAs Equals\\nCall to Earth\\nFreedom Project\\nImpact Your World\\nInside Africa\\nCNN Heroes\\n\\n\\nWatch\\nLive TV\\nCNN Fast\\nShows A-Z\\nCNN10\\nCNN Max\\nCNN TV Schedules\\n\\n\\nListen\\nCNN 5 Things\\nChasing Life with Dr. Sanjay Gupta\\nThe Assignment with Audie Cornish\\nOne Thing\\nTug of War\\nCNN Political Briefing\\nThe Axe Files\\nAll There Is with Anderson Cooper\\nAll CNN Audio podcasts\\n\\n\\nAbout CNN\\nPhotos\\nInvestigations\\nCNN Profiles\\nCNN Leadership\\nCNN Newsletters\\nWork for CNN\\n\\n\\n\\n\\nSports\\nWatch Listen Live TV\\nFollow CNN\\n\\n\\n\\n\\n\\n\\n\\nSubscribe\\nSign in\\nMy Account\\n\\nSettings\\nNewsletters\\nTopics You Follow\\nSign Out\\n\\nYour CNN account Sign in to your CNN account\\n\\n\\nTerms of Use Privacy Policy Cookie Settings Ad Choices Accessibility & CC About Newsletters Transcripts\\n© 2025 Cable News Network. A Warner Bros. Discovery Company. All Rights Reserved.\\nCNN Sans ™ & © 2016 Cable News Network.\"},\n",
       " {'title': 'Wimbledon - Latest News, Headlines and Entertainment from the BBC',\n",
       "  'url': 'https://www.bbc.co.uk/news/topics/c1kr68g26j9t',\n",
       "  'content': \"Wimbledon - Latest News, Headlines and Entertainment from the BBC BBC Homepage Search BBC Close menu BBC News BBC Verify World News TV Weather for Wimbledon London London Disabled people share experience of accessible homes London Man's pop-up urinal death may never be explained, family fears London London London London London London London Met PC jailed for assaulting man in hospital bed London London London Man jumped to his death in police station - inquest London Central London YMCA closes after failed injunction Kerr denies 'whiteness as insult' against police Man denies being getaway driver in £1m watch raid About the BBC Contact the BBC BBC emails for you The BBC is not responsible for the content of external sites.\",\n",
       "  'score': 0.39187187,\n",
       "  'raw_content': \"Wimbledon - Latest News, Headlines and Entertainment from the BBC\\nBBC Homepage\\n\\nSkip to content\\n\\nAccessibility Help\\n\\n\\nYour account\\n\\n\\nHome\\n\\nNews\\nSport\\nEarth\\nReel\\nWorklife\\nTravel\\nCulture\\nFuture\\nMusic\\nTV\\nWeather\\nSounds\\nMore menu\\n\\nMore menu\\nSearch BBC\\n\\nHome\\nNews\\nSport\\nEarth\\nReel\\nWorklife\\nTravel\\nCulture\\nFuture\\nMusic\\nTV\\nWeather\\nSounds\\n\\nClose menu\\nBBC News\\nMenu\\n\\nHome\\nIsrael-Gaza war\\nWar in Ukraine\\nClimate\\nVideo\\nWorld\\nUS & Canada\\nUK\\nBusiness\\nTech\\n\\nMore\\n\\nScience\\nEntertainment & Arts\\nHealth\\nIn Pictures\\nBBC Verify\\nWorld News TV\\nNewsbeat\\n\\nWimbledon\\nWeather for Wimbledon\\n\\nTonight, , Low Low of 4°\\nMonday 10 February,Mon 10th , High of 5° Low of 3°\\nTuesday 11 February,Tue 11th , High of 6° Low of 2°\\nWednesday 12 February,Wed 12th , High of 6° Low of 1°\\nThursday 13 February,Thu 13th , High of 6° Low of 1°\\n\\nLatest\\n\\n\\nWoman dies after car crashes into bus\\n\\n\\nAttribution\\nLondon\\n\\n\\nPosted\\n7 hours ago7h\\n\\n\\n\\n\\n\\nMajor restoration set for Kingston's wetlands\\n\\n\\nAttribution\\nLondon\\n\\n\\nPosted\\n10 hours ago10h\\n\\n\\n\\n\\n\\nDisabled people share experience of accessible homes\\n\\n\\nAttribution\\nLondon\\n\\n\\nPosted\\n10 hours ago10h\\n\\n\\n\\n\\n\\nMan's pop-up urinal death may never be explained, family fears\\n\\n\\nAttribution\\nEngland\\n\\n\\nPosted\\n15 hours ago15h\\n\\n\\n\\n\\n\\nAccrington Stanley 0-0 AFC Wimbledon\\n\\n\\nAttribution\\nLeague Two\\n\\n\\nPosted\\n1 day ago1d\\n\\n\\nComments\\n17\\n\\n\\n\\n\\n\\nStolen phones seized after helicopter chase\\n\\n\\nAttribution\\nLondon\\n\\n\\nPosted\\n1 day ago1d\\n\\n\\n\\n\\n\\nCouple help NHS mark 75 years of cataract surgery\\n\\n\\nAttribution\\nLondon\\n\\n\\nPosted\\n1 day ago1d\\n\\n\\n\\n\\n\\nHospital shuts three wards due to norovirus outbreak\\n\\n\\nAttribution\\nLondon\\n\\n\\nPosted\\n1 day ago1d\\n\\n\\n\\n\\n\\nCroydon Council asks for £136m government bailout\\n\\n\\nAttribution\\nLondon\\n\\n\\nPosted\\n1 day ago1d\\n\\n\\n\\n\\n\\nBoy, 16, found guilty of killing former friend\\n\\n\\nAttribution\\nLondon\\n\\n\\nPosted\\n1 day ago1d\\n\\n\\n\\n\\n\\nWoman woke to find PhD student raping her - court\\n\\n\\nAttribution\\nLondon\\n\\n\\nPosted\\n2 days ago2d\\n\\n\\n\\n\\n\\nKerr 'stupid and white' remark was hostile - court\\n\\n\\nAttribution\\nLondon\\n\\n\\nPosted\\n2 days ago2d\\n\\n\\n\\n\\n\\nMet PC jailed for assaulting man in hospital bed\\n\\n\\nAttribution\\nLondon\\n\\n\\nPosted\\n2 days ago2d\\n\\n\\n\\n\\n\\nBanksy's goat artwork removed from London building\\n\\n\\nAttribution\\nLondon\\n\\n\\nPosted\\n2 days ago2d\\n\\n\\n\\n\\n\\nCommunity divided over fate of Grenfell Tower\\n\\n\\nAttribution\\nLondon\\n\\n\\nPosted\\n2 days ago2d\\n\\n\\n\\n\\n\\nMan jumped to his death in police station - inquest\\n\\n\\nAttribution\\nLondon\\n\\n\\nPosted\\n2 days ago2d\\n\\n\\n\\n\\n\\nCutty Sark station to close for new escalators\\n\\n\\nAttribution\\nLondon\\n\\n\\nPosted\\n2 days ago2d\\n\\n\\n\\n\\n\\nCentral London YMCA closes after failed injunction\\n\\n\\nAttribution\\nLondon\\n\\n\\nPosted\\n2 days ago2d\\n\\n\\n\\n\\n\\nSon saves dad twice giving bone marrow then a kidney\\n\\n\\nAttribution\\nLondon\\n\\n\\nPosted\\n2 days ago2d\\n\\n\\n\\n\\n\\nKerr denies 'whiteness as insult' against police\\n\\n\\nAttribution\\nLondon\\n\\n\\nPosted\\n2 days ago2d\\n\\n\\n\\n\\n\\n'Gamechanger' for dance in London as theatre opens\\n\\n\\nAttribution\\nLondon\\n\\n\\nPosted\\n2 days ago2d\\n\\n\\n\\n\\n\\nMet Police blitz to fight phone-snatching 'scourge'\\n\\n\\nAttribution\\nLondon\\n\\n\\nPosted\\n2 days ago2d\\n\\n\\n\\n\\n\\nMan denies being getaway driver in £1m watch raid\\n\\n\\nAttribution\\nLondon\\n\\n\\nPosted\\n3 days ago3d\\n\\n\\n\\n\\n\\nDismantling Grenfell Tower unforgivable, say families\\n\\n\\nAttribution\\nLondon\\n\\n\\nPosted\\n3 days ago3d\\n\\n\\n\\n\\n\\nprevious page\\nPage 1 of 42\\n\\n\\n1\\n\\n\\n2\\n\\n\\n3\\n\\n\\n4\\n\\n\\n5\\n\\n\\n6\\n\\n\\n…\\n\\n\\n42\\n\\n\\nnext page\\n\\nHome\\nNews\\nSport\\nEarth\\nReel\\nWorklife\\nTravel\\nCulture\\nFuture\\nMusic\\nTV\\nWeather\\n\\nSounds\\n\\n\\nTerms of Use\\n\\nAbout the BBC\\nPrivacy Policy\\nCookies\\nAccessibility Help\\nParental Guidance\\nContact the BBC\\nBBC emails for you\\nAdvertise with us\\n\\nCopyright © 2025 BBC. The BBC is not responsible for the content of external sites. Read about our approach to external linking.\"},\n",
       " {'title': 'Wimbledon - latest news, breaking stories and comment - The Independent',\n",
       "  'url': 'https://www.independent.co.uk/topic/wimbledon',\n",
       "  'content': \"Independent Australian Open champion Jannik Sinner's style draws comparisons to Novak Djokovic Patten wins second grand slam doubles title after Australian Open epic Australian Open: Madison Keys can win her first Slam title and stop Aryna Sabalenka's threepeat Novak Djokovic hits back to beat Carlos Alcaraz in Australian Open thriller Australian Open 2025: Carlos Alcaraz and Jannik Sinner have a real rivalry atop men's tennis Australian Open 2025: Carlos Alcaraz and Jannik Sinner have a real rivalry atop men's tennis Australian Open 2025: Cases involving Jannik Sinner and Iga Swiatek make doping a top topic Australian Open 2025: There really isn't much time off in the offseason for tennis players Jd Sports Discount Code\",\n",
       "  'score': 0.3538082,\n",
       "  'raw_content': \"Wimbledon - latest news, breaking stories and comment - The Independent\\nJump to content\\nUS EditionChange\\nUK EditionAsia EditionEdición en Español\\nSign up to our newslettersSupport Now\\nLog in / Register\\nIndependent\\nSupport Now\\nMenu\\n\\nNews\\nNews\\nUS\\nUK\\nEurope\\nWorld\\nUS Politics\\nUK Politics\\nHealth\\nBusiness\\nMoney\\nScience\\nSpace\\nNews Videos\\n\\n\\nSports\\nSports\\nUS Sports\\nSoccer\\nFormula 1\\nUFC\\nRugby Union\\nCricket\\nTennis\\nBoxing\\nCycling\\nGolf\\nSports Videos\\n\\n\\nVoices\\nVoices\\nEditorials\\nLetters\\n\\n\\nCulture\\nCulture\\nMovies\\nTV & Radio\\nMusic\\nGames\\nBooks\\nArt\\nPhotography\\nTheatre & Dance\\nCulture Videos\\n\\n\\nLifestyle\\nLifestyle\\nTech\\nFood & Drink\\nFashion\\nLove & Sex\\nWomen\\nHealth & Families\\nRoyal Family\\nMotoring\\nElectric Vehicles\\nLifestyle Videos\\n\\n\\nTravel\\nTravel\\nNews & Advice\\nSimon Calder\\nUSA\\nUK\\nEurope\\nAsia\\nInspiration\\nCity Guides\\nSustainable Travel\\n\\n\\nPremium\\nPremium\\nEditorials\\nVoices\\nLong Reads\\nPolitics Explained\\nNews Analysis\\n\\n\\n\\nMore\\nBest\\n\\nHome & Garden\\nTech\\nFashion & Beauty\\nFood & Drink\\nKids\\nBooks\\nTravel & Outdoors\\nSports & Fitness\\nDeals\\n\\nClimate\\n\\nNews\\nClimate 100\\nVoices\\nSustainable Living\\nExplained\\nClimate Videos\\nElectric vehicles\\nSGI\\n\\nTV\\n\\nBehind The Headlines\\nOn The Ground\\nDecomplicated\\nYou Ask The Questions\\nBinge Watch\\nMusic Box\\nLove Lives\\nTravel Smart\\n\\nWatch on your TV\\n\\n\\nIndy100\\n\\nCrosswords & Puzzles\\nMost Commented\\nNewsletters\\nAsk Me Anything\\nVirtual Events\\nVouchers\\n\\n\\nThank you for registering\\nPlease refresh the page or navigate to another page on the site to be automatically logged inPlease refresh your browser to be logged in\\nWimbledon\\n\\nTennis\\nHalep hit incredible highs but leaves tennis with a complicated legacy\\n\\nTennis\\nSimona Halep announces retirement after losing at Transylvania Open\\n\\nTennis\\nRaducanu pays for errors as losing streak continues in Abu Dhabi\\n\\nTennis\\nTim Henman gives Wimbledon update after US Open announces Sunday start\\n\\nNews\\nThe US Open tennis tournament is adding a 15th day by moving to a Sunday start in 2025\\n\\nCrime\\nPolice rearrest driver over crash that killed two girls at school\\n\\nTennis\\nMadison finds the Keys and coach Murray impresses – what we learned in Melbourne\\n\\nNews\\nAustralian Open champion Jannik Sinner's style draws comparisons to Novak Djokovic\\n\\nTennis\\nAndy Murray eyes coaching improvement after Novak Djokovic grand slam stint\\n\\nTennis\\nPatten wins second grand slam doubles title after Australian Open epic\\n\\nNews\\nNovak Djokovic vows to strive for more Grand Slam titles at age 37 after his latest injury\\n\\nNews\\nAustralian Open: Madison Keys can win her first Slam title and stop Aryna Sabalenka's threepeat\\n\\nNews\\nTennis Australia warns against competing in Russia after Kokkinakis reportedly played there\\n\\nNews\\nAustralian Open: Did the Happy Slam become the Angry Slam? Or is tennis just changing?\\n\\nTennis\\nHenry Patten hoping ‘stressful’ Wimbledon victory will help Melbourne title bid\\n\\nTennis\\nNo Thursday practice for Novak Djokovic as he manages thigh injury\\n\\nTennis\\nNovak Djokovic hits back to beat Carlos Alcaraz in Australian Open thriller\\n\\nTennis\\nAryna Sabalenka sets up Australian Open semi-final with good friend Paula Badosa\\n\\nTennis\\nCoach Murray’s influence and TV rows – Alcaraz v Djokovic talking points\\n\\nTennis\\nJacob Fearnley to learn from ‘best in world’ after Alexander Zverev defeat\\n\\nTennis\\nEmma Raducanu looking to defy history in Iga Swiatek clash\\n\\nTennis\\nRaducanu reveals relationship with Murray after fearing ‘bad blood’\\n\\nTennis\\nJack Draper wishes ‘archrival’ Jacob Fearnley well as Britons shine in Melbourne\\n\\nTennis\\nJodie Burrage puts up fight but exits Australian Open to third seed Coco Gauff\\n\\nTennis\\nEmma Raducanu facing friend as they plot their routes back to the top\\n\\nTennis\\nJack Draper expects hostile Australian Open crowd against Thanasi Kokkinakis\\n\\nTennis\\nJannik Sinner has no issues at Australian Open as Stefanos Tsitsipas crashes out\\n\\nTennis\\nEmma Raducanu facing friend as they plot their routes back to the top\\n\\nTennis\\nJack Draper expects hostile Australian Open crowd against Thanasi Kokkinakis\\n\\nTennis\\nJannik Sinner has no issues at Australian Open as Stefanos Tsitsipas crashes out\\n\\nTennis\\nCoco Gauff and Iga Swiatek dedicate Australian Open wins to Los Angeles\\n\\nTennis\\nZheng Qinwen battles to second round as storms lash Melbourne Park\\n\\nTennis\\nJacob Fearnley deletes Instagram to focus on Nick Kyrgios challenge\\n\\nTennis\\nJodie Burrage says she considered retirement during injury battle\\n\\nTennis\\nElena Rybakina defends suspended coach Stefano Vukov\\n\\nNews\\nAustralian Open 2025: Carlos Alcaraz and Jannik Sinner have a real rivalry atop men's tennis\\n\\nTennis\\nJodie Burrage says she considered retirement during injury battle\\n\\nTennis\\nElena Rybakina defends suspended coach Stefano Vukov\\n\\nNews\\nAustralian Open 2025: Carlos Alcaraz and Jannik Sinner have a real rivalry atop men's tennis\\n\\nTennis\\nDefending champions top list of Australian Open contenders\\n\\nNews\\nAustralian Open 2025: Cases involving Jannik Sinner and Iga Swiatek make doping a top topic\\n\\nNews\\nAustralian Open 2025: There really isn't much time off in the offseason for tennis players\\n\\nTennis\\nFran Jones and Billy Harris reach second round of Australian Open qualifying\\n\\nTennis\\nRybakina defends former coach after ban: ‘He never mistreated me’\\n\\nNews\\nWimbledon finalist Gabriela Dabrowski reveals she played through 2024 after breast cancer diagnosis\\n\\nTennis\\nWimbledon finalist reveals cancer surgery after ‘surreal’ year\\n\\nOlympics\\nFans and feelgood factor return as Paris puts on spectacular summer of sport\\n\\nTennis\\nKyrgios celebrates return from injury with Djokovic doubles victory\\n\\nTennis\\nNick Kyrgios says positive tests for duo are ‘disgusting’ and ‘a horrible look’\\n\\nTennis\\nTennis hit by another anti-doping breach as doubles champion suspended\\n\\nNews\\nAP photos capture British royal family's year of illness and recovery\\n\\nTennis\\nTransgender women to be banned from playing in most domestic female competitions\\n\\nOlympics\\nFans and feelgood factor return as Paris puts on spectacular summer of sport\\n\\nOlympics\\n5 of the best and worst sporting moments of 2024\\n\\nTennis\\nWimbledon going to court to seek resolution over controversial expansion plans\\n\\nTennis\\nAustralian great and long-time Davis Cup captain Neale Fraser dies aged 91\\n\\nBusiness\\nGrand Prix and Wimbledon drive Travelodge bookings but cost pressures linger\\n\\nNews\\nMatteo Berrettini gives Italy a 1-0 lead over the Netherlands in the Davis Cup final\\n\\nTennis\\nAndy Murray and Novak Djokovic’s magnificent seven grand slam finals\\n\\nTennis\\nAndy Murray’s highs and lows as he returns to coach Novak Djokovic\\n\\nNews\\nThe man who ended Nadal's career helps the Netherlands take a Davis Cup lead against Germany\\n\\nNews\\nJasmine Paolini and Italy beat Slovakia to win the Billie Jean King Cup\\n\\nNews\\nFrom Novak Djokovic to Iga Swiatek, players reflect on Rafael Nadal's career and retirement\\n\\nTennis\\nRafael Nadal ends an era in which he unleashed one of sport’s greatest weapons\\n\\nNews\\nShaun White's new halfpipe league to air on NBC\\n\\nNews\\nRoger Federer tells friend and rival Rafael Nadal that he made him enjoy tennis more\\n\\nNews\\nRafael Nadal will retire after the Davis Cup with plenty of records and big numbers by his name\\n\\nNews\\nA look at Rafael Nadal's 22 Grand Slam titles as he prepares to retire after the Davis Cup\\n\\nTennis\\nEmma Raducanu makes winning return to action as GB chase BJK Cup quarter-final\\n\\nNews\\nRafael Nadal's farewell at the Davis Cup: When he'll play, how to watch on TV and more to know\\n\\nTennis\\nTennis Channel axes US journalist after comment about Krejcikova\\n\\nHealth & Families\\nBritish No1 tennis star Katie Boulter: ‘I’m coming out of my shell’\\n\\nNews\\nUS Open finalist Taylor Fritz talks League of Legends, why he hated tennis and how he copied Sampras\\n\\nNews\\nTennis Channel takes Jon Wertheim off the air for comment about Wimbledon champ Barbora Krejcikova\\n\\nTennis\\nZheng Qinwen powers into final on debut at WTA Finals\\n\\nTennis\\nAryna Sabalenka has no issues playing in Saudi Arabia but Coco Gauff ‘concerned’\\nVouchers\\n\\nSweaty Betty Discount Code\\n20% off full-price items with newsletter sign-ups at Sweaty Betty\\n\\neBay Discount Code\\nGet 10% off Valentine's Day gifts using this eBay discount code\\n\\nNike Discount Code\\nUp to 40% off + free standard delivery for Nike members\\n\\nFootasylum Discount Code\\n10% off for new customers - Footasylum promo code\\n\\nNew Balance Discount Code\\nUp to 50% off selected styles in the New Balance Outlet\\n\\nGO Outdoors Discount Codes\\n10% off price beat for GO Outdoors Members\\n\\nJd Sports Discount Code\\n10% off all orders with newsletter signups at JD Sports\\n\\n\\nGet in touch\\n\\n\\nContact us\\n\\n\\n\\n\\nOur Products\\nRegister\\nNewsletters\\nDonate\\nToday’s Edition\\nInstall our app\\nArchive\\nOther publications\\nInternational editions\\nIndependent en Español\\nIndependent Arabia\\nIndependent Turkish\\nIndependent Persian\\nIndependent Urdu\\nThe Standard\\nExtras\\nPuzzles\\nAll topics\\nBetting Offers\\nVoucher codes\\nCompetitions and offers\\nIndependent Advertising\\nIndependent Ignite\\nSyndication\\nWorking at The Independent\\nLegal\\nCode of conduct and complaints\\nContributors\\nCookie policy\\nDonations Terms & Conditions\\nPrivacy policy\\n\\nUser policies\\nModern Slavery Statement\\n\\n\\n\\nThank you for registering\\nPlease refresh the page or navigate to another page on the site to be automatically logged inPlease refresh your browser to be logged in\"}]"
      ]
     },
     "execution_count": 6,
     "metadata": {},
     "output_type": "execute_result"
    }
   ],
   "source": [
    "# Basic query\n",
    "tool.invoke({\"query\": \"What happened at the last wimbledon\"})\n",
    "# Query with time range and domain filtering\n",
    "# tool.invoke({\n",
    "#     \"query\": \"latest tennis news\",\n",
    "#     \"time_range\": \"day\",\n",
    "#     \"include_domains\": [\"espn.com\", \"tennis.com\"]\n",
    "# })"
   ]
  },
  {
   "cell_type": "markdown",
   "id": "d6e73897",
   "metadata": {},
   "source": [
    "### [Invoke with ToolCall](/docs/concepts/tools)\n",
    "\n",
    "We can also invoke the tool with a model-generated ToolCall, in which case a ToolMessage will be returned:"
   ]
  },
  {
   "cell_type": "code",
   "execution_count": 8,
   "id": "f90e33a7",
   "metadata": {},
   "outputs": [
    {
     "name": "stdout",
     "output_type": "stream",
     "text": [
      "[{\"title\": \"UEFA Euro 2028 - Wikipedia\", \"url\": \"https://en.wikipedia.org/wiki/UEFA_Euro_2028\", \"content\": \"The 2028 UEFA European Football Championship, commonly referred to as UEFA Euro 2028 or simply Euro 2028, will be the 18th UEFA European Championship, the quadrennial international football championship. It will be co-hosted by England, the Republic of Ireland, Scotland, and Wales, [1] and i\n"
     ]
    }
   ],
   "source": [
    "# This is usually generated by a model, but we'll create a tool call directly for demo purposes.\n",
    "model_generated_tool_call = {\n",
    "    \"args\": {\"query\": \"euro 2028 host nation\"},\n",
    "    \"id\": \"1\",\n",
    "    \"name\": \"tavily\",\n",
    "    \"type\": \"tool_call\",\n",
    "}\n",
    "tool_msg = tool.invoke(model_generated_tool_call)\n",
    "\n",
    "# The content is a JSON string of results\n",
    "print(tool_msg.content[:400])"
   ]
  },
  {
   "cell_type": "code",
   "execution_count": 9,
   "id": "31a54a2b",
   "metadata": {},
   "outputs": [
    {
     "data": {
      "text/plain": [
       "{'query': str,\n",
       " 'follow_up_questions': NoneType,\n",
       " 'answer': NoneType,\n",
       " 'images': list,\n",
       " 'results': list,\n",
       " 'response_time': float}"
      ]
     },
     "execution_count": 9,
     "metadata": {},
     "output_type": "execute_result"
    }
   ],
   "source": [
    "# The artifact is a dict with richer, raw results\n",
    "{k: type(v) for k, v in tool_msg.artifact.items()}"
   ]
  },
  {
   "cell_type": "markdown",
   "id": "659f9fbd-6fcf-445f-aa8c-72d8e60154bd",
   "metadata": {},
   "source": [
    "## Chaining\n",
    "\n",
    "We can use our tool in a chain by first binding it to a [tool-calling model](/docs/how_to/tool_calling/) and then calling it:\n",
    "\n",
    "import ChatModelTabs from \"@theme/ChatModelTabs\";\n",
    "\n",
    "<ChatModelTabs customVarName=\"llm\" />\n"
   ]
  },
  {
   "cell_type": "code",
   "execution_count": 17,
   "id": "af3123ad-7a02-40e5-b58e-7d56e23e5830",
   "metadata": {},
   "outputs": [],
   "source": [
    "# | output: false\n",
    "# | echo: false\n",
    "\n",
    "# !pip install -qU langchain langchain-openai\n",
    "from langchain.chat_models import init_chat_model\n",
    "\n",
    "llm = init_chat_model(model=\"gpt-4o\", model_provider=\"openai\", temperature=0)"
   ]
  },
  {
   "cell_type": "code",
   "execution_count": 18,
   "id": "fdbf35b5-3aaf-4947-9ec6-48c21533fb95",
   "metadata": {},
   "outputs": [
    {
     "data": {
      "text/plain": [
       "AIMessage(content=\"The Philadelphia Eagles won the Super Bowl in 2025, defeating the Kansas City Chiefs with a score of 40-22. The game took place at Caesars Superdome in New Orleans. Jalen Hurts, the Eagles' quarterback, was named the MVP of the game. This victory marked the Eagles' second Super Bowl win.\", additional_kwargs={'refusal': None}, response_metadata={'token_usage': {'completion_tokens': 70, 'prompt_tokens': 5789, 'total_tokens': 5859, 'completion_tokens_details': {'accepted_prediction_tokens': 0, 'audio_tokens': 0, 'reasoning_tokens': 0, 'rejected_prediction_tokens': 0}, 'prompt_tokens_details': {'audio_tokens': 0, 'cached_tokens': 0}}, 'model_name': 'gpt-4o-2024-08-06', 'system_fingerprint': 'fp_eb9dce56a8', 'finish_reason': 'stop', 'logprobs': None}, id='run-61757a23-da71-4b1b-9d51-9f2678ef53d0-0', usage_metadata={'input_tokens': 5789, 'output_tokens': 70, 'total_tokens': 5859, 'input_token_details': {'audio': 0, 'cache_read': 0}, 'output_token_details': {'audio': 0, 'reasoning': 0}})"
      ]
     },
     "execution_count": 18,
     "metadata": {},
     "output_type": "execute_result"
    }
   ],
   "source": [
    "import datetime\n",
    "\n",
    "from langchain_core.prompts import ChatPromptTemplate\n",
    "from langchain_core.runnables import RunnableConfig, chain\n",
    "\n",
    "today = datetime.datetime.today().strftime(\"%D\")\n",
    "prompt = ChatPromptTemplate(\n",
    "    [\n",
    "        (\"system\", f\"You are a helpful assistant. The date today is {today}.\"),\n",
    "        (\"human\", \"{user_input}\"),\n",
    "        (\"placeholder\", \"{messages}\"),\n",
    "    ]\n",
    ")\n",
    "\n",
    "# specifying tool_choice will force the model to call this tool.\n",
    "llm_with_tools = llm.bind_tools([tool])\n",
    "\n",
    "llm_chain = prompt | llm_with_tools\n",
    "\n",
    "\n",
    "@chain\n",
    "def tool_chain(user_input: str, config: RunnableConfig):\n",
    "    input_ = {\"user_input\": user_input}\n",
    "    ai_msg = llm_chain.invoke(input_, config=config)\n",
    "    tool_msgs = tool.batch(ai_msg.tool_calls, config=config)\n",
    "    return llm_chain.invoke({**input_, \"messages\": [ai_msg, *tool_msgs]}, config=config)\n",
    "\n",
    "\n",
    "tool_chain.invoke(\"who won the super bowl this year\")"
   ]
  },
  {
   "cell_type": "markdown",
   "id": "fb115693-e89e-40f2-a460-0d0d39a17963",
   "metadata": {},
   "source": [
    "Here's the [LangSmith trace](https://smith.langchain.com/public/b43232c1-b243-4a7f-afeb-5fba8c84ba56/r) for this run."
   ]
  },
  {
   "cell_type": "markdown",
   "id": "4ac8146c",
   "metadata": {},
   "source": [
    "## API reference\n",
    "\n",
    "For detailed documentation of all TavilySearchResults features and configurations head to the API reference: https://python.langchain.com/api_reference/community/tools/langchain_community.tools.tavily_search.tool.TavilySearchResults.html"
   ]
  }
 ],
 "metadata": {
  "kernelspec": {
   "display_name": "venv",
   "language": "python",
   "name": "python3"
  },
  "language_info": {
   "codemirror_mode": {
    "name": "ipython",
    "version": 3
   },
   "file_extension": ".py",
   "mimetype": "text/x-python",
   "name": "python",
   "nbconvert_exporter": "python",
   "pygments_lexer": "ipython3",
   "version": "3.11.0"
  }
 },
 "nbformat": 4,
 "nbformat_minor": 5
}
