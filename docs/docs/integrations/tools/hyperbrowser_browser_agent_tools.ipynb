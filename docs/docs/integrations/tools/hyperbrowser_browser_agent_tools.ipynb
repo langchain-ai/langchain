{
 "cells": [
  {
   "cell_type": "markdown",
   "metadata": {},
   "source": [
    "---\n",
    "sidebar_label: Hyperbrowser Browser Agent Tools\n",
    "---\n"
   ]
  },
  {
   "cell_type": "markdown",
   "metadata": {},
   "source": [
    "# Hyperbrowser Browser Agent Tools\n",
    "\n",
    "[Hyperbrowser](https://hyperbrowser.ai) is a platform for running, running browser agents, and scaling headless browsers. It lets you launch and manage browser sessions at scale and provides easy to use solutions for any webscraping needs, such as scraping a single page or crawling an entire site.\n",
    "\n",
    "Key Features:\n",
    "- Instant Scalability - Spin up hundreds of browser sessions in seconds without infrastructure headaches\n",
    "- Simple Integration - Works seamlessly with popular tools like Puppeteer and Playwright\n",
    "- Powerful APIs - Easy to use APIs for scraping/crawling any site, and much more\n",
    "- Bypass Anti-Bot Measures - Built-in stealth mode, ad blocking, automatic CAPTCHA solving, and rotating proxies\n",
    "\n",
    "This notebook provides a quick overview for getting started with Hyperbrowser tools.\n",
    "\n",
    "For more information about Hyperbrowser, please visit the [Hyperbrowser website](https://hyperbrowser.ai) or if you want to check out the docs, you can visit the [Hyperbrowser docs](https://docs.hyperbrowser.ai).\n",
    "\n",
    "\n",
    "## Browser Agents\n",
    "\n",
    "Hyperbrowser provides powerful browser agent tools that enable AI models to interact with web browsers programmatically. These browser agents can navigate websites, fill forms, click buttons, extract data, and perform complex web automation tasks.\n",
    "\n",
    "Browser agents are particularly useful for:\n",
    "- Web scraping and data extraction from complex websites\n",
    "- Automating repetitive web tasks\n",
    "- Interacting with web applications that require authentication\n",
    "- Performing research across multiple websites\n",
    "- Testing web applications\n",
    "\n",
    "Hyperbrowser offers three types of browser agent tools:\n",
    "- **Browser Use Tool**: A general-purpose browser automation tool\n",
    "- **OpenAI CUA Tool**: Integration with OpenAI's Computer Use Agent\n",
    "- **Claude Computer Use Tool**: Integration with Anthropic's Claude for computer use\n",
    "\n",
    "\n",
    "## Overview\n",
    "\n",
    "### Integration details\n",
    "\n",
    "| Tool                      | Package                | Local | Serializable | JS support |\n",
    "| :-----------------------  | :--------------------- | :---: | :----------: | :--------: |\n",
    "| Browser Use Tool          | langchain-hyperbrowser |  ❌   |      ❌      |      ❌    |\n",
    "| OpenAI CUA Tool           | langchain-hyperbrowser |  ❌   |      ❌      |      ❌    |\n",
    "| Claude Computer Use Tool  | langchain-hyperbrowser |  ❌   |      ❌      |     ❌     |\n"
   ]
  },
  {
   "cell_type": "markdown",
   "metadata": {},
   "source": [
    "## Setup\n",
    "\n",
    "To access the Hyperbrowser tools you'll need to install the `langchain-hyperbrowser` integration package, and create a Hyperbrowser account and get an API key.\n",
    "\n",
    "### Credentials\n",
    "\n",
    "Head to [Hyperbrowser](https://app.hyperbrowser.ai/) to sign up and generate an API key. Once you've done this set the HYPERBROWSER_API_KEY environment variable:\n",
    "\n",
    "```bash\n",
    "export HYPERBROWSER_API_KEY=<your-api-key>\n",
    "```\n",
    "\n",
    "### Installation\n",
    "\n",
    "Install **langchain-hyperbrowser**.\n"
   ]
  },
  {
   "cell_type": "code",
   "execution_count": null,
   "metadata": {},
   "outputs": [],
   "source": [
    "%pip install -qU langchain-hyperbrowser"
   ]
  },
  {
   "cell_type": "markdown",
   "metadata": {},
   "source": [
    "## Instantiation\n",
    "\n",
    "### Browser Use Tool\n",
    "\n",
    "The `HyperbrowserBrowserUseTool` is a tool to perform web automation tasks using a browser agent, specifically the Browser-Use agent.\n",
    "\n",
    "```python\n",
    "from langchain_hyperbrowser import HyperbrowserBrowserUseTool\n",
    "tool = HyperbrowserBrowserUseTool()\n",
    "```\n",
    "\n",
    "### OpenAI CUA Tool\n",
    "\n",
    "The `HyperbrowserOpenAICUATool` is a specialized tool that leverages OpenAI's Computer Use Agent (CUA) capabilities through Hyperbrowser.\n",
    "\n",
    "```python\n",
    "from langchain_hyperbrowser import HyperbrowserOpenAICUATool\n",
    "tool = HyperbrowserOpenAICUATool()\n",
    "```\n",
    "\n",
    "### Claude Computer Use Tool\n",
    "\n",
    "The `HyperbrowserClaudeComputerUseTool` is a specialized tool that leverages Claude's computer use capabilities through Hyperbrowser.\n",
    "\n",
    "```python\n",
    "from langchain_hyperbrowser import HyperbrowserClaudeComputerUseTool\n",
    "tool = HyperbrowserClaudeComputerUseTool()\n",
    "```\n"
   ]
  },
  {
   "cell_type": "markdown",
   "metadata": {},
   "source": [
    "## Invocation\n",
    "\n",
    "### Basic Usage\n",
    "\n",
    "#### Browser Use Tool\n"
   ]
  },
  {
   "cell_type": "code",
   "execution_count": null,
   "metadata": {},
   "outputs": [
    {
     "name": "stdout",
     "output_type": "stream",
     "text": [
      "{'data': 'The top 5 posts on Hacker News right now are:\\n1. Stop Syncing Everything - https://sqlsync.dev/posts/stop-syncing-everything/\\n2. Move fast, break things: A review of Abundance by Ezra Klein and Derek Thompson - https://networked.substack.com/p/move-fast-and-break-things\\n3. DEDA – Tracking Dots Extraction, Decoding and Anonymisation Toolkit - https://github.com/dfd-tud/deda\\n4. Electron band structure in germanium, my ass (2001) - https://pages.cs.wisc.edu/~kovar/hall.html\\n5. Show HN: I vibecoded a 35k LoC recipe app - https://www.recipeninja.ai', 'error': None}\n"
     ]
    }
   ],
   "source": [
    "from langchain_hyperbrowser import HyperbrowserBrowserUseTool\n",
    "\n",
    "tool = HyperbrowserBrowserUseTool()\n",
    "result = tool.run({\"task\": \"Go to Hacker News and summarize the top 5 posts right now\"})\n",
    "print(result)"
   ]
  },
  {
   "cell_type": "markdown",
   "metadata": {},
   "source": [
    "#### OpenAI CUA Tool\n"
   ]
  },
  {
   "cell_type": "code",
   "execution_count": null,
   "metadata": {},
   "outputs": [
    {
     "name": "stdout",
     "output_type": "stream",
     "text": [
      "{'data': 'Here are the titles of the top 5 posts on Hacker News right now:\\n\\n1. \"DEDA – Tracking Dots Extraction, Decoding and Anonymisation Toolkit\"\\n2. \"A man powers home for eight years using a thousand old laptop batteries\"\\n3. \"Electron band structure in Germanium, my ass\"\\n4. \"Bletchley code breaker Betty Webb dies aged 101\"\\n5. \"Show HN: Zig Topological Sort Library for Parallel Processing\"', 'error': None}\n"
     ]
    }
   ],
   "source": [
    "from langchain_hyperbrowser import HyperbrowserOpenAICUATool\n",
    "\n",
    "tool = HyperbrowserOpenAICUATool()\n",
    "result = tool.run(\n",
    "    {\"task\": \"Go to Hacker News and get me the title of the top 5 posts right now\"}\n",
    ")\n",
    "print(result)"
   ]
  },
  {
   "cell_type": "markdown",
   "metadata": {},
   "source": [
    "#### Claude Computer Use Tool\n"
   ]
  },
  {
   "cell_type": "code",
   "execution_count": null,
   "metadata": {},
   "outputs": [
    {
     "name": "stdout",
     "output_type": "stream",
     "text": [
      "{'data': \"Now I'll summarize the top 5 posts on Hacker News as of April 1, 2025:\\n\\n### Top 5 Hacker News Posts Summary\\n\\n1. **A man powers home for eight years using a thousand old laptop batteries** (techoreon.com)\\n   - 267 points, posted 5 hours ago\\n   - An innovative DIY project where someone managed to power their home using recycled laptop batteries for an extended period.\\n\\n2. **Electron band structure in germanium, my ass** (wisc.edu)\\n   - 611 points, posted 8 hours ago\\n   - Academic or technical discussion about electron band structure in germanium, possibly with a controversial or humorous take given the title.\\n\\n3. **Bletchley code breaker Betty Webb dies aged 101** (bbc.com)\\n   - 575 points, posted 8 hours ago\\n   - Obituary for Betty Webb, who worked as a code breaker at Bletchley Park during WWII, passing away at the age of 101.\\n\\n4. **Show HN: Zig Topological Sort Library for Parallel Processing** (github.com/williamw520)\\n   - 55 points, posted 3 hours ago\\n   - A developer sharing a library written in Zig programming language for topological sorting that supports parallel processing.\\n\\n5. **The Myst Graph: A New Perspective on Myst** (githr.com)\\n   - 107 points, posted 5 hours ago\\n   - An article presenting a new analysis or visualization of the classic video game Myst, likely using graph theory.\\n\\nThese are the top 5 posts currently trending on Hacker News as of April 1, 2025.\", 'error': None}\n"
     ]
    }
   ],
   "source": [
    "from langchain_hyperbrowser import HyperbrowserClaudeComputerUseTool\n",
    "\n",
    "tool = HyperbrowserClaudeComputerUseTool()\n",
    "result = tool.run({\"task\": \"Go to Hacker News and summarize the top 5 posts right now\"})\n",
    "print(result)"
   ]
  },
  {
   "cell_type": "markdown",
   "metadata": {},
   "source": [
    "### With Custom Session Options\n",
    "\n",
    "All tools support custom session options:\n"
   ]
  },
  {
   "cell_type": "code",
   "execution_count": null,
   "metadata": {},
   "outputs": [
    {
     "name": "stdout",
     "output_type": "stream",
     "text": [
      "{'data': 'I have found that the react package was last published 11 hours ago. This is the most recently updated package I could find.', 'error': None}\n"
     ]
    }
   ],
   "source": [
    "result = tool.run(\n",
    "    {\n",
    "        \"task\": \"Go to npmjs.com, and tell me when react package was last updated.\",\n",
    "        \"session_options\": {\n",
    "            \"session_options\": {\"use_proxy\": True, \"accept_cookies\": True}\n",
    "        },\n",
    "    }\n",
    ")\n",
    "print(result)"
   ]
  },
  {
   "cell_type": "markdown",
   "metadata": {},
   "source": [
    "### Async Usage\n",
    "\n",
    "All tools support async usage:\n"
   ]
  },
  {
   "cell_type": "code",
   "execution_count": null,
   "metadata": {},
   "outputs": [
    {
     "name": "stdout",
     "output_type": "stream",
     "text": [
      "{'data': 'The page displays information about the \"Example Domain,\" stating that it is used for illustrative purposes and can be utilized without permission. There\\'s a link to \"More information...\" but no specific contact details are provided.', 'error': None}\n"
     ]
    }
   ],
   "source": [
    "async def browse_website():\n",
    "    tool = HyperbrowserBrowserUseTool()\n",
    "    result = await tool.arun(\n",
    "        {\n",
    "            \"task\": \"Go to npmjs.com, click the first visible package, and tell me when it was updated\"\n",
    "        }\n",
    "    )\n",
    "    return result\n",
    "\n",
    "\n",
    "result = await browse_website()"
   ]
  },
  {
   "cell_type": "markdown",
   "metadata": {},
   "source": [
    "## Use within an agent\n",
    "\n",
    "Here's how to use any of the Hyperbrowser tools within an agent:\n"
   ]
  },
  {
   "cell_type": "code",
   "execution_count": 4,
   "metadata": {},
   "outputs": [
    {
     "name": "stdout",
     "output_type": "stream",
     "text": [
      "================================\u001b[1m Human Message \u001b[0m=================================\n",
      "\n",
      "Go to npmjs.com, and tell me when react package was last updated.\n",
      "==================================\u001b[1m Ai Message \u001b[0m==================================\n",
      "Tool Calls:\n",
      "  hyperbrowser_browser_use (call_pkAaDjn6kKH9yT3rHDb4hmET)\n",
      " Call ID: call_pkAaDjn6kKH9yT3rHDb4hmET\n",
      "  Args:\n",
      "    task: Go to npmjs.com and find the last updated date of the React package.\n",
      "    session_options: None\n",
      "=================================\u001b[1m Tool Message \u001b[0m=================================\n",
      "Name: hyperbrowser_browser_use\n",
      "\n",
      "{\"data\": \"The last updated date of the React package is a day ago.\", \"error\": null}\n",
      "==================================\u001b[1m Ai Message \u001b[0m==================================\n",
      "\n",
      "The React package was last updated a day ago.\n"
     ]
    }
   ],
   "source": [
    "from langchain.prompts import ChatPromptTemplate, MessagesPlaceholder\n",
    "from langchain_hyperbrowser import browser_use_tool\n",
    "from langchain_openai import ChatOpenAI\n",
    "from langgraph.prebuilt import create_react_agent\n",
    "\n",
    "llm = ChatOpenAI(temperature=0)\n",
    "\n",
    "# You can use any of the three tools here\n",
    "browser_use_tool = HyperbrowserBrowserUseTool()\n",
    "agent = create_react_agent(llm, [browser_use_tool])\n",
    "\n",
    "user_input = \"Go to npmjs.com, and tell me when react package was last updated.\"\n",
    "for step in agent.stream(\n",
    "    {\"messages\": user_input},\n",
    "    stream_mode=\"values\",\n",
    "):\n",
    "    step[\"messages\"][-1].pretty_print()"
   ]
  },
  {
   "cell_type": "markdown",
   "metadata": {},
   "source": [
    "## Configuration Options\n",
    "\n",
    "Claude Computer Use, OpenAI CUA, and Browser Use have the following params available:\n",
    "\n",
    "- `task`: The task to execute using the agent\n",
    "- `max_steps`: The maximum number of interaction steps the agent can take to complete the task\n",
    "- `session_options`: Browser session configuration\n",
    "\n",
    "For more details, see the respective API references:\n",
    "- [Browser Use API Reference](https://docs.hyperbrowser.ai/reference/api-reference/agents/browser-use)\n",
    "- [OpenAI CUA API Reference](https://docs.hyperbrowser.ai/reference/api-reference/agents/openai-cua)\n",
    "- [Claude Computer Use API Reference](https://docs.hyperbrowser.ai/reference/api-reference/agents/claude-computer-use)\n"
   ]
  },
  {
   "cell_type": "markdown",
   "metadata": {},
   "source": [
    "## API reference\n",
    "\n",
    "- [GitHub](https://github.com/hyperbrowserai/langchain-hyperbrowser/)\n",
    "- [PyPi](https://pypi.org/project/langchain-hyperbrowser/)\n",
    "- [Hyperbrowser Docs](https://docs.hyperbrowser.ai/)\n"
   ]
  }
 ],
 "metadata": {
  "kernelspec": {
   "display_name": "langchain-hyperbrowser-AlekOQAq-py3.12",
   "language": "python",
   "name": "python3"
  },
  "language_info": {
   "codemirror_mode": {
    "name": "ipython",
    "version": 3
   },
   "file_extension": ".py",
   "mimetype": "text/x-python",
   "name": "python",
   "nbconvert_exporter": "python",
   "pygments_lexer": "ipython3",
   "version": "3.12.3"
  }
 },
 "nbformat": 4,
 "nbformat_minor": 4
}
