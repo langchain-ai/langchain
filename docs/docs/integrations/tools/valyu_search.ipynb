{
 "cells": [
  {
   "cell_type": "markdown",
   "metadata": {},
   "source": [
    "# ValyuContext\n",
    "\n",
    ">[Valyu](https://www.valyu.network/) allows AI applications and agents to search the internet and proprietary data sources for relevant LLM ready information.\n",
    "\n",
    "This notebook goes over how to use Valyu context tool in LangChain.\n",
    "\n",
    "First, get an Valyu API key and add it as an environment variable. Get $10 free credit  by [signing up here](https://platform.valyu.network/).\n",
    "\n",
    "## Overview\n",
    "\n",
    "### Integration details\n",
    "| Class                                                         | Package                                                        | Serializable | JS support |  Package latest |\n",
    "|:--------------------------------------------------------------|:---------------------------------------------------------------| :---: | :---: | :---: |\n",
    "| [ValyuSearchTool](https://github.com/valyu-network/langchain-valyu) | [langchain-valyu](https://pypi.org/project/langchain-valyu/) | ✅ | ❌  |  ![PyPI - Version](https://img.shields.io/pypi/v/langchain-valyu?style=flat-square&label=%20) |\n",
    "| [ValyuContentsTool](https://github.com/valyu-network/langchain-valyu) | [langchain-valyu](https://pypi.org/project/langchain-valyu/) | ✅ | ❌  |  ![PyPI - Version](https://img.shields.io/pypi/v/langchain-valyu?style=flat-square&label=%20) |\n",
    "\n",
    "\n",
    "\n",
    "\n",
    "## Setup\n",
    "\n",
    "The integration lives in the `langchain-valyu` package."
   ]
  },
  {
   "cell_type": "code",
   "execution_count": null,
   "metadata": {
    "vscode": {
     "languageId": "plaintext"
    }
   },
   "outputs": [],
   "source": [
    "%pip install -qU langchain-valyu"
   ]
  },
  {
   "cell_type": "markdown",
   "metadata": {},
   "source": [
    "In order to use the package, you will also need to set the `VALYU_API_KEY` environment variable to your Valyu API key."
   ]
  },
  {
   "cell_type": "code",
   "execution_count": null,
   "metadata": {},
   "outputs": [],
   "source": [
    "import getpass\n",
    "import os\n",
    "\n",
    "if not os.environ.get(\"VALYU_API_KEY\"):\n",
    "    os.environ[\"VALYU_API_KEY\"] = getpass.getpass(\"Valyu API key:\\n\")"
   ]
  },
  {
   "cell_type": "markdown",
   "metadata": {},
   "source": [
    "## Search Tool\n",
    "\n",
    "### Instantiation\n",
    "\n",
    "Here we show how to instantiate an instance of the Valyu search tool. This tool allows you to complete search queries using Valyu's Context API endpoint.\n"
   ]
  },
  {
   "cell_type": "code",
   "execution_count": null,
   "metadata": {},
   "outputs": [],
   "source": [
    "from langchain_valyu import ValyuSearchTool\n",
    "\n",
    "tool = ValyuSearchTool()"
   ]
  },
  {
   "cell_type": "markdown",
   "metadata": {},
   "source": [
    "### Invocation\n",
    "\n",
    "#### Invoke directly with args\n",
    "\n",
    "The Valyu search tool accepts the following arguments during invocation:\n",
    "- `query` (required): A natural language search query\n",
    "- `search_type` (optional): Type of search: \"all\", \"proprietary\", or \"web\". Defaults to \"all\"\n",
    "- `max_num_results` (optional): Maximum number of results to return (1-20). Defaults to 10\n",
    "- `relevance_threshold` (optional): Minimum relevance score required for results (0.0-1.0). Defaults to 0.5\n",
    "- `max_price` (optional): Maximum cost in dollars for this search. Defaults to 50.0\n",
    "- `is_tool_call` (optional): Set to True when called by AI agents/tools. Defaults to True\n",
    "- `start_date` (optional): Start date for time filtering in YYYY-MM-DD format\n",
    "- `end_date` (optional): End date for time filtering in YYYY-MM-DD format\n",
    "- `included_sources` (optional): List of URLs, domains, or datasets to include in search results\n",
    "- `excluded_sources` (optional): List of URLs, domains, or datasets to exclude from search results\n",
    "- `response_length` (optional): Content length per item: int for character count, or 'short' (25k), 'medium' (50k), 'large' (100k), 'max' (full content)\n",
    "- `country_code` (optional): 2-letter ISO country code (e.g., 'GB', 'US') to bias search results to a specific country\n",
    "- `fast_mode` (optional): Enable fast mode for faster but shorter results. Defaults to False\n",
    "\n",
    "See the [Valyu API documentation](https://docs.valyu.network/overview) for the full documentation.\n"
   ]
  },
  {
   "cell_type": "code",
   "execution_count": null,
   "metadata": {},
   "outputs": [],
   "source": [
    "search_results = tool._run(\n",
    "    query=\"What are agentic search-enhanced large reasoning models?\",\n",
    "    search_type=\"all\",\n",
    "    max_num_results=5,\n",
    "    relevance_threshold=0.4,\n",
    "    is_tool_call=True,\n",
    "    max_price=30.0,\n",
    ")\n",
    "\n",
    "print(\"Search Results:\", search_results)"
   ]
  },
  {
   "cell_type": "markdown",
   "metadata": {},
   "source": [
    "## Content Extraction Tool\n",
    "\n",
    "The package also includes a `ValyuContentsTool` for extracting clean, structured content from web pages.\n",
    "\n",
    "### Instantiation\n"
   ]
  },
  {
   "cell_type": "code",
   "execution_count": null,
   "metadata": {},
   "outputs": [],
   "source": [
    "from langchain_valyu import ValyuContentsTool\n",
    "\n",
    "contents_tool = ValyuContentsTool()"
   ]
  },
  {
   "cell_type": "markdown",
   "metadata": {},
   "source": [
    "### Invocation\n",
    "\n",
    "#### Invoke directly with args\n",
    "\n",
    "The Valyu contents tool accepts the following arguments during invocation:\n",
    "- `urls` (required): List of URLs to extract content from (maximum 10 URLs per request)\n",
    "\n",
    "The tool can also be configured with additional parameters during instantiation:\n",
    "- `summary` (optional): Enable content summarization. Can be `True`, `False`, a string instruction, or a dict with custom settings\n",
    "- `extract_effort` (optional): Extraction effort level: \"normal\", \"high\", or \"auto\". Defaults to \"normal\"\n",
    "- `response_length` (optional): Content length preference: int for character count, or \"short\" (25k), \"medium\" (50k), \"large\" (100k), \"max\" (full content). Defaults to \"short\"\n",
    "\n",
    "For reliability and performance reasons, certain parameters may be required or restricted. See the [Valyu API documentation](https://docs.valyu.network/overview) for details.\n"
   ]
  },
  {
   "cell_type": "code",
   "execution_count": null,
   "metadata": {},
   "outputs": [],
   "source": [
    "content_results = contents_tool._run(\n",
    "    urls=[\"https://www.example.com/article1\", \"https://www.example.com/article2\"]\n",
    ")\n",
    "\n",
    "print(\"Content Results:\", content_results)"
   ]
  },
  {
   "cell_type": "markdown",
   "metadata": {},
   "source": [
    "#### Configure with custom parameters\n",
    "\n",
    "You can also instantiate the contents tool with custom parameters:\n"
   ]
  },
  {
   "cell_type": "code",
   "execution_count": null,
   "metadata": {},
   "outputs": [],
   "source": [
    "# Configure with custom parameters\n",
    "custom_contents_tool = ValyuContentsTool(\n",
    "    summary=True,  # Enable automatic summarization\n",
    "    extract_effort=\"high\",  # Use high extraction effort\n",
    "    response_length=\"medium\",  # Medium length responses (50k chars)\n",
    ")\n",
    "\n",
    "# Extract content with custom configuration\n",
    "custom_results = custom_contents_tool._run(\n",
    "    urls=[\"https://www.example.com/long-article\"]\n",
    ")\n",
    "\n",
    "print(\"Custom Results:\", custom_results)"
   ]
  },
  {
   "cell_type": "markdown",
   "metadata": {},
   "source": [
    "## Use within an agent\n",
    "\n",
    "We can use our tools directly with an agent executor by binding the tool to the agent. This gives the agent the ability to dynamically set the available arguments to the Valyu search tool.\n"
   ]
  },
  {
   "cell_type": "code",
   "execution_count": null,
   "metadata": {},
   "outputs": [],
   "source": [
    "if not os.environ.get(\"OPENAI_API_KEY\"):\n",
    "    os.environ[\"OPENAI_API_KEY\"] = getpass.getpass(\"OPENAI_API_KEY:\\n\")"
   ]
  },
  {
   "cell_type": "code",
   "execution_count": null,
   "metadata": {},
   "outputs": [],
   "source": [
    "# | output: false\n",
    "# | echo: false\n",
    "\n",
    "# !pip install -qU langchain langchain-openai\n",
    "from langchain.chat_models import init_chat_model\n",
    "\n",
    "llm = init_chat_model(model=\"gpt-4o\", model_provider=\"openai\", temperature=0)"
   ]
  },
  {
   "cell_type": "code",
   "execution_count": null,
   "metadata": {},
   "outputs": [],
   "source": [
    "from langchain_valyu import ValyuSearchTool\n",
    "from langgraph.prebuilt import create_react_agent\n",
    "\n",
    "valyu_search_tool = ValyuSearchTool()\n",
    "\n",
    "agent = create_react_agent(llm, [valyu_search_tool])\n",
    "\n",
    "user_input = \"What are the key factors driving recent stock market volatility, and how do macroeconomic indicators influence equity prices across different sectors?\"\n",
    "\n",
    "for step in agent.stream(\n",
    "    {\"messages\": user_input},\n",
    "    stream_mode=\"values\",\n",
    "):\n",
    "    step[\"messages\"][-1].pretty_print()"
   ]
  },
  {
   "cell_type": "markdown",
   "metadata": {},
   "source": [
    "## API reference\n",
    "\n",
    "For detailed documentation of all Valyu Context API features and configurations head to the API reference: https://docs.valyu.network/overview\n"
   ]
  }
 ],
 "metadata": {
  "language_info": {
   "name": "python"
  }
 },
 "nbformat": 4,
 "nbformat_minor": 2
}
