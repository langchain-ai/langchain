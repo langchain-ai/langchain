{
 "cells": [
  {
   "cell_type": "raw",
   "id": "10238e62-3465-4973-9279-606cbb7ccf16",
   "metadata": {},
   "source": [
    "---\n",
    "sidebar_label: Scrapingbee\n",
    "---"
   ]
  },
  {
   "cell_type": "markdown",
   "id": "a6f91f20",
   "metadata": {},
   "source": [
    "# Scrapingbee\n",
    "\n",
    "The ScrapingBee web scraping API handles headless browsers, rotates proxies for you, and offers AI-powered data extraction.\n",
    "\n",
    "This notebook provides a quick overview for getting started with Scrapingbee tool.\n",
    "\n",
    "## Overview\n",
    "\n",
    "### Integration details\n",
    "\n",
    "\n",
    "| Class | Package | Serializable | JS support |  Package latest |\n",
    "| :--- | :--- | :---: | :---: | :---: |\n",
    "| [Scrapingbee](https://pypi.org/project/langchain-scrapingbee/) | [langchain-scrapingbee](https://pypi.org/project/langchain-scrapingbee/) | ✅ | ❌ |  ![PyPI - Version](https://img.shields.io/pypi/v/langchain-community?style=flat-square&label=%20) |\n",
    "\n",
    "### Tool features\n",
    "\n",
    "* ScrapeUrlTool - Scrape the contents of any public website. You can also use this to extract data, capture screenshots, interact with the page before scraping and capture the internal requests sent by the webpage.\n",
    "* GoogleSearchTool - Search Google to obtain the following types of information regular search (classic), news, maps, and images.\n",
    "* CheckUsageTool — Monitor your ScrapingBee credit or concurrency usage using this tool.\n",
    "\n",
    "## Setup\n",
    "\n",
    "```bash\n",
    "pip install -U langchain-scrapingbee\n",
    "```"
   ]
  },
  {
   "cell_type": "markdown",
   "id": "b15e9266",
   "metadata": {},
   "source": [
    "### Credentials\n",
    "\n",
    "You should configure credentials by setting the following environment variables:\n",
    "\n",
    "* SCRAPINGBEE_API_KEY"
   ]
  },
  {
   "cell_type": "code",
   "execution_count": 2,
   "id": "e0b178a2-8816-40ca-b57c-ccdd86dde9c9",
   "metadata": {},
   "outputs": [],
   "source": [
    "import getpass\n",
    "import os\n",
    "\n",
    "# if not os.environ.get(\"SCRAPINGBEE_API_KEY\"):\n",
    "#     os.environ[\"SCRAPINGBEE_API_KEY\"] = getpass.getpass(\"SCRAPINGBEE API key:\\n\")"
   ]
  },
  {
   "cell_type": "markdown",
   "id": "bc5ab717-fd27-4c59-b912-bdd099541478",
   "metadata": {},
   "source": [
    "It's also helpful (but not needed) to set up [LangSmith](https://smith.langchain.com/) for best-in-class observability:"
   ]
  },
  {
   "cell_type": "code",
   "execution_count": 3,
   "id": "a6c2f136-6367-4f1f-825d-ae741e1bf281",
   "metadata": {},
   "outputs": [],
   "source": [
    "# os.environ[\"LANGSMITH_TRACING\"] = \"true\"\n",
    "# os.environ[\"LANGSMITH_API_KEY\"] = getpass.getpass()"
   ]
  },
  {
   "cell_type": "markdown",
   "id": "1c97218f-f366-479d-8bf7-fe9f2f6df73f",
   "metadata": {},
   "source": [
    "## Instantiation\n",
    "\n",
    "All of the ScrapingBeee tools only require the API Key during instantiation. If not set up in environment vairable, you can provide it directly here.\n",
    "\n",
    "Here we show how to instantiate an instance of the Scrapingbee tools:"
   ]
  },
  {
   "cell_type": "code",
   "execution_count": null,
   "id": "8b3ddfe9-ca79-494c-a7ab-1f56d9407a64",
   "metadata": {},
   "outputs": [],
   "source": [
    "from langchain_scrapingbee import (\n",
    "    ScrapeUrlTool, \n",
    "    GoogleSearchTool, \n",
    "    CheckUsageTool,\n",
    ")\n",
    "\n",
    "scrape_tool = ScrapeUrlTool(api_key=os.environ.get(\"SCRAPINGBEE_API_KEY\"))\n",
    "search_tool = GoogleSearchTool(api_key=os.environ.get(\"SCRAPINGBEE_API_KEY\"))\n",
    "usage_tool = CheckUsageTool(api_key=os.environ.get(\"SCRAPINGBEE_API_KEY\"))"
   ]
  },
  {
   "cell_type": "markdown",
   "id": "74147a1a",
   "metadata": {},
   "source": [
    "## Invocation\n",
    "\n",
    "### Invoke directly with args\n",
    "\n",
    "**ScrapeUrlTool**\n",
    "\n",
    "This tool accepts `url` (string) and `params` (dictionary) as argument. The `url` argument is necessary, and the `params` argument is optional. You can use `params` argument to customise the request. For example, to disable JavaScript Rendering, you can use the following as `params`:\n",
    "\n",
    "```\n",
    "{'render_js': False}\n",
    "```\n",
    "\n",
    "For a complete list of acceptable parameters, please visit the [HTML API documentation](https://www.scrapingbee.com/documentation/).\n",
    "\n",
    "**GoogleSearchTool**\n",
    "\n",
    "This tool accepts `search` (string) and `params` (dictionary) as argument. The `search` argument is necessary, and the `params` argument is optional. You can use `params` argument to customise the request. For example, to get news results, you can use the following as `params`:\n",
    "\n",
    "```\n",
    "{'search_type': 'news'}\n",
    "```\n",
    "\n",
    "For a complete list of acceptable parameters, please visit the [Google Search API documentation](https://www.scrapingbee.com/documentation/google/).\n",
    "\n",
    "**CheckUsageTool**\n",
    "\n",
    "This tool doesn't require any arguments. Invoking this tool will check your ScrapingBee API usage data and returns the following information:\n",
    "\n",
    "* max_api_credit\n",
    "* used_api_credit\n",
    "* max_concurrency\n",
    "* current_concurrency\n",
    "* renewal_subscription_date"
   ]
  },
  {
   "cell_type": "code",
   "execution_count": null,
   "id": "65310a8b-eb0c-4d9e-a618-4f4abe2414fc",
   "metadata": {},
   "outputs": [],
   "source": [
    "scrape_tool.invoke({\n",
    "    'url': 'http://httpbin.org/html'\n",
    "})\n",
    "\n",
    "scrape_tool.invoke({\n",
    "    'url': 'https://treaties.un.org/doc/publication/ctc/uncharter.pdf',\n",
    "    'params': {'render_js': False} \n",
    "})\n",
    "\n",
    "search_result = search_tool.invoke({\n",
    "    'search': 'What is LangChain?'\n",
    "})\n",
    "\n",
    "usage_tool.invoke({})"
   ]
  },
  {
   "cell_type": "markdown",
   "id": "d6e73897",
   "metadata": {},
   "source": [
    "### Example Using Agent"
   ]
  },
  {
   "cell_type": "code",
   "execution_count": null,
   "id": "f90e33a7",
   "metadata": {},
   "outputs": [],
   "source": [
    "import os\n",
    "from langchain_scrapingbee import (\n",
    "    ScrapeUrlTool, \n",
    "    GoogleSearchTool, \n",
    "    CheckUsageTool,\n",
    ")\n",
    "from langchain_google_genai import ChatGoogleGenerativeAI\n",
    "from langgraph.prebuilt import create_react_agent\n",
    "\n",
    "if not os.environ.get(\"GOOGLE_API_KEY\") or not os.environ.get(\"SCRAPINGBEE_API_KEY\"):\n",
    "    raise ValueError(\"Google and ScrapingBee API keys must be set in environment variables.\")\n",
    "\n",
    "llm = ChatGoogleGenerativeAI(temperature=0, model=\"gemini-2.5-flash\")\n",
    "scrapingbee_api_key = os.environ.get(\"SCRAPINGBEE_API_KEY\")\n",
    "\n",
    "tools = [\n",
    "    ScrapeUrlTool(api_key=scrapingbee_api_key),\n",
    "    GoogleSearchTool(api_key=scrapingbee_api_key),\n",
    "    CheckUsageTool(api_key=scrapingbee_api_key),\n",
    "]\n",
    "\n",
    "agent = create_react_agent(llm, tools)\n",
    "\n",
    "user_input = \"If I have enough API Credits, search for pdfs about langchain and save 3 pdfs.\"\n",
    "\n",
    "# Stream the agent's output step-by-step\n",
    "for step in agent.stream(\n",
    "    {\"messages\": user_input},\n",
    "    stream_mode=\"values\",\n",
    "):\n",
    "    step[\"messages\"][-1].pretty_print()"
   ]
  },
  {
   "cell_type": "markdown",
   "id": "4ac8146c",
   "metadata": {},
   "source": [
    "## API reference\n",
    "\n",
    "For detailed documentation of all Scrapingbee features and configurations head to the API reference:\n",
    "* [HTML API](https://www.scrapingbee.com/documentation/)\n",
    "* [Google Search API](https://www.scrapingbee.com/documentation/google/)\n",
    "* [Data Extraction](https://www.scrapingbee.com/documentation/data-extraction/)\n",
    "* [JavaScript Scenario](https://www.scrapingbee.com/documentation/js-scenario/)"
   ]
  }
 ],
 "metadata": {
  "kernelspec": {
   "display_name": "poetry-venv-311",
   "language": "python",
   "name": "poetry-venv-311"
  },
  "language_info": {
   "codemirror_mode": {
    "name": "ipython",
    "version": 3
   },
   "file_extension": ".py",
   "mimetype": "text/x-python",
   "name": "python",
   "nbconvert_exporter": "python",
   "pygments_lexer": "ipython3",
   "version": "3.11.9"
  }
 },
 "nbformat": 4,
 "nbformat_minor": 5
}
