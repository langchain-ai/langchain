{
 "cells": [
  {
   "cell_type": "raw",
   "id": "10238e62-3465-4973-9279-606cbb7ccf16",
   "metadata": {},
   "source": [
    "---\n",
    "sidebar_label: LinkupSearchTool\n",
    "---"
   ]
  },
  {
   "cell_type": "markdown",
   "id": "a6f91f20",
   "metadata": {},
   "source": [
    "# LinkupSearchTool\n",
    "\n",
    "> [Linkup](https://www.linkup.so/) provides an API to connect LLMs to the web and the Linkup Premium Partner sources.\n",
    "\n",
    "This notebook provides a quick overview for getting started with LinkupSearchTool [tool](/docs/concepts/tools/). For detailed documentation of all LinkupSearchTool features and configurations head to the [API reference](https://python.langchain.com/api_reference/linkup/tools/linkup_langchain.search_tool.LinkupSearchTool.html).\n",
    "\n",
    "## Overview\n",
    "\n",
    "### Integration details\n",
    "\n",
    "| Class | Package | Serializable | [JS support](https://js.langchain.com/docs/integrations/tools/linkup_search) |  Package latest |\n",
    "| :--- | :--- | :---: | :---: | :---: |\n",
    "| [LinkupSearchTool](https://python.langchain.com/api_reference/linkup/tools/linkup_langchain.search_tool.LinkupSearchTool.html) | [langchain-linkup](https://python.langchain.com/api_reference/linkup/index.html) | ❌ | ❌ |  ![PyPI - Version](https://img.shields.io/pypi/v/langchain-linkup?style=flat-square&label=%20) |\n",
    "\n",
    "## Setup\n",
    "\n",
    "To use the Linkup provider, you need a valid API key, which you can find by signing-up [here](https://app.linkup.so/sign-up). To run the following examples you will also need an OpenAI API key."
   ]
  },
  {
   "cell_type": "markdown",
   "id": "fa3318d2-108e-41d1-81b3-01ba4f47e952",
   "metadata": {},
   "source": [
    "### Installation\n",
    "\n",
    "This tool lives in the `langchain-linkup` package:"
   ]
  },
  {
   "cell_type": "code",
   "execution_count": null,
   "id": "f85b4089",
   "metadata": {},
   "outputs": [],
   "source": [
    "%pip install -qU langchain-linkup"
   ]
  },
  {
   "cell_type": "markdown",
   "id": "b15e9266",
   "metadata": {},
   "source": [
    "### Credentials"
   ]
  },
  {
   "cell_type": "code",
   "execution_count": null,
   "id": "e0b178a2-8816-40ca-b57c-ccdd86dde9c9",
   "metadata": {},
   "outputs": [],
   "source": [
    "import getpass\n",
    "import os\n",
    "\n",
    "# if not os.environ.get(\"LINKUP_API_KEY\"):\n",
    "#     os.environ[\"LINKUP_API_KEY\"] = getpass.getpass(\"LINKUP API key:\\n\")"
   ]
  },
  {
   "cell_type": "markdown",
   "id": "bc5ab717-fd27-4c59-b912-bdd099541478",
   "metadata": {},
   "source": [
    "It's also helpful (but not needed) to set up [LangSmith](https://smith.langchain.com/) for best-in-class observability:"
   ]
  },
  {
   "cell_type": "code",
   "execution_count": null,
   "id": "a6c2f136-6367-4f1f-825d-ae741e1bf281",
   "metadata": {},
   "outputs": [],
   "source": [
    "# os.environ[\"LANGSMITH_TRACING\"] = \"true\"\n",
    "# os.environ[\"LANGSMITH_API_KEY\"] = getpass.getpass()"
   ]
  },
  {
   "cell_type": "markdown",
   "id": "1c97218f-f366-479d-8bf7-fe9f2f6df73f",
   "metadata": {},
   "source": [
    "## Instantiation\n",
    "\n",
    "Here we show how to instantiate an instance of the LinkupSearchTool tool, with "
   ]
  },
  {
   "cell_type": "code",
   "execution_count": null,
   "id": "8b3ddfe9-ca79-494c-a7ab-1f56d9407a64",
   "metadata": {},
   "outputs": [],
   "source": [
    "from langchain_linkup import LinkupSearchTool\n",
    "\n",
    "tool = LinkupSearchTool(\n",
    "    depth=\"deep\",  # \"standard\" or \"deep\"\n",
    "    output_type=\"searchResults\",  # \"searchResults\", \"sourcedAnswer\" or \"structured\"\n",
    "    linkup_api_key=None,  # API key can be passed here or set as the LINKUP_API_KEY environment variable\n",
    ")"
   ]
  },
  {
   "cell_type": "markdown",
   "id": "74147a1a",
   "metadata": {},
   "source": [
    "## Invocation\n",
    "\n",
    "### Invoke directly with args\n",
    "\n",
    "The tool simply accepts a `query`, which is a string."
   ]
  },
  {
   "cell_type": "code",
   "execution_count": 10,
   "id": "65310a8b-eb0c-4d9e-a618-4f4abe2414fc",
   "metadata": {},
   "outputs": [
    {
     "data": {
      "text/plain": [
       "LinkupSearchResults(results=[LinkupSearchResult(name='US presidential election results 2024: Harris vs. Trump | Live maps ...', url='https://www.reuters.com/graphics/USA-ELECTION/RESULTS/zjpqnemxwvx/', content='Updated results from the 2024 election for the US president. Reuters live coverage of the 2024 US President, Senate, House and state governors races.'), LinkupSearchResult(name='Election 2024: Presidential results - CNN', url='https://www.cnn.com/election/2024/results/president', content='View maps and real-time results for the 2024 US presidential election matchup between former President Donald Trump and Vice President Kamala Harris. For more ...'), LinkupSearchResult(name='Presidential Election 2024 Live Results: Donald Trump wins - NBC News', url='https://www.nbcnews.com/politics/2024-elections/president-results', content='View live election results from the 2024 presidential race as Kamala Harris and Donald Trump face off. See the map of votes by state as results are tallied.'), LinkupSearchResult(name='Live: Presidential Election Results 2024 : NPR', url='https://apps.npr.org/2024-election-results/', content='Presidential race ratings are based on NPR analysis. Maps do not shade in until 50% of the estimated vote is in for a given state, to mitigate flutuations in early returns . 2024 General Election Results'), LinkupSearchResult(name='2024 US Presidential Election Results: Live Map - Bloomberg.com', url='https://www.bloomberg.com/graphics/2024-us-election-results/', content='US Presidential Election Results November 5, 2024. Bloomberg News is reporting live election results in the presidential race between Democratic Vice President Kamala Harris and her Republican ...'), LinkupSearchResult(name='US Presidential Election Results 2024 - BBC News', url='https://www.bbc.com/news/election/2024/us/results', content='Kamala Harris of the Democrat party has 74,470,899 votes (48.3%) Donald Trump of the Republican party has 76,971,602 votes (49.9%) This map of the US states was filled in as presidential results ...'), LinkupSearchResult(name='Election Results 2024: Live Map - Races by State - POLITICO', url='https://www.politico.com/2024-election/results/', content='Live 2024 election results and maps by state. POLITICO’s real-time coverage of 2024 races for President, Senate, House and Governor.'), LinkupSearchResult(name='Presidential Election Results 2024: Electoral Votes & Map by State ...', url='https://www.politico.com/2024-election/results/president/', content='Live 2024 Presidential election results, maps and electoral votes by state. POLITICO’s real-time coverage of 2024 races for President, Senate, House and Governor.'), LinkupSearchResult(name='2024 US Presidential Election Results: Live Map - ABC News', url='https://abcnews.go.com/Elections/2024-us-presidential-election-results-live-map/', content='View live updates on electoral votes by state for presidential candidates Joe Biden and Donald Trump on ABC News. Senate, House, and Governor Election results also available at ABCNews.com'), LinkupSearchResult(name='US Presidential Election Results 2024 - BBC News', url='https://www.bbc.co.uk/news/election/2024/us/results', content='Follow the 2024 US presidential election results as they come in with BBC News. Find out if Trump or Harris is ahead as well as detailed state-by-state results.'), LinkupSearchResult(name='Presidential Election 2024 Live Results: Donald Trump winsNBC News LogoSearchSearchNBC News LogoMSNBC LogoToday Logo', url='https://www.nbcnews.com/politics/2024-elections/president-results', content=\"Profile\\n\\nSections\\n\\nLocal\\n\\ntv\\n\\nFeatured\\n\\nMore From NBC\\n\\nFollow NBC News\\n\\nnews Alerts\\n\\nThere are no new alerts at this time\\n\\n2024 President Results: Trump wins\\n==================================\\n\\nDonald Trump has secured more than the 270 Electoral College votes needed to secure the presidency, NBC News projects.\\n\\nRaces to watch\\n--------------\\n\\nAll Presidential races\\n----------------------\\n\\nElection Night Coverage\\n-----------------------\\n\\n### China competition should be top priority for Trump, Sullivan says, as Biden and Xi prepare for final meeting\\n\\n### Jim Himes says 'truth and analysis are not what drive’ Gabbard and Gaetz\\n\\n### Trump praises RFK Jr. in Mar-a-Lago remarks\\n\\n### Trump announces North Dakota Gov. Doug Burgum as his pick for interior secretary\\n\\n### House Ethics Committee cancels meeting at which Gaetz probe was on the agenda\\n\\n### Trump picks former Rep. Doug Collins for veterans affairs secretary\\n\\n### Trump to nominate his criminal defense lawyer for deputy attorney general\\n\\n### From ‘brilliant’ to ‘dangerous’: Mixed reactions roll in after Trump picks RFK Jr. for top health post\\n\\n### Donald Trump Jr. says he played key role in RFK Jr., Tulsi Gabbard picks\\n\\n### Jared Polis offers surprising words of support for RFK Jr. pick for HHS secretary\\n\\nNational early voting\\n---------------------\\n\\n### 88,233,886 mail-in and early in-person votes cast nationally\\n\\n### 65,676,748 mail-in and early in-person votes requested nationally\\n\\nPast Presidential Elections\\n---------------------------\\n\\n### Vote Margin by State in the 2020 Presidential Election\\n\\nCircle size represents the number electoral votes in that state.\\n\\nThe expected vote is the total number of votes that are expected in a given race once all votes are counted. This number is an estimate and is based on several different factors, including information on the number of votes cast early as well as information provided to our vote reporters on Election Day from county election officials. The figure can change as NBC News gathers new information.\\n\\n**Source**: [National Election Pool (NEP)](https://www.nbcnews.com/politics/2024-elections/how-election-data-is-collected )\\n\\n2024 election results\\n---------------------\\n\\nElection Night Coverage\\n-----------------------\\n\\n### China competition should be top priority for Trump, Sullivan says, as Biden and Xi prepare for final meeting\\n\\n### Jim Himes says 'truth and analysis are not what drive’ Gabbard and Gaetz\\n\\n### Trump praises RFK Jr. in Mar-a-Lago remarks\\n\\n©\\xa02024 NBCUniversal Media, LLC\")])"
      ]
     },
     "execution_count": 10,
     "metadata": {},
     "output_type": "execute_result"
    }
   ],
   "source": [
    "tool.invoke({\"query\": \"Who won the latest US presidential elections?\"})"
   ]
  },
  {
   "cell_type": "markdown",
   "id": "d6e73897",
   "metadata": {},
   "source": [
    "### Invoke with ToolCall\n",
    "\n",
    "We can also invoke the tool with a model-generated ToolCall, in which case a ToolMessage will be returned:"
   ]
  },
  {
   "cell_type": "code",
   "execution_count": 11,
   "id": "f90e33a7",
   "metadata": {},
   "outputs": [
    {
     "data": {
      "text/plain": [
       "ToolMessage(content='results=[LinkupSearchResult(name=\\'US presidential election results 2024: Harris vs. Trump | Live maps ...\\', url=\\'https://www.reuters.com/graphics/USA-ELECTION/RESULTS/zjpqnemxwvx/\\', content=\\'Updated results from the 2024 election for the US president. Reuters live coverage of the 2024 US President, Senate, House and state governors races.\\'), LinkupSearchResult(name=\\'Election 2024: Presidential results - CNN\\', url=\\'https://www.cnn.com/election/2024/results/president\\', content=\\'View maps and real-time results for the 2024 US presidential election matchup between former President Donald Trump and Vice President Kamala Harris. For more ...\\'), LinkupSearchResult(name=\\'Presidential Election 2024 Live Results: Donald Trump wins - NBC News\\', url=\\'https://www.nbcnews.com/politics/2024-elections/president-results\\', content=\\'View live election results from the 2024 presidential race as Kamala Harris and Donald Trump face off. See the map of votes by state as results are tallied.\\'), LinkupSearchResult(name=\\'2024 US Presidential Election Results: Live Map - Bloomberg.com\\', url=\\'https://www.bloomberg.com/graphics/2024-us-election-results/\\', content=\\'US Presidential Election Results November 5, 2024. Bloomberg News is reporting live election results in the presidential race between Democratic Vice President Kamala Harris and her Republican ...\\'), LinkupSearchResult(name=\\'US Presidential Election Results 2024 - BBC News\\', url=\\'https://www.bbc.com/news/election/2024/us/results\\', content=\\'Kamala Harris of the Democrat party has 74,498,303 votes (48.3%) Donald Trump of the Republican party has 76,989,499 votes (49.9%) This map of the US states was filled in as presidential results ...\\'), LinkupSearchResult(name=\\'Presidential Election Results 2024: Electoral Votes & Map by State ...\\', url=\\'https://www.politico.com/2024-election/results/president/\\', content=\\'Live 2024 Presidential election results, maps and electoral votes by state. POLITICO’s real-time coverage of 2024 races for President, Senate, House and Governor.\\'), LinkupSearchResult(name=\\'2024 U.S. Election: Live Results and Maps - USA TODAY\\', url=\\'https://www.usatoday.com/elections/results/2024-11-05\\', content=\\'See who is winning races in the Nov. 5, 2024 U.S. Election with real-time results and state-by-state maps.\\'), LinkupSearchResult(name=\\'Donald Trump wins US presidency - US election 2024 complete results map\\', url=\\'https://www.aljazeera.com/us-election-2024/results/\\', content=\\'Complete, state-by-state breakdown of the 2024 US presidential, Senate, House and Governor results\\'), LinkupSearchResult(name=\\'US Presidential Election Results 2024 - BBC News\\', url=\\'https://www.bbc.co.uk/news/election/2024/us/results\\', content=\\'Follow the 2024 US presidential election results as they come in with BBC News. Find out if Trump or Harris is ahead as well as detailed state-by-state results.\\'), LinkupSearchResult(name=\\'Election Results 2024: Live Map - Races by State - POLITICO\\', url=\\'https://www.politico.com/2024-election/results/\\', content=\\'Live 2024 election results and maps by state. POLITICO’s real-time coverage of 2024 races for President, Senate, House and Governor.\\'), LinkupSearchResult(name=\\'Presidential Election 2024 Live Results: Donald Trump winsNBC News LogoSearchSearchNBC News LogoMSNBC LogoToday Logo\\', url=\\'https://www.nbcnews.com/politics/2024-elections/president-results\\', content=\"Profile\\\\n\\\\nSections\\\\n\\\\nLocal\\\\n\\\\ntv\\\\n\\\\nFeatured\\\\n\\\\nMore From NBC\\\\n\\\\nFollow NBC News\\\\n\\\\nnews Alerts\\\\n\\\\nThere are no new alerts at this time\\\\n\\\\n2024 President Results: Trump wins\\\\n==================================\\\\n\\\\nDonald Trump has secured more than the 270 Electoral College votes needed to secure the presidency, NBC News projects.\\\\n\\\\nRaces to watch\\\\n--------------\\\\n\\\\nAll Presidential races\\\\n----------------------\\\\n\\\\nElection Night Coverage\\\\n-----------------------\\\\n\\\\n### China competition should be top priority for Trump, Sullivan says, as Biden and Xi prepare for final meeting\\\\n\\\\n### Jim Himes says \\'truth and analysis are not what drive’ Gabbard and Gaetz\\\\n\\\\n### Trump praises RFK Jr. in Mar-a-Lago remarks\\\\n\\\\n### Trump announces North Dakota Gov. Doug Burgum as his pick for interior secretary\\\\n\\\\n### House Ethics Committee cancels meeting at which Gaetz probe was on the agenda\\\\n\\\\n### Trump picks former Rep. Doug Collins for veterans affairs secretary\\\\n\\\\n### Trump to nominate his criminal defense lawyer for deputy attorney general\\\\n\\\\n### From ‘brilliant’ to ‘dangerous’: Mixed reactions roll in after Trump picks RFK Jr. for top health post\\\\n\\\\n### Donald Trump Jr. says he played key role in RFK Jr., Tulsi Gabbard picks\\\\n\\\\n### Jared Polis offers surprising words of support for RFK Jr. pick for HHS secretary\\\\n\\\\nNational early voting\\\\n---------------------\\\\n\\\\n### 88,233,886 mail-in and early in-person votes cast nationally\\\\n\\\\n### 65,676,748 mail-in and early in-person votes requested nationally\\\\n\\\\nPast Presidential Elections\\\\n---------------------------\\\\n\\\\n### Vote Margin by State in the 2020 Presidential Election\\\\n\\\\nCircle size represents the number electoral votes in that state.\\\\n\\\\nThe expected vote is the total number of votes that are expected in a given race once all votes are counted. This number is an estimate and is based on several different factors, including information on the number of votes cast early as well as information provided to our vote reporters on Election Day from county election officials. The figure can change as NBC News gathers new information.\\\\n\\\\n**Source**: [National Election Pool (NEP)](https://www.nbcnews.com/politics/2024-elections/how-election-data-is-collected )\\\\n\\\\n2024 election results\\\\n---------------------\\\\n\\\\nElection Night Coverage\\\\n-----------------------\\\\n\\\\n### China competition should be top priority for Trump, Sullivan says, as Biden and Xi prepare for final meeting\\\\n\\\\n### Jim Himes says \\'truth and analysis are not what drive’ Gabbard and Gaetz\\\\n\\\\n### Trump praises RFK Jr. in Mar-a-Lago remarks\\\\n\\\\n©\\\\xa02024 NBCUniversal Media, LLC\")]', name='linkup', tool_call_id='1')"
      ]
     },
     "execution_count": 11,
     "metadata": {},
     "output_type": "execute_result"
    }
   ],
   "source": [
    "# This is usually generated by a model, but we'll create a tool call directly for demo purposes.\n",
    "model_generated_tool_call = {\n",
    "    \"args\": {\"query\": \"Who won the latest US presidential elections?\"},\n",
    "    \"id\": \"1\",\n",
    "    \"name\": tool.name,\n",
    "    \"type\": \"tool_call\",\n",
    "}\n",
    "tool.invoke(model_generated_tool_call)"
   ]
  },
  {
   "cell_type": "markdown",
   "id": "659f9fbd-6fcf-445f-aa8c-72d8e60154bd",
   "metadata": {},
   "source": [
    "## Chaining\n",
    "\n",
    "We can use our tool in a chain by first binding it to a [tool-calling model](/docs/how_to/tool_calling/) and then calling it:\n",
    "\n",
    "import ChatModelTabs from \"@theme/ChatModelTabs\";\n",
    "\n",
    "<ChatModelTabs customVarName=\"llm\" />\n"
   ]
  },
  {
   "cell_type": "code",
   "execution_count": null,
   "id": "af3123ad-7a02-40e5-b58e-7d56e23e5830",
   "metadata": {},
   "outputs": [],
   "source": [
    "# | output: false\n",
    "# | echo: false\n",
    "\n",
    "# !pip install -qU langchain langchain-openai\n",
    "from langchain.chat_models import init_chat_model\n",
    "\n",
    "llm = init_chat_model(model=\"gpt-4o\", model_provider=\"openai\")"
   ]
  },
  {
   "cell_type": "code",
   "execution_count": 14,
   "id": "fdbf35b5-3aaf-4947-9ec6-48c21533fb95",
   "metadata": {},
   "outputs": [
    {
     "data": {
      "text/plain": [
       "AIMessage(content='', additional_kwargs={'tool_calls': [{'id': 'call_JcHj0XLARWRnwrrLhUoBjOV1', 'function': {'arguments': '{\"query\":\"2016 US presidential election winner\"}', 'name': 'linkup'}, 'type': 'function'}], 'refusal': None}, response_metadata={'token_usage': {'completion_tokens': 10, 'prompt_tokens': 1037, 'total_tokens': 1047, 'completion_tokens_details': {'audio_tokens': 0, 'reasoning_tokens': 0, 'accepted_prediction_tokens': 0, 'rejected_prediction_tokens': 0}, 'prompt_tokens_details': {'audio_tokens': 0, 'cached_tokens': 0}}, 'model_name': 'gpt-4o-2024-08-06', 'system_fingerprint': 'fp_831e067d82', 'finish_reason': 'stop', 'logprobs': None}, id='run-cd7642ed-4509-4c96-8934-20bd0b986c3f-0', tool_calls=[{'name': 'linkup', 'args': {'query': '2016 US presidential election winner'}, 'id': 'call_JcHj0XLARWRnwrrLhUoBjOV1', 'type': 'tool_call'}], usage_metadata={'input_tokens': 1037, 'output_tokens': 10, 'total_tokens': 1047, 'input_token_details': {'audio': 0, 'cache_read': 0}, 'output_token_details': {'audio': 0, 'reasoning': 0}})"
      ]
     },
     "execution_count": 14,
     "metadata": {},
     "output_type": "execute_result"
    }
   ],
   "source": [
    "from langchain_core.prompts import ChatPromptTemplate\n",
    "from langchain_core.runnables import RunnableConfig, chain\n",
    "\n",
    "prompt = ChatPromptTemplate(\n",
    "    [\n",
    "        (\"system\", \"You are a helpful assistant.\"),\n",
    "        (\"human\", \"{user_input}\"),\n",
    "        (\"placeholder\", \"{messages}\"),\n",
    "    ]\n",
    ")\n",
    "\n",
    "# specifying tool_choice will force the model to call this tool.\n",
    "llm_with_tools = llm.bind_tools([tool], tool_choice=tool.name)\n",
    "\n",
    "llm_chain = prompt | llm_with_tools\n",
    "\n",
    "\n",
    "@chain\n",
    "def tool_chain(user_input: str, config: RunnableConfig):\n",
    "    input_ = {\"user_input\": user_input}\n",
    "    ai_msg = llm_chain.invoke(input_, config=config)\n",
    "    tool_msgs = tool.batch(ai_msg.tool_calls, config=config)\n",
    "    return llm_chain.invoke({**input_, \"messages\": [ai_msg, *tool_msgs]}, config=config)\n",
    "\n",
    "\n",
    "tool_chain.invoke(\"Who won the 2016 US presidential elections?\")"
   ]
  },
  {
   "cell_type": "markdown",
   "id": "4ac8146c",
   "metadata": {},
   "source": [
    "## API reference\n",
    "\n",
    "For detailed documentation of all LinkupSearchTool features and configurations head to the [API reference](https://python.langchain.com/api_reference/linkup/tools/linkup_langchain.search_tool.LinkupSearchTool.html)."
   ]
  }
 ],
 "metadata": {
  "kernelspec": {
   "display_name": "Python 3 (ipykernel)",
   "language": "python",
   "name": "python3"
  },
  "language_info": {
   "codemirror_mode": {
    "name": "ipython",
    "version": 3
   },
   "file_extension": ".py",
   "mimetype": "text/x-python",
   "name": "python",
   "nbconvert_exporter": "python",
   "pygments_lexer": "ipython3",
   "version": "3.12.7"
  }
 },
 "nbformat": 4,
 "nbformat_minor": 5
}
