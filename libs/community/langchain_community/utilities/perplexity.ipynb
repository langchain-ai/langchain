{
 "cells": [
  {
   "cell_type": "markdown",
   "metadata": {},
   "source": [
    "# Sonar API (by Perplexity)"
   ]
  },
  {
   "cell_type": "markdown",
   "metadata": {},
   "source": [
    "This notebook goes over how to use the Perplexity Search tool which is powered by its [Sonar API](https://www.perplexity.ai/hub/blog/introducing-the-sonar-pro-api). To use this tool, you will need a Perplexity API key, which you can easily obtain by following the steps in [this guide](https://docs.perplexity.ai/guides/getting-started). "
   ]
  },
  {
   "cell_type": "code",
   "execution_count": 2,
   "metadata": {},
   "outputs": [],
   "source": [
    "# %pip install --upgrade --quiet langchain-community"
   ]
  },
  {
   "cell_type": "code",
   "execution_count": null,
   "metadata": {},
   "outputs": [],
   "source": [
    "from langchain_community.tools import Perplexity"
   ]
  },
  {
   "cell_type": "code",
   "execution_count": 4,
   "metadata": {},
   "outputs": [],
   "source": [
    "api_key = \"API KEY\""
   ]
  },
  {
   "cell_type": "code",
   "execution_count": null,
   "metadata": {},
   "outputs": [],
   "source": [
    "tool = Perplexity.from_api_key(\n",
    "    api_key=api_key,\n",
    "    search_kwargs={\n",
    "        \"max_tokens\": 512,\n",
    "        \"temperature\": 0.5,\n",
    "        \"top_p\": 0.8,\n",
    "        \"search_domain_filter\": [\"news.com\", \"reliable-source.com\"],\n",
    "        \"return_images\": False,\n",
    "        \"return_related_questions\": True,\n",
    "        \"search_recency_filter\": \"week\",\n",
    "        \"top_k\": 5,\n",
    "        \"stream\": False,\n",
    "        \"presence_penalty\": 0.2,\n",
    "        \"frequency_penalty\": 0.9,\n",
    "        \"response_format\": {\"format\": \"json\"},\n",
    "        \"web_search_options\": {\"search_context_size\": \"high\"},\n",
    "    }\n",
    ")"
   ]
  },
  {
   "cell_type": "code",
   "execution_count": null,
   "metadata": {},
   "outputs": [],
   "source": [
    "query = \"What is going on in the world today?\"\n",
    "\n",
    "tool.run(query)"
   ]
  }
 ],
 "metadata": {
  "kernelspec": {
   "display_name": "Python 3",
   "language": "python",
   "name": "python3"
  },
  "language_info": {
   "codemirror_mode": {
    "name": "ipython",
    "version": 3
   },
   "file_extension": ".py",
   "mimetype": "text/x-python",
   "name": "python",
   "nbconvert_exporter": "python",
   "pygments_lexer": "ipython3",
   "version": "3.12.4"
  }
 },
 "nbformat": 4,
 "nbformat_minor": 2
}
