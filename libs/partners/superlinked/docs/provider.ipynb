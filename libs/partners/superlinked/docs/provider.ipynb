{
 "cells": [
  {
   "cell_type": "markdown",
   "metadata": {},
   "source": [
    "# Superlinked\n",
    "\n",
    "Superlinked is a platform that offers users to build AI search and recommendation pipelines at scale. Have a look at [our repo](https://github.com/superlinked/superlinked) which has resources on docs, notebooks, and other details. \n",
    "We also have an end-to-end demo example using financial reporting data and an article explaining the process of integrating Superlinked with LangChain.\n"
   ]
  }
 ],
 "metadata": {
  "colab": {
   "provenance": []
  },
  "kernelspec": {
   "display_name": "Python 3 (ipykernel)",
   "language": "python",
   "name": "python3"
  },
  "language_info": {
   "codemirror_mode": {
    "name": "ipython",
    "version": 3
   },
   "file_extension": ".py",
   "mimetype": "text/x-python",
   "name": "python",
   "nbconvert_exporter": "python",
   "pygments_lexer": "ipython3",
   "version": "3.10.11"
  }
 },
 "nbformat": 4,
 "nbformat_minor": 1
}
