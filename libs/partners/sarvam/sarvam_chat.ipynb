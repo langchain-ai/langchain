{
 "cells": [
  {
   "cell_type": "code",
   "execution_count": 6,
   "id": "28d22bfe",
   "metadata": {},
   "outputs": [],
   "source": [
    "from dotenv import load_dotenv\n",
    "import os\n",
    "load_dotenv()\n",
    "\n",
    "sarvam_api_key = os.getenv(\"SARVAM_API_KEY\")"
   ]
  },
  {
   "cell_type": "code",
   "execution_count": 7,
   "id": "489c59d8",
   "metadata": {},
   "outputs": [],
   "source": [
    "import os\n",
    "os.environ[\"SARVAM_API_KEY\"] = sarvam_api_key"
   ]
  },
  {
   "cell_type": "markdown",
   "id": "ec4a8e58",
   "metadata": {},
   "source": []
  },
  {
   "cell_type": "code",
   "execution_count": 8,
   "id": "c0c60531",
   "metadata": {},
   "outputs": [
    {
     "name": "stdout",
     "output_type": "stream",
     "text": [
      " आसमान का रंग दिन के समय नीला होता है, क्योंकि सूर्य का प्रकाश वायुमंडल में मौजूद गैसों और कणों द्वारा प्रकीर्णित (scatter) होता है। यह प्रक्रिया \"रेले प्रकीर्णन\" (Rayleigh Scattering) कहलाती है, जिसमें नीले रंग की रोशनी (कम तरंगदैर्ध्य) अधिक बिखरती है, जिससे आकाश नीला दिखाई देता है।\n",
      "\n",
      "सूर्योदय या सूर्यास्त के समय आसमान का रंग नारंगी, लाल या गुलाबी हो जाता है। ऐसा इसलिए होता है क्योंकि सूर्य की रोशनी वायुमंडल में अधिक दूरी तय करती है, जिससे नीले रंग की रोशनी अधिक बिखर जाती है और लाल/नारंगी रंग अधिक प्रभावी हो जाते हैं।\n",
      "\n",
      "रात में चाँदनी और तारों की रोशनी के कारण आकाश काला या गहरे नीले रंग का दिखाई देता है।\n"
     ]
    }
   ],
   "source": [
    "import os\n",
    "from langchain_sarvam import ChatSarvam\n",
    "\n",
    "llm = ChatSarvam(\n",
    "    model=\"sarvam-m\",\n",
    "    temperature=0.7,\n",
    "    sarvam_api_key=os.getenv(\"SARVAM_API_KEY\")\n",
    ")\n",
    "ouput  = llm.invoke([\n",
    "    (\"system\", \"talk in Hindi\"),\n",
    "    (\"human\", \"what is color of sky?\"),\n",
    "])\n",
    "print(ouput.content)"
   ]
  },
  {
   "cell_type": "code",
   "execution_count": 9,
   "id": "2fe96f50",
   "metadata": {},
   "outputs": [
    {
     "data": {
      "text/plain": [
       "AIMessage(content=' Here’s a structured **blog post outline** for the topic **\"AI Engineering: A Comprehensive Guide to Building and Scaling Intelligent Systems\"**—tailored for an Indian audience with relevant examples and considerations.  \\n\\n---\\n\\n### **Title:** *AI Engineering: Building Scalable, Ethical, and Impactful AI Systems*  \\n\\n#### **1. Introduction**  \\n   - Brief definition of **AI Engineering** (beyond just \"AI development\").  \\n   - Importance of AI Engineering in solving real-world problems (e.g., healthcare, agriculture, finance in India).  \\n   - Key difference between **AI Research** and **AI Engineering**.  \\n\\n#### **2. What is AI Engineering?**  \\n   - Definition and scope (end-to-end AI lifecycle: data collection, model development, deployment, monitoring).  \\n   - Key principles:  \\n     - **Scalability** (e.g., handling diverse Indian languages/datasets).  \\n     - **Reliability** (e.g., AI in critical applications like healthcare diagnostics).  \\n     - **Ethics & Fairness** (bias in AI models for India’s diverse population).  \\n     - **Explainability** (e.g., RBI’s guidelines for AI in credit scoring).  \\n\\n#### **3. Core Components of AI Engineering**  \\n   - **Data Engineering for AI**  \\n     - Sourcing and preprocessing data (e.g., multilingual Indian text, sensor data from agriculture).  \\n     - Challenges: Data scarcity, quality, and bias in Indian contexts.  \\n   - **Model Development**  \\n     - Choosing the right algorithms (traditional ML vs. deep learning).  \\n     - Customization for Indian use cases (e.g., speech recognition for Indian accents).  \\n   - **Deployment & MLOps**  \\n     - Tools like **Kubeflow, MLflow** for productionizing models.  \\n     - Edge AI for low-internet regions (e.g., AI on smartphones in rural India).  \\n   - **Monitoring & Maintenance**  \\n     - Detecting model drift (e.g., changing consumer behavior in e-commerce).  \\n     - Continuous learning (e.g., adapting to new regional languages).  \\n\\n#### **4. AI Engineering in the Indian Context**  \\n   - **Success Stories**  \\n     - Health-tech: AI for TB detection (Qure.ai).  \\n     - Agri-tech', additional_kwargs={}, response_metadata={'token_usage': {'completion_tokens': 512, 'prompt_tokens': 28, 'total_tokens': 540}, 'model_name': 'sarvam-m', 'finish_reason': 'length', 'model_provider': 'sarvam'}, id='lc_run--4ca91bfa-1915-489f-aae8-fdde2055a08c-0', usage_metadata={'input_tokens': 28, 'output_tokens': 512, 'total_tokens': 540})"
      ]
     },
     "execution_count": 9,
     "metadata": {},
     "output_type": "execute_result"
    }
   ],
   "source": [
    "response  = llm.invoke(\"create the outine for the blog post outline for blog topic - Ai engineering.\")\n",
    "response"
   ]
  },
  {
   "cell_type": "markdown",
   "id": "4397c43a",
   "metadata": {},
   "source": [
    "### Batch Processing (batch method)"
   ]
  },
  {
   "cell_type": "code",
   "execution_count": 5,
   "id": "b44d07c2",
   "metadata": {},
   "outputs": [
    {
     "name": "stdout",
     "output_type": "stream",
     "text": [
      " What do you call a female who never laughs? Hasina.\n",
      " I don’t have real-time access to current weather data, but you can easily check the weather for your location using a weather app, website, or a service like the **India Meteorological Department (IMD)** website ([mausam.imd.gov.in](https://mausam.imd.gov.in)).  \n",
      "\n",
      "If you're in India, you can also ask:  \n",
      "- *\"What's the weather in [your city] today?\"* (e.g., \"What's the weather in Delhi today?\")  \n",
      "- *\"Is it raining in [your city]?\"*  \n",
      "\n",
      "Let me know if you'd like help with anything else! 😊\n"
     ]
    }
   ],
   "source": [
    "from langchain_sarvam import ChatSarvam\n",
    "from langchain_core.messages import HumanMessage\n",
    "\n",
    "chat = ChatSarvam(model=\"sarvam-m\")\n",
    "\n",
    "# Batch processing - use list of message lists\n",
    "messages = [\n",
    "    [HumanMessage(content=\"Tell me a joke\")],\n",
    "    [HumanMessage(content=\"What's the weather like?\")]\n",
    "]\n",
    "\n",
    "responses = chat.batch(messages)\n",
    "for response in responses:\n",
    "    print(response.content)  # ✅ Each response is AIMessage"
   ]
  },
  {
   "cell_type": "markdown",
   "id": "a08bc458",
   "metadata": {},
   "source": [
    "###  Using generate (Advanced - requires proper input format)"
   ]
  },
  {
   "cell_type": "code",
   "execution_count": 6,
   "id": "408ccadb",
   "metadata": {},
   "outputs": [
    {
     "name": "stdout",
     "output_type": "stream",
     "text": [
      " Here's a joke for you with only emojis:  \n",
      "\n",
      "🚗💨🚗💨🚗💨🚑💨🚑💨🚑💨😂  \n",
      "\n",
      "(Translation: Three cars speeding up... then three ambulances speeding up even more... and everyone just laughing!) 😆\n",
      " I don’t have real-time access to current weather data, but you can easily check the weather for your location using a weather app, website, or a service like the **India Meteorological Department (IMD)** website ([mausam.imd.gov.in](https://mausam.imd.gov.in)).  \n",
      "\n",
      "If you're in India, you can also ask:  \n",
      "- *\"What's the weather in [your city] today?\"* (e.g., \"What's the weather in Delhi today?\")  \n",
      "- *\"Is it raining in [your city]?\"*  \n",
      "\n",
      "Let me know if you'd like help with anything else! 😊\n"
     ]
    }
   ],
   "source": [
    "from langchain_sarvam import ChatSarvam\n",
    "from langchain_core.messages import HumanMessage\n",
    "\n",
    "chat = ChatSarvam(model=\"sarvam-m\")\n",
    "\n",
    "# generate() expects a list of message lists\n",
    "inputs = [\n",
    "    [HumanMessage(content=\"Tell me a joke with emojis only\")],\n",
    "    [HumanMessage(content=\"What's the weather like?\")]\n",
    "]\n",
    "\n",
    "result = chat.generate(inputs)\n",
    "for generation_list in result.generations:\n",
    "    # generation_list is a list of ChatGeneration objects\n",
    "    for generation in generation_list:\n",
    "        print(generation.message.content)  # ✅ Access content through message"
   ]
  },
  {
   "cell_type": "code",
   "execution_count": null,
   "id": "25ccf242",
   "metadata": {},
   "outputs": [],
   "source": [
    "\n",
    "# ✅ invoke() - Synchronous (blocks)\n",
    "response1 = chat.invoke(\"Hello!\")\n",
    "\n",
    "# ✅ ainvoke() - Asynchronous (must await)\n",
    "response2 = await chat.ainvoke(\"Hi there!\")\n"
   ]
  },
  {
   "cell_type": "code",
   "execution_count": 13,
   "id": "ae367985",
   "metadata": {},
   "outputs": [],
   "source": [
    "# # ✅ stream() - Streaming responses\n",
    "# for chunk in chat.stream(\"Tell me a story\"):\n",
    "#     print(chunk.content)\n",
    "\n",
    "# # ✅ astream() - Async streaming\n",
    "# async for chunk in chat.astream(\"Tell me a story\"):\n",
    "#     print(chunk.content)"
   ]
  },
  {
   "cell_type": "code",
   "execution_count": null,
   "id": "a25bf3b4",
   "metadata": {},
   "outputs": [],
   "source": []
  }
 ],
 "metadata": {
  "kernelspec": {
   "display_name": "venv",
   "language": "python",
   "name": "python3"
  },
  "language_info": {
   "codemirror_mode": {
    "name": "ipython",
    "version": 3
   },
   "file_extension": ".py",
   "mimetype": "text/x-python",
   "name": "python",
   "nbconvert_exporter": "python",
   "pygments_lexer": "ipython3",
   "version": "3.13.7"
  }
 },
 "nbformat": 4,
 "nbformat_minor": 5
}
